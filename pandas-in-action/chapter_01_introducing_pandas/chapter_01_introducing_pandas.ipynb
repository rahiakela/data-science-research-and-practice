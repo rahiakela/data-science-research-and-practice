{
  "nbformat": 4,
  "nbformat_minor": 0,
  "metadata": {
    "kernelspec": {
      "display_name": "Python 3",
      "language": "python",
      "name": "python3"
    },
    "language_info": {
      "codemirror_mode": {
        "name": "ipython",
        "version": 3
      },
      "file_extension": ".py",
      "mimetype": "text/x-python",
      "name": "python",
      "nbconvert_exporter": "python",
      "pygments_lexer": "ipython3",
      "version": "3.9.2"
    },
    "colab": {
      "name": "chapter_01_introducing_pandas.ipynb",
      "provenance": [],
      "toc_visible": true,
      "include_colab_link": true
    }
  },
  "cells": [
    {
      "cell_type": "markdown",
      "metadata": {
        "id": "view-in-github",
        "colab_type": "text"
      },
      "source": [
        "<a href=\"https://colab.research.google.com/github/rahiakela/data-science-research-and-practice/blob/main/pandas-in-action/chapter_01_introducing_pandas/chapter_01_introducing_pandas.ipynb\" target=\"_parent\"><img src=\"https://colab.research.google.com/assets/colab-badge.svg\" alt=\"Open In Colab\"/></a>"
      ]
    },
    {
      "cell_type": "markdown",
      "metadata": {
        "id": "0u0IUu4Dryk5"
      },
      "source": [
        "## A Tour of Pandas"
      ]
    },
    {
      "cell_type": "markdown",
      "metadata": {
        "id": "JW2RIy9ssH33"
      },
      "source": [
        "The best way to grasp the power of pandas is to see it in action. Let’s take a quick tour\n",
        "of the library by analyzing a data set of the 700 highest-grossing movies of all time. I\n",
        "hope you are pleasantly surprised by how intuitive the syntax of pandas can be, even if\n",
        "you are new to programming."
      ]
    },
    {
      "cell_type": "markdown",
      "metadata": {
        "id": "zuBU6jbmryk6"
      },
      "source": [
        "## Importing a Data Set"
      ]
    },
    {
      "cell_type": "code",
      "metadata": {
        "id": "0sU8i81Uryk8"
      },
      "source": [
        "import pandas as pd"
      ],
      "execution_count": 1,
      "outputs": []
    },
    {
      "cell_type": "code",
      "metadata": {
        "id": "YppupDYysPSY"
      },
      "source": [
        "!wget -q https://github.com/paskhaver/pandas-in-action/raw/master/chapter_01_introducing_pandas/movies.csv"
      ],
      "execution_count": 2,
      "outputs": []
    },
    {
      "cell_type": "markdown",
      "metadata": {
        "id": "Jz6pVt8RscpV"
      },
      "source": [
        "Our data is stored in a single movies.csv file. A CSV (comma-separated values) file\n",
        "is a plain-text file that separates each row of data with a line break and each row value\n",
        "with a comma. The first row in the file holds the column headers for the data."
      ]
    },
    {
      "cell_type": "code",
      "metadata": {
        "scrolled": true,
        "id": "4wrPkAyGryk_",
        "colab": {
          "base_uri": "https://localhost:8080/",
          "height": 419
        },
        "outputId": "d32c6efd-3e95-444d-e9f6-15812ea6c1a8"
      },
      "source": [
        "pd.read_csv(\"movies.csv\")"
      ],
      "execution_count": 3,
      "outputs": [
        {
          "output_type": "execute_result",
          "data": {
            "text/html": [
              "<div>\n",
              "<style scoped>\n",
              "    .dataframe tbody tr th:only-of-type {\n",
              "        vertical-align: middle;\n",
              "    }\n",
              "\n",
              "    .dataframe tbody tr th {\n",
              "        vertical-align: top;\n",
              "    }\n",
              "\n",
              "    .dataframe thead th {\n",
              "        text-align: right;\n",
              "    }\n",
              "</style>\n",
              "<table border=\"1\" class=\"dataframe\">\n",
              "  <thead>\n",
              "    <tr style=\"text-align: right;\">\n",
              "      <th></th>\n",
              "      <th>Rank</th>\n",
              "      <th>Title</th>\n",
              "      <th>Studio</th>\n",
              "      <th>Gross</th>\n",
              "      <th>Year</th>\n",
              "    </tr>\n",
              "  </thead>\n",
              "  <tbody>\n",
              "    <tr>\n",
              "      <th>0</th>\n",
              "      <td>1</td>\n",
              "      <td>Avengers: Endgame</td>\n",
              "      <td>Buena Vista</td>\n",
              "      <td>$2,796.30</td>\n",
              "      <td>2019</td>\n",
              "    </tr>\n",
              "    <tr>\n",
              "      <th>1</th>\n",
              "      <td>2</td>\n",
              "      <td>Avatar</td>\n",
              "      <td>Fox</td>\n",
              "      <td>$2,789.70</td>\n",
              "      <td>2009</td>\n",
              "    </tr>\n",
              "    <tr>\n",
              "      <th>2</th>\n",
              "      <td>3</td>\n",
              "      <td>Titanic</td>\n",
              "      <td>Paramount</td>\n",
              "      <td>$2,187.50</td>\n",
              "      <td>1997</td>\n",
              "    </tr>\n",
              "    <tr>\n",
              "      <th>3</th>\n",
              "      <td>4</td>\n",
              "      <td>Star Wars: The Force Awakens</td>\n",
              "      <td>Buena Vista</td>\n",
              "      <td>$2,068.20</td>\n",
              "      <td>2015</td>\n",
              "    </tr>\n",
              "    <tr>\n",
              "      <th>4</th>\n",
              "      <td>5</td>\n",
              "      <td>Avengers: Infinity War</td>\n",
              "      <td>Buena Vista</td>\n",
              "      <td>$2,048.40</td>\n",
              "      <td>2018</td>\n",
              "    </tr>\n",
              "    <tr>\n",
              "      <th>...</th>\n",
              "      <td>...</td>\n",
              "      <td>...</td>\n",
              "      <td>...</td>\n",
              "      <td>...</td>\n",
              "      <td>...</td>\n",
              "    </tr>\n",
              "    <tr>\n",
              "      <th>777</th>\n",
              "      <td>778</td>\n",
              "      <td>Yogi Bear</td>\n",
              "      <td>Warner Brothers</td>\n",
              "      <td>$201.60</td>\n",
              "      <td>2010</td>\n",
              "    </tr>\n",
              "    <tr>\n",
              "      <th>778</th>\n",
              "      <td>779</td>\n",
              "      <td>Garfield: The Movie</td>\n",
              "      <td>Fox</td>\n",
              "      <td>$200.80</td>\n",
              "      <td>2004</td>\n",
              "    </tr>\n",
              "    <tr>\n",
              "      <th>779</th>\n",
              "      <td>780</td>\n",
              "      <td>Cats &amp; Dogs</td>\n",
              "      <td>Warner Brothers</td>\n",
              "      <td>$200.70</td>\n",
              "      <td>2001</td>\n",
              "    </tr>\n",
              "    <tr>\n",
              "      <th>780</th>\n",
              "      <td>781</td>\n",
              "      <td>The Hunt for Red October</td>\n",
              "      <td>Paramount</td>\n",
              "      <td>$200.50</td>\n",
              "      <td>1990</td>\n",
              "    </tr>\n",
              "    <tr>\n",
              "      <th>781</th>\n",
              "      <td>782</td>\n",
              "      <td>Valkyrie</td>\n",
              "      <td>MGM</td>\n",
              "      <td>$200.30</td>\n",
              "      <td>2008</td>\n",
              "    </tr>\n",
              "  </tbody>\n",
              "</table>\n",
              "<p>782 rows × 5 columns</p>\n",
              "</div>"
            ],
            "text/plain": [
              "     Rank                         Title           Studio       Gross  Year\n",
              "0       1             Avengers: Endgame      Buena Vista  $2,796.30   2019\n",
              "1       2                        Avatar              Fox  $2,789.70   2009\n",
              "2       3                       Titanic        Paramount  $2,187.50   1997\n",
              "3       4  Star Wars: The Force Awakens      Buena Vista  $2,068.20   2015\n",
              "4       5        Avengers: Infinity War      Buena Vista  $2,048.40   2018\n",
              "..    ...                           ...              ...         ...   ...\n",
              "777   778                     Yogi Bear  Warner Brothers    $201.60   2010\n",
              "778   779           Garfield: The Movie              Fox    $200.80   2004\n",
              "779   780                   Cats & Dogs  Warner Brothers    $200.70   2001\n",
              "780   781      The Hunt for Red October        Paramount    $200.50   1990\n",
              "781   782                      Valkyrie              MGM    $200.30   2008\n",
              "\n",
              "[782 rows x 5 columns]"
            ]
          },
          "metadata": {},
          "execution_count": 3
        }
      ]
    },
    {
      "cell_type": "markdown",
      "metadata": {
        "id": "cyXZKyQwDoNZ"
      },
      "source": [
        "Pandas imports the CSV file’s contents into an object called a DataFrame. Think of an object as a container for storing data.\n",
        "\n",
        "Pandas uses one type of\n",
        "object (the DataFrame) to store multicolumn data sets and another type of object\n",
        "(the Series) to store single-column data sets.\n",
        "\n",
        "Let’s swap the autogenerated numeric index with the values from the Title column."
      ]
    },
    {
      "cell_type": "code",
      "metadata": {
        "id": "hnS8S2B-rylD",
        "colab": {
          "base_uri": "https://localhost:8080/",
          "height": 450
        },
        "outputId": "1eac0121-6cfd-4cb7-e728-549eede9bd9f"
      },
      "source": [
        "pd.read_csv(\"movies.csv\", index_col = \"Title\")"
      ],
      "execution_count": 4,
      "outputs": [
        {
          "output_type": "execute_result",
          "data": {
            "text/html": [
              "<div>\n",
              "<style scoped>\n",
              "    .dataframe tbody tr th:only-of-type {\n",
              "        vertical-align: middle;\n",
              "    }\n",
              "\n",
              "    .dataframe tbody tr th {\n",
              "        vertical-align: top;\n",
              "    }\n",
              "\n",
              "    .dataframe thead th {\n",
              "        text-align: right;\n",
              "    }\n",
              "</style>\n",
              "<table border=\"1\" class=\"dataframe\">\n",
              "  <thead>\n",
              "    <tr style=\"text-align: right;\">\n",
              "      <th></th>\n",
              "      <th>Rank</th>\n",
              "      <th>Studio</th>\n",
              "      <th>Gross</th>\n",
              "      <th>Year</th>\n",
              "    </tr>\n",
              "    <tr>\n",
              "      <th>Title</th>\n",
              "      <th></th>\n",
              "      <th></th>\n",
              "      <th></th>\n",
              "      <th></th>\n",
              "    </tr>\n",
              "  </thead>\n",
              "  <tbody>\n",
              "    <tr>\n",
              "      <th>Avengers: Endgame</th>\n",
              "      <td>1</td>\n",
              "      <td>Buena Vista</td>\n",
              "      <td>$2,796.30</td>\n",
              "      <td>2019</td>\n",
              "    </tr>\n",
              "    <tr>\n",
              "      <th>Avatar</th>\n",
              "      <td>2</td>\n",
              "      <td>Fox</td>\n",
              "      <td>$2,789.70</td>\n",
              "      <td>2009</td>\n",
              "    </tr>\n",
              "    <tr>\n",
              "      <th>Titanic</th>\n",
              "      <td>3</td>\n",
              "      <td>Paramount</td>\n",
              "      <td>$2,187.50</td>\n",
              "      <td>1997</td>\n",
              "    </tr>\n",
              "    <tr>\n",
              "      <th>Star Wars: The Force Awakens</th>\n",
              "      <td>4</td>\n",
              "      <td>Buena Vista</td>\n",
              "      <td>$2,068.20</td>\n",
              "      <td>2015</td>\n",
              "    </tr>\n",
              "    <tr>\n",
              "      <th>Avengers: Infinity War</th>\n",
              "      <td>5</td>\n",
              "      <td>Buena Vista</td>\n",
              "      <td>$2,048.40</td>\n",
              "      <td>2018</td>\n",
              "    </tr>\n",
              "    <tr>\n",
              "      <th>...</th>\n",
              "      <td>...</td>\n",
              "      <td>...</td>\n",
              "      <td>...</td>\n",
              "      <td>...</td>\n",
              "    </tr>\n",
              "    <tr>\n",
              "      <th>Yogi Bear</th>\n",
              "      <td>778</td>\n",
              "      <td>Warner Brothers</td>\n",
              "      <td>$201.60</td>\n",
              "      <td>2010</td>\n",
              "    </tr>\n",
              "    <tr>\n",
              "      <th>Garfield: The Movie</th>\n",
              "      <td>779</td>\n",
              "      <td>Fox</td>\n",
              "      <td>$200.80</td>\n",
              "      <td>2004</td>\n",
              "    </tr>\n",
              "    <tr>\n",
              "      <th>Cats &amp; Dogs</th>\n",
              "      <td>780</td>\n",
              "      <td>Warner Brothers</td>\n",
              "      <td>$200.70</td>\n",
              "      <td>2001</td>\n",
              "    </tr>\n",
              "    <tr>\n",
              "      <th>The Hunt for Red October</th>\n",
              "      <td>781</td>\n",
              "      <td>Paramount</td>\n",
              "      <td>$200.50</td>\n",
              "      <td>1990</td>\n",
              "    </tr>\n",
              "    <tr>\n",
              "      <th>Valkyrie</th>\n",
              "      <td>782</td>\n",
              "      <td>MGM</td>\n",
              "      <td>$200.30</td>\n",
              "      <td>2008</td>\n",
              "    </tr>\n",
              "  </tbody>\n",
              "</table>\n",
              "<p>782 rows × 4 columns</p>\n",
              "</div>"
            ],
            "text/plain": [
              "                              Rank           Studio       Gross  Year\n",
              "Title                                                                \n",
              "Avengers: Endgame                1      Buena Vista  $2,796.30   2019\n",
              "Avatar                           2              Fox  $2,789.70   2009\n",
              "Titanic                          3        Paramount  $2,187.50   1997\n",
              "Star Wars: The Force Awakens     4      Buena Vista  $2,068.20   2015\n",
              "Avengers: Infinity War           5      Buena Vista  $2,048.40   2018\n",
              "...                            ...              ...         ...   ...\n",
              "Yogi Bear                      778  Warner Brothers    $201.60   2010\n",
              "Garfield: The Movie            779              Fox    $200.80   2004\n",
              "Cats & Dogs                    780  Warner Brothers    $200.70   2001\n",
              "The Hunt for Red October       781        Paramount    $200.50   1990\n",
              "Valkyrie                       782              MGM    $200.30   2008\n",
              "\n",
              "[782 rows x 4 columns]"
            ]
          },
          "metadata": {},
          "execution_count": 4
        }
      ]
    },
    {
      "cell_type": "code",
      "metadata": {
        "id": "nhxeQbwlrylF"
      },
      "source": [
        "movies = pd.read_csv(\"movies.csv\", index_col = \"Title\")"
      ],
      "execution_count": 46,
      "outputs": []
    },
    {
      "cell_type": "markdown",
      "metadata": {
        "id": "KFYITPGRrylG"
      },
      "source": [
        "## Manipulating a DataFrame"
      ]
    },
    {
      "cell_type": "code",
      "metadata": {
        "id": "XQdIHbT2rylG",
        "colab": {
          "base_uri": "https://localhost:8080/",
          "height": 204
        },
        "outputId": "67781509-ea10-4e9f-defd-bc7d64edb83a"
      },
      "source": [
        "# We can extract a few rows from the beginning:\n",
        "movies.head(4)"
      ],
      "execution_count": 6,
      "outputs": [
        {
          "output_type": "execute_result",
          "data": {
            "text/html": [
              "<div>\n",
              "<style scoped>\n",
              "    .dataframe tbody tr th:only-of-type {\n",
              "        vertical-align: middle;\n",
              "    }\n",
              "\n",
              "    .dataframe tbody tr th {\n",
              "        vertical-align: top;\n",
              "    }\n",
              "\n",
              "    .dataframe thead th {\n",
              "        text-align: right;\n",
              "    }\n",
              "</style>\n",
              "<table border=\"1\" class=\"dataframe\">\n",
              "  <thead>\n",
              "    <tr style=\"text-align: right;\">\n",
              "      <th></th>\n",
              "      <th>Rank</th>\n",
              "      <th>Studio</th>\n",
              "      <th>Gross</th>\n",
              "      <th>Year</th>\n",
              "    </tr>\n",
              "    <tr>\n",
              "      <th>Title</th>\n",
              "      <th></th>\n",
              "      <th></th>\n",
              "      <th></th>\n",
              "      <th></th>\n",
              "    </tr>\n",
              "  </thead>\n",
              "  <tbody>\n",
              "    <tr>\n",
              "      <th>Avengers: Endgame</th>\n",
              "      <td>1</td>\n",
              "      <td>Buena Vista</td>\n",
              "      <td>$2,796.30</td>\n",
              "      <td>2019</td>\n",
              "    </tr>\n",
              "    <tr>\n",
              "      <th>Avatar</th>\n",
              "      <td>2</td>\n",
              "      <td>Fox</td>\n",
              "      <td>$2,789.70</td>\n",
              "      <td>2009</td>\n",
              "    </tr>\n",
              "    <tr>\n",
              "      <th>Titanic</th>\n",
              "      <td>3</td>\n",
              "      <td>Paramount</td>\n",
              "      <td>$2,187.50</td>\n",
              "      <td>1997</td>\n",
              "    </tr>\n",
              "    <tr>\n",
              "      <th>Star Wars: The Force Awakens</th>\n",
              "      <td>4</td>\n",
              "      <td>Buena Vista</td>\n",
              "      <td>$2,068.20</td>\n",
              "      <td>2015</td>\n",
              "    </tr>\n",
              "  </tbody>\n",
              "</table>\n",
              "</div>"
            ],
            "text/plain": [
              "                              Rank       Studio       Gross  Year\n",
              "Title                                                            \n",
              "Avengers: Endgame                1  Buena Vista  $2,796.30   2019\n",
              "Avatar                           2          Fox  $2,789.70   2009\n",
              "Titanic                          3    Paramount  $2,187.50   1997\n",
              "Star Wars: The Force Awakens     4  Buena Vista  $2,068.20   2015"
            ]
          },
          "metadata": {},
          "execution_count": 6
        }
      ]
    },
    {
      "cell_type": "code",
      "metadata": {
        "id": "6rHM8RY5rylH",
        "colab": {
          "base_uri": "https://localhost:8080/",
          "height": 266
        },
        "outputId": "fd45d58b-88eb-486d-93d5-125073d7c800"
      },
      "source": [
        "# Or we can peek at the end of the data set instead\n",
        "movies.tail(6)"
      ],
      "execution_count": 7,
      "outputs": [
        {
          "output_type": "execute_result",
          "data": {
            "text/html": [
              "<div>\n",
              "<style scoped>\n",
              "    .dataframe tbody tr th:only-of-type {\n",
              "        vertical-align: middle;\n",
              "    }\n",
              "\n",
              "    .dataframe tbody tr th {\n",
              "        vertical-align: top;\n",
              "    }\n",
              "\n",
              "    .dataframe thead th {\n",
              "        text-align: right;\n",
              "    }\n",
              "</style>\n",
              "<table border=\"1\" class=\"dataframe\">\n",
              "  <thead>\n",
              "    <tr style=\"text-align: right;\">\n",
              "      <th></th>\n",
              "      <th>Rank</th>\n",
              "      <th>Studio</th>\n",
              "      <th>Gross</th>\n",
              "      <th>Year</th>\n",
              "    </tr>\n",
              "    <tr>\n",
              "      <th>Title</th>\n",
              "      <th></th>\n",
              "      <th></th>\n",
              "      <th></th>\n",
              "      <th></th>\n",
              "    </tr>\n",
              "  </thead>\n",
              "  <tbody>\n",
              "    <tr>\n",
              "      <th>21 Jump Street</th>\n",
              "      <td>777</td>\n",
              "      <td>Sony</td>\n",
              "      <td>$201.60</td>\n",
              "      <td>2012</td>\n",
              "    </tr>\n",
              "    <tr>\n",
              "      <th>Yogi Bear</th>\n",
              "      <td>778</td>\n",
              "      <td>Warner Brothers</td>\n",
              "      <td>$201.60</td>\n",
              "      <td>2010</td>\n",
              "    </tr>\n",
              "    <tr>\n",
              "      <th>Garfield: The Movie</th>\n",
              "      <td>779</td>\n",
              "      <td>Fox</td>\n",
              "      <td>$200.80</td>\n",
              "      <td>2004</td>\n",
              "    </tr>\n",
              "    <tr>\n",
              "      <th>Cats &amp; Dogs</th>\n",
              "      <td>780</td>\n",
              "      <td>Warner Brothers</td>\n",
              "      <td>$200.70</td>\n",
              "      <td>2001</td>\n",
              "    </tr>\n",
              "    <tr>\n",
              "      <th>The Hunt for Red October</th>\n",
              "      <td>781</td>\n",
              "      <td>Paramount</td>\n",
              "      <td>$200.50</td>\n",
              "      <td>1990</td>\n",
              "    </tr>\n",
              "    <tr>\n",
              "      <th>Valkyrie</th>\n",
              "      <td>782</td>\n",
              "      <td>MGM</td>\n",
              "      <td>$200.30</td>\n",
              "      <td>2008</td>\n",
              "    </tr>\n",
              "  </tbody>\n",
              "</table>\n",
              "</div>"
            ],
            "text/plain": [
              "                          Rank           Studio     Gross  Year\n",
              "Title                                                          \n",
              "21 Jump Street             777             Sony  $201.60   2012\n",
              "Yogi Bear                  778  Warner Brothers  $201.60   2010\n",
              "Garfield: The Movie        779              Fox  $200.80   2004\n",
              "Cats & Dogs                780  Warner Brothers  $200.70   2001\n",
              "The Hunt for Red October   781        Paramount  $200.50   1990\n",
              "Valkyrie                   782              MGM  $200.30   2008"
            ]
          },
          "metadata": {},
          "execution_count": 7
        }
      ]
    },
    {
      "cell_type": "code",
      "metadata": {
        "id": "5sgplAr3rylI",
        "colab": {
          "base_uri": "https://localhost:8080/"
        },
        "outputId": "fc0c779d-4b33-4aeb-938b-019126c0cff1"
      },
      "source": [
        "# We can find out how many rows the DataFrame has\n",
        "len(movies)"
      ],
      "execution_count": 8,
      "outputs": [
        {
          "output_type": "execute_result",
          "data": {
            "text/plain": [
              "782"
            ]
          },
          "metadata": {},
          "execution_count": 8
        }
      ]
    },
    {
      "cell_type": "code",
      "metadata": {
        "id": "QaGKK8Z1rylJ",
        "colab": {
          "base_uri": "https://localhost:8080/"
        },
        "outputId": "5de3d098-7460-4d17-8f1b-d71fb84e8e1d"
      },
      "source": [
        "# We can ask pandas for the number of rows and columns in the DataFrame.\n",
        "movies.shape"
      ],
      "execution_count": 9,
      "outputs": [
        {
          "output_type": "execute_result",
          "data": {
            "text/plain": [
              "(782, 4)"
            ]
          },
          "metadata": {},
          "execution_count": 9
        }
      ]
    },
    {
      "cell_type": "code",
      "metadata": {
        "id": "wvf9sxfyrylK",
        "colab": {
          "base_uri": "https://localhost:8080/"
        },
        "outputId": "72491dd0-ff8a-41cb-ffb3-389f6016c301"
      },
      "source": [
        "# We can inquire about the total number of cells\n",
        "print(782 * 4)\n",
        "movies.size"
      ],
      "execution_count": 10,
      "outputs": [
        {
          "output_type": "stream",
          "name": "stdout",
          "text": [
            "3128\n"
          ]
        },
        {
          "output_type": "execute_result",
          "data": {
            "text/plain": [
              "3128"
            ]
          },
          "metadata": {},
          "execution_count": 10
        }
      ]
    },
    {
      "cell_type": "code",
      "metadata": {
        "id": "6QtfHhFlrylL",
        "colab": {
          "base_uri": "https://localhost:8080/"
        },
        "outputId": "cf25d793-952b-4c8f-c700-6f89a60cca21"
      },
      "source": [
        "# We can ask for the data types of the four columns\n",
        "movies.dtypes"
      ],
      "execution_count": 11,
      "outputs": [
        {
          "output_type": "execute_result",
          "data": {
            "text/plain": [
              "Rank       int64\n",
              "Studio    object\n",
              "Gross     object\n",
              "Year       int64\n",
              "dtype: object"
            ]
          },
          "metadata": {},
          "execution_count": 11
        }
      ]
    },
    {
      "cell_type": "code",
      "metadata": {
        "id": "GIcAseSXrylM",
        "colab": {
          "base_uri": "https://localhost:8080/"
        },
        "outputId": "27b6ed1d-6fa2-4477-d36d-d8f5d73b2ffb"
      },
      "source": [
        "# pull out the 500th movie in the data set\n",
        "movies.iloc[499]"
      ],
      "execution_count": 12,
      "outputs": [
        {
          "output_type": "execute_result",
          "data": {
            "text/plain": [
              "Rank           500\n",
              "Studio         Fox\n",
              "Gross     $288.30 \n",
              "Year          2018\n",
              "Name: Maze Runner: The Death Cure, dtype: object"
            ]
          },
          "metadata": {},
          "execution_count": 12
        }
      ]
    },
    {
      "cell_type": "markdown",
      "metadata": {
        "id": "hOevahMtGD5N"
      },
      "source": [
        "Pandas returns a new object here called a Series, a one-dimensional labeled array of\n",
        "values. Think of it as a single column of data with an identifier for each row. \n",
        "\n",
        "Notice that the Series’ index labels (Rank, Studio, Gross, and Year) are the four columns\n",
        "from the movies DataFrame. Pandas has altered the presentation of the original\n",
        "row’s values."
      ]
    },
    {
      "cell_type": "code",
      "metadata": {
        "id": "rcONQrOtrylM",
        "colab": {
          "base_uri": "https://localhost:8080/"
        },
        "outputId": "774bb9a4-acab-415b-9325-d8310eafdea5"
      },
      "source": [
        "# extracts a row by its index label rather than its numeric position\n",
        "movies.loc[\"Forrest Gump\"]"
      ],
      "execution_count": 13,
      "outputs": [
        {
          "output_type": "execute_result",
          "data": {
            "text/plain": [
              "Rank            119\n",
              "Studio    Paramount\n",
              "Gross      $677.90 \n",
              "Year           1994\n",
              "Name: Forrest Gump, dtype: object"
            ]
          },
          "metadata": {},
          "execution_count": 13
        }
      ]
    },
    {
      "cell_type": "code",
      "metadata": {
        "id": "qUIbpgCNrylN",
        "colab": {
          "base_uri": "https://localhost:8080/",
          "height": 142
        },
        "outputId": "ff9c0151-0281-469d-8e19-1fba1bc9fd4c"
      },
      "source": [
        "# Index labels can contain duplicates.\n",
        "movies.loc[\"101 Dalmatians\"]"
      ],
      "execution_count": 14,
      "outputs": [
        {
          "output_type": "execute_result",
          "data": {
            "text/html": [
              "<div>\n",
              "<style scoped>\n",
              "    .dataframe tbody tr th:only-of-type {\n",
              "        vertical-align: middle;\n",
              "    }\n",
              "\n",
              "    .dataframe tbody tr th {\n",
              "        vertical-align: top;\n",
              "    }\n",
              "\n",
              "    .dataframe thead th {\n",
              "        text-align: right;\n",
              "    }\n",
              "</style>\n",
              "<table border=\"1\" class=\"dataframe\">\n",
              "  <thead>\n",
              "    <tr style=\"text-align: right;\">\n",
              "      <th></th>\n",
              "      <th>Rank</th>\n",
              "      <th>Studio</th>\n",
              "      <th>Gross</th>\n",
              "      <th>Year</th>\n",
              "    </tr>\n",
              "    <tr>\n",
              "      <th>Title</th>\n",
              "      <th></th>\n",
              "      <th></th>\n",
              "      <th></th>\n",
              "      <th></th>\n",
              "    </tr>\n",
              "  </thead>\n",
              "  <tbody>\n",
              "    <tr>\n",
              "      <th>101 Dalmatians</th>\n",
              "      <td>425</td>\n",
              "      <td>Buena Vista</td>\n",
              "      <td>$320.70</td>\n",
              "      <td>1996</td>\n",
              "    </tr>\n",
              "    <tr>\n",
              "      <th>101 Dalmatians</th>\n",
              "      <td>708</td>\n",
              "      <td>Buena Vista</td>\n",
              "      <td>$215.90</td>\n",
              "      <td>1961</td>\n",
              "    </tr>\n",
              "  </tbody>\n",
              "</table>\n",
              "</div>"
            ],
            "text/plain": [
              "                Rank       Studio     Gross  Year\n",
              "Title                                            \n",
              "101 Dalmatians   425  Buena Vista  $320.70   1996\n",
              "101 Dalmatians   708  Buena Vista  $215.90   1961"
            ]
          },
          "metadata": {},
          "execution_count": 14
        }
      ]
    },
    {
      "cell_type": "code",
      "metadata": {
        "id": "yPr2zFeWrylO",
        "colab": {
          "base_uri": "https://localhost:8080/",
          "height": 235
        },
        "outputId": "1d87e696-9605-4740-b835-bd585f58de3f"
      },
      "source": [
        "# to see the five movies with the most recent release date\n",
        "movies.sort_values(by = \"Year\", ascending = False).head()"
      ],
      "execution_count": 15,
      "outputs": [
        {
          "output_type": "execute_result",
          "data": {
            "text/html": [
              "<div>\n",
              "<style scoped>\n",
              "    .dataframe tbody tr th:only-of-type {\n",
              "        vertical-align: middle;\n",
              "    }\n",
              "\n",
              "    .dataframe tbody tr th {\n",
              "        vertical-align: top;\n",
              "    }\n",
              "\n",
              "    .dataframe thead th {\n",
              "        text-align: right;\n",
              "    }\n",
              "</style>\n",
              "<table border=\"1\" class=\"dataframe\">\n",
              "  <thead>\n",
              "    <tr style=\"text-align: right;\">\n",
              "      <th></th>\n",
              "      <th>Rank</th>\n",
              "      <th>Studio</th>\n",
              "      <th>Gross</th>\n",
              "      <th>Year</th>\n",
              "    </tr>\n",
              "    <tr>\n",
              "      <th>Title</th>\n",
              "      <th></th>\n",
              "      <th></th>\n",
              "      <th></th>\n",
              "      <th></th>\n",
              "    </tr>\n",
              "  </thead>\n",
              "  <tbody>\n",
              "    <tr>\n",
              "      <th>Avengers: Endgame</th>\n",
              "      <td>1</td>\n",
              "      <td>Buena Vista</td>\n",
              "      <td>$2,796.30</td>\n",
              "      <td>2019</td>\n",
              "    </tr>\n",
              "    <tr>\n",
              "      <th>John Wick: Chapter 3 - Parabellum</th>\n",
              "      <td>458</td>\n",
              "      <td>Lionsgate</td>\n",
              "      <td>$304.70</td>\n",
              "      <td>2019</td>\n",
              "    </tr>\n",
              "    <tr>\n",
              "      <th>The Wandering Earth</th>\n",
              "      <td>114</td>\n",
              "      <td>China Film Corporation</td>\n",
              "      <td>$699.80</td>\n",
              "      <td>2019</td>\n",
              "    </tr>\n",
              "    <tr>\n",
              "      <th>Toy Story 4</th>\n",
              "      <td>198</td>\n",
              "      <td>Buena Vista</td>\n",
              "      <td>$519.80</td>\n",
              "      <td>2019</td>\n",
              "    </tr>\n",
              "    <tr>\n",
              "      <th>How to Train Your Dragon: The Hidden World</th>\n",
              "      <td>199</td>\n",
              "      <td>Universal</td>\n",
              "      <td>$519.80</td>\n",
              "      <td>2019</td>\n",
              "    </tr>\n",
              "  </tbody>\n",
              "</table>\n",
              "</div>"
            ],
            "text/plain": [
              "                                            Rank  ...  Year\n",
              "Title                                             ...      \n",
              "Avengers: Endgame                              1  ...  2019\n",
              "John Wick: Chapter 3 - Parabellum            458  ...  2019\n",
              "The Wandering Earth                          114  ...  2019\n",
              "Toy Story 4                                  198  ...  2019\n",
              "How to Train Your Dragon: The Hidden World   199  ...  2019\n",
              "\n",
              "[5 rows x 4 columns]"
            ]
          },
          "metadata": {},
          "execution_count": 15
        }
      ]
    },
    {
      "cell_type": "code",
      "metadata": {
        "id": "JapviwmRrylP",
        "colab": {
          "base_uri": "https://localhost:8080/",
          "height": 235
        },
        "outputId": "746fb250-049b-4cde-c776-99ba405e2f36"
      },
      "source": [
        "# sort movies first by the Studio column’s values and then by the Year column’s values\n",
        "movies.sort_values(by = [\"Studio\", \"Year\"]).head()"
      ],
      "execution_count": 16,
      "outputs": [
        {
          "output_type": "execute_result",
          "data": {
            "text/html": [
              "<div>\n",
              "<style scoped>\n",
              "    .dataframe tbody tr th:only-of-type {\n",
              "        vertical-align: middle;\n",
              "    }\n",
              "\n",
              "    .dataframe tbody tr th {\n",
              "        vertical-align: top;\n",
              "    }\n",
              "\n",
              "    .dataframe thead th {\n",
              "        text-align: right;\n",
              "    }\n",
              "</style>\n",
              "<table border=\"1\" class=\"dataframe\">\n",
              "  <thead>\n",
              "    <tr style=\"text-align: right;\">\n",
              "      <th></th>\n",
              "      <th>Rank</th>\n",
              "      <th>Studio</th>\n",
              "      <th>Gross</th>\n",
              "      <th>Year</th>\n",
              "    </tr>\n",
              "    <tr>\n",
              "      <th>Title</th>\n",
              "      <th></th>\n",
              "      <th></th>\n",
              "      <th></th>\n",
              "      <th></th>\n",
              "    </tr>\n",
              "  </thead>\n",
              "  <tbody>\n",
              "    <tr>\n",
              "      <th>The Blair Witch Project</th>\n",
              "      <td>588</td>\n",
              "      <td>Artisan</td>\n",
              "      <td>$248.60</td>\n",
              "      <td>1999</td>\n",
              "    </tr>\n",
              "    <tr>\n",
              "      <th>101 Dalmatians</th>\n",
              "      <td>708</td>\n",
              "      <td>Buena Vista</td>\n",
              "      <td>$215.90</td>\n",
              "      <td>1961</td>\n",
              "    </tr>\n",
              "    <tr>\n",
              "      <th>The Jungle Book</th>\n",
              "      <td>755</td>\n",
              "      <td>Buena Vista</td>\n",
              "      <td>$205.80</td>\n",
              "      <td>1967</td>\n",
              "    </tr>\n",
              "    <tr>\n",
              "      <th>Who Framed Roger Rabbit</th>\n",
              "      <td>410</td>\n",
              "      <td>Buena Vista</td>\n",
              "      <td>$329.80</td>\n",
              "      <td>1988</td>\n",
              "    </tr>\n",
              "    <tr>\n",
              "      <th>Dead Poets Society</th>\n",
              "      <td>636</td>\n",
              "      <td>Buena Vista</td>\n",
              "      <td>$235.90</td>\n",
              "      <td>1989</td>\n",
              "    </tr>\n",
              "  </tbody>\n",
              "</table>\n",
              "</div>"
            ],
            "text/plain": [
              "                         Rank       Studio     Gross  Year\n",
              "Title                                                     \n",
              "The Blair Witch Project   588      Artisan  $248.60   1999\n",
              "101 Dalmatians            708  Buena Vista  $215.90   1961\n",
              "The Jungle Book           755  Buena Vista  $205.80   1967\n",
              "Who Framed Roger Rabbit   410  Buena Vista  $329.80   1988\n",
              "Dead Poets Society        636  Buena Vista  $235.90   1989"
            ]
          },
          "metadata": {},
          "execution_count": 16
        }
      ]
    },
    {
      "cell_type": "code",
      "metadata": {
        "id": "Jg0U_8VCrylP",
        "colab": {
          "base_uri": "https://localhost:8080/",
          "height": 235
        },
        "outputId": "2371a135-3e45-4b33-e43f-4cfb23e16a59"
      },
      "source": [
        "# We can also sort the index, which is helpful if we want to see the movies in alphabetical order\n",
        "movies.sort_index().head()"
      ],
      "execution_count": 17,
      "outputs": [
        {
          "output_type": "execute_result",
          "data": {
            "text/html": [
              "<div>\n",
              "<style scoped>\n",
              "    .dataframe tbody tr th:only-of-type {\n",
              "        vertical-align: middle;\n",
              "    }\n",
              "\n",
              "    .dataframe tbody tr th {\n",
              "        vertical-align: top;\n",
              "    }\n",
              "\n",
              "    .dataframe thead th {\n",
              "        text-align: right;\n",
              "    }\n",
              "</style>\n",
              "<table border=\"1\" class=\"dataframe\">\n",
              "  <thead>\n",
              "    <tr style=\"text-align: right;\">\n",
              "      <th></th>\n",
              "      <th>Rank</th>\n",
              "      <th>Studio</th>\n",
              "      <th>Gross</th>\n",
              "      <th>Year</th>\n",
              "    </tr>\n",
              "    <tr>\n",
              "      <th>Title</th>\n",
              "      <th></th>\n",
              "      <th></th>\n",
              "      <th></th>\n",
              "      <th></th>\n",
              "    </tr>\n",
              "  </thead>\n",
              "  <tbody>\n",
              "    <tr>\n",
              "      <th>10,000 B.C.</th>\n",
              "      <td>536</td>\n",
              "      <td>Warner Brothers</td>\n",
              "      <td>$269.80</td>\n",
              "      <td>2008</td>\n",
              "    </tr>\n",
              "    <tr>\n",
              "      <th>101 Dalmatians</th>\n",
              "      <td>708</td>\n",
              "      <td>Buena Vista</td>\n",
              "      <td>$215.90</td>\n",
              "      <td>1961</td>\n",
              "    </tr>\n",
              "    <tr>\n",
              "      <th>101 Dalmatians</th>\n",
              "      <td>425</td>\n",
              "      <td>Buena Vista</td>\n",
              "      <td>$320.70</td>\n",
              "      <td>1996</td>\n",
              "    </tr>\n",
              "    <tr>\n",
              "      <th>2 Fast 2 Furious</th>\n",
              "      <td>632</td>\n",
              "      <td>Universal</td>\n",
              "      <td>$236.40</td>\n",
              "      <td>2003</td>\n",
              "    </tr>\n",
              "    <tr>\n",
              "      <th>2012</th>\n",
              "      <td>93</td>\n",
              "      <td>Sony</td>\n",
              "      <td>$769.70</td>\n",
              "      <td>2009</td>\n",
              "    </tr>\n",
              "  </tbody>\n",
              "</table>\n",
              "</div>"
            ],
            "text/plain": [
              "                  Rank           Studio     Gross  Year\n",
              "Title                                                  \n",
              "10,000 B.C.        536  Warner Brothers  $269.80   2008\n",
              "101 Dalmatians     708      Buena Vista  $215.90   1961\n",
              "101 Dalmatians     425      Buena Vista  $320.70   1996\n",
              "2 Fast 2 Furious   632        Universal  $236.40   2003\n",
              "2012                93             Sony  $769.70   2009"
            ]
          },
          "metadata": {},
          "execution_count": 17
        }
      ]
    },
    {
      "cell_type": "markdown",
      "metadata": {
        "id": "OJqBxoYDrylT"
      },
      "source": [
        "## Counting Values in a Series"
      ]
    },
    {
      "cell_type": "markdown",
      "metadata": {
        "id": "DPHGCuZX68wO"
      },
      "source": [
        "Let’s try a more sophisticated analysis. What if we wanted to find out which movie studio\n",
        "had the greatest number of highest-grossing films? To solve this problem, we’ll\n",
        "need to count the number of times each studio appears in the Studio column.\n",
        "\n",
        "We can extract a single column of data from a DataFrame as a Series. Notice\n",
        "that pandas preserves the DataFrame’s index, the movie titles, in the Series:"
      ]
    },
    {
      "cell_type": "code",
      "metadata": {
        "id": "5ckBQYh0rylT",
        "colab": {
          "base_uri": "https://localhost:8080/"
        },
        "outputId": "ae8e663b-d739-410d-f528-72228c4d7831"
      },
      "source": [
        "movies[\"Studio\"]"
      ],
      "execution_count": 18,
      "outputs": [
        {
          "output_type": "execute_result",
          "data": {
            "text/plain": [
              "Title\n",
              "Avengers: Endgame                   Buena Vista\n",
              "Avatar                                      Fox\n",
              "Titanic                               Paramount\n",
              "Star Wars: The Force Awakens        Buena Vista\n",
              "Avengers: Infinity War              Buena Vista\n",
              "                                     ...       \n",
              "Yogi Bear                       Warner Brothers\n",
              "Garfield: The Movie                         Fox\n",
              "Cats & Dogs                     Warner Brothers\n",
              "The Hunt for Red October              Paramount\n",
              "Valkyrie                                    MGM\n",
              "Name: Studio, Length: 782, dtype: object"
            ]
          },
          "metadata": {},
          "execution_count": 18
        }
      ]
    },
    {
      "cell_type": "markdown",
      "metadata": {
        "id": "p6fksbwE7vro"
      },
      "source": [
        "Now that we’ve isolated the Studio column, we can count each unique value’s\n",
        "number of occurrences."
      ]
    },
    {
      "cell_type": "code",
      "metadata": {
        "id": "GYbK4f9urylU",
        "colab": {
          "base_uri": "https://localhost:8080/"
        },
        "outputId": "857b903d-5368-4cbd-c4f5-6ec1a7001951"
      },
      "source": [
        "movies[\"Studio\"].value_counts().head(10)"
      ],
      "execution_count": 19,
      "outputs": [
        {
          "output_type": "execute_result",
          "data": {
            "text/plain": [
              "Warner Brothers    132\n",
              "Buena Vista        125\n",
              "Fox                117\n",
              "Universal          109\n",
              "Sony                86\n",
              "Paramount           76\n",
              "Dreamworks          27\n",
              "Lionsgate           21\n",
              "New Line            16\n",
              "MGM                 11\n",
              "Name: Studio, dtype: int64"
            ]
          },
          "metadata": {},
          "execution_count": 19
        }
      ]
    },
    {
      "cell_type": "markdown",
      "metadata": {
        "id": "3HRmrGF-rylU"
      },
      "source": [
        "## Filtering a Column by One or More Criteria"
      ]
    },
    {
      "cell_type": "markdown",
      "metadata": {
        "id": "86GmhTD18OrU"
      },
      "source": [
        "You’ll often want to extract a subset of rows based on one or more criteria.\n",
        "\n",
        "What if we wanted to find only the films released by Universal Studios?"
      ]
    },
    {
      "cell_type": "code",
      "metadata": {
        "id": "6yZKbZDUrylU",
        "colab": {
          "base_uri": "https://localhost:8080/",
          "height": 450
        },
        "outputId": "23ed6e0f-2b74-402a-8455-e15eb3f04b24"
      },
      "source": [
        "movies[movies[\"Studio\"] == \"Universal\"]"
      ],
      "execution_count": 20,
      "outputs": [
        {
          "output_type": "execute_result",
          "data": {
            "text/html": [
              "<div>\n",
              "<style scoped>\n",
              "    .dataframe tbody tr th:only-of-type {\n",
              "        vertical-align: middle;\n",
              "    }\n",
              "\n",
              "    .dataframe tbody tr th {\n",
              "        vertical-align: top;\n",
              "    }\n",
              "\n",
              "    .dataframe thead th {\n",
              "        text-align: right;\n",
              "    }\n",
              "</style>\n",
              "<table border=\"1\" class=\"dataframe\">\n",
              "  <thead>\n",
              "    <tr style=\"text-align: right;\">\n",
              "      <th></th>\n",
              "      <th>Rank</th>\n",
              "      <th>Studio</th>\n",
              "      <th>Gross</th>\n",
              "      <th>Year</th>\n",
              "    </tr>\n",
              "    <tr>\n",
              "      <th>Title</th>\n",
              "      <th></th>\n",
              "      <th></th>\n",
              "      <th></th>\n",
              "      <th></th>\n",
              "    </tr>\n",
              "  </thead>\n",
              "  <tbody>\n",
              "    <tr>\n",
              "      <th>Jurassic World</th>\n",
              "      <td>6</td>\n",
              "      <td>Universal</td>\n",
              "      <td>$1,671.70</td>\n",
              "      <td>2015</td>\n",
              "    </tr>\n",
              "    <tr>\n",
              "      <th>Furious 7</th>\n",
              "      <td>8</td>\n",
              "      <td>Universal</td>\n",
              "      <td>$1,516.00</td>\n",
              "      <td>2015</td>\n",
              "    </tr>\n",
              "    <tr>\n",
              "      <th>Jurassic World: Fallen Kingdom</th>\n",
              "      <td>13</td>\n",
              "      <td>Universal</td>\n",
              "      <td>$1,309.50</td>\n",
              "      <td>2018</td>\n",
              "    </tr>\n",
              "    <tr>\n",
              "      <th>The Fate of the Furious</th>\n",
              "      <td>17</td>\n",
              "      <td>Universal</td>\n",
              "      <td>$1,236.00</td>\n",
              "      <td>2017</td>\n",
              "    </tr>\n",
              "    <tr>\n",
              "      <th>Minions</th>\n",
              "      <td>19</td>\n",
              "      <td>Universal</td>\n",
              "      <td>$1,159.40</td>\n",
              "      <td>2015</td>\n",
              "    </tr>\n",
              "    <tr>\n",
              "      <th>...</th>\n",
              "      <td>...</td>\n",
              "      <td>...</td>\n",
              "      <td>...</td>\n",
              "      <td>...</td>\n",
              "    </tr>\n",
              "    <tr>\n",
              "      <th>The Break-Up</th>\n",
              "      <td>763</td>\n",
              "      <td>Universal</td>\n",
              "      <td>$205.00</td>\n",
              "      <td>2006</td>\n",
              "    </tr>\n",
              "    <tr>\n",
              "      <th>Everest</th>\n",
              "      <td>766</td>\n",
              "      <td>Universal</td>\n",
              "      <td>$203.40</td>\n",
              "      <td>2015</td>\n",
              "    </tr>\n",
              "    <tr>\n",
              "      <th>Patch Adams</th>\n",
              "      <td>772</td>\n",
              "      <td>Universal</td>\n",
              "      <td>$202.30</td>\n",
              "      <td>1998</td>\n",
              "    </tr>\n",
              "    <tr>\n",
              "      <th>Kindergarten Cop</th>\n",
              "      <td>775</td>\n",
              "      <td>Universal</td>\n",
              "      <td>$202.00</td>\n",
              "      <td>1990</td>\n",
              "    </tr>\n",
              "    <tr>\n",
              "      <th>Straight Outta Compton</th>\n",
              "      <td>776</td>\n",
              "      <td>Universal</td>\n",
              "      <td>$201.60</td>\n",
              "      <td>2015</td>\n",
              "    </tr>\n",
              "  </tbody>\n",
              "</table>\n",
              "<p>109 rows × 4 columns</p>\n",
              "</div>"
            ],
            "text/plain": [
              "                                Rank     Studio       Gross  Year\n",
              "Title                                                            \n",
              "Jurassic World                     6  Universal  $1,671.70   2015\n",
              "Furious 7                          8  Universal  $1,516.00   2015\n",
              "Jurassic World: Fallen Kingdom    13  Universal  $1,309.50   2018\n",
              "The Fate of the Furious           17  Universal  $1,236.00   2017\n",
              "Minions                           19  Universal  $1,159.40   2015\n",
              "...                              ...        ...         ...   ...\n",
              "The Break-Up                     763  Universal    $205.00   2006\n",
              "Everest                          766  Universal    $203.40   2015\n",
              "Patch Adams                      772  Universal    $202.30   1998\n",
              "Kindergarten Cop                 775  Universal    $202.00   1990\n",
              "Straight Outta Compton           776  Universal    $201.60   2015\n",
              "\n",
              "[109 rows x 4 columns]"
            ]
          },
          "metadata": {},
          "execution_count": 20
        }
      ]
    },
    {
      "cell_type": "code",
      "metadata": {
        "id": "ozh90JXi8oMR",
        "colab": {
          "base_uri": "https://localhost:8080/"
        },
        "outputId": "7efdd828-bd98-497f-9bd9-44de42459955"
      },
      "source": [
        "movies[\"Studio\"].head()"
      ],
      "execution_count": 21,
      "outputs": [
        {
          "output_type": "execute_result",
          "data": {
            "text/plain": [
              "Title\n",
              "Avengers: Endgame               Buena Vista\n",
              "Avatar                                  Fox\n",
              "Titanic                           Paramount\n",
              "Star Wars: The Force Awakens    Buena Vista\n",
              "Avengers: Infinity War          Buena Vista\n",
              "Name: Studio, dtype: object"
            ]
          },
          "metadata": {},
          "execution_count": 21
        }
      ]
    },
    {
      "cell_type": "code",
      "metadata": {
        "id": "9x1UH8Xu8ZII",
        "colab": {
          "base_uri": "https://localhost:8080/",
          "height": 450
        },
        "outputId": "0a1f6abf-34c5-42ff-a432-507fc744a435"
      },
      "source": [
        "movies[movies[\"Studio\"] == \"Buena Vista\"]"
      ],
      "execution_count": 22,
      "outputs": [
        {
          "output_type": "execute_result",
          "data": {
            "text/html": [
              "<div>\n",
              "<style scoped>\n",
              "    .dataframe tbody tr th:only-of-type {\n",
              "        vertical-align: middle;\n",
              "    }\n",
              "\n",
              "    .dataframe tbody tr th {\n",
              "        vertical-align: top;\n",
              "    }\n",
              "\n",
              "    .dataframe thead th {\n",
              "        text-align: right;\n",
              "    }\n",
              "</style>\n",
              "<table border=\"1\" class=\"dataframe\">\n",
              "  <thead>\n",
              "    <tr style=\"text-align: right;\">\n",
              "      <th></th>\n",
              "      <th>Rank</th>\n",
              "      <th>Studio</th>\n",
              "      <th>Gross</th>\n",
              "      <th>Year</th>\n",
              "    </tr>\n",
              "    <tr>\n",
              "      <th>Title</th>\n",
              "      <th></th>\n",
              "      <th></th>\n",
              "      <th></th>\n",
              "      <th></th>\n",
              "    </tr>\n",
              "  </thead>\n",
              "  <tbody>\n",
              "    <tr>\n",
              "      <th>Avengers: Endgame</th>\n",
              "      <td>1</td>\n",
              "      <td>Buena Vista</td>\n",
              "      <td>$2,796.30</td>\n",
              "      <td>2019</td>\n",
              "    </tr>\n",
              "    <tr>\n",
              "      <th>Star Wars: The Force Awakens</th>\n",
              "      <td>4</td>\n",
              "      <td>Buena Vista</td>\n",
              "      <td>$2,068.20</td>\n",
              "      <td>2015</td>\n",
              "    </tr>\n",
              "    <tr>\n",
              "      <th>Avengers: Infinity War</th>\n",
              "      <td>5</td>\n",
              "      <td>Buena Vista</td>\n",
              "      <td>$2,048.40</td>\n",
              "      <td>2018</td>\n",
              "    </tr>\n",
              "    <tr>\n",
              "      <th>Marvel's The Avengers</th>\n",
              "      <td>7</td>\n",
              "      <td>Buena Vista</td>\n",
              "      <td>$1,518.80</td>\n",
              "      <td>2012</td>\n",
              "    </tr>\n",
              "    <tr>\n",
              "      <th>Avengers: Age of Ultron</th>\n",
              "      <td>9</td>\n",
              "      <td>Buena Vista</td>\n",
              "      <td>$1,405.40</td>\n",
              "      <td>2015</td>\n",
              "    </tr>\n",
              "    <tr>\n",
              "      <th>...</th>\n",
              "      <td>...</td>\n",
              "      <td>...</td>\n",
              "      <td>...</td>\n",
              "      <td>...</td>\n",
              "    </tr>\n",
              "    <tr>\n",
              "      <th>Tomorrowland</th>\n",
              "      <td>745</td>\n",
              "      <td>Buena Vista</td>\n",
              "      <td>$209.20</td>\n",
              "      <td>2015</td>\n",
              "    </tr>\n",
              "    <tr>\n",
              "      <th>The Jungle Book</th>\n",
              "      <td>755</td>\n",
              "      <td>Buena Vista</td>\n",
              "      <td>$205.80</td>\n",
              "      <td>1967</td>\n",
              "    </tr>\n",
              "    <tr>\n",
              "      <th>King Arthur</th>\n",
              "      <td>765</td>\n",
              "      <td>Buena Vista</td>\n",
              "      <td>$203.60</td>\n",
              "      <td>2004</td>\n",
              "    </tr>\n",
              "    <tr>\n",
              "      <th>Need for Speed</th>\n",
              "      <td>769</td>\n",
              "      <td>Buena Vista</td>\n",
              "      <td>$203.30</td>\n",
              "      <td>2014</td>\n",
              "    </tr>\n",
              "    <tr>\n",
              "      <th>Ponyo</th>\n",
              "      <td>771</td>\n",
              "      <td>Buena Vista</td>\n",
              "      <td>$202.40</td>\n",
              "      <td>2009</td>\n",
              "    </tr>\n",
              "  </tbody>\n",
              "</table>\n",
              "<p>125 rows × 4 columns</p>\n",
              "</div>"
            ],
            "text/plain": [
              "                              Rank       Studio       Gross  Year\n",
              "Title                                                            \n",
              "Avengers: Endgame                1  Buena Vista  $2,796.30   2019\n",
              "Star Wars: The Force Awakens     4  Buena Vista  $2,068.20   2015\n",
              "Avengers: Infinity War           5  Buena Vista  $2,048.40   2018\n",
              "Marvel's The Avengers            7  Buena Vista  $1,518.80   2012\n",
              "Avengers: Age of Ultron          9  Buena Vista  $1,405.40   2015\n",
              "...                            ...          ...         ...   ...\n",
              "Tomorrowland                   745  Buena Vista    $209.20   2015\n",
              "The Jungle Book                755  Buena Vista    $205.80   1967\n",
              "King Arthur                    765  Buena Vista    $203.60   2004\n",
              "Need for Speed                 769  Buena Vista    $203.30   2014\n",
              "Ponyo                          771  Buena Vista    $202.40   2009\n",
              "\n",
              "[125 rows x 4 columns]"
            ]
          },
          "metadata": {},
          "execution_count": 22
        }
      ]
    },
    {
      "cell_type": "markdown",
      "metadata": {
        "id": "4Cam_TY29OCR"
      },
      "source": [
        "We can assign the filtering condition to a variable to provide context for readers:"
      ]
    },
    {
      "cell_type": "code",
      "metadata": {
        "id": "i9s-DkH7rylV",
        "colab": {
          "base_uri": "https://localhost:8080/",
          "height": 235
        },
        "outputId": "c6563b43-95c9-43cb-e0f4-564d42b77c69"
      },
      "source": [
        "released_by_universal = (movies[\"Studio\"] == \"Universal\")\n",
        "movies[released_by_universal].head()"
      ],
      "execution_count": 23,
      "outputs": [
        {
          "output_type": "execute_result",
          "data": {
            "text/html": [
              "<div>\n",
              "<style scoped>\n",
              "    .dataframe tbody tr th:only-of-type {\n",
              "        vertical-align: middle;\n",
              "    }\n",
              "\n",
              "    .dataframe tbody tr th {\n",
              "        vertical-align: top;\n",
              "    }\n",
              "\n",
              "    .dataframe thead th {\n",
              "        text-align: right;\n",
              "    }\n",
              "</style>\n",
              "<table border=\"1\" class=\"dataframe\">\n",
              "  <thead>\n",
              "    <tr style=\"text-align: right;\">\n",
              "      <th></th>\n",
              "      <th>Rank</th>\n",
              "      <th>Studio</th>\n",
              "      <th>Gross</th>\n",
              "      <th>Year</th>\n",
              "    </tr>\n",
              "    <tr>\n",
              "      <th>Title</th>\n",
              "      <th></th>\n",
              "      <th></th>\n",
              "      <th></th>\n",
              "      <th></th>\n",
              "    </tr>\n",
              "  </thead>\n",
              "  <tbody>\n",
              "    <tr>\n",
              "      <th>Jurassic World</th>\n",
              "      <td>6</td>\n",
              "      <td>Universal</td>\n",
              "      <td>$1,671.70</td>\n",
              "      <td>2015</td>\n",
              "    </tr>\n",
              "    <tr>\n",
              "      <th>Furious 7</th>\n",
              "      <td>8</td>\n",
              "      <td>Universal</td>\n",
              "      <td>$1,516.00</td>\n",
              "      <td>2015</td>\n",
              "    </tr>\n",
              "    <tr>\n",
              "      <th>Jurassic World: Fallen Kingdom</th>\n",
              "      <td>13</td>\n",
              "      <td>Universal</td>\n",
              "      <td>$1,309.50</td>\n",
              "      <td>2018</td>\n",
              "    </tr>\n",
              "    <tr>\n",
              "      <th>The Fate of the Furious</th>\n",
              "      <td>17</td>\n",
              "      <td>Universal</td>\n",
              "      <td>$1,236.00</td>\n",
              "      <td>2017</td>\n",
              "    </tr>\n",
              "    <tr>\n",
              "      <th>Minions</th>\n",
              "      <td>19</td>\n",
              "      <td>Universal</td>\n",
              "      <td>$1,159.40</td>\n",
              "      <td>2015</td>\n",
              "    </tr>\n",
              "  </tbody>\n",
              "</table>\n",
              "</div>"
            ],
            "text/plain": [
              "                                Rank     Studio       Gross  Year\n",
              "Title                                                            \n",
              "Jurassic World                     6  Universal  $1,671.70   2015\n",
              "Furious 7                          8  Universal  $1,516.00   2015\n",
              "Jurassic World: Fallen Kingdom    13  Universal  $1,309.50   2018\n",
              "The Fate of the Furious           17  Universal  $1,236.00   2017\n",
              "Minions                           19  Universal  $1,159.40   2015"
            ]
          },
          "metadata": {},
          "execution_count": 23
        }
      ]
    },
    {
      "cell_type": "code",
      "metadata": {
        "id": "vqtyUFps9Rgy",
        "colab": {
          "base_uri": "https://localhost:8080/",
          "height": 235
        },
        "outputId": "c66bf1c1-50ff-47dd-f560-472e7788e403"
      },
      "source": [
        "released_by_buena_vista = (movies[\"Studio\"] == \"Buena Vista\")\n",
        "movies[released_by_buena_vista].head()"
      ],
      "execution_count": 24,
      "outputs": [
        {
          "output_type": "execute_result",
          "data": {
            "text/html": [
              "<div>\n",
              "<style scoped>\n",
              "    .dataframe tbody tr th:only-of-type {\n",
              "        vertical-align: middle;\n",
              "    }\n",
              "\n",
              "    .dataframe tbody tr th {\n",
              "        vertical-align: top;\n",
              "    }\n",
              "\n",
              "    .dataframe thead th {\n",
              "        text-align: right;\n",
              "    }\n",
              "</style>\n",
              "<table border=\"1\" class=\"dataframe\">\n",
              "  <thead>\n",
              "    <tr style=\"text-align: right;\">\n",
              "      <th></th>\n",
              "      <th>Rank</th>\n",
              "      <th>Studio</th>\n",
              "      <th>Gross</th>\n",
              "      <th>Year</th>\n",
              "    </tr>\n",
              "    <tr>\n",
              "      <th>Title</th>\n",
              "      <th></th>\n",
              "      <th></th>\n",
              "      <th></th>\n",
              "      <th></th>\n",
              "    </tr>\n",
              "  </thead>\n",
              "  <tbody>\n",
              "    <tr>\n",
              "      <th>Avengers: Endgame</th>\n",
              "      <td>1</td>\n",
              "      <td>Buena Vista</td>\n",
              "      <td>$2,796.30</td>\n",
              "      <td>2019</td>\n",
              "    </tr>\n",
              "    <tr>\n",
              "      <th>Star Wars: The Force Awakens</th>\n",
              "      <td>4</td>\n",
              "      <td>Buena Vista</td>\n",
              "      <td>$2,068.20</td>\n",
              "      <td>2015</td>\n",
              "    </tr>\n",
              "    <tr>\n",
              "      <th>Avengers: Infinity War</th>\n",
              "      <td>5</td>\n",
              "      <td>Buena Vista</td>\n",
              "      <td>$2,048.40</td>\n",
              "      <td>2018</td>\n",
              "    </tr>\n",
              "    <tr>\n",
              "      <th>Marvel's The Avengers</th>\n",
              "      <td>7</td>\n",
              "      <td>Buena Vista</td>\n",
              "      <td>$1,518.80</td>\n",
              "      <td>2012</td>\n",
              "    </tr>\n",
              "    <tr>\n",
              "      <th>Avengers: Age of Ultron</th>\n",
              "      <td>9</td>\n",
              "      <td>Buena Vista</td>\n",
              "      <td>$1,405.40</td>\n",
              "      <td>2015</td>\n",
              "    </tr>\n",
              "  </tbody>\n",
              "</table>\n",
              "</div>"
            ],
            "text/plain": [
              "                              Rank       Studio       Gross  Year\n",
              "Title                                                            \n",
              "Avengers: Endgame                1  Buena Vista  $2,796.30   2019\n",
              "Star Wars: The Force Awakens     4  Buena Vista  $2,068.20   2015\n",
              "Avengers: Infinity War           5  Buena Vista  $2,048.40   2018\n",
              "Marvel's The Avengers            7  Buena Vista  $1,518.80   2012\n",
              "Avengers: Age of Ultron          9  Buena Vista  $1,405.40   2015"
            ]
          },
          "metadata": {},
          "execution_count": 24
        }
      ]
    },
    {
      "cell_type": "markdown",
      "metadata": {
        "id": "gNLD8nVT9uM0"
      },
      "source": [
        "We can also filter DataFrame rows by multiple criteria. The next example targets all movies released by Universal Studios and released in 2015:"
      ]
    },
    {
      "cell_type": "code",
      "metadata": {
        "id": "fAq4iBAvrylW",
        "colab": {
          "base_uri": "https://localhost:8080/",
          "height": 328
        },
        "outputId": "14b5d348-f735-41a9-cb15-0bef68974ff0"
      },
      "source": [
        "released_by_universal = movies[\"Studio\"] == \"Universal\"\n",
        "released_in_2015 = movies[\"Year\"] == 2015\n",
        "movies[released_by_universal & released_in_2015]"
      ],
      "execution_count": 25,
      "outputs": [
        {
          "output_type": "execute_result",
          "data": {
            "text/html": [
              "<div>\n",
              "<style scoped>\n",
              "    .dataframe tbody tr th:only-of-type {\n",
              "        vertical-align: middle;\n",
              "    }\n",
              "\n",
              "    .dataframe tbody tr th {\n",
              "        vertical-align: top;\n",
              "    }\n",
              "\n",
              "    .dataframe thead th {\n",
              "        text-align: right;\n",
              "    }\n",
              "</style>\n",
              "<table border=\"1\" class=\"dataframe\">\n",
              "  <thead>\n",
              "    <tr style=\"text-align: right;\">\n",
              "      <th></th>\n",
              "      <th>Rank</th>\n",
              "      <th>Studio</th>\n",
              "      <th>Gross</th>\n",
              "      <th>Year</th>\n",
              "    </tr>\n",
              "    <tr>\n",
              "      <th>Title</th>\n",
              "      <th></th>\n",
              "      <th></th>\n",
              "      <th></th>\n",
              "      <th></th>\n",
              "    </tr>\n",
              "  </thead>\n",
              "  <tbody>\n",
              "    <tr>\n",
              "      <th>Jurassic World</th>\n",
              "      <td>6</td>\n",
              "      <td>Universal</td>\n",
              "      <td>$1,671.70</td>\n",
              "      <td>2015</td>\n",
              "    </tr>\n",
              "    <tr>\n",
              "      <th>Furious 7</th>\n",
              "      <td>8</td>\n",
              "      <td>Universal</td>\n",
              "      <td>$1,516.00</td>\n",
              "      <td>2015</td>\n",
              "    </tr>\n",
              "    <tr>\n",
              "      <th>Minions</th>\n",
              "      <td>19</td>\n",
              "      <td>Universal</td>\n",
              "      <td>$1,159.40</td>\n",
              "      <td>2015</td>\n",
              "    </tr>\n",
              "    <tr>\n",
              "      <th>Fifty Shades of Grey</th>\n",
              "      <td>165</td>\n",
              "      <td>Universal</td>\n",
              "      <td>$571.00</td>\n",
              "      <td>2015</td>\n",
              "    </tr>\n",
              "    <tr>\n",
              "      <th>Pitch Perfect 2</th>\n",
              "      <td>504</td>\n",
              "      <td>Universal</td>\n",
              "      <td>$287.50</td>\n",
              "      <td>2015</td>\n",
              "    </tr>\n",
              "    <tr>\n",
              "      <th>Ted 2</th>\n",
              "      <td>702</td>\n",
              "      <td>Universal</td>\n",
              "      <td>$216.70</td>\n",
              "      <td>2015</td>\n",
              "    </tr>\n",
              "    <tr>\n",
              "      <th>Everest</th>\n",
              "      <td>766</td>\n",
              "      <td>Universal</td>\n",
              "      <td>$203.40</td>\n",
              "      <td>2015</td>\n",
              "    </tr>\n",
              "    <tr>\n",
              "      <th>Straight Outta Compton</th>\n",
              "      <td>776</td>\n",
              "      <td>Universal</td>\n",
              "      <td>$201.60</td>\n",
              "      <td>2015</td>\n",
              "    </tr>\n",
              "  </tbody>\n",
              "</table>\n",
              "</div>"
            ],
            "text/plain": [
              "                        Rank     Studio       Gross  Year\n",
              "Title                                                    \n",
              "Jurassic World             6  Universal  $1,671.70   2015\n",
              "Furious 7                  8  Universal  $1,516.00   2015\n",
              "Minions                   19  Universal  $1,159.40   2015\n",
              "Fifty Shades of Grey     165  Universal    $571.00   2015\n",
              "Pitch Perfect 2          504  Universal    $287.50   2015\n",
              "Ted 2                    702  Universal    $216.70   2015\n",
              "Everest                  766  Universal    $203.40   2015\n",
              "Straight Outta Compton   776  Universal    $201.60   2015"
            ]
          },
          "metadata": {},
          "execution_count": 25
        }
      ]
    },
    {
      "cell_type": "code",
      "metadata": {
        "id": "anYkQwVI95-7",
        "colab": {
          "base_uri": "https://localhost:8080/",
          "height": 297
        },
        "outputId": "3560d1aa-7c10-4f97-a062-a878bc5c36c2"
      },
      "source": [
        "released_by_buena_vista = movies[\"Studio\"] == \"Buena Vista\"\n",
        "released_in_2015 = movies[\"Year\"] == 2015\n",
        "movies[released_by_buena_vista & released_in_2015]"
      ],
      "execution_count": 26,
      "outputs": [
        {
          "output_type": "execute_result",
          "data": {
            "text/html": [
              "<div>\n",
              "<style scoped>\n",
              "    .dataframe tbody tr th:only-of-type {\n",
              "        vertical-align: middle;\n",
              "    }\n",
              "\n",
              "    .dataframe tbody tr th {\n",
              "        vertical-align: top;\n",
              "    }\n",
              "\n",
              "    .dataframe thead th {\n",
              "        text-align: right;\n",
              "    }\n",
              "</style>\n",
              "<table border=\"1\" class=\"dataframe\">\n",
              "  <thead>\n",
              "    <tr style=\"text-align: right;\">\n",
              "      <th></th>\n",
              "      <th>Rank</th>\n",
              "      <th>Studio</th>\n",
              "      <th>Gross</th>\n",
              "      <th>Year</th>\n",
              "    </tr>\n",
              "    <tr>\n",
              "      <th>Title</th>\n",
              "      <th></th>\n",
              "      <th></th>\n",
              "      <th></th>\n",
              "      <th></th>\n",
              "    </tr>\n",
              "  </thead>\n",
              "  <tbody>\n",
              "    <tr>\n",
              "      <th>Star Wars: The Force Awakens</th>\n",
              "      <td>4</td>\n",
              "      <td>Buena Vista</td>\n",
              "      <td>$2,068.20</td>\n",
              "      <td>2015</td>\n",
              "    </tr>\n",
              "    <tr>\n",
              "      <th>Avengers: Age of Ultron</th>\n",
              "      <td>9</td>\n",
              "      <td>Buena Vista</td>\n",
              "      <td>$1,405.40</td>\n",
              "      <td>2015</td>\n",
              "    </tr>\n",
              "    <tr>\n",
              "      <th>Inside Out</th>\n",
              "      <td>69</td>\n",
              "      <td>Buena Vista</td>\n",
              "      <td>$857.60</td>\n",
              "      <td>2015</td>\n",
              "    </tr>\n",
              "    <tr>\n",
              "      <th>Cinderella</th>\n",
              "      <td>180</td>\n",
              "      <td>Buena Vista</td>\n",
              "      <td>$543.50</td>\n",
              "      <td>2015</td>\n",
              "    </tr>\n",
              "    <tr>\n",
              "      <th>Ant-Man</th>\n",
              "      <td>200</td>\n",
              "      <td>Buena Vista</td>\n",
              "      <td>$519.30</td>\n",
              "      <td>2015</td>\n",
              "    </tr>\n",
              "    <tr>\n",
              "      <th>The Good Dinosaur</th>\n",
              "      <td>405</td>\n",
              "      <td>Buena Vista</td>\n",
              "      <td>$332.20</td>\n",
              "      <td>2015</td>\n",
              "    </tr>\n",
              "    <tr>\n",
              "      <th>Tomorrowland</th>\n",
              "      <td>745</td>\n",
              "      <td>Buena Vista</td>\n",
              "      <td>$209.20</td>\n",
              "      <td>2015</td>\n",
              "    </tr>\n",
              "  </tbody>\n",
              "</table>\n",
              "</div>"
            ],
            "text/plain": [
              "                              Rank       Studio       Gross  Year\n",
              "Title                                                            \n",
              "Star Wars: The Force Awakens     4  Buena Vista  $2,068.20   2015\n",
              "Avengers: Age of Ultron          9  Buena Vista  $1,405.40   2015\n",
              "Inside Out                      69  Buena Vista    $857.60   2015\n",
              "Cinderella                     180  Buena Vista    $543.50   2015\n",
              "Ant-Man                        200  Buena Vista    $519.30   2015\n",
              "The Good Dinosaur              405  Buena Vista    $332.20   2015\n",
              "Tomorrowland                   745  Buena Vista    $209.20   2015"
            ]
          },
          "metadata": {},
          "execution_count": 26
        }
      ]
    },
    {
      "cell_type": "markdown",
      "metadata": {
        "id": "n1xsF2Mw-RT_"
      },
      "source": [
        "We can also filter for films that fit either condition: released by Universal or released in 2015."
      ]
    },
    {
      "cell_type": "code",
      "metadata": {
        "id": "7kUGZAqdrylW",
        "colab": {
          "base_uri": "https://localhost:8080/",
          "height": 450
        },
        "outputId": "33e1fa41-8e86-4c4c-b324-84062889fef6"
      },
      "source": [
        "released_by_universal = movies[\"Studio\"] == \"Universal\"\n",
        "released_in_2015 = movies[\"Year\"] == 2015\n",
        "movies[released_by_universal | released_in_2015]"
      ],
      "execution_count": 27,
      "outputs": [
        {
          "output_type": "execute_result",
          "data": {
            "text/html": [
              "<div>\n",
              "<style scoped>\n",
              "    .dataframe tbody tr th:only-of-type {\n",
              "        vertical-align: middle;\n",
              "    }\n",
              "\n",
              "    .dataframe tbody tr th {\n",
              "        vertical-align: top;\n",
              "    }\n",
              "\n",
              "    .dataframe thead th {\n",
              "        text-align: right;\n",
              "    }\n",
              "</style>\n",
              "<table border=\"1\" class=\"dataframe\">\n",
              "  <thead>\n",
              "    <tr style=\"text-align: right;\">\n",
              "      <th></th>\n",
              "      <th>Rank</th>\n",
              "      <th>Studio</th>\n",
              "      <th>Gross</th>\n",
              "      <th>Year</th>\n",
              "    </tr>\n",
              "    <tr>\n",
              "      <th>Title</th>\n",
              "      <th></th>\n",
              "      <th></th>\n",
              "      <th></th>\n",
              "      <th></th>\n",
              "    </tr>\n",
              "  </thead>\n",
              "  <tbody>\n",
              "    <tr>\n",
              "      <th>Star Wars: The Force Awakens</th>\n",
              "      <td>4</td>\n",
              "      <td>Buena Vista</td>\n",
              "      <td>$2,068.20</td>\n",
              "      <td>2015</td>\n",
              "    </tr>\n",
              "    <tr>\n",
              "      <th>Jurassic World</th>\n",
              "      <td>6</td>\n",
              "      <td>Universal</td>\n",
              "      <td>$1,671.70</td>\n",
              "      <td>2015</td>\n",
              "    </tr>\n",
              "    <tr>\n",
              "      <th>Furious 7</th>\n",
              "      <td>8</td>\n",
              "      <td>Universal</td>\n",
              "      <td>$1,516.00</td>\n",
              "      <td>2015</td>\n",
              "    </tr>\n",
              "    <tr>\n",
              "      <th>Avengers: Age of Ultron</th>\n",
              "      <td>9</td>\n",
              "      <td>Buena Vista</td>\n",
              "      <td>$1,405.40</td>\n",
              "      <td>2015</td>\n",
              "    </tr>\n",
              "    <tr>\n",
              "      <th>Jurassic World: Fallen Kingdom</th>\n",
              "      <td>13</td>\n",
              "      <td>Universal</td>\n",
              "      <td>$1,309.50</td>\n",
              "      <td>2018</td>\n",
              "    </tr>\n",
              "    <tr>\n",
              "      <th>...</th>\n",
              "      <td>...</td>\n",
              "      <td>...</td>\n",
              "      <td>...</td>\n",
              "      <td>...</td>\n",
              "    </tr>\n",
              "    <tr>\n",
              "      <th>The Break-Up</th>\n",
              "      <td>763</td>\n",
              "      <td>Universal</td>\n",
              "      <td>$205.00</td>\n",
              "      <td>2006</td>\n",
              "    </tr>\n",
              "    <tr>\n",
              "      <th>Everest</th>\n",
              "      <td>766</td>\n",
              "      <td>Universal</td>\n",
              "      <td>$203.40</td>\n",
              "      <td>2015</td>\n",
              "    </tr>\n",
              "    <tr>\n",
              "      <th>Patch Adams</th>\n",
              "      <td>772</td>\n",
              "      <td>Universal</td>\n",
              "      <td>$202.30</td>\n",
              "      <td>1998</td>\n",
              "    </tr>\n",
              "    <tr>\n",
              "      <th>Kindergarten Cop</th>\n",
              "      <td>775</td>\n",
              "      <td>Universal</td>\n",
              "      <td>$202.00</td>\n",
              "      <td>1990</td>\n",
              "    </tr>\n",
              "    <tr>\n",
              "      <th>Straight Outta Compton</th>\n",
              "      <td>776</td>\n",
              "      <td>Universal</td>\n",
              "      <td>$201.60</td>\n",
              "      <td>2015</td>\n",
              "    </tr>\n",
              "  </tbody>\n",
              "</table>\n",
              "<p>140 rows × 4 columns</p>\n",
              "</div>"
            ],
            "text/plain": [
              "                                Rank       Studio       Gross  Year\n",
              "Title                                                              \n",
              "Star Wars: The Force Awakens       4  Buena Vista  $2,068.20   2015\n",
              "Jurassic World                     6    Universal  $1,671.70   2015\n",
              "Furious 7                          8    Universal  $1,516.00   2015\n",
              "Avengers: Age of Ultron            9  Buena Vista  $1,405.40   2015\n",
              "Jurassic World: Fallen Kingdom    13    Universal  $1,309.50   2018\n",
              "...                              ...          ...         ...   ...\n",
              "The Break-Up                     763    Universal    $205.00   2006\n",
              "Everest                          766    Universal    $203.40   2015\n",
              "Patch Adams                      772    Universal    $202.30   1998\n",
              "Kindergarten Cop                 775    Universal    $202.00   1990\n",
              "Straight Outta Compton           776    Universal    $201.60   2015\n",
              "\n",
              "[140 rows x 4 columns]"
            ]
          },
          "metadata": {},
          "execution_count": 27
        }
      ]
    },
    {
      "cell_type": "code",
      "metadata": {
        "id": "0_23YPWC_CYY",
        "colab": {
          "base_uri": "https://localhost:8080/",
          "height": 450
        },
        "outputId": "7c42b7a1-d21c-4542-eca3-ccad143c5c57"
      },
      "source": [
        "released_by_buena_vista = movies[\"Studio\"] == \"Buena Vista\"\n",
        "released_in_2015 = movies[\"Year\"] == 2015\n",
        "movies[released_by_buena_vista | released_in_2015]"
      ],
      "execution_count": 28,
      "outputs": [
        {
          "output_type": "execute_result",
          "data": {
            "text/html": [
              "<div>\n",
              "<style scoped>\n",
              "    .dataframe tbody tr th:only-of-type {\n",
              "        vertical-align: middle;\n",
              "    }\n",
              "\n",
              "    .dataframe tbody tr th {\n",
              "        vertical-align: top;\n",
              "    }\n",
              "\n",
              "    .dataframe thead th {\n",
              "        text-align: right;\n",
              "    }\n",
              "</style>\n",
              "<table border=\"1\" class=\"dataframe\">\n",
              "  <thead>\n",
              "    <tr style=\"text-align: right;\">\n",
              "      <th></th>\n",
              "      <th>Rank</th>\n",
              "      <th>Studio</th>\n",
              "      <th>Gross</th>\n",
              "      <th>Year</th>\n",
              "    </tr>\n",
              "    <tr>\n",
              "      <th>Title</th>\n",
              "      <th></th>\n",
              "      <th></th>\n",
              "      <th></th>\n",
              "      <th></th>\n",
              "    </tr>\n",
              "  </thead>\n",
              "  <tbody>\n",
              "    <tr>\n",
              "      <th>Avengers: Endgame</th>\n",
              "      <td>1</td>\n",
              "      <td>Buena Vista</td>\n",
              "      <td>$2,796.30</td>\n",
              "      <td>2019</td>\n",
              "    </tr>\n",
              "    <tr>\n",
              "      <th>Star Wars: The Force Awakens</th>\n",
              "      <td>4</td>\n",
              "      <td>Buena Vista</td>\n",
              "      <td>$2,068.20</td>\n",
              "      <td>2015</td>\n",
              "    </tr>\n",
              "    <tr>\n",
              "      <th>Avengers: Infinity War</th>\n",
              "      <td>5</td>\n",
              "      <td>Buena Vista</td>\n",
              "      <td>$2,048.40</td>\n",
              "      <td>2018</td>\n",
              "    </tr>\n",
              "    <tr>\n",
              "      <th>Jurassic World</th>\n",
              "      <td>6</td>\n",
              "      <td>Universal</td>\n",
              "      <td>$1,671.70</td>\n",
              "      <td>2015</td>\n",
              "    </tr>\n",
              "    <tr>\n",
              "      <th>Marvel's The Avengers</th>\n",
              "      <td>7</td>\n",
              "      <td>Buena Vista</td>\n",
              "      <td>$1,518.80</td>\n",
              "      <td>2012</td>\n",
              "    </tr>\n",
              "    <tr>\n",
              "      <th>...</th>\n",
              "      <td>...</td>\n",
              "      <td>...</td>\n",
              "      <td>...</td>\n",
              "      <td>...</td>\n",
              "    </tr>\n",
              "    <tr>\n",
              "      <th>King Arthur</th>\n",
              "      <td>765</td>\n",
              "      <td>Buena Vista</td>\n",
              "      <td>$203.60</td>\n",
              "      <td>2004</td>\n",
              "    </tr>\n",
              "    <tr>\n",
              "      <th>Everest</th>\n",
              "      <td>766</td>\n",
              "      <td>Universal</td>\n",
              "      <td>$203.40</td>\n",
              "      <td>2015</td>\n",
              "    </tr>\n",
              "    <tr>\n",
              "      <th>Need for Speed</th>\n",
              "      <td>769</td>\n",
              "      <td>Buena Vista</td>\n",
              "      <td>$203.30</td>\n",
              "      <td>2014</td>\n",
              "    </tr>\n",
              "    <tr>\n",
              "      <th>Ponyo</th>\n",
              "      <td>771</td>\n",
              "      <td>Buena Vista</td>\n",
              "      <td>$202.40</td>\n",
              "      <td>2009</td>\n",
              "    </tr>\n",
              "    <tr>\n",
              "      <th>Straight Outta Compton</th>\n",
              "      <td>776</td>\n",
              "      <td>Universal</td>\n",
              "      <td>$201.60</td>\n",
              "      <td>2015</td>\n",
              "    </tr>\n",
              "  </tbody>\n",
              "</table>\n",
              "<p>157 rows × 4 columns</p>\n",
              "</div>"
            ],
            "text/plain": [
              "                              Rank       Studio       Gross  Year\n",
              "Title                                                            \n",
              "Avengers: Endgame                1  Buena Vista  $2,796.30   2019\n",
              "Star Wars: The Force Awakens     4  Buena Vista  $2,068.20   2015\n",
              "Avengers: Infinity War           5  Buena Vista  $2,048.40   2018\n",
              "Jurassic World                   6    Universal  $1,671.70   2015\n",
              "Marvel's The Avengers            7  Buena Vista  $1,518.80   2012\n",
              "...                            ...          ...         ...   ...\n",
              "King Arthur                    765  Buena Vista    $203.60   2004\n",
              "Everest                        766    Universal    $203.40   2015\n",
              "Need for Speed                 769  Buena Vista    $203.30   2014\n",
              "Ponyo                          771  Buena Vista    $202.40   2009\n",
              "Straight Outta Compton         776    Universal    $201.60   2015\n",
              "\n",
              "[157 rows x 4 columns]"
            ]
          },
          "metadata": {},
          "execution_count": 28
        }
      ]
    },
    {
      "cell_type": "markdown",
      "metadata": {
        "id": "50-acaQI_PYZ"
      },
      "source": [
        "Pandas provides additional ways to filter a DataFrame. We can target column values less than or greater than a specific value."
      ]
    },
    {
      "cell_type": "code",
      "metadata": {
        "id": "0POidTFdrylX",
        "colab": {
          "base_uri": "https://localhost:8080/",
          "height": 266
        },
        "outputId": "82f82639-8395-4d30-f23c-dab8ddb098cf"
      },
      "source": [
        "before_1975 = movies[\"Year\"] < 1975\n",
        "movies[before_1975]"
      ],
      "execution_count": 29,
      "outputs": [
        {
          "output_type": "execute_result",
          "data": {
            "text/html": [
              "<div>\n",
              "<style scoped>\n",
              "    .dataframe tbody tr th:only-of-type {\n",
              "        vertical-align: middle;\n",
              "    }\n",
              "\n",
              "    .dataframe tbody tr th {\n",
              "        vertical-align: top;\n",
              "    }\n",
              "\n",
              "    .dataframe thead th {\n",
              "        text-align: right;\n",
              "    }\n",
              "</style>\n",
              "<table border=\"1\" class=\"dataframe\">\n",
              "  <thead>\n",
              "    <tr style=\"text-align: right;\">\n",
              "      <th></th>\n",
              "      <th>Rank</th>\n",
              "      <th>Studio</th>\n",
              "      <th>Gross</th>\n",
              "      <th>Year</th>\n",
              "    </tr>\n",
              "    <tr>\n",
              "      <th>Title</th>\n",
              "      <th></th>\n",
              "      <th></th>\n",
              "      <th></th>\n",
              "      <th></th>\n",
              "    </tr>\n",
              "  </thead>\n",
              "  <tbody>\n",
              "    <tr>\n",
              "      <th>The Exorcist</th>\n",
              "      <td>252</td>\n",
              "      <td>Warner Brothers</td>\n",
              "      <td>$441.30</td>\n",
              "      <td>1973</td>\n",
              "    </tr>\n",
              "    <tr>\n",
              "      <th>Gone with the Wind</th>\n",
              "      <td>288</td>\n",
              "      <td>MGM</td>\n",
              "      <td>$402.40</td>\n",
              "      <td>1939</td>\n",
              "    </tr>\n",
              "    <tr>\n",
              "      <th>Bambi</th>\n",
              "      <td>540</td>\n",
              "      <td>RKO</td>\n",
              "      <td>$267.40</td>\n",
              "      <td>1942</td>\n",
              "    </tr>\n",
              "    <tr>\n",
              "      <th>The Godfather</th>\n",
              "      <td>604</td>\n",
              "      <td>Paramount</td>\n",
              "      <td>$245.10</td>\n",
              "      <td>1972</td>\n",
              "    </tr>\n",
              "    <tr>\n",
              "      <th>101 Dalmatians</th>\n",
              "      <td>708</td>\n",
              "      <td>Buena Vista</td>\n",
              "      <td>$215.90</td>\n",
              "      <td>1961</td>\n",
              "    </tr>\n",
              "    <tr>\n",
              "      <th>The Jungle Book</th>\n",
              "      <td>755</td>\n",
              "      <td>Buena Vista</td>\n",
              "      <td>$205.80</td>\n",
              "      <td>1967</td>\n",
              "    </tr>\n",
              "  </tbody>\n",
              "</table>\n",
              "</div>"
            ],
            "text/plain": [
              "                    Rank           Studio     Gross  Year\n",
              "Title                                                    \n",
              "The Exorcist         252  Warner Brothers  $441.30   1973\n",
              "Gone with the Wind   288              MGM  $402.40   1939\n",
              "Bambi                540              RKO  $267.40   1942\n",
              "The Godfather        604        Paramount  $245.10   1972\n",
              "101 Dalmatians       708      Buena Vista  $215.90   1961\n",
              "The Jungle Book      755      Buena Vista  $205.80   1967"
            ]
          },
          "metadata": {},
          "execution_count": 29
        }
      ]
    },
    {
      "cell_type": "code",
      "metadata": {
        "id": "DB2wfud2_Wwv",
        "colab": {
          "base_uri": "https://localhost:8080/",
          "height": 450
        },
        "outputId": "7a00a87b-2e77-4e80-dfaa-85164dc66a4f"
      },
      "source": [
        "after_1975 = movies[\"Year\"] > 1975\n",
        "movies[after_1975]"
      ],
      "execution_count": 30,
      "outputs": [
        {
          "output_type": "execute_result",
          "data": {
            "text/html": [
              "<div>\n",
              "<style scoped>\n",
              "    .dataframe tbody tr th:only-of-type {\n",
              "        vertical-align: middle;\n",
              "    }\n",
              "\n",
              "    .dataframe tbody tr th {\n",
              "        vertical-align: top;\n",
              "    }\n",
              "\n",
              "    .dataframe thead th {\n",
              "        text-align: right;\n",
              "    }\n",
              "</style>\n",
              "<table border=\"1\" class=\"dataframe\">\n",
              "  <thead>\n",
              "    <tr style=\"text-align: right;\">\n",
              "      <th></th>\n",
              "      <th>Rank</th>\n",
              "      <th>Studio</th>\n",
              "      <th>Gross</th>\n",
              "      <th>Year</th>\n",
              "    </tr>\n",
              "    <tr>\n",
              "      <th>Title</th>\n",
              "      <th></th>\n",
              "      <th></th>\n",
              "      <th></th>\n",
              "      <th></th>\n",
              "    </tr>\n",
              "  </thead>\n",
              "  <tbody>\n",
              "    <tr>\n",
              "      <th>Avengers: Endgame</th>\n",
              "      <td>1</td>\n",
              "      <td>Buena Vista</td>\n",
              "      <td>$2,796.30</td>\n",
              "      <td>2019</td>\n",
              "    </tr>\n",
              "    <tr>\n",
              "      <th>Avatar</th>\n",
              "      <td>2</td>\n",
              "      <td>Fox</td>\n",
              "      <td>$2,789.70</td>\n",
              "      <td>2009</td>\n",
              "    </tr>\n",
              "    <tr>\n",
              "      <th>Titanic</th>\n",
              "      <td>3</td>\n",
              "      <td>Paramount</td>\n",
              "      <td>$2,187.50</td>\n",
              "      <td>1997</td>\n",
              "    </tr>\n",
              "    <tr>\n",
              "      <th>Star Wars: The Force Awakens</th>\n",
              "      <td>4</td>\n",
              "      <td>Buena Vista</td>\n",
              "      <td>$2,068.20</td>\n",
              "      <td>2015</td>\n",
              "    </tr>\n",
              "    <tr>\n",
              "      <th>Avengers: Infinity War</th>\n",
              "      <td>5</td>\n",
              "      <td>Buena Vista</td>\n",
              "      <td>$2,048.40</td>\n",
              "      <td>2018</td>\n",
              "    </tr>\n",
              "    <tr>\n",
              "      <th>...</th>\n",
              "      <td>...</td>\n",
              "      <td>...</td>\n",
              "      <td>...</td>\n",
              "      <td>...</td>\n",
              "    </tr>\n",
              "    <tr>\n",
              "      <th>Yogi Bear</th>\n",
              "      <td>778</td>\n",
              "      <td>Warner Brothers</td>\n",
              "      <td>$201.60</td>\n",
              "      <td>2010</td>\n",
              "    </tr>\n",
              "    <tr>\n",
              "      <th>Garfield: The Movie</th>\n",
              "      <td>779</td>\n",
              "      <td>Fox</td>\n",
              "      <td>$200.80</td>\n",
              "      <td>2004</td>\n",
              "    </tr>\n",
              "    <tr>\n",
              "      <th>Cats &amp; Dogs</th>\n",
              "      <td>780</td>\n",
              "      <td>Warner Brothers</td>\n",
              "      <td>$200.70</td>\n",
              "      <td>2001</td>\n",
              "    </tr>\n",
              "    <tr>\n",
              "      <th>The Hunt for Red October</th>\n",
              "      <td>781</td>\n",
              "      <td>Paramount</td>\n",
              "      <td>$200.50</td>\n",
              "      <td>1990</td>\n",
              "    </tr>\n",
              "    <tr>\n",
              "      <th>Valkyrie</th>\n",
              "      <td>782</td>\n",
              "      <td>MGM</td>\n",
              "      <td>$200.30</td>\n",
              "      <td>2008</td>\n",
              "    </tr>\n",
              "  </tbody>\n",
              "</table>\n",
              "<p>775 rows × 4 columns</p>\n",
              "</div>"
            ],
            "text/plain": [
              "                              Rank           Studio       Gross  Year\n",
              "Title                                                                \n",
              "Avengers: Endgame                1      Buena Vista  $2,796.30   2019\n",
              "Avatar                           2              Fox  $2,789.70   2009\n",
              "Titanic                          3        Paramount  $2,187.50   1997\n",
              "Star Wars: The Force Awakens     4      Buena Vista  $2,068.20   2015\n",
              "Avengers: Infinity War           5      Buena Vista  $2,048.40   2018\n",
              "...                            ...              ...         ...   ...\n",
              "Yogi Bear                      778  Warner Brothers    $201.60   2010\n",
              "Garfield: The Movie            779              Fox    $200.80   2004\n",
              "Cats & Dogs                    780  Warner Brothers    $200.70   2001\n",
              "The Hunt for Red October       781        Paramount    $200.50   1990\n",
              "Valkyrie                       782              MGM    $200.30   2008\n",
              "\n",
              "[775 rows x 4 columns]"
            ]
          },
          "metadata": {},
          "execution_count": 30
        }
      ]
    },
    {
      "cell_type": "code",
      "metadata": {
        "id": "hVhzC_4urylX",
        "colab": {
          "base_uri": "https://localhost:8080/",
          "height": 390
        },
        "outputId": "52c1195f-8128-4689-c71c-783f57925f9d"
      },
      "source": [
        "# We can also specify a range between which all values must fall.\n",
        "between_80s = movies[\"Year\"].between(1983, 1986)\n",
        "movies[between_80s]"
      ],
      "execution_count": 31,
      "outputs": [
        {
          "output_type": "execute_result",
          "data": {
            "text/html": [
              "<div>\n",
              "<style scoped>\n",
              "    .dataframe tbody tr th:only-of-type {\n",
              "        vertical-align: middle;\n",
              "    }\n",
              "\n",
              "    .dataframe tbody tr th {\n",
              "        vertical-align: top;\n",
              "    }\n",
              "\n",
              "    .dataframe thead th {\n",
              "        text-align: right;\n",
              "    }\n",
              "</style>\n",
              "<table border=\"1\" class=\"dataframe\">\n",
              "  <thead>\n",
              "    <tr style=\"text-align: right;\">\n",
              "      <th></th>\n",
              "      <th>Rank</th>\n",
              "      <th>Studio</th>\n",
              "      <th>Gross</th>\n",
              "      <th>Year</th>\n",
              "    </tr>\n",
              "    <tr>\n",
              "      <th>Title</th>\n",
              "      <th></th>\n",
              "      <th></th>\n",
              "      <th></th>\n",
              "      <th></th>\n",
              "    </tr>\n",
              "  </thead>\n",
              "  <tbody>\n",
              "    <tr>\n",
              "      <th>Return of the Jedi</th>\n",
              "      <td>222</td>\n",
              "      <td>Fox</td>\n",
              "      <td>$475.10</td>\n",
              "      <td>1983</td>\n",
              "    </tr>\n",
              "    <tr>\n",
              "      <th>Back to the Future</th>\n",
              "      <td>311</td>\n",
              "      <td>Universal</td>\n",
              "      <td>$381.10</td>\n",
              "      <td>1985</td>\n",
              "    </tr>\n",
              "    <tr>\n",
              "      <th>Top Gun</th>\n",
              "      <td>357</td>\n",
              "      <td>Paramount</td>\n",
              "      <td>$356.80</td>\n",
              "      <td>1986</td>\n",
              "    </tr>\n",
              "    <tr>\n",
              "      <th>Indiana Jones and the Temple of Doom</th>\n",
              "      <td>403</td>\n",
              "      <td>Paramount</td>\n",
              "      <td>$333.10</td>\n",
              "      <td>1984</td>\n",
              "    </tr>\n",
              "    <tr>\n",
              "      <th>Crocodile Dundee</th>\n",
              "      <td>413</td>\n",
              "      <td>Paramount</td>\n",
              "      <td>$328.20</td>\n",
              "      <td>1986</td>\n",
              "    </tr>\n",
              "    <tr>\n",
              "      <th>Beverly Hills Cop</th>\n",
              "      <td>432</td>\n",
              "      <td>Paramount</td>\n",
              "      <td>$316.40</td>\n",
              "      <td>1984</td>\n",
              "    </tr>\n",
              "    <tr>\n",
              "      <th>Rocky IV</th>\n",
              "      <td>467</td>\n",
              "      <td>MGM</td>\n",
              "      <td>$300.50</td>\n",
              "      <td>1985</td>\n",
              "    </tr>\n",
              "    <tr>\n",
              "      <th>Rambo: First Blood Part II</th>\n",
              "      <td>469</td>\n",
              "      <td>TriStar</td>\n",
              "      <td>$300.40</td>\n",
              "      <td>1985</td>\n",
              "    </tr>\n",
              "    <tr>\n",
              "      <th>Ghostbusters</th>\n",
              "      <td>485</td>\n",
              "      <td>Columbia</td>\n",
              "      <td>$295.20</td>\n",
              "      <td>1984</td>\n",
              "    </tr>\n",
              "    <tr>\n",
              "      <th>Out of Africa</th>\n",
              "      <td>662</td>\n",
              "      <td>Universal</td>\n",
              "      <td>$227.50</td>\n",
              "      <td>1985</td>\n",
              "    </tr>\n",
              "  </tbody>\n",
              "</table>\n",
              "</div>"
            ],
            "text/plain": [
              "                                      Rank     Studio     Gross  Year\n",
              "Title                                                                \n",
              "Return of the Jedi                     222        Fox  $475.10   1983\n",
              "Back to the Future                     311  Universal  $381.10   1985\n",
              "Top Gun                                357  Paramount  $356.80   1986\n",
              "Indiana Jones and the Temple of Doom   403  Paramount  $333.10   1984\n",
              "Crocodile Dundee                       413  Paramount  $328.20   1986\n",
              "Beverly Hills Cop                      432  Paramount  $316.40   1984\n",
              "Rocky IV                               467        MGM  $300.50   1985\n",
              "Rambo: First Blood Part II             469    TriStar  $300.40   1985\n",
              "Ghostbusters                           485   Columbia  $295.20   1984\n",
              "Out of Africa                          662  Universal  $227.50   1985"
            ]
          },
          "metadata": {},
          "execution_count": 31
        }
      ]
    },
    {
      "cell_type": "code",
      "metadata": {
        "id": "2XbL4KzprylY",
        "colab": {
          "base_uri": "https://localhost:8080/",
          "height": 328
        },
        "outputId": "6ef9853a-b775-4b6e-d025-15124e1fd5f4"
      },
      "source": [
        "# We can also use the DataFrame index to filter rows.\n",
        "has_dark_in_title = movies.index.str.lower().str.contains(\"dark\")\n",
        "movies[has_dark_in_title]"
      ],
      "execution_count": 32,
      "outputs": [
        {
          "output_type": "execute_result",
          "data": {
            "text/html": [
              "<div>\n",
              "<style scoped>\n",
              "    .dataframe tbody tr th:only-of-type {\n",
              "        vertical-align: middle;\n",
              "    }\n",
              "\n",
              "    .dataframe tbody tr th {\n",
              "        vertical-align: top;\n",
              "    }\n",
              "\n",
              "    .dataframe thead th {\n",
              "        text-align: right;\n",
              "    }\n",
              "</style>\n",
              "<table border=\"1\" class=\"dataframe\">\n",
              "  <thead>\n",
              "    <tr style=\"text-align: right;\">\n",
              "      <th></th>\n",
              "      <th>Rank</th>\n",
              "      <th>Studio</th>\n",
              "      <th>Gross</th>\n",
              "      <th>Year</th>\n",
              "    </tr>\n",
              "    <tr>\n",
              "      <th>Title</th>\n",
              "      <th></th>\n",
              "      <th></th>\n",
              "      <th></th>\n",
              "      <th></th>\n",
              "    </tr>\n",
              "  </thead>\n",
              "  <tbody>\n",
              "    <tr>\n",
              "      <th>Transformers: Dark of the Moon</th>\n",
              "      <td>23</td>\n",
              "      <td>Paramount</td>\n",
              "      <td>$1,123.80</td>\n",
              "      <td>2011</td>\n",
              "    </tr>\n",
              "    <tr>\n",
              "      <th>The Dark Knight Rises</th>\n",
              "      <td>27</td>\n",
              "      <td>Warner Brothers</td>\n",
              "      <td>$1,084.90</td>\n",
              "      <td>2012</td>\n",
              "    </tr>\n",
              "    <tr>\n",
              "      <th>The Dark Knight</th>\n",
              "      <td>39</td>\n",
              "      <td>Warner Brothers</td>\n",
              "      <td>$1,004.90</td>\n",
              "      <td>2008</td>\n",
              "    </tr>\n",
              "    <tr>\n",
              "      <th>Thor: The Dark World</th>\n",
              "      <td>132</td>\n",
              "      <td>Buena Vista</td>\n",
              "      <td>$644.60</td>\n",
              "      <td>2013</td>\n",
              "    </tr>\n",
              "    <tr>\n",
              "      <th>Star Trek Into Darkness</th>\n",
              "      <td>232</td>\n",
              "      <td>Paramount</td>\n",
              "      <td>$467.40</td>\n",
              "      <td>2013</td>\n",
              "    </tr>\n",
              "    <tr>\n",
              "      <th>Fifty Shades Darker</th>\n",
              "      <td>309</td>\n",
              "      <td>Universal</td>\n",
              "      <td>$381.50</td>\n",
              "      <td>2017</td>\n",
              "    </tr>\n",
              "    <tr>\n",
              "      <th>Dark Shadows</th>\n",
              "      <td>600</td>\n",
              "      <td>Warner Brothers</td>\n",
              "      <td>$245.50</td>\n",
              "      <td>2012</td>\n",
              "    </tr>\n",
              "    <tr>\n",
              "      <th>Dark Phoenix</th>\n",
              "      <td>603</td>\n",
              "      <td>Fox</td>\n",
              "      <td>$245.10</td>\n",
              "      <td>2019</td>\n",
              "    </tr>\n",
              "  </tbody>\n",
              "</table>\n",
              "</div>"
            ],
            "text/plain": [
              "                                Rank           Studio       Gross  Year\n",
              "Title                                                                  \n",
              "Transformers: Dark of the Moon    23        Paramount  $1,123.80   2011\n",
              "The Dark Knight Rises             27  Warner Brothers  $1,084.90   2012\n",
              "The Dark Knight                   39  Warner Brothers  $1,004.90   2008\n",
              "Thor: The Dark World             132      Buena Vista    $644.60   2013\n",
              "Star Trek Into Darkness          232        Paramount    $467.40   2013\n",
              "Fifty Shades Darker              309        Universal    $381.50   2017\n",
              "Dark Shadows                     600  Warner Brothers    $245.50   2012\n",
              "Dark Phoenix                     603              Fox    $245.10   2019"
            ]
          },
          "metadata": {},
          "execution_count": 32
        }
      ]
    },
    {
      "cell_type": "code",
      "metadata": {
        "id": "13eNgzR6AAQ3",
        "colab": {
          "base_uri": "https://localhost:8080/",
          "height": 421
        },
        "outputId": "28ec4ad2-0e63-4062-f760-c1e487c4bc05"
      },
      "source": [
        "has_world_in_title = movies.index.str.lower().str.contains(\"world\")\n",
        "movies[has_world_in_title]"
      ],
      "execution_count": 44,
      "outputs": [
        {
          "output_type": "execute_result",
          "data": {
            "text/html": [
              "<div>\n",
              "<style scoped>\n",
              "    .dataframe tbody tr th:only-of-type {\n",
              "        vertical-align: middle;\n",
              "    }\n",
              "\n",
              "    .dataframe tbody tr th {\n",
              "        vertical-align: top;\n",
              "    }\n",
              "\n",
              "    .dataframe thead th {\n",
              "        text-align: right;\n",
              "    }\n",
              "</style>\n",
              "<table border=\"1\" class=\"dataframe\">\n",
              "  <thead>\n",
              "    <tr style=\"text-align: right;\">\n",
              "      <th></th>\n",
              "      <th>Rank</th>\n",
              "      <th>Studio</th>\n",
              "      <th>Gross</th>\n",
              "      <th>Year</th>\n",
              "    </tr>\n",
              "    <tr>\n",
              "      <th>Title</th>\n",
              "      <th></th>\n",
              "      <th></th>\n",
              "      <th></th>\n",
              "      <th></th>\n",
              "    </tr>\n",
              "  </thead>\n",
              "  <tbody>\n",
              "    <tr>\n",
              "      <th>Jurassic World</th>\n",
              "      <td>6</td>\n",
              "      <td>Universal</td>\n",
              "      <td>1671.7</td>\n",
              "      <td>2015</td>\n",
              "    </tr>\n",
              "    <tr>\n",
              "      <th>Jurassic World: Fallen Kingdom</th>\n",
              "      <td>13</td>\n",
              "      <td>Universal</td>\n",
              "      <td>1309.5</td>\n",
              "      <td>2018</td>\n",
              "    </tr>\n",
              "    <tr>\n",
              "      <th>Pirates of the Caribbean: At World's End</th>\n",
              "      <td>44</td>\n",
              "      <td>Buena Vista</td>\n",
              "      <td>963.4</td>\n",
              "      <td>2007</td>\n",
              "    </tr>\n",
              "    <tr>\n",
              "      <th>Thor: The Dark World</th>\n",
              "      <td>132</td>\n",
              "      <td>Buena Vista</td>\n",
              "      <td>644.6</td>\n",
              "      <td>2013</td>\n",
              "    </tr>\n",
              "    <tr>\n",
              "      <th>The Lost World: Jurassic Park</th>\n",
              "      <td>146</td>\n",
              "      <td>Universal</td>\n",
              "      <td>618.6</td>\n",
              "      <td>1997</td>\n",
              "    </tr>\n",
              "    <tr>\n",
              "      <th>War of the Worlds</th>\n",
              "      <td>154</td>\n",
              "      <td>Paramount</td>\n",
              "      <td>591.7</td>\n",
              "      <td>2005</td>\n",
              "    </tr>\n",
              "    <tr>\n",
              "      <th>World War Z</th>\n",
              "      <td>183</td>\n",
              "      <td>Paramount</td>\n",
              "      <td>540.0</td>\n",
              "      <td>2013</td>\n",
              "    </tr>\n",
              "    <tr>\n",
              "      <th>How to Train Your Dragon: The Hidden World</th>\n",
              "      <td>199</td>\n",
              "      <td>Universal</td>\n",
              "      <td>519.8</td>\n",
              "      <td>2019</td>\n",
              "    </tr>\n",
              "    <tr>\n",
              "      <th>The World Is Not Enough</th>\n",
              "      <td>349</td>\n",
              "      <td>MGM</td>\n",
              "      <td>361.8</td>\n",
              "      <td>1999</td>\n",
              "    </tr>\n",
              "    <tr>\n",
              "      <th>Waterworld</th>\n",
              "      <td>546</td>\n",
              "      <td>Universal</td>\n",
              "      <td>264.2</td>\n",
              "      <td>1995</td>\n",
              "    </tr>\n",
              "    <tr>\n",
              "      <th>Master and Commander: The Far Side of the World</th>\n",
              "      <td>731</td>\n",
              "      <td>Fox</td>\n",
              "      <td>212.0</td>\n",
              "      <td>2003</td>\n",
              "    </tr>\n",
              "  </tbody>\n",
              "</table>\n",
              "</div>"
            ],
            "text/plain": [
              "                                                 Rank  ...  Year\n",
              "Title                                                  ...      \n",
              "Jurassic World                                      6  ...  2015\n",
              "Jurassic World: Fallen Kingdom                     13  ...  2018\n",
              "Pirates of the Caribbean: At World's End           44  ...  2007\n",
              "Thor: The Dark World                              132  ...  2013\n",
              "The Lost World: Jurassic Park                     146  ...  1997\n",
              "War of the Worlds                                 154  ...  2005\n",
              "World War Z                                       183  ...  2013\n",
              "How to Train Your Dragon: The Hidden World        199  ...  2019\n",
              "The World Is Not Enough                           349  ...  1999\n",
              "Waterworld                                        546  ...  1995\n",
              "Master and Commander: The Far Side of the World   731  ...  2003\n",
              "\n",
              "[11 rows x 4 columns]"
            ]
          },
          "metadata": {},
          "execution_count": 44
        }
      ]
    },
    {
      "cell_type": "markdown",
      "metadata": {
        "id": "aRX_twgWrylZ"
      },
      "source": [
        "##Grouping Data"
      ]
    },
    {
      "cell_type": "markdown",
      "metadata": {
        "id": "ffyew8IMh37D"
      },
      "source": [
        "Our next challenge is the most complex one yet. We might be curious which studio\n",
        "had the highest total grosses across all films. Let’s aggregate the values in the Gross column by studio."
      ]
    },
    {
      "cell_type": "code",
      "metadata": {
        "id": "MhTdtIWmrylZ",
        "outputId": "803bde0a-ae3f-491a-ca19-fcaaa0008076",
        "colab": {
          "base_uri": "https://localhost:8080/"
        }
      },
      "source": [
        "# replaces all occurrences of \"$\" and \",\" with empty text\n",
        "movies[\"Gross\"].str.replace(\"$\", \"\", regex = False).str.replace(\",\", \"\", regex = False)"
      ],
      "execution_count": 47,
      "outputs": [
        {
          "output_type": "execute_result",
          "data": {
            "text/plain": [
              "Title\n",
              "Avengers: Endgame               2796.30 \n",
              "Avatar                          2789.70 \n",
              "Titanic                         2187.50 \n",
              "Star Wars: The Force Awakens    2068.20 \n",
              "Avengers: Infinity War          2048.40 \n",
              "                                  ...   \n",
              "Yogi Bear                        201.60 \n",
              "Garfield: The Movie              200.80 \n",
              "Cats & Dogs                      200.70 \n",
              "The Hunt for Red October         200.50 \n",
              "Valkyrie                         200.30 \n",
              "Name: Gross, Length: 782, dtype: object"
            ]
          },
          "metadata": {},
          "execution_count": 47
        }
      ]
    },
    {
      "cell_type": "code",
      "metadata": {
        "id": "No8pk_6QrylZ",
        "outputId": "c5822f8a-99a3-4d7c-bc6b-f1017a0be2aa",
        "colab": {
          "base_uri": "https://localhost:8080/"
        }
      },
      "source": [
        "# convert the Gross column’s values from text to floating- point numbers\n",
        "(\n",
        "    movies[\"Gross\"]\n",
        "    .str.replace(\"$\", \"\", regex = False)\n",
        "    .str.replace(\",\", \"\", regex = False)\n",
        "    .astype(float)\n",
        ")"
      ],
      "execution_count": 48,
      "outputs": [
        {
          "output_type": "execute_result",
          "data": {
            "text/plain": [
              "Title\n",
              "Avengers: Endgame               2796.3\n",
              "Avatar                          2789.7\n",
              "Titanic                         2187.5\n",
              "Star Wars: The Force Awakens    2068.2\n",
              "Avengers: Infinity War          2048.4\n",
              "                                 ...  \n",
              "Yogi Bear                        201.6\n",
              "Garfield: The Movie              200.8\n",
              "Cats & Dogs                      200.7\n",
              "The Hunt for Red October         200.5\n",
              "Valkyrie                         200.3\n",
              "Name: Gross, Length: 782, dtype: float64"
            ]
          },
          "metadata": {},
          "execution_count": 48
        }
      ]
    },
    {
      "cell_type": "code",
      "metadata": {
        "id": "VKi_fPwZryla"
      },
      "source": [
        "# Now the transformation is permanent\n",
        "movies[\"Gross\"] = (\n",
        "    movies[\"Gross\"]\n",
        "    .str.replace(\"$\", \"\", regex = False)\n",
        "    .str.replace(\",\", \"\", regex = False)\n",
        "    .astype(float)\n",
        ")"
      ],
      "execution_count": 49,
      "outputs": []
    },
    {
      "cell_type": "code",
      "metadata": {
        "id": "8sk_cxmrrylb",
        "outputId": "1d66d9f0-98dc-4785-e27e-ac477c7c0f0b",
        "colab": {
          "base_uri": "https://localhost:8080/"
        }
      },
      "source": [
        "# calculates the average box-office gross of the movies\n",
        "movies[\"Gross\"].mean()"
      ],
      "execution_count": 50,
      "outputs": [
        {
          "output_type": "execute_result",
          "data": {
            "text/plain": [
              "439.0308184143226"
            ]
          },
          "metadata": {},
          "execution_count": 50
        }
      ]
    },
    {
      "cell_type": "code",
      "metadata": {
        "id": "P5AXX_X3rylb"
      },
      "source": [
        "# group the DataFrame’s rows based on values in the Studio column\n",
        "studios = movies.groupby(\"Studio\")"
      ],
      "execution_count": 51,
      "outputs": []
    },
    {
      "cell_type": "code",
      "metadata": {
        "id": "OZ1nilUrrylb",
        "outputId": "89527365-6d00-4e3f-fec8-d3e6d66e3eb8",
        "colab": {
          "base_uri": "https://localhost:8080/"
        }
      },
      "source": [
        "# count the number of films per studio\n",
        "studios[\"Gross\"].count().head()"
      ],
      "execution_count": 52,
      "outputs": [
        {
          "output_type": "execute_result",
          "data": {
            "text/plain": [
              "Studio\n",
              "Artisan                     1\n",
              "Buena Vista               125\n",
              "CL                          1\n",
              "China Film Corporation      1\n",
              "Columbia                    5\n",
              "Name: Gross, dtype: int64"
            ]
          },
          "metadata": {},
          "execution_count": 52
        }
      ]
    },
    {
      "cell_type": "code",
      "metadata": {
        "id": "kGtnJctvrylc",
        "outputId": "5ce8c45f-84b2-460d-bb30-7a0d705dd282",
        "colab": {
          "base_uri": "https://localhost:8080/"
        }
      },
      "source": [
        "# sort the Series by count of films, from most to least\n",
        "studios[\"Gross\"].count().sort_values(ascending = False).head()"
      ],
      "execution_count": 53,
      "outputs": [
        {
          "output_type": "execute_result",
          "data": {
            "text/plain": [
              "Studio\n",
              "Warner Brothers    132\n",
              "Buena Vista        125\n",
              "Fox                117\n",
              "Universal          109\n",
              "Sony                86\n",
              "Name: Gross, dtype: int64"
            ]
          },
          "metadata": {},
          "execution_count": 53
        }
      ]
    },
    {
      "cell_type": "code",
      "metadata": {
        "id": "f3SGhWPZjeQd",
        "outputId": "dbf8667e-fd42-4d70-d289-563d004bc0c0",
        "colab": {
          "base_uri": "https://localhost:8080/"
        }
      },
      "source": [
        "# sort the Series by count of films, from least to most\n",
        "studios[\"Gross\"].count().sort_values(ascending = True).head()"
      ],
      "execution_count": 54,
      "outputs": [
        {
          "output_type": "execute_result",
          "data": {
            "text/plain": [
              "Studio\n",
              "Artisan      1\n",
              "Newmarket    1\n",
              "RKO          1\n",
              "Rela.        1\n",
              "Magn.        1\n",
              "Name: Gross, dtype: int64"
            ]
          },
          "metadata": {},
          "execution_count": 54
        }
      ]
    },
    {
      "cell_type": "code",
      "metadata": {
        "id": "FfcDWwv2rylc",
        "outputId": "cbf02d96-cbe2-4a88-8ce3-4de5b750a5cf",
        "colab": {
          "base_uri": "https://localhost:8080/"
        }
      },
      "source": [
        "# pull out their row’s respective Gross values, and sum them together\n",
        "studios[\"Gross\"].sum().head()"
      ],
      "execution_count": 55,
      "outputs": [
        {
          "output_type": "execute_result",
          "data": {
            "text/plain": [
              "Studio\n",
              "Artisan                     248.6\n",
              "Buena Vista               73585.0\n",
              "CL                          228.1\n",
              "China Film Corporation      699.8\n",
              "Columbia                   1276.6\n",
              "Name: Gross, dtype: float64"
            ]
          },
          "metadata": {},
          "execution_count": 55
        }
      ]
    },
    {
      "cell_type": "code",
      "metadata": {
        "id": "fYWGqq1Orylc",
        "outputId": "ebb2a42d-753d-4bb4-83dc-1659f7e5229e",
        "colab": {
          "base_uri": "https://localhost:8080/"
        }
      },
      "source": [
        "# sort the Series values in descending order\n",
        "studios[\"Gross\"].sum().sort_values(ascending = False).head()"
      ],
      "execution_count": 56,
      "outputs": [
        {
          "output_type": "execute_result",
          "data": {
            "text/plain": [
              "Studio\n",
              "Buena Vista        73585.0\n",
              "Warner Brothers    58643.8\n",
              "Fox                50420.8\n",
              "Universal          44302.3\n",
              "Sony               32822.5\n",
              "Name: Gross, dtype: float64"
            ]
          },
          "metadata": {},
          "execution_count": 56
        }
      ]
    }
  ]
}