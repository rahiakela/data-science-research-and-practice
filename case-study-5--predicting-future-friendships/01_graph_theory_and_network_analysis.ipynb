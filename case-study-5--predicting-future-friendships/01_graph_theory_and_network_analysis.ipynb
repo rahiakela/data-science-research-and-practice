{
  "nbformat": 4,
  "nbformat_minor": 0,
  "metadata": {
    "colab": {
      "provenance": [],
      "toc_visible": true,
      "authorship_tag": "ABX9TyOjSTubUzfL/pl89LaG0lZM",
      "include_colab_link": true
    },
    "kernelspec": {
      "name": "python3",
      "display_name": "Python 3"
    },
    "language_info": {
      "name": "python"
    }
  },
  "cells": [
    {
      "cell_type": "markdown",
      "metadata": {
        "id": "view-in-github",
        "colab_type": "text"
      },
      "source": [
        "<a href=\"https://colab.research.google.com/github/rahiakela/data-science-research-and-practice/blob/main/case-study-5--predicting-future-friendships/01_graph_theory_and_network_analysis.ipynb\" target=\"_parent\"><img src=\"https://colab.research.google.com/assets/colab-badge.svg\" alt=\"Open In Colab\"/></a>"
      ]
    },
    {
      "cell_type": "markdown",
      "source": [
        "##An introduction to graph theory and network analysis"
      ],
      "metadata": {
        "id": "CKQ3xygyzGoH"
      }
    },
    {
      "cell_type": "markdown",
      "source": [
        "Our goal is to extract common data science skills from the downloaded job postings.\n",
        "Then we’ll compare these skills to our resume to determine which skills are\n",
        "missing. \n",
        "\n",
        "We will do so as follows:\n",
        "\n",
        "1. Parse all text from the downloaded HTML files.\n",
        "2. Explore the parsed output to learn how job skills are described in online\n",
        "postings. We’ll pay particular attention to whether certain HTML tags are\n",
        "more associated with skill descriptions.\n",
        "3. Attempt to filter any irrelevant job postings from our dataset.\n",
        "4. Cluster job skills based on text similarity.\n",
        "5. Visualize the clusters using word clouds.\n",
        "6. Adjust clustering parameters, if necessary, to improve the visualized output.\n",
        "7. Compare the clustered skills to our resume to uncover missing skills."
      ],
      "metadata": {
        "id": "fJsYonsIz1lJ"
      }
    },
    {
      "cell_type": "markdown",
      "source": [
        "##Setup"
      ],
      "metadata": {
        "id": "nEaM8U6Lz_Fg"
      }
    },
    {
      "cell_type": "code",
      "source": [
        "import warnings\n",
        "warnings.filterwarnings('ignore')"
      ],
      "metadata": {
        "id": "gtDg8Oyyz__L"
      },
      "execution_count": null,
      "outputs": []
    },
    {
      "cell_type": "code",
      "source": [
        "import re\n",
        "import glob\n",
        "import time\n",
        "import numpy as np\n",
        "import pandas as pd\n",
        "\n",
        "from collections import defaultdict\n",
        "from collections import Counter\n",
        "\n",
        "from sklearn.feature_extraction.text import TfidfVectorizer\n",
        "\n",
        "from sklearn.decomposition import TruncatedSVD\n",
        "from sklearn.preprocessing import normalize\n",
        "\n",
        "from sklearn.cluster import KMeans\n",
        "from sklearn.cluster import MiniBatchKMeans\n",
        "\n",
        "from wordcloud import WordCloud\n",
        "\n",
        "from bs4 import BeautifulSoup as bs\n",
        "\n",
        "import seaborn as sns\n",
        "import matplotlib.pyplot as plt\n",
        "from IPython.core.display import display, HTML"
      ],
      "metadata": {
        "id": "TobbrwVl0CWF"
      },
      "execution_count": null,
      "outputs": []
    },
    {
      "cell_type": "code",
      "source": [
        "%%shell\n",
        "\n",
        "wget https://github.com/rahiakela/data-science-research-and-practice/raw/main/data-science-bookcamp/case-study-4--job-resume-improvement/job_postings.zip\n",
        "wget https://github.com/rahiakela/data-science-research-and-practice/raw/main/data-science-bookcamp/case-study-4--job-resume-improvement/resume.txt\n",
        "wget https://github.com/rahiakela/data-science-research-and-practice/raw/main/data-science-bookcamp/case-study-4--job-resume-improvement/table_of_contents.txt\n",
        "\n",
        "unzip -qq job_postings.zip\n",
        "rm -rf job_postings.zip"
      ],
      "metadata": {
        "id": "0ZbfU9_S1FP1"
      },
      "execution_count": null,
      "outputs": []
    },
    {
      "cell_type": "markdown",
      "source": [
        "##Extracting skills from job posting"
      ],
      "metadata": {
        "id": "tRYlC_k-0OTX"
      }
    }
  ]
}