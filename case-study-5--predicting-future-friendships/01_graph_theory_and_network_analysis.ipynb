{
  "nbformat": 4,
  "nbformat_minor": 0,
  "metadata": {
    "colab": {
      "provenance": [],
      "toc_visible": true,
      "authorship_tag": "ABX9TyNZMb/kp7vsbs86SsLWvUxv",
      "include_colab_link": true
    },
    "kernelspec": {
      "name": "python3",
      "display_name": "Python 3"
    },
    "language_info": {
      "name": "python"
    }
  },
  "cells": [
    {
      "cell_type": "markdown",
      "metadata": {
        "id": "view-in-github",
        "colab_type": "text"
      },
      "source": [
        "<a href=\"https://colab.research.google.com/github/rahiakela/data-science-research-and-practice/blob/main/case-study-5--predicting-future-friendships/01_graph_theory_and_network_analysis.ipynb\" target=\"_parent\"><img src=\"https://colab.research.google.com/assets/colab-badge.svg\" alt=\"Open In Colab\"/></a>"
      ]
    },
    {
      "cell_type": "markdown",
      "source": [
        "##An introduction to graph theory and network analysis"
      ],
      "metadata": {
        "id": "CKQ3xygyzGoH"
      }
    },
    {
      "cell_type": "markdown",
      "source": [
        "Network theory is the study of connections between objects. These objects can be\n",
        "anything: \n",
        "\n",
        "* people connected by relationships, \n",
        "* web pages connected by web links, or\n",
        "* cities connected by roads. \n",
        "\n",
        "A collection of objects and their dispersed connections is\n",
        "called either a network or a graph, depending on whom you ask. \n",
        "\n",
        "Engineers prefer to use the term network, while mathematicians prefer graph.\n",
        "\n",
        "Graphs are simple abstractions that\n",
        "capture the complexity of our entangled, interconnected world. \n",
        "\n",
        "Properties of graphs\n",
        "remain surprisingly consistent across systems in society and nature.\n",
        "\n",
        "Graph theory is a\n",
        "framework for mathematically tracking these consistencies. It combines ideas from diverse branches of mathematics, including probability theory and matrix analysis.\n",
        "\n",
        "These ideas can be used to gain useful real-world insights ranging from:\n",
        "\n",
        "* search engine page rankings \n",
        "* social circle clustering\n",
        "\n",
        "So some knowledge of graph theory is indispensable to doing good data science."
      ],
      "metadata": {
        "id": "fJsYonsIz1lJ"
      }
    },
    {
      "cell_type": "markdown",
      "source": [
        "##Setup"
      ],
      "metadata": {
        "id": "nEaM8U6Lz_Fg"
      }
    },
    {
      "cell_type": "code",
      "source": [
        "!pip install networkx"
      ],
      "metadata": {
        "id": "cz9LyWDd3kIP",
        "outputId": "de589879-9e2b-43ba-a899-289b4449a601",
        "colab": {
          "base_uri": "https://localhost:8080/"
        }
      },
      "execution_count": 1,
      "outputs": [
        {
          "output_type": "stream",
          "name": "stdout",
          "text": [
            "Looking in indexes: https://pypi.org/simple, https://us-python.pkg.dev/colab-wheels/public/simple/\n",
            "Requirement already satisfied: networkx in /usr/local/lib/python3.7/dist-packages (2.6.3)\n"
          ]
        }
      ]
    },
    {
      "cell_type": "code",
      "source": [
        "import warnings\n",
        "warnings.filterwarnings('ignore')"
      ],
      "metadata": {
        "id": "gtDg8Oyyz__L"
      },
      "execution_count": 2,
      "outputs": []
    },
    {
      "cell_type": "code",
      "source": [
        "import re\n",
        "import glob\n",
        "import time\n",
        "import numpy as np\n",
        "import pandas as pd\n",
        "\n",
        "import networkx as nx\n",
        "\n",
        "from sklearn.decomposition import TruncatedSVD\n",
        "from sklearn.preprocessing import normalize\n",
        "\n",
        "from sklearn.cluster import KMeans\n",
        "from sklearn.cluster import MiniBatchKMeans\n",
        "\n",
        "import seaborn as sns\n",
        "import matplotlib.pyplot as plt\n",
        "from IPython.core.display import display, HTML"
      ],
      "metadata": {
        "id": "TobbrwVl0CWF"
      },
      "execution_count": 3,
      "outputs": []
    },
    {
      "cell_type": "markdown",
      "source": [
        "##Ranking websites by popularity"
      ],
      "metadata": {
        "id": "tRYlC_k-0OTX"
      }
    },
    {
      "cell_type": "markdown",
      "source": [
        "Suppose you wish to estimate the most popular data science website using\n",
        "data that is publicly available. This precludes privately tracked traffic data. \n",
        "\n",
        "What should you do? \n",
        "\n",
        "Network theory offers us a simple way of ranking websites based on\n",
        "their public links.\n",
        "\n",
        "To see how, let’s build a simple network composed of two data science\n",
        "websites: a NumPy tutorial and a SciPy tutorial. \n",
        "\n",
        "In graph theory, these websites\n",
        "are referred to as the nodes in the graph.\n",
        "\n",
        "Nodes are network points that can form connections\n",
        "with each other; these connections are called edges."
      ],
      "metadata": {
        "id": "3zFf2xiyzKY6"
      }
    },
    {
      "cell_type": "code",
      "source": [
        "# Defining a node list\n",
        "nodes = [\"Numpy\", \"SciPy\"]"
      ],
      "metadata": {
        "id": "A0XdlNznztKQ"
      },
      "execution_count": 4,
      "outputs": []
    },
    {
      "cell_type": "code",
      "source": [
        "# Defining an edge list\n",
        "edges = [(1, 0)]  # pointing SciPy to Numpy"
      ],
      "metadata": {
        "id": "phf9Ur3qz80g"
      },
      "execution_count": 5,
      "outputs": []
    },
    {
      "cell_type": "code",
      "source": [
        "# Checking for the existence of an edge\n",
        "def edge_exists(i, j):\n",
        "  return (i, j) in edges\n",
        "\n",
        "assert edge_exists(1, 0)\n",
        "assert not edge_exists(0, 1)"
      ],
      "metadata": {
        "id": "MtQzRkD51MWU"
      },
      "execution_count": 6,
      "outputs": []
    },
    {
      "cell_type": "code",
      "source": [
        "# Tracking nodes and edges using a matrix\n",
        "adjacency_matrix = np.zeros((len(nodes), len(nodes)))\n",
        "\n",
        "for i, j in edges:\n",
        "  adjacency_matrix[i][j] = 1\n",
        "\n",
        "assert adjacency_matrix[1][0]\n",
        "assert not adjacency_matrix[0][1]\n",
        "\n",
        "print(adjacency_matrix)"
      ],
      "metadata": {
        "id": "O70o2CdX12f9",
        "outputId": "eab961b4-671c-4be6-f80e-fdeac33aa2e2",
        "colab": {
          "base_uri": "https://localhost:8080/"
        }
      },
      "execution_count": 7,
      "outputs": [
        {
          "output_type": "stream",
          "name": "stdout",
          "text": [
            "[[0. 0.]\n",
            " [1. 0.]]\n"
          ]
        }
      ]
    },
    {
      "cell_type": "code",
      "source": [
        "# Adding an edge to the adjacency matrix\n",
        "adjacency_matrix[0][1] = 1  # pointing Numpy to SciPy\n",
        "print(adjacency_matrix)"
      ],
      "metadata": {
        "id": "aoa09hYO2jp9",
        "outputId": "3ffc5dee-35a5-4a12-e4e8-7fa5a9257ff7",
        "colab": {
          "base_uri": "https://localhost:8080/"
        }
      },
      "execution_count": 8,
      "outputs": [
        {
          "output_type": "stream",
          "name": "stdout",
          "text": [
            "[[0. 1.]\n",
            " [1. 0.]]\n"
          ]
        }
      ]
    },
    {
      "cell_type": "markdown",
      "source": [
        "Suppose we wish to expand our website network by adding two more data science sites\n",
        "that discuss Pandas and Matplotlib. \n",
        "\n",
        "Adding them will increase our node count from\n",
        "two to four, so we need to expand the adjacency matrix dimensions from two-by-two to four-by-four.\n",
        "\n",
        "Unfortunately, in NumPy, it’s hard to resize a matrix\n",
        "while maintaining all existing matrix values—NumPy is not designed to easily handle\n",
        "growing arrays whose shape is constantly expanding.\n",
        "\n",
        "Therefore,\n",
        "NumPy is not the best tool for analyzing expanding networks. \n",
        "\n",
        "What should we do?\n",
        "\n",
        "We need to switch to a different Python library. NetworkX is an external library that\n",
        "allows for easy network modification. \n",
        "\n",
        "It also provides additional useful features, including\n",
        "network visualization.\n",
        "\n"
      ],
      "metadata": {
        "id": "O0hTsaWR292X"
      }
    },
    {
      "cell_type": "markdown",
      "source": [
        "##NetworkX"
      ],
      "metadata": {
        "id": "1walQRvn3cvq"
      }
    },
    {
      "cell_type": "code",
      "source": [
        "# Initializing a directed graph object\n",
        "G = nx.DiGraph()"
      ],
      "metadata": {
        "id": "_paBFvDe3dn5"
      },
      "execution_count": 9,
      "outputs": []
    },
    {
      "cell_type": "code",
      "source": [
        "# Adding a single node to a graph object\n",
        "G.add_node(0)\n",
        "print(nx.to_numpy_array(G))"
      ],
      "metadata": {
        "id": "ru8nYyQPGztc",
        "outputId": "9f25edd3-a579-4991-fd2b-993df3c474d0",
        "colab": {
          "base_uri": "https://localhost:8080/"
        }
      },
      "execution_count": 10,
      "outputs": [
        {
          "output_type": "stream",
          "name": "stdout",
          "text": [
            "[[0.]]\n"
          ]
        }
      ]
    },
    {
      "cell_type": "code",
      "source": [
        "# Adding an attribute to an existing node\n",
        "def print_node_attributes():\n",
        "  for i in G.nodes:\n",
        "    print(f\"The attribute dictionary at node {i} is {G.nodes[i]}\")"
      ],
      "metadata": {
        "id": "OoskinK7I9R0"
      },
      "execution_count": 11,
      "outputs": []
    },
    {
      "cell_type": "code",
      "source": [
        "print_node_attributes()\n",
        "\n",
        "G.nodes[0][\"webpage\"] = \"NumPy\"\n",
        "print(f\"\\nWe've added a webpage to node 0\")\n",
        "print_node_attributes()"
      ],
      "metadata": {
        "id": "_ff9EbzSJQOe",
        "outputId": "3b60e885-9cfd-44fb-ad15-8c9b57433765",
        "colab": {
          "base_uri": "https://localhost:8080/"
        }
      },
      "execution_count": 12,
      "outputs": [
        {
          "output_type": "stream",
          "name": "stdout",
          "text": [
            "The attribute dictionary at node 0 is {}\n",
            "\n",
            "We've added a webpage to node 0\n",
            "The attribute dictionary at node 0 is {'webpage': 'NumPy'}\n"
          ]
        }
      ]
    },
    {
      "cell_type": "code",
      "source": [
        "# Adding a node with an attribute\n",
        "G.add_node(1, webpage=\"SciPy\")\n",
        "print_node_attributes()"
      ],
      "metadata": {
        "id": "TZ78A6lnJpjw",
        "outputId": "8a930ca4-8030-4974-eb13-1ea66acd6acc",
        "colab": {
          "base_uri": "https://localhost:8080/"
        }
      },
      "execution_count": 13,
      "outputs": [
        {
          "output_type": "stream",
          "name": "stdout",
          "text": [
            "The attribute dictionary at node 0 is {'webpage': 'NumPy'}\n",
            "The attribute dictionary at node 1 is {'webpage': 'SciPy'}\n"
          ]
        }
      ]
    },
    {
      "cell_type": "code",
      "source": [
        "# Outputting nodes together with their attributes\n",
        "print(G.nodes(data=True))"
      ],
      "metadata": {
        "id": "IcrHx_ESJ-LN",
        "outputId": "d869afcb-d5d8-471a-a928-f754a9199c56",
        "colab": {
          "base_uri": "https://localhost:8080/"
        }
      },
      "execution_count": 14,
      "outputs": [
        {
          "output_type": "stream",
          "name": "stdout",
          "text": [
            "[(0, {'webpage': 'NumPy'}), (1, {'webpage': 'SciPy'})]\n"
          ]
        }
      ]
    },
    {
      "cell_type": "code",
      "source": [
        "# Adding a single edge to a graph object\n",
        "G.add_edge(1, 0)\n",
        "print(nx.to_numpy_array(G))"
      ],
      "metadata": {
        "id": "JaVnNRM4KCNS",
        "outputId": "b8ca491b-ec08-4eef-b4b5-fc6f21ae9c4f",
        "colab": {
          "base_uri": "https://localhost:8080/"
        }
      },
      "execution_count": 15,
      "outputs": [
        {
          "output_type": "stream",
          "name": "stdout",
          "text": [
            "[[0. 0.]\n",
            " [1. 0.]]\n"
          ]
        }
      ]
    },
    {
      "cell_type": "markdown",
      "source": [
        "From the printed adjacency matrix, we can observe an edge going from Node 1 to\n",
        "Node 0. \n",
        "\n",
        "Unfortunately, our matrix printouts will grow cumbersome as other nodes are\n",
        "added."
      ],
      "metadata": {
        "id": "GAz8fGmtKfNW"
      }
    },
    {
      "cell_type": "code",
      "source": [
        "# Plotting a graph object\n",
        "np.random.seed(0)\n",
        "\n",
        "nx.draw(G)\n",
        "plt.show()"
      ],
      "metadata": {
        "id": "LMqgQLp6KO8f",
        "outputId": "0eb8629a-e040-453c-cb85-1ca10ec0a2b8",
        "colab": {
          "base_uri": "https://localhost:8080/",
          "height": 319
        }
      },
      "execution_count": 16,
      "outputs": [
        {
          "output_type": "display_data",
          "data": {
            "text/plain": [
              "<Figure size 432x288 with 1 Axes>"
            ],
            "image/png": "[encoded data removed]"
          },
          "metadata": {}
        }
      ]
    },
    {
      "cell_type": "code",
      "source": [
        "# Tweaking the graph visualization\n",
        "np.random.seed(0)\n",
        "\n",
        "labels = {i: G.nodes[i][\"webpage\"] for i in G.nodes}\n",
        "nx.draw(G, labels=labels, arrowsize=20)\n",
        "plt.show()"
      ],
      "metadata": {
        "id": "TFwAEZTuKpFm",
        "outputId": "29f23bf5-bdc6-4d8a-cee8-5ad3a50ec264",
        "colab": {
          "base_uri": "https://localhost:8080/",
          "height": 319
        }
      },
      "execution_count": 17,
      "outputs": [
        {
          "output_type": "display_data",
          "data": {
            "text/plain": [
              "<Figure size 432x288 with 1 Axes>"
            ],
            "image/png": "[encoded data removed]"
          },
          "metadata": {}
        }
      ]
    },
    {
      "cell_type": "code",
      "source": [
        "# Altering the node color\n",
        "np.random.seed(0)\n",
        "\n",
        "nx.draw(G, labels=labels, arrowsize=20, node_color=\"cyan\")\n",
        "plt.show()"
      ],
      "metadata": {
        "id": "ATDpkghQLDhx",
        "outputId": "81479616-38fd-4b63-a0de-f7cd48af5979",
        "colab": {
          "base_uri": "https://localhost:8080/",
          "height": 319
        }
      },
      "execution_count": 18,
      "outputs": [
        {
          "output_type": "display_data",
          "data": {
            "text/plain": [
              "<Figure size 432x288 with 1 Axes>"
            ],
            "image/png": "[encoded data removed]"
          },
          "metadata": {}
        }
      ]
    },
    {
      "cell_type": "code",
      "source": [
        "# Adding a back-link between web pages\n",
        "np.random.seed(0)\n",
        "\n",
        "G.add_edge(0, 1)\n",
        "nx.draw(G, labels=labels, arrowsize=20, node_color=\"cyan\")\n",
        "plt.show()"
      ],
      "metadata": {
        "id": "HIKP4vShLsPI",
        "outputId": "e5612010-70d0-41e5-a154-cd7a82993fe8",
        "colab": {
          "base_uri": "https://localhost:8080/",
          "height": 319
        }
      },
      "execution_count": 19,
      "outputs": [
        {
          "output_type": "display_data",
          "data": {
            "text/plain": [
              "<Figure size 432x288 with 1 Axes>"
            ],
            "image/png": "[encoded data removed]"
          },
          "metadata": {}
        }
      ]
    },
    {
      "cell_type": "markdown",
      "source": [
        "We are now ready to expand our network by adding two more web pages: Pandas\n",
        "and Matplotlib."
      ],
      "metadata": {
        "id": "afZ_aB2-eKsQ"
      }
    },
    {
      "cell_type": "code",
      "source": [
        "# Adding multiple nodes to a graph object\n",
        "webpages = [\"Pandas\", \"Matplotlib\"]\n",
        "new_nodes = [(i, {\"webpage\": webpage}) for i, webpage in enumerate(webpages, 2)]\n",
        "G.add_nodes_from(new_nodes)\n",
        "\n",
        "print(f\"We've added these nodes to our graph: \\n{new_nodes}\")\n",
        "print('\\nOur updated list of nodes is:')\n",
        "print(G.nodes(data=True))"
      ],
      "metadata": {
        "id": "oZ07MqtAeLOk",
        "outputId": "e3196a69-56dd-4e69-8b17-fb1289dac32e",
        "colab": {
          "base_uri": "https://localhost:8080/"
        }
      },
      "execution_count": 21,
      "outputs": [
        {
          "output_type": "stream",
          "name": "stdout",
          "text": [
            "We've added these nodes to our graph: \n",
            "[(2, {'webpage': 'Pandas'}), (3, {'webpage': 'Matplotlib'})]\n",
            "\n",
            "Our updated list of nodes is:\n",
            "[(0, {'webpage': 'NumPy'}), (1, {'webpage': 'SciPy'}), (2, {'webpage': 'Pandas'}), (3, {'webpage': 'Matplotlib'})]\n"
          ]
        }
      ]
    },
    {
      "cell_type": "code",
      "source": [
        "# Plotting the updated four-node graph\n",
        "np.random.seed(0)\n",
        "\n",
        "labels = {i: G.nodes[i][\"webpage\"] for i in G.nodes}\n",
        "G.add_edge(0, 1)\n",
        "nx.draw(G, labels=labels, arrowsize=20, node_color=\"cyan\")\n",
        "plt.show()"
      ],
      "metadata": {
        "id": "SrPxJ8DLfUbQ",
        "outputId": "9071ef18-d0ac-4e66-ff9f-43dd525c4cbf",
        "colab": {
          "base_uri": "https://localhost:8080/",
          "height": 319
        }
      },
      "execution_count": 22,
      "outputs": [
        {
          "output_type": "display_data",
          "data": {
            "text/plain": [
              "<Figure size 432x288 with 1 Axes>"
            ],
            "image/png": "[encoded data removed]"
          },
          "metadata": {}
        }
      ]
    },
    {
      "cell_type": "code",
      "source": [
        "# Adding multiple edges to a graph object\n",
        "np.random.seed(0)\n",
        "\n",
        "G.add_edges_from([(0, 2), (3, 0)])\n",
        "nx.draw(G, labels=labels, arrowsize=20, node_color=\"cyan\")\n",
        "plt.show()"
      ],
      "metadata": {
        "id": "Q44KNQ4nfsxO",
        "outputId": "80af2bd0-2adf-4389-fd80-81a83de7506c",
        "colab": {
          "base_uri": "https://localhost:8080/",
          "height": 319
        }
      },
      "execution_count": 23,
      "outputs": [
        {
          "output_type": "display_data",
          "data": {
            "text/plain": [
              "<Figure size 432x288 with 1 Axes>"
            ],
            "image/png": "[encoded data removed]"
          },
          "metadata": {}
        }
      ]
    },
    {
      "cell_type": "markdown",
      "source": [
        "We’ve basically developed a\n",
        "simple metric for ranking websites on the internet. That metric equals the number of\n",
        "inbound edges pointing toward the site, also known as the in-degree. \n",
        "\n",
        "This is the opposite\n",
        "of the out-degree, which equals the number of edges pointing away from a site."
      ],
      "metadata": {
        "id": "S9MeKO_dguE3"
      }
    },
    {
      "cell_type": "code",
      "source": [
        "# Printing the updated adjacency matrix\n",
        "adjacency_matrix = nx.to_numpy_array(G)\n",
        "print(adjacency_matrix)"
      ],
      "metadata": {
        "id": "_vlYn3KugwLV",
        "outputId": "ba529b9c-9c3e-468e-dc05-a0976a1da516",
        "colab": {
          "base_uri": "https://localhost:8080/"
        }
      },
      "execution_count": 24,
      "outputs": [
        {
          "output_type": "stream",
          "name": "stdout",
          "text": [
            "[[0. 1. 1. 0.]\n",
            " [1. 0. 0. 0.]\n",
            " [0. 0. 0. 0.]\n",
            " [1. 0. 0. 0.]]\n"
          ]
        }
      ]
    },
    {
      "cell_type": "markdown",
      "source": [
        "The\n",
        "total number of inbound edges equals the number of ones in that column.\n",
        "\n",
        "Therefore, the sum of values in the column is equal to the node’s in-degree."
      ],
      "metadata": {
        "id": "-xw-3eEkhIGZ"
      }
    },
    {
      "cell_type": "code",
      "source": [
        "# Computing in-degrees using the adjacency matrix\n",
        "in_degrees = adjacency_matrix.sum(axis=0)\n",
        "for i, in_degree in enumerate(in_degrees):\n",
        "  page = G.nodes[i][\"webpage\"]\n",
        "  print(f\"{page} has an in-degree of {in_degree}\")\n",
        "\n",
        "top_page = G.nodes[in_degrees.argmax()][\"webpage\"]\n",
        "print(f\"\\n{top_page} is the most popular page.\")"
      ],
      "metadata": {
        "id": "HqedsHMChK0g",
        "outputId": "21e66985-8936-4a3c-f8df-8d04149e8bbd",
        "colab": {
          "base_uri": "https://localhost:8080/"
        }
      },
      "execution_count": 27,
      "outputs": [
        {
          "output_type": "stream",
          "name": "stdout",
          "text": [
            "NumPy has an in-degree of 2.0\n",
            "SciPy has an in-degree of 1.0\n",
            "Pandas has an in-degree of 1.0\n",
            "Matplotlib has an in-degree of 0.0\n",
            "\n",
            "NumPy is the most popular page.\n"
          ]
        }
      ]
    },
    {
      "cell_type": "code",
      "source": [
        "# Computing in-degrees using NetworkX\n",
        "assert G.in_degree(0) == 2"
      ],
      "metadata": {
        "id": "HEAhwee4iFZJ"
      },
      "execution_count": 28,
      "outputs": []
    },
    {
      "cell_type": "code",
      "source": [
        "# Using strings as node IDs in a graph\n",
        "G2 = nx.DiGraph()\n",
        "G2.add_nodes_from([\"NumPy\", \"SciPy\", \"Matplotlib\", \"Pandas\"])\n",
        "G2.add_edges_from([\n",
        "  (\"SciPy\", \"NumPy\"), (\"NumPy\", \"SciPy\"), (\"NumPy\", \"Pandas\"), (\"Matplotlib\", \"NumPy\")\n",
        "])\n",
        "\n",
        "assert G2.in_degree(\"NumPy\") == 2"
      ],
      "metadata": {
        "id": "gpOvIlSIia5e"
      },
      "execution_count": 30,
      "outputs": []
    },
    {
      "cell_type": "code",
      "source": [
        "np.random.seed(0)\n",
        "\n",
        "nx.draw(G2, arrowsize=20, node_color=\"cyan\")\n",
        "plt.show()"
      ],
      "metadata": {
        "id": "ePrHI9aGjVqf",
        "outputId": "2cad858e-f2f4-4545-a35a-854fd5668047",
        "colab": {
          "base_uri": "https://localhost:8080/",
          "height": 319
        }
      },
      "execution_count": 34,
      "outputs": [
        {
          "output_type": "display_data",
          "data": {
            "text/plain": [
              "<Figure size 432x288 with 1 Axes>"
            ],
            "image/png": "[encoded data removed]"
          },
          "metadata": {}
        }
      ]
    },
    {
      "cell_type": "markdown",
      "source": [
        "Commonly,\n",
        "when dealing with graph data, data scientists are provided with two files: one containing\n",
        "all the node attributes and another containing the linkage information.\n",
        "\n",
        "For\n",
        "instance, in this case study, we are provided with a table of FriendHook profiles as well\n",
        "as a table of existing friendships. These friendships serve as edges, which can be\n",
        "loaded by calling `add_edges_from`. \n",
        "\n",
        "Meanwhile, the profile information depicts attributes\n",
        "of each user in the friendship graph. After proper preparation, the profiles can\n",
        "be mapped back to the nodes by calling `add_nodes_from`.\n",
        "\n",
        "What if, instead, we treated every edge as though it were a two-way street? \n",
        "\n",
        "Our edges\n",
        "would be undirected, and we’d obtain an undirected graph. \n",
        "\n",
        "In an undirected graph, we\n",
        "can traverse connected nodes in either direction."
      ],
      "metadata": {
        "id": "UYPIMSUBj88P"
      }
    },
    {
      "cell_type": "markdown",
      "source": [
        "##Optimize the travel time between towns"
      ],
      "metadata": {
        "id": "jsDnHMJNkfNm"
      }
    },
    {
      "cell_type": "markdown",
      "source": [],
      "metadata": {
        "id": "i3W1OkVUkixv"
      }
    }
  ]
}