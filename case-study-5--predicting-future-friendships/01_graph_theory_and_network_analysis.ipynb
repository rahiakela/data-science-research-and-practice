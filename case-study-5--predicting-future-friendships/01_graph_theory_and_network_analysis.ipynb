{
  "nbformat": 4,
  "nbformat_minor": 0,
  "metadata": {
    "colab": {
      "provenance": [],
      "toc_visible": true,
      "authorship_tag": "ABX9TyNu10KyBsDkzwmXaFAR+cFo",
      "include_colab_link": true
    },
    "kernelspec": {
      "name": "python3",
      "display_name": "Python 3"
    },
    "language_info": {
      "name": "python"
    }
  },
  "cells": [
    {
      "cell_type": "markdown",
      "metadata": {
        "id": "view-in-github",
        "colab_type": "text"
      },
      "source": [
        "<a href=\"https://colab.research.google.com/github/rahiakela/data-science-research-and-practice/blob/main/case-study-5--predicting-future-friendships/01_graph_theory_and_network_analysis.ipynb\" target=\"_parent\"><img src=\"https://colab.research.google.com/assets/colab-badge.svg\" alt=\"Open In Colab\"/></a>"
      ]
    },
    {
      "cell_type": "markdown",
      "source": [
        "##An introduction to graph theory and network analysis"
      ],
      "metadata": {
        "id": "CKQ3xygyzGoH"
      }
    },
    {
      "cell_type": "markdown",
      "source": [
        "Network theory is the study of connections between objects. These objects can be\n",
        "anything: \n",
        "\n",
        "* people connected by relationships, \n",
        "* web pages connected by web links, or\n",
        "* cities connected by roads. \n",
        "\n",
        "A collection of objects and their dispersed connections is\n",
        "called either a network or a graph, depending on whom you ask. \n",
        "\n",
        "Engineers prefer to use the term network, while mathematicians prefer graph.\n",
        "\n",
        "Graphs are simple abstractions that\n",
        "capture the complexity of our entangled, interconnected world. \n",
        "\n",
        "Properties of graphs\n",
        "remain surprisingly consistent across systems in society and nature.\n",
        "\n",
        "Graph theory is a\n",
        "framework for mathematically tracking these consistencies. It combines ideas from diverse branches of mathematics, including probability theory and matrix analysis.\n",
        "\n",
        "These ideas can be used to gain useful real-world insights ranging from:\n",
        "\n",
        "* search engine page rankings \n",
        "* social circle clustering\n",
        "\n",
        "So some knowledge of graph theory is indispensable to doing good data science."
      ],
      "metadata": {
        "id": "fJsYonsIz1lJ"
      }
    },
    {
      "cell_type": "markdown",
      "source": [
        "##Setup"
      ],
      "metadata": {
        "id": "nEaM8U6Lz_Fg"
      }
    },
    {
      "cell_type": "code",
      "source": [
        "!pip install networkx"
      ],
      "metadata": {
        "id": "cz9LyWDd3kIP"
      },
      "execution_count": null,
      "outputs": []
    },
    {
      "cell_type": "code",
      "source": [
        "import warnings\n",
        "warnings.filterwarnings('ignore')"
      ],
      "metadata": {
        "id": "gtDg8Oyyz__L"
      },
      "execution_count": 2,
      "outputs": []
    },
    {
      "cell_type": "code",
      "source": [
        "import re\n",
        "import glob\n",
        "import time\n",
        "import numpy as np\n",
        "import pandas as pd\n",
        "\n",
        "import networkx as nx\n",
        "\n",
        "from sklearn.decomposition import TruncatedSVD\n",
        "from sklearn.preprocessing import normalize\n",
        "\n",
        "from sklearn.cluster import KMeans\n",
        "from sklearn.cluster import MiniBatchKMeans\n",
        "\n",
        "import seaborn as sns\n",
        "import matplotlib.pyplot as plt\n",
        "from IPython.core.display import display, HTML"
      ],
      "metadata": {
        "id": "TobbrwVl0CWF"
      },
      "execution_count": 3,
      "outputs": []
    },
    {
      "cell_type": "markdown",
      "source": [
        "##Ranking websites by popularity"
      ],
      "metadata": {
        "id": "tRYlC_k-0OTX"
      }
    },
    {
      "cell_type": "markdown",
      "source": [
        "Suppose you wish to estimate the most popular data science website using\n",
        "data that is publicly available. This precludes privately tracked traffic data. \n",
        "\n",
        "What should you do? \n",
        "\n",
        "Network theory offers us a simple way of ranking websites based on\n",
        "their public links.\n",
        "\n",
        "To see how, let’s build a simple network composed of two data science\n",
        "websites: a NumPy tutorial and a SciPy tutorial. \n",
        "\n",
        "In graph theory, these websites\n",
        "are referred to as the nodes in the graph.\n",
        "\n",
        "Nodes are network points that can form connections\n",
        "with each other; these connections are called edges."
      ],
      "metadata": {
        "id": "3zFf2xiyzKY6"
      }
    },
    {
      "cell_type": "code",
      "source": [
        "# Defining a node list\n",
        "nodes = [\"Numpy\", \"SciPy\"]"
      ],
      "metadata": {
        "id": "A0XdlNznztKQ"
      },
      "execution_count": 4,
      "outputs": []
    },
    {
      "cell_type": "code",
      "source": [
        "# Defining an edge list\n",
        "edges = [(1, 0)]  # pointing SciPy to Numpy"
      ],
      "metadata": {
        "id": "phf9Ur3qz80g"
      },
      "execution_count": 5,
      "outputs": []
    },
    {
      "cell_type": "code",
      "source": [
        "# Checking for the existence of an edge\n",
        "def edge_exists(i, j):\n",
        "  return (i, j) in edges\n",
        "\n",
        "assert edge_exists(1, 0)\n",
        "assert not edge_exists(0, 1)"
      ],
      "metadata": {
        "id": "MtQzRkD51MWU"
      },
      "execution_count": 6,
      "outputs": []
    },
    {
      "cell_type": "code",
      "source": [
        "# Tracking nodes and edges using a matrix\n",
        "adjacency_matrix = np.zeros((len(nodes), len(nodes)))\n",
        "\n",
        "for i, j in edges:\n",
        "  adjacency_matrix[i][j] = 1\n",
        "\n",
        "assert adjacency_matrix[1][0]\n",
        "assert not adjacency_matrix[0][1]\n",
        "\n",
        "print(adjacency_matrix)"
      ],
      "metadata": {
        "id": "O70o2CdX12f9",
        "outputId": "2e67a19d-930f-4788-b0da-da69710bc651",
        "colab": {
          "base_uri": "https://localhost:8080/"
        }
      },
      "execution_count": 7,
      "outputs": [
        {
          "output_type": "stream",
          "name": "stdout",
          "text": [
            "[[0. 0.]\n",
            " [1. 0.]]\n"
          ]
        }
      ]
    },
    {
      "cell_type": "code",
      "source": [
        "# Adding an edge to the adjacency matrix\n",
        "adjacency_matrix[0][1] = 1  # pointing Numpy to SciPy\n",
        "print(adjacency_matrix)"
      ],
      "metadata": {
        "id": "aoa09hYO2jp9",
        "outputId": "5b9b072f-a3ee-4871-9b19-40e9aaaa8b48",
        "colab": {
          "base_uri": "https://localhost:8080/"
        }
      },
      "execution_count": 8,
      "outputs": [
        {
          "output_type": "stream",
          "name": "stdout",
          "text": [
            "[[0. 1.]\n",
            " [1. 0.]]\n"
          ]
        }
      ]
    },
    {
      "cell_type": "markdown",
      "source": [
        "Suppose we wish to expand our website network by adding two more data science sites\n",
        "that discuss Pandas and Matplotlib. \n",
        "\n",
        "Adding them will increase our node count from\n",
        "two to four, so we need to expand the adjacency matrix dimensions from two-by-two to four-by-four.\n",
        "\n",
        "Unfortunately, in NumPy, it’s hard to resize a matrix\n",
        "while maintaining all existing matrix values—NumPy is not designed to easily handle\n",
        "growing arrays whose shape is constantly expanding.\n",
        "\n",
        "Therefore,\n",
        "NumPy is not the best tool for analyzing expanding networks. \n",
        "\n",
        "What should we do?\n",
        "\n",
        "We need to switch to a different Python library. NetworkX is an external library that\n",
        "allows for easy network modification. \n",
        "\n",
        "It also provides additional useful features, including\n",
        "network visualization.\n",
        "\n"
      ],
      "metadata": {
        "id": "O0hTsaWR292X"
      }
    },
    {
      "cell_type": "markdown",
      "source": [
        "##NetworkX"
      ],
      "metadata": {
        "id": "1walQRvn3cvq"
      }
    },
    {
      "cell_type": "code",
      "source": [
        "# Initializing a directed graph object\n",
        "G = nx.DiGraph()"
      ],
      "metadata": {
        "id": "_paBFvDe3dn5"
      },
      "execution_count": 9,
      "outputs": []
    },
    {
      "cell_type": "code",
      "source": [
        "# Adding a single node to a graph object\n",
        "G.add_node(0)\n",
        "print(nx.to_numpy_array(G))"
      ],
      "metadata": {
        "id": "ru8nYyQPGztc",
        "outputId": "afdfa92a-6bd1-400e-c63a-1885efb2fe5c",
        "colab": {
          "base_uri": "https://localhost:8080/"
        }
      },
      "execution_count": 10,
      "outputs": [
        {
          "output_type": "stream",
          "name": "stdout",
          "text": [
            "[[0.]]\n"
          ]
        }
      ]
    },
    {
      "cell_type": "code",
      "source": [
        "# Adding an attribute to an existing node\n",
        "def print_node_attributes():\n",
        "  for i in G.nodes:\n",
        "    print(f\"The attribute dictionary at node {i} is {G.nodes[i]}\")"
      ],
      "metadata": {
        "id": "OoskinK7I9R0"
      },
      "execution_count": 11,
      "outputs": []
    },
    {
      "cell_type": "code",
      "source": [
        "print_node_attributes()\n",
        "\n",
        "G.nodes[0][\"webpage\"] = \"NumPy\"\n",
        "print(f\"\\nWe've added a webpage to node 0\")\n",
        "print_node_attributes()"
      ],
      "metadata": {
        "id": "_ff9EbzSJQOe",
        "outputId": "2a710878-0387-434d-e6de-7b12ef5c7373",
        "colab": {
          "base_uri": "https://localhost:8080/"
        }
      },
      "execution_count": 12,
      "outputs": [
        {
          "output_type": "stream",
          "name": "stdout",
          "text": [
            "The attribute dictionary at node 0 is {}\n",
            "\n",
            "We've added a webpage to node 0\n",
            "The attribute dictionary at node 0 is {'webpage': 'NumPy'}\n"
          ]
        }
      ]
    },
    {
      "cell_type": "code",
      "source": [
        "# Adding a node with an attribute\n",
        "G.add_node(1, webpage=\"SciPy\")\n",
        "print_node_attributes()"
      ],
      "metadata": {
        "id": "TZ78A6lnJpjw",
        "outputId": "f5e33ab7-3c5a-4f9d-937d-92c9ce7f0d3b",
        "colab": {
          "base_uri": "https://localhost:8080/"
        }
      },
      "execution_count": 13,
      "outputs": [
        {
          "output_type": "stream",
          "name": "stdout",
          "text": [
            "The attribute dictionary at node 0 is {'webpage': 'NumPy'}\n",
            "The attribute dictionary at node 1 is {'webpage': 'SciPy'}\n"
          ]
        }
      ]
    },
    {
      "cell_type": "code",
      "source": [
        "# Outputting nodes together with their attributes\n",
        "print(G.nodes(data=True))"
      ],
      "metadata": {
        "id": "IcrHx_ESJ-LN",
        "outputId": "311aee1e-e4e3-41fe-f982-82af5aad4504",
        "colab": {
          "base_uri": "https://localhost:8080/"
        }
      },
      "execution_count": 14,
      "outputs": [
        {
          "output_type": "stream",
          "name": "stdout",
          "text": [
            "[(0, {'webpage': 'NumPy'}), (1, {'webpage': 'SciPy'})]\n"
          ]
        }
      ]
    },
    {
      "cell_type": "code",
      "source": [
        "# Adding a single edge to a graph object\n",
        "G.add_edge(1, 0)\n",
        "print(nx.to_numpy_array(G))"
      ],
      "metadata": {
        "id": "JaVnNRM4KCNS",
        "outputId": "a7bd0d3b-0d56-43c2-9170-7b202144a451",
        "colab": {
          "base_uri": "https://localhost:8080/"
        }
      },
      "execution_count": 15,
      "outputs": [
        {
          "output_type": "stream",
          "name": "stdout",
          "text": [
            "[[0. 0.]\n",
            " [1. 0.]]\n"
          ]
        }
      ]
    },
    {
      "cell_type": "markdown",
      "source": [
        "From the printed adjacency matrix, we can observe an edge going from Node 1 to\n",
        "Node 0. \n",
        "\n",
        "Unfortunately, our matrix printouts will grow cumbersome as other nodes are\n",
        "added."
      ],
      "metadata": {
        "id": "GAz8fGmtKfNW"
      }
    },
    {
      "cell_type": "code",
      "source": [
        "# Plotting a graph object\n",
        "np.random.seed(0)\n",
        "\n",
        "nx.draw(G)\n",
        "plt.show()"
      ],
      "metadata": {
        "id": "LMqgQLp6KO8f",
        "outputId": "669a415f-89e3-4bf0-9444-24c9aea56dea",
        "colab": {
          "base_uri": "https://localhost:8080/",
          "height": 319
        }
      },
      "execution_count": 16,
      "outputs": [
        {
          "output_type": "display_data",
          "data": {
            "text/plain": [
              "<Figure size 432x288 with 1 Axes>"
            ],
            "image/png": "[encoded data removed]"
          },
          "metadata": {}
        }
      ]
    },
    {
      "cell_type": "code",
      "source": [
        "# Tweaking the graph visualization\n",
        "np.random.seed(0)\n",
        "\n",
        "labels = {i: G.nodes[i][\"webpage\"] for i in G.nodes}\n",
        "nx.draw(G, labels=labels, arrowsize=20)\n",
        "plt.show()"
      ],
      "metadata": {
        "id": "TFwAEZTuKpFm",
        "outputId": "2c799d76-26c8-4cde-fa49-200e5f60b923",
        "colab": {
          "base_uri": "https://localhost:8080/",
          "height": 319
        }
      },
      "execution_count": 17,
      "outputs": [
        {
          "output_type": "display_data",
          "data": {
            "text/plain": [
              "<Figure size 432x288 with 1 Axes>"
            ],
            "image/png": "[encoded data removed]"
          },
          "metadata": {}
        }
      ]
    },
    {
      "cell_type": "code",
      "source": [
        "# Altering the node color\n",
        "np.random.seed(0)\n",
        "\n",
        "nx.draw(G, labels=labels, arrowsize=20, node_color=\"cyan\")\n",
        "plt.show()"
      ],
      "metadata": {
        "id": "ATDpkghQLDhx",
        "outputId": "e61ad79f-6c48-4bf1-db51-b715fa160959",
        "colab": {
          "base_uri": "https://localhost:8080/",
          "height": 319
        }
      },
      "execution_count": 18,
      "outputs": [
        {
          "output_type": "display_data",
          "data": {
            "text/plain": [
              "<Figure size 432x288 with 1 Axes>"
            ],
            "image/png": "[encoded data removed]"
          },
          "metadata": {}
        }
      ]
    },
    {
      "cell_type": "code",
      "source": [
        "# Adding a back-link between web pages\n",
        "np.random.seed(0)\n",
        "\n",
        "G.add_edge(0, 1)\n",
        "nx.draw(G, labels=labels, arrowsize=20, node_color=\"cyan\")\n",
        "plt.show()"
      ],
      "metadata": {
        "id": "HIKP4vShLsPI",
        "outputId": "d6653b36-0a95-457c-c3a0-fc7b616bf584",
        "colab": {
          "base_uri": "https://localhost:8080/",
          "height": 319
        }
      },
      "execution_count": 19,
      "outputs": [
        {
          "output_type": "display_data",
          "data": {
            "text/plain": [
              "<Figure size 432x288 with 1 Axes>"
            ],
            "image/png": "[encoded data removed]"
          },
          "metadata": {}
        }
      ]
    }
  ]
}