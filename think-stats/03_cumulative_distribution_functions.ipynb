{
  "nbformat": 4,
  "nbformat_minor": 0,
  "metadata": {
    "colab": {
      "provenance": [],
      "toc_visible": true,
      "authorship_tag": "ABX9TyPjQk5AhUIaFtIrFxZlQgEB",
      "include_colab_link": true
    },
    "kernelspec": {
      "name": "python3",
      "display_name": "Python 3"
    },
    "language_info": {
      "name": "python"
    }
  },
  "cells": [
    {
      "cell_type": "markdown",
      "metadata": {
        "id": "view-in-github",
        "colab_type": "text"
      },
      "source": [
        "<a href=\"https://colab.research.google.com/github/rahiakela/data-science-research-and-practice/blob/main/think-stats/03_cumulative_distribution_functions.ipynb\" target=\"_parent\"><img src=\"https://colab.research.google.com/assets/colab-badge.svg\" alt=\"Open In Colab\"/></a>"
      ]
    },
    {
      "cell_type": "markdown",
      "source": [
        "##Setup"
      ],
      "metadata": {
        "id": "kUEylOWeaPXy"
      }
    },
    {
      "cell_type": "code",
      "source": [
        "import numpy as np\n",
        "from os.path import basename, exists"
      ],
      "metadata": {
        "id": "yLhKEsm4aZYh"
      },
      "execution_count": 1,
      "outputs": []
    },
    {
      "cell_type": "code",
      "source": [
        "def download(url):\n",
        "    filename = basename(url)\n",
        "    if not exists(filename):\n",
        "        from urllib.request import urlretrieve\n",
        "\n",
        "        local, _ = urlretrieve(url, filename)\n",
        "        print(\"Downloaded \" + local)"
      ],
      "metadata": {
        "id": "Y2SoqKc2ae2A"
      },
      "execution_count": 2,
      "outputs": []
    },
    {
      "cell_type": "code",
      "source": [
        "download(\"https://github.com/AllenDowney/ThinkStats2/raw/master/code/thinkstats2.py\")\n",
        "download(\"https://github.com/AllenDowney/ThinkStats2/raw/master/code/thinkplot.py\")\n",
        "download(\"https://github.com/AllenDowney/ThinkStats2/raw/master/code/nsfg.py\")\n",
        "download(\"https://github.com/AllenDowney/ThinkStats2/raw/master/code/first.py\")\n",
        "\n",
        "download(\"https://github.com/AllenDowney/ThinkStats2/raw/master/code/2002FemPreg.dct\")\n",
        "download(\"https://github.com/AllenDowney/ThinkStats2/raw/master/code/2002FemPreg.dat.gz\")"
      ],
      "metadata": {
        "colab": {
          "base_uri": "https://localhost:8080/"
        },
        "id": "0v2fHobkagxC",
        "outputId": "46c6994a-1743-49fb-b8b6-f43407b36beb"
      },
      "execution_count": 3,
      "outputs": [
        {
          "output_type": "stream",
          "name": "stdout",
          "text": [
            "Downloaded thinkstats2.py\n",
            "Downloaded thinkplot.py\n",
            "Downloaded nsfg.py\n",
            "Downloaded first.py\n",
            "Downloaded 2002FemPreg.dct\n",
            "Downloaded 2002FemPreg.dat.gz\n"
          ]
        }
      ]
    },
    {
      "cell_type": "code",
      "source": [
        "from collections import Counter\n",
        "\n",
        "import numpy as np\n",
        "import pandas as pd\n",
        "\n",
        "import nsfg\n",
        "import first\n",
        "import thinkstats2\n",
        "import thinkplot"
      ],
      "metadata": {
        "id": "DHW6_WCZapSz"
      },
      "execution_count": 4,
      "outputs": []
    },
    {
      "cell_type": "markdown",
      "source": [
        "##Limits of PMFs"
      ],
      "metadata": {
        "id": "5Ihk8xtSvKFJ"
      }
    },
    {
      "cell_type": "code",
      "source": [
        "# One more time, I'll load the data from the NSFG.\n",
        "live, firsts, others = first.MakeFrames()"
      ],
      "metadata": {
        "id": "xp2HxYe0vOK-"
      },
      "execution_count": 5,
      "outputs": []
    },
    {
      "cell_type": "code",
      "source": [
        "# And compute the distribution of birth weight for first babies and others\n",
        "first_wgt = firsts.totalwgt_lb\n",
        "first_wgt_dropna = first_wgt.dropna()\n",
        "print(f\"Firsts {len(first_wgt)}, {len(first_wgt_dropna)}\")\n",
        "\n",
        "other_wgt  = others.totalwgt_lb\n",
        "other_wgt_dropna  = other_wgt .dropna()\n",
        "print(f\"Others {len(other_wgt)}, {len(other_wgt_dropna )}\")\n",
        "\n",
        "first_pmf = thinkstats2.Pmf(first_wgt_dropna, label='first')\n",
        "other_pmf = thinkstats2.Pmf(other_wgt_dropna, label='other')"
      ],
      "metadata": {
        "colab": {
          "base_uri": "https://localhost:8080/"
        },
        "id": "_8Xslfb3APqn",
        "outputId": "a56d2614-7c5c-4621-bc82-e09e4aa9b6dc"
      },
      "execution_count": 6,
      "outputs": [
        {
          "output_type": "stream",
          "name": "stdout",
          "text": [
            "Firsts 4413, 4363\n",
            "Others 4735, 4675\n"
          ]
        }
      ]
    },
    {
      "cell_type": "markdown",
      "source": [
        "We can plot the PMFs on the same scale, but it is hard to see if there is a difference."
      ],
      "metadata": {
        "id": "r7pjaJFjwKUf"
      }
    },
    {
      "cell_type": "code",
      "source": [
        "width = .4 / 16\n",
        "\n",
        "# plot PMFs of birth weights for first babies and others\n",
        "thinkplot.PrePlot(2)\n",
        "thinkplot.Hist(first_pmf, align=\"right\", width=width)\n",
        "thinkplot.Hist(other_pmf, align=\"left\", width=width)\n",
        "thinkplot.Config(xlabel=\"Weight (pounds)\", ylabel=\"Count\")"
      ],
      "metadata": {
        "colab": {
          "base_uri": "https://localhost:8080/",
          "height": 449
        },
        "id": "gLpj92y8wFgo",
        "outputId": "adce24e4-2221-459c-991e-97fed6d90003"
      },
      "execution_count": 7,
      "outputs": [
        {
          "output_type": "display_data",
          "data": {
            "text/plain": [
              "<Figure size 640x480 with 1 Axes>"
            ],
            "image/png": "[encoded data removed]"
          },
          "metadata": {}
        }
      ]
    },
    {
      "cell_type": "markdown",
      "source": [
        "##Percentiles"
      ],
      "metadata": {
        "id": "NL8KEnEybcJb"
      }
    },
    {
      "cell_type": "markdown",
      "source": [
        "Percentile Rank computes the fraction of scores less than or equal to `your_score`."
      ],
      "metadata": {
        "id": "2aRgzf7sxIKf"
      }
    },
    {
      "cell_type": "code",
      "source": [
        "def percentile_rank(scores, your_score):\n",
        "    count = 0\n",
        "    for score in scores:\n",
        "        if score <= your_score:\n",
        "            count += 1\n",
        "\n",
        "    percentile_rank = 100.0 * count / len(scores)\n",
        "    return percentile_rank"
      ],
      "metadata": {
        "id": "CWbKkLiZbnPK"
      },
      "execution_count": 8,
      "outputs": []
    },
    {
      "cell_type": "code",
      "source": [
        "# If this is the list of scores.\n",
        "t = [55, 66, 77, 88, 99]"
      ],
      "metadata": {
        "id": "JTRSASDzyofu"
      },
      "execution_count": 9,
      "outputs": []
    },
    {
      "cell_type": "code",
      "source": [
        "# If you got the 88, your percentile rank is 80.\n",
        "percentile_rank(t, 88)"
      ],
      "metadata": {
        "colab": {
          "base_uri": "https://localhost:8080/"
        },
        "id": "wD1qFN77yuth",
        "outputId": "bf1e50a7-bd75-427c-db0d-5b8999ade303"
      },
      "execution_count": 10,
      "outputs": [
        {
          "output_type": "execute_result",
          "data": {
            "text/plain": [
              "80.0"
            ]
          },
          "metadata": {},
          "execution_count": 10
        }
      ]
    },
    {
      "cell_type": "code",
      "source": [
        "def percentile(scores, p_rank):\n",
        "    scores.sort()\n",
        "    for score in scores:\n",
        "        if percentile_rank(scores, score) >= p_rank:\n",
        "            return score"
      ],
      "metadata": {
        "id": "tQ2vDd1Ny1da"
      },
      "execution_count": 11,
      "outputs": []
    },
    {
      "cell_type": "code",
      "source": [
        "# The median is the 50th percentile, which is 77.\n",
        "percentile(t, 50)"
      ],
      "metadata": {
        "colab": {
          "base_uri": "https://localhost:8080/"
        },
        "id": "fi7Knd_ky4L8",
        "outputId": "f0a3ef27-10e9-48a5-e251-b5cefb09639e"
      },
      "execution_count": 12,
      "outputs": [
        {
          "output_type": "execute_result",
          "data": {
            "text/plain": [
              "77"
            ]
          },
          "metadata": {},
          "execution_count": 12
        }
      ]
    },
    {
      "cell_type": "markdown",
      "source": [
        "Here's a more efficient way to compute percentiles."
      ],
      "metadata": {
        "id": "MeRwwOnLzRV0"
      }
    },
    {
      "cell_type": "code",
      "source": [
        "def percentile2(scores, p_rank):\n",
        "    scores.sort()\n",
        "    index = p_rank * (len(scores)-1) // 100\n",
        "    return scores[int(index)]"
      ],
      "metadata": {
        "id": "yYZnhssPzRvv"
      },
      "execution_count": 13,
      "outputs": []
    },
    {
      "cell_type": "code",
      "source": [
        "# Let's hope we get the same answer.\n",
        "percentile2(t, 50)"
      ],
      "metadata": {
        "colab": {
          "base_uri": "https://localhost:8080/"
        },
        "id": "m8tPg27lzZZ4",
        "outputId": "d793bfa9-5bef-4f0c-c1c0-7809538e566a"
      },
      "execution_count": 14,
      "outputs": [
        {
          "output_type": "execute_result",
          "data": {
            "text/plain": [
              "77"
            ]
          },
          "metadata": {},
          "execution_count": 14
        }
      ]
    },
    {
      "cell_type": "markdown",
      "source": [
        "##CDF"
      ],
      "metadata": {
        "id": "Ukqf2gkMzlh6"
      }
    },
    {
      "cell_type": "markdown",
      "source": [
        "The Cumulative Distribution Function (CDF) is almost the same as `PercentileRank`. The only difference is that the result is `0-1` instead of `0-100`."
      ],
      "metadata": {
        "id": "dvjdKMfZzmX4"
      }
    },
    {
      "cell_type": "code",
      "source": [
        "def eval_cdf(sample, x):\n",
        "    count = 0.0\n",
        "    for value in sample:\n",
        "        if value <= x:\n",
        "            count += 1\n",
        "    prob = count / len(sample)\n",
        "    return prob"
      ],
      "metadata": {
        "id": "SAtWyMfYcyIx"
      },
      "execution_count": 15,
      "outputs": []
    },
    {
      "cell_type": "code",
      "source": [
        "t = [1, 2, 2, 3, 5]"
      ],
      "metadata": {
        "id": "9jo6Wd9sc2C2"
      },
      "execution_count": 16,
      "outputs": []
    },
    {
      "cell_type": "code",
      "source": [
        "# We can evaluate the CDF for various values\n",
        "eval_cdf(t, 0), eval_cdf(t, 1), eval_cdf(t, 2), eval_cdf(t, 3), eval_cdf(t, 4), eval_cdf(t, 5)"
      ],
      "metadata": {
        "id": "o6zThgDPc7uP",
        "outputId": "7a2aa06e-e0c6-4073-a1d9-5bf39fb4957a",
        "colab": {
          "base_uri": "https://localhost:8080/"
        }
      },
      "execution_count": 17,
      "outputs": [
        {
          "output_type": "execute_result",
          "data": {
            "text/plain": [
              "(0.0, 0.2, 0.6, 0.8, 0.8, 1.0)"
            ]
          },
          "metadata": {},
          "execution_count": 17
        }
      ]
    },
    {
      "cell_type": "markdown",
      "source": [
        "Here's an example using real data, the distribution of pregnancy length for live births."
      ],
      "metadata": {
        "id": "cUsK1Ps5dNY3"
      }
    },
    {
      "cell_type": "code",
      "source": [
        "cdf = thinkstats2.Cdf(live.prglngth, label=\"prglngth\")\n",
        "thinkplot.Cdf(cdf)\n",
        "thinkplot.Config(xlabel=\"Pregnancy length (weeks)\", ylabel=\"CDF\", loc=\"upper left\")"
      ],
      "metadata": {
        "colab": {
          "base_uri": "https://localhost:8080/",
          "height": 449
        },
        "id": "82hqIwEib0zD",
        "outputId": "f8c0c49d-6eb2-4ea5-bf98-a01c723ad079"
      },
      "execution_count": 18,
      "outputs": [
        {
          "output_type": "display_data",
          "data": {
            "text/plain": [
              "<Figure size 640x480 with 1 Axes>"
            ],
            "image/png": "[encoded data removed]"
          },
          "metadata": {}
        }
      ]
    },
    {
      "cell_type": "markdown",
      "source": [
        "`Cdf` provides `Prob`, which evaluates the CDF; that is, it computes the fraction of values less than or equal to the given value.\n",
        "\n",
        "For example, 94% of pregnancy lengths are less than or equal to 41."
      ],
      "metadata": {
        "id": "72utBtLGDbCo"
      }
    },
    {
      "cell_type": "code",
      "source": [
        "cdf.Prob(41)"
      ],
      "metadata": {
        "colab": {
          "base_uri": "https://localhost:8080/"
        },
        "id": "p_X2PF6KDdFd",
        "outputId": "08ac511f-338b-40af-f81a-d9053837b49c"
      },
      "execution_count": 19,
      "outputs": [
        {
          "output_type": "execute_result",
          "data": {
            "text/plain": [
              "0.9406427634455619"
            ]
          },
          "metadata": {},
          "execution_count": 19
        }
      ]
    },
    {
      "cell_type": "code",
      "source": [
        "cdf.Prob(40)"
      ],
      "metadata": {
        "id": "X0Iu8gMXjskI",
        "outputId": "e94a2913-e179-49ee-8a60-5d207762e35c",
        "colab": {
          "base_uri": "https://localhost:8080/"
        }
      },
      "execution_count": 20,
      "outputs": [
        {
          "output_type": "execute_result",
          "data": {
            "text/plain": [
              "0.8764757324005247"
            ]
          },
          "metadata": {},
          "execution_count": 20
        }
      ]
    },
    {
      "cell_type": "code",
      "source": [
        "cdf.Prob(39)"
      ],
      "metadata": {
        "id": "rRzrd-aXjunZ",
        "outputId": "45d00389-0944-493f-fb3b-061426a3a1bc",
        "colab": {
          "base_uri": "https://localhost:8080/"
        }
      },
      "execution_count": 21,
      "outputs": [
        {
          "output_type": "execute_result",
          "data": {
            "text/plain": [
              "0.7544818539571491"
            ]
          },
          "metadata": {},
          "execution_count": 21
        }
      ]
    },
    {
      "cell_type": "code",
      "source": [
        "cdf.Prob(38)"
      ],
      "metadata": {
        "id": "PCwZBu7tjwpK",
        "outputId": "716d96c9-b72c-4cdf-a544-58ab30d5c6a9",
        "colab": {
          "base_uri": "https://localhost:8080/"
        }
      },
      "execution_count": 22,
      "outputs": [
        {
          "output_type": "execute_result",
          "data": {
            "text/plain": [
              "0.2414735461303017"
            ]
          },
          "metadata": {},
          "execution_count": 22
        }
      ]
    },
    {
      "cell_type": "markdown",
      "source": [
        "`Value` evaluates the inverse CDF; given a fraction, it computes the corresponding value.\n",
        "\n",
        "For example, the median is the value that corresponds to 0.5."
      ],
      "metadata": {
        "id": "5so-P-77Dpnl"
      }
    },
    {
      "cell_type": "code",
      "source": [
        "cdf.Value(0.94)"
      ],
      "metadata": {
        "colab": {
          "base_uri": "https://localhost:8080/"
        },
        "id": "0BPnPIBjDsrY",
        "outputId": "c678422f-1f87-44bf-f5c9-6d353b8e6345"
      },
      "execution_count": 23,
      "outputs": [
        {
          "output_type": "execute_result",
          "data": {
            "text/plain": [
              "41"
            ]
          },
          "metadata": {},
          "execution_count": 23
        }
      ]
    },
    {
      "cell_type": "code",
      "source": [
        "cdf.Value(0.87)"
      ],
      "metadata": {
        "colab": {
          "base_uri": "https://localhost:8080/"
        },
        "id": "CTOMLHOcDxYS",
        "outputId": "1ba9f811-9bbf-4230-bd1a-70553590eaa8"
      },
      "execution_count": 24,
      "outputs": [
        {
          "output_type": "execute_result",
          "data": {
            "text/plain": [
              "40"
            ]
          },
          "metadata": {},
          "execution_count": 24
        }
      ]
    },
    {
      "cell_type": "code",
      "source": [
        "cdf.Value(0.75)"
      ],
      "metadata": {
        "colab": {
          "base_uri": "https://localhost:8080/"
        },
        "id": "sRfkbJX9D2fv",
        "outputId": "c2d36451-94a6-4dad-b13b-0ecb99e25e47"
      },
      "execution_count": 25,
      "outputs": [
        {
          "output_type": "execute_result",
          "data": {
            "text/plain": [
              "39"
            ]
          },
          "metadata": {},
          "execution_count": 25
        }
      ]
    },
    {
      "cell_type": "code",
      "source": [
        "cdf.Value(0.24)"
      ],
      "metadata": {
        "colab": {
          "base_uri": "https://localhost:8080/"
        },
        "id": "zCLn9EFwD6np",
        "outputId": "0117d20f-14d1-4f84-e027-0235f5901df4"
      },
      "execution_count": 26,
      "outputs": [
        {
          "output_type": "execute_result",
          "data": {
            "text/plain": [
              "38"
            ]
          },
          "metadata": {},
          "execution_count": 26
        }
      ]
    },
    {
      "cell_type": "markdown",
      "source": [
        "##Comparing CDFs"
      ],
      "metadata": {
        "id": "eMEVMgzSlFKW"
      }
    },
    {
      "cell_type": "markdown",
      "source": [
        "In general, CDFs are a good way to visualize distributions. They are not as noisy as PMFs, and if you plot several CDFs on the same axes, any differences between them are apparent."
      ],
      "metadata": {
        "id": "SJ8Vaj6zEJqv"
      }
    },
    {
      "cell_type": "code",
      "source": [
        "first_cdf = thinkstats2.Cdf(firsts.totalwgt_lb, label=\"first\")\n",
        "other_cdf = thinkstats2.Cdf(others.totalwgt_lb, label=\"other\")\n",
        "\n",
        "thinkplot.PrePlot(2)\n",
        "thinkplot.Cdfs([first_cdf, other_cdf])\n",
        "thinkplot.Config(xlabel=\"Weight (pounds)\", ylabel=\"CDF\")"
      ],
      "metadata": {
        "colab": {
          "base_uri": "https://localhost:8080/",
          "height": 449
        },
        "id": "QWg_nfe-EVkJ",
        "outputId": "74f6afe6-5496-45d3-d5a5-1be137dc40a4"
      },
      "execution_count": 27,
      "outputs": [
        {
          "output_type": "display_data",
          "data": {
            "text/plain": [
              "<Figure size 640x480 with 1 Axes>"
            ],
            "image/png": "[encoded data removed]"
          },
          "metadata": {}
        }
      ]
    },
    {
      "cell_type": "markdown",
      "source": [
        "##Percentile-Based Statistics"
      ],
      "metadata": {
        "id": "lYJz8N2bcPP0"
      }
    },
    {
      "cell_type": "code",
      "source": [
        "# We can use the CDF of birth weight to compute percentile-based statistics.\n",
        "weights = live.totalwgt_lb\n",
        "live_cdf = thinkstats2.Cdf(weights, label=\"live\")"
      ],
      "metadata": {
        "id": "RRx4TI7hcDpp"
      },
      "execution_count": 28,
      "outputs": []
    },
    {
      "cell_type": "code",
      "source": [
        "# Again, the median is the 50th percentile.\n",
        "median = live_cdf.Percentile(50)\n",
        "median"
      ],
      "metadata": {
        "colab": {
          "base_uri": "https://localhost:8080/"
        },
        "id": "VbIZgV1Dcb-6",
        "outputId": "f4d9d551-684e-4690-c09f-225ea0dc652d"
      },
      "execution_count": 29,
      "outputs": [
        {
          "output_type": "execute_result",
          "data": {
            "text/plain": [
              "7.375"
            ]
          },
          "metadata": {},
          "execution_count": 29
        }
      ]
    },
    {
      "cell_type": "code",
      "source": [
        "# The interquartile range is the interval from the 25th to 75th percentile.\n",
        "iqr = (live_cdf.Percentile(25), live_cdf.Percentile(75))\n",
        "iqr"
      ],
      "metadata": {
        "colab": {
          "base_uri": "https://localhost:8080/"
        },
        "id": "8HKQftLOck1t",
        "outputId": "f4f3d149-ce65-4e81-8923-e66efe16fc96"
      },
      "execution_count": 30,
      "outputs": [
        {
          "output_type": "execute_result",
          "data": {
            "text/plain": [
              "(6.5, 8.125)"
            ]
          },
          "metadata": {},
          "execution_count": 30
        }
      ]
    },
    {
      "cell_type": "markdown",
      "source": [
        "We can use the CDF to look up the percentile rank of a particular value.\n",
        "\n",
        "For example, my second daughter was 10.2 pounds at birth, which is near the 99th percentile."
      ],
      "metadata": {
        "id": "gbtjWnN8eIa5"
      }
    },
    {
      "cell_type": "code",
      "source": [
        "live_cdf.PercentileRank(10.2)"
      ],
      "metadata": {
        "id": "JUCWFlhAeKKC",
        "outputId": "c750ad4c-b4b7-439d-8d60-38e1ce9d9043",
        "colab": {
          "base_uri": "https://localhost:8080/"
        }
      },
      "execution_count": 31,
      "outputs": [
        {
          "output_type": "execute_result",
          "data": {
            "text/plain": [
              "98.82717415357381"
            ]
          },
          "metadata": {},
          "execution_count": 31
        }
      ]
    },
    {
      "cell_type": "markdown",
      "source": [
        "##Random Numbers"
      ],
      "metadata": {
        "id": "499VQsRNedZw"
      }
    },
    {
      "cell_type": "markdown",
      "source": [
        "If we draw a random sample from the observed weights and map each weigh to its percentile rank."
      ],
      "metadata": {
        "id": "718w7jmJeemY"
      }
    },
    {
      "cell_type": "code",
      "source": [
        "sample = np.random.choice(weights, 100, replace=True)\n",
        "rank = [live_cdf.PercentileRank(x) for x in sample]"
      ],
      "metadata": {
        "id": "rvmnEpnheinn"
      },
      "execution_count": 37,
      "outputs": []
    },
    {
      "cell_type": "markdown",
      "source": [
        "The resulting list of ranks should be approximately uniform from 0-1."
      ],
      "metadata": {
        "id": "0AzEJIHoH9ZM"
      }
    },
    {
      "cell_type": "code",
      "source": [
        "rank_cdf = thinkstats2.Cdf(rank)\n",
        "\n",
        "thinkplot.Cdf(rank_cdf)\n",
        "thinkplot.Config(xlabel=\"Percentile rank\", ylabel=\"CDF\")"
      ],
      "metadata": {
        "id": "8YieTlZEH95L",
        "outputId": "bae2898a-42d4-40a3-f9ce-7edac05d6675",
        "colab": {
          "base_uri": "https://localhost:8080/",
          "height": 449
        }
      },
      "execution_count": 38,
      "outputs": [
        {
          "output_type": "display_data",
          "data": {
            "text/plain": [
              "<Figure size 640x480 with 1 Axes>"
            ],
            "image/png": "[encoded data removed]"
          },
          "metadata": {}
        }
      ]
    },
    {
      "cell_type": "markdown",
      "source": [
        "The CDF is approximately a straight line, which means that\n",
        "the distribution is uniform.\n",
        "\n",
        "That observation is the basis of `Cdf.Sample`, which generates a random sample from a Cdf. Here's an example."
      ],
      "metadata": {
        "id": "hrnPaMpYKAuV"
      }
    },
    {
      "cell_type": "code",
      "source": [
        "resample = live_cdf.Sample(1000)\n",
        "\n",
        "thinkplot.Cdf(live_cdf)\n",
        "thinkplot.Cdf(thinkstats2.Cdf(resample, label=\"resample\"))\n",
        "thinkplot.Config(xlabel=\"Birth weight (pounds)\", ylabel=\"CDF\")"
      ],
      "metadata": {
        "id": "S8C4Wh4hKBUK",
        "outputId": "7b6e02bd-7401-435e-e927-a5d3ff083c10",
        "colab": {
          "base_uri": "https://localhost:8080/",
          "height": 449
        }
      },
      "execution_count": 40,
      "outputs": [
        {
          "output_type": "display_data",
          "data": {
            "text/plain": [
              "<Figure size 640x480 with 1 Axes>"
            ],
            "image/png": "[encoded data removed]"
          },
          "metadata": {}
        }
      ]
    },
    {
      "cell_type": "markdown",
      "source": [
        "This confirms that the random sample has the same distribution as the original data."
      ],
      "metadata": {
        "id": "b2QMub_RPP25"
      }
    },
    {
      "cell_type": "markdown",
      "source": [
        "##Exercises"
      ],
      "metadata": {
        "id": "l7xPyKwh9NIZ"
      }
    },
    {
      "cell_type": "code",
      "source": [],
      "metadata": {
        "id": "J1OKWcs7d3BM"
      },
      "execution_count": 34,
      "outputs": []
    },
    {
      "cell_type": "code",
      "source": [],
      "metadata": {
        "id": "r9--Tyd58hL8"
      },
      "execution_count": 34,
      "outputs": []
    }
  ]
}