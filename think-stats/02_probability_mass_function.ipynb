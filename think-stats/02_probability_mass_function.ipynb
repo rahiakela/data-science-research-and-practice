{
  "nbformat": 4,
  "nbformat_minor": 0,
  "metadata": {
    "colab": {
      "provenance": [],
      "toc_visible": true,
      "authorship_tag": "ABX9TyMd7shJ9p8LO4e7ZIzgV0Z4",
      "include_colab_link": true
    },
    "kernelspec": {
      "name": "python3",
      "display_name": "Python 3"
    },
    "language_info": {
      "name": "python"
    }
  },
  "cells": [
    {
      "cell_type": "markdown",
      "metadata": {
        "id": "view-in-github",
        "colab_type": "text"
      },
      "source": [
        "<a href=\"https://colab.research.google.com/github/rahiakela/data-science-research-and-practice/blob/main/think-stats/02_probability_mass_function.ipynb\" target=\"_parent\"><img src=\"https://colab.research.google.com/assets/colab-badge.svg\" alt=\"Open In Colab\"/></a>"
      ]
    },
    {
      "cell_type": "markdown",
      "source": [
        "##Setup"
      ],
      "metadata": {
        "id": "kUEylOWeaPXy"
      }
    },
    {
      "cell_type": "code",
      "source": [
        "import numpy as np\n",
        "from os.path import basename, exists"
      ],
      "metadata": {
        "id": "yLhKEsm4aZYh"
      },
      "execution_count": 1,
      "outputs": []
    },
    {
      "cell_type": "code",
      "source": [
        "def download(url):\n",
        "    filename = basename(url)\n",
        "    if not exists(filename):\n",
        "        from urllib.request import urlretrieve\n",
        "\n",
        "        local, _ = urlretrieve(url, filename)\n",
        "        print(\"Downloaded \" + local)"
      ],
      "metadata": {
        "id": "Y2SoqKc2ae2A"
      },
      "execution_count": 2,
      "outputs": []
    },
    {
      "cell_type": "code",
      "source": [
        "download(\"https://github.com/AllenDowney/ThinkStats2/raw/master/code/thinkstats2.py\")\n",
        "download(\"https://github.com/AllenDowney/ThinkStats2/raw/master/code/thinkplot.py\")\n",
        "download(\"https://github.com/AllenDowney/ThinkStats2/raw/master/code/nsfg.py\")\n",
        "download(\"https://github.com/AllenDowney/ThinkStats2/raw/master/code/first.py\")\n",
        "\n",
        "download(\"https://github.com/AllenDowney/ThinkStats2/raw/master/code/2002FemPreg.dct\")\n",
        "download(\"https://github.com/AllenDowney/ThinkStats2/raw/master/code/2002FemPreg.dat.gz\")"
      ],
      "metadata": {
        "colab": {
          "base_uri": "https://localhost:8080/"
        },
        "id": "0v2fHobkagxC",
        "outputId": "118267ef-5c7a-4bb2-c145-0bc646378dbe"
      },
      "execution_count": 3,
      "outputs": [
        {
          "output_type": "stream",
          "name": "stdout",
          "text": [
            "Downloaded thinkstats2.py\n",
            "Downloaded thinkplot.py\n",
            "Downloaded nsfg.py\n",
            "Downloaded first.py\n",
            "Downloaded 2002FemPreg.dct\n",
            "Downloaded 2002FemPreg.dat.gz\n"
          ]
        }
      ]
    },
    {
      "cell_type": "code",
      "source": [
        "from collections import Counter\n",
        "\n",
        "import numpy as np\n",
        "\n",
        "import nsfg\n",
        "import first\n",
        "import thinkstats2\n",
        "import thinkplot"
      ],
      "metadata": {
        "id": "DHW6_WCZapSz"
      },
      "execution_count": 4,
      "outputs": []
    },
    {
      "cell_type": "code",
      "source": [
        "# agian, let's select live births\n",
        "preg = nsfg.ReadFemPreg()\n",
        "live = preg[preg.outcome ==1]"
      ],
      "metadata": {
        "id": "2JMwBIwMAA9Z"
      },
      "execution_count": 5,
      "outputs": []
    },
    {
      "cell_type": "code",
      "source": [
        "# Here's the histogram of birth weights\n",
        "hist = thinkstats2.Hist(live.birthwgt_lb, label=\"birthwgt_lb\")\n",
        "thinkplot.Hist(hist)\n",
        "thinkplot.Config(xlabel=\"Birth weight (pounds)\", ylabel=\"Count\")"
      ],
      "metadata": {
        "colab": {
          "base_uri": "https://localhost:8080/",
          "height": 0
        },
        "id": "_8Xslfb3APqn",
        "outputId": "631ebcfb-b5ae-41d5-d11f-651343e87b41"
      },
      "execution_count": 6,
      "outputs": [
        {
          "output_type": "display_data",
          "data": {
            "text/plain": [
              "<Figure size 640x480 with 1 Axes>"
            ],
            "image/png": "[encoded data removed]"
          },
          "metadata": {}
        }
      ]
    },
    {
      "cell_type": "markdown",
      "source": [
        "##PMF"
      ],
      "metadata": {
        "id": "NL8KEnEybcJb"
      }
    },
    {
      "cell_type": "markdown",
      "source": [
        "A probability is a frequency expressed as a\n",
        "fraction of the sample size, `n`. To get from frequencies to probabilities, we divide through\n",
        "by `n`, which is called normalization.\n",
        "\n",
        "Another way to represent a distribution is a probability mass function (PMF), which\n",
        "maps from each value to its probability\n",
        "\n",
        "Given a Hist, we can make a dictionary that maps from each value to its probability:"
      ],
      "metadata": {
        "id": "g5dt7HzvbiVc"
      }
    },
    {
      "cell_type": "code",
      "source": [
        "# To normalize the disrtibution, we could divide through by the total count\n",
        "n = hist.Total()\n",
        "pmf = hist.Copy()\n",
        "for x, freq in hist.Items():\n",
        "  pmf[x] = freq / n"
      ],
      "metadata": {
        "id": "CWbKkLiZbnPK"
      },
      "execution_count": 7,
      "outputs": []
    },
    {
      "cell_type": "markdown",
      "source": [
        "The result is a Probability Mass Function (PMF)."
      ],
      "metadata": {
        "id": "gx2NyNu8b-FT"
      }
    },
    {
      "cell_type": "code",
      "source": [
        "thinkplot.Hist(pmf)\n",
        "thinkplot.Config(xlabel=\"Birth weight (pounds)\", ylabel=\"PMF\")"
      ],
      "metadata": {
        "colab": {
          "base_uri": "https://localhost:8080/",
          "height": 0
        },
        "id": "82hqIwEib0zD",
        "outputId": "ede7e7e8-279a-453f-872a-5a8877bfc96d"
      },
      "execution_count": 8,
      "outputs": [
        {
          "output_type": "display_data",
          "data": {
            "text/plain": [
              "<Figure size 640x480 with 1 Axes>"
            ],
            "image/png": "[encoded data removed]"
          },
          "metadata": {}
        }
      ]
    },
    {
      "cell_type": "markdown",
      "source": [
        "More directly, we can create a PMF object."
      ],
      "metadata": {
        "id": "72utBtLGDbCo"
      }
    },
    {
      "cell_type": "code",
      "source": [
        "pmf = thinkstats2.Pmf([1, 2, 2, 3, 5])\n",
        "pmf"
      ],
      "metadata": {
        "colab": {
          "base_uri": "https://localhost:8080/"
        },
        "id": "p_X2PF6KDdFd",
        "outputId": "5505c57b-befe-4260-ff2a-925d26e55183"
      },
      "execution_count": 9,
      "outputs": [
        {
          "output_type": "execute_result",
          "data": {
            "text/plain": [
              "Pmf({1: 0.2, 2: 0.4, 3: 0.2, 5: 0.2})"
            ]
          },
          "metadata": {},
          "execution_count": 9
        }
      ]
    },
    {
      "cell_type": "markdown",
      "source": [
        "The PMF is normalized so total probability is 1."
      ],
      "metadata": {
        "id": "5so-P-77Dpnl"
      }
    },
    {
      "cell_type": "code",
      "source": [
        "pmf.Prob(2)"
      ],
      "metadata": {
        "colab": {
          "base_uri": "https://localhost:8080/"
        },
        "id": "0BPnPIBjDsrY",
        "outputId": "631ed066-4feb-4ffe-8396-aa3a0c9e6d25"
      },
      "execution_count": 10,
      "outputs": [
        {
          "output_type": "execute_result",
          "data": {
            "text/plain": [
              "0.4"
            ]
          },
          "metadata": {},
          "execution_count": 10
        }
      ]
    },
    {
      "cell_type": "code",
      "source": [
        "pmf.Prob(3)"
      ],
      "metadata": {
        "colab": {
          "base_uri": "https://localhost:8080/"
        },
        "id": "CTOMLHOcDxYS",
        "outputId": "d701578d-823d-4656-d2f8-c7989a85ff86"
      },
      "execution_count": 11,
      "outputs": [
        {
          "output_type": "execute_result",
          "data": {
            "text/plain": [
              "0.2"
            ]
          },
          "metadata": {},
          "execution_count": 11
        }
      ]
    },
    {
      "cell_type": "code",
      "source": [
        "pmf[2]"
      ],
      "metadata": {
        "colab": {
          "base_uri": "https://localhost:8080/"
        },
        "id": "sRfkbJX9D2fv",
        "outputId": "5fde5f20-014a-463a-fa2b-c3744e26d3f7"
      },
      "execution_count": 12,
      "outputs": [
        {
          "output_type": "execute_result",
          "data": {
            "text/plain": [
              "0.4"
            ]
          },
          "metadata": {},
          "execution_count": 12
        }
      ]
    },
    {
      "cell_type": "code",
      "source": [
        "pmf[3]"
      ],
      "metadata": {
        "colab": {
          "base_uri": "https://localhost:8080/"
        },
        "id": "zCLn9EFwD6np",
        "outputId": "4937134f-a5fb-4c3c-86e5-c80df2a34111"
      },
      "execution_count": 13,
      "outputs": [
        {
          "output_type": "execute_result",
          "data": {
            "text/plain": [
              "0.2"
            ]
          },
          "metadata": {},
          "execution_count": 13
        }
      ]
    },
    {
      "cell_type": "markdown",
      "source": [
        "The biggest difference is that a Hist maps from values to integer\n",
        "counters; a PMF maps from values to floating-point probabilities.\n",
        "\n",
        "We can modify an existing PMF by incrementing the probability associated with a value"
      ],
      "metadata": {
        "id": "SJ8Vaj6zEJqv"
      }
    },
    {
      "cell_type": "code",
      "source": [
        "pmf.Incr(2, 0.2)\n",
        "pmf[2]"
      ],
      "metadata": {
        "colab": {
          "base_uri": "https://localhost:8080/"
        },
        "id": "QWg_nfe-EVkJ",
        "outputId": "62f7c507-554d-4090-85c4-764cb47919af"
      },
      "execution_count": 14,
      "outputs": [
        {
          "output_type": "execute_result",
          "data": {
            "text/plain": [
              "0.6000000000000001"
            ]
          },
          "metadata": {},
          "execution_count": 14
        }
      ]
    },
    {
      "cell_type": "code",
      "source": [
        "pmf.Incr(3, 0.5)\n",
        "pmf[3]"
      ],
      "metadata": {
        "colab": {
          "base_uri": "https://localhost:8080/"
        },
        "id": "7VYtnPL0EhCc",
        "outputId": "1bc4e7a9-d22f-417b-ae5f-82b50d0482ed"
      },
      "execution_count": 15,
      "outputs": [
        {
          "output_type": "execute_result",
          "data": {
            "text/plain": [
              "0.7"
            ]
          },
          "metadata": {},
          "execution_count": 15
        }
      ]
    },
    {
      "cell_type": "markdown",
      "source": [
        "Or you can multiply a probability by a factor."
      ],
      "metadata": {
        "id": "vZeiHajREo8o"
      }
    },
    {
      "cell_type": "code",
      "source": [
        "pmf.Mult(2, 0.5)\n",
        "pmf[2]"
      ],
      "metadata": {
        "colab": {
          "base_uri": "https://localhost:8080/"
        },
        "id": "VzD_Qfp6Epn5",
        "outputId": "4595336f-df40-4919-f3e2-5d5b438ec4ae"
      },
      "execution_count": 16,
      "outputs": [
        {
          "output_type": "execute_result",
          "data": {
            "text/plain": [
              "0.30000000000000004"
            ]
          },
          "metadata": {},
          "execution_count": 16
        }
      ]
    },
    {
      "cell_type": "markdown",
      "source": [
        "If you modify a PMF, the result may not be normalized; that is, the probabilities may no\n",
        "longer add up to 1.\n",
        "\n",
        "Total returns the total probability (which is no longer 1, because we changed one of the probabilities)."
      ],
      "metadata": {
        "id": "4Zrz2-7TE8Gb"
      }
    },
    {
      "cell_type": "code",
      "source": [
        "pmf.Total()"
      ],
      "metadata": {
        "colab": {
          "base_uri": "https://localhost:8080/"
        },
        "id": "MhEFDBAXFAAt",
        "outputId": "ffe03db4-ab8e-49db-b01e-ca10add425a2"
      },
      "execution_count": 17,
      "outputs": [
        {
          "output_type": "execute_result",
          "data": {
            "text/plain": [
              "1.4"
            ]
          },
          "metadata": {},
          "execution_count": 17
        }
      ]
    },
    {
      "cell_type": "markdown",
      "source": [
        "Normalize divides through by the total probability, making it 1 again."
      ],
      "metadata": {
        "id": "n4vFl0QSFI0D"
      }
    },
    {
      "cell_type": "code",
      "source": [
        "pmf.Normalize()\n",
        "pmf.Total()"
      ],
      "metadata": {
        "colab": {
          "base_uri": "https://localhost:8080/"
        },
        "id": "bVoJpUQaFJb_",
        "outputId": "d6a6d756-1fc7-47df-bfb5-fc76c5e0b7e3"
      },
      "execution_count": 18,
      "outputs": [
        {
          "output_type": "execute_result",
          "data": {
            "text/plain": [
              "1.0"
            ]
          },
          "metadata": {},
          "execution_count": 18
        }
      ]
    },
    {
      "cell_type": "markdown",
      "source": [
        "##Plotting PMFs"
      ],
      "metadata": {
        "id": "lYJz8N2bcPP0"
      }
    },
    {
      "cell_type": "code",
      "source": [
        "# Here's the PMF of pregnancy length for live births\n",
        "pmf = thinkstats2.Pmf(live.prglngth, label=\"prglngth\")"
      ],
      "metadata": {
        "id": "RRx4TI7hcDpp"
      },
      "execution_count": 19,
      "outputs": []
    },
    {
      "cell_type": "code",
      "source": [
        "# Here's what it looks like plotted with Hist, which makes a bar graph\n",
        "thinkplot.Hist(pmf)\n",
        "thinkplot.Config(xlabel=\"Pregnancy length (weeks)\", ylabel=\"PMF\")"
      ],
      "metadata": {
        "colab": {
          "base_uri": "https://localhost:8080/",
          "height": 449
        },
        "id": "VbIZgV1Dcb-6",
        "outputId": "03f2fe9a-9fba-49ac-820f-232a9ed4fc99"
      },
      "execution_count": 20,
      "outputs": [
        {
          "output_type": "display_data",
          "data": {
            "text/plain": [
              "<Figure size 640x480 with 1 Axes>"
            ],
            "image/png": "[encoded data removed]"
          },
          "metadata": {}
        }
      ]
    },
    {
      "cell_type": "code",
      "source": [
        "# Here's what it looks like plotted with Pmf, which makes a step function.\n",
        "thinkplot.Pmf(pmf)\n",
        "thinkplot.Config(xlabel=\"Pregnancy length (weeks)\", ylabel=\"PMF\")"
      ],
      "metadata": {
        "colab": {
          "base_uri": "https://localhost:8080/",
          "height": 449
        },
        "id": "8HKQftLOck1t",
        "outputId": "1eb91cae-9b5d-4e13-d4b2-8057ba32ea31"
      },
      "execution_count": 21,
      "outputs": [
        {
          "output_type": "display_data",
          "data": {
            "text/plain": [
              "<Figure size 640x480 with 1 Axes>"
            ],
            "image/png": "[encoded data removed]"
          },
          "metadata": {}
        }
      ]
    },
    {
      "cell_type": "markdown",
      "source": [
        "We can use MakeFrames to return DataFrames for all live births, first babies, and others."
      ],
      "metadata": {
        "id": "0AzEJIHoH9ZM"
      }
    },
    {
      "cell_type": "code",
      "source": [
        "live, firsts, others = first.MakeFrames()\n",
        "\n",
        "# Here are the distributions of pregnancy length.\n",
        "first_pmf = thinkstats2.Pmf(firsts.prglngth, label=\"firsts\")\n",
        "other_pmf = thinkstats2.Pmf(others.prglngth, label=\"others\")"
      ],
      "metadata": {
        "id": "8YieTlZEH95L"
      },
      "execution_count": 22,
      "outputs": []
    },
    {
      "cell_type": "code",
      "source": [
        "width = 0.45\n",
        "axis = [27, 46, 0, 0.6]\n",
        "\n",
        "thinkplot.PrePlot(2, cols=2)\n",
        "thinkplot.Hist(first_pmf, align=\"right\", width=width)\n",
        "thinkplot.Hist(other_pmf, align=\"left\", width=width)\n",
        "thinkplot.Config(xlabel=\"Pregnancy length(weeks)\", ylabel=\"PMF\", axis=axis)\n",
        "\n",
        "thinkplot.PrePlot(2)\n",
        "thinkplot.SubPlot(2)\n",
        "thinkplot.Pmfs([first_pmf, other_pmf])\n",
        "thinkplot.Config(xlabel=\"Pregnancy length(weeks)\", axis=axis)"
      ],
      "metadata": {
        "id": "34alouUHIaPX",
        "outputId": "3d8c9537-30cd-4a46-e6a1-51625f6e7697",
        "colab": {
          "base_uri": "https://localhost:8080/",
          "height": 470
        }
      },
      "execution_count": 23,
      "outputs": [
        {
          "output_type": "display_data",
          "data": {
            "text/plain": [
              "<Figure size 1200x600 with 2 Axes>"
            ],
            "image/png": "[encoded data removed]"
          },
          "metadata": {}
        }
      ]
    },
    {
      "cell_type": "markdown",
      "source": [
        "##Other Visualizations"
      ],
      "metadata": {
        "id": "hrnPaMpYKAuV"
      }
    },
    {
      "cell_type": "code",
      "source": [],
      "metadata": {
        "id": "S8C4Wh4hKBUK"
      },
      "execution_count": null,
      "outputs": []
    },
    {
      "cell_type": "markdown",
      "source": [
        "##Exercises"
      ],
      "metadata": {
        "id": "l7xPyKwh9NIZ"
      }
    },
    {
      "cell_type": "code",
      "source": [],
      "metadata": {
        "id": "r9--Tyd58hL8"
      },
      "execution_count": null,
      "outputs": []
    }
  ]
}