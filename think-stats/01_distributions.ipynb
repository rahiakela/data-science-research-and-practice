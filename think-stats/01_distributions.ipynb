{
  "nbformat": 4,
  "nbformat_minor": 0,
  "metadata": {
    "colab": {
      "provenance": [],
      "toc_visible": true,
      "authorship_tag": "ABX9TyNRmetVvCJ4EvUYwfyShuPR",
      "include_colab_link": true
    },
    "kernelspec": {
      "name": "python3",
      "display_name": "Python 3"
    },
    "language_info": {
      "name": "python"
    }
  },
  "cells": [
    {
      "cell_type": "markdown",
      "metadata": {
        "id": "view-in-github",
        "colab_type": "text"
      },
      "source": [
        "<a href=\"https://colab.research.google.com/github/rahiakela/data-science-research-and-practice/blob/main/think-stats/01_distributions.ipynb\" target=\"_parent\"><img src=\"https://colab.research.google.com/assets/colab-badge.svg\" alt=\"Open In Colab\"/></a>"
      ]
    },
    {
      "cell_type": "markdown",
      "source": [
        "##Setup"
      ],
      "metadata": {
        "id": "kUEylOWeaPXy"
      }
    },
    {
      "cell_type": "code",
      "source": [
        "import numpy as np\n",
        "from os.path import basename, exists"
      ],
      "metadata": {
        "id": "yLhKEsm4aZYh"
      },
      "execution_count": 1,
      "outputs": []
    },
    {
      "cell_type": "code",
      "source": [
        "def download(url):\n",
        "    filename = basename(url)\n",
        "    if not exists(filename):\n",
        "        from urllib.request import urlretrieve\n",
        "\n",
        "        local, _ = urlretrieve(url, filename)\n",
        "        print(\"Downloaded \" + local)"
      ],
      "metadata": {
        "id": "Y2SoqKc2ae2A"
      },
      "execution_count": 2,
      "outputs": []
    },
    {
      "cell_type": "code",
      "source": [
        "download(\"https://github.com/AllenDowney/ThinkStats2/raw/master/code/thinkstats2.py\")\n",
        "download(\"https://github.com/AllenDowney/ThinkStats2/raw/master/code/thinkplot.py\")\n",
        "download(\"https://github.com/AllenDowney/ThinkStats2/raw/master/code/nsfg.py\")\n",
        "\n",
        "download(\"https://github.com/AllenDowney/ThinkStats2/raw/master/code/2002FemPreg.dct\")\n",
        "download(\"https://github.com/AllenDowney/ThinkStats2/raw/master/code/2002FemPreg.dat.gz\")"
      ],
      "metadata": {
        "colab": {
          "base_uri": "https://localhost:8080/"
        },
        "id": "0v2fHobkagxC",
        "outputId": "a435b3e2-a5c0-418c-9dbf-e67a05253542"
      },
      "execution_count": 3,
      "outputs": [
        {
          "output_type": "stream",
          "name": "stdout",
          "text": [
            "Downloaded thinkstats2.py\n",
            "Downloaded thinkplot.py\n",
            "Downloaded nsfg.py\n",
            "Downloaded 2002FemPreg.dct\n",
            "Downloaded 2002FemPreg.dat.gz\n"
          ]
        }
      ]
    },
    {
      "cell_type": "code",
      "source": [
        "from collections import Counter\n",
        "\n",
        "import thinkstats2\n",
        "import thinkplot\n",
        "import nsfg"
      ],
      "metadata": {
        "id": "DHW6_WCZapSz"
      },
      "execution_count": 4,
      "outputs": []
    },
    {
      "cell_type": "markdown",
      "source": [
        "##Distributions"
      ],
      "metadata": {
        "id": "NL8KEnEybcJb"
      }
    },
    {
      "cell_type": "markdown",
      "source": [
        "Given a list of values, there are several ways to count the frequency of each value."
      ],
      "metadata": {
        "id": "g5dt7HzvbiVc"
      }
    },
    {
      "cell_type": "code",
      "source": [
        "t = [1, 2, 3, 4, 5]"
      ],
      "metadata": {
        "id": "5e8yIzvFbcrM"
      },
      "execution_count": 5,
      "outputs": []
    },
    {
      "cell_type": "markdown",
      "source": [
        "You can use a Python dictionary."
      ],
      "metadata": {
        "id": "nmVEpA75bsjs"
      }
    },
    {
      "cell_type": "code",
      "source": [
        "hist = {}\n",
        "for x in t:\n",
        "  hist[x] = hist.get(x, 0) + 1\n",
        "hist"
      ],
      "metadata": {
        "colab": {
          "base_uri": "https://localhost:8080/"
        },
        "id": "CWbKkLiZbnPK",
        "outputId": "03b62c8a-28e5-4338-aae5-592f159b21ac"
      },
      "execution_count": 6,
      "outputs": [
        {
          "output_type": "execute_result",
          "data": {
            "text/plain": [
              "{1: 1, 2: 1, 3: 1, 4: 1, 5: 1}"
            ]
          },
          "metadata": {},
          "execution_count": 6
        }
      ]
    },
    {
      "cell_type": "markdown",
      "source": [
        "You can use a Counter (which is a dictionary with additional methods):"
      ],
      "metadata": {
        "id": "gx2NyNu8b-FT"
      }
    },
    {
      "cell_type": "code",
      "source": [
        "counter = Counter(t)\n",
        "counter"
      ],
      "metadata": {
        "colab": {
          "base_uri": "https://localhost:8080/"
        },
        "id": "82hqIwEib0zD",
        "outputId": "66d2d3ac-cc4f-47b9-afa1-61f7a248b628"
      },
      "execution_count": 7,
      "outputs": [
        {
          "output_type": "execute_result",
          "data": {
            "text/plain": [
              "Counter({1: 1, 2: 1, 3: 1, 4: 1, 5: 1})"
            ]
          },
          "metadata": {},
          "execution_count": 7
        }
      ]
    },
    {
      "cell_type": "markdown",
      "source": [
        "##Representing Histograms"
      ],
      "metadata": {
        "id": "lYJz8N2bcPP0"
      }
    },
    {
      "cell_type": "code",
      "source": [
        "hist = thinkstats2.Hist([1, 2, 2, 3, 5])\n",
        "hist"
      ],
      "metadata": {
        "colab": {
          "base_uri": "https://localhost:8080/"
        },
        "id": "RRx4TI7hcDpp",
        "outputId": "fa5519f3-5a59-42c0-a9a3-0144dbde6d91"
      },
      "execution_count": 8,
      "outputs": [
        {
          "output_type": "execute_result",
          "data": {
            "text/plain": [
              "Hist({1: 1, 2: 2, 3: 1, 5: 1})"
            ]
          },
          "metadata": {},
          "execution_count": 8
        }
      ]
    },
    {
      "cell_type": "code",
      "source": [
        "hist.Freq(2)"
      ],
      "metadata": {
        "colab": {
          "base_uri": "https://localhost:8080/"
        },
        "id": "VbIZgV1Dcb-6",
        "outputId": "8a529cb4-d648-47a8-f4a7-02f498fd27f4"
      },
      "execution_count": 9,
      "outputs": [
        {
          "output_type": "execute_result",
          "data": {
            "text/plain": [
              "2"
            ]
          },
          "metadata": {},
          "execution_count": 9
        }
      ]
    },
    {
      "cell_type": "code",
      "source": [
        "hist[2]"
      ],
      "metadata": {
        "colab": {
          "base_uri": "https://localhost:8080/"
        },
        "id": "8HKQftLOck1t",
        "outputId": "c0441a28-c4b1-4ea5-cfff-ff39470f44d4"
      },
      "execution_count": 10,
      "outputs": [
        {
          "output_type": "execute_result",
          "data": {
            "text/plain": [
              "2"
            ]
          },
          "metadata": {},
          "execution_count": 10
        }
      ]
    },
    {
      "cell_type": "code",
      "source": [
        "hist[4]"
      ],
      "metadata": {
        "colab": {
          "base_uri": "https://localhost:8080/"
        },
        "id": "6SJ2QgmGcnNb",
        "outputId": "c2cabfb3-5e44-4489-ed18-51b35cdc7245"
      },
      "execution_count": 11,
      "outputs": [
        {
          "output_type": "execute_result",
          "data": {
            "text/plain": [
              "0"
            ]
          },
          "metadata": {},
          "execution_count": 11
        }
      ]
    },
    {
      "cell_type": "code",
      "source": [
        "hist.Values()"
      ],
      "metadata": {
        "colab": {
          "base_uri": "https://localhost:8080/"
        },
        "id": "mpLNpy3UcqXe",
        "outputId": "d6865661-2790-46dd-8812-105353fddd00"
      },
      "execution_count": 12,
      "outputs": [
        {
          "output_type": "execute_result",
          "data": {
            "text/plain": [
              "dict_keys([1, 2, 3, 5])"
            ]
          },
          "metadata": {},
          "execution_count": 12
        }
      ]
    },
    {
      "cell_type": "code",
      "source": [
        "for val in sorted(hist.Values()):\n",
        "  print(val, hist[val])"
      ],
      "metadata": {
        "colab": {
          "base_uri": "https://localhost:8080/"
        },
        "id": "Upyp3SCJctIp",
        "outputId": "bccd3699-2cda-495c-852d-4dd0c612bf3d"
      },
      "execution_count": 13,
      "outputs": [
        {
          "output_type": "stream",
          "name": "stdout",
          "text": [
            "1 1\n",
            "2 2\n",
            "3 1\n",
            "5 1\n"
          ]
        }
      ]
    },
    {
      "cell_type": "code",
      "source": [
        "for val, freq in hist.Items():\n",
        "  print(val, freq)"
      ],
      "metadata": {
        "colab": {
          "base_uri": "https://localhost:8080/"
        },
        "id": "qFIq3OnYdIZO",
        "outputId": "1f51a32e-b762-46cd-db97-3860dc24e68f"
      },
      "execution_count": 14,
      "outputs": [
        {
          "output_type": "stream",
          "name": "stdout",
          "text": [
            "1 1\n",
            "2 2\n",
            "3 1\n",
            "5 1\n"
          ]
        }
      ]
    },
    {
      "cell_type": "code",
      "source": [
        "# let's plot histogram\n",
        "thinkplot.Hist(hist)\n",
        "thinkplot.Config(xlabel=\"value\", ylabel=\"frequency\")"
      ],
      "metadata": {
        "colab": {
          "base_uri": "https://localhost:8080/",
          "height": 449
        },
        "id": "fANN4-u_dRHL",
        "outputId": "0bcb7174-976d-44ab-ef9b-ba516ae6aa5f"
      },
      "execution_count": 15,
      "outputs": [
        {
          "output_type": "display_data",
          "data": {
            "text/plain": [
              "<Figure size 640x480 with 1 Axes>"
            ],
            "image/png": "[encoded data removed]"
          },
          "metadata": {}
        }
      ]
    },
    {
      "cell_type": "markdown",
      "source": [
        "##Dataset"
      ],
      "metadata": {
        "id": "UEca3txdfJmj"
      }
    },
    {
      "cell_type": "code",
      "source": [
        "# let's start by reading the data and selecting records for live births\n",
        "preg = nsfg.ReadFemPreg()\n",
        "live = preg[preg.outcome == 1]"
      ],
      "metadata": {
        "id": "7l3fvmNYepKf"
      },
      "execution_count": 16,
      "outputs": []
    },
    {
      "cell_type": "code",
      "source": [
        "# let's generate and plot the histogram of birthwgt_lb for live births\n",
        "hist = thinkstats2.Hist(live.birthwgt_lb, label=\"birthwgt_lb\")\n",
        "thinkplot.Hist(hist)\n",
        "thinkplot.Config(xlabel=\"Birth weight (pounds)\", ylabel=\"Count\")"
      ],
      "metadata": {
        "id": "L47v_0TPI_TO",
        "outputId": "ec86b6c7-1744-4780-e83b-4ca23b650f7f",
        "colab": {
          "base_uri": "https://localhost:8080/",
          "height": 449
        }
      },
      "execution_count": 17,
      "outputs": [
        {
          "output_type": "display_data",
          "data": {
            "text/plain": [
              "<Figure size 640x480 with 1 Axes>"
            ],
            "image/png": "[encoded data removed]"
          },
          "metadata": {}
        }
      ]
    },
    {
      "cell_type": "code",
      "source": [
        "# let's plot the histogram of pregnancy lengths (column prglngth).\n",
        "hist = thinkstats2.Hist(live.birthwgt_oz, label=\"birthwgt_oz\")\n",
        "thinkplot.Hist(hist)\n",
        "thinkplot.Config(xlabel=\"ounces\", ylabel=\"frequency\")"
      ],
      "metadata": {
        "id": "0GvI7rp1Jd6W",
        "outputId": "081cb4c4-1601-4be8-8e9c-3e306ef4bd71",
        "colab": {
          "base_uri": "https://localhost:8080/",
          "height": 449
        }
      },
      "execution_count": 18,
      "outputs": [
        {
          "output_type": "display_data",
          "data": {
            "text/plain": [
              "<Figure size 640x480 with 1 Axes>"
            ],
            "image/png": "[encoded data removed]"
          },
          "metadata": {}
        }
      ]
    },
    {
      "cell_type": "code",
      "source": [
        "# let's plot the histogram of mother’s age at end of pregnancy\n",
        "hist = thinkstats2.Hist(live.agepreg, label=\"agepreg\")\n",
        "thinkplot.Hist(hist)\n",
        "thinkplot.Config(xlabel=\"years\", ylabel=\"frequency\")"
      ],
      "metadata": {
        "id": "VPKPHuNfKwYL",
        "outputId": "5e570ae9-b5b4-47a5-a2e7-172fd07f5646",
        "colab": {
          "base_uri": "https://localhost:8080/",
          "height": 449
        }
      },
      "execution_count": 19,
      "outputs": [
        {
          "output_type": "display_data",
          "data": {
            "text/plain": [
              "<Figure size 640x480 with 1 Axes>"
            ],
            "image/png": "[encoded data removed]"
          },
          "metadata": {}
        }
      ]
    },
    {
      "cell_type": "code",
      "source": [
        "# let's plot the histogram of pregnancy length in weeks\n",
        "hist = thinkstats2.Hist(live.prglngth, label=\"prglength\")\n",
        "thinkplot.Hist(hist)\n",
        "thinkplot.Config(xlabel=\"weeks\", ylabel=\"frequency\")"
      ],
      "metadata": {
        "id": "nR7XYrr6NIwa",
        "outputId": "652b93e3-9b31-4cf4-91cc-7a7351bc692a",
        "colab": {
          "base_uri": "https://localhost:8080/",
          "height": 449
        }
      },
      "execution_count": 20,
      "outputs": [
        {
          "output_type": "display_data",
          "data": {
            "text/plain": [
              "<Figure size 640x480 with 1 Axes>"
            ],
            "image/png": "[encoded data removed]"
          },
          "metadata": {}
        }
      ]
    },
    {
      "cell_type": "markdown",
      "source": [
        "##Outliers"
      ],
      "metadata": {
        "id": "o9NmWsqpNyjR"
      }
    },
    {
      "cell_type": "code",
      "source": [
        "# Hist provides smallest, which select the lowest values and their frequencies.\n",
        "for weeks, freq in hist.Smallest(10):\n",
        "  print(weeks, freq)"
      ],
      "metadata": {
        "id": "JZZQqL-hM_ij",
        "colab": {
          "base_uri": "https://localhost:8080/"
        },
        "outputId": "6700a099-ea63-4be1-e7c1-3c01e73f9888"
      },
      "execution_count": 21,
      "outputs": [
        {
          "output_type": "stream",
          "name": "stdout",
          "text": [
            "0 1\n",
            "4 1\n",
            "9 1\n",
            "13 1\n",
            "17 2\n",
            "18 1\n",
            "19 1\n",
            "20 1\n",
            "21 2\n",
            "22 7\n"
          ]
        }
      ]
    },
    {
      "cell_type": "code",
      "source": [
        "# Hist provides largest, which select the largest values and their frequencies.\n",
        "for weeks, freq in hist.Largest(10):\n",
        "  print(weeks, freq)"
      ],
      "metadata": {
        "colab": {
          "base_uri": "https://localhost:8080/"
        },
        "id": "OO9v-87vvfeV",
        "outputId": "62cd0a0a-c433-4357-c88c-5573ef6dc0a6"
      },
      "execution_count": 22,
      "outputs": [
        {
          "output_type": "stream",
          "name": "stdout",
          "text": [
            "50 2\n",
            "48 7\n",
            "47 1\n",
            "46 1\n",
            "45 10\n",
            "44 46\n",
            "43 148\n",
            "42 328\n",
            "41 587\n",
            "40 1116\n"
          ]
        }
      ]
    },
    {
      "cell_type": "code",
      "source": [
        "# let's select first babies and others using birthord, then compute histograms of pregnancy length for the two groups\n",
        "firsts = live[live.birthord == 1]\n",
        "others = live[live.birthord != 1]\n",
        "\n",
        "first_hist = thinkstats2.Hist(firsts.prglngth, label=\"first\")\n",
        "other_hist = thinkstats2.Hist(others.prglngth, label=\"other\")"
      ],
      "metadata": {
        "id": "aWdm5aVhwVU0"
      },
      "execution_count": 29,
      "outputs": []
    },
    {
      "cell_type": "code",
      "source": [
        "# We can use width and align to plot two histograms side-by-side\n",
        "width = 0.45\n",
        "thinkplot.PrePlot(2)\n",
        "\n",
        "thinkplot.Hist(first_hist, align=\"right\", width=width)\n",
        "thinkplot.Hist(other_hist, align=\"left\", width=width)\n",
        "thinkplot.Config(xlabel=\"weeks\", ylabel=\"Count\", xlim=[27, 46])"
      ],
      "metadata": {
        "colab": {
          "base_uri": "https://localhost:8080/",
          "height": 449
        },
        "id": "GDrIfOwsw4v_",
        "outputId": "cdd5321e-10ca-4028-c061-b291220043f7"
      },
      "execution_count": 32,
      "outputs": [
        {
          "output_type": "display_data",
          "data": {
            "text/plain": [
              "<Figure size 640x480 with 1 Axes>"
            ],
            "image/png": "[encoded data removed]"
          },
          "metadata": {}
        }
      ]
    },
    {
      "cell_type": "code",
      "source": [
        "# We can use width and align to plot two histograms side-by-side\n",
        "width = 0.45\n",
        "thinkplot.PrePlot(2)\n",
        "\n",
        "thinkplot.Hist(first_hist, align=\"right\", width=width)\n",
        "thinkplot.Hist(other_hist, align=\"left\", width=width)\n",
        "thinkplot.Config(xlabel=\"weeks\", ylabel=\"Count\")"
      ],
      "metadata": {
        "colab": {
          "base_uri": "https://localhost:8080/",
          "height": 449
        },
        "id": "LMNdAFxvwznu",
        "outputId": "7e683414-7c02-4657-d1cd-7f956cdd4b64"
      },
      "execution_count": 33,
      "outputs": [
        {
          "output_type": "display_data",
          "data": {
            "text/plain": [
              "<Figure size 640x480 with 1 Axes>"
            ],
            "image/png": "[encoded data removed]"
          },
          "metadata": {}
        }
      ]
    },
    {
      "cell_type": "markdown",
      "source": [
        "Histograms are useful because they make the most frequent values immediately apparent.\n",
        "But they are not the best choice for comparing two distributions.\n",
        "\n",
        "We address this problem using\n",
        "probability mass functions."
      ],
      "metadata": {
        "id": "qCOLseEo1iSA"
      }
    },
    {
      "cell_type": "markdown",
      "source": [
        "##Summarizing Distributions"
      ],
      "metadata": {
        "id": "b8pakH9O1oty"
      }
    },
    {
      "cell_type": "code",
      "source": [],
      "metadata": {
        "id": "LnCQebdA1yNI"
      },
      "execution_count": null,
      "outputs": []
    }
  ]
}