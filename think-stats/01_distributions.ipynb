{
  "nbformat": 4,
  "nbformat_minor": 0,
  "metadata": {
    "colab": {
      "provenance": [],
      "toc_visible": true,
      "authorship_tag": "ABX9TyPbIpQpk0GTKR7FG9OUJoij",
      "include_colab_link": true
    },
    "kernelspec": {
      "name": "python3",
      "display_name": "Python 3"
    },
    "language_info": {
      "name": "python"
    }
  },
  "cells": [
    {
      "cell_type": "markdown",
      "metadata": {
        "id": "view-in-github",
        "colab_type": "text"
      },
      "source": [
        "<a href=\"https://colab.research.google.com/github/rahiakela/data-science-research-and-practice/blob/main/think-stats/01_distributions.ipynb\" target=\"_parent\"><img src=\"https://colab.research.google.com/assets/colab-badge.svg\" alt=\"Open In Colab\"/></a>"
      ]
    },
    {
      "cell_type": "markdown",
      "source": [
        "##Setup"
      ],
      "metadata": {
        "id": "kUEylOWeaPXy"
      }
    },
    {
      "cell_type": "code",
      "source": [
        "import numpy as np\n",
        "from os.path import basename, exists"
      ],
      "metadata": {
        "id": "yLhKEsm4aZYh"
      },
      "execution_count": 1,
      "outputs": []
    },
    {
      "cell_type": "code",
      "source": [
        "def download(url):\n",
        "    filename = basename(url)\n",
        "    if not exists(filename):\n",
        "        from urllib.request import urlretrieve\n",
        "\n",
        "        local, _ = urlretrieve(url, filename)\n",
        "        print(\"Downloaded \" + local)"
      ],
      "metadata": {
        "id": "Y2SoqKc2ae2A"
      },
      "execution_count": 2,
      "outputs": []
    },
    {
      "cell_type": "code",
      "source": [
        "download(\"https://github.com/AllenDowney/ThinkStats2/raw/master/code/thinkstats2.py\")\n",
        "download(\"https://github.com/AllenDowney/ThinkStats2/raw/master/code/thinkplot.py\")\n",
        "download(\"https://github.com/AllenDowney/ThinkStats2/raw/master/code/nsfg.py\")\n",
        "\n",
        "download(\"https://github.com/AllenDowney/ThinkStats2/raw/master/code/2002FemPreg.dct\")\n",
        "download(\"https://github.com/AllenDowney/ThinkStats2/raw/master/code/2002FemPreg.dat.gz\")"
      ],
      "metadata": {
        "colab": {
          "base_uri": "https://localhost:8080/"
        },
        "id": "0v2fHobkagxC",
        "outputId": "a85cd482-cbdc-4010-fd36-2453dd34c41a"
      },
      "execution_count": 3,
      "outputs": [
        {
          "output_type": "stream",
          "name": "stdout",
          "text": [
            "Downloaded thinkstats2.py\n",
            "Downloaded thinkplot.py\n",
            "Downloaded nsfg.py\n",
            "Downloaded 2002FemPreg.dct\n",
            "Downloaded 2002FemPreg.dat.gz\n"
          ]
        }
      ]
    },
    {
      "cell_type": "code",
      "source": [
        "from collections import Counter\n",
        "\n",
        "import thinkstats2\n",
        "import thinkplot\n",
        "import nsfg"
      ],
      "metadata": {
        "id": "DHW6_WCZapSz"
      },
      "execution_count": 4,
      "outputs": []
    },
    {
      "cell_type": "markdown",
      "source": [
        "##Distributions"
      ],
      "metadata": {
        "id": "NL8KEnEybcJb"
      }
    },
    {
      "cell_type": "markdown",
      "source": [
        "Given a list of values, there are several ways to count the frequency of each value."
      ],
      "metadata": {
        "id": "g5dt7HzvbiVc"
      }
    },
    {
      "cell_type": "code",
      "source": [
        "t = [1, 2, 3, 4, 5]"
      ],
      "metadata": {
        "id": "5e8yIzvFbcrM"
      },
      "execution_count": 5,
      "outputs": []
    },
    {
      "cell_type": "markdown",
      "source": [
        "You can use a Python dictionary."
      ],
      "metadata": {
        "id": "nmVEpA75bsjs"
      }
    },
    {
      "cell_type": "code",
      "source": [
        "hist = {}\n",
        "for x in t:\n",
        "  hist[x] = hist.get(x, 0) + 1\n",
        "hist"
      ],
      "metadata": {
        "colab": {
          "base_uri": "https://localhost:8080/"
        },
        "id": "CWbKkLiZbnPK",
        "outputId": "30519d53-cd2e-4244-94e8-b7ee9370b7ad"
      },
      "execution_count": 6,
      "outputs": [
        {
          "output_type": "execute_result",
          "data": {
            "text/plain": [
              "{1: 1, 2: 1, 3: 1, 4: 1, 5: 1}"
            ]
          },
          "metadata": {},
          "execution_count": 6
        }
      ]
    },
    {
      "cell_type": "markdown",
      "source": [
        "You can use a Counter (which is a dictionary with additional methods):"
      ],
      "metadata": {
        "id": "gx2NyNu8b-FT"
      }
    },
    {
      "cell_type": "code",
      "source": [
        "counter = Counter(t)\n",
        "counter"
      ],
      "metadata": {
        "colab": {
          "base_uri": "https://localhost:8080/"
        },
        "id": "82hqIwEib0zD",
        "outputId": "3cc8ea0c-fcad-4d26-a3e4-6bd765640619"
      },
      "execution_count": 7,
      "outputs": [
        {
          "output_type": "execute_result",
          "data": {
            "text/plain": [
              "Counter({1: 1, 2: 1, 3: 1, 4: 1, 5: 1})"
            ]
          },
          "metadata": {},
          "execution_count": 7
        }
      ]
    },
    {
      "cell_type": "markdown",
      "source": [
        "##Representing Histograms"
      ],
      "metadata": {
        "id": "lYJz8N2bcPP0"
      }
    },
    {
      "cell_type": "code",
      "source": [
        "hist = thinkstats2.Hist([1, 2, 2, 3, 5])\n",
        "hist"
      ],
      "metadata": {
        "colab": {
          "base_uri": "https://localhost:8080/"
        },
        "id": "RRx4TI7hcDpp",
        "outputId": "7fe3a5f0-9eda-4377-e1ab-961245ec10e0"
      },
      "execution_count": 8,
      "outputs": [
        {
          "output_type": "execute_result",
          "data": {
            "text/plain": [
              "Hist({1: 1, 2: 2, 3: 1, 5: 1})"
            ]
          },
          "metadata": {},
          "execution_count": 8
        }
      ]
    },
    {
      "cell_type": "code",
      "source": [
        "hist.Freq(2)"
      ],
      "metadata": {
        "colab": {
          "base_uri": "https://localhost:8080/"
        },
        "id": "VbIZgV1Dcb-6",
        "outputId": "764ebd17-7ac3-49ba-ec65-6de305f786df"
      },
      "execution_count": 9,
      "outputs": [
        {
          "output_type": "execute_result",
          "data": {
            "text/plain": [
              "2"
            ]
          },
          "metadata": {},
          "execution_count": 9
        }
      ]
    },
    {
      "cell_type": "code",
      "source": [
        "hist[2]"
      ],
      "metadata": {
        "colab": {
          "base_uri": "https://localhost:8080/"
        },
        "id": "8HKQftLOck1t",
        "outputId": "b10012d0-dcac-42bf-ff00-13defd58c7a8"
      },
      "execution_count": 10,
      "outputs": [
        {
          "output_type": "execute_result",
          "data": {
            "text/plain": [
              "2"
            ]
          },
          "metadata": {},
          "execution_count": 10
        }
      ]
    },
    {
      "cell_type": "code",
      "source": [
        "hist[4]"
      ],
      "metadata": {
        "colab": {
          "base_uri": "https://localhost:8080/"
        },
        "id": "6SJ2QgmGcnNb",
        "outputId": "6785aad4-d50d-4542-c2f2-e33ebcd9033e"
      },
      "execution_count": 11,
      "outputs": [
        {
          "output_type": "execute_result",
          "data": {
            "text/plain": [
              "0"
            ]
          },
          "metadata": {},
          "execution_count": 11
        }
      ]
    },
    {
      "cell_type": "code",
      "source": [
        "hist.Values()"
      ],
      "metadata": {
        "colab": {
          "base_uri": "https://localhost:8080/"
        },
        "id": "mpLNpy3UcqXe",
        "outputId": "deddebb8-3c23-4c15-a88e-2eb3ef9e6a2e"
      },
      "execution_count": 12,
      "outputs": [
        {
          "output_type": "execute_result",
          "data": {
            "text/plain": [
              "dict_keys([1, 2, 3, 5])"
            ]
          },
          "metadata": {},
          "execution_count": 12
        }
      ]
    },
    {
      "cell_type": "code",
      "source": [
        "for val in sorted(hist.Values()):\n",
        "  print(val, hist[val])"
      ],
      "metadata": {
        "colab": {
          "base_uri": "https://localhost:8080/"
        },
        "id": "Upyp3SCJctIp",
        "outputId": "d5f45c1c-bf31-47d1-9e0d-94c47a727bb0"
      },
      "execution_count": 13,
      "outputs": [
        {
          "output_type": "stream",
          "name": "stdout",
          "text": [
            "1 1\n",
            "2 2\n",
            "3 1\n",
            "5 1\n"
          ]
        }
      ]
    },
    {
      "cell_type": "code",
      "source": [
        "for val, freq in hist.Items():\n",
        "  print(val, freq)"
      ],
      "metadata": {
        "colab": {
          "base_uri": "https://localhost:8080/"
        },
        "id": "qFIq3OnYdIZO",
        "outputId": "27874f68-9fe5-4af6-c9e7-2f8d3bc6fb39"
      },
      "execution_count": 14,
      "outputs": [
        {
          "output_type": "stream",
          "name": "stdout",
          "text": [
            "1 1\n",
            "2 2\n",
            "3 1\n",
            "5 1\n"
          ]
        }
      ]
    },
    {
      "cell_type": "code",
      "source": [
        "# let's plot histogram\n",
        "thinkplot.Hist(hist)\n",
        "thinkplot.Config(xlabel=\"value\", ylabel=\"frequency\")"
      ],
      "metadata": {
        "colab": {
          "base_uri": "https://localhost:8080/",
          "height": 449
        },
        "id": "fANN4-u_dRHL",
        "outputId": "223fe867-5893-4af6-d7b6-18efb3fa8427"
      },
      "execution_count": 15,
      "outputs": [
        {
          "output_type": "display_data",
          "data": {
            "text/plain": [
              "<Figure size 640x480 with 1 Axes>"
            ],
            "image/png": "[encoded data removed]"
          },
          "metadata": {}
        }
      ]
    },
    {
      "cell_type": "markdown",
      "source": [
        "##Dataset"
      ],
      "metadata": {
        "id": "UEca3txdfJmj"
      }
    },
    {
      "cell_type": "code",
      "source": [
        "# let's start by reading the data and selecting records for live births\n",
        "preg = nsfg.ReadFemPreg()\n",
        "live = preg[preg.outcome == 1]"
      ],
      "metadata": {
        "id": "7l3fvmNYepKf"
      },
      "execution_count": 16,
      "outputs": []
    },
    {
      "cell_type": "code",
      "source": [
        "# let's generate and plot the histogram of birthwgt_lb for live births\n",
        "hist = thinkstats2.Hist(live.birthwgt_lb, label=\"birthwgt_lb\")\n",
        "thinkplot.Hist(hist)\n",
        "thinkplot.Config(xlabel=\"Birth weight (pounds)\", ylabel=\"Count\")"
      ],
      "metadata": {
        "id": "L47v_0TPI_TO",
        "outputId": "96416c0b-63ca-4167-d4bd-8f7a72cefe6f",
        "colab": {
          "base_uri": "https://localhost:8080/",
          "height": 449
        }
      },
      "execution_count": 17,
      "outputs": [
        {
          "output_type": "display_data",
          "data": {
            "text/plain": [
              "<Figure size 640x480 with 1 Axes>"
            ],
            "image/png": "[encoded data removed]"
          },
          "metadata": {}
        }
      ]
    },
    {
      "cell_type": "code",
      "source": [
        "# let's plot the histogram of pregnancy lengths (column prglngth).\n",
        "hist = thinkstats2.Hist(live.birthwgt_oz, label=\"birthwgt_oz\")\n",
        "thinkplot.Hist(hist)\n",
        "thinkplot.Config(xlabel=\"ounces\", ylabel=\"frequency\")"
      ],
      "metadata": {
        "id": "0GvI7rp1Jd6W",
        "outputId": "527385a0-8ca0-4336-dd0f-c94fbeb38b89",
        "colab": {
          "base_uri": "https://localhost:8080/",
          "height": 449
        }
      },
      "execution_count": 18,
      "outputs": [
        {
          "output_type": "display_data",
          "data": {
            "text/plain": [
              "<Figure size 640x480 with 1 Axes>"
            ],
            "image/png": "[encoded data removed]"
          },
          "metadata": {}
        }
      ]
    },
    {
      "cell_type": "code",
      "source": [
        "# let's plot the histogram of mother’s age at end of pregnancy\n",
        "hist = thinkstats2.Hist(live.agepreg, label=\"agepreg\")\n",
        "thinkplot.Hist(hist)\n",
        "thinkplot.Config(xlabel=\"years\", ylabel=\"frequency\")"
      ],
      "metadata": {
        "id": "VPKPHuNfKwYL",
        "outputId": "bfbd6010-f8ee-4e9b-befa-5d3621d275e3",
        "colab": {
          "base_uri": "https://localhost:8080/",
          "height": 449
        }
      },
      "execution_count": 19,
      "outputs": [
        {
          "output_type": "display_data",
          "data": {
            "text/plain": [
              "<Figure size 640x480 with 1 Axes>"
            ],
            "image/png": "[encoded data removed]"
          },
          "metadata": {}
        }
      ]
    },
    {
      "cell_type": "code",
      "source": [
        "# let's plot the histogram of pregnancy length in weeks\n",
        "hist = thinkstats2.Hist(live.prglngth, label=\"prglength\")\n",
        "thinkplot.Hist(hist)\n",
        "thinkplot.Config(xlabel=\"weeks\", ylabel=\"frequency\")"
      ],
      "metadata": {
        "id": "nR7XYrr6NIwa",
        "outputId": "868e14c4-9531-4709-e888-8ea65aaa9614",
        "colab": {
          "base_uri": "https://localhost:8080/",
          "height": 449
        }
      },
      "execution_count": 20,
      "outputs": [
        {
          "output_type": "display_data",
          "data": {
            "text/plain": [
              "<Figure size 640x480 with 1 Axes>"
            ],
            "image/png": "[encoded data removed]"
          },
          "metadata": {}
        }
      ]
    },
    {
      "cell_type": "markdown",
      "source": [
        "##Outliers"
      ],
      "metadata": {
        "id": "o9NmWsqpNyjR"
      }
    },
    {
      "cell_type": "code",
      "source": [
        "# Hist provides smallest, which select the lowest values and their frequencies.\n",
        "for weeks, freq in hist.Smallest(10):\n",
        "  print(weeks, freq)"
      ],
      "metadata": {
        "id": "JZZQqL-hM_ij",
        "colab": {
          "base_uri": "https://localhost:8080/"
        },
        "outputId": "1e6102d0-96c8-475e-b1bd-adbc18b05401"
      },
      "execution_count": 21,
      "outputs": [
        {
          "output_type": "stream",
          "name": "stdout",
          "text": [
            "0 1\n",
            "4 1\n",
            "9 1\n",
            "13 1\n",
            "17 2\n",
            "18 1\n",
            "19 1\n",
            "20 1\n",
            "21 2\n",
            "22 7\n"
          ]
        }
      ]
    },
    {
      "cell_type": "code",
      "source": [
        "# Hist provides largest, which select the largest values and their frequencies.\n",
        "for weeks, freq in hist.Largest(10):\n",
        "  print(weeks, freq)"
      ],
      "metadata": {
        "colab": {
          "base_uri": "https://localhost:8080/"
        },
        "id": "OO9v-87vvfeV",
        "outputId": "8542c672-06f8-48a0-e058-16882cd36637"
      },
      "execution_count": 22,
      "outputs": [
        {
          "output_type": "stream",
          "name": "stdout",
          "text": [
            "50 2\n",
            "48 7\n",
            "47 1\n",
            "46 1\n",
            "45 10\n",
            "44 46\n",
            "43 148\n",
            "42 328\n",
            "41 587\n",
            "40 1116\n"
          ]
        }
      ]
    },
    {
      "cell_type": "code",
      "source": [
        "# let's select first babies and others using birthord, then compute histograms of pregnancy length for the two groups\n",
        "firsts = live[live.birthord == 1]\n",
        "others = live[live.birthord != 1]\n",
        "\n",
        "first_hist = thinkstats2.Hist(firsts.prglngth, label=\"first\")\n",
        "other_hist = thinkstats2.Hist(others.prglngth, label=\"other\")"
      ],
      "metadata": {
        "id": "aWdm5aVhwVU0"
      },
      "execution_count": 23,
      "outputs": []
    },
    {
      "cell_type": "code",
      "source": [
        "# We can use width and align to plot two histograms side-by-side\n",
        "width = 0.45\n",
        "thinkplot.PrePlot(2)\n",
        "\n",
        "thinkplot.Hist(first_hist, align=\"right\", width=width)\n",
        "thinkplot.Hist(other_hist, align=\"left\", width=width)\n",
        "thinkplot.Config(xlabel=\"weeks\", ylabel=\"Count\", xlim=[27, 46])"
      ],
      "metadata": {
        "colab": {
          "base_uri": "https://localhost:8080/",
          "height": 449
        },
        "id": "GDrIfOwsw4v_",
        "outputId": "27872f39-5f5c-4035-f215-da5847d8d71f"
      },
      "execution_count": 24,
      "outputs": [
        {
          "output_type": "display_data",
          "data": {
            "text/plain": [
              "<Figure size 640x480 with 1 Axes>"
            ],
            "image/png": "[encoded data removed]"
          },
          "metadata": {}
        }
      ]
    },
    {
      "cell_type": "code",
      "source": [
        "# We can use width and align to plot two histograms side-by-side\n",
        "width = 0.45\n",
        "thinkplot.PrePlot(2)\n",
        "\n",
        "thinkplot.Hist(first_hist, align=\"right\", width=width)\n",
        "thinkplot.Hist(other_hist, align=\"left\", width=width)\n",
        "thinkplot.Config(xlabel=\"weeks\", ylabel=\"Count\")"
      ],
      "metadata": {
        "colab": {
          "base_uri": "https://localhost:8080/",
          "height": 449
        },
        "id": "LMNdAFxvwznu",
        "outputId": "c763fab5-e45d-4226-9824-57c2415b1cfa"
      },
      "execution_count": 25,
      "outputs": [
        {
          "output_type": "display_data",
          "data": {
            "text/plain": [
              "<Figure size 640x480 with 1 Axes>"
            ],
            "image/png": "[encoded data removed]"
          },
          "metadata": {}
        }
      ]
    },
    {
      "cell_type": "markdown",
      "source": [
        "Histograms are useful because they make the most frequent values immediately apparent.\n",
        "But they are not the best choice for comparing two distributions.\n",
        "\n",
        "We address this problem using\n",
        "probability mass functions."
      ],
      "metadata": {
        "id": "qCOLseEo1iSA"
      }
    },
    {
      "cell_type": "markdown",
      "source": [
        "##Summarizing Distributions"
      ],
      "metadata": {
        "id": "b8pakH9O1oty"
      }
    },
    {
      "cell_type": "code",
      "source": [
        "# let's compute mean, variance and standard deviation\n",
        "mean = live.prglngth.mean()\n",
        "var = live.prglngth.var()\n",
        "std = live.prglngth.std()"
      ],
      "metadata": {
        "id": "LnCQebdA1yNI"
      },
      "execution_count": 26,
      "outputs": []
    },
    {
      "cell_type": "code",
      "source": [
        "(mean, var, std)"
      ],
      "metadata": {
        "id": "GbXKmPrG5sD5",
        "outputId": "6f910859-bf04-4028-9cf6-843a6efa436f",
        "colab": {
          "base_uri": "https://localhost:8080/"
        }
      },
      "execution_count": 27,
      "outputs": [
        {
          "output_type": "execute_result",
          "data": {
            "text/plain": [
              "(38.56055968517709, 7.302662067826817, 2.702343810070587)"
            ]
          },
          "metadata": {},
          "execution_count": 27
        }
      ]
    },
    {
      "cell_type": "code",
      "source": [
        "# let's confirm that std is the square root of var\n",
        "np.sqrt(var)"
      ],
      "metadata": {
        "id": "gf_ynwK35t4f",
        "outputId": "02959e9c-6c16-4cd5-aad9-3d5241e275f5",
        "colab": {
          "base_uri": "https://localhost:8080/"
        }
      },
      "execution_count": 28,
      "outputs": [
        {
          "output_type": "execute_result",
          "data": {
            "text/plain": [
              "2.702343810070587"
            ]
          },
          "metadata": {},
          "execution_count": 28
        }
      ]
    },
    {
      "cell_type": "code",
      "source": [
        "# Here's are the mean pregnancy lengths for first babies and others\n",
        "firsts.prglngth.mean(), others.prglngth.mean()"
      ],
      "metadata": {
        "id": "ZrZ_08486Peh",
        "outputId": "30b8002e-5040-40bc-b0b1-e93997da4a69",
        "colab": {
          "base_uri": "https://localhost:8080/"
        }
      },
      "execution_count": 29,
      "outputs": [
        {
          "output_type": "execute_result",
          "data": {
            "text/plain": [
              "(38.60095173351461, 38.52291446673706)"
            ]
          },
          "metadata": {},
          "execution_count": 29
        }
      ]
    },
    {
      "cell_type": "code",
      "source": [
        "# And here's the difference (in weeks):\n",
        "firsts.prglngth.mean() - others.prglngth.mean()"
      ],
      "metadata": {
        "id": "SqaIKlu87kRZ",
        "outputId": "ebc163d3-b935-42e2-aaf5-48e801d6412e",
        "colab": {
          "base_uri": "https://localhost:8080/"
        }
      },
      "execution_count": 30,
      "outputs": [
        {
          "output_type": "execute_result",
          "data": {
            "text/plain": [
              "0.07803726677754952"
            ]
          },
          "metadata": {},
          "execution_count": 30
        }
      ]
    },
    {
      "cell_type": "code",
      "source": [
        "# This functon computes the Cohen effect size, which is the difference in means expressed in number of standard deviations\n",
        "def cohen_effect_size(group1, group2):\n",
        "  diff = group1.mean() - group2.mean()\n",
        "\n",
        "  var1 = group1.var()\n",
        "  var2 = group2.var()\n",
        "  n1, n2 = len(group1), len(group2)\n",
        "\n",
        "  pooled_var = (n1 * var1 + n2 * var2) / (n1 + n2)\n",
        "  d = diff / np.sqrt(pooled_var)\n",
        "  return d"
      ],
      "metadata": {
        "id": "Dx9FKm7u7nne"
      },
      "execution_count": 31,
      "outputs": []
    },
    {
      "cell_type": "code",
      "source": [
        "# let's compute the Cohen effect size for the difference in pregnancy length for first babies and others\n",
        "ces = cohen_effect_size(firsts.prglngth, others.prglngth)\n",
        "ces"
      ],
      "metadata": {
        "id": "8aDH3L2I8P8w",
        "outputId": "706aeba4-637d-45b4-bc25-e19ded3b25d4",
        "colab": {
          "base_uri": "https://localhost:8080/"
        }
      },
      "execution_count": 32,
      "outputs": [
        {
          "output_type": "execute_result",
          "data": {
            "text/plain": [
              "0.028879044654449834"
            ]
          },
          "metadata": {},
          "execution_count": 32
        }
      ]
    },
    {
      "cell_type": "markdown",
      "source": [
        "##Exercises"
      ],
      "metadata": {
        "id": "l7xPyKwh9NIZ"
      }
    },
    {
      "cell_type": "code",
      "source": [
        "download(\"https://github.com/AllenDowney/ThinkStats2/raw/master/code/2002FemResp.dct\")\n",
        "download(\"https://github.com/AllenDowney/ThinkStats2/raw/master/code/2002FemResp.dat.gz\")"
      ],
      "metadata": {
        "id": "r9--Tyd58hL8",
        "outputId": "9734933f-93c8-468b-b4c1-69b6e82c0d9b",
        "colab": {
          "base_uri": "https://localhost:8080/"
        }
      },
      "execution_count": 33,
      "outputs": [
        {
          "output_type": "stream",
          "name": "stdout",
          "text": [
            "Downloaded 2002FemResp.dct\n",
            "Downloaded 2002FemResp.dat.gz\n"
          ]
        }
      ]
    },
    {
      "cell_type": "markdown",
      "source": [
        "Make a histogram of totincr the total income for the respondent's family."
      ],
      "metadata": {
        "id": "xeybbtTaTuzY"
      }
    },
    {
      "cell_type": "code",
      "source": [
        "resp = nsfg.ReadFemResp()"
      ],
      "metadata": {
        "id": "cD1cM093TkKl"
      },
      "execution_count": 44,
      "outputs": []
    },
    {
      "cell_type": "code",
      "source": [
        "hist = thinkstats2.Hist(resp.totincr)\n",
        "thinkplot.Hist(hist)\n",
        "thinkplot.Config(xlabel=\"total income\", ylabel=\"Count\")"
      ],
      "metadata": {
        "id": "PNufwNflTrR9",
        "outputId": "3b9291be-1ac7-437c-ba31-0b1997615f74",
        "colab": {
          "base_uri": "https://localhost:8080/",
          "height": 449
        }
      },
      "execution_count": 58,
      "outputs": [
        {
          "output_type": "display_data",
          "data": {
            "text/plain": [
              "<Figure size 640x480 with 1 Axes>"
            ],
            "image/png": "[encoded data removed]"
          },
          "metadata": {}
        }
      ]
    },
    {
      "cell_type": "markdown",
      "source": [
        "Make a histogram of age_r, the respondent's age at the time of interview."
      ],
      "metadata": {
        "id": "kVC7-2ACWV7C"
      }
    },
    {
      "cell_type": "code",
      "source": [
        "hist = thinkstats2.Hist(resp.age_r)\n",
        "thinkplot.Hist(hist)\n",
        "thinkplot.Config(xlabel=\"respondent's age\", ylabel=\"Count\")"
      ],
      "metadata": {
        "id": "El_hHYOCWWW8",
        "outputId": "5e1feb89-bc06-40d0-ff52-c2ec59637fb0",
        "colab": {
          "base_uri": "https://localhost:8080/",
          "height": 449
        }
      },
      "execution_count": 59,
      "outputs": [
        {
          "output_type": "display_data",
          "data": {
            "text/plain": [
              "<Figure size 640x480 with 1 Axes>"
            ],
            "image/png": "[encoded data removed]"
          },
          "metadata": {}
        }
      ]
    },
    {
      "cell_type": "markdown",
      "source": [
        "Make a histogram of numfmhh, the number of people in the respondent's household."
      ],
      "metadata": {
        "id": "ko8JBe7FXORp"
      }
    },
    {
      "cell_type": "code",
      "source": [
        "hist = thinkstats2.Hist(resp.numfmhh)\n",
        "thinkplot.Hist(hist)\n",
        "thinkplot.Config(xlabel=\"respondent's household\", ylabel=\"Count\")"
      ],
      "metadata": {
        "id": "IoKIS_LaXOxi",
        "outputId": "1e29f4ae-fb18-4c4d-e238-90bf7b4d15bf",
        "colab": {
          "base_uri": "https://localhost:8080/",
          "height": 449
        }
      },
      "execution_count": 60,
      "outputs": [
        {
          "output_type": "display_data",
          "data": {
            "text/plain": [
              "<Figure size 640x480 with 1 Axes>"
            ],
            "image/png": "[encoded data removed]"
          },
          "metadata": {}
        }
      ]
    },
    {
      "cell_type": "markdown",
      "source": [
        "Make a histogram of parity, the number of children borne by the respondent. How would you describe this distribution?"
      ],
      "metadata": {
        "id": "YruLpD-_Xb2J"
      }
    },
    {
      "cell_type": "code",
      "source": [
        "hist = thinkstats2.Hist(resp.parity)\n",
        "thinkplot.Hist(hist)\n",
        "thinkplot.Config(xlabel=\"borne children\", ylabel=\"Count\")"
      ],
      "metadata": {
        "id": "iLuzS-0jXcXo",
        "outputId": "d2ddc4a3-405d-4898-dee1-d4d509337d83",
        "colab": {
          "base_uri": "https://localhost:8080/",
          "height": 449
        }
      },
      "execution_count": 61,
      "outputs": [
        {
          "output_type": "display_data",
          "data": {
            "text/plain": [
              "<Figure size 640x480 with 1 Axes>"
            ],
            "image/png": "[encoded data removed]"
          },
          "metadata": {}
        }
      ]
    },
    {
      "cell_type": "markdown",
      "source": [
        "Use Hist.Largest to find the largest values of parity."
      ],
      "metadata": {
        "id": "UQgFfKrtXvKu"
      }
    },
    {
      "cell_type": "code",
      "source": [
        "hist = thinkstats2.Hist(resp.parity)\n",
        "largest = hist.Largest()\n",
        "print(largest)"
      ],
      "metadata": {
        "id": "rSzwTxDCXUbL",
        "outputId": "c63d6a34-79ad-44b3-d615-dda567c64843",
        "colab": {
          "base_uri": "https://localhost:8080/"
        }
      },
      "execution_count": 62,
      "outputs": [
        {
          "output_type": "stream",
          "name": "stdout",
          "text": [
            "[(22, 1), (16, 1), (10, 3), (9, 2), (8, 8), (7, 15), (6, 29), (5, 95), (4, 309), (3, 828)]\n"
          ]
        }
      ]
    }
  ]
}