{
  "nbformat": 4,
  "nbformat_minor": 0,
  "metadata": {
    "colab": {
      "name": "04-svd-multilinear-regression.ipynb",
      "provenance": [],
      "toc_visible": true,
      "authorship_tag": "ABX9TyPQ97KsVhnX9IL1PH97CZt3",
      "include_colab_link": true
    },
    "kernelspec": {
      "name": "python3",
      "display_name": "Python 3"
    },
    "language_info": {
      "name": "python"
    }
  },
  "cells": [
    {
      "cell_type": "markdown",
      "metadata": {
        "id": "view-in-github",
        "colab_type": "text"
      },
      "source": [
        "<a href=\"https://colab.research.google.com/github/rahiakela/data-science-research-and-practice/blob/main/data-driven-science-and-engineering/01-svd/04_svd_multilinear_regression.ipynb\" target=\"_parent\"><img src=\"https://colab.research.google.com/assets/colab-badge.svg\" alt=\"Open In Colab\"/></a>"
      ]
    },
    {
      "cell_type": "markdown",
      "source": [
        "##SVD:Multi-Linear Regression-Cement heat generation data"
      ],
      "metadata": {
        "id": "ePeoJokNFZJO"
      }
    },
    {
      "cell_type": "markdown",
      "source": [
        "Regression is an important statistical tool to relate variables to one another based on data.\n",
        "\n",
        "We assume that the data is linearly related, and we use the pseudo-inverse to find the least-squares solution for the slope x below (blue dashed line).\n",
        "\n",
        "$$ Ax = b $$\n",
        "$$ A = U \\Sigma V^T $$\n",
        "$$ x = A^{-1}b $$\n",
        "$$ x = \\left ( U \\Sigma V^T \\right )^{-1} b $$\n",
        "$$ x = \\tilde V \\tilde \\Sigma^{-1} \\tilde U^* b $$\n",
        "\n",
        "Where, $\\tilde \\Sigma = ||a||_2, \\tilde V = 1$ and $\\tilde U = \\frac {a}{||a||_2}$. so we can take the left pseudo-inverse.\n",
        "\n",
        "$$ x = \\frac {a*b}{||a||_2^2} $$\n",
        "\n",
        "<img src='https://github.com/rahiakela/data-science-research-and-practice/blob/main/data-driven-science-and-engineering/01-svd/images/svd3.png?raw=1' width='400'/>\n",
        "\n",
        "This makes physical sense, if we think of $x$ as the value that best maps our vector $a$ to the vector $b$. Then, the best single value $x$ is obtained by taking the dot product of $b$ with the normalized $a$ direction. We then add a second normalization factor $||a||_2$ because the $a$ in is not normalized.\n",
        "\n",
        "\n",
        "Note that strange things happen if you use row vectors instead of column vectors. \n",
        "\n",
        "Also, if the noise magnitude becomes large relative to the slope $x$, the pseudoinverse will undergo a phase-change in accuracy, related to the hard-thresholding results."
      ],
      "metadata": {
        "id": "oosoKCc_Ksju"
      }
    },
    {
      "cell_type": "markdown",
      "source": [
        "##Setup"
      ],
      "metadata": {
        "id": "iWvtF7OlMAOV"
      }
    },
    {
      "cell_type": "code",
      "source": [
        "from matplotlib.image import imread\n",
        "import matplotlib.pyplot as plt\n",
        "import numpy as np\n",
        "import os\n",
        "\n",
        "plt.rcParams['figure.figsize'] = [8, 8]\n",
        "plt.rcParams.update({'font.size': 18})"
      ],
      "metadata": {
        "id": "6U7Tz5bAMBmo"
      },
      "execution_count": 1,
      "outputs": []
    },
    {
      "cell_type": "code",
      "source": [
        "%%shell\n",
        "\n",
        "wget https://github.com/rahiakela/data-science-research-and-practice/raw/main/data-driven-science-and-engineering/01-svd/datasets/hald_ingredients.csv\n",
        "wget https://github.com/rahiakela/data-science-research-and-practice/raw/main/data-driven-science-and-engineering/01-svd/datasets/hald_heat.csv\n"
      ],
      "metadata": {
        "id": "qexSO2Almx2l"
      },
      "execution_count": null,
      "outputs": []
    },
    {
      "cell_type": "markdown",
      "source": [
        "##Cement heat generation"
      ],
      "metadata": {
        "id": "-8quVxLDMB64"
      }
    },
    {
      "cell_type": "markdown",
      "source": [
        "First, we begin with a simple built-in Matlab dataset that describes the heat generation\n",
        "for various cement mixtures comprised of four basic ingredients.\n",
        "\n",
        "In this problem, we are solving $Ax=b$, where $A \\in R^{13 x 4}$, since there are four ingredients and heat measurements\n",
        "for 13 unique mixtures.\n",
        "\n",
        "The goal is to determine the weighting $x$ that relates the proportions\n",
        "of the four ingredients to the heat generation. It is possible to find the minimum error solution using the SVD.\n",
        "\n",
        "Alternatives, using regress and pinv, are\n",
        "also explored."
      ],
      "metadata": {
        "id": "AfoPZSSGoGK6"
      }
    },
    {
      "cell_type": "markdown",
      "source": [
        "Let's load data."
      ],
      "metadata": {
        "id": "N4Qb6tkGLaG2"
      }
    },
    {
      "cell_type": "code",
      "source": [
        "# Load dataset\n",
        "A = np.loadtxt(\"hald_ingredients.csv\", delimiter=\",\")\n",
        "b = np.loadtxt(\"hald_heat.csv\", delimiter=\",\")"
      ],
      "metadata": {
        "id": "9x4GRNqgMKsR"
      },
      "execution_count": 4,
      "outputs": []
    },
    {
      "cell_type": "markdown",
      "source": [
        "Let's compute $Ax=b$ using the SVD approximation."
      ],
      "metadata": {
        "id": "mJ6NiIQQuKYr"
      }
    },
    {
      "cell_type": "code",
      "source": [
        "# Solve Ax=b using the SVD\n",
        "U, S, VT = np.linalg.svd(A, full_matrices=0)\n",
        "x = VT.T @ np.linalg.inv(np.diag(S)) @ U.T @ b  "
      ],
      "metadata": {
        "id": "XsScxsbPuNfW"
      },
      "execution_count": 5,
      "outputs": []
    },
    {
      "cell_type": "markdown",
      "source": [
        "Let's plot the fit."
      ],
      "metadata": {
        "id": "yovbKOpOvTic"
      }
    },
    {
      "cell_type": "code",
      "source": [
        "plt.plot(b, Color='k', LineWidth=2, label='Heat Data') # True relationship\n",
        "plt.plot(A@x, '-o', Color='r', LineWidth=1.5, MarkerSize=6, label='Regression')\n",
        "plt.legend()\n",
        "plt.show()"
      ],
      "metadata": {
        "colab": {
          "base_uri": "https://localhost:8080/",
          "height": 265
        },
        "id": "RLujIIDCQmnV",
        "outputId": "4343f1c4-4124-4fac-9d36-2d9da43146f4"
      },
      "execution_count": 6,
      "outputs": [
        {
          "output_type": "display_data",
          "data": {
            "text/plain": [
              "<Figure size 432x288 with 1 Axes>"
            ],
            "image/png": "[encoded data removed]"
          },
          "metadata": {
            "needs_background": "light"
          }
        }
      ]
    }
  ]
}