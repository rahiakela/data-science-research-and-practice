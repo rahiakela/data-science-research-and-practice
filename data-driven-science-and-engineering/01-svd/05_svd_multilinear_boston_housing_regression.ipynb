{
  "nbformat": 4,
  "nbformat_minor": 0,
  "metadata": {
    "colab": {
      "name": "05-svd-multilinear-boston-housing-regression.ipynb",
      "provenance": [],
      "toc_visible": true,
      "authorship_tag": "ABX9TyPuEniUrA3PsP4wA7cPectR",
      "include_colab_link": true
    },
    "kernelspec": {
      "name": "python3",
      "display_name": "Python 3"
    },
    "language_info": {
      "name": "python"
    }
  },
  "cells": [
    {
      "cell_type": "markdown",
      "metadata": {
        "id": "view-in-github",
        "colab_type": "text"
      },
      "source": [
        "<a href=\"https://colab.research.google.com/github/rahiakela/data-science-research-and-practice/blob/main/data-driven-science-and-engineering/01-svd/05_svd_multilinear_boston_housing_regression.ipynb\" target=\"_parent\"><img src=\"https://colab.research.google.com/assets/colab-badge.svg\" alt=\"Open In Colab\"/></a>"
      ]
    },
    {
      "cell_type": "markdown",
      "source": [
        "##SVD:Multi-Linear Regression-Boston Housing data"
      ],
      "metadata": {
        "id": "ePeoJokNFZJO"
      }
    },
    {
      "cell_type": "markdown",
      "source": [
        "Regression is an important statistical tool to relate variables to one another based on data.\n",
        "\n",
        "We assume that the data is linearly related, and we use the pseudo-inverse to find the least-squares solution for the slope x below (blue dashed line).\n",
        "\n",
        "$$ Ax = b $$\n",
        "$$ A = U \\Sigma V^T $$\n",
        "$$ x = A^{-1}b $$\n",
        "$$ x = \\left ( U \\Sigma V^T \\right )^{-1} b $$\n",
        "$$ x = \\tilde V \\tilde \\Sigma^{-1} \\tilde U^* b $$\n",
        "\n",
        "Where, $\\tilde \\Sigma = ||a||_2, \\tilde V = 1$ and $\\tilde U = \\frac {a}{||a||_2}$. so we can take the left pseudo-inverse.\n",
        "\n",
        "$$ x = \\frac {a*b}{||a||_2^2} $$\n",
        "\n",
        "<img src='https://github.com/rahiakela/data-science-research-and-practice/blob/main/data-driven-science-and-engineering/01-svd/images/svd3.png?raw=1' width='400'/>\n",
        "\n",
        "This makes physical sense, if we think of $x$ as the value that best maps our vector $a$ to the vector $b$. Then, the best single value $x$ is obtained by taking the dot product of $b$ with the normalized $a$ direction. We then add a second normalization factor $||a||_2$ because the $a$ in is not normalized.\n",
        "\n",
        "\n",
        "Note that strange things happen if you use row vectors instead of column vectors. \n",
        "\n",
        "Also, if the noise magnitude becomes large relative to the slope $x$, the pseudoinverse will undergo a phase-change in accuracy, related to the hard-thresholding results."
      ],
      "metadata": {
        "id": "oosoKCc_Ksju"
      }
    },
    {
      "cell_type": "markdown",
      "source": [
        "##Setup"
      ],
      "metadata": {
        "id": "iWvtF7OlMAOV"
      }
    },
    {
      "cell_type": "code",
      "source": [
        "from matplotlib.image import imread\n",
        "import matplotlib.pyplot as plt\n",
        "import numpy as np\n",
        "import os\n",
        "\n",
        "plt.rcParams['figure.figsize'] = [8, 8]\n",
        "plt.rcParams.update({'font.size': 18})"
      ],
      "metadata": {
        "id": "6U7Tz5bAMBmo"
      },
      "execution_count": 1,
      "outputs": []
    },
    {
      "cell_type": "code",
      "source": [
        "%%shell\n",
        "\n",
        "wget https://github.com/rahiakela/data-science-research-and-practice/raw/main/data-driven-science-and-engineering/01-svd/datasets/housing.data"
      ],
      "metadata": {
        "id": "qexSO2Almx2l"
      },
      "execution_count": null,
      "outputs": []
    },
    {
      "cell_type": "markdown",
      "source": [
        "##Boston Housing Data"
      ],
      "metadata": {
        "id": "-8quVxLDMB64"
      }
    },
    {
      "cell_type": "markdown",
      "source": [
        "In this example, we explore a larger data set to determine which factors best predict prices\n",
        "in the Boston housing market.\n",
        "\n",
        "There are 13 attributes that are correlated with house price, such as per capita crime rate\n",
        "and property-tax rate. These features are regressed onto the price data, and the best fit price\n",
        "prediction is plotted against the true house value and the regression coefficients.\n",
        "\n",
        "Although the house value is not perfectly predicted, the trend agrees\n",
        "quite well. It is often the case that the highest value outliers are not well-captured by simple\n",
        "linear fits, as in this example.\n",
        "\n",
        "This data contains prices and attributes for 506 homes, so the attribute matrix is of size\n",
        "506 × 13. It is important to pad this matrix with an additional column of ones, to take into account the possibility of a nonzero constant offset in the regression formula. This\n",
        "corresponds to the “y-intercept” in a simple one-dimensional linear regression."
      ],
      "metadata": {
        "id": "AfoPZSSGoGK6"
      }
    },
    {
      "cell_type": "markdown",
      "source": [
        "Let's load data."
      ],
      "metadata": {
        "id": "N4Qb6tkGLaG2"
      }
    },
    {
      "cell_type": "code",
      "source": [
        "# Load dataset\n",
        "H = np.loadtxt(\"housing.data\")\n",
        "\n",
        "b = H[:, -1]    # housing values in $1000s\n",
        "A = H[:, :-1]   # other factors\n",
        "\n",
        "# Pad with ones for nonzero offset\n",
        "A = np.pad(A, [(0, 0), (0, 1)], mode=\"constant\", constant_values=1)"
      ],
      "metadata": {
        "id": "9x4GRNqgMKsR"
      },
      "execution_count": 3,
      "outputs": []
    },
    {
      "cell_type": "markdown",
      "source": [
        "Let's compute $Ax=b$ using the SVD approximation."
      ],
      "metadata": {
        "id": "mJ6NiIQQuKYr"
      }
    },
    {
      "cell_type": "code",
      "source": [
        "# Solve Ax=b using the SVD\n",
        "U, S, VT = np.linalg.svd(A, full_matrices=0)\n",
        "x = VT.T @ np.linalg.inv(np.diag(S)) @ U.T @ b  "
      ],
      "metadata": {
        "id": "XsScxsbPuNfW"
      },
      "execution_count": 4,
      "outputs": []
    },
    {
      "cell_type": "markdown",
      "source": [
        "Let's plot the fit."
      ],
      "metadata": {
        "id": "yovbKOpOvTic"
      }
    },
    {
      "cell_type": "code",
      "source": [
        "fig = plt.figure()\n",
        "ax1 = fig.add_subplot(121)\n",
        "\n",
        "plt.plot(b, Color='k', LineWidth=2, label='Housing Value') # True relationship\n",
        "plt.plot(A@x, '-o', Color='r', LineWidth=1.5, MarkerSize=6, label='Regression')\n",
        "plt.xlabel('Neighborhood')\n",
        "plt.ylabel('Median Home Value [$1k]')\n",
        "plt.legend()\n",
        "\n",
        "ax2 = fig.add_subplot(122)\n",
        "\n",
        "sort_ind = np.argsort(H[:, -1])\n",
        "b = b[sort_ind] # sorted values\n",
        "\n",
        "plt.plot(b, Color='k', LineWidth=2, label='Housing Value') # True relationship\n",
        "plt.plot(A[sort_ind, :] @ x, '-o', Color='r', LineWidth=1.5, MarkerSize=6, label='Regression')\n",
        "plt.legend()\n",
        "\n",
        "plt.show()"
      ],
      "metadata": {
        "colab": {
          "base_uri": "https://localhost:8080/",
          "height": 279
        },
        "id": "RLujIIDCQmnV",
        "outputId": "9910a7ce-9991-4ee2-b6b6-be1cecd965c4"
      },
      "execution_count": 5,
      "outputs": [
        {
          "output_type": "display_data",
          "data": {
            "text/plain": [
              "<Figure size 432x288 with 2 Axes>"
            ],
            "image/png": "[encoded data removed]"
          },
          "metadata": {
            "needs_background": "light"
          }
        }
      ]
    },
    {
      "cell_type": "markdown",
      "source": [
        "Now, let's plot attribute significance."
      ],
      "metadata": {
        "id": "E1RAlX-1w6Sh"
      }
    },
    {
      "cell_type": "code",
      "source": [
        "A_mean = np.mean(A, axis=0)\n",
        "A_mean = A_mean.reshape(-1, 1)\n",
        "\n",
        "A2 = A - np.ones((A.shape[0], 1)) @ A_mean.T\n",
        "\n",
        "for j in range(A.shape[1] - 1):\n",
        "  A2std = np.std(A2[:, j])\n",
        "  A2[:, j] = A2[:, j] / A2std\n",
        "\n",
        "A2[:, -1] = np.ones(A.shape[0])\n",
        "\n",
        "U, S, VT = np.linalg.svd(A2, full_matrices=0)\n",
        "x = VT.T @ np.linalg.inv(np.diag(S)) @ U.T @ b\n",
        "x_tick = range(len(x) - 1) + np.ones(len(x) - 1)\n",
        "\n",
        "plt.bar(x_tick, x[:-1])\n",
        "plt.xlabel('Attribute')\n",
        "plt.ylabel('Significance')\n",
        "plt.xticks(x_tick)\n",
        "plt.show()"
      ],
      "metadata": {
        "id": "N4ZNP8r9xA4-",
        "outputId": "9a39cb91-5557-4064-b583-957baff783be",
        "colab": {
          "base_uri": "https://localhost:8080/",
          "height": 279
        }
      },
      "execution_count": 8,
      "outputs": [
        {
          "output_type": "display_data",
          "data": {
            "text/plain": [
              "<Figure size 432x288 with 1 Axes>"
            ],
            "image/png": "[encoded data removed]"
          },
          "metadata": {
            "needs_background": "light"
          }
        }
      ]
    }
  ]
}