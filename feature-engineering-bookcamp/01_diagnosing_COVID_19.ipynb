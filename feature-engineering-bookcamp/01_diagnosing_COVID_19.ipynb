{
  "nbformat": 4,
  "nbformat_minor": 0,
  "metadata": {
    "colab": {
      "provenance": [],
      "toc_visible": true,
      "authorship_tag": "ABX9TyNeTA5KOpJM6dbozRWz9ydn",
      "include_colab_link": true
    },
    "kernelspec": {
      "name": "python3",
      "display_name": "Python 3"
    },
    "language_info": {
      "name": "python"
    }
  },
  "cells": [
    {
      "cell_type": "markdown",
      "metadata": {
        "id": "view-in-github",
        "colab_type": "text"
      },
      "source": [
        "<a href=\"https://colab.research.google.com/github/rahiakela/data-science-research-and-practice/blob/main/feature-engineering-bookcamp/01_diagnosing_COVID_19.ipynb\" target=\"_parent\"><img src=\"https://colab.research.google.com/assets/colab-badge.svg\" alt=\"Open In Colab\"/></a>"
      ]
    },
    {
      "cell_type": "markdown",
      "source": [
        "##Setup"
      ],
      "metadata": {
        "id": "bQi7slrKbeAe"
      }
    },
    {
      "cell_type": "code",
      "source": [
        "!pip install feature-engine"
      ],
      "metadata": {
        "id": "etj6yqINRaYW"
      },
      "execution_count": null,
      "outputs": []
    },
    {
      "cell_type": "code",
      "source": [
        "import numpy as np\n",
        "import pandas as pd\n",
        "\n",
        "import matplotlib.pyplot as plt\n",
        "\n",
        "import time\n",
        "np.random.seed(0)\n",
        "import random\n",
        "random.seed(0)"
      ],
      "metadata": {
        "id": "SvxNHn8Xbfha"
      },
      "execution_count": 2,
      "outputs": []
    },
    {
      "cell_type": "code",
      "source": [
        "from sklearn.impute import SimpleImputer\n",
        "from feature_engine.imputation import EndTailImputer\n",
        "from sklearn.preprocessing import PowerTransformer\n",
        "from sklearn.preprocessing import StandardScaler\n",
        "from sklearn.preprocessing import MinMaxScaler\n",
        "from sklearn.preprocessing import FunctionTransformer\n",
        "from sklearn.preprocessing import KBinsDiscretizer\n",
        "\n",
        "from sklearn.feature_selection import SelectKBest\n",
        "from sklearn.feature_selection import mutual_info_classif\n",
        "from sklearn.feature_selection import chi2\n",
        "from sklearn.feature_selection import SelectFromModel\n",
        "\n",
        "from sklearn.tree import DecisionTreeClassifier\n",
        "\n",
        "from sklearn.base import BaseEstimator, TransformerMixin\n",
        "from sklearn.preprocessing import MultiLabelBinarizer  # class to help make dummy variables\n",
        "from functools import reduce\n",
        "\n",
        "from sklearn.ensemble import ExtraTreesClassifier\n",
        "from sklearn.model_selection import GridSearchCV\n",
        "from sklearn.metrics import classification_report, mean_squared_error\n",
        "from sklearn.pipeline import Pipeline\n",
        "from sklearn.pipeline import Pipeline, FeatureUnion\n",
        "from sklearn.model_selection import train_test_split"
      ],
      "metadata": {
        "id": "1CGRZe7HboN3"
      },
      "execution_count": 3,
      "outputs": []
    },
    {
      "cell_type": "code",
      "source": [
        "!wget https://github.com/rahiakela/data-science-research-and-practice/raw/main/feature-engineering-bookcamp/data/covid_flu.csv"
      ],
      "metadata": {
        "id": "TDYPEfhzd83l"
      },
      "execution_count": null,
      "outputs": []
    },
    {
      "cell_type": "code",
      "source": [
        "def simple_grid_search(x_train, y_train, x_test, y_test, feature_engineering_pipeline):\n",
        "    '''\n",
        "    simple helper function to grid search an ExtraTreesClassifier model and\n",
        "    print out a classification report for the best param set.\n",
        "    Best here is defined as having the best cross-validated accuracy on the training set\n",
        "    '''\n",
        "\n",
        "    params = {  # some simple parameters to grid search\n",
        "        'max_depth': [10, None],\n",
        "        'n_estimators': [10, 50, 100, 500],\n",
        "        'criterion': ['gini', 'entropy']\n",
        "    }\n",
        "\n",
        "    base_model = ExtraTreesClassifier()\n",
        "\n",
        "    model_grid_search = GridSearchCV(base_model, param_grid=params, cv=3)\n",
        "    start_time = time.time()  # capture the start time\n",
        "    if feature_engineering_pipeline:  # fit FE pipeline to training data and use it to transform test data\n",
        "        parsed_x_train = feature_engineering_pipeline.fit_transform(x_train, y_train)\n",
        "        parsed_x_test = feature_engineering_pipeline.transform(x_test)\n",
        "    else:\n",
        "        parsed_x_train = x_train\n",
        "        parsed_x_test = x_test\n",
        "\n",
        "    parse_time = time.time()\n",
        "    print(f\"Parsing took {(parse_time - start_time):.2f} seconds\")\n",
        "\n",
        "    model_grid_search.fit(parsed_x_train, y_train)\n",
        "    fit_time = time.time()\n",
        "    print(f\"Training took {(fit_time - start_time):.2f} seconds\")\n",
        "\n",
        "    best_model = model_grid_search.best_estimator_\n",
        "\n",
        "    print(classification_report(y_true=y_test, y_pred=best_model.predict(parsed_x_test)))\n",
        "    end_time = time.time()\n",
        "    print(f\"Overall took {(end_time - start_time):.2f} seconds\")\n",
        "\n",
        "    return best_model"
      ],
      "metadata": {
        "id": "Vq9ih3Vsbqfr"
      },
      "execution_count": 5,
      "outputs": []
    },
    {
      "cell_type": "markdown",
      "source": [
        "##EDA"
      ],
      "metadata": {
        "id": "NzxCXwnsc26Q"
      }
    },
    {
      "cell_type": "code",
      "source": [
        "covid_flu = pd.read_csv(\"covid_flu.csv\")\n",
        "covid_flu.head()"
      ],
      "metadata": {
        "id": "L3ths0euc4E5",
        "outputId": "860e8ac5-3757-4463-8bc2-64e9de7722d9",
        "colab": {
          "base_uri": "https://localhost:8080/",
          "height": 226
        }
      },
      "execution_count": 6,
      "outputs": [
        {
          "output_type": "execute_result",
          "data": {
            "text/plain": [
              "  Diagnosis InitialPCRDiagnosis   Age Sex  neutrophil  \\\n",
              "0      H1N1                 NaN  67.0   F         NaN   \n",
              "1      H1N1                 NaN  29.0   M         NaN   \n",
              "2      H1N1                 NaN  22.0   F         NaN   \n",
              "3      H1N1                 NaN  20.0   F         NaN   \n",
              "4      H1N1                 NaN  21.0   M         NaN   \n",
              "\n",
              "   serumLevelsOfWhiteBloodCell  lymphocytes CReactiveProteinLevels  \\\n",
              "0                          NaN          NaN                    NaN   \n",
              "1                          NaN          NaN                    NaN   \n",
              "2                          NaN          NaN                    NaN   \n",
              "3                          NaN          NaN                    NaN   \n",
              "4                          NaN          NaN                    NaN   \n",
              "\n",
              "   DurationOfIllness CTscanResults RiskFactors GroundGlassOpacity Diarrhea  \\\n",
              "0                NaN           NaN         NaN                NaN      NaN   \n",
              "1                NaN           NaN         NaN                NaN      NaN   \n",
              "2                NaN           NaN         NaN                NaN      NaN   \n",
              "3                NaN           NaN      immuno                NaN      NaN   \n",
              "4                NaN           NaN         NaN                NaN      NaN   \n",
              "\n",
              "  Fever Coughing ShortnessOfBreath SoreThroat NauseaVomitting  Temperature  \\\n",
              "0   Yes      Yes               NaN         No             NaN    38.111111   \n",
              "1   NaN      NaN               NaN        NaN             NaN          NaN   \n",
              "2   NaN      NaN               NaN        NaN             NaN          NaN   \n",
              "3   Yes      Yes               NaN         No             NaN    36.555556   \n",
              "4   NaN      NaN               NaN        NaN             NaN          NaN   \n",
              "\n",
              "  Fatigue  \n",
              "0      No  \n",
              "1     NaN  \n",
              "2     NaN  \n",
              "3     Yes  \n",
              "4     NaN  "
            ],
            "text/html": [
              "\n",
              "  <div id=\"df-0a7c571a-3a9f-407d-a7c8-6c2eaeba04b5\" class=\"colab-df-container\">\n",
              "    <div>\n",
              "<style scoped>\n",
              "    .dataframe tbody tr th:only-of-type {\n",
              "        vertical-align: middle;\n",
              "    }\n",
              "\n",
              "    .dataframe tbody tr th {\n",
              "        vertical-align: top;\n",
              "    }\n",
              "\n",
              "    .dataframe thead th {\n",
              "        text-align: right;\n",
              "    }\n",
              "</style>\n",
              "<table border=\"1\" class=\"dataframe\">\n",
              "  <thead>\n",
              "    <tr style=\"text-align: right;\">\n",
              "      <th></th>\n",
              "      <th>Diagnosis</th>\n",
              "      <th>InitialPCRDiagnosis</th>\n",
              "      <th>Age</th>\n",
              "      <th>Sex</th>\n",
              "      <th>neutrophil</th>\n",
              "      <th>serumLevelsOfWhiteBloodCell</th>\n",
              "      <th>lymphocytes</th>\n",
              "      <th>CReactiveProteinLevels</th>\n",
              "      <th>DurationOfIllness</th>\n",
              "      <th>CTscanResults</th>\n",
              "      <th>RiskFactors</th>\n",
              "      <th>GroundGlassOpacity</th>\n",
              "      <th>Diarrhea</th>\n",
              "      <th>Fever</th>\n",
              "      <th>Coughing</th>\n",
              "      <th>ShortnessOfBreath</th>\n",
              "      <th>SoreThroat</th>\n",
              "      <th>NauseaVomitting</th>\n",
              "      <th>Temperature</th>\n",
              "      <th>Fatigue</th>\n",
              "    </tr>\n",
              "  </thead>\n",
              "  <tbody>\n",
              "    <tr>\n",
              "      <th>0</th>\n",
              "      <td>H1N1</td>\n",
              "      <td>NaN</td>\n",
              "      <td>67.0</td>\n",
              "      <td>F</td>\n",
              "      <td>NaN</td>\n",
              "      <td>NaN</td>\n",
              "      <td>NaN</td>\n",
              "      <td>NaN</td>\n",
              "      <td>NaN</td>\n",
              "      <td>NaN</td>\n",
              "      <td>NaN</td>\n",
              "      <td>NaN</td>\n",
              "      <td>NaN</td>\n",
              "      <td>Yes</td>\n",
              "      <td>Yes</td>\n",
              "      <td>NaN</td>\n",
              "      <td>No</td>\n",
              "      <td>NaN</td>\n",
              "      <td>38.111111</td>\n",
              "      <td>No</td>\n",
              "    </tr>\n",
              "    <tr>\n",
              "      <th>1</th>\n",
              "      <td>H1N1</td>\n",
              "      <td>NaN</td>\n",
              "      <td>29.0</td>\n",
              "      <td>M</td>\n",
              "      <td>NaN</td>\n",
              "      <td>NaN</td>\n",
              "      <td>NaN</td>\n",
              "      <td>NaN</td>\n",
              "      <td>NaN</td>\n",
              "      <td>NaN</td>\n",
              "      <td>NaN</td>\n",
              "      <td>NaN</td>\n",
              "      <td>NaN</td>\n",
              "      <td>NaN</td>\n",
              "      <td>NaN</td>\n",
              "      <td>NaN</td>\n",
              "      <td>NaN</td>\n",
              "      <td>NaN</td>\n",
              "      <td>NaN</td>\n",
              "      <td>NaN</td>\n",
              "    </tr>\n",
              "    <tr>\n",
              "      <th>2</th>\n",
              "      <td>H1N1</td>\n",
              "      <td>NaN</td>\n",
              "      <td>22.0</td>\n",
              "      <td>F</td>\n",
              "      <td>NaN</td>\n",
              "      <td>NaN</td>\n",
              "      <td>NaN</td>\n",
              "      <td>NaN</td>\n",
              "      <td>NaN</td>\n",
              "      <td>NaN</td>\n",
              "      <td>NaN</td>\n",
              "      <td>NaN</td>\n",
              "      <td>NaN</td>\n",
              "      <td>NaN</td>\n",
              "      <td>NaN</td>\n",
              "      <td>NaN</td>\n",
              "      <td>NaN</td>\n",
              "      <td>NaN</td>\n",
              "      <td>NaN</td>\n",
              "      <td>NaN</td>\n",
              "    </tr>\n",
              "    <tr>\n",
              "      <th>3</th>\n",
              "      <td>H1N1</td>\n",
              "      <td>NaN</td>\n",
              "      <td>20.0</td>\n",
              "      <td>F</td>\n",
              "      <td>NaN</td>\n",
              "      <td>NaN</td>\n",
              "      <td>NaN</td>\n",
              "      <td>NaN</td>\n",
              "      <td>NaN</td>\n",
              "      <td>NaN</td>\n",
              "      <td>immuno</td>\n",
              "      <td>NaN</td>\n",
              "      <td>NaN</td>\n",
              "      <td>Yes</td>\n",
              "      <td>Yes</td>\n",
              "      <td>NaN</td>\n",
              "      <td>No</td>\n",
              "      <td>NaN</td>\n",
              "      <td>36.555556</td>\n",
              "      <td>Yes</td>\n",
              "    </tr>\n",
              "    <tr>\n",
              "      <th>4</th>\n",
              "      <td>H1N1</td>\n",
              "      <td>NaN</td>\n",
              "      <td>21.0</td>\n",
              "      <td>M</td>\n",
              "      <td>NaN</td>\n",
              "      <td>NaN</td>\n",
              "      <td>NaN</td>\n",
              "      <td>NaN</td>\n",
              "      <td>NaN</td>\n",
              "      <td>NaN</td>\n",
              "      <td>NaN</td>\n",
              "      <td>NaN</td>\n",
              "      <td>NaN</td>\n",
              "      <td>NaN</td>\n",
              "      <td>NaN</td>\n",
              "      <td>NaN</td>\n",
              "      <td>NaN</td>\n",
              "      <td>NaN</td>\n",
              "      <td>NaN</td>\n",
              "      <td>NaN</td>\n",
              "    </tr>\n",
              "  </tbody>\n",
              "</table>\n",
              "</div>\n",
              "    <div class=\"colab-df-buttons\">\n",
              "\n",
              "  <div class=\"colab-df-container\">\n",
              "    <button class=\"colab-df-convert\" onclick=\"convertToInteractive('df-0a7c571a-3a9f-407d-a7c8-6c2eaeba04b5')\"\n",
              "            title=\"Convert this dataframe to an interactive table.\"\n",
              "            style=\"display:none;\">\n",
              "\n",
              "  <svg xmlns=\"http://www.w3.org/2000/svg\" height=\"24px\" viewBox=\"0 -960 960 960\">\n",
              "    <path d=\"M120-120v-720h720v720H120Zm60-500h600v-160H180v160Zm220 220h160v-160H400v160Zm0 220h160v-160H400v160ZM180-400h160v-160H180v160Zm440 0h160v-160H620v160ZM180-180h160v-160H180v160Zm440 0h160v-160H620v160Z\"/>\n",
              "  </svg>\n",
              "    </button>\n",
              "\n",
              "  <style>\n",
              "    .colab-df-container {\n",
              "      display:flex;\n",
              "      gap: 12px;\n",
              "    }\n",
              "\n",
              "    .colab-df-convert {\n",
              "      background-color: #E8F0FE;\n",
              "      border: none;\n",
              "      border-radius: 50%;\n",
              "      cursor: pointer;\n",
              "      display: none;\n",
              "      fill: #1967D2;\n",
              "      height: 32px;\n",
              "      padding: 0 0 0 0;\n",
              "      width: 32px;\n",
              "    }\n",
              "\n",
              "    .colab-df-convert:hover {\n",
              "      background-color: #E2EBFA;\n",
              "      box-shadow: 0px 1px 2px rgba(60, 64, 67, 0.3), 0px 1px 3px 1px rgba(60, 64, 67, 0.15);\n",
              "      fill: #174EA6;\n",
              "    }\n",
              "\n",
              "    .colab-df-buttons div {\n",
              "      margin-bottom: 4px;\n",
              "    }\n",
              "\n",
              "    [theme=dark] .colab-df-convert {\n",
              "      background-color: #3B4455;\n",
              "      fill: #D2E3FC;\n",
              "    }\n",
              "\n",
              "    [theme=dark] .colab-df-convert:hover {\n",
              "      background-color: #434B5C;\n",
              "      box-shadow: 0px 1px 3px 1px rgba(0, 0, 0, 0.15);\n",
              "      filter: drop-shadow(0px 1px 2px rgba(0, 0, 0, 0.3));\n",
              "      fill: #FFFFFF;\n",
              "    }\n",
              "  </style>\n",
              "\n",
              "    <script>\n",
              "      const buttonEl =\n",
              "        document.querySelector('#df-0a7c571a-3a9f-407d-a7c8-6c2eaeba04b5 button.colab-df-convert');\n",
              "      buttonEl.style.display =\n",
              "        google.colab.kernel.accessAllowed ? 'block' : 'none';\n",
              "\n",
              "      async function convertToInteractive(key) {\n",
              "        const element = document.querySelector('#df-0a7c571a-3a9f-407d-a7c8-6c2eaeba04b5');\n",
              "        const dataTable =\n",
              "          await google.colab.kernel.invokeFunction('convertToInteractive',\n",
              "                                                    [key], {});\n",
              "        if (!dataTable) return;\n",
              "\n",
              "        const docLinkHtml = 'Like what you see? Visit the ' +\n",
              "          '<a target=\"_blank\" href=https://colab.research.google.com/notebooks/data_table.ipynb>data table notebook</a>'\n",
              "          + ' to learn more about interactive tables.';\n",
              "        element.innerHTML = '';\n",
              "        dataTable['output_type'] = 'display_data';\n",
              "        await google.colab.output.renderOutput(dataTable, element);\n",
              "        const docLink = document.createElement('div');\n",
              "        docLink.innerHTML = docLinkHtml;\n",
              "        element.appendChild(docLink);\n",
              "      }\n",
              "    </script>\n",
              "  </div>\n",
              "\n",
              "\n",
              "<div id=\"df-9c21a852-30b4-48c5-b22e-4d073be9fc4f\">\n",
              "  <button class=\"colab-df-quickchart\" onclick=\"quickchart('df-9c21a852-30b4-48c5-b22e-4d073be9fc4f')\"\n",
              "            title=\"Suggest charts\"\n",
              "            style=\"display:none;\">\n",
              "\n",
              "<svg xmlns=\"http://www.w3.org/2000/svg\" height=\"24px\"viewBox=\"0 0 24 24\"\n",
              "     width=\"24px\">\n",
              "    <g>\n",
              "        <path d=\"M19 3H5c-1.1 0-2 .9-2 2v14c0 1.1.9 2 2 2h14c1.1 0 2-.9 2-2V5c0-1.1-.9-2-2-2zM9 17H7v-7h2v7zm4 0h-2V7h2v10zm4 0h-2v-4h2v4z\"/>\n",
              "    </g>\n",
              "</svg>\n",
              "  </button>\n",
              "\n",
              "<style>\n",
              "  .colab-df-quickchart {\n",
              "      --bg-color: #E8F0FE;\n",
              "      --fill-color: #1967D2;\n",
              "      --hover-bg-color: #E2EBFA;\n",
              "      --hover-fill-color: #174EA6;\n",
              "      --disabled-fill-color: #AAA;\n",
              "      --disabled-bg-color: #DDD;\n",
              "  }\n",
              "\n",
              "  [theme=dark] .colab-df-quickchart {\n",
              "      --bg-color: #3B4455;\n",
              "      --fill-color: #D2E3FC;\n",
              "      --hover-bg-color: #434B5C;\n",
              "      --hover-fill-color: #FFFFFF;\n",
              "      --disabled-bg-color: #3B4455;\n",
              "      --disabled-fill-color: #666;\n",
              "  }\n",
              "\n",
              "  .colab-df-quickchart {\n",
              "    background-color: var(--bg-color);\n",
              "    border: none;\n",
              "    border-radius: 50%;\n",
              "    cursor: pointer;\n",
              "    display: none;\n",
              "    fill: var(--fill-color);\n",
              "    height: 32px;\n",
              "    padding: 0;\n",
              "    width: 32px;\n",
              "  }\n",
              "\n",
              "  .colab-df-quickchart:hover {\n",
              "    background-color: var(--hover-bg-color);\n",
              "    box-shadow: 0 1px 2px rgba(60, 64, 67, 0.3), 0 1px 3px 1px rgba(60, 64, 67, 0.15);\n",
              "    fill: var(--button-hover-fill-color);\n",
              "  }\n",
              "\n",
              "  .colab-df-quickchart-complete:disabled,\n",
              "  .colab-df-quickchart-complete:disabled:hover {\n",
              "    background-color: var(--disabled-bg-color);\n",
              "    fill: var(--disabled-fill-color);\n",
              "    box-shadow: none;\n",
              "  }\n",
              "\n",
              "  .colab-df-spinner {\n",
              "    border: 2px solid var(--fill-color);\n",
              "    border-color: transparent;\n",
              "    border-bottom-color: var(--fill-color);\n",
              "    animation:\n",
              "      spin 1s steps(1) infinite;\n",
              "  }\n",
              "\n",
              "  @keyframes spin {\n",
              "    0% {\n",
              "      border-color: transparent;\n",
              "      border-bottom-color: var(--fill-color);\n",
              "      border-left-color: var(--fill-color);\n",
              "    }\n",
              "    20% {\n",
              "      border-color: transparent;\n",
              "      border-left-color: var(--fill-color);\n",
              "      border-top-color: var(--fill-color);\n",
              "    }\n",
              "    30% {\n",
              "      border-color: transparent;\n",
              "      border-left-color: var(--fill-color);\n",
              "      border-top-color: var(--fill-color);\n",
              "      border-right-color: var(--fill-color);\n",
              "    }\n",
              "    40% {\n",
              "      border-color: transparent;\n",
              "      border-right-color: var(--fill-color);\n",
              "      border-top-color: var(--fill-color);\n",
              "    }\n",
              "    60% {\n",
              "      border-color: transparent;\n",
              "      border-right-color: var(--fill-color);\n",
              "    }\n",
              "    80% {\n",
              "      border-color: transparent;\n",
              "      border-right-color: var(--fill-color);\n",
              "      border-bottom-color: var(--fill-color);\n",
              "    }\n",
              "    90% {\n",
              "      border-color: transparent;\n",
              "      border-bottom-color: var(--fill-color);\n",
              "    }\n",
              "  }\n",
              "</style>\n",
              "\n",
              "  <script>\n",
              "    async function quickchart(key) {\n",
              "      const quickchartButtonEl =\n",
              "        document.querySelector('#' + key + ' button');\n",
              "      quickchartButtonEl.disabled = true;  // To prevent multiple clicks.\n",
              "      quickchartButtonEl.classList.add('colab-df-spinner');\n",
              "      try {\n",
              "        const charts = await google.colab.kernel.invokeFunction(\n",
              "            'suggestCharts', [key], {});\n",
              "      } catch (error) {\n",
              "        console.error('Error during call to suggestCharts:', error);\n",
              "      }\n",
              "      quickchartButtonEl.classList.remove('colab-df-spinner');\n",
              "      quickchartButtonEl.classList.add('colab-df-quickchart-complete');\n",
              "    }\n",
              "    (() => {\n",
              "      let quickchartButtonEl =\n",
              "        document.querySelector('#df-9c21a852-30b4-48c5-b22e-4d073be9fc4f button');\n",
              "      quickchartButtonEl.style.display =\n",
              "        google.colab.kernel.accessAllowed ? 'block' : 'none';\n",
              "    })();\n",
              "  </script>\n",
              "</div>\n",
              "\n",
              "    </div>\n",
              "  </div>\n"
            ]
          },
          "metadata": {},
          "execution_count": 6
        }
      ]
    },
    {
      "cell_type": "code",
      "source": [
        "covid_flu.shape"
      ],
      "metadata": {
        "id": "ju7jVAJ6fRq0",
        "outputId": "509ad575-9a2e-4ccb-d1e7-8c0b95c84e6c",
        "colab": {
          "base_uri": "https://localhost:8080/"
        }
      },
      "execution_count": 7,
      "outputs": [
        {
          "output_type": "execute_result",
          "data": {
            "text/plain": [
              "(1482, 20)"
            ]
          },
          "metadata": {},
          "execution_count": 7
        }
      ]
    },
    {
      "cell_type": "code",
      "source": [
        "# Let’s see what percent of values are missing for each feature\n",
        "covid_flu.isnull().mean()"
      ],
      "metadata": {
        "id": "1hWGK1yifUpI",
        "outputId": "99d987be-d9df-45db-d42c-f7b3151cc9a4",
        "colab": {
          "base_uri": "https://localhost:8080/"
        }
      },
      "execution_count": 8,
      "outputs": [
        {
          "output_type": "execute_result",
          "data": {
            "text/plain": [
              "Diagnosis                      0.000000\n",
              "InitialPCRDiagnosis            0.929825\n",
              "Age                            0.018893\n",
              "Sex                            0.051282\n",
              "neutrophil                     0.930499\n",
              "serumLevelsOfWhiteBloodCell    0.898111\n",
              "lymphocytes                    0.894737\n",
              "CReactiveProteinLevels         0.907557\n",
              "DurationOfIllness              0.941296\n",
              "CTscanResults                  0.892713\n",
              "RiskFactors                    0.858974\n",
              "GroundGlassOpacity             0.937247\n",
              "Diarrhea                       0.696356\n",
              "Fever                          0.377193\n",
              "Coughing                       0.420378\n",
              "ShortnessOfBreath              0.949393\n",
              "SoreThroat                     0.547908\n",
              "NauseaVomitting                0.715924\n",
              "Temperature                    0.576248\n",
              "Fatigue                        0.641700\n",
              "dtype: float64"
            ]
          },
          "metadata": {},
          "execution_count": 8
        }
      ]
    },
    {
      "cell_type": "code",
      "source": [
        "# let's see percent breakdown of response variable\n",
        "covid_flu[\"Diagnosis\"].value_counts(normalize=True)"
      ],
      "metadata": {
        "id": "_T01uOV9f6TI",
        "outputId": "614c9be8-f0bc-4637-b7f8-67a514d10928",
        "colab": {
          "base_uri": "https://localhost:8080/"
        }
      },
      "execution_count": 9,
      "outputs": [
        {
          "output_type": "execute_result",
          "data": {
            "text/plain": [
              "H1N1       0.723347\n",
              "COVID19    0.276653\n",
              "Name: Diagnosis, dtype: float64"
            ]
          },
          "metadata": {},
          "execution_count": 9
        }
      ]
    },
    {
      "cell_type": "code",
      "source": [
        "covid_flu.info()"
      ],
      "metadata": {
        "id": "yLXZEV8SgF17",
        "outputId": "88b9495a-98b3-41d8-b279-25b1868c4a4f",
        "colab": {
          "base_uri": "https://localhost:8080/"
        }
      },
      "execution_count": 10,
      "outputs": [
        {
          "output_type": "stream",
          "name": "stdout",
          "text": [
            "<class 'pandas.core.frame.DataFrame'>\n",
            "RangeIndex: 1482 entries, 0 to 1481\n",
            "Data columns (total 20 columns):\n",
            " #   Column                       Non-Null Count  Dtype  \n",
            "---  ------                       --------------  -----  \n",
            " 0   Diagnosis                    1482 non-null   object \n",
            " 1   InitialPCRDiagnosis          104 non-null    object \n",
            " 2   Age                          1454 non-null   float64\n",
            " 3   Sex                          1406 non-null   object \n",
            " 4   neutrophil                   103 non-null    float64\n",
            " 5   serumLevelsOfWhiteBloodCell  151 non-null    float64\n",
            " 6   lymphocytes                  156 non-null    float64\n",
            " 7   CReactiveProteinLevels       137 non-null    object \n",
            " 8   DurationOfIllness            87 non-null     float64\n",
            " 9   CTscanResults                159 non-null    object \n",
            " 10  RiskFactors                  209 non-null    object \n",
            " 11  GroundGlassOpacity           93 non-null     object \n",
            " 12  Diarrhea                     450 non-null    object \n",
            " 13  Fever                        923 non-null    object \n",
            " 14  Coughing                     859 non-null    object \n",
            " 15  ShortnessOfBreath            75 non-null     object \n",
            " 16  SoreThroat                   670 non-null    object \n",
            " 17  NauseaVomitting              421 non-null    object \n",
            " 18  Temperature                  628 non-null    float64\n",
            " 19  Fatigue                      531 non-null    object \n",
            "dtypes: float64(6), object(14)\n",
            "memory usage: 231.7+ KB\n"
          ]
        }
      ]
    },
    {
      "cell_type": "markdown",
      "source": [
        "##Feature improvement"
      ],
      "metadata": {
        "id": "RzdZOwNIg7lK"
      }
    },
    {
      "cell_type": "markdown",
      "source": [
        "**Imputing missing quantitative data**"
      ],
      "metadata": {
        "id": "-skXHoCjQrWS"
      }
    },
    {
      "cell_type": "code",
      "source": [
        "# Let’s grab the numerical columns and put them in a list\n",
        "numeric_types = [\"float16\", \"float32\", \"float64\", \"int16\", \"int32\", \"int64\"]\n",
        "numerical_columns = covid_flu.select_dtypes(include=numeric_types).columns.tolist()\n",
        "numerical_columns"
      ],
      "metadata": {
        "id": "bsXoVXLBg8OC",
        "outputId": "1b1b4f8b-7928-49c1-f3be-e34b960c8421",
        "colab": {
          "base_uri": "https://localhost:8080/"
        }
      },
      "execution_count": 11,
      "outputs": [
        {
          "output_type": "execute_result",
          "data": {
            "text/plain": [
              "['Age',\n",
              " 'neutrophil',\n",
              " 'serumLevelsOfWhiteBloodCell',\n",
              " 'lymphocytes',\n",
              " 'DurationOfIllness',\n",
              " 'Temperature']"
            ]
          },
          "metadata": {},
          "execution_count": 11
        }
      ]
    },
    {
      "cell_type": "code",
      "source": [
        "## MEAN/MEDIAN IMPUTATION\n",
        "num_imputer = SimpleImputer(strategy=\"mean\")  # Could be mean or median for numerical values\n",
        "print(covid_flu[\"lymphocytes\"].head())        # Shows the first five values before imputing\n",
        "print(f\"\\n\\nMean of Lymphocytes column is {covid_flu['lymphocytes'].mean()}\\n\\n\")\n",
        "print(num_imputer.fit_transform(covid_flu[[\"lymphocytes\"]])[:5])"
      ],
      "metadata": {
        "id": "M4c9VOOHOqRR",
        "outputId": "98b99b17-a74e-4839-f0c9-17bb72358b7a",
        "colab": {
          "base_uri": "https://localhost:8080/"
        }
      },
      "execution_count": 12,
      "outputs": [
        {
          "output_type": "stream",
          "name": "stdout",
          "text": [
            "0   NaN\n",
            "1   NaN\n",
            "2   NaN\n",
            "3   NaN\n",
            "4   NaN\n",
            "Name: lymphocytes, dtype: float64\n",
            "\n",
            "\n",
            "Mean of Lymphocytes column is 1.8501538461538463\n",
            "\n",
            "\n",
            "[[1.85015385]\n",
            " [1.85015385]\n",
            " [1.85015385]\n",
            " [1.85015385]\n",
            " [1.85015385]]\n"
          ]
        }
      ]
    },
    {
      "cell_type": "code",
      "source": [
        "# End-of-tail imputation\n",
        "covid_flu[\"lymphocytes\"].plot(title=\"Lymphocytes\", kind=\"hist\", xlabel=\"cells/μL\")"
      ],
      "metadata": {
        "id": "h3X0dVbOP4rm",
        "outputId": "3b013452-3322-4716-9aaa-d7c5454e0f90",
        "colab": {
          "base_uri": "https://localhost:8080/",
          "height": 469
        }
      },
      "execution_count": 13,
      "outputs": [
        {
          "output_type": "execute_result",
          "data": {
            "text/plain": [
              "<Axes: title={'center': 'Lymphocytes'}, ylabel='Frequency'>"
            ]
          },
          "metadata": {},
          "execution_count": 13
        },
        {
          "output_type": "display_data",
          "data": {
            "text/plain": [
              "<Figure size 640x480 with 1 Axes>"
            ],
            "image/png": "[encoded data removed]"
          },
          "metadata": {}
        }
      ]
    },
    {
      "cell_type": "code",
      "source": [
        "# let's impute values into the feature, using the default Gaussian method (arithmetic mean + 3 * standard deviation)\n",
        "EndTailImputer().fit_transform(covid_flu[[\"lymphocytes\"]]).plot(title=\"Lymphocytes(Imputed)\", kind=\"hist\", xlabel=\"cells/μL\")"
      ],
      "metadata": {
        "id": "9TK0rmskSko4",
        "outputId": "22154f17-92de-4933-a32b-46cf61030459",
        "colab": {
          "base_uri": "https://localhost:8080/",
          "height": 469
        }
      },
      "execution_count": 14,
      "outputs": [
        {
          "output_type": "execute_result",
          "data": {
            "text/plain": [
              "<Axes: title={'center': 'Lymphocytes(Imputed)'}, ylabel='Frequency'>"
            ]
          },
          "metadata": {},
          "execution_count": 14
        },
        {
          "output_type": "display_data",
          "data": {
            "text/plain": [
              "<Figure size 640x480 with 1 Axes>"
            ],
            "image/png": "[encoded data removed]"
          },
          "metadata": {}
        }
      ]
    },
    {
      "cell_type": "code",
      "source": [
        "# Gaussian method (arithmetic mean + 3 * standard deviation)\n",
        "# arithmetic mean of the feature is 1.850154, and our standard deviation is 3.956668\n",
        "# 1.850154 + 3 * 3.956668 = 13.720158\n",
        "1.850154 + 3 * 3.956668"
      ],
      "metadata": {
        "id": "MjAswj0mT3qD",
        "outputId": "2bc15e76-1c97-4809-ff43-8b855bccd6c6",
        "colab": {
          "base_uri": "https://localhost:8080/"
        }
      },
      "execution_count": 15,
      "outputs": [
        {
          "output_type": "execute_result",
          "data": {
            "text/plain": [
              "13.720158"
            ]
          },
          "metadata": {},
          "execution_count": 15
        }
      ]
    },
    {
      "cell_type": "code",
      "source": [
        "# If our arithmetic mean was 8.34 and our standard deviation was 2.35\n",
        "8.34 + 3 * 2.35"
      ],
      "metadata": {
        "id": "fDr71YelUPld",
        "outputId": "83cec74f-ff94-421f-b8e5-66fd7ebaa456",
        "colab": {
          "base_uri": "https://localhost:8080/"
        }
      },
      "execution_count": 16,
      "outputs": [
        {
          "output_type": "execute_result",
          "data": {
            "text/plain": [
              "15.39"
            ]
          },
          "metadata": {},
          "execution_count": 16
        }
      ]
    },
    {
      "cell_type": "markdown",
      "source": [
        "**Imputing missing qualitative data**"
      ],
      "metadata": {
        "id": "Oz37LckzUcGN"
      }
    },
    {
      "cell_type": "code",
      "source": [
        "# Counting values of qualitative features\n",
        "categorical_types = [\"O\"]  # The \"object\" type in pandas\n",
        "categorical_columns = covid_flu.select_dtypes(include=categorical_types).columns.tolist()\n",
        "categorical_columns.remove(\"Diagnosis\") # remove response variable from this list\n",
        "for categorical_column in categorical_columns:\n",
        "  print(\"=========================\")\n",
        "  print(categorical_column)\n",
        "  print(\"=========================\")\n",
        "  print(covid_flu[categorical_column].value_counts(dropna=False))"
      ],
      "metadata": {
        "id": "p48STp5rUdNS",
        "outputId": "0c4baa56-1b9c-4286-8f1c-3b6aa8a4b34b",
        "colab": {
          "base_uri": "https://localhost:8080/"
        }
      },
      "execution_count": 18,
      "outputs": [
        {
          "output_type": "stream",
          "name": "stdout",
          "text": [
            "=========================\n",
            "InitialPCRDiagnosis\n",
            "=========================\n",
            "NaN    1378\n",
            "Yes     100\n",
            "No        4\n",
            "Name: InitialPCRDiagnosis, dtype: int64\n",
            "=========================\n",
            "Sex\n",
            "=========================\n",
            "M      748\n",
            "F      658\n",
            "NaN     76\n",
            "Name: Sex, dtype: int64\n",
            "=========================\n",
            "CReactiveProteinLevels\n",
            "=========================\n",
            "NaN           1345\n",
            "8                3\n",
            "0.5              3\n",
            "15               3\n",
            "111              2\n",
            "              ... \n",
            "5.78             1\n",
            "67.62            1\n",
            "13.2 mg/dL       1\n",
            "21.27            1\n",
            "0.6              1\n",
            "Name: CReactiveProteinLevels, Length: 121, dtype: int64\n",
            "=========================\n",
            "CTscanResults\n",
            "=========================\n",
            "NaN    1323\n",
            "Yes     144\n",
            "No       15\n",
            "Name: CTscanResults, dtype: int64\n",
            "=========================\n",
            "RiskFactors\n",
            "=========================\n",
            "NaN                                                                   1273\n",
            "asthma                                                                  36\n",
            "pneumonia                                                               21\n",
            "immuno                                                                  21\n",
            "diabetes                                                                16\n",
            "                                                                      ... \n",
            "diabetes, Hypertension                                                   1\n",
            "Hypertension, Heart Disease, chronic obstructive pulmonary disease       1\n",
            "rheumatoid arthritis                                                     1\n",
            "hematological disease, immuno, Renal Disease                             1\n",
            "Lung Disease                                                             1\n",
            "Name: RiskFactors, Length: 64, dtype: int64\n",
            "=========================\n",
            "GroundGlassOpacity\n",
            "=========================\n",
            "NaN    1389\n",
            "Yes      90\n",
            "No        3\n",
            "Name: GroundGlassOpacity, dtype: int64\n",
            "=========================\n",
            "Diarrhea\n",
            "=========================\n",
            "NaN    1032\n",
            "No      340\n",
            "Yes     110\n",
            "Name: Diarrhea, dtype: int64\n",
            "=========================\n",
            "Fever\n",
            "=========================\n",
            "Yes    777\n",
            "NaN    559\n",
            "No     146\n",
            "Name: Fever, dtype: int64\n",
            "=========================\n",
            "Coughing\n",
            "=========================\n",
            "Yes    745\n",
            "NaN    623\n",
            "No     114\n",
            "Name: Coughing, dtype: int64\n",
            "=========================\n",
            "ShortnessOfBreath\n",
            "=========================\n",
            "NaN    1407\n",
            "Yes      45\n",
            "No       30\n",
            "Name: ShortnessOfBreath, dtype: int64\n",
            "=========================\n",
            "SoreThroat\n",
            "=========================\n",
            "NaN    812\n",
            "Yes    407\n",
            "No     263\n",
            "Name: SoreThroat, dtype: int64\n",
            "=========================\n",
            "NauseaVomitting\n",
            "=========================\n",
            "NaN    1061\n",
            "No      319\n",
            "Yes     102\n",
            "Name: NauseaVomitting, dtype: int64\n",
            "=========================\n",
            "Fatigue\n",
            "=========================\n",
            "NaN    951\n",
            "Yes    348\n",
            "No     183\n",
            "Name: Fatigue, dtype: int64\n"
          ]
        }
      ]
    },
    {
      "cell_type": "code",
      "source": [
        "# Let’s start by turning the Sex column into a true/false binary column\n",
        "covid_flu[\"Female\"] = covid_flu[\"Sex\"] == \"F\"\n",
        "del covid_flu[\"Sex\"]\n",
        "\n",
        "# replace Yes and No with true and false\n",
        "covid_flu = covid_flu.replace({\"Yes\": True, \"No\": False})"
      ],
      "metadata": {
        "id": "sw_W-EJpWXzp"
      },
      "execution_count": 19,
      "outputs": []
    },
    {
      "cell_type": "code",
      "source": [
        "covid_flu[\"Female\"].head()"
      ],
      "metadata": {
        "id": "C_bX8dG9XVJB",
        "outputId": "27d28fa4-49b7-4f51-84e9-caefea3e3304",
        "colab": {
          "base_uri": "https://localhost:8080/"
        }
      },
      "execution_count": 21,
      "outputs": [
        {
          "output_type": "execute_result",
          "data": {
            "text/plain": [
              "0     True\n",
              "1    False\n",
              "2     True\n",
              "3     True\n",
              "4    False\n",
              "Name: Female, dtype: bool"
            ]
          },
          "metadata": {},
          "execution_count": 21
        }
      ]
    },
    {
      "cell_type": "code",
      "source": [
        "# MOST-FREQUENT CATEGORY IMPUTATION\n",
        "cat_imputer = SimpleImputer(strategy=\"most_frequent\")"
      ],
      "metadata": {
        "id": "2QdvWetsXt9L",
        "outputId": "1ddd198a-626d-4458-cf41-d02b42cd8e0f",
        "colab": {
          "base_uri": "https://localhost:8080/"
        }
      },
      "execution_count": 22,
      "outputs": [
        {
          "output_type": "execute_result",
          "data": {
            "text/plain": [
              "0    True\n",
              "1     NaN\n",
              "2     NaN\n",
              "3    True\n",
              "4     NaN\n",
              "Name: Coughing, dtype: object"
            ]
          },
          "metadata": {},
          "execution_count": 22
        }
      ]
    },
    {
      "cell_type": "code",
      "source": [
        "# Transforming turns the column into a NumPy array\n",
        "print(covid_flu[\"Coughing\"].head())\n",
        "cat_imputer.fit_transform(covid_flu[[\"Coughing\"]])[:5]"
      ],
      "metadata": {
        "id": "78K9RyV8YEew",
        "outputId": "4aab75ad-71f3-40c1-b225-712c5b4909d1",
        "colab": {
          "base_uri": "https://localhost:8080/"
        }
      },
      "execution_count": 23,
      "outputs": [
        {
          "output_type": "stream",
          "name": "stdout",
          "text": [
            "0    True\n",
            "1     NaN\n",
            "2     NaN\n",
            "3    True\n",
            "4     NaN\n",
            "Name: Coughing, dtype: object\n"
          ]
        },
        {
          "output_type": "execute_result",
          "data": {
            "text/plain": [
              "array([[True],\n",
              "       [True],\n",
              "       [True],\n",
              "       [True],\n",
              "       [True]], dtype=object)"
            ]
          },
          "metadata": {},
          "execution_count": 23
        }
      ]
    },
    {
      "cell_type": "markdown",
      "source": [
        "##Feature construction"
      ],
      "metadata": {
        "id": "X4tZEYBtZO5j"
      }
    },
    {
      "cell_type": "code",
      "source": [],
      "metadata": {
        "id": "fn07LqgEYjpd"
      },
      "execution_count": null,
      "outputs": []
    }
  ]
}