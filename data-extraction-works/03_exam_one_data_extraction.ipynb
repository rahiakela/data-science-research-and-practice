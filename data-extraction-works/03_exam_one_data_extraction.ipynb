{
  "nbformat": 4,
  "nbformat_minor": 0,
  "metadata": {
    "colab": {
      "provenance": [],
      "toc_visible": true,
      "authorship_tag": "ABX9TyMMSe3B4FgaL+NffsWVR0pO",
      "include_colab_link": true
    },
    "kernelspec": {
      "name": "python3",
      "display_name": "Python 3"
    },
    "language_info": {
      "name": "python"
    }
  },
  "cells": [
    {
      "cell_type": "markdown",
      "metadata": {
        "id": "view-in-github",
        "colab_type": "text"
      },
      "source": [
        "<a href=\"https://colab.research.google.com/github/rahiakela/data-science-research-and-practice/blob/main/data-extraction-works/03_exam_one_data_extraction.ipynb\" target=\"_parent\"><img src=\"https://colab.research.google.com/assets/colab-badge.svg\" alt=\"Open In Colab\"/></a>"
      ]
    },
    {
      "cell_type": "markdown",
      "source": [
        "**Reference**\n",
        "\n",
        "https://www.geeksforgeeks.org/drop-rows-from-the-dataframe-based-on-certain-condition-applied-on-a-column/\n",
        "\n",
        "https://datatofish.com/export-pandas-dataframe-json/"
      ],
      "metadata": {
        "id": "gSrzB_uRD9kZ"
      }
    },
    {
      "cell_type": "code",
      "source": [
        "!pip install -q tabula-py"
      ],
      "metadata": {
        "id": "ZXx7KdYjEDbt",
        "outputId": "3caca252-d8f7-4270-89b0-aa81254147c1",
        "colab": {
          "base_uri": "https://localhost:8080/"
        }
      },
      "execution_count": null,
      "outputs": [
        {
          "output_type": "stream",
          "name": "stdout",
          "text": [
            "\u001b[K     |████████████████████████████████| 12.0 MB 8.2 MB/s \n",
            "\u001b[?25h"
          ]
        }
      ]
    },
    {
      "cell_type": "code",
      "source": [
        "import tabula\n",
        "import pandas as pd"
      ],
      "metadata": {
        "id": "izjbS7FNP30i"
      },
      "execution_count": null,
      "outputs": []
    },
    {
      "cell_type": "code",
      "source": [
        "# Read pdf into DataFrame\n",
        "dfs = tabula.read_pdf(\"redacted1.pdf\", lattice=True, relative_area=True, multiple_tables=True, pages=\"all\")\n",
        "\n",
        "# convert PDF into CSV\n",
        "#tabula.convert_into(\"redacted1.pdf\", \"output.csv\", output_format=\"csv\")"
      ],
      "metadata": {
        "id": "639fgl5hc7cd",
        "outputId": "14f6b14e-35c8-4835-eb1b-9bc4f137229e",
        "colab": {
          "base_uri": "https://localhost:8080/"
        }
      },
      "execution_count": null,
      "outputs": [
        {
          "output_type": "stream",
          "name": "stderr",
          "text": [
            "WARNING:tabula.io:Got stderr: Oct 24, 2022 6:26:53 AM org.apache.pdfbox.pdmodel.font.PDType1Font <init>\n",
            "WARNING: Using fallback font LiberationSans for base font Symbol\n",
            "Oct 24, 2022 6:26:53 AM org.apache.pdfbox.pdmodel.font.PDType1Font <init>\n",
            "WARNING: Using fallback font LiberationSans for base font ZapfDingbats\n",
            "\n"
          ]
        }
      ]
    },
    {
      "cell_type": "code",
      "source": [
        "def drop_unwanted_columns(df):\n",
        "  wanted_columns = ['Unnamed: 0', 'Unnamed: 1', 'Unnamed: 2', 'Unnamed: 3', 'Unnamed: 4', 'Unnamed: 5', 'Unnamed: 6']\n",
        "  drop_columns = []\n",
        "  for col in df.columns:\n",
        "    if col in wanted_columns:\n",
        "      drop_columns.append(col)\n",
        "  data_df = df[df.columns.drop(drop_columns)]\n",
        "  return data_df"
      ],
      "metadata": {
        "id": "hh2GaxMwz2rq"
      },
      "execution_count": null,
      "outputs": []
    },
    {
      "cell_type": "code",
      "source": [
        "def update_df_columns(df):\n",
        "  col_list = [\"Encounter\", \"Specimen\", \"Service Date\", \"High Score\", \"Score\", \"Lab\", \"Doctor Name\", \"Location\", \"Phone\"]\n",
        "\n",
        "  curr_rename_dict = {}\n",
        "  curr_new_dict = {}\n",
        "\n",
        "  current_column = df.columns[0]\n",
        "\n",
        "  for idx, col_name in enumerate(df.columns):\n",
        "    curr_rename_dict[col_name] = col_list[idx]\n",
        "\n",
        "  for idx, col_name in enumerate(df.columns):\n",
        "    curr_new_dict[col_list[idx]] = col_name\n",
        "\n",
        "  # renaming the columns\n",
        "  df.rename(columns=curr_rename_dict, inplace = True)\n",
        "\n",
        "  # adding a new row\n",
        "  new_row_df = pd.DataFrame(curr_new_dict, index =[0])\n",
        "  # Concatenate new_row with df\n",
        "  updated_df = pd.concat([new_row_df, df[:]]).reset_index(drop = True)\n",
        "  return updated_df"
      ],
      "metadata": {
        "id": "tieQ7yHnzuR_"
      },
      "execution_count": null,
      "outputs": []
    },
    {
      "cell_type": "code",
      "source": [
        "def add_column_header(df, previous_column):\n",
        "  col_list = [\"Encounter\", \"Specimen\", \"Service Date\", \"High Score\", \"Score\", \"Lab\", \"Doctor Name\", \"Location\", \"Phone\"]\n",
        "\n",
        "  curr_rename_dict = {}\n",
        "  curr_new_dict = {}\n",
        "\n",
        "  curr_columns_values = list(df.columns)\n",
        "  \n",
        "  if previous_column == \"Encounter\":\n",
        "    curr_columns_values.insert(1, \"\")\n",
        "\n",
        "  for idx, col_name in enumerate(curr_columns_values):\n",
        "    print(idx)\n",
        "    if idx == 1:\n",
        "      curr_rename_dict[\"Specimen\"] = \"\"\n",
        "    else:\n",
        "      curr_rename_dict[col_name] = col_list[idx]\n",
        "\n",
        "  for idx, col_name in enumerate(curr_columns_values):\n",
        "    curr_new_dict[col_list[idx]] = col_name\n",
        "\n",
        "  if previous_column == \"Encounter\":\n",
        "    # renaming the columns\n",
        "    df.rename(columns=curr_rename_dict, inplace = True)\n",
        "\n",
        "  # adding a new row\n",
        "  new_row_df = pd.DataFrame(curr_new_dict, index =[0])\n",
        "  # Concatenate new_row with df\n",
        "  updated_df = pd.concat([new_row_df, df[:]]).reset_index(drop = True)\n",
        "  return updated_df"
      ],
      "metadata": {
        "id": "lAkvxbUKnPJU"
      },
      "execution_count": null,
      "outputs": []
    },
    {
      "cell_type": "code",
      "source": [
        "def extract_exam_one_data(dfs):\n",
        "  data_df = pd.DataFrame()\n",
        "  previous_column = \"\"\n",
        "  for idx in range(len(dfs)):\n",
        "    # Step-1: drop unwanted columns\n",
        "    raw_df = drop_unwanted_columns(dfs[idx])\n",
        "\n",
        "    # Step-1: skip loop if columns does not exists\n",
        "    if len(raw_df.columns) == 0:\n",
        "      continue\n",
        "\n",
        "    # Step-2: if it is \"Test Name\", \"Diagnosis Code\", \"Doctor Specialty\" and \"Lab\" table             \n",
        "    if raw_df.columns[0] not in [\"Response Status\", \"Condition\"]:\n",
        "      # Step-3: if it is first \"Encounter\" table\n",
        "      if len(data_df) != 9 and raw_df.columns[0] == \"Encounter\":\n",
        "        cols_list = [\"Score\", \"Lab\", \"Doctor Name\", \"Location\", \"Phone\"]\n",
        "        for col_name in cols_list:\n",
        "          raw_df[col_name] = \"\"\n",
        "\n",
        "      # Step-4: handle table that dont have column header\n",
        "      if raw_df.columns[0] not in [\"Encounter\", \"Test Name\", \"Diagnosis Code\", \"Doctor Specialty\", \"Lab\", \"21\", \"0\"]:\n",
        "        previous_column = raw_df.columns[0]\n",
        "        add_column_header(raw_df, previous_column)\n",
        "\n",
        "      # Step-5: otherwise, assign column value to \"Encounter\" table's column based on index position\n",
        "      updated_df = update_df_columns(raw_df)  # rename and add new column to df\n",
        "      data_df = pd.concat([data_df, updated_df], ignore_index=True)\n",
        "\n",
        "  return data_df"
      ],
      "metadata": {
        "id": "yzwGMkLrcbmk"
      },
      "execution_count": null,
      "outputs": []
    },
    {
      "cell_type": "code",
      "source": [
        "data_df = extract_exam_one_data(dfs)"
      ],
      "metadata": {
        "id": "sPFxR7VEv9Nq"
      },
      "execution_count": null,
      "outputs": []
    },
    {
      "cell_type": "code",
      "source": [
        "len(data_df)"
      ],
      "metadata": {
        "id": "hxWi4G6TgolK",
        "outputId": "9d19391d-fb76-4722-f967-8499e8206cf9",
        "colab": {
          "base_uri": "https://localhost:8080/"
        }
      },
      "execution_count": null,
      "outputs": [
        {
          "output_type": "execute_result",
          "data": {
            "text/plain": [
              "1221"
            ]
          },
          "metadata": {},
          "execution_count": 82
        }
      ]
    },
    {
      "cell_type": "code",
      "source": [
        "data_df.head()"
      ],
      "metadata": {
        "id": "zPAMWH5Z8FGG",
        "outputId": "b5939e73-5487-4e03-c71b-6eda2039ea66",
        "colab": {
          "base_uri": "https://localhost:8080/",
          "height": 206
        }
      },
      "execution_count": null,
      "outputs": [
        {
          "output_type": "execute_result",
          "data": {
            "text/plain": [
              "        Encounter             Specimen  Service Date  High Score  Score  Lab  \\\n",
              "0       Encounter             Specimen  Service Date  High Score  Score  Lab   \n",
              "1              30                  NaN    2021-09-24           5               \n",
              "2             NaN                  NaN           NaN         NaN               \n",
              "3  Diagnosis Code          Description     Code Type       Score               \n",
              "4            D649  Anemia, unspecified         ICD10           5               \n",
              "\n",
              "   Doctor Name  Location  Phone  \n",
              "0  Doctor Name  Location  Phone  \n",
              "1                                \n",
              "2                                \n",
              "3                                \n",
              "4                                "
            ],
            "text/html": [
              "\n",
              "  <div id=\"df-832be1c2-9be4-4853-a480-a86a8f4f34f0\">\n",
              "    <div class=\"colab-df-container\">\n",
              "      <div>\n",
              "<style scoped>\n",
              "    .dataframe tbody tr th:only-of-type {\n",
              "        vertical-align: middle;\n",
              "    }\n",
              "\n",
              "    .dataframe tbody tr th {\n",
              "        vertical-align: top;\n",
              "    }\n",
              "\n",
              "    .dataframe thead th {\n",
              "        text-align: right;\n",
              "    }\n",
              "</style>\n",
              "<table border=\"1\" class=\"dataframe\">\n",
              "  <thead>\n",
              "    <tr style=\"text-align: right;\">\n",
              "      <th></th>\n",
              "      <th>Encounter</th>\n",
              "      <th>Specimen</th>\n",
              "      <th>Service Date</th>\n",
              "      <th>High Score</th>\n",
              "      <th>Score</th>\n",
              "      <th>Lab</th>\n",
              "      <th>Doctor Name</th>\n",
              "      <th>Location</th>\n",
              "      <th>Phone</th>\n",
              "    </tr>\n",
              "  </thead>\n",
              "  <tbody>\n",
              "    <tr>\n",
              "      <th>0</th>\n",
              "      <td>Encounter</td>\n",
              "      <td>Specimen</td>\n",
              "      <td>Service Date</td>\n",
              "      <td>High Score</td>\n",
              "      <td>Score</td>\n",
              "      <td>Lab</td>\n",
              "      <td>Doctor Name</td>\n",
              "      <td>Location</td>\n",
              "      <td>Phone</td>\n",
              "    </tr>\n",
              "    <tr>\n",
              "      <th>1</th>\n",
              "      <td>30</td>\n",
              "      <td>NaN</td>\n",
              "      <td>2021-09-24</td>\n",
              "      <td>5</td>\n",
              "      <td></td>\n",
              "      <td></td>\n",
              "      <td></td>\n",
              "      <td></td>\n",
              "      <td></td>\n",
              "    </tr>\n",
              "    <tr>\n",
              "      <th>2</th>\n",
              "      <td>NaN</td>\n",
              "      <td>NaN</td>\n",
              "      <td>NaN</td>\n",
              "      <td>NaN</td>\n",
              "      <td></td>\n",
              "      <td></td>\n",
              "      <td></td>\n",
              "      <td></td>\n",
              "      <td></td>\n",
              "    </tr>\n",
              "    <tr>\n",
              "      <th>3</th>\n",
              "      <td>Diagnosis Code</td>\n",
              "      <td>Description</td>\n",
              "      <td>Code Type</td>\n",
              "      <td>Score</td>\n",
              "      <td></td>\n",
              "      <td></td>\n",
              "      <td></td>\n",
              "      <td></td>\n",
              "      <td></td>\n",
              "    </tr>\n",
              "    <tr>\n",
              "      <th>4</th>\n",
              "      <td>D649</td>\n",
              "      <td>Anemia, unspecified</td>\n",
              "      <td>ICD10</td>\n",
              "      <td>5</td>\n",
              "      <td></td>\n",
              "      <td></td>\n",
              "      <td></td>\n",
              "      <td></td>\n",
              "      <td></td>\n",
              "    </tr>\n",
              "  </tbody>\n",
              "</table>\n",
              "</div>\n",
              "      <button class=\"colab-df-convert\" onclick=\"convertToInteractive('df-832be1c2-9be4-4853-a480-a86a8f4f34f0')\"\n",
              "              title=\"Convert this dataframe to an interactive table.\"\n",
              "              style=\"display:none;\">\n",
              "        \n",
              "  <svg xmlns=\"http://www.w3.org/2000/svg\" height=\"24px\"viewBox=\"0 0 24 24\"\n",
              "       width=\"24px\">\n",
              "    <path d=\"M0 0h24v24H0V0z\" fill=\"none\"/>\n",
              "    <path d=\"M18.56 5.44l.94 2.06.94-2.06 2.06-.94-2.06-.94-.94-2.06-.94 2.06-2.06.94zm-11 1L8.5 8.5l.94-2.06 2.06-.94-2.06-.94L8.5 2.5l-.94 2.06-2.06.94zm10 10l.94 2.06.94-2.06 2.06-.94-2.06-.94-.94-2.06-.94 2.06-2.06.94z\"/><path d=\"M17.41 7.96l-1.37-1.37c-.4-.4-.92-.59-1.43-.59-.52 0-1.04.2-1.43.59L10.3 9.45l-7.72 7.72c-.78.78-.78 2.05 0 2.83L4 21.41c.39.39.9.59 1.41.59.51 0 1.02-.2 1.41-.59l7.78-7.78 2.81-2.81c.8-.78.8-2.07 0-2.86zM5.41 20L4 18.59l7.72-7.72 1.47 1.35L5.41 20z\"/>\n",
              "  </svg>\n",
              "      </button>\n",
              "      \n",
              "  <style>\n",
              "    .colab-df-container {\n",
              "      display:flex;\n",
              "      flex-wrap:wrap;\n",
              "      gap: 12px;\n",
              "    }\n",
              "\n",
              "    .colab-df-convert {\n",
              "      background-color: #E8F0FE;\n",
              "      border: none;\n",
              "      border-radius: 50%;\n",
              "      cursor: pointer;\n",
              "      display: none;\n",
              "      fill: #1967D2;\n",
              "      height: 32px;\n",
              "      padding: 0 0 0 0;\n",
              "      width: 32px;\n",
              "    }\n",
              "\n",
              "    .colab-df-convert:hover {\n",
              "      background-color: #E2EBFA;\n",
              "      box-shadow: 0px 1px 2px rgba(60, 64, 67, 0.3), 0px 1px 3px 1px rgba(60, 64, 67, 0.15);\n",
              "      fill: #174EA6;\n",
              "    }\n",
              "\n",
              "    [theme=dark] .colab-df-convert {\n",
              "      background-color: #3B4455;\n",
              "      fill: #D2E3FC;\n",
              "    }\n",
              "\n",
              "    [theme=dark] .colab-df-convert:hover {\n",
              "      background-color: #434B5C;\n",
              "      box-shadow: 0px 1px 3px 1px rgba(0, 0, 0, 0.15);\n",
              "      filter: drop-shadow(0px 1px 2px rgba(0, 0, 0, 0.3));\n",
              "      fill: #FFFFFF;\n",
              "    }\n",
              "  </style>\n",
              "\n",
              "      <script>\n",
              "        const buttonEl =\n",
              "          document.querySelector('#df-832be1c2-9be4-4853-a480-a86a8f4f34f0 button.colab-df-convert');\n",
              "        buttonEl.style.display =\n",
              "          google.colab.kernel.accessAllowed ? 'block' : 'none';\n",
              "\n",
              "        async function convertToInteractive(key) {\n",
              "          const element = document.querySelector('#df-832be1c2-9be4-4853-a480-a86a8f4f34f0');\n",
              "          const dataTable =\n",
              "            await google.colab.kernel.invokeFunction('convertToInteractive',\n",
              "                                                     [key], {});\n",
              "          if (!dataTable) return;\n",
              "\n",
              "          const docLinkHtml = 'Like what you see? Visit the ' +\n",
              "            '<a target=\"_blank\" href=https://colab.research.google.com/notebooks/data_table.ipynb>data table notebook</a>'\n",
              "            + ' to learn more about interactive tables.';\n",
              "          element.innerHTML = '';\n",
              "          dataTable['output_type'] = 'display_data';\n",
              "          await google.colab.output.renderOutput(dataTable, element);\n",
              "          const docLink = document.createElement('div');\n",
              "          docLink.innerHTML = docLinkHtml;\n",
              "          element.appendChild(docLink);\n",
              "        }\n",
              "      </script>\n",
              "    </div>\n",
              "  </div>\n",
              "  "
            ]
          },
          "metadata": {},
          "execution_count": 83
        }
      ]
    },
    {
      "cell_type": "code",
      "source": [
        "data_df = data_df.drop([data_df.index[0]])\n",
        "data_df.head()"
      ],
      "metadata": {
        "id": "x8ANeiTJ8Isr",
        "outputId": "01e7bc85-f57e-43f9-9834-ca3eafaf2261",
        "colab": {
          "base_uri": "https://localhost:8080/",
          "height": 206
        }
      },
      "execution_count": null,
      "outputs": [
        {
          "output_type": "execute_result",
          "data": {
            "text/plain": [
              "        Encounter             Specimen Service Date High Score Score Lab  \\\n",
              "1              30                  NaN   2021-09-24          5             \n",
              "2             NaN                  NaN          NaN        NaN             \n",
              "3  Diagnosis Code          Description    Code Type      Score             \n",
              "4            D649  Anemia, unspecified        ICD10          5             \n",
              "5            E611      Iron deficiency        ICD10          5             \n",
              "\n",
              "  Doctor Name Location Phone  \n",
              "1                             \n",
              "2                             \n",
              "3                             \n",
              "4                             \n",
              "5                             "
            ],
            "text/html": [
              "\n",
              "  <div id=\"df-955c1b01-5c40-4c12-8a4e-6b294051b7f2\">\n",
              "    <div class=\"colab-df-container\">\n",
              "      <div>\n",
              "<style scoped>\n",
              "    .dataframe tbody tr th:only-of-type {\n",
              "        vertical-align: middle;\n",
              "    }\n",
              "\n",
              "    .dataframe tbody tr th {\n",
              "        vertical-align: top;\n",
              "    }\n",
              "\n",
              "    .dataframe thead th {\n",
              "        text-align: right;\n",
              "    }\n",
              "</style>\n",
              "<table border=\"1\" class=\"dataframe\">\n",
              "  <thead>\n",
              "    <tr style=\"text-align: right;\">\n",
              "      <th></th>\n",
              "      <th>Encounter</th>\n",
              "      <th>Specimen</th>\n",
              "      <th>Service Date</th>\n",
              "      <th>High Score</th>\n",
              "      <th>Score</th>\n",
              "      <th>Lab</th>\n",
              "      <th>Doctor Name</th>\n",
              "      <th>Location</th>\n",
              "      <th>Phone</th>\n",
              "    </tr>\n",
              "  </thead>\n",
              "  <tbody>\n",
              "    <tr>\n",
              "      <th>1</th>\n",
              "      <td>30</td>\n",
              "      <td>NaN</td>\n",
              "      <td>2021-09-24</td>\n",
              "      <td>5</td>\n",
              "      <td></td>\n",
              "      <td></td>\n",
              "      <td></td>\n",
              "      <td></td>\n",
              "      <td></td>\n",
              "    </tr>\n",
              "    <tr>\n",
              "      <th>2</th>\n",
              "      <td>NaN</td>\n",
              "      <td>NaN</td>\n",
              "      <td>NaN</td>\n",
              "      <td>NaN</td>\n",
              "      <td></td>\n",
              "      <td></td>\n",
              "      <td></td>\n",
              "      <td></td>\n",
              "      <td></td>\n",
              "    </tr>\n",
              "    <tr>\n",
              "      <th>3</th>\n",
              "      <td>Diagnosis Code</td>\n",
              "      <td>Description</td>\n",
              "      <td>Code Type</td>\n",
              "      <td>Score</td>\n",
              "      <td></td>\n",
              "      <td></td>\n",
              "      <td></td>\n",
              "      <td></td>\n",
              "      <td></td>\n",
              "    </tr>\n",
              "    <tr>\n",
              "      <th>4</th>\n",
              "      <td>D649</td>\n",
              "      <td>Anemia, unspecified</td>\n",
              "      <td>ICD10</td>\n",
              "      <td>5</td>\n",
              "      <td></td>\n",
              "      <td></td>\n",
              "      <td></td>\n",
              "      <td></td>\n",
              "      <td></td>\n",
              "    </tr>\n",
              "    <tr>\n",
              "      <th>5</th>\n",
              "      <td>E611</td>\n",
              "      <td>Iron deficiency</td>\n",
              "      <td>ICD10</td>\n",
              "      <td>5</td>\n",
              "      <td></td>\n",
              "      <td></td>\n",
              "      <td></td>\n",
              "      <td></td>\n",
              "      <td></td>\n",
              "    </tr>\n",
              "  </tbody>\n",
              "</table>\n",
              "</div>\n",
              "      <button class=\"colab-df-convert\" onclick=\"convertToInteractive('df-955c1b01-5c40-4c12-8a4e-6b294051b7f2')\"\n",
              "              title=\"Convert this dataframe to an interactive table.\"\n",
              "              style=\"display:none;\">\n",
              "        \n",
              "  <svg xmlns=\"http://www.w3.org/2000/svg\" height=\"24px\"viewBox=\"0 0 24 24\"\n",
              "       width=\"24px\">\n",
              "    <path d=\"M0 0h24v24H0V0z\" fill=\"none\"/>\n",
              "    <path d=\"M18.56 5.44l.94 2.06.94-2.06 2.06-.94-2.06-.94-.94-2.06-.94 2.06-2.06.94zm-11 1L8.5 8.5l.94-2.06 2.06-.94-2.06-.94L8.5 2.5l-.94 2.06-2.06.94zm10 10l.94 2.06.94-2.06 2.06-.94-2.06-.94-.94-2.06-.94 2.06-2.06.94z\"/><path d=\"M17.41 7.96l-1.37-1.37c-.4-.4-.92-.59-1.43-.59-.52 0-1.04.2-1.43.59L10.3 9.45l-7.72 7.72c-.78.78-.78 2.05 0 2.83L4 21.41c.39.39.9.59 1.41.59.51 0 1.02-.2 1.41-.59l7.78-7.78 2.81-2.81c.8-.78.8-2.07 0-2.86zM5.41 20L4 18.59l7.72-7.72 1.47 1.35L5.41 20z\"/>\n",
              "  </svg>\n",
              "      </button>\n",
              "      \n",
              "  <style>\n",
              "    .colab-df-container {\n",
              "      display:flex;\n",
              "      flex-wrap:wrap;\n",
              "      gap: 12px;\n",
              "    }\n",
              "\n",
              "    .colab-df-convert {\n",
              "      background-color: #E8F0FE;\n",
              "      border: none;\n",
              "      border-radius: 50%;\n",
              "      cursor: pointer;\n",
              "      display: none;\n",
              "      fill: #1967D2;\n",
              "      height: 32px;\n",
              "      padding: 0 0 0 0;\n",
              "      width: 32px;\n",
              "    }\n",
              "\n",
              "    .colab-df-convert:hover {\n",
              "      background-color: #E2EBFA;\n",
              "      box-shadow: 0px 1px 2px rgba(60, 64, 67, 0.3), 0px 1px 3px 1px rgba(60, 64, 67, 0.15);\n",
              "      fill: #174EA6;\n",
              "    }\n",
              "\n",
              "    [theme=dark] .colab-df-convert {\n",
              "      background-color: #3B4455;\n",
              "      fill: #D2E3FC;\n",
              "    }\n",
              "\n",
              "    [theme=dark] .colab-df-convert:hover {\n",
              "      background-color: #434B5C;\n",
              "      box-shadow: 0px 1px 3px 1px rgba(0, 0, 0, 0.15);\n",
              "      filter: drop-shadow(0px 1px 2px rgba(0, 0, 0, 0.3));\n",
              "      fill: #FFFFFF;\n",
              "    }\n",
              "  </style>\n",
              "\n",
              "      <script>\n",
              "        const buttonEl =\n",
              "          document.querySelector('#df-955c1b01-5c40-4c12-8a4e-6b294051b7f2 button.colab-df-convert');\n",
              "        buttonEl.style.display =\n",
              "          google.colab.kernel.accessAllowed ? 'block' : 'none';\n",
              "\n",
              "        async function convertToInteractive(key) {\n",
              "          const element = document.querySelector('#df-955c1b01-5c40-4c12-8a4e-6b294051b7f2');\n",
              "          const dataTable =\n",
              "            await google.colab.kernel.invokeFunction('convertToInteractive',\n",
              "                                                     [key], {});\n",
              "          if (!dataTable) return;\n",
              "\n",
              "          const docLinkHtml = 'Like what you see? Visit the ' +\n",
              "            '<a target=\"_blank\" href=https://colab.research.google.com/notebooks/data_table.ipynb>data table notebook</a>'\n",
              "            + ' to learn more about interactive tables.';\n",
              "          element.innerHTML = '';\n",
              "          dataTable['output_type'] = 'display_data';\n",
              "          await google.colab.output.renderOutput(dataTable, element);\n",
              "          const docLink = document.createElement('div');\n",
              "          docLink.innerHTML = docLinkHtml;\n",
              "          element.appendChild(docLink);\n",
              "        }\n",
              "      </script>\n",
              "    </div>\n",
              "  </div>\n",
              "  "
            ]
          },
          "metadata": {},
          "execution_count": 84
        }
      ]
    },
    {
      "cell_type": "code",
      "source": [
        "data_df.to_csv(\"exam-one.csv\")"
      ],
      "metadata": {
        "id": "pdRt0yDzU4TC"
      },
      "execution_count": null,
      "outputs": []
    }
  ]
}