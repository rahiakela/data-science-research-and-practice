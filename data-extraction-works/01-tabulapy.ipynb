{
  "nbformat": 4,
  "nbformat_minor": 0,
  "metadata": {
    "colab": {
      "provenance": [],
      "authorship_tag": "ABX9TyMg5p2gIBAtsrUaOD2JNyKK",
      "include_colab_link": true
    },
    "kernelspec": {
      "name": "python3",
      "display_name": "Python 3"
    },
    "language_info": {
      "name": "python"
    }
  },
  "cells": [
    {
      "cell_type": "markdown",
      "metadata": {
        "id": "view-in-github",
        "colab_type": "text"
      },
      "source": [
        "<a href=\"https://colab.research.google.com/github/rahiakela/data-science-research-and-practice/blob/main/data-extraction-works/01-tabulapy.ipynb\" target=\"_parent\"><img src=\"https://colab.research.google.com/assets/colab-badge.svg\" alt=\"Open In Colab\"/></a>"
      ]
    },
    {
      "cell_type": "markdown",
      "source": [
        "**Reference**\n",
        "\n",
        "https://www.geeksforgeeks.org/drop-rows-from-the-dataframe-based-on-certain-condition-applied-on-a-column/\n",
        "\n",
        "https://datatofish.com/export-pandas-dataframe-json/"
      ],
      "metadata": {
        "id": "gSrzB_uRD9kZ"
      }
    },
    {
      "cell_type": "code",
      "source": [
        "!pip install -q tabula-py"
      ],
      "metadata": {
        "id": "ZXx7KdYjEDbt",
        "outputId": "3caca252-d8f7-4270-89b0-aa81254147c1",
        "colab": {
          "base_uri": "https://localhost:8080/"
        }
      },
      "execution_count": 1,
      "outputs": [
        {
          "output_type": "stream",
          "name": "stdout",
          "text": [
            "\u001b[K     |████████████████████████████████| 12.0 MB 8.2 MB/s \n",
            "\u001b[?25h"
          ]
        }
      ]
    },
    {
      "cell_type": "code",
      "source": [
        "import tabula\n",
        "import pandas as pd"
      ],
      "metadata": {
        "id": "izjbS7FNP30i"
      },
      "execution_count": 2,
      "outputs": []
    },
    {
      "cell_type": "markdown",
      "source": [
        "##Loading pdf into Pandas"
      ],
      "metadata": {
        "id": "Ua631qcn4bKf"
      }
    },
    {
      "cell_type": "code",
      "source": [
        "# Read pdf into DataFrame\n",
        "dfs = tabula.read_pdf(\"redacted1.pdf\", lattice=True, relative_area=True, multiple_tables=True, pages=\"all\")\n",
        "\n",
        "# convert PDF into CSV\n",
        "#tabula.convert_into(\"redacted1.pdf\", \"output.csv\", output_format=\"csv\")"
      ],
      "metadata": {
        "id": "639fgl5hc7cd",
        "outputId": "14f6b14e-35c8-4835-eb1b-9bc4f137229e",
        "colab": {
          "base_uri": "https://localhost:8080/"
        }
      },
      "execution_count": 16,
      "outputs": [
        {
          "output_type": "stream",
          "name": "stderr",
          "text": [
            "WARNING:tabula.io:Got stderr: Oct 24, 2022 6:26:53 AM org.apache.pdfbox.pdmodel.font.PDType1Font <init>\n",
            "WARNING: Using fallback font LiberationSans for base font Symbol\n",
            "Oct 24, 2022 6:26:53 AM org.apache.pdfbox.pdmodel.font.PDType1Font <init>\n",
            "WARNING: Using fallback font LiberationSans for base font ZapfDingbats\n",
            "\n"
          ]
        }
      ]
    },
    {
      "cell_type": "code",
      "source": [
        "len(dfs)"
      ],
      "metadata": {
        "id": "Bjf30oxV87_A",
        "outputId": "90ed8b35-0c28-4c3e-ab8f-ee21255edee8",
        "colab": {
          "base_uri": "https://localhost:8080/"
        }
      },
      "execution_count": null,
      "outputs": [
        {
          "output_type": "execute_result",
          "data": {
            "text/plain": [
              "5"
            ]
          },
          "metadata": {},
          "execution_count": 4
        }
      ]
    },
    {
      "cell_type": "code",
      "source": [
        "dfs[1].columns[0]"
      ],
      "metadata": {
        "id": "O-qnG5-tN-2A",
        "outputId": "b4011c00-8cc8-4ab0-8254-2b460e9c80e2",
        "colab": {
          "base_uri": "https://localhost:8080/",
          "height": 35
        }
      },
      "execution_count": null,
      "outputs": [
        {
          "output_type": "execute_result",
          "data": {
            "text/plain": [
              "'I951'"
            ],
            "application/vnd.google.colaboratory.intrinsic+json": {
              "type": "string"
            }
          },
          "metadata": {},
          "execution_count": 5
        }
      ]
    },
    {
      "cell_type": "code",
      "source": [
        "dfs[2][\"Test Name\"][21]"
      ],
      "metadata": {
        "id": "dtINUkUWaB30"
      },
      "execution_count": null,
      "outputs": []
    },
    {
      "cell_type": "code",
      "source": [
        "dfs[13]"
      ],
      "metadata": {
        "id": "DYk-i5TQi49M"
      },
      "execution_count": null,
      "outputs": []
    },
    {
      "cell_type": "code",
      "source": [
        "def drop_unwanted_columns(df):\n",
        "  wanted_columns = ['Unnamed: 0', 'Unnamed: 1', 'Unnamed: 2', 'Unnamed: 3', 'Unnamed: 4', 'Unnamed: 5', 'Unnamed: 6']\n",
        "  drop_columns = []\n",
        "  for col in df.columns:\n",
        "    if col in wanted_columns:\n",
        "      drop_columns.append(col)\n",
        "  data_df = df[df.columns.drop(drop_columns)]\n",
        "  return data_df"
      ],
      "metadata": {
        "id": "hh2GaxMwz2rq"
      },
      "execution_count": 5,
      "outputs": []
    },
    {
      "cell_type": "code",
      "source": [
        "def rename_columns(df):\n",
        "  cols_list = [\"Encounter\", \"Specimen\", \"Service Date\", \"High Score\", \"Score\", \"Lab\", \"Doctor Name\", \"Location\", \"Phone\"]\n",
        "  current_dict = {}\n",
        "  for idx, col_name in enumerate(df.columns):\n",
        "    current_dict[col_name] = cols_list[idx]\n",
        "    # renaming the columns\n",
        "    df.rename(columns=current_dict, inplace = True)\n",
        "  return df"
      ],
      "metadata": {
        "id": "gNGLyy8mlAK5"
      },
      "execution_count": 6,
      "outputs": []
    },
    {
      "cell_type": "code",
      "source": [
        "def add_new_columns(df):\n",
        "  cols_list = [\"Encounter\", \"Specimen\", \"Service Date\", \"High Score\", \"Score\", \"Lab\", \"Doctor Name\", \"Location\", \"Phone\"]\n",
        "  test_column_list = [\"Test Name\", \"Results\",\"Reference Range\", \"Score\", \"Lab\"]\n",
        "  diagnosis_column_list = [\"Diagnosis Code\", \"Description\",\"Code Type\", \"Score\"]\n",
        "  doctor_sp_column_list = [\"Doctor Specialty\", \"Score\"]\n",
        "  lab_column_list = [\"Lab\", \"Name\",\"Location\", \"Director\", \"CLIA\"]\n",
        "  current_dict = {}\n",
        "\n",
        "  current_column = df.columns[0]\n",
        "  # if current_column == \"Test Name\":\n",
        "  for idx, col_name in enumerate(df.columns):\n",
        "    #print(f\"{cols_list[idx]} >> {col_name}\")\n",
        "    current_dict[cols_list[idx]] = col_name\n",
        "    new_row_df = pd.DataFrame(current_dict, index =[0])  # adding a new row\n",
        "    updated_df = pd.concat([new_row_df, df[:]], ignore_index=True) # .reset_index(drop = True)\n",
        "  return new_row_df"
      ],
      "metadata": {
        "id": "r3ADW8uot4Od"
      },
      "execution_count": null,
      "outputs": []
    },
    {
      "cell_type": "code",
      "source": [
        "def update_df_columns(df):\n",
        "  col_list = [\"Encounter\", \"Specimen\", \"Service Date\", \"High Score\", \"Score\", \"Lab\", \"Doctor Name\", \"Location\", \"Phone\"]\n",
        "\n",
        "  curr_rename_dict = {}\n",
        "  curr_new_dict = {}\n",
        "\n",
        "  current_column = df.columns[0]\n",
        "\n",
        "  for idx, col_name in enumerate(df.columns):\n",
        "    curr_rename_dict[col_name] = col_list[idx]\n",
        "\n",
        "  for idx, col_name in enumerate(df.columns):\n",
        "    curr_new_dict[col_list[idx]] = col_name\n",
        "\n",
        "  # renaming the columns\n",
        "  df.rename(columns=curr_rename_dict, inplace = True)\n",
        "\n",
        "  # adding a new row\n",
        "  new_row_df = pd.DataFrame(curr_new_dict, index =[0])\n",
        "  # Concatenate new_row with df\n",
        "  updated_df = pd.concat([new_row_df, df[:]]).reset_index(drop = True)\n",
        "  return updated_df"
      ],
      "metadata": {
        "id": "tieQ7yHnzuR_"
      },
      "execution_count": 44,
      "outputs": []
    },
    {
      "cell_type": "code",
      "source": [
        "my_list = ['9', '2018-03-20', '5', 'Score', 'Lab', 'Doctor Name', 'Location','Phone']\n",
        "my_list"
      ],
      "metadata": {
        "id": "KjNywJozz6T1",
        "outputId": "e48ce543-cd74-4354-ad55-0de1a5bc0180",
        "colab": {
          "base_uri": "https://localhost:8080/"
        }
      },
      "execution_count": 48,
      "outputs": [
        {
          "output_type": "execute_result",
          "data": {
            "text/plain": [
              "['9', '2018-03-20', '5', 'Score', 'Lab', 'Doctor Name', 'Location', 'Phone']"
            ]
          },
          "metadata": {},
          "execution_count": 48
        }
      ]
    },
    {
      "cell_type": "code",
      "source": [
        "my_list.insert(1, \"\")\n",
        "my_list"
      ],
      "metadata": {
        "id": "4yYKdFMMz-hn",
        "outputId": "fb7db0f1-4807-4389-cbc3-a19ab62358b8",
        "colab": {
          "base_uri": "https://localhost:8080/"
        }
      },
      "execution_count": 49,
      "outputs": [
        {
          "output_type": "execute_result",
          "data": {
            "text/plain": [
              "['9',\n",
              " '',\n",
              " '2018-03-20',\n",
              " '5',\n",
              " 'Score',\n",
              " 'Lab',\n",
              " 'Doctor Name',\n",
              " 'Location',\n",
              " 'Phone']"
            ]
          },
          "metadata": {},
          "execution_count": 49
        }
      ]
    },
    {
      "cell_type": "code",
      "source": [
        "d_list = list(data_df.columns)\n",
        "d_list"
      ],
      "metadata": {
        "id": "BdAXoawP0omw",
        "outputId": "b2e376ac-e96b-40cb-98f5-b10ef8321857",
        "colab": {
          "base_uri": "https://localhost:8080/"
        }
      },
      "execution_count": 54,
      "outputs": [
        {
          "output_type": "execute_result",
          "data": {
            "text/plain": [
              "['Test Name', 'Results', 'Reference Range', 'Score']"
            ]
          },
          "metadata": {},
          "execution_count": 54
        }
      ]
    },
    {
      "cell_type": "code",
      "source": [
        "d_list.insert(1, \"\")\n",
        "d_list"
      ],
      "metadata": {
        "id": "f_0uFgNf0quk",
        "outputId": "37daaa30-c5f2-40ff-b430-6c820901db7a",
        "colab": {
          "base_uri": "https://localhost:8080/"
        }
      },
      "execution_count": 55,
      "outputs": [
        {
          "output_type": "execute_result",
          "data": {
            "text/plain": [
              "['Test Name', '', 'Results', 'Reference Range', 'Score']"
            ]
          },
          "metadata": {},
          "execution_count": 55
        }
      ]
    },
    {
      "cell_type": "code",
      "source": [
        "def add_column_header(df, previous_column):\n",
        "  col_list = [\"Encounter\", \"Specimen\", \"Service Date\", \"High Score\", \"Score\", \"Lab\", \"Doctor Name\", \"Location\", \"Phone\"]\n",
        "\n",
        "  curr_rename_dict = {}\n",
        "  curr_new_dict = {}\n",
        "\n",
        "  curr_columns_values = list(df.columns)\n",
        "  \n",
        "  if previous_column == \"Encounter\":\n",
        "    curr_columns_values.insert(1, \"\")\n",
        "\n",
        "  for idx, col_name in enumerate(curr_columns_values):\n",
        "    print(idx)\n",
        "    if idx == 1:\n",
        "      curr_rename_dict[\"Specimen\"] = \"\"\n",
        "    else:\n",
        "      curr_rename_dict[col_name] = col_list[idx]\n",
        "\n",
        "  for idx, col_name in enumerate(curr_columns_values):\n",
        "    curr_new_dict[col_list[idx]] = col_name\n",
        "\n",
        "  if previous_column == \"Encounter\":\n",
        "    # renaming the columns\n",
        "    df.rename(columns=curr_rename_dict, inplace = True)\n",
        "\n",
        "  # adding a new row\n",
        "  new_row_df = pd.DataFrame(curr_new_dict, index =[0])\n",
        "  # Concatenate new_row with df\n",
        "  updated_df = pd.concat([new_row_df, df[:]]).reset_index(drop = True)\n",
        "  return updated_df"
      ],
      "metadata": {
        "id": "lAkvxbUKnPJU"
      },
      "execution_count": 86,
      "outputs": []
    },
    {
      "cell_type": "code",
      "source": [
        "# drop unwanted columns\n",
        "data_df = drop_unwanted_columns(dfs[13])\n",
        "data_df.head()"
      ],
      "metadata": {
        "id": "R7U9NJO-0ecO",
        "outputId": "2fb1b703-aa53-4904-cd1b-5e77099c4664",
        "colab": {
          "base_uri": "https://localhost:8080/",
          "height": 206
        }
      },
      "execution_count": 50,
      "outputs": [
        {
          "output_type": "execute_result",
          "data": {
            "text/plain": [
              "    Test Name   Results Reference Range       Score\n",
              "0  HEMOGLOBIN    11.3 L  11.7-15.5 g/dL           5\n",
              "1         RDW    16.5 H     11.0-15.0 %           5\n",
              "2   Encounter  Specimen    Service Date  High Score\n",
              "3          25       NaN      2021-06-23           5\n",
              "4         NaN       NaN             NaN         NaN"
            ],
            "text/html": [
              "\n",
              "  <div id=\"df-21b2f76d-bc21-457a-bf4e-58c6f7d607f5\">\n",
              "    <div class=\"colab-df-container\">\n",
              "      <div>\n",
              "<style scoped>\n",
              "    .dataframe tbody tr th:only-of-type {\n",
              "        vertical-align: middle;\n",
              "    }\n",
              "\n",
              "    .dataframe tbody tr th {\n",
              "        vertical-align: top;\n",
              "    }\n",
              "\n",
              "    .dataframe thead th {\n",
              "        text-align: right;\n",
              "    }\n",
              "</style>\n",
              "<table border=\"1\" class=\"dataframe\">\n",
              "  <thead>\n",
              "    <tr style=\"text-align: right;\">\n",
              "      <th></th>\n",
              "      <th>Test Name</th>\n",
              "      <th>Results</th>\n",
              "      <th>Reference Range</th>\n",
              "      <th>Score</th>\n",
              "    </tr>\n",
              "  </thead>\n",
              "  <tbody>\n",
              "    <tr>\n",
              "      <th>0</th>\n",
              "      <td>HEMOGLOBIN</td>\n",
              "      <td>11.3 L</td>\n",
              "      <td>11.7-15.5 g/dL</td>\n",
              "      <td>5</td>\n",
              "    </tr>\n",
              "    <tr>\n",
              "      <th>1</th>\n",
              "      <td>RDW</td>\n",
              "      <td>16.5 H</td>\n",
              "      <td>11.0-15.0 %</td>\n",
              "      <td>5</td>\n",
              "    </tr>\n",
              "    <tr>\n",
              "      <th>2</th>\n",
              "      <td>Encounter</td>\n",
              "      <td>Specimen</td>\n",
              "      <td>Service Date</td>\n",
              "      <td>High Score</td>\n",
              "    </tr>\n",
              "    <tr>\n",
              "      <th>3</th>\n",
              "      <td>25</td>\n",
              "      <td>NaN</td>\n",
              "      <td>2021-06-23</td>\n",
              "      <td>5</td>\n",
              "    </tr>\n",
              "    <tr>\n",
              "      <th>4</th>\n",
              "      <td>NaN</td>\n",
              "      <td>NaN</td>\n",
              "      <td>NaN</td>\n",
              "      <td>NaN</td>\n",
              "    </tr>\n",
              "  </tbody>\n",
              "</table>\n",
              "</div>\n",
              "      <button class=\"colab-df-convert\" onclick=\"convertToInteractive('df-21b2f76d-bc21-457a-bf4e-58c6f7d607f5')\"\n",
              "              title=\"Convert this dataframe to an interactive table.\"\n",
              "              style=\"display:none;\">\n",
              "        \n",
              "  <svg xmlns=\"http://www.w3.org/2000/svg\" height=\"24px\"viewBox=\"0 0 24 24\"\n",
              "       width=\"24px\">\n",
              "    <path d=\"M0 0h24v24H0V0z\" fill=\"none\"/>\n",
              "    <path d=\"M18.56 5.44l.94 2.06.94-2.06 2.06-.94-2.06-.94-.94-2.06-.94 2.06-2.06.94zm-11 1L8.5 8.5l.94-2.06 2.06-.94-2.06-.94L8.5 2.5l-.94 2.06-2.06.94zm10 10l.94 2.06.94-2.06 2.06-.94-2.06-.94-.94-2.06-.94 2.06-2.06.94z\"/><path d=\"M17.41 7.96l-1.37-1.37c-.4-.4-.92-.59-1.43-.59-.52 0-1.04.2-1.43.59L10.3 9.45l-7.72 7.72c-.78.78-.78 2.05 0 2.83L4 21.41c.39.39.9.59 1.41.59.51 0 1.02-.2 1.41-.59l7.78-7.78 2.81-2.81c.8-.78.8-2.07 0-2.86zM5.41 20L4 18.59l7.72-7.72 1.47 1.35L5.41 20z\"/>\n",
              "  </svg>\n",
              "      </button>\n",
              "      \n",
              "  <style>\n",
              "    .colab-df-container {\n",
              "      display:flex;\n",
              "      flex-wrap:wrap;\n",
              "      gap: 12px;\n",
              "    }\n",
              "\n",
              "    .colab-df-convert {\n",
              "      background-color: #E8F0FE;\n",
              "      border: none;\n",
              "      border-radius: 50%;\n",
              "      cursor: pointer;\n",
              "      display: none;\n",
              "      fill: #1967D2;\n",
              "      height: 32px;\n",
              "      padding: 0 0 0 0;\n",
              "      width: 32px;\n",
              "    }\n",
              "\n",
              "    .colab-df-convert:hover {\n",
              "      background-color: #E2EBFA;\n",
              "      box-shadow: 0px 1px 2px rgba(60, 64, 67, 0.3), 0px 1px 3px 1px rgba(60, 64, 67, 0.15);\n",
              "      fill: #174EA6;\n",
              "    }\n",
              "\n",
              "    [theme=dark] .colab-df-convert {\n",
              "      background-color: #3B4455;\n",
              "      fill: #D2E3FC;\n",
              "    }\n",
              "\n",
              "    [theme=dark] .colab-df-convert:hover {\n",
              "      background-color: #434B5C;\n",
              "      box-shadow: 0px 1px 3px 1px rgba(0, 0, 0, 0.15);\n",
              "      filter: drop-shadow(0px 1px 2px rgba(0, 0, 0, 0.3));\n",
              "      fill: #FFFFFF;\n",
              "    }\n",
              "  </style>\n",
              "\n",
              "      <script>\n",
              "        const buttonEl =\n",
              "          document.querySelector('#df-21b2f76d-bc21-457a-bf4e-58c6f7d607f5 button.colab-df-convert');\n",
              "        buttonEl.style.display =\n",
              "          google.colab.kernel.accessAllowed ? 'block' : 'none';\n",
              "\n",
              "        async function convertToInteractive(key) {\n",
              "          const element = document.querySelector('#df-21b2f76d-bc21-457a-bf4e-58c6f7d607f5');\n",
              "          const dataTable =\n",
              "            await google.colab.kernel.invokeFunction('convertToInteractive',\n",
              "                                                     [key], {});\n",
              "          if (!dataTable) return;\n",
              "\n",
              "          const docLinkHtml = 'Like what you see? Visit the ' +\n",
              "            '<a target=\"_blank\" href=https://colab.research.google.com/notebooks/data_table.ipynb>data table notebook</a>'\n",
              "            + ' to learn more about interactive tables.';\n",
              "          element.innerHTML = '';\n",
              "          dataTable['output_type'] = 'display_data';\n",
              "          await google.colab.output.renderOutput(dataTable, element);\n",
              "          const docLink = document.createElement('div');\n",
              "          docLink.innerHTML = docLinkHtml;\n",
              "          element.appendChild(docLink);\n",
              "        }\n",
              "      </script>\n",
              "    </div>\n",
              "  </div>\n",
              "  "
            ]
          },
          "metadata": {},
          "execution_count": 50
        }
      ]
    },
    {
      "cell_type": "code",
      "source": [
        "data_df2 = add_new_columns(data_df)\n",
        "# Concatenate new_row with df\n",
        "# data_df3 = pd.concat([data_df, data_df2[:]]).reset_index(drop = True)\n",
        "data_df2.head()"
      ],
      "metadata": {
        "id": "G4n3Y37-woCw"
      },
      "execution_count": null,
      "outputs": []
    },
    {
      "cell_type": "code",
      "source": [
        "raw_df = data_df[1].rename(columns=data_df[1].iloc[0]).drop(data_df[1].index[0])\n",
        "raw_df.columns"
      ],
      "metadata": {
        "id": "rFu0Rpka3jYf",
        "outputId": "7afa6c6d-0c03-489a-8a61-55ebc29dd15b",
        "colab": {
          "base_uri": "https://localhost:8080/"
        }
      },
      "execution_count": null,
      "outputs": [
        {
          "output_type": "execute_result",
          "data": {
            "text/plain": [
              "Index(['PLATELET COUNT', '299', '140-400 Thousand/uL', 0.0, nan, nan], dtype='object')"
            ]
          },
          "metadata": {},
          "execution_count": 64
        }
      ]
    },
    {
      "cell_type": "code",
      "source": [
        "for col in data_df.columns:\n",
        "  print(col)"
      ],
      "metadata": {
        "id": "ws3lpNx3ngdQ",
        "outputId": "fa228248-83bf-48dc-f84c-8d38f0ca1a62",
        "colab": {
          "base_uri": "https://localhost:8080/"
        }
      },
      "execution_count": null,
      "outputs": [
        {
          "output_type": "stream",
          "name": "stdout",
          "text": [
            "Test Name\n",
            "Results\n",
            "Reference Range\n",
            "Score\n"
          ]
        }
      ]
    },
    {
      "cell_type": "code",
      "source": [
        "test_column_list = [\"Test Name\", \"Results\",\"Reference Range\", \"Score\", \"Lab\"]\n",
        "diagnosis_column_list = [\"Diagnosis Code\", \"Description\",\"Code Type\", \"Score\"]\n",
        "doctor_sp_column_list = [\"Doctor Specialty\", \"Score\"]\n",
        "lab_column_list = [\"Lab\", \"Name\",\"Location\", \"Director\", \"CLIA\"]\n",
        "cols_list = [\"Encounter\", \"Specimen\", \"Service Date\", \"High Score\", \"Score\", \"Lab\", \"Doctor Name\", \"Location\", \"Phone\"]\n",
        "#new_dict = {col_name in test_column_list}\n",
        "current_dict = {}\n",
        "for idx, col_name in enumerate(data_df.columns):\n",
        "  print(f\"{cols_list[idx]} >> {col_name}\")\n",
        "  current_dict[cols_list[idx]] = col_name"
      ],
      "metadata": {
        "id": "7v53tJ5WnDKa",
        "outputId": "0f84b3c8-225d-4563-80fa-d1a0d608f9f8",
        "colab": {
          "base_uri": "https://localhost:8080/"
        }
      },
      "execution_count": null,
      "outputs": [
        {
          "output_type": "stream",
          "name": "stdout",
          "text": [
            "Encounter >> Test Name\n",
            "Specimen >> Results\n",
            "Service Date >> Reference Range\n",
            "High Score >> Score\n"
          ]
        }
      ]
    },
    {
      "cell_type": "code",
      "source": [
        "current_dict"
      ],
      "metadata": {
        "id": "r5EHEwVOpojC",
        "outputId": "ac4760e8-d710-47d4-fd02-2f8579d5f547",
        "colab": {
          "base_uri": "https://localhost:8080/"
        }
      },
      "execution_count": null,
      "outputs": [
        {
          "output_type": "execute_result",
          "data": {
            "text/plain": [
              "{'Encounter': 'Test Name',\n",
              " 'Specimen': 'Results',\n",
              " 'Service Date': 'Reference Range',\n",
              " 'High Score': 'Score'}"
            ]
          },
          "metadata": {},
          "execution_count": 33
        }
      ]
    },
    {
      "cell_type": "code",
      "source": [
        "# renaming the columns\n",
        "data_df.rename(columns={\n",
        "  \"Test Name\": \"Encounter\",\n",
        "  \"Results\": \"Specimen\",\n",
        "  \"Reference Range\": \"Service Date\",\n",
        "  \"Score\": \"High Score\"\n",
        "}, inplace = True)\n",
        "#data_df.head()\n",
        "\n",
        "# adding a new row\n",
        "new_row = pd.DataFrame({\"Encounter\":\"Test Name\", \"Specimen\":\"Results\", \"Service Date\":\"Reference Range\", \"High Score\":\"Score\"}, index =[0])\n",
        "# Concatenate new_row with df\n",
        "test_data_df = pd.concat([new_row, data_df[:]]).reset_index(drop = True)\n",
        "test_data_df.head()"
      ],
      "metadata": {
        "id": "x6D0Ypaa1bPE"
      },
      "execution_count": null,
      "outputs": []
    },
    {
      "cell_type": "code",
      "source": [
        "data_df = []\n",
        "for idx in range(len(dfs)):\n",
        "  # filter unwanted tables\n",
        "  if (dfs[idx].columns[0] != \"Unnamed: 0\") and (dfs[idx].columns[0] != \"Condition\") and (dfs[idx].columns[0] != \"Response Status\"):\n",
        "    data_df.append(dfs[idx])"
      ],
      "metadata": {
        "id": "uLm5XXe8vRjd"
      },
      "execution_count": null,
      "outputs": []
    },
    {
      "cell_type": "code",
      "source": [
        "dfs[11]"
      ],
      "metadata": {
        "id": "pl9BXQ5SZ9L1",
        "outputId": "7037b5f6-7f8b-4ee7-922a-6195682ebe4f",
        "colab": {
          "base_uri": "https://localhost:8080/",
          "height": 112
        }
      },
      "execution_count": null,
      "outputs": [
        {
          "output_type": "execute_result",
          "data": {
            "text/plain": [
              "   Encounter  Specimen Service Date  High Score  Unnamed: 0  Unnamed: 1\n",
              "0       26.0       NaN   2021-08-17         5.0         NaN         NaN\n",
              "1        NaN       NaN          NaN         NaN         NaN         NaN"
            ],
            "text/html": [
              "\n",
              "  <div id=\"df-35353833-c9eb-4317-9d0c-f0f5cd308bdf\">\n",
              "    <div class=\"colab-df-container\">\n",
              "      <div>\n",
              "<style scoped>\n",
              "    .dataframe tbody tr th:only-of-type {\n",
              "        vertical-align: middle;\n",
              "    }\n",
              "\n",
              "    .dataframe tbody tr th {\n",
              "        vertical-align: top;\n",
              "    }\n",
              "\n",
              "    .dataframe thead th {\n",
              "        text-align: right;\n",
              "    }\n",
              "</style>\n",
              "<table border=\"1\" class=\"dataframe\">\n",
              "  <thead>\n",
              "    <tr style=\"text-align: right;\">\n",
              "      <th></th>\n",
              "      <th>Encounter</th>\n",
              "      <th>Specimen</th>\n",
              "      <th>Service Date</th>\n",
              "      <th>High Score</th>\n",
              "      <th>Unnamed: 0</th>\n",
              "      <th>Unnamed: 1</th>\n",
              "    </tr>\n",
              "  </thead>\n",
              "  <tbody>\n",
              "    <tr>\n",
              "      <th>0</th>\n",
              "      <td>26.0</td>\n",
              "      <td>NaN</td>\n",
              "      <td>2021-08-17</td>\n",
              "      <td>5.0</td>\n",
              "      <td>NaN</td>\n",
              "      <td>NaN</td>\n",
              "    </tr>\n",
              "    <tr>\n",
              "      <th>1</th>\n",
              "      <td>NaN</td>\n",
              "      <td>NaN</td>\n",
              "      <td>NaN</td>\n",
              "      <td>NaN</td>\n",
              "      <td>NaN</td>\n",
              "      <td>NaN</td>\n",
              "    </tr>\n",
              "  </tbody>\n",
              "</table>\n",
              "</div>\n",
              "      <button class=\"colab-df-convert\" onclick=\"convertToInteractive('df-35353833-c9eb-4317-9d0c-f0f5cd308bdf')\"\n",
              "              title=\"Convert this dataframe to an interactive table.\"\n",
              "              style=\"display:none;\">\n",
              "        \n",
              "  <svg xmlns=\"http://www.w3.org/2000/svg\" height=\"24px\"viewBox=\"0 0 24 24\"\n",
              "       width=\"24px\">\n",
              "    <path d=\"M0 0h24v24H0V0z\" fill=\"none\"/>\n",
              "    <path d=\"M18.56 5.44l.94 2.06.94-2.06 2.06-.94-2.06-.94-.94-2.06-.94 2.06-2.06.94zm-11 1L8.5 8.5l.94-2.06 2.06-.94-2.06-.94L8.5 2.5l-.94 2.06-2.06.94zm10 10l.94 2.06.94-2.06 2.06-.94-2.06-.94-.94-2.06-.94 2.06-2.06.94z\"/><path d=\"M17.41 7.96l-1.37-1.37c-.4-.4-.92-.59-1.43-.59-.52 0-1.04.2-1.43.59L10.3 9.45l-7.72 7.72c-.78.78-.78 2.05 0 2.83L4 21.41c.39.39.9.59 1.41.59.51 0 1.02-.2 1.41-.59l7.78-7.78 2.81-2.81c.8-.78.8-2.07 0-2.86zM5.41 20L4 18.59l7.72-7.72 1.47 1.35L5.41 20z\"/>\n",
              "  </svg>\n",
              "      </button>\n",
              "      \n",
              "  <style>\n",
              "    .colab-df-container {\n",
              "      display:flex;\n",
              "      flex-wrap:wrap;\n",
              "      gap: 12px;\n",
              "    }\n",
              "\n",
              "    .colab-df-convert {\n",
              "      background-color: #E8F0FE;\n",
              "      border: none;\n",
              "      border-radius: 50%;\n",
              "      cursor: pointer;\n",
              "      display: none;\n",
              "      fill: #1967D2;\n",
              "      height: 32px;\n",
              "      padding: 0 0 0 0;\n",
              "      width: 32px;\n",
              "    }\n",
              "\n",
              "    .colab-df-convert:hover {\n",
              "      background-color: #E2EBFA;\n",
              "      box-shadow: 0px 1px 2px rgba(60, 64, 67, 0.3), 0px 1px 3px 1px rgba(60, 64, 67, 0.15);\n",
              "      fill: #174EA6;\n",
              "    }\n",
              "\n",
              "    [theme=dark] .colab-df-convert {\n",
              "      background-color: #3B4455;\n",
              "      fill: #D2E3FC;\n",
              "    }\n",
              "\n",
              "    [theme=dark] .colab-df-convert:hover {\n",
              "      background-color: #434B5C;\n",
              "      box-shadow: 0px 1px 3px 1px rgba(0, 0, 0, 0.15);\n",
              "      filter: drop-shadow(0px 1px 2px rgba(0, 0, 0, 0.3));\n",
              "      fill: #FFFFFF;\n",
              "    }\n",
              "  </style>\n",
              "\n",
              "      <script>\n",
              "        const buttonEl =\n",
              "          document.querySelector('#df-35353833-c9eb-4317-9d0c-f0f5cd308bdf button.colab-df-convert');\n",
              "        buttonEl.style.display =\n",
              "          google.colab.kernel.accessAllowed ? 'block' : 'none';\n",
              "\n",
              "        async function convertToInteractive(key) {\n",
              "          const element = document.querySelector('#df-35353833-c9eb-4317-9d0c-f0f5cd308bdf');\n",
              "          const dataTable =\n",
              "            await google.colab.kernel.invokeFunction('convertToInteractive',\n",
              "                                                     [key], {});\n",
              "          if (!dataTable) return;\n",
              "\n",
              "          const docLinkHtml = 'Like what you see? Visit the ' +\n",
              "            '<a target=\"_blank\" href=https://colab.research.google.com/notebooks/data_table.ipynb>data table notebook</a>'\n",
              "            + ' to learn more about interactive tables.';\n",
              "          element.innerHTML = '';\n",
              "          dataTable['output_type'] = 'display_data';\n",
              "          await google.colab.output.renderOutput(dataTable, element);\n",
              "          const docLink = document.createElement('div');\n",
              "          docLink.innerHTML = docLinkHtml;\n",
              "          element.appendChild(docLink);\n",
              "        }\n",
              "      </script>\n",
              "    </div>\n",
              "  </div>\n",
              "  "
            ]
          },
          "metadata": {},
          "execution_count": 31
        }
      ]
    },
    {
      "cell_type": "code",
      "source": [
        "# drop unwanted columns\n",
        "data_df = drop_unwanted_columns(dfs[11])"
      ],
      "metadata": {
        "id": "ghMId-EEc_ip"
      },
      "execution_count": null,
      "outputs": []
    },
    {
      "cell_type": "code",
      "source": [
        "def create_data_df(dfs):\n",
        "  data_df = pd.DataFrame()\n",
        "  previous_column = \"\"\n",
        "  for idx in range(len(dfs)):\n",
        "    # Step-1: drop unwanted columns\n",
        "    raw_df = drop_unwanted_columns(dfs[idx])\n",
        "\n",
        "    # Step-1: skip loop if columns does not exists\n",
        "    if len(raw_df.columns) == 0:\n",
        "      continue\n",
        "\n",
        "    # Step-2: if it is \"Test Name\", \"Diagnosis Code\", \"Doctor Specialty\" and \"Lab\" table             \n",
        "    if raw_df.columns[0] not in [\"Response Status\", \"Condition\"]:\n",
        "      # Step-3: if it is first \"Encounter\" table\n",
        "      if len(data_df) != 9 and raw_df.columns[0] == \"Encounter\":\n",
        "        cols_list = [\"Score\", \"Lab\", \"Doctor Name\", \"Location\", \"Phone\"]\n",
        "        for col_name in cols_list:\n",
        "          raw_df[col_name] = \"\"\n",
        "\n",
        "      # Step-4: handle table that dont have column header\n",
        "      if raw_df.columns[0] not in [\"Encounter\", \"Test Name\", \"Diagnosis Code\", \"Doctor Specialty\", \"Lab\", \"21\", \"0\"]:\n",
        "        previous_column = raw_df.columns[0]\n",
        "        add_column_header(raw_df, previous_column)\n",
        "\n",
        "      # Step-5: otherwise, assign column value to \"Encounter\" table's column based on index position\n",
        "      updated_df = update_df_columns(raw_df)  # rename and add new column to df\n",
        "      data_df = pd.concat([data_df, updated_df], ignore_index=True)\n",
        "\n",
        "  return data_df"
      ],
      "metadata": {
        "id": "yzwGMkLrcbmk"
      },
      "execution_count": 79,
      "outputs": []
    },
    {
      "cell_type": "code",
      "source": [
        "data_df = create_data_df(dfs)"
      ],
      "metadata": {
        "id": "sPFxR7VEv9Nq"
      },
      "execution_count": null,
      "outputs": []
    },
    {
      "cell_type": "code",
      "source": [
        "len(data_df)"
      ],
      "metadata": {
        "id": "hxWi4G6TgolK",
        "outputId": "9d19391d-fb76-4722-f967-8499e8206cf9",
        "colab": {
          "base_uri": "https://localhost:8080/"
        }
      },
      "execution_count": 82,
      "outputs": [
        {
          "output_type": "execute_result",
          "data": {
            "text/plain": [
              "1221"
            ]
          },
          "metadata": {},
          "execution_count": 82
        }
      ]
    },
    {
      "cell_type": "code",
      "source": [
        "data_df.head()"
      ],
      "metadata": {
        "id": "zPAMWH5Z8FGG",
        "outputId": "b5939e73-5487-4e03-c71b-6eda2039ea66",
        "colab": {
          "base_uri": "https://localhost:8080/",
          "height": 206
        }
      },
      "execution_count": 83,
      "outputs": [
        {
          "output_type": "execute_result",
          "data": {
            "text/plain": [
              "        Encounter             Specimen  Service Date  High Score  Score  Lab  \\\n",
              "0       Encounter             Specimen  Service Date  High Score  Score  Lab   \n",
              "1              30                  NaN    2021-09-24           5               \n",
              "2             NaN                  NaN           NaN         NaN               \n",
              "3  Diagnosis Code          Description     Code Type       Score               \n",
              "4            D649  Anemia, unspecified         ICD10           5               \n",
              "\n",
              "   Doctor Name  Location  Phone  \n",
              "0  Doctor Name  Location  Phone  \n",
              "1                                \n",
              "2                                \n",
              "3                                \n",
              "4                                "
            ],
            "text/html": [
              "\n",
              "  <div id=\"df-832be1c2-9be4-4853-a480-a86a8f4f34f0\">\n",
              "    <div class=\"colab-df-container\">\n",
              "      <div>\n",
              "<style scoped>\n",
              "    .dataframe tbody tr th:only-of-type {\n",
              "        vertical-align: middle;\n",
              "    }\n",
              "\n",
              "    .dataframe tbody tr th {\n",
              "        vertical-align: top;\n",
              "    }\n",
              "\n",
              "    .dataframe thead th {\n",
              "        text-align: right;\n",
              "    }\n",
              "</style>\n",
              "<table border=\"1\" class=\"dataframe\">\n",
              "  <thead>\n",
              "    <tr style=\"text-align: right;\">\n",
              "      <th></th>\n",
              "      <th>Encounter</th>\n",
              "      <th>Specimen</th>\n",
              "      <th>Service Date</th>\n",
              "      <th>High Score</th>\n",
              "      <th>Score</th>\n",
              "      <th>Lab</th>\n",
              "      <th>Doctor Name</th>\n",
              "      <th>Location</th>\n",
              "      <th>Phone</th>\n",
              "    </tr>\n",
              "  </thead>\n",
              "  <tbody>\n",
              "    <tr>\n",
              "      <th>0</th>\n",
              "      <td>Encounter</td>\n",
              "      <td>Specimen</td>\n",
              "      <td>Service Date</td>\n",
              "      <td>High Score</td>\n",
              "      <td>Score</td>\n",
              "      <td>Lab</td>\n",
              "      <td>Doctor Name</td>\n",
              "      <td>Location</td>\n",
              "      <td>Phone</td>\n",
              "    </tr>\n",
              "    <tr>\n",
              "      <th>1</th>\n",
              "      <td>30</td>\n",
              "      <td>NaN</td>\n",
              "      <td>2021-09-24</td>\n",
              "      <td>5</td>\n",
              "      <td></td>\n",
              "      <td></td>\n",
              "      <td></td>\n",
              "      <td></td>\n",
              "      <td></td>\n",
              "    </tr>\n",
              "    <tr>\n",
              "      <th>2</th>\n",
              "      <td>NaN</td>\n",
              "      <td>NaN</td>\n",
              "      <td>NaN</td>\n",
              "      <td>NaN</td>\n",
              "      <td></td>\n",
              "      <td></td>\n",
              "      <td></td>\n",
              "      <td></td>\n",
              "      <td></td>\n",
              "    </tr>\n",
              "    <tr>\n",
              "      <th>3</th>\n",
              "      <td>Diagnosis Code</td>\n",
              "      <td>Description</td>\n",
              "      <td>Code Type</td>\n",
              "      <td>Score</td>\n",
              "      <td></td>\n",
              "      <td></td>\n",
              "      <td></td>\n",
              "      <td></td>\n",
              "      <td></td>\n",
              "    </tr>\n",
              "    <tr>\n",
              "      <th>4</th>\n",
              "      <td>D649</td>\n",
              "      <td>Anemia, unspecified</td>\n",
              "      <td>ICD10</td>\n",
              "      <td>5</td>\n",
              "      <td></td>\n",
              "      <td></td>\n",
              "      <td></td>\n",
              "      <td></td>\n",
              "      <td></td>\n",
              "    </tr>\n",
              "  </tbody>\n",
              "</table>\n",
              "</div>\n",
              "      <button class=\"colab-df-convert\" onclick=\"convertToInteractive('df-832be1c2-9be4-4853-a480-a86a8f4f34f0')\"\n",
              "              title=\"Convert this dataframe to an interactive table.\"\n",
              "              style=\"display:none;\">\n",
              "        \n",
              "  <svg xmlns=\"http://www.w3.org/2000/svg\" height=\"24px\"viewBox=\"0 0 24 24\"\n",
              "       width=\"24px\">\n",
              "    <path d=\"M0 0h24v24H0V0z\" fill=\"none\"/>\n",
              "    <path d=\"M18.56 5.44l.94 2.06.94-2.06 2.06-.94-2.06-.94-.94-2.06-.94 2.06-2.06.94zm-11 1L8.5 8.5l.94-2.06 2.06-.94-2.06-.94L8.5 2.5l-.94 2.06-2.06.94zm10 10l.94 2.06.94-2.06 2.06-.94-2.06-.94-.94-2.06-.94 2.06-2.06.94z\"/><path d=\"M17.41 7.96l-1.37-1.37c-.4-.4-.92-.59-1.43-.59-.52 0-1.04.2-1.43.59L10.3 9.45l-7.72 7.72c-.78.78-.78 2.05 0 2.83L4 21.41c.39.39.9.59 1.41.59.51 0 1.02-.2 1.41-.59l7.78-7.78 2.81-2.81c.8-.78.8-2.07 0-2.86zM5.41 20L4 18.59l7.72-7.72 1.47 1.35L5.41 20z\"/>\n",
              "  </svg>\n",
              "      </button>\n",
              "      \n",
              "  <style>\n",
              "    .colab-df-container {\n",
              "      display:flex;\n",
              "      flex-wrap:wrap;\n",
              "      gap: 12px;\n",
              "    }\n",
              "\n",
              "    .colab-df-convert {\n",
              "      background-color: #E8F0FE;\n",
              "      border: none;\n",
              "      border-radius: 50%;\n",
              "      cursor: pointer;\n",
              "      display: none;\n",
              "      fill: #1967D2;\n",
              "      height: 32px;\n",
              "      padding: 0 0 0 0;\n",
              "      width: 32px;\n",
              "    }\n",
              "\n",
              "    .colab-df-convert:hover {\n",
              "      background-color: #E2EBFA;\n",
              "      box-shadow: 0px 1px 2px rgba(60, 64, 67, 0.3), 0px 1px 3px 1px rgba(60, 64, 67, 0.15);\n",
              "      fill: #174EA6;\n",
              "    }\n",
              "\n",
              "    [theme=dark] .colab-df-convert {\n",
              "      background-color: #3B4455;\n",
              "      fill: #D2E3FC;\n",
              "    }\n",
              "\n",
              "    [theme=dark] .colab-df-convert:hover {\n",
              "      background-color: #434B5C;\n",
              "      box-shadow: 0px 1px 3px 1px rgba(0, 0, 0, 0.15);\n",
              "      filter: drop-shadow(0px 1px 2px rgba(0, 0, 0, 0.3));\n",
              "      fill: #FFFFFF;\n",
              "    }\n",
              "  </style>\n",
              "\n",
              "      <script>\n",
              "        const buttonEl =\n",
              "          document.querySelector('#df-832be1c2-9be4-4853-a480-a86a8f4f34f0 button.colab-df-convert');\n",
              "        buttonEl.style.display =\n",
              "          google.colab.kernel.accessAllowed ? 'block' : 'none';\n",
              "\n",
              "        async function convertToInteractive(key) {\n",
              "          const element = document.querySelector('#df-832be1c2-9be4-4853-a480-a86a8f4f34f0');\n",
              "          const dataTable =\n",
              "            await google.colab.kernel.invokeFunction('convertToInteractive',\n",
              "                                                     [key], {});\n",
              "          if (!dataTable) return;\n",
              "\n",
              "          const docLinkHtml = 'Like what you see? Visit the ' +\n",
              "            '<a target=\"_blank\" href=https://colab.research.google.com/notebooks/data_table.ipynb>data table notebook</a>'\n",
              "            + ' to learn more about interactive tables.';\n",
              "          element.innerHTML = '';\n",
              "          dataTable['output_type'] = 'display_data';\n",
              "          await google.colab.output.renderOutput(dataTable, element);\n",
              "          const docLink = document.createElement('div');\n",
              "          docLink.innerHTML = docLinkHtml;\n",
              "          element.appendChild(docLink);\n",
              "        }\n",
              "      </script>\n",
              "    </div>\n",
              "  </div>\n",
              "  "
            ]
          },
          "metadata": {},
          "execution_count": 83
        }
      ]
    },
    {
      "cell_type": "code",
      "source": [
        "data_df = data_df.drop([data_df.index[0]])\n",
        "data_df.head()"
      ],
      "metadata": {
        "id": "x8ANeiTJ8Isr",
        "outputId": "01e7bc85-f57e-43f9-9834-ca3eafaf2261",
        "colab": {
          "base_uri": "https://localhost:8080/",
          "height": 206
        }
      },
      "execution_count": 84,
      "outputs": [
        {
          "output_type": "execute_result",
          "data": {
            "text/plain": [
              "        Encounter             Specimen Service Date High Score Score Lab  \\\n",
              "1              30                  NaN   2021-09-24          5             \n",
              "2             NaN                  NaN          NaN        NaN             \n",
              "3  Diagnosis Code          Description    Code Type      Score             \n",
              "4            D649  Anemia, unspecified        ICD10          5             \n",
              "5            E611      Iron deficiency        ICD10          5             \n",
              "\n",
              "  Doctor Name Location Phone  \n",
              "1                             \n",
              "2                             \n",
              "3                             \n",
              "4                             \n",
              "5                             "
            ],
            "text/html": [
              "\n",
              "  <div id=\"df-955c1b01-5c40-4c12-8a4e-6b294051b7f2\">\n",
              "    <div class=\"colab-df-container\">\n",
              "      <div>\n",
              "<style scoped>\n",
              "    .dataframe tbody tr th:only-of-type {\n",
              "        vertical-align: middle;\n",
              "    }\n",
              "\n",
              "    .dataframe tbody tr th {\n",
              "        vertical-align: top;\n",
              "    }\n",
              "\n",
              "    .dataframe thead th {\n",
              "        text-align: right;\n",
              "    }\n",
              "</style>\n",
              "<table border=\"1\" class=\"dataframe\">\n",
              "  <thead>\n",
              "    <tr style=\"text-align: right;\">\n",
              "      <th></th>\n",
              "      <th>Encounter</th>\n",
              "      <th>Specimen</th>\n",
              "      <th>Service Date</th>\n",
              "      <th>High Score</th>\n",
              "      <th>Score</th>\n",
              "      <th>Lab</th>\n",
              "      <th>Doctor Name</th>\n",
              "      <th>Location</th>\n",
              "      <th>Phone</th>\n",
              "    </tr>\n",
              "  </thead>\n",
              "  <tbody>\n",
              "    <tr>\n",
              "      <th>1</th>\n",
              "      <td>30</td>\n",
              "      <td>NaN</td>\n",
              "      <td>2021-09-24</td>\n",
              "      <td>5</td>\n",
              "      <td></td>\n",
              "      <td></td>\n",
              "      <td></td>\n",
              "      <td></td>\n",
              "      <td></td>\n",
              "    </tr>\n",
              "    <tr>\n",
              "      <th>2</th>\n",
              "      <td>NaN</td>\n",
              "      <td>NaN</td>\n",
              "      <td>NaN</td>\n",
              "      <td>NaN</td>\n",
              "      <td></td>\n",
              "      <td></td>\n",
              "      <td></td>\n",
              "      <td></td>\n",
              "      <td></td>\n",
              "    </tr>\n",
              "    <tr>\n",
              "      <th>3</th>\n",
              "      <td>Diagnosis Code</td>\n",
              "      <td>Description</td>\n",
              "      <td>Code Type</td>\n",
              "      <td>Score</td>\n",
              "      <td></td>\n",
              "      <td></td>\n",
              "      <td></td>\n",
              "      <td></td>\n",
              "      <td></td>\n",
              "    </tr>\n",
              "    <tr>\n",
              "      <th>4</th>\n",
              "      <td>D649</td>\n",
              "      <td>Anemia, unspecified</td>\n",
              "      <td>ICD10</td>\n",
              "      <td>5</td>\n",
              "      <td></td>\n",
              "      <td></td>\n",
              "      <td></td>\n",
              "      <td></td>\n",
              "      <td></td>\n",
              "    </tr>\n",
              "    <tr>\n",
              "      <th>5</th>\n",
              "      <td>E611</td>\n",
              "      <td>Iron deficiency</td>\n",
              "      <td>ICD10</td>\n",
              "      <td>5</td>\n",
              "      <td></td>\n",
              "      <td></td>\n",
              "      <td></td>\n",
              "      <td></td>\n",
              "      <td></td>\n",
              "    </tr>\n",
              "  </tbody>\n",
              "</table>\n",
              "</div>\n",
              "      <button class=\"colab-df-convert\" onclick=\"convertToInteractive('df-955c1b01-5c40-4c12-8a4e-6b294051b7f2')\"\n",
              "              title=\"Convert this dataframe to an interactive table.\"\n",
              "              style=\"display:none;\">\n",
              "        \n",
              "  <svg xmlns=\"http://www.w3.org/2000/svg\" height=\"24px\"viewBox=\"0 0 24 24\"\n",
              "       width=\"24px\">\n",
              "    <path d=\"M0 0h24v24H0V0z\" fill=\"none\"/>\n",
              "    <path d=\"M18.56 5.44l.94 2.06.94-2.06 2.06-.94-2.06-.94-.94-2.06-.94 2.06-2.06.94zm-11 1L8.5 8.5l.94-2.06 2.06-.94-2.06-.94L8.5 2.5l-.94 2.06-2.06.94zm10 10l.94 2.06.94-2.06 2.06-.94-2.06-.94-.94-2.06-.94 2.06-2.06.94z\"/><path d=\"M17.41 7.96l-1.37-1.37c-.4-.4-.92-.59-1.43-.59-.52 0-1.04.2-1.43.59L10.3 9.45l-7.72 7.72c-.78.78-.78 2.05 0 2.83L4 21.41c.39.39.9.59 1.41.59.51 0 1.02-.2 1.41-.59l7.78-7.78 2.81-2.81c.8-.78.8-2.07 0-2.86zM5.41 20L4 18.59l7.72-7.72 1.47 1.35L5.41 20z\"/>\n",
              "  </svg>\n",
              "      </button>\n",
              "      \n",
              "  <style>\n",
              "    .colab-df-container {\n",
              "      display:flex;\n",
              "      flex-wrap:wrap;\n",
              "      gap: 12px;\n",
              "    }\n",
              "\n",
              "    .colab-df-convert {\n",
              "      background-color: #E8F0FE;\n",
              "      border: none;\n",
              "      border-radius: 50%;\n",
              "      cursor: pointer;\n",
              "      display: none;\n",
              "      fill: #1967D2;\n",
              "      height: 32px;\n",
              "      padding: 0 0 0 0;\n",
              "      width: 32px;\n",
              "    }\n",
              "\n",
              "    .colab-df-convert:hover {\n",
              "      background-color: #E2EBFA;\n",
              "      box-shadow: 0px 1px 2px rgba(60, 64, 67, 0.3), 0px 1px 3px 1px rgba(60, 64, 67, 0.15);\n",
              "      fill: #174EA6;\n",
              "    }\n",
              "\n",
              "    [theme=dark] .colab-df-convert {\n",
              "      background-color: #3B4455;\n",
              "      fill: #D2E3FC;\n",
              "    }\n",
              "\n",
              "    [theme=dark] .colab-df-convert:hover {\n",
              "      background-color: #434B5C;\n",
              "      box-shadow: 0px 1px 3px 1px rgba(0, 0, 0, 0.15);\n",
              "      filter: drop-shadow(0px 1px 2px rgba(0, 0, 0, 0.3));\n",
              "      fill: #FFFFFF;\n",
              "    }\n",
              "  </style>\n",
              "\n",
              "      <script>\n",
              "        const buttonEl =\n",
              "          document.querySelector('#df-955c1b01-5c40-4c12-8a4e-6b294051b7f2 button.colab-df-convert');\n",
              "        buttonEl.style.display =\n",
              "          google.colab.kernel.accessAllowed ? 'block' : 'none';\n",
              "\n",
              "        async function convertToInteractive(key) {\n",
              "          const element = document.querySelector('#df-955c1b01-5c40-4c12-8a4e-6b294051b7f2');\n",
              "          const dataTable =\n",
              "            await google.colab.kernel.invokeFunction('convertToInteractive',\n",
              "                                                     [key], {});\n",
              "          if (!dataTable) return;\n",
              "\n",
              "          const docLinkHtml = 'Like what you see? Visit the ' +\n",
              "            '<a target=\"_blank\" href=https://colab.research.google.com/notebooks/data_table.ipynb>data table notebook</a>'\n",
              "            + ' to learn more about interactive tables.';\n",
              "          element.innerHTML = '';\n",
              "          dataTable['output_type'] = 'display_data';\n",
              "          await google.colab.output.renderOutput(dataTable, element);\n",
              "          const docLink = document.createElement('div');\n",
              "          docLink.innerHTML = docLinkHtml;\n",
              "          element.appendChild(docLink);\n",
              "        }\n",
              "      </script>\n",
              "    </div>\n",
              "  </div>\n",
              "  "
            ]
          },
          "metadata": {},
          "execution_count": 84
        }
      ]
    },
    {
      "cell_type": "code",
      "source": [
        "data_df.to_csv(\"exam-one.csv\")"
      ],
      "metadata": {
        "id": "pdRt0yDzU4TC"
      },
      "execution_count": 85,
      "outputs": []
    },
    {
      "cell_type": "code",
      "source": [
        "all_data_df = pd.concat(data_df)"
      ],
      "metadata": {
        "id": "e7ydDsrN3qqr"
      },
      "execution_count": null,
      "outputs": []
    },
    {
      "cell_type": "code",
      "source": [
        "all_data_df.reset_index(drop=True, inplace=True)"
      ],
      "metadata": {
        "id": "TZ3e89N6-Qm9"
      },
      "execution_count": null,
      "outputs": []
    },
    {
      "cell_type": "markdown",
      "source": [
        "##Raw Data"
      ],
      "metadata": {
        "id": "ItflqzjOReuY"
      }
    },
    {
      "cell_type": "code",
      "source": [
        "all_data_df.columns"
      ],
      "metadata": {
        "id": "hwaAoRYeoIRD",
        "outputId": "5b1bb7eb-9143-44e5-8a49-fb445c41347a",
        "colab": {
          "base_uri": "https://localhost:8080/"
        }
      },
      "execution_count": null,
      "outputs": [
        {
          "output_type": "execute_result",
          "data": {
            "text/plain": [
              "Index(['Unnamed: 0', 'Condition', 'Provider\\rGenerated',\n",
              "       'Demographic\\rPrevalence', 'Confidence', 'Contributing Factors',\n",
              "       'Response Status', 'Total # of Encounters', 'Encounter', 'Specimen',\n",
              "       'Service Date', 'High Score', 'Unnamed: 1', 'Unnamed: 2', 'Test Name',\n",
              "       'Results', 'Reference Range', 'Score', 'Unnamed: 3', 'Unnamed: 4',\n",
              "       'Unnamed: 5', 'Unnamed: 6', '21', '9', '2018-03-20', '5', 'Doctor Name',\n",
              "       'Location', 'Phone', 'I951', 'Orthostatic hypotension', 'ICD10', 'Lab',\n",
              "       '0', 'Doctor Specialty', 'N920',\n",
              "       'Excessive and frequent menstruation with regular cycle',\n",
              "       'Diagnosis Code', 'Description', 'Code Type', 'R000',\n",
              "       'Tachycardia, unspecified', 'Name', 'Director', 'CLIA'],\n",
              "      dtype='object')"
            ]
          },
          "metadata": {},
          "execution_count": 9
        }
      ]
    },
    {
      "cell_type": "code",
      "source": [
        "all_data_df.head()"
      ],
      "metadata": {
        "id": "HijaULU9-VFq",
        "outputId": "d0f77ea4-d02e-488d-dfac-30bde361cda2",
        "colab": {
          "base_uri": "https://localhost:8080/",
          "height": 490
        }
      },
      "execution_count": null,
      "outputs": [
        {
          "output_type": "execute_result",
          "data": {
            "text/plain": [
              "  Unnamed: 0                                          Condition  \\\n",
              "0        NaN  Oth symptoms and signs w\\rcognitive functions ...   \n",
              "1        NaN                                 Any Muscle Disease   \n",
              "2        NaN                         Abnormalities of breathing   \n",
              "3        NaN                                      Other anemias   \n",
              "4        NaN                                                NaN   \n",
              "\n",
              "  Provider\\rGenerated Demographic\\rPrevalence Confidence  \\\n",
              "0               False                    1.4%      99.0%   \n",
              "1                True                   43.5%      89.5%   \n",
              "2               False                    5.7%      57.2%   \n",
              "3                True                    4.0%      52.2%   \n",
              "4                 NaN                     NaN        NaN   \n",
              "\n",
              "                                Contributing Factors Response Status  \\\n",
              "0  Amorphous Sediment [Presence],Platelet\\r[Prese...             NaN   \n",
              "1  R29-Nervous Systom\\rSymp.,Sodium,Hydromorphone...             NaN   \n",
              "2                    LE,HDL,Free T4 Index,GFR - MDRD             NaN   \n",
              "3    Total Bilirubin,ALP,Hemoglobin,D50-Anemia(Iron)             NaN   \n",
              "4                                                NaN             Hit   \n",
              "\n",
              "   Total # of Encounters Encounter Specimen  ... N920  \\\n",
              "0                    NaN       NaN      NaN  ...  NaN   \n",
              "1                    NaN       NaN      NaN  ...  NaN   \n",
              "2                    NaN       NaN      NaN  ...  NaN   \n",
              "3                    NaN       NaN      NaN  ...  NaN   \n",
              "4                   30.0       NaN      NaN  ...  NaN   \n",
              "\n",
              "  Excessive and frequent menstruation with regular cycle Diagnosis Code  \\\n",
              "0                                                NaN                NaN   \n",
              "1                                                NaN                NaN   \n",
              "2                                                NaN                NaN   \n",
              "3                                                NaN                NaN   \n",
              "4                                                NaN                NaN   \n",
              "\n",
              "   Description Code Type R000 Tachycardia, unspecified Name  Director  CLIA  \n",
              "0          NaN       NaN  NaN                      NaN  NaN       NaN   NaN  \n",
              "1          NaN       NaN  NaN                      NaN  NaN       NaN   NaN  \n",
              "2          NaN       NaN  NaN                      NaN  NaN       NaN   NaN  \n",
              "3          NaN       NaN  NaN                      NaN  NaN       NaN   NaN  \n",
              "4          NaN       NaN  NaN                      NaN  NaN       NaN   NaN  \n",
              "\n",
              "[5 rows x 45 columns]"
            ],
            "text/html": [
              "\n",
              "  <div id=\"df-bcca31b2-9f8d-4874-921c-88a3193b17b5\">\n",
              "    <div class=\"colab-df-container\">\n",
              "      <div>\n",
              "<style scoped>\n",
              "    .dataframe tbody tr th:only-of-type {\n",
              "        vertical-align: middle;\n",
              "    }\n",
              "\n",
              "    .dataframe tbody tr th {\n",
              "        vertical-align: top;\n",
              "    }\n",
              "\n",
              "    .dataframe thead th {\n",
              "        text-align: right;\n",
              "    }\n",
              "</style>\n",
              "<table border=\"1\" class=\"dataframe\">\n",
              "  <thead>\n",
              "    <tr style=\"text-align: right;\">\n",
              "      <th></th>\n",
              "      <th>Unnamed: 0</th>\n",
              "      <th>Condition</th>\n",
              "      <th>Provider\\rGenerated</th>\n",
              "      <th>Demographic\\rPrevalence</th>\n",
              "      <th>Confidence</th>\n",
              "      <th>Contributing Factors</th>\n",
              "      <th>Response Status</th>\n",
              "      <th>Total # of Encounters</th>\n",
              "      <th>Encounter</th>\n",
              "      <th>Specimen</th>\n",
              "      <th>...</th>\n",
              "      <th>N920</th>\n",
              "      <th>Excessive and frequent menstruation with regular cycle</th>\n",
              "      <th>Diagnosis Code</th>\n",
              "      <th>Description</th>\n",
              "      <th>Code Type</th>\n",
              "      <th>R000</th>\n",
              "      <th>Tachycardia, unspecified</th>\n",
              "      <th>Name</th>\n",
              "      <th>Director</th>\n",
              "      <th>CLIA</th>\n",
              "    </tr>\n",
              "  </thead>\n",
              "  <tbody>\n",
              "    <tr>\n",
              "      <th>0</th>\n",
              "      <td>NaN</td>\n",
              "      <td>Oth symptoms and signs w\\rcognitive functions ...</td>\n",
              "      <td>False</td>\n",
              "      <td>1.4%</td>\n",
              "      <td>99.0%</td>\n",
              "      <td>Amorphous Sediment [Presence],Platelet\\r[Prese...</td>\n",
              "      <td>NaN</td>\n",
              "      <td>NaN</td>\n",
              "      <td>NaN</td>\n",
              "      <td>NaN</td>\n",
              "      <td>...</td>\n",
              "      <td>NaN</td>\n",
              "      <td>NaN</td>\n",
              "      <td>NaN</td>\n",
              "      <td>NaN</td>\n",
              "      <td>NaN</td>\n",
              "      <td>NaN</td>\n",
              "      <td>NaN</td>\n",
              "      <td>NaN</td>\n",
              "      <td>NaN</td>\n",
              "      <td>NaN</td>\n",
              "    </tr>\n",
              "    <tr>\n",
              "      <th>1</th>\n",
              "      <td>NaN</td>\n",
              "      <td>Any Muscle Disease</td>\n",
              "      <td>True</td>\n",
              "      <td>43.5%</td>\n",
              "      <td>89.5%</td>\n",
              "      <td>R29-Nervous Systom\\rSymp.,Sodium,Hydromorphone...</td>\n",
              "      <td>NaN</td>\n",
              "      <td>NaN</td>\n",
              "      <td>NaN</td>\n",
              "      <td>NaN</td>\n",
              "      <td>...</td>\n",
              "      <td>NaN</td>\n",
              "      <td>NaN</td>\n",
              "      <td>NaN</td>\n",
              "      <td>NaN</td>\n",
              "      <td>NaN</td>\n",
              "      <td>NaN</td>\n",
              "      <td>NaN</td>\n",
              "      <td>NaN</td>\n",
              "      <td>NaN</td>\n",
              "      <td>NaN</td>\n",
              "    </tr>\n",
              "    <tr>\n",
              "      <th>2</th>\n",
              "      <td>NaN</td>\n",
              "      <td>Abnormalities of breathing</td>\n",
              "      <td>False</td>\n",
              "      <td>5.7%</td>\n",
              "      <td>57.2%</td>\n",
              "      <td>LE,HDL,Free T4 Index,GFR - MDRD</td>\n",
              "      <td>NaN</td>\n",
              "      <td>NaN</td>\n",
              "      <td>NaN</td>\n",
              "      <td>NaN</td>\n",
              "      <td>...</td>\n",
              "      <td>NaN</td>\n",
              "      <td>NaN</td>\n",
              "      <td>NaN</td>\n",
              "      <td>NaN</td>\n",
              "      <td>NaN</td>\n",
              "      <td>NaN</td>\n",
              "      <td>NaN</td>\n",
              "      <td>NaN</td>\n",
              "      <td>NaN</td>\n",
              "      <td>NaN</td>\n",
              "    </tr>\n",
              "    <tr>\n",
              "      <th>3</th>\n",
              "      <td>NaN</td>\n",
              "      <td>Other anemias</td>\n",
              "      <td>True</td>\n",
              "      <td>4.0%</td>\n",
              "      <td>52.2%</td>\n",
              "      <td>Total Bilirubin,ALP,Hemoglobin,D50-Anemia(Iron)</td>\n",
              "      <td>NaN</td>\n",
              "      <td>NaN</td>\n",
              "      <td>NaN</td>\n",
              "      <td>NaN</td>\n",
              "      <td>...</td>\n",
              "      <td>NaN</td>\n",
              "      <td>NaN</td>\n",
              "      <td>NaN</td>\n",
              "      <td>NaN</td>\n",
              "      <td>NaN</td>\n",
              "      <td>NaN</td>\n",
              "      <td>NaN</td>\n",
              "      <td>NaN</td>\n",
              "      <td>NaN</td>\n",
              "      <td>NaN</td>\n",
              "    </tr>\n",
              "    <tr>\n",
              "      <th>4</th>\n",
              "      <td>NaN</td>\n",
              "      <td>NaN</td>\n",
              "      <td>NaN</td>\n",
              "      <td>NaN</td>\n",
              "      <td>NaN</td>\n",
              "      <td>NaN</td>\n",
              "      <td>Hit</td>\n",
              "      <td>30.0</td>\n",
              "      <td>NaN</td>\n",
              "      <td>NaN</td>\n",
              "      <td>...</td>\n",
              "      <td>NaN</td>\n",
              "      <td>NaN</td>\n",
              "      <td>NaN</td>\n",
              "      <td>NaN</td>\n",
              "      <td>NaN</td>\n",
              "      <td>NaN</td>\n",
              "      <td>NaN</td>\n",
              "      <td>NaN</td>\n",
              "      <td>NaN</td>\n",
              "      <td>NaN</td>\n",
              "    </tr>\n",
              "  </tbody>\n",
              "</table>\n",
              "<p>5 rows × 45 columns</p>\n",
              "</div>\n",
              "      <button class=\"colab-df-convert\" onclick=\"convertToInteractive('df-bcca31b2-9f8d-4874-921c-88a3193b17b5')\"\n",
              "              title=\"Convert this dataframe to an interactive table.\"\n",
              "              style=\"display:none;\">\n",
              "        \n",
              "  <svg xmlns=\"http://www.w3.org/2000/svg\" height=\"24px\"viewBox=\"0 0 24 24\"\n",
              "       width=\"24px\">\n",
              "    <path d=\"M0 0h24v24H0V0z\" fill=\"none\"/>\n",
              "    <path d=\"M18.56 5.44l.94 2.06.94-2.06 2.06-.94-2.06-.94-.94-2.06-.94 2.06-2.06.94zm-11 1L8.5 8.5l.94-2.06 2.06-.94-2.06-.94L8.5 2.5l-.94 2.06-2.06.94zm10 10l.94 2.06.94-2.06 2.06-.94-2.06-.94-.94-2.06-.94 2.06-2.06.94z\"/><path d=\"M17.41 7.96l-1.37-1.37c-.4-.4-.92-.59-1.43-.59-.52 0-1.04.2-1.43.59L10.3 9.45l-7.72 7.72c-.78.78-.78 2.05 0 2.83L4 21.41c.39.39.9.59 1.41.59.51 0 1.02-.2 1.41-.59l7.78-7.78 2.81-2.81c.8-.78.8-2.07 0-2.86zM5.41 20L4 18.59l7.72-7.72 1.47 1.35L5.41 20z\"/>\n",
              "  </svg>\n",
              "      </button>\n",
              "      \n",
              "  <style>\n",
              "    .colab-df-container {\n",
              "      display:flex;\n",
              "      flex-wrap:wrap;\n",
              "      gap: 12px;\n",
              "    }\n",
              "\n",
              "    .colab-df-convert {\n",
              "      background-color: #E8F0FE;\n",
              "      border: none;\n",
              "      border-radius: 50%;\n",
              "      cursor: pointer;\n",
              "      display: none;\n",
              "      fill: #1967D2;\n",
              "      height: 32px;\n",
              "      padding: 0 0 0 0;\n",
              "      width: 32px;\n",
              "    }\n",
              "\n",
              "    .colab-df-convert:hover {\n",
              "      background-color: #E2EBFA;\n",
              "      box-shadow: 0px 1px 2px rgba(60, 64, 67, 0.3), 0px 1px 3px 1px rgba(60, 64, 67, 0.15);\n",
              "      fill: #174EA6;\n",
              "    }\n",
              "\n",
              "    [theme=dark] .colab-df-convert {\n",
              "      background-color: #3B4455;\n",
              "      fill: #D2E3FC;\n",
              "    }\n",
              "\n",
              "    [theme=dark] .colab-df-convert:hover {\n",
              "      background-color: #434B5C;\n",
              "      box-shadow: 0px 1px 3px 1px rgba(0, 0, 0, 0.15);\n",
              "      filter: drop-shadow(0px 1px 2px rgba(0, 0, 0, 0.3));\n",
              "      fill: #FFFFFF;\n",
              "    }\n",
              "  </style>\n",
              "\n",
              "      <script>\n",
              "        const buttonEl =\n",
              "          document.querySelector('#df-bcca31b2-9f8d-4874-921c-88a3193b17b5 button.colab-df-convert');\n",
              "        buttonEl.style.display =\n",
              "          google.colab.kernel.accessAllowed ? 'block' : 'none';\n",
              "\n",
              "        async function convertToInteractive(key) {\n",
              "          const element = document.querySelector('#df-bcca31b2-9f8d-4874-921c-88a3193b17b5');\n",
              "          const dataTable =\n",
              "            await google.colab.kernel.invokeFunction('convertToInteractive',\n",
              "                                                     [key], {});\n",
              "          if (!dataTable) return;\n",
              "\n",
              "          const docLinkHtml = 'Like what you see? Visit the ' +\n",
              "            '<a target=\"_blank\" href=https://colab.research.google.com/notebooks/data_table.ipynb>data table notebook</a>'\n",
              "            + ' to learn more about interactive tables.';\n",
              "          element.innerHTML = '';\n",
              "          dataTable['output_type'] = 'display_data';\n",
              "          await google.colab.output.renderOutput(dataTable, element);\n",
              "          const docLink = document.createElement('div');\n",
              "          docLink.innerHTML = docLinkHtml;\n",
              "          element.appendChild(docLink);\n",
              "        }\n",
              "      </script>\n",
              "    </div>\n",
              "  </div>\n",
              "  "
            ]
          },
          "metadata": {},
          "execution_count": 14
        }
      ]
    },
    {
      "cell_type": "code",
      "source": [
        "# drop unwanted columns\n",
        "drop_columns = [\n",
        "  'Unnamed: 0', 'Unnamed: 1', 'Unnamed: 2', 'Unnamed: 3', 'Unnamed: 4',\n",
        "  'Unnamed: 5', 'Unnamed: 6', '21', '9', '2018-03-20', '5',\n",
        "  '0', 'Excessive and frequent menstruation with regular cycle',\n",
        "  'Tachycardia, unspecified', \n",
        "]\n",
        "data_df = all_data_df[all_data_df.columns.drop(drop_columns)]\n",
        "data_df.shape"
      ],
      "metadata": {
        "id": "NaaAG6EdRrZK",
        "outputId": "b82ca0cb-a3ba-4870-a6c2-ae55cd0a3522",
        "colab": {
          "base_uri": "https://localhost:8080/"
        }
      },
      "execution_count": null,
      "outputs": [
        {
          "output_type": "execute_result",
          "data": {
            "text/plain": [
              "(1163, 31)"
            ]
          },
          "metadata": {},
          "execution_count": 10
        }
      ]
    },
    {
      "cell_type": "code",
      "source": [
        "data_df.columns"
      ],
      "metadata": {
        "id": "9Zb4tl-ESI92",
        "outputId": "cee0a43a-564d-4bb9-b66e-e87724d1b0fb",
        "colab": {
          "base_uri": "https://localhost:8080/"
        }
      },
      "execution_count": null,
      "outputs": [
        {
          "output_type": "execute_result",
          "data": {
            "text/plain": [
              "Index(['Condition', 'Provider\\rGenerated', 'Demographic\\rPrevalence',\n",
              "       'Confidence', 'Contributing Factors', 'Response Status',\n",
              "       'Total # of Encounters', 'Encounter', 'Specimen', 'Service Date',\n",
              "       'High Score', 'Test Name', 'Results', 'Reference Range', 'Score',\n",
              "       'Doctor Name', 'Location', 'Phone', 'I951', 'Orthostatic hypotension',\n",
              "       'ICD10', 'Lab', 'Doctor Specialty', 'N920', 'Diagnosis Code',\n",
              "       'Description', 'Code Type', 'R000', 'Name', 'Director', 'CLIA'],\n",
              "      dtype='object')"
            ]
          },
          "metadata": {},
          "execution_count": 33
        }
      ]
    },
    {
      "cell_type": "code",
      "source": [
        "# Drop row that has all NaN values\n",
        "data_df= data_df.dropna(how=\"all\", axis=0)\n",
        "data_df.shape"
      ],
      "metadata": {
        "id": "KcAPpaTkSNvf",
        "outputId": "e04eaa3b-317d-4488-d793-f4475885f132",
        "colab": {
          "base_uri": "https://localhost:8080/"
        }
      },
      "execution_count": null,
      "outputs": [
        {
          "output_type": "execute_result",
          "data": {
            "text/plain": [
              "(1026, 31)"
            ]
          },
          "metadata": {},
          "execution_count": 11
        }
      ]
    },
    {
      "cell_type": "code",
      "source": [
        "# save to json/csv file\n",
        "data_df.to_json('raw_data.json', orient=\"columns\")\n",
        "data_df.to_csv('raw_data.csv')"
      ],
      "metadata": {
        "id": "nnH5Z8YhSkni"
      },
      "execution_count": null,
      "outputs": []
    },
    {
      "cell_type": "markdown",
      "source": [
        "##Refined Data"
      ],
      "metadata": {
        "id": "QXLyKpaMSQJG"
      }
    },
    {
      "cell_type": "code",
      "source": [
        "# drop unwanted columns\n",
        "drop_columns = [\n",
        "  'Unnamed: 0', 'Condition', 'Provider\\rGenerated',\n",
        "  'Demographic\\rPrevalence', 'Confidence', 'Contributing Factors',\n",
        "  'Response Status', 'Total # of Encounters', 'Unnamed: 1', 'Unnamed: 2', 'Unnamed: 3', 'Unnamed: 4',\n",
        "  'Unnamed: 5', 'Unnamed: 6', '21', '9', '2018-03-20', '5', 'Doctor Name',\n",
        "  'Location', 'Phone', 'I951', 'Orthostatic hypotension', 'ICD10', 'Lab',\n",
        "  '0', 'Doctor Specialty', 'N920',\n",
        "  'Excessive and frequent menstruation with regular cycle',\n",
        "  'Diagnosis Code', 'Description', 'Code Type', 'R000',\n",
        "  'Tachycardia, unspecified', 'Name', 'Director', 'CLIA'\n",
        "]\n",
        "data_df = all_data_df[all_data_df.columns.drop(drop_columns)]\n",
        "data_df.shape"
      ],
      "metadata": {
        "id": "EMyxLfTYNv_y",
        "outputId": "cf8406ca-8fa0-4f11-a72b-29bc55d4bd39",
        "colab": {
          "base_uri": "https://localhost:8080/"
        }
      },
      "execution_count": null,
      "outputs": [
        {
          "output_type": "execute_result",
          "data": {
            "text/plain": [
              "(1163, 8)"
            ]
          },
          "metadata": {},
          "execution_count": 13
        }
      ]
    },
    {
      "cell_type": "code",
      "source": [
        "data_df.columns"
      ],
      "metadata": {
        "id": "WDb-MWUBNI1-",
        "outputId": "ca7ac469-87b7-4b5b-f42b-a570c1fd737e",
        "colab": {
          "base_uri": "https://localhost:8080/"
        }
      },
      "execution_count": null,
      "outputs": [
        {
          "output_type": "execute_result",
          "data": {
            "text/plain": [
              "Index(['Encounter', 'Specimen', 'Service Date', 'High Score', 'Test Name',\n",
              "       'Results', 'Reference Range', 'Score'],\n",
              "      dtype='object')"
            ]
          },
          "metadata": {},
          "execution_count": 48
        }
      ]
    },
    {
      "cell_type": "code",
      "source": [
        "# Drop row that has all NaN values\n",
        "data_df= data_df.dropna(how=\"all\", axis=0)\n",
        "data_df.shape"
      ],
      "metadata": {
        "id": "as5TZrsOPpgM",
        "outputId": "4f8e00f5-f5eb-45dc-bd4f-e9f73db4d757",
        "colab": {
          "base_uri": "https://localhost:8080/"
        }
      },
      "execution_count": null,
      "outputs": [
        {
          "output_type": "execute_result",
          "data": {
            "text/plain": [
              "(1007, 8)"
            ]
          },
          "metadata": {},
          "execution_count": 14
        }
      ]
    },
    {
      "cell_type": "code",
      "source": [
        "data_df.head()"
      ],
      "metadata": {
        "id": "1O8w3uYVPyJo",
        "outputId": "c36307f4-57eb-4c10-dd7d-b5d59e9823fa",
        "colab": {
          "base_uri": "https://localhost:8080/",
          "height": 250
        }
      },
      "execution_count": null,
      "outputs": [
        {
          "output_type": "execute_result",
          "data": {
            "text/plain": [
              "         Encounter                 Specimen Service Date High Score Test Name  \\\n",
              "5               30                      NaN   2021-09-24          5       NaN   \n",
              "7   Diagnosis Code              Description    Code Type      Score       NaN   \n",
              "8             D649      Anemia, unspecified        ICD10          5       NaN   \n",
              "9             E611          Iron deficiency        ICD10          5       NaN   \n",
              "10            I951  Orthostatic hypotension        ICD10          5       NaN   \n",
              "\n",
              "   Results Reference Range Score  \n",
              "5      NaN             NaN   NaN  \n",
              "7      NaN             NaN   NaN  \n",
              "8      NaN             NaN   NaN  \n",
              "9      NaN             NaN   NaN  \n",
              "10     NaN             NaN   NaN  "
            ],
            "text/html": [
              "\n",
              "  <div id=\"df-d003079b-e5d2-4534-a89c-0a4c476b7767\">\n",
              "    <div class=\"colab-df-container\">\n",
              "      <div>\n",
              "<style scoped>\n",
              "    .dataframe tbody tr th:only-of-type {\n",
              "        vertical-align: middle;\n",
              "    }\n",
              "\n",
              "    .dataframe tbody tr th {\n",
              "        vertical-align: top;\n",
              "    }\n",
              "\n",
              "    .dataframe thead th {\n",
              "        text-align: right;\n",
              "    }\n",
              "</style>\n",
              "<table border=\"1\" class=\"dataframe\">\n",
              "  <thead>\n",
              "    <tr style=\"text-align: right;\">\n",
              "      <th></th>\n",
              "      <th>Encounter</th>\n",
              "      <th>Specimen</th>\n",
              "      <th>Service Date</th>\n",
              "      <th>High Score</th>\n",
              "      <th>Test Name</th>\n",
              "      <th>Results</th>\n",
              "      <th>Reference Range</th>\n",
              "      <th>Score</th>\n",
              "    </tr>\n",
              "  </thead>\n",
              "  <tbody>\n",
              "    <tr>\n",
              "      <th>5</th>\n",
              "      <td>30</td>\n",
              "      <td>NaN</td>\n",
              "      <td>2021-09-24</td>\n",
              "      <td>5</td>\n",
              "      <td>NaN</td>\n",
              "      <td>NaN</td>\n",
              "      <td>NaN</td>\n",
              "      <td>NaN</td>\n",
              "    </tr>\n",
              "    <tr>\n",
              "      <th>7</th>\n",
              "      <td>Diagnosis Code</td>\n",
              "      <td>Description</td>\n",
              "      <td>Code Type</td>\n",
              "      <td>Score</td>\n",
              "      <td>NaN</td>\n",
              "      <td>NaN</td>\n",
              "      <td>NaN</td>\n",
              "      <td>NaN</td>\n",
              "    </tr>\n",
              "    <tr>\n",
              "      <th>8</th>\n",
              "      <td>D649</td>\n",
              "      <td>Anemia, unspecified</td>\n",
              "      <td>ICD10</td>\n",
              "      <td>5</td>\n",
              "      <td>NaN</td>\n",
              "      <td>NaN</td>\n",
              "      <td>NaN</td>\n",
              "      <td>NaN</td>\n",
              "    </tr>\n",
              "    <tr>\n",
              "      <th>9</th>\n",
              "      <td>E611</td>\n",
              "      <td>Iron deficiency</td>\n",
              "      <td>ICD10</td>\n",
              "      <td>5</td>\n",
              "      <td>NaN</td>\n",
              "      <td>NaN</td>\n",
              "      <td>NaN</td>\n",
              "      <td>NaN</td>\n",
              "    </tr>\n",
              "    <tr>\n",
              "      <th>10</th>\n",
              "      <td>I951</td>\n",
              "      <td>Orthostatic hypotension</td>\n",
              "      <td>ICD10</td>\n",
              "      <td>5</td>\n",
              "      <td>NaN</td>\n",
              "      <td>NaN</td>\n",
              "      <td>NaN</td>\n",
              "      <td>NaN</td>\n",
              "    </tr>\n",
              "  </tbody>\n",
              "</table>\n",
              "</div>\n",
              "      <button class=\"colab-df-convert\" onclick=\"convertToInteractive('df-d003079b-e5d2-4534-a89c-0a4c476b7767')\"\n",
              "              title=\"Convert this dataframe to an interactive table.\"\n",
              "              style=\"display:none;\">\n",
              "        \n",
              "  <svg xmlns=\"http://www.w3.org/2000/svg\" height=\"24px\"viewBox=\"0 0 24 24\"\n",
              "       width=\"24px\">\n",
              "    <path d=\"M0 0h24v24H0V0z\" fill=\"none\"/>\n",
              "    <path d=\"M18.56 5.44l.94 2.06.94-2.06 2.06-.94-2.06-.94-.94-2.06-.94 2.06-2.06.94zm-11 1L8.5 8.5l.94-2.06 2.06-.94-2.06-.94L8.5 2.5l-.94 2.06-2.06.94zm10 10l.94 2.06.94-2.06 2.06-.94-2.06-.94-.94-2.06-.94 2.06-2.06.94z\"/><path d=\"M17.41 7.96l-1.37-1.37c-.4-.4-.92-.59-1.43-.59-.52 0-1.04.2-1.43.59L10.3 9.45l-7.72 7.72c-.78.78-.78 2.05 0 2.83L4 21.41c.39.39.9.59 1.41.59.51 0 1.02-.2 1.41-.59l7.78-7.78 2.81-2.81c.8-.78.8-2.07 0-2.86zM5.41 20L4 18.59l7.72-7.72 1.47 1.35L5.41 20z\"/>\n",
              "  </svg>\n",
              "      </button>\n",
              "      \n",
              "  <style>\n",
              "    .colab-df-container {\n",
              "      display:flex;\n",
              "      flex-wrap:wrap;\n",
              "      gap: 12px;\n",
              "    }\n",
              "\n",
              "    .colab-df-convert {\n",
              "      background-color: #E8F0FE;\n",
              "      border: none;\n",
              "      border-radius: 50%;\n",
              "      cursor: pointer;\n",
              "      display: none;\n",
              "      fill: #1967D2;\n",
              "      height: 32px;\n",
              "      padding: 0 0 0 0;\n",
              "      width: 32px;\n",
              "    }\n",
              "\n",
              "    .colab-df-convert:hover {\n",
              "      background-color: #E2EBFA;\n",
              "      box-shadow: 0px 1px 2px rgba(60, 64, 67, 0.3), 0px 1px 3px 1px rgba(60, 64, 67, 0.15);\n",
              "      fill: #174EA6;\n",
              "    }\n",
              "\n",
              "    [theme=dark] .colab-df-convert {\n",
              "      background-color: #3B4455;\n",
              "      fill: #D2E3FC;\n",
              "    }\n",
              "\n",
              "    [theme=dark] .colab-df-convert:hover {\n",
              "      background-color: #434B5C;\n",
              "      box-shadow: 0px 1px 3px 1px rgba(0, 0, 0, 0.15);\n",
              "      filter: drop-shadow(0px 1px 2px rgba(0, 0, 0, 0.3));\n",
              "      fill: #FFFFFF;\n",
              "    }\n",
              "  </style>\n",
              "\n",
              "      <script>\n",
              "        const buttonEl =\n",
              "          document.querySelector('#df-d003079b-e5d2-4534-a89c-0a4c476b7767 button.colab-df-convert');\n",
              "        buttonEl.style.display =\n",
              "          google.colab.kernel.accessAllowed ? 'block' : 'none';\n",
              "\n",
              "        async function convertToInteractive(key) {\n",
              "          const element = document.querySelector('#df-d003079b-e5d2-4534-a89c-0a4c476b7767');\n",
              "          const dataTable =\n",
              "            await google.colab.kernel.invokeFunction('convertToInteractive',\n",
              "                                                     [key], {});\n",
              "          if (!dataTable) return;\n",
              "\n",
              "          const docLinkHtml = 'Like what you see? Visit the ' +\n",
              "            '<a target=\"_blank\" href=https://colab.research.google.com/notebooks/data_table.ipynb>data table notebook</a>'\n",
              "            + ' to learn more about interactive tables.';\n",
              "          element.innerHTML = '';\n",
              "          dataTable['output_type'] = 'display_data';\n",
              "          await google.colab.output.renderOutput(dataTable, element);\n",
              "          const docLink = document.createElement('div');\n",
              "          docLink.innerHTML = docLinkHtml;\n",
              "          element.appendChild(docLink);\n",
              "        }\n",
              "      </script>\n",
              "    </div>\n",
              "  </div>\n",
              "  "
            ]
          },
          "metadata": {},
          "execution_count": 50
        }
      ]
    },
    {
      "cell_type": "code",
      "source": [
        "# split dataframe\n",
        "encounter_df_columns = [\"Encounter\", \"Specimen\", \"Service Date\", \"High Score\"]\n",
        "test_df_columns = [\"Test Name\",\t\"Results\", \"Reference Range\",\t\"Score\"]\n",
        "test_data_df = data_df[test_df_columns]\n",
        "encounter_data_df = data_df[encounter_df_columns]\n",
        "(test_data_df.shape, encounter_data_df.shape)"
      ],
      "metadata": {
        "id": "pV2T8LLPP561",
        "outputId": "50697133-c059-45e0-bbe4-7349d367951c",
        "colab": {
          "base_uri": "https://localhost:8080/"
        }
      },
      "execution_count": null,
      "outputs": [
        {
          "output_type": "execute_result",
          "data": {
            "text/plain": [
              "((1007, 4), (1007, 4))"
            ]
          },
          "metadata": {},
          "execution_count": 15
        }
      ]
    },
    {
      "cell_type": "code",
      "source": [
        "# Drop row that has all NaN values\n",
        "test_data_df= test_data_df.dropna(how=\"all\", axis=0)\n",
        "encounter_data_df= encounter_data_df.dropna(how=\"all\", axis=0)\n",
        "(test_data_df.shape, encounter_data_df.shape)"
      ],
      "metadata": {
        "id": "rkdUkrQnQHff",
        "outputId": "01e0ab62-8d11-41bc-eec7-d7003193d1b0",
        "colab": {
          "base_uri": "https://localhost:8080/"
        }
      },
      "execution_count": null,
      "outputs": [
        {
          "output_type": "execute_result",
          "data": {
            "text/plain": [
              "((783, 4), (224, 4))"
            ]
          },
          "metadata": {},
          "execution_count": 16
        }
      ]
    },
    {
      "cell_type": "code",
      "source": [
        "test_data_df.head()"
      ],
      "metadata": {
        "id": "pd1qaCRuX9uj",
        "outputId": "cceb4d47-f024-4771-efc0-6c682bffd4b8",
        "colab": {
          "base_uri": "https://localhost:8080/",
          "height": 206
        }
      },
      "execution_count": null,
      "outputs": [
        {
          "output_type": "execute_result",
          "data": {
            "text/plain": [
              "         Test Name      Results Reference Range       Score\n",
              "23      HEMOGLOBIN       11.3 L  11.7-15.5 g/dL           5\n",
              "24             RDW       16.5 H     11.0-15.0 %           5\n",
              "25       Encounter     Specimen    Service Date  High Score\n",
              "26              25          NaN      2021-06-23           5\n",
              "28  Diagnosis Code  Description       Code Type       Score"
            ],
            "text/html": [
              "\n",
              "  <div id=\"df-3b27c306-3000-470c-afb5-6c08f0375f11\">\n",
              "    <div class=\"colab-df-container\">\n",
              "      <div>\n",
              "<style scoped>\n",
              "    .dataframe tbody tr th:only-of-type {\n",
              "        vertical-align: middle;\n",
              "    }\n",
              "\n",
              "    .dataframe tbody tr th {\n",
              "        vertical-align: top;\n",
              "    }\n",
              "\n",
              "    .dataframe thead th {\n",
              "        text-align: right;\n",
              "    }\n",
              "</style>\n",
              "<table border=\"1\" class=\"dataframe\">\n",
              "  <thead>\n",
              "    <tr style=\"text-align: right;\">\n",
              "      <th></th>\n",
              "      <th>Test Name</th>\n",
              "      <th>Results</th>\n",
              "      <th>Reference Range</th>\n",
              "      <th>Score</th>\n",
              "    </tr>\n",
              "  </thead>\n",
              "  <tbody>\n",
              "    <tr>\n",
              "      <th>23</th>\n",
              "      <td>HEMOGLOBIN</td>\n",
              "      <td>11.3 L</td>\n",
              "      <td>11.7-15.5 g/dL</td>\n",
              "      <td>5</td>\n",
              "    </tr>\n",
              "    <tr>\n",
              "      <th>24</th>\n",
              "      <td>RDW</td>\n",
              "      <td>16.5 H</td>\n",
              "      <td>11.0-15.0 %</td>\n",
              "      <td>5</td>\n",
              "    </tr>\n",
              "    <tr>\n",
              "      <th>25</th>\n",
              "      <td>Encounter</td>\n",
              "      <td>Specimen</td>\n",
              "      <td>Service Date</td>\n",
              "      <td>High Score</td>\n",
              "    </tr>\n",
              "    <tr>\n",
              "      <th>26</th>\n",
              "      <td>25</td>\n",
              "      <td>NaN</td>\n",
              "      <td>2021-06-23</td>\n",
              "      <td>5</td>\n",
              "    </tr>\n",
              "    <tr>\n",
              "      <th>28</th>\n",
              "      <td>Diagnosis Code</td>\n",
              "      <td>Description</td>\n",
              "      <td>Code Type</td>\n",
              "      <td>Score</td>\n",
              "    </tr>\n",
              "  </tbody>\n",
              "</table>\n",
              "</div>\n",
              "      <button class=\"colab-df-convert\" onclick=\"convertToInteractive('df-3b27c306-3000-470c-afb5-6c08f0375f11')\"\n",
              "              title=\"Convert this dataframe to an interactive table.\"\n",
              "              style=\"display:none;\">\n",
              "        \n",
              "  <svg xmlns=\"http://www.w3.org/2000/svg\" height=\"24px\"viewBox=\"0 0 24 24\"\n",
              "       width=\"24px\">\n",
              "    <path d=\"M0 0h24v24H0V0z\" fill=\"none\"/>\n",
              "    <path d=\"M18.56 5.44l.94 2.06.94-2.06 2.06-.94-2.06-.94-.94-2.06-.94 2.06-2.06.94zm-11 1L8.5 8.5l.94-2.06 2.06-.94-2.06-.94L8.5 2.5l-.94 2.06-2.06.94zm10 10l.94 2.06.94-2.06 2.06-.94-2.06-.94-.94-2.06-.94 2.06-2.06.94z\"/><path d=\"M17.41 7.96l-1.37-1.37c-.4-.4-.92-.59-1.43-.59-.52 0-1.04.2-1.43.59L10.3 9.45l-7.72 7.72c-.78.78-.78 2.05 0 2.83L4 21.41c.39.39.9.59 1.41.59.51 0 1.02-.2 1.41-.59l7.78-7.78 2.81-2.81c.8-.78.8-2.07 0-2.86zM5.41 20L4 18.59l7.72-7.72 1.47 1.35L5.41 20z\"/>\n",
              "  </svg>\n",
              "      </button>\n",
              "      \n",
              "  <style>\n",
              "    .colab-df-container {\n",
              "      display:flex;\n",
              "      flex-wrap:wrap;\n",
              "      gap: 12px;\n",
              "    }\n",
              "\n",
              "    .colab-df-convert {\n",
              "      background-color: #E8F0FE;\n",
              "      border: none;\n",
              "      border-radius: 50%;\n",
              "      cursor: pointer;\n",
              "      display: none;\n",
              "      fill: #1967D2;\n",
              "      height: 32px;\n",
              "      padding: 0 0 0 0;\n",
              "      width: 32px;\n",
              "    }\n",
              "\n",
              "    .colab-df-convert:hover {\n",
              "      background-color: #E2EBFA;\n",
              "      box-shadow: 0px 1px 2px rgba(60, 64, 67, 0.3), 0px 1px 3px 1px rgba(60, 64, 67, 0.15);\n",
              "      fill: #174EA6;\n",
              "    }\n",
              "\n",
              "    [theme=dark] .colab-df-convert {\n",
              "      background-color: #3B4455;\n",
              "      fill: #D2E3FC;\n",
              "    }\n",
              "\n",
              "    [theme=dark] .colab-df-convert:hover {\n",
              "      background-color: #434B5C;\n",
              "      box-shadow: 0px 1px 3px 1px rgba(0, 0, 0, 0.15);\n",
              "      filter: drop-shadow(0px 1px 2px rgba(0, 0, 0, 0.3));\n",
              "      fill: #FFFFFF;\n",
              "    }\n",
              "  </style>\n",
              "\n",
              "      <script>\n",
              "        const buttonEl =\n",
              "          document.querySelector('#df-3b27c306-3000-470c-afb5-6c08f0375f11 button.colab-df-convert');\n",
              "        buttonEl.style.display =\n",
              "          google.colab.kernel.accessAllowed ? 'block' : 'none';\n",
              "\n",
              "        async function convertToInteractive(key) {\n",
              "          const element = document.querySelector('#df-3b27c306-3000-470c-afb5-6c08f0375f11');\n",
              "          const dataTable =\n",
              "            await google.colab.kernel.invokeFunction('convertToInteractive',\n",
              "                                                     [key], {});\n",
              "          if (!dataTable) return;\n",
              "\n",
              "          const docLinkHtml = 'Like what you see? Visit the ' +\n",
              "            '<a target=\"_blank\" href=https://colab.research.google.com/notebooks/data_table.ipynb>data table notebook</a>'\n",
              "            + ' to learn more about interactive tables.';\n",
              "          element.innerHTML = '';\n",
              "          dataTable['output_type'] = 'display_data';\n",
              "          await google.colab.output.renderOutput(dataTable, element);\n",
              "          const docLink = document.createElement('div');\n",
              "          docLink.innerHTML = docLinkHtml;\n",
              "          element.appendChild(docLink);\n",
              "        }\n",
              "      </script>\n",
              "    </div>\n",
              "  </div>\n",
              "  "
            ]
          },
          "metadata": {},
          "execution_count": 57
        }
      ]
    },
    {
      "cell_type": "code",
      "source": [
        "# renaming the columns\n",
        "test_data_df.rename(columns={\n",
        "  \"Test Name\": \"Encounter\",\n",
        "  \"Results\": \"Specimen\",\n",
        "  \"Reference Range\": \"Service Date\",\n",
        "  \"Score\": \"High Score\"\n",
        "}, inplace = True)\n",
        "test_data_df.head()"
      ],
      "metadata": {
        "id": "aUAIDRcSXvUY",
        "outputId": "93e096ff-87ef-4de0-e84c-c735c1e817ea",
        "colab": {
          "base_uri": "https://localhost:8080/",
          "height": 206
        }
      },
      "execution_count": null,
      "outputs": [
        {
          "output_type": "execute_result",
          "data": {
            "text/plain": [
              "         Encounter     Specimen    Service Date  High Score\n",
              "23      HEMOGLOBIN       11.3 L  11.7-15.5 g/dL           5\n",
              "24             RDW       16.5 H     11.0-15.0 %           5\n",
              "25       Encounter     Specimen    Service Date  High Score\n",
              "26              25          NaN      2021-06-23           5\n",
              "28  Diagnosis Code  Description       Code Type       Score"
            ],
            "text/html": [
              "\n",
              "  <div id=\"df-0b1c7553-64b9-4b9f-80f1-7fb7f3bd2dcf\">\n",
              "    <div class=\"colab-df-container\">\n",
              "      <div>\n",
              "<style scoped>\n",
              "    .dataframe tbody tr th:only-of-type {\n",
              "        vertical-align: middle;\n",
              "    }\n",
              "\n",
              "    .dataframe tbody tr th {\n",
              "        vertical-align: top;\n",
              "    }\n",
              "\n",
              "    .dataframe thead th {\n",
              "        text-align: right;\n",
              "    }\n",
              "</style>\n",
              "<table border=\"1\" class=\"dataframe\">\n",
              "  <thead>\n",
              "    <tr style=\"text-align: right;\">\n",
              "      <th></th>\n",
              "      <th>Encounter</th>\n",
              "      <th>Specimen</th>\n",
              "      <th>Service Date</th>\n",
              "      <th>High Score</th>\n",
              "    </tr>\n",
              "  </thead>\n",
              "  <tbody>\n",
              "    <tr>\n",
              "      <th>23</th>\n",
              "      <td>HEMOGLOBIN</td>\n",
              "      <td>11.3 L</td>\n",
              "      <td>11.7-15.5 g/dL</td>\n",
              "      <td>5</td>\n",
              "    </tr>\n",
              "    <tr>\n",
              "      <th>24</th>\n",
              "      <td>RDW</td>\n",
              "      <td>16.5 H</td>\n",
              "      <td>11.0-15.0 %</td>\n",
              "      <td>5</td>\n",
              "    </tr>\n",
              "    <tr>\n",
              "      <th>25</th>\n",
              "      <td>Encounter</td>\n",
              "      <td>Specimen</td>\n",
              "      <td>Service Date</td>\n",
              "      <td>High Score</td>\n",
              "    </tr>\n",
              "    <tr>\n",
              "      <th>26</th>\n",
              "      <td>25</td>\n",
              "      <td>NaN</td>\n",
              "      <td>2021-06-23</td>\n",
              "      <td>5</td>\n",
              "    </tr>\n",
              "    <tr>\n",
              "      <th>28</th>\n",
              "      <td>Diagnosis Code</td>\n",
              "      <td>Description</td>\n",
              "      <td>Code Type</td>\n",
              "      <td>Score</td>\n",
              "    </tr>\n",
              "  </tbody>\n",
              "</table>\n",
              "</div>\n",
              "      <button class=\"colab-df-convert\" onclick=\"convertToInteractive('df-0b1c7553-64b9-4b9f-80f1-7fb7f3bd2dcf')\"\n",
              "              title=\"Convert this dataframe to an interactive table.\"\n",
              "              style=\"display:none;\">\n",
              "        \n",
              "  <svg xmlns=\"http://www.w3.org/2000/svg\" height=\"24px\"viewBox=\"0 0 24 24\"\n",
              "       width=\"24px\">\n",
              "    <path d=\"M0 0h24v24H0V0z\" fill=\"none\"/>\n",
              "    <path d=\"M18.56 5.44l.94 2.06.94-2.06 2.06-.94-2.06-.94-.94-2.06-.94 2.06-2.06.94zm-11 1L8.5 8.5l.94-2.06 2.06-.94-2.06-.94L8.5 2.5l-.94 2.06-2.06.94zm10 10l.94 2.06.94-2.06 2.06-.94-2.06-.94-.94-2.06-.94 2.06-2.06.94z\"/><path d=\"M17.41 7.96l-1.37-1.37c-.4-.4-.92-.59-1.43-.59-.52 0-1.04.2-1.43.59L10.3 9.45l-7.72 7.72c-.78.78-.78 2.05 0 2.83L4 21.41c.39.39.9.59 1.41.59.51 0 1.02-.2 1.41-.59l7.78-7.78 2.81-2.81c.8-.78.8-2.07 0-2.86zM5.41 20L4 18.59l7.72-7.72 1.47 1.35L5.41 20z\"/>\n",
              "  </svg>\n",
              "      </button>\n",
              "      \n",
              "  <style>\n",
              "    .colab-df-container {\n",
              "      display:flex;\n",
              "      flex-wrap:wrap;\n",
              "      gap: 12px;\n",
              "    }\n",
              "\n",
              "    .colab-df-convert {\n",
              "      background-color: #E8F0FE;\n",
              "      border: none;\n",
              "      border-radius: 50%;\n",
              "      cursor: pointer;\n",
              "      display: none;\n",
              "      fill: #1967D2;\n",
              "      height: 32px;\n",
              "      padding: 0 0 0 0;\n",
              "      width: 32px;\n",
              "    }\n",
              "\n",
              "    .colab-df-convert:hover {\n",
              "      background-color: #E2EBFA;\n",
              "      box-shadow: 0px 1px 2px rgba(60, 64, 67, 0.3), 0px 1px 3px 1px rgba(60, 64, 67, 0.15);\n",
              "      fill: #174EA6;\n",
              "    }\n",
              "\n",
              "    [theme=dark] .colab-df-convert {\n",
              "      background-color: #3B4455;\n",
              "      fill: #D2E3FC;\n",
              "    }\n",
              "\n",
              "    [theme=dark] .colab-df-convert:hover {\n",
              "      background-color: #434B5C;\n",
              "      box-shadow: 0px 1px 3px 1px rgba(0, 0, 0, 0.15);\n",
              "      filter: drop-shadow(0px 1px 2px rgba(0, 0, 0, 0.3));\n",
              "      fill: #FFFFFF;\n",
              "    }\n",
              "  </style>\n",
              "\n",
              "      <script>\n",
              "        const buttonEl =\n",
              "          document.querySelector('#df-0b1c7553-64b9-4b9f-80f1-7fb7f3bd2dcf button.colab-df-convert');\n",
              "        buttonEl.style.display =\n",
              "          google.colab.kernel.accessAllowed ? 'block' : 'none';\n",
              "\n",
              "        async function convertToInteractive(key) {\n",
              "          const element = document.querySelector('#df-0b1c7553-64b9-4b9f-80f1-7fb7f3bd2dcf');\n",
              "          const dataTable =\n",
              "            await google.colab.kernel.invokeFunction('convertToInteractive',\n",
              "                                                     [key], {});\n",
              "          if (!dataTable) return;\n",
              "\n",
              "          const docLinkHtml = 'Like what you see? Visit the ' +\n",
              "            '<a target=\"_blank\" href=https://colab.research.google.com/notebooks/data_table.ipynb>data table notebook</a>'\n",
              "            + ' to learn more about interactive tables.';\n",
              "          element.innerHTML = '';\n",
              "          dataTable['output_type'] = 'display_data';\n",
              "          await google.colab.output.renderOutput(dataTable, element);\n",
              "          const docLink = document.createElement('div');\n",
              "          docLink.innerHTML = docLinkHtml;\n",
              "          element.appendChild(docLink);\n",
              "        }\n",
              "      </script>\n",
              "    </div>\n",
              "  </div>\n",
              "  "
            ]
          },
          "metadata": {},
          "execution_count": 17
        }
      ]
    },
    {
      "cell_type": "code",
      "source": [
        "# adding a new row\n",
        "new_row = pd.DataFrame({\"Encounter\":\"Test Name\", \"Specimen\":\"Results\", \"Service Date\":\"Reference Range\", \"High Score\":\"Score\"}, index =[0])\n",
        "# Concatenate new_row with df\n",
        "test_data_df = pd.concat([new_row, test_data_df[:]]).reset_index(drop = True)\n",
        "test_data_df.head()"
      ],
      "metadata": {
        "id": "Cu3SCL2pY8S1",
        "outputId": "47a23b93-3327-4526-e03e-eee7114b3209",
        "colab": {
          "base_uri": "https://localhost:8080/",
          "height": 206
        }
      },
      "execution_count": null,
      "outputs": [
        {
          "output_type": "execute_result",
          "data": {
            "text/plain": [
              "    Encounter  Specimen     Service Date  High Score\n",
              "0   Test Name   Results  Reference Range       Score\n",
              "1  HEMOGLOBIN    11.3 L   11.7-15.5 g/dL           5\n",
              "2         RDW    16.5 H      11.0-15.0 %           5\n",
              "3   Encounter  Specimen     Service Date  High Score\n",
              "4          25       NaN       2021-06-23           5"
            ],
            "text/html": [
              "\n",
              "  <div id=\"df-5f61b9cf-b307-44dd-a794-4af14a6f1154\">\n",
              "    <div class=\"colab-df-container\">\n",
              "      <div>\n",
              "<style scoped>\n",
              "    .dataframe tbody tr th:only-of-type {\n",
              "        vertical-align: middle;\n",
              "    }\n",
              "\n",
              "    .dataframe tbody tr th {\n",
              "        vertical-align: top;\n",
              "    }\n",
              "\n",
              "    .dataframe thead th {\n",
              "        text-align: right;\n",
              "    }\n",
              "</style>\n",
              "<table border=\"1\" class=\"dataframe\">\n",
              "  <thead>\n",
              "    <tr style=\"text-align: right;\">\n",
              "      <th></th>\n",
              "      <th>Encounter</th>\n",
              "      <th>Specimen</th>\n",
              "      <th>Service Date</th>\n",
              "      <th>High Score</th>\n",
              "    </tr>\n",
              "  </thead>\n",
              "  <tbody>\n",
              "    <tr>\n",
              "      <th>0</th>\n",
              "      <td>Test Name</td>\n",
              "      <td>Results</td>\n",
              "      <td>Reference Range</td>\n",
              "      <td>Score</td>\n",
              "    </tr>\n",
              "    <tr>\n",
              "      <th>1</th>\n",
              "      <td>HEMOGLOBIN</td>\n",
              "      <td>11.3 L</td>\n",
              "      <td>11.7-15.5 g/dL</td>\n",
              "      <td>5</td>\n",
              "    </tr>\n",
              "    <tr>\n",
              "      <th>2</th>\n",
              "      <td>RDW</td>\n",
              "      <td>16.5 H</td>\n",
              "      <td>11.0-15.0 %</td>\n",
              "      <td>5</td>\n",
              "    </tr>\n",
              "    <tr>\n",
              "      <th>3</th>\n",
              "      <td>Encounter</td>\n",
              "      <td>Specimen</td>\n",
              "      <td>Service Date</td>\n",
              "      <td>High Score</td>\n",
              "    </tr>\n",
              "    <tr>\n",
              "      <th>4</th>\n",
              "      <td>25</td>\n",
              "      <td>NaN</td>\n",
              "      <td>2021-06-23</td>\n",
              "      <td>5</td>\n",
              "    </tr>\n",
              "  </tbody>\n",
              "</table>\n",
              "</div>\n",
              "      <button class=\"colab-df-convert\" onclick=\"convertToInteractive('df-5f61b9cf-b307-44dd-a794-4af14a6f1154')\"\n",
              "              title=\"Convert this dataframe to an interactive table.\"\n",
              "              style=\"display:none;\">\n",
              "        \n",
              "  <svg xmlns=\"http://www.w3.org/2000/svg\" height=\"24px\"viewBox=\"0 0 24 24\"\n",
              "       width=\"24px\">\n",
              "    <path d=\"M0 0h24v24H0V0z\" fill=\"none\"/>\n",
              "    <path d=\"M18.56 5.44l.94 2.06.94-2.06 2.06-.94-2.06-.94-.94-2.06-.94 2.06-2.06.94zm-11 1L8.5 8.5l.94-2.06 2.06-.94-2.06-.94L8.5 2.5l-.94 2.06-2.06.94zm10 10l.94 2.06.94-2.06 2.06-.94-2.06-.94-.94-2.06-.94 2.06-2.06.94z\"/><path d=\"M17.41 7.96l-1.37-1.37c-.4-.4-.92-.59-1.43-.59-.52 0-1.04.2-1.43.59L10.3 9.45l-7.72 7.72c-.78.78-.78 2.05 0 2.83L4 21.41c.39.39.9.59 1.41.59.51 0 1.02-.2 1.41-.59l7.78-7.78 2.81-2.81c.8-.78.8-2.07 0-2.86zM5.41 20L4 18.59l7.72-7.72 1.47 1.35L5.41 20z\"/>\n",
              "  </svg>\n",
              "      </button>\n",
              "      \n",
              "  <style>\n",
              "    .colab-df-container {\n",
              "      display:flex;\n",
              "      flex-wrap:wrap;\n",
              "      gap: 12px;\n",
              "    }\n",
              "\n",
              "    .colab-df-convert {\n",
              "      background-color: #E8F0FE;\n",
              "      border: none;\n",
              "      border-radius: 50%;\n",
              "      cursor: pointer;\n",
              "      display: none;\n",
              "      fill: #1967D2;\n",
              "      height: 32px;\n",
              "      padding: 0 0 0 0;\n",
              "      width: 32px;\n",
              "    }\n",
              "\n",
              "    .colab-df-convert:hover {\n",
              "      background-color: #E2EBFA;\n",
              "      box-shadow: 0px 1px 2px rgba(60, 64, 67, 0.3), 0px 1px 3px 1px rgba(60, 64, 67, 0.15);\n",
              "      fill: #174EA6;\n",
              "    }\n",
              "\n",
              "    [theme=dark] .colab-df-convert {\n",
              "      background-color: #3B4455;\n",
              "      fill: #D2E3FC;\n",
              "    }\n",
              "\n",
              "    [theme=dark] .colab-df-convert:hover {\n",
              "      background-color: #434B5C;\n",
              "      box-shadow: 0px 1px 3px 1px rgba(0, 0, 0, 0.15);\n",
              "      filter: drop-shadow(0px 1px 2px rgba(0, 0, 0, 0.3));\n",
              "      fill: #FFFFFF;\n",
              "    }\n",
              "  </style>\n",
              "\n",
              "      <script>\n",
              "        const buttonEl =\n",
              "          document.querySelector('#df-5f61b9cf-b307-44dd-a794-4af14a6f1154 button.colab-df-convert');\n",
              "        buttonEl.style.display =\n",
              "          google.colab.kernel.accessAllowed ? 'block' : 'none';\n",
              "\n",
              "        async function convertToInteractive(key) {\n",
              "          const element = document.querySelector('#df-5f61b9cf-b307-44dd-a794-4af14a6f1154');\n",
              "          const dataTable =\n",
              "            await google.colab.kernel.invokeFunction('convertToInteractive',\n",
              "                                                     [key], {});\n",
              "          if (!dataTable) return;\n",
              "\n",
              "          const docLinkHtml = 'Like what you see? Visit the ' +\n",
              "            '<a target=\"_blank\" href=https://colab.research.google.com/notebooks/data_table.ipynb>data table notebook</a>'\n",
              "            + ' to learn more about interactive tables.';\n",
              "          element.innerHTML = '';\n",
              "          dataTable['output_type'] = 'display_data';\n",
              "          await google.colab.output.renderOutput(dataTable, element);\n",
              "          const docLink = document.createElement('div');\n",
              "          docLink.innerHTML = docLinkHtml;\n",
              "          element.appendChild(docLink);\n",
              "        }\n",
              "      </script>\n",
              "    </div>\n",
              "  </div>\n",
              "  "
            ]
          },
          "metadata": {},
          "execution_count": 18
        }
      ]
    },
    {
      "cell_type": "code",
      "source": [
        "single_data_df = pd.concat([encounter_data_df, test_data_df])\n",
        "single_data_df.reset_index(drop=True, inplace=True)\n",
        "single_data_df.shape"
      ],
      "metadata": {
        "id": "x8VQRr08TrU7",
        "outputId": "1577c645-f91c-450c-9e48-77584511bdd3",
        "colab": {
          "base_uri": "https://localhost:8080/"
        }
      },
      "execution_count": null,
      "outputs": [
        {
          "output_type": "execute_result",
          "data": {
            "text/plain": [
              "(1008, 4)"
            ]
          },
          "metadata": {},
          "execution_count": 19
        }
      ]
    },
    {
      "cell_type": "code",
      "source": [
        "single_data_df.head()"
      ],
      "metadata": {
        "id": "BtoOjI1iZzOg",
        "outputId": "fc08a915-b2da-463c-9488-ace93d2b5b46",
        "colab": {
          "base_uri": "https://localhost:8080/",
          "height": 206
        }
      },
      "execution_count": null,
      "outputs": [
        {
          "output_type": "execute_result",
          "data": {
            "text/plain": [
              "        Encounter                 Specimen Service Date High Score\n",
              "0              30                      NaN   2021-09-24          5\n",
              "1  Diagnosis Code              Description    Code Type      Score\n",
              "2            D649      Anemia, unspecified        ICD10          5\n",
              "3            E611          Iron deficiency        ICD10          5\n",
              "4            I951  Orthostatic hypotension        ICD10          5"
            ],
            "text/html": [
              "\n",
              "  <div id=\"df-809c556c-af7a-4922-904e-1317c97db718\">\n",
              "    <div class=\"colab-df-container\">\n",
              "      <div>\n",
              "<style scoped>\n",
              "    .dataframe tbody tr th:only-of-type {\n",
              "        vertical-align: middle;\n",
              "    }\n",
              "\n",
              "    .dataframe tbody tr th {\n",
              "        vertical-align: top;\n",
              "    }\n",
              "\n",
              "    .dataframe thead th {\n",
              "        text-align: right;\n",
              "    }\n",
              "</style>\n",
              "<table border=\"1\" class=\"dataframe\">\n",
              "  <thead>\n",
              "    <tr style=\"text-align: right;\">\n",
              "      <th></th>\n",
              "      <th>Encounter</th>\n",
              "      <th>Specimen</th>\n",
              "      <th>Service Date</th>\n",
              "      <th>High Score</th>\n",
              "    </tr>\n",
              "  </thead>\n",
              "  <tbody>\n",
              "    <tr>\n",
              "      <th>0</th>\n",
              "      <td>30</td>\n",
              "      <td>NaN</td>\n",
              "      <td>2021-09-24</td>\n",
              "      <td>5</td>\n",
              "    </tr>\n",
              "    <tr>\n",
              "      <th>1</th>\n",
              "      <td>Diagnosis Code</td>\n",
              "      <td>Description</td>\n",
              "      <td>Code Type</td>\n",
              "      <td>Score</td>\n",
              "    </tr>\n",
              "    <tr>\n",
              "      <th>2</th>\n",
              "      <td>D649</td>\n",
              "      <td>Anemia, unspecified</td>\n",
              "      <td>ICD10</td>\n",
              "      <td>5</td>\n",
              "    </tr>\n",
              "    <tr>\n",
              "      <th>3</th>\n",
              "      <td>E611</td>\n",
              "      <td>Iron deficiency</td>\n",
              "      <td>ICD10</td>\n",
              "      <td>5</td>\n",
              "    </tr>\n",
              "    <tr>\n",
              "      <th>4</th>\n",
              "      <td>I951</td>\n",
              "      <td>Orthostatic hypotension</td>\n",
              "      <td>ICD10</td>\n",
              "      <td>5</td>\n",
              "    </tr>\n",
              "  </tbody>\n",
              "</table>\n",
              "</div>\n",
              "      <button class=\"colab-df-convert\" onclick=\"convertToInteractive('df-809c556c-af7a-4922-904e-1317c97db718')\"\n",
              "              title=\"Convert this dataframe to an interactive table.\"\n",
              "              style=\"display:none;\">\n",
              "        \n",
              "  <svg xmlns=\"http://www.w3.org/2000/svg\" height=\"24px\"viewBox=\"0 0 24 24\"\n",
              "       width=\"24px\">\n",
              "    <path d=\"M0 0h24v24H0V0z\" fill=\"none\"/>\n",
              "    <path d=\"M18.56 5.44l.94 2.06.94-2.06 2.06-.94-2.06-.94-.94-2.06-.94 2.06-2.06.94zm-11 1L8.5 8.5l.94-2.06 2.06-.94-2.06-.94L8.5 2.5l-.94 2.06-2.06.94zm10 10l.94 2.06.94-2.06 2.06-.94-2.06-.94-.94-2.06-.94 2.06-2.06.94z\"/><path d=\"M17.41 7.96l-1.37-1.37c-.4-.4-.92-.59-1.43-.59-.52 0-1.04.2-1.43.59L10.3 9.45l-7.72 7.72c-.78.78-.78 2.05 0 2.83L4 21.41c.39.39.9.59 1.41.59.51 0 1.02-.2 1.41-.59l7.78-7.78 2.81-2.81c.8-.78.8-2.07 0-2.86zM5.41 20L4 18.59l7.72-7.72 1.47 1.35L5.41 20z\"/>\n",
              "  </svg>\n",
              "      </button>\n",
              "      \n",
              "  <style>\n",
              "    .colab-df-container {\n",
              "      display:flex;\n",
              "      flex-wrap:wrap;\n",
              "      gap: 12px;\n",
              "    }\n",
              "\n",
              "    .colab-df-convert {\n",
              "      background-color: #E8F0FE;\n",
              "      border: none;\n",
              "      border-radius: 50%;\n",
              "      cursor: pointer;\n",
              "      display: none;\n",
              "      fill: #1967D2;\n",
              "      height: 32px;\n",
              "      padding: 0 0 0 0;\n",
              "      width: 32px;\n",
              "    }\n",
              "\n",
              "    .colab-df-convert:hover {\n",
              "      background-color: #E2EBFA;\n",
              "      box-shadow: 0px 1px 2px rgba(60, 64, 67, 0.3), 0px 1px 3px 1px rgba(60, 64, 67, 0.15);\n",
              "      fill: #174EA6;\n",
              "    }\n",
              "\n",
              "    [theme=dark] .colab-df-convert {\n",
              "      background-color: #3B4455;\n",
              "      fill: #D2E3FC;\n",
              "    }\n",
              "\n",
              "    [theme=dark] .colab-df-convert:hover {\n",
              "      background-color: #434B5C;\n",
              "      box-shadow: 0px 1px 3px 1px rgba(0, 0, 0, 0.15);\n",
              "      filter: drop-shadow(0px 1px 2px rgba(0, 0, 0, 0.3));\n",
              "      fill: #FFFFFF;\n",
              "    }\n",
              "  </style>\n",
              "\n",
              "      <script>\n",
              "        const buttonEl =\n",
              "          document.querySelector('#df-809c556c-af7a-4922-904e-1317c97db718 button.colab-df-convert');\n",
              "        buttonEl.style.display =\n",
              "          google.colab.kernel.accessAllowed ? 'block' : 'none';\n",
              "\n",
              "        async function convertToInteractive(key) {\n",
              "          const element = document.querySelector('#df-809c556c-af7a-4922-904e-1317c97db718');\n",
              "          const dataTable =\n",
              "            await google.colab.kernel.invokeFunction('convertToInteractive',\n",
              "                                                     [key], {});\n",
              "          if (!dataTable) return;\n",
              "\n",
              "          const docLinkHtml = 'Like what you see? Visit the ' +\n",
              "            '<a target=\"_blank\" href=https://colab.research.google.com/notebooks/data_table.ipynb>data table notebook</a>'\n",
              "            + ' to learn more about interactive tables.';\n",
              "          element.innerHTML = '';\n",
              "          dataTable['output_type'] = 'display_data';\n",
              "          await google.colab.output.renderOutput(dataTable, element);\n",
              "          const docLink = document.createElement('div');\n",
              "          docLink.innerHTML = docLinkHtml;\n",
              "          element.appendChild(docLink);\n",
              "        }\n",
              "      </script>\n",
              "    </div>\n",
              "  </div>\n",
              "  "
            ]
          },
          "metadata": {},
          "execution_count": 64
        }
      ]
    },
    {
      "cell_type": "code",
      "source": [
        "# save to json/csv file\n",
        "single_data_df.to_json('refined_data.json', orient=\"columns\")\n",
        "single_data_df.to_csv('refined_data.csv')"
      ],
      "metadata": {
        "id": "iq_9RUIeTr1V"
      },
      "execution_count": null,
      "outputs": []
    },
    {
      "cell_type": "markdown",
      "source": [
        "##Clean Data"
      ],
      "metadata": {
        "id": "SgsxzFtx4oLR"
      }
    },
    {
      "cell_type": "code",
      "source": [
        "# Drop all rows with column 'Test Name' and Reference Range has value 'Test Name', 'Diagnosis Code' and 'ICD10'\n",
        "index_encounter_value = encounter_data_df[(encounter_data_df['Encounter'] == 'Diagnosis Code') | (encounter_data_df['Service Date'] == 'ICD10') | \n",
        "                                          (encounter_data_df['Service Date'] == 'ICD9')].index\n",
        "index_test_value = test_data_df[(test_data_df['Test Name'] == 'Diagnosis Code') | \n",
        "                                (test_data_df['Reference Range'] == 'ICD10')].index\n",
        "encounter_data_df = encounter_data_df.drop(index_encounter_value)\n",
        "test_data_df = test_data_df.drop(index_test_value)\n",
        "(test_data_df.shape, encounter_data_df.shape)"
      ],
      "metadata": {
        "id": "YO7TGymhw-F7",
        "outputId": "29f54550-410b-4538-862f-e053d8dc8bf3",
        "colab": {
          "base_uri": "https://localhost:8080/"
        }
      },
      "execution_count": null,
      "outputs": [
        {
          "output_type": "execute_result",
          "data": {
            "text/plain": [
              "((740, 4), (139, 4))"
            ]
          },
          "metadata": {},
          "execution_count": 334
        }
      ]
    },
    {
      "cell_type": "code",
      "source": [
        "encounter_data_df.head(20)"
      ],
      "metadata": {
        "id": "Ot4nKOewyPgz",
        "outputId": "f3c8e26b-3cbe-4b27-d1a6-a78e07d05dac",
        "colab": {
          "base_uri": "https://localhost:8080/",
          "height": 676
        }
      },
      "execution_count": null,
      "outputs": [
        {
          "output_type": "execute_result",
          "data": {
            "text/plain": [
              "                               Encounter  Specimen          Service Date  \\\n",
              "0                                     30       NaN            2021-09-24   \n",
              "9                              Test Name   Results       Reference Range   \n",
              "10                               GLUCOSE     100 H           65-99 mg/dL   \n",
              "11                WHITE BLOOD CELL COUNT     3.2 L  3.8-10.8 Thousand/uL   \n",
              "12                                   RDW    15.6 H           11.0-15.0 %   \n",
              "13                  ABSOLUTE NEUTROPHILS    1459 L    1500-7800 cells/uL   \n",
              "14                                  26.0       NaN            2021-08-17   \n",
              "138                                 10.0       NaN            2019-02-19   \n",
              "179                                    2       NaN            2016-10-06   \n",
              "181                     Doctor Specialty     Score                   NaN   \n",
              "182  Psychiatry & Neurology - Psychiatry         5                   NaN   \n",
              "187                            Test Name   Results       Reference Range   \n",
              "188                           Hemoglobin    10.7 L        11.1-15.9 g/dL   \n",
              "189                           Hematocrit    33.8 L           34.0-46.6 %   \n",
              "190                                  MCH    25.2 L          26.6-33.0 pg   \n",
              "191                            Encounter  Specimen          Service Date   \n",
              "192                                    1       NaN            2015-05-12   \n",
              "194                     Doctor Specialty     Score                   NaN   \n",
              "195                            Neurology         5                   NaN   \n",
              "196                      Neuropsychiatry         5                   NaN   \n",
              "\n",
              "     High Score  \n",
              "0             5  \n",
              "9         Score  \n",
              "10            5  \n",
              "11            5  \n",
              "12            5  \n",
              "13            5  \n",
              "14          5.0  \n",
              "138        10.0  \n",
              "179          10  \n",
              "181         NaN  \n",
              "182         NaN  \n",
              "187       Score  \n",
              "188           5  \n",
              "189           5  \n",
              "190           5  \n",
              "191  High Score  \n",
              "192          10  \n",
              "194         NaN  \n",
              "195         NaN  \n",
              "196         NaN  "
            ],
            "text/html": [
              "\n",
              "  <div id=\"df-43efe6e8-4c8a-4163-8d20-0e6683df20fe\">\n",
              "    <div class=\"colab-df-container\">\n",
              "      <div>\n",
              "<style scoped>\n",
              "    .dataframe tbody tr th:only-of-type {\n",
              "        vertical-align: middle;\n",
              "    }\n",
              "\n",
              "    .dataframe tbody tr th {\n",
              "        vertical-align: top;\n",
              "    }\n",
              "\n",
              "    .dataframe thead th {\n",
              "        text-align: right;\n",
              "    }\n",
              "</style>\n",
              "<table border=\"1\" class=\"dataframe\">\n",
              "  <thead>\n",
              "    <tr style=\"text-align: right;\">\n",
              "      <th></th>\n",
              "      <th>Encounter</th>\n",
              "      <th>Specimen</th>\n",
              "      <th>Service Date</th>\n",
              "      <th>High Score</th>\n",
              "    </tr>\n",
              "  </thead>\n",
              "  <tbody>\n",
              "    <tr>\n",
              "      <th>0</th>\n",
              "      <td>30</td>\n",
              "      <td>NaN</td>\n",
              "      <td>2021-09-24</td>\n",
              "      <td>5</td>\n",
              "    </tr>\n",
              "    <tr>\n",
              "      <th>9</th>\n",
              "      <td>Test Name</td>\n",
              "      <td>Results</td>\n",
              "      <td>Reference Range</td>\n",
              "      <td>Score</td>\n",
              "    </tr>\n",
              "    <tr>\n",
              "      <th>10</th>\n",
              "      <td>GLUCOSE</td>\n",
              "      <td>100 H</td>\n",
              "      <td>65-99 mg/dL</td>\n",
              "      <td>5</td>\n",
              "    </tr>\n",
              "    <tr>\n",
              "      <th>11</th>\n",
              "      <td>WHITE BLOOD CELL COUNT</td>\n",
              "      <td>3.2 L</td>\n",
              "      <td>3.8-10.8 Thousand/uL</td>\n",
              "      <td>5</td>\n",
              "    </tr>\n",
              "    <tr>\n",
              "      <th>12</th>\n",
              "      <td>RDW</td>\n",
              "      <td>15.6 H</td>\n",
              "      <td>11.0-15.0 %</td>\n",
              "      <td>5</td>\n",
              "    </tr>\n",
              "    <tr>\n",
              "      <th>13</th>\n",
              "      <td>ABSOLUTE NEUTROPHILS</td>\n",
              "      <td>1459 L</td>\n",
              "      <td>1500-7800 cells/uL</td>\n",
              "      <td>5</td>\n",
              "    </tr>\n",
              "    <tr>\n",
              "      <th>14</th>\n",
              "      <td>26.0</td>\n",
              "      <td>NaN</td>\n",
              "      <td>2021-08-17</td>\n",
              "      <td>5.0</td>\n",
              "    </tr>\n",
              "    <tr>\n",
              "      <th>138</th>\n",
              "      <td>10.0</td>\n",
              "      <td>NaN</td>\n",
              "      <td>2019-02-19</td>\n",
              "      <td>10.0</td>\n",
              "    </tr>\n",
              "    <tr>\n",
              "      <th>179</th>\n",
              "      <td>2</td>\n",
              "      <td>NaN</td>\n",
              "      <td>2016-10-06</td>\n",
              "      <td>10</td>\n",
              "    </tr>\n",
              "    <tr>\n",
              "      <th>181</th>\n",
              "      <td>Doctor Specialty</td>\n",
              "      <td>Score</td>\n",
              "      <td>NaN</td>\n",
              "      <td>NaN</td>\n",
              "    </tr>\n",
              "    <tr>\n",
              "      <th>182</th>\n",
              "      <td>Psychiatry &amp; Neurology - Psychiatry</td>\n",
              "      <td>5</td>\n",
              "      <td>NaN</td>\n",
              "      <td>NaN</td>\n",
              "    </tr>\n",
              "    <tr>\n",
              "      <th>187</th>\n",
              "      <td>Test Name</td>\n",
              "      <td>Results</td>\n",
              "      <td>Reference Range</td>\n",
              "      <td>Score</td>\n",
              "    </tr>\n",
              "    <tr>\n",
              "      <th>188</th>\n",
              "      <td>Hemoglobin</td>\n",
              "      <td>10.7 L</td>\n",
              "      <td>11.1-15.9 g/dL</td>\n",
              "      <td>5</td>\n",
              "    </tr>\n",
              "    <tr>\n",
              "      <th>189</th>\n",
              "      <td>Hematocrit</td>\n",
              "      <td>33.8 L</td>\n",
              "      <td>34.0-46.6 %</td>\n",
              "      <td>5</td>\n",
              "    </tr>\n",
              "    <tr>\n",
              "      <th>190</th>\n",
              "      <td>MCH</td>\n",
              "      <td>25.2 L</td>\n",
              "      <td>26.6-33.0 pg</td>\n",
              "      <td>5</td>\n",
              "    </tr>\n",
              "    <tr>\n",
              "      <th>191</th>\n",
              "      <td>Encounter</td>\n",
              "      <td>Specimen</td>\n",
              "      <td>Service Date</td>\n",
              "      <td>High Score</td>\n",
              "    </tr>\n",
              "    <tr>\n",
              "      <th>192</th>\n",
              "      <td>1</td>\n",
              "      <td>NaN</td>\n",
              "      <td>2015-05-12</td>\n",
              "      <td>10</td>\n",
              "    </tr>\n",
              "    <tr>\n",
              "      <th>194</th>\n",
              "      <td>Doctor Specialty</td>\n",
              "      <td>Score</td>\n",
              "      <td>NaN</td>\n",
              "      <td>NaN</td>\n",
              "    </tr>\n",
              "    <tr>\n",
              "      <th>195</th>\n",
              "      <td>Neurology</td>\n",
              "      <td>5</td>\n",
              "      <td>NaN</td>\n",
              "      <td>NaN</td>\n",
              "    </tr>\n",
              "    <tr>\n",
              "      <th>196</th>\n",
              "      <td>Neuropsychiatry</td>\n",
              "      <td>5</td>\n",
              "      <td>NaN</td>\n",
              "      <td>NaN</td>\n",
              "    </tr>\n",
              "  </tbody>\n",
              "</table>\n",
              "</div>\n",
              "      <button class=\"colab-df-convert\" onclick=\"convertToInteractive('df-43efe6e8-4c8a-4163-8d20-0e6683df20fe')\"\n",
              "              title=\"Convert this dataframe to an interactive table.\"\n",
              "              style=\"display:none;\">\n",
              "        \n",
              "  <svg xmlns=\"http://www.w3.org/2000/svg\" height=\"24px\"viewBox=\"0 0 24 24\"\n",
              "       width=\"24px\">\n",
              "    <path d=\"M0 0h24v24H0V0z\" fill=\"none\"/>\n",
              "    <path d=\"M18.56 5.44l.94 2.06.94-2.06 2.06-.94-2.06-.94-.94-2.06-.94 2.06-2.06.94zm-11 1L8.5 8.5l.94-2.06 2.06-.94-2.06-.94L8.5 2.5l-.94 2.06-2.06.94zm10 10l.94 2.06.94-2.06 2.06-.94-2.06-.94-.94-2.06-.94 2.06-2.06.94z\"/><path d=\"M17.41 7.96l-1.37-1.37c-.4-.4-.92-.59-1.43-.59-.52 0-1.04.2-1.43.59L10.3 9.45l-7.72 7.72c-.78.78-.78 2.05 0 2.83L4 21.41c.39.39.9.59 1.41.59.51 0 1.02-.2 1.41-.59l7.78-7.78 2.81-2.81c.8-.78.8-2.07 0-2.86zM5.41 20L4 18.59l7.72-7.72 1.47 1.35L5.41 20z\"/>\n",
              "  </svg>\n",
              "      </button>\n",
              "      \n",
              "  <style>\n",
              "    .colab-df-container {\n",
              "      display:flex;\n",
              "      flex-wrap:wrap;\n",
              "      gap: 12px;\n",
              "    }\n",
              "\n",
              "    .colab-df-convert {\n",
              "      background-color: #E8F0FE;\n",
              "      border: none;\n",
              "      border-radius: 50%;\n",
              "      cursor: pointer;\n",
              "      display: none;\n",
              "      fill: #1967D2;\n",
              "      height: 32px;\n",
              "      padding: 0 0 0 0;\n",
              "      width: 32px;\n",
              "    }\n",
              "\n",
              "    .colab-df-convert:hover {\n",
              "      background-color: #E2EBFA;\n",
              "      box-shadow: 0px 1px 2px rgba(60, 64, 67, 0.3), 0px 1px 3px 1px rgba(60, 64, 67, 0.15);\n",
              "      fill: #174EA6;\n",
              "    }\n",
              "\n",
              "    [theme=dark] .colab-df-convert {\n",
              "      background-color: #3B4455;\n",
              "      fill: #D2E3FC;\n",
              "    }\n",
              "\n",
              "    [theme=dark] .colab-df-convert:hover {\n",
              "      background-color: #434B5C;\n",
              "      box-shadow: 0px 1px 3px 1px rgba(0, 0, 0, 0.15);\n",
              "      filter: drop-shadow(0px 1px 2px rgba(0, 0, 0, 0.3));\n",
              "      fill: #FFFFFF;\n",
              "    }\n",
              "  </style>\n",
              "\n",
              "      <script>\n",
              "        const buttonEl =\n",
              "          document.querySelector('#df-43efe6e8-4c8a-4163-8d20-0e6683df20fe button.colab-df-convert');\n",
              "        buttonEl.style.display =\n",
              "          google.colab.kernel.accessAllowed ? 'block' : 'none';\n",
              "\n",
              "        async function convertToInteractive(key) {\n",
              "          const element = document.querySelector('#df-43efe6e8-4c8a-4163-8d20-0e6683df20fe');\n",
              "          const dataTable =\n",
              "            await google.colab.kernel.invokeFunction('convertToInteractive',\n",
              "                                                     [key], {});\n",
              "          if (!dataTable) return;\n",
              "\n",
              "          const docLinkHtml = 'Like what you see? Visit the ' +\n",
              "            '<a target=\"_blank\" href=https://colab.research.google.com/notebooks/data_table.ipynb>data table notebook</a>'\n",
              "            + ' to learn more about interactive tables.';\n",
              "          element.innerHTML = '';\n",
              "          dataTable['output_type'] = 'display_data';\n",
              "          await google.colab.output.renderOutput(dataTable, element);\n",
              "          const docLink = document.createElement('div');\n",
              "          docLink.innerHTML = docLinkHtml;\n",
              "          element.appendChild(docLink);\n",
              "        }\n",
              "      </script>\n",
              "    </div>\n",
              "  </div>\n",
              "  "
            ]
          },
          "metadata": {},
          "execution_count": 335
        }
      ]
    },
    {
      "cell_type": "code",
      "source": [
        "# save to json file\n",
        "encounter_data_df.to_json('test1.json', orient=\"columns\")"
      ],
      "metadata": {
        "id": "bEj2imEn3ZhR"
      },
      "execution_count": null,
      "outputs": []
    },
    {
      "cell_type": "code",
      "source": [
        "!cat test1.json"
      ],
      "metadata": {
        "id": "45P9OWVL-sGR"
      },
      "execution_count": null,
      "outputs": []
    },
    {
      "cell_type": "code",
      "source": [
        "test_data_df.head(20)"
      ],
      "metadata": {
        "id": "JfD73T_x_Yus",
        "outputId": "2ee1b8f9-0af8-433b-9096-73dbab6cc675",
        "colab": {
          "base_uri": "https://localhost:8080/",
          "height": 676
        }
      },
      "execution_count": null,
      "outputs": [
        {
          "output_type": "execute_result",
          "data": {
            "text/plain": [
              "               Test Name   Results       Reference Range       Score\n",
              "16            HEMOGLOBIN    11.3 L        11.7-15.5 g/dL           5\n",
              "17                   RDW    16.5 H           11.0-15.0 %           5\n",
              "18             Encounter  Specimen          Service Date  High Score\n",
              "19                    25       NaN            2021-06-23           5\n",
              "25             Test Name   Results       Reference Range       Score\n",
              "26           IRON, TOTAL      31 L         40-190 mcg/dL           5\n",
              "27          % SATURATION       8 L        16-45 % (calc)           5\n",
              "28              FERRITIN       3 L          16-154 ng/mL           5\n",
              "29  RED BLOOD CELL COUNT    3.75 L  3.80-5.10 Million/uL           5\n",
              "30            HEMOGLOBIN    10.3 L        11.7-15.5 g/dL           5\n",
              "31            HEMATOCRIT    32.6 L           35.0-45.0 %           5\n",
              "32                  MCHC    31.6 L        32.0-36.0 g/dL           5\n",
              "33             Encounter  Specimen          Service Date  High Score\n",
              "34                    24       NaN            2021-06-03           5\n",
              "39             Test Name   Results       Reference Range       Score\n",
              "40  RED BLOOD CELL COUNT    3.63 L  3.80-5.10 Million/uL           5\n",
              "41            HEMOGLOBIN    10.1 L        11.7-15.5 g/dL           5\n",
              "42            HEMATOCRIT    31.3 L           35.0-45.0 %           5\n",
              "43  ABSOLUTE NEUTROPHILS    1428 L    1500-7800 cells/uL           5\n",
              "44             Encounter  Specimen          Service Date  High Score"
            ],
            "text/html": [
              "\n",
              "  <div id=\"df-e34529db-c1d4-4571-a2e7-8655ad515a27\">\n",
              "    <div class=\"colab-df-container\">\n",
              "      <div>\n",
              "<style scoped>\n",
              "    .dataframe tbody tr th:only-of-type {\n",
              "        vertical-align: middle;\n",
              "    }\n",
              "\n",
              "    .dataframe tbody tr th {\n",
              "        vertical-align: top;\n",
              "    }\n",
              "\n",
              "    .dataframe thead th {\n",
              "        text-align: right;\n",
              "    }\n",
              "</style>\n",
              "<table border=\"1\" class=\"dataframe\">\n",
              "  <thead>\n",
              "    <tr style=\"text-align: right;\">\n",
              "      <th></th>\n",
              "      <th>Test Name</th>\n",
              "      <th>Results</th>\n",
              "      <th>Reference Range</th>\n",
              "      <th>Score</th>\n",
              "    </tr>\n",
              "  </thead>\n",
              "  <tbody>\n",
              "    <tr>\n",
              "      <th>16</th>\n",
              "      <td>HEMOGLOBIN</td>\n",
              "      <td>11.3 L</td>\n",
              "      <td>11.7-15.5 g/dL</td>\n",
              "      <td>5</td>\n",
              "    </tr>\n",
              "    <tr>\n",
              "      <th>17</th>\n",
              "      <td>RDW</td>\n",
              "      <td>16.5 H</td>\n",
              "      <td>11.0-15.0 %</td>\n",
              "      <td>5</td>\n",
              "    </tr>\n",
              "    <tr>\n",
              "      <th>18</th>\n",
              "      <td>Encounter</td>\n",
              "      <td>Specimen</td>\n",
              "      <td>Service Date</td>\n",
              "      <td>High Score</td>\n",
              "    </tr>\n",
              "    <tr>\n",
              "      <th>19</th>\n",
              "      <td>25</td>\n",
              "      <td>NaN</td>\n",
              "      <td>2021-06-23</td>\n",
              "      <td>5</td>\n",
              "    </tr>\n",
              "    <tr>\n",
              "      <th>25</th>\n",
              "      <td>Test Name</td>\n",
              "      <td>Results</td>\n",
              "      <td>Reference Range</td>\n",
              "      <td>Score</td>\n",
              "    </tr>\n",
              "    <tr>\n",
              "      <th>26</th>\n",
              "      <td>IRON, TOTAL</td>\n",
              "      <td>31 L</td>\n",
              "      <td>40-190 mcg/dL</td>\n",
              "      <td>5</td>\n",
              "    </tr>\n",
              "    <tr>\n",
              "      <th>27</th>\n",
              "      <td>% SATURATION</td>\n",
              "      <td>8 L</td>\n",
              "      <td>16-45 % (calc)</td>\n",
              "      <td>5</td>\n",
              "    </tr>\n",
              "    <tr>\n",
              "      <th>28</th>\n",
              "      <td>FERRITIN</td>\n",
              "      <td>3 L</td>\n",
              "      <td>16-154 ng/mL</td>\n",
              "      <td>5</td>\n",
              "    </tr>\n",
              "    <tr>\n",
              "      <th>29</th>\n",
              "      <td>RED BLOOD CELL COUNT</td>\n",
              "      <td>3.75 L</td>\n",
              "      <td>3.80-5.10 Million/uL</td>\n",
              "      <td>5</td>\n",
              "    </tr>\n",
              "    <tr>\n",
              "      <th>30</th>\n",
              "      <td>HEMOGLOBIN</td>\n",
              "      <td>10.3 L</td>\n",
              "      <td>11.7-15.5 g/dL</td>\n",
              "      <td>5</td>\n",
              "    </tr>\n",
              "    <tr>\n",
              "      <th>31</th>\n",
              "      <td>HEMATOCRIT</td>\n",
              "      <td>32.6 L</td>\n",
              "      <td>35.0-45.0 %</td>\n",
              "      <td>5</td>\n",
              "    </tr>\n",
              "    <tr>\n",
              "      <th>32</th>\n",
              "      <td>MCHC</td>\n",
              "      <td>31.6 L</td>\n",
              "      <td>32.0-36.0 g/dL</td>\n",
              "      <td>5</td>\n",
              "    </tr>\n",
              "    <tr>\n",
              "      <th>33</th>\n",
              "      <td>Encounter</td>\n",
              "      <td>Specimen</td>\n",
              "      <td>Service Date</td>\n",
              "      <td>High Score</td>\n",
              "    </tr>\n",
              "    <tr>\n",
              "      <th>34</th>\n",
              "      <td>24</td>\n",
              "      <td>NaN</td>\n",
              "      <td>2021-06-03</td>\n",
              "      <td>5</td>\n",
              "    </tr>\n",
              "    <tr>\n",
              "      <th>39</th>\n",
              "      <td>Test Name</td>\n",
              "      <td>Results</td>\n",
              "      <td>Reference Range</td>\n",
              "      <td>Score</td>\n",
              "    </tr>\n",
              "    <tr>\n",
              "      <th>40</th>\n",
              "      <td>RED BLOOD CELL COUNT</td>\n",
              "      <td>3.63 L</td>\n",
              "      <td>3.80-5.10 Million/uL</td>\n",
              "      <td>5</td>\n",
              "    </tr>\n",
              "    <tr>\n",
              "      <th>41</th>\n",
              "      <td>HEMOGLOBIN</td>\n",
              "      <td>10.1 L</td>\n",
              "      <td>11.7-15.5 g/dL</td>\n",
              "      <td>5</td>\n",
              "    </tr>\n",
              "    <tr>\n",
              "      <th>42</th>\n",
              "      <td>HEMATOCRIT</td>\n",
              "      <td>31.3 L</td>\n",
              "      <td>35.0-45.0 %</td>\n",
              "      <td>5</td>\n",
              "    </tr>\n",
              "    <tr>\n",
              "      <th>43</th>\n",
              "      <td>ABSOLUTE NEUTROPHILS</td>\n",
              "      <td>1428 L</td>\n",
              "      <td>1500-7800 cells/uL</td>\n",
              "      <td>5</td>\n",
              "    </tr>\n",
              "    <tr>\n",
              "      <th>44</th>\n",
              "      <td>Encounter</td>\n",
              "      <td>Specimen</td>\n",
              "      <td>Service Date</td>\n",
              "      <td>High Score</td>\n",
              "    </tr>\n",
              "  </tbody>\n",
              "</table>\n",
              "</div>\n",
              "      <button class=\"colab-df-convert\" onclick=\"convertToInteractive('df-e34529db-c1d4-4571-a2e7-8655ad515a27')\"\n",
              "              title=\"Convert this dataframe to an interactive table.\"\n",
              "              style=\"display:none;\">\n",
              "        \n",
              "  <svg xmlns=\"http://www.w3.org/2000/svg\" height=\"24px\"viewBox=\"0 0 24 24\"\n",
              "       width=\"24px\">\n",
              "    <path d=\"M0 0h24v24H0V0z\" fill=\"none\"/>\n",
              "    <path d=\"M18.56 5.44l.94 2.06.94-2.06 2.06-.94-2.06-.94-.94-2.06-.94 2.06-2.06.94zm-11 1L8.5 8.5l.94-2.06 2.06-.94-2.06-.94L8.5 2.5l-.94 2.06-2.06.94zm10 10l.94 2.06.94-2.06 2.06-.94-2.06-.94-.94-2.06-.94 2.06-2.06.94z\"/><path d=\"M17.41 7.96l-1.37-1.37c-.4-.4-.92-.59-1.43-.59-.52 0-1.04.2-1.43.59L10.3 9.45l-7.72 7.72c-.78.78-.78 2.05 0 2.83L4 21.41c.39.39.9.59 1.41.59.51 0 1.02-.2 1.41-.59l7.78-7.78 2.81-2.81c.8-.78.8-2.07 0-2.86zM5.41 20L4 18.59l7.72-7.72 1.47 1.35L5.41 20z\"/>\n",
              "  </svg>\n",
              "      </button>\n",
              "      \n",
              "  <style>\n",
              "    .colab-df-container {\n",
              "      display:flex;\n",
              "      flex-wrap:wrap;\n",
              "      gap: 12px;\n",
              "    }\n",
              "\n",
              "    .colab-df-convert {\n",
              "      background-color: #E8F0FE;\n",
              "      border: none;\n",
              "      border-radius: 50%;\n",
              "      cursor: pointer;\n",
              "      display: none;\n",
              "      fill: #1967D2;\n",
              "      height: 32px;\n",
              "      padding: 0 0 0 0;\n",
              "      width: 32px;\n",
              "    }\n",
              "\n",
              "    .colab-df-convert:hover {\n",
              "      background-color: #E2EBFA;\n",
              "      box-shadow: 0px 1px 2px rgba(60, 64, 67, 0.3), 0px 1px 3px 1px rgba(60, 64, 67, 0.15);\n",
              "      fill: #174EA6;\n",
              "    }\n",
              "\n",
              "    [theme=dark] .colab-df-convert {\n",
              "      background-color: #3B4455;\n",
              "      fill: #D2E3FC;\n",
              "    }\n",
              "\n",
              "    [theme=dark] .colab-df-convert:hover {\n",
              "      background-color: #434B5C;\n",
              "      box-shadow: 0px 1px 3px 1px rgba(0, 0, 0, 0.15);\n",
              "      filter: drop-shadow(0px 1px 2px rgba(0, 0, 0, 0.3));\n",
              "      fill: #FFFFFF;\n",
              "    }\n",
              "  </style>\n",
              "\n",
              "      <script>\n",
              "        const buttonEl =\n",
              "          document.querySelector('#df-e34529db-c1d4-4571-a2e7-8655ad515a27 button.colab-df-convert');\n",
              "        buttonEl.style.display =\n",
              "          google.colab.kernel.accessAllowed ? 'block' : 'none';\n",
              "\n",
              "        async function convertToInteractive(key) {\n",
              "          const element = document.querySelector('#df-e34529db-c1d4-4571-a2e7-8655ad515a27');\n",
              "          const dataTable =\n",
              "            await google.colab.kernel.invokeFunction('convertToInteractive',\n",
              "                                                     [key], {});\n",
              "          if (!dataTable) return;\n",
              "\n",
              "          const docLinkHtml = 'Like what you see? Visit the ' +\n",
              "            '<a target=\"_blank\" href=https://colab.research.google.com/notebooks/data_table.ipynb>data table notebook</a>'\n",
              "            + ' to learn more about interactive tables.';\n",
              "          element.innerHTML = '';\n",
              "          dataTable['output_type'] = 'display_data';\n",
              "          await google.colab.output.renderOutput(dataTable, element);\n",
              "          const docLink = document.createElement('div');\n",
              "          docLink.innerHTML = docLinkHtml;\n",
              "          element.appendChild(docLink);\n",
              "        }\n",
              "      </script>\n",
              "    </div>\n",
              "  </div>\n",
              "  "
            ]
          },
          "metadata": {},
          "execution_count": 342
        }
      ]
    },
    {
      "cell_type": "code",
      "source": [
        "# save to json file\n",
        "test_data_df.to_json('test2.json', orient=\"columns\")"
      ],
      "metadata": {
        "id": "CMRWY8ar_HJX"
      },
      "execution_count": null,
      "outputs": []
    },
    {
      "cell_type": "code",
      "source": [
        "!cat test2.json"
      ],
      "metadata": {
        "id": "1PAzt41O_Nkt"
      },
      "execution_count": null,
      "outputs": []
    },
    {
      "cell_type": "code",
      "source": [
        "data_df[\"Results\"].astype(str) == \"nan\""
      ],
      "metadata": {
        "id": "quUJccXCHNzh",
        "outputId": "eae17740-840e-4211-e113-de10d647dc22",
        "colab": {
          "base_uri": "https://localhost:8080/"
        }
      },
      "execution_count": null,
      "outputs": [
        {
          "output_type": "execute_result",
          "data": {
            "text/plain": [
              "0     False\n",
              "1     False\n",
              "2     False\n",
              "3      True\n",
              "10    False\n",
              "11    False\n",
              "12    False\n",
              "13    False\n",
              "14    False\n",
              "15    False\n",
              "16    False\n",
              "17    False\n",
              "18     True\n",
              "24    False\n",
              "25    False\n",
              "26    False\n",
              "27    False\n",
              "28    False\n",
              "29     True\n",
              "Name: Results, dtype: bool"
            ]
          },
          "metadata": {},
          "execution_count": 70
        }
      ]
    },
    {
      "cell_type": "code",
      "source": [
        "# splitting dataframe by groups\n",
        "grouped = data_df.groupby(data_df[\"Results\"].astype(str))\n",
        "service_date_df = grouped.get_group(\"nan\")\n",
        "service_date_df"
      ],
      "metadata": {
        "id": "UHtWuuZHEu0q",
        "outputId": "b09debd1-d2a3-44d7-ea68-bea638632dd0",
        "colab": {
          "base_uri": "https://localhost:8080/",
          "height": 143
        }
      },
      "execution_count": null,
      "outputs": [
        {
          "output_type": "execute_result",
          "data": {
            "text/plain": [
              "   Test Name Results Reference Range Score\n",
              "3         25     NaN      2021-06-23     5\n",
              "18        24     NaN      2021-06-03     5\n",
              "29        23     NaN      2021-04-29     5"
            ],
            "text/html": [
              "\n",
              "  <div id=\"df-b51645bc-2a5f-4b4a-b4d8-ad9ba551fc3d\">\n",
              "    <div class=\"colab-df-container\">\n",
              "      <div>\n",
              "<style scoped>\n",
              "    .dataframe tbody tr th:only-of-type {\n",
              "        vertical-align: middle;\n",
              "    }\n",
              "\n",
              "    .dataframe tbody tr th {\n",
              "        vertical-align: top;\n",
              "    }\n",
              "\n",
              "    .dataframe thead th {\n",
              "        text-align: right;\n",
              "    }\n",
              "</style>\n",
              "<table border=\"1\" class=\"dataframe\">\n",
              "  <thead>\n",
              "    <tr style=\"text-align: right;\">\n",
              "      <th></th>\n",
              "      <th>Test Name</th>\n",
              "      <th>Results</th>\n",
              "      <th>Reference Range</th>\n",
              "      <th>Score</th>\n",
              "    </tr>\n",
              "  </thead>\n",
              "  <tbody>\n",
              "    <tr>\n",
              "      <th>3</th>\n",
              "      <td>25</td>\n",
              "      <td>NaN</td>\n",
              "      <td>2021-06-23</td>\n",
              "      <td>5</td>\n",
              "    </tr>\n",
              "    <tr>\n",
              "      <th>18</th>\n",
              "      <td>24</td>\n",
              "      <td>NaN</td>\n",
              "      <td>2021-06-03</td>\n",
              "      <td>5</td>\n",
              "    </tr>\n",
              "    <tr>\n",
              "      <th>29</th>\n",
              "      <td>23</td>\n",
              "      <td>NaN</td>\n",
              "      <td>2021-04-29</td>\n",
              "      <td>5</td>\n",
              "    </tr>\n",
              "  </tbody>\n",
              "</table>\n",
              "</div>\n",
              "      <button class=\"colab-df-convert\" onclick=\"convertToInteractive('df-b51645bc-2a5f-4b4a-b4d8-ad9ba551fc3d')\"\n",
              "              title=\"Convert this dataframe to an interactive table.\"\n",
              "              style=\"display:none;\">\n",
              "        \n",
              "  <svg xmlns=\"http://www.w3.org/2000/svg\" height=\"24px\"viewBox=\"0 0 24 24\"\n",
              "       width=\"24px\">\n",
              "    <path d=\"M0 0h24v24H0V0z\" fill=\"none\"/>\n",
              "    <path d=\"M18.56 5.44l.94 2.06.94-2.06 2.06-.94-2.06-.94-.94-2.06-.94 2.06-2.06.94zm-11 1L8.5 8.5l.94-2.06 2.06-.94-2.06-.94L8.5 2.5l-.94 2.06-2.06.94zm10 10l.94 2.06.94-2.06 2.06-.94-2.06-.94-.94-2.06-.94 2.06-2.06.94z\"/><path d=\"M17.41 7.96l-1.37-1.37c-.4-.4-.92-.59-1.43-.59-.52 0-1.04.2-1.43.59L10.3 9.45l-7.72 7.72c-.78.78-.78 2.05 0 2.83L4 21.41c.39.39.9.59 1.41.59.51 0 1.02-.2 1.41-.59l7.78-7.78 2.81-2.81c.8-.78.8-2.07 0-2.86zM5.41 20L4 18.59l7.72-7.72 1.47 1.35L5.41 20z\"/>\n",
              "  </svg>\n",
              "      </button>\n",
              "      \n",
              "  <style>\n",
              "    .colab-df-container {\n",
              "      display:flex;\n",
              "      flex-wrap:wrap;\n",
              "      gap: 12px;\n",
              "    }\n",
              "\n",
              "    .colab-df-convert {\n",
              "      background-color: #E8F0FE;\n",
              "      border: none;\n",
              "      border-radius: 50%;\n",
              "      cursor: pointer;\n",
              "      display: none;\n",
              "      fill: #1967D2;\n",
              "      height: 32px;\n",
              "      padding: 0 0 0 0;\n",
              "      width: 32px;\n",
              "    }\n",
              "\n",
              "    .colab-df-convert:hover {\n",
              "      background-color: #E2EBFA;\n",
              "      box-shadow: 0px 1px 2px rgba(60, 64, 67, 0.3), 0px 1px 3px 1px rgba(60, 64, 67, 0.15);\n",
              "      fill: #174EA6;\n",
              "    }\n",
              "\n",
              "    [theme=dark] .colab-df-convert {\n",
              "      background-color: #3B4455;\n",
              "      fill: #D2E3FC;\n",
              "    }\n",
              "\n",
              "    [theme=dark] .colab-df-convert:hover {\n",
              "      background-color: #434B5C;\n",
              "      box-shadow: 0px 1px 3px 1px rgba(0, 0, 0, 0.15);\n",
              "      filter: drop-shadow(0px 1px 2px rgba(0, 0, 0, 0.3));\n",
              "      fill: #FFFFFF;\n",
              "    }\n",
              "  </style>\n",
              "\n",
              "      <script>\n",
              "        const buttonEl =\n",
              "          document.querySelector('#df-b51645bc-2a5f-4b4a-b4d8-ad9ba551fc3d button.colab-df-convert');\n",
              "        buttonEl.style.display =\n",
              "          google.colab.kernel.accessAllowed ? 'block' : 'none';\n",
              "\n",
              "        async function convertToInteractive(key) {\n",
              "          const element = document.querySelector('#df-b51645bc-2a5f-4b4a-b4d8-ad9ba551fc3d');\n",
              "          const dataTable =\n",
              "            await google.colab.kernel.invokeFunction('convertToInteractive',\n",
              "                                                     [key], {});\n",
              "          if (!dataTable) return;\n",
              "\n",
              "          const docLinkHtml = 'Like what you see? Visit the ' +\n",
              "            '<a target=\"_blank\" href=https://colab.research.google.com/notebooks/data_table.ipynb>data table notebook</a>'\n",
              "            + ' to learn more about interactive tables.';\n",
              "          element.innerHTML = '';\n",
              "          dataTable['output_type'] = 'display_data';\n",
              "          await google.colab.output.renderOutput(dataTable, element);\n",
              "          const docLink = document.createElement('div');\n",
              "          docLink.innerHTML = docLinkHtml;\n",
              "          element.appendChild(docLink);\n",
              "        }\n",
              "      </script>\n",
              "    </div>\n",
              "  </div>\n",
              "  "
            ]
          },
          "metadata": {},
          "execution_count": 72
        }
      ]
    },
    {
      "cell_type": "code",
      "source": [
        "# save to json file\n",
        "out_file = data_df.to_json('test.json', date_format='iso', orient='records')"
      ],
      "metadata": {
        "id": "LoYaHEe_4FbB"
      },
      "execution_count": null,
      "outputs": []
    },
    {
      "cell_type": "code",
      "source": [
        "# save to json file\n",
        "out_file = data_df.to_json('test.json', orient=\"columns\")"
      ],
      "metadata": {
        "id": "CABwlKJ_pvgH"
      },
      "execution_count": null,
      "outputs": []
    },
    {
      "cell_type": "code",
      "source": [
        "!cat test.json"
      ],
      "metadata": {
        "id": "U8X05nGp4N8K"
      },
      "execution_count": null,
      "outputs": []
    },
    {
      "cell_type": "code",
      "source": [
        "def save_data_into_json(df, idx):\n",
        "  # drop column that has named \"Unnamed: xxx\"\n",
        "  data_df = df[df.columns.drop(list(df.filter(regex=\"Unnamed\")))]\n",
        "  # Drop row that has all NaN values\n",
        "  data_df= data_df.dropna(how=\"all\", axis=0)\n",
        "  # save to json file\n",
        "  data_df.to_json(f\"data/test-{idx}.json\", date_format=\"iso\", orient=\"records\")"
      ],
      "metadata": {
        "id": "yd5VUs7a492L"
      },
      "execution_count": null,
      "outputs": []
    },
    {
      "cell_type": "code",
      "source": [
        "!mkdir data"
      ],
      "metadata": {
        "id": "6LOaJUEb7D6G"
      },
      "execution_count": null,
      "outputs": []
    },
    {
      "cell_type": "code",
      "source": [
        "for idx in range(len(dfs)):\n",
        "  if dfs[idx].columns[0] != \"Unnamed: 0\":\n",
        "    save_data_into_json(dfs[idx], idx)"
      ],
      "metadata": {
        "id": "RjxGMQYJ58ns"
      },
      "execution_count": null,
      "outputs": []
    },
    {
      "cell_type": "markdown",
      "source": [
        "##Further practice"
      ],
      "metadata": {
        "id": "NXipY_Xh7dwX"
      }
    },
    {
      "cell_type": "code",
      "source": [
        "tabula.read_pdf(\"redacted1.pdf\", pages=\"all\", stream=True)"
      ],
      "metadata": {
        "id": "KXR_4eNphF9P"
      },
      "execution_count": null,
      "outputs": []
    },
    {
      "cell_type": "code",
      "source": [
        "dfs = tabula.read_pdf(\n",
        "    \"redacted1.pdf\",\n",
        "    lattice=True,\n",
        "    #pandas_options={\"header\": [0, 1]},\n",
        "    # area=[0, 0, 50, 100],\n",
        "    relative_area=True,\n",
        "    multiple_tables=True,\n",
        "    pages=1,\n",
        ")"
      ],
      "metadata": {
        "id": "mArpE1nmhyTR",
        "colab": {
          "base_uri": "https://localhost:8080/"
        },
        "outputId": "9aed27fe-e1b4-4dce-bb16-571893fb7397"
      },
      "execution_count": null,
      "outputs": [
        {
          "output_type": "stream",
          "name": "stderr",
          "text": [
            "WARNING:tabula.io:Got stderr: Oct 18, 2022 10:37:58 AM org.apache.pdfbox.pdmodel.font.PDType1Font <init>\n",
            "WARNING: Using fallback font LiberationSans for base font Symbol\n",
            "Oct 18, 2022 10:37:59 AM org.apache.pdfbox.pdmodel.font.PDType1Font <init>\n",
            "WARNING: Using fallback font LiberationSans for base font ZapfDingbats\n",
            "\n"
          ]
        }
      ]
    },
    {
      "cell_type": "code",
      "source": [
        "df = dfs[0].drop([\"Unnamed: 0\"], axis=1)\n",
        "df"
      ],
      "metadata": {
        "colab": {
          "base_uri": "https://localhost:8080/",
          "height": 49
        },
        "id": "-dPdq3vGjIjV",
        "outputId": "e29f2840-b95b-4fb8-9dfe-db4116190346"
      },
      "execution_count": null,
      "outputs": [
        {
          "output_type": "execute_result",
          "data": {
            "text/plain": [
              "Empty DataFrame\n",
              "Columns: []\n",
              "Index: []"
            ],
            "text/html": [
              "\n",
              "  <div id=\"df-bf03306a-cde9-44dc-a709-eb42d4f41767\">\n",
              "    <div class=\"colab-df-container\">\n",
              "      <div>\n",
              "<style scoped>\n",
              "    .dataframe tbody tr th:only-of-type {\n",
              "        vertical-align: middle;\n",
              "    }\n",
              "\n",
              "    .dataframe tbody tr th {\n",
              "        vertical-align: top;\n",
              "    }\n",
              "\n",
              "    .dataframe thead th {\n",
              "        text-align: right;\n",
              "    }\n",
              "</style>\n",
              "<table border=\"1\" class=\"dataframe\">\n",
              "  <thead>\n",
              "    <tr style=\"text-align: right;\">\n",
              "      <th></th>\n",
              "    </tr>\n",
              "  </thead>\n",
              "  <tbody>\n",
              "  </tbody>\n",
              "</table>\n",
              "</div>\n",
              "      <button class=\"colab-df-convert\" onclick=\"convertToInteractive('df-bf03306a-cde9-44dc-a709-eb42d4f41767')\"\n",
              "              title=\"Convert this dataframe to an interactive table.\"\n",
              "              style=\"display:none;\">\n",
              "        \n",
              "  <svg xmlns=\"http://www.w3.org/2000/svg\" height=\"24px\"viewBox=\"0 0 24 24\"\n",
              "       width=\"24px\">\n",
              "    <path d=\"M0 0h24v24H0V0z\" fill=\"none\"/>\n",
              "    <path d=\"M18.56 5.44l.94 2.06.94-2.06 2.06-.94-2.06-.94-.94-2.06-.94 2.06-2.06.94zm-11 1L8.5 8.5l.94-2.06 2.06-.94-2.06-.94L8.5 2.5l-.94 2.06-2.06.94zm10 10l.94 2.06.94-2.06 2.06-.94-2.06-.94-.94-2.06-.94 2.06-2.06.94z\"/><path d=\"M17.41 7.96l-1.37-1.37c-.4-.4-.92-.59-1.43-.59-.52 0-1.04.2-1.43.59L10.3 9.45l-7.72 7.72c-.78.78-.78 2.05 0 2.83L4 21.41c.39.39.9.59 1.41.59.51 0 1.02-.2 1.41-.59l7.78-7.78 2.81-2.81c.8-.78.8-2.07 0-2.86zM5.41 20L4 18.59l7.72-7.72 1.47 1.35L5.41 20z\"/>\n",
              "  </svg>\n",
              "      </button>\n",
              "      \n",
              "  <style>\n",
              "    .colab-df-container {\n",
              "      display:flex;\n",
              "      flex-wrap:wrap;\n",
              "      gap: 12px;\n",
              "    }\n",
              "\n",
              "    .colab-df-convert {\n",
              "      background-color: #E8F0FE;\n",
              "      border: none;\n",
              "      border-radius: 50%;\n",
              "      cursor: pointer;\n",
              "      display: none;\n",
              "      fill: #1967D2;\n",
              "      height: 32px;\n",
              "      padding: 0 0 0 0;\n",
              "      width: 32px;\n",
              "    }\n",
              "\n",
              "    .colab-df-convert:hover {\n",
              "      background-color: #E2EBFA;\n",
              "      box-shadow: 0px 1px 2px rgba(60, 64, 67, 0.3), 0px 1px 3px 1px rgba(60, 64, 67, 0.15);\n",
              "      fill: #174EA6;\n",
              "    }\n",
              "\n",
              "    [theme=dark] .colab-df-convert {\n",
              "      background-color: #3B4455;\n",
              "      fill: #D2E3FC;\n",
              "    }\n",
              "\n",
              "    [theme=dark] .colab-df-convert:hover {\n",
              "      background-color: #434B5C;\n",
              "      box-shadow: 0px 1px 3px 1px rgba(0, 0, 0, 0.15);\n",
              "      filter: drop-shadow(0px 1px 2px rgba(0, 0, 0, 0.3));\n",
              "      fill: #FFFFFF;\n",
              "    }\n",
              "  </style>\n",
              "\n",
              "      <script>\n",
              "        const buttonEl =\n",
              "          document.querySelector('#df-bf03306a-cde9-44dc-a709-eb42d4f41767 button.colab-df-convert');\n",
              "        buttonEl.style.display =\n",
              "          google.colab.kernel.accessAllowed ? 'block' : 'none';\n",
              "\n",
              "        async function convertToInteractive(key) {\n",
              "          const element = document.querySelector('#df-bf03306a-cde9-44dc-a709-eb42d4f41767');\n",
              "          const dataTable =\n",
              "            await google.colab.kernel.invokeFunction('convertToInteractive',\n",
              "                                                     [key], {});\n",
              "          if (!dataTable) return;\n",
              "\n",
              "          const docLinkHtml = 'Like what you see? Visit the ' +\n",
              "            '<a target=\"_blank\" href=https://colab.research.google.com/notebooks/data_table.ipynb>data table notebook</a>'\n",
              "            + ' to learn more about interactive tables.';\n",
              "          element.innerHTML = '';\n",
              "          dataTable['output_type'] = 'display_data';\n",
              "          await google.colab.output.renderOutput(dataTable, element);\n",
              "          const docLink = document.createElement('div');\n",
              "          docLink.innerHTML = docLinkHtml;\n",
              "          element.appendChild(docLink);\n",
              "        }\n",
              "      </script>\n",
              "    </div>\n",
              "  </div>\n",
              "  "
            ]
          },
          "metadata": {},
          "execution_count": 75
        }
      ]
    },
    {
      "cell_type": "code",
      "source": [
        "len(df)"
      ],
      "metadata": {
        "colab": {
          "base_uri": "https://localhost:8080/"
        },
        "id": "DOU5tOZvraKr",
        "outputId": "a0f43aba-fa7e-4f3b-e380-45fc04f0fb8f"
      },
      "execution_count": null,
      "outputs": [
        {
          "output_type": "execute_result",
          "data": {
            "text/plain": [
              "0"
            ]
          },
          "metadata": {},
          "execution_count": 79
        }
      ]
    },
    {
      "cell_type": "code",
      "source": [
        "dfs[9]"
      ],
      "metadata": {
        "colab": {
          "base_uri": "https://localhost:8080/",
          "height": 81
        },
        "id": "Mcy4OmPrjLSW",
        "outputId": "d356fb3b-9032-43c6-fd26-8ee24600d967"
      },
      "execution_count": null,
      "outputs": [
        {
          "output_type": "execute_result",
          "data": {
            "text/plain": [
              "   Unnamed: 0  Unnamed: 1\n",
              "0         NaN         NaN"
            ],
            "text/html": [
              "\n",
              "  <div id=\"df-016f1881-8cd7-484d-8a96-eb478ad72750\">\n",
              "    <div class=\"colab-df-container\">\n",
              "      <div>\n",
              "<style scoped>\n",
              "    .dataframe tbody tr th:only-of-type {\n",
              "        vertical-align: middle;\n",
              "    }\n",
              "\n",
              "    .dataframe tbody tr th {\n",
              "        vertical-align: top;\n",
              "    }\n",
              "\n",
              "    .dataframe thead th {\n",
              "        text-align: right;\n",
              "    }\n",
              "</style>\n",
              "<table border=\"1\" class=\"dataframe\">\n",
              "  <thead>\n",
              "    <tr style=\"text-align: right;\">\n",
              "      <th></th>\n",
              "      <th>Unnamed: 0</th>\n",
              "      <th>Unnamed: 1</th>\n",
              "    </tr>\n",
              "  </thead>\n",
              "  <tbody>\n",
              "    <tr>\n",
              "      <th>0</th>\n",
              "      <td>NaN</td>\n",
              "      <td>NaN</td>\n",
              "    </tr>\n",
              "  </tbody>\n",
              "</table>\n",
              "</div>\n",
              "      <button class=\"colab-df-convert\" onclick=\"convertToInteractive('df-016f1881-8cd7-484d-8a96-eb478ad72750')\"\n",
              "              title=\"Convert this dataframe to an interactive table.\"\n",
              "              style=\"display:none;\">\n",
              "        \n",
              "  <svg xmlns=\"http://www.w3.org/2000/svg\" height=\"24px\"viewBox=\"0 0 24 24\"\n",
              "       width=\"24px\">\n",
              "    <path d=\"M0 0h24v24H0V0z\" fill=\"none\"/>\n",
              "    <path d=\"M18.56 5.44l.94 2.06.94-2.06 2.06-.94-2.06-.94-.94-2.06-.94 2.06-2.06.94zm-11 1L8.5 8.5l.94-2.06 2.06-.94-2.06-.94L8.5 2.5l-.94 2.06-2.06.94zm10 10l.94 2.06.94-2.06 2.06-.94-2.06-.94-.94-2.06-.94 2.06-2.06.94z\"/><path d=\"M17.41 7.96l-1.37-1.37c-.4-.4-.92-.59-1.43-.59-.52 0-1.04.2-1.43.59L10.3 9.45l-7.72 7.72c-.78.78-.78 2.05 0 2.83L4 21.41c.39.39.9.59 1.41.59.51 0 1.02-.2 1.41-.59l7.78-7.78 2.81-2.81c.8-.78.8-2.07 0-2.86zM5.41 20L4 18.59l7.72-7.72 1.47 1.35L5.41 20z\"/>\n",
              "  </svg>\n",
              "      </button>\n",
              "      \n",
              "  <style>\n",
              "    .colab-df-container {\n",
              "      display:flex;\n",
              "      flex-wrap:wrap;\n",
              "      gap: 12px;\n",
              "    }\n",
              "\n",
              "    .colab-df-convert {\n",
              "      background-color: #E8F0FE;\n",
              "      border: none;\n",
              "      border-radius: 50%;\n",
              "      cursor: pointer;\n",
              "      display: none;\n",
              "      fill: #1967D2;\n",
              "      height: 32px;\n",
              "      padding: 0 0 0 0;\n",
              "      width: 32px;\n",
              "    }\n",
              "\n",
              "    .colab-df-convert:hover {\n",
              "      background-color: #E2EBFA;\n",
              "      box-shadow: 0px 1px 2px rgba(60, 64, 67, 0.3), 0px 1px 3px 1px rgba(60, 64, 67, 0.15);\n",
              "      fill: #174EA6;\n",
              "    }\n",
              "\n",
              "    [theme=dark] .colab-df-convert {\n",
              "      background-color: #3B4455;\n",
              "      fill: #D2E3FC;\n",
              "    }\n",
              "\n",
              "    [theme=dark] .colab-df-convert:hover {\n",
              "      background-color: #434B5C;\n",
              "      box-shadow: 0px 1px 3px 1px rgba(0, 0, 0, 0.15);\n",
              "      filter: drop-shadow(0px 1px 2px rgba(0, 0, 0, 0.3));\n",
              "      fill: #FFFFFF;\n",
              "    }\n",
              "  </style>\n",
              "\n",
              "      <script>\n",
              "        const buttonEl =\n",
              "          document.querySelector('#df-016f1881-8cd7-484d-8a96-eb478ad72750 button.colab-df-convert');\n",
              "        buttonEl.style.display =\n",
              "          google.colab.kernel.accessAllowed ? 'block' : 'none';\n",
              "\n",
              "        async function convertToInteractive(key) {\n",
              "          const element = document.querySelector('#df-016f1881-8cd7-484d-8a96-eb478ad72750');\n",
              "          const dataTable =\n",
              "            await google.colab.kernel.invokeFunction('convertToInteractive',\n",
              "                                                     [key], {});\n",
              "          if (!dataTable) return;\n",
              "\n",
              "          const docLinkHtml = 'Like what you see? Visit the ' +\n",
              "            '<a target=\"_blank\" href=https://colab.research.google.com/notebooks/data_table.ipynb>data table notebook</a>'\n",
              "            + ' to learn more about interactive tables.';\n",
              "          element.innerHTML = '';\n",
              "          dataTable['output_type'] = 'display_data';\n",
              "          await google.colab.output.renderOutput(dataTable, element);\n",
              "          const docLink = document.createElement('div');\n",
              "          docLink.innerHTML = docLinkHtml;\n",
              "          element.appendChild(docLink);\n",
              "        }\n",
              "      </script>\n",
              "    </div>\n",
              "  </div>\n",
              "  "
            ]
          },
          "metadata": {},
          "execution_count": 61
        }
      ]
    },
    {
      "cell_type": "code",
      "source": [
        "len(dfs[6].value_counts())"
      ],
      "metadata": {
        "colab": {
          "base_uri": "https://localhost:8080/"
        },
        "id": "Z3hqnp0ekiEr",
        "outputId": "eb56e817-4e2b-4464-a7b3-376ef9acbabf"
      },
      "execution_count": null,
      "outputs": [
        {
          "output_type": "execute_result",
          "data": {
            "text/plain": [
              "4"
            ]
          },
          "metadata": {},
          "execution_count": 40
        }
      ]
    },
    {
      "cell_type": "code",
      "source": [
        "data_idx = []\n",
        "for idx in range(len(dfs)):\n",
        "  if len(dfs[idx].value_counts()) > 0:\n",
        "    data_idx.append(idx)"
      ],
      "metadata": {
        "id": "peWQ-zRelCXG"
      },
      "execution_count": null,
      "outputs": []
    },
    {
      "cell_type": "code",
      "source": [
        "data_idx"
      ],
      "metadata": {
        "colab": {
          "base_uri": "https://localhost:8080/"
        },
        "id": "-uh6AYpclNvw",
        "outputId": "68763cdb-70f3-4216-ce15-7aa102110606"
      },
      "execution_count": null,
      "outputs": [
        {
          "output_type": "execute_result",
          "data": {
            "text/plain": [
              "[6, 7]"
            ]
          },
          "metadata": {},
          "execution_count": 63
        }
      ]
    },
    {
      "cell_type": "code",
      "source": [
        "dfs[8]"
      ],
      "metadata": {
        "colab": {
          "base_uri": "https://localhost:8080/",
          "height": 532
        },
        "id": "IQgqDwyjlTI7",
        "outputId": "e25f325c-ba8e-449c-a2e4-d30ae7dd26cf"
      },
      "execution_count": null,
      "outputs": [
        {
          "output_type": "execute_result",
          "data": {
            "text/plain": [
              "                 Encounter                                           Specimen  \\\n",
              "0                       30                                                NaN   \n",
              "1                      NaN                                                NaN   \n",
              "2           Diagnosis Code                                        Description   \n",
              "3                     D649                                Anemia, unspecified   \n",
              "4                     E611                                    Iron deficiency   \n",
              "5                     I951                            Orthostatic hypotension   \n",
              "6                     N920  Excessive and frequent menstruation with regul...   \n",
              "7                     R197                              Diarrhea, unspecified   \n",
              "8                    R7889  Finding of other specified substances, not nor...   \n",
              "9                Test Name                                            Results   \n",
              "10                 GLUCOSE                                              100 H   \n",
              "11  WHITE BLOOD CELL COUNT                                              3.2 L   \n",
              "12                     RDW                                             15.6 H   \n",
              "13    ABSOLUTE NEUTROPHILS                                             1459 L   \n",
              "\n",
              "            Service Date High Score  Unnamed: 0  Unnamed: 1  \n",
              "0             2021-09-24          5         NaN         NaN  \n",
              "1                    NaN        NaN         NaN         NaN  \n",
              "2              Code Type      Score         NaN         NaN  \n",
              "3                  ICD10          5         NaN         NaN  \n",
              "4                  ICD10          5         NaN         NaN  \n",
              "5                  ICD10          5         NaN         NaN  \n",
              "6                  ICD10          5         NaN         NaN  \n",
              "7                  ICD10          5         NaN         NaN  \n",
              "8                  ICD10          5         NaN         NaN  \n",
              "9        Reference Range      Score         NaN         NaN  \n",
              "10           65-99 mg/dL          5         NaN         NaN  \n",
              "11  3.8-10.8 Thousand/uL          5         NaN         NaN  \n",
              "12           11.0-15.0 %          5         NaN         NaN  \n",
              "13    1500-7800 cells/uL          5         NaN         NaN  "
            ],
            "text/html": [
              "\n",
              "  <div id=\"df-746bf59d-7366-4299-a2f8-890580c60182\">\n",
              "    <div class=\"colab-df-container\">\n",
              "      <div>\n",
              "<style scoped>\n",
              "    .dataframe tbody tr th:only-of-type {\n",
              "        vertical-align: middle;\n",
              "    }\n",
              "\n",
              "    .dataframe tbody tr th {\n",
              "        vertical-align: top;\n",
              "    }\n",
              "\n",
              "    .dataframe thead th {\n",
              "        text-align: right;\n",
              "    }\n",
              "</style>\n",
              "<table border=\"1\" class=\"dataframe\">\n",
              "  <thead>\n",
              "    <tr style=\"text-align: right;\">\n",
              "      <th></th>\n",
              "      <th>Encounter</th>\n",
              "      <th>Specimen</th>\n",
              "      <th>Service Date</th>\n",
              "      <th>High Score</th>\n",
              "      <th>Unnamed: 0</th>\n",
              "      <th>Unnamed: 1</th>\n",
              "    </tr>\n",
              "  </thead>\n",
              "  <tbody>\n",
              "    <tr>\n",
              "      <th>0</th>\n",
              "      <td>30</td>\n",
              "      <td>NaN</td>\n",
              "      <td>2021-09-24</td>\n",
              "      <td>5</td>\n",
              "      <td>NaN</td>\n",
              "      <td>NaN</td>\n",
              "    </tr>\n",
              "    <tr>\n",
              "      <th>1</th>\n",
              "      <td>NaN</td>\n",
              "      <td>NaN</td>\n",
              "      <td>NaN</td>\n",
              "      <td>NaN</td>\n",
              "      <td>NaN</td>\n",
              "      <td>NaN</td>\n",
              "    </tr>\n",
              "    <tr>\n",
              "      <th>2</th>\n",
              "      <td>Diagnosis Code</td>\n",
              "      <td>Description</td>\n",
              "      <td>Code Type</td>\n",
              "      <td>Score</td>\n",
              "      <td>NaN</td>\n",
              "      <td>NaN</td>\n",
              "    </tr>\n",
              "    <tr>\n",
              "      <th>3</th>\n",
              "      <td>D649</td>\n",
              "      <td>Anemia, unspecified</td>\n",
              "      <td>ICD10</td>\n",
              "      <td>5</td>\n",
              "      <td>NaN</td>\n",
              "      <td>NaN</td>\n",
              "    </tr>\n",
              "    <tr>\n",
              "      <th>4</th>\n",
              "      <td>E611</td>\n",
              "      <td>Iron deficiency</td>\n",
              "      <td>ICD10</td>\n",
              "      <td>5</td>\n",
              "      <td>NaN</td>\n",
              "      <td>NaN</td>\n",
              "    </tr>\n",
              "    <tr>\n",
              "      <th>5</th>\n",
              "      <td>I951</td>\n",
              "      <td>Orthostatic hypotension</td>\n",
              "      <td>ICD10</td>\n",
              "      <td>5</td>\n",
              "      <td>NaN</td>\n",
              "      <td>NaN</td>\n",
              "    </tr>\n",
              "    <tr>\n",
              "      <th>6</th>\n",
              "      <td>N920</td>\n",
              "      <td>Excessive and frequent menstruation with regul...</td>\n",
              "      <td>ICD10</td>\n",
              "      <td>5</td>\n",
              "      <td>NaN</td>\n",
              "      <td>NaN</td>\n",
              "    </tr>\n",
              "    <tr>\n",
              "      <th>7</th>\n",
              "      <td>R197</td>\n",
              "      <td>Diarrhea, unspecified</td>\n",
              "      <td>ICD10</td>\n",
              "      <td>5</td>\n",
              "      <td>NaN</td>\n",
              "      <td>NaN</td>\n",
              "    </tr>\n",
              "    <tr>\n",
              "      <th>8</th>\n",
              "      <td>R7889</td>\n",
              "      <td>Finding of other specified substances, not nor...</td>\n",
              "      <td>ICD10</td>\n",
              "      <td>5</td>\n",
              "      <td>NaN</td>\n",
              "      <td>NaN</td>\n",
              "    </tr>\n",
              "    <tr>\n",
              "      <th>9</th>\n",
              "      <td>Test Name</td>\n",
              "      <td>Results</td>\n",
              "      <td>Reference Range</td>\n",
              "      <td>Score</td>\n",
              "      <td>NaN</td>\n",
              "      <td>NaN</td>\n",
              "    </tr>\n",
              "    <tr>\n",
              "      <th>10</th>\n",
              "      <td>GLUCOSE</td>\n",
              "      <td>100 H</td>\n",
              "      <td>65-99 mg/dL</td>\n",
              "      <td>5</td>\n",
              "      <td>NaN</td>\n",
              "      <td>NaN</td>\n",
              "    </tr>\n",
              "    <tr>\n",
              "      <th>11</th>\n",
              "      <td>WHITE BLOOD CELL COUNT</td>\n",
              "      <td>3.2 L</td>\n",
              "      <td>3.8-10.8 Thousand/uL</td>\n",
              "      <td>5</td>\n",
              "      <td>NaN</td>\n",
              "      <td>NaN</td>\n",
              "    </tr>\n",
              "    <tr>\n",
              "      <th>12</th>\n",
              "      <td>RDW</td>\n",
              "      <td>15.6 H</td>\n",
              "      <td>11.0-15.0 %</td>\n",
              "      <td>5</td>\n",
              "      <td>NaN</td>\n",
              "      <td>NaN</td>\n",
              "    </tr>\n",
              "    <tr>\n",
              "      <th>13</th>\n",
              "      <td>ABSOLUTE NEUTROPHILS</td>\n",
              "      <td>1459 L</td>\n",
              "      <td>1500-7800 cells/uL</td>\n",
              "      <td>5</td>\n",
              "      <td>NaN</td>\n",
              "      <td>NaN</td>\n",
              "    </tr>\n",
              "  </tbody>\n",
              "</table>\n",
              "</div>\n",
              "      <button class=\"colab-df-convert\" onclick=\"convertToInteractive('df-746bf59d-7366-4299-a2f8-890580c60182')\"\n",
              "              title=\"Convert this dataframe to an interactive table.\"\n",
              "              style=\"display:none;\">\n",
              "        \n",
              "  <svg xmlns=\"http://www.w3.org/2000/svg\" height=\"24px\"viewBox=\"0 0 24 24\"\n",
              "       width=\"24px\">\n",
              "    <path d=\"M0 0h24v24H0V0z\" fill=\"none\"/>\n",
              "    <path d=\"M18.56 5.44l.94 2.06.94-2.06 2.06-.94-2.06-.94-.94-2.06-.94 2.06-2.06.94zm-11 1L8.5 8.5l.94-2.06 2.06-.94-2.06-.94L8.5 2.5l-.94 2.06-2.06.94zm10 10l.94 2.06.94-2.06 2.06-.94-2.06-.94-.94-2.06-.94 2.06-2.06.94z\"/><path d=\"M17.41 7.96l-1.37-1.37c-.4-.4-.92-.59-1.43-.59-.52 0-1.04.2-1.43.59L10.3 9.45l-7.72 7.72c-.78.78-.78 2.05 0 2.83L4 21.41c.39.39.9.59 1.41.59.51 0 1.02-.2 1.41-.59l7.78-7.78 2.81-2.81c.8-.78.8-2.07 0-2.86zM5.41 20L4 18.59l7.72-7.72 1.47 1.35L5.41 20z\"/>\n",
              "  </svg>\n",
              "      </button>\n",
              "      \n",
              "  <style>\n",
              "    .colab-df-container {\n",
              "      display:flex;\n",
              "      flex-wrap:wrap;\n",
              "      gap: 12px;\n",
              "    }\n",
              "\n",
              "    .colab-df-convert {\n",
              "      background-color: #E8F0FE;\n",
              "      border: none;\n",
              "      border-radius: 50%;\n",
              "      cursor: pointer;\n",
              "      display: none;\n",
              "      fill: #1967D2;\n",
              "      height: 32px;\n",
              "      padding: 0 0 0 0;\n",
              "      width: 32px;\n",
              "    }\n",
              "\n",
              "    .colab-df-convert:hover {\n",
              "      background-color: #E2EBFA;\n",
              "      box-shadow: 0px 1px 2px rgba(60, 64, 67, 0.3), 0px 1px 3px 1px rgba(60, 64, 67, 0.15);\n",
              "      fill: #174EA6;\n",
              "    }\n",
              "\n",
              "    [theme=dark] .colab-df-convert {\n",
              "      background-color: #3B4455;\n",
              "      fill: #D2E3FC;\n",
              "    }\n",
              "\n",
              "    [theme=dark] .colab-df-convert:hover {\n",
              "      background-color: #434B5C;\n",
              "      box-shadow: 0px 1px 3px 1px rgba(0, 0, 0, 0.15);\n",
              "      filter: drop-shadow(0px 1px 2px rgba(0, 0, 0, 0.3));\n",
              "      fill: #FFFFFF;\n",
              "    }\n",
              "  </style>\n",
              "\n",
              "      <script>\n",
              "        const buttonEl =\n",
              "          document.querySelector('#df-746bf59d-7366-4299-a2f8-890580c60182 button.colab-df-convert');\n",
              "        buttonEl.style.display =\n",
              "          google.colab.kernel.accessAllowed ? 'block' : 'none';\n",
              "\n",
              "        async function convertToInteractive(key) {\n",
              "          const element = document.querySelector('#df-746bf59d-7366-4299-a2f8-890580c60182');\n",
              "          const dataTable =\n",
              "            await google.colab.kernel.invokeFunction('convertToInteractive',\n",
              "                                                     [key], {});\n",
              "          if (!dataTable) return;\n",
              "\n",
              "          const docLinkHtml = 'Like what you see? Visit the ' +\n",
              "            '<a target=\"_blank\" href=https://colab.research.google.com/notebooks/data_table.ipynb>data table notebook</a>'\n",
              "            + ' to learn more about interactive tables.';\n",
              "          element.innerHTML = '';\n",
              "          dataTable['output_type'] = 'display_data';\n",
              "          await google.colab.output.renderOutput(dataTable, element);\n",
              "          const docLink = document.createElement('div');\n",
              "          docLink.innerHTML = docLinkHtml;\n",
              "          element.appendChild(docLink);\n",
              "        }\n",
              "      </script>\n",
              "    </div>\n",
              "  </div>\n",
              "  "
            ]
          },
          "metadata": {},
          "execution_count": 68
        }
      ]
    },
    {
      "cell_type": "code",
      "source": [
        "data_df = None\n",
        "for idx in range(len(dfs)):\n",
        "  if len(dfs[idx].value_counts()) > 0:\n",
        "    data_df = dfs[idx]\n",
        "data_df"
      ],
      "metadata": {
        "colab": {
          "base_uri": "https://localhost:8080/",
          "height": 253
        },
        "id": "t1wpf9MjkCUT",
        "outputId": "01b163db-a76f-4f8b-c923-1693f9fc95fc"
      },
      "execution_count": null,
      "outputs": [
        {
          "output_type": "execute_result",
          "data": {
            "text/plain": [
              "                                           Condition Provider\\rGenerated  \\\n",
              "0  Oth symptoms and signs w\\rcognitive functions ...               False   \n",
              "1                                 Any Muscle Disease                True   \n",
              "2                         Abnormalities of breathing               False   \n",
              "3                                      Other anemias                True   \n",
              "\n",
              "  Demographic\\rPrevalence Confidence  \\\n",
              "0                    1.4%      99.0%   \n",
              "1                   43.5%      89.5%   \n",
              "2                    5.7%      57.2%   \n",
              "3                    4.0%      52.2%   \n",
              "\n",
              "                                Contributing Factors  \n",
              "0  Amorphous Sediment [Presence],Platelet\\r[Prese...  \n",
              "1  R29-Nervous Systom\\rSymp.,Sodium,Hydromorphone...  \n",
              "2                    LE,HDL,Free T4 Index,GFR - MDRD  \n",
              "3    Total Bilirubin,ALP,Hemoglobin,D50-Anemia(Iron)  "
            ],
            "text/html": [
              "\n",
              "  <div id=\"df-f5658e32-e8b9-4418-bcef-5513b511b6f2\">\n",
              "    <div class=\"colab-df-container\">\n",
              "      <div>\n",
              "<style scoped>\n",
              "    .dataframe tbody tr th:only-of-type {\n",
              "        vertical-align: middle;\n",
              "    }\n",
              "\n",
              "    .dataframe tbody tr th {\n",
              "        vertical-align: top;\n",
              "    }\n",
              "\n",
              "    .dataframe thead th {\n",
              "        text-align: right;\n",
              "    }\n",
              "</style>\n",
              "<table border=\"1\" class=\"dataframe\">\n",
              "  <thead>\n",
              "    <tr style=\"text-align: right;\">\n",
              "      <th></th>\n",
              "      <th>Condition</th>\n",
              "      <th>Provider\\rGenerated</th>\n",
              "      <th>Demographic\\rPrevalence</th>\n",
              "      <th>Confidence</th>\n",
              "      <th>Contributing Factors</th>\n",
              "    </tr>\n",
              "  </thead>\n",
              "  <tbody>\n",
              "    <tr>\n",
              "      <th>0</th>\n",
              "      <td>Oth symptoms and signs w\\rcognitive functions ...</td>\n",
              "      <td>False</td>\n",
              "      <td>1.4%</td>\n",
              "      <td>99.0%</td>\n",
              "      <td>Amorphous Sediment [Presence],Platelet\\r[Prese...</td>\n",
              "    </tr>\n",
              "    <tr>\n",
              "      <th>1</th>\n",
              "      <td>Any Muscle Disease</td>\n",
              "      <td>True</td>\n",
              "      <td>43.5%</td>\n",
              "      <td>89.5%</td>\n",
              "      <td>R29-Nervous Systom\\rSymp.,Sodium,Hydromorphone...</td>\n",
              "    </tr>\n",
              "    <tr>\n",
              "      <th>2</th>\n",
              "      <td>Abnormalities of breathing</td>\n",
              "      <td>False</td>\n",
              "      <td>5.7%</td>\n",
              "      <td>57.2%</td>\n",
              "      <td>LE,HDL,Free T4 Index,GFR - MDRD</td>\n",
              "    </tr>\n",
              "    <tr>\n",
              "      <th>3</th>\n",
              "      <td>Other anemias</td>\n",
              "      <td>True</td>\n",
              "      <td>4.0%</td>\n",
              "      <td>52.2%</td>\n",
              "      <td>Total Bilirubin,ALP,Hemoglobin,D50-Anemia(Iron)</td>\n",
              "    </tr>\n",
              "  </tbody>\n",
              "</table>\n",
              "</div>\n",
              "      <button class=\"colab-df-convert\" onclick=\"convertToInteractive('df-f5658e32-e8b9-4418-bcef-5513b511b6f2')\"\n",
              "              title=\"Convert this dataframe to an interactive table.\"\n",
              "              style=\"display:none;\">\n",
              "        \n",
              "  <svg xmlns=\"http://www.w3.org/2000/svg\" height=\"24px\"viewBox=\"0 0 24 24\"\n",
              "       width=\"24px\">\n",
              "    <path d=\"M0 0h24v24H0V0z\" fill=\"none\"/>\n",
              "    <path d=\"M18.56 5.44l.94 2.06.94-2.06 2.06-.94-2.06-.94-.94-2.06-.94 2.06-2.06.94zm-11 1L8.5 8.5l.94-2.06 2.06-.94-2.06-.94L8.5 2.5l-.94 2.06-2.06.94zm10 10l.94 2.06.94-2.06 2.06-.94-2.06-.94-.94-2.06-.94 2.06-2.06.94z\"/><path d=\"M17.41 7.96l-1.37-1.37c-.4-.4-.92-.59-1.43-.59-.52 0-1.04.2-1.43.59L10.3 9.45l-7.72 7.72c-.78.78-.78 2.05 0 2.83L4 21.41c.39.39.9.59 1.41.59.51 0 1.02-.2 1.41-.59l7.78-7.78 2.81-2.81c.8-.78.8-2.07 0-2.86zM5.41 20L4 18.59l7.72-7.72 1.47 1.35L5.41 20z\"/>\n",
              "  </svg>\n",
              "      </button>\n",
              "      \n",
              "  <style>\n",
              "    .colab-df-container {\n",
              "      display:flex;\n",
              "      flex-wrap:wrap;\n",
              "      gap: 12px;\n",
              "    }\n",
              "\n",
              "    .colab-df-convert {\n",
              "      background-color: #E8F0FE;\n",
              "      border: none;\n",
              "      border-radius: 50%;\n",
              "      cursor: pointer;\n",
              "      display: none;\n",
              "      fill: #1967D2;\n",
              "      height: 32px;\n",
              "      padding: 0 0 0 0;\n",
              "      width: 32px;\n",
              "    }\n",
              "\n",
              "    .colab-df-convert:hover {\n",
              "      background-color: #E2EBFA;\n",
              "      box-shadow: 0px 1px 2px rgba(60, 64, 67, 0.3), 0px 1px 3px 1px rgba(60, 64, 67, 0.15);\n",
              "      fill: #174EA6;\n",
              "    }\n",
              "\n",
              "    [theme=dark] .colab-df-convert {\n",
              "      background-color: #3B4455;\n",
              "      fill: #D2E3FC;\n",
              "    }\n",
              "\n",
              "    [theme=dark] .colab-df-convert:hover {\n",
              "      background-color: #434B5C;\n",
              "      box-shadow: 0px 1px 3px 1px rgba(0, 0, 0, 0.15);\n",
              "      filter: drop-shadow(0px 1px 2px rgba(0, 0, 0, 0.3));\n",
              "      fill: #FFFFFF;\n",
              "    }\n",
              "  </style>\n",
              "\n",
              "      <script>\n",
              "        const buttonEl =\n",
              "          document.querySelector('#df-f5658e32-e8b9-4418-bcef-5513b511b6f2 button.colab-df-convert');\n",
              "        buttonEl.style.display =\n",
              "          google.colab.kernel.accessAllowed ? 'block' : 'none';\n",
              "\n",
              "        async function convertToInteractive(key) {\n",
              "          const element = document.querySelector('#df-f5658e32-e8b9-4418-bcef-5513b511b6f2');\n",
              "          const dataTable =\n",
              "            await google.colab.kernel.invokeFunction('convertToInteractive',\n",
              "                                                     [key], {});\n",
              "          if (!dataTable) return;\n",
              "\n",
              "          const docLinkHtml = 'Like what you see? Visit the ' +\n",
              "            '<a target=\"_blank\" href=https://colab.research.google.com/notebooks/data_table.ipynb>data table notebook</a>'\n",
              "            + ' to learn more about interactive tables.';\n",
              "          element.innerHTML = '';\n",
              "          dataTable['output_type'] = 'display_data';\n",
              "          await google.colab.output.renderOutput(dataTable, element);\n",
              "          const docLink = document.createElement('div');\n",
              "          docLink.innerHTML = docLinkHtml;\n",
              "          element.appendChild(docLink);\n",
              "        }\n",
              "      </script>\n",
              "    </div>\n",
              "  </div>\n",
              "  "
            ]
          },
          "metadata": {},
          "execution_count": 8
        }
      ]
    },
    {
      "cell_type": "code",
      "source": [
        "tabula.convert_into(\"redacted1.pdf\", \"test.json\", output_format=\"json\")"
      ],
      "metadata": {
        "colab": {
          "base_uri": "https://localhost:8080/"
        },
        "id": "BYQxcC9fw2oY",
        "outputId": "3c44c9f1-2012-422c-dff0-489b98b43fb0"
      },
      "execution_count": null,
      "outputs": [
        {
          "output_type": "stream",
          "name": "stderr",
          "text": [
            "WARNING:tabula.util:'pages' argument isn't specified.Will extract only from page 1 by default.\n",
            "WARNING:tabula.io:Got stderr: Oct 18, 2022 9:53:01 AM org.apache.pdfbox.pdmodel.font.PDType1Font <init>\n",
            "WARNING: Using fallback font LiberationSans for base font Symbol\n",
            "Oct 18, 2022 9:53:01 AM org.apache.pdfbox.pdmodel.font.PDType1Font <init>\n",
            "WARNING: Using fallback font LiberationSans for base font ZapfDingbats\n",
            "\n"
          ]
        }
      ]
    },
    {
      "cell_type": "code",
      "source": [
        "!cat test.json"
      ],
      "metadata": {
        "colab": {
          "base_uri": "https://localhost:8080/"
        },
        "id": "DjSWnKl9gt1T",
        "outputId": "3c104889-d351-4499-a85c-4f8ba35cd7c1"
      },
      "execution_count": null,
      "outputs": [
        {
          "output_type": "stream",
          "name": "stdout",
          "text": [
            "[{\"extraction_method\":\"stream\",\"top\":249.0,\"left\":41.0,\"width\":523.0,\"height\":116.0,\"right\":564.0,\"bottom\":365.0,\"data\":[[{\"top\":256.81,\"left\":71.71,\"width\":48.05000305175781,\"height\":4.630000114440918,\"text\":\"Condition\"},{\"top\":256.81,\"left\":161.93,\"width\":43.350006103515625,\"height\":4.630000114440918,\"text\":\"Provider\"},{\"top\":256.81,\"left\":222.26,\"width\":66.68000793457031,\"height\":4.630000114440918,\"text\":\"Demographic\"},{\"top\":256.81,\"left\":300.38,\"width\":55.839996337890625,\"height\":4.630000114440918,\"text\":\"Confidence\"},{\"top\":256.81,\"left\":414.65,\"width\":98.8900146484375,\"height\":4.630000114440918,\"text\":\"Contributing Factors\"}],[{\"top\":0.0,\"left\":0.0,\"width\":0.0,\"height\":0.0,\"text\":\"\"},{\"top\":267.97,\"left\":158.9,\"width\":50.850006103515625,\"height\":4.630000114440918,\"text\":\"Generated\"},{\"top\":267.97,\"left\":229.18,\"width\":52.810001373291016,\"height\":4.630000114440918,\"text\":\"Prevalence\"},{\"top\":0.0,\"left\":0.0,\"width\":0.0,\"height\":0.0,\"text\":\"\"},{\"top\":0.0,\"left\":0.0,\"width\":0.0,\"height\":0.0,\"text\":\"\"}],[{\"top\":282.21,\"left\":44.5,\"width\":98.25,\"height\":3.700000047683716,\"text\":\"Oth symptoms and signs w\"},{\"top\":282.21,\"left\":173.81,\"width\":20.6719970703125,\"height\":3.700000047683716,\"text\":\"False\"},{\"top\":282.21,\"left\":246.53,\"width\":19.34197998046875,\"height\":3.700000047683716,\"text\":\"1.4%\"},{\"top\":282.21,\"left\":316.3,\"width\":23.781982421875,\"height\":3.700000047683716,\"text\":\"99.0%\"},{\"top\":282.21,\"left\":365.62,\"width\":148.5,\"height\":3.700000047683716,\"text\":\"Amorphous Sediment [Presence],Platelet\"}],[{\"top\":291.21,\"left\":44.5,\"width\":83.59000396728516,\"height\":3.700000047683716,\"text\":\"cognitive functions and\"},{\"top\":0.0,\"left\":0.0,\"width\":0.0,\"height\":0.0,\"text\":\"\"},{\"top\":0.0,\"left\":0.0,\"width\":0.0,\"height\":0.0,\"text\":\"\"},{\"top\":0.0,\"left\":0.0,\"width\":0.0,\"height\":0.0,\"text\":\"\"},{\"top\":291.21,\"left\":365.62,\"width\":99.16000366210938,\"height\":3.700000047683716,\"text\":\"[Presence],Methadone,ESR\"}],[{\"top\":300.21,\"left\":44.5,\"width\":38.68000030517578,\"height\":3.700000047683716,\"text\":\"awareness\"},{\"top\":0.0,\"left\":0.0,\"width\":0.0,\"height\":0.0,\"text\":\"\"},{\"top\":0.0,\"left\":0.0,\"width\":0.0,\"height\":0.0,\"text\":\"\"},{\"top\":0.0,\"left\":0.0,\"width\":0.0,\"height\":0.0,\"text\":\"\"},{\"top\":0.0,\"left\":0.0,\"width\":0.0,\"height\":0.0,\"text\":\"\"}],[{\"top\":313.24,\"left\":44.5,\"width\":73.5719985961914,\"height\":3.700000047683716,\"text\":\"Any Muscle Disease\"},{\"top\":313.24,\"left\":175.39,\"width\":17.561996459960938,\"height\":3.700000047683716,\"text\":\"True\"},{\"top\":313.24,\"left\":244.3,\"width\":23.781967163085938,\"height\":3.700000047683716,\"text\":\"43.5%\"},{\"top\":313.24,\"left\":316.3,\"width\":23.781982421875,\"height\":3.700000047683716,\"text\":\"89.5%\"},{\"top\":313.24,\"left\":365.62,\"width\":78.23001098632812,\"height\":3.700000047683716,\"text\":\"R29-Nervous Systom\"}],[{\"top\":0.0,\"left\":0.0,\"width\":0.0,\"height\":0.0,\"text\":\"\"},{\"top\":0.0,\"left\":0.0,\"width\":0.0,\"height\":0.0,\"text\":\"\"},{\"top\":0.0,\"left\":0.0,\"width\":0.0,\"height\":0.0,\"text\":\"\"},{\"top\":0.0,\"left\":0.0,\"width\":0.0,\"height\":0.0,\"text\":\"\"},{\"top\":322.24,\"left\":365.62,\"width\":141.8199920654297,\"height\":3.700000047683716,\"text\":\"Symp.,Sodium,Hydromorphone,Free T4\"}],[{\"top\":335.28,\"left\":44.5,\"width\":94.0419921875,\"height\":3.700000047683716,\"text\":\"Abnormalities of breathing\"},{\"top\":335.28,\"left\":173.81,\"width\":20.6719970703125,\"height\":3.700000047683716,\"text\":\"False\"},{\"top\":335.28,\"left\":246.53,\"width\":19.34197998046875,\"height\":3.700000047683716,\"text\":\"5.7%\"},{\"top\":335.28,\"left\":316.3,\"width\":23.781982421875,\"height\":3.700000047683716,\"text\":\"57.2%\"},{\"top\":335.28,\"left\":365.62,\"width\":130.25,\"height\":3.700000047683716,\"text\":\"LE,HDL,Free T4 Index,GFR - MDRD\"}],[{\"top\":353.28,\"left\":44.5,\"width\":53.571998596191406,\"height\":3.700000047683716,\"text\":\"Other anemias\"},{\"top\":353.28,\"left\":175.39,\"width\":17.561996459960938,\"height\":3.700000047683716,\"text\":\"True\"},{\"top\":353.28,\"left\":246.53,\"width\":19.34197998046875,\"height\":3.700000047683716,\"text\":\"4.0%\"},{\"top\":353.28,\"left\":316.3,\"width\":23.781982421875,\"height\":3.700000047683716,\"text\":\"52.2%\"},{\"top\":353.28,\"left\":365.62,\"width\":176.49002075195312,\"height\":3.700000047683716,\"text\":\"Total Bilirubin,ALP,Hemoglobin,D50-Anemia(Iron)\"}]]},{\"extraction_method\":\"stream\",\"top\":392.0,\"left\":41.0,\"width\":204.0,\"height\":39.0,\"right\":245.0,\"bottom\":431.0,\"data\":[[{\"top\":403.61,\"left\":49.46,\"width\":82.5199966430664,\"height\":4.630000114440918,\"text\":\"Response Status\"},{\"top\":403.61,\"left\":139.68,\"width\":102.24000549316406,\"height\":4.630000114440918,\"text\":\"Total # of Encounters\"}],[{\"top\":421.82,\"left\":50.4,\"width\":10.881999969482422,\"height\":3.700000047683716,\"text\":\"Hit\"},{\"top\":421.82,\"left\":186.34,\"width\":8.890002250671387,\"height\":3.700000047683716,\"text\":\"30\"}]]},{\"extraction_method\":\"stream\",\"top\":459.0,\"left\":46.0,\"width\":497.0,\"height\":263.0,\"right\":543.0,\"bottom\":722.0,\"data\":[[{\"top\":468.2,\"left\":50.9,\"width\":112.70999908447266,\"height\":4.630000114440918,\"text\":\"Encounter Specimen\"},{\"top\":468.2,\"left\":178.78,\"width\":61.41999816894531,\"height\":4.630000114440918,\"text\":\"Service Date\"},{\"top\":468.2,\"left\":250.85,\"width\":52.789981842041016,\"height\":4.630000114440918,\"text\":\"High Score\"},{\"top\":0.0,\"left\":0.0,\"width\":0.0,\"height\":0.0,\"text\":\"\"},{\"top\":0.0,\"left\":0.0,\"width\":0.0,\"height\":0.0,\"text\":\"\"},{\"top\":0.0,\"left\":0.0,\"width\":0.0,\"height\":0.0,\"text\":\"\"}],[{\"top\":486.4,\"left\":48.82,\"width\":10.001998901367188,\"height\":3.700000047683716,\"text\":\"30\"},{\"top\":486.4,\"left\":174.82,\"width\":42.02198791503906,\"height\":3.700000047683716,\"text\":\"2021-09-24\"},{\"top\":486.4,\"left\":270.72,\"width\":4.449999809265137,\"height\":3.700000047683716,\"text\":\"5\"},{\"top\":0.0,\"left\":0.0,\"width\":0.0,\"height\":0.0,\"text\":\"\"},{\"top\":0.0,\"left\":0.0,\"width\":0.0,\"height\":0.0,\"text\":\"\"},{\"top\":0.0,\"left\":0.0,\"width\":0.0,\"height\":0.0,\"text\":\"\"}],[{\"top\":502.76,\"left\":57.53,\"width\":76.96000671386719,\"height\":4.630000114440918,\"text\":\"Diagnosis Code\"},{\"top\":0.0,\"left\":0.0,\"width\":0.0,\"height\":0.0,\"text\":\"\"},{\"top\":502.76,\"left\":251.57,\"width\":56.399993896484375,\"height\":4.630000114440918,\"text\":\"Description\"},{\"top\":0.0,\"left\":0.0,\"width\":0.0,\"height\":0.0,\"text\":\"\"},{\"top\":502.76,\"left\":424.51,\"width\":52.510009765625,\"height\":4.630000114440918,\"text\":\"Code Type\"},{\"top\":502.76,\"left\":515.16,\"width\":27.790040969848633,\"height\":4.630000114440918,\"text\":\"Score\"}],[{\"top\":521.4,\"left\":48.82,\"width\":170.00570678710938,\"height\":3.700000047683716,\"text\":\"D649 Anemia, unspecified\"},{\"top\":0.0,\"left\":0.0,\"width\":0.0,\"height\":0.0,\"text\":\"\"},{\"top\":0.0,\"left\":0.0,\"width\":0.0,\"height\":0.0,\"text\":\"\"},{\"top\":0.0,\"left\":0.0,\"width\":0.0,\"height\":0.0,\"text\":\"\"},{\"top\":521.4,\"left\":416.38,\"width\":23.782012939453125,\"height\":3.700000047683716,\"text\":\"ICD10\"},{\"top\":523.92,\"left\":526.1,\"width\":4.449999809265137,\"height\":3.700000047683716,\"text\":\"5\"}],[{\"top\":540.91,\"left\":48.82,\"width\":149.56167602539062,\"height\":3.700000047683716,\"text\":\"E611 Iron deficiency\"},{\"top\":0.0,\"left\":0.0,\"width\":0.0,\"height\":0.0,\"text\":\"\"},{\"top\":0.0,\"left\":0.0,\"width\":0.0,\"height\":0.0,\"text\":\"\"},{\"top\":0.0,\"left\":0.0,\"width\":0.0,\"height\":0.0,\"text\":\"\"},{\"top\":540.91,\"left\":416.38,\"width\":23.782012939453125,\"height\":3.700000047683716,\"text\":\"ICD10\"},{\"top\":543.43,\"left\":526.1,\"width\":4.449999809265137,\"height\":3.700000047683716,\"text\":\"5\"}],[{\"top\":560.35,\"left\":48.82,\"width\":182.03341674804688,\"height\":3.700000047683716,\"text\":\"I951 Orthostatic hypotension\"},{\"top\":0.0,\"left\":0.0,\"width\":0.0,\"height\":0.0,\"text\":\"\"},{\"top\":0.0,\"left\":0.0,\"width\":0.0,\"height\":0.0,\"text\":\"\"},{\"top\":0.0,\"left\":0.0,\"width\":0.0,\"height\":0.0,\"text\":\"\"},{\"top\":560.35,\"left\":416.38,\"width\":23.782012939453125,\"height\":3.700000047683716,\"text\":\"ICD10\"},{\"top\":562.87,\"left\":526.1,\"width\":4.449999809265137,\"height\":3.700000047683716,\"text\":\"5\"}],[{\"top\":579.86,\"left\":48.82,\"width\":293.56744384765625,\"height\":3.700000047683716,\"text\":\"N920 Excessive and frequent menstruation with regular cycle\"},{\"top\":0.0,\"left\":0.0,\"width\":0.0,\"height\":0.0,\"text\":\"\"},{\"top\":0.0,\"left\":0.0,\"width\":0.0,\"height\":0.0,\"text\":\"\"},{\"top\":0.0,\"left\":0.0,\"width\":0.0,\"height\":0.0,\"text\":\"\"},{\"top\":579.86,\"left\":416.38,\"width\":23.782012939453125,\"height\":3.700000047683716,\"text\":\"ICD10\"},{\"top\":582.38,\"left\":526.1,\"width\":4.449999809265137,\"height\":3.700000047683716,\"text\":\"5\"}],[{\"top\":599.37,\"left\":48.82,\"width\":173.55569458007812,\"height\":3.700000047683716,\"text\":\"R197 Diarrhea, unspecified\"},{\"top\":0.0,\"left\":0.0,\"width\":0.0,\"height\":0.0,\"text\":\"\"},{\"top\":0.0,\"left\":0.0,\"width\":0.0,\"height\":0.0,\"text\":\"\"},{\"top\":0.0,\"left\":0.0,\"width\":0.0,\"height\":0.0,\"text\":\"\"},{\"top\":599.37,\"left\":416.38,\"width\":23.782012939453125,\"height\":3.700000047683716,\"text\":\"ICD10\"},{\"top\":601.89,\"left\":526.1,\"width\":4.449999809265137,\"height\":3.700000047683716,\"text\":\"5\"}],[{\"top\":618.88,\"left\":48.82,\"width\":330.5780029296875,\"height\":3.700000047683716,\"text\":\"R7889 Finding of other specified substances, not normally found in blood\"},{\"top\":0.0,\"left\":0.0,\"width\":0.0,\"height\":0.0,\"text\":\"\"},{\"top\":0.0,\"left\":0.0,\"width\":0.0,\"height\":0.0,\"text\":\"\"},{\"top\":0.0,\"left\":0.0,\"width\":0.0,\"height\":0.0,\"text\":\"\"},{\"top\":618.88,\"left\":416.38,\"width\":23.782012939453125,\"height\":3.700000047683716,\"text\":\"ICD10\"},{\"top\":621.4,\"left\":526.1,\"width\":4.449999809265137,\"height\":3.700000047683716,\"text\":\"5\"}],[{\"top\":640.71,\"left\":136.73,\"width\":51.96000671386719,\"height\":4.630000114440918,\"text\":\"Test Name\"},{\"top\":0.0,\"left\":0.0,\"width\":0.0,\"height\":0.0,\"text\":\"\"},{\"top\":0.0,\"left\":0.0,\"width\":0.0,\"height\":0.0,\"text\":\"\"},{\"top\":640.71,\"left\":313.13,\"width\":37.510009765625,\"height\":4.630000114440918,\"text\":\"Results\"},{\"top\":640.71,\"left\":391.18,\"width\":83.08001708984375,\"height\":4.630000114440918,\"text\":\"Reference Range\"},{\"top\":640.71,\"left\":511.7,\"width\":27.789979934692383,\"height\":4.630000114440918,\"text\":\"Score\"}],[{\"top\":658.92,\"left\":48.82,\"width\":40.67200469970703,\"height\":3.700000047683716,\"text\":\"GLUCOSE\"},{\"top\":0.0,\"left\":0.0,\"width\":0.0,\"height\":0.0,\"text\":\"\"},{\"top\":0.0,\"left\":0.0,\"width\":0.0,\"height\":0.0,\"text\":\"\"},{\"top\":658.92,\"left\":320.54,\"width\":22.46197509765625,\"height\":3.700000047683716,\"text\":\"100 H\"},{\"top\":658.92,\"left\":387.22,\"width\":46.022003173828125,\"height\":3.700000047683716,\"text\":\"65-99 mg/dL\"},{\"top\":658.92,\"left\":519.12,\"width\":4.449999809265137,\"height\":3.700000047683716,\"text\":\"5\"}],[{\"top\":676.92,\"left\":48.82,\"width\":111.7719955444336,\"height\":3.700000047683716,\"text\":\"WHITE BLOOD CELL COUNT\"},{\"top\":0.0,\"left\":0.0,\"width\":0.0,\"height\":0.0,\"text\":\"\"},{\"top\":0.0,\"left\":0.0,\"width\":0.0,\"height\":0.0,\"text\":\"\"},{\"top\":676.92,\"left\":322.13,\"width\":19.342010498046875,\"height\":3.700000047683716,\"text\":\"3.2 L\"},{\"top\":676.92,\"left\":387.22,\"width\":79.38201904296875,\"height\":3.700000047683716,\"text\":\"3.8-10.8 Thousand/uL\"},{\"top\":676.92,\"left\":519.12,\"width\":4.449999809265137,\"height\":3.700000047683716,\"text\":\"5\"}],[{\"top\":694.92,\"left\":48.82,\"width\":20.211997985839844,\"height\":3.700000047683716,\"text\":\"RDW\"},{\"top\":0.0,\"left\":0.0,\"width\":0.0,\"height\":0.0,\"text\":\"\"},{\"top\":0.0,\"left\":0.0,\"width\":0.0,\"height\":0.0,\"text\":\"\"},{\"top\":694.92,\"left\":319.46,\"width\":24.6920166015625,\"height\":3.700000047683716,\"text\":\"15.6 H\"},{\"top\":694.92,\"left\":387.22,\"width\":44.241973876953125,\"height\":3.700000047683716,\"text\":\"11.0-15.0 %\"},{\"top\":694.92,\"left\":519.12,\"width\":4.449999809265137,\"height\":3.700000047683716,\"text\":\"5\"}],[{\"top\":712.92,\"left\":48.82,\"width\":104.67198944091797,\"height\":3.700000047683716,\"text\":\"ABSOLUTE NEUTROPHILS\"},{\"top\":0.0,\"left\":0.0,\"width\":0.0,\"height\":0.0,\"text\":\"\"},{\"top\":0.0,\"left\":0.0,\"width\":0.0,\"height\":0.0,\"text\":\"\"},{\"top\":712.92,\"left\":318.74,\"width\":26.02203369140625,\"height\":3.700000047683716,\"text\":\"1459 L\"},{\"top\":712.92,\"left\":387.22,\"width\":68.70199584960938,\"height\":3.700000047683716,\"text\":\"1500-7800 cells/uL\"},{\"top\":712.92,\"left\":519.12,\"width\":4.449999809265137,\"height\":3.700000047683716,\"text\":\"5\"}]]},{\"extraction_method\":\"stream\",\"top\":495.0,\"left\":46.0,\"width\":526.0,\"height\":227.0,\"right\":572.0,\"bottom\":722.0,\"data\":[[{\"top\":502.76,\"left\":57.53,\"width\":76.96000671386719,\"height\":4.630000114440918,\"text\":\"Diagnosis Code\"},{\"top\":0.0,\"left\":0.0,\"width\":0.0,\"height\":0.0,\"text\":\"\"},{\"top\":502.76,\"left\":251.57,\"width\":56.399993896484375,\"height\":4.630000114440918,\"text\":\"Description\"},{\"top\":502.76,\"left\":424.51,\"width\":52.510009765625,\"height\":4.630000114440918,\"text\":\"Code Type\"},{\"top\":502.76,\"left\":515.16,\"width\":27.790040969848633,\"height\":4.630000114440918,\"text\":\"Score\"}],[{\"top\":521.4,\"left\":48.82,\"width\":170.00570678710938,\"height\":3.700000047683716,\"text\":\"D649 Anemia, unspecified\"},{\"top\":0.0,\"left\":0.0,\"width\":0.0,\"height\":0.0,\"text\":\"\"},{\"top\":0.0,\"left\":0.0,\"width\":0.0,\"height\":0.0,\"text\":\"\"},{\"top\":521.4,\"left\":416.38,\"width\":23.782012939453125,\"height\":3.700000047683716,\"text\":\"ICD10\"},{\"top\":523.92,\"left\":526.1,\"width\":4.449999809265137,\"height\":3.700000047683716,\"text\":\"5\"}],[{\"top\":540.91,\"left\":48.82,\"width\":149.56167602539062,\"height\":3.700000047683716,\"text\":\"E611 Iron deficiency\"},{\"top\":0.0,\"left\":0.0,\"width\":0.0,\"height\":0.0,\"text\":\"\"},{\"top\":0.0,\"left\":0.0,\"width\":0.0,\"height\":0.0,\"text\":\"\"},{\"top\":540.91,\"left\":416.38,\"width\":23.782012939453125,\"height\":3.700000047683716,\"text\":\"ICD10\"},{\"top\":543.43,\"left\":526.1,\"width\":4.449999809265137,\"height\":3.700000047683716,\"text\":\"5\"}],[{\"top\":560.35,\"left\":48.82,\"width\":182.03341674804688,\"height\":3.700000047683716,\"text\":\"I951 Orthostatic hypotension\"},{\"top\":0.0,\"left\":0.0,\"width\":0.0,\"height\":0.0,\"text\":\"\"},{\"top\":0.0,\"left\":0.0,\"width\":0.0,\"height\":0.0,\"text\":\"\"},{\"top\":560.35,\"left\":416.38,\"width\":23.782012939453125,\"height\":3.700000047683716,\"text\":\"ICD10\"},{\"top\":562.87,\"left\":526.1,\"width\":4.449999809265137,\"height\":3.700000047683716,\"text\":\"5\"}],[{\"top\":579.86,\"left\":48.82,\"width\":293.56744384765625,\"height\":3.700000047683716,\"text\":\"N920 Excessive and frequent menstruation with regular cycle\"},{\"top\":0.0,\"left\":0.0,\"width\":0.0,\"height\":0.0,\"text\":\"\"},{\"top\":0.0,\"left\":0.0,\"width\":0.0,\"height\":0.0,\"text\":\"\"},{\"top\":579.86,\"left\":416.38,\"width\":23.782012939453125,\"height\":3.700000047683716,\"text\":\"ICD10\"},{\"top\":582.38,\"left\":526.1,\"width\":4.449999809265137,\"height\":3.700000047683716,\"text\":\"5\"}],[{\"top\":599.37,\"left\":48.82,\"width\":173.55569458007812,\"height\":3.700000047683716,\"text\":\"R197 Diarrhea, unspecified\"},{\"top\":0.0,\"left\":0.0,\"width\":0.0,\"height\":0.0,\"text\":\"\"},{\"top\":0.0,\"left\":0.0,\"width\":0.0,\"height\":0.0,\"text\":\"\"},{\"top\":599.37,\"left\":416.38,\"width\":23.782012939453125,\"height\":3.700000047683716,\"text\":\"ICD10\"},{\"top\":601.89,\"left\":526.1,\"width\":4.449999809265137,\"height\":3.700000047683716,\"text\":\"5\"}],[{\"top\":618.88,\"left\":48.82,\"width\":330.5780029296875,\"height\":3.700000047683716,\"text\":\"R7889 Finding of other specified substances, not normally found in blood\"},{\"top\":0.0,\"left\":0.0,\"width\":0.0,\"height\":0.0,\"text\":\"\"},{\"top\":0.0,\"left\":0.0,\"width\":0.0,\"height\":0.0,\"text\":\"\"},{\"top\":618.88,\"left\":416.38,\"width\":23.782012939453125,\"height\":3.700000047683716,\"text\":\"ICD10\"},{\"top\":621.4,\"left\":526.1,\"width\":4.449999809265137,\"height\":3.700000047683716,\"text\":\"5\"}],[{\"top\":640.71,\"left\":136.73,\"width\":51.96000671386719,\"height\":4.630000114440918,\"text\":\"Test Name\"},{\"top\":0.0,\"left\":0.0,\"width\":0.0,\"height\":0.0,\"text\":\"\"},{\"top\":640.71,\"left\":313.13,\"width\":37.510009765625,\"height\":4.630000114440918,\"text\":\"Results\"},{\"top\":640.71,\"left\":391.18,\"width\":83.08001708984375,\"height\":4.630000114440918,\"text\":\"Reference Range\"},{\"top\":640.71,\"left\":511.7,\"width\":27.789979934692383,\"height\":4.630000114440918,\"text\":\"Score\"}],[{\"top\":658.92,\"left\":48.82,\"width\":40.67200469970703,\"height\":3.700000047683716,\"text\":\"GLUCOSE\"},{\"top\":0.0,\"left\":0.0,\"width\":0.0,\"height\":0.0,\"text\":\"\"},{\"top\":658.92,\"left\":320.54,\"width\":22.46197509765625,\"height\":3.700000047683716,\"text\":\"100 H\"},{\"top\":658.92,\"left\":387.22,\"width\":46.022003173828125,\"height\":3.700000047683716,\"text\":\"65-99 mg/dL\"},{\"top\":658.92,\"left\":519.12,\"width\":4.449999809265137,\"height\":3.700000047683716,\"text\":\"5\"}],[{\"top\":676.92,\"left\":48.82,\"width\":111.7719955444336,\"height\":3.700000047683716,\"text\":\"WHITE BLOOD CELL COUNT\"},{\"top\":0.0,\"left\":0.0,\"width\":0.0,\"height\":0.0,\"text\":\"\"},{\"top\":676.92,\"left\":322.13,\"width\":19.342010498046875,\"height\":3.700000047683716,\"text\":\"3.2 L\"},{\"top\":676.92,\"left\":387.22,\"width\":79.38201904296875,\"height\":3.700000047683716,\"text\":\"3.8-10.8 Thousand/uL\"},{\"top\":676.92,\"left\":519.12,\"width\":4.449999809265137,\"height\":3.700000047683716,\"text\":\"5\"}],[{\"top\":694.92,\"left\":48.82,\"width\":20.211997985839844,\"height\":3.700000047683716,\"text\":\"RDW\"},{\"top\":0.0,\"left\":0.0,\"width\":0.0,\"height\":0.0,\"text\":\"\"},{\"top\":694.92,\"left\":319.46,\"width\":24.6920166015625,\"height\":3.700000047683716,\"text\":\"15.6 H\"},{\"top\":694.92,\"left\":387.22,\"width\":44.241973876953125,\"height\":3.700000047683716,\"text\":\"11.0-15.0 %\"},{\"top\":694.92,\"left\":519.12,\"width\":4.449999809265137,\"height\":3.700000047683716,\"text\":\"5\"}],[{\"top\":712.92,\"left\":48.82,\"width\":104.67198944091797,\"height\":3.700000047683716,\"text\":\"ABSOLUTE NEUTROPHILS\"},{\"top\":0.0,\"left\":0.0,\"width\":0.0,\"height\":0.0,\"text\":\"\"},{\"top\":712.92,\"left\":318.74,\"width\":26.02203369140625,\"height\":3.700000047683716,\"text\":\"1459 L\"},{\"top\":712.92,\"left\":387.22,\"width\":68.70199584960938,\"height\":3.700000047683716,\"text\":\"1500-7800 cells/uL\"},{\"top\":712.92,\"left\":519.12,\"width\":4.449999809265137,\"height\":3.700000047683716,\"text\":\"5\"}]]}]"
          ]
        }
      ]
    },
    {
      "cell_type": "code",
      "source": [
        "tabula.convert_into(\"redacted1.pdf\", \"test.tsv\", output_format=\"tsv\", \n",
        "                    pages='all', lattice=True, area=[0, 0, 50, 100],\n",
        "                    relative_area=True,\n",
        "                    )"
      ],
      "metadata": {
        "colab": {
          "base_uri": "https://localhost:8080/"
        },
        "id": "AJSVDZAgg0I0",
        "outputId": "b3da4914-6e45-4466-a1a2-41ca7550c88d"
      },
      "execution_count": null,
      "outputs": [
        {
          "output_type": "stream",
          "name": "stderr",
          "text": [
            "WARNING:tabula.io:Got stderr: Oct 18, 2022 9:58:42 AM org.apache.pdfbox.pdmodel.font.PDType1Font <init>\n",
            "WARNING: Using fallback font LiberationSans for base font Symbol\n",
            "Oct 18, 2022 9:58:42 AM org.apache.pdfbox.pdmodel.font.PDType1Font <init>\n",
            "WARNING: Using fallback font LiberationSans for base font ZapfDingbats\n",
            "\n"
          ]
        }
      ]
    },
    {
      "cell_type": "code",
      "source": [
        "!cat test.tsv"
      ],
      "metadata": {
        "id": "h3cKuWzyg6WZ"
      },
      "execution_count": null,
      "outputs": []
    },
    {
      "cell_type": "code",
      "source": [
        "import pandas as pd\n",
        "import json"
      ],
      "metadata": {
        "id": "ByW3kn2_hGIY"
      },
      "execution_count": null,
      "outputs": []
    },
    {
      "cell_type": "code",
      "source": [
        "master_df = pd.read_csv('test.tsv', sep='\\s+', encoding='utf-8', on_bad_lines='skip')"
      ],
      "metadata": {
        "id": "UUmGe5JjitCA"
      },
      "execution_count": null,
      "outputs": []
    },
    {
      "cell_type": "code",
      "source": [
        "out_file = master_df.to_json('test.json', date_format='iso', orient='records')"
      ],
      "metadata": {
        "id": "wq1-yAdziyJG"
      },
      "execution_count": null,
      "outputs": []
    },
    {
      "cell_type": "code",
      "source": [
        "!cat test.json"
      ],
      "metadata": {
        "id": "5vCsSutHjWKL"
      },
      "execution_count": null,
      "outputs": []
    }
  ]
}