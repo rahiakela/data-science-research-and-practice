{
  "nbformat": 4,
  "nbformat_minor": 0,
  "metadata": {
    "colab": {
      "provenance": [],
      "toc_visible": true,
      "authorship_tag": "ABX9TyOkHq5QiNKTU5erarXKF8DM",
      "include_colab_link": true
    },
    "kernelspec": {
      "name": "python3",
      "display_name": "Python 3"
    },
    "language_info": {
      "name": "python"
    }
  },
  "cells": [
    {
      "cell_type": "markdown",
      "metadata": {
        "id": "view-in-github",
        "colab_type": "text"
      },
      "source": [
        "<a href=\"https://colab.research.google.com/github/rahiakela/data-science-research-and-practice/blob/main/data-science-bookcamp/case-study-4--job-resume-improvement/04_extracting_text_from_web_page.ipynb\" target=\"_parent\"><img src=\"https://colab.research.google.com/assets/colab-badge.svg\" alt=\"Open In Colab\"/></a>"
      ]
    },
    {
      "cell_type": "markdown",
      "source": [
        "##Large text analysis using Clustering"
      ],
      "metadata": {
        "id": "CKQ3xygyzGoH"
      }
    },
    {
      "cell_type": "markdown",
      "source": [
        "A markup language is a system for annotating documents\n",
        "that distinguishes the annotations from the document text. \n",
        "\n",
        "In the case of HTML, these annotations are instructions on how to visualize a web page.\n",
        "\n",
        "Web page visualization is usually carried out using a web browser.\n",
        "\n",
        "Of course, during large-scale data analysis, we don’t need to render every page.\n",
        "Computers can process document texts without requiring any visualization. Thus,\n",
        "when analyzing HTML documents, we can focus on the text while skipping over the\n",
        "display instructions.\n",
        "\n",
        "Consequently, a basic knowledge of HTML structure is imperative for online text analysis.\n",
        "\n",
        "With this in mind, we begin this section by reviewing the HTML structure. Then\n",
        "we learn how to parse that structure using Python libraries."
      ],
      "metadata": {
        "id": "fJsYonsIz1lJ"
      }
    },
    {
      "cell_type": "markdown",
      "source": [
        "##Setup"
      ],
      "metadata": {
        "id": "nEaM8U6Lz_Fg"
      }
    },
    {
      "cell_type": "code",
      "source": [
        "!pip install bs4"
      ],
      "metadata": {
        "id": "vpAfzxRYh-Ds"
      },
      "execution_count": null,
      "outputs": []
    },
    {
      "cell_type": "code",
      "source": [
        "import warnings\n",
        "warnings.filterwarnings('ignore')"
      ],
      "metadata": {
        "id": "gtDg8Oyyz__L"
      },
      "execution_count": 2,
      "outputs": []
    },
    {
      "cell_type": "code",
      "source": [
        "from collections import defaultdict\n",
        "from collections import Counter\n",
        "import time\n",
        "import numpy as np\n",
        "import pandas as pd\n",
        "\n",
        "from urllib.request import urlopen\n",
        "from bs4 import BeautifulSoup as bs\n",
        "\n",
        "import seaborn as sns\n",
        "import matplotlib.pyplot as plt\n",
        "from IPython.core.display import display, HTML"
      ],
      "metadata": {
        "id": "TobbrwVl0CWF"
      },
      "execution_count": 29,
      "outputs": []
    },
    {
      "cell_type": "markdown",
      "source": [
        "##HTML document structure"
      ],
      "metadata": {
        "id": "tRYlC_k-0OTX"
      }
    },
    {
      "cell_type": "markdown",
      "source": [
        "Let's explore many common HTML tags."
      ],
      "metadata": {
        "id": "sTg51MOn0QLf"
      }
    },
    {
      "cell_type": "code",
      "source": [
        "# Rendering an HTML string\n",
        "def render(html_contents):\n",
        "  display(HTML(html_contents))\n",
        "\n",
        "html_contents = \"<html>Hello</html>\"\n",
        "render(html_contents)"
      ],
      "metadata": {
        "id": "WCepvD5r0Wq4",
        "colab": {
          "base_uri": "https://localhost:8080/",
          "height": 34
        },
        "outputId": "9035059d-9333-458f-e8eb-b59531381e1f"
      },
      "execution_count": 4,
      "outputs": [
        {
          "output_type": "display_data",
          "data": {
            "text/plain": [
              "<IPython.core.display.HTML object>"
            ],
            "text/html": [
              "<html>Hello</html>"
            ]
          },
          "metadata": {}
        }
      ]
    },
    {
      "cell_type": "code",
      "source": [
        "# Defining a title in HTML\n",
        "title = \"<title>Data Science is Fun</title>\"\n",
        "html_contents = f\"<html>{title}Hello</html>\"\n",
        "render(html_contents)"
      ],
      "metadata": {
        "id": "9gsaUHqR06bp",
        "colab": {
          "base_uri": "https://localhost:8080/",
          "height": 34
        },
        "outputId": "25b195ea-fb48-404d-dff1-f53166ae31bf"
      },
      "execution_count": 5,
      "outputs": [
        {
          "output_type": "display_data",
          "data": {
            "text/plain": [
              "<IPython.core.display.HTML object>"
            ],
            "text/html": [
              "<html><title>Data Science is Fun</title>Hello</html>"
            ]
          },
          "metadata": {}
        }
      ]
    },
    {
      "cell_type": "code",
      "source": [
        "# Adding a head and body to the HTML string\n",
        "head =f\"<head>{title}</head>\"\n",
        "body = \"<body>Hello</body>\"\n",
        "html_contents = f\"<html> {head} {body} </html>\"\n",
        "render(html_contents)"
      ],
      "metadata": {
        "id": "SHYUPbuJ1gpZ",
        "colab": {
          "base_uri": "https://localhost:8080/",
          "height": 34
        },
        "outputId": "aeb26943-1dc4-433e-c105-a43b05068532"
      },
      "execution_count": 6,
      "outputs": [
        {
          "output_type": "display_data",
          "data": {
            "text/plain": [
              "<IPython.core.display.HTML object>"
            ],
            "text/html": [
              "<html> <head><title>Data Science is Fun</title></head> <body>Hello</body> </html>"
            ]
          },
          "metadata": {}
        }
      ]
    },
    {
      "cell_type": "code",
      "source": [
        "# Adding a header to the HTML string\n",
        "header =f\"<h1>Data Science is Fun</h1>\"\n",
        "body = f\"<body>{header}Hello</body>\"\n",
        "html_contents = f\"<html> {title} {body} </html>\"\n",
        "render(html_contents)"
      ],
      "metadata": {
        "colab": {
          "base_uri": "https://localhost:8080/",
          "height": 92
        },
        "id": "ANhKc1npf3HO",
        "outputId": "e9fda689-fe08-4dcf-a5b5-4115f20e43fe"
      },
      "execution_count": 7,
      "outputs": [
        {
          "output_type": "display_data",
          "data": {
            "text/plain": [
              "<IPython.core.display.HTML object>"
            ],
            "text/html": [
              "<html> <title>Data Science is Fun</title> <body><h1>Data Science is Fun</h1>Hello</body> </html>"
            ]
          },
          "metadata": {}
        }
      ]
    },
    {
      "cell_type": "markdown",
      "source": [
        "Let’s add two consecutive paragraphs to our HTML."
      ],
      "metadata": {
        "id": "aJ3Hq8b4uFwG"
      }
    },
    {
      "cell_type": "code",
      "source": [
        "# Adding paragraphs to the HTML string\n",
        "paragraphs = \"\"\n",
        "for i in range(2):\n",
        "  paragraph_string = f\"paragraphs {i} \" * 40\n",
        "  paragraphs += f\"<p>{paragraph_string}</p>\"\n",
        "\n",
        "body = f\"<body>{header}{paragraphs}</body>\"\n",
        "html_contents = f\"<html> {title} {body} </html>\"\n",
        "render(html_contents)"
      ],
      "metadata": {
        "colab": {
          "base_uri": "https://localhost:8080/",
          "height": 262
        },
        "id": "42LzwACquGMm",
        "outputId": "65bd4260-e04e-4832-c53b-f21725a14933"
      },
      "execution_count": 8,
      "outputs": [
        {
          "output_type": "display_data",
          "data": {
            "text/plain": [
              "<IPython.core.display.HTML object>"
            ],
            "text/html": [
              "<html> <title>Data Science is Fun</title> <body><h1>Data Science is Fun</h1><p>paragraphs 0 paragraphs 0 paragraphs 0 paragraphs 0 paragraphs 0 paragraphs 0 paragraphs 0 paragraphs 0 paragraphs 0 paragraphs 0 paragraphs 0 paragraphs 0 paragraphs 0 paragraphs 0 paragraphs 0 paragraphs 0 paragraphs 0 paragraphs 0 paragraphs 0 paragraphs 0 paragraphs 0 paragraphs 0 paragraphs 0 paragraphs 0 paragraphs 0 paragraphs 0 paragraphs 0 paragraphs 0 paragraphs 0 paragraphs 0 paragraphs 0 paragraphs 0 paragraphs 0 paragraphs 0 paragraphs 0 paragraphs 0 paragraphs 0 paragraphs 0 paragraphs 0 paragraphs 0 </p><p>paragraphs 1 paragraphs 1 paragraphs 1 paragraphs 1 paragraphs 1 paragraphs 1 paragraphs 1 paragraphs 1 paragraphs 1 paragraphs 1 paragraphs 1 paragraphs 1 paragraphs 1 paragraphs 1 paragraphs 1 paragraphs 1 paragraphs 1 paragraphs 1 paragraphs 1 paragraphs 1 paragraphs 1 paragraphs 1 paragraphs 1 paragraphs 1 paragraphs 1 paragraphs 1 paragraphs 1 paragraphs 1 paragraphs 1 paragraphs 1 paragraphs 1 paragraphs 1 paragraphs 1 paragraphs 1 paragraphs 1 paragraphs 1 paragraphs 1 paragraphs 1 paragraphs 1 paragraphs 1 </p></body> </html>"
            ]
          },
          "metadata": {}
        }
      ]
    },
    {
      "cell_type": "code",
      "source": [
        "# Adding id attributes to the paragraphs\n",
        "paragraphs = \"\"\n",
        "for i in range(2):\n",
        "  paragraph_string = f\"paragraphs {i} \" * 40\n",
        "  attribute = f\"id='paragraphs {i}'\"\n",
        "  paragraphs += f\"<p {attribute}>{paragraph_string}</p>\"\n",
        "\n",
        "body = f\"<body>{header}{paragraphs}</body>\"\n",
        "html_contents = f\"<html> {title} {body} </html>\"\n",
        "render(html_contents)"
      ],
      "metadata": {
        "colab": {
          "base_uri": "https://localhost:8080/",
          "height": 262
        },
        "id": "p45fXJJLplwe",
        "outputId": "5d866f50-1f3c-4f8b-a716-9eb73a2eeb2c"
      },
      "execution_count": 9,
      "outputs": [
        {
          "output_type": "display_data",
          "data": {
            "text/plain": [
              "<IPython.core.display.HTML object>"
            ],
            "text/html": [
              "<html> <title>Data Science is Fun</title> <body><h1>Data Science is Fun</h1><p id='paragraphs 0'>paragraphs 0 paragraphs 0 paragraphs 0 paragraphs 0 paragraphs 0 paragraphs 0 paragraphs 0 paragraphs 0 paragraphs 0 paragraphs 0 paragraphs 0 paragraphs 0 paragraphs 0 paragraphs 0 paragraphs 0 paragraphs 0 paragraphs 0 paragraphs 0 paragraphs 0 paragraphs 0 paragraphs 0 paragraphs 0 paragraphs 0 paragraphs 0 paragraphs 0 paragraphs 0 paragraphs 0 paragraphs 0 paragraphs 0 paragraphs 0 paragraphs 0 paragraphs 0 paragraphs 0 paragraphs 0 paragraphs 0 paragraphs 0 paragraphs 0 paragraphs 0 paragraphs 0 paragraphs 0 </p><p id='paragraphs 1'>paragraphs 1 paragraphs 1 paragraphs 1 paragraphs 1 paragraphs 1 paragraphs 1 paragraphs 1 paragraphs 1 paragraphs 1 paragraphs 1 paragraphs 1 paragraphs 1 paragraphs 1 paragraphs 1 paragraphs 1 paragraphs 1 paragraphs 1 paragraphs 1 paragraphs 1 paragraphs 1 paragraphs 1 paragraphs 1 paragraphs 1 paragraphs 1 paragraphs 1 paragraphs 1 paragraphs 1 paragraphs 1 paragraphs 1 paragraphs 1 paragraphs 1 paragraphs 1 paragraphs 1 paragraphs 1 paragraphs 1 paragraphs 1 paragraphs 1 paragraphs 1 paragraphs 1 paragraphs 1 </p></body> </html>"
            ]
          },
          "metadata": {}
        }
      ]
    },
    {
      "cell_type": "markdown",
      "source": [
        "Let's create a hyperlink that reads Data Science Bookcamp and link."
      ],
      "metadata": {
        "id": "9Ag-G_OGqBjb"
      }
    },
    {
      "cell_type": "code",
      "source": [
        "link_text = \"Data Science Bookcamp\"\n",
        "url = \"https:/ /www.manning.com/books/data-science-bookcamp\"\n",
        "hyperlink = f\"<a href='{url}'>{link_text}</a>\"\n",
        "new_paragraph = f\"<p id='paragraph 2'>Here is a link to {hyperlink}</p>\"\n",
        "paragraphs += new_paragraph\n",
        "\n",
        "body = f\"<body>{header}{paragraphs}</body>\"\n",
        "html_contents = f\"<html> {title} {body} </html>\"\n",
        "render(html_contents)"
      ],
      "metadata": {
        "colab": {
          "base_uri": "https://localhost:8080/",
          "height": 285
        },
        "id": "2fpM6Ry1qC3k",
        "outputId": "275b11f1-0446-431c-a5f2-9b7e21a8d06a"
      },
      "execution_count": 10,
      "outputs": [
        {
          "output_type": "display_data",
          "data": {
            "text/plain": [
              "<IPython.core.display.HTML object>"
            ],
            "text/html": [
              "<html> <title>Data Science is Fun</title> <body><h1>Data Science is Fun</h1><p id='paragraphs 0'>paragraphs 0 paragraphs 0 paragraphs 0 paragraphs 0 paragraphs 0 paragraphs 0 paragraphs 0 paragraphs 0 paragraphs 0 paragraphs 0 paragraphs 0 paragraphs 0 paragraphs 0 paragraphs 0 paragraphs 0 paragraphs 0 paragraphs 0 paragraphs 0 paragraphs 0 paragraphs 0 paragraphs 0 paragraphs 0 paragraphs 0 paragraphs 0 paragraphs 0 paragraphs 0 paragraphs 0 paragraphs 0 paragraphs 0 paragraphs 0 paragraphs 0 paragraphs 0 paragraphs 0 paragraphs 0 paragraphs 0 paragraphs 0 paragraphs 0 paragraphs 0 paragraphs 0 paragraphs 0 </p><p id='paragraphs 1'>paragraphs 1 paragraphs 1 paragraphs 1 paragraphs 1 paragraphs 1 paragraphs 1 paragraphs 1 paragraphs 1 paragraphs 1 paragraphs 1 paragraphs 1 paragraphs 1 paragraphs 1 paragraphs 1 paragraphs 1 paragraphs 1 paragraphs 1 paragraphs 1 paragraphs 1 paragraphs 1 paragraphs 1 paragraphs 1 paragraphs 1 paragraphs 1 paragraphs 1 paragraphs 1 paragraphs 1 paragraphs 1 paragraphs 1 paragraphs 1 paragraphs 1 paragraphs 1 paragraphs 1 paragraphs 1 paragraphs 1 paragraphs 1 paragraphs 1 paragraphs 1 paragraphs 1 paragraphs 1 </p><p id='paragraph 2'>Here is a link to <a href='https:/ /www.manning.com/books/data-science-bookcamp'>Data Science Bookcamp</a></p></body> </html>"
            ]
          },
          "metadata": {}
        }
      ]
    },
    {
      "cell_type": "markdown",
      "source": [
        "Beyond just headers and paragraphs,\n",
        "we can also visualize lists of texts in an HTML document."
      ],
      "metadata": {
        "id": "YaNOv90vraSF"
      }
    },
    {
      "cell_type": "code",
      "source": [
        "# Adding an unstructured list to the HTML string\n",
        "libraries = ['NumPy', 'SciPy', 'Pandas', 'Scikit-Learn']\n",
        "items = \"\"\n",
        "for library in libraries:\n",
        "  items += f\"<li>{library}</li>\"\n",
        "\n",
        "unstructured_list = f\"<ul>{items}</ul>\"\n",
        "header2 = \"<h2>Common Data Science Libraries</h2>\"\n",
        "body = f\"<body>{header}{paragraphs}{header2}{unstructured_list}</body>\"\n",
        "html_contents = f\"<html> {title} {body} </html>\"\n",
        "render(html_contents)"
      ],
      "metadata": {
        "colab": {
          "base_uri": "https://localhost:8080/",
          "height": 404
        },
        "id": "9Yt3ZdafrauB",
        "outputId": "a6603a4b-fb73-452a-8931-1231645bee2f"
      },
      "execution_count": 11,
      "outputs": [
        {
          "output_type": "display_data",
          "data": {
            "text/plain": [
              "<IPython.core.display.HTML object>"
            ],
            "text/html": [
              "<html> <title>Data Science is Fun</title> <body><h1>Data Science is Fun</h1><p id='paragraphs 0'>paragraphs 0 paragraphs 0 paragraphs 0 paragraphs 0 paragraphs 0 paragraphs 0 paragraphs 0 paragraphs 0 paragraphs 0 paragraphs 0 paragraphs 0 paragraphs 0 paragraphs 0 paragraphs 0 paragraphs 0 paragraphs 0 paragraphs 0 paragraphs 0 paragraphs 0 paragraphs 0 paragraphs 0 paragraphs 0 paragraphs 0 paragraphs 0 paragraphs 0 paragraphs 0 paragraphs 0 paragraphs 0 paragraphs 0 paragraphs 0 paragraphs 0 paragraphs 0 paragraphs 0 paragraphs 0 paragraphs 0 paragraphs 0 paragraphs 0 paragraphs 0 paragraphs 0 paragraphs 0 </p><p id='paragraphs 1'>paragraphs 1 paragraphs 1 paragraphs 1 paragraphs 1 paragraphs 1 paragraphs 1 paragraphs 1 paragraphs 1 paragraphs 1 paragraphs 1 paragraphs 1 paragraphs 1 paragraphs 1 paragraphs 1 paragraphs 1 paragraphs 1 paragraphs 1 paragraphs 1 paragraphs 1 paragraphs 1 paragraphs 1 paragraphs 1 paragraphs 1 paragraphs 1 paragraphs 1 paragraphs 1 paragraphs 1 paragraphs 1 paragraphs 1 paragraphs 1 paragraphs 1 paragraphs 1 paragraphs 1 paragraphs 1 paragraphs 1 paragraphs 1 paragraphs 1 paragraphs 1 paragraphs 1 paragraphs 1 </p><p id='paragraph 2'>Here is a link to <a href='https:/ /www.manning.com/books/data-science-bookcamp'>Data Science Bookcamp</a></p><h2>Common Data Science Libraries</h2><ul><li>NumPy</li><li>SciPy</li><li>Pandas</li><li>Scikit-Learn</li></ul></body> </html>"
            ]
          },
          "metadata": {}
        }
      ]
    },
    {
      "cell_type": "code",
      "source": [
        "# Adding divisions to the HTML string\n",
        "div1 = f\"<div id='paragraphs' class='text'>{paragraphs}</div>\"\n",
        "div2 = f\"<div id='list' class='text'>{header2}{unstructured_list}</div>\"\n",
        "div3 = \"<div id='empty' class='empty'></div>\"\n",
        "\n",
        "body = f\"<body>{header}{div1}{div2}{div3}</body>\"\n",
        "html_contents = f\"<html> {title} {body} </html>\"\n",
        "render(html_contents)"
      ],
      "metadata": {
        "colab": {
          "base_uri": "https://localhost:8080/",
          "height": 404
        },
        "id": "ZGpFi6lOsP2m",
        "outputId": "e43d4211-7e78-4ecf-ac08-cdf0c13c459c"
      },
      "execution_count": 12,
      "outputs": [
        {
          "output_type": "display_data",
          "data": {
            "text/plain": [
              "<IPython.core.display.HTML object>"
            ],
            "text/html": [
              "<html> <title>Data Science is Fun</title> <body><h1>Data Science is Fun</h1><div id='paragraphs' class='text'><p id='paragraphs 0'>paragraphs 0 paragraphs 0 paragraphs 0 paragraphs 0 paragraphs 0 paragraphs 0 paragraphs 0 paragraphs 0 paragraphs 0 paragraphs 0 paragraphs 0 paragraphs 0 paragraphs 0 paragraphs 0 paragraphs 0 paragraphs 0 paragraphs 0 paragraphs 0 paragraphs 0 paragraphs 0 paragraphs 0 paragraphs 0 paragraphs 0 paragraphs 0 paragraphs 0 paragraphs 0 paragraphs 0 paragraphs 0 paragraphs 0 paragraphs 0 paragraphs 0 paragraphs 0 paragraphs 0 paragraphs 0 paragraphs 0 paragraphs 0 paragraphs 0 paragraphs 0 paragraphs 0 paragraphs 0 </p><p id='paragraphs 1'>paragraphs 1 paragraphs 1 paragraphs 1 paragraphs 1 paragraphs 1 paragraphs 1 paragraphs 1 paragraphs 1 paragraphs 1 paragraphs 1 paragraphs 1 paragraphs 1 paragraphs 1 paragraphs 1 paragraphs 1 paragraphs 1 paragraphs 1 paragraphs 1 paragraphs 1 paragraphs 1 paragraphs 1 paragraphs 1 paragraphs 1 paragraphs 1 paragraphs 1 paragraphs 1 paragraphs 1 paragraphs 1 paragraphs 1 paragraphs 1 paragraphs 1 paragraphs 1 paragraphs 1 paragraphs 1 paragraphs 1 paragraphs 1 paragraphs 1 paragraphs 1 paragraphs 1 paragraphs 1 </p><p id='paragraph 2'>Here is a link to <a href='https:/ /www.manning.com/books/data-science-bookcamp'>Data Science Bookcamp</a></p></div><div id='list' class='text'><h2>Common Data Science Libraries</h2><ul><li>NumPy</li><li>SciPy</li><li>Pandas</li><li>Scikit-Learn</li></ul></div><div id='empty' class='empty'></div></body> </html>"
            ]
          },
          "metadata": {}
        }
      ]
    },
    {
      "cell_type": "code",
      "source": [
        "# Printing the altered HTML string\n",
        "print(html_contents)"
      ],
      "metadata": {
        "colab": {
          "base_uri": "https://localhost:8080/"
        },
        "id": "ktHfiibdsmre",
        "outputId": "74afc2cf-a8de-4ad8-e920-56bd61622e42"
      },
      "execution_count": 13,
      "outputs": [
        {
          "output_type": "stream",
          "name": "stdout",
          "text": [
            "<html> <title>Data Science is Fun</title> <body><h1>Data Science is Fun</h1><div id='paragraphs' class='text'><p id='paragraphs 0'>paragraphs 0 paragraphs 0 paragraphs 0 paragraphs 0 paragraphs 0 paragraphs 0 paragraphs 0 paragraphs 0 paragraphs 0 paragraphs 0 paragraphs 0 paragraphs 0 paragraphs 0 paragraphs 0 paragraphs 0 paragraphs 0 paragraphs 0 paragraphs 0 paragraphs 0 paragraphs 0 paragraphs 0 paragraphs 0 paragraphs 0 paragraphs 0 paragraphs 0 paragraphs 0 paragraphs 0 paragraphs 0 paragraphs 0 paragraphs 0 paragraphs 0 paragraphs 0 paragraphs 0 paragraphs 0 paragraphs 0 paragraphs 0 paragraphs 0 paragraphs 0 paragraphs 0 paragraphs 0 </p><p id='paragraphs 1'>paragraphs 1 paragraphs 1 paragraphs 1 paragraphs 1 paragraphs 1 paragraphs 1 paragraphs 1 paragraphs 1 paragraphs 1 paragraphs 1 paragraphs 1 paragraphs 1 paragraphs 1 paragraphs 1 paragraphs 1 paragraphs 1 paragraphs 1 paragraphs 1 paragraphs 1 paragraphs 1 paragraphs 1 paragraphs 1 paragraphs 1 paragraphs 1 paragraphs 1 paragraphs 1 paragraphs 1 paragraphs 1 paragraphs 1 paragraphs 1 paragraphs 1 paragraphs 1 paragraphs 1 paragraphs 1 paragraphs 1 paragraphs 1 paragraphs 1 paragraphs 1 paragraphs 1 paragraphs 1 </p><p id='paragraph 2'>Here is a link to <a href='https:/ /www.manning.com/books/data-science-bookcamp'>Data Science Bookcamp</a></p></div><div id='list' class='text'><h2>Common Data Science Libraries</h2><ul><li>NumPy</li><li>SciPy</li><li>Pandas</li><li>Scikit-Learn</li></ul></div><div id='empty' class='empty'></div></body> </html>\n"
          ]
        }
      ]
    },
    {
      "cell_type": "markdown",
      "source": [
        "Next, we’d need to go one index over and extract the\n",
        "string containing the title’s text. \n",
        "\n",
        "Finally, we’d have to clean the title string by splitting on\n",
        "the remaining < bracket."
      ],
      "metadata": {
        "id": "7FPEZQ-csynw"
      }
    },
    {
      "cell_type": "code",
      "source": [
        "# Extracting the HTML title using basic Python\n",
        "split_contents = html_contents.split(\">\")\n",
        "for i, substring in enumerate(split_contents):\n",
        "  if substring.endswith(\"<title\"):\n",
        "    next_string = split_contents[i + 1]\n",
        "    title = next_string.split(\"<\")[0]\n",
        "    print(title)\n",
        "    break"
      ],
      "metadata": {
        "colab": {
          "base_uri": "https://localhost:8080/"
        },
        "id": "yr78LmETssPL",
        "outputId": "553aa3cd-15ec-41ca-8a30-07e4142bbc36"
      },
      "execution_count": 14,
      "outputs": [
        {
          "output_type": "stream",
          "name": "stdout",
          "text": [
            "Data Science is Fun\n"
          ]
        }
      ]
    },
    {
      "cell_type": "markdown",
      "source": [
        "Is there a cleaner way to extract elements from HTML documents? \n",
        "\n",
        "Yes! We don’t\n",
        "need to manually parse the documents. \n",
        "\n",
        "Instead, we can use the external **Beautiful\n",
        "Soup** library."
      ],
      "metadata": {
        "id": "sITCXoxWu3Rw"
      }
    },
    {
      "cell_type": "markdown",
      "source": [
        "##Parsing HTML"
      ],
      "metadata": {
        "id": "ENigYOFrs2vg"
      }
    },
    {
      "cell_type": "markdown",
      "source": [
        "We now initialize the BeautifulSoup class by running `bs(html_contents`."
      ],
      "metadata": {
        "id": "DPYPSm1hs3Y8"
      }
    },
    {
      "cell_type": "code",
      "source": [
        "# Printing readable HTML\n",
        "soup = bs(html_contents)\n",
        "print(soup.prettify())"
      ],
      "metadata": {
        "id": "y1yvj19XWCsI",
        "outputId": "0caa38e6-52c4-458f-ec16-48baa4f62dd2",
        "colab": {
          "base_uri": "https://localhost:8080/"
        }
      },
      "execution_count": 15,
      "outputs": [
        {
          "output_type": "stream",
          "name": "stdout",
          "text": [
            "<html>\n",
            " <head>\n",
            "  <title>\n",
            "   Data Science is Fun\n",
            "  </title>\n",
            " </head>\n",
            " <body>\n",
            "  <h1>\n",
            "   Data Science is Fun\n",
            "  </h1>\n",
            "  <div class=\"text\" id=\"paragraphs\">\n",
            "   <p id=\"paragraphs 0\">\n",
            "    paragraphs 0 paragraphs 0 paragraphs 0 paragraphs 0 paragraphs 0 paragraphs 0 paragraphs 0 paragraphs 0 paragraphs 0 paragraphs 0 paragraphs 0 paragraphs 0 paragraphs 0 paragraphs 0 paragraphs 0 paragraphs 0 paragraphs 0 paragraphs 0 paragraphs 0 paragraphs 0 paragraphs 0 paragraphs 0 paragraphs 0 paragraphs 0 paragraphs 0 paragraphs 0 paragraphs 0 paragraphs 0 paragraphs 0 paragraphs 0 paragraphs 0 paragraphs 0 paragraphs 0 paragraphs 0 paragraphs 0 paragraphs 0 paragraphs 0 paragraphs 0 paragraphs 0 paragraphs 0\n",
            "   </p>\n",
            "   <p id=\"paragraphs 1\">\n",
            "    paragraphs 1 paragraphs 1 paragraphs 1 paragraphs 1 paragraphs 1 paragraphs 1 paragraphs 1 paragraphs 1 paragraphs 1 paragraphs 1 paragraphs 1 paragraphs 1 paragraphs 1 paragraphs 1 paragraphs 1 paragraphs 1 paragraphs 1 paragraphs 1 paragraphs 1 paragraphs 1 paragraphs 1 paragraphs 1 paragraphs 1 paragraphs 1 paragraphs 1 paragraphs 1 paragraphs 1 paragraphs 1 paragraphs 1 paragraphs 1 paragraphs 1 paragraphs 1 paragraphs 1 paragraphs 1 paragraphs 1 paragraphs 1 paragraphs 1 paragraphs 1 paragraphs 1 paragraphs 1\n",
            "   </p>\n",
            "   <p id=\"paragraph 2\">\n",
            "    Here is a link to\n",
            "    <a href=\"https:/ /www.manning.com/books/data-science-bookcamp\">\n",
            "     Data Science Bookcamp\n",
            "    </a>\n",
            "   </p>\n",
            "  </div>\n",
            "  <div class=\"text\" id=\"list\">\n",
            "   <h2>\n",
            "    Common Data Science Libraries\n",
            "   </h2>\n",
            "   <ul>\n",
            "    <li>\n",
            "     NumPy\n",
            "    </li>\n",
            "    <li>\n",
            "     SciPy\n",
            "    </li>\n",
            "    <li>\n",
            "     Pandas\n",
            "    </li>\n",
            "    <li>\n",
            "     Scikit-Learn\n",
            "    </li>\n",
            "   </ul>\n",
            "  </div>\n",
            "  <div class=\"empty\" id=\"empty\">\n",
            "  </div>\n",
            " </body>\n",
            "</html>\n"
          ]
        }
      ]
    },
    {
      "cell_type": "code",
      "source": [
        "# Extracting the title\n",
        "title = soup.find(\"title\")\n",
        "print(title)\n",
        "print(type(title))\n",
        "print(title.text)"
      ],
      "metadata": {
        "id": "VcokX9ptWW5W",
        "outputId": "e3655788-fcc6-4f42-a19f-0bb649aaecac",
        "colab": {
          "base_uri": "https://localhost:8080/"
        }
      },
      "execution_count": 16,
      "outputs": [
        {
          "output_type": "stream",
          "name": "stdout",
          "text": [
            "<title>Data Science is Fun</title>\n",
            "<class 'bs4.element.Tag'>\n",
            "Data Science is Fun\n"
          ]
        }
      ]
    },
    {
      "cell_type": "code",
      "source": [
        "# Accessing the title’s text attribute\n",
        "assert soup.title.text == title.text"
      ],
      "metadata": {
        "id": "QRq46LneWsiI"
      },
      "execution_count": 17,
      "outputs": []
    },
    {
      "cell_type": "code",
      "source": [
        "# Accessing the body’s text attribute\n",
        "body = soup.body\n",
        "print(body.text)"
      ],
      "metadata": {
        "id": "RbwJIk0qWz2D",
        "outputId": "c785b511-1582-47b7-e6b8-affd021b4eb5",
        "colab": {
          "base_uri": "https://localhost:8080/"
        }
      },
      "execution_count": 18,
      "outputs": [
        {
          "output_type": "stream",
          "name": "stdout",
          "text": [
            "Data Science is Funparagraphs 0 paragraphs 0 paragraphs 0 paragraphs 0 paragraphs 0 paragraphs 0 paragraphs 0 paragraphs 0 paragraphs 0 paragraphs 0 paragraphs 0 paragraphs 0 paragraphs 0 paragraphs 0 paragraphs 0 paragraphs 0 paragraphs 0 paragraphs 0 paragraphs 0 paragraphs 0 paragraphs 0 paragraphs 0 paragraphs 0 paragraphs 0 paragraphs 0 paragraphs 0 paragraphs 0 paragraphs 0 paragraphs 0 paragraphs 0 paragraphs 0 paragraphs 0 paragraphs 0 paragraphs 0 paragraphs 0 paragraphs 0 paragraphs 0 paragraphs 0 paragraphs 0 paragraphs 0 paragraphs 1 paragraphs 1 paragraphs 1 paragraphs 1 paragraphs 1 paragraphs 1 paragraphs 1 paragraphs 1 paragraphs 1 paragraphs 1 paragraphs 1 paragraphs 1 paragraphs 1 paragraphs 1 paragraphs 1 paragraphs 1 paragraphs 1 paragraphs 1 paragraphs 1 paragraphs 1 paragraphs 1 paragraphs 1 paragraphs 1 paragraphs 1 paragraphs 1 paragraphs 1 paragraphs 1 paragraphs 1 paragraphs 1 paragraphs 1 paragraphs 1 paragraphs 1 paragraphs 1 paragraphs 1 paragraphs 1 paragraphs 1 paragraphs 1 paragraphs 1 paragraphs 1 paragraphs 1 Here is a link to Data Science BookcampCommon Data Science LibrariesNumPySciPyPandasScikit-Learn\n"
          ]
        }
      ]
    },
    {
      "cell_type": "code",
      "source": [
        "# Accessing the text of the first paragraph\n",
        "assert body.p.text == soup.p.text\n",
        "print(soup.p.text)"
      ],
      "metadata": {
        "id": "1zcZ4tIoW-09",
        "outputId": "4d50d658-de07-426a-c94e-6a69545c7508",
        "colab": {
          "base_uri": "https://localhost:8080/"
        }
      },
      "execution_count": 19,
      "outputs": [
        {
          "output_type": "stream",
          "name": "stdout",
          "text": [
            "paragraphs 0 paragraphs 0 paragraphs 0 paragraphs 0 paragraphs 0 paragraphs 0 paragraphs 0 paragraphs 0 paragraphs 0 paragraphs 0 paragraphs 0 paragraphs 0 paragraphs 0 paragraphs 0 paragraphs 0 paragraphs 0 paragraphs 0 paragraphs 0 paragraphs 0 paragraphs 0 paragraphs 0 paragraphs 0 paragraphs 0 paragraphs 0 paragraphs 0 paragraphs 0 paragraphs 0 paragraphs 0 paragraphs 0 paragraphs 0 paragraphs 0 paragraphs 0 paragraphs 0 paragraphs 0 paragraphs 0 paragraphs 0 paragraphs 0 paragraphs 0 paragraphs 0 paragraphs 0 \n"
          ]
        }
      ]
    },
    {
      "cell_type": "code",
      "source": [
        "# Accessing all paragraphs in the body\n",
        "paragraphs = body.find_all(\"p\")\n",
        "for i, paragraph in enumerate(paragraphs):\n",
        "  print(f\"\\nPARAGRAPH {i}:\")\n",
        "  print(paragraph.text)"
      ],
      "metadata": {
        "id": "-Rw9TFFwXLIA",
        "outputId": "7ac7c10d-b30d-4cb3-c56d-5c5b620d900e",
        "colab": {
          "base_uri": "https://localhost:8080/"
        }
      },
      "execution_count": 20,
      "outputs": [
        {
          "output_type": "stream",
          "name": "stdout",
          "text": [
            "\n",
            "PARAGRAPH 0:\n",
            "paragraphs 0 paragraphs 0 paragraphs 0 paragraphs 0 paragraphs 0 paragraphs 0 paragraphs 0 paragraphs 0 paragraphs 0 paragraphs 0 paragraphs 0 paragraphs 0 paragraphs 0 paragraphs 0 paragraphs 0 paragraphs 0 paragraphs 0 paragraphs 0 paragraphs 0 paragraphs 0 paragraphs 0 paragraphs 0 paragraphs 0 paragraphs 0 paragraphs 0 paragraphs 0 paragraphs 0 paragraphs 0 paragraphs 0 paragraphs 0 paragraphs 0 paragraphs 0 paragraphs 0 paragraphs 0 paragraphs 0 paragraphs 0 paragraphs 0 paragraphs 0 paragraphs 0 paragraphs 0 \n",
            "\n",
            "PARAGRAPH 1:\n",
            "paragraphs 1 paragraphs 1 paragraphs 1 paragraphs 1 paragraphs 1 paragraphs 1 paragraphs 1 paragraphs 1 paragraphs 1 paragraphs 1 paragraphs 1 paragraphs 1 paragraphs 1 paragraphs 1 paragraphs 1 paragraphs 1 paragraphs 1 paragraphs 1 paragraphs 1 paragraphs 1 paragraphs 1 paragraphs 1 paragraphs 1 paragraphs 1 paragraphs 1 paragraphs 1 paragraphs 1 paragraphs 1 paragraphs 1 paragraphs 1 paragraphs 1 paragraphs 1 paragraphs 1 paragraphs 1 paragraphs 1 paragraphs 1 paragraphs 1 paragraphs 1 paragraphs 1 paragraphs 1 \n",
            "\n",
            "PARAGRAPH 2:\n",
            "Here is a link to Data Science Bookcamp\n"
          ]
        }
      ]
    },
    {
      "cell_type": "code",
      "source": [
        "# Accessing all bullet points in the body\n",
        "print([bullet.text for bullet in body.find_all(\"li\")])"
      ],
      "metadata": {
        "id": "IAah5ShbXiKf",
        "outputId": "553b7479-8271-4283-9e51-147ebf54663c",
        "colab": {
          "base_uri": "https://localhost:8080/"
        }
      },
      "execution_count": 21,
      "outputs": [
        {
          "output_type": "stream",
          "name": "stdout",
          "text": [
            "['NumPy', 'SciPy', 'Pandas', 'Scikit-Learn']\n"
          ]
        }
      ]
    },
    {
      "cell_type": "code",
      "source": [
        "# Accessing a paragraph by ID\n",
        "paragraph_2 = soup.find(id=\"paragraph 2\")\n",
        "print(paragraph_2.text)"
      ],
      "metadata": {
        "id": "HvyKQDUpXxFc",
        "outputId": "aec70507-6f35-43fe-ac2c-c9dc50f8730a",
        "colab": {
          "base_uri": "https://localhost:8080/"
        }
      },
      "execution_count": 22,
      "outputs": [
        {
          "output_type": "stream",
          "name": "stdout",
          "text": [
            "Here is a link to Data Science Bookcamp\n"
          ]
        }
      ]
    },
    {
      "cell_type": "code",
      "source": [
        "# Accessing an attribute in a tag\n",
        "assert paragraph_2.get(\"id\") == \"paragraph 2\"\n",
        "print(paragraph_2.a.get(\"href\"))"
      ],
      "metadata": {
        "id": "KiZDTH_NX8yq",
        "outputId": "5ad3faa3-966d-4235-ffb4-6b1be549c5e6",
        "colab": {
          "base_uri": "https://localhost:8080/"
        }
      },
      "execution_count": 23,
      "outputs": [
        {
          "output_type": "stream",
          "name": "stdout",
          "text": [
            "https:/ /www.manning.com/books/data-science-bookcamp\n"
          ]
        }
      ]
    },
    {
      "cell_type": "code",
      "source": [
        "# Accessing divisions by their shared class attribute\n",
        "for division in soup.find_all(\"div\", class_=\"text\"):\n",
        "  id_ = division.get(\"id\")\n",
        "  print(f\"\\nDivision with id '{id_}':\")\n",
        "  print(division.text)"
      ],
      "metadata": {
        "id": "s5ZAGOJEYQ9n",
        "outputId": "69c3b73f-04b3-4ee9-92e9-a584646c7ffd",
        "colab": {
          "base_uri": "https://localhost:8080/"
        }
      },
      "execution_count": 24,
      "outputs": [
        {
          "output_type": "stream",
          "name": "stdout",
          "text": [
            "\n",
            "Division with id 'paragraphs':\n",
            "paragraphs 0 paragraphs 0 paragraphs 0 paragraphs 0 paragraphs 0 paragraphs 0 paragraphs 0 paragraphs 0 paragraphs 0 paragraphs 0 paragraphs 0 paragraphs 0 paragraphs 0 paragraphs 0 paragraphs 0 paragraphs 0 paragraphs 0 paragraphs 0 paragraphs 0 paragraphs 0 paragraphs 0 paragraphs 0 paragraphs 0 paragraphs 0 paragraphs 0 paragraphs 0 paragraphs 0 paragraphs 0 paragraphs 0 paragraphs 0 paragraphs 0 paragraphs 0 paragraphs 0 paragraphs 0 paragraphs 0 paragraphs 0 paragraphs 0 paragraphs 0 paragraphs 0 paragraphs 0 paragraphs 1 paragraphs 1 paragraphs 1 paragraphs 1 paragraphs 1 paragraphs 1 paragraphs 1 paragraphs 1 paragraphs 1 paragraphs 1 paragraphs 1 paragraphs 1 paragraphs 1 paragraphs 1 paragraphs 1 paragraphs 1 paragraphs 1 paragraphs 1 paragraphs 1 paragraphs 1 paragraphs 1 paragraphs 1 paragraphs 1 paragraphs 1 paragraphs 1 paragraphs 1 paragraphs 1 paragraphs 1 paragraphs 1 paragraphs 1 paragraphs 1 paragraphs 1 paragraphs 1 paragraphs 1 paragraphs 1 paragraphs 1 paragraphs 1 paragraphs 1 paragraphs 1 paragraphs 1 Here is a link to Data Science Bookcamp\n",
            "\n",
            "Division with id 'list':\n",
            "Common Data Science LibrariesNumPySciPyPandasScikit-Learn\n"
          ]
        }
      ]
    },
    {
      "cell_type": "code",
      "source": [
        "# Paragraph deletion\n",
        "body.find(id=\"paragraphs 0\").decompose()\n",
        "soup.find(id=\"paragraphs 1\").decompose()\n",
        "print(body.find(id=\"paragraphs\").text)"
      ],
      "metadata": {
        "id": "LoEJm0QRYsFq",
        "outputId": "86827f9a-bdc5-4000-95cb-72b688043940",
        "colab": {
          "base_uri": "https://localhost:8080/"
        }
      },
      "execution_count": 25,
      "outputs": [
        {
          "output_type": "stream",
          "name": "stdout",
          "text": [
            "Here is a link to Data Science Bookcamp\n"
          ]
        }
      ]
    },
    {
      "cell_type": "code",
      "source": [
        "# Initializing an empty paragraph Tag\n",
        "new_paragraph = soup.new_tag(\"p\")\n",
        "print(new_paragraph)"
      ],
      "metadata": {
        "id": "52QkDn-OZU5D",
        "outputId": "05208168-4e7e-4538-c448-63068b5bec79",
        "colab": {
          "base_uri": "https://localhost:8080/"
        }
      },
      "execution_count": 26,
      "outputs": [
        {
          "output_type": "stream",
          "name": "stdout",
          "text": [
            "<p></p>\n"
          ]
        }
      ]
    },
    {
      "cell_type": "code",
      "source": [
        "# Updating the text of an empty paragraph\n",
        "new_paragraph.string = \"This paragraph is new\"\n",
        "print(new_paragraph)"
      ],
      "metadata": {
        "id": "s90mDz7EZerq",
        "outputId": "a036f130-d16f-457c-a787-cd269d866146",
        "colab": {
          "base_uri": "https://localhost:8080/"
        }
      },
      "execution_count": 27,
      "outputs": [
        {
          "output_type": "stream",
          "name": "stdout",
          "text": [
            "<p>This paragraph is new</p>\n"
          ]
        }
      ]
    },
    {
      "cell_type": "code",
      "source": [
        "# Paragraph insertion\n",
        "soup.find(id=\"empty\").append(new_paragraph)\n",
        "render(soup.prettify())"
      ],
      "metadata": {
        "id": "IQcuOT-VZozR",
        "outputId": "6ef921fa-fdf4-4575-af41-0584de0e7ce6",
        "colab": {
          "base_uri": "https://localhost:8080/",
          "height": 242
        }
      },
      "execution_count": 28,
      "outputs": [
        {
          "output_type": "display_data",
          "data": {
            "text/plain": [
              "<IPython.core.display.HTML object>"
            ],
            "text/html": [
              "<html>\n",
              " <head>\n",
              "  <title>\n",
              "   Data Science is Fun\n",
              "  </title>\n",
              " </head>\n",
              " <body>\n",
              "  <h1>\n",
              "   Data Science is Fun\n",
              "  </h1>\n",
              "  <div class=\"text\" id=\"paragraphs\">\n",
              "   <p id=\"paragraph 2\">\n",
              "    Here is a link to\n",
              "    <a href=\"https:/ /www.manning.com/books/data-science-bookcamp\">\n",
              "     Data Science Bookcamp\n",
              "    </a>\n",
              "   </p>\n",
              "  </div>\n",
              "  <div class=\"text\" id=\"list\">\n",
              "   <h2>\n",
              "    Common Data Science Libraries\n",
              "   </h2>\n",
              "   <ul>\n",
              "    <li>\n",
              "     NumPy\n",
              "    </li>\n",
              "    <li>\n",
              "     SciPy\n",
              "    </li>\n",
              "    <li>\n",
              "     Pandas\n",
              "    </li>\n",
              "    <li>\n",
              "     Scikit-Learn\n",
              "    </li>\n",
              "   </ul>\n",
              "  </div>\n",
              "  <div class=\"empty\" id=\"empty\">\n",
              "   <p>\n",
              "    This paragraph is new\n",
              "   </p>\n",
              "  </div>\n",
              " </body>\n",
              "</html>"
            ]
          },
          "metadata": {}
        }
      ]
    },
    {
      "cell_type": "markdown",
      "source": [
        "##Parsing online data"
      ],
      "metadata": {
        "id": "J1a4si22Z4ng"
      }
    },
    {
      "cell_type": "markdown",
      "source": [
        "Let’s briefly review the procedure for downloading HTML files."
      ],
      "metadata": {
        "id": "MP6Np_m7Z5RU"
      }
    },
    {
      "cell_type": "code",
      "source": [
        "# Downloading an HTML document\n",
        "url = \"https://www.manning.com/books/data-science-bookcamp\"\n",
        "html_contents = urlopen(url).read()\n",
        "print(html_contents[:1000])"
      ],
      "metadata": {
        "id": "OViX7pzn7yR-",
        "outputId": "3e686973-c817-40cf-9dd5-ad711c93d2b3",
        "colab": {
          "base_uri": "https://localhost:8080/"
        }
      },
      "execution_count": 30,
      "outputs": [
        {
          "output_type": "stream",
          "name": "stdout",
          "text": [
            "b'\\n<!DOCTYPE html>\\n<!--[if lt IE 7 ]> <html lang=\"en\" class=\"no-js ie6 ie\"> <![endif]-->\\n<!--[if IE 7 ]>    <html lang=\"en\" class=\"no-js ie7 ie\"> <![endif]-->\\n<!--[if IE 8 ]>    <html lang=\"en\" class=\"no-js ie8 ie\"> <![endif]-->\\n<!--[if IE 9 ]>    <html lang=\"en\" class=\"no-js ie9 ie\"> <![endif]-->\\n<!--[if (gt IE 9)|!(IE)]><!--> <html lang=\"en\" class=\"no-js\"><!--<![endif]-->\\n\\n<head>\\n    <meta name=\"theme-color\" content=\"#333333\">\\n    <title>Data Science Bookcamp</title>\\n\\n\\n\\n<meta http-equiv=\"Content-Type\" content=\"text/html; charset=UTF-8\">\\n<meta http-equiv=\"X-UA-Compatible\" content=\"IE=edge\">\\n<meta name=\"viewport\" content=\"width=device-width, initial-scale=1, maximum-scale=1, user-scalable=0\">\\n<meta name=\"application-name\" content=\"Data Science Bookcamp\"/>\\n<meta name=\"apple-mobile-web-app-title\" content=\"Data Science Bookcamp\"/>\\n\\n<meta property=\"og:title\" content=\"Data Science Bookcamp\"/>\\n<meta name=\"twitter:title\" content=\"Data Science Bookcamp\"/>\\n\\n<meta name=\"twitter:site\" content=\"&#64'\n"
          ]
        }
      ]
    },
    {
      "cell_type": "code",
      "source": [
        "# Accessing the title\n",
        "soup = bs(html_contents)\n",
        "print(soup.title.text)"
      ],
      "metadata": {
        "id": "ErQFbc9l8Kwu",
        "outputId": "b60f6baf-fc53-46c0-9f5d-af98b8c3f084",
        "colab": {
          "base_uri": "https://localhost:8080/"
        }
      },
      "execution_count": 31,
      "outputs": [
        {
          "output_type": "stream",
          "name": "stdout",
          "text": [
            "Data Science Bookcamp\n"
          ]
        }
      ]
    },
    {
      "cell_type": "code",
      "source": [
        "# Accessing a description of this book\n",
        "for division in soup.find_all(\"div\"):\n",
        "  header = division.h2\n",
        "  if header is None:\n",
        "    continue\n",
        "  if header.text.lower() == \"about the book\":\n",
        "    print(division.text)"
      ],
      "metadata": {
        "id": "7H_5b9Zo8U6v",
        "outputId": "bdb3c9d1-c3e2-4836-f470-45397ff47752",
        "colab": {
          "base_uri": "https://localhost:8080/"
        }
      },
      "execution_count": 32,
      "outputs": [
        {
          "output_type": "stream",
          "name": "stdout",
          "text": [
            "\n",
            "about the book\n",
            "\n",
            "Data Science Bookcamp doesn’t stop with surface-level theory and toy examples. As you work through each project, you’ll learn how to troubleshoot common problems like missing data, messy data, and algorithms that don’t quite fit the model you’re building. You’ll appreciate the detailed setup instructions and the fully explained solutions that highlight common failure points. In the end, you’ll be confident in your skills because you can see the results.\n",
            "    \n"
          ]
        }
      ]
    },
    {
      "cell_type": "markdown",
      "source": [
        "We are now ready to use Beautiful Soup to parse job postings as part of our case\n",
        "study solution."
      ],
      "metadata": {
        "id": "9fkEBy3j8vdn"
      }
    }
  ]
}