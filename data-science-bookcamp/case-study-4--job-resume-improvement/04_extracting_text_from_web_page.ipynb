{
  "nbformat": 4,
  "nbformat_minor": 0,
  "metadata": {
    "colab": {
      "provenance": [],
      "toc_visible": true,
      "authorship_tag": "ABX9TyMj8Zmuu+gxfLcGqf8WjAL3",
      "include_colab_link": true
    },
    "kernelspec": {
      "name": "python3",
      "display_name": "Python 3"
    },
    "language_info": {
      "name": "python"
    }
  },
  "cells": [
    {
      "cell_type": "markdown",
      "metadata": {
        "id": "view-in-github",
        "colab_type": "text"
      },
      "source": [
        "<a href=\"https://colab.research.google.com/github/rahiakela/data-science-research-and-practice/blob/main/data-science-bookcamp/case-study-4--job-resume-improvement/04_extracting_text_from_web_page.ipynb\" target=\"_parent\"><img src=\"https://colab.research.google.com/assets/colab-badge.svg\" alt=\"Open In Colab\"/></a>"
      ]
    },
    {
      "cell_type": "markdown",
      "source": [
        "##Large text analysis using Clustering"
      ],
      "metadata": {
        "id": "CKQ3xygyzGoH"
      }
    },
    {
      "cell_type": "markdown",
      "source": [
        "A markup language is a system for annotating documents\n",
        "that distinguishes the annotations from the document text. \n",
        "\n",
        "In the case of HTML, these annotations are instructions on how to visualize a web page.\n",
        "\n",
        "Web page visualization is usually carried out using a web browser.\n",
        "\n",
        "Of course, during large-scale data analysis, we don’t need to render every page.\n",
        "Computers can process document texts without requiring any visualization. Thus,\n",
        "when analyzing HTML documents, we can focus on the text while skipping over the\n",
        "display instructions.\n",
        "\n",
        "Consequently, a basic knowledge of HTML structure is imperative for online text analysis.\n",
        "\n",
        "With this in mind, we begin this section by reviewing the HTML structure. Then\n",
        "we learn how to parse that structure using Python libraries."
      ],
      "metadata": {
        "id": "fJsYonsIz1lJ"
      }
    },
    {
      "cell_type": "markdown",
      "source": [
        "##Setup"
      ],
      "metadata": {
        "id": "nEaM8U6Lz_Fg"
      }
    },
    {
      "cell_type": "code",
      "source": [
        "!pip install bs4"
      ],
      "metadata": {
        "id": "vpAfzxRYh-Ds"
      },
      "execution_count": null,
      "outputs": []
    },
    {
      "cell_type": "code",
      "source": [
        "import warnings\n",
        "warnings.filterwarnings('ignore')"
      ],
      "metadata": {
        "id": "gtDg8Oyyz__L"
      },
      "execution_count": 2,
      "outputs": []
    },
    {
      "cell_type": "code",
      "source": [
        "from collections import defaultdict\n",
        "from collections import Counter\n",
        "import time\n",
        "import numpy as np\n",
        "import pandas as pd\n",
        "\n",
        "from bs4 import BeautifulSoup as bs\n",
        "\n",
        "import seaborn as sns\n",
        "import matplotlib.pyplot as plt\n",
        "from IPython.core.display import display, HTML"
      ],
      "metadata": {
        "id": "TobbrwVl0CWF"
      },
      "execution_count": 3,
      "outputs": []
    },
    {
      "cell_type": "markdown",
      "source": [
        "##HTML document structure"
      ],
      "metadata": {
        "id": "tRYlC_k-0OTX"
      }
    },
    {
      "cell_type": "markdown",
      "source": [
        "Let's explore many common HTML tags."
      ],
      "metadata": {
        "id": "sTg51MOn0QLf"
      }
    },
    {
      "cell_type": "code",
      "source": [
        "# Rendering an HTML string\n",
        "def render(html_contents):\n",
        "  display(HTML(html_contents))\n",
        "\n",
        "html_contents = \"<html>Hello</html>\"\n",
        "render(html_contents)"
      ],
      "metadata": {
        "id": "WCepvD5r0Wq4",
        "colab": {
          "base_uri": "https://localhost:8080/",
          "height": 34
        },
        "outputId": "1f31fe17-8745-41a1-e5ed-656c3206ca13"
      },
      "execution_count": 4,
      "outputs": [
        {
          "output_type": "display_data",
          "data": {
            "text/plain": [
              "<IPython.core.display.HTML object>"
            ],
            "text/html": [
              "<html>Hello</html>"
            ]
          },
          "metadata": {}
        }
      ]
    },
    {
      "cell_type": "code",
      "source": [
        "# Defining a title in HTML\n",
        "title = \"<title>Data Science is Fun</title>\"\n",
        "html_contents = f\"<html>{title}Hello</html>\"\n",
        "render(html_contents)"
      ],
      "metadata": {
        "id": "9gsaUHqR06bp",
        "colab": {
          "base_uri": "https://localhost:8080/",
          "height": 34
        },
        "outputId": "e0c7fc6f-b5db-4b59-91d5-0de5adcdbd6b"
      },
      "execution_count": 5,
      "outputs": [
        {
          "output_type": "display_data",
          "data": {
            "text/plain": [
              "<IPython.core.display.HTML object>"
            ],
            "text/html": [
              "<html><title>Data Science is Fun</title>Hello</html>"
            ]
          },
          "metadata": {}
        }
      ]
    },
    {
      "cell_type": "code",
      "source": [
        "# Adding a head and body to the HTML string\n",
        "head =f\"<head>{title}</head>\"\n",
        "body = \"<body>Hello</body>\"\n",
        "html_contents = f\"<html> {head} {body} </html>\"\n",
        "render(html_contents)"
      ],
      "metadata": {
        "id": "SHYUPbuJ1gpZ",
        "colab": {
          "base_uri": "https://localhost:8080/",
          "height": 34
        },
        "outputId": "df26fcad-bb16-4ef6-dc8b-f7e19466a1fc"
      },
      "execution_count": 6,
      "outputs": [
        {
          "output_type": "display_data",
          "data": {
            "text/plain": [
              "<IPython.core.display.HTML object>"
            ],
            "text/html": [
              "<html> <head><title>Data Science is Fun</title></head> <body>Hello</body> </html>"
            ]
          },
          "metadata": {}
        }
      ]
    },
    {
      "cell_type": "code",
      "source": [
        "# Adding a header to the HTML string\n",
        "header =f\"<h1>Data Science is Fun</h1>\"\n",
        "body = f\"<body>{header}Hello</body>\"\n",
        "html_contents = f\"<html> {title} {body} </html>\"\n",
        "render(html_contents)"
      ],
      "metadata": {
        "colab": {
          "base_uri": "https://localhost:8080/",
          "height": 92
        },
        "id": "ANhKc1npf3HO",
        "outputId": "6404f4ae-55ec-4e26-d195-e73e97c1a7ea"
      },
      "execution_count": 7,
      "outputs": [
        {
          "output_type": "display_data",
          "data": {
            "text/plain": [
              "<IPython.core.display.HTML object>"
            ],
            "text/html": [
              "<html> <title>Data Science is Fun</title> <body><h1>Data Science is Fun</h1>Hello</body> </html>"
            ]
          },
          "metadata": {}
        }
      ]
    },
    {
      "cell_type": "markdown",
      "source": [
        "Let’s add two consecutive paragraphs to our HTML."
      ],
      "metadata": {
        "id": "aJ3Hq8b4uFwG"
      }
    },
    {
      "cell_type": "code",
      "source": [
        "# Adding paragraphs to the HTML string\n",
        "paragraphs = \"\"\n",
        "for i in range(2):\n",
        "  paragraph_string = f\"paragraphs {i} \" * 40\n",
        "  paragraphs += f\"<p>{paragraph_string}</p>\"\n",
        "\n",
        "body = f\"<body>{header}{paragraphs}</body>\"\n",
        "html_contents = f\"<html> {title} {body} </html>\"\n",
        "render(html_contents)"
      ],
      "metadata": {
        "colab": {
          "base_uri": "https://localhost:8080/",
          "height": 262
        },
        "id": "42LzwACquGMm",
        "outputId": "186b3153-e386-438f-b3fd-648c018401ea"
      },
      "execution_count": 8,
      "outputs": [
        {
          "output_type": "display_data",
          "data": {
            "text/plain": [
              "<IPython.core.display.HTML object>"
            ],
            "text/html": [
              "<html> <title>Data Science is Fun</title> <body><h1>Data Science is Fun</h1><p>paragraphs 0 paragraphs 0 paragraphs 0 paragraphs 0 paragraphs 0 paragraphs 0 paragraphs 0 paragraphs 0 paragraphs 0 paragraphs 0 paragraphs 0 paragraphs 0 paragraphs 0 paragraphs 0 paragraphs 0 paragraphs 0 paragraphs 0 paragraphs 0 paragraphs 0 paragraphs 0 paragraphs 0 paragraphs 0 paragraphs 0 paragraphs 0 paragraphs 0 paragraphs 0 paragraphs 0 paragraphs 0 paragraphs 0 paragraphs 0 paragraphs 0 paragraphs 0 paragraphs 0 paragraphs 0 paragraphs 0 paragraphs 0 paragraphs 0 paragraphs 0 paragraphs 0 paragraphs 0 </p><p>paragraphs 1 paragraphs 1 paragraphs 1 paragraphs 1 paragraphs 1 paragraphs 1 paragraphs 1 paragraphs 1 paragraphs 1 paragraphs 1 paragraphs 1 paragraphs 1 paragraphs 1 paragraphs 1 paragraphs 1 paragraphs 1 paragraphs 1 paragraphs 1 paragraphs 1 paragraphs 1 paragraphs 1 paragraphs 1 paragraphs 1 paragraphs 1 paragraphs 1 paragraphs 1 paragraphs 1 paragraphs 1 paragraphs 1 paragraphs 1 paragraphs 1 paragraphs 1 paragraphs 1 paragraphs 1 paragraphs 1 paragraphs 1 paragraphs 1 paragraphs 1 paragraphs 1 paragraphs 1 </p></body> </html>"
            ]
          },
          "metadata": {}
        }
      ]
    },
    {
      "cell_type": "code",
      "source": [
        "# Adding id attributes to the paragraphs\n",
        "paragraphs = \"\"\n",
        "for i in range(2):\n",
        "  paragraph_string = f\"paragraphs {i} \" * 40\n",
        "  attribute = f\"id='paragraphs {i}'\"\n",
        "  paragraphs += f\"<p {attribute}>{paragraph_string}</p>\"\n",
        "\n",
        "body = f\"<body>{header}{paragraphs}</body>\"\n",
        "html_contents = f\"<html> {title} {body} </html>\"\n",
        "render(html_contents)"
      ],
      "metadata": {
        "colab": {
          "base_uri": "https://localhost:8080/",
          "height": 262
        },
        "id": "p45fXJJLplwe",
        "outputId": "1f423604-ca74-4781-96f2-d4ef5ac02491"
      },
      "execution_count": 9,
      "outputs": [
        {
          "output_type": "display_data",
          "data": {
            "text/plain": [
              "<IPython.core.display.HTML object>"
            ],
            "text/html": [
              "<html> <title>Data Science is Fun</title> <body><h1>Data Science is Fun</h1><p id='paragraphs 0'>paragraphs 0 paragraphs 0 paragraphs 0 paragraphs 0 paragraphs 0 paragraphs 0 paragraphs 0 paragraphs 0 paragraphs 0 paragraphs 0 paragraphs 0 paragraphs 0 paragraphs 0 paragraphs 0 paragraphs 0 paragraphs 0 paragraphs 0 paragraphs 0 paragraphs 0 paragraphs 0 paragraphs 0 paragraphs 0 paragraphs 0 paragraphs 0 paragraphs 0 paragraphs 0 paragraphs 0 paragraphs 0 paragraphs 0 paragraphs 0 paragraphs 0 paragraphs 0 paragraphs 0 paragraphs 0 paragraphs 0 paragraphs 0 paragraphs 0 paragraphs 0 paragraphs 0 paragraphs 0 </p><p id='paragraphs 1'>paragraphs 1 paragraphs 1 paragraphs 1 paragraphs 1 paragraphs 1 paragraphs 1 paragraphs 1 paragraphs 1 paragraphs 1 paragraphs 1 paragraphs 1 paragraphs 1 paragraphs 1 paragraphs 1 paragraphs 1 paragraphs 1 paragraphs 1 paragraphs 1 paragraphs 1 paragraphs 1 paragraphs 1 paragraphs 1 paragraphs 1 paragraphs 1 paragraphs 1 paragraphs 1 paragraphs 1 paragraphs 1 paragraphs 1 paragraphs 1 paragraphs 1 paragraphs 1 paragraphs 1 paragraphs 1 paragraphs 1 paragraphs 1 paragraphs 1 paragraphs 1 paragraphs 1 paragraphs 1 </p></body> </html>"
            ]
          },
          "metadata": {}
        }
      ]
    },
    {
      "cell_type": "markdown",
      "source": [
        "Let's create a hyperlink that reads Data Science Bookcamp and link."
      ],
      "metadata": {
        "id": "9Ag-G_OGqBjb"
      }
    },
    {
      "cell_type": "code",
      "source": [
        "link_text = \"Data Science Bookcamp\"\n",
        "url = \"https:/ /www.manning.com/books/data-science-bookcamp\"\n",
        "hyperlink = f\"<a href='{url}'>{link_text}</a>\"\n",
        "new_paragraph = f\"<p id='paragraph 2'>Here is a link to {hyperlink}</p>\"\n",
        "paragraphs += new_paragraph\n",
        "\n",
        "body = f\"<body>{header}{paragraphs}</body>\"\n",
        "html_contents = f\"<html> {title} {body} </html>\"\n",
        "render(html_contents)"
      ],
      "metadata": {
        "colab": {
          "base_uri": "https://localhost:8080/",
          "height": 285
        },
        "id": "2fpM6Ry1qC3k",
        "outputId": "666caef6-6e89-4c75-8fd8-ae60282d2cce"
      },
      "execution_count": 10,
      "outputs": [
        {
          "output_type": "display_data",
          "data": {
            "text/plain": [
              "<IPython.core.display.HTML object>"
            ],
            "text/html": [
              "<html> <title>Data Science is Fun</title> <body><h1>Data Science is Fun</h1><p id='paragraphs 0'>paragraphs 0 paragraphs 0 paragraphs 0 paragraphs 0 paragraphs 0 paragraphs 0 paragraphs 0 paragraphs 0 paragraphs 0 paragraphs 0 paragraphs 0 paragraphs 0 paragraphs 0 paragraphs 0 paragraphs 0 paragraphs 0 paragraphs 0 paragraphs 0 paragraphs 0 paragraphs 0 paragraphs 0 paragraphs 0 paragraphs 0 paragraphs 0 paragraphs 0 paragraphs 0 paragraphs 0 paragraphs 0 paragraphs 0 paragraphs 0 paragraphs 0 paragraphs 0 paragraphs 0 paragraphs 0 paragraphs 0 paragraphs 0 paragraphs 0 paragraphs 0 paragraphs 0 paragraphs 0 </p><p id='paragraphs 1'>paragraphs 1 paragraphs 1 paragraphs 1 paragraphs 1 paragraphs 1 paragraphs 1 paragraphs 1 paragraphs 1 paragraphs 1 paragraphs 1 paragraphs 1 paragraphs 1 paragraphs 1 paragraphs 1 paragraphs 1 paragraphs 1 paragraphs 1 paragraphs 1 paragraphs 1 paragraphs 1 paragraphs 1 paragraphs 1 paragraphs 1 paragraphs 1 paragraphs 1 paragraphs 1 paragraphs 1 paragraphs 1 paragraphs 1 paragraphs 1 paragraphs 1 paragraphs 1 paragraphs 1 paragraphs 1 paragraphs 1 paragraphs 1 paragraphs 1 paragraphs 1 paragraphs 1 paragraphs 1 </p><p id='paragraph 2'>Here is a link to <a href='https:/ /www.manning.com/books/data-science-bookcamp'>Data Science Bookcamp</a></p></body> </html>"
            ]
          },
          "metadata": {}
        }
      ]
    },
    {
      "cell_type": "markdown",
      "source": [
        "Beyond just headers and paragraphs,\n",
        "we can also visualize lists of texts in an HTML document."
      ],
      "metadata": {
        "id": "YaNOv90vraSF"
      }
    },
    {
      "cell_type": "code",
      "source": [
        "# Adding an unstructured list to the HTML string\n",
        "libraries = ['NumPy', 'SciPy', 'Pandas', 'Scikit-Learn']\n",
        "items = \"\"\n",
        "for library in libraries:\n",
        "  items += f\"<li>{library}</li>\"\n",
        "\n",
        "unstructured_list = f\"<ul>{items}</ul>\"\n",
        "header2 = \"<h2>Common Data Science Libraries</h2>\"\n",
        "body = f\"<body>{header}{paragraphs}{header2}{unstructured_list}</body>\"\n",
        "html_contents = f\"<html> {title} {body} </html>\"\n",
        "render(html_contents)"
      ],
      "metadata": {
        "colab": {
          "base_uri": "https://localhost:8080/",
          "height": 404
        },
        "id": "9Yt3ZdafrauB",
        "outputId": "6af6f640-6c93-40fd-e48c-98f2af626410"
      },
      "execution_count": 11,
      "outputs": [
        {
          "output_type": "display_data",
          "data": {
            "text/plain": [
              "<IPython.core.display.HTML object>"
            ],
            "text/html": [
              "<html> <title>Data Science is Fun</title> <body><h1>Data Science is Fun</h1><p id='paragraphs 0'>paragraphs 0 paragraphs 0 paragraphs 0 paragraphs 0 paragraphs 0 paragraphs 0 paragraphs 0 paragraphs 0 paragraphs 0 paragraphs 0 paragraphs 0 paragraphs 0 paragraphs 0 paragraphs 0 paragraphs 0 paragraphs 0 paragraphs 0 paragraphs 0 paragraphs 0 paragraphs 0 paragraphs 0 paragraphs 0 paragraphs 0 paragraphs 0 paragraphs 0 paragraphs 0 paragraphs 0 paragraphs 0 paragraphs 0 paragraphs 0 paragraphs 0 paragraphs 0 paragraphs 0 paragraphs 0 paragraphs 0 paragraphs 0 paragraphs 0 paragraphs 0 paragraphs 0 paragraphs 0 </p><p id='paragraphs 1'>paragraphs 1 paragraphs 1 paragraphs 1 paragraphs 1 paragraphs 1 paragraphs 1 paragraphs 1 paragraphs 1 paragraphs 1 paragraphs 1 paragraphs 1 paragraphs 1 paragraphs 1 paragraphs 1 paragraphs 1 paragraphs 1 paragraphs 1 paragraphs 1 paragraphs 1 paragraphs 1 paragraphs 1 paragraphs 1 paragraphs 1 paragraphs 1 paragraphs 1 paragraphs 1 paragraphs 1 paragraphs 1 paragraphs 1 paragraphs 1 paragraphs 1 paragraphs 1 paragraphs 1 paragraphs 1 paragraphs 1 paragraphs 1 paragraphs 1 paragraphs 1 paragraphs 1 paragraphs 1 </p><p id='paragraph 2'>Here is a link to <a href='https:/ /www.manning.com/books/data-science-bookcamp'>Data Science Bookcamp</a></p><h2>Common Data Science Libraries</h2><ul><li>NumPy</li><li>SciPy</li><li>Pandas</li><li>Scikit-Learn</li></ul></body> </html>"
            ]
          },
          "metadata": {}
        }
      ]
    },
    {
      "cell_type": "code",
      "source": [
        "# Adding divisions to the HTML string\n",
        "div1 = f\"<div id='paragraphs' class='text'>{paragraphs}</div>\"\n",
        "div2 = f\"<div id='list' class='text'>{header2}{unstructured_list}</div>\"\n",
        "div3 = \"<div id='empty' class='empty'></div>\"\n",
        "\n",
        "body = f\"<body>{header}{div1}{div2}{div3}</body>\"\n",
        "html_contents = f\"<html> {title} {body} </html>\"\n",
        "render(html_contents)"
      ],
      "metadata": {
        "colab": {
          "base_uri": "https://localhost:8080/",
          "height": 404
        },
        "id": "ZGpFi6lOsP2m",
        "outputId": "fd3c9667-5d42-44ba-b38d-99548a51d76f"
      },
      "execution_count": 12,
      "outputs": [
        {
          "output_type": "display_data",
          "data": {
            "text/plain": [
              "<IPython.core.display.HTML object>"
            ],
            "text/html": [
              "<html> <title>Data Science is Fun</title> <body><h1>Data Science is Fun</h1><div id='paragraphs' class='text'><p id='paragraphs 0'>paragraphs 0 paragraphs 0 paragraphs 0 paragraphs 0 paragraphs 0 paragraphs 0 paragraphs 0 paragraphs 0 paragraphs 0 paragraphs 0 paragraphs 0 paragraphs 0 paragraphs 0 paragraphs 0 paragraphs 0 paragraphs 0 paragraphs 0 paragraphs 0 paragraphs 0 paragraphs 0 paragraphs 0 paragraphs 0 paragraphs 0 paragraphs 0 paragraphs 0 paragraphs 0 paragraphs 0 paragraphs 0 paragraphs 0 paragraphs 0 paragraphs 0 paragraphs 0 paragraphs 0 paragraphs 0 paragraphs 0 paragraphs 0 paragraphs 0 paragraphs 0 paragraphs 0 paragraphs 0 </p><p id='paragraphs 1'>paragraphs 1 paragraphs 1 paragraphs 1 paragraphs 1 paragraphs 1 paragraphs 1 paragraphs 1 paragraphs 1 paragraphs 1 paragraphs 1 paragraphs 1 paragraphs 1 paragraphs 1 paragraphs 1 paragraphs 1 paragraphs 1 paragraphs 1 paragraphs 1 paragraphs 1 paragraphs 1 paragraphs 1 paragraphs 1 paragraphs 1 paragraphs 1 paragraphs 1 paragraphs 1 paragraphs 1 paragraphs 1 paragraphs 1 paragraphs 1 paragraphs 1 paragraphs 1 paragraphs 1 paragraphs 1 paragraphs 1 paragraphs 1 paragraphs 1 paragraphs 1 paragraphs 1 paragraphs 1 </p><p id='paragraph 2'>Here is a link to <a href='https:/ /www.manning.com/books/data-science-bookcamp'>Data Science Bookcamp</a></p></div><div id='list' class='text'><h2>Common Data Science Libraries</h2><ul><li>NumPy</li><li>SciPy</li><li>Pandas</li><li>Scikit-Learn</li></ul></div><div id='empty' class='empty'></div></body> </html>"
            ]
          },
          "metadata": {}
        }
      ]
    },
    {
      "cell_type": "code",
      "source": [
        "# Printing the altered HTML string\n",
        "print(html_contents)"
      ],
      "metadata": {
        "colab": {
          "base_uri": "https://localhost:8080/"
        },
        "id": "ktHfiibdsmre",
        "outputId": "9b1675d1-1003-4fcc-d423-de4cdacb7450"
      },
      "execution_count": 13,
      "outputs": [
        {
          "output_type": "stream",
          "name": "stdout",
          "text": [
            "<html> <title>Data Science is Fun</title> <body><h1>Data Science is Fun</h1><div id='paragraphs' class='text'><p id='paragraphs 0'>paragraphs 0 paragraphs 0 paragraphs 0 paragraphs 0 paragraphs 0 paragraphs 0 paragraphs 0 paragraphs 0 paragraphs 0 paragraphs 0 paragraphs 0 paragraphs 0 paragraphs 0 paragraphs 0 paragraphs 0 paragraphs 0 paragraphs 0 paragraphs 0 paragraphs 0 paragraphs 0 paragraphs 0 paragraphs 0 paragraphs 0 paragraphs 0 paragraphs 0 paragraphs 0 paragraphs 0 paragraphs 0 paragraphs 0 paragraphs 0 paragraphs 0 paragraphs 0 paragraphs 0 paragraphs 0 paragraphs 0 paragraphs 0 paragraphs 0 paragraphs 0 paragraphs 0 paragraphs 0 </p><p id='paragraphs 1'>paragraphs 1 paragraphs 1 paragraphs 1 paragraphs 1 paragraphs 1 paragraphs 1 paragraphs 1 paragraphs 1 paragraphs 1 paragraphs 1 paragraphs 1 paragraphs 1 paragraphs 1 paragraphs 1 paragraphs 1 paragraphs 1 paragraphs 1 paragraphs 1 paragraphs 1 paragraphs 1 paragraphs 1 paragraphs 1 paragraphs 1 paragraphs 1 paragraphs 1 paragraphs 1 paragraphs 1 paragraphs 1 paragraphs 1 paragraphs 1 paragraphs 1 paragraphs 1 paragraphs 1 paragraphs 1 paragraphs 1 paragraphs 1 paragraphs 1 paragraphs 1 paragraphs 1 paragraphs 1 </p><p id='paragraph 2'>Here is a link to <a href='https:/ /www.manning.com/books/data-science-bookcamp'>Data Science Bookcamp</a></p></div><div id='list' class='text'><h2>Common Data Science Libraries</h2><ul><li>NumPy</li><li>SciPy</li><li>Pandas</li><li>Scikit-Learn</li></ul></div><div id='empty' class='empty'></div></body> </html>\n"
          ]
        }
      ]
    },
    {
      "cell_type": "markdown",
      "source": [
        "Next, we’d need to go one index over and extract the\n",
        "string containing the title’s text. \n",
        "\n",
        "Finally, we’d have to clean the title string by splitting on\n",
        "the remaining < bracket."
      ],
      "metadata": {
        "id": "7FPEZQ-csynw"
      }
    },
    {
      "cell_type": "code",
      "source": [
        "# Extracting the HTML title using basic Python\n",
        "split_contents = html_contents.split(\">\")\n",
        "for i, substring in enumerate(split_contents):\n",
        "  if substring.endswith(\"<title\"):\n",
        "    next_string = split_contents[i + 1]\n",
        "    title = next_string.split(\"<\")[0]\n",
        "    print(title)\n",
        "    break"
      ],
      "metadata": {
        "colab": {
          "base_uri": "https://localhost:8080/"
        },
        "id": "yr78LmETssPL",
        "outputId": "90f760de-60ba-4d50-873d-f4c3ca9dc0ae"
      },
      "execution_count": 14,
      "outputs": [
        {
          "output_type": "stream",
          "name": "stdout",
          "text": [
            "Data Science is Fun\n"
          ]
        }
      ]
    },
    {
      "cell_type": "markdown",
      "source": [
        "Is there a cleaner way to extract elements from HTML documents? \n",
        "\n",
        "Yes! We don’t\n",
        "need to manually parse the documents. \n",
        "\n",
        "Instead, we can use the external **Beautiful\n",
        "Soup** library."
      ],
      "metadata": {
        "id": "sITCXoxWu3Rw"
      }
    },
    {
      "cell_type": "markdown",
      "source": [
        "##Parsing HTML"
      ],
      "metadata": {
        "id": "ENigYOFrs2vg"
      }
    },
    {
      "cell_type": "markdown",
      "source": [
        "We now initialize the BeautifulSoup class by running `bs(html_contents`."
      ],
      "metadata": {
        "id": "DPYPSm1hs3Y8"
      }
    },
    {
      "cell_type": "code",
      "source": [
        "# Printing readable HTML\n",
        "soup = bs(html_contents)\n",
        "print(soup.prettify())"
      ],
      "metadata": {
        "id": "y1yvj19XWCsI",
        "outputId": "fe9e5936-cf42-4555-9467-88b9c59ded67",
        "colab": {
          "base_uri": "https://localhost:8080/"
        }
      },
      "execution_count": 15,
      "outputs": [
        {
          "output_type": "stream",
          "name": "stdout",
          "text": [
            "<html>\n",
            " <head>\n",
            "  <title>\n",
            "   Data Science is Fun\n",
            "  </title>\n",
            " </head>\n",
            " <body>\n",
            "  <h1>\n",
            "   Data Science is Fun\n",
            "  </h1>\n",
            "  <div class=\"text\" id=\"paragraphs\">\n",
            "   <p id=\"paragraphs 0\">\n",
            "    paragraphs 0 paragraphs 0 paragraphs 0 paragraphs 0 paragraphs 0 paragraphs 0 paragraphs 0 paragraphs 0 paragraphs 0 paragraphs 0 paragraphs 0 paragraphs 0 paragraphs 0 paragraphs 0 paragraphs 0 paragraphs 0 paragraphs 0 paragraphs 0 paragraphs 0 paragraphs 0 paragraphs 0 paragraphs 0 paragraphs 0 paragraphs 0 paragraphs 0 paragraphs 0 paragraphs 0 paragraphs 0 paragraphs 0 paragraphs 0 paragraphs 0 paragraphs 0 paragraphs 0 paragraphs 0 paragraphs 0 paragraphs 0 paragraphs 0 paragraphs 0 paragraphs 0 paragraphs 0\n",
            "   </p>\n",
            "   <p id=\"paragraphs 1\">\n",
            "    paragraphs 1 paragraphs 1 paragraphs 1 paragraphs 1 paragraphs 1 paragraphs 1 paragraphs 1 paragraphs 1 paragraphs 1 paragraphs 1 paragraphs 1 paragraphs 1 paragraphs 1 paragraphs 1 paragraphs 1 paragraphs 1 paragraphs 1 paragraphs 1 paragraphs 1 paragraphs 1 paragraphs 1 paragraphs 1 paragraphs 1 paragraphs 1 paragraphs 1 paragraphs 1 paragraphs 1 paragraphs 1 paragraphs 1 paragraphs 1 paragraphs 1 paragraphs 1 paragraphs 1 paragraphs 1 paragraphs 1 paragraphs 1 paragraphs 1 paragraphs 1 paragraphs 1 paragraphs 1\n",
            "   </p>\n",
            "   <p id=\"paragraph 2\">\n",
            "    Here is a link to\n",
            "    <a href=\"https:/ /www.manning.com/books/data-science-bookcamp\">\n",
            "     Data Science Bookcamp\n",
            "    </a>\n",
            "   </p>\n",
            "  </div>\n",
            "  <div class=\"text\" id=\"list\">\n",
            "   <h2>\n",
            "    Common Data Science Libraries\n",
            "   </h2>\n",
            "   <ul>\n",
            "    <li>\n",
            "     NumPy\n",
            "    </li>\n",
            "    <li>\n",
            "     SciPy\n",
            "    </li>\n",
            "    <li>\n",
            "     Pandas\n",
            "    </li>\n",
            "    <li>\n",
            "     Scikit-Learn\n",
            "    </li>\n",
            "   </ul>\n",
            "  </div>\n",
            "  <div class=\"empty\" id=\"empty\">\n",
            "  </div>\n",
            " </body>\n",
            "</html>\n"
          ]
        }
      ]
    },
    {
      "cell_type": "code",
      "source": [
        "# Extracting the title\n",
        "title = soup.find(\"title\")\n",
        "print(title)\n",
        "print(type(title))\n",
        "print(title.text)"
      ],
      "metadata": {
        "id": "VcokX9ptWW5W",
        "outputId": "b347a205-0599-4ad4-9b8f-e9d2ad44ca6e",
        "colab": {
          "base_uri": "https://localhost:8080/"
        }
      },
      "execution_count": 17,
      "outputs": [
        {
          "output_type": "stream",
          "name": "stdout",
          "text": [
            "<title>Data Science is Fun</title>\n",
            "<class 'bs4.element.Tag'>\n",
            "Data Science is Fun\n"
          ]
        }
      ]
    },
    {
      "cell_type": "code",
      "source": [
        "# Accessing the title’s text attribute\n",
        "assert soup.title.text == title.text"
      ],
      "metadata": {
        "id": "QRq46LneWsiI"
      },
      "execution_count": 18,
      "outputs": []
    },
    {
      "cell_type": "code",
      "source": [
        "# Accessing the body’s text attribute\n",
        "body = soup.body\n",
        "print(body.text)"
      ],
      "metadata": {
        "id": "RbwJIk0qWz2D",
        "outputId": "b0dcbcd9-9775-488b-bf54-37004358c205",
        "colab": {
          "base_uri": "https://localhost:8080/"
        }
      },
      "execution_count": 19,
      "outputs": [
        {
          "output_type": "stream",
          "name": "stdout",
          "text": [
            "Data Science is Funparagraphs 0 paragraphs 0 paragraphs 0 paragraphs 0 paragraphs 0 paragraphs 0 paragraphs 0 paragraphs 0 paragraphs 0 paragraphs 0 paragraphs 0 paragraphs 0 paragraphs 0 paragraphs 0 paragraphs 0 paragraphs 0 paragraphs 0 paragraphs 0 paragraphs 0 paragraphs 0 paragraphs 0 paragraphs 0 paragraphs 0 paragraphs 0 paragraphs 0 paragraphs 0 paragraphs 0 paragraphs 0 paragraphs 0 paragraphs 0 paragraphs 0 paragraphs 0 paragraphs 0 paragraphs 0 paragraphs 0 paragraphs 0 paragraphs 0 paragraphs 0 paragraphs 0 paragraphs 0 paragraphs 1 paragraphs 1 paragraphs 1 paragraphs 1 paragraphs 1 paragraphs 1 paragraphs 1 paragraphs 1 paragraphs 1 paragraphs 1 paragraphs 1 paragraphs 1 paragraphs 1 paragraphs 1 paragraphs 1 paragraphs 1 paragraphs 1 paragraphs 1 paragraphs 1 paragraphs 1 paragraphs 1 paragraphs 1 paragraphs 1 paragraphs 1 paragraphs 1 paragraphs 1 paragraphs 1 paragraphs 1 paragraphs 1 paragraphs 1 paragraphs 1 paragraphs 1 paragraphs 1 paragraphs 1 paragraphs 1 paragraphs 1 paragraphs 1 paragraphs 1 paragraphs 1 paragraphs 1 Here is a link to Data Science BookcampCommon Data Science LibrariesNumPySciPyPandasScikit-Learn\n"
          ]
        }
      ]
    },
    {
      "cell_type": "code",
      "source": [
        "# Accessing the text of the first paragraph\n",
        "assert body.p.text == soup.p.text\n",
        "print(soup.p.text)"
      ],
      "metadata": {
        "id": "1zcZ4tIoW-09",
        "outputId": "24b21c92-a589-42f6-8386-784984023fc7",
        "colab": {
          "base_uri": "https://localhost:8080/"
        }
      },
      "execution_count": 20,
      "outputs": [
        {
          "output_type": "stream",
          "name": "stdout",
          "text": [
            "paragraphs 0 paragraphs 0 paragraphs 0 paragraphs 0 paragraphs 0 paragraphs 0 paragraphs 0 paragraphs 0 paragraphs 0 paragraphs 0 paragraphs 0 paragraphs 0 paragraphs 0 paragraphs 0 paragraphs 0 paragraphs 0 paragraphs 0 paragraphs 0 paragraphs 0 paragraphs 0 paragraphs 0 paragraphs 0 paragraphs 0 paragraphs 0 paragraphs 0 paragraphs 0 paragraphs 0 paragraphs 0 paragraphs 0 paragraphs 0 paragraphs 0 paragraphs 0 paragraphs 0 paragraphs 0 paragraphs 0 paragraphs 0 paragraphs 0 paragraphs 0 paragraphs 0 paragraphs 0 \n"
          ]
        }
      ]
    },
    {
      "cell_type": "code",
      "source": [
        "# Accessing all paragraphs in the body\n",
        "paragraphs = body.find_all(\"p\")\n",
        "for i, paragraph in enumerate(paragraphs):\n",
        "  print(f\"\\nPARAGRAPH {i}:\")\n",
        "  print(paragraph.text)"
      ],
      "metadata": {
        "id": "-Rw9TFFwXLIA",
        "outputId": "872b9ad0-01ab-4dd8-8299-5caa0002c846",
        "colab": {
          "base_uri": "https://localhost:8080/"
        }
      },
      "execution_count": 21,
      "outputs": [
        {
          "output_type": "stream",
          "name": "stdout",
          "text": [
            "\n",
            "PARAGRAPH 0:\n",
            "paragraphs 0 paragraphs 0 paragraphs 0 paragraphs 0 paragraphs 0 paragraphs 0 paragraphs 0 paragraphs 0 paragraphs 0 paragraphs 0 paragraphs 0 paragraphs 0 paragraphs 0 paragraphs 0 paragraphs 0 paragraphs 0 paragraphs 0 paragraphs 0 paragraphs 0 paragraphs 0 paragraphs 0 paragraphs 0 paragraphs 0 paragraphs 0 paragraphs 0 paragraphs 0 paragraphs 0 paragraphs 0 paragraphs 0 paragraphs 0 paragraphs 0 paragraphs 0 paragraphs 0 paragraphs 0 paragraphs 0 paragraphs 0 paragraphs 0 paragraphs 0 paragraphs 0 paragraphs 0 \n",
            "\n",
            "PARAGRAPH 1:\n",
            "paragraphs 1 paragraphs 1 paragraphs 1 paragraphs 1 paragraphs 1 paragraphs 1 paragraphs 1 paragraphs 1 paragraphs 1 paragraphs 1 paragraphs 1 paragraphs 1 paragraphs 1 paragraphs 1 paragraphs 1 paragraphs 1 paragraphs 1 paragraphs 1 paragraphs 1 paragraphs 1 paragraphs 1 paragraphs 1 paragraphs 1 paragraphs 1 paragraphs 1 paragraphs 1 paragraphs 1 paragraphs 1 paragraphs 1 paragraphs 1 paragraphs 1 paragraphs 1 paragraphs 1 paragraphs 1 paragraphs 1 paragraphs 1 paragraphs 1 paragraphs 1 paragraphs 1 paragraphs 1 \n",
            "\n",
            "PARAGRAPH 2:\n",
            "Here is a link to Data Science Bookcamp\n"
          ]
        }
      ]
    },
    {
      "cell_type": "code",
      "source": [
        "# Accessing all bullet points in the body\n",
        "print([bullet.text for bullet in body.find_all(\"li\")])"
      ],
      "metadata": {
        "id": "IAah5ShbXiKf",
        "outputId": "e7253578-d4e4-4fb9-b251-f45d03f716a1",
        "colab": {
          "base_uri": "https://localhost:8080/"
        }
      },
      "execution_count": 22,
      "outputs": [
        {
          "output_type": "stream",
          "name": "stdout",
          "text": [
            "['NumPy', 'SciPy', 'Pandas', 'Scikit-Learn']\n"
          ]
        }
      ]
    },
    {
      "cell_type": "code",
      "source": [
        "# Accessing a paragraph by ID\n",
        "paragraph_2 = soup.find(id=\"paragraph 2\")\n",
        "print(paragraph_2.text)"
      ],
      "metadata": {
        "id": "HvyKQDUpXxFc",
        "outputId": "8e1fe968-5985-4baa-f6c7-3e10cf68e707",
        "colab": {
          "base_uri": "https://localhost:8080/"
        }
      },
      "execution_count": 23,
      "outputs": [
        {
          "output_type": "stream",
          "name": "stdout",
          "text": [
            "Here is a link to Data Science Bookcamp\n"
          ]
        }
      ]
    },
    {
      "cell_type": "code",
      "source": [
        "# Accessing an attribute in a tag\n",
        "assert paragraph_2.get(\"id\") == \"paragraph 2\"\n",
        "print(paragraph_2.a.get(\"href\"))"
      ],
      "metadata": {
        "id": "KiZDTH_NX8yq",
        "outputId": "54975a66-f3a3-4084-ceff-9979939c7ec9",
        "colab": {
          "base_uri": "https://localhost:8080/"
        }
      },
      "execution_count": 25,
      "outputs": [
        {
          "output_type": "stream",
          "name": "stdout",
          "text": [
            "https:/ /www.manning.com/books/data-science-bookcamp\n"
          ]
        }
      ]
    },
    {
      "cell_type": "code",
      "source": [
        "# Accessing divisions by their shared class attribute\n",
        "for division in soup.find_all(\"div\", class_=\"text\"):\n",
        "  id_ = division.get(\"id\")\n",
        "  print(f\"\\nDivision with id '{id_}':\")\n",
        "  print(division.text)"
      ],
      "metadata": {
        "id": "s5ZAGOJEYQ9n",
        "outputId": "b98a39a7-7d7e-4be7-9ec1-9b97ff44e786",
        "colab": {
          "base_uri": "https://localhost:8080/"
        }
      },
      "execution_count": 26,
      "outputs": [
        {
          "output_type": "stream",
          "name": "stdout",
          "text": [
            "\n",
            "Division with id 'paragraphs':\n",
            "paragraphs 0 paragraphs 0 paragraphs 0 paragraphs 0 paragraphs 0 paragraphs 0 paragraphs 0 paragraphs 0 paragraphs 0 paragraphs 0 paragraphs 0 paragraphs 0 paragraphs 0 paragraphs 0 paragraphs 0 paragraphs 0 paragraphs 0 paragraphs 0 paragraphs 0 paragraphs 0 paragraphs 0 paragraphs 0 paragraphs 0 paragraphs 0 paragraphs 0 paragraphs 0 paragraphs 0 paragraphs 0 paragraphs 0 paragraphs 0 paragraphs 0 paragraphs 0 paragraphs 0 paragraphs 0 paragraphs 0 paragraphs 0 paragraphs 0 paragraphs 0 paragraphs 0 paragraphs 0 paragraphs 1 paragraphs 1 paragraphs 1 paragraphs 1 paragraphs 1 paragraphs 1 paragraphs 1 paragraphs 1 paragraphs 1 paragraphs 1 paragraphs 1 paragraphs 1 paragraphs 1 paragraphs 1 paragraphs 1 paragraphs 1 paragraphs 1 paragraphs 1 paragraphs 1 paragraphs 1 paragraphs 1 paragraphs 1 paragraphs 1 paragraphs 1 paragraphs 1 paragraphs 1 paragraphs 1 paragraphs 1 paragraphs 1 paragraphs 1 paragraphs 1 paragraphs 1 paragraphs 1 paragraphs 1 paragraphs 1 paragraphs 1 paragraphs 1 paragraphs 1 paragraphs 1 paragraphs 1 Here is a link to Data Science Bookcamp\n",
            "\n",
            "Division with id 'list':\n",
            "Common Data Science LibrariesNumPySciPyPandasScikit-Learn\n"
          ]
        }
      ]
    },
    {
      "cell_type": "code",
      "source": [
        "# Paragraph deletion\n",
        "body.find(id=\"paragraphs 0\").decompose()\n",
        "soup.find(id=\"paragraphs 1\").decompose()\n",
        "print(body.find(id=\"paragraphs\").text)"
      ],
      "metadata": {
        "id": "LoEJm0QRYsFq",
        "outputId": "d91665e7-36f4-4de6-f912-93d45508ba74",
        "colab": {
          "base_uri": "https://localhost:8080/"
        }
      },
      "execution_count": 29,
      "outputs": [
        {
          "output_type": "stream",
          "name": "stdout",
          "text": [
            "Here is a link to Data Science Bookcamp\n"
          ]
        }
      ]
    },
    {
      "cell_type": "code",
      "source": [
        "# Initializing an empty paragraph Tag\n",
        "new_paragraph = soup.new_tag(\"p\")\n",
        "print(new_paragraph)"
      ],
      "metadata": {
        "id": "52QkDn-OZU5D",
        "outputId": "c9f3c690-e1b9-4991-e624-314d94810340",
        "colab": {
          "base_uri": "https://localhost:8080/"
        }
      },
      "execution_count": 30,
      "outputs": [
        {
          "output_type": "stream",
          "name": "stdout",
          "text": [
            "<p></p>\n"
          ]
        }
      ]
    },
    {
      "cell_type": "code",
      "source": [
        "# Updating the text of an empty paragraph\n",
        "new_paragraph.string = \"This paragraph is new\"\n",
        "print(new_paragraph)"
      ],
      "metadata": {
        "id": "s90mDz7EZerq",
        "outputId": "43a0329b-a819-42a6-877b-d52a909ba7a0",
        "colab": {
          "base_uri": "https://localhost:8080/"
        }
      },
      "execution_count": 31,
      "outputs": [
        {
          "output_type": "stream",
          "name": "stdout",
          "text": [
            "<p>This paragraph is new</p>\n"
          ]
        }
      ]
    },
    {
      "cell_type": "code",
      "source": [
        "# Paragraph insertion\n",
        "soup.find(id=\"empty\").append(new_paragraph)\n",
        "render(soup.prettify())"
      ],
      "metadata": {
        "id": "IQcuOT-VZozR",
        "outputId": "04f0abab-5b46-4c34-ab96-12c35122e6ed",
        "colab": {
          "base_uri": "https://localhost:8080/",
          "height": 242
        }
      },
      "execution_count": 32,
      "outputs": [
        {
          "output_type": "display_data",
          "data": {
            "text/plain": [
              "<IPython.core.display.HTML object>"
            ],
            "text/html": [
              "<html>\n",
              " <head>\n",
              "  <title>\n",
              "   Data Science is Fun\n",
              "  </title>\n",
              " </head>\n",
              " <body>\n",
              "  <h1>\n",
              "   Data Science is Fun\n",
              "  </h1>\n",
              "  <div class=\"text\" id=\"paragraphs\">\n",
              "   <p id=\"paragraph 2\">\n",
              "    Here is a link to\n",
              "    <a href=\"https:/ /www.manning.com/books/data-science-bookcamp\">\n",
              "     Data Science Bookcamp\n",
              "    </a>\n",
              "   </p>\n",
              "  </div>\n",
              "  <div class=\"text\" id=\"list\">\n",
              "   <h2>\n",
              "    Common Data Science Libraries\n",
              "   </h2>\n",
              "   <ul>\n",
              "    <li>\n",
              "     NumPy\n",
              "    </li>\n",
              "    <li>\n",
              "     SciPy\n",
              "    </li>\n",
              "    <li>\n",
              "     Pandas\n",
              "    </li>\n",
              "    <li>\n",
              "     Scikit-Learn\n",
              "    </li>\n",
              "   </ul>\n",
              "  </div>\n",
              "  <div class=\"empty\" id=\"empty\">\n",
              "   <p>\n",
              "    This paragraph is new\n",
              "   </p>\n",
              "  </div>\n",
              " </body>\n",
              "</html>"
            ]
          },
          "metadata": {}
        }
      ]
    },
    {
      "cell_type": "markdown",
      "source": [
        "##Parsing online data"
      ],
      "metadata": {
        "id": "J1a4si22Z4ng"
      }
    },
    {
      "cell_type": "markdown",
      "source": [],
      "metadata": {
        "id": "MP6Np_m7Z5RU"
      }
    }
  ]
}