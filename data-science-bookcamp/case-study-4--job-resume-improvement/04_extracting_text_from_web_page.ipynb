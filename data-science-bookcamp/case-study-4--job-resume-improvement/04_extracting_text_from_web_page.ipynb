{
  "nbformat": 4,
  "nbformat_minor": 0,
  "metadata": {
    "colab": {
      "provenance": [],
      "toc_visible": true,
      "authorship_tag": "ABX9TyMJNwt5qp5rLzKLJUQGaBkY",
      "include_colab_link": true
    },
    "kernelspec": {
      "name": "python3",
      "display_name": "Python 3"
    },
    "language_info": {
      "name": "python"
    }
  },
  "cells": [
    {
      "cell_type": "markdown",
      "metadata": {
        "id": "view-in-github",
        "colab_type": "text"
      },
      "source": [
        "<a href=\"https://colab.research.google.com/github/rahiakela/data-science-research-and-practice/blob/main/data-science-bookcamp/case-study-4--job-resume-improvement/04_extracting_text_from_web_page.ipynb\" target=\"_parent\"><img src=\"https://colab.research.google.com/assets/colab-badge.svg\" alt=\"Open In Colab\"/></a>"
      ]
    },
    {
      "cell_type": "markdown",
      "source": [
        "##Large text analysis using Clustering"
      ],
      "metadata": {
        "id": "CKQ3xygyzGoH"
      }
    },
    {
      "cell_type": "markdown",
      "source": [
        "A markup language is a system for annotating documents\n",
        "that distinguishes the annotations from the document text. \n",
        "\n",
        "In the case of HTML, these annotations are instructions on how to visualize a web page.\n",
        "\n",
        "Web page visualization is usually carried out using a web browser.\n",
        "\n",
        "Of course, during large-scale data analysis, we don’t need to render every page.\n",
        "Computers can process document texts without requiring any visualization. Thus,\n",
        "when analyzing HTML documents, we can focus on the text while skipping over the\n",
        "display instructions.\n",
        "\n",
        "Consequently, a basic knowledge of HTML structure is imperative for online text analysis.\n",
        "\n",
        "With this in mind, we begin this section by reviewing the HTML structure. Then\n",
        "we learn how to parse that structure using Python libraries."
      ],
      "metadata": {
        "id": "fJsYonsIz1lJ"
      }
    },
    {
      "cell_type": "markdown",
      "source": [
        "##Setup"
      ],
      "metadata": {
        "id": "nEaM8U6Lz_Fg"
      }
    },
    {
      "cell_type": "code",
      "source": [
        "!pip install bs4"
      ],
      "metadata": {
        "id": "vpAfzxRYh-Ds"
      },
      "execution_count": null,
      "outputs": []
    },
    {
      "cell_type": "code",
      "source": [
        "import warnings\n",
        "warnings.filterwarnings('ignore')"
      ],
      "metadata": {
        "id": "gtDg8Oyyz__L"
      },
      "execution_count": 2,
      "outputs": []
    },
    {
      "cell_type": "code",
      "source": [
        "from collections import defaultdict\n",
        "from collections import Counter\n",
        "import time\n",
        "import numpy as np\n",
        "import pandas as pd\n",
        "\n",
        "from bs4 import BeautifulSoup as bs\n",
        "\n",
        "import seaborn as sns\n",
        "import matplotlib.pyplot as plt\n",
        "from IPython.core.display import display, HTML"
      ],
      "metadata": {
        "id": "TobbrwVl0CWF"
      },
      "execution_count": 3,
      "outputs": []
    },
    {
      "cell_type": "markdown",
      "source": [
        "##HTML document structure"
      ],
      "metadata": {
        "id": "tRYlC_k-0OTX"
      }
    },
    {
      "cell_type": "markdown",
      "source": [
        "Let's explore many common HTML tags."
      ],
      "metadata": {
        "id": "sTg51MOn0QLf"
      }
    },
    {
      "cell_type": "code",
      "source": [
        "# Rendering an HTML string\n",
        "def render(html_contents):\n",
        "  display(HTML(html_contents))\n",
        "\n",
        "html_contents = \"<html>Hello</html>\"\n",
        "render(html_contents)"
      ],
      "metadata": {
        "id": "WCepvD5r0Wq4",
        "colab": {
          "base_uri": "https://localhost:8080/",
          "height": 34
        },
        "outputId": "df58be31-33b9-4e90-e768-09f127d6fff9"
      },
      "execution_count": 4,
      "outputs": [
        {
          "output_type": "display_data",
          "data": {
            "text/plain": [
              "<IPython.core.display.HTML object>"
            ],
            "text/html": [
              "<html>Hello</html>"
            ]
          },
          "metadata": {}
        }
      ]
    },
    {
      "cell_type": "code",
      "source": [
        "# Defining a title in HTML\n",
        "title = \"<title>Data Science is Fun</title>\"\n",
        "html_contents = f\"<html>{title}Hello</html>\"\n",
        "render(html_contents)"
      ],
      "metadata": {
        "id": "9gsaUHqR06bp",
        "colab": {
          "base_uri": "https://localhost:8080/",
          "height": 34
        },
        "outputId": "e0593625-50ac-4918-efac-9c66cc88d4d3"
      },
      "execution_count": 5,
      "outputs": [
        {
          "output_type": "display_data",
          "data": {
            "text/plain": [
              "<IPython.core.display.HTML object>"
            ],
            "text/html": [
              "<html><title>Data Science is Fun</title>Hello</html>"
            ]
          },
          "metadata": {}
        }
      ]
    },
    {
      "cell_type": "code",
      "source": [
        "# Adding a head and body to the HTML string\n",
        "head =f\"<head>{title}</head>\"\n",
        "body = \"<body>Hello</body>\"\n",
        "html_contents = f\"<html> {head} {body} </html>\"\n",
        "render(html_contents)"
      ],
      "metadata": {
        "id": "SHYUPbuJ1gpZ",
        "colab": {
          "base_uri": "https://localhost:8080/",
          "height": 34
        },
        "outputId": "aae65341-f3d7-4793-d361-9afbd02eb5ca"
      },
      "execution_count": 8,
      "outputs": [
        {
          "output_type": "display_data",
          "data": {
            "text/plain": [
              "<IPython.core.display.HTML object>"
            ],
            "text/html": [
              "<html> <head><title>Data Science is Fun</title></head> <body>Hello</body> </html>"
            ]
          },
          "metadata": {}
        }
      ]
    },
    {
      "cell_type": "code",
      "source": [
        "# Adding a header to the HTML string\n",
        "header =f\"<h1>Data Science is Fun</h1>\"\n",
        "body = f\"<body>{header}Hello</body>\"\n",
        "html_contents = f\"<html> {title} {body} </html>\"\n",
        "render(html_contents)"
      ],
      "metadata": {
        "colab": {
          "base_uri": "https://localhost:8080/",
          "height": 92
        },
        "id": "ANhKc1npf3HO",
        "outputId": "86506d6d-7f82-43c6-fe19-99dfe08bd195"
      },
      "execution_count": 12,
      "outputs": [
        {
          "output_type": "display_data",
          "data": {
            "text/plain": [
              "<IPython.core.display.HTML object>"
            ],
            "text/html": [
              "<html> <title>Data Science is Fun</title> <body><h1>Data Science is Fun</h1>Hello</body> </html>"
            ]
          },
          "metadata": {}
        }
      ]
    },
    {
      "cell_type": "markdown",
      "source": [
        "Let’s add two consecutive paragraphs to our HTML."
      ],
      "metadata": {
        "id": "aJ3Hq8b4uFwG"
      }
    },
    {
      "cell_type": "code",
      "source": [
        "# Adding paragraphs to the HTML string\n",
        "paragraphs = \"\"\n",
        "for i in range(2):\n",
        "  paragraph_string = f\"paragraphs {i} \" * 40\n",
        "  paragraphs += f\"<p>{paragraph_string}</p>\"\n",
        "\n",
        "body = f\"<body>{header}{paragraphs}</body>\"\n",
        "html_contents = f\"<html> {title} {body} </html>\"\n",
        "render(html_contents)"
      ],
      "metadata": {
        "colab": {
          "base_uri": "https://localhost:8080/",
          "height": 262
        },
        "id": "42LzwACquGMm",
        "outputId": "659d1c21-5559-4f31-d6ba-1091e38fb66a"
      },
      "execution_count": 13,
      "outputs": [
        {
          "output_type": "display_data",
          "data": {
            "text/plain": [
              "<IPython.core.display.HTML object>"
            ],
            "text/html": [
              "<html> <title>Data Science is Fun</title> <body><h1>Data Science is Fun</h1><p>paragraphs 0 paragraphs 0 paragraphs 0 paragraphs 0 paragraphs 0 paragraphs 0 paragraphs 0 paragraphs 0 paragraphs 0 paragraphs 0 paragraphs 0 paragraphs 0 paragraphs 0 paragraphs 0 paragraphs 0 paragraphs 0 paragraphs 0 paragraphs 0 paragraphs 0 paragraphs 0 paragraphs 0 paragraphs 0 paragraphs 0 paragraphs 0 paragraphs 0 paragraphs 0 paragraphs 0 paragraphs 0 paragraphs 0 paragraphs 0 paragraphs 0 paragraphs 0 paragraphs 0 paragraphs 0 paragraphs 0 paragraphs 0 paragraphs 0 paragraphs 0 paragraphs 0 paragraphs 0 </p><p>paragraphs 1 paragraphs 1 paragraphs 1 paragraphs 1 paragraphs 1 paragraphs 1 paragraphs 1 paragraphs 1 paragraphs 1 paragraphs 1 paragraphs 1 paragraphs 1 paragraphs 1 paragraphs 1 paragraphs 1 paragraphs 1 paragraphs 1 paragraphs 1 paragraphs 1 paragraphs 1 paragraphs 1 paragraphs 1 paragraphs 1 paragraphs 1 paragraphs 1 paragraphs 1 paragraphs 1 paragraphs 1 paragraphs 1 paragraphs 1 paragraphs 1 paragraphs 1 paragraphs 1 paragraphs 1 paragraphs 1 paragraphs 1 paragraphs 1 paragraphs 1 paragraphs 1 paragraphs 1 </p></body> </html>"
            ]
          },
          "metadata": {}
        }
      ]
    },
    {
      "cell_type": "code",
      "source": [
        "# Adding id attributes to the paragraphs\n",
        "paragraphs = \"\"\n",
        "for i in range(2):\n",
        "  paragraph_string = f\"paragraphs {i} \" * 40\n",
        "  attribute = f\"id='paragraphs {i}'\"\n",
        "  paragraphs += f\"<p {attribute}>{paragraph_string}</p>\"\n",
        "\n",
        "body = f\"<body>{header}{paragraphs}</body>\"\n",
        "html_contents = f\"<html> {title} {body} </html>\"\n",
        "render(html_contents)"
      ],
      "metadata": {
        "colab": {
          "base_uri": "https://localhost:8080/",
          "height": 262
        },
        "id": "p45fXJJLplwe",
        "outputId": "761c2ee7-9241-4aa0-a2f8-e61913d581e1"
      },
      "execution_count": 14,
      "outputs": [
        {
          "output_type": "display_data",
          "data": {
            "text/plain": [
              "<IPython.core.display.HTML object>"
            ],
            "text/html": [
              "<html> <title>Data Science is Fun</title> <body><h1>Data Science is Fun</h1><p id='paragraphs 0'>paragraphs 0 paragraphs 0 paragraphs 0 paragraphs 0 paragraphs 0 paragraphs 0 paragraphs 0 paragraphs 0 paragraphs 0 paragraphs 0 paragraphs 0 paragraphs 0 paragraphs 0 paragraphs 0 paragraphs 0 paragraphs 0 paragraphs 0 paragraphs 0 paragraphs 0 paragraphs 0 paragraphs 0 paragraphs 0 paragraphs 0 paragraphs 0 paragraphs 0 paragraphs 0 paragraphs 0 paragraphs 0 paragraphs 0 paragraphs 0 paragraphs 0 paragraphs 0 paragraphs 0 paragraphs 0 paragraphs 0 paragraphs 0 paragraphs 0 paragraphs 0 paragraphs 0 paragraphs 0 </p><p id='paragraphs 1'>paragraphs 1 paragraphs 1 paragraphs 1 paragraphs 1 paragraphs 1 paragraphs 1 paragraphs 1 paragraphs 1 paragraphs 1 paragraphs 1 paragraphs 1 paragraphs 1 paragraphs 1 paragraphs 1 paragraphs 1 paragraphs 1 paragraphs 1 paragraphs 1 paragraphs 1 paragraphs 1 paragraphs 1 paragraphs 1 paragraphs 1 paragraphs 1 paragraphs 1 paragraphs 1 paragraphs 1 paragraphs 1 paragraphs 1 paragraphs 1 paragraphs 1 paragraphs 1 paragraphs 1 paragraphs 1 paragraphs 1 paragraphs 1 paragraphs 1 paragraphs 1 paragraphs 1 paragraphs 1 </p></body> </html>"
            ]
          },
          "metadata": {}
        }
      ]
    },
    {
      "cell_type": "markdown",
      "source": [
        "Let's create a hyperlink that reads Data Science Bookcamp and link."
      ],
      "metadata": {
        "id": "9Ag-G_OGqBjb"
      }
    },
    {
      "cell_type": "code",
      "source": [
        "link_text = \"Data Science Bookcamp\"\n",
        "url = \"https:/ /www.manning.com/books/data-science-bookcamp\"\n",
        "hyperlink = f\"<a href='{url}'>{link_text}</a>\"\n",
        "new_paragraph = f\"<p id='paragraph 2'>Here is a link to {hyperlink}</p>\"\n",
        "paragraphs += new_paragraph\n",
        "\n",
        "body = f\"<body>{header}{paragraphs}</body>\"\n",
        "html_contents = f\"<html> {title} {body} </html>\"\n",
        "render(html_contents)"
      ],
      "metadata": {
        "colab": {
          "base_uri": "https://localhost:8080/",
          "height": 309
        },
        "id": "2fpM6Ry1qC3k",
        "outputId": "0c3e1b15-e6f3-4823-b99f-be84c22ca555"
      },
      "execution_count": 16,
      "outputs": [
        {
          "output_type": "display_data",
          "data": {
            "text/plain": [
              "<IPython.core.display.HTML object>"
            ],
            "text/html": [
              "<html> <title>Data Science is Fun</title> <body><h1>Data Science is Fun</h1><p id='paragraphs 0'>paragraphs 0 paragraphs 0 paragraphs 0 paragraphs 0 paragraphs 0 paragraphs 0 paragraphs 0 paragraphs 0 paragraphs 0 paragraphs 0 paragraphs 0 paragraphs 0 paragraphs 0 paragraphs 0 paragraphs 0 paragraphs 0 paragraphs 0 paragraphs 0 paragraphs 0 paragraphs 0 paragraphs 0 paragraphs 0 paragraphs 0 paragraphs 0 paragraphs 0 paragraphs 0 paragraphs 0 paragraphs 0 paragraphs 0 paragraphs 0 paragraphs 0 paragraphs 0 paragraphs 0 paragraphs 0 paragraphs 0 paragraphs 0 paragraphs 0 paragraphs 0 paragraphs 0 paragraphs 0 </p><p id='paragraphs 1'>paragraphs 1 paragraphs 1 paragraphs 1 paragraphs 1 paragraphs 1 paragraphs 1 paragraphs 1 paragraphs 1 paragraphs 1 paragraphs 1 paragraphs 1 paragraphs 1 paragraphs 1 paragraphs 1 paragraphs 1 paragraphs 1 paragraphs 1 paragraphs 1 paragraphs 1 paragraphs 1 paragraphs 1 paragraphs 1 paragraphs 1 paragraphs 1 paragraphs 1 paragraphs 1 paragraphs 1 paragraphs 1 paragraphs 1 paragraphs 1 paragraphs 1 paragraphs 1 paragraphs 1 paragraphs 1 paragraphs 1 paragraphs 1 paragraphs 1 paragraphs 1 paragraphs 1 paragraphs 1 </p><p id='paragraph 2'>Here is a link to <a href='https:/ /www.manning.com/books/data-science-bookcamp'>Data Science Bookcamp</a></p><p id='paragraph 2'>Here is a link to <a href='https:/ /www.manning.com/books/data-science-bookcamp'>Data Science Bookcamp</a></p></body> </html>"
            ]
          },
          "metadata": {}
        }
      ]
    },
    {
      "cell_type": "markdown",
      "source": [
        "Beyond just headers and paragraphs,\n",
        "we can also visualize lists of texts in an HTML document."
      ],
      "metadata": {
        "id": "YaNOv90vraSF"
      }
    },
    {
      "cell_type": "code",
      "source": [
        "# Adding an unstructured list to the HTML string\n",
        "libraries = ['NumPy', 'SciPy', 'Pandas', 'Scikit-Learn']\n",
        "items = \"\"\n",
        "for library in libraries:\n",
        "  items += f\"<li>{library}</li>\"\n",
        "\n",
        "unstructured_list = f\"<ul>{items}</ul>\"\n",
        "header2 = \"<h2>Common Data Science Libraries</h2>\"\n",
        "body = f\"<body>{header}{paragraphs}{header2}{unstructured_list}</body>\"\n",
        "html_contents = f\"<html> {title} {body} </html>\"\n",
        "render(html_contents)"
      ],
      "metadata": {
        "colab": {
          "base_uri": "https://localhost:8080/",
          "height": 428
        },
        "id": "9Yt3ZdafrauB",
        "outputId": "136bb10f-62c2-47f5-fab2-463e192d625f"
      },
      "execution_count": 17,
      "outputs": [
        {
          "output_type": "display_data",
          "data": {
            "text/plain": [
              "<IPython.core.display.HTML object>"
            ],
            "text/html": [
              "<html> <title>Data Science is Fun</title> <body><h1>Data Science is Fun</h1><p id='paragraphs 0'>paragraphs 0 paragraphs 0 paragraphs 0 paragraphs 0 paragraphs 0 paragraphs 0 paragraphs 0 paragraphs 0 paragraphs 0 paragraphs 0 paragraphs 0 paragraphs 0 paragraphs 0 paragraphs 0 paragraphs 0 paragraphs 0 paragraphs 0 paragraphs 0 paragraphs 0 paragraphs 0 paragraphs 0 paragraphs 0 paragraphs 0 paragraphs 0 paragraphs 0 paragraphs 0 paragraphs 0 paragraphs 0 paragraphs 0 paragraphs 0 paragraphs 0 paragraphs 0 paragraphs 0 paragraphs 0 paragraphs 0 paragraphs 0 paragraphs 0 paragraphs 0 paragraphs 0 paragraphs 0 </p><p id='paragraphs 1'>paragraphs 1 paragraphs 1 paragraphs 1 paragraphs 1 paragraphs 1 paragraphs 1 paragraphs 1 paragraphs 1 paragraphs 1 paragraphs 1 paragraphs 1 paragraphs 1 paragraphs 1 paragraphs 1 paragraphs 1 paragraphs 1 paragraphs 1 paragraphs 1 paragraphs 1 paragraphs 1 paragraphs 1 paragraphs 1 paragraphs 1 paragraphs 1 paragraphs 1 paragraphs 1 paragraphs 1 paragraphs 1 paragraphs 1 paragraphs 1 paragraphs 1 paragraphs 1 paragraphs 1 paragraphs 1 paragraphs 1 paragraphs 1 paragraphs 1 paragraphs 1 paragraphs 1 paragraphs 1 </p><p id='paragraph 2'>Here is a link to <a href='https:/ /www.manning.com/books/data-science-bookcamp'>Data Science Bookcamp</a></p><p id='paragraph 2'>Here is a link to <a href='https:/ /www.manning.com/books/data-science-bookcamp'>Data Science Bookcamp</a></p><h2>Common Data Science Libraries</h2><ul><li>NumPy</li><li>SciPy</li><li>Pandas</li><li>Scikit-Learn</li></ul></body> </html>"
            ]
          },
          "metadata": {}
        }
      ]
    },
    {
      "cell_type": "code",
      "source": [
        "# Adding divisions to the HTML string\n",
        "div1 = f\"<div id='paragraphs' class='text'>{paragraphs}</div>\"\n",
        "div2 = f\"<div id='list' class='text'>{header2}{unstructured_list}</div>\"\n",
        "div3 = \"<div id='empty' class='empty'></div>\"\n",
        "\n",
        "body = f\"<body>{header}{div1}{div2}{div3}</body>\"\n",
        "html_contents = f\"<html> {title} {body} </html>\"\n",
        "render(html_contents)"
      ],
      "metadata": {
        "colab": {
          "base_uri": "https://localhost:8080/",
          "height": 428
        },
        "id": "ZGpFi6lOsP2m",
        "outputId": "f320a66d-844f-4dcc-93fc-8f01d3f86b48"
      },
      "execution_count": 18,
      "outputs": [
        {
          "output_type": "display_data",
          "data": {
            "text/plain": [
              "<IPython.core.display.HTML object>"
            ],
            "text/html": [
              "<html> <title>Data Science is Fun</title> <body><h1>Data Science is Fun</h1><div id='paragraphs' class='text'><p id='paragraphs 0'>paragraphs 0 paragraphs 0 paragraphs 0 paragraphs 0 paragraphs 0 paragraphs 0 paragraphs 0 paragraphs 0 paragraphs 0 paragraphs 0 paragraphs 0 paragraphs 0 paragraphs 0 paragraphs 0 paragraphs 0 paragraphs 0 paragraphs 0 paragraphs 0 paragraphs 0 paragraphs 0 paragraphs 0 paragraphs 0 paragraphs 0 paragraphs 0 paragraphs 0 paragraphs 0 paragraphs 0 paragraphs 0 paragraphs 0 paragraphs 0 paragraphs 0 paragraphs 0 paragraphs 0 paragraphs 0 paragraphs 0 paragraphs 0 paragraphs 0 paragraphs 0 paragraphs 0 paragraphs 0 </p><p id='paragraphs 1'>paragraphs 1 paragraphs 1 paragraphs 1 paragraphs 1 paragraphs 1 paragraphs 1 paragraphs 1 paragraphs 1 paragraphs 1 paragraphs 1 paragraphs 1 paragraphs 1 paragraphs 1 paragraphs 1 paragraphs 1 paragraphs 1 paragraphs 1 paragraphs 1 paragraphs 1 paragraphs 1 paragraphs 1 paragraphs 1 paragraphs 1 paragraphs 1 paragraphs 1 paragraphs 1 paragraphs 1 paragraphs 1 paragraphs 1 paragraphs 1 paragraphs 1 paragraphs 1 paragraphs 1 paragraphs 1 paragraphs 1 paragraphs 1 paragraphs 1 paragraphs 1 paragraphs 1 paragraphs 1 </p><p id='paragraph 2'>Here is a link to <a href='https:/ /www.manning.com/books/data-science-bookcamp'>Data Science Bookcamp</a></p><p id='paragraph 2'>Here is a link to <a href='https:/ /www.manning.com/books/data-science-bookcamp'>Data Science Bookcamp</a></p></div><div id='list' class='text'><h2>Common Data Science Libraries</h2><ul><li>NumPy</li><li>SciPy</li><li>Pandas</li><li>Scikit-Learn</li></ul></div><div id='empty' class='empty'></div></body> </html>"
            ]
          },
          "metadata": {}
        }
      ]
    },
    {
      "cell_type": "code",
      "source": [
        "# Printing the altered HTML string\n",
        "print(html_contents)"
      ],
      "metadata": {
        "colab": {
          "base_uri": "https://localhost:8080/"
        },
        "id": "ktHfiibdsmre",
        "outputId": "348ef997-d4b1-415b-bf96-8915f37815ab"
      },
      "execution_count": 19,
      "outputs": [
        {
          "output_type": "stream",
          "name": "stdout",
          "text": [
            "<html> <title>Data Science is Fun</title> <body><h1>Data Science is Fun</h1><div id='paragraphs' class='text'><p id='paragraphs 0'>paragraphs 0 paragraphs 0 paragraphs 0 paragraphs 0 paragraphs 0 paragraphs 0 paragraphs 0 paragraphs 0 paragraphs 0 paragraphs 0 paragraphs 0 paragraphs 0 paragraphs 0 paragraphs 0 paragraphs 0 paragraphs 0 paragraphs 0 paragraphs 0 paragraphs 0 paragraphs 0 paragraphs 0 paragraphs 0 paragraphs 0 paragraphs 0 paragraphs 0 paragraphs 0 paragraphs 0 paragraphs 0 paragraphs 0 paragraphs 0 paragraphs 0 paragraphs 0 paragraphs 0 paragraphs 0 paragraphs 0 paragraphs 0 paragraphs 0 paragraphs 0 paragraphs 0 paragraphs 0 </p><p id='paragraphs 1'>paragraphs 1 paragraphs 1 paragraphs 1 paragraphs 1 paragraphs 1 paragraphs 1 paragraphs 1 paragraphs 1 paragraphs 1 paragraphs 1 paragraphs 1 paragraphs 1 paragraphs 1 paragraphs 1 paragraphs 1 paragraphs 1 paragraphs 1 paragraphs 1 paragraphs 1 paragraphs 1 paragraphs 1 paragraphs 1 paragraphs 1 paragraphs 1 paragraphs 1 paragraphs 1 paragraphs 1 paragraphs 1 paragraphs 1 paragraphs 1 paragraphs 1 paragraphs 1 paragraphs 1 paragraphs 1 paragraphs 1 paragraphs 1 paragraphs 1 paragraphs 1 paragraphs 1 paragraphs 1 </p><p id='paragraph 2'>Here is a link to <a href='https:/ /www.manning.com/books/data-science-bookcamp'>Data Science Bookcamp</a></p><p id='paragraph 2'>Here is a link to <a href='https:/ /www.manning.com/books/data-science-bookcamp'>Data Science Bookcamp</a></p></div><div id='list' class='text'><h2>Common Data Science Libraries</h2><ul><li>NumPy</li><li>SciPy</li><li>Pandas</li><li>Scikit-Learn</li></ul></div><div id='empty' class='empty'></div></body> </html>\n"
          ]
        }
      ]
    },
    {
      "cell_type": "markdown",
      "source": [
        "Next, we’d need to go one index over and extract the\n",
        "string containing the title’s text. \n",
        "\n",
        "Finally, we’d have to clean the title string by splitting on\n",
        "the remaining < bracket."
      ],
      "metadata": {
        "id": "7FPEZQ-csynw"
      }
    },
    {
      "cell_type": "code",
      "source": [
        "# Extracting the HTML title using basic Python\n",
        "split_contents = html_contents.split(\">\")\n",
        "for i, substring in enumerate(split_contents):\n",
        "  if substring.endswith(\"<title\"):\n",
        "    next_string = split_contents[i + 1]\n",
        "    title = next_string.split(\"<\")[0]\n",
        "    print(title)\n",
        "    break"
      ],
      "metadata": {
        "colab": {
          "base_uri": "https://localhost:8080/"
        },
        "id": "yr78LmETssPL",
        "outputId": "a59e83d2-6db2-4eb5-cb9f-2c1bbd37b4ff"
      },
      "execution_count": 20,
      "outputs": [
        {
          "output_type": "stream",
          "name": "stdout",
          "text": [
            "Data Science is Fun\n"
          ]
        }
      ]
    },
    {
      "cell_type": "markdown",
      "source": [
        "Is there a cleaner way to extract elements from HTML documents? \n",
        "\n",
        "Yes! We don’t\n",
        "need to manually parse the documents. \n",
        "\n",
        "Instead, we can use the external **Beautiful\n",
        "Soup** library."
      ],
      "metadata": {
        "id": "sITCXoxWu3Rw"
      }
    },
    {
      "cell_type": "markdown",
      "source": [
        "##Parsing HTML"
      ],
      "metadata": {
        "id": "ENigYOFrs2vg"
      }
    },
    {
      "cell_type": "markdown",
      "source": [],
      "metadata": {
        "id": "DPYPSm1hs3Y8"
      }
    }
  ]
}