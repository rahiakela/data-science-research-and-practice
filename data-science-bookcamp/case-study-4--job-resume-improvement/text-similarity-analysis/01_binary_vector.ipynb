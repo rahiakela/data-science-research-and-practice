{
  "nbformat": 4,
  "nbformat_minor": 0,
  "metadata": {
    "colab": {
      "provenance": [],
      "toc_visible": true,
      "authorship_tag": "ABX9TyNMpFR3HQYBVbfx/136Xiks",
      "include_colab_link": true
    },
    "kernelspec": {
      "name": "python3",
      "display_name": "Python 3"
    },
    "language_info": {
      "name": "python"
    }
  },
  "cells": [
    {
      "cell_type": "markdown",
      "metadata": {
        "id": "view-in-github",
        "colab_type": "text"
      },
      "source": [
        "<a href=\"https://colab.research.google.com/github/rahiakela/data-science-research-and-practice/blob/main/data-science-bookcamp/case-study-4--job-resume-improvement/text-similarity-analysis/01_binary_vector.ipynb\" target=\"_parent\"><img src=\"https://colab.research.google.com/assets/colab-badge.svg\" alt=\"Open In Colab\"/></a>"
      ]
    },
    {
      "cell_type": "markdown",
      "source": [
        "##Measuring text similarity using binary vector"
      ],
      "metadata": {
        "id": "CKQ3xygyzGoH"
      }
    },
    {
      "cell_type": "markdown",
      "source": [
        "In this notebook, we focus on a basic NLP problem: **measuring the similarity between two texts using binary vector**. \n",
        "\n",
        "The string-to-string comparision is too slow to execute across thousands of complicated\n",
        "texts. Perhaps we can speed up the computation by somehow running it using NumPy.\n",
        "\n",
        "However, NumPy is intended to process numbers, not words, so we cannot use the\n",
        "library unless we replace all words with numeric values.\n",
        "\n",
        "Can we swap out words for numbers? Yes!\n",
        "\n",
        "We simply need to iterate over all words in\n",
        "all texts and assign each unique $i^{th}$ word a value of $i$. \n",
        "\n",
        "The mapping between words\n",
        "and their numeric values can be stored in a Python dictionary. We’ll refer to this dictionary\n",
        "as our vocabulary. \n",
        "\n",
        "Let’s build a vocabulary(word-to-index) that covers all the words in our three\n",
        "texts. \n",
        "\n",
        "We’ll also create a complementary `index_to_word` dictionary, which maps the\n",
        "numeric values back to words.\n",
        "\n",
        ">This technique is commonly referred to as the `bag-of-words` technique."
      ],
      "metadata": {
        "id": "fJsYonsIz1lJ"
      }
    },
    {
      "cell_type": "markdown",
      "source": [
        "##Setup"
      ],
      "metadata": {
        "id": "nEaM8U6Lz_Fg"
      }
    },
    {
      "cell_type": "code",
      "source": [
        "import warnings\n",
        "warnings.filterwarnings('ignore')"
      ],
      "metadata": {
        "id": "gtDg8Oyyz__L"
      },
      "execution_count": null,
      "outputs": []
    },
    {
      "cell_type": "code",
      "source": [
        "from collections import defaultdict\n",
        "from collections import Counter\n",
        "import time\n",
        "import numpy as np\n",
        "import pandas as pd\n",
        "\n",
        "from scipy.spatial.distance import euclidean\n",
        "from numpy.linalg import norm\n",
        "\n",
        "import seaborn as sns\n",
        "import matplotlib.pyplot as plt"
      ],
      "metadata": {
        "id": "TobbrwVl0CWF"
      },
      "execution_count": null,
      "outputs": []
    },
    {
      "cell_type": "markdown",
      "source": [
        "##Preparing text "
      ],
      "metadata": {
        "id": "tRYlC_k-0OTX"
      }
    },
    {
      "cell_type": "markdown",
      "source": [
        "Suppose we want to compare three simple texts:\n",
        "\n",
        "```text\n",
        "text1—She sells seashells by the seashore\n",
        "text2—“Seashells! The seashells are on sale! By the seashore.”\n",
        "text3—She sells 3 seashells to John, who lives by the lake.\n",
        "```\n",
        "\n",
        "Our goal is to determine whether `text1` is more similar to `text2` or to `text3`.\n",
        "\n"
      ],
      "metadata": {
        "id": "sTg51MOn0QLf"
      }
    },
    {
      "cell_type": "code",
      "source": [
        "# Assigning texts to variables\n",
        "text1 = \"She sells seashells by the seashore.\"\n",
        "text2 = '\"Seashells! The seashells are on sale! By the seashore.\"'\n",
        "text3 = \"She sells 3 seashells to John, who lives by the lake.\""
      ],
      "metadata": {
        "id": "WCepvD5r0Wq4"
      },
      "execution_count": null,
      "outputs": []
    },
    {
      "cell_type": "markdown",
      "source": [
        "Now we need to quantify the differences between texts."
      ],
      "metadata": {
        "id": "uvofbc7T05_E"
      }
    },
    {
      "cell_type": "code",
      "source": [
        "# Splitting texts into words\n",
        "words_lists = [text.split() for text in [text1, text2, text3]]"
      ],
      "metadata": {
        "id": "9gsaUHqR06bp"
      },
      "execution_count": null,
      "outputs": []
    },
    {
      "cell_type": "code",
      "source": [
        "# Removing case sensitivity and punctuation\n",
        "def simplify_text(text):\n",
        "  for punctuation in ['.', ',', '!', '?', '\"']:\n",
        "    text = text.replace(punctuation, \"\")\n",
        "  return text.lower()"
      ],
      "metadata": {
        "id": "SHYUPbuJ1gpZ"
      },
      "execution_count": null,
      "outputs": []
    },
    {
      "cell_type": "code",
      "source": [
        "# Converting word lists to sets\n",
        "words_sets = [set(words) for words in words_lists]"
      ],
      "metadata": {
        "id": "37vWSeHg2hDE"
      },
      "execution_count": null,
      "outputs": []
    },
    {
      "cell_type": "markdown",
      "source": [
        "##Creating vocabulary"
      ],
      "metadata": {
        "id": "vx1cEHLuA_pZ"
      }
    },
    {
      "cell_type": "markdown",
      "source": [
        "Let’s build a vocabulary that covers all the words in our three\n",
        "texts."
      ],
      "metadata": {
        "id": "evDQMNW9BAfB"
      }
    },
    {
      "cell_type": "code",
      "source": [
        "# Assigning words to numbers in a vocabulary\n",
        "words_set1, words_set2, words_set3 = words_sets\n",
        "total_words = words_set1 | words_set2 | words_set3\n",
        "\n",
        "# create word-to-index vocabulary\n",
        "vocabulary = {word: i for i, word in enumerate(total_words)}\n",
        "# create index-to-word vocabulary\n",
        "index_to_word = {value: word for word, value in vocabulary.items()}\n",
        "\n",
        "print(f\"Our vocabulary contains {len(vocabulary)} words. This vocabulary is:\\n{vocabulary}\")"
      ],
      "metadata": {
        "id": "L0mArXDsclx_",
        "outputId": "c8e54da7-06a8-44f0-80b1-4a073636f26f",
        "colab": {
          "base_uri": "https://localhost:8080/"
        }
      },
      "execution_count": null,
      "outputs": [
        {
          "output_type": "stream",
          "name": "stdout",
          "text": [
            "Our vocabulary contains 19 words. This vocabulary is:\n",
            "{'who': 0, 'lake.': 1, 'She': 2, 'on': 3, 'seashells': 4, 'John,': 5, 'by': 6, 'sells': 7, 'seashore.\"': 8, 'the': 9, 'lives': 10, '3': 11, 'to': 12, 'seashore.': 13, '\"Seashells!': 14, 'By': 15, 'The': 16, 'sale!': 17, 'are': 18}\n"
          ]
        }
      ]
    },
    {
      "cell_type": "code",
      "source": [
        "index_to_word[4]"
      ],
      "metadata": {
        "colab": {
          "base_uri": "https://localhost:8080/",
          "height": 35
        },
        "id": "o2tnDxC0_le7",
        "outputId": "ab462501-54ad-42c0-f1f5-143a98fb7cb6"
      },
      "execution_count": null,
      "outputs": [
        {
          "output_type": "execute_result",
          "data": {
            "text/plain": [
              "'seashells'"
            ],
            "application/vnd.google.colaboratory.intrinsic+json": {
              "type": "string"
            }
          },
          "metadata": {},
          "execution_count": 10
        }
      ]
    },
    {
      "cell_type": "markdown",
      "source": [
        "##Creating binary vector"
      ],
      "metadata": {
        "id": "DNXAK9tzN-7G"
      }
    },
    {
      "cell_type": "markdown",
      "source": [
        "Given our vocabulary, we can convert any text into a one-dimensional array of numbers.\n",
        "\n",
        "Mathematically, a 1D numeric array is called a vector. \n",
        "\n",
        "Hence, **the process of converting\n",
        "text into a vector is called text vectorization**.\n",
        "\n",
        "The simplest way to vectorize text is to create a vector of binary elements. Each index\n",
        "of that vector corresponds to a word in the vocabulary. \n",
        "\n",
        "Hence, the vector size equals\n",
        "the vocabulary size, even if some vocabulary words are missing from the associated\n",
        "text. If the word at index $i$ is missing from the text, the $i^{th}$ vector element is set to 0.\n",
        "Otherwise, it is set to 1. \n",
        "\n",
        "Consequently, each vocabulary index in the vector maps to\n",
        "either 0 or 1.\n",
        "\n",
        "Let’s use binary vectorization to convert all texts into NumPy arrays.\n",
        "\n",
        "We’ll store the\n",
        "computed vectors in a 2D vectors list, which can be treated like a table. The table’s\n",
        "rows will map to texts, and its columns will map to the vocabulary.\n",
        "\n",
        "![image.png](data:image/png;base64,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)"
      ],
      "metadata": {
        "id": "wOp5oCJ-dZ8g"
      }
    },
    {
      "cell_type": "code",
      "source": [
        "# Transforming words into binary vectors\n",
        "vectors = []\n",
        "for i, words_set in enumerate(words_sets, 1):\n",
        "  # Generates an array of 0s\n",
        "  vector = np.array([0] * len(vocabulary))\n",
        "  for word in words_set:\n",
        "    vector[vocabulary[word]] = 1\n",
        "  vectors.append(vector)\n",
        "\n",
        "sns.heatmap(vectors, annot=True, cmap=\"YlGnBu\", \n",
        "             xticklabels=vocabulary.keys(),\n",
        "             yticklabels=[\"Text 1\", \"Text 2\", \"Text 3\"])\n",
        "plt.yticks(rotation=1)\n",
        "plt.show()"
      ],
      "metadata": {
        "id": "x1XYLAsJdgBx",
        "outputId": "d365e444-b567-48c4-8406-fb668e80701e",
        "colab": {
          "base_uri": "https://localhost:8080/",
          "height": 315
        }
      },
      "execution_count": null,
      "outputs": [
        {
          "output_type": "display_data",
          "data": {
            "text/plain": [
              "<Figure size 432x288 with 2 Axes>"
            ],
            "image/png": "[encoded data removed]"
          },
          "metadata": {
            "needs_background": "light"
          }
        }
      ]
    },
    {
      "cell_type": "markdown",
      "source": [
        "##Text similarity with binary vector"
      ],
      "metadata": {
        "id": "UJ27Cba9OJM8"
      }
    },
    {
      "cell_type": "markdown",
      "source": [
        "Using our table, we can easily tell which words are shared between which texts.\n",
        "\n",
        "Our binary vector representation allows us to extract shared words numerically.\n",
        "\n",
        "Suppose we wish to know whether the word in column $i$ is present both in `text1` and\n",
        "`text2`."
      ],
      "metadata": {
        "id": "jVtr3sYafNmT"
      }
    },
    {
      "cell_type": "code",
      "source": [
        "# Finding shared words using vector arithmetic\n",
        "vector1, vector2 = vectors[:2]\n",
        "for i in range(len(vocabulary)):\n",
        "  if vector1[i] * vector2[i]:\n",
        "    shared_word = index_to_word[i]\n",
        "    print(f\"'{shared_word}' is present in both texts 1 and 2\")"
      ],
      "metadata": {
        "id": "uFYRNPnMfOEs",
        "outputId": "53408006-8f36-4364-9be0-9b61fbf396de",
        "colab": {
          "base_uri": "https://localhost:8080/"
        }
      },
      "execution_count": null,
      "outputs": [
        {
          "output_type": "stream",
          "name": "stdout",
          "text": [
            "'seashells' is present in both texts 1 and 2\n",
            "'the' is present in both texts 1 and 2\n"
          ]
        }
      ]
    },
    {
      "cell_type": "markdown",
      "source": [
        "Meanwhile, the sum of every zero instance equals 0. \n",
        "\n",
        "Therefore, we can compute the\n",
        "shared word count merely by summing the pairwise product of `vector1[i]` and\n",
        "`vector2[i]` across every possible $i$."
      ],
      "metadata": {
        "id": "deuySauwDM6x"
      }
    },
    {
      "cell_type": "code",
      "source": [
        "# Counting shared words using vector arithmetic\n",
        "shared_word_count = sum(vector1[i] * vector2[i] for i in range(len(vocabulary)))\n",
        "assert shared_word_count == len(words_set1 & words_set2)"
      ],
      "metadata": {
        "id": "FGXUt3l_g82R"
      },
      "execution_count": null,
      "outputs": []
    },
    {
      "cell_type": "markdown",
      "source": [
        "The sum of the pairwise products across all vector indices is called the dot product."
      ],
      "metadata": {
        "id": "Foe_45QrhUng"
      }
    },
    {
      "cell_type": "code",
      "source": [
        "# Computing a vector dot product using NumPy\n",
        "assert vector1.dot(vector2) == shared_word_count\n",
        "assert vector1 @ vector2 == shared_word_count"
      ],
      "metadata": {
        "id": "vcbsS4luhVBu"
      },
      "execution_count": null,
      "outputs": []
    },
    {
      "cell_type": "markdown",
      "source": [
        "Stated more concisely, `vector1 @ vector1` should equal the number of unique words\n",
        "in `text1`, which is also equal to `len(words_set1)`. \n",
        "\n",
        "Let’s confirm."
      ],
      "metadata": {
        "id": "EhAu2Ax4hwRx"
      }
    },
    {
      "cell_type": "code",
      "source": [
        "assert vector1 @ vector1 == len(words_set1)\n",
        "assert vector2 @ vector2 == len(words_set2)"
      ],
      "metadata": {
        "id": "g2scHtagh0kZ"
      },
      "execution_count": null,
      "outputs": []
    },
    {
      "cell_type": "markdown",
      "source": [
        "We are able to compute both shared word count and total unique word count using\n",
        "vector dot products.\n",
        "\n",
        "Essentially, we can compute the Jaccard similarity using only\n",
        "vector operations. \n",
        "\n",
        "This vectorized implementation of Jaccard is called the Tanimoto\n",
        "similarity."
      ],
      "metadata": {
        "id": "7aKBDrQSiLkE"
      }
    },
    {
      "cell_type": "code",
      "source": [
        "# Computing text similarity using vector arithmetic\n",
        "def tanimoto_similarity(vector_a, vector_b):\n",
        "  num_shared = vector_a @ vector_b\n",
        "  num_total = vector_a @ vector_a + vector_b @ vector_b - num_shared\n",
        "  return num_shared / num_total"
      ],
      "metadata": {
        "id": "3NkBG-zTiNUN"
      },
      "execution_count": null,
      "outputs": []
    },
    {
      "cell_type": "code",
      "source": [
        "for i, text in enumerate([text2, text3], 1):\n",
        "  print(f\"text{i}: {text}\")\n",
        "  print(f\"vectors{i}: {vectors[i]}\")\n",
        "  similarity = tanimoto_similarity(vector1, vectors[i])\n",
        "  print(f\"similarity: {similarity}\")"
      ],
      "metadata": {
        "id": "68HPPjRrijj3",
        "colab": {
          "base_uri": "https://localhost:8080/"
        },
        "outputId": "0c390955-4451-4ddb-cde5-b5937fe175db"
      },
      "execution_count": null,
      "outputs": [
        {
          "output_type": "stream",
          "name": "stdout",
          "text": [
            "text1: \"Seashells! The seashells are on sale! By the seashore.\"\n",
            "vectors1: [0 0 0 1 1 0 0 0 1 1 0 0 0 0 1 1 1 1 1]\n",
            "similarity: 0.15384615384615385\n",
            "text2: She sells 3 seashells to John, who lives by the lake.\n",
            "vectors2: [1 1 1 0 1 1 1 1 0 1 1 1 1 0 0 0 0 0 0]\n",
            "similarity: 0.4166666666666667\n"
          ]
        }
      ]
    },
    {
      "cell_type": "markdown",
      "source": [
        "What\n",
        "would happen if we inputted two arrays with values other than 0 or 1? \n",
        "\n",
        "Technically,\n",
        "the function should return a similarity, but would that similarity make sense? \n",
        "\n",
        "For\n",
        "instance, vectors `[5, 3]` and `[5, 2]` are nearly identical. We expect their similarity to be nearly equal to 1.\n",
        "\n",
        "Let’s test our expectations by inputting the vectors."
      ],
      "metadata": {
        "id": "4NwrfCEcjjXa"
      }
    },
    {
      "cell_type": "code",
      "source": [
        "# Computing the similarity of non-binary vectors\n",
        "non_binary_vector1 = np.array([5, 3])\n",
        "non_binary_vector2 = np.array([5, 2])\n",
        "\n",
        "similarity = tanimoto_similarity(non_binary_vector1, non_binary_vector2)\n",
        "print(f\"The similarity of 2 non-binary vectors is {similarity}\")"
      ],
      "metadata": {
        "id": "gjmSyTA9jYiv",
        "outputId": "b03bd4bc-e243-4c57-f14c-c87703897b8c",
        "colab": {
          "base_uri": "https://localhost:8080/"
        }
      },
      "execution_count": null,
      "outputs": [
        {
          "output_type": "stream",
          "name": "stdout",
          "text": [
            "The similarity of 2 non-binary vectors is 0.96875\n"
          ]
        }
      ]
    },
    {
      "cell_type": "markdown",
      "source": [
        "The outputted value is nearly equal to 1. \n",
        "\n",
        "Thus, `tanimoto_similarity` has successfully\n",
        "measured the similarity between two nearly identical vectors. The function can analyze\n",
        "non-binary inputs. \n",
        "\n",
        "This means **we can use non-binary techniques to vectorize our\n",
        "texts before comparing their contents**."
      ],
      "metadata": {
        "id": "i9w5C-iwj_3T"
      }
    }
  ]
}