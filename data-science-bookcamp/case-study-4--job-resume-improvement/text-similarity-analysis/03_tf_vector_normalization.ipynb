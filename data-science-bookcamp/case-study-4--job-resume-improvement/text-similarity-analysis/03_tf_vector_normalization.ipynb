{
  "nbformat": 4,
  "nbformat_minor": 0,
  "metadata": {
    "colab": {
      "provenance": [],
      "toc_visible": true,
      "authorship_tag": "ABX9TyOyKZ+pjTWbmLcm0S3yGNqS",
      "include_colab_link": true
    },
    "kernelspec": {
      "name": "python3",
      "display_name": "Python 3"
    },
    "language_info": {
      "name": "python"
    }
  },
  "cells": [
    {
      "cell_type": "markdown",
      "metadata": {
        "id": "view-in-github",
        "colab_type": "text"
      },
      "source": [
        "<a href=\"https://colab.research.google.com/github/rahiakela/data-science-research-and-practice/blob/main/data-science-bookcamp/case-study-4--job-resume-improvement/text-similarity-analysis/03_tf_vector_normalization.ipynb\" target=\"_parent\"><img src=\"https://colab.research.google.com/assets/colab-badge.svg\" alt=\"Open In Colab\"/></a>"
      ]
    },
    {
      "cell_type": "markdown",
      "source": [
        "##Text similarity using tf vector normalization"
      ],
      "metadata": {
        "id": "CKQ3xygyzGoH"
      }
    },
    {
      "cell_type": "markdown",
      "source": [
        "In this notebook, we focus on a basic NLP problem: **measuring the similarity between two texts using word count(term-frequency) vector**. \n",
        "\n",
        "Binary vectorization captures the presence and absence of words in a text, but it doesn’t capture word counts. This is unfortunate since word counts can provide a differentiating\n",
        "signal between texts. \n",
        "\n",
        "For example, suppose we’re contrasting two texts: A and B. \n",
        "\n",
        "Text A mentions Duck 61 times and Goose twice. Text B mentions Goose 71 times\n",
        "and Duck only once, like this.\n",
        "\n",
        "||Duck|Goose|\n",
        "|--|--|--|\n",
        "|A |61|2 |\n",
        "|B |1 |71|\n",
        "\n",
        "Based on the counts, we can infer that the two texts are rather different\n",
        "relative to the discussion of ducks and geese. \n",
        "\n",
        "**This difference is not captured by binary vectorization**, which assigns a 1 to the Duck index and Goose index of both texts, like this.\n",
        "\n",
        "||Duck|Goose|\n",
        "|--|--|--|\n",
        "|A |1 | 1|\n",
        "|B | 1| 1|\n",
        "\n",
        "What if we replace all binary values with actual word counts?\n",
        "\n",
        "**A vector of word counts is commonly referred to as a term-frequency vector, or a TF vector for short.**\n",
        "\n"
      ],
      "metadata": {
        "id": "fJsYonsIz1lJ"
      }
    },
    {
      "cell_type": "markdown",
      "source": [
        "##Setup"
      ],
      "metadata": {
        "id": "nEaM8U6Lz_Fg"
      }
    },
    {
      "cell_type": "code",
      "source": [
        "import warnings\n",
        "warnings.filterwarnings('ignore')"
      ],
      "metadata": {
        "id": "gtDg8Oyyz__L"
      },
      "execution_count": null,
      "outputs": []
    },
    {
      "cell_type": "code",
      "source": [
        "from collections import defaultdict\n",
        "from collections import Counter\n",
        "import time\n",
        "import numpy as np\n",
        "import pandas as pd\n",
        "\n",
        "from scipy.spatial.distance import euclidean\n",
        "from numpy.linalg import norm\n",
        "\n",
        "import seaborn as sns\n",
        "import matplotlib.pyplot as plt"
      ],
      "metadata": {
        "id": "TobbrwVl0CWF"
      },
      "execution_count": null,
      "outputs": []
    },
    {
      "cell_type": "code",
      "source": [
        "def tanimoto_similarity(vector_a, vector_b):\n",
        "  num_shared = vector_a @ vector_b\n",
        "  num_total = vector_a @ vector_a + vector_b @ vector_b - num_shared\n",
        "  return num_shared / num_total"
      ],
      "metadata": {
        "id": "JSzpzBWenCVo"
      },
      "execution_count": null,
      "outputs": []
    },
    {
      "cell_type": "markdown",
      "source": [
        "##Preparing text "
      ],
      "metadata": {
        "id": "tRYlC_k-0OTX"
      }
    },
    {
      "cell_type": "markdown",
      "source": [
        "Suppose we want to compare three simple texts:\n",
        "\n",
        "```text\n",
        "text1—She sells seashells by the seashore\n",
        "text2—“Seashells! The seashells are on sale! By the seashore.”\n",
        "text3—She sells 3 seashells to John, who lives by the lake.\n",
        "```\n",
        "\n",
        "Our goal is to determine whether `text1` is more similar to `text2` or to `text3`.\n",
        "\n"
      ],
      "metadata": {
        "id": "sTg51MOn0QLf"
      }
    },
    {
      "cell_type": "markdown",
      "source": [
        "##Word count vector"
      ],
      "metadata": {
        "id": "5PQH4xUhkCyw"
      }
    },
    {
      "cell_type": "markdown",
      "source": [
        "Let’s compute\n",
        "the TF vectors of A and B using a two-element vocabulary `{'duck': 0, 'goose': 1}`."
      ],
      "metadata": {
        "id": "waYEuLetoN0Q"
      }
    },
    {
      "cell_type": "code",
      "source": [
        "# Computing TF vector similarity\n",
        "A = np.array([61, 2])\n",
        "B = np.array([1, 71])\n",
        "\n",
        "similarity = tanimoto_similarity(A, B)\n",
        "print(f\"The similarity between texts is approximately {similarity:.3f}\")"
      ],
      "metadata": {
        "id": "kyhAljA9oYpC",
        "outputId": "9c250695-deb3-4247-e576-fcbf0de19c8f",
        "colab": {
          "base_uri": "https://localhost:8080/"
        }
      },
      "execution_count": null,
      "outputs": [
        {
          "output_type": "stream",
          "name": "stdout",
          "text": [
            "The similarity between texts is approximately 0.024\n"
          ]
        }
      ]
    },
    {
      "cell_type": "markdown",
      "source": [
        "The TF vector similarity between the texts is very low. \n",
        "\n",
        "Let’s compare it to the binary vector\n",
        "similarity of the two texts."
      ],
      "metadata": {
        "id": "sKG3z3Yco0QI"
      }
    },
    {
      "cell_type": "code",
      "source": [
        "# Assessing identical vector similarity\n",
        "A = np.array([1, 1])\n",
        "B = np.array([1, 1])\n",
        "assert tanimoto_similarity(A, B) == 1\n",
        "print(f\"The similarity between texts is approximately {tanimoto_similarity(A, B):.3f}\")"
      ],
      "metadata": {
        "id": "Ek2aImGpo0wL",
        "colab": {
          "base_uri": "https://localhost:8080/"
        },
        "outputId": "ae131d59-cbf0-4499-fc3a-2dedccb0ba27"
      },
      "execution_count": null,
      "outputs": [
        {
          "output_type": "stream",
          "name": "stdout",
          "text": [
            "The similarity between texts is approximately 1.000\n"
          ]
        }
      ]
    },
    {
      "cell_type": "markdown",
      "source": [
        "Replacing binary values with word counts can greatly impact our similarity output.\n",
        "\n",
        "What will happen if we vectorize text1, text2, and text3 based on their word counts?\n",
        "\n",
        "Let’s find out."
      ],
      "metadata": {
        "id": "DnPXhsbcY_LR"
      }
    },
    {
      "cell_type": "code",
      "source": [
        "# Assigning texts to variables\n",
        "text1 = \"She sells seashells by the seashore.\".lower().replace(\".\", '')\n",
        "text2 = \"Seashells! The seashells are on sale! By the seashore.\".lower().replace(\"!\", '').replace(\".\", '')\n",
        "text3 = \"She sells 3 seashells to John, who lives by the lake.\".lower().replace(\",\", '').replace(\".\", '')\n",
        "\n",
        "# Splitting texts into words\n",
        "words_lists = [text.split() for text in [text1, text2, text3]]\n",
        "\n",
        "# Converting word lists to sets\n",
        "words_sets = [set(words) for words in words_lists]\n",
        "\n",
        "# Assigning words to numbers in a vocabulary\n",
        "words_set1, words_set2, words_set3 = words_sets\n",
        "total_words = words_set1 | words_set2 | words_set3\n",
        "\n",
        "# create word-to-index vocabulary\n",
        "vocabulary = {word: i for i, word in enumerate(total_words)}\n",
        "\n",
        "# Computing TF vectors from word lists\n",
        "tf_vectors = []\n",
        "for i, words_list in enumerate(words_lists, 1):\n",
        "  tf_vector = np.array([0] * len(vocabulary))\n",
        "  for word in words_list:\n",
        "    word_index = vocabulary[word]\n",
        "    # Update the count of each word using its vocabulary index.\n",
        "    tf_vector[word_index] += 1\n",
        "  tf_vectors.append(tf_vector)\n",
        "\n",
        "sns.heatmap(tf_vectors, cmap=\"YlGnBu\", annot=True, xticklabels=vocabulary.keys(), yticklabels=[\"Text 1\", \"Text 2\", \"Text 3\"])\n",
        "plt.yticks(rotation=0)\n",
        "plt.show()"
      ],
      "metadata": {
        "id": "mlzNdrqApD93",
        "outputId": "da1329b1-9c4f-4538-d4eb-213b39bf9a62",
        "colab": {
          "base_uri": "https://localhost:8080/",
          "height": 306
        }
      },
      "execution_count": null,
      "outputs": [
        {
          "output_type": "display_data",
          "data": {
            "text/plain": [
              "<Figure size 432x288 with 2 Axes>"
            ],
            "image/png": "[encoded data removed]"
          },
          "metadata": {
            "needs_background": "light"
          }
        }
      ]
    },
    {
      "cell_type": "markdown",
      "source": [
        "However, the TF vector of text 2 is no longer binary since two words are mentioned\n",
        "more than once. \n",
        "\n",
        "How will this affect the similarity between text1 and text2? \n",
        "\n",
        "Let’s find out."
      ],
      "metadata": {
        "id": "TfNJt9l7k_Dq"
      }
    },
    {
      "cell_type": "code",
      "source": [
        "# Transforming words into binary vectors\n",
        "vectors = []\n",
        "for i, words_set in enumerate(words_sets, 1):\n",
        "  # Generates an array of 0s\n",
        "  vector = np.array([0] * len(vocabulary))\n",
        "  for word in words_set:\n",
        "    vector[vocabulary[word]] = 1\n",
        "  vectors.append(vector)\n",
        "  \n",
        "# Comparing metrics of vector similarity\n",
        "tf_vector1 = tf_vectors[0]\n",
        "binary_vector1 = vectors[0]\n",
        "\n",
        "for i, tf_vector in enumerate(tf_vectors[1:], 2):\n",
        "  similarity = tanimoto_similarity(tf_vector1, tf_vector)\n",
        "  old_similarity = tanimoto_similarity(tf_vector1, vectors[i - 1])\n",
        "  print(f\"The recomputed Tanimoto similarity between texts 1 and {i} is {similarity:.3f}\")\n",
        "  print(f\"Previously, that similarity equaled {old_similarity:.3f} \\n\")"
      ],
      "metadata": {
        "id": "zxuzeeoWqOny",
        "outputId": "b030f952-ce7e-4f78-820f-e5879f1ae48f",
        "colab": {
          "base_uri": "https://localhost:8080/"
        }
      },
      "execution_count": null,
      "outputs": [
        {
          "output_type": "stream",
          "name": "stdout",
          "text": [
            "The recomputed Tanimoto similarity between texts 1 and 2 is 0.462\n",
            "Previously, that similarity equaled 0.444 \n",
            "\n",
            "The recomputed Tanimoto similarity between texts 1 and 3 is 0.417\n",
            "Previously, that similarity equaled 0.417 \n",
            "\n"
          ]
        }
      ]
    },
    {
      "cell_type": "markdown",
      "source": [
        "As expected, the similarity between `text1` and `text3` has stayed the same, while the\n",
        "similarity between `text1` and `text2` has increased. \n",
        "\n",
        "Thus, **TF vectorization has made the affinity of the two texts more pronounced**.\n",
        "\n",
        "TF vectors yield improved comparisons because they’re sensitive to count differences\n",
        "between texts. This sensitivity is useful. \n",
        "\n",
        "However, it can also be detrimental\n",
        "when comparing texts of different lengths.\n",
        "\n",
        "There is a flaw associated with TF vector comparison.\n",
        "\n",
        "But don't worry, there is a technique called normalization\n",
        "to eliminate this flaw."
      ],
      "metadata": {
        "id": "pQJedaZVsZst"
      }
    },
    {
      "cell_type": "markdown",
      "source": [
        "### TF vector similarity using normalization"
      ],
      "metadata": {
        "id": "73C6bZmTsaIP"
      }
    },
    {
      "cell_type": "markdown",
      "source": [
        "Suppose you run a query for “Pepperoni Pizza” and the following two titles are\n",
        "returned:\n",
        "\n",
        "* **Title A**—“Pepperoni Pizza! Pepperoni Pizza! Pepperoni Pizza!”\n",
        "* **Title B**—“Pepperoni”\n",
        "\n",
        "Which of our two titles best matches the query? Most data scientists would agree that\n",
        "title A is a better match than title B. \n",
        "\n",
        "Both title A and the query mention pepperoni pizza.\n",
        "Meanwhile, title B mentions only pepperoni. There is no indication that the associated\n",
        "document actually discusses pizza in any context.\n",
        "\n",
        "Let’s check whether title A ranks higher than title B relative to the query."
      ],
      "metadata": {
        "id": "v3nEwM6zsiDX"
      }
    },
    {
      "cell_type": "code",
      "source": [
        "# Simple search engine vectorization\n",
        "query_vector = np.array([1, 1])\n",
        "title_a_vector = np.array([3, 3])\n",
        "title_b_vector = np.array([1, 0])"
      ],
      "metadata": {
        "id": "Un7ezvrwF-Q4"
      },
      "execution_count": null,
      "outputs": []
    },
    {
      "cell_type": "code",
      "source": [
        "# Ranking titles by query similarity\n",
        "titles = [\n",
        "  \"A: Pepperoni Pizza! Pepperoni Pizza! Pepperoni Pizza!\",\n",
        "  \"B: Pepperoni\"        \n",
        "]\n",
        "\n",
        "title_vectors = [title_a_vector, title_b_vector]\n",
        "similarities = [tanimoto_similarity(query_vector, title_vector) for title_vector in title_vectors]\n",
        "\n",
        "for index in sorted(range(len(titles)), key= lambda i: similarities[i], reverse=True):\n",
        "  title = titles[index]\n",
        "  similarity = similarities[index]\n",
        "  print(f\"{title} has a query similarity of {similarity:.4f}\")"
      ],
      "metadata": {
        "id": "svfBTmLNGOXv",
        "outputId": "63eacd36-fe56-47e2-d945-4a81a4b5be68",
        "colab": {
          "base_uri": "https://localhost:8080/"
        }
      },
      "execution_count": null,
      "outputs": [
        {
          "metadata": {
            "tags": null
          },
          "name": "stdout",
          "output_type": "stream",
          "text": [
            "B: Pepperoni has a query similarity of 0.5000\n",
            "A: Pepperoni Pizza! Pepperoni Pizza! Pepperoni Pizza! has a query similarity of 0.4286\n"
          ]
        }
      ]
    },
    {
      "cell_type": "markdown",
      "source": [
        "Unfortunately, title A outranks title B. This discrepancy in rankings is caused by text\n",
        "size. \n",
        "\n",
        "Title A has three times as many words as the query, while title B and the query differ\n",
        "by just a single word."
      ],
      "metadata": {
        "id": "QwHStSFqHlfc"
      }
    },
    {
      "cell_type": "code",
      "source": [
        "# Eliminating size differences through division\n",
        "assert np.array_equal(query_vector, title_a_vector / 3)\n",
        "assert tanimoto_similarity(query_vector, title_a_vector / 3) == 1"
      ],
      "metadata": {
        "id": "_hPaYFLZHmcA"
      },
      "execution_count": null,
      "outputs": []
    },
    {
      "cell_type": "markdown",
      "source": [
        "Mathematicians treat every vector v as a line stretching from\n",
        "the origin to the numerical coordinates in v. \n",
        "\n",
        "Essentially, our three vectors are merely\n",
        "2D line segments rising from the origin."
      ],
      "metadata": {
        "id": "0ySIlh4mIGuB"
      }
    },
    {
      "cell_type": "code",
      "source": [
        "# Plotting TF vectors in 2D space\n",
        "plt.plot([0, query_vector[0]], [0, query_vector[1]], c=\"k\", linewidth=3, label=\"Query Vector\")\n",
        "plt.plot([0, title_a_vector[0]], [0, title_a_vector[1]], c=\"b\", linestyle=\"--\", label=\"Title A Vector\")\n",
        "plt.plot([0, title_b_vector[0]], [0, title_b_vector[1]], c=\"g\", linewidth=2, linestyle=\"-.\", label=\"Title B Vector\")\n",
        "plt.xlabel(\"Pepperoni\")\n",
        "plt.ylabel(\"Pizza\")\n",
        "plt.legend()\n",
        "plt.show()"
      ],
      "metadata": {
        "id": "Xk2OsXxMIHMA",
        "outputId": "dbbbee45-3acd-4085-fb2b-e4ff0215b899",
        "colab": {
          "base_uri": "https://localhost:8080/"
        }
      },
      "execution_count": null,
      "outputs": [
        {
          "data": {
            "image/png": "[encoded data removed]",
            "text/plain": [
              "<Figure size 432x288 with 1 Axes>"
            ]
          },
          "metadata": {},
          "output_type": "display_data"
        }
      ]
    },
    {
      "cell_type": "markdown",
      "source": [
        "Hence, every vector has a geometric length, which is\n",
        "called the magnitude. The magnitude is also called the Euclidean norm or the L2 norm.\n",
        "\n",
        "Measuring the magnitude allows us to account for differences in geometric lengths.\n",
        "\n",
        "Let’s output the magnitudes of our search engine vectors."
      ],
      "metadata": {
        "id": "V97G01ZqKmuP"
      }
    },
    {
      "cell_type": "code",
      "source": [
        "# Computing vector magnitude\n",
        "vector_names = [\"Query Vector\", \"Title A Vector\", \"Title B Vector\"]\n",
        "tf_search_vectors = [query_vector, title_a_vector, title_b_vector]\n",
        "origin = np.array([0, 0])\n",
        "\n",
        "for name , tf_vector in zip(vector_names, tf_search_vectors):\n",
        "  # calculate the magnitude using Euclidean distance\n",
        "  magnitude = euclidean(tf_vector, origin)\n",
        "  # calculate the magnitude using Numpy's norm\n",
        "  assert magnitude == norm(tf_vector)\n",
        "  # calculate the magnitude using dot product\n",
        "  assert magnitude == (tf_vector @ tf_vector) ** .5\n",
        "  print(f\"{name}'s magnitude is approximately {magnitude:.4f}\")\n",
        "\n",
        "magnitude_ratio = norm(title_a_vector) / norm(query_vector)\n",
        "print(f\"\\nVector A is {magnitude_ratio:.0f}x as long as Query Vector\")"
      ],
      "metadata": {
        "id": "lIZ6BNBBKnUg",
        "outputId": "93512806-b268-485e-e2cb-20e54e851313",
        "colab": {
          "base_uri": "https://localhost:8080/"
        }
      },
      "execution_count": null,
      "outputs": [
        {
          "metadata": {
            "tags": null
          },
          "name": "stdout",
          "output_type": "stream",
          "text": [
            "Query Vector's magnitude is approximately 1.4142\n",
            "Title A Vector's magnitude is approximately 4.2426\n",
            "Title B Vector's magnitude is approximately 1.0000\n",
            "\n",
            "Vector A is 3x as long as Query Vector\n"
          ]
        }
      ]
    },
    {
      "cell_type": "markdown",
      "source": [
        "A vector with a\n",
        "magnitude of 1 is referred to as a unit vector. Unit vectors have many useful properties,one benefit of unit vectors is that they are easy to compare:\n",
        "since unit vectors share an equal magnitude, it doesn’t play a role in their similarity.\n",
        "\n",
        "Fundamentally, the difference between unit vectors is determined solely by direction.\n",
        "\n",
        "Dividing any\n",
        "vector by its magnitude transforms that magnitude to 1. \n",
        "\n",
        "That division by the magnitude\n",
        "is called normalization, since the magnitude is also referenced as the L2 norm."
      ],
      "metadata": {
        "id": "nmuBSBhANPfs"
      }
    },
    {
      "cell_type": "code",
      "source": [
        "# Plotting normalized vectors\n",
        "unit_query_vector = query_vector / norm(query_vector)\n",
        "unit_title_a_vector = title_a_vector / norm(title_a_vector)\n",
        "assert np.allclose(unit_query_vector, unit_title_a_vector)\n",
        "# This vector is already a unit vector.There is no need to normalize\n",
        "unit_title_b_vector = title_b_vector / norm(title_b_vector)\n",
        "\n",
        "plt.plot([0, unit_query_vector[0]], [0, unit_query_vector[1]], c=\"k\", linewidth=3, label=\"Normalized Query Vector\")\n",
        "plt.plot([0, unit_title_a_vector[0]], [0, unit_title_a_vector[1]], c=\"r\", linestyle=\"--\", label=\"Normalized Title A Vector\")\n",
        "plt.plot([0, unit_title_b_vector[0]], [0, unit_title_b_vector[1]], c=\"g\", linewidth=2, linestyle=\"-.\", label=\"Title B Vector\")\n",
        "plt.axis(\"equal\")\n",
        "plt.legend()\n",
        "plt.show()"
      ],
      "metadata": {
        "id": "V3ZKazRgSC2L",
        "outputId": "5fe29e95-c7ec-4b96-9afd-1553d9a867bd",
        "colab": {
          "base_uri": "https://localhost:8080/"
        }
      },
      "execution_count": null,
      "outputs": [
        {
          "data": {
            "image/png": "[encoded data removed]",
            "text/plain": [
              "<Figure size 432x288 with 1 Axes>"
            ]
          },
          "metadata": {},
          "output_type": "display_data"
        }
      ]
    },
    {
      "cell_type": "code",
      "source": [
        "# Ranking titles by unit vector similarity\n",
        "unit_title_vectors = [unit_title_a_vector, unit_title_b_vector]\n",
        "similarities = [tanimoto_similarity(unit_query_vector, unit_title_vector) for unit_title_vector in unit_title_vectors]\n",
        "\n",
        "for index in sorted(range(len(titles)), key=lambda i: similarities[i], reverse=True):\n",
        "  title = titles[index]\n",
        "  similarity = similarities[index]\n",
        "  print(f\"{title} has a normalized query similarity of {similarity:.4f}\")"
      ],
      "metadata": {
        "id": "00CN5zisTYXd",
        "outputId": "d221864c-1d3b-4c1b-bf4c-e6e761fa4814",
        "colab": {
          "base_uri": "https://localhost:8080/"
        }
      },
      "execution_count": null,
      "outputs": [
        {
          "metadata": {
            "tags": null
          },
          "name": "stdout",
          "output_type": "stream",
          "text": [
            "A: Pepperoni Pizza! Pepperoni Pizza! Pepperoni Pizza! has a normalized query similarity of 1.0000\n",
            "B: Pepperoni has a normalized query similarity of 0.5469\n"
          ]
        }
      ]
    },
    {
      "cell_type": "code",
      "source": [
        "# Computing a unit vector Tanimoto similarity\n",
        "def normalized_tanimoto(u1, u2):\n",
        "  dot_product = u1 @ u2\n",
        "  return dot_product / (2 - dot_product)"
      ],
      "metadata": {
        "id": "nkF2CqIlUk61"
      },
      "execution_count": null,
      "outputs": []
    },
    {
      "cell_type": "code",
      "source": [
        "for unit_title_vector in unit_title_vectors[1:]:\n",
        "  similarity = normalized_tanimoto(unit_query_vector, unit_title_vector)\n",
        "  assert similarity == tanimoto_similarity(unit_query_vector, unit_title_vector)"
      ],
      "metadata": {
        "id": "8wlVeF9nUwtE"
      },
      "execution_count": null,
      "outputs": []
    },
    {
      "cell_type": "markdown",
      "source": [
        "The dot product of two unit vectors is a very special value. It can easily be converted\n",
        "into the angle between the vectors and also into the spatial distance between them.\n",
        "\n",
        "Fortunately, math gives you a way out. If your vectors are normalized, their Tanimoto\n",
        "similarity can be substituted with the Euclidean and cosine metrics. This is because all\n",
        "three measures are very closely related to the normalized dot product."
      ],
      "metadata": {
        "id": "A2vRgimmVO-c"
      }
    },
    {
      "cell_type": "markdown",
      "source": [
        "###Relevance metrics using dot products"
      ],
      "metadata": {
        "id": "CE_pGH2TVdHc"
      }
    },
    {
      "cell_type": "markdown",
      "source": [
        "Geometrically, the dot product of two unit vectors equals the cosine of the angle\n",
        "between them. Due to its equivalence with the cosine, the dot product of two unit\n",
        "vectors is commonly referred to as the cosine similarity.\n",
        "\n"
      ],
      "metadata": {
        "id": "ClkfCLWfXGbN"
      }
    },
    {
      "cell_type": "code",
      "source": [
        "# Converting between unit vector metrics\n",
        "unit_vector_names = [\"Normalized Title A vector\", \"Title B vector\"]\n",
        "u1 = unit_query_vector\n",
        "\n",
        "for unit_vector_name, u2 in zip(unit_vector_names, unit_title_vectors):\n",
        "  similarity = normalized_tanimoto(u1, u2)\n",
        "  cosine_similarity = 2 * similarity / (1 + similarity)\n",
        "  assert cosine_similarity == u1 @ u2\n",
        "\n",
        "  angle = np.arccos(cosine_similarity)\n",
        "  euclidean_distance = (2 - 2 * cosine_similarity) ** .5\n",
        "  assert round(euclidean_distance, 10) == round(euclidean(u1, u2), 10)\n",
        "\n",
        "  measurements = {\n",
        "    \"Tanimoto similarity\": similarity,\n",
        "    \"cosine similarity\": cosine_similarity,\n",
        "    \"Euclidean distance\": euclidean_distance,\n",
        "    \"angle\": np.degrees(angle)\n",
        "  }\n",
        "\n",
        "  print(f\"We are comparing Normalized Query Vector and {unit_vector_names}\")\n",
        "  for measurement_type, value in measurements.items():\n",
        "    output = f\"The {measurement_type} between vectors is {value:.4f}\"\n",
        "    if measurement_type == \"angle\":\n",
        "      output += \" degrees\\n\"\n",
        "    print(output)"
      ],
      "metadata": {
        "id": "xlMOB2eAXc9F",
        "outputId": "01656ce6-4eb3-4399-974d-37effc2467b5",
        "colab": {
          "base_uri": "https://localhost:8080/"
        }
      },
      "execution_count": null,
      "outputs": [
        {
          "metadata": {
            "tags": null
          },
          "name": "stdout",
          "output_type": "stream",
          "text": [
            "We are comparing Normalized Query Vector and ['Normalized Title A vector', 'Title B vector']\n",
            "The Tanimoto similarity between vectors is 1.0000\n",
            "The cosine similarity between vectors is 1.0000\n",
            "The Euclidean distance between vectors is 0.0000\n",
            "The angle between vectors is 0.0000 degrees\n",
            "\n",
            "We are comparing Normalized Query Vector and ['Normalized Title A vector', 'Title B vector']\n",
            "The Tanimoto similarity between vectors is 0.5469\n",
            "The cosine similarity between vectors is 0.7071\n",
            "The Euclidean distance between vectors is 0.7654\n",
            "The angle between vectors is 45.0000 degrees\n",
            "\n"
          ]
        }
      ]
    },
    {
      "cell_type": "markdown",
      "source": [
        "The Tanimoto similarity between normalized vectors can be transformed into other\n",
        "metrics of similarity or distance.\n",
        "\n",
        "However, a table\n",
        "of cross-text similarities can be elegantly computed using matrix multiplication. In\n",
        "mathematics, matrix multiplication generalizes the dot product from one-dimensional\n",
        "vectors to two-dimensional arrays."
      ],
      "metadata": {
        "id": "TC_NdVBBaMnF"
      }
    },
    {
      "cell_type": "markdown",
      "source": [
        "##Similarity calculation using Matrix multiplication"
      ],
      "metadata": {
        "id": "SXyovfNcadD1"
      }
    },
    {
      "cell_type": "markdown",
      "source": [
        "Let’s generate a table of normalized Tanimoto similarities."
      ],
      "metadata": {
        "id": "BolyP0dyagjN"
      }
    },
    {
      "cell_type": "code",
      "source": [
        "# Computing a table of normalized Tanimoto similarities\n",
        "num_texts = len(tf_vectors)\n",
        "similarities = np.array([[0.0] * num_texts for _ in range(num_texts)])\n",
        "unit_vectors = np.array([vector / norm(vector) for vector in tf_vectors])\n",
        "for i, vector_a in enumerate(unit_vectors):\n",
        "  for j, vector_b in enumerate(unit_vectors):\n",
        "    similarities[i][j] = normalized_tanimoto(vector_a, vector_b)\n",
        "\n",
        "labels = [\"Text 1\", \"Text 2\", \"Text 3\"]\n",
        "sns.heatmap(similarities, cmap=\"YlGnBu\", annot=True, xticklabels=labels, yticklabels=labels)\n",
        "plt.yticks(rotation=0)\n",
        "plt.show()"
      ],
      "metadata": {
        "id": "1Y_mSKI5zZFK",
        "outputId": "da95add1-a53e-43e3-9d48-9bb2362734fa",
        "colab": {
          "base_uri": "https://localhost:8080/",
          "height": 269
        }
      },
      "execution_count": null,
      "outputs": [
        {
          "data": {
            "image/png": "[encoded data removed]",
            "text/plain": [
              "<Figure size 432x288 with 2 Axes>"
            ]
          },
          "metadata": {},
          "output_type": "display_data"
        }
      ]
    },
    {
      "cell_type": "markdown",
      "source": [
        "###Basic matrix operations"
      ],
      "metadata": {
        "id": "GYiLc-jE2Shv"
      }
    },
    {
      "cell_type": "markdown",
      "source": [
        "A matrix is the extension of a one-dimensional vector\n",
        "to two dimensions. In other words, a matrix is just a table of numbers.\n",
        "\n",
        "Since matrices are tables, they can be analyzed using Pandas."
      ],
      "metadata": {
        "id": "lHGqxr2y2TVO"
      }
    },
    {
      "cell_type": "code",
      "source": [
        "# Comparing Pandas and NumPy matrix attributes\n",
        "matrices = [unit_vectors, pd.DataFrame(unit_vectors)]\n",
        "matrix_types = [\"2D NumPy array\", \"Pandas DataFrame\"]\n",
        "\n",
        "for matrix_type, matrix in zip(matrix_types, matrices):\n",
        "  row_count, column_count = matrix.shape\n",
        "  print(f\"Our {matrix_type} contains {row_count} rows and {column_count} columns\")\n",
        "  assert (column_count, row_count) == matrix.T.shape"
      ],
      "metadata": {
        "id": "4qVr5astkZ82",
        "outputId": "56702ab7-0f37-4cfc-f06e-26e0c0aa67d2",
        "colab": {
          "base_uri": "https://localhost:8080/"
        }
      },
      "execution_count": null,
      "outputs": [
        {
          "metadata": {
            "tags": null
          },
          "name": "stdout",
          "output_type": "stream",
          "text": [
            "Our 2D NumPy array contains 3 rows and 15 columns\n",
            "Our Pandas DataFrame contains 3 rows and 15 columns\n"
          ]
        }
      ]
    },
    {
      "cell_type": "markdown",
      "source": [
        "**NUMPY MATRIX ARITHMETIC OPERATIONS**"
      ],
      "metadata": {
        "id": "HkR3oSyQlSdp"
      }
    },
    {
      "cell_type": "markdown",
      "source": [
        "Doubling the values of a matrix is very easy to do in NumPy."
      ],
      "metadata": {
        "id": "UZVTg8f0lcDg"
      }
    },
    {
      "cell_type": "code",
      "source": [
        "# NumPy array addition and subtraction\n",
        "double_similarities = 2 * similarities\n",
        "np.array_equal(double_similarities, similarities + similarities)\n",
        "zero_matrix = similarities - similarities\n",
        "negative_1_matrix = similarities - similarities - 1\n",
        "\n",
        "for i in range(similarities.shape[0]):\n",
        "  for j in range(similarities.shape[1]):\n",
        "    assert double_similarities[i][j] == 2 * similarities[i][j]\n",
        "    assert zero_matrix[i][j] == 0\n",
        "    assert negative_1_matrix[i][j] == -1"
      ],
      "metadata": {
        "id": "dOVUl4r2lcxZ"
      },
      "execution_count": null,
      "outputs": []
    },
    {
      "cell_type": "code",
      "source": [
        "# NumPy array multiplication and division\n",
        "squared_similarities = similarities * similarities\n",
        "assert np.array_equal(squared_similarities, similarities ** 2)\n",
        "\n",
        "ones_matrix = similarities / similarities\n",
        "\n",
        "for i in range(similarities.shape[0]):\n",
        "  for j in range(similarities.shape[1]):\n",
        "    assert squared_similarities[i][j] == similarities[i][j] ** 2\n",
        "    assert ones_matrix[i][j] == 1"
      ],
      "metadata": {
        "id": "CIrghW0MmVgJ"
      },
      "execution_count": null,
      "outputs": []
    },
    {
      "cell_type": "code",
      "source": [
        "# Converting between matrix similarity-types\n",
        "cosine_similarities = 2 * similarities / (1 + similarities)\n",
        "\n",
        "for i in range(similarities.shape[0]):\n",
        "  for j in range(similarities.shape[1]):\n",
        "    # Confirms that the cosine similarity equals the actual vector dot product\n",
        "    cosine_sim = unit_vectors[i] @ unit_vectors[j]\n",
        "    assert round(cosine_similarities[i][j], 15) == round(cosine_sim, 15)"
      ],
      "metadata": {
        "id": "udeA7iODm-E1"
      },
      "execution_count": null,
      "outputs": []
    },
    {
      "cell_type": "markdown",
      "source": [
        "**NUMPY MATRIX ROW AND COLUMN OPERATIONS**\n",
        "\n",
        "Given any 2D matrix array, we can access the row at index i by running `matrix[i]`. \n",
        "\n",
        "Likewise,\n",
        "we can access the column at index j by running `matrix[:,j]`."
      ],
      "metadata": {
        "id": "SeW5DKT5n0gV"
      }
    },
    {
      "cell_type": "code",
      "source": [
        "# Accessing NumPy matrix rows and columns\n",
        "for name, matrix in [(\"Similarities\", similarities), (\"Unit Vectors\", unit_vectors)]:\n",
        "  print(f\"Accessing rows and columns in the {name} Matrix.\")\n",
        "  row, column = matrix[0], matrix[:, 0]\n",
        "  print(f\"Row at index 0 is:\\n{row}\")\n",
        "  print(f\"\\nColumn at index 0 is:\\n{column}\\n\")"
      ],
      "metadata": {
        "id": "aH0AEoHon8fI",
        "outputId": "9a9d5d7f-c01a-411f-9bac-10299909a826",
        "colab": {
          "base_uri": "https://localhost:8080/"
        }
      },
      "execution_count": null,
      "outputs": [
        {
          "metadata": {
            "tags": null
          },
          "name": "stdout",
          "output_type": "stream",
          "text": [
            "Accessing rows and columns in the Similarities Matrix.\n",
            "Row at index 0 is:\n",
            "[1.         0.51442439 0.44452044]\n",
            "\n",
            "Column at index 0 is:\n",
            "[1.         0.51442439 0.44452044]\n",
            "\n",
            "Accessing rows and columns in the Unit Vectors Matrix.\n",
            "Row at index 0 is:\n",
            "[0.         0.         0.40824829 0.         0.40824829 0.\n",
            " 0.         0.         0.40824829 0.         0.         0.40824829\n",
            " 0.40824829 0.         0.40824829]\n",
            "\n",
            "Column at index 0 is:\n",
            "[0.        0.2773501 0.       ]\n",
            "\n"
          ]
        }
      ]
    },
    {
      "cell_type": "code",
      "source": [
        "# Computing the dot product between a row and column\n",
        "row = similarities[0]\n",
        "column = unit_vectors[:, 0]\n",
        "dot_product = row @ column\n",
        "print(f\"The dot product between the row and column is: {dot_product:.4f}\")"
      ],
      "metadata": {
        "id": "O6L_5I3VpxYm",
        "outputId": "98bf6e3f-dc26-4ba9-c073-75b1ecd23944",
        "colab": {
          "base_uri": "https://localhost:8080/"
        }
      },
      "execution_count": null,
      "outputs": [
        {
          "metadata": {
            "tags": null
          },
          "name": "stdout",
          "output_type": "stream",
          "text": [
            "The dot product between the row and column is: 0.1427\n"
          ]
        }
      ]
    },
    {
      "cell_type": "code",
      "source": [
        "# Computing dot products between all rows and columns\n",
        "num_rows = similarities.shape[0]\n",
        "num_columns = unit_vectors.shape[1]\n",
        "\n",
        "for i in range(num_rows):\n",
        "  for j in range(num_columns):\n",
        "    row = similarities[i]\n",
        "    column = unit_vectors[:, j]\n",
        "    dot_product = row @ column\n",
        "    print(f\"The dot product between row {i} column {j} is: {dot_product:.4f}\")"
      ],
      "metadata": {
        "id": "JZX_2pfiqSd0",
        "outputId": "bedb5457-1892-4b70-889a-13492bac8fe8",
        "colab": {
          "base_uri": "https://localhost:8080/"
        }
      },
      "execution_count": null,
      "outputs": [
        {
          "metadata": {
            "tags": null
          },
          "name": "stdout",
          "output_type": "stream",
          "text": [
            "The dot product between row 0 column 0 is: 0.1427\n",
            "The dot product between row 0 column 1 is: 0.1340\n",
            "The dot product between row 0 column 2 is: 0.5509\n",
            "The dot product between row 0 column 3 is: 0.1340\n",
            "The dot product between row 0 column 4 is: 0.6850\n",
            "The dot product between row 0 column 5 is: 0.1427\n",
            "The dot product between row 0 column 6 is: 0.1340\n",
            "The dot product between row 0 column 7 is: 0.1340\n",
            "The dot product between row 0 column 8 is: 0.8276\n",
            "The dot product between row 0 column 9 is: 0.1340\n",
            "The dot product between row 0 column 10 is: 0.1340\n",
            "The dot product between row 0 column 11 is: 0.8276\n",
            "The dot product between row 0 column 12 is: 0.5423\n",
            "The dot product between row 0 column 13 is: 0.1427\n",
            "The dot product between row 0 column 14 is: 0.5423\n",
            "The dot product between row 1 column 0 is: 0.2774\n",
            "The dot product between row 1 column 1 is: 0.0797\n",
            "The dot product between row 1 column 2 is: 0.4874\n",
            "The dot product between row 1 column 3 is: 0.0797\n",
            "The dot product between row 1 column 4 is: 0.5671\n",
            "The dot product between row 1 column 5 is: 0.2774\n",
            "The dot product between row 1 column 6 is: 0.0797\n",
            "The dot product between row 1 column 7 is: 0.0797\n",
            "The dot product between row 1 column 8 is: 0.8444\n",
            "The dot product between row 1 column 9 is: 0.0797\n",
            "The dot product between row 1 column 10 is: 0.0797\n",
            "The dot product between row 1 column 11 is: 0.8444\n",
            "The dot product between row 1 column 12 is: 0.2897\n",
            "The dot product between row 1 column 13 is: 0.2774\n",
            "The dot product between row 1 column 14 is: 0.2897\n",
            "The dot product between row 2 column 0 is: 0.0733\n",
            "The dot product between row 2 column 1 is: 0.3015\n",
            "The dot product between row 2 column 2 is: 0.2548\n",
            "The dot product between row 2 column 3 is: 0.3015\n",
            "The dot product between row 2 column 4 is: 0.5563\n",
            "The dot product between row 2 column 5 is: 0.0733\n",
            "The dot product between row 2 column 6 is: 0.3015\n",
            "The dot product between row 2 column 7 is: 0.3015\n",
            "The dot product between row 2 column 8 is: 0.6296\n",
            "The dot product between row 2 column 9 is: 0.3015\n",
            "The dot product between row 2 column 10 is: 0.3015\n",
            "The dot product between row 2 column 11 is: 0.6296\n",
            "The dot product between row 2 column 12 is: 0.4830\n",
            "The dot product between row 2 column 13 is: 0.0733\n",
            "The dot product between row 2 column 14 is: 0.4830\n"
          ]
        }
      ]
    },
    {
      "cell_type": "code",
      "source": [
        "# Storing all-by-all dot products in a matrix\n",
        "dot_products = np.zeros((num_rows, num_columns))\n",
        "\n",
        "for i in range(num_rows):\n",
        "  for j in range(num_columns):\n",
        "    dot_products[i][j] = similarities[i] @ unit_vectors[:, j]\n",
        "\n",
        "print(dot_products)"
      ],
      "metadata": {
        "id": "fL1RQkxPrLn0",
        "outputId": "bee5277a-cba4-46a4-ff3c-bb96da9f9231",
        "colab": {
          "base_uri": "https://localhost:8080/"
        }
      },
      "execution_count": null,
      "outputs": [
        {
          "metadata": {
            "tags": null
          },
          "name": "stdout",
          "output_type": "stream",
          "text": [
            "[[0.14267565 0.13402795 0.55092394 0.13402795 0.6849519  0.14267565\n",
            "  0.13402795 0.13402795 0.82762755 0.13402795 0.13402795 0.82762755\n",
            "  0.54227624 0.14267565 0.54227624]\n",
            " [0.2773501  0.07969524 0.48736297 0.07969524 0.56705821 0.2773501\n",
            "  0.07969524 0.07969524 0.84440831 0.07969524 0.07969524 0.84440831\n",
            "  0.28970812 0.2773501  0.28970812]\n",
            " [0.07330896 0.30151134 0.25478367 0.30151134 0.55629501 0.07330896\n",
            "  0.30151134 0.30151134 0.62960397 0.30151134 0.30151134 0.62960397\n",
            "  0.48298605 0.07330896 0.48298605]]\n"
          ]
        }
      ]
    },
    {
      "cell_type": "markdown",
      "source": [
        "The operation we’ve just executed is called a matrix product. It’s a generalization of the\n",
        "vector dot product to two dimensions.\n",
        "\n",
        "**NUMPY MATRIX PRODUCTS**\n",
        "\n",
        "Conveniently, NumPy’s product operator `@`\n",
        "can be applied to 2D matrices as well as 1D arrays.\n"
      ],
      "metadata": {
        "id": "SvzJu4flroYk"
      }
    },
    {
      "cell_type": "code",
      "source": [
        "# Computing a matrix product using NumPy\n",
        "matrix_product = similarities @ unit_vectors\n",
        "assert np.allclose(matrix_product, dot_products)"
      ],
      "metadata": {
        "id": "nh5QPcCCuThH"
      },
      "execution_count": null,
      "outputs": []
    },
    {
      "cell_type": "code",
      "source": [
        "# Computing an erroneous matrix product\n",
        "try:\n",
        "  matrix_product = unit_vectors @ similarities\n",
        "except:\n",
        "  print(\"We can't compute the matrix product\")"
      ],
      "metadata": {
        "id": "Ueh3T5FcvBVS",
        "outputId": "43375979-c7ac-4e95-d131-18a9167212ec",
        "colab": {
          "base_uri": "https://localhost:8080/"
        }
      },
      "execution_count": null,
      "outputs": [
        {
          "metadata": {
            "tags": null
          },
          "name": "stdout",
          "output_type": "stream",
          "text": [
            "We can't compute the matrix product\n"
          ]
        }
      ]
    },
    {
      "cell_type": "markdown",
      "source": [
        "In mathematics, the words product and multiplication are often interchangeable. \n",
        "\n",
        "Thus,computing the matrix product is commonly called matrix multiplication."
      ],
      "metadata": {
        "id": "q71IqvpevW1n"
      }
    },
    {
      "cell_type": "code",
      "source": [
        "# Running matrix multiplication using matmul\n",
        "matrix_product = np.matmul(similarities, unit_vectors)\n",
        "assert np.array_equal(matrix_product, similarities @ unit_vectors)"
      ],
      "metadata": {
        "id": "pJ4UG5shvcOW"
      },
      "execution_count": null,
      "outputs": []
    },
    {
      "cell_type": "markdown",
      "source": [
        "Let’s compare the matrix product speed between NumPy and regular Python."
      ],
      "metadata": {
        "id": "8xxQYXmIvxQB"
      }
    },
    {
      "cell_type": "code",
      "source": [
        "# Comparing matrix product running times\n",
        "numpy_run_times = []\n",
        "python_run_times = []\n",
        "\n",
        "matrix_sizes = range(1, 101)\n",
        "for size in matrix_sizes:\n",
        "  matrix = np.ones((size, size))\n",
        "\n",
        "  start_time = time.time()\n",
        "  matrix @ matrix\n",
        "  numpy_run_times.append(time.time() - start_time)\n",
        "\n",
        "  start_time = time.time()\n",
        "  for i in range(size):\n",
        "    for j in range(size):\n",
        "      matrix[i] @ matrix[:, j]\n",
        "  python_run_times.append(time.time() - start_time)\n",
        "\n",
        "plt.plot(matrix_sizes, numpy_run_times, label=\"NumPy Matrix Product\", linestyle=\"--\")\n",
        "plt.plot(matrix_sizes, python_run_times, label=\"Python Matrix Product\", color=\"k\")\n",
        "plt.xlabel(\"Row/Column Size\")\n",
        "plt.ylabel(\"Running Time (Seconds)\")\n",
        "plt.legend()\n",
        "plt.show()"
      ],
      "metadata": {
        "id": "nO36keHZvybJ",
        "outputId": "02038482-d2dd-4194-8111-70002224e962",
        "colab": {
          "base_uri": "https://localhost:8080/"
        }
      },
      "execution_count": null,
      "outputs": [
        {
          "data": {
            "image/png": "[encoded data removed]",
            "text/plain": [
              "<Figure size 432x288 with 1 Axes>"
            ]
          },
          "metadata": {},
          "output_type": "display_data"
        }
      ]
    },
    {
      "cell_type": "markdown",
      "source": [
        "###Computing all-by-all matrix similarities"
      ],
      "metadata": {
        "id": "2uukfOb1xebh"
      }
    },
    {
      "cell_type": "markdown",
      "source": [
        "What will happen if we multiply `unit_vectors` by `unit_vectors.T`?\n",
        "\n",
        "Taking the dot product of `unit_vectors[i]` and `unit_vectors.\n",
        "T[:,i]` will return the cosine similarity between a unit vector and itself.\n",
        "\n",
        "That similarity, of course, will equal 1."
      ],
      "metadata": {
        "id": "zrpDbmQlxhCL"
      }
    },
    {
      "cell_type": "code",
      "source": [
        "# Obtaining cosines from a matrix product\n",
        "cosine_matrix = unit_vectors @ unit_vectors.T\n",
        "assert np.allclose(cosine_matrix, cosine_similarities)"
      ],
      "metadata": {
        "id": "iw_gaSlhEY3F"
      },
      "execution_count": null,
      "outputs": []
    },
    {
      "cell_type": "markdown",
      "source": [
        "That cosine can be transformed into a Tanimoto value, which generally reflects word overlap and divergence between texts."
      ],
      "metadata": {
        "id": "OFgX-13SEwaF"
      }
    },
    {
      "cell_type": "code",
      "source": [
        "# Converting cosines to a Tanimoto matrix\n",
        "tanimoto_matrix = cosine_matrix / (2 - cosine_matrix)\n",
        "assert np.allclose(tanimoto_matrix, similarities)"
      ],
      "metadata": {
        "id": "KuHRwAKsEzAr"
      },
      "execution_count": null,
      "outputs": []
    },
    {
      "cell_type": "markdown",
      "source": [
        "We can also compute\n",
        "these similarities by inputting `unit_vectors` and `unit_vectors.T` directly into our\n",
        "normalized_tanimoto function."
      ],
      "metadata": {
        "id": "sQ36e_qzFI3c"
      }
    },
    {
      "cell_type": "code",
      "source": [
        "# Inputting matrices into normalized_tanimoto\n",
        "output = normalized_tanimoto(unit_vectors, unit_vectors.T)\n",
        "assert np.array_equal(output, tanimoto_matrix)"
      ],
      "metadata": {
        "id": "a6qdi5QQFLhz"
      },
      "execution_count": null,
      "outputs": []
    },
    {
      "cell_type": "markdown",
      "source": [
        "##Computational limits of matrix multiplication"
      ],
      "metadata": {
        "id": "zlL05bMoHDaA"
      }
    },
    {
      "cell_type": "markdown",
      "source": [
        "Let’s assume that 30 novels require a shared vocabulary containing 50,000 words.\n",
        "\n",
        "Furthermore, let’s assume we take an all-by-all similarity across the 30 books. \n",
        "\n",
        "How much time is required to compute these similarities? \n",
        "\n",
        "Let’s find out!"
      ],
      "metadata": {
        "id": "Ei_6ArfHHEVx"
      }
    },
    {
      "cell_type": "code",
      "source": [
        "# Timing an all-by-all comparison of 30 novels\n",
        "vocabulary_size = 50000\n",
        "normalized_vector = [1 / vocabulary_size] * vocabulary_size\n",
        "book_count = 30\n",
        "\n",
        "def measure_run_time(book_count):\n",
        "  book_matrix = np.array([normalized_vector] * book_count)\n",
        "\n",
        "  start_time = time.time()\n",
        "  normalized_tanimoto(book_matrix, book_matrix.T)\n",
        "  return time.time() - start_time"
      ],
      "metadata": {
        "id": "cy50XeXL8y6w"
      },
      "execution_count": null,
      "outputs": []
    },
    {
      "cell_type": "code",
      "source": [
        "run_time = measure_run_time(book_count)\n",
        "print(f\"It took {run_time:.4f} seconds to compute the similarities across a {book_count}-book by {vocabulary_size}-word matrix\")"
      ],
      "metadata": {
        "id": "e3qTFX1s9Zhl",
        "outputId": "1682d2b6-4917-4c2f-ed15-099b62a6ee09",
        "colab": {
          "base_uri": "https://localhost:8080/"
        }
      },
      "execution_count": null,
      "outputs": [
        {
          "output_type": "stream",
          "name": "stdout",
          "text": [
            "It took 0.0075 seconds to compute the similarities across a 30-book by 50000-word matrix\n"
          ]
        }
      ]
    },
    {
      "cell_type": "code",
      "source": [
        "# Plotting book counts vs. running times\n",
        "book_counts = range(30, 1000, 30)\n",
        "run_times = [measure_run_time(book_count) for book_count in book_counts]\n",
        "\n",
        "plt.scatter(book_counts, run_times)\n",
        "plt.xlabel(\"Book Count\")\n",
        "plt.ylabel(\"Running Time (Seconds)\")\n",
        "plt.show()"
      ],
      "metadata": {
        "id": "-82qVSXt-s1O",
        "outputId": "1b644e87-358d-4274-bf24-4e2ca2f0a521",
        "colab": {
          "base_uri": "https://localhost:8080/",
          "height": 279
        }
      },
      "execution_count": null,
      "outputs": [
        {
          "output_type": "display_data",
          "data": {
            "text/plain": [
              "<Figure size 432x288 with 1 Axes>"
            ],
            "image/png": "[encoded data removed]"
          },
          "metadata": {
            "needs_background": "light"
          }
        }
      ]
    },
    {
      "cell_type": "markdown",
      "source": [
        "Our plotted curve takes on a parabolic shape\n",
        "defined by `y = n * (x ** 2)`. When `x` is approximately 1,000, `y` equals approximately 0.27. Thus, we can model our running times using the equation `y = (0.27 / (1000 ** 2)) * (x ** 2)`.\n",
        "\n"
      ],
      "metadata": {
        "id": "su0fzRmz_Z1S"
      }
    },
    {
      "cell_type": "code",
      "source": [
        "def y(x):\n",
        "  return (0.27 / (1000 ** 2)) * (x ** 2)\n",
        "\n",
        "plt.scatter(book_counts, run_times)\n",
        "plt.plot(book_counts, y(np.array(book_counts)), c=\"k\")\n",
        "plt.xlabel(\"Book Count\")\n",
        "plt.ylabel(\"Running Time (Seconds)\")\n",
        "plt.show()"
      ],
      "metadata": {
        "id": "VrhF466r_iDm",
        "outputId": "21c88ae4-473e-4892-bc04-bbfceea867e2",
        "colab": {
          "base_uri": "https://localhost:8080/",
          "height": 279
        }
      },
      "execution_count": null,
      "outputs": [
        {
          "output_type": "display_data",
          "data": {
            "text/plain": [
              "<Figure size 432x288 with 1 Axes>"
            ],
            "image/png": "[encoded data removed]"
          },
          "metadata": {
            "needs_background": "light"
          }
        }
      ]
    },
    {
      "cell_type": "markdown",
      "source": [
        "Let’s see how long it will take to\n",
        "measure the similarity across 300,000 books."
      ],
      "metadata": {
        "id": "3oKbgA-NApyI"
      }
    },
    {
      "cell_type": "code",
      "source": [
        "# Predicting the running time for 300,000 books\n",
        "book_count = 300000\n",
        "run_time = y(book_count) / 3600\n",
        "print(f\"It took {run_time} hours to compute all-by-all similarities from a {book_count}-book by {vocabulary_size}-word matrix\")"
      ],
      "metadata": {
        "id": "bWoME_yiAqW6",
        "outputId": "3a5ea6b8-bfc4-46ac-b1c9-a7bc0e8fdd36",
        "colab": {
          "base_uri": "https://localhost:8080/"
        }
      },
      "execution_count": null,
      "outputs": [
        {
          "output_type": "stream",
          "name": "stdout",
          "text": [
            "It took 6.75 hours to compute all-by-all similarities from a 300000-book by 50000-word matrix\n"
          ]
        }
      ]
    },
    {
      "cell_type": "markdown",
      "source": [
        "Our matrix is too large, partially because of column size. Each row contains 50,000\n",
        "columns corresponding to 50,000 words. However, in a real-world setting, not all\n",
        "words are distributed equally. While some words are common across novels, other\n",
        "words may appear only once.\n",
        "\n",
        "It’s possible to systematically reduce the dimensions of each matrix row from\n",
        "50,000 to a more reasonable value.\n",
        "\n",
        "**Reducing the dimensions of text matrices greatly lowers the running times of common NLP computations**."
      ],
      "metadata": {
        "id": "mVcKaiM9BXG-"
      }
    }
  ]
}