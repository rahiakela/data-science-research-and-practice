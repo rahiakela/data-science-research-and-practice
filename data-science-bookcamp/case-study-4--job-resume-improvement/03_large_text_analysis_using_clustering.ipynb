{
  "nbformat": 4,
  "nbformat_minor": 0,
  "metadata": {
    "colab": {
      "name": "03-large-text-analysis-using-clustering.ipynb",
      "provenance": [],
      "toc_visible": true,
      "authorship_tag": "ABX9TyMX1vxnBqCMOw2ufb47rb/i",
      "include_colab_link": true
    },
    "kernelspec": {
      "name": "python3",
      "display_name": "Python 3"
    },
    "language_info": {
      "name": "python"
    }
  },
  "cells": [
    {
      "cell_type": "markdown",
      "metadata": {
        "id": "view-in-github",
        "colab_type": "text"
      },
      "source": [
        "<a href=\"https://colab.research.google.com/github/rahiakela/data-science-research-and-practice/blob/main/data-science-bookcamp/case-study-4--job-resume-improvement/03_large_text_analysis_using_clustering.ipynb\" target=\"_parent\"><img src=\"https://colab.research.google.com/assets/colab-badge.svg\" alt=\"Open In Colab\"/></a>"
      ]
    },
    {
      "cell_type": "markdown",
      "source": [
        "##Large text analysis using Clustering"
      ],
      "metadata": {
        "id": "CKQ3xygyzGoH"
      }
    },
    {
      "cell_type": "markdown",
      "source": [
        "In this notebook, we execute NLP on large collections\n",
        "of real-world texts. This type of analysis is seemingly straightforward, given the\n",
        "techniques presented thus far. For example, suppose we’re doing market research\n",
        "across multiple online discussion forums. Each forum is composed of hundreds of\n",
        "users who discuss a specific topic, such as politics, fashion, technology, or cars. We\n",
        "want to automatically extract all the discussion topics based on the contents of the\n",
        "user conversations. These extracted topics will be used to plan a marketing campaign,\n",
        "which will target users based on their online interests.\n",
        "\n",
        "How do we cluster user discussions into topics? \n",
        "\n",
        "One approach would be to do the following:\n",
        "1. Convert all discussion texts into a matrix of word counts\n",
        "2. Dimensionally reduce the word count matrix using singular value decomposition (SVD). This will allow us to efficiently complete all pairs of text similarities with matrix multiplication.\n",
        "3. Utilize the matrix of text similarities to cluster the discussions into topics.\n",
        "4. Explore the topic clusters to identify useful topics for our marketing campaign.\n",
        "\n"
      ],
      "metadata": {
        "id": "fJsYonsIz1lJ"
      }
    },
    {
      "cell_type": "markdown",
      "source": [
        "##Setup"
      ],
      "metadata": {
        "id": "nEaM8U6Lz_Fg"
      }
    },
    {
      "cell_type": "code",
      "source": [
        "import warnings\n",
        "warnings.filterwarnings('ignore')"
      ],
      "metadata": {
        "id": "gtDg8Oyyz__L"
      },
      "execution_count": 1,
      "outputs": []
    },
    {
      "cell_type": "code",
      "source": [
        "from collections import defaultdict\n",
        "from collections import Counter\n",
        "import time\n",
        "import numpy as np\n",
        "import pandas as pd\n",
        "from math import sin, cos\n",
        "\n",
        "from sklearn.decomposition import PCA\n",
        "from sklearn.decomposition import TruncatedSVD\n",
        "\n",
        "from sklearn.feature_extraction.text import CountVectorizer\n",
        "\n",
        "from sklearn.datasets import fetch_20newsgroups\n",
        "\n",
        "import seaborn as sns\n",
        "import matplotlib.pyplot as plt"
      ],
      "metadata": {
        "id": "TobbrwVl0CWF"
      },
      "execution_count": 2,
      "outputs": []
    },
    {
      "cell_type": "markdown",
      "source": [
        "##20Newsgroup dataset"
      ],
      "metadata": {
        "id": "tRYlC_k-0OTX"
      }
    },
    {
      "cell_type": "markdown",
      "source": [
        "Usenet, which is a well-established online collection\n",
        "of discussion forums, are called newsgroups. Each individual\n",
        "newsgroup focuses on some topic of discussion, which is briefly outlined in the newsgroup name.\n",
        "\n",
        "We can load these newsgroup posts by importing `fetch_20newsgroups` from `sklearn.datasets`."
      ],
      "metadata": {
        "id": "sTg51MOn0QLf"
      }
    },
    {
      "cell_type": "code",
      "source": [
        "# Fetching the newsgroup dataset\n",
        "newsgroups = fetch_20newsgroups(remove=(\"headers\", \"footers\"))"
      ],
      "metadata": {
        "id": "WCepvD5r0Wq4"
      },
      "execution_count": 3,
      "outputs": []
    },
    {
      "cell_type": "markdown",
      "source": [
        "The newsgroups object contains posts from 20 different newsgroups."
      ],
      "metadata": {
        "id": "uvofbc7T05_E"
      }
    },
    {
      "cell_type": "code",
      "source": [
        "# Printing the names of all 20 newsgroups\n",
        "print(newsgroups.target_names)"
      ],
      "metadata": {
        "id": "9gsaUHqR06bp",
        "colab": {
          "base_uri": "https://localhost:8080/"
        },
        "outputId": "428149c7-c177-467d-fe1f-e69a5c2cc526"
      },
      "execution_count": 4,
      "outputs": [
        {
          "output_type": "stream",
          "name": "stdout",
          "text": [
            "['alt.atheism', 'comp.graphics', 'comp.os.ms-windows.misc', 'comp.sys.ibm.pc.hardware', 'comp.sys.mac.hardware', 'comp.windows.x', 'misc.forsale', 'rec.autos', 'rec.motorcycles', 'rec.sport.baseball', 'rec.sport.hockey', 'sci.crypt', 'sci.electronics', 'sci.med', 'sci.space', 'soc.religion.christian', 'talk.politics.guns', 'talk.politics.mideast', 'talk.politics.misc', 'talk.religion.misc']\n"
          ]
        }
      ]
    },
    {
      "cell_type": "code",
      "source": [
        "print(len(newsgroups.target_names))"
      ],
      "metadata": {
        "id": "SHYUPbuJ1gpZ",
        "colab": {
          "base_uri": "https://localhost:8080/"
        },
        "outputId": "b363dd23-9f07-46b9-faa2-de3e279adfc4"
      },
      "execution_count": 5,
      "outputs": [
        {
          "output_type": "stream",
          "name": "stdout",
          "text": [
            "20\n"
          ]
        }
      ]
    },
    {
      "cell_type": "markdown",
      "source": [
        "Now, let’s turn our attention to the actual newsgroup texts, which are stored as a list in the newsgroups.data attribute."
      ],
      "metadata": {
        "id": "w2n8UnF4fk1e"
      }
    },
    {
      "cell_type": "code",
      "source": [
        "# Printing the first newsgroup post\n",
        "print(newsgroups.data[0])"
      ],
      "metadata": {
        "colab": {
          "base_uri": "https://localhost:8080/"
        },
        "id": "ANhKc1npf3HO",
        "outputId": "06668ad3-440a-4243-c1b2-ddd6560281fc"
      },
      "execution_count": 6,
      "outputs": [
        {
          "output_type": "stream",
          "name": "stdout",
          "text": [
            "I was wondering if anyone out there could enlighten me on this car I saw\n",
            "the other day. It was a 2-door sports car, looked to be from the late 60s/\n",
            "early 70s. It was called a Bricklin. The doors were really small. In addition,\n",
            "the front bumper was separate from the rest of the body. This is \n",
            "all I know. If anyone can tellme a model name, engine specs, years\n",
            "of production, where this car is made, history, or whatever info you\n",
            "have on this funky looking car, please e-mail.\n"
          ]
        }
      ]
    },
    {
      "cell_type": "code",
      "source": [
        "# Printing the newsgroup name at index 0\n",
        "origin = newsgroups.target_names[newsgroups.target[0]]\n",
        "print(f\"The post at index 0 first appeared in the '{origin}' group.\")"
      ],
      "metadata": {
        "colab": {
          "base_uri": "https://localhost:8080/"
        },
        "id": "qcYizeuvtt-g",
        "outputId": "3fca8b68-78fa-46b7-def4-934c2342073c"
      },
      "execution_count": 7,
      "outputs": [
        {
          "output_type": "stream",
          "name": "stdout",
          "text": [
            "The post at index 0 first appeared in the 'rec.autos' group.\n"
          ]
        }
      ]
    },
    {
      "cell_type": "markdown",
      "source": [
        "Let’s dive deeper into our newsgroup dataset by printing out the dataset size."
      ],
      "metadata": {
        "id": "aJ3Hq8b4uFwG"
      }
    },
    {
      "cell_type": "code",
      "source": [
        "# Counting the number of newsgroup posts\n",
        "dataset_size = len(newsgroups.data)\n",
        "print(f\"Our dataset contains {dataset_size} newsgroup posts\")"
      ],
      "metadata": {
        "colab": {
          "base_uri": "https://localhost:8080/"
        },
        "id": "42LzwACquGMm",
        "outputId": "133e7f74-c22a-461b-b5c0-fe628fd3d19c"
      },
      "execution_count": 8,
      "outputs": [
        {
          "output_type": "stream",
          "name": "stdout",
          "text": [
            "Our dataset contains 11314 newsgroup posts\n"
          ]
        }
      ]
    },
    {
      "cell_type": "markdown",
      "source": [
        "##Vectorizing documents"
      ],
      "metadata": {
        "id": "KoPVq13vhrpx"
      }
    },
    {
      "cell_type": "markdown",
      "source": [
        ""
      ],
      "metadata": {
        "id": "i3yrzb_ohs4Y"
      }
    },
    {
      "cell_type": "code",
      "source": [
        "# Centering the measurements at the origin\n",
        "centered_data = np.array([heights - heights.mean(), weights - weights.mean()])\n",
        "\n",
        "plt.scatter(centered_data[0], centered_data[1])\n",
        "# Visualizes the x-axis and y-axis to mark the location of the origin\n",
        "plt.axhline(0, c=\"black\")\n",
        "plt.axvline(0, c=\"black\")\n",
        "plt.xlabel(\"Centralized Height (in)\")\n",
        "plt.ylabel(\"Centralized Weight (lb)\")\n",
        "plt.axis(\"equal\")\n",
        "plt.show()"
      ],
      "metadata": {
        "id": "fcDHOYXThzU9",
        "outputId": "94444ed7-aabc-4e0a-cb2f-60c93a15be39",
        "colab": {
          "base_uri": "https://localhost:8080/"
        }
      },
      "execution_count": null,
      "outputs": [
        {
          "output_type": "display_data",
          "data": {
            "text/plain": [
              "<Figure size 432x288 with 1 Axes>"
            ],
            "image/png": "[encoded data removed]"
          },
          "metadata": {
            "needs_background": "light"
          }
        }
      ]
    }
  ]
}