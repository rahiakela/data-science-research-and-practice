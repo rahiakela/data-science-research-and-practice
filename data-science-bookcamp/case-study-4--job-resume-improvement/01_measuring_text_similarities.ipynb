{
  "nbformat": 4,
  "nbformat_minor": 0,
  "metadata": {
    "colab": {
      "name": "01-measuring-text-similarities.ipynb",
      "provenance": [],
      "toc_visible": true,
      "authorship_tag": "ABX9TyO0X4oQqO2DY+7pbB/At9zj",
      "include_colab_link": true
    },
    "kernelspec": {
      "name": "python3",
      "display_name": "Python 3"
    },
    "language_info": {
      "name": "python"
    }
  },
  "cells": [
    {
      "cell_type": "markdown",
      "metadata": {
        "id": "view-in-github",
        "colab_type": "text"
      },
      "source": [
        "<a href=\"https://colab.research.google.com/github/rahiakela/data-science-research-and-practice/blob/main/data-science-bookcamp/case-study-4--job-resume-improvement/01_measuring_text_similarities.ipynb\" target=\"_parent\"><img src=\"https://colab.research.google.com/assets/colab-badge.svg\" alt=\"Open In Colab\"/></a>"
      ]
    },
    {
      "cell_type": "markdown",
      "source": [
        "##Measuring text similarities"
      ],
      "metadata": {
        "id": "CKQ3xygyzGoH"
      }
    },
    {
      "cell_type": "markdown",
      "source": [
        "In this notebook, we focus on a basic NLP problem: **measuring the similarity between two texts**. \n",
        "\n",
        "We will quickly discover a feasible solution that is not computationally efficient.\n",
        "We will then explore a series of numerical techniques for rapidly computing\n",
        "text similarities."
      ],
      "metadata": {
        "id": "fJsYonsIz1lJ"
      }
    },
    {
      "cell_type": "markdown",
      "source": [
        "##Setup"
      ],
      "metadata": {
        "id": "nEaM8U6Lz_Fg"
      }
    },
    {
      "cell_type": "code",
      "source": [
        "import warnings\n",
        "warnings.filterwarnings('ignore')"
      ],
      "metadata": {
        "id": "gtDg8Oyyz__L"
      },
      "execution_count": 1,
      "outputs": []
    },
    {
      "cell_type": "code",
      "source": [
        "from collections import defaultdict\n",
        "from collections import Counter\n",
        "import numpy as np\n",
        "import pandas as pd\n",
        "\n",
        "from scipy.spatial.distance import euclidean\n",
        "from numpy.linalg import norm\n",
        "\n",
        "import seaborn as sns\n",
        "import matplotlib.pyplot as plt"
      ],
      "metadata": {
        "id": "TobbrwVl0CWF"
      },
      "execution_count": 34,
      "outputs": []
    },
    {
      "cell_type": "markdown",
      "source": [
        "##Simple text comparison"
      ],
      "metadata": {
        "id": "tRYlC_k-0OTX"
      }
    },
    {
      "cell_type": "markdown",
      "source": [
        "Suppose we want to compare three simple texts:\n",
        "\n",
        "```text\n",
        "text1—She sells seashells by the seashore\n",
        "text2—“Seashells! The seashells are on sale! By the seashore.”\n",
        "text3—She sells 3 seashells to John, who lives by the lake.\n",
        "```\n",
        "\n",
        "Our goal is to determine whether `text1` is more similar to `text2` or to `text3`.\n",
        "\n"
      ],
      "metadata": {
        "id": "sTg51MOn0QLf"
      }
    },
    {
      "cell_type": "code",
      "source": [
        "# Assigning texts to variables\n",
        "text1 = \"She sells seashells by the seashore.\"\n",
        "text2 = '\"Seashells! The seashells are on sale! By the seashore.\"'\n",
        "text3 = \"She sells 3 seashells to John, who lives by the lake.\""
      ],
      "metadata": {
        "id": "WCepvD5r0Wq4"
      },
      "execution_count": 3,
      "outputs": []
    },
    {
      "cell_type": "markdown",
      "source": [
        "Now we need to quantify the differences between texts."
      ],
      "metadata": {
        "id": "uvofbc7T05_E"
      }
    },
    {
      "cell_type": "code",
      "source": [
        "# Splitting texts into words\n",
        "words_lists = [text.split() for text in [text1, text2, text3]]\n",
        "words1, words2, words3 = words_lists\n",
        "\n",
        "for i, words in enumerate(words_lists, 1):\n",
        "  print(f\"Words in text {i}\")\n",
        "  print(f\"{words}\\n\")"
      ],
      "metadata": {
        "id": "9gsaUHqR06bp",
        "outputId": "e4f72655-6651-4f0c-980f-33f8793ce1ba",
        "colab": {
          "base_uri": "https://localhost:8080/"
        }
      },
      "execution_count": 4,
      "outputs": [
        {
          "output_type": "stream",
          "name": "stdout",
          "text": [
            "Words in text 1\n",
            "['She', 'sells', 'seashells', 'by', 'the', 'seashore.']\n",
            "\n",
            "Words in text 2\n",
            "['\"Seashells!', 'The', 'seashells', 'are', 'on', 'sale!', 'By', 'the', 'seashore.\"']\n",
            "\n",
            "Words in text 3\n",
            "['She', 'sells', '3', 'seashells', 'to', 'John,', 'who', 'lives', 'by', 'the', 'lake.']\n",
            "\n"
          ]
        }
      ]
    },
    {
      "cell_type": "code",
      "source": [
        "# Removing case sensitivity and punctuation\n",
        "def simplify_text(text):\n",
        "  for punctuation in ['.', ',', '!', '?', '\"']:\n",
        "    text = text.replace(punctuation, \"\")\n",
        "  return text.lower()"
      ],
      "metadata": {
        "id": "SHYUPbuJ1gpZ"
      },
      "execution_count": 5,
      "outputs": []
    },
    {
      "cell_type": "code",
      "source": [
        "for i, words in enumerate(words_lists, 1):\n",
        "  for j, word in enumerate(words):\n",
        "    words[j] = simplify_text(word)\n",
        "  print(f\"Words in text {i}\")\n",
        "  print(f\"{words}\\n\")"
      ],
      "metadata": {
        "id": "vxr_TPOa1yOj",
        "outputId": "f675df0d-62af-4120-dcfc-9aad858f1ada",
        "colab": {
          "base_uri": "https://localhost:8080/"
        }
      },
      "execution_count": 6,
      "outputs": [
        {
          "output_type": "stream",
          "name": "stdout",
          "text": [
            "Words in text 1\n",
            "['she', 'sells', 'seashells', 'by', 'the', 'seashore']\n",
            "\n",
            "Words in text 2\n",
            "['seashells', 'the', 'seashells', 'are', 'on', 'sale', 'by', 'the', 'seashore']\n",
            "\n",
            "Words in text 3\n",
            "['she', 'sells', '3', 'seashells', 'to', 'john', 'who', 'lives', 'by', 'the', 'lake']\n",
            "\n"
          ]
        }
      ]
    },
    {
      "cell_type": "code",
      "source": [
        "# Converting word lists to sets\n",
        "words_sets = [set(words) for words in words_lists]\n",
        "for i, unique_words in enumerate(words_sets, 1):\n",
        "  print(f\"Unique Words in text {i}\")\n",
        "  print(f\"{unique_words}\\n\")"
      ],
      "metadata": {
        "id": "37vWSeHg2hDE",
        "outputId": "11f73e44-0b06-45b9-ef4d-02eee0b08988",
        "colab": {
          "base_uri": "https://localhost:8080/"
        }
      },
      "execution_count": 7,
      "outputs": [
        {
          "output_type": "stream",
          "name": "stdout",
          "text": [
            "Unique Words in text 1\n",
            "{'sells', 'seashore', 'the', 'seashells', 'by', 'she'}\n",
            "\n",
            "Unique Words in text 2\n",
            "{'by', 'seashore', 'the', 'seashells', 'sale', 'on', 'are'}\n",
            "\n",
            "Unique Words in text 3\n",
            "{'sells', '3', 'who', 'to', 'john', 'seashells', 'the', 'lake', 'by', 'she', 'lives'}\n",
            "\n"
          ]
        }
      ]
    },
    {
      "cell_type": "code",
      "source": [
        "# Extracting overlapping words between two texts\n",
        "words_set1 = words_sets[0]\n",
        "for i, words_set in enumerate(words_sets[1:], 2):\n",
        "  shared_words = words_set1 & words_set\n",
        "  print(f\"Texts 1 and {i} share these {len(shared_words)} words:\")\n",
        "  print(f\"{shared_words}\\n\")"
      ],
      "metadata": {
        "id": "sVXOROoY6Eco",
        "outputId": "c88c6103-0774-4ac9-a777-8a562c39e09d",
        "colab": {
          "base_uri": "https://localhost:8080/"
        }
      },
      "execution_count": 8,
      "outputs": [
        {
          "output_type": "stream",
          "name": "stdout",
          "text": [
            "Texts 1 and 2 share these 4 words:\n",
            "{'by', 'the', 'seashells', 'seashore'}\n",
            "\n",
            "Texts 1 and 3 share these 5 words:\n",
            "{'sells', 'the', 'seashells', 'by', 'she'}\n",
            "\n"
          ]
        }
      ]
    },
    {
      "cell_type": "code",
      "source": [
        "# Extracting diverging words between two texts\n",
        "for i, words_set in enumerate(words_sets[1:], 2):\n",
        "  diverging_words = words_set1 ^ words_set\n",
        "  print(f\"Texts 1 and {i} don't share these {len(diverging_words)} words:\")\n",
        "  print(f\"{diverging_words}\\n\")"
      ],
      "metadata": {
        "id": "rD7E9MVI7AD0",
        "outputId": "70975c74-bfb2-42b5-a86c-d5f82774d474",
        "colab": {
          "base_uri": "https://localhost:8080/"
        }
      },
      "execution_count": 9,
      "outputs": [
        {
          "output_type": "stream",
          "name": "stdout",
          "text": [
            "Texts 1 and 2 don't share these 5 words:\n",
            "{'sells', 'on', 'are', 'sale', 'she'}\n",
            "\n",
            "Texts 1 and 3 don't share these 7 words:\n",
            "{'3', 'who', 'to', 'john', 'seashore', 'lake', 'lives'}\n",
            "\n"
          ]
        }
      ]
    },
    {
      "cell_type": "markdown",
      "source": [
        "To combine their overlap and divergence into a single similarity score, we must first combine all overlapping\n",
        "and diverging words between the texts. \n",
        "\n",
        "This aggregation, which is called a union, will\n",
        "contain all the unique words across the two texts."
      ],
      "metadata": {
        "id": "pZklMwBh7Zur"
      }
    },
    {
      "cell_type": "code",
      "source": [
        "# Extracting the union of words between two texts\n",
        "for i, words_set in enumerate(words_sets[1:], 2):\n",
        "  total_words = words_set1 | words_set\n",
        "  print(f\"Together, texts 1 and {i} contain {len(total_words)} unique words. These words are:\\n {total_words}\\n\")"
      ],
      "metadata": {
        "id": "ZNeEwj1XH_sD",
        "outputId": "d15f887b-beab-42bc-d5f8-33681b0857b3",
        "colab": {
          "base_uri": "https://localhost:8080/"
        }
      },
      "execution_count": 10,
      "outputs": [
        {
          "output_type": "stream",
          "name": "stdout",
          "text": [
            "Together, texts 1 and 2 contain 9 unique words. These words are:\n",
            " {'sells', 'seashore', 'the', 'seashells', 'sale', 'on', 'by', 'are', 'she'}\n",
            "\n",
            "Together, texts 1 and 3 contain 12 unique words. These words are:\n",
            " {'who', '3', 'seashore', 'seashells', 'lake', 'sells', 'to', 'john', 'the', 'by', 'she', 'lives'}\n",
            "\n"
          ]
        }
      ]
    },
    {
      "cell_type": "markdown",
      "source": [
        "Accordingly, both overlap and divergence represent complementary\n",
        "percentages of the total unique word count across texts."
      ],
      "metadata": {
        "id": "5iNostovIpvG"
      }
    },
    {
      "cell_type": "code",
      "source": [
        "# Extracting the percentage of shared words between two texts\n",
        "for i, words_set in enumerate(words_sets[1:], 2):\n",
        "  shared_words = words_set1 & words_set\n",
        "  diverging_words = words_set1 ^ words_set\n",
        "  total_words = words_set1 | words_set\n",
        "  assert len(total_words) == len(shared_words) + len(diverging_words)\n",
        "\n",
        "  # Percent of total words shared with text 1\n",
        "  percent_shared = 100 * len(shared_words) / len(total_words)\n",
        "  # Percent of total words that diverge from text 1 \n",
        "  percent_diverging = 100 * len(diverging_words) / len(total_words)\n",
        "\n",
        "  print(f\"Together, texts 1 and {i} contain {len(total_words)} unique words. \\n{percent_shared:.2f}% of these words are shared.\\n{percent_diverging:.2f}% of these words diverge.\\n\")"
      ],
      "metadata": {
        "id": "NI-ab1ClIqOb",
        "outputId": "85be56f8-1914-4217-fad8-8ae771c5000d",
        "colab": {
          "base_uri": "https://localhost:8080/"
        }
      },
      "execution_count": 11,
      "outputs": [
        {
          "output_type": "stream",
          "name": "stdout",
          "text": [
            "Together, texts 1 and 2 contain 9 unique words. \n",
            "44.44% of these words are shared.\n",
            "55.56% of these words diverge.\n",
            "\n",
            "Together, texts 1 and 3 contain 12 unique words. \n",
            "41.67% of these words are shared.\n",
            "58.33% of these words diverge.\n",
            "\n"
          ]
        }
      ]
    },
    {
      "cell_type": "markdown",
      "source": [
        "We’ve essentially developed a simple metric for assessing similarities between texts.\n",
        "\n",
        "This similarity metric is referred to as the Jaccard similarity, or the Jaccard index."
      ],
      "metadata": {
        "id": "ysjoVu4AKUhK"
      }
    },
    {
      "cell_type": "markdown",
      "source": [
        "###Exploring the Jaccard similarity"
      ],
      "metadata": {
        "id": "VTRCmi4XKLus"
      }
    },
    {
      "cell_type": "markdown",
      "source": [
        "The Jaccard similarity is a reasonable measure of text resemblance for the following reasons:\n",
        "\n",
        "* The similarity takes into account both text overlap and text divergence.\n",
        "* The fractional similarity is always between 0 and 1. The fraction is easy to interpret: 0 indicates that no words are shared, 0.5 indicates that half the words are shared, and 1 indicates that all the words are shared.\n",
        "* The similarity is simple to implement."
      ],
      "metadata": {
        "id": "EJAW90_GKOc_"
      }
    },
    {
      "cell_type": "code",
      "source": [
        "# Computing the Jaccard similarity\n",
        "def jaccard_similarity(text_a, text_b):\n",
        "  word_set_a, word_set_b = [set(simplify_text(text).split()) for text in [text_a, text_b]]\n",
        "  num_shared = len(word_set_a & word_set_b)\n",
        "  num_total = len(word_set_a | word_set_b)\n",
        "  return num_shared / num_total"
      ],
      "metadata": {
        "id": "rBT635wt9gjp"
      },
      "execution_count": 12,
      "outputs": []
    },
    {
      "cell_type": "code",
      "source": [
        "for text in [text2, text3]:\n",
        "  similarity = jaccard_similarity(text1, text)\n",
        "  print(f\"Text comparison:\\n\\t{text1}\\n\\t{text}\\nThe Jaccard similarity is {similarity:.2f}\\n\")"
      ],
      "metadata": {
        "id": "W3O0Jt8w-FlI",
        "outputId": "b960427c-a6c2-456f-bbc4-f18a388f6b2b",
        "colab": {
          "base_uri": "https://localhost:8080/"
        }
      },
      "execution_count": 13,
      "outputs": [
        {
          "output_type": "stream",
          "name": "stdout",
          "text": [
            "Text comparison:\n",
            "\tShe sells seashells by the seashore.\n",
            "\t\"Seashells! The seashells are on sale! By the seashore.\"\n",
            "The Jaccard similarity is 0.44\n",
            "\n",
            "Text comparison:\n",
            "\tShe sells seashells by the seashore.\n",
            "\tShe sells 3 seashells to John, who lives by the lake.\n",
            "The Jaccard similarity is 0.42\n",
            "\n"
          ]
        }
      ]
    },
    {
      "cell_type": "code",
      "source": [
        "# Efficiently computing the Jaccard similarity\n",
        "def jaccard_similarity_efficient(text_a, text_b):\n",
        "  word_set_a, word_set_b = [set(simplify_text(text).split()) for text in [text_a, text_b]]\n",
        "  num_shared = len(word_set_a & word_set_b)\n",
        "  num_total = len(word_set_a) + len(word_set_b) - num_shared\n",
        "  return num_shared / num_total"
      ],
      "metadata": {
        "id": "bjO4DHbmAYuy"
      },
      "execution_count": 14,
      "outputs": []
    },
    {
      "cell_type": "code",
      "source": [
        "for text in [text2, text3]:\n",
        "  similarity = jaccard_similarity_efficient(text1, text)\n",
        "  assert similarity == jaccard_similarity(text1, text)\n",
        "  print(f\"Text comparison:\\n\\t{text1}\\n\\t{text}\\nThe Jaccard similarity is {similarity:.2f}\\n\")"
      ],
      "metadata": {
        "id": "Gh8TNVm4AlUr",
        "outputId": "89eb4658-b302-4635-9264-31f5fc23fd25",
        "colab": {
          "base_uri": "https://localhost:8080/"
        }
      },
      "execution_count": 15,
      "outputs": [
        {
          "output_type": "stream",
          "name": "stdout",
          "text": [
            "Text comparison:\n",
            "\tShe sells seashells by the seashore.\n",
            "\t\"Seashells! The seashells are on sale! By the seashore.\"\n",
            "The Jaccard similarity is 0.44\n",
            "\n",
            "Text comparison:\n",
            "\tShe sells seashells by the seashore.\n",
            "\tShe sells 3 seashells to John, who lives by the lake.\n",
            "The Jaccard similarity is 0.42\n",
            "\n"
          ]
        }
      ]
    },
    {
      "cell_type": "markdown",
      "source": [
        "###Replacing words with numeric values"
      ],
      "metadata": {
        "id": "vx1cEHLuA_pZ"
      }
    },
    {
      "cell_type": "markdown",
      "source": [
        "The mapping between words\n",
        "and their numeric values can be stored in a Python dictionary. We’ll refer to this dictionary\n",
        "as our vocabulary. \n",
        "\n",
        "Let’s build a vocabulary that covers all the words in our three\n",
        "texts."
      ],
      "metadata": {
        "id": "evDQMNW9BAfB"
      }
    },
    {
      "cell_type": "code",
      "source": [
        "# Assigning words to numbers in a vocabulary\n",
        "words_set1, words_set2, words_set3 = words_sets\n",
        "total_words = words_set1 | words_set2 | words_set3\n",
        "vocabulary = {word: i for i, word in enumerate(total_words)}\n",
        "value_to_word = {value: word for word, value in vocabulary.items()}\n",
        "print(f\"Our vocabulary contains {len(vocabulary)} words. This vocabulary is:\\n{vocabulary}\")"
      ],
      "metadata": {
        "id": "L0mArXDsclx_",
        "outputId": "92fff0aa-338f-41b0-de66-217e6fffcbfd",
        "colab": {
          "base_uri": "https://localhost:8080/"
        }
      },
      "execution_count": 16,
      "outputs": [
        {
          "output_type": "stream",
          "name": "stdout",
          "text": [
            "Our vocabulary contains 15 words. This vocabulary is:\n",
            "{'who': 0, '3': 1, 'seashore': 2, 'seashells': 3, 'are': 4, 'sale': 5, 'lake': 6, 'sells': 7, 'to': 8, 'john': 9, 'the': 10, 'on': 11, 'by': 12, 'she': 13, 'lives': 14}\n"
          ]
        }
      ]
    },
    {
      "cell_type": "markdown",
      "source": [
        "Given our vocabulary, we can convert any text into a one-dimensional array of numbers.\n",
        "\n",
        "Mathematically, a 1D numeric array is called a vector. \n",
        "\n",
        "Hence, the process of converting\n",
        "text into a vector is called text vectorization.\n",
        "\n",
        "Let’s use binary vectorization to convert all texts into NumPy arrays."
      ],
      "metadata": {
        "id": "wOp5oCJ-dZ8g"
      }
    },
    {
      "cell_type": "code",
      "source": [
        "# Transforming words into binary vectors\n",
        "vectors = []\n",
        "for i, words_set in enumerate(words_sets, 1):\n",
        "  # Generates an array of 0s\n",
        "  vector = np.array([0] * len(vocabulary))\n",
        "  for word in words_set:\n",
        "    vector[vocabulary[word]] = 1\n",
        "  vectors.append(vector)\n",
        "\n",
        "sns.heatmap(vectors, annot=True, cmap=\"YlGnBu\", \n",
        "             xticklabels=vocabulary.keys(),\n",
        "             yticklabels=[\"Text 1\", \"Text 2\", \"Text 3\"])\n",
        "plt.yticks(rotation=1)\n",
        "plt.show()"
      ],
      "metadata": {
        "id": "x1XYLAsJdgBx",
        "outputId": "a45a006f-0b0a-42fd-a6ac-b41f43be92c6",
        "colab": {
          "base_uri": "https://localhost:8080/",
          "height": 306
        }
      },
      "execution_count": 17,
      "outputs": [
        {
          "output_type": "display_data",
          "data": {
            "text/plain": [
              "<Figure size 432x288 with 2 Axes>"
            ],
            "image/png": "[encoded data removed]"
          },
          "metadata": {
            "needs_background": "light"
          }
        }
      ]
    },
    {
      "cell_type": "markdown",
      "source": [
        "Our binary vector representation allows us to extract shared words numerically."
      ],
      "metadata": {
        "id": "jVtr3sYafNmT"
      }
    },
    {
      "cell_type": "code",
      "source": [
        "# Finding shared words using vector arithmetic\n",
        "vector1, vector2 = vectors[:2]\n",
        "for i in range(len(vocabulary)):\n",
        "  if vector1[i] * vector2[i]:\n",
        "    shared_word = value_to_word[i]\n",
        "    print(f\"'{shared_word}' is present in both texts 1 and 2\")"
      ],
      "metadata": {
        "id": "uFYRNPnMfOEs",
        "outputId": "98416c20-ed64-481a-89b9-ba589dcee854",
        "colab": {
          "base_uri": "https://localhost:8080/"
        }
      },
      "execution_count": 18,
      "outputs": [
        {
          "output_type": "stream",
          "name": "stdout",
          "text": [
            "'seashore' is present in both texts 1 and 2\n",
            "'seashells' is present in both texts 1 and 2\n",
            "'the' is present in both texts 1 and 2\n",
            "'by' is present in both texts 1 and 2\n"
          ]
        }
      ]
    },
    {
      "cell_type": "code",
      "source": [
        "# Counting shared words using vector arithmetic\n",
        "shared_word_count = sum(vector1[i] * vector2[i] for i in range(len(vocabulary)))\n",
        "assert shared_word_count == len(words_set1 & words_set2)"
      ],
      "metadata": {
        "id": "FGXUt3l_g82R"
      },
      "execution_count": 19,
      "outputs": []
    },
    {
      "cell_type": "markdown",
      "source": [
        "The sum of the pairwise products across all vector indices is called the dot product."
      ],
      "metadata": {
        "id": "Foe_45QrhUng"
      }
    },
    {
      "cell_type": "code",
      "source": [
        "# Computing a vector dot product using NumPy\n",
        "assert vector1.dot(vector2) == shared_word_count\n",
        "assert vector1 @ vector2 == shared_word_count"
      ],
      "metadata": {
        "id": "vcbsS4luhVBu"
      },
      "execution_count": 20,
      "outputs": []
    },
    {
      "cell_type": "markdown",
      "source": [
        "Stated more concisely, `vector1 @ vector1` should equal the number of unique words\n",
        "in `text1`, which is also equal to `len(words_set1)`. \n",
        "\n",
        "Let’s confirm."
      ],
      "metadata": {
        "id": "EhAu2Ax4hwRx"
      }
    },
    {
      "cell_type": "code",
      "source": [
        "assert vector1 @ vector1 == len(words_set1)\n",
        "assert vector2 @ vector2 == len(words_set2)"
      ],
      "metadata": {
        "id": "g2scHtagh0kZ"
      },
      "execution_count": 21,
      "outputs": []
    },
    {
      "cell_type": "markdown",
      "source": [
        "Essentially, we can compute the Jaccard similarity using only\n",
        "vector operations. \n",
        "\n",
        "This vectorized implementation of Jaccard is called the Tanimoto\n",
        "similarity."
      ],
      "metadata": {
        "id": "7aKBDrQSiLkE"
      }
    },
    {
      "cell_type": "code",
      "source": [
        "# Computing text similarity using vector arithmetic\n",
        "def tanimoto_similarity(vector_a, vector_b):\n",
        "  num_shared = vector_a @ vector_b\n",
        "  num_total = vector_a @ vector_a + vector_b @ vector_b - num_shared\n",
        "  return num_shared / num_total"
      ],
      "metadata": {
        "id": "3NkBG-zTiNUN"
      },
      "execution_count": 22,
      "outputs": []
    },
    {
      "cell_type": "code",
      "source": [
        "for i, text in enumerate([text2, text3], 1):\n",
        "  similarity = tanimoto_similarity(vector1, vectors[i])\n",
        "  assert similarity == jaccard_similarity(text1, text)"
      ],
      "metadata": {
        "id": "68HPPjRrijj3"
      },
      "execution_count": 23,
      "outputs": []
    },
    {
      "cell_type": "markdown",
      "source": [
        "What\n",
        "would happen if we inputted two arrays with values other than 0 or 1? \n",
        "\n",
        "Technically,\n",
        "the function should return a similarity, but would that similarity make sense? \n",
        "\n",
        "For\n",
        "instance, vectors `[5, 3]` and `[5, 2]` are nearly identical. We expect their similarity to be nearly equal to 1.\n",
        "\n",
        "Let’s test our expectations by inputting the vectors."
      ],
      "metadata": {
        "id": "4NwrfCEcjjXa"
      }
    },
    {
      "cell_type": "code",
      "source": [
        "# Computing the similarity of non-binary vectors\n",
        "non_binary_vector1 = np.array([5, 3])\n",
        "non_binary_vector2 = np.array([5, 2])\n",
        "\n",
        "similarity = tanimoto_similarity(non_binary_vector1, non_binary_vector2)\n",
        "print(f\"The similarity of 2 non-binary vectors is {similarity}\")"
      ],
      "metadata": {
        "id": "gjmSyTA9jYiv",
        "outputId": "2ec18d07-fc75-41da-86bf-334a5147e332",
        "colab": {
          "base_uri": "https://localhost:8080/"
        }
      },
      "execution_count": 24,
      "outputs": [
        {
          "output_type": "stream",
          "name": "stdout",
          "text": [
            "The similarity of 2 non-binary vectors is 0.96875\n"
          ]
        }
      ]
    },
    {
      "cell_type": "markdown",
      "source": [
        "The outputted value is nearly equal to 1. \n",
        "\n",
        "Thus, `tanimoto_similarity` has successfully\n",
        "measured the similarity between two nearly identical vectors. The function can analyze\n",
        "non-binary inputs. \n",
        "\n",
        "This means we can use non-binary techniques to vectorize our\n",
        "texts before comparing their contents."
      ],
      "metadata": {
        "id": "i9w5C-iwj_3T"
      }
    },
    {
      "cell_type": "markdown",
      "source": [
        "##Vectorizing texts using word counts"
      ],
      "metadata": {
        "id": "5PQH4xUhkCyw"
      }
    },
    {
      "cell_type": "markdown",
      "source": [
        "Binary vectorization captures the presence and absence of words in a text, but it\n",
        "doesn’t capture word counts. This is unfortunate since word counts can provide a differentiating\n",
        "signal between texts.\n",
        "\n",
        "A vector of word counts is\n",
        "commonly referred to as a term-frequency vector, or a TF vector for short.\n",
        "\n",
        "Let’s compute\n",
        "the TF vectors of A and B using a two-element vocabulary `{'duck': 0, 'goose': 1}`."
      ],
      "metadata": {
        "id": "waYEuLetoN0Q"
      }
    },
    {
      "cell_type": "code",
      "source": [
        "# Computing TF vector similarity\n",
        "similarity = tanimoto_similarity(np.array([61, 2]), np.array([1, 71]))\n",
        "print(f\"The similarity between texts is approximately {similarity:.3f}\")"
      ],
      "metadata": {
        "id": "kyhAljA9oYpC",
        "outputId": "87ff0b16-b5b9-48fe-e2ac-9a80d4bafd79",
        "colab": {
          "base_uri": "https://localhost:8080/"
        }
      },
      "execution_count": 25,
      "outputs": [
        {
          "output_type": "stream",
          "name": "stdout",
          "text": [
            "The similarity between texts is approximately 0.024\n"
          ]
        }
      ]
    },
    {
      "cell_type": "markdown",
      "source": [
        "Let’s compare it to the binaryvector\n",
        "similarity of the two texts."
      ],
      "metadata": {
        "id": "sKG3z3Yco0QI"
      }
    },
    {
      "cell_type": "code",
      "source": [
        "# Assessing identical vector similarity\n",
        "assert tanimoto_similarity(np.array([1, 1]), np.array([1, 1])) == 1"
      ],
      "metadata": {
        "id": "Ek2aImGpo0wL"
      },
      "execution_count": 26,
      "outputs": []
    },
    {
      "cell_type": "code",
      "source": [
        "# Computing TF vectors from word lists\n",
        "tf_vectors = []\n",
        "for i, words_list in enumerate(words_lists, 1):\n",
        "  tf_vector = np.array([0] * len(vocabulary))\n",
        "  for word in words_list:\n",
        "    word_index = vocabulary[word]\n",
        "    tf_vector[word_index] += 1\n",
        "  tf_vectors.append(tf_vector)\n",
        "\n",
        "sns.heatmap(tf_vectors, cmap=\"YlGnBu\", annot=True, xticklabels=vocabulary.keys(), yticklabels=[\"Text 1\", \"Text 2\", \"Text 3\"])\n",
        "plt.yticks(rotation=0)\n",
        "plt.show()"
      ],
      "metadata": {
        "id": "mlzNdrqApD93",
        "outputId": "74fc4247-3bd6-412a-a407-ed4c8a0144fb",
        "colab": {
          "base_uri": "https://localhost:8080/",
          "height": 306
        }
      },
      "execution_count": 27,
      "outputs": [
        {
          "output_type": "display_data",
          "data": {
            "text/plain": [
              "<Figure size 432x288 with 2 Axes>"
            ],
            "image/png": "[encoded data removed]"
          },
          "metadata": {
            "needs_background": "light"
          }
        }
      ]
    },
    {
      "cell_type": "code",
      "source": [
        "# Comparing metrics of vector similarity\n",
        "tf_vector1 = tf_vectors[0]\n",
        "binary_vector1 = vectors[0]\n",
        "\n",
        "for i, tf_vector in enumerate(tf_vectors[1:], 2):\n",
        "  similarity = tanimoto_similarity(tf_vector1, tf_vector)\n",
        "  old_similarity = tanimoto_similarity(tf_vector1, vectors[i - 1])\n",
        "  print(f\"The recomputed Tanimoto similarity between texts 1 and {i} is {similarity:.3f}\")\n",
        "  print(f\"Previously, that similarity equaled {old_similarity:.3f} \\n\")"
      ],
      "metadata": {
        "id": "zxuzeeoWqOny",
        "outputId": "30d03ab2-782a-49f2-dcac-435e466d1804",
        "colab": {
          "base_uri": "https://localhost:8080/"
        }
      },
      "execution_count": 28,
      "outputs": [
        {
          "output_type": "stream",
          "name": "stdout",
          "text": [
            "The recomputed Tanimoto similarity between texts 1 and 2 is 0.462\n",
            "Previously, that similarity equaled 0.444 \n",
            "\n",
            "The recomputed Tanimoto similarity between texts 1 and 3 is 0.417\n",
            "Previously, that similarity equaled 0.417 \n",
            "\n"
          ]
        }
      ]
    },
    {
      "cell_type": "markdown",
      "source": [
        "TF vectors yield improved comparisons because they’re sensitive to count differences\n",
        "between texts. This sensitivity is useful. However, it can also be detrimental\n",
        "when comparing texts of different lengths."
      ],
      "metadata": {
        "id": "pQJedaZVsZst"
      }
    },
    {
      "cell_type": "markdown",
      "source": [
        "### TF vector similarity using normalization"
      ],
      "metadata": {
        "id": "73C6bZmTsaIP"
      }
    },
    {
      "cell_type": "markdown",
      "source": [
        "Suppose you run a query for “Pepperoni Pizza” and the following two titles are\n",
        "returned:\n",
        "\n",
        "* **Title A**—“Pepperoni Pizza! Pepperoni Pizza! Pepperoni Pizza!”\n",
        "* **Title B**—“Pepperoni”\n",
        "\n",
        "Which of our two titles best matches the query? Most data scientists would agree that\n",
        "title A is a better match than title B. \n",
        "\n",
        "Both title A and the query mention pepperoni pizza.\n",
        "Meanwhile, title B mentions only pepperoni. There is no indication that the associated\n",
        "document actually discusses pizza in any context.\n",
        "\n",
        "Let’s check whether title A ranks higher than title B relative to the query."
      ],
      "metadata": {
        "id": "v3nEwM6zsiDX"
      }
    },
    {
      "cell_type": "code",
      "source": [
        "# Simple search engine vectorization\n",
        "query_vector = np.array([1, 1])\n",
        "title_a_vector = np.array([3, 3])\n",
        "title_b_vector = np.array([1, 0])"
      ],
      "metadata": {
        "id": "Un7ezvrwF-Q4"
      },
      "execution_count": 29,
      "outputs": []
    },
    {
      "cell_type": "code",
      "source": [
        "# Ranking titles by query similarity\n",
        "titles = [\n",
        "  \"A: Pepperoni Pizza! Pepperoni Pizza! Pepperoni Pizza!\",\n",
        "  \"B: Pepperoni\"        \n",
        "]\n",
        "\n",
        "title_vectors = [title_a_vector, title_b_vector]\n",
        "similarities = [tanimoto_similarity(query_vector, title_vector) for title_vector in title_vectors]\n",
        "\n",
        "for index in sorted(range(len(titles)), key= lambda i: similarities[i], reverse=True):\n",
        "  title = titles[index]\n",
        "  similarity = similarities[index]\n",
        "  print(f\"{title} has a query similarity of {similarity:.4f}\")"
      ],
      "metadata": {
        "id": "svfBTmLNGOXv",
        "outputId": "8d207ad8-3116-4f9a-fb1b-b55de216b627",
        "colab": {
          "base_uri": "https://localhost:8080/"
        }
      },
      "execution_count": 30,
      "outputs": [
        {
          "output_type": "stream",
          "name": "stdout",
          "text": [
            "B: Pepperoni has a query similarity of 0.5000\n",
            "A: Pepperoni Pizza! Pepperoni Pizza! Pepperoni Pizza! has a query similarity of 0.4286\n"
          ]
        }
      ]
    },
    {
      "cell_type": "markdown",
      "source": [
        "Unfortunately, title A outranks title B. This discrepancy in rankings is caused by text\n",
        "size. \n",
        "\n",
        "Title A has three times as many words as the query, while title B and the query differ\n",
        "by just a single word."
      ],
      "metadata": {
        "id": "QwHStSFqHlfc"
      }
    },
    {
      "cell_type": "code",
      "source": [
        "# Eliminating size differences through division\n",
        "assert np.array_equal(query_vector, title_a_vector / 3)\n",
        "assert tanimoto_similarity(query_vector, title_a_vector / 3) == 1"
      ],
      "metadata": {
        "id": "_hPaYFLZHmcA"
      },
      "execution_count": 31,
      "outputs": []
    },
    {
      "cell_type": "markdown",
      "source": [
        "Mathematicians treat every vector v as a line stretching from\n",
        "the origin to the numerical coordinates in v. \n",
        "\n",
        "Essentially, our three vectors are merely\n",
        "2D line segments rising from the origin."
      ],
      "metadata": {
        "id": "0ySIlh4mIGuB"
      }
    },
    {
      "cell_type": "code",
      "source": [
        "# Plotting TF vectors in 2D space\n",
        "plt.plot([0, query_vector[0]], [0, query_vector[1]], c=\"k\", linewidth=3, label=\"Query Vector\")\n",
        "plt.plot([0, title_a_vector[0]], [0, title_a_vector[1]], c=\"b\", linestyle=\"--\", label=\"Title A Vector\")\n",
        "plt.plot([0, title_b_vector[0]], [0, title_b_vector[1]], c=\"g\", linewidth=2, linestyle=\"-.\", label=\"Title B Vector\")\n",
        "plt.xlabel(\"Pepperoni\")\n",
        "plt.ylabel(\"Pizza\")\n",
        "plt.legend()\n",
        "plt.show()"
      ],
      "metadata": {
        "id": "Xk2OsXxMIHMA",
        "outputId": "dca08107-f153-43af-b591-a945c9cc8aae",
        "colab": {
          "base_uri": "https://localhost:8080/",
          "height": 279
        }
      },
      "execution_count": 33,
      "outputs": [
        {
          "output_type": "display_data",
          "data": {
            "text/plain": [
              "<Figure size 432x288 with 1 Axes>"
            ],
            "image/png": "[encoded data removed]"
          },
          "metadata": {
            "needs_background": "light"
          }
        }
      ]
    },
    {
      "cell_type": "markdown",
      "source": [
        "Hence, every vector has a geometric length, which is\n",
        "called the magnitude. The magnitude is also called the Euclidean norm or the L2 norm.\n",
        "\n",
        "Measuring the magnitude allows us to account for differences in geometric lengths.\n",
        "\n",
        "Let’s output the magnitudes of our search engine vectors."
      ],
      "metadata": {
        "id": "V97G01ZqKmuP"
      }
    },
    {
      "cell_type": "code",
      "source": [
        "# Computing vector magnitude\n",
        "vector_names = [\"Query Vector\", \"Title A Vector\", \"Title B Vector\"]\n",
        "tf_search_vectors = [query_vector, title_a_vector, title_b_vector]\n",
        "origin = np.array([0, 0])\n",
        "\n",
        "for name , tf_vector in zip(vector_names, tf_search_vectors):\n",
        "  # calculate the magnitude using Euclidean distance\n",
        "  magnitude = euclidean(tf_vector, origin)\n",
        "  # calculate the magnitude using Numpy's norm\n",
        "  assert magnitude == norm(tf_vector)\n",
        "  # calculate the magnitude using dot product\n",
        "  assert magnitude == (tf_vector @ tf_vector) ** .5\n",
        "  print(f\"{name}'s magnitude is approximately {magnitude:.4f}\")\n",
        "\n",
        "magnitude_ratio = norm(title_a_vector) / norm(query_vector)\n",
        "print(f\"\\nVector A is {magnitude_ratio:.0f}x as long as Query Vector\")"
      ],
      "metadata": {
        "id": "lIZ6BNBBKnUg",
        "outputId": "61595ded-61e2-41d4-ffa4-c630b4a522e9",
        "colab": {
          "base_uri": "https://localhost:8080/"
        }
      },
      "execution_count": 35,
      "outputs": [
        {
          "output_type": "stream",
          "name": "stdout",
          "text": [
            "Query Vector's magnitude is approximately 1.4142\n",
            "Title A Vector's magnitude is approximately 4.2426\n",
            "Title B Vector's magnitude is approximately 1.0000\n",
            "\n",
            "Vector A is 3x as long as Query Vector\n"
          ]
        }
      ]
    },
    {
      "cell_type": "markdown",
      "source": [
        "A vector with a\n",
        "magnitude of 1 is referred to as a unit vector. Unit vectors have many useful properties,one benefit of unit vectors is that they are easy to compare:\n",
        "since unit vectors share an equal magnitude, it doesn’t play a role in their similarity.\n",
        "\n",
        "Fundamentally, the difference between unit vectors is determined solely by direction."
      ],
      "metadata": {
        "id": "nmuBSBhANPfs"
      }
    }
  ]
}