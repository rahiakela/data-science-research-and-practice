{
  "nbformat": 4,
  "nbformat_minor": 0,
  "metadata": {
    "colab": {
      "name": "01-measuring-text-similarities.ipynb",
      "provenance": [],
      "toc_visible": true,
      "authorship_tag": "ABX9TyMMyI6CdJG5B8Je3F/Sdjfz",
      "include_colab_link": true
    },
    "kernelspec": {
      "name": "python3",
      "display_name": "Python 3"
    },
    "language_info": {
      "name": "python"
    }
  },
  "cells": [
    {
      "cell_type": "markdown",
      "metadata": {
        "id": "view-in-github",
        "colab_type": "text"
      },
      "source": [
        "<a href=\"https://colab.research.google.com/github/rahiakela/data-science-research-and-practice/blob/main/data-science-bookcamp/case-study-4--job-resume-improvement/01_measuring_text_similarities.ipynb\" target=\"_parent\"><img src=\"https://colab.research.google.com/assets/colab-badge.svg\" alt=\"Open In Colab\"/></a>"
      ]
    },
    {
      "cell_type": "markdown",
      "source": [
        "##Measuring text similarities"
      ],
      "metadata": {
        "id": "CKQ3xygyzGoH"
      }
    },
    {
      "cell_type": "markdown",
      "source": [
        "In this notebook, we focus on a basic NLP problem: **measuring the similarity between two texts**. \n",
        "\n",
        "We will quickly discover a feasible solution that is not computationally efficient.\n",
        "We will then explore a series of numerical techniques for rapidly computing\n",
        "text similarities."
      ],
      "metadata": {
        "id": "fJsYonsIz1lJ"
      }
    },
    {
      "cell_type": "markdown",
      "source": [
        "##Setup"
      ],
      "metadata": {
        "id": "nEaM8U6Lz_Fg"
      }
    },
    {
      "cell_type": "code",
      "source": [
        "import warnings\n",
        "warnings.filterwarnings('ignore')"
      ],
      "metadata": {
        "id": "gtDg8Oyyz__L"
      },
      "execution_count": 1,
      "outputs": []
    },
    {
      "cell_type": "code",
      "source": [
        "from collections import defaultdict\n",
        "from collections import Counter\n",
        "import time\n",
        "import numpy as np\n",
        "import pandas as pd\n",
        "\n",
        "from scipy.spatial.distance import euclidean\n",
        "from numpy.linalg import norm\n",
        "\n",
        "import seaborn as sns\n",
        "import matplotlib.pyplot as plt"
      ],
      "metadata": {
        "id": "TobbrwVl0CWF"
      },
      "execution_count": 2,
      "outputs": []
    },
    {
      "cell_type": "markdown",
      "source": [
        "##Simple text comparison"
      ],
      "metadata": {
        "id": "tRYlC_k-0OTX"
      }
    },
    {
      "cell_type": "markdown",
      "source": [
        "Suppose we want to compare three simple texts:\n",
        "\n",
        "```text\n",
        "text1—She sells seashells by the seashore\n",
        "text2—“Seashells! The seashells are on sale! By the seashore.”\n",
        "text3—She sells 3 seashells to John, who lives by the lake.\n",
        "```\n",
        "\n",
        "Our goal is to determine whether `text1` is more similar to `text2` or to `text3`.\n",
        "\n"
      ],
      "metadata": {
        "id": "sTg51MOn0QLf"
      }
    },
    {
      "cell_type": "code",
      "source": [
        "# Assigning texts to variables\n",
        "text1 = \"She sells seashells by the seashore.\"\n",
        "text2 = '\"Seashells! The seashells are on sale! By the seashore.\"'\n",
        "text3 = \"She sells 3 seashells to John, who lives by the lake.\""
      ],
      "metadata": {
        "id": "WCepvD5r0Wq4"
      },
      "execution_count": 3,
      "outputs": []
    },
    {
      "cell_type": "markdown",
      "source": [
        "Now we need to quantify the differences between texts."
      ],
      "metadata": {
        "id": "uvofbc7T05_E"
      }
    },
    {
      "cell_type": "code",
      "source": [
        "# Splitting texts into words\n",
        "words_lists = [text.split() for text in [text1, text2, text3]]\n",
        "words1, words2, words3 = words_lists\n",
        "\n",
        "for i, words in enumerate(words_lists, 1):\n",
        "  print(f\"Words in text {i}\")\n",
        "  print(f\"{words}\\n\")"
      ],
      "metadata": {
        "id": "9gsaUHqR06bp",
        "outputId": "69ad8dc5-93f5-4a6b-ecd1-78e20d578411",
        "colab": {
          "base_uri": "https://localhost:8080/"
        }
      },
      "execution_count": 4,
      "outputs": [
        {
          "output_type": "stream",
          "name": "stdout",
          "text": [
            "Words in text 1\n",
            "['She', 'sells', 'seashells', 'by', 'the', 'seashore.']\n",
            "\n",
            "Words in text 2\n",
            "['\"Seashells!', 'The', 'seashells', 'are', 'on', 'sale!', 'By', 'the', 'seashore.\"']\n",
            "\n",
            "Words in text 3\n",
            "['She', 'sells', '3', 'seashells', 'to', 'John,', 'who', 'lives', 'by', 'the', 'lake.']\n",
            "\n"
          ]
        }
      ]
    },
    {
      "cell_type": "code",
      "source": [
        "# Removing case sensitivity and punctuation\n",
        "def simplify_text(text):\n",
        "  for punctuation in ['.', ',', '!', '?', '\"']:\n",
        "    text = text.replace(punctuation, \"\")\n",
        "  return text.lower()"
      ],
      "metadata": {
        "id": "SHYUPbuJ1gpZ"
      },
      "execution_count": 5,
      "outputs": []
    },
    {
      "cell_type": "code",
      "source": [
        "for i, words in enumerate(words_lists, 1):\n",
        "  for j, word in enumerate(words):\n",
        "    words[j] = simplify_text(word)\n",
        "  print(f\"Words in text {i}\")\n",
        "  print(f\"{words}\\n\")"
      ],
      "metadata": {
        "id": "vxr_TPOa1yOj",
        "outputId": "6b022ce1-34b7-4da4-d9c9-69c30e0d3a6b",
        "colab": {
          "base_uri": "https://localhost:8080/"
        }
      },
      "execution_count": 6,
      "outputs": [
        {
          "output_type": "stream",
          "name": "stdout",
          "text": [
            "Words in text 1\n",
            "['she', 'sells', 'seashells', 'by', 'the', 'seashore']\n",
            "\n",
            "Words in text 2\n",
            "['seashells', 'the', 'seashells', 'are', 'on', 'sale', 'by', 'the', 'seashore']\n",
            "\n",
            "Words in text 3\n",
            "['she', 'sells', '3', 'seashells', 'to', 'john', 'who', 'lives', 'by', 'the', 'lake']\n",
            "\n"
          ]
        }
      ]
    },
    {
      "cell_type": "code",
      "source": [
        "# Converting word lists to sets\n",
        "words_sets = [set(words) for words in words_lists]\n",
        "for i, unique_words in enumerate(words_sets, 1):\n",
        "  print(f\"Unique Words in text {i}\")\n",
        "  print(f\"{unique_words}\\n\")"
      ],
      "metadata": {
        "id": "37vWSeHg2hDE",
        "outputId": "8db36efa-75ef-4dfe-84ea-eb400cb97056",
        "colab": {
          "base_uri": "https://localhost:8080/"
        }
      },
      "execution_count": 7,
      "outputs": [
        {
          "output_type": "stream",
          "name": "stdout",
          "text": [
            "Unique Words in text 1\n",
            "{'she', 'seashore', 'sells', 'by', 'seashells', 'the'}\n",
            "\n",
            "Unique Words in text 2\n",
            "{'seashore', 'by', 'seashells', 'the', 'sale', 'on', 'are'}\n",
            "\n",
            "Unique Words in text 3\n",
            "{'she', 'sells', 'by', 'seashells', 'the', 'to', 'who', '3', 'john', 'lake', 'lives'}\n",
            "\n"
          ]
        }
      ]
    },
    {
      "cell_type": "code",
      "source": [
        "# Extracting overlapping words between two texts\n",
        "words_set1 = words_sets[0]\n",
        "for i, words_set in enumerate(words_sets[1:], 2):\n",
        "  shared_words = words_set1 & words_set\n",
        "  print(f\"Texts 1 and {i} share these {len(shared_words)} words:\")\n",
        "  print(f\"{shared_words}\\n\")"
      ],
      "metadata": {
        "id": "sVXOROoY6Eco",
        "outputId": "571cff7e-1ba6-4e7e-cde8-cefea8c33be8",
        "colab": {
          "base_uri": "https://localhost:8080/"
        }
      },
      "execution_count": 8,
      "outputs": [
        {
          "output_type": "stream",
          "name": "stdout",
          "text": [
            "Texts 1 and 2 share these 4 words:\n",
            "{'seashore', 'the', 'by', 'seashells'}\n",
            "\n",
            "Texts 1 and 3 share these 5 words:\n",
            "{'she', 'sells', 'by', 'seashells', 'the'}\n",
            "\n"
          ]
        }
      ]
    },
    {
      "cell_type": "code",
      "source": [
        "# Extracting diverging words between two texts\n",
        "for i, words_set in enumerate(words_sets[1:], 2):\n",
        "  diverging_words = words_set1 ^ words_set\n",
        "  print(f\"Texts 1 and {i} don't share these {len(diverging_words)} words:\")\n",
        "  print(f\"{diverging_words}\\n\")"
      ],
      "metadata": {
        "id": "rD7E9MVI7AD0",
        "outputId": "c1a0c9d4-868e-4148-bdd7-9b56297107d0",
        "colab": {
          "base_uri": "https://localhost:8080/"
        }
      },
      "execution_count": 9,
      "outputs": [
        {
          "output_type": "stream",
          "name": "stdout",
          "text": [
            "Texts 1 and 2 don't share these 5 words:\n",
            "{'sells', 'sale', 'on', 'are', 'she'}\n",
            "\n",
            "Texts 1 and 3 don't share these 7 words:\n",
            "{'seashore', 'to', 'who', '3', 'john', 'lake', 'lives'}\n",
            "\n"
          ]
        }
      ]
    },
    {
      "cell_type": "markdown",
      "source": [
        "To combine their overlap and divergence into a single similarity score, we must first combine all overlapping\n",
        "and diverging words between the texts. \n",
        "\n",
        "This aggregation, which is called a union, will\n",
        "contain all the unique words across the two texts."
      ],
      "metadata": {
        "id": "pZklMwBh7Zur"
      }
    },
    {
      "cell_type": "code",
      "source": [
        "# Extracting the union of words between two texts\n",
        "for i, words_set in enumerate(words_sets[1:], 2):\n",
        "  total_words = words_set1 | words_set\n",
        "  print(f\"Together, texts 1 and {i} contain {len(total_words)} unique words. These words are:\\n {total_words}\\n\")"
      ],
      "metadata": {
        "id": "ZNeEwj1XH_sD",
        "outputId": "1b88b3c1-ee34-4249-9254-d287f074e81f",
        "colab": {
          "base_uri": "https://localhost:8080/"
        }
      },
      "execution_count": 10,
      "outputs": [
        {
          "output_type": "stream",
          "name": "stdout",
          "text": [
            "Together, texts 1 and 2 contain 9 unique words. These words are:\n",
            " {'she', 'seashore', 'sells', 'by', 'seashells', 'the', 'sale', 'on', 'are'}\n",
            "\n",
            "Together, texts 1 and 3 contain 12 unique words. These words are:\n",
            " {'sells', 'seashells', 'to', 'who', 'john', 'lake', 'lives', 'she', 'seashore', 'by', 'the', '3'}\n",
            "\n"
          ]
        }
      ]
    },
    {
      "cell_type": "markdown",
      "source": [
        "Accordingly, both overlap and divergence represent complementary\n",
        "percentages of the total unique word count across texts."
      ],
      "metadata": {
        "id": "5iNostovIpvG"
      }
    },
    {
      "cell_type": "code",
      "source": [
        "# Extracting the percentage of shared words between two texts\n",
        "for i, words_set in enumerate(words_sets[1:], 2):\n",
        "  shared_words = words_set1 & words_set\n",
        "  diverging_words = words_set1 ^ words_set\n",
        "  total_words = words_set1 | words_set\n",
        "  assert len(total_words) == len(shared_words) + len(diverging_words)\n",
        "\n",
        "  # Percent of total words shared with text 1\n",
        "  percent_shared = 100 * len(shared_words) / len(total_words)\n",
        "  # Percent of total words that diverge from text 1 \n",
        "  percent_diverging = 100 * len(diverging_words) / len(total_words)\n",
        "\n",
        "  print(f\"Together, texts 1 and {i} contain {len(total_words)} unique words. \\n{percent_shared:.2f}% of these words are shared.\\n{percent_diverging:.2f}% of these words diverge.\\n\")"
      ],
      "metadata": {
        "id": "NI-ab1ClIqOb",
        "outputId": "83f225ff-94d2-404a-a977-9a8c22bc94f9",
        "colab": {
          "base_uri": "https://localhost:8080/"
        }
      },
      "execution_count": 11,
      "outputs": [
        {
          "output_type": "stream",
          "name": "stdout",
          "text": [
            "Together, texts 1 and 2 contain 9 unique words. \n",
            "44.44% of these words are shared.\n",
            "55.56% of these words diverge.\n",
            "\n",
            "Together, texts 1 and 3 contain 12 unique words. \n",
            "41.67% of these words are shared.\n",
            "58.33% of these words diverge.\n",
            "\n"
          ]
        }
      ]
    },
    {
      "cell_type": "markdown",
      "source": [
        "We’ve essentially developed a simple metric for assessing similarities between texts.\n",
        "\n",
        "This similarity metric is referred to as the Jaccard similarity, or the Jaccard index."
      ],
      "metadata": {
        "id": "ysjoVu4AKUhK"
      }
    },
    {
      "cell_type": "markdown",
      "source": [
        "###Exploring the Jaccard similarity"
      ],
      "metadata": {
        "id": "VTRCmi4XKLus"
      }
    },
    {
      "cell_type": "markdown",
      "source": [
        "The Jaccard similarity is a reasonable measure of text resemblance for the following reasons:\n",
        "\n",
        "* The similarity takes into account both text overlap and text divergence.\n",
        "* The fractional similarity is always between 0 and 1. The fraction is easy to interpret: 0 indicates that no words are shared, 0.5 indicates that half the words are shared, and 1 indicates that all the words are shared.\n",
        "* The similarity is simple to implement."
      ],
      "metadata": {
        "id": "EJAW90_GKOc_"
      }
    },
    {
      "cell_type": "code",
      "source": [
        "# Computing the Jaccard similarity\n",
        "def jaccard_similarity(text_a, text_b):\n",
        "  word_set_a, word_set_b = [set(simplify_text(text).split()) for text in [text_a, text_b]]\n",
        "  num_shared = len(word_set_a & word_set_b)\n",
        "  num_total = len(word_set_a | word_set_b)\n",
        "  return num_shared / num_total"
      ],
      "metadata": {
        "id": "rBT635wt9gjp"
      },
      "execution_count": 12,
      "outputs": []
    },
    {
      "cell_type": "code",
      "source": [
        "for text in [text2, text3]:\n",
        "  similarity = jaccard_similarity(text1, text)\n",
        "  print(f\"Text comparison:\\n\\t{text1}\\n\\t{text}\\nThe Jaccard similarity is {similarity:.2f}\\n\")"
      ],
      "metadata": {
        "id": "W3O0Jt8w-FlI",
        "outputId": "c10904a4-b041-46ea-ca93-7e385ee98c05",
        "colab": {
          "base_uri": "https://localhost:8080/"
        }
      },
      "execution_count": 13,
      "outputs": [
        {
          "output_type": "stream",
          "name": "stdout",
          "text": [
            "Text comparison:\n",
            "\tShe sells seashells by the seashore.\n",
            "\t\"Seashells! The seashells are on sale! By the seashore.\"\n",
            "The Jaccard similarity is 0.44\n",
            "\n",
            "Text comparison:\n",
            "\tShe sells seashells by the seashore.\n",
            "\tShe sells 3 seashells to John, who lives by the lake.\n",
            "The Jaccard similarity is 0.42\n",
            "\n"
          ]
        }
      ]
    },
    {
      "cell_type": "code",
      "source": [
        "# Efficiently computing the Jaccard similarity\n",
        "def jaccard_similarity_efficient(text_a, text_b):\n",
        "  word_set_a, word_set_b = [set(simplify_text(text).split()) for text in [text_a, text_b]]\n",
        "  num_shared = len(word_set_a & word_set_b)\n",
        "  num_total = len(word_set_a) + len(word_set_b) - num_shared\n",
        "  return num_shared / num_total"
      ],
      "metadata": {
        "id": "bjO4DHbmAYuy"
      },
      "execution_count": 14,
      "outputs": []
    },
    {
      "cell_type": "code",
      "source": [
        "for text in [text2, text3]:\n",
        "  similarity = jaccard_similarity_efficient(text1, text)\n",
        "  assert similarity == jaccard_similarity(text1, text)\n",
        "  print(f\"Text comparison:\\n\\t{text1}\\n\\t{text}\\nThe Jaccard similarity is {similarity:.2f}\\n\")"
      ],
      "metadata": {
        "id": "Gh8TNVm4AlUr",
        "outputId": "984e0c14-5756-4417-9328-45afd0183f60",
        "colab": {
          "base_uri": "https://localhost:8080/"
        }
      },
      "execution_count": 15,
      "outputs": [
        {
          "output_type": "stream",
          "name": "stdout",
          "text": [
            "Text comparison:\n",
            "\tShe sells seashells by the seashore.\n",
            "\t\"Seashells! The seashells are on sale! By the seashore.\"\n",
            "The Jaccard similarity is 0.44\n",
            "\n",
            "Text comparison:\n",
            "\tShe sells seashells by the seashore.\n",
            "\tShe sells 3 seashells to John, who lives by the lake.\n",
            "The Jaccard similarity is 0.42\n",
            "\n"
          ]
        }
      ]
    },
    {
      "cell_type": "markdown",
      "source": [
        "###Replacing words with numeric values"
      ],
      "metadata": {
        "id": "vx1cEHLuA_pZ"
      }
    },
    {
      "cell_type": "markdown",
      "source": [
        "The mapping between words\n",
        "and their numeric values can be stored in a Python dictionary. We’ll refer to this dictionary\n",
        "as our vocabulary. \n",
        "\n",
        "Let’s build a vocabulary that covers all the words in our three\n",
        "texts."
      ],
      "metadata": {
        "id": "evDQMNW9BAfB"
      }
    },
    {
      "cell_type": "code",
      "source": [
        "# Assigning words to numbers in a vocabulary\n",
        "words_set1, words_set2, words_set3 = words_sets\n",
        "total_words = words_set1 | words_set2 | words_set3\n",
        "vocabulary = {word: i for i, word in enumerate(total_words)}\n",
        "value_to_word = {value: word for word, value in vocabulary.items()}\n",
        "print(f\"Our vocabulary contains {len(vocabulary)} words. This vocabulary is:\\n{vocabulary}\")"
      ],
      "metadata": {
        "id": "L0mArXDsclx_",
        "outputId": "aa6eca07-4874-41df-9ad0-bbaf6bacf59a",
        "colab": {
          "base_uri": "https://localhost:8080/"
        }
      },
      "execution_count": 16,
      "outputs": [
        {
          "output_type": "stream",
          "name": "stdout",
          "text": [
            "Our vocabulary contains 15 words. This vocabulary is:\n",
            "{'sells': 0, 'seashells': 1, 'sale': 2, 'to': 3, 'who': 4, 'on': 5, 'john': 6, 'lake': 7, 'are': 8, 'lives': 9, 'she': 10, 'seashore': 11, 'by': 12, 'the': 13, '3': 14}\n"
          ]
        }
      ]
    },
    {
      "cell_type": "markdown",
      "source": [
        "Given our vocabulary, we can convert any text into a one-dimensional array of numbers.\n",
        "\n",
        "Mathematically, a 1D numeric array is called a vector. \n",
        "\n",
        "Hence, the process of converting\n",
        "text into a vector is called text vectorization.\n",
        "\n",
        "Let’s use binary vectorization to convert all texts into NumPy arrays."
      ],
      "metadata": {
        "id": "wOp5oCJ-dZ8g"
      }
    },
    {
      "cell_type": "code",
      "source": [
        "# Transforming words into binary vectors\n",
        "vectors = []\n",
        "for i, words_set in enumerate(words_sets, 1):\n",
        "  # Generates an array of 0s\n",
        "  vector = np.array([0] * len(vocabulary))\n",
        "  for word in words_set:\n",
        "    vector[vocabulary[word]] = 1\n",
        "  vectors.append(vector)\n",
        "\n",
        "sns.heatmap(vectors, annot=True, cmap=\"YlGnBu\", \n",
        "             xticklabels=vocabulary.keys(),\n",
        "             yticklabels=[\"Text 1\", \"Text 2\", \"Text 3\"])\n",
        "plt.yticks(rotation=1)\n",
        "plt.show()"
      ],
      "metadata": {
        "id": "x1XYLAsJdgBx",
        "outputId": "e7a5079c-2230-43ee-d753-f77134173364",
        "colab": {
          "base_uri": "https://localhost:8080/",
          "height": 0
        }
      },
      "execution_count": 17,
      "outputs": [
        {
          "output_type": "display_data",
          "data": {
            "text/plain": [
              "<Figure size 432x288 with 2 Axes>"
            ],
            "image/png": "[encoded data removed]"
          },
          "metadata": {
            "needs_background": "light"
          }
        }
      ]
    },
    {
      "cell_type": "markdown",
      "source": [
        "Our binary vector representation allows us to extract shared words numerically."
      ],
      "metadata": {
        "id": "jVtr3sYafNmT"
      }
    },
    {
      "cell_type": "code",
      "source": [
        "# Finding shared words using vector arithmetic\n",
        "vector1, vector2 = vectors[:2]\n",
        "for i in range(len(vocabulary)):\n",
        "  if vector1[i] * vector2[i]:\n",
        "    shared_word = value_to_word[i]\n",
        "    print(f\"'{shared_word}' is present in both texts 1 and 2\")"
      ],
      "metadata": {
        "id": "uFYRNPnMfOEs",
        "outputId": "9de82638-dbfc-4bc5-e937-84422669770c",
        "colab": {
          "base_uri": "https://localhost:8080/"
        }
      },
      "execution_count": 18,
      "outputs": [
        {
          "output_type": "stream",
          "name": "stdout",
          "text": [
            "'seashells' is present in both texts 1 and 2\n",
            "'seashore' is present in both texts 1 and 2\n",
            "'by' is present in both texts 1 and 2\n",
            "'the' is present in both texts 1 and 2\n"
          ]
        }
      ]
    },
    {
      "cell_type": "code",
      "source": [
        "# Counting shared words using vector arithmetic\n",
        "shared_word_count = sum(vector1[i] * vector2[i] for i in range(len(vocabulary)))\n",
        "assert shared_word_count == len(words_set1 & words_set2)"
      ],
      "metadata": {
        "id": "FGXUt3l_g82R"
      },
      "execution_count": 19,
      "outputs": []
    },
    {
      "cell_type": "markdown",
      "source": [
        "The sum of the pairwise products across all vector indices is called the dot product."
      ],
      "metadata": {
        "id": "Foe_45QrhUng"
      }
    },
    {
      "cell_type": "code",
      "source": [
        "# Computing a vector dot product using NumPy\n",
        "assert vector1.dot(vector2) == shared_word_count\n",
        "assert vector1 @ vector2 == shared_word_count"
      ],
      "metadata": {
        "id": "vcbsS4luhVBu"
      },
      "execution_count": 20,
      "outputs": []
    },
    {
      "cell_type": "markdown",
      "source": [
        "Stated more concisely, `vector1 @ vector1` should equal the number of unique words\n",
        "in `text1`, which is also equal to `len(words_set1)`. \n",
        "\n",
        "Let’s confirm."
      ],
      "metadata": {
        "id": "EhAu2Ax4hwRx"
      }
    },
    {
      "cell_type": "code",
      "source": [
        "assert vector1 @ vector1 == len(words_set1)\n",
        "assert vector2 @ vector2 == len(words_set2)"
      ],
      "metadata": {
        "id": "g2scHtagh0kZ"
      },
      "execution_count": 21,
      "outputs": []
    },
    {
      "cell_type": "markdown",
      "source": [
        "Essentially, we can compute the Jaccard similarity using only\n",
        "vector operations. \n",
        "\n",
        "This vectorized implementation of Jaccard is called the Tanimoto\n",
        "similarity."
      ],
      "metadata": {
        "id": "7aKBDrQSiLkE"
      }
    },
    {
      "cell_type": "code",
      "source": [
        "# Computing text similarity using vector arithmetic\n",
        "def tanimoto_similarity(vector_a, vector_b):\n",
        "  num_shared = vector_a @ vector_b\n",
        "  num_total = vector_a @ vector_a + vector_b @ vector_b - num_shared\n",
        "  return num_shared / num_total"
      ],
      "metadata": {
        "id": "3NkBG-zTiNUN"
      },
      "execution_count": 22,
      "outputs": []
    },
    {
      "cell_type": "code",
      "source": [
        "for i, text in enumerate([text2, text3], 1):\n",
        "  similarity = tanimoto_similarity(vector1, vectors[i])\n",
        "  assert similarity == jaccard_similarity(text1, text)"
      ],
      "metadata": {
        "id": "68HPPjRrijj3"
      },
      "execution_count": 23,
      "outputs": []
    },
    {
      "cell_type": "markdown",
      "source": [
        "What\n",
        "would happen if we inputted two arrays with values other than 0 or 1? \n",
        "\n",
        "Technically,\n",
        "the function should return a similarity, but would that similarity make sense? \n",
        "\n",
        "For\n",
        "instance, vectors `[5, 3]` and `[5, 2]` are nearly identical. We expect their similarity to be nearly equal to 1.\n",
        "\n",
        "Let’s test our expectations by inputting the vectors."
      ],
      "metadata": {
        "id": "4NwrfCEcjjXa"
      }
    },
    {
      "cell_type": "code",
      "source": [
        "# Computing the similarity of non-binary vectors\n",
        "non_binary_vector1 = np.array([5, 3])\n",
        "non_binary_vector2 = np.array([5, 2])\n",
        "\n",
        "similarity = tanimoto_similarity(non_binary_vector1, non_binary_vector2)\n",
        "print(f\"The similarity of 2 non-binary vectors is {similarity}\")"
      ],
      "metadata": {
        "id": "gjmSyTA9jYiv",
        "outputId": "d4c1ab7c-0a4d-4993-9f56-5f0718124b2f",
        "colab": {
          "base_uri": "https://localhost:8080/"
        }
      },
      "execution_count": 24,
      "outputs": [
        {
          "output_type": "stream",
          "name": "stdout",
          "text": [
            "The similarity of 2 non-binary vectors is 0.96875\n"
          ]
        }
      ]
    },
    {
      "cell_type": "markdown",
      "source": [
        "The outputted value is nearly equal to 1. \n",
        "\n",
        "Thus, `tanimoto_similarity` has successfully\n",
        "measured the similarity between two nearly identical vectors. The function can analyze\n",
        "non-binary inputs. \n",
        "\n",
        "This means we can use non-binary techniques to vectorize our\n",
        "texts before comparing their contents."
      ],
      "metadata": {
        "id": "i9w5C-iwj_3T"
      }
    },
    {
      "cell_type": "markdown",
      "source": [
        "##Vectorizing texts using word counts"
      ],
      "metadata": {
        "id": "5PQH4xUhkCyw"
      }
    },
    {
      "cell_type": "markdown",
      "source": [
        "Binary vectorization captures the presence and absence of words in a text, but it\n",
        "doesn’t capture word counts. This is unfortunate since word counts can provide a differentiating\n",
        "signal between texts.\n",
        "\n",
        "A vector of word counts is\n",
        "commonly referred to as a term-frequency vector, or a TF vector for short.\n",
        "\n",
        "Let’s compute\n",
        "the TF vectors of A and B using a two-element vocabulary `{'duck': 0, 'goose': 1}`."
      ],
      "metadata": {
        "id": "waYEuLetoN0Q"
      }
    },
    {
      "cell_type": "code",
      "source": [
        "# Computing TF vector similarity\n",
        "similarity = tanimoto_similarity(np.array([61, 2]), np.array([1, 71]))\n",
        "print(f\"The similarity between texts is approximately {similarity:.3f}\")"
      ],
      "metadata": {
        "id": "kyhAljA9oYpC",
        "outputId": "8533c4c7-9c02-41eb-a65b-faccbd15ede4",
        "colab": {
          "base_uri": "https://localhost:8080/"
        }
      },
      "execution_count": 25,
      "outputs": [
        {
          "output_type": "stream",
          "name": "stdout",
          "text": [
            "The similarity between texts is approximately 0.024\n"
          ]
        }
      ]
    },
    {
      "cell_type": "markdown",
      "source": [
        "Let’s compare it to the binaryvector\n",
        "similarity of the two texts."
      ],
      "metadata": {
        "id": "sKG3z3Yco0QI"
      }
    },
    {
      "cell_type": "code",
      "source": [
        "# Assessing identical vector similarity\n",
        "assert tanimoto_similarity(np.array([1, 1]), np.array([1, 1])) == 1"
      ],
      "metadata": {
        "id": "Ek2aImGpo0wL"
      },
      "execution_count": 26,
      "outputs": []
    },
    {
      "cell_type": "code",
      "source": [
        "# Computing TF vectors from word lists\n",
        "tf_vectors = []\n",
        "for i, words_list in enumerate(words_lists, 1):\n",
        "  tf_vector = np.array([0] * len(vocabulary))\n",
        "  for word in words_list:\n",
        "    word_index = vocabulary[word]\n",
        "    tf_vector[word_index] += 1\n",
        "  tf_vectors.append(tf_vector)\n",
        "\n",
        "sns.heatmap(tf_vectors, cmap=\"YlGnBu\", annot=True, xticklabels=vocabulary.keys(), yticklabels=[\"Text 1\", \"Text 2\", \"Text 3\"])\n",
        "plt.yticks(rotation=0)\n",
        "plt.show()"
      ],
      "metadata": {
        "id": "mlzNdrqApD93",
        "outputId": "6232f033-e22e-4dc0-80b1-5eb269adde89",
        "colab": {
          "base_uri": "https://localhost:8080/",
          "height": 306
        }
      },
      "execution_count": 27,
      "outputs": [
        {
          "output_type": "display_data",
          "data": {
            "text/plain": [
              "<Figure size 432x288 with 2 Axes>"
            ],
            "image/png": "[encoded data removed]"
          },
          "metadata": {
            "needs_background": "light"
          }
        }
      ]
    },
    {
      "cell_type": "code",
      "source": [
        "# Comparing metrics of vector similarity\n",
        "tf_vector1 = tf_vectors[0]\n",
        "binary_vector1 = vectors[0]\n",
        "\n",
        "for i, tf_vector in enumerate(tf_vectors[1:], 2):\n",
        "  similarity = tanimoto_similarity(tf_vector1, tf_vector)\n",
        "  old_similarity = tanimoto_similarity(tf_vector1, vectors[i - 1])\n",
        "  print(f\"The recomputed Tanimoto similarity between texts 1 and {i} is {similarity:.3f}\")\n",
        "  print(f\"Previously, that similarity equaled {old_similarity:.3f} \\n\")"
      ],
      "metadata": {
        "id": "zxuzeeoWqOny",
        "outputId": "c97207de-4cb4-457b-bd19-9336d34e5558",
        "colab": {
          "base_uri": "https://localhost:8080/"
        }
      },
      "execution_count": 28,
      "outputs": [
        {
          "output_type": "stream",
          "name": "stdout",
          "text": [
            "The recomputed Tanimoto similarity between texts 1 and 2 is 0.462\n",
            "Previously, that similarity equaled 0.444 \n",
            "\n",
            "The recomputed Tanimoto similarity between texts 1 and 3 is 0.417\n",
            "Previously, that similarity equaled 0.417 \n",
            "\n"
          ]
        }
      ]
    },
    {
      "cell_type": "markdown",
      "source": [
        "TF vectors yield improved comparisons because they’re sensitive to count differences\n",
        "between texts. This sensitivity is useful. However, it can also be detrimental\n",
        "when comparing texts of different lengths."
      ],
      "metadata": {
        "id": "pQJedaZVsZst"
      }
    },
    {
      "cell_type": "markdown",
      "source": [
        "### TF vector similarity using normalization"
      ],
      "metadata": {
        "id": "73C6bZmTsaIP"
      }
    },
    {
      "cell_type": "markdown",
      "source": [
        "Suppose you run a query for “Pepperoni Pizza” and the following two titles are\n",
        "returned:\n",
        "\n",
        "* **Title A**—“Pepperoni Pizza! Pepperoni Pizza! Pepperoni Pizza!”\n",
        "* **Title B**—“Pepperoni”\n",
        "\n",
        "Which of our two titles best matches the query? Most data scientists would agree that\n",
        "title A is a better match than title B. \n",
        "\n",
        "Both title A and the query mention pepperoni pizza.\n",
        "Meanwhile, title B mentions only pepperoni. There is no indication that the associated\n",
        "document actually discusses pizza in any context.\n",
        "\n",
        "Let’s check whether title A ranks higher than title B relative to the query."
      ],
      "metadata": {
        "id": "v3nEwM6zsiDX"
      }
    },
    {
      "cell_type": "code",
      "source": [
        "# Simple search engine vectorization\n",
        "query_vector = np.array([1, 1])\n",
        "title_a_vector = np.array([3, 3])\n",
        "title_b_vector = np.array([1, 0])"
      ],
      "metadata": {
        "id": "Un7ezvrwF-Q4"
      },
      "execution_count": 29,
      "outputs": []
    },
    {
      "cell_type": "code",
      "source": [
        "# Ranking titles by query similarity\n",
        "titles = [\n",
        "  \"A: Pepperoni Pizza! Pepperoni Pizza! Pepperoni Pizza!\",\n",
        "  \"B: Pepperoni\"        \n",
        "]\n",
        "\n",
        "title_vectors = [title_a_vector, title_b_vector]\n",
        "similarities = [tanimoto_similarity(query_vector, title_vector) for title_vector in title_vectors]\n",
        "\n",
        "for index in sorted(range(len(titles)), key= lambda i: similarities[i], reverse=True):\n",
        "  title = titles[index]\n",
        "  similarity = similarities[index]\n",
        "  print(f\"{title} has a query similarity of {similarity:.4f}\")"
      ],
      "metadata": {
        "id": "svfBTmLNGOXv",
        "outputId": "8a69d68c-4329-435e-cb9b-8e6f82cfacb6",
        "colab": {
          "base_uri": "https://localhost:8080/"
        }
      },
      "execution_count": 30,
      "outputs": [
        {
          "output_type": "stream",
          "name": "stdout",
          "text": [
            "B: Pepperoni has a query similarity of 0.5000\n",
            "A: Pepperoni Pizza! Pepperoni Pizza! Pepperoni Pizza! has a query similarity of 0.4286\n"
          ]
        }
      ]
    },
    {
      "cell_type": "markdown",
      "source": [
        "Unfortunately, title A outranks title B. This discrepancy in rankings is caused by text\n",
        "size. \n",
        "\n",
        "Title A has three times as many words as the query, while title B and the query differ\n",
        "by just a single word."
      ],
      "metadata": {
        "id": "QwHStSFqHlfc"
      }
    },
    {
      "cell_type": "code",
      "source": [
        "# Eliminating size differences through division\n",
        "assert np.array_equal(query_vector, title_a_vector / 3)\n",
        "assert tanimoto_similarity(query_vector, title_a_vector / 3) == 1"
      ],
      "metadata": {
        "id": "_hPaYFLZHmcA"
      },
      "execution_count": 31,
      "outputs": []
    },
    {
      "cell_type": "markdown",
      "source": [
        "Mathematicians treat every vector v as a line stretching from\n",
        "the origin to the numerical coordinates in v. \n",
        "\n",
        "Essentially, our three vectors are merely\n",
        "2D line segments rising from the origin."
      ],
      "metadata": {
        "id": "0ySIlh4mIGuB"
      }
    },
    {
      "cell_type": "code",
      "source": [
        "# Plotting TF vectors in 2D space\n",
        "plt.plot([0, query_vector[0]], [0, query_vector[1]], c=\"k\", linewidth=3, label=\"Query Vector\")\n",
        "plt.plot([0, title_a_vector[0]], [0, title_a_vector[1]], c=\"b\", linestyle=\"--\", label=\"Title A Vector\")\n",
        "plt.plot([0, title_b_vector[0]], [0, title_b_vector[1]], c=\"g\", linewidth=2, linestyle=\"-.\", label=\"Title B Vector\")\n",
        "plt.xlabel(\"Pepperoni\")\n",
        "plt.ylabel(\"Pizza\")\n",
        "plt.legend()\n",
        "plt.show()"
      ],
      "metadata": {
        "id": "Xk2OsXxMIHMA",
        "outputId": "81032310-4e4f-4d04-cd89-41d3b557f0ac",
        "colab": {
          "base_uri": "https://localhost:8080/",
          "height": 0
        }
      },
      "execution_count": 32,
      "outputs": [
        {
          "output_type": "display_data",
          "data": {
            "text/plain": [
              "<Figure size 432x288 with 1 Axes>"
            ],
            "image/png": "[encoded data removed]"
          },
          "metadata": {
            "needs_background": "light"
          }
        }
      ]
    },
    {
      "cell_type": "markdown",
      "source": [
        "Hence, every vector has a geometric length, which is\n",
        "called the magnitude. The magnitude is also called the Euclidean norm or the L2 norm.\n",
        "\n",
        "Measuring the magnitude allows us to account for differences in geometric lengths.\n",
        "\n",
        "Let’s output the magnitudes of our search engine vectors."
      ],
      "metadata": {
        "id": "V97G01ZqKmuP"
      }
    },
    {
      "cell_type": "code",
      "source": [
        "# Computing vector magnitude\n",
        "vector_names = [\"Query Vector\", \"Title A Vector\", \"Title B Vector\"]\n",
        "tf_search_vectors = [query_vector, title_a_vector, title_b_vector]\n",
        "origin = np.array([0, 0])\n",
        "\n",
        "for name , tf_vector in zip(vector_names, tf_search_vectors):\n",
        "  # calculate the magnitude using Euclidean distance\n",
        "  magnitude = euclidean(tf_vector, origin)\n",
        "  # calculate the magnitude using Numpy's norm\n",
        "  assert magnitude == norm(tf_vector)\n",
        "  # calculate the magnitude using dot product\n",
        "  assert magnitude == (tf_vector @ tf_vector) ** .5\n",
        "  print(f\"{name}'s magnitude is approximately {magnitude:.4f}\")\n",
        "\n",
        "magnitude_ratio = norm(title_a_vector) / norm(query_vector)\n",
        "print(f\"\\nVector A is {magnitude_ratio:.0f}x as long as Query Vector\")"
      ],
      "metadata": {
        "id": "lIZ6BNBBKnUg",
        "outputId": "8c22db64-7b21-4fc4-c249-2f1057c19403",
        "colab": {
          "base_uri": "https://localhost:8080/"
        }
      },
      "execution_count": 33,
      "outputs": [
        {
          "output_type": "stream",
          "name": "stdout",
          "text": [
            "Query Vector's magnitude is approximately 1.4142\n",
            "Title A Vector's magnitude is approximately 4.2426\n",
            "Title B Vector's magnitude is approximately 1.0000\n",
            "\n",
            "Vector A is 3x as long as Query Vector\n"
          ]
        }
      ]
    },
    {
      "cell_type": "markdown",
      "source": [
        "A vector with a\n",
        "magnitude of 1 is referred to as a unit vector. Unit vectors have many useful properties,one benefit of unit vectors is that they are easy to compare:\n",
        "since unit vectors share an equal magnitude, it doesn’t play a role in their similarity.\n",
        "\n",
        "Fundamentally, the difference between unit vectors is determined solely by direction.\n",
        "\n",
        "Dividing any\n",
        "vector by its magnitude transforms that magnitude to 1. \n",
        "\n",
        "That division by the magnitude\n",
        "is called normalization, since the magnitude is also referenced as the L2 norm."
      ],
      "metadata": {
        "id": "nmuBSBhANPfs"
      }
    },
    {
      "cell_type": "code",
      "source": [
        "# Plotting normalized vectors\n",
        "unit_query_vector = query_vector / norm(query_vector)\n",
        "unit_title_a_vector = title_a_vector / norm(title_a_vector)\n",
        "assert np.allclose(unit_query_vector, unit_title_a_vector)\n",
        "# This vector is already a unit vector.There is no need to normalize\n",
        "unit_title_b_vector = title_b_vector / norm(title_b_vector)\n",
        "\n",
        "plt.plot([0, unit_query_vector[0]], [0, unit_query_vector[1]], c=\"k\", linewidth=3, label=\"Normalized Query Vector\")\n",
        "plt.plot([0, unit_title_a_vector[0]], [0, unit_title_a_vector[1]], c=\"r\", linestyle=\"--\", label=\"Normalized Title A Vector\")\n",
        "plt.plot([0, unit_title_b_vector[0]], [0, unit_title_b_vector[1]], c=\"g\", linewidth=2, linestyle=\"-.\", label=\"Title B Vector\")\n",
        "plt.axis(\"equal\")\n",
        "plt.legend()\n",
        "plt.show()"
      ],
      "metadata": {
        "id": "V3ZKazRgSC2L",
        "outputId": "dbeef43a-0814-4909-facc-469416b8be33",
        "colab": {
          "base_uri": "https://localhost:8080/",
          "height": 0
        }
      },
      "execution_count": 34,
      "outputs": [
        {
          "output_type": "display_data",
          "data": {
            "text/plain": [
              "<Figure size 432x288 with 1 Axes>"
            ],
            "image/png": "[encoded data removed]"
          },
          "metadata": {
            "needs_background": "light"
          }
        }
      ]
    },
    {
      "cell_type": "code",
      "source": [
        "# Ranking titles by unit vector similarity\n",
        "unit_title_vectors = [unit_title_a_vector, unit_title_b_vector]\n",
        "similarities = [tanimoto_similarity(unit_query_vector, unit_title_vector) for unit_title_vector in unit_title_vectors]\n",
        "\n",
        "for index in sorted(range(len(titles)), key=lambda i: similarities[i], reverse=True):\n",
        "  title = titles[index]\n",
        "  similarity = similarities[index]\n",
        "  print(f\"{title} has a normalized query similarity of {similarity:.4f}\")"
      ],
      "metadata": {
        "id": "00CN5zisTYXd",
        "outputId": "d811a628-fc16-4127-a1b0-e12a585737a1",
        "colab": {
          "base_uri": "https://localhost:8080/"
        }
      },
      "execution_count": 35,
      "outputs": [
        {
          "output_type": "stream",
          "name": "stdout",
          "text": [
            "A: Pepperoni Pizza! Pepperoni Pizza! Pepperoni Pizza! has a normalized query similarity of 1.0000\n",
            "B: Pepperoni has a normalized query similarity of 0.5469\n"
          ]
        }
      ]
    },
    {
      "cell_type": "code",
      "source": [
        "# Computing a unit vector Tanimoto similarity\n",
        "def normalized_tanimoto(u1, u2):\n",
        "  dot_product = u1 @ u2\n",
        "  return dot_product / (2 - dot_product)"
      ],
      "metadata": {
        "id": "nkF2CqIlUk61"
      },
      "execution_count": 36,
      "outputs": []
    },
    {
      "cell_type": "code",
      "source": [
        "for unit_title_vector in unit_title_vectors[1:]:\n",
        "  similarity = normalized_tanimoto(unit_query_vector, unit_title_vector)\n",
        "  assert similarity == tanimoto_similarity(unit_query_vector, unit_title_vector)"
      ],
      "metadata": {
        "id": "8wlVeF9nUwtE"
      },
      "execution_count": 37,
      "outputs": []
    },
    {
      "cell_type": "markdown",
      "source": [
        "The dot product of two unit vectors is a very special value. It can easily be converted\n",
        "into the angle between the vectors and also into the spatial distance between them.\n",
        "\n",
        "Fortunately, math gives you a way out. If your vectors are normalized, their Tanimoto\n",
        "similarity can be substituted with the Euclidean and cosine metrics. This is because all\n",
        "three measures are very closely related to the normalized dot product."
      ],
      "metadata": {
        "id": "A2vRgimmVO-c"
      }
    },
    {
      "cell_type": "markdown",
      "source": [
        "###Relevance metrics using dot products"
      ],
      "metadata": {
        "id": "CE_pGH2TVdHc"
      }
    },
    {
      "cell_type": "markdown",
      "source": [
        "Geometrically, the dot product of two unit vectors equals the cosine of the angle\n",
        "between them. Due to its equivalence with the cosine, the dot product of two unit\n",
        "vectors is commonly referred to as the cosine similarity.\n",
        "\n"
      ],
      "metadata": {
        "id": "ClkfCLWfXGbN"
      }
    },
    {
      "cell_type": "code",
      "source": [
        "# Converting between unit vector metrics\n",
        "unit_vector_names = [\"Normalized Title A vector\", \"Title B vector\"]\n",
        "u1 = unit_query_vector\n",
        "\n",
        "for unit_vector_name, u2 in zip(unit_vector_names, unit_title_vectors):\n",
        "  similarity = normalized_tanimoto(u1, u2)\n",
        "  cosine_similarity = 2 * similarity / (1 + similarity)\n",
        "  assert cosine_similarity == u1 @ u2\n",
        "\n",
        "  angle = np.arccos(cosine_similarity)\n",
        "  euclidean_distance = (2 - 2 * cosine_similarity) ** .5\n",
        "  assert round(euclidean_distance, 10) == round(euclidean(u1, u2), 10)\n",
        "\n",
        "  measurements = {\n",
        "    \"Tanimoto similarity\": similarity,\n",
        "    \"cosine similarity\": cosine_similarity,\n",
        "    \"Euclidean distance\": euclidean_distance,\n",
        "    \"angle\": np.degrees(angle)\n",
        "  }\n",
        "\n",
        "  print(f\"We are comparing Normalized Query Vector and {unit_vector_names}\")\n",
        "  for measurement_type, value in measurements.items():\n",
        "    output = f\"The {measurement_type} between vectors is {value:.4f}\"\n",
        "    if measurement_type == \"angle\":\n",
        "      output += \" degrees\\n\"\n",
        "    print(output)"
      ],
      "metadata": {
        "id": "xlMOB2eAXc9F",
        "outputId": "aa3985fd-2178-4177-c420-16f0e34deaba",
        "colab": {
          "base_uri": "https://localhost:8080/"
        }
      },
      "execution_count": 38,
      "outputs": [
        {
          "output_type": "stream",
          "name": "stdout",
          "text": [
            "We are comparing Normalized Query Vector and ['Normalized Title A vector', 'Title B vector']\n",
            "The Tanimoto similarity between vectors is 1.0000\n",
            "The cosine similarity between vectors is 1.0000\n",
            "The Euclidean distance between vectors is 0.0000\n",
            "The angle between vectors is 0.0000 degrees\n",
            "\n",
            "We are comparing Normalized Query Vector and ['Normalized Title A vector', 'Title B vector']\n",
            "The Tanimoto similarity between vectors is 0.5469\n",
            "The cosine similarity between vectors is 0.7071\n",
            "The Euclidean distance between vectors is 0.7654\n",
            "The angle between vectors is 45.0000 degrees\n",
            "\n"
          ]
        }
      ]
    },
    {
      "cell_type": "markdown",
      "source": [
        "The Tanimoto similarity between normalized vectors can be transformed into other\n",
        "metrics of similarity or distance.\n",
        "\n",
        "However, a table\n",
        "of cross-text similarities can be elegantly computed using matrix multiplication. In\n",
        "mathematics, matrix multiplication generalizes the dot product from one-dimensional\n",
        "vectors to two-dimensional arrays."
      ],
      "metadata": {
        "id": "TC_NdVBBaMnF"
      }
    },
    {
      "cell_type": "markdown",
      "source": [
        "##Similarity calculation using Matrix multiplication"
      ],
      "metadata": {
        "id": "SXyovfNcadD1"
      }
    },
    {
      "cell_type": "markdown",
      "source": [
        "Let’s generate a table of normalized Tanimoto similarities."
      ],
      "metadata": {
        "id": "BolyP0dyagjN"
      }
    },
    {
      "cell_type": "code",
      "source": [
        "# Computing a table of normalized Tanimoto similarities\n",
        "num_texts = len(tf_vectors)\n",
        "similarities = np.array([[0.0] * num_texts for _ in range(num_texts)])\n",
        "unit_vectors = np.array([vector / norm(vector) for vector in tf_vectors])\n",
        "for i, vector_a in enumerate(unit_vectors):\n",
        "  for j, vector_b in enumerate(unit_vectors):\n",
        "    similarities[i][j] = normalized_tanimoto(vector_a, vector_b)\n",
        "\n",
        "labels = [\"Text 1\", \"Text 2\", \"Text 3\"]\n",
        "sns.heatmap(similarities, cmap=\"YlGnBu\", annot=True, xticklabels=labels, yticklabels=labels)\n",
        "plt.yticks(rotation=0)\n",
        "plt.show()"
      ],
      "metadata": {
        "id": "1Y_mSKI5zZFK",
        "outputId": "545e1ad1-6c15-48dd-fdd6-b6bc5fefaa44",
        "colab": {
          "base_uri": "https://localhost:8080/",
          "height": 269
        }
      },
      "execution_count": 39,
      "outputs": [
        {
          "output_type": "display_data",
          "data": {
            "text/plain": [
              "<Figure size 432x288 with 2 Axes>"
            ],
            "image/png": "[encoded data removed]"
          },
          "metadata": {
            "needs_background": "light"
          }
        }
      ]
    },
    {
      "cell_type": "markdown",
      "source": [
        "###Basic matrix operations"
      ],
      "metadata": {
        "id": "GYiLc-jE2Shv"
      }
    },
    {
      "cell_type": "markdown",
      "source": [
        "A matrix is the extension of a one-dimensional vector\n",
        "to two dimensions. In other words, a matrix is just a table of numbers.\n",
        "\n",
        "Since matrices are tables, they can be analyzed using Pandas."
      ],
      "metadata": {
        "id": "lHGqxr2y2TVO"
      }
    },
    {
      "cell_type": "code",
      "source": [
        "# Comparing Pandas and NumPy matrix attributes\n",
        "matrices = [unit_vectors, pd.DataFrame(unit_vectors)]\n",
        "matrix_types = [\"2D NumPy array\", \"Pandas DataFrame\"]\n",
        "\n",
        "for matrix_type, matrix in zip(matrix_types, matrices):\n",
        "  row_count, column_count = matrix.shape\n",
        "  print(f\"Our {matrix_type} contains {row_count} rows and {column_count} columns\")\n",
        "  assert (column_count, row_count) == matrix.T.shape"
      ],
      "metadata": {
        "id": "4qVr5astkZ82",
        "outputId": "d108616d-7ba7-46eb-af33-c0da0e2adc67",
        "colab": {
          "base_uri": "https://localhost:8080/"
        }
      },
      "execution_count": 40,
      "outputs": [
        {
          "output_type": "stream",
          "name": "stdout",
          "text": [
            "Our 2D NumPy array contains 3 rows and 15 columns\n",
            "Our Pandas DataFrame contains 3 rows and 15 columns\n"
          ]
        }
      ]
    },
    {
      "cell_type": "markdown",
      "source": [
        "**NUMPY MATRIX ARITHMETIC OPERATIONS**"
      ],
      "metadata": {
        "id": "HkR3oSyQlSdp"
      }
    },
    {
      "cell_type": "markdown",
      "source": [
        "Doubling the values of a matrix is very easy to do in NumPy."
      ],
      "metadata": {
        "id": "UZVTg8f0lcDg"
      }
    },
    {
      "cell_type": "code",
      "source": [
        "# NumPy array addition and subtraction\n",
        "double_similarities = 2 * similarities\n",
        "np.array_equal(double_similarities, similarities + similarities)\n",
        "zero_matrix = similarities - similarities\n",
        "negative_1_matrix = similarities - similarities - 1\n",
        "\n",
        "for i in range(similarities.shape[0]):\n",
        "  for j in range(similarities.shape[1]):\n",
        "    assert double_similarities[i][j] == 2 * similarities[i][j]\n",
        "    assert zero_matrix[i][j] == 0\n",
        "    assert negative_1_matrix[i][j] == -1"
      ],
      "metadata": {
        "id": "dOVUl4r2lcxZ"
      },
      "execution_count": 41,
      "outputs": []
    },
    {
      "cell_type": "code",
      "source": [
        "# NumPy array multiplication and division\n",
        "squared_similarities = similarities * similarities\n",
        "assert np.array_equal(squared_similarities, similarities ** 2)\n",
        "\n",
        "ones_matrix = similarities / similarities\n",
        "\n",
        "for i in range(similarities.shape[0]):\n",
        "  for j in range(similarities.shape[1]):\n",
        "    assert squared_similarities[i][j] == similarities[i][j] ** 2\n",
        "    assert ones_matrix[i][j] == 1"
      ],
      "metadata": {
        "id": "CIrghW0MmVgJ"
      },
      "execution_count": 42,
      "outputs": []
    },
    {
      "cell_type": "code",
      "source": [
        "# Converting between matrix similarity-types\n",
        "cosine_similarities = 2 * similarities / (1 + similarities)\n",
        "\n",
        "for i in range(similarities.shape[0]):\n",
        "  for j in range(similarities.shape[1]):\n",
        "    # Confirms that the cosine similarity equals the actual vector dot product\n",
        "    cosine_sim = unit_vectors[i] @ unit_vectors[j]\n",
        "    assert round(cosine_similarities[i][j], 15) == round(cosine_sim, 15)"
      ],
      "metadata": {
        "id": "udeA7iODm-E1"
      },
      "execution_count": 43,
      "outputs": []
    },
    {
      "cell_type": "markdown",
      "source": [
        "**NUMPY MATRIX ROW AND COLUMN OPERATIONS**\n",
        "\n",
        "Given any 2D matrix array, we can access the row at index i by running `matrix[i]`. \n",
        "\n",
        "Likewise,\n",
        "we can access the column at index j by running `matrix[:,j]`."
      ],
      "metadata": {
        "id": "SeW5DKT5n0gV"
      }
    },
    {
      "cell_type": "code",
      "source": [
        "# Accessing NumPy matrix rows and columns\n",
        "for name, matrix in [(\"Similarities\", similarities), (\"Unit Vectors\", unit_vectors)]:\n",
        "  print(f\"Accessing rows and columns in the {name} Matrix.\")\n",
        "  row, column = matrix[0], matrix[:, 0]\n",
        "  print(f\"Row at index 0 is:\\n{row}\")\n",
        "  print(f\"\\nColumn at index 0 is:\\n{column}\\n\")"
      ],
      "metadata": {
        "id": "aH0AEoHon8fI",
        "outputId": "c6fd1fac-dd6c-4608-e95d-c4bf0b92b7e9",
        "colab": {
          "base_uri": "https://localhost:8080/"
        }
      },
      "execution_count": 44,
      "outputs": [
        {
          "output_type": "stream",
          "name": "stdout",
          "text": [
            "Accessing rows and columns in the Similarities Matrix.\n",
            "Row at index 0 is:\n",
            "[1.         0.51442439 0.44452044]\n",
            "\n",
            "Column at index 0 is:\n",
            "[1.         0.51442439 0.44452044]\n",
            "\n",
            "Accessing rows and columns in the Unit Vectors Matrix.\n",
            "Row at index 0 is:\n",
            "[0.40824829 0.40824829 0.         0.         0.         0.\n",
            " 0.         0.         0.         0.         0.40824829 0.40824829\n",
            " 0.40824829 0.40824829 0.        ]\n",
            "\n",
            "Column at index 0 is:\n",
            "[0.40824829 0.         0.30151134]\n",
            "\n"
          ]
        }
      ]
    },
    {
      "cell_type": "code",
      "source": [
        "# Computing the dot product between a row and column\n",
        "row = similarities[0]\n",
        "column = unit_vectors[:, 0]\n",
        "dot_product = row @ column\n",
        "print(f\"The dot product between the row and column is: {dot_product:.4f}\")"
      ],
      "metadata": {
        "id": "O6L_5I3VpxYm",
        "outputId": "6a5833be-5049-4682-d857-9f16e44b849b",
        "colab": {
          "base_uri": "https://localhost:8080/"
        }
      },
      "execution_count": 45,
      "outputs": [
        {
          "output_type": "stream",
          "name": "stdout",
          "text": [
            "The dot product between the row and column is: 0.5423\n"
          ]
        }
      ]
    },
    {
      "cell_type": "code",
      "source": [
        "# Computing dot products between all rows and columns\n",
        "num_rows = similarities.shape[0]\n",
        "num_columns = unit_vectors.shape[1]\n",
        "\n",
        "for i in range(num_rows):\n",
        "  for j in range(num_columns):\n",
        "    row = similarities[i]\n",
        "    column = unit_vectors[:, j]\n",
        "    dot_product = row @ column\n",
        "    print(f\"The dot product between row {i} column {j} is: {dot_product:.4f}\")"
      ],
      "metadata": {
        "id": "JZX_2pfiqSd0",
        "outputId": "c83c2526-6815-4d42-c30c-1f3fc5b5b804",
        "colab": {
          "base_uri": "https://localhost:8080/"
        }
      },
      "execution_count": 46,
      "outputs": [
        {
          "output_type": "stream",
          "name": "stdout",
          "text": [
            "The dot product between row 0 column 0 is: 0.5423\n",
            "The dot product between row 0 column 1 is: 0.8276\n",
            "The dot product between row 0 column 2 is: 0.1427\n",
            "The dot product between row 0 column 3 is: 0.1340\n",
            "The dot product between row 0 column 4 is: 0.1340\n",
            "The dot product between row 0 column 5 is: 0.1427\n",
            "The dot product between row 0 column 6 is: 0.1340\n",
            "The dot product between row 0 column 7 is: 0.1340\n",
            "The dot product between row 0 column 8 is: 0.1427\n",
            "The dot product between row 0 column 9 is: 0.1340\n",
            "The dot product between row 0 column 10 is: 0.5423\n",
            "The dot product between row 0 column 11 is: 0.5509\n",
            "The dot product between row 0 column 12 is: 0.6850\n",
            "The dot product between row 0 column 13 is: 0.8276\n",
            "The dot product between row 0 column 14 is: 0.1340\n",
            "The dot product between row 1 column 0 is: 0.2897\n",
            "The dot product between row 1 column 1 is: 0.8444\n",
            "The dot product between row 1 column 2 is: 0.2774\n",
            "The dot product between row 1 column 3 is: 0.0797\n",
            "The dot product between row 1 column 4 is: 0.0797\n",
            "The dot product between row 1 column 5 is: 0.2774\n",
            "The dot product between row 1 column 6 is: 0.0797\n",
            "The dot product between row 1 column 7 is: 0.0797\n",
            "The dot product between row 1 column 8 is: 0.2774\n",
            "The dot product between row 1 column 9 is: 0.0797\n",
            "The dot product between row 1 column 10 is: 0.2897\n",
            "The dot product between row 1 column 11 is: 0.4874\n",
            "The dot product between row 1 column 12 is: 0.5671\n",
            "The dot product between row 1 column 13 is: 0.8444\n",
            "The dot product between row 1 column 14 is: 0.0797\n",
            "The dot product between row 2 column 0 is: 0.4830\n",
            "The dot product between row 2 column 1 is: 0.6296\n",
            "The dot product between row 2 column 2 is: 0.0733\n",
            "The dot product between row 2 column 3 is: 0.3015\n",
            "The dot product between row 2 column 4 is: 0.3015\n",
            "The dot product between row 2 column 5 is: 0.0733\n",
            "The dot product between row 2 column 6 is: 0.3015\n",
            "The dot product between row 2 column 7 is: 0.3015\n",
            "The dot product between row 2 column 8 is: 0.0733\n",
            "The dot product between row 2 column 9 is: 0.3015\n",
            "The dot product between row 2 column 10 is: 0.4830\n",
            "The dot product between row 2 column 11 is: 0.2548\n",
            "The dot product between row 2 column 12 is: 0.5563\n",
            "The dot product between row 2 column 13 is: 0.6296\n",
            "The dot product between row 2 column 14 is: 0.3015\n"
          ]
        }
      ]
    },
    {
      "cell_type": "code",
      "source": [
        "# Storing all-by-all dot products in a matrix\n",
        "dot_products = np.zeros((num_rows, num_columns))\n",
        "\n",
        "for i in range(num_rows):\n",
        "  for j in range(num_columns):\n",
        "    dot_products[i][j] = similarities[i] @ unit_vectors[:, j]\n",
        "\n",
        "print(dot_products)"
      ],
      "metadata": {
        "id": "fL1RQkxPrLn0",
        "outputId": "0d29f079-bb04-48d6-b234-6783f75f887d",
        "colab": {
          "base_uri": "https://localhost:8080/"
        }
      },
      "execution_count": 47,
      "outputs": [
        {
          "output_type": "stream",
          "name": "stdout",
          "text": [
            "[[0.54227624 0.82762755 0.14267565 0.13402795 0.13402795 0.14267565\n",
            "  0.13402795 0.13402795 0.14267565 0.13402795 0.54227624 0.55092394\n",
            "  0.6849519  0.82762755 0.13402795]\n",
            " [0.28970812 0.84440831 0.2773501  0.07969524 0.07969524 0.2773501\n",
            "  0.07969524 0.07969524 0.2773501  0.07969524 0.28970812 0.48736297\n",
            "  0.56705821 0.84440831 0.07969524]\n",
            " [0.48298605 0.62960397 0.07330896 0.30151134 0.30151134 0.07330896\n",
            "  0.30151134 0.30151134 0.07330896 0.30151134 0.48298605 0.25478367\n",
            "  0.55629501 0.62960397 0.30151134]]\n"
          ]
        }
      ]
    },
    {
      "cell_type": "markdown",
      "source": [
        "The operation we’ve just executed is called a matrix product. It’s a generalization of the\n",
        "vector dot product to two dimensions.\n",
        "\n",
        "**NUMPY MATRIX PRODUCTS**\n",
        "\n",
        "Conveniently, NumPy’s product operator `@`\n",
        "can be applied to 2D matrices as well as 1D arrays.\n"
      ],
      "metadata": {
        "id": "SvzJu4flroYk"
      }
    },
    {
      "cell_type": "code",
      "source": [
        "# Computing a matrix product using NumPy\n",
        "matrix_product = similarities @ unit_vectors\n",
        "assert np.allclose(matrix_product, dot_products)"
      ],
      "metadata": {
        "id": "nh5QPcCCuThH"
      },
      "execution_count": 48,
      "outputs": []
    },
    {
      "cell_type": "code",
      "source": [
        "# Computing an erroneous matrix product\n",
        "try:\n",
        "  matrix_product = unit_vectors @ similarities\n",
        "except:\n",
        "  print(\"We can't compute the matrix product\")"
      ],
      "metadata": {
        "id": "Ueh3T5FcvBVS",
        "outputId": "44074d60-9b13-47ea-efee-aaa8f8cebf60",
        "colab": {
          "base_uri": "https://localhost:8080/"
        }
      },
      "execution_count": 49,
      "outputs": [
        {
          "output_type": "stream",
          "name": "stdout",
          "text": [
            "We can't compute the matrix product\n"
          ]
        }
      ]
    },
    {
      "cell_type": "markdown",
      "source": [
        "In mathematics, the words product and multiplication are often interchangeable. \n",
        "\n",
        "Thus,computing the matrix product is commonly called matrix multiplication."
      ],
      "metadata": {
        "id": "q71IqvpevW1n"
      }
    },
    {
      "cell_type": "code",
      "source": [
        "# Running matrix multiplication using matmul\n",
        "matrix_product = np.matmul(similarities, unit_vectors)\n",
        "assert np.array_equal(matrix_product, similarities @ unit_vectors)"
      ],
      "metadata": {
        "id": "pJ4UG5shvcOW"
      },
      "execution_count": 50,
      "outputs": []
    },
    {
      "cell_type": "markdown",
      "source": [
        "Let’s compare the matrix product speed between NumPy and regular Python."
      ],
      "metadata": {
        "id": "8xxQYXmIvxQB"
      }
    },
    {
      "cell_type": "code",
      "source": [
        "# Comparing matrix product running times\n",
        "numpy_run_times = []\n",
        "python_run_times = []\n",
        "\n",
        "matrix_sizes = range(1, 101)\n",
        "for size in matrix_sizes:\n",
        "  matrix = np.ones((size, size))\n",
        "\n",
        "  start_time = time.time()\n",
        "  matrix @ matrix\n",
        "  numpy_run_times.append(time.time() - start_time)\n",
        "\n",
        "  start_time = time.time()\n",
        "  for i in range(size):\n",
        "    for j in range(size):\n",
        "      matrix[i] @ matrix[:, j]\n",
        "  python_run_times.append(time.time() - start_time)\n",
        "\n",
        "plt.plot(matrix_sizes, numpy_run_times, label=\"NumPy Matrix Product\", linestyle=\"--\")\n",
        "plt.plot(matrix_sizes, python_run_times, label=\"Python Matrix Product\", color=\"k\")\n",
        "plt.xlabel(\"Row/Column Size\")\n",
        "plt.ylabel(\"Running Time (Seconds)\")\n",
        "plt.legend()\n",
        "plt.show()"
      ],
      "metadata": {
        "id": "nO36keHZvybJ",
        "outputId": "684b013b-9166-4464-d4b4-8acfdce03ee5",
        "colab": {
          "base_uri": "https://localhost:8080/",
          "height": 0
        }
      },
      "execution_count": 51,
      "outputs": [
        {
          "output_type": "display_data",
          "data": {
            "text/plain": [
              "<Figure size 432x288 with 1 Axes>"
            ],
            "image/png": "[encoded data removed]"
          },
          "metadata": {
            "needs_background": "light"
          }
        }
      ]
    },
    {
      "cell_type": "markdown",
      "source": [
        "###Computing all-by-all matrix similarities"
      ],
      "metadata": {
        "id": "2uukfOb1xebh"
      }
    },
    {
      "cell_type": "markdown",
      "source": [
        "What will happen if we multiply `unit_vectors` by `unit_vectors.T`?\n",
        "\n",
        "Taking the dot product of `unit_vectors[i]` and `unit_vectors.\n",
        "T[:,i]` will return the cosine similarity between a unit vector and itself.\n",
        "\n",
        "That similarity, of course, will equal 1."
      ],
      "metadata": {
        "id": "zrpDbmQlxhCL"
      }
    },
    {
      "cell_type": "code",
      "source": [
        "# Obtaining cosines from a matrix product\n",
        "cosine_matrix = unit_vectors @ unit_vectors.T\n",
        "assert np.allclose(cosine_matrix, cosine_similarities)"
      ],
      "metadata": {
        "id": "iw_gaSlhEY3F"
      },
      "execution_count": 53,
      "outputs": []
    },
    {
      "cell_type": "markdown",
      "source": [
        "That cosine can be transformed into a Tanimoto value, which generally reflects word overlap and divergence between texts."
      ],
      "metadata": {
        "id": "OFgX-13SEwaF"
      }
    },
    {
      "cell_type": "code",
      "source": [
        "# Converting cosines to a Tanimoto matrix\n",
        "tanimoto_matrix = cosine_matrix / (2 - cosine_matrix)\n",
        "assert np.allclose(tanimoto_matrix, similarities)"
      ],
      "metadata": {
        "id": "KuHRwAKsEzAr"
      },
      "execution_count": 54,
      "outputs": []
    },
    {
      "cell_type": "markdown",
      "source": [
        "We can also compute\n",
        "these similarities by inputting `unit_vectors` and `unit_vectors.T` directly into our\n",
        "normalized_tanimoto function."
      ],
      "metadata": {
        "id": "sQ36e_qzFI3c"
      }
    },
    {
      "cell_type": "code",
      "source": [
        "# Inputting matrices into normalized_tanimoto\n",
        "output = normalized_tanimoto(unit_vectors, unit_vectors.T)\n",
        "assert np.array_equal(output, tanimoto_matrix)"
      ],
      "metadata": {
        "id": "a6qdi5QQFLhz"
      },
      "execution_count": 55,
      "outputs": []
    },
    {
      "cell_type": "markdown",
      "source": [
        "##Computational limits of matrix multiplication"
      ],
      "metadata": {
        "id": "zlL05bMoHDaA"
      }
    },
    {
      "cell_type": "markdown",
      "source": [
        ""
      ],
      "metadata": {
        "id": "Ei_6ArfHHEVx"
      }
    }
  ]
}