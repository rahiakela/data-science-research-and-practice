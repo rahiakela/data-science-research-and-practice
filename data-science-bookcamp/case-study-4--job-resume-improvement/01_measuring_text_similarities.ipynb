{
  "nbformat": 4,
  "nbformat_minor": 0,
  "metadata": {
    "colab": {
      "name": "01-measuring-text-similarities.ipynb",
      "provenance": [],
      "toc_visible": true,
      "authorship_tag": "ABX9TyOHf6B0wd+o0WZG7f41tkLj",
      "include_colab_link": true
    },
    "kernelspec": {
      "name": "python3",
      "display_name": "Python 3"
    },
    "language_info": {
      "name": "python"
    }
  },
  "cells": [
    {
      "cell_type": "markdown",
      "metadata": {
        "id": "view-in-github",
        "colab_type": "text"
      },
      "source": [
        "<a href=\"https://colab.research.google.com/github/rahiakela/data-science-research-and-practice/blob/main/data-science-bookcamp/case-study-4--job-resume-improvement/01_measuring_text_similarities.ipynb\" target=\"_parent\"><img src=\"https://colab.research.google.com/assets/colab-badge.svg\" alt=\"Open In Colab\"/></a>"
      ]
    },
    {
      "cell_type": "markdown",
      "source": [
        "##Measuring text similarities"
      ],
      "metadata": {
        "id": "CKQ3xygyzGoH"
      }
    },
    {
      "cell_type": "markdown",
      "source": [
        "In this notebook, we focus on a basic NLP problem: **measuring the similarity between two texts**. \n",
        "\n",
        "We will quickly discover a feasible solution that is not computationally efficient.\n",
        "We will then explore a series of numerical techniques for rapidly computing\n",
        "text similarities."
      ],
      "metadata": {
        "id": "fJsYonsIz1lJ"
      }
    },
    {
      "cell_type": "markdown",
      "source": [
        "##Setup"
      ],
      "metadata": {
        "id": "nEaM8U6Lz_Fg"
      }
    },
    {
      "cell_type": "code",
      "source": [
        "import warnings\n",
        "warnings.filterwarnings('ignore')"
      ],
      "metadata": {
        "id": "gtDg8Oyyz__L"
      },
      "execution_count": 1,
      "outputs": []
    },
    {
      "cell_type": "code",
      "source": [
        "from collections import defaultdict\n",
        "from collections import Counter\n",
        "import time\n",
        "import numpy as np\n",
        "import pandas as pd\n",
        "\n",
        "from scipy.spatial.distance import euclidean\n",
        "from numpy.linalg import norm\n",
        "\n",
        "import seaborn as sns\n",
        "import matplotlib.pyplot as plt"
      ],
      "metadata": {
        "id": "TobbrwVl0CWF"
      },
      "execution_count": 51,
      "outputs": []
    },
    {
      "cell_type": "markdown",
      "source": [
        "##Simple text comparison"
      ],
      "metadata": {
        "id": "tRYlC_k-0OTX"
      }
    },
    {
      "cell_type": "markdown",
      "source": [
        "Suppose we want to compare three simple texts:\n",
        "\n",
        "```text\n",
        "text1—She sells seashells by the seashore\n",
        "text2—“Seashells! The seashells are on sale! By the seashore.”\n",
        "text3—She sells 3 seashells to John, who lives by the lake.\n",
        "```\n",
        "\n",
        "Our goal is to determine whether `text1` is more similar to `text2` or to `text3`.\n",
        "\n"
      ],
      "metadata": {
        "id": "sTg51MOn0QLf"
      }
    },
    {
      "cell_type": "code",
      "source": [
        "# Assigning texts to variables\n",
        "text1 = \"She sells seashells by the seashore.\"\n",
        "text2 = '\"Seashells! The seashells are on sale! By the seashore.\"'\n",
        "text3 = \"She sells 3 seashells to John, who lives by the lake.\""
      ],
      "metadata": {
        "id": "WCepvD5r0Wq4"
      },
      "execution_count": 3,
      "outputs": []
    },
    {
      "cell_type": "markdown",
      "source": [
        "Now we need to quantify the differences between texts."
      ],
      "metadata": {
        "id": "uvofbc7T05_E"
      }
    },
    {
      "cell_type": "code",
      "source": [
        "# Splitting texts into words\n",
        "words_lists = [text.split() for text in [text1, text2, text3]]\n",
        "words1, words2, words3 = words_lists\n",
        "\n",
        "for i, words in enumerate(words_lists, 1):\n",
        "  print(f\"Words in text {i}\")\n",
        "  print(f\"{words}\\n\")"
      ],
      "metadata": {
        "id": "9gsaUHqR06bp",
        "outputId": "6e9c5f37-4774-4bb4-98d0-cf991a6fc71b",
        "colab": {
          "base_uri": "https://localhost:8080/"
        }
      },
      "execution_count": 4,
      "outputs": [
        {
          "output_type": "stream",
          "name": "stdout",
          "text": [
            "Words in text 1\n",
            "['She', 'sells', 'seashells', 'by', 'the', 'seashore.']\n",
            "\n",
            "Words in text 2\n",
            "['\"Seashells!', 'The', 'seashells', 'are', 'on', 'sale!', 'By', 'the', 'seashore.\"']\n",
            "\n",
            "Words in text 3\n",
            "['She', 'sells', '3', 'seashells', 'to', 'John,', 'who', 'lives', 'by', 'the', 'lake.']\n",
            "\n"
          ]
        }
      ]
    },
    {
      "cell_type": "code",
      "source": [
        "# Removing case sensitivity and punctuation\n",
        "def simplify_text(text):\n",
        "  for punctuation in ['.', ',', '!', '?', '\"']:\n",
        "    text = text.replace(punctuation, \"\")\n",
        "  return text.lower()"
      ],
      "metadata": {
        "id": "SHYUPbuJ1gpZ"
      },
      "execution_count": 5,
      "outputs": []
    },
    {
      "cell_type": "code",
      "source": [
        "for i, words in enumerate(words_lists, 1):\n",
        "  for j, word in enumerate(words):\n",
        "    words[j] = simplify_text(word)\n",
        "  print(f\"Words in text {i}\")\n",
        "  print(f\"{words}\\n\")"
      ],
      "metadata": {
        "id": "vxr_TPOa1yOj",
        "outputId": "29bc26cd-81f7-4c55-931e-5156d168d7ac",
        "colab": {
          "base_uri": "https://localhost:8080/"
        }
      },
      "execution_count": 6,
      "outputs": [
        {
          "output_type": "stream",
          "name": "stdout",
          "text": [
            "Words in text 1\n",
            "['she', 'sells', 'seashells', 'by', 'the', 'seashore']\n",
            "\n",
            "Words in text 2\n",
            "['seashells', 'the', 'seashells', 'are', 'on', 'sale', 'by', 'the', 'seashore']\n",
            "\n",
            "Words in text 3\n",
            "['she', 'sells', '3', 'seashells', 'to', 'john', 'who', 'lives', 'by', 'the', 'lake']\n",
            "\n"
          ]
        }
      ]
    },
    {
      "cell_type": "code",
      "source": [
        "# Converting word lists to sets\n",
        "words_sets = [set(words) for words in words_lists]\n",
        "for i, unique_words in enumerate(words_sets, 1):\n",
        "  print(f\"Unique Words in text {i}\")\n",
        "  print(f\"{unique_words}\\n\")"
      ],
      "metadata": {
        "id": "37vWSeHg2hDE",
        "outputId": "91127977-a642-4872-b81e-7a9b02719209",
        "colab": {
          "base_uri": "https://localhost:8080/"
        }
      },
      "execution_count": 7,
      "outputs": [
        {
          "output_type": "stream",
          "name": "stdout",
          "text": [
            "Unique Words in text 1\n",
            "{'seashore', 'the', 'by', 'sells', 'seashells', 'she'}\n",
            "\n",
            "Unique Words in text 2\n",
            "{'seashore', 'the', 'by', 'are', 'on', 'seashells', 'sale'}\n",
            "\n",
            "Unique Words in text 3\n",
            "{'to', 'john', 'lives', 'lake', '3', 'the', 'by', 'who', 'sells', 'seashells', 'she'}\n",
            "\n"
          ]
        }
      ]
    },
    {
      "cell_type": "code",
      "source": [
        "# Extracting overlapping words between two texts\n",
        "words_set1 = words_sets[0]\n",
        "for i, words_set in enumerate(words_sets[1:], 2):\n",
        "  shared_words = words_set1 & words_set\n",
        "  print(f\"Texts 1 and {i} share these {len(shared_words)} words:\")\n",
        "  print(f\"{shared_words}\\n\")"
      ],
      "metadata": {
        "id": "sVXOROoY6Eco",
        "outputId": "92bc3c50-fbb2-4c79-94e4-ab24ffbf7197",
        "colab": {
          "base_uri": "https://localhost:8080/"
        }
      },
      "execution_count": 8,
      "outputs": [
        {
          "output_type": "stream",
          "name": "stdout",
          "text": [
            "Texts 1 and 2 share these 4 words:\n",
            "{'seashore', 'seashells', 'the', 'by'}\n",
            "\n",
            "Texts 1 and 3 share these 5 words:\n",
            "{'the', 'by', 'sells', 'seashells', 'she'}\n",
            "\n"
          ]
        }
      ]
    },
    {
      "cell_type": "code",
      "source": [
        "# Extracting diverging words between two texts\n",
        "for i, words_set in enumerate(words_sets[1:], 2):\n",
        "  diverging_words = words_set1 ^ words_set\n",
        "  print(f\"Texts 1 and {i} don't share these {len(diverging_words)} words:\")\n",
        "  print(f\"{diverging_words}\\n\")"
      ],
      "metadata": {
        "id": "rD7E9MVI7AD0",
        "outputId": "17904467-cb35-4d2c-8335-80c4578367d5",
        "colab": {
          "base_uri": "https://localhost:8080/"
        }
      },
      "execution_count": 9,
      "outputs": [
        {
          "output_type": "stream",
          "name": "stdout",
          "text": [
            "Texts 1 and 2 don't share these 5 words:\n",
            "{'sale', 'are', 'on', 'sells', 'she'}\n",
            "\n",
            "Texts 1 and 3 don't share these 7 words:\n",
            "{'to', 'john', 'lives', 'lake', 'seashore', '3', 'who'}\n",
            "\n"
          ]
        }
      ]
    },
    {
      "cell_type": "markdown",
      "source": [
        "To combine their overlap and divergence into a single similarity score, we must first combine all overlapping\n",
        "and diverging words between the texts. \n",
        "\n",
        "This aggregation, which is called a union, will\n",
        "contain all the unique words across the two texts."
      ],
      "metadata": {
        "id": "pZklMwBh7Zur"
      }
    },
    {
      "cell_type": "code",
      "source": [
        "# Extracting the union of words between two texts\n",
        "for i, words_set in enumerate(words_sets[1:], 2):\n",
        "  total_words = words_set1 | words_set\n",
        "  print(f\"Together, texts 1 and {i} contain {len(total_words)} unique words. These words are:\\n {total_words}\\n\")"
      ],
      "metadata": {
        "id": "ZNeEwj1XH_sD",
        "outputId": "70f9b8a6-ad1d-4c1b-f0da-8a3151ce631c",
        "colab": {
          "base_uri": "https://localhost:8080/"
        }
      },
      "execution_count": 10,
      "outputs": [
        {
          "output_type": "stream",
          "name": "stdout",
          "text": [
            "Together, texts 1 and 2 contain 9 unique words. These words are:\n",
            " {'sale', 'seashore', 'the', 'by', 'are', 'on', 'sells', 'seashells', 'she'}\n",
            "\n",
            "Together, texts 1 and 3 contain 12 unique words. These words are:\n",
            " {'the', 'seashells', 'she', 'to', 'john', 'seashore', 'lives', 'lake', '3', 'by', 'who', 'sells'}\n",
            "\n"
          ]
        }
      ]
    },
    {
      "cell_type": "markdown",
      "source": [
        "Accordingly, both overlap and divergence represent complementary\n",
        "percentages of the total unique word count across texts."
      ],
      "metadata": {
        "id": "5iNostovIpvG"
      }
    },
    {
      "cell_type": "code",
      "source": [
        "# Extracting the percentage of shared words between two texts\n",
        "for i, words_set in enumerate(words_sets[1:], 2):\n",
        "  shared_words = words_set1 & words_set\n",
        "  diverging_words = words_set1 ^ words_set\n",
        "  total_words = words_set1 | words_set\n",
        "  assert len(total_words) == len(shared_words) + len(diverging_words)\n",
        "\n",
        "  # Percent of total words shared with text 1\n",
        "  percent_shared = 100 * len(shared_words) / len(total_words)\n",
        "  # Percent of total words that diverge from text 1 \n",
        "  percent_diverging = 100 * len(diverging_words) / len(total_words)\n",
        "\n",
        "  print(f\"Together, texts 1 and {i} contain {len(total_words)} unique words. \\n{percent_shared:.2f}% of these words are shared.\\n{percent_diverging:.2f}% of these words diverge.\\n\")"
      ],
      "metadata": {
        "id": "NI-ab1ClIqOb",
        "outputId": "d4f7fb7b-20f2-410c-a394-8c26ac2b1023",
        "colab": {
          "base_uri": "https://localhost:8080/"
        }
      },
      "execution_count": 11,
      "outputs": [
        {
          "output_type": "stream",
          "name": "stdout",
          "text": [
            "Together, texts 1 and 2 contain 9 unique words. \n",
            "44.44% of these words are shared.\n",
            "55.56% of these words diverge.\n",
            "\n",
            "Together, texts 1 and 3 contain 12 unique words. \n",
            "41.67% of these words are shared.\n",
            "58.33% of these words diverge.\n",
            "\n"
          ]
        }
      ]
    },
    {
      "cell_type": "markdown",
      "source": [
        "We’ve essentially developed a simple metric for assessing similarities between texts.\n",
        "\n",
        "This similarity metric is referred to as the Jaccard similarity, or the Jaccard index."
      ],
      "metadata": {
        "id": "ysjoVu4AKUhK"
      }
    },
    {
      "cell_type": "markdown",
      "source": [
        "###Exploring the Jaccard similarity"
      ],
      "metadata": {
        "id": "VTRCmi4XKLus"
      }
    },
    {
      "cell_type": "markdown",
      "source": [
        "The Jaccard similarity is a reasonable measure of text resemblance for the following reasons:\n",
        "\n",
        "* The similarity takes into account both text overlap and text divergence.\n",
        "* The fractional similarity is always between 0 and 1. The fraction is easy to interpret: 0 indicates that no words are shared, 0.5 indicates that half the words are shared, and 1 indicates that all the words are shared.\n",
        "* The similarity is simple to implement."
      ],
      "metadata": {
        "id": "EJAW90_GKOc_"
      }
    },
    {
      "cell_type": "code",
      "source": [
        "# Computing the Jaccard similarity\n",
        "def jaccard_similarity(text_a, text_b):\n",
        "  word_set_a, word_set_b = [set(simplify_text(text).split()) for text in [text_a, text_b]]\n",
        "  num_shared = len(word_set_a & word_set_b)\n",
        "  num_total = len(word_set_a | word_set_b)\n",
        "  return num_shared / num_total"
      ],
      "metadata": {
        "id": "rBT635wt9gjp"
      },
      "execution_count": 12,
      "outputs": []
    },
    {
      "cell_type": "code",
      "source": [
        "for text in [text2, text3]:\n",
        "  similarity = jaccard_similarity(text1, text)\n",
        "  print(f\"Text comparison:\\n\\t{text1}\\n\\t{text}\\nThe Jaccard similarity is {similarity:.2f}\\n\")"
      ],
      "metadata": {
        "id": "W3O0Jt8w-FlI",
        "outputId": "2c5e8d16-8df0-40db-fd75-2e1c661fa51c",
        "colab": {
          "base_uri": "https://localhost:8080/"
        }
      },
      "execution_count": 13,
      "outputs": [
        {
          "output_type": "stream",
          "name": "stdout",
          "text": [
            "Text comparison:\n",
            "\tShe sells seashells by the seashore.\n",
            "\t\"Seashells! The seashells are on sale! By the seashore.\"\n",
            "The Jaccard similarity is 0.44\n",
            "\n",
            "Text comparison:\n",
            "\tShe sells seashells by the seashore.\n",
            "\tShe sells 3 seashells to John, who lives by the lake.\n",
            "The Jaccard similarity is 0.42\n",
            "\n"
          ]
        }
      ]
    },
    {
      "cell_type": "code",
      "source": [
        "# Efficiently computing the Jaccard similarity\n",
        "def jaccard_similarity_efficient(text_a, text_b):\n",
        "  word_set_a, word_set_b = [set(simplify_text(text).split()) for text in [text_a, text_b]]\n",
        "  num_shared = len(word_set_a & word_set_b)\n",
        "  num_total = len(word_set_a) + len(word_set_b) - num_shared\n",
        "  return num_shared / num_total"
      ],
      "metadata": {
        "id": "bjO4DHbmAYuy"
      },
      "execution_count": 14,
      "outputs": []
    },
    {
      "cell_type": "code",
      "source": [
        "for text in [text2, text3]:\n",
        "  similarity = jaccard_similarity_efficient(text1, text)\n",
        "  assert similarity == jaccard_similarity(text1, text)\n",
        "  print(f\"Text comparison:\\n\\t{text1}\\n\\t{text}\\nThe Jaccard similarity is {similarity:.2f}\\n\")"
      ],
      "metadata": {
        "id": "Gh8TNVm4AlUr",
        "outputId": "614c3d98-d096-499b-8046-9b986ced2afc",
        "colab": {
          "base_uri": "https://localhost:8080/"
        }
      },
      "execution_count": 15,
      "outputs": [
        {
          "output_type": "stream",
          "name": "stdout",
          "text": [
            "Text comparison:\n",
            "\tShe sells seashells by the seashore.\n",
            "\t\"Seashells! The seashells are on sale! By the seashore.\"\n",
            "The Jaccard similarity is 0.44\n",
            "\n",
            "Text comparison:\n",
            "\tShe sells seashells by the seashore.\n",
            "\tShe sells 3 seashells to John, who lives by the lake.\n",
            "The Jaccard similarity is 0.42\n",
            "\n"
          ]
        }
      ]
    },
    {
      "cell_type": "markdown",
      "source": [
        "###Replacing words with numeric values"
      ],
      "metadata": {
        "id": "vx1cEHLuA_pZ"
      }
    },
    {
      "cell_type": "markdown",
      "source": [
        "The mapping between words\n",
        "and their numeric values can be stored in a Python dictionary. We’ll refer to this dictionary\n",
        "as our vocabulary. \n",
        "\n",
        "Let’s build a vocabulary that covers all the words in our three\n",
        "texts."
      ],
      "metadata": {
        "id": "evDQMNW9BAfB"
      }
    },
    {
      "cell_type": "code",
      "source": [
        "# Assigning words to numbers in a vocabulary\n",
        "words_set1, words_set2, words_set3 = words_sets\n",
        "total_words = words_set1 | words_set2 | words_set3\n",
        "vocabulary = {word: i for i, word in enumerate(total_words)}\n",
        "value_to_word = {value: word for word, value in vocabulary.items()}\n",
        "print(f\"Our vocabulary contains {len(vocabulary)} words. This vocabulary is:\\n{vocabulary}\")"
      ],
      "metadata": {
        "id": "L0mArXDsclx_",
        "outputId": "171efce0-60d9-4ec4-bc7e-711c54b38d0c",
        "colab": {
          "base_uri": "https://localhost:8080/"
        }
      },
      "execution_count": 16,
      "outputs": [
        {
          "output_type": "stream",
          "name": "stdout",
          "text": [
            "Our vocabulary contains 15 words. This vocabulary is:\n",
            "{'the': 0, 'are': 1, 'on': 2, 'seashells': 3, 'she': 4, 'to': 5, 'john': 6, 'seashore': 7, 'lives': 8, 'lake': 9, '3': 10, 'by': 11, 'who': 12, 'sells': 13, 'sale': 14}\n"
          ]
        }
      ]
    },
    {
      "cell_type": "markdown",
      "source": [
        "Given our vocabulary, we can convert any text into a one-dimensional array of numbers.\n",
        "\n",
        "Mathematically, a 1D numeric array is called a vector. \n",
        "\n",
        "Hence, the process of converting\n",
        "text into a vector is called text vectorization.\n",
        "\n",
        "Let’s use binary vectorization to convert all texts into NumPy arrays."
      ],
      "metadata": {
        "id": "wOp5oCJ-dZ8g"
      }
    },
    {
      "cell_type": "code",
      "source": [
        "# Transforming words into binary vectors\n",
        "vectors = []\n",
        "for i, words_set in enumerate(words_sets, 1):\n",
        "  # Generates an array of 0s\n",
        "  vector = np.array([0] * len(vocabulary))\n",
        "  for word in words_set:\n",
        "    vector[vocabulary[word]] = 1\n",
        "  vectors.append(vector)\n",
        "\n",
        "sns.heatmap(vectors, annot=True, cmap=\"YlGnBu\", \n",
        "             xticklabels=vocabulary.keys(),\n",
        "             yticklabels=[\"Text 1\", \"Text 2\", \"Text 3\"])\n",
        "plt.yticks(rotation=1)\n",
        "plt.show()"
      ],
      "metadata": {
        "id": "x1XYLAsJdgBx",
        "outputId": "237d22a8-4c34-4933-a163-8165dd357c90",
        "colab": {
          "base_uri": "https://localhost:8080/",
          "height": 0
        }
      },
      "execution_count": 17,
      "outputs": [
        {
          "output_type": "display_data",
          "data": {
            "text/plain": [
              "<Figure size 432x288 with 2 Axes>"
            ],
            "image/png": "[encoded data removed]"
          },
          "metadata": {
            "needs_background": "light"
          }
        }
      ]
    },
    {
      "cell_type": "markdown",
      "source": [
        "Our binary vector representation allows us to extract shared words numerically."
      ],
      "metadata": {
        "id": "jVtr3sYafNmT"
      }
    },
    {
      "cell_type": "code",
      "source": [
        "# Finding shared words using vector arithmetic\n",
        "vector1, vector2 = vectors[:2]\n",
        "for i in range(len(vocabulary)):\n",
        "  if vector1[i] * vector2[i]:\n",
        "    shared_word = value_to_word[i]\n",
        "    print(f\"'{shared_word}' is present in both texts 1 and 2\")"
      ],
      "metadata": {
        "id": "uFYRNPnMfOEs",
        "outputId": "9e7f80b4-a41a-4e5a-ad02-cff0e62869c0",
        "colab": {
          "base_uri": "https://localhost:8080/"
        }
      },
      "execution_count": 18,
      "outputs": [
        {
          "output_type": "stream",
          "name": "stdout",
          "text": [
            "'the' is present in both texts 1 and 2\n",
            "'seashells' is present in both texts 1 and 2\n",
            "'seashore' is present in both texts 1 and 2\n",
            "'by' is present in both texts 1 and 2\n"
          ]
        }
      ]
    },
    {
      "cell_type": "code",
      "source": [
        "# Counting shared words using vector arithmetic\n",
        "shared_word_count = sum(vector1[i] * vector2[i] for i in range(len(vocabulary)))\n",
        "assert shared_word_count == len(words_set1 & words_set2)"
      ],
      "metadata": {
        "id": "FGXUt3l_g82R"
      },
      "execution_count": 19,
      "outputs": []
    },
    {
      "cell_type": "markdown",
      "source": [
        "The sum of the pairwise products across all vector indices is called the dot product."
      ],
      "metadata": {
        "id": "Foe_45QrhUng"
      }
    },
    {
      "cell_type": "code",
      "source": [
        "# Computing a vector dot product using NumPy\n",
        "assert vector1.dot(vector2) == shared_word_count\n",
        "assert vector1 @ vector2 == shared_word_count"
      ],
      "metadata": {
        "id": "vcbsS4luhVBu"
      },
      "execution_count": 20,
      "outputs": []
    },
    {
      "cell_type": "markdown",
      "source": [
        "Stated more concisely, `vector1 @ vector1` should equal the number of unique words\n",
        "in `text1`, which is also equal to `len(words_set1)`. \n",
        "\n",
        "Let’s confirm."
      ],
      "metadata": {
        "id": "EhAu2Ax4hwRx"
      }
    },
    {
      "cell_type": "code",
      "source": [
        "assert vector1 @ vector1 == len(words_set1)\n",
        "assert vector2 @ vector2 == len(words_set2)"
      ],
      "metadata": {
        "id": "g2scHtagh0kZ"
      },
      "execution_count": 21,
      "outputs": []
    },
    {
      "cell_type": "markdown",
      "source": [
        "Essentially, we can compute the Jaccard similarity using only\n",
        "vector operations. \n",
        "\n",
        "This vectorized implementation of Jaccard is called the Tanimoto\n",
        "similarity."
      ],
      "metadata": {
        "id": "7aKBDrQSiLkE"
      }
    },
    {
      "cell_type": "code",
      "source": [
        "# Computing text similarity using vector arithmetic\n",
        "def tanimoto_similarity(vector_a, vector_b):\n",
        "  num_shared = vector_a @ vector_b\n",
        "  num_total = vector_a @ vector_a + vector_b @ vector_b - num_shared\n",
        "  return num_shared / num_total"
      ],
      "metadata": {
        "id": "3NkBG-zTiNUN"
      },
      "execution_count": 22,
      "outputs": []
    },
    {
      "cell_type": "code",
      "source": [
        "for i, text in enumerate([text2, text3], 1):\n",
        "  similarity = tanimoto_similarity(vector1, vectors[i])\n",
        "  assert similarity == jaccard_similarity(text1, text)"
      ],
      "metadata": {
        "id": "68HPPjRrijj3"
      },
      "execution_count": 23,
      "outputs": []
    },
    {
      "cell_type": "markdown",
      "source": [
        "What\n",
        "would happen if we inputted two arrays with values other than 0 or 1? \n",
        "\n",
        "Technically,\n",
        "the function should return a similarity, but would that similarity make sense? \n",
        "\n",
        "For\n",
        "instance, vectors `[5, 3]` and `[5, 2]` are nearly identical. We expect their similarity to be nearly equal to 1.\n",
        "\n",
        "Let’s test our expectations by inputting the vectors."
      ],
      "metadata": {
        "id": "4NwrfCEcjjXa"
      }
    },
    {
      "cell_type": "code",
      "source": [
        "# Computing the similarity of non-binary vectors\n",
        "non_binary_vector1 = np.array([5, 3])\n",
        "non_binary_vector2 = np.array([5, 2])\n",
        "\n",
        "similarity = tanimoto_similarity(non_binary_vector1, non_binary_vector2)\n",
        "print(f\"The similarity of 2 non-binary vectors is {similarity}\")"
      ],
      "metadata": {
        "id": "gjmSyTA9jYiv",
        "outputId": "4b790118-03b0-4833-d2b9-4726c5e2f52b",
        "colab": {
          "base_uri": "https://localhost:8080/"
        }
      },
      "execution_count": 24,
      "outputs": [
        {
          "output_type": "stream",
          "name": "stdout",
          "text": [
            "The similarity of 2 non-binary vectors is 0.96875\n"
          ]
        }
      ]
    },
    {
      "cell_type": "markdown",
      "source": [
        "The outputted value is nearly equal to 1. \n",
        "\n",
        "Thus, `tanimoto_similarity` has successfully\n",
        "measured the similarity between two nearly identical vectors. The function can analyze\n",
        "non-binary inputs. \n",
        "\n",
        "This means we can use non-binary techniques to vectorize our\n",
        "texts before comparing their contents."
      ],
      "metadata": {
        "id": "i9w5C-iwj_3T"
      }
    },
    {
      "cell_type": "markdown",
      "source": [
        "##Vectorizing texts using word counts"
      ],
      "metadata": {
        "id": "5PQH4xUhkCyw"
      }
    },
    {
      "cell_type": "markdown",
      "source": [
        "Binary vectorization captures the presence and absence of words in a text, but it\n",
        "doesn’t capture word counts. This is unfortunate since word counts can provide a differentiating\n",
        "signal between texts.\n",
        "\n",
        "A vector of word counts is\n",
        "commonly referred to as a term-frequency vector, or a TF vector for short.\n",
        "\n",
        "Let’s compute\n",
        "the TF vectors of A and B using a two-element vocabulary `{'duck': 0, 'goose': 1}`."
      ],
      "metadata": {
        "id": "waYEuLetoN0Q"
      }
    },
    {
      "cell_type": "code",
      "source": [
        "# Computing TF vector similarity\n",
        "similarity = tanimoto_similarity(np.array([61, 2]), np.array([1, 71]))\n",
        "print(f\"The similarity between texts is approximately {similarity:.3f}\")"
      ],
      "metadata": {
        "id": "kyhAljA9oYpC",
        "outputId": "68369734-7f55-4160-9bf4-1b16016f5428",
        "colab": {
          "base_uri": "https://localhost:8080/"
        }
      },
      "execution_count": 25,
      "outputs": [
        {
          "output_type": "stream",
          "name": "stdout",
          "text": [
            "The similarity between texts is approximately 0.024\n"
          ]
        }
      ]
    },
    {
      "cell_type": "markdown",
      "source": [
        "Let’s compare it to the binaryvector\n",
        "similarity of the two texts."
      ],
      "metadata": {
        "id": "sKG3z3Yco0QI"
      }
    },
    {
      "cell_type": "code",
      "source": [
        "# Assessing identical vector similarity\n",
        "assert tanimoto_similarity(np.array([1, 1]), np.array([1, 1])) == 1"
      ],
      "metadata": {
        "id": "Ek2aImGpo0wL"
      },
      "execution_count": 26,
      "outputs": []
    },
    {
      "cell_type": "code",
      "source": [
        "# Computing TF vectors from word lists\n",
        "tf_vectors = []\n",
        "for i, words_list in enumerate(words_lists, 1):\n",
        "  tf_vector = np.array([0] * len(vocabulary))\n",
        "  for word in words_list:\n",
        "    word_index = vocabulary[word]\n",
        "    tf_vector[word_index] += 1\n",
        "  tf_vectors.append(tf_vector)\n",
        "\n",
        "sns.heatmap(tf_vectors, cmap=\"YlGnBu\", annot=True, xticklabels=vocabulary.keys(), yticklabels=[\"Text 1\", \"Text 2\", \"Text 3\"])\n",
        "plt.yticks(rotation=0)\n",
        "plt.show()"
      ],
      "metadata": {
        "id": "mlzNdrqApD93",
        "outputId": "15db8902-fbdb-44ee-ecc7-7a77c6376b1e",
        "colab": {
          "base_uri": "https://localhost:8080/",
          "height": 306
        }
      },
      "execution_count": 27,
      "outputs": [
        {
          "output_type": "display_data",
          "data": {
            "text/plain": [
              "<Figure size 432x288 with 2 Axes>"
            ],
            "image/png": "[encoded data removed]"
          },
          "metadata": {
            "needs_background": "light"
          }
        }
      ]
    },
    {
      "cell_type": "code",
      "source": [
        "# Comparing metrics of vector similarity\n",
        "tf_vector1 = tf_vectors[0]\n",
        "binary_vector1 = vectors[0]\n",
        "\n",
        "for i, tf_vector in enumerate(tf_vectors[1:], 2):\n",
        "  similarity = tanimoto_similarity(tf_vector1, tf_vector)\n",
        "  old_similarity = tanimoto_similarity(tf_vector1, vectors[i - 1])\n",
        "  print(f\"The recomputed Tanimoto similarity between texts 1 and {i} is {similarity:.3f}\")\n",
        "  print(f\"Previously, that similarity equaled {old_similarity:.3f} \\n\")"
      ],
      "metadata": {
        "id": "zxuzeeoWqOny",
        "outputId": "e45cfaa0-2b6a-4922-c02c-7e1c836badb2",
        "colab": {
          "base_uri": "https://localhost:8080/"
        }
      },
      "execution_count": 28,
      "outputs": [
        {
          "output_type": "stream",
          "name": "stdout",
          "text": [
            "The recomputed Tanimoto similarity between texts 1 and 2 is 0.462\n",
            "Previously, that similarity equaled 0.444 \n",
            "\n",
            "The recomputed Tanimoto similarity between texts 1 and 3 is 0.417\n",
            "Previously, that similarity equaled 0.417 \n",
            "\n"
          ]
        }
      ]
    },
    {
      "cell_type": "markdown",
      "source": [
        "TF vectors yield improved comparisons because they’re sensitive to count differences\n",
        "between texts. This sensitivity is useful. However, it can also be detrimental\n",
        "when comparing texts of different lengths."
      ],
      "metadata": {
        "id": "pQJedaZVsZst"
      }
    },
    {
      "cell_type": "markdown",
      "source": [
        "### TF vector similarity using normalization"
      ],
      "metadata": {
        "id": "73C6bZmTsaIP"
      }
    },
    {
      "cell_type": "markdown",
      "source": [
        "Suppose you run a query for “Pepperoni Pizza” and the following two titles are\n",
        "returned:\n",
        "\n",
        "* **Title A**—“Pepperoni Pizza! Pepperoni Pizza! Pepperoni Pizza!”\n",
        "* **Title B**—“Pepperoni”\n",
        "\n",
        "Which of our two titles best matches the query? Most data scientists would agree that\n",
        "title A is a better match than title B. \n",
        "\n",
        "Both title A and the query mention pepperoni pizza.\n",
        "Meanwhile, title B mentions only pepperoni. There is no indication that the associated\n",
        "document actually discusses pizza in any context.\n",
        "\n",
        "Let’s check whether title A ranks higher than title B relative to the query."
      ],
      "metadata": {
        "id": "v3nEwM6zsiDX"
      }
    },
    {
      "cell_type": "code",
      "source": [
        "# Simple search engine vectorization\n",
        "query_vector = np.array([1, 1])\n",
        "title_a_vector = np.array([3, 3])\n",
        "title_b_vector = np.array([1, 0])"
      ],
      "metadata": {
        "id": "Un7ezvrwF-Q4"
      },
      "execution_count": 29,
      "outputs": []
    },
    {
      "cell_type": "code",
      "source": [
        "# Ranking titles by query similarity\n",
        "titles = [\n",
        "  \"A: Pepperoni Pizza! Pepperoni Pizza! Pepperoni Pizza!\",\n",
        "  \"B: Pepperoni\"        \n",
        "]\n",
        "\n",
        "title_vectors = [title_a_vector, title_b_vector]\n",
        "similarities = [tanimoto_similarity(query_vector, title_vector) for title_vector in title_vectors]\n",
        "\n",
        "for index in sorted(range(len(titles)), key= lambda i: similarities[i], reverse=True):\n",
        "  title = titles[index]\n",
        "  similarity = similarities[index]\n",
        "  print(f\"{title} has a query similarity of {similarity:.4f}\")"
      ],
      "metadata": {
        "id": "svfBTmLNGOXv",
        "outputId": "bae914a7-215a-4978-f93a-820dba2192a2",
        "colab": {
          "base_uri": "https://localhost:8080/"
        }
      },
      "execution_count": 30,
      "outputs": [
        {
          "output_type": "stream",
          "name": "stdout",
          "text": [
            "B: Pepperoni has a query similarity of 0.5000\n",
            "A: Pepperoni Pizza! Pepperoni Pizza! Pepperoni Pizza! has a query similarity of 0.4286\n"
          ]
        }
      ]
    },
    {
      "cell_type": "markdown",
      "source": [
        "Unfortunately, title A outranks title B. This discrepancy in rankings is caused by text\n",
        "size. \n",
        "\n",
        "Title A has three times as many words as the query, while title B and the query differ\n",
        "by just a single word."
      ],
      "metadata": {
        "id": "QwHStSFqHlfc"
      }
    },
    {
      "cell_type": "code",
      "source": [
        "# Eliminating size differences through division\n",
        "assert np.array_equal(query_vector, title_a_vector / 3)\n",
        "assert tanimoto_similarity(query_vector, title_a_vector / 3) == 1"
      ],
      "metadata": {
        "id": "_hPaYFLZHmcA"
      },
      "execution_count": 31,
      "outputs": []
    },
    {
      "cell_type": "markdown",
      "source": [
        "Mathematicians treat every vector v as a line stretching from\n",
        "the origin to the numerical coordinates in v. \n",
        "\n",
        "Essentially, our three vectors are merely\n",
        "2D line segments rising from the origin."
      ],
      "metadata": {
        "id": "0ySIlh4mIGuB"
      }
    },
    {
      "cell_type": "code",
      "source": [
        "# Plotting TF vectors in 2D space\n",
        "plt.plot([0, query_vector[0]], [0, query_vector[1]], c=\"k\", linewidth=3, label=\"Query Vector\")\n",
        "plt.plot([0, title_a_vector[0]], [0, title_a_vector[1]], c=\"b\", linestyle=\"--\", label=\"Title A Vector\")\n",
        "plt.plot([0, title_b_vector[0]], [0, title_b_vector[1]], c=\"g\", linewidth=2, linestyle=\"-.\", label=\"Title B Vector\")\n",
        "plt.xlabel(\"Pepperoni\")\n",
        "plt.ylabel(\"Pizza\")\n",
        "plt.legend()\n",
        "plt.show()"
      ],
      "metadata": {
        "id": "Xk2OsXxMIHMA",
        "outputId": "f66f0bb2-c97c-4535-e924-94a088ed5154",
        "colab": {
          "base_uri": "https://localhost:8080/",
          "height": 0
        }
      },
      "execution_count": 32,
      "outputs": [
        {
          "output_type": "display_data",
          "data": {
            "text/plain": [
              "<Figure size 432x288 with 1 Axes>"
            ],
            "image/png": "[encoded data removed]"
          },
          "metadata": {
            "needs_background": "light"
          }
        }
      ]
    },
    {
      "cell_type": "markdown",
      "source": [
        "Hence, every vector has a geometric length, which is\n",
        "called the magnitude. The magnitude is also called the Euclidean norm or the L2 norm.\n",
        "\n",
        "Measuring the magnitude allows us to account for differences in geometric lengths.\n",
        "\n",
        "Let’s output the magnitudes of our search engine vectors."
      ],
      "metadata": {
        "id": "V97G01ZqKmuP"
      }
    },
    {
      "cell_type": "code",
      "source": [
        "# Computing vector magnitude\n",
        "vector_names = [\"Query Vector\", \"Title A Vector\", \"Title B Vector\"]\n",
        "tf_search_vectors = [query_vector, title_a_vector, title_b_vector]\n",
        "origin = np.array([0, 0])\n",
        "\n",
        "for name , tf_vector in zip(vector_names, tf_search_vectors):\n",
        "  # calculate the magnitude using Euclidean distance\n",
        "  magnitude = euclidean(tf_vector, origin)\n",
        "  # calculate the magnitude using Numpy's norm\n",
        "  assert magnitude == norm(tf_vector)\n",
        "  # calculate the magnitude using dot product\n",
        "  assert magnitude == (tf_vector @ tf_vector) ** .5\n",
        "  print(f\"{name}'s magnitude is approximately {magnitude:.4f}\")\n",
        "\n",
        "magnitude_ratio = norm(title_a_vector) / norm(query_vector)\n",
        "print(f\"\\nVector A is {magnitude_ratio:.0f}x as long as Query Vector\")"
      ],
      "metadata": {
        "id": "lIZ6BNBBKnUg",
        "outputId": "e0820845-e8f0-4e22-f741-5d3678e77ee4",
        "colab": {
          "base_uri": "https://localhost:8080/"
        }
      },
      "execution_count": 33,
      "outputs": [
        {
          "output_type": "stream",
          "name": "stdout",
          "text": [
            "Query Vector's magnitude is approximately 1.4142\n",
            "Title A Vector's magnitude is approximately 4.2426\n",
            "Title B Vector's magnitude is approximately 1.0000\n",
            "\n",
            "Vector A is 3x as long as Query Vector\n"
          ]
        }
      ]
    },
    {
      "cell_type": "markdown",
      "source": [
        "A vector with a\n",
        "magnitude of 1 is referred to as a unit vector. Unit vectors have many useful properties,one benefit of unit vectors is that they are easy to compare:\n",
        "since unit vectors share an equal magnitude, it doesn’t play a role in their similarity.\n",
        "\n",
        "Fundamentally, the difference between unit vectors is determined solely by direction.\n",
        "\n",
        "Dividing any\n",
        "vector by its magnitude transforms that magnitude to 1. \n",
        "\n",
        "That division by the magnitude\n",
        "is called normalization, since the magnitude is also referenced as the L2 norm."
      ],
      "metadata": {
        "id": "nmuBSBhANPfs"
      }
    },
    {
      "cell_type": "code",
      "source": [
        "# Plotting normalized vectors\n",
        "unit_query_vector = query_vector / norm(query_vector)\n",
        "unit_title_a_vector = title_a_vector / norm(title_a_vector)\n",
        "assert np.allclose(unit_query_vector, unit_title_a_vector)\n",
        "# This vector is already a unit vector.There is no need to normalize\n",
        "unit_title_b_vector = title_b_vector / norm(title_b_vector)\n",
        "\n",
        "plt.plot([0, unit_query_vector[0]], [0, unit_query_vector[1]], c=\"k\", linewidth=3, label=\"Normalized Query Vector\")\n",
        "plt.plot([0, unit_title_a_vector[0]], [0, unit_title_a_vector[1]], c=\"r\", linestyle=\"--\", label=\"Normalized Title A Vector\")\n",
        "plt.plot([0, unit_title_b_vector[0]], [0, unit_title_b_vector[1]], c=\"g\", linewidth=2, linestyle=\"-.\", label=\"Title B Vector\")\n",
        "plt.axis(\"equal\")\n",
        "plt.legend()\n",
        "plt.show()"
      ],
      "metadata": {
        "id": "V3ZKazRgSC2L",
        "outputId": "7dba5fe7-a5bd-4b19-d2b7-e51dff37638a",
        "colab": {
          "base_uri": "https://localhost:8080/",
          "height": 0
        }
      },
      "execution_count": 34,
      "outputs": [
        {
          "output_type": "display_data",
          "data": {
            "text/plain": [
              "<Figure size 432x288 with 1 Axes>"
            ],
            "image/png": "[encoded data removed]"
          },
          "metadata": {
            "needs_background": "light"
          }
        }
      ]
    },
    {
      "cell_type": "code",
      "source": [
        "# Ranking titles by unit vector similarity\n",
        "unit_title_vectors = [unit_title_a_vector, unit_title_b_vector]\n",
        "similarities = [tanimoto_similarity(unit_query_vector, unit_title_vector) for unit_title_vector in unit_title_vectors]\n",
        "\n",
        "for index in sorted(range(len(titles)), key=lambda i: similarities[i], reverse=True):\n",
        "  title = titles[index]\n",
        "  similarity = similarities[index]\n",
        "  print(f\"{title} has a normalized query similarity of {similarity:.4f}\")"
      ],
      "metadata": {
        "id": "00CN5zisTYXd",
        "outputId": "c1366528-62e9-4a83-f31f-362167c5393a",
        "colab": {
          "base_uri": "https://localhost:8080/"
        }
      },
      "execution_count": 35,
      "outputs": [
        {
          "output_type": "stream",
          "name": "stdout",
          "text": [
            "A: Pepperoni Pizza! Pepperoni Pizza! Pepperoni Pizza! has a normalized query similarity of 1.0000\n",
            "B: Pepperoni has a normalized query similarity of 0.5469\n"
          ]
        }
      ]
    },
    {
      "cell_type": "code",
      "source": [
        "# Computing a unit vector Tanimoto similarity\n",
        "def normalized_tanimoto(u1, u2):\n",
        "  dot_product = u1 @ u2\n",
        "  return dot_product / (2 - dot_product)"
      ],
      "metadata": {
        "id": "nkF2CqIlUk61"
      },
      "execution_count": 36,
      "outputs": []
    },
    {
      "cell_type": "code",
      "source": [
        "for unit_title_vector in unit_title_vectors[1:]:\n",
        "  similarity = normalized_tanimoto(unit_query_vector, unit_title_vector)\n",
        "  assert similarity == tanimoto_similarity(unit_query_vector, unit_title_vector)"
      ],
      "metadata": {
        "id": "8wlVeF9nUwtE"
      },
      "execution_count": 37,
      "outputs": []
    },
    {
      "cell_type": "markdown",
      "source": [
        "The dot product of two unit vectors is a very special value. It can easily be converted\n",
        "into the angle between the vectors and also into the spatial distance between them.\n",
        "\n",
        "Fortunately, math gives you a way out. If your vectors are normalized, their Tanimoto\n",
        "similarity can be substituted with the Euclidean and cosine metrics. This is because all\n",
        "three measures are very closely related to the normalized dot product."
      ],
      "metadata": {
        "id": "A2vRgimmVO-c"
      }
    },
    {
      "cell_type": "markdown",
      "source": [
        "###Relevance metrics using dot products"
      ],
      "metadata": {
        "id": "CE_pGH2TVdHc"
      }
    },
    {
      "cell_type": "markdown",
      "source": [
        "Geometrically, the dot product of two unit vectors equals the cosine of the angle\n",
        "between them. Due to its equivalence with the cosine, the dot product of two unit\n",
        "vectors is commonly referred to as the cosine similarity.\n",
        "\n"
      ],
      "metadata": {
        "id": "ClkfCLWfXGbN"
      }
    },
    {
      "cell_type": "code",
      "source": [
        "# Converting between unit vector metrics\n",
        "unit_vector_names = [\"Normalized Title A vector\", \"Title B vector\"]\n",
        "u1 = unit_query_vector\n",
        "\n",
        "for unit_vector_name, u2 in zip(unit_vector_names, unit_title_vectors):\n",
        "  similarity = normalized_tanimoto(u1, u2)\n",
        "  cosine_similarity = 2 * similarity / (1 + similarity)\n",
        "  assert cosine_similarity == u1 @ u2\n",
        "\n",
        "  angle = np.arccos(cosine_similarity)\n",
        "  euclidean_distance = (2 - 2 * cosine_similarity) ** .5\n",
        "  assert round(euclidean_distance, 10) == round(euclidean(u1, u2), 10)\n",
        "\n",
        "  measurements = {\n",
        "    \"Tanimoto similarity\": similarity,\n",
        "    \"cosine similarity\": cosine_similarity,\n",
        "    \"Euclidean distance\": euclidean_distance,\n",
        "    \"angle\": np.degrees(angle)\n",
        "  }\n",
        "\n",
        "  print(f\"We are comparing Normalized Query Vector and {unit_vector_names}\")\n",
        "  for measurement_type, value in measurements.items():\n",
        "    output = f\"The {measurement_type} between vectors is {value:.4f}\"\n",
        "    if measurement_type == \"angle\":\n",
        "      output += \" degrees\\n\"\n",
        "    print(output)"
      ],
      "metadata": {
        "id": "xlMOB2eAXc9F",
        "outputId": "a0979643-c6f2-45bf-e1ac-a0771fbc82bf",
        "colab": {
          "base_uri": "https://localhost:8080/"
        }
      },
      "execution_count": 38,
      "outputs": [
        {
          "output_type": "stream",
          "name": "stdout",
          "text": [
            "We are comparing Normalized Query Vector and ['Normalized Title A vector', 'Title B vector']\n",
            "The Tanimoto similarity between vectors is 1.0000\n",
            "The cosine similarity between vectors is 1.0000\n",
            "The Euclidean distance between vectors is 0.0000\n",
            "The angle between vectors is 0.0000 degrees\n",
            "\n",
            "We are comparing Normalized Query Vector and ['Normalized Title A vector', 'Title B vector']\n",
            "The Tanimoto similarity between vectors is 0.5469\n",
            "The cosine similarity between vectors is 0.7071\n",
            "The Euclidean distance between vectors is 0.7654\n",
            "The angle between vectors is 45.0000 degrees\n",
            "\n"
          ]
        }
      ]
    },
    {
      "cell_type": "markdown",
      "source": [
        "The Tanimoto similarity between normalized vectors can be transformed into other\n",
        "metrics of similarity or distance.\n",
        "\n",
        "However, a table\n",
        "of cross-text similarities can be elegantly computed using matrix multiplication. In\n",
        "mathematics, matrix multiplication generalizes the dot product from one-dimensional\n",
        "vectors to two-dimensional arrays."
      ],
      "metadata": {
        "id": "TC_NdVBBaMnF"
      }
    },
    {
      "cell_type": "markdown",
      "source": [
        "##Similarity calculation using Matrix multiplication"
      ],
      "metadata": {
        "id": "SXyovfNcadD1"
      }
    },
    {
      "cell_type": "markdown",
      "source": [
        "Let’s generate a table of normalized Tanimoto similarities."
      ],
      "metadata": {
        "id": "BolyP0dyagjN"
      }
    },
    {
      "cell_type": "code",
      "source": [
        "# Computing a table of normalized Tanimoto similarities\n",
        "num_texts = len(tf_vectors)\n",
        "similarities = np.array([[0.0] * num_texts for _ in range(num_texts)])\n",
        "unit_vectors = np.array([vector / norm(vector) for vector in tf_vectors])\n",
        "for i, vector_a in enumerate(unit_vectors):\n",
        "  for j, vector_b in enumerate(unit_vectors):\n",
        "    similarities[i][j] = normalized_tanimoto(vector_a, vector_b)\n",
        "\n",
        "labels = [\"Text 1\", \"Text 2\", \"Text 3\"]\n",
        "sns.heatmap(similarities, cmap=\"YlGnBu\", annot=True, xticklabels=labels, yticklabels=labels)\n",
        "plt.yticks(rotation=0)\n",
        "plt.show()"
      ],
      "metadata": {
        "id": "1Y_mSKI5zZFK",
        "outputId": "76adc706-4f0a-411c-cda4-38207dcdd384",
        "colab": {
          "base_uri": "https://localhost:8080/",
          "height": 269
        }
      },
      "execution_count": 39,
      "outputs": [
        {
          "output_type": "display_data",
          "data": {
            "text/plain": [
              "<Figure size 432x288 with 2 Axes>"
            ],
            "image/png": "[encoded data removed]"
          },
          "metadata": {
            "needs_background": "light"
          }
        }
      ]
    },
    {
      "cell_type": "markdown",
      "source": [
        "###Basic matrix operations"
      ],
      "metadata": {
        "id": "GYiLc-jE2Shv"
      }
    },
    {
      "cell_type": "markdown",
      "source": [
        "A matrix is the extension of a one-dimensional vector\n",
        "to two dimensions. In other words, a matrix is just a table of numbers.\n",
        "\n",
        "Since matrices are tables, they can be analyzed using Pandas."
      ],
      "metadata": {
        "id": "lHGqxr2y2TVO"
      }
    },
    {
      "cell_type": "code",
      "source": [
        "# Comparing Pandas and NumPy matrix attributes\n",
        "matrices = [unit_vectors, pd.DataFrame(unit_vectors)]\n",
        "matrix_types = [\"2D NumPy array\", \"Pandas DataFrame\"]\n",
        "\n",
        "for matrix_type, matrix in zip(matrix_types, matrices):\n",
        "  row_count, column_count = matrix.shape\n",
        "  print(f\"Our {matrix_type} contains {row_count} rows and {column_count} columns\")\n",
        "  assert (column_count, row_count) == matrix.T.shape"
      ],
      "metadata": {
        "id": "4qVr5astkZ82",
        "outputId": "af984cd4-6cb4-46c2-fecb-3a098c818b54",
        "colab": {
          "base_uri": "https://localhost:8080/"
        }
      },
      "execution_count": 40,
      "outputs": [
        {
          "output_type": "stream",
          "name": "stdout",
          "text": [
            "Our 2D NumPy array contains 3 rows and 15 columns\n",
            "Our Pandas DataFrame contains 3 rows and 15 columns\n"
          ]
        }
      ]
    },
    {
      "cell_type": "markdown",
      "source": [
        "**NUMPY MATRIX ARITHMETIC OPERATIONS**"
      ],
      "metadata": {
        "id": "HkR3oSyQlSdp"
      }
    },
    {
      "cell_type": "markdown",
      "source": [
        "Doubling the values of a matrix is very easy to do in NumPy."
      ],
      "metadata": {
        "id": "UZVTg8f0lcDg"
      }
    },
    {
      "cell_type": "code",
      "source": [
        "# NumPy array addition and subtraction\n",
        "double_similarities = 2 * similarities\n",
        "np.array_equal(double_similarities, similarities + similarities)\n",
        "zero_matrix = similarities - similarities\n",
        "negative_1_matrix = similarities - similarities - 1\n",
        "\n",
        "for i in range(similarities.shape[0]):\n",
        "  for j in range(similarities.shape[1]):\n",
        "    assert double_similarities[i][j] == 2 * similarities[i][j]\n",
        "    assert zero_matrix[i][j] == 0\n",
        "    assert negative_1_matrix[i][j] == -1"
      ],
      "metadata": {
        "id": "dOVUl4r2lcxZ"
      },
      "execution_count": 41,
      "outputs": []
    },
    {
      "cell_type": "code",
      "source": [
        "# NumPy array multiplication and division\n",
        "squared_similarities = similarities * similarities\n",
        "assert np.array_equal(squared_similarities, similarities ** 2)\n",
        "\n",
        "ones_matrix = similarities / similarities\n",
        "\n",
        "for i in range(similarities.shape[0]):\n",
        "  for j in range(similarities.shape[1]):\n",
        "    assert squared_similarities[i][j] == similarities[i][j] ** 2\n",
        "    assert ones_matrix[i][j] == 1"
      ],
      "metadata": {
        "id": "CIrghW0MmVgJ"
      },
      "execution_count": 42,
      "outputs": []
    },
    {
      "cell_type": "code",
      "source": [
        "# Converting between matrix similarity-types\n",
        "cosine_similarities = 2 * similarities / (1 + similarities)\n",
        "\n",
        "for i in range(similarities.shape[0]):\n",
        "  for j in range(similarities.shape[1]):\n",
        "    # Confirms that the cosine similarity equals the actual vector dot product\n",
        "    cosine_sim = unit_vectors[i] @ unit_vectors[j]\n",
        "    assert round(cosine_similarities[i][j], 15) == round(cosine_sim, 15)"
      ],
      "metadata": {
        "id": "udeA7iODm-E1"
      },
      "execution_count": 43,
      "outputs": []
    },
    {
      "cell_type": "markdown",
      "source": [
        "**NUMPY MATRIX ROW AND COLUMN OPERATIONS**\n",
        "\n",
        "Given any 2D matrix array, we can access the row at index i by running `matrix[i]`. \n",
        "\n",
        "Likewise,\n",
        "we can access the column at index j by running `matrix[:,j]`."
      ],
      "metadata": {
        "id": "SeW5DKT5n0gV"
      }
    },
    {
      "cell_type": "code",
      "source": [
        "# Accessing NumPy matrix rows and columns\n",
        "for name, matrix in [(\"Similarities\", similarities), (\"Unit Vectors\", unit_vectors)]:\n",
        "  print(f\"Accessing rows and columns in the {name} Matrix.\")\n",
        "  row, column = matrix[0], matrix[:, 0]\n",
        "  print(f\"Row at index 0 is:\\n{row}\")\n",
        "  print(f\"\\nColumn at index 0 is:\\n{column}\\n\")"
      ],
      "metadata": {
        "id": "aH0AEoHon8fI",
        "outputId": "c543dc31-61e1-499e-ba6c-bc236604e561",
        "colab": {
          "base_uri": "https://localhost:8080/"
        }
      },
      "execution_count": 44,
      "outputs": [
        {
          "output_type": "stream",
          "name": "stdout",
          "text": [
            "Accessing rows and columns in the Similarities Matrix.\n",
            "Row at index 0 is:\n",
            "[1.         0.51442439 0.44452044]\n",
            "\n",
            "Column at index 0 is:\n",
            "[1.         0.51442439 0.44452044]\n",
            "\n",
            "Accessing rows and columns in the Unit Vectors Matrix.\n",
            "Row at index 0 is:\n",
            "[0.40824829 0.         0.         0.40824829 0.40824829 0.\n",
            " 0.         0.40824829 0.         0.         0.         0.40824829\n",
            " 0.         0.40824829 0.        ]\n",
            "\n",
            "Column at index 0 is:\n",
            "[0.40824829 0.5547002  0.30151134]\n",
            "\n"
          ]
        }
      ]
    },
    {
      "cell_type": "code",
      "source": [
        "# Computing the dot product between a row and column\n",
        "row = similarities[0]\n",
        "column = unit_vectors[:, 0]\n",
        "dot_product = row @ column\n",
        "print(f\"The dot product between the row and column is: {dot_product:.4f}\")"
      ],
      "metadata": {
        "id": "O6L_5I3VpxYm",
        "outputId": "78aaad2b-4b6a-46f8-a67c-6d4e1ffb32bf",
        "colab": {
          "base_uri": "https://localhost:8080/"
        }
      },
      "execution_count": 45,
      "outputs": [
        {
          "output_type": "stream",
          "name": "stdout",
          "text": [
            "The dot product between the row and column is: 0.8276\n"
          ]
        }
      ]
    },
    {
      "cell_type": "code",
      "source": [
        "# Computing dot products between all rows and columns\n",
        "num_rows = similarities.shape[0]\n",
        "num_columns = unit_vectors.shape[1]\n",
        "\n",
        "for i in range(num_rows):\n",
        "  for j in range(num_columns):\n",
        "    row = similarities[i]\n",
        "    column = unit_vectors[:, j]\n",
        "    dot_product = row @ column\n",
        "    print(f\"The dot product between row {i} column {j} is: {dot_product:.4f}\")"
      ],
      "metadata": {
        "id": "JZX_2pfiqSd0",
        "outputId": "9f14b526-47df-4f71-ed1d-124dd3987c88",
        "colab": {
          "base_uri": "https://localhost:8080/"
        }
      },
      "execution_count": 46,
      "outputs": [
        {
          "output_type": "stream",
          "name": "stdout",
          "text": [
            "The dot product between row 0 column 0 is: 0.8276\n",
            "The dot product between row 0 column 1 is: 0.1427\n",
            "The dot product between row 0 column 2 is: 0.1427\n",
            "The dot product between row 0 column 3 is: 0.8276\n",
            "The dot product between row 0 column 4 is: 0.5423\n",
            "The dot product between row 0 column 5 is: 0.1340\n",
            "The dot product between row 0 column 6 is: 0.1340\n",
            "The dot product between row 0 column 7 is: 0.5509\n",
            "The dot product between row 0 column 8 is: 0.1340\n",
            "The dot product between row 0 column 9 is: 0.1340\n",
            "The dot product between row 0 column 10 is: 0.1340\n",
            "The dot product between row 0 column 11 is: 0.6850\n",
            "The dot product between row 0 column 12 is: 0.1340\n",
            "The dot product between row 0 column 13 is: 0.5423\n",
            "The dot product between row 0 column 14 is: 0.1427\n",
            "The dot product between row 1 column 0 is: 0.8444\n",
            "The dot product between row 1 column 1 is: 0.2774\n",
            "The dot product between row 1 column 2 is: 0.2774\n",
            "The dot product between row 1 column 3 is: 0.8444\n",
            "The dot product between row 1 column 4 is: 0.2897\n",
            "The dot product between row 1 column 5 is: 0.0797\n",
            "The dot product between row 1 column 6 is: 0.0797\n",
            "The dot product between row 1 column 7 is: 0.4874\n",
            "The dot product between row 1 column 8 is: 0.0797\n",
            "The dot product between row 1 column 9 is: 0.0797\n",
            "The dot product between row 1 column 10 is: 0.0797\n",
            "The dot product between row 1 column 11 is: 0.5671\n",
            "The dot product between row 1 column 12 is: 0.0797\n",
            "The dot product between row 1 column 13 is: 0.2897\n",
            "The dot product between row 1 column 14 is: 0.2774\n",
            "The dot product between row 2 column 0 is: 0.6296\n",
            "The dot product between row 2 column 1 is: 0.0733\n",
            "The dot product between row 2 column 2 is: 0.0733\n",
            "The dot product between row 2 column 3 is: 0.6296\n",
            "The dot product between row 2 column 4 is: 0.4830\n",
            "The dot product between row 2 column 5 is: 0.3015\n",
            "The dot product between row 2 column 6 is: 0.3015\n",
            "The dot product between row 2 column 7 is: 0.2548\n",
            "The dot product between row 2 column 8 is: 0.3015\n",
            "The dot product between row 2 column 9 is: 0.3015\n",
            "The dot product between row 2 column 10 is: 0.3015\n",
            "The dot product between row 2 column 11 is: 0.5563\n",
            "The dot product between row 2 column 12 is: 0.3015\n",
            "The dot product between row 2 column 13 is: 0.4830\n",
            "The dot product between row 2 column 14 is: 0.0733\n"
          ]
        }
      ]
    },
    {
      "cell_type": "code",
      "source": [
        "# Storing all-by-all dot products in a matrix\n",
        "dot_products = np.zeros((num_rows, num_columns))\n",
        "\n",
        "for i in range(num_rows):\n",
        "  for j in range(num_columns):\n",
        "    dot_products[i][j] = similarities[i] @ unit_vectors[:, j]\n",
        "\n",
        "print(dot_products)"
      ],
      "metadata": {
        "id": "fL1RQkxPrLn0",
        "outputId": "203d320c-f1c5-4973-dc38-d2b169b2ad59",
        "colab": {
          "base_uri": "https://localhost:8080/"
        }
      },
      "execution_count": 47,
      "outputs": [
        {
          "output_type": "stream",
          "name": "stdout",
          "text": [
            "[[0.82762755 0.14267565 0.14267565 0.82762755 0.54227624 0.13402795\n",
            "  0.13402795 0.55092394 0.13402795 0.13402795 0.13402795 0.6849519\n",
            "  0.13402795 0.54227624 0.14267565]\n",
            " [0.84440831 0.2773501  0.2773501  0.84440831 0.28970812 0.07969524\n",
            "  0.07969524 0.48736297 0.07969524 0.07969524 0.07969524 0.56705821\n",
            "  0.07969524 0.28970812 0.2773501 ]\n",
            " [0.62960397 0.07330896 0.07330896 0.62960397 0.48298605 0.30151134\n",
            "  0.30151134 0.25478367 0.30151134 0.30151134 0.30151134 0.55629501\n",
            "  0.30151134 0.48298605 0.07330896]]\n"
          ]
        }
      ]
    },
    {
      "cell_type": "markdown",
      "source": [
        "The operation we’ve just executed is called a matrix product. It’s a generalization of the\n",
        "vector dot product to two dimensions.\n",
        "\n",
        "**NUMPY MATRIX PRODUCTS**\n",
        "\n",
        "Conveniently, NumPy’s product operator `@`\n",
        "can be applied to 2D matrices as well as 1D arrays.\n"
      ],
      "metadata": {
        "id": "SvzJu4flroYk"
      }
    },
    {
      "cell_type": "code",
      "source": [
        "# Computing a matrix product using NumPy\n",
        "matrix_product = similarities @ unit_vectors\n",
        "assert np.allclose(matrix_product, dot_products)"
      ],
      "metadata": {
        "id": "nh5QPcCCuThH"
      },
      "execution_count": 48,
      "outputs": []
    },
    {
      "cell_type": "code",
      "source": [
        "# Computing an erroneous matrix product\n",
        "try:\n",
        "  matrix_product = unit_vectors @ similarities\n",
        "except:\n",
        "  print(\"We can't compute the matrix product\")"
      ],
      "metadata": {
        "id": "Ueh3T5FcvBVS",
        "outputId": "261bfcb9-922e-48f3-b9a5-967087a2feb0",
        "colab": {
          "base_uri": "https://localhost:8080/"
        }
      },
      "execution_count": 49,
      "outputs": [
        {
          "output_type": "stream",
          "name": "stdout",
          "text": [
            "We can't compute the matrix product\n"
          ]
        }
      ]
    },
    {
      "cell_type": "markdown",
      "source": [
        "In mathematics, the words product and multiplication are often interchangeable. \n",
        "\n",
        "Thus,computing the matrix product is commonly called matrix multiplication."
      ],
      "metadata": {
        "id": "q71IqvpevW1n"
      }
    },
    {
      "cell_type": "code",
      "source": [
        "# Running matrix multiplication using matmul\n",
        "matrix_product = np.matmul(similarities, unit_vectors)\n",
        "assert np.array_equal(matrix_product, similarities @ unit_vectors)"
      ],
      "metadata": {
        "id": "pJ4UG5shvcOW"
      },
      "execution_count": 50,
      "outputs": []
    },
    {
      "cell_type": "markdown",
      "source": [
        "Let’s compare the matrix product speed between NumPy and regular Python."
      ],
      "metadata": {
        "id": "8xxQYXmIvxQB"
      }
    },
    {
      "cell_type": "code",
      "source": [
        "# Comparing matrix product running times\n",
        "numpy_run_times = []\n",
        "python_run_times = []\n",
        "\n",
        "matrix_sizes = range(1, 101)\n",
        "for size in matrix_sizes:\n",
        "  matrix = np.ones((size, size))\n",
        "\n",
        "  start_time = time.time()\n",
        "  matrix @ matrix\n",
        "  numpy_run_times.append(time.time() - start_time)\n",
        "\n",
        "  start_time = time.time()\n",
        "  for i in range(size):\n",
        "    for j in range(size):\n",
        "      matrix[i] @ matrix[:, j]\n",
        "  python_run_times.append(time.time() - start_time)\n",
        "\n",
        "plt.plot(matrix_sizes, numpy_run_times, label=\"NumPy Matrix Product\", linestyle=\"--\")\n",
        "plt.plot(matrix_sizes, python_run_times, label=\"Python Matrix Product\", color=\"k\")\n",
        "plt.xlabel(\"Row/Column Size\")\n",
        "plt.ylabel(\"Running Time (Seconds)\")\n",
        "plt.legend()\n",
        "plt.show()"
      ],
      "metadata": {
        "id": "nO36keHZvybJ",
        "outputId": "9e161d7e-a9eb-40f9-db42-d321af2ec0b3",
        "colab": {
          "base_uri": "https://localhost:8080/",
          "height": 279
        }
      },
      "execution_count": 54,
      "outputs": [
        {
          "output_type": "display_data",
          "data": {
            "text/plain": [
              "<Figure size 432x288 with 1 Axes>"
            ],
            "image/png": "[encoded data removed]"
          },
          "metadata": {
            "needs_background": "light"
          }
        }
      ]
    },
    {
      "cell_type": "markdown",
      "source": [
        "###Computing all-by-all matrix similarities"
      ],
      "metadata": {
        "id": "2uukfOb1xebh"
      }
    },
    {
      "cell_type": "markdown",
      "source": [
        ""
      ],
      "metadata": {
        "id": "zrpDbmQlxhCL"
      }
    }
  ]
}