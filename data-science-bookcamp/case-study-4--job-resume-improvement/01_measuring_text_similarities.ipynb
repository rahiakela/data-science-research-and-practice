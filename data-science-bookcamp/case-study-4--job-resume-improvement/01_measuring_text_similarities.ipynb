{
  "nbformat": 4,
  "nbformat_minor": 0,
  "metadata": {
    "colab": {
      "name": "01-measuring-text-similarities.ipynb",
      "provenance": [],
      "toc_visible": true,
      "authorship_tag": "ABX9TyMelLgEhhyvG8cwKYkU1MtQ",
      "include_colab_link": true
    },
    "kernelspec": {
      "name": "python3",
      "display_name": "Python 3"
    },
    "language_info": {
      "name": "python"
    }
  },
  "cells": [
    {
      "cell_type": "markdown",
      "metadata": {
        "id": "view-in-github",
        "colab_type": "text"
      },
      "source": [
        "<a href=\"https://colab.research.google.com/github/rahiakela/data-science-research-and-practice/blob/main/data-science-bookcamp/case-study-4--job-resume-improvement/01_measuring_text_similarities.ipynb\" target=\"_parent\"><img src=\"https://colab.research.google.com/assets/colab-badge.svg\" alt=\"Open In Colab\"/></a>"
      ]
    },
    {
      "cell_type": "markdown",
      "source": [
        "##Measuring text similarities"
      ],
      "metadata": {
        "id": "CKQ3xygyzGoH"
      }
    },
    {
      "cell_type": "markdown",
      "source": [
        "In this notebook, we focus on a basic NLP problem: **measuring the similarity between two texts**. \n",
        "\n",
        "We will quickly discover a feasible solution that is not computationally efficient.\n",
        "We will then explore a series of numerical techniques for rapidly computing\n",
        "text similarities."
      ],
      "metadata": {
        "id": "fJsYonsIz1lJ"
      }
    },
    {
      "cell_type": "markdown",
      "source": [
        "##Setup"
      ],
      "metadata": {
        "id": "nEaM8U6Lz_Fg"
      }
    },
    {
      "cell_type": "code",
      "source": [
        "import warnings\n",
        "warnings.filterwarnings('ignore')"
      ],
      "metadata": {
        "id": "gtDg8Oyyz__L"
      },
      "execution_count": 1,
      "outputs": []
    },
    {
      "cell_type": "code",
      "source": [
        "from collections import defaultdict\n",
        "from collections import Counter\n",
        "import numpy as np\n",
        "import pandas as pd\n",
        "\n",
        "import seaborn as sns\n",
        "import matplotlib.pyplot as plt"
      ],
      "metadata": {
        "id": "TobbrwVl0CWF"
      },
      "execution_count": 2,
      "outputs": []
    },
    {
      "cell_type": "markdown",
      "source": [
        "##Simple text comparison"
      ],
      "metadata": {
        "id": "tRYlC_k-0OTX"
      }
    },
    {
      "cell_type": "markdown",
      "source": [
        "Suppose we want to compare three simple texts:\n",
        "\n",
        "```text\n",
        "text1—She sells seashells by the seashore\n",
        "text2—“Seashells! The seashells are on sale! By the seashore.”\n",
        "text3—She sells 3 seashells to John, who lives by the lake.\n",
        "```\n",
        "\n",
        "Our goal is to determine whether `text1` is more similar to `text2` or to `text3`.\n",
        "\n"
      ],
      "metadata": {
        "id": "sTg51MOn0QLf"
      }
    },
    {
      "cell_type": "code",
      "source": [
        "# Assigning texts to variables\n",
        "text1 = \"She sells seashells by the seashore.\"\n",
        "text2 = '\"Seashells! The seashells are on sale! By the seashore.\"'\n",
        "text3 = \"She sells 3 seashells to John, who lives by the lake.\""
      ],
      "metadata": {
        "id": "WCepvD5r0Wq4"
      },
      "execution_count": 3,
      "outputs": []
    },
    {
      "cell_type": "markdown",
      "source": [
        "Now we need to quantify the differences between texts."
      ],
      "metadata": {
        "id": "uvofbc7T05_E"
      }
    },
    {
      "cell_type": "code",
      "source": [
        "# Splitting texts into words\n",
        "words_lists = [text.split() for text in [text1, text2, text3]]\n",
        "words1, words2, words3 = words_lists\n",
        "\n",
        "for i, words in enumerate(words_lists, 1):\n",
        "  print(f\"Words in text {i}\")\n",
        "  print(f\"{words}\\n\")"
      ],
      "metadata": {
        "id": "9gsaUHqR06bp",
        "outputId": "9c87827f-5206-42f6-b97c-c4e7e9ace2d2",
        "colab": {
          "base_uri": "https://localhost:8080/"
        }
      },
      "execution_count": 4,
      "outputs": [
        {
          "output_type": "stream",
          "name": "stdout",
          "text": [
            "Words in text 1\n",
            "['She', 'sells', 'seashells', 'by', 'the', 'seashore.']\n",
            "\n",
            "Words in text 2\n",
            "['\"Seashells!', 'The', 'seashells', 'are', 'on', 'sale!', 'By', 'the', 'seashore.\"']\n",
            "\n",
            "Words in text 3\n",
            "['She', 'sells', '3', 'seashells', 'to', 'John,', 'who', 'lives', 'by', 'the', 'lake.']\n",
            "\n"
          ]
        }
      ]
    },
    {
      "cell_type": "code",
      "source": [
        "# Removing case sensitivity and punctuation\n",
        "def simplify_text(text):\n",
        "  for punctuation in ['.', ',', '!', '?', '\"']:\n",
        "    text = text.replace(punctuation, \"\")\n",
        "  return text.lower()"
      ],
      "metadata": {
        "id": "SHYUPbuJ1gpZ"
      },
      "execution_count": 5,
      "outputs": []
    },
    {
      "cell_type": "code",
      "source": [
        "for i, words in enumerate(words_lists, 1):\n",
        "  for j, word in enumerate(words):\n",
        "    words[j] = simplify_text(word)\n",
        "  print(f\"Words in text {i}\")\n",
        "  print(f\"{words}\\n\")"
      ],
      "metadata": {
        "id": "vxr_TPOa1yOj",
        "outputId": "e4e52a30-a152-4e92-a769-3aed4d470fb4",
        "colab": {
          "base_uri": "https://localhost:8080/"
        }
      },
      "execution_count": 6,
      "outputs": [
        {
          "output_type": "stream",
          "name": "stdout",
          "text": [
            "Words in text 1\n",
            "['she', 'sells', 'seashells', 'by', 'the', 'seashore']\n",
            "\n",
            "Words in text 2\n",
            "['seashells', 'the', 'seashells', 'are', 'on', 'sale', 'by', 'the', 'seashore']\n",
            "\n",
            "Words in text 3\n",
            "['she', 'sells', '3', 'seashells', 'to', 'john', 'who', 'lives', 'by', 'the', 'lake']\n",
            "\n"
          ]
        }
      ]
    },
    {
      "cell_type": "code",
      "source": [
        "# Converting word lists to sets\n",
        "words_sets = [set(words) for words in words_lists]\n",
        "for i, unique_words in enumerate(words_sets, 1):\n",
        "  print(f\"Unique Words in text {i}\")\n",
        "  print(f\"{unique_words}\\n\")"
      ],
      "metadata": {
        "id": "37vWSeHg2hDE",
        "outputId": "976e7da1-d9ff-404b-85cf-6c1b0b648278",
        "colab": {
          "base_uri": "https://localhost:8080/"
        }
      },
      "execution_count": 7,
      "outputs": [
        {
          "output_type": "stream",
          "name": "stdout",
          "text": [
            "Unique Words in text 1\n",
            "{'seashells', 'she', 'seashore', 'the', 'by', 'sells'}\n",
            "\n",
            "Unique Words in text 2\n",
            "{'on', 'seashells', 'seashore', 'sale', 'the', 'by', 'are'}\n",
            "\n",
            "Unique Words in text 3\n",
            "{'john', 'to', 'seashells', 'she', 'lake', 'the', 'by', '3', 'sells', 'lives', 'who'}\n",
            "\n"
          ]
        }
      ]
    },
    {
      "cell_type": "code",
      "source": [
        "# Extracting overlapping words between two texts\n",
        "words_set1 = words_sets[0]\n",
        "for i, words_set in enumerate(words_sets[1:], 2):\n",
        "  shared_words = words_set1 & words_set\n",
        "  print(f\"Texts 1 and {i} share these {len(shared_words)} words:\")\n",
        "  print(f\"{shared_words}\\n\")"
      ],
      "metadata": {
        "id": "sVXOROoY6Eco",
        "outputId": "29226c58-e712-4e18-d399-12358751391b",
        "colab": {
          "base_uri": "https://localhost:8080/"
        }
      },
      "execution_count": 8,
      "outputs": [
        {
          "output_type": "stream",
          "name": "stdout",
          "text": [
            "Texts 1 and 2 share these 4 words:\n",
            "{'by', 'seashells', 'seashore', 'the'}\n",
            "\n",
            "Texts 1 and 3 share these 5 words:\n",
            "{'seashells', 'she', 'the', 'by', 'sells'}\n",
            "\n"
          ]
        }
      ]
    },
    {
      "cell_type": "code",
      "source": [
        "# Extracting diverging words between two texts\n",
        "for i, words_set in enumerate(words_sets[1:], 2):\n",
        "  diverging_words = words_set1 ^ words_set\n",
        "  print(f\"Texts 1 and {i} don't share these {len(diverging_words)} words:\")\n",
        "  print(f\"{diverging_words}\\n\")"
      ],
      "metadata": {
        "id": "rD7E9MVI7AD0",
        "outputId": "cd1aac60-b4ea-44fb-906d-9f3352b47a3e",
        "colab": {
          "base_uri": "https://localhost:8080/"
        }
      },
      "execution_count": 9,
      "outputs": [
        {
          "output_type": "stream",
          "name": "stdout",
          "text": [
            "Texts 1 and 2 don't share these 5 words:\n",
            "{'she', 'on', 'are', 'sells', 'sale'}\n",
            "\n",
            "Texts 1 and 3 don't share these 7 words:\n",
            "{'john', 'to', 'seashore', 'lake', '3', 'lives', 'who'}\n",
            "\n"
          ]
        }
      ]
    },
    {
      "cell_type": "markdown",
      "source": [
        "To combine their overlap and divergence into a single similarity score, we must first combine all overlapping\n",
        "and diverging words between the texts. \n",
        "\n",
        "This aggregation, which is called a union, will\n",
        "contain all the unique words across the two texts."
      ],
      "metadata": {
        "id": "pZklMwBh7Zur"
      }
    },
    {
      "cell_type": "code",
      "source": [
        "# Extracting the union of words between two texts\n",
        "for i, words_set in enumerate(words_sets[1:], 2):\n",
        "  total_words = words_set1 | words_set\n",
        "  print(f\"Together, texts 1 and {i} contain {len(total_words)} unique words. These words are:\\n {total_words}\\n\")"
      ],
      "metadata": {
        "id": "ZNeEwj1XH_sD",
        "outputId": "d55952dc-05d5-4ee4-889f-9fcbebb203b6",
        "colab": {
          "base_uri": "https://localhost:8080/"
        }
      },
      "execution_count": 10,
      "outputs": [
        {
          "output_type": "stream",
          "name": "stdout",
          "text": [
            "Together, texts 1 and 2 contain 9 unique words. These words are:\n",
            " {'on', 'seashells', 'seashore', 'she', 'the', 'sale', 'by', 'are', 'sells'}\n",
            "\n",
            "Together, texts 1 and 3 contain 12 unique words. These words are:\n",
            " {'to', 'seashells', 'seashore', 'the', 'sells', 'lives', 'who', 'john', 'she', 'lake', 'by', '3'}\n",
            "\n"
          ]
        }
      ]
    },
    {
      "cell_type": "markdown",
      "source": [
        "Accordingly, both overlap and divergence represent complementary\n",
        "percentages of the total unique word count across texts."
      ],
      "metadata": {
        "id": "5iNostovIpvG"
      }
    },
    {
      "cell_type": "code",
      "source": [
        "# Extracting the percentage of shared words between two texts\n",
        "for i, words_set in enumerate(words_sets[1:], 2):\n",
        "  shared_words = words_set1 & words_set\n",
        "  diverging_words = words_set1 ^ words_set\n",
        "  total_words = words_set1 | words_set\n",
        "  assert len(total_words) == len(shared_words) + len(diverging_words)\n",
        "\n",
        "  # Percent of total words shared with text 1\n",
        "  percent_shared = 100 * len(shared_words) / len(total_words)\n",
        "  # Percent of total words that diverge from text 1 \n",
        "  percent_diverging = 100 * len(diverging_words) / len(total_words)\n",
        "\n",
        "  print(f\"Together, texts 1 and {i} contain {len(total_words)} unique words. \\n{percent_shared:.2f}% of these words are shared.\\n{percent_diverging:.2f}% of these words diverge.\\n\")"
      ],
      "metadata": {
        "id": "NI-ab1ClIqOb",
        "outputId": "54bb7819-e5ab-4d3a-de4c-4a98845bda35",
        "colab": {
          "base_uri": "https://localhost:8080/"
        }
      },
      "execution_count": 11,
      "outputs": [
        {
          "output_type": "stream",
          "name": "stdout",
          "text": [
            "Together, texts 1 and 2 contain 9 unique words. \n",
            "44.44% of these words are shared.\n",
            "55.56% of these words diverge.\n",
            "\n",
            "Together, texts 1 and 3 contain 12 unique words. \n",
            "41.67% of these words are shared.\n",
            "58.33% of these words diverge.\n",
            "\n"
          ]
        }
      ]
    },
    {
      "cell_type": "markdown",
      "source": [
        "We’ve essentially developed a simple metric for assessing similarities between texts.\n",
        "\n",
        "This similarity metric is referred to as the Jaccard similarity, or the Jaccard index."
      ],
      "metadata": {
        "id": "ysjoVu4AKUhK"
      }
    },
    {
      "cell_type": "markdown",
      "source": [
        "###Exploring the Jaccard similarity"
      ],
      "metadata": {
        "id": "VTRCmi4XKLus"
      }
    },
    {
      "cell_type": "markdown",
      "source": [
        "The Jaccard similarity is a reasonable measure of text resemblance for the following reasons:\n",
        "\n",
        "* The similarity takes into account both text overlap and text divergence.\n",
        "* The fractional similarity is always between 0 and 1. The fraction is easy to interpret: 0 indicates that no words are shared, 0.5 indicates that half the words are shared, and 1 indicates that all the words are shared.\n",
        "* The similarity is simple to implement."
      ],
      "metadata": {
        "id": "EJAW90_GKOc_"
      }
    },
    {
      "cell_type": "code",
      "source": [
        "# Computing the Jaccard similarity\n",
        "def jaccard_similarity(text_a, text_b):\n",
        "  word_set_a, word_set_b = [set(simplify_text(text).split()) for text in [text_a, text_b]]\n",
        "  num_shared = len(word_set_a & word_set_b)\n",
        "  num_total = len(word_set_a | word_set_b)\n",
        "  return num_shared / num_total"
      ],
      "metadata": {
        "id": "rBT635wt9gjp"
      },
      "execution_count": 12,
      "outputs": []
    },
    {
      "cell_type": "code",
      "source": [
        "for text in [text2, text3]:\n",
        "  similarity = jaccard_similarity(text1, text)\n",
        "  print(f\"Text comparison:\\n\\t{text1}\\n\\t{text}\\nThe Jaccard similarity is {similarity:.2f}\\n\")"
      ],
      "metadata": {
        "id": "W3O0Jt8w-FlI",
        "outputId": "08cbb490-4efa-4ff4-8254-5c2a5ddb85ae",
        "colab": {
          "base_uri": "https://localhost:8080/"
        }
      },
      "execution_count": 13,
      "outputs": [
        {
          "output_type": "stream",
          "name": "stdout",
          "text": [
            "Text comparison:\n",
            "\tShe sells seashells by the seashore.\n",
            "\t\"Seashells! The seashells are on sale! By the seashore.\"\n",
            "The Jaccard similarity is 0.44\n",
            "\n",
            "Text comparison:\n",
            "\tShe sells seashells by the seashore.\n",
            "\tShe sells 3 seashells to John, who lives by the lake.\n",
            "The Jaccard similarity is 0.42\n",
            "\n"
          ]
        }
      ]
    },
    {
      "cell_type": "code",
      "source": [
        "# Efficiently computing the Jaccard similarity\n",
        "def jaccard_similarity_efficient(text_a, text_b):\n",
        "  word_set_a, word_set_b = [set(simplify_text(text).split()) for text in [text_a, text_b]]\n",
        "  num_shared = len(word_set_a & word_set_b)\n",
        "  num_total = len(word_set_a) + len(word_set_b) - num_shared\n",
        "  return num_shared / num_total"
      ],
      "metadata": {
        "id": "bjO4DHbmAYuy"
      },
      "execution_count": 14,
      "outputs": []
    },
    {
      "cell_type": "code",
      "source": [
        "for text in [text2, text3]:\n",
        "  similarity = jaccard_similarity_efficient(text1, text)\n",
        "  assert similarity == jaccard_similarity(text1, text)\n",
        "  print(f\"Text comparison:\\n\\t{text1}\\n\\t{text}\\nThe Jaccard similarity is {similarity:.2f}\\n\")"
      ],
      "metadata": {
        "id": "Gh8TNVm4AlUr",
        "outputId": "2a384177-bd05-415d-c433-22056b82da7c",
        "colab": {
          "base_uri": "https://localhost:8080/"
        }
      },
      "execution_count": 15,
      "outputs": [
        {
          "output_type": "stream",
          "name": "stdout",
          "text": [
            "Text comparison:\n",
            "\tShe sells seashells by the seashore.\n",
            "\t\"Seashells! The seashells are on sale! By the seashore.\"\n",
            "The Jaccard similarity is 0.44\n",
            "\n",
            "Text comparison:\n",
            "\tShe sells seashells by the seashore.\n",
            "\tShe sells 3 seashells to John, who lives by the lake.\n",
            "The Jaccard similarity is 0.42\n",
            "\n"
          ]
        }
      ]
    },
    {
      "cell_type": "markdown",
      "source": [
        "###Replacing words with numeric values"
      ],
      "metadata": {
        "id": "vx1cEHLuA_pZ"
      }
    },
    {
      "cell_type": "markdown",
      "source": [
        "The mapping between words\n",
        "and their numeric values can be stored in a Python dictionary. We’ll refer to this dictionary\n",
        "as our vocabulary. \n",
        "\n",
        "Let’s build a vocabulary that covers all the words in our three\n",
        "texts."
      ],
      "metadata": {
        "id": "evDQMNW9BAfB"
      }
    },
    {
      "cell_type": "code",
      "source": [
        "# Assigning words to numbers in a vocabulary\n",
        "words_set1, words_set2, words_set3 = words_sets\n",
        "total_words = words_set1 | words_set2 | words_set3\n",
        "vocabulary = {word: i for i, word in enumerate(total_words)}\n",
        "value_to_word = {value: word for word, value in vocabulary.items()}\n",
        "print(f\"Our vocabulary contains {len(vocabulary)} words. This vocabulary is:\\n{vocabulary}\")"
      ],
      "metadata": {
        "id": "L0mArXDsclx_",
        "outputId": "66d6036b-a004-4096-dbf1-b52254ba1143",
        "colab": {
          "base_uri": "https://localhost:8080/"
        }
      },
      "execution_count": 16,
      "outputs": [
        {
          "output_type": "stream",
          "name": "stdout",
          "text": [
            "Our vocabulary contains 15 words. This vocabulary is:\n",
            "{'to': 0, 'seashells': 1, 'seashore': 2, 'the': 3, 'sale': 4, 'are': 5, 'sells': 6, 'lives': 7, 'who': 8, 'john': 9, 'on': 10, 'she': 11, 'lake': 12, 'by': 13, '3': 14}\n"
          ]
        }
      ]
    },
    {
      "cell_type": "markdown",
      "source": [
        "Given our vocabulary, we can convert any text into a one-dimensional array of numbers.\n",
        "\n",
        "Mathematically, a 1D numeric array is called a vector. \n",
        "\n",
        "Hence, the process of converting\n",
        "text into a vector is called text vectorization.\n",
        "\n",
        "Let’s use binary vectorization to convert all texts into NumPy arrays."
      ],
      "metadata": {
        "id": "wOp5oCJ-dZ8g"
      }
    },
    {
      "cell_type": "code",
      "source": [
        "# Transforming words into binary vectors\n",
        "vectors = []\n",
        "for i, words_set in enumerate(words_sets, 1):\n",
        "  # Generates an array of 0s\n",
        "  vector = np.array([0] * len(vocabulary))\n",
        "  for word in words_set:\n",
        "    vector[vocabulary[word]] = 1\n",
        "  vectors.append(vector)\n",
        "\n",
        "sns.heatmap(vectors, annot=True, cmap=\"YlGnBu\", \n",
        "             xticklabels=vocabulary.keys(),\n",
        "             yticklabels=[\"Text 1\", \"Text 2\", \"Text 3\"])\n",
        "plt.yticks(rotation=1)\n",
        "plt.show()"
      ],
      "metadata": {
        "id": "x1XYLAsJdgBx",
        "outputId": "327098cf-b99e-4eda-8772-69c3b070405c",
        "colab": {
          "base_uri": "https://localhost:8080/",
          "height": 306
        }
      },
      "execution_count": 17,
      "outputs": [
        {
          "output_type": "display_data",
          "data": {
            "text/plain": [
              "<Figure size 432x288 with 2 Axes>"
            ],
            "image/png": "[encoded data removed]"
          },
          "metadata": {
            "needs_background": "light"
          }
        }
      ]
    },
    {
      "cell_type": "markdown",
      "source": [
        "Our binary vector representation allows us to extract shared words numerically."
      ],
      "metadata": {
        "id": "jVtr3sYafNmT"
      }
    },
    {
      "cell_type": "code",
      "source": [
        "# Finding shared words using vector arithmetic\n",
        "vector1, vector2 = vectors[:2]\n",
        "for i in range(len(vocabulary)):\n",
        "  if vector1[i] * vector2[i]:\n",
        "    shared_word = value_to_word[i]\n",
        "    print(f\"'{shared_word}' is present in both texts 1 and 2\")"
      ],
      "metadata": {
        "id": "uFYRNPnMfOEs",
        "outputId": "cede998a-b7f4-49ec-93fe-5abca17f24d6",
        "colab": {
          "base_uri": "https://localhost:8080/"
        }
      },
      "execution_count": 18,
      "outputs": [
        {
          "output_type": "stream",
          "name": "stdout",
          "text": [
            "'seashells' is present in both texts 1 and 2\n",
            "'seashore' is present in both texts 1 and 2\n",
            "'the' is present in both texts 1 and 2\n",
            "'by' is present in both texts 1 and 2\n"
          ]
        }
      ]
    },
    {
      "cell_type": "code",
      "source": [
        "# Counting shared words using vector arithmetic\n",
        "shared_word_count = sum(vector1[i] * vector2[i] for i in range(len(vocabulary)))\n",
        "assert shared_word_count == len(words_set1 & words_set2)"
      ],
      "metadata": {
        "id": "FGXUt3l_g82R"
      },
      "execution_count": 19,
      "outputs": []
    },
    {
      "cell_type": "markdown",
      "source": [
        "The sum of the pairwise products across all vector indices is called the dot product."
      ],
      "metadata": {
        "id": "Foe_45QrhUng"
      }
    },
    {
      "cell_type": "code",
      "source": [
        "# Computing a vector dot product using NumPy\n",
        "assert vector1.dot(vector2) == shared_word_count\n",
        "assert vector1 @ vector2 == shared_word_count"
      ],
      "metadata": {
        "id": "vcbsS4luhVBu"
      },
      "execution_count": 20,
      "outputs": []
    },
    {
      "cell_type": "markdown",
      "source": [
        "Stated more concisely, `vector1 @ vector1` should equal the number of unique words\n",
        "in `text1`, which is also equal to `len(words_set1)`. \n",
        "\n",
        "Let’s confirm."
      ],
      "metadata": {
        "id": "EhAu2Ax4hwRx"
      }
    },
    {
      "cell_type": "code",
      "source": [
        "assert vector1 @ vector1 == len(words_set1)\n",
        "assert vector2 @ vector2 == len(words_set2)"
      ],
      "metadata": {
        "id": "g2scHtagh0kZ"
      },
      "execution_count": 21,
      "outputs": []
    },
    {
      "cell_type": "markdown",
      "source": [
        "Essentially, we can compute the Jaccard similarity using only\n",
        "vector operations. \n",
        "\n",
        "This vectorized implementation of Jaccard is called the Tanimoto\n",
        "similarity."
      ],
      "metadata": {
        "id": "7aKBDrQSiLkE"
      }
    },
    {
      "cell_type": "code",
      "source": [
        "# Computing text similarity using vector arithmetic\n",
        "def tanimoto_similarity(vector_a, vector_b):\n",
        "  num_shared = vector_a @ vector_b\n",
        "  num_total = vector_a @ vector_a + vector_b @ vector_b - num_shared\n",
        "  return num_shared / num_total"
      ],
      "metadata": {
        "id": "3NkBG-zTiNUN"
      },
      "execution_count": 22,
      "outputs": []
    },
    {
      "cell_type": "code",
      "source": [
        "for i, text in enumerate([text2, text3], 1):\n",
        "  similarity = tanimoto_similarity(vector1, vectors[i])\n",
        "  assert similarity == jaccard_similarity(text1, text)"
      ],
      "metadata": {
        "id": "68HPPjRrijj3"
      },
      "execution_count": 23,
      "outputs": []
    },
    {
      "cell_type": "markdown",
      "source": [
        "What\n",
        "would happen if we inputted two arrays with values other than 0 or 1? \n",
        "\n",
        "Technically,\n",
        "the function should return a similarity, but would that similarity make sense? \n",
        "\n",
        "For\n",
        "instance, vectors `[5, 3]` and `[5, 2]` are nearly identical. We expect their similarity to be nearly equal to 1.\n",
        "\n",
        "Let’s test our expectations by inputting the vectors."
      ],
      "metadata": {
        "id": "4NwrfCEcjjXa"
      }
    },
    {
      "cell_type": "code",
      "source": [
        "# Computing the similarity of non-binary vectors\n",
        "non_binary_vector1 = np.array([5, 3])\n",
        "non_binary_vector2 = np.array([5, 2])\n",
        "\n",
        "similarity = tanimoto_similarity(non_binary_vector1, non_binary_vector2)\n",
        "print(f\"The similarity of 2 non-binary vectors is {similarity}\")"
      ],
      "metadata": {
        "id": "gjmSyTA9jYiv",
        "outputId": "cc88ed24-5256-493a-ba6c-350051aa9f17",
        "colab": {
          "base_uri": "https://localhost:8080/"
        }
      },
      "execution_count": 24,
      "outputs": [
        {
          "output_type": "stream",
          "name": "stdout",
          "text": [
            "The similarity of 2 non-binary vectors is 0.96875\n"
          ]
        }
      ]
    },
    {
      "cell_type": "markdown",
      "source": [
        "The outputted value is nearly equal to 1. \n",
        "\n",
        "Thus, `tanimoto_similarity` has successfully\n",
        "measured the similarity between two nearly identical vectors. The function can analyze\n",
        "non-binary inputs. \n",
        "\n",
        "This means we can use non-binary techniques to vectorize our\n",
        "texts before comparing their contents."
      ],
      "metadata": {
        "id": "i9w5C-iwj_3T"
      }
    },
    {
      "cell_type": "markdown",
      "source": [
        "##Vectorizing texts using word counts"
      ],
      "metadata": {
        "id": "5PQH4xUhkCyw"
      }
    },
    {
      "cell_type": "markdown",
      "source": [
        "Binary vectorization captures the presence and absence of words in a text, but it\n",
        "doesn’t capture word counts. This is unfortunate since word counts can provide a differentiating\n",
        "signal between texts.\n",
        "\n",
        "A vector of word counts is\n",
        "commonly referred to as a term-frequency vector, or a TF vector for short.\n",
        "\n",
        "Let’s compute\n",
        "the TF vectors of A and B using a two-element vocabulary `{'duck': 0, 'goose': 1}`."
      ],
      "metadata": {
        "id": "waYEuLetoN0Q"
      }
    },
    {
      "cell_type": "code",
      "source": [
        "# Computing TF vector similarity\n",
        "similarity = tanimoto_similarity(np.array([61, 2]), np.array([1, 71]))\n",
        "print(f\"The similarity between texts is approximately {similarity:.3f}\")"
      ],
      "metadata": {
        "id": "kyhAljA9oYpC",
        "outputId": "80fade43-516b-4a2f-fa71-a45c4fd12fbe",
        "colab": {
          "base_uri": "https://localhost:8080/"
        }
      },
      "execution_count": 25,
      "outputs": [
        {
          "output_type": "stream",
          "name": "stdout",
          "text": [
            "The similarity between texts is approximately 0.024\n"
          ]
        }
      ]
    },
    {
      "cell_type": "markdown",
      "source": [
        "Let’s compare it to the binaryvector\n",
        "similarity of the two texts."
      ],
      "metadata": {
        "id": "sKG3z3Yco0QI"
      }
    },
    {
      "cell_type": "code",
      "source": [
        "# Assessing identical vector similarity\n",
        "assert tanimoto_similarity(np.array([1, 1]), np.array([1, 1])) == 1"
      ],
      "metadata": {
        "id": "Ek2aImGpo0wL"
      },
      "execution_count": 26,
      "outputs": []
    },
    {
      "cell_type": "code",
      "source": [
        "# Computing TF vectors from word lists\n",
        "tf_vectors = []\n",
        "for i, words_list in enumerate(words_lists, 1):\n",
        "  tf_vector = np.array([0] * len(vocabulary))\n",
        "  for word in words_list:\n",
        "    word_index = vocabulary[word]\n",
        "    tf_vector[word_index] += 1\n",
        "  tf_vectors.append(tf_vector)\n",
        "\n",
        "sns.heatmap(tf_vectors, cmap=\"YlGnBu\", annot=True, xticklabels=vocabulary.keys(), yticklabels=[\"Text 1\", \"Text 2\", \"Text 3\"])\n",
        "plt.yticks(rotation=0)\n",
        "plt.show()"
      ],
      "metadata": {
        "id": "mlzNdrqApD93",
        "outputId": "2f834836-4c81-4d2f-e9b1-0071b1ef5f84",
        "colab": {
          "base_uri": "https://localhost:8080/",
          "height": 306
        }
      },
      "execution_count": 27,
      "outputs": [
        {
          "output_type": "display_data",
          "data": {
            "text/plain": [
              "<Figure size 432x288 with 2 Axes>"
            ],
            "image/png": "[encoded data removed]"
          },
          "metadata": {
            "needs_background": "light"
          }
        }
      ]
    },
    {
      "cell_type": "code",
      "source": [
        "# Comparing metrics of vector similarity\n",
        "tf_vector1 = tf_vectors[0]\n",
        "binary_vector1 = vectors[0]\n",
        "\n",
        "for i, tf_vector in enumerate(tf_vectors[1:], 2):\n",
        "  similarity = tanimoto_similarity(tf_vector1, tf_vector)\n",
        "  old_similarity = tanimoto_similarity(tf_vector1, vectors[i - 1])\n",
        "  print(f\"The recomputed Tanimoto similarity between texts 1 and {i} is {similarity:.3f}\")\n",
        "  print(f\"Previously, that similarity equaled {old_similarity:.3f} \\n\")"
      ],
      "metadata": {
        "id": "zxuzeeoWqOny",
        "outputId": "ee673386-8b6f-4dbf-f5f1-aec12063c222",
        "colab": {
          "base_uri": "https://localhost:8080/"
        }
      },
      "execution_count": 28,
      "outputs": [
        {
          "output_type": "stream",
          "name": "stdout",
          "text": [
            "The recomputed Tanimoto similarity between texts 1 and 2 is 0.462\n",
            "Previously, that similarity equaled 0.444 \n",
            "\n",
            "The recomputed Tanimoto similarity between texts 1 and 3 is 0.417\n",
            "Previously, that similarity equaled 0.417 \n",
            "\n"
          ]
        }
      ]
    },
    {
      "cell_type": "markdown",
      "source": [
        "TF vectors yield improved comparisons because they’re sensitive to count differences\n",
        "between texts. This sensitivity is useful. However, it can also be detrimental\n",
        "when comparing texts of different lengths."
      ],
      "metadata": {
        "id": "pQJedaZVsZst"
      }
    },
    {
      "cell_type": "markdown",
      "source": [
        "### TF vector similarity using normalization"
      ],
      "metadata": {
        "id": "73C6bZmTsaIP"
      }
    },
    {
      "cell_type": "markdown",
      "source": [
        ""
      ],
      "metadata": {
        "id": "v3nEwM6zsiDX"
      }
    }
  ]
}