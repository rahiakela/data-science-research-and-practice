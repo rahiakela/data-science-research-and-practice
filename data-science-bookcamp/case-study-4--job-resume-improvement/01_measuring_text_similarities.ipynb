{
  "nbformat": 4,
  "nbformat_minor": 0,
  "metadata": {
    "colab": {
      "name": "01-measuring-text-similarities.ipynb",
      "provenance": [],
      "toc_visible": true,
      "authorship_tag": "ABX9TyOOelvOV4Px1b5hpUwzybl/",
      "include_colab_link": true
    },
    "kernelspec": {
      "name": "python3",
      "display_name": "Python 3"
    },
    "language_info": {
      "name": "python"
    }
  },
  "cells": [
    {
      "cell_type": "markdown",
      "metadata": {
        "id": "view-in-github",
        "colab_type": "text"
      },
      "source": [
        "<a href=\"https://colab.research.google.com/github/rahiakela/data-science-research-and-practice/blob/main/data-science-bookcamp/case-study-4--job-resume-improvement/01_measuring_text_similarities.ipynb\" target=\"_parent\"><img src=\"https://colab.research.google.com/assets/colab-badge.svg\" alt=\"Open In Colab\"/></a>"
      ]
    },
    {
      "cell_type": "markdown",
      "source": [
        "##Measuring text similarities"
      ],
      "metadata": {
        "id": "CKQ3xygyzGoH"
      }
    },
    {
      "cell_type": "markdown",
      "source": [
        "In this notebook, we focus on a basic NLP problem: **measuring the similarity between two texts**. \n",
        "\n",
        "We will quickly discover a feasible solution that is not computationally efficient.\n",
        "We will then explore a series of numerical techniques for rapidly computing\n",
        "text similarities."
      ],
      "metadata": {
        "id": "fJsYonsIz1lJ"
      }
    },
    {
      "cell_type": "markdown",
      "source": [
        "##Setup"
      ],
      "metadata": {
        "id": "nEaM8U6Lz_Fg"
      }
    },
    {
      "cell_type": "code",
      "source": [
        "import warnings\n",
        "warnings.filterwarnings('ignore')"
      ],
      "metadata": {
        "id": "gtDg8Oyyz__L"
      },
      "execution_count": 1,
      "outputs": []
    },
    {
      "cell_type": "code",
      "source": [
        "from collections import defaultdict\n",
        "from collections import Counter\n",
        "import numpy as np\n",
        "import pandas as pd\n",
        "\n",
        "import seaborn as sns\n",
        "import matplotlib.pyplot as plt"
      ],
      "metadata": {
        "id": "TobbrwVl0CWF"
      },
      "execution_count": 2,
      "outputs": []
    },
    {
      "cell_type": "markdown",
      "source": [
        "##Simple text comparison"
      ],
      "metadata": {
        "id": "tRYlC_k-0OTX"
      }
    },
    {
      "cell_type": "markdown",
      "source": [
        "Suppose we want to compare three simple texts:\n",
        "\n",
        "```text\n",
        "text1—She sells seashells by the seashore\n",
        "text2—“Seashells! The seashells are on sale! By the seashore.”\n",
        "text3—She sells 3 seashells to John, who lives by the lake.\n",
        "```\n",
        "\n",
        "Our goal is to determine whether `text1` is more similar to `text2` or to `text3`.\n",
        "\n"
      ],
      "metadata": {
        "id": "sTg51MOn0QLf"
      }
    },
    {
      "cell_type": "code",
      "source": [
        "# Assigning texts to variables\n",
        "text1 = \"She sells seashells by the seashore.\"\n",
        "text2 = '\"Seashells! The seashells are on sale! By the seashore.\"'\n",
        "text3 = \"She sells 3 seashells to John, who lives by the lake.\""
      ],
      "metadata": {
        "id": "WCepvD5r0Wq4"
      },
      "execution_count": 3,
      "outputs": []
    },
    {
      "cell_type": "markdown",
      "source": [
        "Now we need to quantify the differences between texts."
      ],
      "metadata": {
        "id": "uvofbc7T05_E"
      }
    },
    {
      "cell_type": "code",
      "source": [
        "# Splitting texts into words\n",
        "words_lists = [text.split() for text in [text1, text2, text3]]\n",
        "words1, words2, words3 = words_lists\n",
        "\n",
        "for i, words in enumerate(words_lists, 1):\n",
        "  print(f\"Words in text {i}\")\n",
        "  print(f\"{words}\\n\")"
      ],
      "metadata": {
        "id": "9gsaUHqR06bp",
        "outputId": "6c1163d5-6785-4a6d-c993-ed6ca5a304a0",
        "colab": {
          "base_uri": "https://localhost:8080/"
        }
      },
      "execution_count": 4,
      "outputs": [
        {
          "output_type": "stream",
          "name": "stdout",
          "text": [
            "Words in text 1\n",
            "['She', 'sells', 'seashells', 'by', 'the', 'seashore.']\n",
            "\n",
            "Words in text 2\n",
            "['\"Seashells!', 'The', 'seashells', 'are', 'on', 'sale!', 'By', 'the', 'seashore.\"']\n",
            "\n",
            "Words in text 3\n",
            "['She', 'sells', '3', 'seashells', 'to', 'John,', 'who', 'lives', 'by', 'the', 'lake.']\n",
            "\n"
          ]
        }
      ]
    },
    {
      "cell_type": "code",
      "source": [
        "# Removing case sensitivity and punctuation\n",
        "def simplify_text(text):\n",
        "  for punctuation in ['.', ',', '!', '?', '\"']:\n",
        "    text = text.replace(punctuation, \"\")\n",
        "  return text.lower()"
      ],
      "metadata": {
        "id": "SHYUPbuJ1gpZ"
      },
      "execution_count": 5,
      "outputs": []
    },
    {
      "cell_type": "code",
      "source": [
        "for i, words in enumerate(words_lists, 1):\n",
        "  for j, word in enumerate(words):\n",
        "    words[j] = simplify_text(word)\n",
        "  print(f\"Words in text {i}\")\n",
        "  print(f\"{words}\\n\")"
      ],
      "metadata": {
        "id": "vxr_TPOa1yOj",
        "outputId": "83cfb349-4a9e-4a5c-df1f-4fb649e469b3",
        "colab": {
          "base_uri": "https://localhost:8080/"
        }
      },
      "execution_count": 6,
      "outputs": [
        {
          "output_type": "stream",
          "name": "stdout",
          "text": [
            "Words in text 1\n",
            "['she', 'sells', 'seashells', 'by', 'the', 'seashore']\n",
            "\n",
            "Words in text 2\n",
            "['seashells', 'the', 'seashells', 'are', 'on', 'sale', 'by', 'the', 'seashore']\n",
            "\n",
            "Words in text 3\n",
            "['she', 'sells', '3', 'seashells', 'to', 'john', 'who', 'lives', 'by', 'the', 'lake']\n",
            "\n"
          ]
        }
      ]
    },
    {
      "cell_type": "code",
      "source": [
        "# Converting word lists to sets\n",
        "words_sets = [set(words) for words in words_lists]\n",
        "for i, unique_words in enumerate(words_sets, 1):\n",
        "  print(f\"Unique Words in text {i}\")\n",
        "  print(f\"{unique_words}\\n\")"
      ],
      "metadata": {
        "id": "37vWSeHg2hDE",
        "outputId": "3a7703b1-7758-4ce2-ece4-01b1763b1960",
        "colab": {
          "base_uri": "https://localhost:8080/"
        }
      },
      "execution_count": 7,
      "outputs": [
        {
          "output_type": "stream",
          "name": "stdout",
          "text": [
            "Unique Words in text 1\n",
            "{'the', 'seashells', 'seashore', 'she', 'sells', 'by'}\n",
            "\n",
            "Unique Words in text 2\n",
            "{'on', 'sale', 'the', 'seashells', 'seashore', 'are', 'by'}\n",
            "\n",
            "Unique Words in text 3\n",
            "{'the', 'seashells', 'who', 'lives', 'she', 'sells', 'to', 'john', 'lake', 'by', '3'}\n",
            "\n"
          ]
        }
      ]
    },
    {
      "cell_type": "code",
      "source": [
        "# Extracting overlapping words between two texts\n",
        "words_set1 = words_sets[0]\n",
        "for i, words_set in enumerate(words_sets[1:], 2):\n",
        "  shared_words = words_set1 & words_set\n",
        "  print(f\"Texts 1 and {i} share these {len(shared_words)} words:\")\n",
        "  print(f\"{shared_words}\\n\")"
      ],
      "metadata": {
        "id": "sVXOROoY6Eco",
        "outputId": "c18b1fa3-4f39-45b1-90f9-9ed1a5ebc815",
        "colab": {
          "base_uri": "https://localhost:8080/"
        }
      },
      "execution_count": 8,
      "outputs": [
        {
          "output_type": "stream",
          "name": "stdout",
          "text": [
            "Texts 1 and 2 share these 4 words:\n",
            "{'by', 'the', 'seashells', 'seashore'}\n",
            "\n",
            "Texts 1 and 3 share these 5 words:\n",
            "{'the', 'seashells', 'she', 'sells', 'by'}\n",
            "\n"
          ]
        }
      ]
    },
    {
      "cell_type": "code",
      "source": [
        "# Extracting diverging words between two texts\n",
        "for i, words_set in enumerate(words_sets[1:], 2):\n",
        "  diverging_words = words_set1 ^ words_set\n",
        "  print(f\"Texts 1 and {i} don't share these {len(diverging_words)} words:\")\n",
        "  print(f\"{diverging_words}\\n\")"
      ],
      "metadata": {
        "id": "rD7E9MVI7AD0",
        "outputId": "08ff2275-96d4-4282-9d1a-ccd6cfca26bb",
        "colab": {
          "base_uri": "https://localhost:8080/"
        }
      },
      "execution_count": 9,
      "outputs": [
        {
          "output_type": "stream",
          "name": "stdout",
          "text": [
            "Texts 1 and 2 don't share these 5 words:\n",
            "{'on', 'sale', 'she', 'sells', 'are'}\n",
            "\n",
            "Texts 1 and 3 don't share these 7 words:\n",
            "{'who', 'lives', 'seashore', 'to', 'john', 'lake', '3'}\n",
            "\n"
          ]
        }
      ]
    },
    {
      "cell_type": "markdown",
      "source": [
        "To combine their overlap and divergence into a single similarity score, we must first combine all overlapping\n",
        "and diverging words between the texts. \n",
        "\n",
        "This aggregation, which is called a union, will\n",
        "contain all the unique words across the two texts."
      ],
      "metadata": {
        "id": "pZklMwBh7Zur"
      }
    },
    {
      "cell_type": "code",
      "source": [
        "# Extracting the union of words between two texts\n",
        "for i, words_set in enumerate(words_sets[1:], 2):\n",
        "  total_words = words_set1 | words_set\n",
        "  print(f\"Together, texts 1 and {i} contain {len(total_words)} unique words. These words are:\\n {total_words}\\n\")"
      ],
      "metadata": {
        "id": "ZNeEwj1XH_sD",
        "outputId": "e0f1cfec-7baa-4489-d2c3-612b9b39c611",
        "colab": {
          "base_uri": "https://localhost:8080/"
        }
      },
      "execution_count": 10,
      "outputs": [
        {
          "output_type": "stream",
          "name": "stdout",
          "text": [
            "Together, texts 1 and 2 contain 9 unique words. These words are:\n",
            " {'on', 'sale', 'the', 'seashells', 'seashore', 'she', 'sells', 'are', 'by'}\n",
            "\n",
            "Together, texts 1 and 3 contain 12 unique words. These words are:\n",
            " {'the', 'seashells', 'seashore', 'who', 'lives', 'sells', 'john', '3', 'she', 'lake', 'to', 'by'}\n",
            "\n"
          ]
        }
      ]
    },
    {
      "cell_type": "markdown",
      "source": [
        "Accordingly, both overlap and divergence represent complementary\n",
        "percentages of the total unique word count across texts."
      ],
      "metadata": {
        "id": "5iNostovIpvG"
      }
    },
    {
      "cell_type": "code",
      "source": [
        "# Extracting the percentage of shared words between two texts\n",
        "for i, words_set in enumerate(words_sets[1:], 2):\n",
        "  shared_words = words_set1 & words_set\n",
        "  diverging_words = words_set1 ^ words_set\n",
        "  total_words = words_set1 | words_set\n",
        "  assert len(total_words) == len(shared_words) + len(diverging_words)\n",
        "\n",
        "  # Percent of total words shared with text 1\n",
        "  percent_shared = 100 * len(shared_words) / len(total_words)\n",
        "  # Percent of total words that diverge from text 1 \n",
        "  percent_diverging = 100 * len(diverging_words) / len(total_words)\n",
        "\n",
        "  print(f\"Together, texts 1 and {i} contain {len(total_words)} unique words. \\n{percent_shared:.2f}% of these words are shared.\\n{percent_diverging:.2f}% of these words diverge.\\n\")"
      ],
      "metadata": {
        "id": "NI-ab1ClIqOb",
        "outputId": "9c91257c-2135-4c67-b281-46dd66cf37bb",
        "colab": {
          "base_uri": "https://localhost:8080/"
        }
      },
      "execution_count": 11,
      "outputs": [
        {
          "output_type": "stream",
          "name": "stdout",
          "text": [
            "Together, texts 1 and 2 contain 9 unique words. \n",
            "44.44% of these words are shared.\n",
            "55.56% of these words diverge.\n",
            "\n",
            "Together, texts 1 and 3 contain 12 unique words. \n",
            "41.67% of these words are shared.\n",
            "58.33% of these words diverge.\n",
            "\n"
          ]
        }
      ]
    },
    {
      "cell_type": "markdown",
      "source": [
        "We’ve essentially developed a simple metric for assessing similarities between texts.\n",
        "\n",
        "This similarity metric is referred to as the Jaccard similarity, or the Jaccard index."
      ],
      "metadata": {
        "id": "ysjoVu4AKUhK"
      }
    },
    {
      "cell_type": "markdown",
      "source": [
        "##Exploring the Jaccard similarity"
      ],
      "metadata": {
        "id": "VTRCmi4XKLus"
      }
    },
    {
      "cell_type": "markdown",
      "source": [
        "The Jaccard similarity is a reasonable measure of text resemblance for the following reasons:\n",
        "\n",
        "* The similarity takes into account both text overlap and text divergence.\n",
        "* The fractional similarity is always between 0 and 1. The fraction is easy to interpret: 0 indicates that no words are shared, 0.5 indicates that half the words are shared, and 1 indicates that all the words are shared.\n",
        "* The similarity is simple to implement."
      ],
      "metadata": {
        "id": "EJAW90_GKOc_"
      }
    },
    {
      "cell_type": "code",
      "source": [
        "# Computing the Jaccard similarity\n",
        "def jaccard_similarity(text_a, text_b):\n",
        "  word_set_a, word_set_b = [set(simplify_text(text).split()) for text in [text_a, text_b]]\n",
        "  num_shared = len(word_set_a & word_set_b)\n",
        "  num_total = len(word_set_a | word_set_b)\n",
        "  return num_shared / num_total"
      ],
      "metadata": {
        "id": "rBT635wt9gjp"
      },
      "execution_count": 17,
      "outputs": []
    },
    {
      "cell_type": "code",
      "source": [
        "for text in [text2, text3]:\n",
        "  similarity = jaccard_similarity(text1, text)\n",
        "  print(f\"Text comparison:\\n\\t{text1}\\n\\t{text}\\nThe Jaccard similarity is {similarity:.2f}\\n\")"
      ],
      "metadata": {
        "id": "W3O0Jt8w-FlI",
        "outputId": "3249017a-6025-4da8-fcfa-5e3218c207b8",
        "colab": {
          "base_uri": "https://localhost:8080/"
        }
      },
      "execution_count": 15,
      "outputs": [
        {
          "output_type": "stream",
          "name": "stdout",
          "text": [
            "Text comparison:\n",
            "\tShe sells seashells by the seashore.\n",
            "\t\"Seashells! The seashells are on sale! By the seashore.\"\n",
            "The Jaccard similarity is 0.44\n",
            "\n",
            "Text comparison:\n",
            "\tShe sells seashells by the seashore.\n",
            "\tShe sells 3 seashells to John, who lives by the lake.\n",
            "The Jaccard similarity is 0.42\n",
            "\n"
          ]
        }
      ]
    },
    {
      "cell_type": "code",
      "source": [
        "# Efficiently computing the Jaccard similarity\n",
        "def jaccard_similarity_efficient(text_a, text_b):\n",
        "  word_set_a, word_set_b = [set(simplify_text(text).split()) for text in [text_a, text_b]]\n",
        "  num_shared = len(word_set_a & word_set_b)\n",
        "  num_total = len(word_set_a) + len(word_set_b) - num_shared\n",
        "  return num_shared / num_total"
      ],
      "metadata": {
        "id": "bjO4DHbmAYuy"
      },
      "execution_count": 18,
      "outputs": []
    },
    {
      "cell_type": "code",
      "source": [
        "for text in [text2, text3]:\n",
        "  similarity = jaccard_similarity_efficient(text1, text)\n",
        "  assert similarity == jaccard_similarity(text1, text)\n",
        "  print(f\"Text comparison:\\n\\t{text1}\\n\\t{text}\\nThe Jaccard similarity is {similarity:.2f}\\n\")"
      ],
      "metadata": {
        "id": "Gh8TNVm4AlUr",
        "outputId": "a85531e9-4f2a-4405-b3f7-7c31400df43d",
        "colab": {
          "base_uri": "https://localhost:8080/"
        }
      },
      "execution_count": 19,
      "outputs": [
        {
          "output_type": "stream",
          "name": "stdout",
          "text": [
            "Text comparison:\n",
            "\tShe sells seashells by the seashore.\n",
            "\t\"Seashells! The seashells are on sale! By the seashore.\"\n",
            "The Jaccard similarity is 0.44\n",
            "\n",
            "Text comparison:\n",
            "\tShe sells seashells by the seashore.\n",
            "\tShe sells 3 seashells to John, who lives by the lake.\n",
            "The Jaccard similarity is 0.42\n",
            "\n"
          ]
        }
      ]
    },
    {
      "cell_type": "markdown",
      "source": [
        "##Replacing words with numeric values"
      ],
      "metadata": {
        "id": "vx1cEHLuA_pZ"
      }
    },
    {
      "cell_type": "markdown",
      "source": [
        ""
      ],
      "metadata": {
        "id": "evDQMNW9BAfB"
      }
    }
  ]
}