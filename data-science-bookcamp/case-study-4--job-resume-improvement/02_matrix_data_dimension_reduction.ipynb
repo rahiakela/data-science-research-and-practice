{
  "nbformat": 4,
  "nbformat_minor": 0,
  "metadata": {
    "colab": {
      "name": "02-matrix-data-dimension-reduction.ipynb",
      "provenance": [],
      "toc_visible": true,
      "authorship_tag": "ABX9TyPRxmbq8MZ7qmJb7iKFTswb",
      "include_colab_link": true
    },
    "kernelspec": {
      "name": "python3",
      "display_name": "Python 3"
    },
    "language_info": {
      "name": "python"
    }
  },
  "cells": [
    {
      "cell_type": "markdown",
      "metadata": {
        "id": "view-in-github",
        "colab_type": "text"
      },
      "source": [
        "<a href=\"https://colab.research.google.com/github/rahiakela/data-science-research-and-practice/blob/main/data-science-bookcamp/case-study-4--job-resume-improvement/02_matrix_data_dimension_reduction.ipynb\" target=\"_parent\"><img src=\"https://colab.research.google.com/assets/colab-badge.svg\" alt=\"Open In Colab\"/></a>"
      ]
    },
    {
      "cell_type": "markdown",
      "source": [
        "##Dimension reduction of matrix data"
      ],
      "metadata": {
        "id": "CKQ3xygyzGoH"
      }
    },
    {
      "cell_type": "markdown",
      "source": [
        "Dimension reduction is a series of techniques for shrinking data while retaining its\n",
        "information content. These techniques permeate many of our everyday digital\n",
        "activities.\n",
        "\n",
        "These are the following advantages of dimensionally reduced data:\n",
        "* More compact data is easier to transfer and store.\n",
        "* Algorithmic tasks require less time when our data is smaller.\n",
        "* Certain complex tasks, like cluster detection, can be simplified by removing\n",
        "unnecessary information.\n",
        "\n",
        "We want to cluster thousands\n",
        "of text documents by topic. The clustering will entail computing a matrix of all-by-all document similarities.\n",
        "\n",
        "As we know, this computation can be slow. Dimension reduction can speed up the process by reducing the number\n",
        "of data matrix columns. \n",
        "\n",
        "As a further bonus, dimensionally reduced text data has been\n",
        "shown to yield higher-quality topic clusters."
      ],
      "metadata": {
        "id": "fJsYonsIz1lJ"
      }
    },
    {
      "cell_type": "markdown",
      "source": [
        "##Setup"
      ],
      "metadata": {
        "id": "nEaM8U6Lz_Fg"
      }
    },
    {
      "cell_type": "code",
      "source": [
        "import warnings\n",
        "warnings.filterwarnings('ignore')"
      ],
      "metadata": {
        "id": "gtDg8Oyyz__L"
      },
      "execution_count": 2,
      "outputs": []
    },
    {
      "cell_type": "code",
      "source": [
        "from collections import defaultdict\n",
        "from collections import Counter\n",
        "import time\n",
        "import numpy as np\n",
        "import pandas as pd\n",
        "\n",
        "from scipy.spatial.distance import euclidean\n",
        "from numpy.linalg import norm\n",
        "\n",
        "import seaborn as sns\n",
        "import matplotlib.pyplot as plt"
      ],
      "metadata": {
        "id": "TobbrwVl0CWF"
      },
      "execution_count": 3,
      "outputs": []
    },
    {
      "cell_type": "markdown",
      "source": [
        "##Clustering 2D data in one dimension"
      ],
      "metadata": {
        "id": "tRYlC_k-0OTX"
      }
    },
    {
      "cell_type": "markdown",
      "source": [
        "Dimension reduction has many uses, including more interpretable clustering.\n",
        "\n",
        "Let’s start by simulating customer heights. Our heights range from\n",
        "60 inches (5 ft) to 78 inches (6.5 ft). We fabricate these heights by calling\n",
        "np.arange(60, 78, 0.1). \n",
        "\n",
        "This returns an array of heights between 60 and 78 inches,\n",
        "where each consecutive height increases by 0.1 inches."
      ],
      "metadata": {
        "id": "sTg51MOn0QLf"
      }
    },
    {
      "cell_type": "code",
      "source": [
        "# Simulating a range of heights\n",
        "heights = np.arange(60, 78, 0.1)"
      ],
      "metadata": {
        "id": "WCepvD5r0Wq4"
      },
      "execution_count": 4,
      "outputs": []
    },
    {
      "cell_type": "markdown",
      "source": [
        "It has been shown that, on average, a person’s\n",
        "weight in pounds equals approximately `4 * height - 130`. \n",
        "\n",
        "Of course, each individual\n",
        "person’s weight fluctuates around this average value."
      ],
      "metadata": {
        "id": "uvofbc7T05_E"
      }
    },
    {
      "cell_type": "code",
      "source": [
        "# Simulating weights using heights\n",
        "np.random.seed(0)\n",
        "\n",
        "random_fluctuations = np.random.normal(scale=10, size=heights.size)\n",
        "weights = 4 * heights - 130 + random_fluctuations"
      ],
      "metadata": {
        "id": "9gsaUHqR06bp"
      },
      "execution_count": 5,
      "outputs": []
    },
    {
      "cell_type": "markdown",
      "source": [
        "Let’s store and plot these measured coordinates."
      ],
      "metadata": {
        "id": "OZSLuEPIe1hc"
      }
    },
    {
      "cell_type": "code",
      "source": [
        "measurements = np.array([heights, weights])\n",
        "\n",
        "plt.scatter(measurements[0], measurements[1])\n",
        "plt.xlabel(\"Height (in)\")\n",
        "plt.ylabel(\"Weight (lb)\")\n",
        "plt.show()"
      ],
      "metadata": {
        "id": "SHYUPbuJ1gpZ",
        "colab": {
          "base_uri": "https://localhost:8080/",
          "height": 279
        },
        "outputId": "2d9cef0c-ff06-4332-da75-2eb2c3fca569"
      },
      "execution_count": 6,
      "outputs": [
        {
          "output_type": "display_data",
          "data": {
            "text/plain": [
              "<Figure size 432x288 with 1 Axes>"
            ],
            "image/png": "[encoded data removed]"
          },
          "metadata": {
            "needs_background": "light"
          }
        }
      ]
    },
    {
      "cell_type": "markdown",
      "source": [
        "As a reminder, Matplotlib manipulates its 2D axes to make the final plot aesthetically pleasing. Normally, this is a good thing. \n",
        "\n",
        "However, we’ll soon be rotating the plot to simplify our data. The rotation\n",
        "will shift the axes scaling, making the rotated data difficult to compare with the original data plot. \n",
        "\n",
        "Consequently, we should equalize our axes to obtain consistent visual\n",
        "output.\n",
        "\n",
        "Let’s equalize the axes and hen regenerate the plot."
      ],
      "metadata": {
        "id": "w2n8UnF4fk1e"
      }
    },
    {
      "cell_type": "code",
      "source": [
        "# Plotting 2D measurements using equally scaled axes\n",
        "plt.scatter(measurements[0], measurements[1])\n",
        "plt.xlabel(\"Height (in)\")\n",
        "plt.ylabel(\"Weight (lb)\")\n",
        "plt.axis(\"equal\")\n",
        "plt.show()"
      ],
      "metadata": {
        "colab": {
          "base_uri": "https://localhost:8080/",
          "height": 279
        },
        "id": "ANhKc1npf3HO",
        "outputId": "06b0aeee-147a-4dc7-b933-0f498cdb822b"
      },
      "execution_count": 7,
      "outputs": [
        {
          "output_type": "display_data",
          "data": {
            "text/plain": [
              "<Figure size 432x288 with 1 Axes>"
            ],
            "image/png": "[encoded data removed]"
          },
          "metadata": {
            "needs_background": "light"
          }
        }
      ]
    },
    {
      "cell_type": "markdown",
      "source": [
        "If we rotate our data toward the x-axis, the horizontal x-values should be sufficient to\n",
        "distinguish between points. We can thus cluster the data without relying on the vertical y-values. \n",
        "\n",
        "Effectively, we’ll be able to delete the y-values with minimal information loss.\n",
        "That deletion will reduce our data from two dimensions to one."
      ],
      "metadata": {
        "id": "vTgMcB4LgO2G"
      }
    },
    {
      "cell_type": "markdown",
      "source": [
        "###Reducing dimensions using rotation"
      ],
      "metadata": {
        "id": "KoPVq13vhrpx"
      }
    },
    {
      "cell_type": "markdown",
      "source": [
        ""
      ],
      "metadata": {
        "id": "i3yrzb_ohs4Y"
      }
    },
    {
      "cell_type": "code",
      "source": [
        "# Rotating the plot\n",
        "centered_data = np.array([heights - heights.mean(), weights - weights.mean()])\n",
        "\n",
        "plt.scatter(centered_data[0], centered_data[1])\n",
        "# Visualizes the x-axis and y-axis to mark the location of the origin\n",
        "plt.axhline(0, c=\"black\")\n",
        "plt.axvline(0, c=\"black\")\n",
        "plt.xlabel(\"Centralized Height (in)\")\n",
        "plt.ylabel(\"Centralized Weight (lb)\")\n",
        "plt.axis(\"equal\")\n",
        "plt.show()"
      ],
      "metadata": {
        "id": "fcDHOYXThzU9"
      },
      "execution_count": null,
      "outputs": []
    }
  ]
}