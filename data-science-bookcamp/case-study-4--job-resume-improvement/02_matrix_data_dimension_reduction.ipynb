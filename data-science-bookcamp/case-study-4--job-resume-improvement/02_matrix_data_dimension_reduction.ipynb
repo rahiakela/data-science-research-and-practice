{
  "nbformat": 4,
  "nbformat_minor": 0,
  "metadata": {
    "colab": {
      "name": "02-matrix-data-dimension-reduction.ipynb",
      "provenance": [],
      "toc_visible": true,
      "authorship_tag": "ABX9TyMcMpdMAIOIrjMEw1cQQH6q",
      "include_colab_link": true
    },
    "kernelspec": {
      "name": "python3",
      "display_name": "Python 3"
    },
    "language_info": {
      "name": "python"
    }
  },
  "cells": [
    {
      "cell_type": "markdown",
      "metadata": {
        "id": "view-in-github",
        "colab_type": "text"
      },
      "source": [
        "<a href=\"https://colab.research.google.com/github/rahiakela/data-science-research-and-practice/blob/main/data-science-bookcamp/case-study-4--job-resume-improvement/02_matrix_data_dimension_reduction.ipynb\" target=\"_parent\"><img src=\"https://colab.research.google.com/assets/colab-badge.svg\" alt=\"Open In Colab\"/></a>"
      ]
    },
    {
      "cell_type": "markdown",
      "source": [
        "##Dimension reduction of matrix data"
      ],
      "metadata": {
        "id": "CKQ3xygyzGoH"
      }
    },
    {
      "cell_type": "markdown",
      "source": [
        "Dimension reduction is a series of techniques for shrinking data while retaining its\n",
        "information content. These techniques permeate many of our everyday digital\n",
        "activities.\n",
        "\n",
        "These are the following advantages of dimensionally reduced data:\n",
        "* More compact data is easier to transfer and store.\n",
        "* Algorithmic tasks require less time when our data is smaller.\n",
        "* Certain complex tasks, like cluster detection, can be simplified by removing\n",
        "unnecessary information.\n",
        "\n",
        "We want to cluster thousands\n",
        "of text documents by topic. The clustering will entail computing a matrix of all-by-all document similarities.\n",
        "\n",
        "As we know, this computation can be slow. Dimension reduction can speed up the process by reducing the number\n",
        "of data matrix columns. \n",
        "\n",
        "As a further bonus, dimensionally reduced text data has been\n",
        "shown to yield higher-quality topic clusters."
      ],
      "metadata": {
        "id": "fJsYonsIz1lJ"
      }
    },
    {
      "cell_type": "markdown",
      "source": [
        "##Setup"
      ],
      "metadata": {
        "id": "nEaM8U6Lz_Fg"
      }
    },
    {
      "cell_type": "code",
      "source": [
        "import warnings\n",
        "warnings.filterwarnings('ignore')"
      ],
      "metadata": {
        "id": "gtDg8Oyyz__L"
      },
      "execution_count": 1,
      "outputs": []
    },
    {
      "cell_type": "code",
      "source": [
        "from collections import defaultdict\n",
        "from collections import Counter\n",
        "import time\n",
        "import numpy as np\n",
        "import pandas as pd\n",
        "from math import sin, cos\n",
        "\n",
        "from sklearn.decomposition import PCA\n",
        "\n",
        "from scipy.spatial.distance import euclidean\n",
        "from numpy.linalg import norm\n",
        "\n",
        "import seaborn as sns\n",
        "import matplotlib.pyplot as plt"
      ],
      "metadata": {
        "id": "TobbrwVl0CWF"
      },
      "execution_count": 24,
      "outputs": []
    },
    {
      "cell_type": "markdown",
      "source": [
        "##Clustering 2D data in one dimension"
      ],
      "metadata": {
        "id": "tRYlC_k-0OTX"
      }
    },
    {
      "cell_type": "markdown",
      "source": [
        "Dimension reduction has many uses, including more interpretable clustering.\n",
        "\n",
        "Let’s start by simulating customer heights. Our heights range from\n",
        "60 inches (5 ft) to 78 inches (6.5 ft). We fabricate these heights by calling\n",
        "np.arange(60, 78, 0.1). \n",
        "\n",
        "This returns an array of heights between 60 and 78 inches,\n",
        "where each consecutive height increases by 0.1 inches."
      ],
      "metadata": {
        "id": "sTg51MOn0QLf"
      }
    },
    {
      "cell_type": "code",
      "source": [
        "# Simulating a range of heights\n",
        "heights = np.arange(60, 78, 0.1)"
      ],
      "metadata": {
        "id": "WCepvD5r0Wq4"
      },
      "execution_count": 3,
      "outputs": []
    },
    {
      "cell_type": "markdown",
      "source": [
        "It has been shown that, on average, a person’s\n",
        "weight in pounds equals approximately `4 * height - 130`. \n",
        "\n",
        "Of course, each individual\n",
        "person’s weight fluctuates around this average value."
      ],
      "metadata": {
        "id": "uvofbc7T05_E"
      }
    },
    {
      "cell_type": "code",
      "source": [
        "# Simulating weights using heights\n",
        "np.random.seed(0)\n",
        "\n",
        "random_fluctuations = np.random.normal(scale=10, size=heights.size)\n",
        "weights = 4 * heights - 130 + random_fluctuations"
      ],
      "metadata": {
        "id": "9gsaUHqR06bp"
      },
      "execution_count": 4,
      "outputs": []
    },
    {
      "cell_type": "markdown",
      "source": [
        "Let’s store and plot these measured coordinates."
      ],
      "metadata": {
        "id": "OZSLuEPIe1hc"
      }
    },
    {
      "cell_type": "code",
      "source": [
        "measurements = np.array([heights, weights])\n",
        "\n",
        "plt.scatter(measurements[0], measurements[1])\n",
        "plt.xlabel(\"Height (in)\")\n",
        "plt.ylabel(\"Weight (lb)\")\n",
        "plt.show()"
      ],
      "metadata": {
        "id": "SHYUPbuJ1gpZ",
        "colab": {
          "base_uri": "https://localhost:8080/",
          "height": 279
        },
        "outputId": "cc98f362-9d62-454e-cfac-b2036967e6f5"
      },
      "execution_count": 5,
      "outputs": [
        {
          "output_type": "display_data",
          "data": {
            "text/plain": [
              "<Figure size 432x288 with 1 Axes>"
            ],
            "image/png": "[encoded data removed]"
          },
          "metadata": {
            "needs_background": "light"
          }
        }
      ]
    },
    {
      "cell_type": "markdown",
      "source": [
        "As a reminder, Matplotlib manipulates its 2D axes to make the final plot aesthetically pleasing. Normally, this is a good thing. \n",
        "\n",
        "However, we’ll soon be rotating the plot to simplify our data. The rotation\n",
        "will shift the axes scaling, making the rotated data difficult to compare with the original data plot. \n",
        "\n",
        "Consequently, we should equalize our axes to obtain consistent visual\n",
        "output.\n",
        "\n",
        "Let’s equalize the axes and hen regenerate the plot."
      ],
      "metadata": {
        "id": "w2n8UnF4fk1e"
      }
    },
    {
      "cell_type": "code",
      "source": [
        "# Plotting 2D measurements using equally scaled axes\n",
        "plt.scatter(measurements[0], measurements[1])\n",
        "plt.xlabel(\"Height (in)\")\n",
        "plt.ylabel(\"Weight (lb)\")\n",
        "plt.axis(\"equal\")\n",
        "plt.show()"
      ],
      "metadata": {
        "colab": {
          "base_uri": "https://localhost:8080/",
          "height": 279
        },
        "id": "ANhKc1npf3HO",
        "outputId": "e26bdab1-98dc-498a-f020-a107b9a35f69"
      },
      "execution_count": 6,
      "outputs": [
        {
          "output_type": "display_data",
          "data": {
            "text/plain": [
              "<Figure size 432x288 with 1 Axes>"
            ],
            "image/png": "[encoded data removed]"
          },
          "metadata": {
            "needs_background": "light"
          }
        }
      ]
    },
    {
      "cell_type": "markdown",
      "source": [
        "If we rotate our data toward the x-axis, the horizontal x-values should be sufficient to\n",
        "distinguish between points. We can thus cluster the data without relying on the vertical y-values. \n",
        "\n",
        "Effectively, we’ll be able to delete the y-values with minimal information loss.\n",
        "That deletion will reduce our data from two dimensions to one."
      ],
      "metadata": {
        "id": "vTgMcB4LgO2G"
      }
    },
    {
      "cell_type": "markdown",
      "source": [
        "###Reducing dimensions using rotation"
      ],
      "metadata": {
        "id": "KoPVq13vhrpx"
      }
    },
    {
      "cell_type": "markdown",
      "source": [
        "Centering our data at the origin is trivial. The central point of every dataset is equal to\n",
        "its mean. \n",
        "\n",
        "Thus, we need to adjust our coordinates so that their x-value mean and y-value\n",
        "mean both equal zero.\n",
        "\n",
        "Let’s shift our height and weight coordinates and store these changes in a `centered_data` array. Then we plot the shifted coordinates to verify that they are centered on the origin."
      ],
      "metadata": {
        "id": "i3yrzb_ohs4Y"
      }
    },
    {
      "cell_type": "code",
      "source": [
        "# Centering the measurements at the origin\n",
        "centered_data = np.array([heights - heights.mean(), weights - weights.mean()])\n",
        "\n",
        "plt.scatter(centered_data[0], centered_data[1])\n",
        "# Visualizes the x-axis and y-axis to mark the location of the origin\n",
        "plt.axhline(0, c=\"black\")\n",
        "plt.axvline(0, c=\"black\")\n",
        "plt.xlabel(\"Centralized Height (in)\")\n",
        "plt.ylabel(\"Centralized Weight (lb)\")\n",
        "plt.axis(\"equal\")\n",
        "plt.show()"
      ],
      "metadata": {
        "id": "fcDHOYXThzU9",
        "outputId": "83b628eb-7533-4be0-97bc-3b792ee60b77",
        "colab": {
          "base_uri": "https://localhost:8080/",
          "height": 279
        }
      },
      "execution_count": 7,
      "outputs": [
        {
          "output_type": "display_data",
          "data": {
            "text/plain": [
              "<Figure size 432x288 with 1 Axes>"
            ],
            "image/png": "[encoded data removed]"
          },
          "metadata": {
            "needs_background": "light"
          }
        }
      ]
    },
    {
      "cell_type": "markdown",
      "source": [
        "Our data is now perfectly centered at the origin. However, the orientation of the data\n",
        "is closer to the y-axis than the x-axis. Our goal is to adjust this orientation through\n",
        "rotation. \n",
        "\n",
        "We want to spin the plotted points around the origin until they overlap with\n",
        "the x-axis. Rotating a 2D plot around its center requires the use of a rotation matrix.\n",
        "\n",
        "Let’s utilize the rotation matrix to rotate `centered_data` clockwise by 90 degrees."
      ],
      "metadata": {
        "id": "rxF94rq7eUlW"
      }
    },
    {
      "cell_type": "code",
      "source": [
        "# Rotating centered_data by 90 degrees\n",
        "angle = np.radians(-90)\n",
        "rotation_matrix = np.array([\n",
        "  [cos(angle), -sin(angle)],\n",
        "  [sin(angle), cos(angle)]                         \n",
        "])\n",
        "\n",
        "rotated_data = rotation_matrix @ centered_data\n",
        "\n",
        "plt.scatter(centered_data[0], centered_data[1], label=\"Original Data\")\n",
        "plt.scatter(rotated_data[0], rotated_data[1], c=\"y\", label=\"Rotated Data\")\n",
        "plt.axhline(0, c=\"black\")\n",
        "plt.axvline(0, c=\"black\")\n",
        "plt.legend()\n",
        "plt.axis(\"equal\")\n",
        "plt.show()"
      ],
      "metadata": {
        "id": "M_BHnajoeoJ4",
        "outputId": "813b0cea-82d7-4a52-98fa-c0e918ad414a",
        "colab": {
          "base_uri": "https://localhost:8080/",
          "height": 265
        }
      },
      "execution_count": 8,
      "outputs": [
        {
          "output_type": "display_data",
          "data": {
            "text/plain": [
              "<Figure size 432x288 with 1 Axes>"
            ],
            "image/png": "[encoded data removed]"
          },
          "metadata": {
            "needs_background": "light"
          }
        }
      ]
    },
    {
      "cell_type": "markdown",
      "source": [
        "Our rotation has shifted\n",
        "the plot closer to the x-axis. We need a way to quantify this shift. Let’s generate a penalty\n",
        "score that decreases as the data is rotated toward the x-axis.\n",
        "\n",
        "We’ll penalize all vertical y-axis values. Our penalty is based on the concept of\n",
        "squared distance."
      ],
      "metadata": {
        "id": "Av7CMcN4hOev"
      }
    },
    {
      "cell_type": "code",
      "source": [
        "# Penalizing vertical y-values\n",
        "data_labels = [\"unrotated\", \"rotated\"]\n",
        "data_list = [centered_data, rotated_data]\n",
        "\n",
        "for data_label, data in zip(data_labels, data_list):\n",
        "  y_values = data[1]\n",
        "  penalty = y_values @ y_values / y_values.size\n",
        "  print(f\"The penalty score for the {data_label} data is {penalty:.2f}\")"
      ],
      "metadata": {
        "id": "fmfdkDPIhaQc",
        "outputId": "df9dae7c-635a-4be1-8089-184b336a9a81",
        "colab": {
          "base_uri": "https://localhost:8080/"
        }
      },
      "execution_count": 9,
      "outputs": [
        {
          "output_type": "stream",
          "name": "stdout",
          "text": [
            "The penalty score for the unrotated data is 519.82\n",
            "The penalty score for the rotated data is 27.00\n"
          ]
        }
      ]
    },
    {
      "cell_type": "markdown",
      "source": [
        "Rotating the data has reduced the penalty score by more than 20-fold. This reduction\n",
        "carries a statistical interpretation.\n",
        "\n",
        "We’ve inferred that the penalty score equals the y-axis variance.\n",
        "\n",
        "Consequently, our\n",
        "data rotation has reduced the y-axis variance by more than 20-fold. \n",
        "\n",
        "Let’s confirm."
      ],
      "metadata": {
        "id": "W6YHmZgWiIkK"
      }
    },
    {
      "cell_type": "code",
      "source": [
        "# Equating penalties with y-axis variance\n",
        "for data_label, data in zip(data_labels, data_list):\n",
        "  y_var = data[1].var()\n",
        "  penalty = data[1] @ data[1] / data[0].size\n",
        "  assert round(y_var, 14) == round(penalty, 14)\n",
        "  print(f\"The y-axis variance for the {data_label} data is {y_var:.2f}\")"
      ],
      "metadata": {
        "id": "Dj2kd29giQ1r",
        "outputId": "47c2bfbf-2df6-4bfe-e1d8-88a32929a718",
        "colab": {
          "base_uri": "https://localhost:8080/"
        }
      },
      "execution_count": 10,
      "outputs": [
        {
          "output_type": "stream",
          "name": "stdout",
          "text": [
            "The y-axis variance for the unrotated data is 519.82\n",
            "The y-axis variance for the rotated data is 27.00\n"
          ]
        }
      ]
    },
    {
      "cell_type": "markdown",
      "source": [
        "We can score rotations based on variance. Rotating the data toward the x-axis reduces\n",
        "the variance along the y-axis. \n",
        "\n",
        "How does this rotation influence the variance along the\n",
        "x-axis? \n",
        "\n",
        "Let’s find out."
      ],
      "metadata": {
        "id": "L1NyvvYii33A"
      }
    },
    {
      "cell_type": "code",
      "source": [
        "# Measuring rotational x-axis variance\n",
        "for data_label, data in zip(data_labels, data_list):\n",
        "  x_var = data[0].var()\n",
        "  print(f\"The x-axis variance for the {data_label} data is {x_var:.2f}\")"
      ],
      "metadata": {
        "id": "mfSYXm0Ni7dP",
        "outputId": "ba48faf4-78e5-424f-b22d-82c1c5f0e41d",
        "colab": {
          "base_uri": "https://localhost:8080/"
        }
      },
      "execution_count": 11,
      "outputs": [
        {
          "output_type": "stream",
          "name": "stdout",
          "text": [
            "The x-axis variance for the unrotated data is 27.00\n",
            "The x-axis variance for the rotated data is 519.82\n"
          ]
        }
      ]
    },
    {
      "cell_type": "markdown",
      "source": [
        "The rotation has completely flipped the x-axis variance and the y-axis variance. \n",
        "\n",
        "However, the total sum of variance values has remained unchanged. Total variance is conserved\n",
        "even after the rotation. \n",
        "\n",
        "Let’s verify this fact."
      ],
      "metadata": {
        "id": "euwjzcj-jWlo"
      }
    },
    {
      "cell_type": "code",
      "source": [
        "# Confirming the conservation of total variance\n",
        "total_variance = centered_data[0].var() + centered_data[1].var()\n",
        "assert total_variance == rotated_data[0].var() + rotated_data[1].var()"
      ],
      "metadata": {
        "id": "TGsN0zIfjbbB"
      },
      "execution_count": 12,
      "outputs": []
    },
    {
      "cell_type": "markdown",
      "source": [
        "Conservation of variance allows us to infer the following:\n",
        "\n",
        "* x-axis variance and y-axis variance can be combined into a single percentage\n",
        "score.\n",
        "* Decreasing the vertical dispersion\n",
        "by p percent increases the horizontal dispersion by p percent.\n",
        "\n",
        "Let's confirms these conclusions."
      ],
      "metadata": {
        "id": "BAeSSsHPArFd"
      }
    },
    {
      "cell_type": "code",
      "source": [
        "# Exploring the percent coverage of axis variance\n",
        "for data_label, data in zip(data_labels, data_list):\n",
        "  percent_x_axis_var = 100 * data[0].var() / total_variance\n",
        "  percent_y_axis_var = 100 * data[1].var() / total_variance\n",
        "  print(f\"In the {data_label} data, {percent_x_axis_var:.2f} of the total variance is distributed across the x-axis\")\n",
        "  print(f\"The remaining {percent_y_axis_var:.2f} of the total variance is distributed across the y-axis\")"
      ],
      "metadata": {
        "id": "7bni8656A3PY",
        "outputId": "933f3558-58fa-49d6-f097-f82a9f9dd695",
        "colab": {
          "base_uri": "https://localhost:8080/"
        }
      },
      "execution_count": 13,
      "outputs": [
        {
          "output_type": "stream",
          "name": "stdout",
          "text": [
            "In the unrotated data, 4.94 of the total variance is distributed across the x-axis\n",
            "The remaining 95.06 of the total variance is distributed across the y-axis\n",
            "In the rotated data, 95.06 of the total variance is distributed across the x-axis\n",
            "The remaining 4.94 of the total variance is distributed across the y-axis\n"
          ]
        }
      ]
    },
    {
      "cell_type": "markdown",
      "source": [
        "Rotating the data toward the x-axis has increased the x-axis variance by 90 percentage\n",
        "points. \n",
        "\n",
        "Simultaneously, the rotation has reduced the y-axis variance by these same 90\n",
        "percentage points.\n",
        "\n",
        "Let’s rotate centered_data even further until its distance to the x-axis is minimized."
      ],
      "metadata": {
        "id": "AcvjNPNTBrGH"
      }
    },
    {
      "cell_type": "code",
      "source": [
        "# Maximizing horizontal dispersion\n",
        "def rotate(angle, data=centered_data):\n",
        "  angle = np.radians(-angle)\n",
        "  rotation_matrix = np.array([\n",
        "    [cos(angle), -sin(angle)],\n",
        "    [sin(angle), cos(angle)]                            \n",
        "  ])\n",
        "  return rotation_matrix @ data"
      ],
      "metadata": {
        "id": "Nsd3E569Bxg3"
      },
      "execution_count": 14,
      "outputs": []
    },
    {
      "cell_type": "code",
      "source": [
        "# Returns an array of angles ranging from 0 to 180, where each consecutive angle increases by 0.1 degrees\n",
        "angles = np.arange(1, 180, 0.1)\n",
        "# Computes the x-axis variance for each rotation across every angle\n",
        "x_variances = [(rotate(angle)[0].var()) for angle in angles]\n",
        "\n",
        "# Computes the angle of rotation resulting in the maximum variance\n",
        "percent_x_variances = 100 * np.array(x_variances) / total_variance\n",
        "optimal_index = np.argmax(percent_x_variances)\n",
        "optimal_angle = angles[optimal_index]\n",
        "\n",
        "plt.plot(angles, percent_x_variances)\n",
        "plt.axvline(optimal_angle, c=\"black\")\n",
        "plt.xlabel(\"Angle (degrees)\")\n",
        "plt.ylabel(\"% x-axis coverage\")\n",
        "plt.show()\n",
        "\n",
        "max_coverage = percent_x_variances[optimal_index]\n",
        "max_x_var = x_variances[optimal_index]\n",
        "\n",
        "print(f\"The horizontal variance is maximized to approximately {int(max_x_var)} after a {optimal_angle:.1f} degree rotation.\")\n",
        "print(f\"That rotation distributes {max_coverage:.2f} of the total variance onto the x-axis.\")"
      ],
      "metadata": {
        "id": "Pfq0Nbk4D2Qw",
        "outputId": "49e5a9c2-f945-4231-8a4e-50a3340913d1",
        "colab": {
          "base_uri": "https://localhost:8080/",
          "height": 314
        }
      },
      "execution_count": 15,
      "outputs": [
        {
          "output_type": "display_data",
          "data": {
            "text/plain": [
              "<Figure size 432x288 with 1 Axes>"
            ],
            "image/png": "[encoded data removed]"
          },
          "metadata": {
            "needs_background": "light"
          }
        },
        {
          "output_type": "stream",
          "name": "stdout",
          "text": [
            "The horizontal variance is maximized to approximately 541 after a 78.3 degree rotation.\n",
            "That rotation distributes 99.08 of the total variance onto the x-axis.\n"
          ]
        }
      ]
    },
    {
      "cell_type": "markdown",
      "source": [
        "Thus, we can expect the rotated data to mostly lie along the 1D axis line.\n",
        "\n",
        "Let’s confirm\n",
        "by running the rotation and then plotting the results."
      ],
      "metadata": {
        "id": "9VBca-WEGV87"
      }
    },
    {
      "cell_type": "code",
      "source": [
        "# Plotting rotated data with high x-axis coverage\n",
        "best_rotated_data = rotate(optimal_angle)\n",
        "\n",
        "plt.scatter(best_rotated_data[0], best_rotated_data[1])\n",
        "plt.axhline(0, c=\"black\")\n",
        "plt.axvline(0, c=\"black\")\n",
        "plt.axis(\"equal\")\n",
        "plt.show()"
      ],
      "metadata": {
        "id": "ORi9PvIQGYYI",
        "outputId": "d7a65dca-30e4-4b51-a1c5-803582befacc",
        "colab": {
          "base_uri": "https://localhost:8080/",
          "height": 265
        }
      },
      "execution_count": 16,
      "outputs": [
        {
          "output_type": "display_data",
          "data": {
            "text/plain": [
              "<Figure size 432x288 with 1 Axes>"
            ],
            "image/png": "[encoded data removed]"
          },
          "metadata": {
            "needs_background": "light"
          }
        }
      ]
    },
    {
      "cell_type": "markdown",
      "source": [
        "Most of the data lies close to the x-axis. The data’s dispersion is maximized in that horizontal\n",
        "direction.\n",
        "\n",
        "Consequently, we can delete all y-axis coordinates with minimal information\n",
        "loss. That deletion should account for less than 1% of the total variance, so the\n",
        "remaining x-axis values will be sufficient to cluster our measurements.\n",
        "\n",
        "Let’s reduce best_rotated_data to 1D by disposing of the y-axis. Then we’ll use the remaining 1D array to extract two clustering thresholds."
      ],
      "metadata": {
        "id": "xcv6MpKHHJx_"
      }
    },
    {
      "cell_type": "code",
      "source": [
        "# Reducing the rotated data to 1D for the purposes of clustering\n",
        "x_values = best_rotated_data[0]\n",
        "sorted_x_values = sorted(x_values)\n",
        "cluster_size = int(x_values.size / 3)\n",
        "small_cutoff = max(sorted_x_values[:cluster_size])\n",
        "large_cutoff = min(sorted_x_values[-cluster_size:])\n",
        "\n",
        "print(f\"A 1D threshold of {small_cutoff:.2f} separates the small-sized and medium-sized customers.\")\n",
        "print(f\"A 1D threshold of {large_cutoff:.2f} separates the medium-sized and large-sized customers.\")"
      ],
      "metadata": {
        "id": "-4NQ85BjEVY8",
        "outputId": "9657f2e6-3576-4926-acd6-8d223a87648a",
        "colab": {
          "base_uri": "https://localhost:8080/"
        }
      },
      "execution_count": 17,
      "outputs": [
        {
          "output_type": "stream",
          "name": "stdout",
          "text": [
            "A 1D threshold of -14.61 separates the small-sized and medium-sized customers.\n",
            "A 1D threshold of 15.80 separates the medium-sized and large-sized customers.\n"
          ]
        }
      ]
    },
    {
      "cell_type": "markdown",
      "source": [
        "We can visualize our thresholds by utilizing them to vertically slice our `best_reduced_data` plot."
      ],
      "metadata": {
        "id": "rZkiYrT9Foca"
      }
    },
    {
      "cell_type": "code",
      "source": [
        "# Plotting horizontal customer data separated into three segments\n",
        "def plot_customer_segments(horizontal_2d_data):\n",
        "  small, medium, large = [], [], []\n",
        "  cluster_labels = [\"Small\", \"Medium\", \"Large\"]\n",
        "  # 1D x-value thresholds are utilized to segment the data\n",
        "  for x_value, y_value in horizontal_2d_data.T:\n",
        "    if x_value <= small_cutoff:\n",
        "      small.append([x_value, y_value])\n",
        "    elif small_cutoff < x_value < large_cutoff:\n",
        "      medium.append([x_value, y_value])\n",
        "    else:\n",
        "      large.append([x_value, y_value])\n",
        "\n",
        "  # Each customer segment is plotted separately\n",
        "  for i, cluster in enumerate([small, medium, large]):\n",
        "    cluster_x_values, cluster_y_values = np.array(cluster).T\n",
        "    plt.scatter(cluster_x_values, cluster_y_values, color=[\"g\", \"b\", \"y\"][i], label=cluster_labels[i])\n",
        "\n",
        "  plt.axhline(0, c=\"black\")\n",
        "  plt.axvline(large_cutoff, c=\"black\", linewidth=3, linestyle=\"--\")\n",
        "  plt.axvline(small_cutoff, c=\"black\", linewidth=3, linestyle=\"--\")\n",
        "  plt.axis(\"equal\")\n",
        "  plt.legend()\n",
        "  plt.show()"
      ],
      "metadata": {
        "id": "WKzbEoUcFqrk"
      },
      "execution_count": 18,
      "outputs": []
    },
    {
      "cell_type": "code",
      "source": [
        "plot_customer_segments(best_rotated_data)"
      ],
      "metadata": {
        "id": "Oxn2L4vUGqmC",
        "outputId": "a428cb7c-4e84-43a5-b4db-a51fdaf4e850",
        "colab": {
          "base_uri": "https://localhost:8080/",
          "height": 265
        }
      },
      "execution_count": 19,
      "outputs": [
        {
          "output_type": "display_data",
          "data": {
            "text/plain": [
              "<Figure size 432x288 with 1 Axes>"
            ],
            "image/png": "[encoded data removed]"
          },
          "metadata": {
            "needs_background": "light"
          }
        }
      ]
    },
    {
      "cell_type": "markdown",
      "source": [
        "Our 1D `x_values` array can sufficiently segment the customer data because it captures `99.08%` of the data’s variance. \n",
        "\n",
        "Consequently, we can use the array to reproduce\n",
        "`99.08%` of our centered_data dataset."
      ],
      "metadata": {
        "id": "F_JzdT7_JchE"
      }
    },
    {
      "cell_type": "code",
      "source": [
        "# Reproducing 2D data from a 1D array\n",
        "zero_y_values = np.zeros(x_values.size)\n",
        "reproduced_data = rotate(-optimal_angle, data=[x_values, zero_y_values])"
      ],
      "metadata": {
        "id": "W6EsXMFcJjSy"
      },
      "execution_count": 20,
      "outputs": []
    },
    {
      "cell_type": "markdown",
      "source": [
        "Let’s plot `reproduced_data` together with our `centered_data` matrix to gauge the quality of the reproduction."
      ],
      "metadata": {
        "id": "SqXXOI_yJ7Di"
      }
    },
    {
      "cell_type": "code",
      "source": [
        "# Plotting reproduced and original data\n",
        "plt.plot(reproduced_data[0], reproduced_data[1], c=\"k\", label=\"Reproduced Data\")\n",
        "plt.scatter(centered_data[0], centered_data[1], c=\"y\", label=\"Original Data\")\n",
        "plt.axis(\"equal\")\n",
        "plt.legend()\n",
        "plt.show()"
      ],
      "metadata": {
        "id": "T4Y6oYlTNgRx",
        "outputId": "28fe87fa-61d0-4e10-babb-692cb14f82ba",
        "colab": {
          "base_uri": "https://localhost:8080/",
          "height": 265
        }
      },
      "execution_count": 21,
      "outputs": [
        {
          "output_type": "display_data",
          "data": {
            "text/plain": [
              "<Figure size 432x288 with 1 Axes>"
            ],
            "image/png": "[encoded data removed]"
          },
          "metadata": {
            "needs_background": "light"
          }
        }
      ]
    },
    {
      "cell_type": "markdown",
      "source": [
        "The reproduced data forms a line that cuts directly through the middle of the\n",
        "centered_data scatter plot. \n",
        "\n",
        "The line represents the first principal direction, which is the\n",
        "linear direction in which the data’s variance is maximized. \n",
        "\n",
        "Most 2D datasets contain\n",
        "two principal directions. \n",
        "\n",
        "The second principal direction is perpendicular to the first; it\n",
        "represents the remaining variance not covered by the first direction.\n",
        "\n",
        "We can use the first principal direction to process the heights and weights of future customers.\n",
        "\n",
        "Let’s explore this scenario more concretely by simulating new customer measurements."
      ],
      "metadata": {
        "id": "9IkGd6DKOjU1"
      }
    },
    {
      "cell_type": "code",
      "source": [
        "# Simulating and plotting new customer data\n",
        "np.random.seed(1)\n",
        "\n",
        "# Separates all new heights by 0.11 inches to minimize overlap with previous heights\n",
        "new_heights = np.arange(60, 78, .11)\n",
        "random_fluctuations = np.random.normal(scale=10, size=new_heights.size)\n",
        "new_weights = 4 * new_heights - 130 + random_fluctuations\n",
        "\n",
        "# We assume that the new customer distribution is the same as the previously seen distribution\n",
        "# This allows us to utilize existing means for data centralization\n",
        "new_centered_data = np.array([new_heights - heights.mean(), new_weights - weights.mean()])\n",
        "\n",
        "plt.scatter(new_centered_data[0], new_centered_data[1], c=\"y\", label=\"New Customer Data\")\n",
        "plt.plot(reproduced_data[0], reproduced_data[1], c=\"k\", label=\"First Principal Direction\")\n",
        "plt.xlabel(\"Centralized Height (in)\")\n",
        "plt.ylabel(\"Centralized Weight (lb)\")\n",
        "plt.axis(\"equal\")\n",
        "plt.legend()\n",
        "plt.show()"
      ],
      "metadata": {
        "id": "wKnVQGH4OvjI",
        "outputId": "77535751-30b9-4ccf-a941-50c95dda9fb6",
        "colab": {
          "base_uri": "https://localhost:8080/",
          "height": 279
        }
      },
      "execution_count": 22,
      "outputs": [
        {
          "output_type": "display_data",
          "data": {
            "text/plain": [
              "<Figure size 432x288 with 1 Axes>"
            ],
            "image/png": "[encoded data removed]"
          },
          "metadata": {
            "needs_background": "light"
          }
        }
      ]
    },
    {
      "cell_type": "markdown",
      "source": [
        "Our new customer data continues to lie along the first principal direction. That direction\n",
        "covers more than 99% of the data variance while also forming a 78.3-degree angle\n",
        "with the x-axis.\n",
        "\n",
        "Next, we position our new customer data horizontally and segment that data."
      ],
      "metadata": {
        "id": "2lxsc4jORSM4"
      }
    },
    {
      "cell_type": "code",
      "source": [
        "# Rotating and segmenting our new customer data\n",
        "new_horizontal_data = rotate(optimal_angle, data=new_centered_data)\n",
        "plot_customer_segments(new_horizontal_data)"
      ],
      "metadata": {
        "id": "IBLt_b9KRZ2C",
        "outputId": "f4e21c09-9666-4810-81b2-d7870ab0859c",
        "colab": {
          "base_uri": "https://localhost:8080/",
          "height": 265
        }
      },
      "execution_count": 23,
      "outputs": [
        {
          "output_type": "display_data",
          "data": {
            "text/plain": [
              "<Figure size 432x288 with 1 Axes>"
            ],
            "image/png": "[encoded data removed]"
          },
          "metadata": {
            "needs_background": "light"
          }
        }
      ]
    },
    {
      "cell_type": "markdown",
      "source": [
        "So, it’s easier to flip the data when we\n",
        "know the principal direction along which the variance is maximized. Given the first principal direction, we dimensionally reduce customer data for easier clustering.\n",
        "\n",
        "Unfortunately, this technique does not scale to higher dimensions.\n",
        "\n",
        "Imagine if we analyze a 1,000-dimensional dataset; checking every angle across 1,000\n",
        "different axes is not computationally feasible.\n",
        "\n",
        "Fortunately, there’s an easier way to\n",
        "extract all principal directions. We just need to apply a scalable algorithm known as principal component analysis (PCA)."
      ],
      "metadata": {
        "id": "KSpF20kqU34U"
      }
    },
    {
      "cell_type": "markdown",
      "source": [
        "##Dimension reduction using PCA"
      ],
      "metadata": {
        "id": "fbCpLP0BWxDM"
      }
    },
    {
      "cell_type": "markdown",
      "source": [
        "The PCA algorithm adjusts a dataset’s axes so that most of the variance is spread\n",
        "across a small number of dimensions. \n",
        "\n",
        "Consequently, not every dimension is required\n",
        "to distinguish between the data points. Simplified data distinction leads to simplified\n",
        "clustering."
      ],
      "metadata": {
        "id": "Ak47x_6RWx3q"
      }
    },
    {
      "cell_type": "code",
      "source": [
        "# Initializing a pca_model object\n",
        "pca_model = PCA()"
      ],
      "metadata": {
        "id": "1bhHQV7hUnNK"
      },
      "execution_count": 25,
      "outputs": []
    },
    {
      "cell_type": "code",
      "source": [
        "# Running PCA using scikit-learn\n",
        "pca_transformed_data = pca_model.fit_transform(measurements.T)\n",
        "\n",
        "plt.scatter(pca_transformed_data[:, 0], pca_transformed_data[:, 1], c=\"y\", label=\"New Customer Data\")\n",
        "plt.axhline(0, c=\"black\")\n",
        "plt.axvline(0, c=\"black\")\n",
        "plt.axis(\"equal\")\n",
        "plt.show()"
      ],
      "metadata": {
        "id": "AQCU6NOQU-tV",
        "outputId": "c8203152-e366-47b8-f273-d7b31f5778a8",
        "colab": {
          "base_uri": "https://localhost:8080/",
          "height": 265
        }
      },
      "execution_count": 26,
      "outputs": [
        {
          "output_type": "display_data",
          "data": {
            "text/plain": [
              "<Figure size 432x288 with 1 Axes>"
            ],
            "image/png": "[encoded data removed]"
          },
          "metadata": {
            "needs_background": "light"
          }
        }
      ]
    },
    {
      "cell_type": "markdown",
      "source": [
        "Running PCA on a 2D dataset is guaranteed to tip over that data so it lies horizontally on\n",
        "the x-axis. \n",
        "\n",
        "However, the actual reflection of data is not restricted to one particular orientation."
      ],
      "metadata": {
        "id": "bo2RRjCyVuy0"
      }
    },
    {
      "cell_type": "code",
      "source": [
        "# re-create our original horizontal plot\n",
        "plot_customer_segments((pca_transformed_data * np.array([1, -1])).T)"
      ],
      "metadata": {
        "id": "Q7VMpFKWV213",
        "outputId": "a83965eb-8a6e-4ce3-8c9c-eeef813ad980",
        "colab": {
          "base_uri": "https://localhost:8080/",
          "height": 265
        }
      },
      "execution_count": 27,
      "outputs": [
        {
          "output_type": "display_data",
          "data": {
            "text/plain": [
              "<Figure size 432x288 with 1 Axes>"
            ],
            "image/png": "[encoded data removed]"
          },
          "metadata": {
            "needs_background": "light"
          }
        }
      ]
    },
    {
      "cell_type": "markdown",
      "source": [
        "Even though our plotted data is oriented differently, its x-axis variance coverage should remain consistent with our previous observations. \n",
        "\n",
        "We can confirm using the `explained_variance_ratio_` attribute of `pca_object`."
      ],
      "metadata": {
        "id": "L9tDTY3sYZmO"
      }
    },
    {
      "cell_type": "code",
      "source": [
        "# Extracting variance from scikit-learn’s PCA output\n",
        "percent_variance_coverages = 100 * pca_model.explained_variance_ratio_   # Multiplying by 100 converts these fractions into percentages\n",
        "x_axis_coverage, y_axis_coverage = percent_variance_coverages\n",
        "print(f\"The x-axis of our PCA output covers {x_axis_coverage:.2f}% of the total variance\")"
      ],
      "metadata": {
        "id": "sdR2xAzLYd2_",
        "outputId": "893420d5-7e06-4582-bff9-131ff1cd4597",
        "colab": {
          "base_uri": "https://localhost:8080/"
        }
      },
      "execution_count": 28,
      "outputs": [
        {
          "output_type": "stream",
          "name": "stdout",
          "text": [
            "The x-axis of our PCA output covers 99.08% of the total variance\n"
          ]
        }
      ]
    },
    {
      "cell_type": "markdown",
      "source": [
        "As a reminder, vectors are linear segments that\n",
        "point in a certain direction from the origin. \n",
        "\n",
        "Also, the first principal direction is a line\n",
        "that rises from the origin. \n",
        "\n",
        "Consequently, we can represent the first principal direction\n",
        "as a vector called the first principal component."
      ],
      "metadata": {
        "id": "jK4FChN4ZPUd"
      }
    },
    {
      "cell_type": "code",
      "source": [
        "# Outputting the first principal component\n",
        "first_pc = pca_model.components_[0]\n",
        "magnitude = norm(first_pc)\n",
        "\n",
        "print(f\"Vector {first_pc} points in a direction that covers {x_axis_coverage:.2f}% of the total variance.\")\n",
        "print(f\"The vector has a magnitude of {magnitude}\")"
      ],
      "metadata": {
        "id": "wve8oaN9ZZbj",
        "outputId": "ddc3eef8-0f02-4e15-fc8e-b41f9656d8ea",
        "colab": {
          "base_uri": "https://localhost:8080/"
        }
      },
      "execution_count": 30,
      "outputs": [
        {
          "output_type": "stream",
          "name": "stdout",
          "text": [
            "Vector [-0.20223994 -0.979336  ] points in a direction that covers 99.08% of the total variance.\n",
            "The vector has a magnitude of 1.0\n"
          ]
        }
      ]
    },
    {
      "cell_type": "markdown",
      "source": [
        "The first principal component is a unit vector with a magnitude of 1.0. It stretches one\n",
        "whole unit length from the origin. \n",
        "\n",
        "Multiplying the vector by a number stretches the\n",
        "magnitude out further. \n",
        "\n",
        "If we stretch it far enough, we can capture the entire principal\n",
        "direction of our data.\n",
        "\n",
        "First, we stretch our `first_pc` vector until\n",
        "it extends 50 units in both the positive and negative directions from the origin. \n",
        "\n",
        "We then plot the stretched segment along with our previously computed `centered_data`\n",
        "matrix."
      ],
      "metadata": {
        "id": "uPD1DfvRaCzA"
      }
    },
    {
      "cell_type": "code",
      "source": [
        "# Stretching a unit vector to cover the first principal direction\n",
        "def plot_stretched_vector(v, **kwargs):\n",
        "  # extends 50 units in both the positive and negative directions from the origin\n",
        "  plt.plot([-50 * v[0], 50 * v[0]], [-50 * v[1], 50 * v[1]], **kwargs)\n",
        "\n",
        "plt.plot(reproduced_data[0], reproduced_data[1], c=\"k\", label=\"First Principal Direction\")\n",
        "plt.scatter(centered_data[0], centered_data[1], c=\"y\")\n",
        "plt.xlabel(\"Centralized Height (in)\")\n",
        "plt.ylabel(\"Centralized Weight (lb)\")\n",
        "plt.axis(\"equal\")\n",
        "plt.legend()\n",
        "plt.show()"
      ],
      "metadata": {
        "id": "ROCKDql8awFO",
        "outputId": "87ae0a5e-bb6e-4307-9945-f64c24b7fa04",
        "colab": {
          "base_uri": "https://localhost:8080/",
          "height": 279
        }
      },
      "execution_count": 31,
      "outputs": [
        {
          "output_type": "display_data",
          "data": {
            "text/plain": [
              "<Figure size 432x288 with 1 Axes>"
            ],
            "image/png": "[encoded data removed]"
          },
          "metadata": {
            "needs_background": "light"
          }
        }
      ]
    },
    {
      "cell_type": "markdown",
      "source": [
        "We’ve used the first principal component to skewer our dataset along its first principal\n",
        "direction. \n",
        "\n",
        "In that same manner, we can stretch the other directional unit vector\n",
        "returned by the PCA algorithm.\n",
        "\n",
        "As we know, most 2D datasets contain two principal\n",
        "directions. \n",
        "\n",
        "The second principal direction is perpendicular to the first, and its vectorized representation is called the second principal component. That component is\n",
        "stored in the second row of our computed components matrix."
      ],
      "metadata": {
        "id": "ygiO3-vcdcMW"
      }
    }
  ]
}