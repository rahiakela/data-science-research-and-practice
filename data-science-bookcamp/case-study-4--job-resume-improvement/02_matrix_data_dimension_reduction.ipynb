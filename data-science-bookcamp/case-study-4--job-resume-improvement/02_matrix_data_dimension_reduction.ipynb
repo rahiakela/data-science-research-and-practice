{
  "nbformat": 4,
  "nbformat_minor": 0,
  "metadata": {
    "colab": {
      "name": "02-matrix-data-dimension-reduction.ipynb",
      "provenance": [],
      "toc_visible": true,
      "authorship_tag": "ABX9TyPmIVAoG29o47lJ5VSf+n9h",
      "include_colab_link": true
    },
    "kernelspec": {
      "name": "python3",
      "display_name": "Python 3"
    },
    "language_info": {
      "name": "python"
    }
  },
  "cells": [
    {
      "cell_type": "markdown",
      "metadata": {
        "id": "view-in-github",
        "colab_type": "text"
      },
      "source": [
        "<a href=\"https://colab.research.google.com/github/rahiakela/data-science-research-and-practice/blob/main/data-science-bookcamp/case-study-4--job-resume-improvement/02_matrix_data_dimension_reduction.ipynb\" target=\"_parent\"><img src=\"https://colab.research.google.com/assets/colab-badge.svg\" alt=\"Open In Colab\"/></a>"
      ]
    },
    {
      "cell_type": "markdown",
      "source": [
        "##Dimension reduction of matrix data"
      ],
      "metadata": {
        "id": "CKQ3xygyzGoH"
      }
    },
    {
      "cell_type": "markdown",
      "source": [
        "Dimension reduction is a series of techniques for shrinking data while retaining its\n",
        "information content. These techniques permeate many of our everyday digital\n",
        "activities.\n",
        "\n",
        "These are the following advantages of dimensionally reduced data:\n",
        "* More compact data is easier to transfer and store.\n",
        "* Algorithmic tasks require less time when our data is smaller.\n",
        "* Certain complex tasks, like cluster detection, can be simplified by removing\n",
        "unnecessary information.\n",
        "\n",
        "We want to cluster thousands\n",
        "of text documents by topic. The clustering will entail computing a matrix of all-by-all document similarities.\n",
        "\n",
        "As we know, this computation can be slow. Dimension reduction can speed up the process by reducing the number\n",
        "of data matrix columns. \n",
        "\n",
        "As a further bonus, dimensionally reduced text data has been\n",
        "shown to yield higher-quality topic clusters."
      ],
      "metadata": {
        "id": "fJsYonsIz1lJ"
      }
    },
    {
      "cell_type": "markdown",
      "source": [
        "##Setup"
      ],
      "metadata": {
        "id": "nEaM8U6Lz_Fg"
      }
    },
    {
      "cell_type": "code",
      "source": [
        "import warnings\n",
        "warnings.filterwarnings('ignore')"
      ],
      "metadata": {
        "id": "gtDg8Oyyz__L"
      },
      "execution_count": 1,
      "outputs": []
    },
    {
      "cell_type": "code",
      "source": [
        "from collections import defaultdict\n",
        "from collections import Counter\n",
        "import time\n",
        "import numpy as np\n",
        "import pandas as pd\n",
        "from math import sin, cos\n",
        "\n",
        "from scipy.spatial.distance import euclidean\n",
        "from numpy.linalg import norm\n",
        "\n",
        "import seaborn as sns\n",
        "import matplotlib.pyplot as plt"
      ],
      "metadata": {
        "id": "TobbrwVl0CWF"
      },
      "execution_count": 2,
      "outputs": []
    },
    {
      "cell_type": "markdown",
      "source": [
        "##Clustering 2D data in one dimension"
      ],
      "metadata": {
        "id": "tRYlC_k-0OTX"
      }
    },
    {
      "cell_type": "markdown",
      "source": [
        "Dimension reduction has many uses, including more interpretable clustering.\n",
        "\n",
        "Let’s start by simulating customer heights. Our heights range from\n",
        "60 inches (5 ft) to 78 inches (6.5 ft). We fabricate these heights by calling\n",
        "np.arange(60, 78, 0.1). \n",
        "\n",
        "This returns an array of heights between 60 and 78 inches,\n",
        "where each consecutive height increases by 0.1 inches."
      ],
      "metadata": {
        "id": "sTg51MOn0QLf"
      }
    },
    {
      "cell_type": "code",
      "source": [
        "# Simulating a range of heights\n",
        "heights = np.arange(60, 78, 0.1)"
      ],
      "metadata": {
        "id": "WCepvD5r0Wq4"
      },
      "execution_count": 3,
      "outputs": []
    },
    {
      "cell_type": "markdown",
      "source": [
        "It has been shown that, on average, a person’s\n",
        "weight in pounds equals approximately `4 * height - 130`. \n",
        "\n",
        "Of course, each individual\n",
        "person’s weight fluctuates around this average value."
      ],
      "metadata": {
        "id": "uvofbc7T05_E"
      }
    },
    {
      "cell_type": "code",
      "source": [
        "# Simulating weights using heights\n",
        "np.random.seed(0)\n",
        "\n",
        "random_fluctuations = np.random.normal(scale=10, size=heights.size)\n",
        "weights = 4 * heights - 130 + random_fluctuations"
      ],
      "metadata": {
        "id": "9gsaUHqR06bp"
      },
      "execution_count": 4,
      "outputs": []
    },
    {
      "cell_type": "markdown",
      "source": [
        "Let’s store and plot these measured coordinates."
      ],
      "metadata": {
        "id": "OZSLuEPIe1hc"
      }
    },
    {
      "cell_type": "code",
      "source": [
        "measurements = np.array([heights, weights])\n",
        "\n",
        "plt.scatter(measurements[0], measurements[1])\n",
        "plt.xlabel(\"Height (in)\")\n",
        "plt.ylabel(\"Weight (lb)\")\n",
        "plt.show()"
      ],
      "metadata": {
        "id": "SHYUPbuJ1gpZ",
        "colab": {
          "base_uri": "https://localhost:8080/",
          "height": 279
        },
        "outputId": "e19bc5c0-8818-4948-a355-f7201772b4bb"
      },
      "execution_count": 5,
      "outputs": [
        {
          "output_type": "display_data",
          "data": {
            "text/plain": [
              "<Figure size 432x288 with 1 Axes>"
            ],
            "image/png": "[encoded data removed]"
          },
          "metadata": {
            "needs_background": "light"
          }
        }
      ]
    },
    {
      "cell_type": "markdown",
      "source": [
        "As a reminder, Matplotlib manipulates its 2D axes to make the final plot aesthetically pleasing. Normally, this is a good thing. \n",
        "\n",
        "However, we’ll soon be rotating the plot to simplify our data. The rotation\n",
        "will shift the axes scaling, making the rotated data difficult to compare with the original data plot. \n",
        "\n",
        "Consequently, we should equalize our axes to obtain consistent visual\n",
        "output.\n",
        "\n",
        "Let’s equalize the axes and hen regenerate the plot."
      ],
      "metadata": {
        "id": "w2n8UnF4fk1e"
      }
    },
    {
      "cell_type": "code",
      "source": [
        "# Plotting 2D measurements using equally scaled axes\n",
        "plt.scatter(measurements[0], measurements[1])\n",
        "plt.xlabel(\"Height (in)\")\n",
        "plt.ylabel(\"Weight (lb)\")\n",
        "plt.axis(\"equal\")\n",
        "plt.show()"
      ],
      "metadata": {
        "colab": {
          "base_uri": "https://localhost:8080/",
          "height": 279
        },
        "id": "ANhKc1npf3HO",
        "outputId": "5da950d2-21de-442e-9aa5-a62d95ab0436"
      },
      "execution_count": 6,
      "outputs": [
        {
          "output_type": "display_data",
          "data": {
            "text/plain": [
              "<Figure size 432x288 with 1 Axes>"
            ],
            "image/png": "[encoded data removed]"
          },
          "metadata": {
            "needs_background": "light"
          }
        }
      ]
    },
    {
      "cell_type": "markdown",
      "source": [
        "If we rotate our data toward the x-axis, the horizontal x-values should be sufficient to\n",
        "distinguish between points. We can thus cluster the data without relying on the vertical y-values. \n",
        "\n",
        "Effectively, we’ll be able to delete the y-values with minimal information loss.\n",
        "That deletion will reduce our data from two dimensions to one."
      ],
      "metadata": {
        "id": "vTgMcB4LgO2G"
      }
    },
    {
      "cell_type": "markdown",
      "source": [
        "###Reducing dimensions using rotation"
      ],
      "metadata": {
        "id": "KoPVq13vhrpx"
      }
    },
    {
      "cell_type": "markdown",
      "source": [
        "Centering our data at the origin is trivial. The central point of every dataset is equal to\n",
        "its mean. \n",
        "\n",
        "Thus, we need to adjust our coordinates so that their x-value mean and y-value\n",
        "mean both equal zero.\n",
        "\n",
        "Let’s shift our height and weight coordinates and store these changes in a `centered_data` array. Then we plot the shifted coordinates to verify that they are centered on the origin."
      ],
      "metadata": {
        "id": "i3yrzb_ohs4Y"
      }
    },
    {
      "cell_type": "code",
      "source": [
        "# Centering the measurements at the origin\n",
        "centered_data = np.array([heights - heights.mean(), weights - weights.mean()])\n",
        "\n",
        "plt.scatter(centered_data[0], centered_data[1])\n",
        "# Visualizes the x-axis and y-axis to mark the location of the origin\n",
        "plt.axhline(0, c=\"black\")\n",
        "plt.axvline(0, c=\"black\")\n",
        "plt.xlabel(\"Centralized Height (in)\")\n",
        "plt.ylabel(\"Centralized Weight (lb)\")\n",
        "plt.axis(\"equal\")\n",
        "plt.show()"
      ],
      "metadata": {
        "id": "fcDHOYXThzU9",
        "outputId": "c953474e-6ec6-4c5d-d2fd-4d2005b25c49",
        "colab": {
          "base_uri": "https://localhost:8080/",
          "height": 279
        }
      },
      "execution_count": 7,
      "outputs": [
        {
          "output_type": "display_data",
          "data": {
            "text/plain": [
              "<Figure size 432x288 with 1 Axes>"
            ],
            "image/png": "[encoded data removed]"
          },
          "metadata": {
            "needs_background": "light"
          }
        }
      ]
    },
    {
      "cell_type": "markdown",
      "source": [
        "Our data is now perfectly centered at the origin. However, the orientation of the data\n",
        "is closer to the y-axis than the x-axis. Our goal is to adjust this orientation through\n",
        "rotation. \n",
        "\n",
        "We want to spin the plotted points around the origin until they overlap with\n",
        "the x-axis. Rotating a 2D plot around its center requires the use of a rotation matrix.\n",
        "\n",
        "Let’s utilize the rotation matrix to rotate `centered_data` clockwise by 90 degrees."
      ],
      "metadata": {
        "id": "rxF94rq7eUlW"
      }
    },
    {
      "cell_type": "code",
      "source": [
        "# Rotating centered_data by 90 degrees\n",
        "angle = np.radians(-90)\n",
        "rotation_matrix = np.array([\n",
        "  [cos(angle), -sin(angle)],\n",
        "  [sin(angle), cos(angle)]                         \n",
        "])\n",
        "\n",
        "rotated_data = rotation_matrix @ centered_data\n",
        "\n",
        "plt.scatter(centered_data[0], centered_data[1], label=\"Original Data\")\n",
        "plt.scatter(rotated_data[0], rotated_data[1], c=\"y\", label=\"Rotated Data\")\n",
        "plt.axhline(0, c=\"black\")\n",
        "plt.axvline(0, c=\"black\")\n",
        "plt.legend()\n",
        "plt.axis(\"equal\")\n",
        "plt.show()"
      ],
      "metadata": {
        "id": "M_BHnajoeoJ4",
        "outputId": "443e014c-ca96-46b1-ed56-a767dd0b5c75",
        "colab": {
          "base_uri": "https://localhost:8080/",
          "height": 265
        }
      },
      "execution_count": 8,
      "outputs": [
        {
          "output_type": "display_data",
          "data": {
            "text/plain": [
              "<Figure size 432x288 with 1 Axes>"
            ],
            "image/png": "[encoded data removed]"
          },
          "metadata": {
            "needs_background": "light"
          }
        }
      ]
    },
    {
      "cell_type": "markdown",
      "source": [
        "Our rotation has shifted\n",
        "the plot closer to the x-axis. We need a way to quantify this shift. Let’s generate a penalty\n",
        "score that decreases as the data is rotated toward the x-axis.\n",
        "\n",
        "We’ll penalize all vertical y-axis values. Our penalty is based on the concept of\n",
        "squared distance."
      ],
      "metadata": {
        "id": "Av7CMcN4hOev"
      }
    },
    {
      "cell_type": "code",
      "source": [
        "# Penalizing vertical y-values\n",
        "data_labels = [\"unrotated\", \"rotated\"]\n",
        "data_list = [centered_data, rotated_data]\n",
        "\n",
        "for data_label, data in zip(data_labels, data_list):\n",
        "  y_values = data[1]\n",
        "  penalty = y_values @ y_values / y_values.size\n",
        "  print(f\"The penalty score for the {data_label} data is {penalty:.2f}\")"
      ],
      "metadata": {
        "id": "fmfdkDPIhaQc",
        "outputId": "9d19e6ce-c4d6-4079-e1c4-af67a2973b74",
        "colab": {
          "base_uri": "https://localhost:8080/"
        }
      },
      "execution_count": 9,
      "outputs": [
        {
          "output_type": "stream",
          "name": "stdout",
          "text": [
            "The penalty score for the unrotated data is 519.82\n",
            "The penalty score for the rotated data is 27.00\n"
          ]
        }
      ]
    },
    {
      "cell_type": "markdown",
      "source": [
        "Rotating the data has reduced the penalty score by more than 20-fold. This reduction\n",
        "carries a statistical interpretation.\n",
        "\n",
        "We’ve inferred that the penalty score equals the y-axis variance.\n",
        "\n",
        "Consequently, our\n",
        "data rotation has reduced the y-axis variance by more than 20-fold. \n",
        "\n",
        "Let’s confirm."
      ],
      "metadata": {
        "id": "W6YHmZgWiIkK"
      }
    },
    {
      "cell_type": "code",
      "source": [
        "# Equating penalties with y-axis variance\n",
        "for data_label, data in zip(data_labels, data_list):\n",
        "  y_var = data[1].var()\n",
        "  penalty = data[1] @ data[1] / data[0].size\n",
        "  assert round(y_var, 14) == round(penalty, 14)\n",
        "  print(f\"The y-axis variance for the {data_label} data is {y_var:.2f}\")"
      ],
      "metadata": {
        "id": "Dj2kd29giQ1r",
        "outputId": "2ceebc8b-25e0-4ced-dee6-56ffb0e9d156",
        "colab": {
          "base_uri": "https://localhost:8080/"
        }
      },
      "execution_count": 10,
      "outputs": [
        {
          "output_type": "stream",
          "name": "stdout",
          "text": [
            "The y-axis variance for the unrotated data is 519.82\n",
            "The y-axis variance for the rotated data is 27.00\n"
          ]
        }
      ]
    },
    {
      "cell_type": "markdown",
      "source": [
        "We can score rotations based on variance. Rotating the data toward the x-axis reduces\n",
        "the variance along the y-axis. \n",
        "\n",
        "How does this rotation influence the variance along the\n",
        "x-axis? \n",
        "\n",
        "Let’s find out."
      ],
      "metadata": {
        "id": "L1NyvvYii33A"
      }
    },
    {
      "cell_type": "code",
      "source": [
        "# Measuring rotational x-axis variance\n",
        "for data_label, data in zip(data_labels, data_list):\n",
        "  x_var = data[0].var()\n",
        "  print(f\"The x-axis variance for the {data_label} data is {x_var:.2f}\")"
      ],
      "metadata": {
        "id": "mfSYXm0Ni7dP",
        "outputId": "cfa58fe7-3efb-45e1-b107-f2f5f1d793fc",
        "colab": {
          "base_uri": "https://localhost:8080/"
        }
      },
      "execution_count": 11,
      "outputs": [
        {
          "output_type": "stream",
          "name": "stdout",
          "text": [
            "The x-axis variance for the unrotated data is 27.00\n",
            "The x-axis variance for the rotated data is 519.82\n"
          ]
        }
      ]
    },
    {
      "cell_type": "markdown",
      "source": [
        "The rotation has completely flipped the x-axis variance and the y-axis variance. \n",
        "\n",
        "However, the total sum of variance values has remained unchanged. Total variance is conserved\n",
        "even after the rotation. \n",
        "\n",
        "Let’s verify this fact."
      ],
      "metadata": {
        "id": "euwjzcj-jWlo"
      }
    },
    {
      "cell_type": "code",
      "source": [
        "# Confirming the conservation of total variance\n",
        "total_variance = centered_data[0].var() + centered_data[1].var()\n",
        "assert total_variance == rotated_data[0].var() + rotated_data[1].var()"
      ],
      "metadata": {
        "id": "TGsN0zIfjbbB"
      },
      "execution_count": 12,
      "outputs": []
    },
    {
      "cell_type": "markdown",
      "source": [
        "Conservation of variance allows us to infer the following:\n",
        "\n",
        "* x-axis variance and y-axis variance can be combined into a single percentage\n",
        "score.\n",
        "* Decreasing the vertical dispersion\n",
        "by p percent increases the horizontal dispersion by p percent.\n",
        "\n",
        "Let's confirms these conclusions."
      ],
      "metadata": {
        "id": "BAeSSsHPArFd"
      }
    },
    {
      "cell_type": "code",
      "source": [
        "# Exploring the percent coverage of axis variance\n",
        "for data_label, data in zip(data_labels, data_list):\n",
        "  percent_x_axis_var = 100 * data[0].var() / total_variance\n",
        "  percent_y_axis_var = 100 * data[1].var() / total_variance\n",
        "  print(f\"In the {data_label} data, {percent_x_axis_var:.2f} of the total variance is distributed across the x-axis\")\n",
        "  print(f\"The remaining {percent_y_axis_var:.2f} of the total variance is distributed across the y-axis\")"
      ],
      "metadata": {
        "id": "7bni8656A3PY",
        "outputId": "c5cf9194-d46c-446f-bc3e-bc7dddd159c1",
        "colab": {
          "base_uri": "https://localhost:8080/"
        }
      },
      "execution_count": 14,
      "outputs": [
        {
          "output_type": "stream",
          "name": "stdout",
          "text": [
            "In the unrotated data, 4.94 of the total variance is distributed across the x-axis\n",
            "The remaining 95.06 of the total variance is distributed across the y-axis\n",
            "In the rotated data, 95.06 of the total variance is distributed across the x-axis\n",
            "The remaining 4.94 of the total variance is distributed across the y-axis\n"
          ]
        }
      ]
    },
    {
      "cell_type": "markdown",
      "source": [
        "Rotating the data toward the x-axis has increased the x-axis variance by 90 percentage\n",
        "points. \n",
        "\n",
        "Simultaneously, the rotation has reduced the y-axis variance by these same 90\n",
        "percentage points.\n",
        "\n",
        "Let’s rotate centered_data even further until its distance to the x-axis is minimized."
      ],
      "metadata": {
        "id": "AcvjNPNTBrGH"
      }
    },
    {
      "cell_type": "code",
      "source": [
        "# Maximizing horizontal dispersion\n",
        "def rotate(angle, data=centered_data):\n",
        "  angle = np.radians(-angle)\n",
        "  rotation_matrix = np.array([\n",
        "    [cos(angle), -sin(angle)],\n",
        "    [sin(angle), cos(angle)]                            \n",
        "  ])\n",
        "  return rotation_matrix @ data"
      ],
      "metadata": {
        "id": "Nsd3E569Bxg3"
      },
      "execution_count": 15,
      "outputs": []
    },
    {
      "cell_type": "code",
      "source": [
        "# Returns an array of angles ranging from 0 to 180, where each consecutive angle increases by 0.1 degrees\n",
        "angles = np.arange(1, 180, 0.1)\n",
        "# Computes the x-axis variance for each rotation across every angle\n",
        "x_variances = [(rotate(angle)[0].var()) for angle in angles]\n",
        "\n",
        "# Computes the angle of rotation resulting in the maximum variance\n",
        "percent_x_variances = 100 * np.array(x_variances) / total_variance\n",
        "optimal_index = np.argmax(percent_x_variances)\n",
        "optimal_angle = angles[optimal_index]\n",
        "\n",
        "plt.plot(angles, percent_x_variances)\n",
        "plt.axvline(optimal_angle, c=\"black\")\n",
        "plt.xlabel(\"Angle (degrees)\")\n",
        "plt.ylabel(\"% x-axis coverage\")\n",
        "plt.show()\n",
        "\n",
        "max_coverage = percent_x_variances[optimal_index]\n",
        "max_x_var = x_variances[optimal_index]\n",
        "\n",
        "print(f\"The horizontal variance is maximized to approximately {int(max_x_var)} after a {optimal_angle:.1f} degree rotation.\")\n",
        "print(f\"That rotation distributes {max_coverage:.2f} of the total variance onto the x-axis.\")"
      ],
      "metadata": {
        "id": "Pfq0Nbk4D2Qw",
        "outputId": "feea3eed-8f71-4b55-e537-c3125bd95933",
        "colab": {
          "base_uri": "https://localhost:8080/",
          "height": 314
        }
      },
      "execution_count": 18,
      "outputs": [
        {
          "output_type": "display_data",
          "data": {
            "text/plain": [
              "<Figure size 432x288 with 1 Axes>"
            ],
            "image/png": "[encoded data removed]"
          },
          "metadata": {
            "needs_background": "light"
          }
        },
        {
          "output_type": "stream",
          "name": "stdout",
          "text": [
            "The horizontal variance is maximized to approximately 541 after a 78.3 degree rotation.\n",
            "That rotation distributes 99.08 of the total variance onto the x-axis.\n"
          ]
        }
      ]
    },
    {
      "cell_type": "markdown",
      "source": [
        "Thus, we can expect the rotated data to mostly lie along the 1D axis line.\n",
        "\n",
        "Let’s confirm\n",
        "by running the rotation and then plotting the results."
      ],
      "metadata": {
        "id": "9VBca-WEGV87"
      }
    },
    {
      "cell_type": "code",
      "source": [
        "# Plotting rotated data with high x-axis coverage\n",
        "best_rotated_data = rotate(optimal_angle)\n",
        "\n",
        "plt.scatter(best_rotated_data[0], best_rotated_data[1])\n",
        "plt.axhline(0, c=\"black\")\n",
        "plt.axvline(0, c=\"black\")\n",
        "plt.axis(\"equal\")\n",
        "plt.show()"
      ],
      "metadata": {
        "id": "ORi9PvIQGYYI",
        "outputId": "dcd93e58-510a-4ba5-df84-ed2908e6878d",
        "colab": {
          "base_uri": "https://localhost:8080/",
          "height": 265
        }
      },
      "execution_count": 19,
      "outputs": [
        {
          "output_type": "display_data",
          "data": {
            "text/plain": [
              "<Figure size 432x288 with 1 Axes>"
            ],
            "image/png": "[encoded data removed]"
          },
          "metadata": {
            "needs_background": "light"
          }
        }
      ]
    },
    {
      "cell_type": "markdown",
      "source": [
        "Most of the data lies close to the x-axis. The data’s dispersion is maximized in that horizontal\n",
        "direction.\n",
        "\n",
        "Consequently, we can delete all y-axis coordinates with minimal information\n",
        "loss. That deletion should account for less than 1% of the total variance, so the\n",
        "remaining x-axis values will be sufficient to cluster our measurements."
      ],
      "metadata": {
        "id": "xcv6MpKHHJx_"
      }
    }
  ]
}