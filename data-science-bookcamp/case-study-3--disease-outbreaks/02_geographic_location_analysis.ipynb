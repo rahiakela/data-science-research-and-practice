{
  "nbformat": 4,
  "nbformat_minor": 0,
  "metadata": {
    "colab": {
      "name": "02-geographic-location-analysis.ipynb",
      "provenance": [],
      "toc_visible": true,
      "authorship_tag": "ABX9TyMASA5cADHwssEMDaSxWgy5",
      "include_colab_link": true
    },
    "kernelspec": {
      "name": "python3",
      "display_name": "Python 3"
    },
    "language_info": {
      "name": "python"
    }
  },
  "cells": [
    {
      "cell_type": "markdown",
      "metadata": {
        "id": "view-in-github",
        "colab_type": "text"
      },
      "source": [
        "<a href=\"https://colab.research.google.com/github/rahiakela/data-science-research-and-practice/blob/main/data-science-bookcamp/case-study-3--disease-outbreaks/02_geographic_location_analysis.ipynb\" target=\"_parent\"><img src=\"https://colab.research.google.com/assets/colab-badge.svg\" alt=\"Open In Colab\"/></a>"
      ]
    },
    {
      "cell_type": "markdown",
      "source": [
        "##Geographic location analysis"
      ],
      "metadata": {
        "id": "dcQpX5ibRkrc"
      }
    },
    {
      "cell_type": "markdown",
      "source": [
        "This navigation paradigm perfectly encapsulates the standard data science process. As\n",
        "data scientists, we are offered raw observations. We algorithmically analyze that data.\n",
        "Then, we visualize the results to make critical decisions. Thus, data science and location\n",
        "analysis are linked. That link has only grown stronger through the centuries.\n",
        "\n",
        "Hedge funds study satellite photos of farmlands to make bets on the\n",
        "global soybean market. Transport-service providers analyze vast traffic patterns to efficiently\n",
        "route fleets of cars. Epidemiologists process newspaper data to monitor the\n",
        "global spread of disease.\n",
        "\n",
        "In this notebook, we explore a variety of techniques for analyzing and visualizing geographic\n",
        "locations. We begin with the simple task of calculating the distance between\n",
        "two geographic points."
      ],
      "metadata": {
        "id": "bjJEiZW4Rw8s"
      }
    },
    {
      "cell_type": "markdown",
      "source": [
        "##Setup"
      ],
      "metadata": {
        "id": "VXaSlSqRUSYq"
      }
    },
    {
      "cell_type": "code",
      "source": [
        "!pip -q install cartopy"
      ],
      "metadata": {
        "id": "XhbZP37LFjp7"
      },
      "execution_count": null,
      "outputs": []
    },
    {
      "cell_type": "code",
      "source": [
        "from collections import defaultdict\n",
        "import itertools\n",
        "\n",
        "import numpy as np\n",
        "import pandas as pd\n",
        "from scipy import stats\n",
        "from math import cos, sin, asin\n",
        "from math import pi\n",
        "\n",
        "from sklearn.cluster import KMeans\n",
        "from sklearn.cluster import DBSCAN\n",
        "\n",
        "from scipy.spatial.distance import euclidean\n",
        "from sklearn.datasets import make_circles\n",
        "\n",
        "import cartopy\n",
        "import seaborn as sns\n",
        "import matplotlib.pyplot as plt"
      ],
      "metadata": {
        "id": "ACckSsnoUTmE"
      },
      "execution_count": 3,
      "outputs": []
    },
    {
      "cell_type": "markdown",
      "source": [
        "##The great-circle distance"
      ],
      "metadata": {
        "id": "r8H1yvPNUcfB"
      }
    },
    {
      "cell_type": "markdown",
      "source": [
        "We can compute the great-circle distance given a sphere and two points on that\n",
        "sphere. \n",
        "\n",
        "Any point on the sphere’s surface can be represented using spherical coordinates\n",
        "x and y, where x and y measure the angles of the point relative to the x-axis and y-axis."
      ],
      "metadata": {
        "id": "FC1Mb1yEUdtp"
      }
    },
    {
      "cell_type": "code",
      "source": [
        "# Defining a great-circle distance function\n",
        "def great_circle_distance(x1, y1, x2, y2):\n",
        "  # Computes the angular difference between the two pairs of spherical coordinates\n",
        "  delta_x, delta_y = x2 - x1, y2 - y1\n",
        "  haversin = sin(delta_x / 2) ** 2 + np.product([cos(x1), cos(x2), sin(delta_y / 2) ** 2])\n",
        "  return 2 * asin(haversin ** .5)"
      ],
      "metadata": {
        "id": "7meYZzYAU5PW"
      },
      "execution_count": 4,
      "outputs": []
    },
    {
      "cell_type": "markdown",
      "source": [
        "Let’s calculate the greatcircle\n",
        "distance between two points that lie 180 degrees apart relative to both the x-axis\n",
        "and the y-axis."
      ],
      "metadata": {
        "id": "Yr7ssI6bVmju"
      }
    },
    {
      "cell_type": "code",
      "source": [
        "# Computing the great-circle distance\n",
        "distance = great_circle_distance(0, 0, 0, pi)\n",
        "print(f\"The distance equals {distance} units.\")"
      ],
      "metadata": {
        "id": "HXTM2aOEVpfP",
        "outputId": "9ef41653-39c8-4649-9b1f-72dd5ef76199",
        "colab": {
          "base_uri": "https://localhost:8080/"
        }
      },
      "execution_count": 5,
      "outputs": [
        {
          "output_type": "stream",
          "name": "stdout",
          "text": [
            "The distance equals 3.141592653589793 units.\n"
          ]
        }
      ]
    },
    {
      "cell_type": "markdown",
      "source": [
        "That value is the longest possible distance we can travel between two spherical\n",
        "points. \n",
        "\n",
        "This is akin to traveling between the North and South Poles of any planet.\n",
        "\n",
        "Let’s begin by recording the known coordinates of each pole."
      ],
      "metadata": {
        "id": "9y9BSYNHc-jL"
      }
    },
    {
      "cell_type": "code",
      "source": [
        "# Defining the coordinates of Earth’s poles\n",
        "latitude_north, longitude_north = (90.0, 0)\n",
        "latitude_south, longitude_south = (-90.0, 0)"
      ],
      "metadata": {
        "id": "YfOJA_c8dIc7"
      },
      "execution_count": 6,
      "outputs": []
    },
    {
      "cell_type": "code",
      "source": [
        "# Computing the great-circle distance between poles\n",
        "to_radians = np.radians([latitude_north, longitude_north, latitude_south, longitude_south])\n",
        "distance = great_circle_distance(*to_radians.tolist())\n",
        "print(f\"The unit-circle distance between poles equals {distance} units.\")"
      ],
      "metadata": {
        "id": "6DyaRGT5dndN",
        "outputId": "42f2a62a-2792-4432-9d22-6e61f3e2cbd6",
        "colab": {
          "base_uri": "https://localhost:8080/"
        }
      },
      "execution_count": 7,
      "outputs": [
        {
          "output_type": "stream",
          "name": "stdout",
          "text": [
            "The unit-circle distance between poles equals 3.141592653589793 units.\n"
          ]
        }
      ]
    },
    {
      "cell_type": "markdown",
      "source": [
        "Now, let’s measure the\n",
        "distance between two poles here on Earth. \n",
        "\n",
        "The radius of Earth is not 1 hypothetical\n",
        "unit but rather 3956 actual miles, so we must multiply distance by 3956 to obtain a\n",
        "terrestrial measurement."
      ],
      "metadata": {
        "id": "zDkhjIEteO5r"
      }
    },
    {
      "cell_type": "code",
      "source": [
        "# Computing the travel distance between Earth’s poles\n",
        "earth_distance = 3956 * distance\n",
        "print(f\"The distance between poles equals {earth_distance} miles.\")"
      ],
      "metadata": {
        "id": "k-DKXrl6ePVk",
        "colab": {
          "base_uri": "https://localhost:8080/"
        },
        "outputId": "2c2f5b46-990d-4e27-9963-a79fcc92f6ad"
      },
      "execution_count": 8,
      "outputs": [
        {
          "output_type": "stream",
          "name": "stdout",
          "text": [
            "The distance between poles equals 12428.14053760122 miles.\n"
          ]
        }
      ]
    },
    {
      "cell_type": "code",
      "source": [
        "# Defining a travel distance function\n",
        "def travel_distance(lat1, lon1, lat2, lon2):\n",
        "  to_radians = np.radians([lat1, lon1, lat2, lon2])\n",
        "  return 3956 * great_circle_distance(*to_radians.tolist())\n",
        "\n",
        "assert travel_distance(90, 0, -90, 0) == earth_distance"
      ],
      "metadata": {
        "id": "OQJEj75Nj2sG"
      },
      "execution_count": 9,
      "outputs": []
    },
    {
      "cell_type": "markdown",
      "source": [
        "As discussed, we can pass such metrics into\n",
        "the DBSCAN clustering algorithm, so we can use `travel_distance` to cluster locations based on their spatial distributions. \n",
        "\n",
        "Then we can visually validate the clusters by\n",
        "plotting the locations on a map. This map plot can be executed using the external `Cartopy` visualization library."
      ],
      "metadata": {
        "id": "EpzeimzEJoEW"
      }
    },
    {
      "cell_type": "markdown",
      "source": [
        "##Plotting maps using Cartopy"
      ],
      "metadata": {
        "id": "QzVrxrfeo0Kl"
      }
    },
    {
      "cell_type": "markdown",
      "source": [
        "The K-means algorithm assumes that inputted data points swirl around K different centers.\n",
        "Each central coordinate is like a hidden bull’s-eye surrounded by scattered data points. \n",
        "\n",
        "The purpose of the algorithm is to uncover these hidden central coordinates."
      ],
      "metadata": {
        "id": "P_o1EAGpo5P2"
      }
    },
    {
      "cell_type": "code",
      "source": [
        "# K-means clustering using scikit-learn\n",
        "cluster_model = KMeans(n_clusters=2)\n",
        "assigned_bulls_eyes = cluster_model.fit_predict(darts)\n",
        "\n",
        "print(f\"Bull's-eye assignments:\")\n",
        "print(assigned_bulls_eyes)"
      ],
      "metadata": {
        "colab": {
          "base_uri": "https://localhost:8080/"
        },
        "id": "U_GukLTlhOxw",
        "outputId": "ddbbf290-3ec8-4347-e8bb-7d55aa05a7d3"
      },
      "execution_count": null,
      "outputs": [
        {
          "output_type": "stream",
          "name": "stdout",
          "text": [
            "Bull's-eye assignments:\n",
            "[0 0 0 ... 1 1 1]\n"
          ]
        }
      ]
    },
    {
      "cell_type": "code",
      "source": [
        "# Plotting K-means cluster assignments\n",
        "for bs_index in range(len(bulls_eyes)):\n",
        "  # Selects the darts most proximate to assigned_bulls_eyes[bs_index]\n",
        "  selected_darts = [darts[i] for i in range(len(darts)) if bs_index == assigned_bulls_eyes[i]]\n",
        "  # Separates the x and y coordinates of each dart by transposing an array of selected darts.\n",
        "  x_coordinates, y_coordinates = np.array(selected_darts).T\n",
        "  plt.scatter(x_coordinates, y_coordinates, color=[\"g\", \"k\"][bs_index])\n",
        "plt.show()"
      ],
      "metadata": {
        "colab": {
          "base_uri": "https://localhost:8080/",
          "height": 265
        },
        "id": "DaCscd45hpll",
        "outputId": "709de41a-452b-4966-e8f9-48b38d8f6ebe"
      },
      "execution_count": null,
      "outputs": [
        {
          "output_type": "display_data",
          "data": {
            "text/plain": [
              "<Figure size 432x288 with 1 Axes>"
            ],
            "image/png": "[encoded data removed]"
          },
          "metadata": {
            "needs_background": "light"
          }
        }
      ]
    },
    {
      "cell_type": "markdown",
      "source": [
        "Our clustering model has located the centroids in the data. \n",
        "\n",
        "Now we can reuse these\n",
        "centroids to analyze new data points that the model has not seen before."
      ],
      "metadata": {
        "id": "OA5NxNs1iMwJ"
      }
    },
    {
      "cell_type": "code",
      "source": [
        "# Using cluster_model to cluster new data\n",
        "def cluster_data(new_darts):\n",
        "  new_bulls_eye_assignments = cluster_model.predict(new_darts)\n",
        "  for i, dart in enumerate(new_darts):\n",
        "    bulls_eye_index = new_bulls_eye_assignments[i]\n",
        "    print(f\"Dart at {dart} is closest to bull's-eye {bulls_eye_index}\")"
      ],
      "metadata": {
        "id": "SM9pm-vUiN_x"
      },
      "execution_count": null,
      "outputs": []
    },
    {
      "cell_type": "code",
      "source": [
        "new_darts = [[500, 500], [-500, -500]]\n",
        "cluster_data(new_darts)"
      ],
      "metadata": {
        "colab": {
          "base_uri": "https://localhost:8080/"
        },
        "id": "4o2utYzbjH_C",
        "outputId": "5b2a5d0e-6bdf-48fd-b1f6-392b8579d1d1"
      },
      "execution_count": null,
      "outputs": [
        {
          "output_type": "stream",
          "name": "stdout",
          "text": [
            "Dart at [500, 500] is closest to bull's-eye 1\n",
            "Dart at [-500, -500] is closest to bull's-eye 0\n"
          ]
        }
      ]
    },
    {
      "cell_type": "code",
      "source": [
        "new_darts = [[0, 1], [6, 1]]\n",
        "cluster_data(new_darts)"
      ],
      "metadata": {
        "colab": {
          "base_uri": "https://localhost:8080/"
        },
        "id": "taJ1ZitfjSZI",
        "outputId": "2bcca926-4daa-4381-81aa-9b478f8f42bc"
      },
      "execution_count": null,
      "outputs": [
        {
          "output_type": "stream",
          "name": "stdout",
          "text": [
            "Dart at [0, 1] is closest to bull's-eye 0\n",
            "Dart at [6, 1] is closest to bull's-eye 1\n"
          ]
        }
      ]
    },
    {
      "cell_type": "code",
      "source": [
        "new_darts = [[0.5, 1.5], [6.5, 1.5]]\n",
        "cluster_data(new_darts)"
      ],
      "metadata": {
        "colab": {
          "base_uri": "https://localhost:8080/"
        },
        "id": "tNjn173pjfof",
        "outputId": "ae8264b2-bf65-4230-db6a-2f0bb9439e8b"
      },
      "execution_count": null,
      "outputs": [
        {
          "output_type": "stream",
          "name": "stdout",
          "text": [
            "Dart at [0.5, 1.5] is closest to bull's-eye 0\n",
            "Dart at [6.5, 1.5] is closest to bull's-eye 1\n"
          ]
        }
      ]
    },
    {
      "cell_type": "code",
      "source": [
        "new_darts = [[8.5, 3.5], [-3.5, 2.5]]\n",
        "cluster_data(new_darts)"
      ],
      "metadata": {
        "colab": {
          "base_uri": "https://localhost:8080/"
        },
        "id": "PLM1uk8EjpuE",
        "outputId": "3381112b-314a-4b98-dc06-c6bb5a093637"
      },
      "execution_count": null,
      "outputs": [
        {
          "output_type": "stream",
          "name": "stdout",
          "text": [
            "Dart at [8.5, 3.5] is closest to bull's-eye 1\n",
            "Dart at [-3.5, 2.5] is closest to bull's-eye 0\n"
          ]
        }
      ]
    },
    {
      "cell_type": "markdown",
      "source": [
        "###The elbow method"
      ],
      "metadata": {
        "id": "VBgLl8DUkKEt"
      }
    },
    {
      "cell_type": "markdown",
      "source": [
        "We can, however, estimate an\n",
        "appropriate value for $K$ using a technique known as the elbow method.\n",
        "\n",
        "The elbow method depends on a calculated value called inertia, which is the sum of\n",
        "the squared distances between each point and its closest K-means center.\n",
        "\n",
        "Basically, inertia estimates total\n",
        "dispersion around our K computed means.\n",
        "\n",
        "By estimating dispersion, we can determine whether our K value is too high or too low."
      ],
      "metadata": {
        "id": "WM3_NucOkMp9"
      }
    },
    {
      "cell_type": "code",
      "source": [
        "# Plotting the K-means inertia\n",
        "k_values = range(1, 10)\n",
        "\n",
        "inertia_values = [KMeans(k).fit(darts).inertia_ for k in k_values]\n",
        "\n",
        "plt.plot(k_values, inertia_values)\n",
        "plt.xlabel(\"k\")\n",
        "plt.ylabel(\"Inertia\")\n",
        "plt.show()"
      ],
      "metadata": {
        "id": "kxSE20Wyoxs8",
        "outputId": "6e6ac6b0-186b-43fd-c083-0f70f9fdd85f",
        "colab": {
          "base_uri": "https://localhost:8080/"
        }
      },
      "execution_count": null,
      "outputs": [
        {
          "output_type": "display_data",
          "data": {
            "text/plain": [
              "<Figure size 432x288 with 1 Axes>"
            ],
            "image/png": "[encoded data removed]"
          },
          "metadata": {
            "needs_background": "light"
          }
        }
      ]
    },
    {
      "cell_type": "markdown",
      "source": [
        "We can find out by adding an additional bull’s-eye to our dart-throwing simulation. \n",
        "\n",
        "After we increase the cluster count to 3, we regenerate our inertia plot."
      ],
      "metadata": {
        "id": "4E_Q8AdTp2vV"
      }
    },
    {
      "cell_type": "code",
      "source": [
        "# Plotting inertia for a 3-dartboard simulation\n",
        "new_bulls_eye = [12, 0]\n",
        "for _ in range(5000):\n",
        "  x = np.random.normal(new_bulls_eye[0], variance ** 0.5)\n",
        "  y = np.random.normal(new_bulls_eye[1], variance ** 0.5)\n",
        "  darts.append([x, y])\n",
        "\n",
        "color_by_cluster(darts)"
      ],
      "metadata": {
        "id": "aO7LBdZep5VD",
        "outputId": "8e015310-05e8-4eed-ec3f-2465012ec078",
        "colab": {
          "base_uri": "https://localhost:8080/"
        }
      },
      "execution_count": null,
      "outputs": [
        {
          "output_type": "display_data",
          "data": {
            "text/plain": [
              "<Figure size 432x288 with 1 Axes>"
            ],
            "image/png": "[encoded data removed]"
          },
          "metadata": {
            "needs_background": "light"
          }
        }
      ]
    },
    {
      "cell_type": "code",
      "source": [
        "inertia_values = [KMeans(k).fit(darts).inertia_ for k in k_values]\n",
        "\n",
        "plt.plot(k_values, inertia_values)\n",
        "plt.xlabel(\"K\")\n",
        "plt.ylabel(\"Inertia\")\n",
        "plt.show()"
      ],
      "metadata": {
        "id": "Q_By5vM3q4f8",
        "outputId": "07b36ea5-e210-4bb3-eb48-380a77550e49",
        "colab": {
          "base_uri": "https://localhost:8080/"
        }
      },
      "execution_count": null,
      "outputs": [
        {
          "output_type": "display_data",
          "data": {
            "text/plain": [
              "<Figure size 432x288 with 1 Axes>"
            ],
            "image/png": "[encoded data removed]"
          },
          "metadata": {
            "needs_background": "light"
          }
        }
      ]
    },
    {
      "cell_type": "markdown",
      "source": [
        "The elbow method isn’t perfect, but it performs reasonably well if the data is centered on $K$ distinct means. Of course, this assumes that our data clusters differ due to centrality.\n",
        "\n",
        "However, in many instances, data clusters differ due to the density of the data points in space."
      ],
      "metadata": {
        "id": "fy84EquHsIHg"
      }
    },
    {
      "cell_type": "markdown",
      "source": [
        "##Using density to discover clusters"
      ],
      "metadata": {
        "id": "SnBEWx5PsRVE"
      }
    },
    {
      "cell_type": "markdown",
      "source": [
        "Let’s generate three rock rings composed of\n",
        "many rocks."
      ],
      "metadata": {
        "id": "J3g49htisWbg"
      }
    },
    {
      "cell_type": "code",
      "source": [
        "# Simulating rings around a planet\n",
        "x_coordinates = []\n",
        "y_coordinates = []\n",
        "\n",
        "for factor in [.3, .6, 0.99]:\n",
        "  rock_ring, _ = make_circles(n_samples=800, factor=factor, noise=0.03, random_state=1)\n",
        "  for rock in rock_ring:\n",
        "    x_coordinates.append(rock[0])\n",
        "    y_coordinates.append(rock[1])\n",
        "plt.scatter(x_coordinates, y_coordinates)\n",
        "plt.show()"
      ],
      "metadata": {
        "id": "XYbx3LSl0ZeT",
        "outputId": "d3a0ad63-5113-4a23-d58f-118863849c8e",
        "colab": {
          "base_uri": "https://localhost:8080/",
          "height": 265
        }
      },
      "execution_count": null,
      "outputs": [
        {
          "output_type": "display_data",
          "data": {
            "text/plain": [
              "<Figure size 432x288 with 1 Axes>"
            ],
            "image/png": "[encoded data removed]"
          },
          "metadata": {
            "needs_background": "light"
          }
        }
      ]
    },
    {
      "cell_type": "markdown",
      "source": [
        "Let’s search for these three clusters\n",
        "using K-means by setting `K` to 3."
      ],
      "metadata": {
        "id": "Xx2SMSkV1SH1"
      }
    },
    {
      "cell_type": "code",
      "source": [
        "# Using K-means to cluster rings\n",
        "rocks = [[x_coordinates[i], y_coordinates[i]] for i in range(len(x_coordinates))]\n",
        "rock_clusters = KMeans(3).fit_predict(rocks)\n",
        "\n",
        "colors = [[\"g\", \"y\", \"k\"][cluster] for cluster in rock_clusters]\n",
        "plt.scatter(x_coordinates, y_coordinates, color=colors)\n",
        "plt.show()"
      ],
      "metadata": {
        "id": "C8I_RVr21Stl",
        "outputId": "630ba33b-f84a-4f86-e1dc-d40f2776e204",
        "colab": {
          "base_uri": "https://localhost:8080/",
          "height": 265
        }
      },
      "execution_count": null,
      "outputs": [
        {
          "output_type": "display_data",
          "data": {
            "text/plain": [
              "<Figure size 432x288 with 1 Axes>"
            ],
            "image/png": "[encoded data removed]"
          },
          "metadata": {
            "needs_background": "light"
          }
        }
      ]
    },
    {
      "cell_type": "markdown",
      "source": [
        "One simple definition of density is as follows: a point is in a dense region only if it’s located within a distance\n",
        "X of Y other points. \n",
        "\n",
        "We’ll refer to X and Y as `epsilon` and `min_points`,\n",
        "respectively."
      ],
      "metadata": {
        "id": "ikrZwRbY9cfD"
      }
    },
    {
      "cell_type": "code",
      "source": [
        "# Specifying density parameters\n",
        "epsilon = 0.1\n",
        "min_points = 10"
      ],
      "metadata": {
        "id": "7T0sddO19ied"
      },
      "execution_count": null,
      "outputs": []
    },
    {
      "cell_type": "markdown",
      "source": [
        "Let’s analyze the density of the first rock in our rocks list."
      ],
      "metadata": {
        "id": "cI3HMnmU9vbx"
      }
    },
    {
      "cell_type": "code",
      "source": [
        "# Finding the neighbors of rocks[0]\n",
        "neighbor_indices = [i for i, rock in enumerate(rocks[1:]) if euclidean(rocks[0], rock) <= epsilon]"
      ],
      "metadata": {
        "id": "8KnGMR1C9v2i"
      },
      "execution_count": null,
      "outputs": []
    },
    {
      "cell_type": "markdown",
      "source": [
        "Now we compare the number of neighbors to `min_points` to determine whether\n",
        "`rocks[0]` lies in a dense region of space."
      ],
      "metadata": {
        "id": "2ibSMHyz-HNj"
      }
    },
    {
      "cell_type": "code",
      "source": [
        "# Checking the density of rocks[0]\n",
        "num_neighbors = len(neighbor_indices)\n",
        "print(f\"The rock at index 0 has {num_neighbors} neighbors.\")\n",
        "\n",
        "if num_neighbors >= min_points:\n",
        "  print(f\"It lies in a dense region.\")\n",
        "else:\n",
        "  print(\"It does not lie in a dense region.\")"
      ],
      "metadata": {
        "id": "4Obn9BlM-KEM",
        "outputId": "fa38ecb8-875a-4571-ea99-55d914e4701b",
        "colab": {
          "base_uri": "https://localhost:8080/"
        }
      },
      "execution_count": null,
      "outputs": [
        {
          "output_type": "stream",
          "name": "stdout",
          "text": [
            "The rock at index 0 has 40 neighbors.\n",
            "It lies in a dense region.\n"
          ]
        }
      ]
    },
    {
      "cell_type": "code",
      "source": [
        "# Creating a dense cluster\n",
        "dense_region_indices = [0] + neighbor_indices\n",
        "dense_region_cluster = [rocks[i] for i in dense_region_indices]\n",
        "dense_cluster_size = len(dense_region_cluster)\n",
        "print(f\"We found a dense cluster containing {dense_cluster_size} rocks.\")"
      ],
      "metadata": {
        "id": "M1FTM2QT-5mZ",
        "outputId": "92c8fc92-4271-4f95-cee8-838f38970723",
        "colab": {
          "base_uri": "https://localhost:8080/"
        }
      },
      "execution_count": null,
      "outputs": [
        {
          "output_type": "stream",
          "name": "stdout",
          "text": [
            "We found a dense cluster containing 41 rocks.\n"
          ]
        }
      ]
    },
    {
      "cell_type": "code",
      "source": [
        "# Expanding a dense cluster\n",
        "dense_region_indices = set(dense_region_indices)  # Converts dense_region_indices into a set\n",
        "for index in neighbor_indices:\n",
        "  point = rocks[index]\n",
        "  neighbors_of_neighbors = [i for i, rock in enumerate(rocks) if euclidean(point, rock) <= epsilon]\n",
        "  if len(neighbors_of_neighbors) >= min_points:\n",
        "    dense_region_indices.update(neighbors_of_neighbors)\n",
        "\n",
        "dense_region_cluster = [rocks[i] for i in dense_region_indices]\n",
        "dense_cluster_size = len(dense_region_cluster)\n",
        "print(f\"We expanded our cluster to include {dense_cluster_size} rocks.\")"
      ],
      "metadata": {
        "id": "lH010CIY_Rhm",
        "outputId": "33a0f61d-0758-47f0-b715-7e7a31e23e62",
        "colab": {
          "base_uri": "https://localhost:8080/"
        }
      },
      "execution_count": null,
      "outputs": [
        {
          "output_type": "stream",
          "name": "stdout",
          "text": [
            "We expanded our cluster to include 781 rocks.\n"
          ]
        }
      ]
    },
    {
      "cell_type": "markdown",
      "source": [
        "The procedure just described is known as DBSCAN. The DBSCAN algorithm organizes data based on its spatial distribution."
      ],
      "metadata": {
        "id": "L9vhUqoRCMjv"
      }
    },
    {
      "cell_type": "markdown",
      "source": [
        "##DBSCAN algorithm "
      ],
      "metadata": {
        "id": "W-DqkPunCRKr"
      }
    },
    {
      "cell_type": "markdown",
      "source": [
        "DBSCAN is an acronym that stands for density-based spatial clustering of applications with noise."
      ],
      "metadata": {
        "id": "BJrdhkmBCR7k"
      }
    },
    {
      "cell_type": "code",
      "source": [
        "# Using DBSCAN to cluster rings\n",
        "cluster_model = DBSCAN(eps=epsilon, min_samples=min_points)\n",
        "# Clusters the rock rings based on density\n",
        "rock_clusters = cluster_model.fit_predict(rocks)\n",
        "\n",
        "colors = [[\"g\", \"y\", \"k\"][cluster] for cluster in rock_clusters]\n",
        "plt.scatter(x_coordinates, y_coordinates, color=colors)\n",
        "plt.show()"
      ],
      "metadata": {
        "id": "BeqQf1CmlGPs",
        "outputId": "f3bec1ca-3998-49dd-bf8c-e5980ba4bb45",
        "colab": {
          "base_uri": "https://localhost:8080/",
          "height": 265
        }
      },
      "execution_count": null,
      "outputs": [
        {
          "output_type": "display_data",
          "data": {
            "text/plain": [
              "<Figure size 432x288 with 1 Axes>"
            ],
            "image/png": "[encoded data removed]"
          },
          "metadata": {
            "needs_background": "light"
          }
        }
      ]
    },
    {
      "cell_type": "markdown",
      "source": [
        "###Comparing DBSCAN and K-means"
      ],
      "metadata": {
        "id": "ONUq8HEVmA2U"
      }
    },
    {
      "cell_type": "markdown",
      "source": [
        "DBSCAN is an advantageous algorithm for clustering data composed of curving and\n",
        "dense shapes. Also, unlike K-means, the algorithm doesn’t require an approximation\n",
        "of the cluster count before execution. \n",
        "\n",
        "Additionally, DBSCAN can filter random outliers\n",
        "located in sparse regions of space."
      ],
      "metadata": {
        "id": "WQFzphKMmCLk"
      }
    },
    {
      "cell_type": "code",
      "source": [
        "# Finding outliers using DBSCAN\n",
        "noisy_data = rocks + [[1000, -1000]]\n",
        "\n",
        "clusters = DBSCAN(eps=epsilon, min_samples=min_points).fit_predict(noisy_data)\n",
        "assert clusters[-1] == -1"
      ],
      "metadata": {
        "id": "K4bz00lFmGbY"
      },
      "execution_count": null,
      "outputs": []
    },
    {
      "cell_type": "markdown",
      "source": [
        "Another advantage of the DBSCAN technique is that it does not depend on the mean."
      ],
      "metadata": {
        "id": "DNzPLsfqmmR5"
      }
    },
    {
      "cell_type": "markdown",
      "source": [
        "###Clustering based on non-Euclidean distance"
      ],
      "metadata": {
        "id": "dtF8HTY6mrGW"
      }
    },
    {
      "cell_type": "code",
      "source": [
        "# Computing the Manhattan distance\n",
        "def manhattan_distance(point_a, point_b):\n",
        "  num_blocks = np.sum(np.absolute(point_a - point_b))\n",
        "  return 0.17 * num_blocks"
      ],
      "metadata": {
        "id": "tshwIFu8mgmn"
      },
      "execution_count": null,
      "outputs": []
    },
    {
      "cell_type": "code",
      "source": [
        "x = np.array([34, 5])\n",
        "y = np.array([57, 8])\n",
        "\n",
        "distance = manhattan_distance(x, y)\n",
        "print(f\"Manhattan distance is {distance} miles.\")"
      ],
      "metadata": {
        "id": "vUMuo-_NmyLo",
        "outputId": "6705249e-bba5-4ebb-9f19-9b64a0235482",
        "colab": {
          "base_uri": "https://localhost:8080/"
        }
      },
      "execution_count": null,
      "outputs": [
        {
          "output_type": "stream",
          "name": "stdout",
          "text": [
            "Manhattan distance is 4.42 miles.\n"
          ]
        }
      ]
    },
    {
      "cell_type": "code",
      "source": [
        "# Clustering using Manhattan distance\n",
        "points = [[35, 5], [33, 6], [37, 4], [40, 7], [45, 5]]\n",
        "clusters = DBSCAN(eps=1, min_samples=3, metric=manhattan_distance).fit_predict(points)\n",
        "for i, cluster in enumerate(clusters):\n",
        "  point = points[i]\n",
        "  if cluster == -1:\n",
        "    print(f\"Point at index {i} is an outlier\")\n",
        "    plt.scatter(point[0], point[1], marker=\"x\", color=\"k\")\n",
        "  else:\n",
        "    print(f\"Point at index {i} is in cluster {cluster}\")\n",
        "    plt.scatter(point[0], point[1], color=\"g\")\n",
        "\n",
        "# displays the rectangular grid\n",
        "plt.grid(True, which=\"both\", alpha=0.5)\n",
        "plt.minorticks_on()\n",
        "plt.show()"
      ],
      "metadata": {
        "id": "CrNhxiYMnIQh",
        "outputId": "7593e69d-c2ea-49e7-b339-d6d80e92dce4",
        "colab": {
          "base_uri": "https://localhost:8080/"
        }
      },
      "execution_count": null,
      "outputs": [
        {
          "output_type": "stream",
          "name": "stdout",
          "text": [
            "Point at index 0 is in cluster 0\n",
            "Point at index 1 is in cluster 0\n",
            "Point at index 2 is in cluster 0\n",
            "Point at index 3 is an outlier\n",
            "Point at index 4 is an outlier\n"
          ]
        },
        {
          "output_type": "display_data",
          "data": {
            "text/plain": [
              "<Figure size 432x288 with 1 Axes>"
            ],
            "image/png": "[encoded data removed]"
          },
          "metadata": {
            "needs_background": "light"
          }
        }
      ]
    },
    {
      "cell_type": "markdown",
      "source": [
        "Unlike K-means, the DBSCAN algorithm does not require our distance function to be\n",
        "linearly divisible. \n",
        "\n",
        "Thus, we can easily run DBSCAN clustering using our ridiculous distance\n",
        "metric."
      ],
      "metadata": {
        "id": "lov_r0wwo0K1"
      }
    },
    {
      "cell_type": "code",
      "source": [
        "# Clustering using a ridiculous measure of distance\n",
        "def ridiculous_measure(point_a, point_b):\n",
        "  # Returns a Boolean array\n",
        "  is_negative_a = np.array(point_a) < 0\n",
        "  is_negative_b = np.array(point_b) < 0\n",
        "\n",
        "  # All elements of point_a and point_b are negative\n",
        "  if is_negative_a.all() and is_negative_b.all():\n",
        "    return 0\n",
        "  elif is_negative_a.any() and is_negative_b.any():  # A negative element exists, but not all elements are negative\n",
        "    return 10\n",
        "  else:  # All elements are non-negative\n",
        "    return 2"
      ],
      "metadata": {
        "id": "2ouPAhMSo02z"
      },
      "execution_count": null,
      "outputs": []
    },
    {
      "cell_type": "code",
      "source": [
        "points = [[-1, -1], [-10, -10], [-1000, -13435], [3, 5], [5, -7]]\n",
        "clusters = DBSCAN(eps=.1, min_samples=2, metric=ridiculous_measure).fit_predict(points)\n",
        "for i, cluster in enumerate(clusters):\n",
        "  point = points[i]\n",
        "  if cluster == -1:\n",
        "    print(f\"{point} is an outlier\")\n",
        "  else:\n",
        "    print(f\"{point} falls in cluster {cluster}\")"
      ],
      "metadata": {
        "id": "Fh6BfOh4rT5_",
        "outputId": "ecd6588f-bb2d-444b-8b93-b68addbada12",
        "colab": {
          "base_uri": "https://localhost:8080/"
        }
      },
      "execution_count": null,
      "outputs": [
        {
          "output_type": "stream",
          "name": "stdout",
          "text": [
            "[-1, -1] falls in cluster 0\n",
            "[-10, -10] falls in cluster 0\n",
            "[-1000, -13435] falls in cluster 0\n",
            "[3, 5] is an outlier\n",
            "[5, -7] is an outlier\n"
          ]
        }
      ]
    },
    {
      "cell_type": "markdown",
      "source": [
        "DBSCAN does have certain drawbacks. The algorithm is intended to detect clusters\n",
        "with similar point-density distributions. However, real-world data varies in density.\n",
        "\n",
        "This highlights another limitation of\n",
        "the algorithm: DBSCAN requires meaningful values for the eps and min_samples\n",
        "parameters. In particular, varying eps inputs will greatly impact the quality of clustering.\n",
        "Unfortunately, there is no one reliable procedure for estimating the appropriate\n",
        "eps."
      ],
      "metadata": {
        "id": "ykM8nBGysexS"
      }
    },
    {
      "cell_type": "markdown",
      "source": [
        "##Analyzing clusters using Pandas"
      ],
      "metadata": {
        "id": "vpj_uboDs1FL"
      }
    },
    {
      "cell_type": "markdown",
      "source": [
        "Our Pandas table lets us easily access the rocks in any cluster."
      ],
      "metadata": {
        "id": "RUWJ-Y4b9-32"
      }
    },
    {
      "cell_type": "code",
      "source": [
        "# Storing clustered coordinates in a table\n",
        "x_coordinates, y_coordinates = np.array(rocks).T\n",
        "\n",
        "df = pd.DataFrame({\"X\": x_coordinates, \"Y\": y_coordinates, \"Cluster\": rock_clusters})"
      ],
      "metadata": {
        "id": "nXpKWxY69lWW"
      },
      "execution_count": null,
      "outputs": []
    },
    {
      "cell_type": "markdown",
      "source": [
        "Let’s plot the rocks that\n",
        "fall into cluster 0."
      ],
      "metadata": {
        "id": "91z-eoWq-Dcv"
      }
    },
    {
      "cell_type": "code",
      "source": [
        "# Plotting a single cluster using Pandas\n",
        "\n",
        "# Select just those rows where the Cluster column equals 0\n",
        "df_cluster = df[df.Cluster == 0]\n",
        "plt.scatter(df_cluster.X, df_cluster.Y)\n",
        "plt.show()"
      ],
      "metadata": {
        "id": "nmSOIP67-EUp",
        "outputId": "2a77f5ee-4da3-4c00-b5eb-263dc9a386d8",
        "colab": {
          "base_uri": "https://localhost:8080/",
          "height": 265
        }
      },
      "execution_count": null,
      "outputs": [
        {
          "output_type": "display_data",
          "data": {
            "text/plain": [
              "<Figure size 432x288 with 1 Axes>"
            ],
            "image/png": "[encoded data removed]"
          },
          "metadata": {
            "needs_background": "light"
          }
        }
      ]
    },
    {
      "cell_type": "code",
      "source": [
        "# Iterating over clusters using Pandas\n",
        "for cluster_id, df_cluster in df.groupby(\"Cluster\"):\n",
        "  if cluster_id == 0:\n",
        "    print(f\"Skipping over cluster {cluster_id}\")\n",
        "    continue\n",
        "  print(f\"Plotting cluster {cluster_id}\")\n",
        "  plt.scatter(df_cluster.X, df_cluster.Y)\n",
        "plt.show()"
      ],
      "metadata": {
        "id": "DW2C4Iix_TlC",
        "outputId": "11840ee1-0c57-4861-e920-9e60811fda91",
        "colab": {
          "base_uri": "https://localhost:8080/",
          "height": 317
        }
      },
      "execution_count": null,
      "outputs": [
        {
          "output_type": "stream",
          "name": "stdout",
          "text": [
            "Skipping over cluster 0\n",
            "Plotting cluster 1\n",
            "Plotting cluster 2\n"
          ]
        },
        {
          "output_type": "display_data",
          "data": {
            "text/plain": [
              "<Figure size 432x288 with 1 Axes>"
            ],
            "image/png": "[encoded data removed]"
          },
          "metadata": {
            "needs_background": "light"
          }
        }
      ]
    },
    {
      "cell_type": "markdown",
      "source": [
        "The Pandas groupby method lets us iteratively examine different clusters."
      ],
      "metadata": {
        "id": "vhsnVyFhAN0q"
      }
    }
  ]
}