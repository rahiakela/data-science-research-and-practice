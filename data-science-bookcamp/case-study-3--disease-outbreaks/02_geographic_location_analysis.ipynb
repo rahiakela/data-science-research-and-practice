{
  "nbformat": 4,
  "nbformat_minor": 0,
  "metadata": {
    "colab": {
      "name": "02-geographic-location-analysis.ipynb",
      "provenance": [],
      "toc_visible": true,
      "authorship_tag": "ABX9TyOAhV5tl3ImI70JDADFgqTD",
      "include_colab_link": true
    },
    "kernelspec": {
      "name": "python3",
      "display_name": "Python 3"
    },
    "language_info": {
      "name": "python"
    }
  },
  "cells": [
    {
      "cell_type": "markdown",
      "metadata": {
        "id": "view-in-github",
        "colab_type": "text"
      },
      "source": [
        "<a href=\"https://colab.research.google.com/github/rahiakela/data-science-research-and-practice/blob/main/data-science-bookcamp/case-study-3--disease-outbreaks/02_geographic_location_analysis.ipynb\" target=\"_parent\"><img src=\"https://colab.research.google.com/assets/colab-badge.svg\" alt=\"Open In Colab\"/></a>"
      ]
    },
    {
      "cell_type": "markdown",
      "source": [
        "##Geographic location analysis"
      ],
      "metadata": {
        "id": "dcQpX5ibRkrc"
      }
    },
    {
      "cell_type": "markdown",
      "source": [
        "This navigation paradigm perfectly encapsulates the standard data science process. As\n",
        "data scientists, we are offered raw observations. We algorithmically analyze that data.\n",
        "Then, we visualize the results to make critical decisions. Thus, data science and location\n",
        "analysis are linked. That link has only grown stronger through the centuries.\n",
        "\n",
        "Hedge funds study satellite photos of farmlands to make bets on the\n",
        "global soybean market. Transport-service providers analyze vast traffic patterns to efficiently\n",
        "route fleets of cars. Epidemiologists process newspaper data to monitor the\n",
        "global spread of disease.\n",
        "\n",
        "In this notebook, we explore a variety of techniques for analyzing and visualizing geographic\n",
        "locations. We begin with the simple task of calculating the distance between\n",
        "two geographic points."
      ],
      "metadata": {
        "id": "bjJEiZW4Rw8s"
      }
    },
    {
      "cell_type": "markdown",
      "source": [
        "##Setup"
      ],
      "metadata": {
        "id": "VXaSlSqRUSYq"
      }
    },
    {
      "cell_type": "code",
      "source": [
        "!pip -q install cartopy"
      ],
      "metadata": {
        "id": "XhbZP37LFjp7"
      },
      "execution_count": null,
      "outputs": []
    },
    {
      "cell_type": "code",
      "source": [
        "from collections import defaultdict\n",
        "import itertools\n",
        "\n",
        "import numpy as np\n",
        "import pandas as pd\n",
        "from scipy import stats\n",
        "from math import cos, sin, asin\n",
        "from math import pi\n",
        "\n",
        "from sklearn.cluster import KMeans\n",
        "from sklearn.cluster import DBSCAN\n",
        "\n",
        "from scipy.spatial.distance import euclidean\n",
        "from sklearn.datasets import make_circles\n",
        "\n",
        "import cartopy\n",
        "import seaborn as sns\n",
        "import matplotlib.pyplot as plt"
      ],
      "metadata": {
        "id": "ACckSsnoUTmE"
      },
      "execution_count": null,
      "outputs": []
    },
    {
      "cell_type": "markdown",
      "source": [
        "##The great-circle distance"
      ],
      "metadata": {
        "id": "r8H1yvPNUcfB"
      }
    },
    {
      "cell_type": "markdown",
      "source": [
        "We can compute the great-circle distance given a sphere and two points on that\n",
        "sphere. \n",
        "\n",
        "Any point on the sphere’s surface can be represented using spherical coordinates\n",
        "x and y, where x and y measure the angles of the point relative to the x-axis and y-axis."
      ],
      "metadata": {
        "id": "FC1Mb1yEUdtp"
      }
    },
    {
      "cell_type": "code",
      "source": [
        "# Defining a great-circle distance function\n",
        "def great_circle_distance(x1, y1, x2, y2):\n",
        "  # Computes the angular difference between the two pairs of spherical coordinates\n",
        "  delta_x, delta_y = x2 - x1, y2 - y1\n",
        "  haversin = sin(delta_x / 2) ** 2 + np.product([cos(x1), cos(x2), sin(delta_y / 2) ** 2])\n",
        "  return 2 * asin(haversin ** .5)"
      ],
      "metadata": {
        "id": "7meYZzYAU5PW"
      },
      "execution_count": null,
      "outputs": []
    },
    {
      "cell_type": "markdown",
      "source": [
        "Let’s calculate the greatcircle\n",
        "distance between two points that lie 180 degrees apart relative to both the x-axis\n",
        "and the y-axis."
      ],
      "metadata": {
        "id": "Yr7ssI6bVmju"
      }
    },
    {
      "cell_type": "code",
      "source": [
        "# Computing the great-circle distance\n",
        "distance = great_circle_distance(0, 0, 0, pi)\n",
        "print(f\"The distance equals {distance} units.\")"
      ],
      "metadata": {
        "id": "HXTM2aOEVpfP",
        "outputId": "9ef41653-39c8-4649-9b1f-72dd5ef76199",
        "colab": {
          "base_uri": "https://localhost:8080/"
        }
      },
      "execution_count": null,
      "outputs": [
        {
          "output_type": "stream",
          "name": "stdout",
          "text": [
            "The distance equals 3.141592653589793 units.\n"
          ]
        }
      ]
    },
    {
      "cell_type": "markdown",
      "source": [
        "That value is the longest possible distance we can travel between two spherical\n",
        "points. \n",
        "\n",
        "This is akin to traveling between the North and South Poles of any planet.\n",
        "\n",
        "Let’s begin by recording the known coordinates of each pole."
      ],
      "metadata": {
        "id": "9y9BSYNHc-jL"
      }
    },
    {
      "cell_type": "code",
      "source": [
        "# Defining the coordinates of Earth’s poles\n",
        "latitude_north, longitude_north = (90.0, 0)\n",
        "latitude_south, longitude_south = (-90.0, 0)"
      ],
      "metadata": {
        "id": "YfOJA_c8dIc7"
      },
      "execution_count": null,
      "outputs": []
    },
    {
      "cell_type": "code",
      "source": [
        "# Computing the great-circle distance between poles\n",
        "to_radians = np.radians([latitude_north, longitude_north, latitude_south, longitude_south])\n",
        "distance = great_circle_distance(*to_radians.tolist())\n",
        "print(f\"The unit-circle distance between poles equals {distance} units.\")"
      ],
      "metadata": {
        "id": "6DyaRGT5dndN",
        "outputId": "42f2a62a-2792-4432-9d22-6e61f3e2cbd6",
        "colab": {
          "base_uri": "https://localhost:8080/"
        }
      },
      "execution_count": null,
      "outputs": [
        {
          "output_type": "stream",
          "name": "stdout",
          "text": [
            "The unit-circle distance between poles equals 3.141592653589793 units.\n"
          ]
        }
      ]
    },
    {
      "cell_type": "markdown",
      "source": [
        "Now, let’s measure the\n",
        "distance between two poles here on Earth. \n",
        "\n",
        "The radius of Earth is not 1 hypothetical\n",
        "unit but rather 3956 actual miles, so we must multiply distance by 3956 to obtain a\n",
        "terrestrial measurement."
      ],
      "metadata": {
        "id": "zDkhjIEteO5r"
      }
    },
    {
      "cell_type": "code",
      "source": [
        "# Computing the travel distance between Earth’s poles\n",
        "earth_distance = 3956 * distance\n",
        "print(f\"The distance between poles equals {earth_distance} miles.\")"
      ],
      "metadata": {
        "id": "k-DKXrl6ePVk",
        "colab": {
          "base_uri": "https://localhost:8080/"
        },
        "outputId": "2c2f5b46-990d-4e27-9963-a79fcc92f6ad"
      },
      "execution_count": null,
      "outputs": [
        {
          "output_type": "stream",
          "name": "stdout",
          "text": [
            "The distance between poles equals 12428.14053760122 miles.\n"
          ]
        }
      ]
    },
    {
      "cell_type": "code",
      "source": [
        "# Defining a travel distance function\n",
        "def travel_distance(lat1, lon1, lat2, lon2):\n",
        "  to_radians = np.radians([lat1, lon1, lat2, lon2])\n",
        "  return 3956 * great_circle_distance(*to_radians.tolist())\n",
        "\n",
        "assert travel_distance(90, 0, -90, 0) == earth_distance"
      ],
      "metadata": {
        "id": "OQJEj75Nj2sG"
      },
      "execution_count": null,
      "outputs": []
    },
    {
      "cell_type": "markdown",
      "source": [
        "As discussed, we can pass such metrics into\n",
        "the DBSCAN clustering algorithm, so we can use `travel_distance` to cluster locations based on their spatial distributions. \n",
        "\n",
        "Then we can visually validate the clusters by\n",
        "plotting the locations on a map. This map plot can be executed using the external `Cartopy` visualization library."
      ],
      "metadata": {
        "id": "EpzeimzEJoEW"
      }
    },
    {
      "cell_type": "markdown",
      "source": [
        "##Plotting maps using Cartopy"
      ],
      "metadata": {
        "id": "QzVrxrfeo0Kl"
      }
    },
    {
      "cell_type": "markdown",
      "source": [
        "The K-means algorithm assumes that inputted data points swirl around K different centers.\n",
        "Each central coordinate is like a hidden bull’s-eye surrounded by scattered data points. \n",
        "\n",
        "The purpose of the algorithm is to uncover these hidden central coordinates."
      ],
      "metadata": {
        "id": "P_o1EAGpo5P2"
      }
    },
    {
      "cell_type": "code",
      "source": [
        "# K-means clustering using scikit-learn\n",
        "cluster_model = KMeans(n_clusters=2)\n",
        "assigned_bulls_eyes = cluster_model.fit_predict(darts)\n",
        "\n",
        "print(f\"Bull's-eye assignments:\")\n",
        "print(assigned_bulls_eyes)"
      ],
      "metadata": {
        "colab": {
          "base_uri": "https://localhost:8080/"
        },
        "id": "U_GukLTlhOxw",
        "outputId": "ddbbf290-3ec8-4347-e8bb-7d55aa05a7d3"
      },
      "execution_count": null,
      "outputs": [
        {
          "output_type": "stream",
          "name": "stdout",
          "text": [
            "Bull's-eye assignments:\n",
            "[0 0 0 ... 1 1 1]\n"
          ]
        }
      ]
    },
    {
      "cell_type": "code",
      "source": [
        "# Plotting K-means cluster assignments\n",
        "for bs_index in range(len(bulls_eyes)):\n",
        "  # Selects the darts most proximate to assigned_bulls_eyes[bs_index]\n",
        "  selected_darts = [darts[i] for i in range(len(darts)) if bs_index == assigned_bulls_eyes[i]]\n",
        "  # Separates the x and y coordinates of each dart by transposing an array of selected darts.\n",
        "  x_coordinates, y_coordinates = np.array(selected_darts).T\n",
        "  plt.scatter(x_coordinates, y_coordinates, color=[\"g\", \"k\"][bs_index])\n",
        "plt.show()"
      ],
      "metadata": {
        "colab": {
          "base_uri": "https://localhost:8080/",
          "height": 265
        },
        "id": "DaCscd45hpll",
        "outputId": "709de41a-452b-4966-e8f9-48b38d8f6ebe"
      },
      "execution_count": null,
      "outputs": [
        {
          "output_type": "display_data",
          "data": {
            "text/plain": [
              "<Figure size 432x288 with 1 Axes>"
            ],
            "image/png": "[encoded data removed]"
          },
          "metadata": {
            "needs_background": "light"
          }
        }
      ]
    },
    {
      "cell_type": "markdown",
      "source": [
        "Our clustering model has located the centroids in the data. \n",
        "\n",
        "Now we can reuse these\n",
        "centroids to analyze new data points that the model has not seen before."
      ],
      "metadata": {
        "id": "OA5NxNs1iMwJ"
      }
    },
    {
      "cell_type": "code",
      "source": [
        "# Using cluster_model to cluster new data\n",
        "def cluster_data(new_darts):\n",
        "  new_bulls_eye_assignments = cluster_model.predict(new_darts)\n",
        "  for i, dart in enumerate(new_darts):\n",
        "    bulls_eye_index = new_bulls_eye_assignments[i]\n",
        "    print(f\"Dart at {dart} is closest to bull's-eye {bulls_eye_index}\")"
      ],
      "metadata": {
        "id": "SM9pm-vUiN_x"
      },
      "execution_count": null,
      "outputs": []
    },
    {
      "cell_type": "code",
      "source": [
        "new_darts = [[500, 500], [-500, -500]]\n",
        "cluster_data(new_darts)"
      ],
      "metadata": {
        "colab": {
          "base_uri": "https://localhost:8080/"
        },
        "id": "4o2utYzbjH_C",
        "outputId": "5b2a5d0e-6bdf-48fd-b1f6-392b8579d1d1"
      },
      "execution_count": null,
      "outputs": [
        {
          "output_type": "stream",
          "name": "stdout",
          "text": [
            "Dart at [500, 500] is closest to bull's-eye 1\n",
            "Dart at [-500, -500] is closest to bull's-eye 0\n"
          ]
        }
      ]
    },
    {
      "cell_type": "code",
      "source": [
        "new_darts = [[0, 1], [6, 1]]\n",
        "cluster_data(new_darts)"
      ],
      "metadata": {
        "colab": {
          "base_uri": "https://localhost:8080/"
        },
        "id": "taJ1ZitfjSZI",
        "outputId": "2bcca926-4daa-4381-81aa-9b478f8f42bc"
      },
      "execution_count": null,
      "outputs": [
        {
          "output_type": "stream",
          "name": "stdout",
          "text": [
            "Dart at [0, 1] is closest to bull's-eye 0\n",
            "Dart at [6, 1] is closest to bull's-eye 1\n"
          ]
        }
      ]
    },
    {
      "cell_type": "code",
      "source": [
        "new_darts = [[0.5, 1.5], [6.5, 1.5]]\n",
        "cluster_data(new_darts)"
      ],
      "metadata": {
        "colab": {
          "base_uri": "https://localhost:8080/"
        },
        "id": "tNjn173pjfof",
        "outputId": "ae8264b2-bf65-4230-db6a-2f0bb9439e8b"
      },
      "execution_count": null,
      "outputs": [
        {
          "output_type": "stream",
          "name": "stdout",
          "text": [
            "Dart at [0.5, 1.5] is closest to bull's-eye 0\n",
            "Dart at [6.5, 1.5] is closest to bull's-eye 1\n"
          ]
        }
      ]
    },
    {
      "cell_type": "code",
      "source": [
        "new_darts = [[8.5, 3.5], [-3.5, 2.5]]\n",
        "cluster_data(new_darts)"
      ],
      "metadata": {
        "colab": {
          "base_uri": "https://localhost:8080/"
        },
        "id": "PLM1uk8EjpuE",
        "outputId": "3381112b-314a-4b98-dc06-c6bb5a093637"
      },
      "execution_count": null,
      "outputs": [
        {
          "output_type": "stream",
          "name": "stdout",
          "text": [
            "Dart at [8.5, 3.5] is closest to bull's-eye 1\n",
            "Dart at [-3.5, 2.5] is closest to bull's-eye 0\n"
          ]
        }
      ]
    }
  ]
}