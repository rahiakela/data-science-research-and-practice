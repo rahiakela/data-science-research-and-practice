{
  "nbformat": 4,
  "nbformat_minor": 0,
  "metadata": {
    "colab": {
      "name": "03-case-study-disease-outbreaks.ipynb",
      "provenance": [],
      "toc_visible": true,
      "authorship_tag": "ABX9TyNgcVqtMjKqQtHsfMqTi61p",
      "include_colab_link": true
    },
    "kernelspec": {
      "name": "python3",
      "display_name": "Python 3"
    },
    "language_info": {
      "name": "python"
    }
  },
  "cells": [
    {
      "cell_type": "markdown",
      "metadata": {
        "id": "view-in-github",
        "colab_type": "text"
      },
      "source": [
        "<a href=\"https://colab.research.google.com/github/rahiakela/data-science-research-and-practice/blob/main/data-science-bookcamp/case-study-3--disease-outbreaks/03_case_study_disease_outbreaks.ipynb\" target=\"_parent\"><img src=\"https://colab.research.google.com/assets/colab-badge.svg\" alt=\"Open In Colab\"/></a>"
      ]
    },
    {
      "cell_type": "markdown",
      "source": [
        "##Case Study: disease outbreaks"
      ],
      "metadata": {
        "id": "dcQpX5ibRkrc"
      }
    },
    {
      "cell_type": "markdown",
      "source": [
        "Our goal is to extract locations from disease-related headlines to uncover the largest active epidemics within and outside of the United States. \n",
        "\n",
        "We will do as follows:\n",
        "\n",
        "1. Load the data.\n",
        "2. Extract locations from the text using regular expressions and the GeoNames-\n",
        "Cache library.\n",
        "3. Check the location matches for errors.\n",
        "4. Cluster the locations based on geographic distance.\n",
        "5. Visualize the clusters on a map, and remove any errors.\n",
        "6. Output representative locations from the largest clusters to draw interesting conclusions."
      ],
      "metadata": {
        "id": "bjJEiZW4Rw8s"
      }
    },
    {
      "cell_type": "markdown",
      "source": [
        "##Setup"
      ],
      "metadata": {
        "id": "VXaSlSqRUSYq"
      }
    },
    {
      "cell_type": "markdown",
      "source": [
        "Reference:\n",
        "https://colab.research.google.com/github/astg606/py_materials/blob/master/visualization/introduction_cartopy.ipynb"
      ],
      "metadata": {
        "id": "hKPYJmLhfvZk"
      }
    },
    {
      "cell_type": "code",
      "source": [
        "!apt-get install libproj-dev proj-data proj-bin\n",
        "!apt-get install libgeos-dev\n",
        "!pip install cython\n",
        "!pip install cartopy"
      ],
      "metadata": {
        "id": "lf_hifsnQObd"
      },
      "execution_count": null,
      "outputs": []
    },
    {
      "cell_type": "code",
      "source": [
        "!apt-get -qq install python-cartopy python3-cartopy\n",
        "!pip uninstall -y shapely    # cartopy and shapely aren't friends (early 2020)\n",
        "!pip install shapely --no-binary shapely\n",
        "!pip install geonamescache\n",
        "!pip install Unidecode"
      ],
      "metadata": {
        "id": "qHB0BAGPb0zx"
      },
      "execution_count": null,
      "outputs": []
    },
    {
      "cell_type": "code",
      "source": [
        "!wget https://github.com/rahiakela/data-science-research-and-practice/raw/main/data-science-bookcamp/case-study-3--disease-outbreaks/headlines.txt"
      ],
      "metadata": {
        "id": "7wuJ8Tz9rwtI"
      },
      "execution_count": null,
      "outputs": []
    },
    {
      "cell_type": "code",
      "source": [
        "import warnings\n",
        "warnings.filterwarnings('ignore')"
      ],
      "metadata": {
        "id": "XhbZP37LFjp7"
      },
      "execution_count": 4,
      "outputs": []
    },
    {
      "cell_type": "code",
      "source": [
        "from collections import defaultdict\n",
        "import itertools\n",
        "import re\n",
        "import numpy as np\n",
        "import pandas as pd\n",
        "from scipy import stats\n",
        "from math import cos, sin, asin\n",
        "from math import pi\n",
        "\n",
        "from sklearn.cluster import KMeans\n",
        "from sklearn.cluster import DBSCAN\n",
        "\n",
        "from scipy.spatial.distance import euclidean\n",
        "from sklearn.datasets import make_circles\n",
        "\n",
        "from geonamescache import GeonamesCache\n",
        "\n",
        "from unidecode import unidecode\n",
        "\n",
        "import cartopy\n",
        "import seaborn as sns\n",
        "import matplotlib.pyplot as plt\n",
        "from cartopy.crs import PlateCarree\n",
        "from cartopy.crs import LambertConformal"
      ],
      "metadata": {
        "id": "ACckSsnoUTmE"
      },
      "execution_count": 5,
      "outputs": []
    },
    {
      "cell_type": "markdown",
      "source": [
        "##Extracting locations from headline data"
      ],
      "metadata": {
        "id": "r8H1yvPNUcfB"
      }
    },
    {
      "cell_type": "code",
      "source": [
        "# Loading headline data\n",
        "with open(\"headlines.txt\", \"r\") as f:\n",
        "  headlines = [line.strip() for line in f.readlines()]\n",
        "  num_headlines = len(headlines)\n",
        "  print(f\"{num_headlines} headlines have been loaded\")"
      ],
      "metadata": {
        "id": "7meYZzYAU5PW",
        "outputId": "8ae1dfb1-25b2-4038-e08d-3ab85b66b7b5",
        "colab": {
          "base_uri": "https://localhost:8080/"
        }
      },
      "execution_count": 7,
      "outputs": [
        {
          "output_type": "stream",
          "name": "stdout",
          "text": [
            "650 headlines have been loaded\n"
          ]
        }
      ]
    },
    {
      "cell_type": "markdown",
      "source": [
        "Now we need a mechanism for extracting city and\n",
        "country names from the headline text."
      ],
      "metadata": {
        "id": "Yr7ssI6bVmju"
      }
    },
    {
      "cell_type": "code",
      "source": [
        "# Converting names to regexes\n",
        "def name_to_regex(name):\n",
        "  decoded_name = unidecode(name)\n",
        "  if name != decoded_name:\n",
        "    regex = fr\"\\b({name}|{decoded_name})\\b\"\n",
        "  else:\n",
        "    regex = fr\"\\b{name}\\b\"\n",
        "  return re.compile(regex, flags=re.IGNORECASE)"
      ],
      "metadata": {
        "id": "HXTM2aOEVpfP"
      },
      "execution_count": 8,
      "outputs": []
    },
    {
      "cell_type": "markdown",
      "source": [
        "Let’s create two dictionaries, `country_to_name` and `city_to_name`, which map regular expressions to country names and city\n",
        "names, respectively."
      ],
      "metadata": {
        "id": "9y9BSYNHc-jL"
      }
    },
    {
      "cell_type": "code",
      "source": [
        "# Mapping names to regexes\n",
        "gc = GeonamesCache()\n",
        "\n",
        "countries = [country[\"name\"] for country in gc.get_countries().values()]\n",
        "country_to_name = {name_to_regex(name): name for name in countries}\n",
        "\n",
        "cities = [city[\"name\"] for city in gc.get_cities().values()]\n",
        "city_to_name = {name_to_regex(name): name for name in cities}"
      ],
      "metadata": {
        "id": "YfOJA_c8dIc7"
      },
      "execution_count": 9,
      "outputs": []
    },
    {
      "cell_type": "markdown",
      "source": [
        "Next, we use our mappings to define a function that looks for location names in text."
      ],
      "metadata": {
        "id": "cs3N5HbBxlWX"
      }
    },
    {
      "cell_type": "code",
      "source": [
        "# Finding locations in text\n",
        "def get_name_in_text(text, dictionary):\n",
        "  for regex, name in sorted(dictionary.items(), key= lambda x: x[1]):\n",
        "    if regex.search(text):\n",
        "      return name\n",
        "  return None"
      ],
      "metadata": {
        "id": "6DyaRGT5dndN"
      },
      "execution_count": 10,
      "outputs": []
    },
    {
      "cell_type": "code",
      "source": [
        "# Finding locations in headlines\n",
        "matched_countries = [get_name_in_text(headline, country_to_name) for headline in headlines]\n",
        "matched_cities = [get_name_in_text(headline, city_to_name) for headline in headlines]\n",
        "data = {\"Headline\": headlines, \"City\": matched_cities, \"Country\": matched_countries}\n",
        "\n",
        "df = pd.DataFrame(data)\n",
        "df.head()"
      ],
      "metadata": {
        "id": "k-DKXrl6ePVk",
        "colab": {
          "base_uri": "https://localhost:8080/",
          "height": 206
        },
        "outputId": "9b10db8f-15fc-47a6-a46a-59e0b6db6b76"
      },
      "execution_count": 11,
      "outputs": [
        {
          "output_type": "execute_result",
          "data": {
            "text/plain": [
              "                                  Headline           City Country\n",
              "0                 Zika Outbreak Hits Miami          Miami    None\n",
              "1          Could Zika Reach New York City?  New York City    None\n",
              "2        First Case of Zika in Miami Beach          Miami    None\n",
              "3  Mystery Virus Spreads in Recife, Brazil         Recife  Brazil\n",
              "4  Dallas man comes down with case of Zika         Dallas    None"
            ],
            "text/html": [
              "\n",
              "  <div id=\"df-a4d76b5a-78eb-45af-9fe3-bdce0da42fb6\">\n",
              "    <div class=\"colab-df-container\">\n",
              "      <div>\n",
              "<style scoped>\n",
              "    .dataframe tbody tr th:only-of-type {\n",
              "        vertical-align: middle;\n",
              "    }\n",
              "\n",
              "    .dataframe tbody tr th {\n",
              "        vertical-align: top;\n",
              "    }\n",
              "\n",
              "    .dataframe thead th {\n",
              "        text-align: right;\n",
              "    }\n",
              "</style>\n",
              "<table border=\"1\" class=\"dataframe\">\n",
              "  <thead>\n",
              "    <tr style=\"text-align: right;\">\n",
              "      <th></th>\n",
              "      <th>Headline</th>\n",
              "      <th>City</th>\n",
              "      <th>Country</th>\n",
              "    </tr>\n",
              "  </thead>\n",
              "  <tbody>\n",
              "    <tr>\n",
              "      <th>0</th>\n",
              "      <td>Zika Outbreak Hits Miami</td>\n",
              "      <td>Miami</td>\n",
              "      <td>None</td>\n",
              "    </tr>\n",
              "    <tr>\n",
              "      <th>1</th>\n",
              "      <td>Could Zika Reach New York City?</td>\n",
              "      <td>New York City</td>\n",
              "      <td>None</td>\n",
              "    </tr>\n",
              "    <tr>\n",
              "      <th>2</th>\n",
              "      <td>First Case of Zika in Miami Beach</td>\n",
              "      <td>Miami</td>\n",
              "      <td>None</td>\n",
              "    </tr>\n",
              "    <tr>\n",
              "      <th>3</th>\n",
              "      <td>Mystery Virus Spreads in Recife, Brazil</td>\n",
              "      <td>Recife</td>\n",
              "      <td>Brazil</td>\n",
              "    </tr>\n",
              "    <tr>\n",
              "      <th>4</th>\n",
              "      <td>Dallas man comes down with case of Zika</td>\n",
              "      <td>Dallas</td>\n",
              "      <td>None</td>\n",
              "    </tr>\n",
              "  </tbody>\n",
              "</table>\n",
              "</div>\n",
              "      <button class=\"colab-df-convert\" onclick=\"convertToInteractive('df-a4d76b5a-78eb-45af-9fe3-bdce0da42fb6')\"\n",
              "              title=\"Convert this dataframe to an interactive table.\"\n",
              "              style=\"display:none;\">\n",
              "        \n",
              "  <svg xmlns=\"http://www.w3.org/2000/svg\" height=\"24px\"viewBox=\"0 0 24 24\"\n",
              "       width=\"24px\">\n",
              "    <path d=\"M0 0h24v24H0V0z\" fill=\"none\"/>\n",
              "    <path d=\"M18.56 5.44l.94 2.06.94-2.06 2.06-.94-2.06-.94-.94-2.06-.94 2.06-2.06.94zm-11 1L8.5 8.5l.94-2.06 2.06-.94-2.06-.94L8.5 2.5l-.94 2.06-2.06.94zm10 10l.94 2.06.94-2.06 2.06-.94-2.06-.94-.94-2.06-.94 2.06-2.06.94z\"/><path d=\"M17.41 7.96l-1.37-1.37c-.4-.4-.92-.59-1.43-.59-.52 0-1.04.2-1.43.59L10.3 9.45l-7.72 7.72c-.78.78-.78 2.05 0 2.83L4 21.41c.39.39.9.59 1.41.59.51 0 1.02-.2 1.41-.59l7.78-7.78 2.81-2.81c.8-.78.8-2.07 0-2.86zM5.41 20L4 18.59l7.72-7.72 1.47 1.35L5.41 20z\"/>\n",
              "  </svg>\n",
              "      </button>\n",
              "      \n",
              "  <style>\n",
              "    .colab-df-container {\n",
              "      display:flex;\n",
              "      flex-wrap:wrap;\n",
              "      gap: 12px;\n",
              "    }\n",
              "\n",
              "    .colab-df-convert {\n",
              "      background-color: #E8F0FE;\n",
              "      border: none;\n",
              "      border-radius: 50%;\n",
              "      cursor: pointer;\n",
              "      display: none;\n",
              "      fill: #1967D2;\n",
              "      height: 32px;\n",
              "      padding: 0 0 0 0;\n",
              "      width: 32px;\n",
              "    }\n",
              "\n",
              "    .colab-df-convert:hover {\n",
              "      background-color: #E2EBFA;\n",
              "      box-shadow: 0px 1px 2px rgba(60, 64, 67, 0.3), 0px 1px 3px 1px rgba(60, 64, 67, 0.15);\n",
              "      fill: #174EA6;\n",
              "    }\n",
              "\n",
              "    [theme=dark] .colab-df-convert {\n",
              "      background-color: #3B4455;\n",
              "      fill: #D2E3FC;\n",
              "    }\n",
              "\n",
              "    [theme=dark] .colab-df-convert:hover {\n",
              "      background-color: #434B5C;\n",
              "      box-shadow: 0px 1px 3px 1px rgba(0, 0, 0, 0.15);\n",
              "      filter: drop-shadow(0px 1px 2px rgba(0, 0, 0, 0.3));\n",
              "      fill: #FFFFFF;\n",
              "    }\n",
              "  </style>\n",
              "\n",
              "      <script>\n",
              "        const buttonEl =\n",
              "          document.querySelector('#df-a4d76b5a-78eb-45af-9fe3-bdce0da42fb6 button.colab-df-convert');\n",
              "        buttonEl.style.display =\n",
              "          google.colab.kernel.accessAllowed ? 'block' : 'none';\n",
              "\n",
              "        async function convertToInteractive(key) {\n",
              "          const element = document.querySelector('#df-a4d76b5a-78eb-45af-9fe3-bdce0da42fb6');\n",
              "          const dataTable =\n",
              "            await google.colab.kernel.invokeFunction('convertToInteractive',\n",
              "                                                     [key], {});\n",
              "          if (!dataTable) return;\n",
              "\n",
              "          const docLinkHtml = 'Like what you see? Visit the ' +\n",
              "            '<a target=\"_blank\" href=https://colab.research.google.com/notebooks/data_table.ipynb>data table notebook</a>'\n",
              "            + ' to learn more about interactive tables.';\n",
              "          element.innerHTML = '';\n",
              "          dataTable['output_type'] = 'display_data';\n",
              "          await google.colab.output.renderOutput(dataTable, element);\n",
              "          const docLink = document.createElement('div');\n",
              "          docLink.innerHTML = docLinkHtml;\n",
              "          element.appendChild(docLink);\n",
              "        }\n",
              "      </script>\n",
              "    </div>\n",
              "  </div>\n",
              "  "
            ]
          },
          "metadata": {},
          "execution_count": 11
        }
      ]
    },
    {
      "cell_type": "markdown",
      "source": [
        "Let’s explore our location table by summarizing the contents."
      ],
      "metadata": {
        "id": "x-Ur_9mz0wKM"
      }
    },
    {
      "cell_type": "code",
      "source": [
        "# Summarizing the location data\n",
        "df[[\"City\", \"Country\"]].describe()"
      ],
      "metadata": {
        "id": "OQJEj75Nj2sG",
        "outputId": "d87bdcd3-650b-434a-ee72-c0d820d8aa97",
        "colab": {
          "base_uri": "https://localhost:8080/",
          "height": 175
        }
      },
      "execution_count": 12,
      "outputs": [
        {
          "output_type": "execute_result",
          "data": {
            "text/plain": [
              "       City Country\n",
              "count   618      15\n",
              "unique  511      10\n",
              "top      Of  Brazil\n",
              "freq     44       3"
            ],
            "text/html": [
              "\n",
              "  <div id=\"df-2cdaa37b-0f77-405f-a043-0c6674d66d93\">\n",
              "    <div class=\"colab-df-container\">\n",
              "      <div>\n",
              "<style scoped>\n",
              "    .dataframe tbody tr th:only-of-type {\n",
              "        vertical-align: middle;\n",
              "    }\n",
              "\n",
              "    .dataframe tbody tr th {\n",
              "        vertical-align: top;\n",
              "    }\n",
              "\n",
              "    .dataframe thead th {\n",
              "        text-align: right;\n",
              "    }\n",
              "</style>\n",
              "<table border=\"1\" class=\"dataframe\">\n",
              "  <thead>\n",
              "    <tr style=\"text-align: right;\">\n",
              "      <th></th>\n",
              "      <th>City</th>\n",
              "      <th>Country</th>\n",
              "    </tr>\n",
              "  </thead>\n",
              "  <tbody>\n",
              "    <tr>\n",
              "      <th>count</th>\n",
              "      <td>618</td>\n",
              "      <td>15</td>\n",
              "    </tr>\n",
              "    <tr>\n",
              "      <th>unique</th>\n",
              "      <td>511</td>\n",
              "      <td>10</td>\n",
              "    </tr>\n",
              "    <tr>\n",
              "      <th>top</th>\n",
              "      <td>Of</td>\n",
              "      <td>Brazil</td>\n",
              "    </tr>\n",
              "    <tr>\n",
              "      <th>freq</th>\n",
              "      <td>44</td>\n",
              "      <td>3</td>\n",
              "    </tr>\n",
              "  </tbody>\n",
              "</table>\n",
              "</div>\n",
              "      <button class=\"colab-df-convert\" onclick=\"convertToInteractive('df-2cdaa37b-0f77-405f-a043-0c6674d66d93')\"\n",
              "              title=\"Convert this dataframe to an interactive table.\"\n",
              "              style=\"display:none;\">\n",
              "        \n",
              "  <svg xmlns=\"http://www.w3.org/2000/svg\" height=\"24px\"viewBox=\"0 0 24 24\"\n",
              "       width=\"24px\">\n",
              "    <path d=\"M0 0h24v24H0V0z\" fill=\"none\"/>\n",
              "    <path d=\"M18.56 5.44l.94 2.06.94-2.06 2.06-.94-2.06-.94-.94-2.06-.94 2.06-2.06.94zm-11 1L8.5 8.5l.94-2.06 2.06-.94-2.06-.94L8.5 2.5l-.94 2.06-2.06.94zm10 10l.94 2.06.94-2.06 2.06-.94-2.06-.94-.94-2.06-.94 2.06-2.06.94z\"/><path d=\"M17.41 7.96l-1.37-1.37c-.4-.4-.92-.59-1.43-.59-.52 0-1.04.2-1.43.59L10.3 9.45l-7.72 7.72c-.78.78-.78 2.05 0 2.83L4 21.41c.39.39.9.59 1.41.59.51 0 1.02-.2 1.41-.59l7.78-7.78 2.81-2.81c.8-.78.8-2.07 0-2.86zM5.41 20L4 18.59l7.72-7.72 1.47 1.35L5.41 20z\"/>\n",
              "  </svg>\n",
              "      </button>\n",
              "      \n",
              "  <style>\n",
              "    .colab-df-container {\n",
              "      display:flex;\n",
              "      flex-wrap:wrap;\n",
              "      gap: 12px;\n",
              "    }\n",
              "\n",
              "    .colab-df-convert {\n",
              "      background-color: #E8F0FE;\n",
              "      border: none;\n",
              "      border-radius: 50%;\n",
              "      cursor: pointer;\n",
              "      display: none;\n",
              "      fill: #1967D2;\n",
              "      height: 32px;\n",
              "      padding: 0 0 0 0;\n",
              "      width: 32px;\n",
              "    }\n",
              "\n",
              "    .colab-df-convert:hover {\n",
              "      background-color: #E2EBFA;\n",
              "      box-shadow: 0px 1px 2px rgba(60, 64, 67, 0.3), 0px 1px 3px 1px rgba(60, 64, 67, 0.15);\n",
              "      fill: #174EA6;\n",
              "    }\n",
              "\n",
              "    [theme=dark] .colab-df-convert {\n",
              "      background-color: #3B4455;\n",
              "      fill: #D2E3FC;\n",
              "    }\n",
              "\n",
              "    [theme=dark] .colab-df-convert:hover {\n",
              "      background-color: #434B5C;\n",
              "      box-shadow: 0px 1px 3px 1px rgba(0, 0, 0, 0.15);\n",
              "      filter: drop-shadow(0px 1px 2px rgba(0, 0, 0, 0.3));\n",
              "      fill: #FFFFFF;\n",
              "    }\n",
              "  </style>\n",
              "\n",
              "      <script>\n",
              "        const buttonEl =\n",
              "          document.querySelector('#df-2cdaa37b-0f77-405f-a043-0c6674d66d93 button.colab-df-convert');\n",
              "        buttonEl.style.display =\n",
              "          google.colab.kernel.accessAllowed ? 'block' : 'none';\n",
              "\n",
              "        async function convertToInteractive(key) {\n",
              "          const element = document.querySelector('#df-2cdaa37b-0f77-405f-a043-0c6674d66d93');\n",
              "          const dataTable =\n",
              "            await google.colab.kernel.invokeFunction('convertToInteractive',\n",
              "                                                     [key], {});\n",
              "          if (!dataTable) return;\n",
              "\n",
              "          const docLinkHtml = 'Like what you see? Visit the ' +\n",
              "            '<a target=\"_blank\" href=https://colab.research.google.com/notebooks/data_table.ipynb>data table notebook</a>'\n",
              "            + ' to learn more about interactive tables.';\n",
              "          element.innerHTML = '';\n",
              "          dataTable['output_type'] = 'display_data';\n",
              "          await google.colab.output.renderOutput(dataTable, element);\n",
              "          const docLink = document.createElement('div');\n",
              "          docLink.innerHTML = docLinkHtml;\n",
              "          element.appendChild(docLink);\n",
              "        }\n",
              "      </script>\n",
              "    </div>\n",
              "  </div>\n",
              "  "
            ]
          },
          "metadata": {},
          "execution_count": 12
        }
      ]
    },
    {
      "cell_type": "markdown",
      "source": [
        "The most frequently mentioned city is apparently “Of,” Turkey. That doesn’t seem right!"
      ],
      "metadata": {
        "id": "EpzeimzEJoEW"
      }
    },
    {
      "cell_type": "code",
      "source": [
        "# Fetching cities named \"Of\"\n"
      ],
      "metadata": {
        "id": "2x7XuvEA18Sh"
      },
      "execution_count": null,
      "outputs": []
    }
  ]
}