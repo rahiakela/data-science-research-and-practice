{
  "nbformat": 4,
  "nbformat_minor": 0,
  "metadata": {
    "colab": {
      "name": "03-case-study-disease-outbreaks.ipynb",
      "provenance": [],
      "toc_visible": true,
      "authorship_tag": "ABX9TyOyoOgB6hVa1B9wQWACEWm1",
      "include_colab_link": true
    },
    "kernelspec": {
      "name": "python3",
      "display_name": "Python 3"
    },
    "language_info": {
      "name": "python"
    }
  },
  "cells": [
    {
      "cell_type": "markdown",
      "metadata": {
        "id": "view-in-github",
        "colab_type": "text"
      },
      "source": [
        "<a href=\"https://colab.research.google.com/github/rahiakela/data-science-research-and-practice/blob/main/data-science-bookcamp/case-study-3--disease-outbreaks/03_case_study_disease_outbreaks.ipynb\" target=\"_parent\"><img src=\"https://colab.research.google.com/assets/colab-badge.svg\" alt=\"Open In Colab\"/></a>"
      ]
    },
    {
      "cell_type": "markdown",
      "source": [
        "##Case Study: disease outbreaks"
      ],
      "metadata": {
        "id": "dcQpX5ibRkrc"
      }
    },
    {
      "cell_type": "markdown",
      "source": [
        "Our goal is to extract locations from disease-related headlines to uncover the largest active epidemics within and outside of the United States. \n",
        "\n",
        "We will do as follows:\n",
        "\n",
        "1. Load the data.\n",
        "2. Extract locations from the text using regular expressions and the GeoNames-\n",
        "Cache library.\n",
        "3. Check the location matches for errors.\n",
        "4. Cluster the locations based on geographic distance.\n",
        "5. Visualize the clusters on a map, and remove any errors.\n",
        "6. Output representative locations from the largest clusters to draw interesting conclusions."
      ],
      "metadata": {
        "id": "bjJEiZW4Rw8s"
      }
    },
    {
      "cell_type": "markdown",
      "source": [
        "##Setup"
      ],
      "metadata": {
        "id": "VXaSlSqRUSYq"
      }
    },
    {
      "cell_type": "markdown",
      "source": [
        "Reference:\n",
        "https://colab.research.google.com/github/astg606/py_materials/blob/master/visualization/introduction_cartopy.ipynb"
      ],
      "metadata": {
        "id": "hKPYJmLhfvZk"
      }
    },
    {
      "cell_type": "code",
      "source": [
        "!apt-get install libproj-dev proj-data proj-bin\n",
        "!apt-get install libgeos-dev\n",
        "!pip install cython\n",
        "!pip install cartopy"
      ],
      "metadata": {
        "id": "lf_hifsnQObd"
      },
      "execution_count": null,
      "outputs": []
    },
    {
      "cell_type": "code",
      "source": [
        "!apt-get -qq install python-cartopy python3-cartopy\n",
        "!pip uninstall -y shapely    # cartopy and shapely aren't friends (early 2020)\n",
        "!pip install shapely --no-binary shapely\n",
        "!pip install geonamescache\n",
        "!pip install Unidecode"
      ],
      "metadata": {
        "id": "qHB0BAGPb0zx"
      },
      "execution_count": null,
      "outputs": []
    },
    {
      "cell_type": "code",
      "source": [
        "!wget https://github.com/rahiakela/data-science-research-and-practice/raw/main/data-science-bookcamp/case-study-3--disease-outbreaks/headlines.txt"
      ],
      "metadata": {
        "id": "7wuJ8Tz9rwtI"
      },
      "execution_count": null,
      "outputs": []
    },
    {
      "cell_type": "code",
      "source": [
        "import warnings\n",
        "warnings.filterwarnings('ignore')"
      ],
      "metadata": {
        "id": "XhbZP37LFjp7"
      },
      "execution_count": 30,
      "outputs": []
    },
    {
      "cell_type": "code",
      "source": [
        "from collections import defaultdict\n",
        "import itertools\n",
        "import re\n",
        "import numpy as np\n",
        "import pandas as pd\n",
        "from scipy import stats\n",
        "from math import cos, sin, asin\n",
        "from math import pi\n",
        "\n",
        "from sklearn.cluster import KMeans\n",
        "from sklearn.cluster import DBSCAN\n",
        "\n",
        "from scipy.spatial.distance import euclidean\n",
        "from sklearn.datasets import make_circles\n",
        "\n",
        "from geonamescache import GeonamesCache\n",
        "\n",
        "from unidecode import unidecode\n",
        "\n",
        "import cartopy\n",
        "import seaborn as sns\n",
        "import matplotlib.pyplot as plt\n",
        "from cartopy.crs import PlateCarree\n",
        "from cartopy.crs import LambertConformal"
      ],
      "metadata": {
        "id": "ACckSsnoUTmE"
      },
      "execution_count": 31,
      "outputs": []
    },
    {
      "cell_type": "markdown",
      "source": [
        "##Extracting locations from headline data"
      ],
      "metadata": {
        "id": "r8H1yvPNUcfB"
      }
    },
    {
      "cell_type": "code",
      "source": [
        "# Loading headline data\n",
        "with open(\"headlines.txt\", \"r\") as f:\n",
        "  headlines = [line.strip() for line in f.readlines()]\n",
        "  num_headlines = len(headlines)\n",
        "  print(f\"{num_headlines} headlines have been loaded\")"
      ],
      "metadata": {
        "id": "7meYZzYAU5PW",
        "outputId": "017e2a4d-76d5-4ef4-a9be-189dfc11e075",
        "colab": {
          "base_uri": "https://localhost:8080/"
        }
      },
      "execution_count": 32,
      "outputs": [
        {
          "output_type": "stream",
          "name": "stdout",
          "text": [
            "650 headlines have been loaded\n"
          ]
        }
      ]
    },
    {
      "cell_type": "markdown",
      "source": [
        "Now we need a mechanism for extracting city and\n",
        "country names from the headline text."
      ],
      "metadata": {
        "id": "Yr7ssI6bVmju"
      }
    },
    {
      "cell_type": "code",
      "source": [
        "# Converting names to regexes\n",
        "def name_to_regex(name):\n",
        "  decoded_name = unidecode(name)\n",
        "  if name != decoded_name:\n",
        "    regex = fr\"\\b({name}|{decoded_name})\\b\"\n",
        "  else:\n",
        "    regex = fr\"\\b{name}\\b\"\n",
        "  return re.compile(regex, flags=re.IGNORECASE)"
      ],
      "metadata": {
        "id": "HXTM2aOEVpfP"
      },
      "execution_count": 33,
      "outputs": []
    },
    {
      "cell_type": "markdown",
      "source": [
        "Let’s create two dictionaries, `country_to_name` and `city_to_name`, which map regular expressions to country names and city\n",
        "names, respectively."
      ],
      "metadata": {
        "id": "9y9BSYNHc-jL"
      }
    },
    {
      "cell_type": "code",
      "source": [
        "# Mapping names to regexes\n",
        "gc = GeonamesCache()\n",
        "\n",
        "countries = [country[\"name\"] for country in gc.get_countries().values()]\n",
        "country_to_name = {name_to_regex(name): name for name in countries}\n",
        "\n",
        "cities = [city[\"name\"] for city in gc.get_cities().values()]\n",
        "city_to_name = {name_to_regex(name): name for name in cities}"
      ],
      "metadata": {
        "id": "YfOJA_c8dIc7"
      },
      "execution_count": 34,
      "outputs": []
    },
    {
      "cell_type": "markdown",
      "source": [
        "Next, we use our mappings to define a function that looks for location names in text."
      ],
      "metadata": {
        "id": "cs3N5HbBxlWX"
      }
    },
    {
      "cell_type": "code",
      "source": [
        "# Finding locations in text\n",
        "def get_name_in_text(text, dictionary):\n",
        "  for regex, name in sorted(dictionary.items(), key= lambda x: x[1]):\n",
        "    if regex.search(text):\n",
        "      return name\n",
        "  return None"
      ],
      "metadata": {
        "id": "6DyaRGT5dndN"
      },
      "execution_count": 35,
      "outputs": []
    },
    {
      "cell_type": "code",
      "source": [
        "# Finding locations in headlines\n",
        "matched_countries = [get_name_in_text(headline, country_to_name) for headline in headlines]\n",
        "matched_cities = [get_name_in_text(headline, city_to_name) for headline in headlines]\n",
        "data = {\"Headline\": headlines, \"City\": matched_cities, \"Country\": matched_countries}\n",
        "\n",
        "df = pd.DataFrame(data)\n",
        "df.head()"
      ],
      "metadata": {
        "id": "k-DKXrl6ePVk",
        "colab": {
          "base_uri": "https://localhost:8080/",
          "height": 206
        },
        "outputId": "83e62996-8e44-4b3a-c1ec-5f7072b9bbb4"
      },
      "execution_count": 36,
      "outputs": [
        {
          "output_type": "execute_result",
          "data": {
            "text/plain": [
              "                                  Headline           City Country\n",
              "0                 Zika Outbreak Hits Miami          Miami    None\n",
              "1          Could Zika Reach New York City?  New York City    None\n",
              "2        First Case of Zika in Miami Beach          Miami    None\n",
              "3  Mystery Virus Spreads in Recife, Brazil         Recife  Brazil\n",
              "4  Dallas man comes down with case of Zika         Dallas    None"
            ],
            "text/html": [
              "\n",
              "  <div id=\"df-c7dcad7a-6534-44ca-83ef-b90658451b8a\">\n",
              "    <div class=\"colab-df-container\">\n",
              "      <div>\n",
              "<style scoped>\n",
              "    .dataframe tbody tr th:only-of-type {\n",
              "        vertical-align: middle;\n",
              "    }\n",
              "\n",
              "    .dataframe tbody tr th {\n",
              "        vertical-align: top;\n",
              "    }\n",
              "\n",
              "    .dataframe thead th {\n",
              "        text-align: right;\n",
              "    }\n",
              "</style>\n",
              "<table border=\"1\" class=\"dataframe\">\n",
              "  <thead>\n",
              "    <tr style=\"text-align: right;\">\n",
              "      <th></th>\n",
              "      <th>Headline</th>\n",
              "      <th>City</th>\n",
              "      <th>Country</th>\n",
              "    </tr>\n",
              "  </thead>\n",
              "  <tbody>\n",
              "    <tr>\n",
              "      <th>0</th>\n",
              "      <td>Zika Outbreak Hits Miami</td>\n",
              "      <td>Miami</td>\n",
              "      <td>None</td>\n",
              "    </tr>\n",
              "    <tr>\n",
              "      <th>1</th>\n",
              "      <td>Could Zika Reach New York City?</td>\n",
              "      <td>New York City</td>\n",
              "      <td>None</td>\n",
              "    </tr>\n",
              "    <tr>\n",
              "      <th>2</th>\n",
              "      <td>First Case of Zika in Miami Beach</td>\n",
              "      <td>Miami</td>\n",
              "      <td>None</td>\n",
              "    </tr>\n",
              "    <tr>\n",
              "      <th>3</th>\n",
              "      <td>Mystery Virus Spreads in Recife, Brazil</td>\n",
              "      <td>Recife</td>\n",
              "      <td>Brazil</td>\n",
              "    </tr>\n",
              "    <tr>\n",
              "      <th>4</th>\n",
              "      <td>Dallas man comes down with case of Zika</td>\n",
              "      <td>Dallas</td>\n",
              "      <td>None</td>\n",
              "    </tr>\n",
              "  </tbody>\n",
              "</table>\n",
              "</div>\n",
              "      <button class=\"colab-df-convert\" onclick=\"convertToInteractive('df-c7dcad7a-6534-44ca-83ef-b90658451b8a')\"\n",
              "              title=\"Convert this dataframe to an interactive table.\"\n",
              "              style=\"display:none;\">\n",
              "        \n",
              "  <svg xmlns=\"http://www.w3.org/2000/svg\" height=\"24px\"viewBox=\"0 0 24 24\"\n",
              "       width=\"24px\">\n",
              "    <path d=\"M0 0h24v24H0V0z\" fill=\"none\"/>\n",
              "    <path d=\"M18.56 5.44l.94 2.06.94-2.06 2.06-.94-2.06-.94-.94-2.06-.94 2.06-2.06.94zm-11 1L8.5 8.5l.94-2.06 2.06-.94-2.06-.94L8.5 2.5l-.94 2.06-2.06.94zm10 10l.94 2.06.94-2.06 2.06-.94-2.06-.94-.94-2.06-.94 2.06-2.06.94z\"/><path d=\"M17.41 7.96l-1.37-1.37c-.4-.4-.92-.59-1.43-.59-.52 0-1.04.2-1.43.59L10.3 9.45l-7.72 7.72c-.78.78-.78 2.05 0 2.83L4 21.41c.39.39.9.59 1.41.59.51 0 1.02-.2 1.41-.59l7.78-7.78 2.81-2.81c.8-.78.8-2.07 0-2.86zM5.41 20L4 18.59l7.72-7.72 1.47 1.35L5.41 20z\"/>\n",
              "  </svg>\n",
              "      </button>\n",
              "      \n",
              "  <style>\n",
              "    .colab-df-container {\n",
              "      display:flex;\n",
              "      flex-wrap:wrap;\n",
              "      gap: 12px;\n",
              "    }\n",
              "\n",
              "    .colab-df-convert {\n",
              "      background-color: #E8F0FE;\n",
              "      border: none;\n",
              "      border-radius: 50%;\n",
              "      cursor: pointer;\n",
              "      display: none;\n",
              "      fill: #1967D2;\n",
              "      height: 32px;\n",
              "      padding: 0 0 0 0;\n",
              "      width: 32px;\n",
              "    }\n",
              "\n",
              "    .colab-df-convert:hover {\n",
              "      background-color: #E2EBFA;\n",
              "      box-shadow: 0px 1px 2px rgba(60, 64, 67, 0.3), 0px 1px 3px 1px rgba(60, 64, 67, 0.15);\n",
              "      fill: #174EA6;\n",
              "    }\n",
              "\n",
              "    [theme=dark] .colab-df-convert {\n",
              "      background-color: #3B4455;\n",
              "      fill: #D2E3FC;\n",
              "    }\n",
              "\n",
              "    [theme=dark] .colab-df-convert:hover {\n",
              "      background-color: #434B5C;\n",
              "      box-shadow: 0px 1px 3px 1px rgba(0, 0, 0, 0.15);\n",
              "      filter: drop-shadow(0px 1px 2px rgba(0, 0, 0, 0.3));\n",
              "      fill: #FFFFFF;\n",
              "    }\n",
              "  </style>\n",
              "\n",
              "      <script>\n",
              "        const buttonEl =\n",
              "          document.querySelector('#df-c7dcad7a-6534-44ca-83ef-b90658451b8a button.colab-df-convert');\n",
              "        buttonEl.style.display =\n",
              "          google.colab.kernel.accessAllowed ? 'block' : 'none';\n",
              "\n",
              "        async function convertToInteractive(key) {\n",
              "          const element = document.querySelector('#df-c7dcad7a-6534-44ca-83ef-b90658451b8a');\n",
              "          const dataTable =\n",
              "            await google.colab.kernel.invokeFunction('convertToInteractive',\n",
              "                                                     [key], {});\n",
              "          if (!dataTable) return;\n",
              "\n",
              "          const docLinkHtml = 'Like what you see? Visit the ' +\n",
              "            '<a target=\"_blank\" href=https://colab.research.google.com/notebooks/data_table.ipynb>data table notebook</a>'\n",
              "            + ' to learn more about interactive tables.';\n",
              "          element.innerHTML = '';\n",
              "          dataTable['output_type'] = 'display_data';\n",
              "          await google.colab.output.renderOutput(dataTable, element);\n",
              "          const docLink = document.createElement('div');\n",
              "          docLink.innerHTML = docLinkHtml;\n",
              "          element.appendChild(docLink);\n",
              "        }\n",
              "      </script>\n",
              "    </div>\n",
              "  </div>\n",
              "  "
            ]
          },
          "metadata": {},
          "execution_count": 36
        }
      ]
    },
    {
      "cell_type": "markdown",
      "source": [
        "Let’s explore our location table by summarizing the contents."
      ],
      "metadata": {
        "id": "x-Ur_9mz0wKM"
      }
    },
    {
      "cell_type": "code",
      "source": [
        "# Summarizing the location data\n",
        "df[[\"City\", \"Country\"]].describe()"
      ],
      "metadata": {
        "id": "OQJEj75Nj2sG",
        "outputId": "83c35830-fae1-4f99-9995-c696ee28e8d4",
        "colab": {
          "base_uri": "https://localhost:8080/",
          "height": 175
        }
      },
      "execution_count": 37,
      "outputs": [
        {
          "output_type": "execute_result",
          "data": {
            "text/plain": [
              "       City Country\n",
              "count   618      15\n",
              "unique  511      10\n",
              "top      Of  Brazil\n",
              "freq     44       3"
            ],
            "text/html": [
              "\n",
              "  <div id=\"df-aeaf9690-5916-4bd3-a398-790f6450ceb4\">\n",
              "    <div class=\"colab-df-container\">\n",
              "      <div>\n",
              "<style scoped>\n",
              "    .dataframe tbody tr th:only-of-type {\n",
              "        vertical-align: middle;\n",
              "    }\n",
              "\n",
              "    .dataframe tbody tr th {\n",
              "        vertical-align: top;\n",
              "    }\n",
              "\n",
              "    .dataframe thead th {\n",
              "        text-align: right;\n",
              "    }\n",
              "</style>\n",
              "<table border=\"1\" class=\"dataframe\">\n",
              "  <thead>\n",
              "    <tr style=\"text-align: right;\">\n",
              "      <th></th>\n",
              "      <th>City</th>\n",
              "      <th>Country</th>\n",
              "    </tr>\n",
              "  </thead>\n",
              "  <tbody>\n",
              "    <tr>\n",
              "      <th>count</th>\n",
              "      <td>618</td>\n",
              "      <td>15</td>\n",
              "    </tr>\n",
              "    <tr>\n",
              "      <th>unique</th>\n",
              "      <td>511</td>\n",
              "      <td>10</td>\n",
              "    </tr>\n",
              "    <tr>\n",
              "      <th>top</th>\n",
              "      <td>Of</td>\n",
              "      <td>Brazil</td>\n",
              "    </tr>\n",
              "    <tr>\n",
              "      <th>freq</th>\n",
              "      <td>44</td>\n",
              "      <td>3</td>\n",
              "    </tr>\n",
              "  </tbody>\n",
              "</table>\n",
              "</div>\n",
              "      <button class=\"colab-df-convert\" onclick=\"convertToInteractive('df-aeaf9690-5916-4bd3-a398-790f6450ceb4')\"\n",
              "              title=\"Convert this dataframe to an interactive table.\"\n",
              "              style=\"display:none;\">\n",
              "        \n",
              "  <svg xmlns=\"http://www.w3.org/2000/svg\" height=\"24px\"viewBox=\"0 0 24 24\"\n",
              "       width=\"24px\">\n",
              "    <path d=\"M0 0h24v24H0V0z\" fill=\"none\"/>\n",
              "    <path d=\"M18.56 5.44l.94 2.06.94-2.06 2.06-.94-2.06-.94-.94-2.06-.94 2.06-2.06.94zm-11 1L8.5 8.5l.94-2.06 2.06-.94-2.06-.94L8.5 2.5l-.94 2.06-2.06.94zm10 10l.94 2.06.94-2.06 2.06-.94-2.06-.94-.94-2.06-.94 2.06-2.06.94z\"/><path d=\"M17.41 7.96l-1.37-1.37c-.4-.4-.92-.59-1.43-.59-.52 0-1.04.2-1.43.59L10.3 9.45l-7.72 7.72c-.78.78-.78 2.05 0 2.83L4 21.41c.39.39.9.59 1.41.59.51 0 1.02-.2 1.41-.59l7.78-7.78 2.81-2.81c.8-.78.8-2.07 0-2.86zM5.41 20L4 18.59l7.72-7.72 1.47 1.35L5.41 20z\"/>\n",
              "  </svg>\n",
              "      </button>\n",
              "      \n",
              "  <style>\n",
              "    .colab-df-container {\n",
              "      display:flex;\n",
              "      flex-wrap:wrap;\n",
              "      gap: 12px;\n",
              "    }\n",
              "\n",
              "    .colab-df-convert {\n",
              "      background-color: #E8F0FE;\n",
              "      border: none;\n",
              "      border-radius: 50%;\n",
              "      cursor: pointer;\n",
              "      display: none;\n",
              "      fill: #1967D2;\n",
              "      height: 32px;\n",
              "      padding: 0 0 0 0;\n",
              "      width: 32px;\n",
              "    }\n",
              "\n",
              "    .colab-df-convert:hover {\n",
              "      background-color: #E2EBFA;\n",
              "      box-shadow: 0px 1px 2px rgba(60, 64, 67, 0.3), 0px 1px 3px 1px rgba(60, 64, 67, 0.15);\n",
              "      fill: #174EA6;\n",
              "    }\n",
              "\n",
              "    [theme=dark] .colab-df-convert {\n",
              "      background-color: #3B4455;\n",
              "      fill: #D2E3FC;\n",
              "    }\n",
              "\n",
              "    [theme=dark] .colab-df-convert:hover {\n",
              "      background-color: #434B5C;\n",
              "      box-shadow: 0px 1px 3px 1px rgba(0, 0, 0, 0.15);\n",
              "      filter: drop-shadow(0px 1px 2px rgba(0, 0, 0, 0.3));\n",
              "      fill: #FFFFFF;\n",
              "    }\n",
              "  </style>\n",
              "\n",
              "      <script>\n",
              "        const buttonEl =\n",
              "          document.querySelector('#df-aeaf9690-5916-4bd3-a398-790f6450ceb4 button.colab-df-convert');\n",
              "        buttonEl.style.display =\n",
              "          google.colab.kernel.accessAllowed ? 'block' : 'none';\n",
              "\n",
              "        async function convertToInteractive(key) {\n",
              "          const element = document.querySelector('#df-aeaf9690-5916-4bd3-a398-790f6450ceb4');\n",
              "          const dataTable =\n",
              "            await google.colab.kernel.invokeFunction('convertToInteractive',\n",
              "                                                     [key], {});\n",
              "          if (!dataTable) return;\n",
              "\n",
              "          const docLinkHtml = 'Like what you see? Visit the ' +\n",
              "            '<a target=\"_blank\" href=https://colab.research.google.com/notebooks/data_table.ipynb>data table notebook</a>'\n",
              "            + ' to learn more about interactive tables.';\n",
              "          element.innerHTML = '';\n",
              "          dataTable['output_type'] = 'display_data';\n",
              "          await google.colab.output.renderOutput(dataTable, element);\n",
              "          const docLink = document.createElement('div');\n",
              "          docLink.innerHTML = docLinkHtml;\n",
              "          element.appendChild(docLink);\n",
              "        }\n",
              "      </script>\n",
              "    </div>\n",
              "  </div>\n",
              "  "
            ]
          },
          "metadata": {},
          "execution_count": 37
        }
      ]
    },
    {
      "cell_type": "markdown",
      "source": [
        "The most frequently mentioned city is apparently “Of,” Turkey. That doesn’t seem right!"
      ],
      "metadata": {
        "id": "EpzeimzEJoEW"
      }
    },
    {
      "cell_type": "code",
      "source": [
        "# Fetching cities named \"Of\"\n",
        "of_cities = df[df.City == \"Of\"][[\"City\", \"Headline\"]]\n",
        "ten_of_cities = of_cities.head(10)\n",
        "print(ten_of_cities.to_string(index=False))"
      ],
      "metadata": {
        "id": "2x7XuvEA18Sh",
        "outputId": "2f5b8366-6a90-4230-f848-3ddc7d4641f2",
        "colab": {
          "base_uri": "https://localhost:8080/"
        }
      },
      "execution_count": 38,
      "outputs": [
        {
          "output_type": "stream",
          "name": "stdout",
          "text": [
            "City                                                                Headline\n",
            "  Of                                   Case of Measles Reported in Vancouver\n",
            "  Of Authorities are Worried about the Spread of Bronchitis in Silver Spring\n",
            "  Of     Authorities are Worried about the Spread of Mad Cow Disease in Rome\n",
            "  Of                    Rochester authorities confirmed the spread of Dengue\n",
            "  Of                          Tokyo Encounters Severe Symptoms of Meningitis\n",
            "  Of       Authorities are Worried about the Spread of Influenza in Savannah\n",
            "  Of                                 Spike of Pneumonia Cases in Springfield\n",
            "  Of                     The Spread of Measles in Spokane has been Confirmed\n",
            "  Of                                         Outbreak of Zika in Panama City\n",
            "  Of                         Urbana Encounters Severe Symptoms of Meningitis\n"
          ]
        }
      ]
    },
    {
      "cell_type": "code",
      "source": [
        "# Finding multicity headlines\n",
        "def get_cities_in_headline(headline):\n",
        "  cities_in_headline = set()\n",
        "  for regex, name in city_to_name.items():\n",
        "    match = regex.search(headline)\n",
        "    if match:\n",
        "      if headline[match.start()].isupper():\n",
        "        cities_in_headline.add(name)\n",
        "  return list(cities_in_headline)"
      ],
      "metadata": {
        "id": "jwuJFBNLD0zb"
      },
      "execution_count": 39,
      "outputs": []
    },
    {
      "cell_type": "code",
      "source": [
        "df[\"Cities\"] = df[\"Headline\"].apply(get_cities_in_headline)\n",
        "df[\"Num_Cities\"] = df[\"Cities\"].apply(len)\n",
        "# Filters out rows that do not contain multiple city matches\n",
        "df_multiple_cities = df[df.Num_Cities > 1]\n",
        "num_rows, _ = df_multiple_cities.shape\n",
        "print(f\"{num_rows} headlines match multiple cities\")"
      ],
      "metadata": {
        "id": "vE8QSStIEYpa",
        "outputId": "beff581c-b8fe-4032-96d5-61e81b44f295",
        "colab": {
          "base_uri": "https://localhost:8080/"
        }
      },
      "execution_count": 40,
      "outputs": [
        {
          "output_type": "stream",
          "name": "stdout",
          "text": [
            "71 headlines match multiple cities\n"
          ]
        }
      ]
    },
    {
      "cell_type": "code",
      "source": [
        "# Sampling multicity headlines\n",
        "ten_cities = df_multiple_cities[[\"Cities\", \"Headline\"]].head(10)\n",
        "print(ten_cities.to_string(index=False))"
      ],
      "metadata": {
        "id": "NSbDMLoTFzuf",
        "outputId": "e69d2bd0-f3c5-45ab-aae9-65f3edd89e41",
        "colab": {
          "base_uri": "https://localhost:8080/"
        }
      },
      "execution_count": 41,
      "outputs": [
        {
          "output_type": "stream",
          "name": "stdout",
          "text": [
            "                       Cities                                                   Headline\n",
            "        [York, New York City]                            Could Zika Reach New York City?\n",
            "         [Miami, Miami Beach]                          First Case of Zika in Miami Beach\n",
            "              [San, San Juan] San Juan reports 1st U.S. Zika-related death amid outbreak\n",
            "   [Los Ángeles, Los Angeles]                       New Los Angeles Hairstyle goes Viral\n",
            "                 [Bay, Tampa]                      Tampa Bay Area Zika Case Count Climbs\n",
            "       [Ho, Ho Chi Minh City]             Zika cases in Vietnam's Ho Chi Minh City surge\n",
            "             [San Diego, San]                   Key Zika Findings in San Diego Institute\n",
            "          [Hīt, Kuala Lumpur]                         Kuala Lumpur is Hit By Zika Threat\n",
            "         [San Francisco, San]                           Zika Virus Reaches San Francisco\n",
            "[San Salvador, San, Salvador]                               Zika worries in San Salvador\n"
          ]
        }
      ]
    },
    {
      "cell_type": "code",
      "source": [
        "# Selecting the longest city names\n",
        "def get_longest_city(cities):\n",
        "  if cities:\n",
        "    return max(cities, key=len)\n",
        "  return None\n",
        "\n",
        "df[\"City\"] = df[\"Cities\"].apply(get_longest_city)"
      ],
      "metadata": {
        "id": "C-di5k59HYkz"
      },
      "execution_count": 42,
      "outputs": []
    },
    {
      "cell_type": "code",
      "source": [
        "# Printing the shortest city names\n",
        "short_cities = df[df.City.str.len() <= 4][[\"City\", \"Headline\"]]\n",
        "print(short_cities.to_string(index=False))"
      ],
      "metadata": {
        "id": "QZy4p4adJX2x",
        "outputId": "581aafed-c2fa-4914-8834-09c64529eb57",
        "colab": {
          "base_uri": "https://localhost:8080/"
        }
      },
      "execution_count": 43,
      "outputs": [
        {
          "output_type": "stream",
          "name": "stdout",
          "text": [
            "City                                                            Headline\n",
            "Lima                                 Lima tries to address Zika Concerns\n",
            "Pune                                      Pune woman diagnosed with Zika\n",
            "Rome Authorities are Worried about the Spread of Mad Cow Disease in Rome\n",
            "Molo                                 Molo Cholera Spread Causing Concern\n",
            "Miri                                                Zika arrives in Miri\n",
            "Nadi                More people in Nadi are infected with HIV every year\n",
            "Baud       Rumors about Tuberculosis Spreading in Baud have been Refuted\n",
            "Kobe                                      Chikungunya re-emerges in Kobe\n",
            "Waco                                 More Zika patients reported in Waco\n",
            "Erie                                         Erie County sets Zika traps\n",
            "Kent                                        Kent is infested with Rabies\n",
            "Reno                  The Spread of Gonorrhea in Reno has been Confirmed\n",
            "Sibu                                       Zika symptoms spotted in Sibu\n",
            "Baku                     The Spread of Herpes in Baku has been Confirmed\n",
            "Bonn                   Contaminated Meat Brings Trouble for Bonn Farmers\n",
            "Jaen                                          Zika Troubles come to Jaen\n",
            "Yuma                                        Zika seminars in Yuma County\n",
            "Lyon                                    Mad Cow Disease Detected in Lyon\n",
            "Yiwu     Authorities are Worried about the Spread of Hepatitis B in Yiwu\n",
            "Suva                  Suva authorities confirmed the spread of Rotavirus\n"
          ]
        }
      ]
    },
    {
      "cell_type": "markdown",
      "source": [
        "The results appear to be legitimate. Let’s now shift our attention from cities to countries."
      ],
      "metadata": {
        "id": "sEO9a6cTJ8Xh"
      }
    },
    {
      "cell_type": "code",
      "source": [
        "# Fetching headlines with countries\n",
        "df_countries = df[df.Country.notnull()][[\"City\", \"Country\", \"Headline\"]]\n",
        "print(df_countries.to_string(index=False))"
      ],
      "metadata": {
        "id": "L2YPncorJ9Ez",
        "outputId": "e57abf4b-8720-4875-8bbb-bca6ed4e4b79",
        "colab": {
          "base_uri": "https://localhost:8080/"
        }
      },
      "execution_count": 44,
      "outputs": [
        {
          "output_type": "stream",
          "name": "stdout",
          "text": [
            "            City   Country                                                              Headline\n",
            "          Recife    Brazil                               Mystery Virus Spreads in Recife, Brazil\n",
            "Ho Chi Minh City   Vietnam                        Zika cases in Vietnam's Ho Chi Minh City surge\n",
            "         Bangkok  Thailand                                        Thailand-Zika Virus in Bangkok\n",
            "      Piracicaba    Brazil                                   Zika outbreak in Piracicaba, Brazil\n",
            "           Klang  Malaysia                                      Zika surfaces in Klang, Malaysia\n",
            "  Guatemala City Guatemala Rumors about Meningitis spreading in Guatemala City have been refuted\n",
            "     Belize City    Belize                                    Belize City under threat from Zika\n",
            "        Campinas    Brazil                                      Student sick in Campinas, Brazil\n",
            "     Mexico City    Mexico                                  Zika outbreak spreads to Mexico City\n",
            "   Kota Kinabalu  Malaysia                              New Zika Case in Kota Kinabalu, Malaysia\n",
            "     Johor Bahru  Malaysia                                    Zika reaches Johor Bahru, Malaysia\n",
            "       Hong Kong Hong Kong                                       Norovirus Exposure in Hong Kong\n",
            "     Panama City    Panama                                       Outbreak of Zika in Panama City\n",
            "       Singapore Singapore                                     Zika cases in Singapore reach 393\n",
            "     Panama City    Panama                                Panama City’s first Zika related death\n"
          ]
        }
      ]
    },
    {
      "cell_type": "markdown",
      "source": [
        "All of the country-bearing headlines also contain city information. \n",
        "\n",
        "Thus, we can assign\n",
        "a latitude and longitude without relying on the country’s central coordinates."
      ],
      "metadata": {
        "id": "y_PBV2eAKjwR"
      }
    },
    {
      "cell_type": "code",
      "source": [
        "# Dropping countries from the table\n",
        "df.drop(\"Country\", axis=1, inplace=True)"
      ],
      "metadata": {
        "id": "tp8RoQ7GKkRC"
      },
      "execution_count": 45,
      "outputs": []
    },
    {
      "cell_type": "code",
      "source": [
        "# Exploring unmatched headlines\n",
        "df_unmatched = df[df.City.notnull()]\n",
        "num_unmatched = len(df_unmatched)\n",
        "print(f\"{num_unmatched} headlines contain no city matches.\")\n",
        "print(df_unmatched.head(10)[[\"Headline\"]].values)"
      ],
      "metadata": {
        "id": "M4JpKC-PK0V9",
        "outputId": "9fafe14c-9dbd-4e78-ed2e-d3ec458ba187",
        "colab": {
          "base_uri": "https://localhost:8080/"
        }
      },
      "execution_count": 46,
      "outputs": [
        {
          "output_type": "stream",
          "name": "stdout",
          "text": [
            "611 headlines contain no city matches.\n",
            "[['Zika Outbreak Hits Miami']\n",
            " ['Could Zika Reach New York City?']\n",
            " ['First Case of Zika in Miami Beach']\n",
            " ['Mystery Virus Spreads in Recife, Brazil']\n",
            " ['Dallas man comes down with case of Zika']\n",
            " ['Trinidad confirms first Zika case']\n",
            " ['Zika Concerns are Spreading in Houston']\n",
            " ['Geneve Scientists Battle to Find Cure']\n",
            " ['The CDC in Atlanta is Growing Worried']\n",
            " ['Zika Infested Monkeys in Sao Paulo']]\n"
          ]
        }
      ]
    },
    {
      "cell_type": "code",
      "source": [
        "# Dropping unmatched headlines\n",
        "df = df[~df.City.isnull()][[\"City\", \"Headline\"]]\n",
        "df.head()"
      ],
      "metadata": {
        "id": "8TNLyyx9LdAv",
        "outputId": "8f5dcd05-1717-4970-bc1e-ba9feb551f36",
        "colab": {
          "base_uri": "https://localhost:8080/",
          "height": 206
        }
      },
      "execution_count": 47,
      "outputs": [
        {
          "output_type": "execute_result",
          "data": {
            "text/plain": [
              "            City                                 Headline\n",
              "0          Miami                 Zika Outbreak Hits Miami\n",
              "1  New York City          Could Zika Reach New York City?\n",
              "2    Miami Beach        First Case of Zika in Miami Beach\n",
              "3         Recife  Mystery Virus Spreads in Recife, Brazil\n",
              "4         Dallas  Dallas man comes down with case of Zika"
            ],
            "text/html": [
              "\n",
              "  <div id=\"df-3108ec88-ce9f-4080-8fb2-63cf93188dbf\">\n",
              "    <div class=\"colab-df-container\">\n",
              "      <div>\n",
              "<style scoped>\n",
              "    .dataframe tbody tr th:only-of-type {\n",
              "        vertical-align: middle;\n",
              "    }\n",
              "\n",
              "    .dataframe tbody tr th {\n",
              "        vertical-align: top;\n",
              "    }\n",
              "\n",
              "    .dataframe thead th {\n",
              "        text-align: right;\n",
              "    }\n",
              "</style>\n",
              "<table border=\"1\" class=\"dataframe\">\n",
              "  <thead>\n",
              "    <tr style=\"text-align: right;\">\n",
              "      <th></th>\n",
              "      <th>City</th>\n",
              "      <th>Headline</th>\n",
              "    </tr>\n",
              "  </thead>\n",
              "  <tbody>\n",
              "    <tr>\n",
              "      <th>0</th>\n",
              "      <td>Miami</td>\n",
              "      <td>Zika Outbreak Hits Miami</td>\n",
              "    </tr>\n",
              "    <tr>\n",
              "      <th>1</th>\n",
              "      <td>New York City</td>\n",
              "      <td>Could Zika Reach New York City?</td>\n",
              "    </tr>\n",
              "    <tr>\n",
              "      <th>2</th>\n",
              "      <td>Miami Beach</td>\n",
              "      <td>First Case of Zika in Miami Beach</td>\n",
              "    </tr>\n",
              "    <tr>\n",
              "      <th>3</th>\n",
              "      <td>Recife</td>\n",
              "      <td>Mystery Virus Spreads in Recife, Brazil</td>\n",
              "    </tr>\n",
              "    <tr>\n",
              "      <th>4</th>\n",
              "      <td>Dallas</td>\n",
              "      <td>Dallas man comes down with case of Zika</td>\n",
              "    </tr>\n",
              "  </tbody>\n",
              "</table>\n",
              "</div>\n",
              "      <button class=\"colab-df-convert\" onclick=\"convertToInteractive('df-3108ec88-ce9f-4080-8fb2-63cf93188dbf')\"\n",
              "              title=\"Convert this dataframe to an interactive table.\"\n",
              "              style=\"display:none;\">\n",
              "        \n",
              "  <svg xmlns=\"http://www.w3.org/2000/svg\" height=\"24px\"viewBox=\"0 0 24 24\"\n",
              "       width=\"24px\">\n",
              "    <path d=\"M0 0h24v24H0V0z\" fill=\"none\"/>\n",
              "    <path d=\"M18.56 5.44l.94 2.06.94-2.06 2.06-.94-2.06-.94-.94-2.06-.94 2.06-2.06.94zm-11 1L8.5 8.5l.94-2.06 2.06-.94-2.06-.94L8.5 2.5l-.94 2.06-2.06.94zm10 10l.94 2.06.94-2.06 2.06-.94-2.06-.94-.94-2.06-.94 2.06-2.06.94z\"/><path d=\"M17.41 7.96l-1.37-1.37c-.4-.4-.92-.59-1.43-.59-.52 0-1.04.2-1.43.59L10.3 9.45l-7.72 7.72c-.78.78-.78 2.05 0 2.83L4 21.41c.39.39.9.59 1.41.59.51 0 1.02-.2 1.41-.59l7.78-7.78 2.81-2.81c.8-.78.8-2.07 0-2.86zM5.41 20L4 18.59l7.72-7.72 1.47 1.35L5.41 20z\"/>\n",
              "  </svg>\n",
              "      </button>\n",
              "      \n",
              "  <style>\n",
              "    .colab-df-container {\n",
              "      display:flex;\n",
              "      flex-wrap:wrap;\n",
              "      gap: 12px;\n",
              "    }\n",
              "\n",
              "    .colab-df-convert {\n",
              "      background-color: #E8F0FE;\n",
              "      border: none;\n",
              "      border-radius: 50%;\n",
              "      cursor: pointer;\n",
              "      display: none;\n",
              "      fill: #1967D2;\n",
              "      height: 32px;\n",
              "      padding: 0 0 0 0;\n",
              "      width: 32px;\n",
              "    }\n",
              "\n",
              "    .colab-df-convert:hover {\n",
              "      background-color: #E2EBFA;\n",
              "      box-shadow: 0px 1px 2px rgba(60, 64, 67, 0.3), 0px 1px 3px 1px rgba(60, 64, 67, 0.15);\n",
              "      fill: #174EA6;\n",
              "    }\n",
              "\n",
              "    [theme=dark] .colab-df-convert {\n",
              "      background-color: #3B4455;\n",
              "      fill: #D2E3FC;\n",
              "    }\n",
              "\n",
              "    [theme=dark] .colab-df-convert:hover {\n",
              "      background-color: #434B5C;\n",
              "      box-shadow: 0px 1px 3px 1px rgba(0, 0, 0, 0.15);\n",
              "      filter: drop-shadow(0px 1px 2px rgba(0, 0, 0, 0.3));\n",
              "      fill: #FFFFFF;\n",
              "    }\n",
              "  </style>\n",
              "\n",
              "      <script>\n",
              "        const buttonEl =\n",
              "          document.querySelector('#df-3108ec88-ce9f-4080-8fb2-63cf93188dbf button.colab-df-convert');\n",
              "        buttonEl.style.display =\n",
              "          google.colab.kernel.accessAllowed ? 'block' : 'none';\n",
              "\n",
              "        async function convertToInteractive(key) {\n",
              "          const element = document.querySelector('#df-3108ec88-ce9f-4080-8fb2-63cf93188dbf');\n",
              "          const dataTable =\n",
              "            await google.colab.kernel.invokeFunction('convertToInteractive',\n",
              "                                                     [key], {});\n",
              "          if (!dataTable) return;\n",
              "\n",
              "          const docLinkHtml = 'Like what you see? Visit the ' +\n",
              "            '<a target=\"_blank\" href=https://colab.research.google.com/notebooks/data_table.ipynb>data table notebook</a>'\n",
              "            + ' to learn more about interactive tables.';\n",
              "          element.innerHTML = '';\n",
              "          dataTable['output_type'] = 'display_data';\n",
              "          await google.colab.output.renderOutput(dataTable, element);\n",
              "          const docLink = document.createElement('div');\n",
              "          docLink.innerHTML = docLinkHtml;\n",
              "          element.appendChild(docLink);\n",
              "        }\n",
              "      </script>\n",
              "    </div>\n",
              "  </div>\n",
              "  "
            ]
          },
          "metadata": {},
          "execution_count": 47
        }
      ]
    },
    {
      "cell_type": "markdown",
      "source": [
        "## Visualizing and clustering the extracted location data"
      ],
      "metadata": {
        "id": "11n_UWYYLx4W"
      }
    },
    {
      "cell_type": "markdown",
      "source": [
        "Now we can assign a latitude and longitude\n",
        "to each row."
      ],
      "metadata": {
        "id": "06DHygsFL0FF"
      }
    },
    {
      "cell_type": "code",
      "source": [
        "# Assigning geographic coordinates to cities\n",
        "latitudes, longitudes = [], []\n",
        "for city_name in df.City.values:\n",
        "  # Chooses the matched city with the largest population\n",
        "  city = max(gc.get_cities_by_name(city_name), key=lambda x: list(x.values())[0]['population'])\n",
        "  # Extracts city latitudes and longitudes\n",
        "  city = list(city.values())[0]\n",
        "  latitudes.append(city[\"latitude\"])\n",
        "  longitudes.append(city[\"longitude\"])\n",
        "\n",
        "# Adds Latitude and Longitude columns to our table\n",
        "df = df.assign(Latitude=latitudes, Longitude=longitudes)\n",
        "df.head()"
      ],
      "metadata": {
        "id": "tRIOIIvo2CmB",
        "outputId": "3cc33f4e-1133-4d44-af15-691e45f08470",
        "colab": {
          "base_uri": "https://localhost:8080/",
          "height": 206
        }
      },
      "execution_count": 48,
      "outputs": [
        {
          "output_type": "execute_result",
          "data": {
            "text/plain": [
              "            City                                 Headline  Latitude  Longitude\n",
              "0          Miami                 Zika Outbreak Hits Miami  25.77427  -80.19366\n",
              "1  New York City          Could Zika Reach New York City?  40.71427  -74.00597\n",
              "2    Miami Beach        First Case of Zika in Miami Beach  25.79065  -80.13005\n",
              "3         Recife  Mystery Virus Spreads in Recife, Brazil  -8.05389  -34.88111\n",
              "4         Dallas  Dallas man comes down with case of Zika  32.78306  -96.80667"
            ],
            "text/html": [
              "\n",
              "  <div id=\"df-e05f4905-f1a3-4887-b494-cb5368a785cf\">\n",
              "    <div class=\"colab-df-container\">\n",
              "      <div>\n",
              "<style scoped>\n",
              "    .dataframe tbody tr th:only-of-type {\n",
              "        vertical-align: middle;\n",
              "    }\n",
              "\n",
              "    .dataframe tbody tr th {\n",
              "        vertical-align: top;\n",
              "    }\n",
              "\n",
              "    .dataframe thead th {\n",
              "        text-align: right;\n",
              "    }\n",
              "</style>\n",
              "<table border=\"1\" class=\"dataframe\">\n",
              "  <thead>\n",
              "    <tr style=\"text-align: right;\">\n",
              "      <th></th>\n",
              "      <th>City</th>\n",
              "      <th>Headline</th>\n",
              "      <th>Latitude</th>\n",
              "      <th>Longitude</th>\n",
              "    </tr>\n",
              "  </thead>\n",
              "  <tbody>\n",
              "    <tr>\n",
              "      <th>0</th>\n",
              "      <td>Miami</td>\n",
              "      <td>Zika Outbreak Hits Miami</td>\n",
              "      <td>25.77427</td>\n",
              "      <td>-80.19366</td>\n",
              "    </tr>\n",
              "    <tr>\n",
              "      <th>1</th>\n",
              "      <td>New York City</td>\n",
              "      <td>Could Zika Reach New York City?</td>\n",
              "      <td>40.71427</td>\n",
              "      <td>-74.00597</td>\n",
              "    </tr>\n",
              "    <tr>\n",
              "      <th>2</th>\n",
              "      <td>Miami Beach</td>\n",
              "      <td>First Case of Zika in Miami Beach</td>\n",
              "      <td>25.79065</td>\n",
              "      <td>-80.13005</td>\n",
              "    </tr>\n",
              "    <tr>\n",
              "      <th>3</th>\n",
              "      <td>Recife</td>\n",
              "      <td>Mystery Virus Spreads in Recife, Brazil</td>\n",
              "      <td>-8.05389</td>\n",
              "      <td>-34.88111</td>\n",
              "    </tr>\n",
              "    <tr>\n",
              "      <th>4</th>\n",
              "      <td>Dallas</td>\n",
              "      <td>Dallas man comes down with case of Zika</td>\n",
              "      <td>32.78306</td>\n",
              "      <td>-96.80667</td>\n",
              "    </tr>\n",
              "  </tbody>\n",
              "</table>\n",
              "</div>\n",
              "      <button class=\"colab-df-convert\" onclick=\"convertToInteractive('df-e05f4905-f1a3-4887-b494-cb5368a785cf')\"\n",
              "              title=\"Convert this dataframe to an interactive table.\"\n",
              "              style=\"display:none;\">\n",
              "        \n",
              "  <svg xmlns=\"http://www.w3.org/2000/svg\" height=\"24px\"viewBox=\"0 0 24 24\"\n",
              "       width=\"24px\">\n",
              "    <path d=\"M0 0h24v24H0V0z\" fill=\"none\"/>\n",
              "    <path d=\"M18.56 5.44l.94 2.06.94-2.06 2.06-.94-2.06-.94-.94-2.06-.94 2.06-2.06.94zm-11 1L8.5 8.5l.94-2.06 2.06-.94-2.06-.94L8.5 2.5l-.94 2.06-2.06.94zm10 10l.94 2.06.94-2.06 2.06-.94-2.06-.94-.94-2.06-.94 2.06-2.06.94z\"/><path d=\"M17.41 7.96l-1.37-1.37c-.4-.4-.92-.59-1.43-.59-.52 0-1.04.2-1.43.59L10.3 9.45l-7.72 7.72c-.78.78-.78 2.05 0 2.83L4 21.41c.39.39.9.59 1.41.59.51 0 1.02-.2 1.41-.59l7.78-7.78 2.81-2.81c.8-.78.8-2.07 0-2.86zM5.41 20L4 18.59l7.72-7.72 1.47 1.35L5.41 20z\"/>\n",
              "  </svg>\n",
              "      </button>\n",
              "      \n",
              "  <style>\n",
              "    .colab-df-container {\n",
              "      display:flex;\n",
              "      flex-wrap:wrap;\n",
              "      gap: 12px;\n",
              "    }\n",
              "\n",
              "    .colab-df-convert {\n",
              "      background-color: #E8F0FE;\n",
              "      border: none;\n",
              "      border-radius: 50%;\n",
              "      cursor: pointer;\n",
              "      display: none;\n",
              "      fill: #1967D2;\n",
              "      height: 32px;\n",
              "      padding: 0 0 0 0;\n",
              "      width: 32px;\n",
              "    }\n",
              "\n",
              "    .colab-df-convert:hover {\n",
              "      background-color: #E2EBFA;\n",
              "      box-shadow: 0px 1px 2px rgba(60, 64, 67, 0.3), 0px 1px 3px 1px rgba(60, 64, 67, 0.15);\n",
              "      fill: #174EA6;\n",
              "    }\n",
              "\n",
              "    [theme=dark] .colab-df-convert {\n",
              "      background-color: #3B4455;\n",
              "      fill: #D2E3FC;\n",
              "    }\n",
              "\n",
              "    [theme=dark] .colab-df-convert:hover {\n",
              "      background-color: #434B5C;\n",
              "      box-shadow: 0px 1px 3px 1px rgba(0, 0, 0, 0.15);\n",
              "      filter: drop-shadow(0px 1px 2px rgba(0, 0, 0, 0.3));\n",
              "      fill: #FFFFFF;\n",
              "    }\n",
              "  </style>\n",
              "\n",
              "      <script>\n",
              "        const buttonEl =\n",
              "          document.querySelector('#df-e05f4905-f1a3-4887-b494-cb5368a785cf button.colab-df-convert');\n",
              "        buttonEl.style.display =\n",
              "          google.colab.kernel.accessAllowed ? 'block' : 'none';\n",
              "\n",
              "        async function convertToInteractive(key) {\n",
              "          const element = document.querySelector('#df-e05f4905-f1a3-4887-b494-cb5368a785cf');\n",
              "          const dataTable =\n",
              "            await google.colab.kernel.invokeFunction('convertToInteractive',\n",
              "                                                     [key], {});\n",
              "          if (!dataTable) return;\n",
              "\n",
              "          const docLinkHtml = 'Like what you see? Visit the ' +\n",
              "            '<a target=\"_blank\" href=https://colab.research.google.com/notebooks/data_table.ipynb>data table notebook</a>'\n",
              "            + ' to learn more about interactive tables.';\n",
              "          element.innerHTML = '';\n",
              "          dataTable['output_type'] = 'display_data';\n",
              "          await google.colab.output.renderOutput(dataTable, element);\n",
              "          const docLink = document.createElement('div');\n",
              "          docLink.innerHTML = docLinkHtml;\n",
              "          element.appendChild(docLink);\n",
              "        }\n",
              "      </script>\n",
              "    </div>\n",
              "  </div>\n",
              "  "
            ]
          },
          "metadata": {},
          "execution_count": 48
        }
      ]
    }
  ]
}