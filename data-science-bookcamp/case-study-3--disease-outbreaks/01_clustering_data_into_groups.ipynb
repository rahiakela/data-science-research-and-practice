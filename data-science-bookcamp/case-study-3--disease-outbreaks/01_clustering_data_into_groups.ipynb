{
  "nbformat": 4,
  "nbformat_minor": 0,
  "metadata": {
    "colab": {
      "name": "01-clustering-data-into-groups.ipynb",
      "provenance": [],
      "toc_visible": true,
      "authorship_tag": "ABX9TyPfHAvtjPvh1kNCho8jusK9",
      "include_colab_link": true
    },
    "kernelspec": {
      "name": "python3",
      "display_name": "Python 3"
    },
    "language_info": {
      "name": "python"
    }
  },
  "cells": [
    {
      "cell_type": "markdown",
      "metadata": {
        "id": "view-in-github",
        "colab_type": "text"
      },
      "source": [
        "<a href=\"https://colab.research.google.com/github/rahiakela/data-science-research-and-practice/blob/main/data-science-bookcamp/case-study-3--disease-outbreaks/01_clustering_data_into_groups.ipynb\" target=\"_parent\"><img src=\"https://colab.research.google.com/assets/colab-badge.svg\" alt=\"Open In Colab\"/></a>"
      ]
    },
    {
      "cell_type": "markdown",
      "source": [
        "# Clustering data into groups"
      ],
      "metadata": {
        "id": "dcQpX5ibRkrc"
      }
    },
    {
      "cell_type": "markdown",
      "source": [
        "Clustering is the process of organizing data points into conceptually meaningful groups.\n",
        "\n",
        "What makes a given group `conceptually meaningful`? \n",
        "\n",
        "There is no easy answer to that question. The usefulness of any clustered output is dependent on the task we’ve been assigned."
      ],
      "metadata": {
        "id": "bjJEiZW4Rw8s"
      }
    }
  ]
}