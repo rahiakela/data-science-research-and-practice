{
  "nbformat": 4,
  "nbformat_minor": 0,
  "metadata": {
    "colab": {
      "provenance": [],
      "toc_visible": true,
      "authorship_tag": "ABX9TyMtCNg6+FPn23Velpf1uNtd",
      "include_colab_link": true
    },
    "kernelspec": {
      "name": "python3",
      "display_name": "Python 3"
    },
    "language_info": {
      "name": "python"
    }
  },
  "cells": [
    {
      "cell_type": "markdown",
      "metadata": {
        "id": "view-in-github",
        "colab_type": "text"
      },
      "source": [
        "<a href=\"https://colab.research.google.com/github/rahiakela/data-science-research-and-practice/blob/main/data-science-bookcamp/case-study-5--predicting-future-friendships/04_linear_classifiers_with_logistic_regression.ipynb\" target=\"_parent\"><img src=\"https://colab.research.google.com/assets/colab-badge.svg\" alt=\"Open In Colab\"/></a>"
      ]
    },
    {
      "cell_type": "markdown",
      "source": [
        "##Linear Classifiers with Logistic Regression"
      ],
      "metadata": {
        "id": "7m9jJDExv-EL"
      }
    },
    {
      "cell_type": "markdown",
      "source": [
        "In this notebook, we simulated customer heights (in inches) and weights (in pounds). We’ll now proceed to re-run that simulation. \n",
        "\n",
        "For the purpose of this exercise, we’ll focus on the two classes; _Large_ and _Not Large_. \n",
        "\n",
        "We’ll assume that customers within the _Large_ class are taller than 72 inches and heavier than 160 lb."
      ],
      "metadata": {
        "id": "JWJOGP9Fv-yn"
      }
    },
    {
      "cell_type": "markdown",
      "source": [
        "##Setup"
      ],
      "metadata": {
        "id": "tAGSwWimwu6t"
      }
    },
    {
      "cell_type": "code",
      "source": [
        "import re\n",
        "import glob\n",
        "import time\n",
        "import numpy as np\n",
        "import pandas as pd\n",
        "\n",
        "from collections import Counter\n",
        "from collections import defaultdict\n",
        "\n",
        "from sklearn.decomposition import PCA\n",
        "from sklearn.neighbors import KNeighborsClassifier\n",
        "\n",
        "from sklearn.metrics.pairwise import euclidean_distances\n",
        "from sklearn.metrics import confusion_matrix\n",
        "from sklearn.metrics import accuracy_score\n",
        "from sklearn.metrics import f1_score\n",
        "from sklearn.datasets import load_iris\n",
        "from sklearn.model_selection import train_test_split\n",
        "from sklearn.model_selection import GridSearchCV\n",
        "\n",
        "import seaborn as sns\n",
        "import matplotlib.pyplot as plt\n",
        "from IPython.core.display import display, HTML"
      ],
      "metadata": {
        "id": "YmC8FgEtwwV0"
      },
      "execution_count": 1,
      "outputs": []
    },
    {
      "cell_type": "code",
      "source": [
        "import warnings\n",
        "warnings.filterwarnings('ignore')"
      ],
      "metadata": {
        "id": "6spFjBusw2HM"
      },
      "execution_count": 2,
      "outputs": []
    },
    {
      "cell_type": "code",
      "source": [
        "def plot_customers(X, y, xlabel='Inches (in)', ylabel='Pounds (lb)'):\n",
        "  colors = ['g', 'y']\n",
        "  labels = ['Not Large', 'Large']\n",
        "  for i, (color, label) in enumerate(zip(colors, labels)):\n",
        "      plt.scatter(X[:,0][y == i], X[:,1][y == i], color=color, label=label)\n",
        "  \n",
        "  plt.xlabel(xlabel)\n",
        "  plt.ylabel(ylabel)"
      ],
      "metadata": {
        "id": "HEqOv8J2bR0W"
      },
      "execution_count": 3,
      "outputs": []
    },
    {
      "cell_type": "markdown",
      "source": [
        "##Dataset"
      ],
      "metadata": {
        "id": "Ec7WfUByx39O"
      }
    },
    {
      "cell_type": "code",
      "source": [
        "# Simulating Categorized Customer Measurements\n",
        "np.random.seed(1)\n",
        "\n",
        "inches = np.arange(60, 78, 0.1)\n",
        "random_fluctuations = np.random.normal(scale=10, size=inches.size)\n",
        "pounds = 4 * inches - 130 + random_fluctuations\n",
        "\n",
        "X = np.array([inches, pounds]).T\n",
        "y = ((X[:, 0] > 72) & (X[:, 1] > 60)).astype(int)"
      ],
      "metadata": {
        "id": "-YFpuOqYx5PE"
      },
      "execution_count": 4,
      "outputs": []
    },
    {
      "cell_type": "code",
      "source": [
        "plot_customers(X, y)\n",
        "plt.legend()\n",
        "plt.show()"
      ],
      "metadata": {
        "colab": {
          "base_uri": "https://localhost:8080/",
          "height": 279
        },
        "id": "VoA_7h4acQRE",
        "outputId": "ba627bde-fdc3-4a2b-b91d-36c1e36383d3"
      },
      "execution_count": 5,
      "outputs": [
        {
          "output_type": "display_data",
          "data": {
            "text/plain": [
              "<Figure size 432x288 with 1 Axes>"
            ],
            "image/png": "[encoded data removed]"
          },
          "metadata": {
            "needs_background": "light"
          }
        }
      ]
    },
    {
      "cell_type": "markdown",
      "source": [
        "##Linear Classifier"
      ],
      "metadata": {
        "id": "zpTcjm-fci0s"
      }
    },
    {
      "cell_type": "markdown",
      "source": [
        "We can image a knife slicing through the cigar-shaped plot, in order to separate the colors. The knife acts like a boundary that separates the two customer classes. \n",
        "\n",
        "We can represent this boundary using a line with slope of -3.5 and a y-intercept of 415."
      ],
      "metadata": {
        "id": "7ST7VkAH0oHu"
      }
    },
    {
      "cell_type": "code",
      "source": [
        "# Plotting a boundary to separate the two customer classes\n",
        "y_pred = []\n",
        "\n",
        "for inches, lbs in X:\n",
        "  prediction = int(lbs > -3.5 * inches + 415)\n",
        "  y_pred.append(prediction)\n",
        "\n",
        "f_measure = f1_score(y_pred, y)\n",
        "print(f\"The f-measure is {f_measure:.2f}\")"
      ],
      "metadata": {
        "colab": {
          "base_uri": "https://localhost:8080/"
        },
        "id": "WUgJMKHk0cnj",
        "outputId": "3366c209-4c4f-4f3a-d292-3d3d4506d66d"
      },
      "execution_count": 13,
      "outputs": [
        {
          "output_type": "stream",
          "name": "stdout",
          "text": [
            "The f-measure is 0.92\n"
          ]
        }
      ]
    },
    {
      "cell_type": "markdown",
      "source": [
        "We can run the classification more concisely using vector dot products."
      ],
      "metadata": {
        "id": "NUtquc9e1O2-"
      }
    },
    {
      "cell_type": "code",
      "source": [
        "# Predicting classes using vector dot products\n",
        "weights = np.array([3.5, 1, -415])\n",
        "\n",
        "predictions = [int(weights @ [inches, lbs, 1] > 0) for inches, lbs in X]\n",
        "assert predictions == y_pred"
      ],
      "metadata": {
        "id": "7QwZjDjM1QFg"
      },
      "execution_count": 14,
      "outputs": []
    },
    {
      "cell_type": "markdown",
      "source": [
        "We can further consolidate our code if we use matrix multiplication."
      ],
      "metadata": {
        "id": "ihsHfail1ydM"
      }
    },
    {
      "cell_type": "code",
      "source": [
        "# Predicting classes using matrix multiplication\n",
        "M = np.column_stack([X, np.ones(X.shape[0])])\n",
        "print(f\"First five rows of our padded feature matrix are: \\n{np.round(M[:5], 2)}\")\n",
        "\n",
        "predictions = (M @ weights > 0).astype(int)\n",
        "assert predictions.tolist() == y_pred"
      ],
      "metadata": {
        "colab": {
          "base_uri": "https://localhost:8080/"
        },
        "id": "V9F5xSxb13kq",
        "outputId": "367a1ffd-df0e-4060-b18a-ea38576f9871"
      },
      "execution_count": 15,
      "outputs": [
        {
          "output_type": "stream",
          "name": "stdout",
          "text": [
            "First five rows of our padded feature matrix are: \n",
            "[[ 60.   126.24   1.  ]\n",
            " [ 60.1  104.28   1.  ]\n",
            " [ 60.2  105.52   1.  ]\n",
            " [ 60.3  100.47   1.  ]\n",
            " [ 60.4  120.25   1.  ]]\n"
          ]
        }
      ]
    },
    {
      "cell_type": "markdown",
      "source": [
        "We've boiled down customer classification to a simple matrix-vector product.\n",
        "\n",
        "This matrix-product classifier is called a **linear classifier**."
      ],
      "metadata": {
        "id": "ikgZ5lux3L-i"
      }
    },
    {
      "cell_type": "code",
      "source": [
        "# Defining a linear classifier function\n",
        "def linear_classifier(X, weights):\n",
        "  M = np.column_stack([X, np.ones(X.shape[0])])\n",
        "  return (M @ weights > 0).astype(int)\n",
        "\n",
        "predictions = linear_classifier(X, weights)\n",
        "assert predictions.tolist() == y_pred"
      ],
      "metadata": {
        "id": "b70n7y6m3P71"
      },
      "execution_count": 16,
      "outputs": []
    },
    {
      "cell_type": "markdown",
      "source": [
        "Linear classifiers check whether weighted features and a constant add-up to a value greater than zero. \n",
        "\n",
        "The constant-value, which is stored in `weights[-1]`, is referred to as the **bias**. \n",
        "\n",
        "Meanwhile, the remaining weights are called the **coefficients**."
      ],
      "metadata": {
        "id": "PoV408Y0UfW9"
      }
    },
    {
      "cell_type": "markdown",
      "source": [
        "##Training Linear Classifier"
      ],
      "metadata": {
        "id": "INwdLrhYpeYJ"
      }
    },
    {
      "cell_type": "markdown",
      "source": [
        "We want to find a weight vector that optimizes class prediction on `X`. \n",
        "\n",
        "Lets start by setting `weights` to equal three random values.\n"
      ],
      "metadata": {
        "id": "V0H8vrODptHK"
      }
    },
    {
      "cell_type": "code",
      "source": [
        "# Classification using random weights\n"
      ],
      "metadata": {
        "id": "ojAnaBwgT7vW"
      },
      "execution_count": null,
      "outputs": []
    }
  ]
}