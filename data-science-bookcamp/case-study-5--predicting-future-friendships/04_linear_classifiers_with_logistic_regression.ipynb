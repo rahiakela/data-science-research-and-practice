{
  "nbformat": 4,
  "nbformat_minor": 0,
  "metadata": {
    "colab": {
      "provenance": [],
      "toc_visible": true,
      "authorship_tag": "ABX9TyOX07uvpfzJJve5cSETsTxN",
      "include_colab_link": true
    },
    "kernelspec": {
      "name": "python3",
      "display_name": "Python 3"
    },
    "language_info": {
      "name": "python"
    }
  },
  "cells": [
    {
      "cell_type": "markdown",
      "metadata": {
        "id": "view-in-github",
        "colab_type": "text"
      },
      "source": [
        "<a href=\"https://colab.research.google.com/github/rahiakela/data-science-research-and-practice/blob/main/data-science-bookcamp/case-study-5--predicting-future-friendships/04_linear_classifiers_with_logistic_regression.ipynb\" target=\"_parent\"><img src=\"https://colab.research.google.com/assets/colab-badge.svg\" alt=\"Open In Colab\"/></a>"
      ]
    },
    {
      "cell_type": "markdown",
      "source": [
        "##Linear Classifiers with Logistic Regression"
      ],
      "metadata": {
        "id": "7m9jJDExv-EL"
      }
    },
    {
      "cell_type": "markdown",
      "source": [
        "In this notebook, we simulated customer heights (in inches) and weights (in pounds). We’ll now proceed to re-run that simulation. \n",
        "\n",
        "For the purpose of this exercise, we’ll focus on the two classes; _Large_ and _Not Large_. \n",
        "\n",
        "We’ll assume that customers within the _Large_ class are taller than 72 inches and heavier than 160 lb."
      ],
      "metadata": {
        "id": "JWJOGP9Fv-yn"
      }
    },
    {
      "cell_type": "markdown",
      "source": [
        "##Setup"
      ],
      "metadata": {
        "id": "tAGSwWimwu6t"
      }
    },
    {
      "cell_type": "code",
      "source": [
        "import re\n",
        "import glob\n",
        "import time\n",
        "import numpy as np\n",
        "import pandas as pd\n",
        "\n",
        "from collections import Counter\n",
        "from collections import defaultdict\n",
        "\n",
        "from sklearn.decomposition import PCA\n",
        "from sklearn.neighbors import KNeighborsClassifier\n",
        "\n",
        "from sklearn.metrics.pairwise import euclidean_distances\n",
        "from sklearn.metrics import confusion_matrix\n",
        "from sklearn.metrics import accuracy_score\n",
        "from sklearn.metrics import f1_score\n",
        "from sklearn.datasets import load_iris\n",
        "from sklearn.model_selection import train_test_split\n",
        "from sklearn.model_selection import GridSearchCV\n",
        "\n",
        "import seaborn as sns\n",
        "import matplotlib.pyplot as plt\n",
        "from IPython.core.display import display, HTML"
      ],
      "metadata": {
        "id": "YmC8FgEtwwV0"
      },
      "execution_count": 1,
      "outputs": []
    },
    {
      "cell_type": "code",
      "source": [
        "import warnings\n",
        "warnings.filterwarnings('ignore')"
      ],
      "metadata": {
        "id": "6spFjBusw2HM"
      },
      "execution_count": 2,
      "outputs": []
    },
    {
      "cell_type": "code",
      "source": [
        "def plot_customers(X, y, xlabel='Inches (in)', ylabel='Pounds (lb)'):\n",
        "  colors = ['g', 'y']\n",
        "  labels = ['Not Large', 'Large']\n",
        "  for i, (color, label) in enumerate(zip(colors, labels)):\n",
        "      plt.scatter(X[:,0][y == i], X[:,1][y == i], color=color, label=label)\n",
        "  \n",
        "  plt.xlabel(xlabel)\n",
        "  plt.ylabel(ylabel)"
      ],
      "metadata": {
        "id": "HEqOv8J2bR0W"
      },
      "execution_count": 3,
      "outputs": []
    },
    {
      "cell_type": "markdown",
      "source": [
        "##Dataset"
      ],
      "metadata": {
        "id": "Ec7WfUByx39O"
      }
    },
    {
      "cell_type": "code",
      "source": [
        "# Simulating Categorized Customer Measurements\n",
        "np.random.seed(1)\n",
        "\n",
        "inches = np.arange(60, 78, 0.1)\n",
        "random_fluctuations = np.random.normal(scale=10, size=inches.size)\n",
        "pounds = 4 * inches - 130 + random_fluctuations\n",
        "\n",
        "X = np.array([inches, pounds]).T\n",
        "y = ((X[:, 0] > 72) & (X[:, 1] > 160)).astype(int)"
      ],
      "metadata": {
        "id": "-YFpuOqYx5PE"
      },
      "execution_count": 4,
      "outputs": []
    },
    {
      "cell_type": "code",
      "source": [
        "plot_customers(X, y)\n",
        "plt.legend()\n",
        "plt.show()"
      ],
      "metadata": {
        "colab": {
          "base_uri": "https://localhost:8080/",
          "height": 279
        },
        "id": "VoA_7h4acQRE",
        "outputId": "e19f732d-938b-4ab8-d3af-f4bfbefbcf18"
      },
      "execution_count": 5,
      "outputs": [
        {
          "output_type": "display_data",
          "data": {
            "text/plain": [
              "<Figure size 432x288 with 1 Axes>"
            ],
            "image/png": "[encoded data removed]"
          },
          "metadata": {
            "needs_background": "light"
          }
        }
      ]
    },
    {
      "cell_type": "markdown",
      "source": [
        "We can image a knife slicing through the cigar-shaped plot, in order to separate the colors. The knife acts like a boundary that separates the two customer classes. \n",
        "\n",
        "We can represent this boundary using a line with slope of -3.5 and a y-intercept of 415."
      ],
      "metadata": {
        "id": "XesRB3EY5Y_h"
      }
    },
    {
      "cell_type": "code",
      "source": [
        "# Plotting a boundary to separate the two customer classes\n",
        "def boundary(inches):\n",
        "  return -3.5 * inches + 415\n",
        "\n",
        "plt.plot(X[:,0], boundary(X[:,0]), color='k', label='Boundary')\n",
        "plot_customers(X, y)\n",
        "plt.legend()\n",
        "plt.show()"
      ],
      "metadata": {
        "id": "mnGXGkz85bkJ",
        "outputId": "773f719d-be2f-4305-e26f-42e69a8d88a3",
        "colab": {
          "base_uri": "https://localhost:8080/",
          "height": 279
        }
      },
      "execution_count": 6,
      "outputs": [
        {
          "output_type": "display_data",
          "data": {
            "text/plain": [
              "<Figure size 432x288 with 1 Axes>"
            ],
            "image/png": "[encoded data removed]"
          },
          "metadata": {
            "needs_background": "light"
          }
        }
      ]
    },
    {
      "cell_type": "markdown",
      "source": [
        "##Linear Classifier"
      ],
      "metadata": {
        "id": "zpTcjm-fci0s"
      }
    },
    {
      "cell_type": "markdown",
      "source": [
        "Most of the customers within the _Large_ class are located above the plotted line. \n",
        "\n",
        "Hence, we can use this line to classify the customers. \n",
        "\n",
        "Given a customer with measurement of `(inches, lbs)`, we predict the customer’s class by checking whether `lbs > -3.5 * inches + 415`. "
      ],
      "metadata": {
        "id": "7ST7VkAH0oHu"
      }
    },
    {
      "cell_type": "code",
      "source": [
        "# Predicting classes using a linear boundary\n",
        "y_pred = []\n",
        "\n",
        "for inches, lbs in X:\n",
        "  prediction = int(lbs > -3.5 * inches + 415)\n",
        "  y_pred.append(prediction)\n",
        "\n",
        "f_measure = f1_score(y_pred, y)\n",
        "print(f\"The f-measure is {f_measure:.2f}\")"
      ],
      "metadata": {
        "colab": {
          "base_uri": "https://localhost:8080/"
        },
        "id": "WUgJMKHk0cnj",
        "outputId": "d98f6008-5f6a-454f-e163-8328aec99875"
      },
      "execution_count": 7,
      "outputs": [
        {
          "output_type": "stream",
          "name": "stdout",
          "text": [
            "The f-measure is 0.97\n"
          ]
        }
      ]
    },
    {
      "cell_type": "markdown",
      "source": [
        "We can run the classification more concisely using vector dot products."
      ],
      "metadata": {
        "id": "NUtquc9e1O2-"
      }
    },
    {
      "cell_type": "code",
      "source": [
        "# Predicting classes using vector dot products\n",
        "weights = np.array([3.5, 1, -415])\n",
        "\n",
        "predictions = [int(weights @ [inches, lbs, 1] > 0) for inches, lbs in X]\n",
        "assert predictions == y_pred"
      ],
      "metadata": {
        "id": "7QwZjDjM1QFg"
      },
      "execution_count": 8,
      "outputs": []
    },
    {
      "cell_type": "markdown",
      "source": [
        "We can further consolidate our code if we use matrix multiplication."
      ],
      "metadata": {
        "id": "ihsHfail1ydM"
      }
    },
    {
      "cell_type": "code",
      "source": [
        "# Predicting classes using matrix multiplication\n",
        "M = np.column_stack([X, np.ones(X.shape[0])])\n",
        "print(f\"First five rows of our padded feature matrix are: \\n{np.round(M[:5], 2)}\")\n",
        "\n",
        "predictions = (M @ weights > 0).astype(int)\n",
        "assert predictions.tolist() == y_pred"
      ],
      "metadata": {
        "colab": {
          "base_uri": "https://localhost:8080/"
        },
        "id": "V9F5xSxb13kq",
        "outputId": "6b493fd8-aced-48e2-9a96-064eb5945be8"
      },
      "execution_count": 9,
      "outputs": [
        {
          "output_type": "stream",
          "name": "stdout",
          "text": [
            "First five rows of our padded feature matrix are: \n",
            "[[ 60.   126.24   1.  ]\n",
            " [ 60.1  104.28   1.  ]\n",
            " [ 60.2  105.52   1.  ]\n",
            " [ 60.3  100.47   1.  ]\n",
            " [ 60.4  120.25   1.  ]]\n"
          ]
        }
      ]
    },
    {
      "cell_type": "markdown",
      "source": [
        "We've boiled down customer classification to a simple matrix-vector product.\n",
        "\n",
        "This matrix-product classifier is called a **linear classifier**."
      ],
      "metadata": {
        "id": "ikgZ5lux3L-i"
      }
    },
    {
      "cell_type": "code",
      "source": [
        "# Defining a linear classifier function\n",
        "def linear_classifier(X, weights):\n",
        "  M = np.column_stack([X, np.ones(X.shape[0])])\n",
        "  return (M @ weights > 0).astype(int)\n",
        "\n",
        "predictions = linear_classifier(X, weights)\n",
        "assert predictions.tolist() == y_pred"
      ],
      "metadata": {
        "id": "b70n7y6m3P71"
      },
      "execution_count": 10,
      "outputs": []
    },
    {
      "cell_type": "markdown",
      "source": [
        "Linear classifiers check whether weighted features and a constant add-up to a value greater than zero. \n",
        "\n",
        "The constant-value, which is stored in `weights[-1]`, is referred to as the **bias**. \n",
        "\n",
        "Meanwhile, the remaining weights are called the **coefficients**."
      ],
      "metadata": {
        "id": "PoV408Y0UfW9"
      }
    },
    {
      "cell_type": "markdown",
      "source": [
        "##Training Linear Classifier"
      ],
      "metadata": {
        "id": "INwdLrhYpeYJ"
      }
    },
    {
      "cell_type": "markdown",
      "source": [
        "We want to find a weight vector that optimizes class prediction on `X`. \n",
        "\n",
        "Lets start by setting `weights` to equal three random values.\n"
      ],
      "metadata": {
        "id": "V0H8vrODptHK"
      }
    },
    {
      "cell_type": "code",
      "source": [
        "# Classification using random weights\n",
        "np.random.seed(0)\n",
        "\n",
        "weights = np.random.normal(size=3)\n",
        "y_pred = linear_classifier(X, weights)\n",
        "f_measure = f1_score(y_pred, y)\n",
        "\n",
        "print(f\"We inputted the following random weights:\\n{np.round(weights, 2)}\")\n",
        "print(f\"\\nThe f-measure is {f_measure:.2f}\")"
      ],
      "metadata": {
        "id": "ojAnaBwgT7vW",
        "outputId": "60530e38-fc97-4841-b88e-d3582e8ce9cb",
        "colab": {
          "base_uri": "https://localhost:8080/"
        }
      },
      "execution_count": 11,
      "outputs": [
        {
          "output_type": "stream",
          "name": "stdout",
          "text": [
            "We inputted the following random weights:\n",
            "[1.76 0.4  0.98]\n",
            "\n",
            "The f-measure is 0.43\n"
          ]
        }
      ]
    },
    {
      "cell_type": "markdown",
      "source": [
        "As expected, our f-measure is terrible! We can gain insight into why by printing `y_pred`."
      ],
      "metadata": {
        "id": "J8wMleJMuydS"
      }
    },
    {
      "cell_type": "code",
      "source": [
        "# Outputting the predicted classes\n",
        "print(y_pred)"
      ],
      "metadata": {
        "id": "WdsVJInJuy1s",
        "outputId": "dd0394f9-c247-4f52-da04-e4108b2e3f7e",
        "colab": {
          "base_uri": "https://localhost:8080/"
        }
      },
      "execution_count": 12,
      "outputs": [
        {
          "output_type": "stream",
          "name": "stdout",
          "text": [
            "[1 1 1 1 1 1 1 1 1 1 1 1 1 1 1 1 1 1 1 1 1 1 1 1 1 1 1 1 1 1 1 1 1 1 1 1 1\n",
            " 1 1 1 1 1 1 1 1 1 1 1 1 1 1 1 1 1 1 1 1 1 1 1 1 1 1 1 1 1 1 1 1 1 1 1 1 1\n",
            " 1 1 1 1 1 1 1 1 1 1 1 1 1 1 1 1 1 1 1 1 1 1 1 1 1 1 1 1 1 1 1 1 1 1 1 1 1\n",
            " 1 1 1 1 1 1 1 1 1 1 1 1 1 1 1 1 1 1 1 1 1 1 1 1 1 1 1 1 1 1 1 1 1 1 1 1 1\n",
            " 1 1 1 1 1 1 1 1 1 1 1 1 1 1 1 1 1 1 1 1 1 1 1 1 1 1 1 1 1 1 1 1]\n"
          ]
        }
      ]
    },
    {
      "cell_type": "markdown",
      "source": [
        "All our data-points are assigned a class label of 1! The product of our weights and each feature vector is always greater than zero. \n",
        "\n",
        "Hence, our weights must be too high. Lowering the weights will yield more _Class 0_ predictions."
      ],
      "metadata": {
        "id": "4GrhZOUPu_UB"
      }
    },
    {
      "cell_type": "code",
      "source": [
        "# Shifting the class predictions by lowering the weights\n",
        "assert np.all(linear_classifier(X, [0, 0, 0]) == 0)"
      ],
      "metadata": {
        "id": "6KIXY_d0vA60"
      },
      "execution_count": 13,
      "outputs": []
    },
    {
      "cell_type": "markdown",
      "source": [
        "We can intelligently raise and lower the weights until our predictions align with the actual class labels. \n",
        "\n",
        "Lets devise a strategy for adjusting the weights to match the labels. We'll start by adjusting the bias at `weights[-1]`. One simple strategy entails comparing each _predicted_ / _actual_ class-label pair."
      ],
      "metadata": {
        "id": "arxwg_xqvQIi"
      }
    },
    {
      "cell_type": "code",
      "source": [
        "# Computing the bias shift based on prediction quality\n",
        "def get_bias_shift(predicted, actual):\n",
        "  if predicted == actual:\n",
        "    return 0\n",
        "  if predicted > actual:\n",
        "    return 1\n",
        "  return -1"
      ],
      "metadata": {
        "id": "0qMv_rZBvS2d"
      },
      "execution_count": 14,
      "outputs": []
    },
    {
      "cell_type": "markdown",
      "source": [
        "Mathematically, we can show that our `get_bias_shift` function is equivalent to `predicted - actual`."
      ],
      "metadata": {
        "id": "Qnv9JNs4vq5F"
      }
    },
    {
      "cell_type": "code",
      "source": [
        "# Computing the bias shift using arithmetic\n",
        "for predicted, actual in [(0, 0), (1, 0), (0, 1), (1, 1)]:\n",
        "  bias_shift = get_bias_shift(predicted, actual)\n",
        "  assert bias_shift == predicted - actual"
      ],
      "metadata": {
        "id": "sepWW8A2vrR-"
      },
      "execution_count": 15,
      "outputs": []
    },
    {
      "cell_type": "markdown",
      "source": [
        "Rather than shifting the bias by a single unit, we can shift it 1/10th of a unit, or or 10 units or 100 units. \n",
        "\n",
        "The actual unit-shift can be controlled by a parameter called the **learning rate**. \n",
        "\n",
        "The learning rate is multiplied against `predicted - actual` in order to adjust the shift size."
      ],
      "metadata": {
        "id": "_OeLFx--wSQF"
      }
    },
    {
      "cell_type": "code",
      "source": [
        "# Computing the bias shift with a learning rate\n",
        "def get_bias_shift(predicted, actual, learning_rate=0.1):\n",
        "  return learning_rate * (predicted - actual)"
      ],
      "metadata": {
        "id": "uTPfTyVMwUud"
      },
      "execution_count": 16,
      "outputs": []
    },
    {
      "cell_type": "markdown",
      "source": [
        "We are ready to adjust our bias. \n",
        "\n",
        "Below, we'll iterate over each `[inches, lbs, 1]` vector in `M`. \n",
        "\n",
        "For every ith vector, we'll predict the class label and compare it to the actual class within `y[i]`. \n",
        "\n",
        "Using each prediction, we'll compute the bias shift, and subtract it from the bias."
      ],
      "metadata": {
        "id": "0LNe8-ikwr9M"
      }
    },
    {
      "cell_type": "code",
      "source": [
        "# Iteratively shifting the bias\n",
        "def predict(v, weights):\n",
        "  return int(v @ weights > 0)\n",
        "\n",
        "starting_bias = weights[-1]\n",
        "for i, actual in enumerate(y):\n",
        "  predicted = predict(M[i], weights)\n",
        "  bias_shift = get_bias_shift(predicted, actual)\n",
        "  weights[-1] -= bias_shift \n",
        "\n",
        "new_bias = weights[-1]\n",
        "print(f\"Our starting bias equaled {starting_bias:.2f}.\")\n",
        "print(f\"The adjusted bias equals {new_bias:.2f}.\")"
      ],
      "metadata": {
        "id": "Zz2lE5MNwuQ9",
        "outputId": "7f4bc86a-c11f-48c5-ce5b-e1ed9cc89165",
        "colab": {
          "base_uri": "https://localhost:8080/"
        }
      },
      "execution_count": 17,
      "outputs": [
        {
          "output_type": "stream",
          "name": "stdout",
          "text": [
            "Our starting bias equaled 0.98.\n",
            "The adjusted bias equals -12.02.\n"
          ]
        }
      ]
    },
    {
      "cell_type": "markdown",
      "source": [
        "The bias has drastically decreased. Lets check whether the shift improved our f-measure."
      ],
      "metadata": {
        "id": "fXvoqvHbyf3p"
      }
    },
    {
      "cell_type": "code",
      "source": [
        "# Checking performance after the bias shift\n",
        "y_pred = linear_classifier(X, weights)\n",
        "f_measure = f1_score(y_pred, y)\n",
        "print(f\"The f-measure is {f_measure:.2f}\")"
      ],
      "metadata": {
        "id": "6Lj3_ZhRygRL",
        "outputId": "04b767ea-25cf-4de4-9b66-b4fb36db9067",
        "colab": {
          "base_uri": "https://localhost:8080/"
        }
      },
      "execution_count": 18,
      "outputs": [
        {
          "output_type": "stream",
          "name": "stdout",
          "text": [
            "The f-measure is 0.43\n"
          ]
        }
      ]
    },
    {
      "cell_type": "markdown",
      "source": [
        "Our f-measure remains the same. Simply adjusting the bias is insufficient. \n",
        "\n",
        "We need to adjust the coefficients as well but how? \n",
        "\n",
        "Naively, we could subtract the bias shift from every coefficient. \n",
        "\n",
        "Unfortunately, this naive approach is flawed. It always adjusts the coefficients. However, it is dangerous to adjust the coefficients when their associated features are equal to zero. \n",
        "\n",
        "Thus, we need to shift each coefficient by multiplying the bias shift with the coefficent's feature. \n",
        "\n",
        "In NumPy, we can do this by running `weights -= bias_shift * M[i]`."
      ],
      "metadata": {
        "id": "ZkU2JqWjzFBV"
      }
    },
    {
      "cell_type": "code",
      "source": [
        "# Computing all weight-shifts in one line of code\n",
        "old_weights = weights.copy()\n",
        "for i, actual in enumerate(y):\n",
        "  predicted = predict(M[i], weights)\n",
        "  bias_shift = get_bias_shift(predicted, actual)\n",
        "  weights -= bias_shift * M[i] \n",
        "\n",
        "y_pred = linear_classifier(X, weights)\n",
        "f_measure = f1_score(y_pred, y)\n",
        "\n",
        "print(\"The weights previously equaled:\")\n",
        "print(np.round(old_weights, 2))\n",
        "print(\"\\nThe updated weights now equal:\")\n",
        "print(np.round(weights, 2))\n",
        "print(f'\\nThe f-measure is {f_measure:.2f}')"
      ],
      "metadata": {
        "id": "tzTy8RmPzMOR",
        "outputId": "83428478-8d3e-4e33-bb8a-1e0c33064d60",
        "colab": {
          "base_uri": "https://localhost:8080/"
        }
      },
      "execution_count": 19,
      "outputs": [
        {
          "output_type": "stream",
          "name": "stdout",
          "text": [
            "The weights previously equaled:\n",
            "[  1.76   0.4  -12.02]\n",
            "\n",
            "The updated weights now equal:\n",
            "[ -4.64   2.22 -12.12]\n",
            "\n",
            "The f-measure is 0.78\n"
          ]
        }
      ]
    },
    {
      "cell_type": "markdown",
      "source": [
        "Our f-measure has risen from 0.43 to 0.78. The weight shift strategy is working! \n",
        "\n",
        "Lets repeat the iteration 1000 times."
      ],
      "metadata": {
        "id": "0fb3E6Ul1HW1"
      }
    },
    {
      "cell_type": "code",
      "source": [
        "# Tweaking the weights over multiple iterations\n",
        "np.random.seed(0)\n",
        "weights = np.random.normal(size=3)\n",
        "\n",
        "f_measures = []\n",
        "for _ in range(1000):\n",
        "  y_pred = linear_classifier(X, weights)\n",
        "  f_measures.append(f1_score(y_pred, y))\n",
        "\n",
        "  for i, actual in enumerate(y):\n",
        "    predicted = predict(M[i], weights)\n",
        "    bias_shift = get_bias_shift(predicted, actual)\n",
        "    weights -= bias_shift * M[i] \n",
        "\n",
        "print(f'The f-measure after 1000 iterations is {f_measures[-1]:.2f}')\n",
        "plt.plot(range(len(f_measures)), f_measures)\n",
        "plt.xlabel('Iteration')\n",
        "plt.ylabel('F-measure')\n",
        "plt.show()"
      ],
      "metadata": {
        "id": "mVqAMMB81H_L",
        "outputId": "d9eaef20-eab3-414c-f9e9-7cb661633708",
        "colab": {
          "base_uri": "https://localhost:8080/",
          "height": 296
        }
      },
      "execution_count": 20,
      "outputs": [
        {
          "output_type": "stream",
          "name": "stdout",
          "text": [
            "The f-measure after 1000 iterations is 0.68\n"
          ]
        },
        {
          "output_type": "display_data",
          "data": {
            "text/plain": [
              "<Figure size 432x288 with 1 Axes>"
            ],
            "image/png": "[encoded data removed]"
          },
          "metadata": {
            "needs_background": "light"
          }
        }
      ]
    },
    {
      "cell_type": "markdown",
      "source": [
        "The classifier performance oscillates wildly over the course of the iterations.The rapid fluctuations are caused by a weight shift that is consistently too high. \n",
        "\n",
        "We should slowly lower the weight shift over each additional iteration. We can do this by dividing the weight shift by `k` for each _kth_ iteration."
      ],
      "metadata": {
        "id": "B-KiAJFX1zD1"
      }
    },
    {
      "cell_type": "code",
      "source": [
        "# Reducing weight shifts over multiple iterations\n",
        "np.random.seed(0)\n",
        "\n",
        "def train(X, y, predict=predict):\n",
        "  M = np.column_stack([X, np.ones(X.shape[0])])\n",
        "  weights = np.random.normal(size=X.shape[1] + 1)\n",
        "\n",
        "  f_measures = []\n",
        "  for k in range(1, 1000):\n",
        "    y_pred = linear_classifier(X, weights)\n",
        "    f_measures.append(f1_score(y_pred, y))\n",
        "\n",
        "    for i, actual in enumerate(y):\n",
        "      predicted = predict(M[i], weights)\n",
        "      bias_shift = get_bias_shift(predicted, actual)\n",
        "      weights -= bias_shift * M[i] / k\n",
        "  return weights, f_measures"
      ],
      "metadata": {
        "id": "ebPFxZ-b12yE"
      },
      "execution_count": 21,
      "outputs": []
    },
    {
      "cell_type": "code",
      "source": [
        "weights, f_measures = train(X, y)\n",
        "\n",
        "print(f'The f-measure after 1000 iterations is {f_measures[-1]:.2f}')\n",
        "plt.plot(range(len(f_measures)), f_measures)\n",
        "plt.xlabel('Iteration')\n",
        "plt.ylabel('F-measure')\n",
        "plt.show()"
      ],
      "metadata": {
        "id": "NLm8XTT92kN9",
        "outputId": "48748cd6-281e-4925-c588-09ad0d73d1bc",
        "colab": {
          "base_uri": "https://localhost:8080/",
          "height": 296
        }
      },
      "execution_count": 22,
      "outputs": [
        {
          "output_type": "stream",
          "name": "stdout",
          "text": [
            "The f-measure after 1000 iterations is 0.82\n"
          ]
        },
        {
          "output_type": "display_data",
          "data": {
            "text/plain": [
              "<Figure size 432x288 with 1 Axes>"
            ],
            "image/png": "[encoded data removed]"
          },
          "metadata": {
            "needs_background": "light"
          }
        }
      ]
    },
    {
      "cell_type": "markdown",
      "source": [
        "Our gradual weight-shift reduction was successful. The f-measure converges to a steady value of 0.82. \n",
        "\n",
        "We achieved convergence using a **Perceptron training algorithm**. Through repetition, the Perceptron training algorithm will eventually converge to a steady f-measure. \n",
        "\n",
        "However, that f-measure will not necessarily be optimal. For instance, our Perceptron converged to an f-measure of 0.82.  The level of performance doesn't match our initial result of 0.97. \n",
        "\n",
        "Our new decision boundary doesn't separate the data as well as our old decision boundary. \n",
        "\n",
        "Lets check how the two boundaries visually compare."
      ],
      "metadata": {
        "id": "0syU7j9v4aa1"
      }
    },
    {
      "cell_type": "code",
      "source": [
        "# Comparing new and old decision boundaries\n",
        "inches_coef, lbs_coef, bias = weights\n",
        "\n",
        "def new_boundary(inches):\n",
        "  return -(inches_coef * inches + bias) / lbs_coef\n",
        "\n",
        "plt.plot(X[:,0], new_boundary(X[:,0]), color='k', linestyle='--', label='Trained Boundary', linewidth=2)\n",
        "plt.plot(X[:,0], boundary(X[:,0]), color='k', label='Initial Boundary')\n",
        "plot_customers(X, y)\n",
        "plt.legend()\n",
        "plt.show()"
      ],
      "metadata": {
        "id": "lOA1uHAy4lsI",
        "outputId": "aba65001-010f-40ec-c8cc-221f7996462b",
        "colab": {
          "base_uri": "https://localhost:8080/",
          "height": 279
        }
      },
      "execution_count": 23,
      "outputs": [
        {
          "output_type": "display_data",
          "data": {
            "text/plain": [
              "<Figure size 432x288 with 1 Axes>"
            ],
            "image/png": "[encoded data removed]"
          },
          "metadata": {
            "needs_background": "light"
          }
        }
      ]
    },
    {
      "cell_type": "markdown",
      "source": [
        "Our linear boundary is inferior to our initial linear boundary. Our training is hindered by large, fluctuating features in matrix `X`. \n",
        "\n",
        "We can limit this impediment through a process called **standardization**, in which `X` is adjusted to equal `(X - X.mean(axis=0)) / X.std(axis=0)`."
      ],
      "metadata": {
        "id": "pT9i_wcY6GPS"
      }
    },
    {
      "cell_type": "markdown",
      "source": [
        "##Data Standardization"
      ],
      "metadata": {
        "id": "b-d8JxzA6KWi"
      }
    },
    {
      "cell_type": "markdown",
      "source": [
        "Our training lacks all nuance because the coefficient shifts are way too high. \n",
        "\n",
        "However, we can lower these shifts by lowering column means in matrix `X`. \n",
        "\n",
        "Additionally, we’ll need to lower the dispersion in the matrix. \n",
        "\n",
        "To start, lets print the current values of `X.mean(axis=0)` and `X.std(axis=0)`."
      ],
      "metadata": {
        "id": "GU-9CmSK6QTD"
      }
    },
    {
      "cell_type": "code",
      "source": [
        "# Printing feature means and standard deviations\n",
        "means = X.mean(axis=0)\n",
        "stds = X.std(axis=0)\n",
        "\n",
        "print(f\"Mean values: {np.round(means, 2)}\")\n",
        "print(f\"STD values: {np.round(stds, 2)}\")"
      ],
      "metadata": {
        "id": "_I7sPbPp6hbq",
        "colab": {
          "base_uri": "https://localhost:8080/"
        },
        "outputId": "09cba333-a9a2-467f-d7b9-3c757f7626d5"
      },
      "execution_count": 25,
      "outputs": [
        {
          "output_type": "stream",
          "name": "stdout",
          "text": [
            "Mean values: [ 68.95 146.56]\n",
            "STD values: [ 5.2  23.26]\n"
          ]
        }
      ]
    },
    {
      "cell_type": "markdown",
      "source": [
        "The feature means and standard deviations are relatively high. We can shift the means to zero by subtracting `means` from `X`. \n",
        "\n",
        "Additionally, we can shift the standard deviations to 1.0 by running `(X - means) / stds`. \n",
        "\n",
        "This simple process is called **standardization**."
      ],
      "metadata": {
        "id": "UF6oQUJ_juZR"
      }
    },
    {
      "cell_type": "code",
      "source": [
        "# Standardizing the feature matrix\n",
        "def standardize(X):\n",
        "  means = X.mean(axis=0)\n",
        "  stds = X.std(axis=0)\n",
        "  return (X - means) / stds"
      ],
      "metadata": {
        "id": "0UzHAo-0jwhD"
      },
      "execution_count": 26,
      "outputs": []
    },
    {
      "cell_type": "code",
      "source": [
        "X_s = standardize(X)\n",
        "assert np.allclose(X_s.mean(axis=0), 0)\n",
        "assert np.allclose(X_s.std(axis=0), 1)"
      ],
      "metadata": {
        "id": "uxG18oI8kHNl"
      },
      "execution_count": 27,
      "outputs": []
    },
    {
      "cell_type": "markdown",
      "source": [
        "We'll now check whether training on the standardized feature matrix improves our results."
      ],
      "metadata": {
        "id": "S6iwTjuIkbyW"
      }
    },
    {
      "cell_type": "code",
      "source": [
        "# Training on the standardized feature matrix\n",
        "np.random.seed(0)\n",
        "\n",
        "weights, f_measures = train(X_s, y)\n",
        "print(f\"After standardization, the f-measure is {f_measures[-1]:.2f}\")"
      ],
      "metadata": {
        "colab": {
          "base_uri": "https://localhost:8080/"
        },
        "id": "Rr_uuV4QkcLx",
        "outputId": "7e02e015-559d-41bf-fd64-c706a8b3e2dc"
      },
      "execution_count": 28,
      "outputs": [
        {
          "output_type": "stream",
          "name": "stdout",
          "text": [
            "After standardization, the f-measure is 0.98\n"
          ]
        }
      ]
    },
    {
      "cell_type": "code",
      "source": [
        "def plot_boundary(weights):\n",
        "  a, b, c = weights\n",
        "  new_boundary = lambda x: -(a * x + c) / b\n",
        "  plt.plot(X_s[:,0], new_boundary(X_s[:,0]), color='k', linestyle='--', label='Trained Boundary', linewidth=2)\n",
        "  plot_customers(X_s, y, xlabel='Standardized Inches', ylabel='Standardized Pounds')\n",
        "  plt.legend()\n",
        "  plt.show()\n",
        "    \n",
        "plot_boundary(weights)"
      ],
      "metadata": {
        "colab": {
          "base_uri": "https://localhost:8080/",
          "height": 279
        },
        "id": "XP5J0arhkuyG",
        "outputId": "f6940ad4-2e05-449b-f18c-974b7c230845"
      },
      "execution_count": 29,
      "outputs": [
        {
          "output_type": "display_data",
          "data": {
            "text/plain": [
              "<Figure size 432x288 with 1 Axes>"
            ],
            "image/png": "[encoded data removed]"
          },
          "metadata": {
            "needs_background": "light"
          }
        }
      ]
    },
    {
      "cell_type": "markdown",
      "source": [
        "We achieved improvement in performance through standardization. However, our trained classifier now requires all input data to be standardized prior to classification. \n",
        "\n",
        "Hence, given any new data `d`, we will need to classify that data by running `linear_classifier(standardize(d), weights)`. "
      ],
      "metadata": {
        "id": "--t_QPIFlDJv"
      }
    },
    {
      "cell_type": "code",
      "source": [
        "# Standardizing new classifier inputs\n",
        "new_data = np.array([\n",
        "  [63, 110], \n",
        "  [76, 199]\n",
        "])\n",
        "\n",
        "predictions = linear_classifier(standardize(new_data), weights)\n",
        "print(predictions)"
      ],
      "metadata": {
        "colab": {
          "base_uri": "https://localhost:8080/"
        },
        "id": "JRGg7cfJlJ6j",
        "outputId": "eaa24f22-ac6d-4d17-f721-7156d22b5345"
      },
      "execution_count": 30,
      "outputs": [
        {
          "output_type": "stream",
          "name": "stdout",
          "text": [
            "[0 1]\n"
          ]
        }
      ]
    },
    {
      "cell_type": "markdown",
      "source": [
        "We’ve standardized our data and achieved a very high level of Perceptron performance. \n",
        "\n",
        "Unfortunately, this optimal f-measure is still not guaranteed by the training algorithm. \n",
        "\n",
        "Trained Perceptron quality can fluctuate, even if the algorithm is run repeatedly on the same training set. "
      ],
      "metadata": {
        "id": "0g3pvKIHlhns"
      }
    },
    {
      "cell_type": "code",
      "source": [
        "# Checking a Perceptron’s training consistency\n",
        "np.random.seed(0)\n",
        "\n",
        "poor_train_count = sum([train(X_s, y)[1][-1] < 0.97 for _ in range(5)])\n",
        "print(f\"The f-measure fell below our baseline of 0.97 in {poor_train_count} out of 5 training instances.\")"
      ],
      "metadata": {
        "colab": {
          "base_uri": "https://localhost:8080/"
        },
        "id": "VpD2bCS6lkJb",
        "outputId": "fd9213e0-c94c-4be5-b44b-29fdee4d0532"
      },
      "execution_count": 31,
      "outputs": [
        {
          "output_type": "stream",
          "name": "stdout",
          "text": [
            "The f-measure fell below our baseline of 0.97 in 4 out of 5 training instances.\n"
          ]
        }
      ]
    },
    {
      "cell_type": "markdown",
      "source": [
        "In 80% of instances, the trained model performance falls below the baseline. \n",
        "\n",
        "Our basic perceptron model is clearly flawed. \n",
        "\n",
        "We'll address these flaws in the subsequent subsection using **Logistic regression**."
      ],
      "metadata": {
        "id": "vgBfmTGAl_l0"
      }
    },
    {
      "cell_type": "markdown",
      "source": [
        "##Logistic regression"
      ],
      "metadata": {
        "id": "Bmn0Ma7xmNEd"
      }
    },
    {
      "cell_type": "markdown",
      "source": [],
      "metadata": {
        "id": "rDxVs5w8oI42"
      }
    }
  ]
}