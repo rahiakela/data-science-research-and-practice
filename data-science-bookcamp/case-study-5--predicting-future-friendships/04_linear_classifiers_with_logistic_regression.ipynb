{
  "nbformat": 4,
  "nbformat_minor": 0,
  "metadata": {
    "colab": {
      "provenance": [],
      "toc_visible": true,
      "authorship_tag": "ABX9TyMy3L8U1FzmqsUL4SkO+8/O",
      "include_colab_link": true
    },
    "kernelspec": {
      "name": "python3",
      "display_name": "Python 3"
    },
    "language_info": {
      "name": "python"
    }
  },
  "cells": [
    {
      "cell_type": "markdown",
      "metadata": {
        "id": "view-in-github",
        "colab_type": "text"
      },
      "source": [
        "<a href=\"https://colab.research.google.com/github/rahiakela/data-science-research-and-practice/blob/main/data-science-bookcamp/case-study-5--predicting-future-friendships/04_linear_classifiers_with_logistic_regression.ipynb\" target=\"_parent\"><img src=\"https://colab.research.google.com/assets/colab-badge.svg\" alt=\"Open In Colab\"/></a>"
      ]
    },
    {
      "cell_type": "markdown",
      "source": [
        "##Linear Classifiers with Logistic Regression"
      ],
      "metadata": {
        "id": "7m9jJDExv-EL"
      }
    },
    {
      "cell_type": "markdown",
      "source": [
        "In this notebook, we simulated customer heights (in inches) and weights (in pounds). We’ll now proceed to re-run that simulation. \n",
        "\n",
        "For the purpose of this exercise, we’ll focus on the two classes; _Large_ and _Not Large_. \n",
        "\n",
        "We’ll assume that customers within the _Large_ class are taller than 72 inches and heavier than 160 lb."
      ],
      "metadata": {
        "id": "JWJOGP9Fv-yn"
      }
    },
    {
      "cell_type": "markdown",
      "source": [
        "##Setup"
      ],
      "metadata": {
        "id": "tAGSwWimwu6t"
      }
    },
    {
      "cell_type": "code",
      "source": [
        "import re\n",
        "import glob\n",
        "import time\n",
        "import numpy as np\n",
        "import pandas as pd\n",
        "\n",
        "from collections import Counter\n",
        "from collections import defaultdict\n",
        "\n",
        "from sklearn.decomposition import PCA\n",
        "from sklearn.neighbors import KNeighborsClassifier\n",
        "\n",
        "from sklearn.metrics.pairwise import euclidean_distances\n",
        "from sklearn.metrics import confusion_matrix\n",
        "from sklearn.metrics import accuracy_score\n",
        "from sklearn.metrics import f1_score\n",
        "from sklearn.datasets import load_iris\n",
        "from sklearn.model_selection import train_test_split\n",
        "from sklearn.model_selection import GridSearchCV\n",
        "\n",
        "import seaborn as sns\n",
        "import matplotlib.pyplot as plt\n",
        "from IPython.core.display import display, HTML"
      ],
      "metadata": {
        "id": "YmC8FgEtwwV0"
      },
      "execution_count": 1,
      "outputs": []
    },
    {
      "cell_type": "code",
      "source": [
        "import warnings\n",
        "warnings.filterwarnings('ignore')"
      ],
      "metadata": {
        "id": "6spFjBusw2HM"
      },
      "execution_count": 2,
      "outputs": []
    },
    {
      "cell_type": "code",
      "source": [
        "def plot_customers(X, y, xlabel='Inches (in)', ylabel='Pounds (lb)'):\n",
        "  colors = ['g', 'y']\n",
        "  labels = ['Not Large', 'Large']\n",
        "  for i, (color, label) in enumerate(zip(colors, labels)):\n",
        "      plt.scatter(X[:,0][y == i], X[:,1][y == i], color=color, label=label)\n",
        "  \n",
        "  plt.xlabel(xlabel)\n",
        "  plt.ylabel(ylabel)"
      ],
      "metadata": {
        "id": "HEqOv8J2bR0W"
      },
      "execution_count": 3,
      "outputs": []
    },
    {
      "cell_type": "markdown",
      "source": [
        "##Dataset"
      ],
      "metadata": {
        "id": "Ec7WfUByx39O"
      }
    },
    {
      "cell_type": "code",
      "source": [
        "# Simulating Categorized Customer Measurements\n",
        "np.random.seed(1)\n",
        "\n",
        "inches = np.arange(60, 78, 0.1)\n",
        "random_fluctuations = np.random.normal(scale=10, size=inches.size)\n",
        "pounds = 4 * inches - 130 + random_fluctuations\n",
        "\n",
        "X = np.array([inches, pounds]).T\n",
        "y = ((X[:, 0] > 72) & (X[:, 1] > 60)).astype(int)"
      ],
      "metadata": {
        "id": "-YFpuOqYx5PE"
      },
      "execution_count": 7,
      "outputs": []
    },
    {
      "cell_type": "code",
      "source": [
        "plot_customers(X, y)\n",
        "plt.legend()\n",
        "plt.show()"
      ],
      "metadata": {
        "colab": {
          "base_uri": "https://localhost:8080/",
          "height": 279
        },
        "id": "VoA_7h4acQRE",
        "outputId": "2cea2112-7035-4148-dc05-df9a803ef7c3"
      },
      "execution_count": 8,
      "outputs": [
        {
          "output_type": "display_data",
          "data": {
            "text/plain": [
              "<Figure size 432x288 with 1 Axes>"
            ],
            "image/png": "[encoded data removed]"
          },
          "metadata": {
            "needs_background": "light"
          }
        }
      ]
    },
    {
      "cell_type": "markdown",
      "source": [
        "##Linear Classifier"
      ],
      "metadata": {
        "id": "zpTcjm-fci0s"
      }
    },
    {
      "cell_type": "markdown",
      "source": [
        "We can image a knife slicing through the cigar-shaped plot, in order to separate the colors. The knife acts like a boundary that separates the two customer classes. \n",
        "\n",
        "We can represent this boundary using a line with slope of -3.5 and a y-intercept of 415."
      ],
      "metadata": {
        "id": "7ST7VkAH0oHu"
      }
    },
    {
      "cell_type": "code",
      "source": [
        "# Plotting a boundary to separate the two customer classes\n",
        "def boundary(inches):\n",
        "  return -3.5 * inches + 415\n",
        "\n",
        "plt.plot(X[:, 0], boundary(X[:, 0]), color=\"b\", label=\"Boundary\")\n",
        "plot_customers(X, y)\n",
        "plt.legend()\n",
        "plt.show()"
      ],
      "metadata": {
        "colab": {
          "base_uri": "https://localhost:8080/",
          "height": 279
        },
        "id": "WUgJMKHk0cnj",
        "outputId": "158e6bef-3e35-4f4b-bb35-ad06c697a09b"
      },
      "execution_count": 9,
      "outputs": [
        {
          "output_type": "display_data",
          "data": {
            "text/plain": [
              "<Figure size 432x288 with 1 Axes>"
            ],
            "image/png": "[encoded data removed]"
          },
          "metadata": {
            "needs_background": "light"
          }
        }
      ]
    },
    {
      "cell_type": "markdown",
      "source": [
        "Most of the customers within the _Large_ class are located above the plotted line. Hence, we can use this line to classify the customers. \n",
        "\n",
        "Given a customer with measurement of `(inches, lbs)`, we predict the customer’s class by checking whether `lbs > -3.5 * inches + 415`. "
      ],
      "metadata": {
        "id": "NUtquc9e1O2-"
      }
    },
    {
      "cell_type": "code",
      "source": [
        "# Predicting classes using a linear boundary\n",
        "np.random.seed(0)\n",
        "\n",
        "x_train, x_test, y_train, y_test = train_test_split(X, y, train_size=0.25)\n",
        "print(f\"Training set labels:\\n{y_train}\")"
      ],
      "metadata": {
        "colab": {
          "base_uri": "https://localhost:8080/"
        },
        "id": "7QwZjDjM1QFg",
        "outputId": "dafa1ab3-4cd1-4c81-8250-47225ce66d3e"
      },
      "execution_count": null,
      "outputs": [
        {
          "output_type": "stream",
          "name": "stdout",
          "text": [
            "Training set labels:\n",
            "[0 2 1 2 1 0 2 0 2 0 0 2 0 2 1 1 1 2 2 1 1 0 1 2 2 0 1 1 1 1 0 0 0 2 1 2 0]\n"
          ]
        }
      ]
    },
    {
      "cell_type": "markdown",
      "source": [
        "Since the features within the iris dataset can be plotted in multi-dimensional space. This plotted data forms spatial clusters. \n",
        "\n",
        "Hence, elements in `X_test` are more likely to share their class with the `X_train` points found in the adjacent cluster. "
      ],
      "metadata": {
        "id": "ihsHfail1ydM"
      }
    },
    {
      "cell_type": "code",
      "source": [
        "# Plotting the training and test sets\n",
        "pca_model = PCA()\n",
        "transformed_data_2D = pca_model.fit_transform(x_train)\n",
        "\n",
        "unlabeled_data = pca_model.transform(x_test)\n",
        "\n",
        "plt.scatter(unlabeled_data[:, 0], unlabeled_data[:, 1], color=\"khaki\", marker=\"^\", label=\"test\")\n",
        "for label in range(3):\n",
        "  data_subset = transformed_data_2D[y_train == label]\n",
        "  plt.scatter(data_subset[:, 0], data_subset[:, 1], color=[\"r\", \"k\", \"b\"][label], label=f\"train: {label}\")\n",
        "plt.legend()\n",
        "plt.show()"
      ],
      "metadata": {
        "colab": {
          "base_uri": "https://localhost:8080/",
          "height": 265
        },
        "id": "V9F5xSxb13kq",
        "outputId": "164755b8-37ef-49aa-ff6a-1c44d5204101"
      },
      "execution_count": null,
      "outputs": [
        {
          "output_type": "display_data",
          "data": {
            "text/plain": [
              "<Figure size 432x288 with 1 Axes>"
            ],
            "image/png": "[encoded data removed]"
          },
          "metadata": {
            "needs_background": "light"
          }
        }
      ]
    },
    {
      "cell_type": "markdown",
      "source": [
        "Many unlabeled points cluster around _Species 0_. These unlabeled flowers clearly belong to the same species. Elsewhere in the plot, certain unlabeled flowers are proximate to both _Species 1_ and _Species 2_. \n",
        "\n",
        "For each such point, we'll need to quantify which labeled species are closer. This will require us to track the Euclidean distance between each feature in `X_test` and each feature in `X_train`. "
      ],
      "metadata": {
        "id": "ikgZ5lux3L-i"
      }
    },
    {
      "cell_type": "code",
      "source": [
        "# Computing Euclidean distances between points\n",
        "distance_matrix = euclidean_distances(x_test, x_train)\n",
        "\n",
        "f_train, f_test = x_test[0], X[0]\n",
        "distance = distance_matrix[0][0]\n",
        "print(f\"Our first test set feature is {f_train}\")\n",
        "print(f\"Our first training set feature is {f_test}\")\n",
        "print(f\"The Euclidean distance between the features is {distance:.2f}\")"
      ],
      "metadata": {
        "id": "b70n7y6m3P71",
        "outputId": "0418cae2-6b0e-4b8c-9198-b95739134f5d",
        "colab": {
          "base_uri": "https://localhost:8080/"
        }
      },
      "execution_count": null,
      "outputs": [
        {
          "output_type": "stream",
          "name": "stdout",
          "text": [
            "Our first test set feature is [5.8 2.8 5.1 2.4]\n",
            "Our first training set feature is [5.1 3.5 1.4 0.2]\n",
            "The Euclidean distance between the features is 4.18\n"
          ]
        }
      ]
    },
    {
      "cell_type": "markdown",
      "source": [
        "We can assume that each unlabeled point shares a class that is common to its neighbors. \n",
        "\n",
        "This strategy forms the basis for the **K-nearest Neighbors** algorithm, which is referred to as **KNN** for short. "
      ],
      "metadata": {
        "id": "PoV408Y0UfW9"
      }
    },
    {
      "cell_type": "code",
      "source": [
        "# Labeling a point based on its nearest neighbors\n",
        "np.random.seed(6)\n",
        "\n",
        "random_index = np.random.randint(y_test.size)\n",
        "labeled_distances = distance_matrix[random_index]\n",
        "# Sort all data points in the training set based on their distance and Select the top K-nearest neighbors(3) of the point\n",
        "labeled_neighbors = np.argsort(labeled_distances)[:3]\n",
        "labels = y_train[labeled_neighbors]\n",
        "\n",
        "# Pick the most frequently occurring class across the K neighboring points\n",
        "top_label, count = Counter(labels).most_common()[0]\n",
        "print(f\"The 3 nearest neighbors of Point {random_index} have the following labels:\\n{labels}\")\n",
        "print(f\"\\nThe most common class label is {top_label}. It occurs {count} times.\")"
      ],
      "metadata": {
        "id": "ojAnaBwgT7vW",
        "outputId": "e2d79821-76bb-45d1-c085-8d7694ec886d",
        "colab": {
          "base_uri": "https://localhost:8080/"
        }
      },
      "execution_count": null,
      "outputs": [
        {
          "output_type": "stream",
          "name": "stdout",
          "text": [
            "The 3 nearest neighbors of Point 10 have the following labels:\n",
            "[2 1 2]\n",
            "\n",
            "The most common class label is 2. It occurs 2 times.\n"
          ]
        }
      ]
    },
    {
      "cell_type": "markdown",
      "source": [
        "The most common class label among the neighbors of _Point 10_ is _Label 2_. \n",
        "\n",
        "How does this compare to the actual class of the flower?"
      ],
      "metadata": {
        "id": "SFJP-pMeVyU9"
      }
    },
    {
      "cell_type": "code",
      "source": [
        "# Checking the true class of a predicted label\n",
        "true_label = y_test[random_index]\n",
        "print(f\"The true class of Point {random_index} is {true_label}.\")"
      ],
      "metadata": {
        "id": "liLycJu5VL0s",
        "outputId": "bfaf69d1-453a-4453-b7f0-de5c9f0dd9eb",
        "colab": {
          "base_uri": "https://localhost:8080/"
        }
      },
      "execution_count": null,
      "outputs": [
        {
          "output_type": "stream",
          "name": "stdout",
          "text": [
            "The true class of Point 10 is 2.\n"
          ]
        }
      ]
    },
    {
      "cell_type": "markdown",
      "source": [
        "We can reformulate KNN as a graph theory problem. We can treat each point as a node, and its label as a node attribute. \n",
        "\n",
        "Afterwards, we can choose an unlabeled point and extend edges to its K closest labeled neighbors. Visualizing the neighbor graph subsequently allows us to identify the point."
      ],
      "metadata": {
        "id": "gwyNkVkeWXlN"
      }
    },
    {
      "cell_type": "code",
      "source": [
        "# Visualizing nearest neighbors with NetworkX\n",
        "np.random.seed(0)\n",
        "\n",
        "def generate_neighbor_graph(unlabeled_index, labeled_neighbors):\n",
        "  G = nx.Graph()\n",
        "  nodes = [(i, {\"label\": y_train[i]}) for i in labeled_neighbors]\n",
        "  nodes.append((unlabeled_index, {\"label\": \"U\"}))\n",
        "  G.add_nodes_from(nodes)\n",
        "  G.add_edges_from([(i, unlabeled_index) for i in labeled_neighbors])\n",
        "  labels = y_train[labeled_neighbors]\n",
        "  label_colors = [\"pink\", \"khaki\", \"cyan\"]\n",
        "  colors = [label_colors[y_train[i]] for i in labeled_neighbors] + [\"k\"]\n",
        "  labels = {i: G.nodes[i][\"label\"] for i in G.nodes}\n",
        "  nx.draw(G, node_color=colors, labels=labels, with_labels=True)\n",
        "  plt.show()\n",
        "  return G\n",
        "\n",
        "G = generate_neighbor_graph(random_index, labeled_neighbors)"
      ],
      "metadata": {
        "id": "1iHqGmxGWZ06",
        "outputId": "71b50646-17cf-45ba-d794-ef4ab2913973",
        "colab": {
          "base_uri": "https://localhost:8080/",
          "height": 319
        }
      },
      "execution_count": null,
      "outputs": [
        {
          "output_type": "display_data",
          "data": {
            "text/plain": [
              "<Figure size 432x288 with 1 Axes>"
            ],
            "image/png": "[encoded data removed]"
          },
          "metadata": {}
        }
      ]
    },
    {
      "cell_type": "markdown",
      "source": [
        "KNN works when there are just three neighbors. \n",
        "\n",
        "What happens if we increase the neighbor count to four?"
      ],
      "metadata": {
        "id": "fHPb0C0RZFhH"
      }
    },
    {
      "cell_type": "code",
      "source": [
        "# Increasing the number of nearest neighbors\n",
        "np.random.seed(0)\n",
        "\n",
        "labeled_neighbors = np.argsort(labeled_distances)[:4]\n",
        "G = generate_neighbor_graph(random_index, labeled_neighbors)"
      ],
      "metadata": {
        "id": "20qGoNO8ZGr_",
        "outputId": "5fa78f9e-6f8d-4897-b6ca-80957515f0c6",
        "colab": {
          "base_uri": "https://localhost:8080/",
          "height": 319
        }
      },
      "execution_count": null,
      "outputs": [
        {
          "output_type": "display_data",
          "data": {
            "text/plain": [
              "<Figure size 432x288 with 1 Axes>"
            ],
            "image/png": "[encoded data removed]"
          },
          "metadata": {}
        }
      ]
    },
    {
      "cell_type": "markdown",
      "source": [
        "There is a tie! \n",
        "\n",
        "We can break that tie by weighing label-votes based on the inverse distance to the unlabeled point."
      ],
      "metadata": {
        "id": "VN0dRFVnZf_V"
      }
    },
    {
      "cell_type": "code",
      "source": [
        "# Weighing votes of neighbors based on distance\n",
        "class_to_votes = defaultdict(int)\n",
        "\n",
        "for node in G.neighbors(random_index):\n",
        "  label = G.nodes[node][\"label\"]\n",
        "  distance = distance_matrix[random_index][node]\n",
        "  num_votes = 1 / distance\n",
        "  print(f\"A data point with a label of {label} is {distance:.2f} units away. It receives {num_votes:.2f} votes.\")\n",
        "  class_to_votes[label] += num_votes\n",
        "\n",
        "print()\n",
        "\n",
        "for class_label, votes in class_to_votes.items():\n",
        "  print(f\"We counted {votes:.2f} votes for class {class_label}.\")\n",
        "\n",
        "top_class = max(class_to_votes.items(), key=lambda x: x[1])[0]\n",
        "print(f\"Class {top_class} has received the plurality of the votes.\")"
      ],
      "metadata": {
        "id": "Fv0BHIubZgkT",
        "outputId": "efe994a2-52ad-4022-cbff-2dfe96946931",
        "colab": {
          "base_uri": "https://localhost:8080/"
        }
      },
      "execution_count": null,
      "outputs": [
        {
          "output_type": "stream",
          "name": "stdout",
          "text": [
            "A data point with a label of 2 is 0.54 units away. It receives 1.86 votes.\n",
            "A data point with a label of 1 is 0.74 units away. It receives 1.35 votes.\n",
            "A data point with a label of 2 is 0.77 units away. It receives 1.29 votes.\n",
            "A data point with a label of 1 is 0.98 units away. It receives 1.02 votes.\n",
            "\n",
            "We counted 3.15 votes for class 2.\n",
            "We counted 2.36 votes for class 1.\n",
            "Class 2 has received the plurality of the votes.\n"
          ]
        }
      ]
    },
    {
      "cell_type": "markdown",
      "source": [
        "Of course, this improvement\n",
        "is by no means guaranteed; occasionally, weighted voting can worsen the outputted\n",
        "results. \n",
        "\n",
        "Depending on the preset value of our K, weighted voting can either\n",
        "improve or worsen our predictions. \n",
        "\n",
        "We won’t know for sure until we test prediction\n",
        "performance across a range of parameters."
      ],
      "metadata": {
        "id": "YJKo8Gdubc3H"
      }
    },
    {
      "cell_type": "markdown",
      "source": [
        "##Measuring Accuracy"
      ],
      "metadata": {
        "id": "Hs6klaBpbJUR"
      }
    },
    {
      "cell_type": "markdown",
      "source": [
        "We want to analyze predictions across all the points within `X_test`. We'll define a `predict` function for this purpose."
      ],
      "metadata": {
        "id": "JEmY7bVYbKEY"
      }
    },
    {
      "cell_type": "code",
      "source": [
        "# Parameterizing KNN predictions\n",
        "def predict(index, K=1, weighted_voting=False):\n",
        "  labeled_distances = distance_matrix[index]\n",
        "  labeled_neighbors = np.argsort(labeled_distances)[:K]\n",
        "  class_to_votes = defaultdict(int)\n",
        "  for neighbor in labeled_neighbors:\n",
        "    label = y_train[neighbor]\n",
        "    distance = distance_matrix[index][neighbor]\n",
        "    num_votes = 1 / max(distance, 1e-10) if weighted_voting else 1\n",
        "    class_to_votes[label] += num_votes\n",
        "  return max(class_to_votes, key=lambda x: class_to_votes[x])\n",
        "\n",
        "assert predict(random_index, K=3) == 2\n",
        "assert predict(random_index, K=4, weighted_voting=True) == 2"
      ],
      "metadata": {
        "id": "ZsJJBTzQkB6h"
      },
      "execution_count": null,
      "outputs": []
    },
    {
      "cell_type": "markdown",
      "source": [
        "Lets execute `predict` across all unlabeled indices."
      ],
      "metadata": {
        "id": "i7x1ofSpmhNU"
      }
    },
    {
      "cell_type": "code",
      "source": [
        "# Predicting all unlabeled flower classes\n",
        "y_pred = np.array([predict(i) for i in range(y_test.size)])"
      ],
      "metadata": {
        "id": "Xxpls1nUmhlt"
      },
      "execution_count": null,
      "outputs": []
    },
    {
      "cell_type": "markdown",
      "source": [
        "We want to compare the predicted classes with the actual classes in `y_test`. \n",
        "\n",
        "Lets start by printing out both the `y_pred` and the `y_test` arrays."
      ],
      "metadata": {
        "id": "-3tNVewVmtpi"
      }
    },
    {
      "cell_type": "code",
      "source": [
        "# Comparing the predicted and actual classes\n",
        "print(f\"Predicted Classes:\\n{y_pred}\")\n",
        "print(f\"\\nActual Classes:\\n{y_test}\")"
      ],
      "metadata": {
        "id": "EL0wG4dNmuDm",
        "outputId": "1da6413b-ed2b-408f-f3e0-fcfa9a83ab1e",
        "colab": {
          "base_uri": "https://localhost:8080/"
        }
      },
      "execution_count": null,
      "outputs": [
        {
          "output_type": "stream",
          "name": "stdout",
          "text": [
            "Predicted Classes:\n",
            "[2 1 0 2 0 2 0 1 1 1 2 1 1 1 2 0 2 1 0 0 2 1 0 0 2 0 0 1 1 0 2 1 0 2 2 1 0\n",
            " 2 1 1 2 0 2 0 0 1 2 2 1 2 1 2 1 1 1 1 1 1 1 2 1 0 2 1 1 1 2 2 0 0 2 1 0 0\n",
            " 1 0 2 1 0 1 2 1 0 2 2 2 2 0 0 2 2 0 2 0 2 2 0 0 2 0 0 0 1 2 2 0 0 0 1 1 0\n",
            " 0 1]\n",
            "\n",
            "Actual Classes:\n",
            "[2 1 0 2 0 2 0 1 1 1 2 1 1 1 1 0 1 1 0 0 2 1 0 0 2 0 0 1 1 0 2 1 0 2 2 1 0\n",
            " 1 1 1 2 0 2 0 0 1 2 2 2 2 1 2 1 1 2 2 2 2 1 2 1 0 2 1 1 1 1 2 0 0 2 1 0 0\n",
            " 1 0 2 1 0 1 2 1 0 2 2 2 2 0 0 2 2 0 2 0 2 2 0 0 2 0 0 0 1 2 2 0 0 0 1 1 0\n",
            " 0 1]\n"
          ]
        }
      ]
    },
    {
      "cell_type": "markdown",
      "source": [
        "It's easier to compare the two arrays if we aggregate them into a **cofusion matrix**.  \n",
        "\n",
        "The matrix rows will track predicted classes, while the columns will track the true class identities. "
      ],
      "metadata": {
        "id": "bgxFGwsQnJLy"
      }
    },
    {
      "cell_type": "code",
      "source": [
        "# Computing the confusion matrix\n",
        "def compute_confusion_matrix(y_pred, y_test):\n",
        "  # Checks for the total number of classes. This value defines the number of matrix rows and columns\n",
        "  num_classes = len(set(y_pred) | set(y_test))\n",
        "  confusion_matrix = np.zeros((num_classes, num_classes))\n",
        "  for prediction, actual in zip(y_pred, y_test):\n",
        "    # For every such pair, we add a 1 to the row Prediction and column Actual of our matrix. \n",
        "    # Note that if Prediction == Actual, then the added value appears on the diagonal of the matrix.\n",
        "    confusion_matrix[prediction][actual] += 1\n",
        "  return confusion_matrix"
      ],
      "metadata": {
        "id": "-KebuIvrm91P"
      },
      "execution_count": null,
      "outputs": []
    },
    {
      "cell_type": "code",
      "source": [
        "M = compute_confusion_matrix(y_pred, y_test)\n",
        "sns.heatmap(M, annot=True, cmap=\"YlGnBu\", \n",
        "            yticklabels=[f\"Predict {i}\" for i in range(3)],\n",
        "            xticklabels=[f\"Actual {i}\" for i in range(3)])\n",
        "plt.yticks(rotation=0)\n",
        "plt.show()"
      ],
      "metadata": {
        "id": "QO371TcEoNqz",
        "outputId": "c1caf506-7986-420c-9e8f-6051766d451c",
        "colab": {
          "base_uri": "https://localhost:8080/",
          "height": 265
        }
      },
      "execution_count": null,
      "outputs": [
        {
          "output_type": "display_data",
          "data": {
            "text/plain": [
              "<Figure size 432x288 with 2 Axes>"
            ],
            "image/png": "[encoded data removed]"
          },
          "metadata": {
            "needs_background": "light"
          }
        }
      ]
    },
    {
      "cell_type": "markdown",
      "source": [
        "Each diagonal element `M[i][i]`\n",
        "tracks the number of accurately predicted instances of Class `i`. Such accurate predictions\n",
        "are commonly called true positives. \n",
        "\n",
        "Based on our displayed diagonal values, we\n",
        "know that our true positive count is very high. \n",
        "\n",
        "Let’s print the total true positive count\n",
        "by summing across `M.diagonal()`."
      ],
      "metadata": {
        "id": "rKhBv-oMpXFb"
      }
    },
    {
      "cell_type": "code",
      "source": [
        "# Counting the number of accurate predictions\n",
        "num_accurate_predictions = M.diagonal().sum()\n",
        "print(f\"Our results contain {int(num_accurate_predictions)} accurate predictions.\")"
      ],
      "metadata": {
        "id": "B6mOSoDopc8D",
        "outputId": "e017405c-0c3c-4690-d94a-7fc8bc8baa55",
        "colab": {
          "base_uri": "https://localhost:8080/"
        }
      },
      "execution_count": null,
      "outputs": [
        {
          "output_type": "stream",
          "name": "stdout",
          "text": [
            "Our results contain 104 accurate predictions.\n"
          ]
        }
      ]
    },
    {
      "cell_type": "markdown",
      "source": [
        "The fraction of total accurate predictions is referred to as the **accuracy** score. \n",
        "\n",
        "Accuracy can be computed dividing the diagonal sum across the total sum of matrix elements."
      ],
      "metadata": {
        "id": "egldXeFEp8XI"
      }
    },
    {
      "cell_type": "code",
      "source": [
        "# Measuring the accuracy score\n",
        "accuracy = M.diagonal().sum() / M.sum()\n",
        "assert accuracy == 104 / (104 + 9)\n",
        "print(f\"Our predictions are {100 * accuracy:.0f}% accurate.\")"
      ],
      "metadata": {
        "id": "QYkeIY5bpuuD",
        "outputId": "4768c689-69db-425d-ad52-a2db1a2e5d41",
        "colab": {
          "base_uri": "https://localhost:8080/"
        }
      },
      "execution_count": null,
      "outputs": [
        {
          "output_type": "stream",
          "name": "stdout",
          "text": [
            "Our predictions are 92% accurate.\n"
          ]
        }
      ]
    },
    {
      "cell_type": "markdown",
      "source": [
        "The model periodically confuses instances of _Classes 1_ and _2_. Lets try to quantify that confusion. \n",
        "\n",
        "First, we'll count the total number of elements that we've predicted as belonging to _Class 1_. "
      ],
      "metadata": {
        "id": "oYanYQR4Iykd"
      }
    },
    {
      "cell_type": "code",
      "source": [
        "# Counting the predicted Class 1 elements\n",
        "row1_sum = M.sum()\n",
        "print(f\"We've predicted that {int(row1_sum)} elements belong to Class 1.\")"
      ],
      "metadata": {
        "id": "8kRpP8snIzw5",
        "outputId": "26a88fc9-cc82-417d-c2fa-bfda3153361d",
        "colab": {
          "base_uri": "https://localhost:8080/"
        }
      },
      "execution_count": null,
      "outputs": [
        {
          "output_type": "stream",
          "name": "stdout",
          "text": [
            "We've predicted that 113 elements belong to Class 1.\n"
          ]
        }
      ]
    },
    {
      "cell_type": "markdown",
      "source": [
        "We've predicted that 38 elements belong to _Class 1_. 33 predictions are true positives. Meanwhile, the remaining 5 predictions are **false positives**. \n",
        "\n",
        "The ratio `33 / 38` produces a metric called **precision**. A low precision indicates that a predicted class label is not very reliable. "
      ],
      "metadata": {
        "id": "yvAJmkFKJUA2"
      }
    },
    {
      "cell_type": "code",
      "source": [
        "# Computing the precision of Class 1\n",
        "precision = M[1][1] / M[1].sum()\n",
        "assert precision == 33 / 38\n",
        "print(f\"Precision of Class 1 is {precision:.2f}\")"
      ],
      "metadata": {
        "id": "Fvn5f-AuJWEA",
        "outputId": "c86007f3-8335-4308-ca98-c455eb5d7b2d",
        "colab": {
          "base_uri": "https://localhost:8080/"
        }
      },
      "execution_count": null,
      "outputs": [
        {
          "output_type": "stream",
          "name": "stdout",
          "text": [
            "Precision of Class 1 is 0.87\n"
          ]
        }
      ]
    },
    {
      "cell_type": "markdown",
      "source": [
        "Errors can also be detected across the confusion matrix columns. \n",
        "\n",
        "Consider for example, _Column 1_. That column tracks all elements in `y_test` whose true label is equal to _Class 1_."
      ],
      "metadata": {
        "id": "USG9TqtOJxmq"
      }
    },
    {
      "cell_type": "code",
      "source": [
        "# Counting the total Class 1 elements\n",
        "col1_sum = M[:, 1].sum()\n",
        "assert col1_sum == y_test[y_test == 1].size\n",
        "print(f\"{int(col1_sum)} elements in our test set belong to Class 1.\")"
      ],
      "metadata": {
        "id": "gMzvYQxPJzH1",
        "outputId": "c615e0e2-97eb-4a69-e1f0-207a1da152c7",
        "colab": {
          "base_uri": "https://localhost:8080/"
        }
      },
      "execution_count": null,
      "outputs": [
        {
          "output_type": "stream",
          "name": "stdout",
          "text": [
            "37 elements in our test set belong to Class 1.\n"
          ]
        }
      ]
    },
    {
      "cell_type": "markdown",
      "source": [
        "37 elements in our test set belong to _Class 1_. 33 of the elements are true positives. The remaining 4 elements are **false negatives**. \n",
        "\n",
        "The ratio `33 / 37` produces a metric called **recall**. A low recall indicates that our predictor commonly misses valid instances of a class."
      ],
      "metadata": {
        "id": "0JhEHC5LLl1m"
      }
    },
    {
      "cell_type": "code",
      "source": [
        "# Computing the recall of Class 1\n",
        "recall = M[1][1] / M[:, 1].sum()\n",
        "assert recall == 33 / 37\n",
        "print(f\"Recall of Class 1 is {recall:.2f}\")"
      ],
      "metadata": {
        "id": "gZLTtXwkLoXN",
        "outputId": "5e25b56d-d24b-48c5-fd01-f5c3b9065a0b",
        "colab": {
          "base_uri": "https://localhost:8080/"
        }
      },
      "execution_count": null,
      "outputs": [
        {
          "output_type": "stream",
          "name": "stdout",
          "text": [
            "Recall of Class 1 is 0.89\n"
          ]
        }
      ]
    },
    {
      "cell_type": "markdown",
      "source": [
        "A maximum recall of 1.0 is trivial to achieve. We simply need to label each incoming data-point as belonging to _Class 1_. \n",
        "\n",
        "However, this will cause precision to drop drastically. "
      ],
      "metadata": {
        "id": "P9-h9rbsL8LQ"
      }
    },
    {
      "cell_type": "code",
      "source": [
        "# Checking precision at a recall of 1.0\n",
        "low_precision = M[1][1] / M.sum()\n",
        "print(f\"Precision at a trivially maximized recall is {low_precision:.2f}\")"
      ],
      "metadata": {
        "id": "-aMTdIFuL9Zc",
        "outputId": "81aa872f-c003-43dd-d230-69314f9cad89",
        "colab": {
          "base_uri": "https://localhost:8080/"
        }
      },
      "execution_count": null,
      "outputs": [
        {
          "output_type": "stream",
          "name": "stdout",
          "text": [
            "Precision at a trivially maximized recall is 0.29\n"
          ]
        }
      ]
    },
    {
      "cell_type": "markdown",
      "source": [
        "We should combine precision and recall into a single metric. However, we can't average these values because they are fractions with different denominators. \n",
        "\n",
        "Fortunately, their numerators are both equal to `M[1][1]`. Thus, we can invert the fractions and then take their average."
      ],
      "metadata": {
        "id": "11bbeXKOMOYH"
      }
    },
    {
      "cell_type": "code",
      "source": [
        "# Taking the mean of the inverted metrics\n",
        "inverse_average = (1 / precision + 1 / recall) / 2\n",
        "print(f\"The average of inverted metrics is {inverse_average:.2f}\")"
      ],
      "metadata": {
        "id": "VSYU1eOWMPi8",
        "outputId": "f0797618-dd2f-49d8-ea25-6867389020a0",
        "colab": {
          "base_uri": "https://localhost:8080/"
        }
      },
      "execution_count": null,
      "outputs": [
        {
          "output_type": "stream",
          "name": "stdout",
          "text": [
            "The average of inverted metrics is 1.14\n"
          ]
        }
      ]
    },
    {
      "cell_type": "markdown",
      "source": [
        "The average of the inverses is higher than 1.0. \n",
        "\n",
        "However, both precision and recall have a maximum ceiling of 1.0. We can force the aggregated value to fall within that range by taking an inverse of the average."
      ],
      "metadata": {
        "id": "1SJcra8fMnuW"
      }
    },
    {
      "cell_type": "code",
      "source": [
        "# Taking the inverse of the inverted mean\n",
        "result = 1 / inverse_average\n",
        "print(f\"The inverse of average is {result:.2f}\")"
      ],
      "metadata": {
        "id": "UwDUxD2JMpJ9",
        "outputId": "30cacd6a-fe7f-4be8-d086-fbf6b0ea2faf",
        "colab": {
          "base_uri": "https://localhost:8080/"
        }
      },
      "execution_count": null,
      "outputs": [
        {
          "output_type": "stream",
          "name": "stdout",
          "text": [
            "The inverse of average is 0.88\n"
          ]
        }
      ]
    },
    {
      "cell_type": "markdown",
      "source": [
        "Our aggregated metric is called the **f1-measure** or **f1-score**. Commonly, it's referred to as simply the **f-measure**. \n",
        "\n",
        "The f-measure can be computed more directly by running `2 * precision * recall / (precision + recall)`."
      ],
      "metadata": {
        "id": "1TAoBF_PM4XN"
      }
    },
    {
      "cell_type": "code",
      "source": [
        "# Computing the f-measure of Class 1\n",
        "f_measure = 2 * precision * recall / (precision + recall)\n",
        "print(f\"The f-measure of Class 1 is {precision:.2f}\")"
      ],
      "metadata": {
        "id": "KQsRIAcRM5ba",
        "outputId": "b5860c31-eef3-49c8-9401-aab9a5ade7dd",
        "colab": {
          "base_uri": "https://localhost:8080/"
        }
      },
      "execution_count": null,
      "outputs": [
        {
          "output_type": "stream",
          "name": "stdout",
          "text": [
            "The f-measure of Class 1 is 0.87\n"
          ]
        }
      ]
    },
    {
      "cell_type": "markdown",
      "source": [
        "In this instance, the f-measure is equal to the average of the precision and recall. However this is not always the case. \n",
        "\n",
        "Consider a prediction that has one true positive, one false positive, and zero false negatives. "
      ],
      "metadata": {
        "id": "PdDL_mt9NsOE"
      }
    },
    {
      "cell_type": "code",
      "source": [
        "# Comparing the f-measure to the average\n",
        "tp, fp, fn = 1, 1, 0\n",
        "\n",
        "precision = tp / (tp + fp)\n",
        "recall = tp / (tp + fn)\n",
        "f_measure = 2 * precision * recall / (precision + recall)\n",
        "average = (precision + recall) / 2\n",
        "\n",
        "print(f\"Precision: {precision}\")\n",
        "print(f\"Recall: {recall}\")\n",
        "print(f\"Average: {average}\")\n",
        "print(f\"F-measure: {f_measure:.2f}\")"
      ],
      "metadata": {
        "id": "X2NSkgC9NtTR",
        "outputId": "fa7dfedd-81b2-47f1-ad39-447c5b53e4c5",
        "colab": {
          "base_uri": "https://localhost:8080/"
        }
      },
      "execution_count": null,
      "outputs": [
        {
          "output_type": "stream",
          "name": "stdout",
          "text": [
            "Precision: 0.5\n",
            "Recall: 1.0\n",
            "Average: 0.75\n",
            "F-measure: 0.67\n"
          ]
        }
      ]
    },
    {
      "cell_type": "markdown",
      "source": [
        "The f-measure provides us with a robust evaluation for an individual class. \n",
        "\n",
        "With this in mind, we'll now compute the f-measure for each class within our dataset."
      ],
      "metadata": {
        "id": "k-ar9ZA2bKwy"
      }
    },
    {
      "cell_type": "code",
      "source": [
        "# Computing the f-measure for each class\n",
        "def compute_f_measures(M):\n",
        "  precisions = M.diagonal() / M.sum(axis=0)\n",
        "  recalls = M.diagonal() / M.sum(axis=1)\n",
        "  return 2 * precisions * recalls / (precisions + recalls)\n",
        "\n",
        "f_measures = compute_f_measures(M)\n",
        "for class_label, f_measure in enumerate(f_measures):\n",
        "  print(f\"The f-measure for Class {class_label} is {f_measure:.2f}\")"
      ],
      "metadata": {
        "id": "VYCi9TPFbMHp",
        "outputId": "bbf0549a-84c7-43ef-ff5b-eede384bb608",
        "colab": {
          "base_uri": "https://localhost:8080/"
        }
      },
      "execution_count": null,
      "outputs": [
        {
          "output_type": "stream",
          "name": "stdout",
          "text": [
            "The f-measure for Class 0 is 1.00\n",
            "The f-measure for Class 1 is 0.88\n",
            "The f-measure for Class 2 is 0.88\n"
          ]
        }
      ]
    },
    {
      "cell_type": "markdown",
      "source": [
        "We computed three f-measures across three different classes. These f-measures can be combined into a single score by taking their mean."
      ],
      "metadata": {
        "id": "R48zhfIfcbAp"
      }
    },
    {
      "cell_type": "code",
      "source": [
        "# Computing the f-measure for each class\n",
        "avg_f = f_measures.mean()\n",
        "print(f\"Our unified f-measure equals {avg_f:.2f}\")"
      ],
      "metadata": {
        "id": "4IqUsTHdcbYk",
        "outputId": "02bfbbab-07c4-47c3-ad6f-9a6e541e1ecf",
        "colab": {
          "base_uri": "https://localhost:8080/"
        }
      },
      "execution_count": null,
      "outputs": [
        {
          "output_type": "stream",
          "name": "stdout",
          "text": [
            "Our unified f-measure equals 0.92\n"
          ]
        }
      ]
    },
    {
      "cell_type": "markdown",
      "source": [
        "The f-measure is identical to our accuracy. However, that f-measure and accuracy are not guaranteed to be the same. \n",
        "\n",
        "The difference between the metrics is especially noticeable when the classes are **imbalanced**. In an imbalanced dataset, there are way more instances of some _Class A_ than of another _Class B_."
      ],
      "metadata": {
        "id": "Wab-bSjDcxTN"
      }
    },
    {
      "cell_type": "code",
      "source": [
        "# Comparing performance metrics across imbalanced data\n",
        "M_imbalanced = np.array([[99, 0], [1, 1]])\n",
        "sns.heatmap(M_imbalanced, annot=True, cmap=\"YlGnBu\", \n",
        "            yticklabels=[f\"Predict {i}\" for i in range(2)],\n",
        "            xticklabels=[f\"Actual {i}\" for i in range(2)])\n",
        "plt.yticks(rotation=0)\n",
        "plt.show()"
      ],
      "metadata": {
        "id": "hHzP_UPfczWx",
        "outputId": "48b24716-4285-497a-be77-64ba492c8305",
        "colab": {
          "base_uri": "https://localhost:8080/",
          "height": 265
        }
      },
      "execution_count": null,
      "outputs": [
        {
          "output_type": "display_data",
          "data": {
            "text/plain": [
              "<Figure size 432x288 with 2 Axes>"
            ],
            "image/png": "[encoded data removed]"
          },
          "metadata": {
            "needs_background": "light"
          }
        }
      ]
    },
    {
      "cell_type": "code",
      "source": [
        "accuracy_imb = M_imbalanced.diagonal().sum() / M_imbalanced.sum()\n",
        "f_measure_imb = compute_f_measures(M_imbalanced).mean()\n",
        "\n",
        "print(f\"The accuracy for our imbalanced dataset is {accuracy_imb:.2f}\")\n",
        "print(f\"The f-measure for our imbalanced dataset is {f_measure_imb:.2f}\")"
      ],
      "metadata": {
        "id": "ENanEaasesyq",
        "outputId": "46778b3b-c76f-4726-d26e-c3f1e0d533e0",
        "colab": {
          "base_uri": "https://localhost:8080/"
        }
      },
      "execution_count": null,
      "outputs": [
        {
          "output_type": "stream",
          "name": "stdout",
          "text": [
            "The accuracy for our imbalanced dataset is 0.99\n",
            "The f-measure for our imbalanced dataset is 0.83\n"
          ]
        }
      ]
    },
    {
      "cell_type": "markdown",
      "source": [
        "Generally, the f-measure is considered a superior prediction metric due to its sensitivity\n",
        "to imbalance.\n",
        "\n",
        "All the prediction metrics that we've discussed thus far are available in Scikit-Learn. \n",
        "\n",
        "For instance, we can compute the confusion matrix by importing and running `confusion_matrix`."
      ],
      "metadata": {
        "id": "d_Wc3WrVivqq"
      }
    },
    {
      "cell_type": "code",
      "source": [
        "# Computing the confusion matrix using Scikit-Learn\n",
        "M2 = confusion_matrix(y_pred, y_test)\n",
        "assert np.array_equal(M, M2)\n",
        "print(M2)"
      ],
      "metadata": {
        "id": "riyY9y27j6HM",
        "outputId": "cb55f004-0aba-4569-bb0a-08828dd5143c",
        "colab": {
          "base_uri": "https://localhost:8080/"
        }
      },
      "execution_count": null,
      "outputs": [
        {
          "output_type": "stream",
          "name": "stdout",
          "text": [
            "[[38  0  0]\n",
            " [ 0 33  5]\n",
            " [ 0  4 33]]\n"
          ]
        }
      ]
    },
    {
      "cell_type": "markdown",
      "source": [
        "In that same manner, we can compute the accuracy by importing and running `accuracy_score`."
      ],
      "metadata": {
        "id": "e7B8ru3NlNLO"
      }
    },
    {
      "cell_type": "code",
      "source": [
        "# Computing the accuracy using Scikit-Learn\n",
        "assert accuracy_score(y_pred, y_test) == accuracy"
      ],
      "metadata": {
        "id": "H73VkSMzlNij"
      },
      "execution_count": null,
      "outputs": []
    },
    {
      "cell_type": "markdown",
      "source": [
        "Also, the f-measure can be computed with the `f1_score` function. \n",
        "\n",
        "Passing `average=None` into the function will return a vector of individual f-measures for each class."
      ],
      "metadata": {
        "id": "R6YFxCsqlYcI"
      }
    },
    {
      "cell_type": "code",
      "source": [
        "# Computing all f-measures using Scikit-Learn\n",
        "new_f_measures = f1_score(y_pred, y_test, average=None)\n",
        "assert np.array_equal(new_f_measures, f_measures)\n",
        "print(new_f_measures)"
      ],
      "metadata": {
        "id": "FHoN_Um0lY4m",
        "outputId": "e4e443c0-1416-445e-f545-158b8c92f9aa",
        "colab": {
          "base_uri": "https://localhost:8080/"
        }
      },
      "execution_count": null,
      "outputs": [
        {
          "output_type": "stream",
          "name": "stdout",
          "text": [
            "[1.   0.88 0.88]\n"
          ]
        }
      ]
    },
    {
      "cell_type": "markdown",
      "source": [
        "Meanwhile, passing `average='macro'` will return a single average score."
      ],
      "metadata": {
        "id": "nVOiUMfYlx3O"
      }
    },
    {
      "cell_type": "code",
      "source": [
        "# Computing a unified f-measures using Scikit-Learn\n",
        "new_f_measure = f1_score(y_pred, y_test, average=\"macro\")\n",
        "assert new_f_measure == new_f_measure.mean()\n",
        "assert new_f_measure == avg_f\n",
        "print(new_f_measure)"
      ],
      "metadata": {
        "id": "marNONU-lyPF",
        "outputId": "d954f273-5c6d-4e02-e7ea-a168d1ecad78",
        "colab": {
          "base_uri": "https://localhost:8080/"
        }
      },
      "execution_count": null,
      "outputs": [
        {
          "output_type": "stream",
          "name": "stdout",
          "text": [
            "0.9199999999999999\n"
          ]
        }
      ]
    },
    {
      "cell_type": "markdown",
      "source": [
        "##Optimizing KNN Performance"
      ],
      "metadata": {
        "id": "LxpJcJJ8mLRi"
      }
    },
    {
      "cell_type": "markdown",
      "source": [
        "Currently, our `predict` function takes two input parameters: `K` and `weighted_voting`. \n",
        "\n",
        "These parameters must be set prior to training, and will influence the classifier's performance. Data scientists refer to such parameters as **hyperparameters**. \n",
        "\n",
        "Lets try to optimize our classifier's hyperparameters by iterating over all possible combinations of `K` and `weighted_voting`."
      ],
      "metadata": {
        "id": "qA6gAej5mMEs"
      }
    },
    {
      "cell_type": "code",
      "source": [
        "# Optimizing KNN hyperparameters\n",
        "k_values = range(1, y_train.size)\n",
        "weighted_voting_bools = [True, False]\n",
        "f_scores = [[], []]\n",
        "\n",
        "params_to_f = {}\n",
        "for k in k_values:\n",
        "  for i, weighted_voting in enumerate(weighted_voting_bools):\n",
        "    y_pred = np.array([predict(i, K=k, weighted_voting=weighted_voting) for i in range(y_test.size)])\n",
        "    f_measure = f1_score(y_pred, y_test, average=\"macro\")\n",
        "    f_scores[i].append(f_measure)\n",
        "    params_to_f[(k, weighted_voting)] = f_measure\n",
        "\n",
        "(best_k, best_weighted), best_f = max(params_to_f.items(), key=lambda x: x[1])\n",
        "\n",
        "plt.plot(k_values, f_scores[0], label='Weighted Voting')\n",
        "plt.plot(k_values, f_scores[1], label='Unweighted Voting')\n",
        "plt.axvline(best_k, c='k')\n",
        "plt.xlabel('K')\n",
        "plt.ylabel('F-measure')\n",
        "plt.legend()\n",
        "plt.show()"
      ],
      "metadata": {
        "id": "DdKFvzfBkAdf",
        "outputId": "f3b38c73-0ae7-4307-a9e2-fac4376fdf9a",
        "colab": {
          "base_uri": "https://localhost:8080/",
          "height": 279
        }
      },
      "execution_count": null,
      "outputs": [
        {
          "output_type": "display_data",
          "data": {
            "text/plain": [
              "<Figure size 432x288 with 1 Axes>"
            ],
            "image/png": "[encoded data removed]"
          },
          "metadata": {
            "needs_background": "light"
          }
        }
      ]
    },
    {
      "cell_type": "markdown",
      "source": [
        "We've optimized performance exhaustively iterating over all the possible input parameters. This exhaustive approach is called a **parameter sweep**, or a **grid search**."
      ],
      "metadata": {
        "id": "s1QNXVCPleP8"
      }
    },
    {
      "cell_type": "markdown",
      "source": [
        "##Running Grid Search"
      ],
      "metadata": {
        "id": "AQLg4MRQljNy"
      }
    },
    {
      "cell_type": "markdown",
      "source": [
        "Scikit-Learn has a built-in model for running KNN classification. "
      ],
      "metadata": {
        "id": "v4XmC_jvlkEZ"
      }
    },
    {
      "cell_type": "code",
      "source": [
        "# Printing the preset KNN parameters\n",
        "clf = KNeighborsClassifier()\n",
        "K = clf.n_neighbors\n",
        "weighted_voting = clf.weights\n",
        "\n",
        "print(f\"K is set to {K}.\")\n",
        "print(f\"Weighted voting is set to `{weighted_voting}`.\")"
      ],
      "metadata": {
        "id": "IvaTzRZvlmtr",
        "outputId": "4f79bd22-acbc-46ef-c192-5bc4e1f90237",
        "colab": {
          "base_uri": "https://localhost:8080/"
        }
      },
      "execution_count": null,
      "outputs": [
        {
          "output_type": "stream",
          "name": "stdout",
          "text": [
            "K is set to 5.\n",
            "Weighted voting is set to `uniform`.\n"
          ]
        }
      ]
    },
    {
      "cell_type": "markdown",
      "source": [
        "We can reinitialize `clf` with custom parameters."
      ],
      "metadata": {
        "id": "N4fsMen7nETM"
      }
    },
    {
      "cell_type": "code",
      "source": [
        "# Setting Scikit-Learn’s KNN parameters\n",
        "clf = KNeighborsClassifier(n_neighbors=4, weights=\"distance\")\n",
        "assert clf.n_neighbors == 4\n",
        "assert clf.weights == \"distance\""
      ],
      "metadata": {
        "id": "92qdlISWlXYp"
      },
      "execution_count": null,
      "outputs": []
    },
    {
      "cell_type": "markdown",
      "source": [
        "Now, we'll want to train our KNN model. Any Scikit-Learn `clf` classifier can be trained using the `fit` method."
      ],
      "metadata": {
        "id": "SkVx0RUXna9Y"
      }
    },
    {
      "cell_type": "code",
      "source": [
        "# Training Scikit-Learn’s KNN classifier\n",
        "clf.fit(x_train, y_train)"
      ],
      "metadata": {
        "id": "02tHL9y9nbUB",
        "outputId": "e9ba1739-fe96-458c-f0f7-231da1f47ad9",
        "colab": {
          "base_uri": "https://localhost:8080/"
        }
      },
      "execution_count": null,
      "outputs": [
        {
          "output_type": "execute_result",
          "data": {
            "text/plain": [
              "KNeighborsClassifier(n_neighbors=4, weights='distance')"
            ]
          },
          "metadata": {},
          "execution_count": 41
        }
      ]
    },
    {
      "cell_type": "markdown",
      "source": [
        "After training, `clf` can predict the classes of any input `X_test` matrix (whose dimensions match `X_train`). \n",
        "\n",
        "Predictions are carried out with the `clf.predict` method."
      ],
      "metadata": {
        "id": "YrUGsGX9njhO"
      }
    },
    {
      "cell_type": "code",
      "source": [
        "# Predicting classes with a trained KNN classifier\n",
        "y_pred = clf.predict(x_test)\n",
        "f_measure = f1_score(y_pred, y_test, average=\"macro\")\n",
        "\n",
        "print(f\"The predicted classes are:\\n{y_pred}\")\n",
        "print(f\"The actual classes are:\\n{y_test}\")\n",
        "print(f\"\\nThe f-measure equals {f_measure:.2f}.\")"
      ],
      "metadata": {
        "id": "oCyJFToNnkgZ",
        "outputId": "c2b1a5a6-ba16-4d9e-fe7e-ff297af98f76",
        "colab": {
          "base_uri": "https://localhost:8080/"
        }
      },
      "execution_count": null,
      "outputs": [
        {
          "output_type": "stream",
          "name": "stdout",
          "text": [
            "The predicted classes are:\n",
            "[2 1 0 2 0 2 0 1 1 1 2 1 1 1 1 0 1 1 0 0 2 1 0 0 2 0 0 1 1 0 2 1 0 2 2 1 0\n",
            " 2 1 1 2 0 2 0 0 1 2 2 1 2 1 2 1 1 1 1 1 1 1 2 1 0 2 1 1 1 1 2 0 0 2 1 0 0\n",
            " 1 0 2 1 0 1 2 1 0 2 2 2 2 0 0 2 2 0 2 0 2 2 0 0 2 0 0 0 1 2 2 0 0 0 1 1 0\n",
            " 0 1]\n",
            "The actual classes are:\n",
            "[2 1 0 2 0 2 0 1 1 1 2 1 1 1 1 0 1 1 0 0 2 1 0 0 2 0 0 1 1 0 2 1 0 2 2 1 0\n",
            " 1 1 1 2 0 2 0 0 1 2 2 2 2 1 2 1 1 2 2 2 2 1 2 1 0 2 1 1 1 1 2 0 0 2 1 0 0\n",
            " 1 0 2 1 0 1 2 1 0 2 2 2 2 0 0 2 2 0 2 0 2 2 0 0 2 0 0 0 1 2 2 0 0 0 1 1 0\n",
            " 0 1]\n",
            "\n",
            "The f-measure equals 0.95.\n"
          ]
        }
      ]
    },
    {
      "cell_type": "markdown",
      "source": [
        "Additionally, `clf` allows to extract more nuanced prediction output. \n",
        "\n",
        "For instance, we can generate the fraction of the votes received by class for an inputted sample in `X_test`.\n"
      ],
      "metadata": {
        "id": "lUm4QNe7oQ4b"
      }
    },
    {
      "cell_type": "code",
      "source": [
        "# Outputting vote ratios for each class\n",
        "vote_ratios = clf.predict_proba(x_test)\n",
        "print(vote_ratios[:4])"
      ],
      "metadata": {
        "id": "apLd_6edoSiI",
        "outputId": "8b9c2602-b24f-4374-8181-f1c0c418cc1d",
        "colab": {
          "base_uri": "https://localhost:8080/"
        }
      },
      "execution_count": null,
      "outputs": [
        {
          "output_type": "stream",
          "name": "stdout",
          "text": [
            "[[0.         0.21419074 0.78580926]\n",
            " [0.         1.         0.        ]\n",
            " [1.         0.         0.        ]\n",
            " [0.         0.         1.        ]]\n"
          ]
        }
      ]
    },
    {
      "cell_type": "markdown",
      "source": [
        "Now, lets turn our attention to running grid search across `KNeighborsClassifier`. \n",
        "\n",
        "First we'll need to specify a dictionary mapping between our hyperparameters and their value-ranges."
      ],
      "metadata": {
        "id": "OM8aayZropGV"
      }
    },
    {
      "cell_type": "code",
      "source": [
        "# Defining a hyperparameter dictionary\n",
        "hyperparams = {\n",
        "    \"n_neighbors\": range(1, 40),\n",
        "    \"weights\": [\"uniform\", \"distance\"]\n",
        "}"
      ],
      "metadata": {
        "id": "IzkFQa5soqPP"
      },
      "execution_count": null,
      "outputs": []
    },
    {
      "cell_type": "code",
      "source": [
        "#  Initializing Scikit-Learn’s grid search class\n",
        "clf_grid = GridSearchCV(KNeighborsClassifier(), hyperparams, scoring=\"f1_macro\")"
      ],
      "metadata": {
        "id": "WFutz14jo1qB"
      },
      "execution_count": null,
      "outputs": []
    },
    {
      "cell_type": "code",
      "source": [
        "# Running a grid search \n",
        "clf_grid.fit(X, y)"
      ],
      "metadata": {
        "id": "Hh5V-QqtpOgG",
        "outputId": "ee5f38b6-da83-4f27-d730-6b4f231cacfd",
        "colab": {
          "base_uri": "https://localhost:8080/"
        }
      },
      "execution_count": null,
      "outputs": [
        {
          "output_type": "execute_result",
          "data": {
            "text/plain": [
              "GridSearchCV(estimator=KNeighborsClassifier(),\n",
              "             param_grid={'n_neighbors': range(1, 40),\n",
              "                         'weights': ['uniform', 'distance']},\n",
              "             scoring='f1_macro')"
            ]
          },
          "metadata": {},
          "execution_count": 46
        }
      ]
    },
    {
      "cell_type": "markdown",
      "source": [
        "We've executed the grid-search. The optimized hyperparameters are stored within the `clf_grid.best_params_` attribute. \n",
        "\n",
        "Likewise, the f-measure associated with these parameters is stored within `clf_grid.best_score_`."
      ],
      "metadata": {
        "id": "HvMVhOGwpVTK"
      }
    },
    {
      "cell_type": "code",
      "source": [
        "# Checking the optimized grid search results\n",
        "best_f = clf_grid.best_score_\n",
        "best_params = clf_grid.best_params_\n",
        "print(f\"A maximum f-measure of {best_f:.2f} is achieved with the following hyperparameters:\\n{best_params}\")"
      ],
      "metadata": {
        "id": "9F8FxPS5pWe8",
        "outputId": "330b1352-31c7-4b6c-d6c5-538f4ebea967",
        "colab": {
          "base_uri": "https://localhost:8080/"
        }
      },
      "execution_count": null,
      "outputs": [
        {
          "output_type": "stream",
          "name": "stdout",
          "text": [
            "A maximum f-measure of 0.99 is achieved with the following hyperparameters:\n",
            "{'n_neighbors': 10, 'weights': 'distance'}\n"
          ]
        }
      ]
    },
    {
      "cell_type": "markdown",
      "source": [
        "The optimized KNN classifier is stored within the `clf_grid.best_estimator_` attribute."
      ],
      "metadata": {
        "id": "hZG8xKPspynI"
      }
    },
    {
      "cell_type": "code",
      "source": [
        "# Accessing the optimized classifier\n",
        "clf_best = clf_grid.best_estimator_\n",
        "\n",
        "assert clf_best.n_neighbors == best_params[\"n_neighbors\"]\n",
        "assert clf_best.weights == best_params[\"weights\"]"
      ],
      "metadata": {
        "id": "_8Lqc0XvpzBm"
      },
      "execution_count": null,
      "outputs": []
    },
    {
      "cell_type": "markdown",
      "source": [
        "By leveraging `clf_best`, we can carry out predictions on new data. \n",
        "\n",
        "Alternatively, we can carry-out predictions directly with our optimized `clf_grid` object, by running `clf_grid.predict`."
      ],
      "metadata": {
        "id": "SV3oRHlxqMFg"
      }
    },
    {
      "cell_type": "code",
      "source": [
        "# Generating predictions with `clf_grid`\n",
        "assert np.array_equal(clf_grid.predict(X), clf_best.predict(X))"
      ],
      "metadata": {
        "id": "PxCWWHWHqNaa"
      },
      "execution_count": null,
      "outputs": []
    },
    {
      "cell_type": "markdown",
      "source": [
        "##KNN Algorithm Limitations"
      ],
      "metadata": {
        "id": "6Nvy2jYYqnDc"
      }
    },
    {
      "cell_type": "markdown",
      "source": [
        "The biggest problem with KNN is its speed. The algorithm can be very slow to run when the training set is large.\n",
        "\n",
        "We'll illustrate this slow-down by increasing elements within our training set `(X, y)` by 2000-fold. Afterwards, we'll time the grid-search process for the expanded data. \n",
        "\n",
        "**The code will take approximately 15 mintues to run. Hence, it has been commented out.**"
      ],
      "metadata": {
        "id": "iol3_hCVqo7N"
      }
    },
    {
      "cell_type": "code",
      "source": [
        "# Optimizing KNN on a large training set\n",
        "X_large = np.vstack([X for _ in range(2000)])\n",
        "y_large = np.hstack([y for _ in range(2000)])\n",
        "clf_grid = GridSearchCV(KNeighborsClassifier(), hyperparams, scoring='f1_macro')\n",
        "\n",
        "start_time = time.time()\n",
        "clf_grid.fit(X_large, y_large)\n",
        "running_time = (time.time() - start_time) / 60\n",
        "\n",
        "print(f\"The grid search took {running_time:.2f} minutes to run.\")"
      ],
      "metadata": {
        "id": "5KFRGXG-z2Yh",
        "outputId": "f96fb8a8-64f4-43d7-d1e4-6b071a09efa1",
        "colab": {
          "base_uri": "https://localhost:8080/"
        }
      },
      "execution_count": null,
      "outputs": [
        {
          "output_type": "stream",
          "name": "stdout",
          "text": [
            "The grid search took 24.66 minutes to run.\n"
          ]
        }
      ]
    }
  ]
}