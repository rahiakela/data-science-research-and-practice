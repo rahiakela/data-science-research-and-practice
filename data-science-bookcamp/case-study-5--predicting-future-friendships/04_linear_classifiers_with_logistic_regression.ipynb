{
  "nbformat": 4,
  "nbformat_minor": 0,
  "metadata": {
    "colab": {
      "provenance": [],
      "toc_visible": true,
      "authorship_tag": "ABX9TyNQOGI/3TGRU0HFBuXhB931",
      "include_colab_link": true
    },
    "kernelspec": {
      "name": "python3",
      "display_name": "Python 3"
    },
    "language_info": {
      "name": "python"
    }
  },
  "cells": [
    {
      "cell_type": "markdown",
      "metadata": {
        "id": "view-in-github",
        "colab_type": "text"
      },
      "source": [
        "<a href=\"https://colab.research.google.com/github/rahiakela/data-science-research-and-practice/blob/main/data-science-bookcamp/case-study-5--predicting-future-friendships/04_linear_classifiers_with_logistic_regression.ipynb\" target=\"_parent\"><img src=\"https://colab.research.google.com/assets/colab-badge.svg\" alt=\"Open In Colab\"/></a>"
      ]
    },
    {
      "cell_type": "markdown",
      "source": [
        "##Linear Classifiers with Logistic Regression"
      ],
      "metadata": {
        "id": "7m9jJDExv-EL"
      }
    },
    {
      "cell_type": "markdown",
      "source": [
        "In this notebook, we simulated customer heights (in inches) and weights (in pounds). We’ll now proceed to re-run that simulation. \n",
        "\n",
        "For the purpose of this exercise, we’ll focus on the two classes; _Large_ and _Not Large_. \n",
        "\n",
        "We’ll assume that customers within the _Large_ class are taller than 72 inches and heavier than 160 lb."
      ],
      "metadata": {
        "id": "JWJOGP9Fv-yn"
      }
    },
    {
      "cell_type": "markdown",
      "source": [
        "##Setup"
      ],
      "metadata": {
        "id": "tAGSwWimwu6t"
      }
    },
    {
      "cell_type": "code",
      "source": [
        "import re\n",
        "import glob\n",
        "import time\n",
        "import numpy as np\n",
        "import pandas as pd\n",
        "\n",
        "from scipy import stats\n",
        "from math import e\n",
        "\n",
        "from collections import Counter\n",
        "from collections import defaultdict\n",
        "\n",
        "from sklearn.decomposition import PCA\n",
        "from sklearn.neighbors import KNeighborsClassifier\n",
        "\n",
        "from sklearn.linear_model import LogisticRegression\n",
        "from sklearn.preprocessing import StandardScaler\n",
        "\n",
        "from sklearn.datasets import load_wine\n",
        "\n",
        "from sklearn.metrics.pairwise import euclidean_distances\n",
        "from sklearn.metrics import confusion_matrix\n",
        "from sklearn.metrics import accuracy_score\n",
        "from sklearn.metrics import f1_score\n",
        "from sklearn.datasets import load_iris\n",
        "from sklearn.model_selection import train_test_split\n",
        "from sklearn.model_selection import GridSearchCV\n",
        "\n",
        "import seaborn as sns\n",
        "import matplotlib.pyplot as plt\n",
        "from IPython.core.display import display, HTML"
      ],
      "metadata": {
        "id": "YmC8FgEtwwV0"
      },
      "execution_count": 49,
      "outputs": []
    },
    {
      "cell_type": "code",
      "source": [
        "import warnings\n",
        "warnings.filterwarnings('ignore')"
      ],
      "metadata": {
        "id": "6spFjBusw2HM"
      },
      "execution_count": 2,
      "outputs": []
    },
    {
      "cell_type": "code",
      "source": [
        "def plot_customers(X, y, xlabel='Inches (in)', ylabel='Pounds (lb)'):\n",
        "  colors = ['g', 'y']\n",
        "  labels = ['Not Large', 'Large']\n",
        "  for i, (color, label) in enumerate(zip(colors, labels)):\n",
        "      plt.scatter(X[:,0][y == i], X[:,1][y == i], color=color, label=label)\n",
        "  \n",
        "  plt.xlabel(xlabel)\n",
        "  plt.ylabel(ylabel)"
      ],
      "metadata": {
        "id": "HEqOv8J2bR0W"
      },
      "execution_count": 3,
      "outputs": []
    },
    {
      "cell_type": "markdown",
      "source": [
        "##Dataset"
      ],
      "metadata": {
        "id": "Ec7WfUByx39O"
      }
    },
    {
      "cell_type": "code",
      "source": [
        "# Simulating Categorized Customer Measurements\n",
        "np.random.seed(1)\n",
        "\n",
        "inches = np.arange(60, 78, 0.1)\n",
        "random_fluctuations = np.random.normal(scale=10, size=inches.size)\n",
        "pounds = 4 * inches - 130 + random_fluctuations\n",
        "\n",
        "X = np.array([inches, pounds]).T\n",
        "y = ((X[:, 0] > 72) & (X[:, 1] > 160)).astype(int)"
      ],
      "metadata": {
        "id": "-YFpuOqYx5PE"
      },
      "execution_count": 4,
      "outputs": []
    },
    {
      "cell_type": "code",
      "source": [
        "plot_customers(X, y)\n",
        "plt.legend()\n",
        "plt.show()"
      ],
      "metadata": {
        "colab": {
          "base_uri": "https://localhost:8080/",
          "height": 279
        },
        "id": "VoA_7h4acQRE",
        "outputId": "752f2c5d-09e2-403a-bfd7-4383a0e2568a"
      },
      "execution_count": 5,
      "outputs": [
        {
          "output_type": "display_data",
          "data": {
            "text/plain": [
              "<Figure size 432x288 with 1 Axes>"
            ],
            "image/png": "[encoded data removed]"
          },
          "metadata": {
            "needs_background": "light"
          }
        }
      ]
    },
    {
      "cell_type": "markdown",
      "source": [
        "We can image a knife slicing through the cigar-shaped plot, in order to separate the colors. The knife acts like a boundary that separates the two customer classes. \n",
        "\n",
        "We can represent this boundary using a line with slope of -3.5 and a y-intercept of 415."
      ],
      "metadata": {
        "id": "XesRB3EY5Y_h"
      }
    },
    {
      "cell_type": "code",
      "source": [
        "# Plotting a boundary to separate the two customer classes\n",
        "def boundary(inches):\n",
        "  return -3.5 * inches + 415\n",
        "\n",
        "plt.plot(X[:,0], boundary(X[:,0]), color='k', label='Boundary')\n",
        "plot_customers(X, y)\n",
        "plt.legend()\n",
        "plt.show()"
      ],
      "metadata": {
        "id": "mnGXGkz85bkJ",
        "outputId": "a10c2f68-6bfc-4dcf-dabd-9c8b90e5191a",
        "colab": {
          "base_uri": "https://localhost:8080/",
          "height": 279
        }
      },
      "execution_count": 6,
      "outputs": [
        {
          "output_type": "display_data",
          "data": {
            "text/plain": [
              "<Figure size 432x288 with 1 Axes>"
            ],
            "image/png": "[encoded data removed]"
          },
          "metadata": {
            "needs_background": "light"
          }
        }
      ]
    },
    {
      "cell_type": "markdown",
      "source": [
        "##Linear Classifier"
      ],
      "metadata": {
        "id": "zpTcjm-fci0s"
      }
    },
    {
      "cell_type": "markdown",
      "source": [
        "Most of the customers within the _Large_ class are located above the plotted line. \n",
        "\n",
        "Hence, we can use this line to classify the customers. \n",
        "\n",
        "Given a customer with measurement of `(inches, lbs)`, we predict the customer’s class by checking whether `lbs > -3.5 * inches + 415`. "
      ],
      "metadata": {
        "id": "7ST7VkAH0oHu"
      }
    },
    {
      "cell_type": "code",
      "source": [
        "# Predicting classes using a linear boundary\n",
        "y_pred = []\n",
        "\n",
        "for inches, lbs in X:\n",
        "  prediction = int(lbs > -3.5 * inches + 415)\n",
        "  y_pred.append(prediction)\n",
        "\n",
        "f_measure = f1_score(y_pred, y)\n",
        "print(f\"The f-measure is {f_measure:.2f}\")"
      ],
      "metadata": {
        "colab": {
          "base_uri": "https://localhost:8080/"
        },
        "id": "WUgJMKHk0cnj",
        "outputId": "4ca59912-d74e-4fb7-c099-4efa008336da"
      },
      "execution_count": 7,
      "outputs": [
        {
          "output_type": "stream",
          "name": "stdout",
          "text": [
            "The f-measure is 0.97\n"
          ]
        }
      ]
    },
    {
      "cell_type": "markdown",
      "source": [
        "We can run the classification more concisely using vector dot products."
      ],
      "metadata": {
        "id": "NUtquc9e1O2-"
      }
    },
    {
      "cell_type": "code",
      "source": [
        "# Predicting classes using vector dot products\n",
        "weights = np.array([3.5, 1, -415])\n",
        "\n",
        "predictions = [int(weights @ [inches, lbs, 1] > 0) for inches, lbs in X]\n",
        "assert predictions == y_pred"
      ],
      "metadata": {
        "id": "7QwZjDjM1QFg"
      },
      "execution_count": 8,
      "outputs": []
    },
    {
      "cell_type": "markdown",
      "source": [
        "We can further consolidate our code if we use matrix multiplication."
      ],
      "metadata": {
        "id": "ihsHfail1ydM"
      }
    },
    {
      "cell_type": "code",
      "source": [
        "# Predicting classes using matrix multiplication\n",
        "M = np.column_stack([X, np.ones(X.shape[0])])\n",
        "print(f\"First five rows of our padded feature matrix are: \\n{np.round(M[:5], 2)}\")\n",
        "\n",
        "predictions = (M @ weights > 0).astype(int)\n",
        "assert predictions.tolist() == y_pred"
      ],
      "metadata": {
        "colab": {
          "base_uri": "https://localhost:8080/"
        },
        "id": "V9F5xSxb13kq",
        "outputId": "cfc35261-6a01-4eb3-af8b-8a047296a2a3"
      },
      "execution_count": 9,
      "outputs": [
        {
          "output_type": "stream",
          "name": "stdout",
          "text": [
            "First five rows of our padded feature matrix are: \n",
            "[[ 60.   126.24   1.  ]\n",
            " [ 60.1  104.28   1.  ]\n",
            " [ 60.2  105.52   1.  ]\n",
            " [ 60.3  100.47   1.  ]\n",
            " [ 60.4  120.25   1.  ]]\n"
          ]
        }
      ]
    },
    {
      "cell_type": "markdown",
      "source": [
        "We've boiled down customer classification to a simple matrix-vector product.\n",
        "\n",
        "This matrix-product classifier is called a **linear classifier**."
      ],
      "metadata": {
        "id": "ikgZ5lux3L-i"
      }
    },
    {
      "cell_type": "code",
      "source": [
        "# Defining a linear classifier function\n",
        "def linear_classifier(X, weights):\n",
        "  M = np.column_stack([X, np.ones(X.shape[0])])\n",
        "  return (M @ weights > 0).astype(int)\n",
        "\n",
        "predictions = linear_classifier(X, weights)\n",
        "assert predictions.tolist() == y_pred"
      ],
      "metadata": {
        "id": "b70n7y6m3P71"
      },
      "execution_count": 10,
      "outputs": []
    },
    {
      "cell_type": "markdown",
      "source": [
        "Linear classifiers check whether weighted features and a constant add-up to a value greater than zero. \n",
        "\n",
        "The constant-value, which is stored in `weights[-1]`, is referred to as the **bias**. \n",
        "\n",
        "Meanwhile, the remaining weights are called the **coefficients**."
      ],
      "metadata": {
        "id": "PoV408Y0UfW9"
      }
    },
    {
      "cell_type": "markdown",
      "source": [
        "##Training Linear Classifier"
      ],
      "metadata": {
        "id": "INwdLrhYpeYJ"
      }
    },
    {
      "cell_type": "markdown",
      "source": [
        "We want to find a weight vector that optimizes class prediction on `X`. \n",
        "\n",
        "Lets start by setting `weights` to equal three random values.\n"
      ],
      "metadata": {
        "id": "V0H8vrODptHK"
      }
    },
    {
      "cell_type": "code",
      "source": [
        "# Classification using random weights\n",
        "np.random.seed(0)\n",
        "\n",
        "weights = np.random.normal(size=3)\n",
        "y_pred = linear_classifier(X, weights)\n",
        "f_measure = f1_score(y_pred, y)\n",
        "\n",
        "print(f\"We inputted the following random weights:\\n{np.round(weights, 2)}\")\n",
        "print(f\"\\nThe f-measure is {f_measure:.2f}\")"
      ],
      "metadata": {
        "id": "ojAnaBwgT7vW",
        "outputId": "b8546f92-b632-4009-bcfe-6f21ee05764f",
        "colab": {
          "base_uri": "https://localhost:8080/"
        }
      },
      "execution_count": 11,
      "outputs": [
        {
          "output_type": "stream",
          "name": "stdout",
          "text": [
            "We inputted the following random weights:\n",
            "[1.76 0.4  0.98]\n",
            "\n",
            "The f-measure is 0.43\n"
          ]
        }
      ]
    },
    {
      "cell_type": "markdown",
      "source": [
        "As expected, our f-measure is terrible! We can gain insight into why by printing `y_pred`."
      ],
      "metadata": {
        "id": "J8wMleJMuydS"
      }
    },
    {
      "cell_type": "code",
      "source": [
        "# Outputting the predicted classes\n",
        "print(y_pred)"
      ],
      "metadata": {
        "id": "WdsVJInJuy1s",
        "outputId": "ea2f0137-9c9d-4a12-d038-96edb7252817",
        "colab": {
          "base_uri": "https://localhost:8080/"
        }
      },
      "execution_count": 12,
      "outputs": [
        {
          "output_type": "stream",
          "name": "stdout",
          "text": [
            "[1 1 1 1 1 1 1 1 1 1 1 1 1 1 1 1 1 1 1 1 1 1 1 1 1 1 1 1 1 1 1 1 1 1 1 1 1\n",
            " 1 1 1 1 1 1 1 1 1 1 1 1 1 1 1 1 1 1 1 1 1 1 1 1 1 1 1 1 1 1 1 1 1 1 1 1 1\n",
            " 1 1 1 1 1 1 1 1 1 1 1 1 1 1 1 1 1 1 1 1 1 1 1 1 1 1 1 1 1 1 1 1 1 1 1 1 1\n",
            " 1 1 1 1 1 1 1 1 1 1 1 1 1 1 1 1 1 1 1 1 1 1 1 1 1 1 1 1 1 1 1 1 1 1 1 1 1\n",
            " 1 1 1 1 1 1 1 1 1 1 1 1 1 1 1 1 1 1 1 1 1 1 1 1 1 1 1 1 1 1 1 1]\n"
          ]
        }
      ]
    },
    {
      "cell_type": "markdown",
      "source": [
        "All our data-points are assigned a class label of 1! The product of our weights and each feature vector is always greater than zero. \n",
        "\n",
        "Hence, our weights must be too high. Lowering the weights will yield more _Class 0_ predictions."
      ],
      "metadata": {
        "id": "4GrhZOUPu_UB"
      }
    },
    {
      "cell_type": "code",
      "source": [
        "# Shifting the class predictions by lowering the weights\n",
        "assert np.all(linear_classifier(X, [0, 0, 0]) == 0)"
      ],
      "metadata": {
        "id": "6KIXY_d0vA60"
      },
      "execution_count": 13,
      "outputs": []
    },
    {
      "cell_type": "markdown",
      "source": [
        "We can intelligently raise and lower the weights until our predictions align with the actual class labels. \n",
        "\n",
        "Lets devise a strategy for adjusting the weights to match the labels. We'll start by adjusting the bias at `weights[-1]`. One simple strategy entails comparing each _predicted_ / _actual_ class-label pair."
      ],
      "metadata": {
        "id": "arxwg_xqvQIi"
      }
    },
    {
      "cell_type": "code",
      "source": [
        "# Computing the bias shift based on prediction quality\n",
        "def get_bias_shift(predicted, actual):\n",
        "  if predicted == actual:\n",
        "    return 0\n",
        "  if predicted > actual:\n",
        "    return 1\n",
        "  return -1"
      ],
      "metadata": {
        "id": "0qMv_rZBvS2d"
      },
      "execution_count": 14,
      "outputs": []
    },
    {
      "cell_type": "markdown",
      "source": [
        "Mathematically, we can show that our `get_bias_shift` function is equivalent to `predicted - actual`."
      ],
      "metadata": {
        "id": "Qnv9JNs4vq5F"
      }
    },
    {
      "cell_type": "code",
      "source": [
        "# Computing the bias shift using arithmetic\n",
        "for predicted, actual in [(0, 0), (1, 0), (0, 1), (1, 1)]:\n",
        "  bias_shift = get_bias_shift(predicted, actual)\n",
        "  assert bias_shift == predicted - actual"
      ],
      "metadata": {
        "id": "sepWW8A2vrR-"
      },
      "execution_count": 15,
      "outputs": []
    },
    {
      "cell_type": "markdown",
      "source": [
        "Rather than shifting the bias by a single unit, we can shift it 1/10th of a unit, or or 10 units or 100 units. \n",
        "\n",
        "The actual unit-shift can be controlled by a parameter called the **learning rate**. \n",
        "\n",
        "The learning rate is multiplied against `predicted - actual` in order to adjust the shift size."
      ],
      "metadata": {
        "id": "_OeLFx--wSQF"
      }
    },
    {
      "cell_type": "code",
      "source": [
        "# Computing the bias shift with a learning rate\n",
        "def get_bias_shift(predicted, actual, learning_rate=0.1):\n",
        "  return learning_rate * (predicted - actual)"
      ],
      "metadata": {
        "id": "uTPfTyVMwUud"
      },
      "execution_count": 16,
      "outputs": []
    },
    {
      "cell_type": "markdown",
      "source": [
        "We are ready to adjust our bias. \n",
        "\n",
        "Below, we'll iterate over each `[inches, lbs, 1]` vector in `M`. \n",
        "\n",
        "For every ith vector, we'll predict the class label and compare it to the actual class within `y[i]`. \n",
        "\n",
        "Using each prediction, we'll compute the bias shift, and subtract it from the bias."
      ],
      "metadata": {
        "id": "0LNe8-ikwr9M"
      }
    },
    {
      "cell_type": "code",
      "source": [
        "# Iteratively shifting the bias\n",
        "def predict(v, weights):\n",
        "  return int(v @ weights > 0)\n",
        "\n",
        "starting_bias = weights[-1]\n",
        "for i, actual in enumerate(y):\n",
        "  predicted = predict(M[i], weights)\n",
        "  bias_shift = get_bias_shift(predicted, actual)\n",
        "  weights[-1] -= bias_shift \n",
        "\n",
        "new_bias = weights[-1]\n",
        "print(f\"Our starting bias equaled {starting_bias:.2f}.\")\n",
        "print(f\"The adjusted bias equals {new_bias:.2f}.\")"
      ],
      "metadata": {
        "id": "Zz2lE5MNwuQ9",
        "outputId": "4786e256-6d02-4aa3-b9d1-2501fd763ace",
        "colab": {
          "base_uri": "https://localhost:8080/"
        }
      },
      "execution_count": 17,
      "outputs": [
        {
          "output_type": "stream",
          "name": "stdout",
          "text": [
            "Our starting bias equaled 0.98.\n",
            "The adjusted bias equals -12.02.\n"
          ]
        }
      ]
    },
    {
      "cell_type": "markdown",
      "source": [
        "The bias has drastically decreased. Lets check whether the shift improved our f-measure."
      ],
      "metadata": {
        "id": "fXvoqvHbyf3p"
      }
    },
    {
      "cell_type": "code",
      "source": [
        "# Checking performance after the bias shift\n",
        "y_pred = linear_classifier(X, weights)\n",
        "f_measure = f1_score(y_pred, y)\n",
        "print(f\"The f-measure is {f_measure:.2f}\")"
      ],
      "metadata": {
        "id": "6Lj3_ZhRygRL",
        "outputId": "b0ded8c4-7098-44f5-dcb1-1ba75fe896db",
        "colab": {
          "base_uri": "https://localhost:8080/"
        }
      },
      "execution_count": 18,
      "outputs": [
        {
          "output_type": "stream",
          "name": "stdout",
          "text": [
            "The f-measure is 0.43\n"
          ]
        }
      ]
    },
    {
      "cell_type": "markdown",
      "source": [
        "Our f-measure remains the same. Simply adjusting the bias is insufficient. \n",
        "\n",
        "We need to adjust the coefficients as well but how? \n",
        "\n",
        "Naively, we could subtract the bias shift from every coefficient. \n",
        "\n",
        "Unfortunately, this naive approach is flawed. It always adjusts the coefficients. However, it is dangerous to adjust the coefficients when their associated features are equal to zero. \n",
        "\n",
        "Thus, we need to shift each coefficient by multiplying the bias shift with the coefficent's feature. \n",
        "\n",
        "In NumPy, we can do this by running `weights -= bias_shift * M[i]`."
      ],
      "metadata": {
        "id": "ZkU2JqWjzFBV"
      }
    },
    {
      "cell_type": "code",
      "source": [
        "# Computing all weight-shifts in one line of code\n",
        "old_weights = weights.copy()\n",
        "for i, actual in enumerate(y):\n",
        "  predicted = predict(M[i], weights)\n",
        "  bias_shift = get_bias_shift(predicted, actual)\n",
        "  weights -= bias_shift * M[i] \n",
        "\n",
        "y_pred = linear_classifier(X, weights)\n",
        "f_measure = f1_score(y_pred, y)\n",
        "\n",
        "print(\"The weights previously equaled:\")\n",
        "print(np.round(old_weights, 2))\n",
        "print(\"\\nThe updated weights now equal:\")\n",
        "print(np.round(weights, 2))\n",
        "print(f'\\nThe f-measure is {f_measure:.2f}')"
      ],
      "metadata": {
        "id": "tzTy8RmPzMOR",
        "outputId": "5c956bd3-3ed0-4b39-8340-3da9aa5a4995",
        "colab": {
          "base_uri": "https://localhost:8080/"
        }
      },
      "execution_count": 19,
      "outputs": [
        {
          "output_type": "stream",
          "name": "stdout",
          "text": [
            "The weights previously equaled:\n",
            "[  1.76   0.4  -12.02]\n",
            "\n",
            "The updated weights now equal:\n",
            "[ -4.64   2.22 -12.12]\n",
            "\n",
            "The f-measure is 0.78\n"
          ]
        }
      ]
    },
    {
      "cell_type": "markdown",
      "source": [
        "Our f-measure has risen from 0.43 to 0.78. The weight shift strategy is working! \n",
        "\n",
        "Lets repeat the iteration 1000 times."
      ],
      "metadata": {
        "id": "0fb3E6Ul1HW1"
      }
    },
    {
      "cell_type": "code",
      "source": [
        "# Tweaking the weights over multiple iterations\n",
        "np.random.seed(0)\n",
        "weights = np.random.normal(size=3)\n",
        "\n",
        "f_measures = []\n",
        "for _ in range(1000):\n",
        "  y_pred = linear_classifier(X, weights)\n",
        "  f_measures.append(f1_score(y_pred, y))\n",
        "\n",
        "  for i, actual in enumerate(y):\n",
        "    predicted = predict(M[i], weights)\n",
        "    bias_shift = get_bias_shift(predicted, actual)\n",
        "    weights -= bias_shift * M[i] \n",
        "\n",
        "print(f'The f-measure after 1000 iterations is {f_measures[-1]:.2f}')\n",
        "plt.plot(range(len(f_measures)), f_measures)\n",
        "plt.xlabel('Iteration')\n",
        "plt.ylabel('F-measure')\n",
        "plt.show()"
      ],
      "metadata": {
        "id": "mVqAMMB81H_L",
        "outputId": "bbc8796e-6ca5-4aa6-b084-c86d2473c215",
        "colab": {
          "base_uri": "https://localhost:8080/",
          "height": 296
        }
      },
      "execution_count": 20,
      "outputs": [
        {
          "output_type": "stream",
          "name": "stdout",
          "text": [
            "The f-measure after 1000 iterations is 0.68\n"
          ]
        },
        {
          "output_type": "display_data",
          "data": {
            "text/plain": [
              "<Figure size 432x288 with 1 Axes>"
            ],
            "image/png": "[encoded data removed]"
          },
          "metadata": {
            "needs_background": "light"
          }
        }
      ]
    },
    {
      "cell_type": "markdown",
      "source": [
        "The classifier performance oscillates wildly over the course of the iterations.The rapid fluctuations are caused by a weight shift that is consistently too high. \n",
        "\n",
        "We should slowly lower the weight shift over each additional iteration. We can do this by dividing the weight shift by `k` for each _kth_ iteration."
      ],
      "metadata": {
        "id": "B-KiAJFX1zD1"
      }
    },
    {
      "cell_type": "code",
      "source": [
        "# Reducing weight shifts over multiple iterations\n",
        "np.random.seed(0)\n",
        "\n",
        "def train(X, y, predict=predict):\n",
        "  M = np.column_stack([X, np.ones(X.shape[0])])\n",
        "  weights = np.random.normal(size=X.shape[1] + 1)\n",
        "\n",
        "  f_measures = []\n",
        "  for k in range(1, 1000):\n",
        "    y_pred = linear_classifier(X, weights)\n",
        "    f_measures.append(f1_score(y_pred, y))\n",
        "\n",
        "    for i, actual in enumerate(y):\n",
        "      predicted = predict(M[i], weights)\n",
        "      bias_shift = get_bias_shift(predicted, actual)\n",
        "      weights -= bias_shift * M[i] / k\n",
        "  return weights, f_measures"
      ],
      "metadata": {
        "id": "ebPFxZ-b12yE"
      },
      "execution_count": 21,
      "outputs": []
    },
    {
      "cell_type": "code",
      "source": [
        "weights, f_measures = train(X, y)\n",
        "\n",
        "print(f'The f-measure after 1000 iterations is {f_measures[-1]:.2f}')\n",
        "plt.plot(range(len(f_measures)), f_measures)\n",
        "plt.xlabel('Iteration')\n",
        "plt.ylabel('F-measure')\n",
        "plt.show()"
      ],
      "metadata": {
        "id": "NLm8XTT92kN9",
        "outputId": "46d165c5-3d8f-4737-fcff-ec881b17e2b0",
        "colab": {
          "base_uri": "https://localhost:8080/",
          "height": 296
        }
      },
      "execution_count": 22,
      "outputs": [
        {
          "output_type": "stream",
          "name": "stdout",
          "text": [
            "The f-measure after 1000 iterations is 0.82\n"
          ]
        },
        {
          "output_type": "display_data",
          "data": {
            "text/plain": [
              "<Figure size 432x288 with 1 Axes>"
            ],
            "image/png": "[encoded data removed]"
          },
          "metadata": {
            "needs_background": "light"
          }
        }
      ]
    },
    {
      "cell_type": "markdown",
      "source": [
        "Our gradual weight-shift reduction was successful. The f-measure converges to a steady value of 0.82. \n",
        "\n",
        "We achieved convergence using a **Perceptron training algorithm**. Through repetition, the Perceptron training algorithm will eventually converge to a steady f-measure. \n",
        "\n",
        "However, that f-measure will not necessarily be optimal. For instance, our Perceptron converged to an f-measure of 0.82.  The level of performance doesn't match our initial result of 0.97. \n",
        "\n",
        "Our new decision boundary doesn't separate the data as well as our old decision boundary. \n",
        "\n",
        "Lets check how the two boundaries visually compare."
      ],
      "metadata": {
        "id": "0syU7j9v4aa1"
      }
    },
    {
      "cell_type": "code",
      "source": [
        "# Comparing new and old decision boundaries\n",
        "inches_coef, lbs_coef, bias = weights\n",
        "\n",
        "def new_boundary(inches):\n",
        "  return -(inches_coef * inches + bias) / lbs_coef\n",
        "\n",
        "plt.plot(X[:,0], new_boundary(X[:,0]), color='k', linestyle='--', label='Trained Boundary', linewidth=2)\n",
        "plt.plot(X[:,0], boundary(X[:,0]), color='k', label='Initial Boundary')\n",
        "plot_customers(X, y)\n",
        "plt.legend()\n",
        "plt.show()"
      ],
      "metadata": {
        "id": "lOA1uHAy4lsI",
        "outputId": "c9c57fd0-e8c8-4c18-9965-d62372e2d4ba",
        "colab": {
          "base_uri": "https://localhost:8080/",
          "height": 279
        }
      },
      "execution_count": 23,
      "outputs": [
        {
          "output_type": "display_data",
          "data": {
            "text/plain": [
              "<Figure size 432x288 with 1 Axes>"
            ],
            "image/png": "[encoded data removed]"
          },
          "metadata": {
            "needs_background": "light"
          }
        }
      ]
    },
    {
      "cell_type": "markdown",
      "source": [
        "Our linear boundary is inferior to our initial linear boundary. Our training is hindered by large, fluctuating features in matrix `X`. \n",
        "\n",
        "We can limit this impediment through a process called **standardization**, in which `X` is adjusted to equal `(X - X.mean(axis=0)) / X.std(axis=0)`."
      ],
      "metadata": {
        "id": "pT9i_wcY6GPS"
      }
    },
    {
      "cell_type": "markdown",
      "source": [
        "##Data Standardization"
      ],
      "metadata": {
        "id": "b-d8JxzA6KWi"
      }
    },
    {
      "cell_type": "markdown",
      "source": [
        "Our training lacks all nuance because the coefficient shifts are way too high. \n",
        "\n",
        "However, we can lower these shifts by lowering column means in matrix `X`. \n",
        "\n",
        "Additionally, we’ll need to lower the dispersion in the matrix. \n",
        "\n",
        "To start, lets print the current values of `X.mean(axis=0)` and `X.std(axis=0)`."
      ],
      "metadata": {
        "id": "GU-9CmSK6QTD"
      }
    },
    {
      "cell_type": "code",
      "source": [
        "# Printing feature means and standard deviations\n",
        "means = X.mean(axis=0)\n",
        "stds = X.std(axis=0)\n",
        "\n",
        "print(f\"Mean values: {np.round(means, 2)}\")\n",
        "print(f\"STD values: {np.round(stds, 2)}\")"
      ],
      "metadata": {
        "id": "_I7sPbPp6hbq",
        "colab": {
          "base_uri": "https://localhost:8080/"
        },
        "outputId": "5f0be869-4185-447a-ca75-86d6f63ba519"
      },
      "execution_count": 24,
      "outputs": [
        {
          "output_type": "stream",
          "name": "stdout",
          "text": [
            "Mean values: [ 68.95 146.56]\n",
            "STD values: [ 5.2  23.26]\n"
          ]
        }
      ]
    },
    {
      "cell_type": "markdown",
      "source": [
        "The feature means and standard deviations are relatively high. We can shift the means to zero by subtracting `means` from `X`. \n",
        "\n",
        "Additionally, we can shift the standard deviations to 1.0 by running `(X - means) / stds`. \n",
        "\n",
        "This simple process is called **standardization**."
      ],
      "metadata": {
        "id": "UF6oQUJ_juZR"
      }
    },
    {
      "cell_type": "code",
      "source": [
        "# Standardizing the feature matrix\n",
        "def standardize(X):\n",
        "  means = X.mean(axis=0)\n",
        "  stds = X.std(axis=0)\n",
        "  return (X - means) / stds"
      ],
      "metadata": {
        "id": "0UzHAo-0jwhD"
      },
      "execution_count": 25,
      "outputs": []
    },
    {
      "cell_type": "code",
      "source": [
        "X_s = standardize(X)\n",
        "assert np.allclose(X_s.mean(axis=0), 0)\n",
        "assert np.allclose(X_s.std(axis=0), 1)"
      ],
      "metadata": {
        "id": "uxG18oI8kHNl"
      },
      "execution_count": 26,
      "outputs": []
    },
    {
      "cell_type": "markdown",
      "source": [
        "We'll now check whether training on the standardized feature matrix improves our results."
      ],
      "metadata": {
        "id": "S6iwTjuIkbyW"
      }
    },
    {
      "cell_type": "code",
      "source": [
        "# Training on the standardized feature matrix\n",
        "np.random.seed(0)\n",
        "\n",
        "weights, f_measures = train(X_s, y)\n",
        "print(f\"After standardization, the f-measure is {f_measures[-1]:.2f}\")"
      ],
      "metadata": {
        "colab": {
          "base_uri": "https://localhost:8080/"
        },
        "id": "Rr_uuV4QkcLx",
        "outputId": "a0fb831d-369e-4643-b817-a744912c59a1"
      },
      "execution_count": 27,
      "outputs": [
        {
          "output_type": "stream",
          "name": "stdout",
          "text": [
            "After standardization, the f-measure is 0.98\n"
          ]
        }
      ]
    },
    {
      "cell_type": "code",
      "source": [
        "def plot_boundary(weights):\n",
        "  a, b, c = weights\n",
        "  new_boundary = lambda x: -(a * x + c) / b\n",
        "  plt.plot(X_s[:,0], new_boundary(X_s[:,0]), color='k', linestyle='--', label='Trained Boundary', linewidth=2)\n",
        "  plot_customers(X_s, y, xlabel='Standardized Inches', ylabel='Standardized Pounds')\n",
        "  plt.legend()\n",
        "  plt.show()\n",
        "    \n",
        "plot_boundary(weights)"
      ],
      "metadata": {
        "colab": {
          "base_uri": "https://localhost:8080/",
          "height": 279
        },
        "id": "XP5J0arhkuyG",
        "outputId": "b4004747-a3f2-4c21-d58d-06a681786e41"
      },
      "execution_count": 28,
      "outputs": [
        {
          "output_type": "display_data",
          "data": {
            "text/plain": [
              "<Figure size 432x288 with 1 Axes>"
            ],
            "image/png": "[encoded data removed]"
          },
          "metadata": {
            "needs_background": "light"
          }
        }
      ]
    },
    {
      "cell_type": "markdown",
      "source": [
        "We achieved improvement in performance through standardization. However, our trained classifier now requires all input data to be standardized prior to classification. \n",
        "\n",
        "Hence, given any new data `d`, we will need to classify that data by running `linear_classifier(standardize(d), weights)`. "
      ],
      "metadata": {
        "id": "--t_QPIFlDJv"
      }
    },
    {
      "cell_type": "code",
      "source": [
        "# Standardizing new classifier inputs\n",
        "new_data = np.array([\n",
        "  [63, 110], \n",
        "  [76, 199]\n",
        "])\n",
        "\n",
        "predictions = linear_classifier(standardize(new_data), weights)\n",
        "print(predictions)"
      ],
      "metadata": {
        "colab": {
          "base_uri": "https://localhost:8080/"
        },
        "id": "JRGg7cfJlJ6j",
        "outputId": "7ba0b8ef-4162-441d-9911-470c4aad6673"
      },
      "execution_count": 29,
      "outputs": [
        {
          "output_type": "stream",
          "name": "stdout",
          "text": [
            "[0 1]\n"
          ]
        }
      ]
    },
    {
      "cell_type": "markdown",
      "source": [
        "We’ve standardized our data and achieved a very high level of Perceptron performance. \n",
        "\n",
        "Unfortunately, this optimal f-measure is still not guaranteed by the training algorithm. \n",
        "\n",
        "Trained Perceptron quality can fluctuate, even if the algorithm is run repeatedly on the same training set. "
      ],
      "metadata": {
        "id": "0g3pvKIHlhns"
      }
    },
    {
      "cell_type": "code",
      "source": [
        "# Checking a Perceptron’s training consistency\n",
        "np.random.seed(0)\n",
        "\n",
        "poor_train_count = sum([train(X_s, y)[1][-1] < 0.97 for _ in range(5)])\n",
        "print(f\"The f-measure fell below our baseline of 0.97 in {poor_train_count} out of 5 training instances.\")"
      ],
      "metadata": {
        "colab": {
          "base_uri": "https://localhost:8080/"
        },
        "id": "VpD2bCS6lkJb",
        "outputId": "438bdf9a-3a76-4634-dfbe-ae211b2e7a86"
      },
      "execution_count": 30,
      "outputs": [
        {
          "output_type": "stream",
          "name": "stdout",
          "text": [
            "The f-measure fell below our baseline of 0.97 in 4 out of 5 training instances.\n"
          ]
        }
      ]
    },
    {
      "cell_type": "markdown",
      "source": [
        "In 80% of instances, the trained model performance falls below the baseline. \n",
        "\n",
        "Our basic perceptron model is clearly flawed. \n",
        "\n",
        "We'll address these flaws in the subsequent subsection using **Logistic regression**."
      ],
      "metadata": {
        "id": "vgBfmTGAl_l0"
      }
    },
    {
      "cell_type": "markdown",
      "source": [
        "##Logistic regression"
      ],
      "metadata": {
        "id": "Bmn0Ma7xmNEd"
      }
    },
    {
      "cell_type": "markdown",
      "source": [
        "Not all predictions should be treated equally. Sometimes, we are more confident in some predictions over others. \n",
        "Class confidence is determined by the distance from the decision boundary.  It’s also determined by position relative to the boundary.  \n",
        "\n",
        "We can capture both distance and position with **directed distance**. We need a function that rises from 0 to 1.0 as directed distances rises from negative infinity to infinity. Also, the function should equal 0.5 when the distance is 0. \n",
        "\n",
        "Within this book, we have encountered one such function; the cumulative distribution function of the Normal curve."
      ],
      "metadata": {
        "id": "rDxVs5w8oI42"
      }
    },
    {
      "cell_type": "code",
      "source": [
        "# Measuring uncertainty using stats.norm.cdf\n",
        "z = np.arange(-10, 10, 0.1)\n",
        "assert stats.norm.cdf(0.0) == 0.5\n",
        "\n",
        "plt.plot(z, stats.norm.cdf(z))\n",
        "plt.xlabel('Directed Distance')\n",
        "plt.ylabel('Class 1 Confidence')\n",
        "plt.show()"
      ],
      "metadata": {
        "id": "E8_qh1xrbhRN",
        "outputId": "c21529d9-5062-4520-fd8c-b3da95b21b2c",
        "colab": {
          "base_uri": "https://localhost:8080/",
          "height": 279
        }
      },
      "execution_count": 31,
      "outputs": [
        {
          "output_type": "display_data",
          "data": {
            "text/plain": [
              "<Figure size 432x288 with 1 Axes>"
            ],
            "image/png": "[encoded data removed]"
          },
          "metadata": {
            "needs_background": "light"
          }
        }
      ]
    },
    {
      "cell_type": "markdown",
      "source": [
        "We can also generate and S-shaped plot using the the **logistic** curve. \n",
        "\n",
        "The logistic function of `z` is `1 / (1 - e ** z)` where `e` is a constant equal to approximately 2.72. "
      ],
      "metadata": {
        "id": "dD4WoqX6dbaD"
      }
    },
    {
      "cell_type": "code",
      "source": [
        "# Measuring uncertainty using the logistic curve\n",
        "plt.plot(z, stats.norm.cdf(z), label='CDF')\n",
        "plt.plot(z, 1 / (1 + e ** -z), label='Logistic Curve', linestyle='--')\n",
        "plt.xlabel('Directed Distance')\n",
        "plt.ylabel('Confidence in Class 1')\n",
        "plt.legend()\n",
        "plt.show()"
      ],
      "metadata": {
        "id": "wSvIUSIjdcqP",
        "outputId": "79c29a5b-6172-4c98-dbf5-7005064f7d03",
        "colab": {
          "base_uri": "https://localhost:8080/",
          "height": 279
        }
      },
      "execution_count": 32,
      "outputs": [
        {
          "output_type": "display_data",
          "data": {
            "text/plain": [
              "<Figure size 432x288 with 1 Axes>"
            ],
            "image/png": "[encoded data removed]"
          },
          "metadata": {
            "needs_background": "light"
          }
        }
      ]
    },
    {
      "cell_type": "markdown",
      "source": [
        "We use the logistic curve as our measure of uncertainty. \n",
        "\n",
        "Lets utilize the curve to assign _Class 1_ label likelihoods for all our customers. The product `M @ weights` returns the directed distances to the boundary. \n",
        "\n",
        "Hence,  `1 / (1 + e ** -(M @ weights)`, returns the _Class 1_ likelihoods.\n",
        "\n",
        "Below, we’ll plot these likelihoods, along with the binary Perceptron predictions."
      ],
      "metadata": {
        "id": "mmK0_vbnjnGn"
      }
    },
    {
      "cell_type": "code",
      "source": [
        "# Comparing logistic uncertainty to the Perceptron’s predictions\n",
        "M = np.column_stack([X_s, np.ones(X_s.shape[0])])\n",
        "distances = M @ weights\n",
        "likelihoods = 1 / (1 + e ** -distances)\n",
        "\n",
        "plt.scatter(distances, likelihoods, label='Class 1 Likelihood')\n",
        "plt.scatter(distances, distances > 0, label='Perceptron Prediction', marker='x')\n",
        "\n",
        "plt.xlabel('Directed Distance')\n",
        "plt.legend()\n",
        "plt.show()"
      ],
      "metadata": {
        "id": "wDLXmptnjso9",
        "outputId": "25c8c485-f021-4ba9-95fa-4cd9c69b82d9",
        "colab": {
          "base_uri": "https://localhost:8080/",
          "height": 279
        }
      },
      "execution_count": 33,
      "outputs": [
        {
          "output_type": "display_data",
          "data": {
            "text/plain": [
              "<Figure size 432x288 with 1 Axes>"
            ],
            "image/png": "[encoded data removed]"
          },
          "metadata": {
            "needs_background": "light"
          }
        }
      ]
    },
    {
      "cell_type": "markdown",
      "source": [
        "The plotted logistic likelihoods continuously increase with directed distance. In contrast, the Perceptron predictions are brutishly simple. \n",
        "\n",
        "The model is overconfident. It is bound to make mistakes! We can teach the model caution by incorporating the uncertainty that's captured by the logistic curve."
      ],
      "metadata": {
        "id": "p042UGkXljDL"
      }
    },
    {
      "cell_type": "code",
      "source": [
        "# Incorporating uncertainty into training\n",
        "np.random.seed(0)\n",
        "\n",
        "def logistic_model(v, weights):\n",
        "  return 1 / (1 + e ** -(weights @ v))\n",
        "\n",
        "def train_logistic(X, y):\n",
        "  return train(X, y, predict=logistic_model)\n",
        "\n",
        "logistic_weights = train_logistic(X_s, y)[0]\n",
        "plot_boundary(logistic_weights)"
      ],
      "metadata": {
        "id": "2pvaiRIdllJR",
        "outputId": "a0cea1ae-7300-4f0b-f995-d5658f9a3e3c",
        "colab": {
          "base_uri": "https://localhost:8080/",
          "height": 281
        }
      },
      "execution_count": 34,
      "outputs": [
        {
          "output_type": "display_data",
          "data": {
            "text/plain": [
              "<Figure size 432x288 with 1 Axes>"
            ],
            "image/png": "[encoded data removed]"
          },
          "metadata": {
            "needs_background": "light"
          }
        }
      ]
    },
    {
      "cell_type": "markdown",
      "source": [
        "The learned decision boundary is nearly identical to that of the Perceptron output. \n",
        "\n",
        "However, our `train_logistic` function is subtly different. It produces more consistent results than the Perceptron."
      ],
      "metadata": {
        "id": "6SkxSKhMmcx6"
      }
    },
    {
      "cell_type": "code",
      "source": [
        "# Checking the logistic model’s training consistency\n",
        "np.random.seed(0)\n",
        "\n",
        "poor_train_count = sum([train_logistic(X_s, y)[1][-1] < 0.97 for _ in range(5)])\n",
        "print(f\"The f-measure fell below our baseline of 0.97 in {poor_train_count} out of 5 training instances\")"
      ],
      "metadata": {
        "id": "EJfN0gNkmhds",
        "outputId": "f2520dec-97c4-490f-d50f-1ac07eced7b6",
        "colab": {
          "base_uri": "https://localhost:8080/"
        }
      },
      "execution_count": 35,
      "outputs": [
        {
          "output_type": "stream",
          "name": "stdout",
          "text": [
            "The f-measure fell below our baseline of 0.97 in 0 out of 5 training instances\n"
          ]
        }
      ]
    },
    {
      "cell_type": "markdown",
      "source": [
        "The trained model does not fall below the baseline in any of the runs. \n",
        "\n",
        "Hence, it is superior to the Perceptron. This superior model is called a **Logistic regression classifier**."
      ],
      "metadata": {
        "id": "-oBAEotdnBPP"
      }
    },
    {
      "cell_type": "markdown",
      "source": [
        "##Logistic Regression for >2 Features"
      ],
      "metadata": {
        "id": "wOokzZECnCfV"
      }
    },
    {
      "cell_type": "markdown",
      "source": [
        "Our `train_logistic` function can process any number of input features. \n",
        "\n",
        "We’ll prove this by adding a third feature; customer waist circumference."
      ],
      "metadata": {
        "id": "aQp1DvqPnVrF"
      }
    },
    {
      "cell_type": "code",
      "source": [
        "# Training a three-feature Logistic regression model\n",
        "np.random.seed(0)\n",
        "\n",
        "random_fluctuations = np.random.normal(size=X.shape[0], scale=0.1)\n",
        "waist = 0.45 * X[:, 0] + random_fluctuations\n",
        "X_w_waist = np.column_stack([X_s, (waist - waist.mean()) / waist.std()])\n",
        "weights, f_measures = train_logistic(X_w_waist, y)\n",
        "\n",
        "print(\"Our trained model has the following weights:\")\n",
        "print(np.round(weights, 2))\n",
        "print(f'\\nThe f-measure is {f_measures[-1]:.2f}')"
      ],
      "metadata": {
        "id": "kJTjeBSsnbPE",
        "outputId": "1761e424-6c2c-4682-89c8-d1652207af4e",
        "colab": {
          "base_uri": "https://localhost:8080/"
        }
      },
      "execution_count": 37,
      "outputs": [
        {
          "output_type": "stream",
          "name": "stdout",
          "text": [
            "Our trained model has the following weights:\n",
            "[ 1.65  2.91  1.26 -4.08]\n",
            "\n",
            "The f-measure is 0.97\n"
          ]
        }
      ]
    },
    {
      "cell_type": "markdown",
      "source": [
        "##`LogisticRegression` using Scikit-Learn"
      ],
      "metadata": {
        "id": "SB_DayL1hOZJ"
      }
    },
    {
      "cell_type": "markdown",
      "source": [
        "Scikit-Learn has a built-in class Logistic regression class."
      ],
      "metadata": {
        "id": "1Fdbk-KUhT1i"
      }
    },
    {
      "cell_type": "code",
      "source": [
        "# Initializing Scikit-Learn's LogisticRegression classifier\n",
        "clf = LogisticRegression()"
      ],
      "metadata": {
        "id": "RUOAWYGlhcB-"
      },
      "execution_count": 39,
      "outputs": []
    },
    {
      "cell_type": "code",
      "source": [
        "# Training Scikit-Learn’s LogisticRegression classifier\n",
        "clf.fit(X_s, y)"
      ],
      "metadata": {
        "id": "05FFGRruhwVZ",
        "outputId": "de746739-86a3-43a3-812b-b5ae4fc965b4",
        "colab": {
          "base_uri": "https://localhost:8080/"
        }
      },
      "execution_count": 40,
      "outputs": [
        {
          "output_type": "execute_result",
          "data": {
            "text/plain": [
              "LogisticRegression()"
            ]
          },
          "metadata": {},
          "execution_count": 40
        }
      ]
    },
    {
      "cell_type": "markdown",
      "source": [
        "The trained model's coefficients are stored within the `clf.coef_` attribute. Meanwhile, the bias must be accessed separately, using the `clf.intercept_` attribute. \n",
        "\n",
        "Combining these attributes will give us the full weight vector, which can be visualized as a decision boundary."
      ],
      "metadata": {
        "id": "Opnh7buUh5G0"
      }
    },
    {
      "cell_type": "code",
      "source": [
        "# Accessing the trained decision boundary\n",
        "coefficients = clf.coef_\n",
        "bias = clf.intercept_\n",
        "print(f\"The coefficients equal {np.round(coefficients, 2)}\")\n",
        "print(f\"The bias equals {np.round(bias, 2)}\")    \n",
        "plot_boundary(np.hstack([clf.coef_[0], clf.intercept_]))"
      ],
      "metadata": {
        "id": "lBFB04aKh6gL",
        "outputId": "45739aae-7057-4192-f7f8-64858b7423af",
        "colab": {
          "base_uri": "https://localhost:8080/",
          "height": 314
        }
      },
      "execution_count": 41,
      "outputs": [
        {
          "output_type": "stream",
          "name": "stdout",
          "text": [
            "The coefficients equal [[2.22 3.22]]\n",
            "The bias equals [-3.96]\n"
          ]
        },
        {
          "output_type": "display_data",
          "data": {
            "text/plain": [
              "<Figure size 432x288 with 1 Axes>"
            ],
            "image/png": "[encoded data removed]"
          },
          "metadata": {
            "needs_background": "light"
          }
        }
      ]
    },
    {
      "cell_type": "markdown",
      "source": [
        "We can make predictions on new data by executing `clf.predict`. \n",
        "\n",
        "As the reminder, the inputted data must be standardized for our predictions to make sense."
      ],
      "metadata": {
        "id": "nlbFhmVciKl3"
      }
    },
    {
      "cell_type": "code",
      "source": [
        "# Predicting classes with the linear classifier\n",
        "new_data = np.array([\n",
        "  [63, 110],\n",
        "  [76, 199]\n",
        "])\n",
        "\n",
        "predictions = clf.predict(standardize(new_data))\n",
        "print(predictions)"
      ],
      "metadata": {
        "id": "bzGErwwyiM0B",
        "outputId": "5aee611a-81bb-42a9-ec88-c32f4eaa61ca",
        "colab": {
          "base_uri": "https://localhost:8080/"
        }
      },
      "execution_count": 43,
      "outputs": [
        {
          "output_type": "stream",
          "name": "stdout",
          "text": [
            "[0 1]\n"
          ]
        }
      ]
    },
    {
      "cell_type": "markdown",
      "source": [
        "Additionally, we can output the class-label probabilities by running `clf.predict_proba`. \n",
        "\n",
        "These probabilities represent the class-label uncertainties generated by the logistic curve."
      ],
      "metadata": {
        "id": "eQ_K0X4hijOc"
      }
    },
    {
      "cell_type": "code",
      "source": [
        "# Outputting the uncertainty associated with each class\n",
        "probabilities = clf.predict_proba(standardize(new_data))\n",
        "print(probabilities)"
      ],
      "metadata": {
        "id": "pc-M0TrWikUe",
        "outputId": "724f413d-d9ff-492a-d91e-7af0b48768fa",
        "colab": {
          "base_uri": "https://localhost:8080/"
        }
      },
      "execution_count": 44,
      "outputs": [
        {
          "output_type": "stream",
          "name": "stdout",
          "text": [
            "[[9.99916985e-01 8.30148629e-05]\n",
            " [1.85041928e-01 8.14958072e-01]]\n"
          ]
        }
      ]
    },
    {
      "cell_type": "markdown",
      "source": [
        "We've relied on a custom`standardize` function to standardize our input data. \n",
        "\n",
        "Scikit-Learn includes its own standardization class called `StandardScaler`."
      ],
      "metadata": {
        "id": "JW9OSbbbi1l7"
      }
    },
    {
      "cell_type": "code",
      "source": [
        "# Initializing Scikit-Learn’s standardization class\n",
        "standard_scaler = StandardScaler()"
      ],
      "metadata": {
        "id": "Lk0T09LKi3g8"
      },
      "execution_count": 46,
      "outputs": []
    },
    {
      "cell_type": "markdown",
      "source": [
        "Running `standard_scaler.fit_transform(X)` will return a standardized matrix."
      ],
      "metadata": {
        "id": "OgXilSZojGwV"
      }
    },
    {
      "cell_type": "code",
      "source": [
        "# Standardizing training data using Scikit-Learn\n",
        "X_transformed = standard_scaler.fit_transform(X)\n",
        "\n",
        "assert np.allclose(X_transformed.mean(axis=0), 0)\n",
        "assert np.allclose(X_transformed.std(axis=0), 1)\n",
        "assert np.allclose(X_transformed, X_s)"
      ],
      "metadata": {
        "id": "iObD2TXkjHIt"
      },
      "execution_count": 47,
      "outputs": []
    },
    {
      "cell_type": "markdown",
      "source": [
        "The `standard_scaler` object has learned the means and standard deviations associated with our feature matrix. \n",
        "\n",
        "Hence, it can now standardize data based on these statistics. "
      ],
      "metadata": {
        "id": "8rW7YMuNjX2-"
      }
    },
    {
      "cell_type": "code",
      "source": [
        "# Standardizing new data using Scikit-Learn\n",
        "data_transformed = standard_scaler.transform(new_data)\n",
        "\n",
        "assert np.array_equal(clf.predict(data_transformed), predictions)"
      ],
      "metadata": {
        "id": "ZlwrPdA-jZI0"
      },
      "execution_count": 48,
      "outputs": []
    },
    {
      "cell_type": "markdown",
      "source": [
        "By combining the `LogisticRegression` and `StandardScaler` classes, we can train Logistic models on complex inputs."
      ],
      "metadata": {
        "id": "fAeTe3hUjr7r"
      }
    },
    {
      "cell_type": "markdown",
      "source": [
        "##Multi-Class Linear Models"
      ],
      "metadata": {
        "id": "wzr1-3jojsXt"
      }
    },
    {
      "cell_type": "markdown",
      "source": [
        "We’ve shown how linear classifiers can find decision boundaries that separate two classes of data. \n",
        "\n",
        "However, many problems require us to differentiate between more than two classes. We'll now attempt to train a classifier that can distinguish between multiple classes of wine. \n",
        "\n",
        "First, we'll load the appropriate data from Scikit-Learn."
      ],
      "metadata": {
        "id": "-dcsuiZwjxL9"
      }
    },
    {
      "cell_type": "code",
      "source": [
        "# Importing Scikit-Learn’s wine dataset\n",
        "data = load_wine()\n",
        "\n",
        "feature_names = data.feature_names\n",
        "num_classes = len(data.target_names)\n",
        "num_features = len(data.feature_names)\n",
        "\n",
        "print(f\"The wine dataset contains {num_classes} classes of wine:\\n{data.target_names}\")\n",
        "print(f\"\\nIt contains the {num_features} features:\\n{data.feature_names}\")"
      ],
      "metadata": {
        "id": "TVobYQytkHsf",
        "outputId": "ca98f1b9-7a41-44fd-abe7-3cc73360b472",
        "colab": {
          "base_uri": "https://localhost:8080/"
        }
      },
      "execution_count": 51,
      "outputs": [
        {
          "output_type": "stream",
          "name": "stdout",
          "text": [
            "The wine dataset contains 3 classes of wine:\n",
            "['class_0' 'class_1' 'class_2']\n",
            "\n",
            "It contains the 13 features:\n",
            "['alcohol', 'malic_acid', 'ash', 'alcalinity_of_ash', 'magnesium', 'total_phenols', 'flavanoids', 'nonflavanoid_phenols', 'proanthocyanins', 'color_intensity', 'hue', 'od280/od315_of_diluted_wines', 'proline']\n"
          ]
        }
      ]
    },
    {
      "cell_type": "markdown",
      "source": [
        "If we train our Logistic regression pipeline on the three-class wine data, we'll obtain three decision boundaries. \n",
        "\n",
        "These three biases associated with these bounaderies will be stored in the `clf.intercept_` array. "
      ],
      "metadata": {
        "id": "kQpLqW38k6Ek"
      }
    },
    {
      "cell_type": "code",
      "source": [
        "# Training a multi-class wine predicto\n",
        "X, y = load_wine(return_X_y=True)\n",
        "clf.fit(standard_scaler.fit_transform(X), y)\n",
        "\n",
        "biases = clf.intercept_\n",
        "\n",
        "print(f\"We trained {biases.size} decision boundaries, corresponding to the {num_classes} classes of wine.\\n\")\n",
        "for i, bias in enumerate(biases):\n",
        "  label = data.target_names[i]\n",
        "  print(f\"The {label} decision boundary has a bias of {bias:0.2f}\")"
      ],
      "metadata": {
        "id": "xFpdtqAWk8aT",
        "outputId": "fec7e1b1-a4df-4df5-db80-6cdbcf9f26c2",
        "colab": {
          "base_uri": "https://localhost:8080/"
        }
      },
      "execution_count": 54,
      "outputs": [
        {
          "output_type": "stream",
          "name": "stdout",
          "text": [
            "We trained 3 decision boundaries, corresponding to the 3 classes of wine.\n",
            "\n",
            "The class_0 decision boundary has a bias of 0.41\n",
            "The class_1 decision boundary has a bias of 0.70\n",
            "The class_2 decision boundary has a bias of -1.12\n"
          ]
        }
      ]
    },
    {
      "cell_type": "markdown",
      "source": [
        "The coefficients across the three different boundaries can be stored in a 3-by-13 matrix. \n",
        "\n",
        "In Scikit-Learn, that matrix is contained within `clf.coef_` Each _ith_ row of the matrix corresponds to the boundary of _Class i_. Meanwhile, each _jth_ column corresponds to the _jth_ feature coefficient. \n",
        "\n",
        "We can visiualize these relationships using a heatmap."
      ],
      "metadata": {
        "id": "aRZbPYLINWHd"
      }
    },
    {
      "cell_type": "code",
      "source": [
        "# Displaying a transpose of the coefficient matrix\n",
        "plt.figure(figsize = (20, 10))\n",
        "coefficients = clf.coef_\n",
        "\n",
        "sns.heatmap(coefficients.T, cmap='YlGnBu', annot=True, \n",
        "            xticklabels=[f\"Class {i} Boundary\" for i in range(3)],\n",
        "            yticklabels=data.feature_names) \n",
        "plt.yticks(rotation=0)\n",
        "\n",
        "plt.show()"
      ],
      "metadata": {
        "id": "LT8DJ2YCNZK4",
        "outputId": "95c4f2b7-cb52-4c2a-e4c2-2e2f0b477e3a",
        "colab": {
          "base_uri": "https://localhost:8080/",
          "height": 432
        }
      },
      "execution_count": 55,
      "outputs": [
        {
          "output_type": "display_data",
          "data": {
            "text/plain": [
              "<Figure size 1440x720 with 2 Axes>"
            ],
            "image/png": "[encoded data removed]"
          },
          "metadata": {
            "needs_background": "light"
          }
        }
      ]
    },
    {
      "cell_type": "markdown",
      "source": [
        "##Feature importance"
      ],
      "metadata": {
        "id": "cSYd22UPPeEy"
      }
    },
    {
      "cell_type": "markdown",
      "source": [],
      "metadata": {
        "id": "myNWnFLxPfnX"
      }
    }
  ]
}