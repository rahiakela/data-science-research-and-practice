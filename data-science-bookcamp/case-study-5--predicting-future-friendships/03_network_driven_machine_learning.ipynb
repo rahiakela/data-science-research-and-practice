{
  "nbformat": 4,
  "nbformat_minor": 0,
  "metadata": {
    "colab": {
      "provenance": [],
      "toc_visible": true,
      "authorship_tag": "ABX9TyO7qaC1FGXwe8yALNV934mP",
      "include_colab_link": true
    },
    "kernelspec": {
      "name": "python3",
      "display_name": "Python 3"
    },
    "language_info": {
      "name": "python"
    }
  },
  "cells": [
    {
      "cell_type": "markdown",
      "metadata": {
        "id": "view-in-github",
        "colab_type": "text"
      },
      "source": [
        "<a href=\"https://colab.research.google.com/github/rahiakela/data-science-research-and-practice/blob/main/data-science-bookcamp/case-study-5--predicting-future-friendships/03_network_driven_machine_learning.ipynb\" target=\"_parent\"><img src=\"https://colab.research.google.com/assets/colab-badge.svg\" alt=\"Open In Colab\"/></a>"
      ]
    },
    {
      "cell_type": "markdown",
      "source": [
        "##Network-Driven Machine Learning"
      ],
      "metadata": {
        "id": "7m9jJDExv-EL"
      }
    },
    {
      "cell_type": "markdown",
      "source": [
        "We want to construct a model that maps inputted iris measurements to one of three species categories. \n",
        "\n",
        "In machine learning, these inputted measurements are called **features**. Meanwhile, the outputted categories are called **classes**. \n",
        "\n",
        "The goal of supervised learning is to construct a model that can identify classes based on features. Such a model is called a **classifier**."
      ],
      "metadata": {
        "id": "JWJOGP9Fv-yn"
      }
    },
    {
      "cell_type": "markdown",
      "source": [
        "##Setup"
      ],
      "metadata": {
        "id": "tAGSwWimwu6t"
      }
    },
    {
      "cell_type": "code",
      "source": [
        "!pip install networkx"
      ],
      "metadata": {
        "id": "LkDczcW_xyB9"
      },
      "execution_count": null,
      "outputs": []
    },
    {
      "cell_type": "code",
      "source": [
        "import re\n",
        "import glob\n",
        "import time\n",
        "import numpy as np\n",
        "import pandas as pd\n",
        "\n",
        "from collections import Counter\n",
        "from collections import defaultdict\n",
        "\n",
        "import networkx as nx\n",
        "\n",
        "from sklearn.decomposition import PCA\n",
        "from sklearn.neighbors import KNeighborsClassifier\n",
        "\n",
        "from sklearn.metrics.pairwise import euclidean_distances\n",
        "from sklearn.metrics import confusion_matrix\n",
        "from sklearn.metrics import accuracy_score\n",
        "from sklearn.metrics import f1_score\n",
        "from sklearn.datasets import load_iris\n",
        "from sklearn.model_selection import train_test_split\n",
        "from sklearn.model_selection import GridSearchCV\n",
        "\n",
        "import seaborn as sns\n",
        "import matplotlib.pyplot as plt\n",
        "from IPython.core.display import display, HTML"
      ],
      "metadata": {
        "id": "YmC8FgEtwwV0"
      },
      "execution_count": 2,
      "outputs": []
    },
    {
      "cell_type": "code",
      "source": [
        "import warnings\n",
        "warnings.filterwarnings('ignore')"
      ],
      "metadata": {
        "id": "6spFjBusw2HM"
      },
      "execution_count": 3,
      "outputs": []
    },
    {
      "cell_type": "markdown",
      "source": [
        "##Dataset"
      ],
      "metadata": {
        "id": "Ec7WfUByx39O"
      }
    },
    {
      "cell_type": "code",
      "source": [
        "# Loading iris features and class labels\n",
        "X, y = load_iris(return_X_y=True)\n",
        "\n",
        "num_classes = len(set(y))\n",
        "print(f\"We have {y.size} labeled examples across the following {num_classes} classes:\\n{set(y)}\\n\")\n",
        "print(f\"First four feature rows:\\n{X[:4]}\")\n",
        "print(f\"\\nFirst four labels:\\n{y[:4]}\")"
      ],
      "metadata": {
        "colab": {
          "base_uri": "https://localhost:8080/"
        },
        "id": "-YFpuOqYx5PE",
        "outputId": "a7db999d-0a14-40bc-d561-312f158353bc"
      },
      "execution_count": 4,
      "outputs": [
        {
          "output_type": "stream",
          "name": "stdout",
          "text": [
            "We have 150 labeled examples across the following 3 classes:\n",
            "{0, 1, 2}\n",
            "\n",
            "First four feature rows:\n",
            "[[5.1 3.5 1.4 0.2]\n",
            " [4.9 3.  1.4 0.2]\n",
            " [4.7 3.2 1.3 0.2]\n",
            " [4.6 3.1 1.5 0.2]]\n",
            "\n",
            "First four labels:\n",
            "[0 0 0 0]\n"
          ]
        }
      ]
    },
    {
      "cell_type": "markdown",
      "source": [
        "All 150 flower measurements have been labeled as belonging to one of three flower species. \n",
        "\n",
        "Imagine that we only have the resources to label one-fourth of the flowers. We'd label the data then train a model to predict the classes of the remaining flowers. \n",
        "\n",
        "Lets simulate this scenario."
      ],
      "metadata": {
        "id": "7ST7VkAH0oHu"
      }
    },
    {
      "cell_type": "code",
      "source": [
        "# Creating a training set\n",
        "sampling_size = int(y.size / 4)\n",
        "\n",
        "x_train, y_train =X[:sampling_size], y[:sampling_size]\n",
        "print(f\"Training set labels:\\n{y_train}\")"
      ],
      "metadata": {
        "colab": {
          "base_uri": "https://localhost:8080/"
        },
        "id": "WUgJMKHk0cnj",
        "outputId": "c2aad2e2-12d9-4cf6-ba8c-084ac8e72035"
      },
      "execution_count": 5,
      "outputs": [
        {
          "output_type": "stream",
          "name": "stdout",
          "text": [
            "Training set labels:\n",
            "[0 0 0 0 0 0 0 0 0 0 0 0 0 0 0 0 0 0 0 0 0 0 0 0 0 0 0 0 0 0 0 0 0 0 0 0 0]\n"
          ]
        }
      ]
    },
    {
      "cell_type": "markdown",
      "source": [
        "Our training set contains just the labeled examples with _Species 0_. The remaining two flower species are not represented. \n",
        "\n",
        "In order to increase representation, we should sample at random from `X` and `y`."
      ],
      "metadata": {
        "id": "NUtquc9e1O2-"
      }
    },
    {
      "cell_type": "code",
      "source": [
        "# Creating a training set through random sampling\n",
        "np.random.seed(0)\n",
        "\n",
        "x_train, x_test, y_train, y_test = train_test_split(X, y, train_size=0.25)\n",
        "print(f\"Training set labels:\\n{y_train}\")"
      ],
      "metadata": {
        "colab": {
          "base_uri": "https://localhost:8080/"
        },
        "id": "7QwZjDjM1QFg",
        "outputId": "d6b298a3-669f-4fb9-868e-455423b65ea0"
      },
      "execution_count": 6,
      "outputs": [
        {
          "output_type": "stream",
          "name": "stdout",
          "text": [
            "Training set labels:\n",
            "[0 2 1 2 1 0 2 0 2 0 0 2 0 2 1 1 1 2 2 1 1 0 1 2 2 0 1 1 1 1 0 0 0 2 1 2 0]\n"
          ]
        }
      ]
    },
    {
      "cell_type": "markdown",
      "source": [
        "Since the features within the iris dataset can be plotted in multi-dimensional space. This plotted data forms spatial clusters. \n",
        "\n",
        "Hence, elements in `X_test` are more likely to share their class with the `X_train` points found in the adjacent cluster. "
      ],
      "metadata": {
        "id": "ihsHfail1ydM"
      }
    },
    {
      "cell_type": "code",
      "source": [
        "# Plotting the training and test sets\n",
        "pca_model = PCA()\n",
        "transformed_data_2D = pca_model.fit_transform(x_train)\n",
        "\n",
        "unlabeled_data = pca_model.transform(x_test)\n",
        "\n",
        "plt.scatter(unlabeled_data[:, 0], unlabeled_data[:, 1], color=\"khaki\", marker=\"^\", label=\"test\")\n",
        "for label in range(3):\n",
        "  data_subset = transformed_data_2D[y_train == label]\n",
        "  plt.scatter(data_subset[:, 0], data_subset[:, 1], color=[\"r\", \"k\", \"b\"][label], label=f\"train: {label}\")\n",
        "plt.legend()\n",
        "plt.show()"
      ],
      "metadata": {
        "colab": {
          "base_uri": "https://localhost:8080/",
          "height": 265
        },
        "id": "V9F5xSxb13kq",
        "outputId": "7573d638-1ecd-4756-e5fc-f5000fd70f68"
      },
      "execution_count": 7,
      "outputs": [
        {
          "output_type": "display_data",
          "data": {
            "text/plain": [
              "<Figure size 432x288 with 1 Axes>"
            ],
            "image/png": "[encoded data removed]"
          },
          "metadata": {
            "needs_background": "light"
          }
        }
      ]
    },
    {
      "cell_type": "markdown",
      "source": [
        "Many unlabeled points cluster around _Species 0_. These unlabeled flowers clearly belong to the same species. Elsewhere in the plot, certain unlabeled flowers are proximate to both _Species 1_ and _Species 2_. \n",
        "\n",
        "For each such point, we'll need to quantify which labeled species are closer. This will require us to track the Euclidean distance between each feature in `X_test` and each feature in `X_train`. "
      ],
      "metadata": {
        "id": "ikgZ5lux3L-i"
      }
    },
    {
      "cell_type": "code",
      "source": [
        "# Computing Euclidean distances between points\n",
        "distance_matrix = euclidean_distances(x_test, x_train)\n",
        "\n",
        "f_train, f_test = x_test[0], X[0]\n",
        "distance = distance_matrix[0][0]\n",
        "print(f\"Our first test set feature is {f_train}\")\n",
        "print(f\"Our first training set feature is {f_test}\")\n",
        "print(f\"The Euclidean distance between the features is {distance:.2f}\")"
      ],
      "metadata": {
        "id": "b70n7y6m3P71",
        "outputId": "12f9be86-8e8c-407b-da0e-781d1c6992ee",
        "colab": {
          "base_uri": "https://localhost:8080/"
        }
      },
      "execution_count": 9,
      "outputs": [
        {
          "output_type": "stream",
          "name": "stdout",
          "text": [
            "Our first test set feature is [5.8 2.8 5.1 2.4]\n",
            "Our first training set feature is [5.1 3.5 1.4 0.2]\n",
            "The Euclidean distance between the features is 4.18\n"
          ]
        }
      ]
    },
    {
      "cell_type": "markdown",
      "source": [
        "We can assume that each unlabeled point shares a class that is common to its neighbors. \n",
        "\n",
        "This strategy forms the basis for the **K-nearest Neighbors** algorithm, which is referred to as **KNN** for short. "
      ],
      "metadata": {
        "id": "PoV408Y0UfW9"
      }
    },
    {
      "cell_type": "code",
      "source": [
        "# Labeling a point based on its nearest neighbors\n",
        "np.random.seed(6)\n",
        "\n",
        "random_index = np.random.randint(y_test.size)\n",
        "labeled_distances = distance_matrix[random_index]\n",
        "# Sort all data points in the training set based on their distance and Select the top K-nearest neighbors(3) of the point\n",
        "labeled_neighbors = np.argsort(labeled_distances)[:3]\n",
        "labels = y_train[labeled_neighbors]\n",
        "\n",
        "# Pick the most frequently occurring class across the K neighboring points\n",
        "top_label, count = Counter(labels).most_common()[0]\n",
        "print(f\"The 3 nearest neighbors of Point {random_index} have the following labels:\\n{labels}\")\n",
        "print(f\"\\nThe most common class label is {top_label}. It occurs {count} times.\")"
      ],
      "metadata": {
        "id": "ojAnaBwgT7vW",
        "outputId": "be481c85-b369-4fba-ab79-1d99996264e8",
        "colab": {
          "base_uri": "https://localhost:8080/"
        }
      },
      "execution_count": 11,
      "outputs": [
        {
          "output_type": "stream",
          "name": "stdout",
          "text": [
            "The 3 nearest neighbors of Point 10 have the following labels:\n",
            "[2 1 2]\n",
            "\n",
            "The most common class label is 2. It occurs 2 times.\n"
          ]
        }
      ]
    },
    {
      "cell_type": "markdown",
      "source": [
        "The most common class label among the neighbors of _Point 10_ is _Label 2_. \n",
        "\n",
        "How does this compare to the actual class of the flower?"
      ],
      "metadata": {
        "id": "SFJP-pMeVyU9"
      }
    },
    {
      "cell_type": "code",
      "source": [
        "# Checking the true class of a predicted label\n",
        "true_label = y_test[random_index]\n",
        "print(f\"The true class of Point {random_index} is {true_label}.\")"
      ],
      "metadata": {
        "id": "liLycJu5VL0s",
        "outputId": "641882a8-87c8-4f1b-da10-d977efaf0e80",
        "colab": {
          "base_uri": "https://localhost:8080/"
        }
      },
      "execution_count": 12,
      "outputs": [
        {
          "output_type": "stream",
          "name": "stdout",
          "text": [
            "The true class of Point 10 is 2.\n"
          ]
        }
      ]
    },
    {
      "cell_type": "markdown",
      "source": [
        "We can reformulate KNN as a graph theory problem. We can treat each point as a node, and its label as a node attribute. \n",
        "\n",
        "Afterwards, we can choose an unlabeled point and extend edges to its K closest labeled neighbors. Visualizing the neighbor graph subsequently allows us to identify the point."
      ],
      "metadata": {
        "id": "gwyNkVkeWXlN"
      }
    },
    {
      "cell_type": "code",
      "source": [
        "# Visualizing nearest neighbors with NetworkX\n",
        "np.random.seed(0)\n",
        "\n",
        "def generate_neighbor_graph(unlabeled_index, labeled_neighbors):\n",
        "  G = nx.Graph()\n",
        "  nodes = [(i, {\"label\": y_train[i]}) for i in labeled_neighbors]\n",
        "  nodes.append((unlabeled_index, {\"label\": \"U\"}))\n",
        "  G.add_nodes_from(nodes)\n",
        "  G.add_edges_from([(i, unlabeled_index) for i in labeled_neighbors])\n",
        "  labels = y_train[labeled_neighbors]\n",
        "  label_colors = [\"pink\", \"khaki\", \"cyan\"]\n",
        "  colors = [label_colors[y_train[i]] for i in labeled_neighbors] + [\"k\"]\n",
        "  labels = {i: G.nodes[i][\"label\"] for i in G.nodes}\n",
        "  nx.draw(G, node_color=colors, labels=labels, with_labels=True)\n",
        "  plt.show()\n",
        "  return G\n",
        "\n",
        "G = generate_neighbor_graph(random_index, labeled_neighbors)"
      ],
      "metadata": {
        "id": "1iHqGmxGWZ06",
        "outputId": "fe9f1e49-eba7-4fee-dbe6-d9239d76462d",
        "colab": {
          "base_uri": "https://localhost:8080/",
          "height": 319
        }
      },
      "execution_count": 13,
      "outputs": [
        {
          "output_type": "display_data",
          "data": {
            "text/plain": [
              "<Figure size 432x288 with 1 Axes>"
            ],
            "image/png": "[encoded data removed]"
          },
          "metadata": {}
        }
      ]
    },
    {
      "cell_type": "markdown",
      "source": [
        "KNN works when there are just three neighbors. \n",
        "\n",
        "What happens if we increase the neighbor count to four?"
      ],
      "metadata": {
        "id": "fHPb0C0RZFhH"
      }
    },
    {
      "cell_type": "code",
      "source": [
        "# Increasing the number of nearest neighbors\n",
        "np.random.seed(0)\n",
        "\n",
        "labeled_neighbors = np.argsort(labeled_distances)[:4]\n",
        "G = generate_neighbor_graph(random_index, labeled_neighbors)"
      ],
      "metadata": {
        "id": "20qGoNO8ZGr_",
        "outputId": "8a0283da-37d3-4e59-fce9-4ef53638706e",
        "colab": {
          "base_uri": "https://localhost:8080/",
          "height": 319
        }
      },
      "execution_count": 14,
      "outputs": [
        {
          "output_type": "display_data",
          "data": {
            "text/plain": [
              "<Figure size 432x288 with 1 Axes>"
            ],
            "image/png": "[encoded data removed]"
          },
          "metadata": {}
        }
      ]
    },
    {
      "cell_type": "markdown",
      "source": [
        "There is a tie! \n",
        "\n",
        "We can break that tie by weighing label-votes based on the inverse distance to the unlabeled point."
      ],
      "metadata": {
        "id": "VN0dRFVnZf_V"
      }
    },
    {
      "cell_type": "code",
      "source": [
        "# Weighing votes of neighbors based on distance\n",
        "class_to_votes = defaultdict(int)\n",
        "\n",
        "for node in G.neighbors(random_index):\n",
        "  label = G.nodes[node][\"label\"]\n",
        "  distance = distance_matrix[random_index][node]\n",
        "  num_votes = 1 / distance\n",
        "  print(f\"A data point with a label of {label} is {distance:.2f} units away. It receives {num_votes:.2f} votes.\")\n",
        "  class_to_votes[label] += num_votes\n",
        "\n",
        "print()\n",
        "\n",
        "for class_label, votes in class_to_votes.items():\n",
        "  print(f\"We counted {votes:.2f} votes for class {class_label}.\")\n",
        "\n",
        "top_class = max(class_to_votes.items(), key=lambda x: x[1])[0]\n",
        "print(f\"Class {top_class} has received the plurality of the votes.\")"
      ],
      "metadata": {
        "id": "Fv0BHIubZgkT",
        "outputId": "ff55eaef-584c-4eb6-bccf-1f9f486d3fd8",
        "colab": {
          "base_uri": "https://localhost:8080/"
        }
      },
      "execution_count": 16,
      "outputs": [
        {
          "output_type": "stream",
          "name": "stdout",
          "text": [
            "A data point with a label of 2 is 0.54 units away. It receives 1.86 votes.\n",
            "A data point with a label of 1 is 0.74 units away. It receives 1.35 votes.\n",
            "A data point with a label of 2 is 0.77 units away. It receives 1.29 votes.\n",
            "A data point with a label of 1 is 0.98 units away. It receives 1.02 votes.\n",
            "\n",
            "We counted 3.15 votes for class 2.\n",
            "We counted 2.36 votes for class 1.\n",
            "Class 2 has received the plurality of the votes.\n"
          ]
        }
      ]
    },
    {
      "cell_type": "markdown",
      "source": [
        "Of course, this improvement\n",
        "is by no means guaranteed; occasionally, weighted voting can worsen the outputted\n",
        "results. \n",
        "\n",
        "Depending on the preset value of our K, weighted voting can either\n",
        "improve or worsen our predictions. \n",
        "\n",
        "We won’t know for sure until we test prediction\n",
        "performance across a range of parameters."
      ],
      "metadata": {
        "id": "YJKo8Gdubc3H"
      }
    },
    {
      "cell_type": "markdown",
      "source": [
        "##Measuring Predicted Label Accuracy"
      ],
      "metadata": {
        "id": "Hs6klaBpbJUR"
      }
    },
    {
      "cell_type": "markdown",
      "source": [],
      "metadata": {
        "id": "JEmY7bVYbKEY"
      }
    }
  ]
}