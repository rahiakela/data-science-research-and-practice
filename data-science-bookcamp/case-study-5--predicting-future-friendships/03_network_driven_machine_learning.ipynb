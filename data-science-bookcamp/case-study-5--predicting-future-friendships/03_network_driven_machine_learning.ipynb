{
  "nbformat": 4,
  "nbformat_minor": 0,
  "metadata": {
    "colab": {
      "provenance": [],
      "toc_visible": true,
      "authorship_tag": "ABX9TyNhu+EuMdm5FjIVBfDmfRsi",
      "include_colab_link": true
    },
    "kernelspec": {
      "name": "python3",
      "display_name": "Python 3"
    },
    "language_info": {
      "name": "python"
    }
  },
  "cells": [
    {
      "cell_type": "markdown",
      "metadata": {
        "id": "view-in-github",
        "colab_type": "text"
      },
      "source": [
        "<a href=\"https://colab.research.google.com/github/rahiakela/data-science-research-and-practice/blob/main/data-science-bookcamp/case-study-5--predicting-future-friendships/03_network_driven_machine_learning.ipynb\" target=\"_parent\"><img src=\"https://colab.research.google.com/assets/colab-badge.svg\" alt=\"Open In Colab\"/></a>"
      ]
    },
    {
      "cell_type": "markdown",
      "source": [
        "##Network-Driven Supervised Machine Learning"
      ],
      "metadata": {
        "id": "7m9jJDExv-EL"
      }
    },
    {
      "cell_type": "markdown",
      "source": [
        "We want to construct a model that maps inputted iris measurements to one of three species categories. \n",
        "\n",
        "In machine learning, these inputted measurements are called **features**. Meanwhile, the outputted categories are called **classes**. \n",
        "\n",
        "The goal of supervised learning is to construct a model that can identify classes based on features. Such a model is called a **classifier**."
      ],
      "metadata": {
        "id": "JWJOGP9Fv-yn"
      }
    },
    {
      "cell_type": "markdown",
      "source": [
        "##Setup"
      ],
      "metadata": {
        "id": "tAGSwWimwu6t"
      }
    },
    {
      "cell_type": "code",
      "source": [
        "!pip install networkx"
      ],
      "metadata": {
        "id": "LkDczcW_xyB9"
      },
      "execution_count": null,
      "outputs": []
    },
    {
      "cell_type": "code",
      "source": [
        "import re\n",
        "import glob\n",
        "import time\n",
        "import numpy as np\n",
        "import pandas as pd\n",
        "\n",
        "from collections import Counter\n",
        "from collections import defaultdict\n",
        "\n",
        "import networkx as nx\n",
        "\n",
        "from sklearn.decomposition import PCA\n",
        "from sklearn.neighbors import KNeighborsClassifier\n",
        "\n",
        "from sklearn.metrics.pairwise import euclidean_distances\n",
        "from sklearn.metrics import confusion_matrix\n",
        "from sklearn.metrics import accuracy_score\n",
        "from sklearn.metrics import f1_score\n",
        "from sklearn.datasets import load_iris\n",
        "from sklearn.model_selection import train_test_split\n",
        "from sklearn.model_selection import GridSearchCV\n",
        "\n",
        "import seaborn as sns\n",
        "import matplotlib.pyplot as plt\n",
        "from IPython.core.display import display, HTML"
      ],
      "metadata": {
        "id": "YmC8FgEtwwV0"
      },
      "execution_count": 2,
      "outputs": []
    },
    {
      "cell_type": "code",
      "source": [
        "import warnings\n",
        "warnings.filterwarnings('ignore')"
      ],
      "metadata": {
        "id": "6spFjBusw2HM"
      },
      "execution_count": 3,
      "outputs": []
    },
    {
      "cell_type": "markdown",
      "source": [
        "##Dataset"
      ],
      "metadata": {
        "id": "Ec7WfUByx39O"
      }
    },
    {
      "cell_type": "code",
      "source": [
        "# Loading iris features and class labels\n",
        "X, y = load_iris(return_X_y=True)\n",
        "\n",
        "num_classes = len(set(y))\n",
        "print(f\"We have {y.size} labeled examples across the following {num_classes} classes:\\n{set(y)}\\n\")\n",
        "print(f\"First four feature rows:\\n{X[:4]}\")\n",
        "print(f\"\\nFirst four labels:\\n{y[:4]}\")"
      ],
      "metadata": {
        "colab": {
          "base_uri": "https://localhost:8080/"
        },
        "id": "-YFpuOqYx5PE",
        "outputId": "67b247b2-6aeb-4232-a797-2c68c1d05008"
      },
      "execution_count": 5,
      "outputs": [
        {
          "output_type": "stream",
          "name": "stdout",
          "text": [
            "We have 150 labeled examples across the following 3 classes:\n",
            "{0, 1, 2}\n",
            "\n",
            "First four feature rows:\n",
            "[[5.1 3.5 1.4 0.2]\n",
            " [4.9 3.  1.4 0.2]\n",
            " [4.7 3.2 1.3 0.2]\n",
            " [4.6 3.1 1.5 0.2]]\n",
            "\n",
            "First four labels:\n",
            "[0 0 0 0]\n"
          ]
        }
      ]
    },
    {
      "cell_type": "markdown",
      "source": [
        "All 150 flower measurements have been labeled as belonging to one of three flower species. \n",
        "\n",
        "Imagine that we only have the resources to label one-fourth of the flowers. We'd label the data then train a model to predict the classes of the remaining flowers. \n",
        "\n",
        "Lets simulate this scenario."
      ],
      "metadata": {
        "id": "7ST7VkAH0oHu"
      }
    },
    {
      "cell_type": "code",
      "source": [
        "# Creating a training set\n",
        "sampling_size = int(y.size / 4)\n",
        "\n",
        "x_train, y_train =X[:sampling_size], y[:sampling_size]\n",
        "print(f\"Training set labels:\\n{y_train}\")"
      ],
      "metadata": {
        "colab": {
          "base_uri": "https://localhost:8080/"
        },
        "id": "WUgJMKHk0cnj",
        "outputId": "b15671e8-5476-4cb9-e20a-699fbcb63268"
      },
      "execution_count": 7,
      "outputs": [
        {
          "output_type": "stream",
          "name": "stdout",
          "text": [
            "Training set labels:\n",
            "[0 0 0 0 0 0 0 0 0 0 0 0 0 0 0 0 0 0 0 0 0 0 0 0 0 0 0 0 0 0 0 0 0 0 0 0 0]\n"
          ]
        }
      ]
    },
    {
      "cell_type": "markdown",
      "source": [
        "Our training set contains just the labeled examples with _Species 0_. The remaining two flower species are not represented. \n",
        "\n",
        "In order to increase representation, we should sample at random from `X` and `y`."
      ],
      "metadata": {
        "id": "NUtquc9e1O2-"
      }
    },
    {
      "cell_type": "code",
      "source": [
        "# Creating a training set through random sampling\n",
        "np.random.seed(0)\n",
        "\n",
        "x_train, x_test, y_train, y_test = train_test_split(X, y, train_size=0.25)\n",
        "print(f\"Training set labels:\\n{y_train}\")"
      ],
      "metadata": {
        "colab": {
          "base_uri": "https://localhost:8080/"
        },
        "id": "7QwZjDjM1QFg",
        "outputId": "774c359d-8600-4946-a1ab-96ae0eb7b8a1"
      },
      "execution_count": 8,
      "outputs": [
        {
          "output_type": "stream",
          "name": "stdout",
          "text": [
            "Training set labels:\n",
            "[0 2 1 2 1 0 2 0 2 0 0 2 0 2 1 1 1 2 2 1 1 0 1 2 2 0 1 1 1 1 0 0 0 2 1 2 0]\n"
          ]
        }
      ]
    },
    {
      "cell_type": "markdown",
      "source": [
        "Since the features within the iris dataset can be plotted in multi-dimensional space. This plotted data forms spatial clusters. \n",
        "\n",
        "Hence, elements in `X_test` are more likely to share their class with the `X_train` points found in the adjacent cluster. "
      ],
      "metadata": {
        "id": "ihsHfail1ydM"
      }
    },
    {
      "cell_type": "code",
      "source": [
        "# Plotting the training and test sets\n",
        "pca_model = PCA()\n",
        "transformed_data_2D = pca_model.fit_transform(x_train)\n",
        "\n",
        "unlabeled_data = pca_model.transform(x_test)\n",
        "\n",
        "plt.scatter(unlabeled_data[:, 0], unlabeled_data[:, 1], color=\"khaki\", marker=\"^\", label=\"test\")\n",
        "for label in range(3):\n",
        "  data_subset = transformed_data_2D[y_train == label]\n",
        "  plt.scatter(data_subset[:, 0], data_subset[:, 1], color=[\"r\", \"k\", \"b\"][label], label=f\"train: {label}\")\n",
        "plt.legend()\n",
        "plt.show()"
      ],
      "metadata": {
        "colab": {
          "base_uri": "https://localhost:8080/",
          "height": 265
        },
        "id": "V9F5xSxb13kq",
        "outputId": "2f9343d2-bdbc-449b-e3d2-2379cae4bfac"
      },
      "execution_count": 9,
      "outputs": [
        {
          "output_type": "display_data",
          "data": {
            "text/plain": [
              "<Figure size 432x288 with 1 Axes>"
            ],
            "image/png": "[encoded data removed]"
          },
          "metadata": {
            "needs_background": "light"
          }
        }
      ]
    },
    {
      "cell_type": "markdown",
      "source": [
        "Many unlabeled points cluster around _Species 0_. These unlabeled flowers clearly belong to the same species. Elsewhere in the plot, certain unlabeled flowers are proximate to both _Species 1_ and _Species 2_. \n",
        "\n",
        "For each such point, we'll need to quantify which labeled species are closer. This will require us to track the Euclidean distance between each feature in `X_test` and each feature in `X_train`. "
      ],
      "metadata": {
        "id": "ikgZ5lux3L-i"
      }
    },
    {
      "cell_type": "code",
      "source": [
        "# Computing Euclidean distances between points\n"
      ],
      "metadata": {
        "id": "b70n7y6m3P71"
      },
      "execution_count": null,
      "outputs": []
    }
  ]
}