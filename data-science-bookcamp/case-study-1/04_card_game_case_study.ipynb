{
  "nbformat": 4,
  "nbformat_minor": 0,
  "metadata": {
    "colab": {
      "name": "04-card-game-case-study.ipynb",
      "provenance": [],
      "toc_visible": true,
      "authorship_tag": "ABX9TyNfQGsHCJFp2QzjtqHFrtdT",
      "include_colab_link": true
    },
    "kernelspec": {
      "name": "python3",
      "display_name": "Python 3"
    },
    "language_info": {
      "name": "python"
    }
  },
  "cells": [
    {
      "cell_type": "markdown",
      "metadata": {
        "id": "view-in-github",
        "colab_type": "text"
      },
      "source": [
        "<a href=\"https://colab.research.google.com/github/rahiakela/data-science-research-and-practice/blob/main/data-science-bookcamp/case-study-1/04_card_game_case_study.ipynb\" target=\"_parent\"><img src=\"https://colab.research.google.com/assets/colab-badge.svg\" alt=\"Open In Colab\"/></a>"
      ]
    },
    {
      "cell_type": "markdown",
      "source": [
        "##Card game: case study"
      ],
      "metadata": {
        "id": "A1_NH5wWDcnz"
      }
    },
    {
      "cell_type": "markdown",
      "source": [
        "Our aim is to play a card game in which the cards are iteratively flipped until we tell\n",
        "the dealer to stop. Then one additional card is flipped. If that card is red, we win a\n",
        "dollar; otherwise, we lose a dollar.\n",
        "\n",
        "Our goal is to discover a strategy that best predicts\n",
        "a red card in the deck.\n",
        "\n",
        "We will do so by\n",
        "\n",
        "1. Developing multiple strategies for predicting red cards in a randomly shuffled deck.\n",
        "2. Applying each strategy across multiple simulations to compute its probability of success within a high confidence interval.\n",
        "3. Returning the simplest strategy associated with the highest probability of\n",
        "success.\n",
        "\n"
      ],
      "metadata": {
        "id": "N2Qq-hrwDzfx"
      }
    },
    {
      "cell_type": "markdown",
      "source": [
        "##Setup"
      ],
      "metadata": {
        "id": "MT9MEfIeETky"
      }
    },
    {
      "cell_type": "code",
      "source": [
        "!wget https://github.com/rahiakela/data-science-research-and-practice/raw/main/data-science-bookcamp/case-study-1/probabilities.py"
      ],
      "metadata": {
        "id": "jP-tI_PlHuQX"
      },
      "execution_count": null,
      "outputs": []
    },
    {
      "cell_type": "code",
      "source": [
        "import numpy as np\n",
        "import matplotlib.pyplot as plt\n",
        "from collections import defaultdict\n",
        "import itertools\n",
        "\n",
        "from probabilities import *"
      ],
      "metadata": {
        "id": "7dusTJt_EUqM"
      },
      "execution_count": null,
      "outputs": []
    },
    {
      "cell_type": "markdown",
      "source": [
        "##Predicting red cards in a shuffled deck"
      ],
      "metadata": {
        "id": "wAb8ejFhEY4a"
      }
    },
    {
      "cell_type": "markdown",
      "source": [
        "We start by creating a deck holding 26 red cards and 26 black cards."
      ],
      "metadata": {
        "id": "WnW-VEOJEa8H"
      }
    },
    {
      "cell_type": "code",
      "source": [
        "# Modeling a 52-card deck\n",
        "red_cards = 26 * [1]\n",
        "black_cards = 26 * [0]\n",
        "\n",
        "unshuffled_deck = red_cards + black_cards"
      ],
      "metadata": {
        "id": "Q58OYSsAEtQa"
      },
      "execution_count": null,
      "outputs": []
    },
    {
      "cell_type": "code",
      "source": [
        "# Shuffling a 52-card deck\n",
        "np.random.seed(0)\n",
        "\n",
        "shuffled_deck = np.random.permutation(unshuffled_deck)"
      ],
      "metadata": {
        "id": "bMdZyyfLGGCM"
      },
      "execution_count": null,
      "outputs": []
    },
    {
      "cell_type": "markdown",
      "source": [
        "How do we decide when we should stop?\n",
        "\n",
        "One simple strategy is to terminate the\n",
        "game when the number of red cards remaining in the deck is greater than the number\n",
        "of black cards remaining in the deck. \n",
        "\n",
        "Let’s execute that strategy on the shuffled deck."
      ],
      "metadata": {
        "id": "H43PjQ_sGlQQ"
      }
    },
    {
      "cell_type": "code",
      "source": [
        "# Coding a card game strategy\n",
        "remaining_red_cards = 26\n",
        "\n",
        "for i, card in enumerate(shuffled_deck[:-1]):\n",
        "  remaining_red_cards -= card\n",
        "  # Subtracts the total cards seen thus far from 52. This total equals i + 1, since i is initially set to zero\n",
        "  remaining_total_cards = 52 - i - 1\n",
        "  if remaining_red_cards / remaining_total_cards > 0.5:\n",
        "    break\n",
        "\n",
        "print(f\"Stopping the game at index {i}.\")\n",
        "final_card = shuffled_deck[i + 1]\n",
        "color = \"red\" if final_card else 0\n",
        "print(f\"The next card in the deck is {'red' if final_card else 'black'}.\")\n",
        "print(f\"We have {'won' if final_card else 'lost'}!\")"
      ],
      "metadata": {
        "id": "-NwcwZjRGv3E",
        "colab": {
          "base_uri": "https://localhost:8080/"
        },
        "outputId": "ebdd27a1-ef3c-4082-8995-ef2e64c9c4df"
      },
      "execution_count": null,
      "outputs": [
        {
          "output_type": "stream",
          "name": "stdout",
          "text": [
            "Stopping the game at index 38.\n",
            "The next card in the deck is red.\n",
            "We have won!\n"
          ]
        }
      ]
    },
    {
      "cell_type": "markdown",
      "source": [
        "Our strategy halts when the fraction of\n",
        "remaining red cards is greater than half of the remaining total cards. \n",
        "\n",
        "We can generalize\n",
        "that fraction to equal a `min_red_fraction` parameter, thus halting when the red card ratio is greater than the inputted parameter value."
      ],
      "metadata": {
        "id": "7iGi09jOYAYF"
      }
    },
    {
      "cell_type": "code",
      "source": [
        "# Generalizing the card game strategy\n",
        "np.random.seed(0)\n",
        "\n",
        "total_cards = 52\n",
        "total_red_cards = 26\n",
        "\n",
        "def execute_strategy(min_fraction_red=0.5, shuffled_deck=None, return_index=False):\n",
        "  if shuffled_deck is None:\n",
        "    # Shuffles the unshuffled deck\n",
        "    shuffled_deck = np.random.permutation(unshuffled_deck)\n",
        "  \n",
        "  remaining_red_cards = total_red_cards\n",
        "\n",
        "  for i, card in enumerate(shuffled_deck[:-1]):\n",
        "    remaining_red_cards -= card\n",
        "    # Subtracts the total cards seen thus far from 52. This total equals i + 1, since i is initially set to zero\n",
        "    fraction_red_cards = remaining_red_cards / (total_cards - i - 1)\n",
        "    if fraction_red_cards > min_fraction_red:\n",
        "      break\n",
        "  # Optionally returns the card index along with the final card\n",
        "  return (i + 1, shuffled_deck[i + 1]) if return_index else shuffled_deck[i + 1]"
      ],
      "metadata": {
        "id": "eHi7xtyLHF0z"
      },
      "execution_count": 8,
      "outputs": []
    },
    {
      "cell_type": "markdown",
      "source": [
        "###Estimating the probability of strategy success"
      ],
      "metadata": {
        "id": "-wCIOPgfH0CL"
      }
    },
    {
      "cell_type": "markdown",
      "source": [
        "Let’s apply our basic strategy to a series of 1,000 random shuffles."
      ],
      "metadata": {
        "id": "98Z9I8puZvox"
      }
    },
    {
      "cell_type": "code",
      "source": [
        ""
      ],
      "metadata": {
        "id": "PATwvNrhH85d"
      },
      "execution_count": 8,
      "outputs": []
    },
    {
      "cell_type": "markdown",
      "source": [
        ""
      ],
      "metadata": {
        "id": "zM7NB3UFZu1L"
      }
    },
    {
      "cell_type": "markdown",
      "source": [
        "The probability of heads slowly converges to 0.5. Thus, the law of large numbers appears to hold up."
      ],
      "metadata": {
        "id": "zaJC2ZZuIzSM"
      }
    },
    {
      "cell_type": "markdown",
      "source": [
        "###Analyzing biased coin flips"
      ],
      "metadata": {
        "id": "4ey-WoVwI0o4"
      }
    },
    {
      "cell_type": "markdown",
      "source": [
        "We’ve simulated a sequence of unbiased coin flips, but what if we wish to simulate a coin that falls on heads 70% of the time? \n",
        "\n",
        "Well, we can generate that biased output by\n",
        "calling `np.random.binomial(1, 0.7)`.\n",
        "\n",
        "The binomial method name refers to the generic\n",
        "coin-flip distribution, which mathematicians call the binomial distribution. The method\n",
        "takes as input two parameters: the number of coin flips and the probability of the\n",
        "desired coin-flip outcome."
      ],
      "metadata": {
        "id": "Fl33b1ZnI5Xp"
      }
    },
    {
      "cell_type": "code",
      "source": [
        "# Simulating biased coin flips\n",
        "np.random.seed(0)\n",
        "\n",
        "print(\"Let's flip the biased coin once.\")\n",
        "coin_flip = np.random.binomial(1, 0.7)\n",
        "print(f\"Biased coin landed on {'heads' if coin_flips == 1 else 'tails'}\")\n",
        "\n",
        "print(\"\\nLet's flip the biased coin 10 times.\")\n",
        "number_coin_flips = 10\n",
        "head_count = np.random.binomial(number_coin_flips, 0.7)\n",
        "print(f\"{head_count} heads were observed out of {number_coin_flips} biased coin flips\")"
      ],
      "metadata": {
        "id": "b7bcYmZGF6RT",
        "outputId": "cbd8f44a-42e7-4024-f195-9176ec12f3de",
        "colab": {
          "base_uri": "https://localhost:8080/"
        }
      },
      "execution_count": null,
      "outputs": [
        {
          "output_type": "stream",
          "name": "stdout",
          "text": [
            "Let's flip the biased coin once.\n",
            "Biased coin landed on tails\n",
            "\n",
            "Let's flip the biased coin 10 times.\n",
            "6 heads were observed out of 10 biased coin flips\n"
          ]
        }
      ]
    },
    {
      "cell_type": "markdown",
      "source": [
        "Let’s generate a sequence of 1,000 biased coin flips. We then check if the frequency\n",
        "converges to 0.7."
      ],
      "metadata": {
        "id": "ujzZgOMxHE28"
      }
    },
    {
      "cell_type": "code",
      "source": [
        "np.random.seed(0)\n",
        "\n",
        "# Computing coin-flip-frequency convergence\n",
        "head_count = np.random.binomial(1000, 0.7)\n",
        "frequency = head_count / 1000\n",
        "print(f\"Frequency of Heads is {frequency}\")"
      ],
      "metadata": {
        "id": "oNXyWjfdHFdy",
        "outputId": "fcdc8d92-f63b-4cc5-d7a7-d37fa9dd8d91",
        "colab": {
          "base_uri": "https://localhost:8080/"
        }
      },
      "execution_count": null,
      "outputs": [
        {
          "output_type": "stream",
          "name": "stdout",
          "text": [
            "Frequency of Heads is 0.697\n"
          ]
        }
      ]
    },
    {
      "cell_type": "markdown",
      "source": [
        "The frequency of heads approximates 0.7 but is not actually equal to 0.7. In fact, the\n",
        "frequency value is 0.003 units smaller than the true probability of heads.\n",
        "\n",
        "Will all the frequencies\n",
        "be lower than 0.7? \n",
        "\n",
        "Will certain frequencies hit the exact value of 0.7? \n",
        "\n",
        "We’ll find out by\n",
        "executing `np.random.binomial(1000, 0.7)` over five looped iterations."
      ],
      "metadata": {
        "id": "OjyB8OiIHdpf"
      }
    },
    {
      "cell_type": "code",
      "source": [
        "np.random.seed(0)\n",
        "\n",
        "# Recomputing coin-flip-frequency convergence\n",
        "assert np.random.binomial(1000, 0.7) / 1000 == 0.697\n",
        "\n",
        "for i in range(1, 6):\n",
        "  head_count = np.random.binomial(1000, 0.7)\n",
        "  frequency = head_count / 1000\n",
        "  print(f\"Frequency at iteration {i} is {frequency}\")\n",
        "  if frequency == 0.7:\n",
        "    print(\"Frequency equals the probability!\\n\")"
      ],
      "metadata": {
        "id": "xPOmfz1MHlxZ",
        "outputId": "34f1430c-b9e7-46ee-fdc1-8fd855fc2a83",
        "colab": {
          "base_uri": "https://localhost:8080/"
        }
      },
      "execution_count": null,
      "outputs": [
        {
          "output_type": "stream",
          "name": "stdout",
          "text": [
            "Frequency at iteration 1 is 0.69\n",
            "Frequency at iteration 2 is 0.7\n",
            "Frequency equals the probability!\n",
            "\n",
            "Frequency at iteration 3 is 0.707\n",
            "Frequency at iteration 4 is 0.702\n",
            "Frequency at iteration 5 is 0.699\n"
          ]
        }
      ]
    },
    {
      "cell_type": "markdown",
      "source": [
        "The observed frequency appears to fluctuate over every sampling of 1,000 coin\n",
        "flips. \n",
        "\n",
        "It seems that **even though the law of large numbers allows us to approximate the actual probability, some uncertainty still remains**. \n",
        "\n",
        "Data science is somewhat messy, and\n",
        "we cannot always be certain of the conclusions we draw from our data.\n",
        "\n",
        "Nevertheless, our uncertainty can be measured and contained using what mathematicians call a confidence\n",
        "interval."
      ],
      "metadata": {
        "id": "bhduWeNRIQvi"
      }
    },
    {
      "cell_type": "markdown",
      "source": [
        "##Computing confidence intervals"
      ],
      "metadata": {
        "id": "hcXc2mpEIeHN"
      }
    },
    {
      "cell_type": "markdown",
      "source": [
        "Suppose we’re handed a biased coin whose bias we don’t know. We flip the coin 1,000 times and observe a frequency of 0.709. \n",
        "\n",
        "We know the frequency approximates the\n",
        "actual probability, but by how much?\n",
        "\n",
        "More precisely, what are the chances of the\n",
        "actual probability falling within an interval close to 0.709 (such as an interval between\n",
        "0.7 and 0.71)? \n",
        "\n",
        "To find out, we must do additional sampling.\n",
        "\n",
        "The sampling produced some fluctuations in the frequency. \n",
        "\n",
        "Let’s explore these fluctuations\n",
        "by increasing our frequency count from 5 to 500."
      ],
      "metadata": {
        "id": "AYhh9KcnIhGj"
      }
    },
    {
      "cell_type": "code",
      "source": [
        "np.random.seed(0)\n",
        "\n",
        "# Computing frequencies with 500 flips per sample\n",
        "head_count_list = [np.random.binomial(1000, 0.7) for _ in range(500)]"
      ],
      "metadata": {
        "id": "SanOwE4dZzbA"
      },
      "execution_count": null,
      "outputs": []
    },
    {
      "cell_type": "code",
      "source": [
        "np.random.seed(0)\n",
        "\n",
        "# Optimizing the coin-flip-frequency computation\n",
        "head_count_array = np.random.binomial(1000, 0.7, size=500)"
      ],
      "metadata": {
        "id": "_iGTnIgwaHwl"
      },
      "execution_count": null,
      "outputs": []
    },
    {
      "cell_type": "markdown",
      "source": [
        "The output is not a Python list but a NumPy array data structure."
      ],
      "metadata": {
        "id": "NXPX_9PsaUO3"
      }
    },
    {
      "cell_type": "code",
      "source": [
        "# Converting a NumPy array to a Python list\n",
        "assert head_count_array.tolist() == head_count_list"
      ],
      "metadata": {
        "id": "B-CICJ7jaUoN"
      },
      "execution_count": null,
      "outputs": []
    },
    {
      "cell_type": "code",
      "source": [
        "# Converting a Python list to a NumPy array\n",
        "new_array = np.array(head_count_list)\n",
        "\n",
        "assert np.array_equal(new_array, head_count_array) == True"
      ],
      "metadata": {
        "id": "4768kvlga3r2"
      },
      "execution_count": null,
      "outputs": []
    },
    {
      "cell_type": "code",
      "source": [
        "# Computing frequencies using NumPy\n",
        "frequency_array = head_count_array / 1000\n",
        "\n",
        "assert frequency_array.tolist() == [head_count / 1000 for head_count in head_count_list]\n",
        "assert frequency_array.tolist() == list(map(lambda x: x / 1000, head_count_list))"
      ],
      "metadata": {
        "id": "YBHKON45cFDw"
      },
      "execution_count": null,
      "outputs": []
    },
    {
      "cell_type": "markdown",
      "source": [
        "We’ve converted our head-count array into a frequency array using a simple division\n",
        "operation. \n",
        "\n",
        "Let’s explore the contents of frequency_array in greater detail.\n",
        "\n"
      ],
      "metadata": {
        "id": "6f_SYyugcnjx"
      }
    },
    {
      "cell_type": "code",
      "source": [
        "# Printing a NumPy frequency array\n",
        "print(frequency_array[:20])"
      ],
      "metadata": {
        "id": "qR2PbkUJcs1k",
        "outputId": "8c68bed3-1535-429f-b5ee-c1d31b3a7015",
        "colab": {
          "base_uri": "https://localhost:8080/"
        }
      },
      "execution_count": null,
      "outputs": [
        {
          "output_type": "stream",
          "name": "stdout",
          "text": [
            "[0.697 0.69  0.7   0.707 0.702 0.699 0.723 0.67  0.702 0.713 0.721 0.689\n",
            " 0.711 0.697 0.717 0.691 0.731 0.697 0.722 0.728]\n"
          ]
        }
      ]
    },
    {
      "cell_type": "markdown",
      "source": [
        "The sampled frequencies fluctuate from 0.69 to approximately 0.731.\n",
        "\n",
        "Let’s extract the minimum and maximum array values."
      ],
      "metadata": {
        "id": "DkVLKKVjc2W3"
      }
    },
    {
      "cell_type": "code",
      "source": [
        "# Finding the largest and smallest frequency values\n",
        "min_freq = frequency_array.min()\n",
        "max_freq = frequency_array.max()\n",
        "\n",
        "print(f\"Minimum frequency observed: {min_freq}\")\n",
        "print(f\"Maximum frequency observed: {max_freq}\")\n",
        "print(f\"Difference across frequency range: {max_freq - min_freq}\")"
      ],
      "metadata": {
        "id": "g_iZd868c7gf",
        "outputId": "6f29c1c4-ccd2-4987-b4f1-7c7f0c94af51",
        "colab": {
          "base_uri": "https://localhost:8080/"
        }
      },
      "execution_count": null,
      "outputs": [
        {
          "output_type": "stream",
          "name": "stdout",
          "text": [
            "Minimum frequency observed: 0.656\n",
            "Maximum frequency observed: 0.733\n",
            "Difference across frequency range: 0.07699999999999996\n"
          ]
        }
      ]
    },
    {
      "cell_type": "markdown",
      "source": [
        "Somewhere in the frequency range of 0.656 to 0.733 lies the true probability of heads.\n",
        "That interval span is noticeably large, with a more than 7% difference between the\n",
        "largest and smallest sampled values.\n",
        "\n",
        "Perhaps we can narrow the frequency range by\n",
        "plotting all unique frequencies against their occurrence counts."
      ],
      "metadata": {
        "id": "mZAdmEc2dZhC"
      }
    },
    {
      "cell_type": "code",
      "source": [
        "# Plotting measured frequencies\n",
        "frequency_counts = defaultdict(int)\n",
        "for frequency in frequency_array:\n",
        "  frequency_counts[frequency] += 1\n",
        "\n",
        "frequencies = list(frequency_counts.keys())\n",
        "counts = [frequency_counts[freq] for freq in frequencies]\n",
        "\n",
        "plt.scatter(frequencies, counts)\n",
        "plt.xlabel(\"Frequency\")\n",
        "plt.ylabel(\"Count\")\n",
        "plt.show()"
      ],
      "metadata": {
        "id": "LSwKITwkddM8",
        "outputId": "c49019e6-015f-4fa9-f0dc-a7d58822edfa",
        "colab": {
          "base_uri": "https://localhost:8080/",
          "height": 279
        }
      },
      "execution_count": null,
      "outputs": [
        {
          "output_type": "display_data",
          "data": {
            "text/plain": [
              "<Figure size 432x288 with 1 Axes>"
            ],
            "image/png": "[encoded data removed]"
          },
          "metadata": {
            "needs_background": "light"
          }
        }
      ]
    },
    {
      "cell_type": "markdown",
      "source": [
        "The visualization is informative: frequencies close to 0.7 occur more commonly than other, more distant values.\n",
        "\n",
        "However, our plot is also flawed, since nearly identical frequencies\n",
        "appear as overlapping dots in the chart. \n",
        "\n",
        "We should group these proximate\n",
        "frequencies together instead of treating them as individual points."
      ],
      "metadata": {
        "id": "UgsbU1YzeQ6P"
      }
    },
    {
      "cell_type": "markdown",
      "source": [
        "###Binning similar points"
      ],
      "metadata": {
        "id": "cdrAblvmejXQ"
      }
    },
    {
      "cell_type": "markdown",
      "source": [
        "Let’s try a more nuanced visualization by binning together frequencies that are in\n",
        "close proximity to each other. We subdivide our frequency range into N equally\n",
        "spaced bins and then place all frequency values into one of those bins.\n",
        "\n",
        "The bin-based plot we just described is called a `histogram`."
      ],
      "metadata": {
        "id": "FsXLxP6deswv"
      }
    },
    {
      "cell_type": "code",
      "source": [
        "# Plotting a frequency histogram\n",
        "plt.hist(frequency_array, bins=\"auto\", edgecolor=\"black\")\n",
        "plt.xlabel(\"Binned Frequency\")\n",
        "plt.ylabel(\"Count\")\n",
        "plt.show()"
      ],
      "metadata": {
        "id": "YdtQSWW4c5z9",
        "outputId": "8063eeae-dde4-4a4c-f74c-0e7110cdfc0e",
        "colab": {
          "base_uri": "https://localhost:8080/"
        }
      },
      "execution_count": null,
      "outputs": [
        {
          "output_type": "display_data",
          "data": {
            "text/plain": [
              "<Figure size 432x288 with 1 Axes>"
            ],
            "image/png": "[encoded data removed]"
          },
          "metadata": {
            "needs_background": "light"
          }
        }
      ]
    },
    {
      "cell_type": "markdown",
      "source": [
        "We can obtain a more precise bin count using counts, which is a NumPy array returned by `plt.hist`."
      ],
      "metadata": {
        "id": "GdJM-9Bxktvy"
      }
    },
    {
      "cell_type": "code",
      "source": [
        "# Counting bins in a plotted histogram\n",
        "counts, _, _ = plt.hist(frequency_array, bins=\"auto\", edgecolor=\"black\")\n",
        "print(f\"Number of Bins: {counts.size}\")"
      ],
      "metadata": {
        "id": "B-5O7XYRkwM_",
        "outputId": "d3f694a8-0fef-4b14-c5d8-d08dd6dc1fb6",
        "colab": {
          "base_uri": "https://localhost:8080/"
        }
      },
      "execution_count": null,
      "outputs": [
        {
          "output_type": "stream",
          "name": "stdout",
          "text": [
            "Number of Bins: 16\n"
          ]
        },
        {
          "output_type": "display_data",
          "data": {
            "text/plain": [
              "<Figure size 432x288 with 1 Axes>"
            ],
            "image/png": "[encoded data removed]"
          },
          "metadata": {
            "needs_background": "light"
          }
        }
      ]
    },
    {
      "cell_type": "markdown",
      "source": [
        "There are 16 bins in the histogram. \n",
        "\n",
        "How wide is each bin?\n",
        "\n",
        "We can find out by dividing\n",
        "the total frequency range by 16."
      ],
      "metadata": {
        "id": "x9OpCm-BlQJ3"
      }
    },
    {
      "cell_type": "code",
      "source": [
        "bin_width = len(frequency_counts.values()) / 16\n",
        "print(f\"Bin width: {bin_width}\")"
      ],
      "metadata": {
        "id": "P9MTvVQDlnWk",
        "outputId": "173b03ad-ec9e-4034-b80f-fcc98a1cb137",
        "colab": {
          "base_uri": "https://localhost:8080/"
        }
      },
      "execution_count": null,
      "outputs": [
        {
          "output_type": "stream",
          "name": "stdout",
          "text": [
            "Bin width: 4.3125\n"
          ]
        }
      ]
    },
    {
      "cell_type": "markdown",
      "source": [
        "Alternatively, we can use the bin_edges array, which is\n",
        "the second variable returned by plt.hist. This array holds the x-axis positions of the\n",
        "vertical bin edges in the plot. \n",
        "\n",
        "Thus, the difference between any two consecutive edge\n",
        "positions equals the bin width."
      ],
      "metadata": {
        "id": "eDVchG1ImWZ5"
      }
    },
    {
      "cell_type": "code",
      "source": [
        "# Finding the width of bins in a histogram\n",
        "counts, bin_edges, _ = plt.hist(frequency_array, bins=\"auto\", edgecolor=\"black\")\n",
        "\n",
        "bin_width = bin_edges[1] - bin_edges[0]\n",
        "assert bin_width == (max_freq - min_freq) / counts.size\n",
        "print(f\"Bin width: {bin_width}\")"
      ],
      "metadata": {
        "id": "paObOqS_mXl9",
        "outputId": "97b51453-ffe7-4385-b576-98151d9d49dc",
        "colab": {
          "base_uri": "https://localhost:8080/"
        }
      },
      "execution_count": null,
      "outputs": [
        {
          "output_type": "stream",
          "name": "stdout",
          "text": [
            "Bin width: 0.004812499999999997\n"
          ]
        },
        {
          "output_type": "display_data",
          "data": {
            "text/plain": [
              "<Figure size 432x288 with 1 Axes>"
            ],
            "image/png": "[encoded data removed]"
          },
          "metadata": {
            "needs_background": "light"
          }
        }
      ]
    },
    {
      "cell_type": "markdown",
      "source": [
        "The bin_edges array can be used in tandem with counts to output the element count\n",
        "and coverage range for any specified bin.\n",
        "\n"
      ],
      "metadata": {
        "id": "_EGqT8XynKHo"
      }
    },
    {
      "cell_type": "code",
      "source": [
        "# Getting a bin’s frequency and size\n",
        "def output_bin_coverage(i):\n",
        "  # A bin at position i contains counts[i] frequencies\n",
        "  count = int(counts[i])  \n",
        "  # A bin at position i covers a frequency range of bin_edges[i] through bin_edges[i+1]\n",
        "  range_start, range_end = bin_edges[i], bin_edges[i + 1]\n",
        "  range_string = f\"{range_start} - {range_end}\"\n",
        "  print(f\"The bin for frequency range {range_string} contains {count} element{'' if count == 1 else 's'}\")"
      ],
      "metadata": {
        "id": "ZgMDsvFynWWS"
      },
      "execution_count": null,
      "outputs": []
    },
    {
      "cell_type": "code",
      "source": [
        "output_bin_coverage(0)"
      ],
      "metadata": {
        "id": "c4PTJExwoQoU",
        "outputId": "12f1b926-a26d-4226-c1b7-1fe1f734bcfc",
        "colab": {
          "base_uri": "https://localhost:8080/"
        }
      },
      "execution_count": null,
      "outputs": [
        {
          "output_type": "stream",
          "name": "stdout",
          "text": [
            "The bin for frequency range 0.656 - 0.6608125 contains 1 element\n"
          ]
        }
      ]
    },
    {
      "cell_type": "code",
      "source": [
        "output_bin_coverage(5)"
      ],
      "metadata": {
        "id": "6F2nl1nSoUqi",
        "outputId": "811a131d-891d-40c5-af16-03a56265d678",
        "colab": {
          "base_uri": "https://localhost:8080/"
        }
      },
      "execution_count": null,
      "outputs": [
        {
          "output_type": "stream",
          "name": "stdout",
          "text": [
            "The bin for frequency range 0.6800625 - 0.684875 contains 20 elements\n"
          ]
        }
      ]
    },
    {
      "cell_type": "code",
      "source": [
        "output_bin_coverage(10)"
      ],
      "metadata": {
        "id": "pZv3DgGOoXRc",
        "outputId": "6511d2fe-011d-4e73-8485-e7d2b309dce9",
        "colab": {
          "base_uri": "https://localhost:8080/"
        }
      },
      "execution_count": null,
      "outputs": [
        {
          "output_type": "stream",
          "name": "stdout",
          "text": [
            "The bin for frequency range 0.704125 - 0.7089375 contains 54 elements\n"
          ]
        }
      ]
    },
    {
      "cell_type": "markdown",
      "source": [
        "Now, let’s compute the count and frequency range for the highest peak in our histogram."
      ],
      "metadata": {
        "id": "j-hkPiRRnVpu"
      }
    },
    {
      "cell_type": "code",
      "source": [
        "# Finding the index of an array’s maximum value\n",
        "assert counts[counts.argmax()] == counts.max()"
      ],
      "metadata": {
        "id": "9JL_TrSMoiuY"
      },
      "execution_count": null,
      "outputs": []
    },
    {
      "cell_type": "markdown",
      "source": [
        "Thus, calling `output_bin_coverage(counts.argmax())` should provide us with the output we’ve requested."
      ],
      "metadata": {
        "id": "7YzlhlHypzmF"
      }
    },
    {
      "cell_type": "code",
      "source": [
        "output_bin_coverage(counts.argmax())"
      ],
      "metadata": {
        "id": "QRVWvjh6p2c9",
        "outputId": "0c46377a-3920-4e08-f47f-6e583599c701",
        "colab": {
          "base_uri": "https://localhost:8080/"
        }
      },
      "execution_count": null,
      "outputs": [
        {
          "output_type": "stream",
          "name": "stdout",
          "text": [
            "The bin for frequency range 0.6945 - 0.6993125 contains 72 elements\n"
          ]
        }
      ]
    },
    {
      "cell_type": "markdown",
      "source": [
        "###Deriving probabilities from histograms"
      ],
      "metadata": {
        "id": "Iv1qe3FznKPq"
      }
    },
    {
      "cell_type": "markdown",
      "source": [
        "How can we determine whether the\n",
        "actual probability of heads falls within that range (without knowing the answer in\n",
        "advance)?\n",
        "\n",
        "One option is to calculate the likelihood that a randomly measured frequency\n",
        "falls within 0.694 to 0.699. If that likelihood were 1.0, then 100% of measured\n",
        "frequencies would be covered by the range.\n",
        "\n",
        "How should we calculate the likelihood?\n",
        "\n",
        "Earlier, we showed that the likelihood of\n",
        "an interval equals its area under a curve, but only when the total plotted area sums\n",
        "to 1.0.\n",
        "\n"
      ],
      "metadata": {
        "id": "WmPwORQinLtz"
      }
    },
    {
      "cell_type": "code",
      "source": [
        "# Plotting a histogram’s relative likelihoods\n",
        "likelihoods, bin_edges, _ = plt.hist(frequency_array, bins=\"auto\", edgecolor=\"black\", density=True)\n",
        "plt.xlabel(\"Binned Frequency\")\n",
        "plt.ylabel(\"Relative Likelihood\")\n",
        "plt.show()"
      ],
      "metadata": {
        "id": "-msjdKyFGCPR",
        "outputId": "682d5f53-af03-48a8-8dc0-17ac61aafd98",
        "colab": {
          "base_uri": "https://localhost:8080/"
        }
      },
      "execution_count": null,
      "outputs": [
        {
          "output_type": "display_data",
          "data": {
            "text/plain": [
              "<Figure size 432x288 with 1 Axes>"
            ],
            "image/png": "[encoded data removed]"
          },
          "metadata": {
            "needs_background": "light"
          }
        }
      ]
    },
    {
      "cell_type": "markdown",
      "source": [
        "Of course, the area beneath our histogram\n",
        "now sums to 1.0. \n",
        "\n",
        "We can prove this by summing the rectangular area of each bin,\n",
        "which equals the bin’s vertical likelihood value multiplied by `bin_width`."
      ],
      "metadata": {
        "id": "h32Ped6RGle-"
      }
    },
    {
      "cell_type": "code",
      "source": [
        "assert likelihoods.sum() * bin_width == 1.0"
      ],
      "metadata": {
        "id": "EoAoYPi9GnD7"
      },
      "execution_count": null,
      "outputs": []
    },
    {
      "cell_type": "markdown",
      "source": [
        "The histogram’s total area sums to 1.0. Thus, the area beneath the histogram’s peak\n",
        "now equals the probability of a randomly sampled frequency falling within the 0.694\n",
        "to 0.699 interval range.\n",
        "\n",
        "Let’s compute this value by calculating the area of the bin\n",
        "positioned at `likelihoods.argmax()`."
      ],
      "metadata": {
        "id": "t-ySbB6BG0sI"
      }
    },
    {
      "cell_type": "code",
      "source": [
        "# Computing the probability of the peak frequencies\n",
        "index = likelihoods.argmax()\n",
        "area = likelihoods[index] * bin_width\n",
        "range_start, range_end = bin_edges[index], bin_edges[index + 1]\n",
        "range_string = f\"{range_start} - {range_end}\"\n",
        "print(f\"Sampled frequency falls within interval {range_string} with probability {area}\")"
      ],
      "metadata": {
        "id": "T46r55k-G41H",
        "outputId": "f811f7f1-1fca-4d88-e80d-41ad17b2daab",
        "colab": {
          "base_uri": "https://localhost:8080/"
        }
      },
      "execution_count": null,
      "outputs": [
        {
          "output_type": "stream",
          "name": "stdout",
          "text": [
            "Sampled frequency falls within interval 0.6945 - 0.6993125 with probability 0.144\n"
          ]
        }
      ]
    },
    {
      "cell_type": "markdown",
      "source": [
        "The probability is approximately 14%. That value is low, but we can increase it by\n",
        "expanding our interval range beyond one bin."
      ],
      "metadata": {
        "id": "xzbPdJ4BIhJN"
      }
    },
    {
      "cell_type": "code",
      "source": [
        "# Increasing the probability of a frequency range\n",
        "peak_index = likelihoods.argmax()\n",
        "start_index, end_index = (peak_index - 1, peak_index + 2) \n",
        "area = likelihoods[start_index: end_index + 1].sum() * bin_width\n",
        "range_start, range_end = bin_edges[start_index], bin_edges[end_index + 1]\n",
        "range_string = f\"{range_start} - {range_end}\"\n",
        "print(f\"Sampled frequency falls within interval {range_string} with probability {area}\")"
      ],
      "metadata": {
        "id": "-ej4OTe-IhpL",
        "outputId": "1f88b4fb-277d-40e2-f87d-c64c17267a31",
        "colab": {
          "base_uri": "https://localhost:8080/"
        }
      },
      "execution_count": null,
      "outputs": [
        {
          "output_type": "stream",
          "name": "stdout",
          "text": [
            "Sampled frequency falls within interval 0.6896875 - 0.7089375 with probability 0.464\n"
          ]
        }
      ]
    },
    {
      "cell_type": "markdown",
      "source": [
        "Thus, the three bins represent what statisticians call a 46.4%\n",
        "confidence interval, which means we are 46.4% confident that our true probability falls\n",
        "within the three-bin range.\n",
        "\n",
        "That confidence percentage is too low. \n",
        "\n",
        "Statisticians prefer a\n",
        "confidence interval of 95% or more. \n",
        "\n",
        "We reach that confidence interval by iteratively\n",
        "expanding our leftmost bin and rightmost bin until the interval area stretches past 0.95."
      ],
      "metadata": {
        "id": "oWYA7lIyJQ6i"
      }
    },
    {
      "cell_type": "code",
      "source": [
        "# Computing a high confidence interval\n",
        "def compute_high_confidence_interval(likelihoods, bin_width):\n",
        "  peak_index = likelihoods.argmax()\n",
        "  area = likelihoods[peak_index] * bin_width\n",
        "  start_index, end_index = peak_index, peak_index + 1\n",
        "\n",
        "  while area < 0.95:\n",
        "    if start_index > 0:\n",
        "      start_index -= 1\n",
        "    if end_index < likelihoods.size - 1:\n",
        "      end_index += 1\n",
        "    area = likelihoods[start_index: end_index + 1].sum() * bin_width\n",
        "\n",
        "  range_start, range_end = bin_edges[start_index], bin_edges[end_index]\n",
        "  range_string = f\"{range_start:.6f} - {range_end:.6f}\"\n",
        "  print(f\"The frequency range {range_string} represents a {100 * area:.2f}% confidence interval\")\n",
        "\n",
        "  return start_index, end_index"
      ],
      "metadata": {
        "id": "eQzjMiKDJbjX"
      },
      "execution_count": null,
      "outputs": []
    },
    {
      "cell_type": "code",
      "source": [
        "compute_high_confidence_interval(likelihoods, bin_width)"
      ],
      "metadata": {
        "id": "7dP4ydYiK7I5",
        "outputId": "23a5980c-619f-4c26-a74c-d64348ae978d",
        "colab": {
          "base_uri": "https://localhost:8080/"
        }
      },
      "execution_count": null,
      "outputs": [
        {
          "output_type": "stream",
          "name": "stdout",
          "text": [
            "The frequency range 0.670438 - 0.723375 represents a 95.40% confidence interval\n"
          ]
        },
        {
          "output_type": "execute_result",
          "data": {
            "text/plain": [
              "(3, 14)"
            ]
          },
          "metadata": {},
          "execution_count": 34
        }
      ]
    },
    {
      "cell_type": "markdown",
      "source": [
        "The frequency range of roughly 0.670 to 0.723 represents a 95.4% confidence interval.\n",
        "Thus, a sampled sequence of 1,000 biased coin flips should fall within that range\n",
        "95.4% of the time.\n",
        "\n",
        "We’re fairly confident that the true probability lies somewhere\n",
        "between 0.670 and 0.723. \n",
        "\n",
        "However, we still cannot tell for sure whether the true probability\n",
        "is closer to 0.67 or 0.72. \n",
        "\n",
        "We need to somehow narrow that range to obtain a\n",
        "more informative probability estimation."
      ],
      "metadata": {
        "id": "myAdVeCfLOep"
      }
    },
    {
      "cell_type": "markdown",
      "source": [
        "###Shrinking the range of a high confidence interval"
      ],
      "metadata": {
        "id": "Cc-yF-0CLU8Z"
      }
    },
    {
      "cell_type": "markdown",
      "source": [
        "How can we taper down our range while maintaining a 95% confidence interval? \n",
        "\n",
        "Perhaps we should try elevating the frequency count from 500 to something noticeably larger.\n",
        "\n",
        "Instead, let’s sample 100,000 frequencies while keeping the\n",
        "coin-flip count constant at 1,000."
      ],
      "metadata": {
        "id": "8tEwMLPLNqXx"
      }
    },
    {
      "cell_type": "code",
      "source": [
        "np.random.seed(0)\n",
        "\n",
        "head_count_array = np.random.binomial(1000, 0.7, 100000)\n",
        "frequency_array = head_count_array / 1000\n",
        "assert head_count_array.size == 100000"
      ],
      "metadata": {
        "id": "LD77FDqONwEw"
      },
      "execution_count": null,
      "outputs": []
    },
    {
      "cell_type": "markdown",
      "source": [
        "Let’s incorporate the confidence interval into our\n",
        "visualization by coloring the histogram bars in its range.\n",
        "\n",
        "The histogram bars can be visually modified by relying on `patches`, which is the third variable\n",
        "returned by `plt.hist`."
      ],
      "metadata": {
        "id": "Lu8Kxkq2OSBG"
      }
    },
    {
      "cell_type": "code",
      "source": [
        "likelihoods, bin_edges, patches = plt.hist(frequency_array, bins=\"auto\", edgecolor=\"black\", density=True)\n",
        "\n",
        "bin_width = bin_edges[1] - bin_edges[0]\n",
        "start_index, end_index = compute_high_confidence_interval(likelihoods, bin_width)\n",
        "\n",
        "for i in range(start_index, end_index):\n",
        "  patches[i].set_facecolor(\"yellow\")\n",
        "\n",
        "plt.xlabel(\"Binned Frequency\")\n",
        "plt.ylabel(\"Relative Likelihood\")\n",
        "plt.show()"
      ],
      "metadata": {
        "id": "pRZTrUYcOSmp",
        "outputId": "3aeeafe5-6918-4d2d-d7e0-6af148d89f19",
        "colab": {
          "base_uri": "https://localhost:8080/"
        }
      },
      "execution_count": null,
      "outputs": [
        {
          "output_type": "stream",
          "name": "stdout",
          "text": [
            "The frequency range 0.670429 - 0.727857 represents a 95.42% confidence interval\n"
          ]
        },
        {
          "output_type": "display_data",
          "data": {
            "text/plain": [
              "<Figure size 432x288 with 1 Axes>"
            ],
            "image/png": "[encoded data removed]"
          },
          "metadata": {
            "needs_background": "light"
          }
        }
      ]
    },
    {
      "cell_type": "markdown",
      "source": [
        "The recomputed histogram resembles a symmetric bell-shaped curve.\n",
        "\n",
        "The highlighted bars represent\n",
        "a 95% confidence interval. The interval covers a frequency range of roughly 0.670 to 0.727.\n",
        "\n",
        "Perhaps we should\n",
        "also increase the number of coin flips per frequency sample from 1,000 to 50,000.\n",
        "\n",
        "We keep the frequency sample size steady at 100,000, thus leading to 5 billion\n",
        "flipped coins."
      ],
      "metadata": {
        "id": "cRvscEu-P49N"
      }
    },
    {
      "cell_type": "code",
      "source": [
        "np.random.seed(0)\n",
        "\n",
        "head_count_array = np.random.binomial(50000, 0.7, 100000)\n",
        "frequency_array = head_count_array / 50000\n",
        "\n",
        "likelihoods, bin_edges, patches = plt.hist(frequency_array, bins=\"auto\", edgecolor=\"black\", density=True)\n",
        "\n",
        "bin_width = bin_edges[1] - bin_edges[0]\n",
        "start_index, end_index = compute_high_confidence_interval(likelihoods, bin_width)\n",
        "\n",
        "for i in range(start_index, end_index):\n",
        "  patches[i].set_facecolor(\"yellow\")\n",
        "\n",
        "plt.xlabel(\"Binned Frequency\")\n",
        "plt.ylabel(\"Relative Likelihood\")\n",
        "plt.show()"
      ],
      "metadata": {
        "id": "332CRigOQTPT",
        "outputId": "ebf2e342-68dc-42f5-b5ab-cb07cfe74865",
        "colab": {
          "base_uri": "https://localhost:8080/"
        }
      },
      "execution_count": null,
      "outputs": [
        {
          "output_type": "stream",
          "name": "stdout",
          "text": [
            "The frequency range 0.695769 - 0.703708 represents a 95.06% confidence interval\n"
          ]
        },
        {
          "output_type": "display_data",
          "data": {
            "text/plain": [
              "<Figure size 432x288 with 1 Axes>"
            ],
            "image/png": "[encoded data removed]"
          },
          "metadata": {
            "needs_background": "light"
          }
        }
      ]
    },
    {
      "cell_type": "markdown",
      "source": [
        "We are thus\n",
        "exceedingly confident that our true probability is approximately 0.70.\n",
        "\n",
        "On a separate note, our updated histogram once again resembles a bell-shaped\n",
        "curve. That curve is referred to as either the Gaussian distribution or the normal distribution.\n",
        "\n",
        "The normal distribution is incredibly important to probability theory and statistics\n",
        "due to the central limit theorem. According to this theorem, sampled frequency\n",
        "distributions take the shape of a normal distribution when the number of samples is\n",
        "large. Furthermore, the theorem predicts a narrowing of likely frequencies as the size\n",
        "of each frequency sample increases."
      ],
      "metadata": {
        "id": "LEw_rQMHRDam"
      }
    },
    {
      "cell_type": "markdown",
      "source": [
        "###Computing histograms in NumPy"
      ],
      "metadata": {
        "id": "dn6tVqzvRfoK"
      }
    },
    {
      "cell_type": "markdown",
      "source": [
        "Can we obtain\n",
        "the histogram likelihoods and bin edges without creating a plot?\n",
        "\n",
        "Yes, because `plt.hist`\n",
        "uses NumPy’s non-visual np.histogram function."
      ],
      "metadata": {
        "id": "RE8Td597Rgqy"
      }
    },
    {
      "cell_type": "code",
      "source": [
        "np.random.seed(0)\n",
        "\n",
        "likelihoods, bin_edges = np.histogram(frequency_array, bins=\"auto\", density=True)\n",
        "\n",
        "bin_width = bin_edges[1] - bin_edges[0]\n",
        "compute_high_confidence_interval(likelihoods, bin_width)"
      ],
      "metadata": {
        "id": "OP0Gm_OsR6n8",
        "outputId": "78566f3e-771f-4db1-a83d-08ab86836f4f",
        "colab": {
          "base_uri": "https://localhost:8080/"
        }
      },
      "execution_count": null,
      "outputs": [
        {
          "output_type": "stream",
          "name": "stdout",
          "text": [
            "The frequency range 0.695769 - 0.703708 represents a 95.06% confidence interval\n"
          ]
        },
        {
          "output_type": "execute_result",
          "data": {
            "text/plain": [
              "(47, 114)"
            ]
          },
          "metadata": {},
          "execution_count": 38
        }
      ]
    },
    {
      "cell_type": "markdown",
      "source": [
        "##Using confidence intervals to analyze a biased deck of cards"
      ],
      "metadata": {
        "id": "nnFxY22ITCGb"
      }
    },
    {
      "cell_type": "markdown",
      "source": [
        "Suppose you’re shown a biased 52-card deck. Each card is either red or black, but the color counts aren’t equal. How many red cards are present in the deck?\n",
        "\n",
        "You could\n",
        "find out by counting all the red cards one by one, but that would be too easy.\n",
        "\n",
        "Let’s\n",
        "add a constraint to make the problem more interesting. You are only allowed to see\n",
        "the first card in the deck! If you wish to see a new card, you must first reshuffle.\n",
        "You’re permitted to reshuffle as many times as you like and to view the top card after\n",
        "each shuffle.\n",
        "\n",
        "Given these constraints, we must solve the problem using random sampling.\n",
        "\n",
        "Let’s\n",
        "begin by modeling a 52-card deck with an unknown number of red cards. That red\n",
        "count is an integer between 0 and 52, which we can generate using `np.random.randint`."
      ],
      "metadata": {
        "id": "rrjKhP7pTDpY"
      }
    },
    {
      "cell_type": "code",
      "source": [
        "# Generating a random red card count\n",
        "np.random.seed(0)\n",
        "\n",
        "total_cards = 52\n",
        "red_card_count = np.random.randint(0, total_cards + 1)"
      ],
      "metadata": {
        "id": "7ydkRCPfFiDh"
      },
      "execution_count": null,
      "outputs": []
    },
    {
      "cell_type": "code",
      "source": [
        "# Generating a black card count\n",
        "black_card_count = total_cards - red_card_count\n",
        "assert black_card_count != red_card_count"
      ],
      "metadata": {
        "id": "SlVshWHpFkm-"
      },
      "execution_count": null,
      "outputs": []
    },
    {
      "cell_type": "markdown",
      "source": [
        "What is\n",
        "the probability the card will be red?\n",
        "\n",
        "Well, a red card represents one of two possible\n",
        "outcomes: red or black. These outcomes can be characterized by the sample space\n",
        "`{'red_card', 'black_card'}`, but only when the two outcomes are equally likely.\n",
        "\n",
        "A weighted sample space dict is therefore required, in which the\n",
        "dictionary values equal the count variables."
      ],
      "metadata": {
        "id": "LqGMjbw7G5nj"
      }
    },
    {
      "cell_type": "code",
      "source": [
        "# Computing card probabilities using a sample space\n",
        "weighted_sample_space = {\"red_card\": red_card_count, \"black_card\": black_card_count}\n",
        "\n",
        "# divides the red_card_count by the sum of red_card_count and black_card_count to compute the probability.\n",
        "red_prob = compute_event_probability(lambda x: x == \"red_card\", weighted_sample_space)"
      ],
      "metadata": {
        "id": "4ffhoeTfHJMd"
      },
      "execution_count": null,
      "outputs": []
    },
    {
      "cell_type": "markdown",
      "source": [
        "Furthermore, the sum of `red_card_count` and `black_card_count` is equal to\n",
        "`total_cards`. \n",
        "\n",
        "Therefore, the probability of drawing a red card is equal to `red_\n",
        "card_count` divided by `total_cards`."
      ],
      "metadata": {
        "id": "6D6_Pc1vIRC-"
      }
    },
    {
      "cell_type": "code",
      "source": [
        "assert red_prob == red_card_count / total_cards"
      ],
      "metadata": {
        "id": "ypdh9J0KIXeD"
      },
      "execution_count": null,
      "outputs": []
    },
    {
      "cell_type": "markdown",
      "source": [
        "How should we utilize `red_prob` to model a flipped-over first card?\n",
        "\n",
        "Well, the card flip\n",
        "will produce one of two possible outputs: red or black. \n",
        "\n",
        "These two outcomes can be\n",
        "modeled as coin flips in which heads and tails are replaced by colors. \n",
        "\n",
        "Therefore, we can\n",
        "model the flipped card using the binomial distribution."
      ],
      "metadata": {
        "id": "SZpLK6GKIm6L"
      }
    },
    {
      "cell_type": "code",
      "source": [
        "np.random.seed(0)\n",
        "\n",
        "# Simulating a random card\n",
        "color = \"red\" if np.random.binomial(1, red_prob) else \"black\"\n",
        "print(f\"The first card in the shuffled deck is {color}\")"
      ],
      "metadata": {
        "id": "kHktprldIzS_",
        "outputId": "5a6f0852-41df-42d2-fa94-a9327497bfa6",
        "colab": {
          "base_uri": "https://localhost:8080/"
        }
      },
      "execution_count": null,
      "outputs": [
        {
          "output_type": "stream",
          "name": "stdout",
          "text": [
            "The first card in the shuffled deck is red\n"
          ]
        }
      ]
    },
    {
      "cell_type": "code",
      "source": [
        "np.random.seed(0)\n",
        "\n",
        "# Simulating 10 random cards\n",
        "red_count = np.random.binomial(10, red_prob)\n",
        "print(f\"In {red_count} of out 10 shuffles, a red card came up first.\")"
      ],
      "metadata": {
        "id": "FYaGPi0kJNbc",
        "outputId": "0f1ba2f1-ba7b-4c1b-92ff-1b44e4ca8609",
        "colab": {
          "base_uri": "https://localhost:8080/"
        }
      },
      "execution_count": null,
      "outputs": [
        {
          "output_type": "stream",
          "name": "stdout",
          "text": [
            "In 8 of out 10 shuffles, a red card came up first.\n"
          ]
        }
      ]
    },
    {
      "cell_type": "markdown",
      "source": [
        "A red card appeared at the top of the deck in 8 out of 10 random shuffles. \n",
        "\n",
        "Does this mean that 80% of the cards are red?\n",
        "\n",
        "Of course not.\n",
        "\n",
        "Instead of shuffling the deck 10\n",
        "times, let’s shuffle it 50,000 times. Then we compute the frequency and then redo the\n",
        "shuffling procedure another 100,000 times.\n",
        "\n",
        "The resulting frequency\n",
        "array can be transformed into a histogram that will allow us to compute a 95% confidence\n",
        "interval for flipping over a red card.\n",
        "\n"
      ],
      "metadata": {
        "id": "u_j2N-HrJhuJ"
      }
    },
    {
      "cell_type": "code",
      "source": [
        "np.random.seed(0)\n",
        "\n",
        "# Computing card probability confidence intervals\n",
        "\n",
        "# Counts the observed red cards out of 50,000 shuffles; repeats 100,000 times\n",
        "red_card_count_array = np.random.binomial(50000, red_prob, 100000)\n",
        "\n",
        "# Converts 100,000 red counts into 100,000 frequencies\n",
        "frequency_array = red_card_count_array / 50000\n",
        "\n",
        "# Computes the frequency histogram\n",
        "likelihoods, bin_edges = np.histogram(frequency_array, bins=\"auto\", density=True)\n",
        "\n",
        "# Computes the 95% confidence interval for the histogram\n",
        "bin_width = bin_edges[1] - bin_edges[0]\n",
        "start_index, end_index = compute_high_confidence_interval(likelihoods, bin_width)"
      ],
      "metadata": {
        "id": "aPIXtdEkJser",
        "outputId": "5a06b897-aad0-4fb0-937b-ead2e6a0b05f",
        "colab": {
          "base_uri": "https://localhost:8080/"
        }
      },
      "execution_count": null,
      "outputs": [
        {
          "output_type": "stream",
          "name": "stdout",
          "text": [
            "The frequency range 0.842865 - 0.849139 represents a 95.16% confidence interval\n"
          ]
        }
      ]
    },
    {
      "cell_type": "markdown",
      "source": [
        "Thus, we are highly confident that `red_card_count` lies between `0.842865 * total_cards` and `0.849139 * total_cards`.\n",
        "\n",
        "Let’s compute the likely range of `red_card_count`. We round the end points of the range to the\n",
        "nearest integers because `red_card_count` corresponds to an integer value."
      ],
      "metadata": {
        "id": "C0gZiZqVMqYU"
      }
    },
    {
      "cell_type": "code",
      "source": [
        "# Estimating the red card count\n",
        "\n",
        "range_start = round(0.842771 * total_cards)\n",
        "range_end = round(0.849139 * total_cards)\n",
        "print(f\"The number of red cards in the deck is between {range_start} and {range_end}\")"
      ],
      "metadata": {
        "id": "baFvw5NmM2IH",
        "outputId": "fa36d5e8-9e76-4620-ba33-98497f615a40",
        "colab": {
          "base_uri": "https://localhost:8080/"
        }
      },
      "execution_count": null,
      "outputs": [
        {
          "output_type": "stream",
          "name": "stdout",
          "text": [
            "The number of red cards in the deck is between 44 and 44\n"
          ]
        }
      ]
    },
    {
      "cell_type": "markdown",
      "source": [
        "We are very confident that there are 44 red cards in the deck. \n",
        "\n",
        "Let’s check if our solution is correct."
      ],
      "metadata": {
        "id": "JrDdD1bNNWaU"
      }
    },
    {
      "cell_type": "code",
      "source": [
        "# Validating the red card count\n",
        "\n",
        "if red_card_count == 44:\n",
        "  print(\"We are correct! There are 44 red cards in the deck\")\n",
        "else:\n",
        "  print(\"Oops! Our sampling estimation was wrong.\")"
      ],
      "metadata": {
        "id": "E_BbNhkqNZJv",
        "outputId": "3ce35926-c913-41af-fb71-03bd764efa1e",
        "colab": {
          "base_uri": "https://localhost:8080/"
        }
      },
      "execution_count": null,
      "outputs": [
        {
          "output_type": "stream",
          "name": "stdout",
          "text": [
            "We are correct! There are 44 red cards in the deck\n"
          ]
        }
      ]
    },
    {
      "cell_type": "markdown",
      "source": [
        "We were able to determine this without\n",
        "manually counting all the cards. \n",
        "\n",
        "Our use of random card-shuffle sampling and confidence\n",
        "interval calculations proved sufficient to uncover the solution."
      ],
      "metadata": {
        "id": "g_gidPv7NtI9"
      }
    },
    {
      "cell_type": "markdown",
      "source": [
        "##Using permutations to shuffle cards"
      ],
      "metadata": {
        "id": "xPlrtLdINuxy"
      }
    },
    {
      "cell_type": "markdown",
      "source": [
        "Card shuffling requires us to randomly reorder the elements of a card deck. That random\n",
        "reordering can be carried out using the `np.random.shuffle` method.\n",
        "\n",
        "Let's randomly shuffles a deck of cards containing two red cards (represented\n",
        "by 1s) and two black cards (represented by 0s)."
      ],
      "metadata": {
        "id": "o6V_9wCINxur"
      }
    },
    {
      "cell_type": "code",
      "source": [
        "# Shuffling a four-card deck\n",
        "np.random.seed(0)\n",
        "\n",
        "card_deck = [1, 1, 0, 0]\n",
        "np.random.shuffle(card_deck)\n",
        "print(card_deck)"
      ],
      "metadata": {
        "id": "VWYh51JbQ1nP",
        "outputId": "f1e90817-3440-4a0b-b163-6ed7e079d479",
        "colab": {
          "base_uri": "https://localhost:8080/"
        }
      },
      "execution_count": null,
      "outputs": [
        {
          "output_type": "stream",
          "name": "stdout",
          "text": [
            "[0, 0, 1, 1]\n"
          ]
        }
      ]
    },
    {
      "cell_type": "markdown",
      "source": [
        "If we prefer to carry\n",
        "out the shuffle while retaining a copy of the original unshuffled deck, we can do so\n",
        "using np.random.permutation."
      ],
      "metadata": {
        "id": "cKhJAXVxRJqN"
      }
    },
    {
      "cell_type": "code",
      "source": [
        "# Returning a copy of the shuffled deck\n",
        "np.random.seed(0)\n",
        "\n",
        "unshuffled_deck = [ 1, 1, 0, 0]\n",
        "shuffled_deck = np.random.permutation(unshuffled_deck)\n",
        "\n",
        "assert unshuffled_deck == [1, 1, 0, 0]\n",
        "print(shuffled_deck)"
      ],
      "metadata": {
        "id": "_qYrRwlWRNlc",
        "outputId": "dcc66d11-a232-465a-baed-b442224bb7f1",
        "colab": {
          "base_uri": "https://localhost:8080/"
        }
      },
      "execution_count": null,
      "outputs": [
        {
          "output_type": "stream",
          "name": "stdout",
          "text": [
            "[0 0 1 1]\n"
          ]
        }
      ]
    },
    {
      "cell_type": "markdown",
      "source": [
        "The random ordering of elements returned by np.random.permutation is mathematically\n",
        "called a permutation. Random permutations vary from the original ordering\n",
        "most of the time.\n",
        "\n",
        "On rare occasions, they may equal the original, unshuffled\n",
        "permutation. \n",
        "\n",
        "What is the probability that a shuffled permutation will exactly equal\n",
        "`unshuffled_deck`?\n",
        "\n",
        "We can of course find out through sampling. However, the four-element deck is\n",
        "small enough to be analyzed using sample spaces. Composing the sample space requires\n",
        "us to cycle through all possible permutations of the deck. We can do so using the `itertools.permutations` function."
      ],
      "metadata": {
        "id": "hhRDuFc9S0rU"
      }
    },
    {
      "cell_type": "code",
      "source": [
        "# Iterating over card permutations\n",
        "for permutation in list(itertools.permutations(unshuffled_deck))[:3]:\n",
        "  print(permutation)"
      ],
      "metadata": {
        "id": "QNSBKF8XTH2z",
        "outputId": "7d17d107-6a96-4635-8024-866fb9eb4c8e",
        "colab": {
          "base_uri": "https://localhost:8080/"
        }
      },
      "execution_count": null,
      "outputs": [
        {
          "output_type": "stream",
          "name": "stdout",
          "text": [
            "(1, 1, 0, 0)\n",
            "(1, 1, 0, 0)\n",
            "(1, 0, 1, 0)\n"
          ]
        }
      ]
    },
    {
      "cell_type": "markdown",
      "source": [
        "We can confirm that the swap actually took\n",
        "place by examining the first three permutations of `[0, 1, 2, 3]`."
      ],
      "metadata": {
        "id": "Q0oI8Lt-TwMO"
      }
    },
    {
      "cell_type": "code",
      "source": [
        "# Monitoring permutation swaps\n",
        "for permutation in list(itertools.permutations([0, 1, 2, 3]))[:3]:\n",
        "  print(permutation)"
      ],
      "metadata": {
        "id": "ofVffjGGTxyw",
        "outputId": "97f10c83-0584-4f76-e2c8-a9df8baf4af9",
        "colab": {
          "base_uri": "https://localhost:8080/"
        }
      },
      "execution_count": null,
      "outputs": [
        {
          "output_type": "stream",
          "name": "stdout",
          "text": [
            "(0, 1, 2, 3)\n",
            "(0, 1, 3, 2)\n",
            "(0, 2, 1, 3)\n"
          ]
        }
      ]
    },
    {
      "cell_type": "markdown",
      "source": [
        "Certain permutations of the four-card deck occur more than once. Thus, we can\n",
        "hypothesize that certain permutations might occur more frequently than others.\n",
        "\n",
        "Let’s\n",
        "check this hypothesis by storing the permutation counts in a `weighted_sample_space` dictionary."
      ],
      "metadata": {
        "id": "ltvMaZzqUCCd"
      }
    },
    {
      "cell_type": "code",
      "source": [
        "# Computing permutation counts\n",
        "weighted_sample_space = defaultdict(int)\n",
        "for permutation in itertools.permutations(unshuffled_deck):\n",
        "  weighted_sample_space[permutation] += 1\n",
        "\n",
        "for permutation, count in weighted_sample_space.items():\n",
        "  print(f\" Permutation {permutation} occurs {count} times.\")"
      ],
      "metadata": {
        "id": "vgI2H9k7UHYF",
        "outputId": "8c59bc2f-fd48-4317-e386-a529a9a6dc84",
        "colab": {
          "base_uri": "https://localhost:8080/"
        }
      },
      "execution_count": null,
      "outputs": [
        {
          "output_type": "stream",
          "name": "stdout",
          "text": [
            " Permutation (1, 1, 0, 0) occurs 4 times.\n",
            " Permutation (1, 0, 1, 0) occurs 4 times.\n",
            " Permutation (1, 0, 0, 1) occurs 4 times.\n",
            " Permutation (0, 1, 1, 0) occurs 4 times.\n",
            " Permutation (0, 1, 0, 1) occurs 4 times.\n",
            " Permutation (0, 0, 1, 1) occurs 4 times.\n"
          ]
        }
      ]
    },
    {
      "cell_type": "markdown",
      "source": [
        "All the permutations occur with equal frequency. Consequently, all card arrangements\n",
        "are equally likely, and a weighted sample space is not required.\n",
        "\n",
        "An unweighted sample space equal to `set(itertools.permutations(unshuffled_deck))` should sufficiently\n",
        "resolve the problem.\n",
        "\n"
      ],
      "metadata": {
        "id": "UnMyO_hVUzqL"
      }
    },
    {
      "cell_type": "code",
      "source": [
        "# Computing permutation probabilities\n",
        "\n",
        "# The unweighted sample space equals the set of all the unique permutations of the deck.\n",
        "sample_space = set(itertools.permutations(unshuffled_deck))\n",
        "event_condition = lambda x: list(x) == unshuffled_deck\n",
        "# Computes the probability of observing an event that satisfies our event condition\n",
        "prob = compute_event_probability(event_condition, sample_space)\n",
        "\n",
        "assert prob == 1 / len(sample_space)\n",
        "print(f\"Probability that a shuffle does not alter the deck is {prob}\")"
      ],
      "metadata": {
        "id": "vtzXp1pQU_6-",
        "outputId": "739a8053-aba8-4eb4-da26-9e7d8d038780",
        "colab": {
          "base_uri": "https://localhost:8080/"
        }
      },
      "execution_count": null,
      "outputs": [
        {
          "output_type": "stream",
          "name": "stdout",
          "text": [
            "Probability that a shuffle does not alter the deck is 0.16666666666666666\n"
          ]
        }
      ]
    },
    {
      "cell_type": "markdown",
      "source": [
        "Mathematically, it can be shown that all the color permutations of the deck will\n",
        "occur with equal likelihood. Thus, we can compute probabilities directly using the\n",
        "deck’s unweighted sample space.\n",
        "\n",
        "Unfortunately, creating this sample space is not feasible\n",
        "for a 52-card deck since the number of possible permutations is astronomically\n",
        "large: `8.06 × 1067`, which is larger than the number of atoms on Earth.\n",
        "\n",
        "However, such a sample space can easily be computed\n",
        "for a smaller 10-card deck."
      ],
      "metadata": {
        "id": "Kjh-uKOVVwdx"
      }
    },
    {
      "cell_type": "code",
      "source": [
        "# Computing a 10-card sample space\n",
        "red_cards = 5 * [1]\n",
        "black_cards = 5 * [0]\n",
        "\n",
        "unshuffled_deck = red_cards + black_cards\n",
        "sample_space = set(itertools.permutations(unshuffled_deck))\n",
        "print(f\"Sample space for a 10-card deck contains {len(sample_space)} elements.\")"
      ],
      "metadata": {
        "id": "w6cOLHE5V5qu",
        "outputId": "6a119657-ba96-4ff9-93c0-f129abae330a",
        "colab": {
          "base_uri": "https://localhost:8080/"
        }
      },
      "execution_count": null,
      "outputs": [
        {
          "output_type": "stream",
          "name": "stdout",
          "text": [
            "Sample space for a 10-card deck contains 252 elements.\n"
          ]
        }
      ]
    },
    {
      "cell_type": "markdown",
      "source": [
        "We have been tasked with finding the best strategy for drawing a red card. The 10-card\n",
        "sample_space set could prove useful in these efforts: the set allows us to compute the\n",
        "probabilities of various competing strategies directly. \n",
        "\n",
        "We can thus rank our strategies\n",
        "based on their 10-card deck performance and then apply the top-ranking strategies to\n",
        "a 52-card deck."
      ],
      "metadata": {
        "id": "ScIEJl8YWaec"
      }
    }
  ]
}