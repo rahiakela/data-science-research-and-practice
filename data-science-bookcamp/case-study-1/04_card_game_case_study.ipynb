{
  "nbformat": 4,
  "nbformat_minor": 0,
  "metadata": {
    "colab": {
      "name": "04-card-game-case-study.ipynb",
      "provenance": [],
      "toc_visible": true,
      "authorship_tag": "ABX9TyNpua409ChJQbOhr6ClwYWG",
      "include_colab_link": true
    },
    "kernelspec": {
      "name": "python3",
      "display_name": "Python 3"
    },
    "language_info": {
      "name": "python"
    }
  },
  "cells": [
    {
      "cell_type": "markdown",
      "metadata": {
        "id": "view-in-github",
        "colab_type": "text"
      },
      "source": [
        "<a href=\"https://colab.research.google.com/github/rahiakela/data-science-research-and-practice/blob/main/data-science-bookcamp/case-study-1/04_card_game_case_study.ipynb\" target=\"_parent\"><img src=\"https://colab.research.google.com/assets/colab-badge.svg\" alt=\"Open In Colab\"/></a>"
      ]
    },
    {
      "cell_type": "markdown",
      "source": [
        "##Card game: case study"
      ],
      "metadata": {
        "id": "A1_NH5wWDcnz"
      }
    },
    {
      "cell_type": "markdown",
      "source": [
        "Our aim is to play a card game in which the cards are iteratively flipped until we tell\n",
        "the dealer to stop. Then one additional card is flipped. If that card is red, we win a\n",
        "dollar; otherwise, we lose a dollar.\n",
        "\n",
        "Our goal is to discover a strategy that best predicts\n",
        "a red card in the deck.\n",
        "\n",
        "We will do so by\n",
        "\n",
        "1. Developing multiple strategies for predicting red cards in a randomly shuffled deck.\n",
        "2. Applying each strategy across multiple simulations to compute its probability of success within a high confidence interval.\n",
        "3. Returning the simplest strategy associated with the highest probability of\n",
        "success.\n",
        "\n"
      ],
      "metadata": {
        "id": "N2Qq-hrwDzfx"
      }
    },
    {
      "cell_type": "markdown",
      "source": [
        "##Setup"
      ],
      "metadata": {
        "id": "MT9MEfIeETky"
      }
    },
    {
      "cell_type": "code",
      "source": [
        "!wget https://github.com/rahiakela/data-science-research-and-practice/raw/main/data-science-bookcamp/case-study-1/probabilities.py"
      ],
      "metadata": {
        "id": "jP-tI_PlHuQX",
        "outputId": "ddc25b1b-cd70-4ce2-fb7d-65b9ae79571b",
        "colab": {
          "base_uri": "https://localhost:8080/"
        }
      },
      "execution_count": 1,
      "outputs": [
        {
          "output_type": "stream",
          "name": "stdout",
          "text": [
            "--2022-03-25 05:46:17--  https://github.com/rahiakela/data-science-research-and-practice/raw/main/data-science-bookcamp/case-study-1/probabilities.py\n",
            "Resolving github.com (github.com)... 140.82.114.3\n",
            "Connecting to github.com (github.com)|140.82.114.3|:443... connected.\n",
            "HTTP request sent, awaiting response... 302 Found\n",
            "Location: https://raw.githubusercontent.com/rahiakela/data-science-research-and-practice/main/data-science-bookcamp/case-study-1/probabilities.py [following]\n",
            "--2022-03-25 05:46:17--  https://raw.githubusercontent.com/rahiakela/data-science-research-and-practice/main/data-science-bookcamp/case-study-1/probabilities.py\n",
            "Resolving raw.githubusercontent.com (raw.githubusercontent.com)... 185.199.109.133, 185.199.110.133, 185.199.108.133, ...\n",
            "Connecting to raw.githubusercontent.com (raw.githubusercontent.com)|185.199.109.133|:443... connected.\n",
            "HTTP request sent, awaiting response... 200 OK\n",
            "Length: 3522 (3.4K) [text/plain]\n",
            "Saving to: ‘probabilities.py’\n",
            "\n",
            "probabilities.py    100%[===================>]   3.44K  --.-KB/s    in 0s      \n",
            "\n",
            "2022-03-25 05:46:18 (38.9 MB/s) - ‘probabilities.py’ saved [3522/3522]\n",
            "\n"
          ]
        }
      ]
    },
    {
      "cell_type": "code",
      "source": [
        "import numpy as np\n",
        "import matplotlib.pyplot as plt\n",
        "from collections import defaultdict\n",
        "import itertools\n",
        "\n",
        "from probabilities import *"
      ],
      "metadata": {
        "id": "7dusTJt_EUqM"
      },
      "execution_count": 2,
      "outputs": []
    },
    {
      "cell_type": "markdown",
      "source": [
        "##Predicting red cards in a shuffled deck"
      ],
      "metadata": {
        "id": "wAb8ejFhEY4a"
      }
    },
    {
      "cell_type": "markdown",
      "source": [
        "We start by creating a deck holding 26 red cards and 26 black cards."
      ],
      "metadata": {
        "id": "WnW-VEOJEa8H"
      }
    },
    {
      "cell_type": "code",
      "source": [
        "# Modeling a 52-card deck\n",
        "red_cards = 26 * [1]\n",
        "black_cards = 26 * [0]\n",
        "\n",
        "unshuffled_deck = red_cards + black_cards"
      ],
      "metadata": {
        "id": "Q58OYSsAEtQa"
      },
      "execution_count": 3,
      "outputs": []
    },
    {
      "cell_type": "code",
      "source": [
        "# Shuffling a 52-card deck\n",
        "np.random.seed(0)\n",
        "\n",
        "shuffled_deck = np.random.permutation(unshuffled_deck)"
      ],
      "metadata": {
        "id": "bMdZyyfLGGCM"
      },
      "execution_count": 4,
      "outputs": []
    },
    {
      "cell_type": "markdown",
      "source": [
        "How do we decide when we should stop?\n",
        "\n",
        "One simple strategy is to terminate the\n",
        "game when the number of red cards remaining in the deck is greater than the number\n",
        "of black cards remaining in the deck. \n",
        "\n",
        "Let’s execute that strategy on the shuffled deck."
      ],
      "metadata": {
        "id": "H43PjQ_sGlQQ"
      }
    },
    {
      "cell_type": "code",
      "source": [
        "# Coding a card game strategy\n",
        "remaining_red_cards = 26\n",
        "\n",
        "for i, card in enumerate(shuffled_deck[:-1]):\n",
        "  remaining_red_cards -= card\n",
        "  # Subtracts the total cards seen thus far from 52. This total equals i + 1, since i is initially set to zero\n",
        "  remaining_total_cards = 52 - i - 1\n",
        "  if remaining_red_cards / remaining_total_cards > 0.5:\n",
        "    break\n",
        "\n",
        "print(f\"Stopping the game at index {i}.\")\n",
        "final_card = shuffled_deck[i + 1]\n",
        "color = \"red\" if final_card else 0\n",
        "print(f\"The next card in the deck is {'red' if final_card else 'black'}.\")\n",
        "print(f\"We have {'won' if final_card else 'lost'}!\")"
      ],
      "metadata": {
        "id": "-NwcwZjRGv3E",
        "colab": {
          "base_uri": "https://localhost:8080/"
        },
        "outputId": "406ad65b-8f4d-46db-fbf2-bedf2e380105"
      },
      "execution_count": 5,
      "outputs": [
        {
          "output_type": "stream",
          "name": "stdout",
          "text": [
            "Stopping the game at index 0.\n",
            "The next card in the deck is black.\n",
            "We have lost!\n"
          ]
        }
      ]
    },
    {
      "cell_type": "markdown",
      "source": [
        "Our strategy halts when the fraction of\n",
        "remaining red cards is greater than half of the remaining total cards. \n",
        "\n",
        "We can generalize\n",
        "that fraction to equal a `min_red_fraction` parameter, thus halting when the red card ratio is greater than the inputted parameter value."
      ],
      "metadata": {
        "id": "7iGi09jOYAYF"
      }
    },
    {
      "cell_type": "code",
      "source": [
        "# Generalizing the card game strategy\n",
        "np.random.seed(0)\n",
        "\n",
        "total_cards = 52\n",
        "total_red_cards = 26\n",
        "\n",
        "def execute_strategy(min_fraction_red=0.5, shuffled_deck=None, return_index=False):\n",
        "  if shuffled_deck is None:\n",
        "    # Shuffles the unshuffled deck\n",
        "    shuffled_deck = np.random.permutation(unshuffled_deck)\n",
        "  \n",
        "  remaining_red_cards = total_red_cards\n",
        "\n",
        "  for i, card in enumerate(shuffled_deck[:-1]):\n",
        "    remaining_red_cards -= card\n",
        "    # Subtracts the total cards seen thus far from 52. This total equals i + 1, since i is initially set to zero\n",
        "    fraction_red_cards = remaining_red_cards / (total_cards - i - 1)\n",
        "    if fraction_red_cards > min_fraction_red:\n",
        "      break\n",
        "  # Optionally returns the card index along with the final card\n",
        "  return (i + 1, shuffled_deck[i + 1]) if return_index else shuffled_deck[i + 1]"
      ],
      "metadata": {
        "id": "eHi7xtyLHF0z"
      },
      "execution_count": 6,
      "outputs": []
    },
    {
      "cell_type": "markdown",
      "source": [
        "###Estimating the probability of strategy success"
      ],
      "metadata": {
        "id": "-wCIOPgfH0CL"
      }
    },
    {
      "cell_type": "markdown",
      "source": [
        "Let’s apply our basic strategy to a series of 1,000 random shuffles."
      ],
      "metadata": {
        "id": "98Z9I8puZvox"
      }
    },
    {
      "cell_type": "code",
      "source": [
        "# Running the strategy over 1,000 shuffles\n",
        "observations = np.array([execute_strategy() for _ in range(1000)])"
      ],
      "metadata": {
        "id": "PATwvNrhH85d"
      },
      "execution_count": 7,
      "outputs": []
    },
    {
      "cell_type": "code",
      "source": [
        "# Computing the frequency of wins\n",
        "frequency_wins = observations.sum() / 1000\n",
        "\n",
        "assert frequency_wins == observations.mean()\n",
        "print(f\"The frequency of wins is {frequency_wins}\")"
      ],
      "metadata": {
        "id": "vKSBF7xtdcE0",
        "outputId": "23c8b79e-8328-4ad4-c30d-ffdb7801891e",
        "colab": {
          "base_uri": "https://localhost:8080/"
        }
      },
      "execution_count": 8,
      "outputs": [
        {
          "output_type": "stream",
          "name": "stdout",
          "text": [
            "The frequency of wins is 0.511\n"
          ]
        }
      ]
    },
    {
      "cell_type": "markdown",
      "source": [
        "We’ve won 51.1% of the total games!"
      ],
      "metadata": {
        "id": "zM7NB3UFZu1L"
      }
    },
    {
      "cell_type": "code",
      "source": [
        "# Computing total profit\n",
        "dollars_won = frequency_wins * 1000\n",
        "dollars_lost = (1 - frequency_wins) * 1000\n",
        "\n",
        "total_profit = dollars_won - dollars_lost\n",
        "print(f\"Total profit is ${total_profit:.2f}\")"
      ],
      "metadata": {
        "id": "zQbPmV7Cdxaf",
        "outputId": "188ee297-b2ad-4ddb-a9cd-af4db886e963",
        "colab": {
          "base_uri": "https://localhost:8080/"
        }
      },
      "execution_count": 9,
      "outputs": [
        {
          "output_type": "stream",
          "name": "stdout",
          "text": [
            "Total profit is $22.00\n"
          ]
        }
      ]
    },
    {
      "cell_type": "markdown",
      "source": [
        "The strategy worked well for a sample size of 1,000 shuffles. We now plot the strategy’s\n",
        "win-frequency convergence over a series of sample sizes ranging from 1 through 10,000."
      ],
      "metadata": {
        "id": "zaJC2ZZuIzSM"
      }
    },
    {
      "cell_type": "code",
      "source": [
        "# Plotting simulated frequencies of wins\n",
        "np.random.seed(0)\n",
        "\n",
        "def repeat_game(number_repeats):\n",
        "  observations = np.array([execute_strategy() for _ in range(number_repeats)])\n",
        "  return observations.mean()\n",
        "\n",
        "frequencies = []\n",
        "for i in range(1, 1000):\n",
        "  frequencies.append(repeat_game(i))\n",
        "\n",
        "plt.plot(list(range(1, 1000)), frequencies)\n",
        "plt.axhline(0.5, color=\"k\")\n",
        "plt.xlabel(\"Number of Card Shuffles\")\n",
        "plt.ylabel(\"Win-Frequency\")\n",
        "plt.show()\n",
        "\n",
        "print(f\"The win-frequency for 10,000 shuffles is {frequencies[-1]}\")"
      ],
      "metadata": {
        "id": "6fig-ETAeQLO",
        "outputId": "e42b63e2-7cc5-450e-e0e3-ce7fffe8d6c9",
        "colab": {
          "base_uri": "https://localhost:8080/",
          "height": 297
        }
      },
      "execution_count": 10,
      "outputs": [
        {
          "output_type": "display_data",
          "data": {
            "text/plain": [
              "<Figure size 432x288 with 1 Axes>"
            ],
            "image/png": "[encoded data removed]"
          },
          "metadata": {
            "needs_background": "light"
          }
        },
        {
          "output_type": "stream",
          "name": "stdout",
          "text": [
            "The win-frequency for 10,000 shuffles is 0.5035035035035035\n"
          ]
        }
      ]
    },
    {
      "cell_type": "markdown",
      "source": [
        "The strategy yields a win frequency of over 50% when 10,000 card shuffles are sampled.\n",
        "However, the strategy also fluctuates above and below 50% throughout the\n",
        "entire sampling process.\n",
        "\n",
        "How confident are we that the probability of a win is actually\n",
        "greater than 0.5?\n",
        "\n",
        "We can find out using confidence interval analysis.We\n",
        "compute the confidence interval by sampling 10,000 card shuffles 300 times, for a\n",
        "total of 3 million shuffles."
      ],
      "metadata": {
        "id": "xRtmGJAkfSED"
      }
    },
    {
      "cell_type": "code",
      "source": [
        "# Computing the confidence interval for 3 million shuffles\n",
        "np.random.seed(0)\n",
        "\n",
        "frequency_array = np.array([repeat_game(10000) for _ in range(300)])\n",
        "likelihoods, bin_edges, patches = plt.hist(frequency_array, bins=\"auto\", edgecolor=\"black\", density=True)\n",
        "bin_width = bin_edges[1] - bin_edges[0]\n",
        "start_index, end_index = compute_high_confidence_interval(likelihoods, bin_width, bin_edges) \n",
        "\n",
        "for i in range(start_index, end_index):\n",
        "  patches[i].set_facecolor(\"yellow\")\n",
        "plt.xlabel(\"Binned Frequency\")\n",
        "plt.ylabel(\"Relative Likelihood\")\n",
        "plt.show()"
      ],
      "metadata": {
        "id": "ZxfaF-0ofc57",
        "outputId": "cc0dc4c2-09d8-434b-92ce-c7383e318b2d",
        "colab": {
          "base_uri": "https://localhost:8080/",
          "height": 297
        }
      },
      "execution_count": 12,
      "outputs": [
        {
          "output_type": "stream",
          "name": "stdout",
          "text": [
            "The frequency range 0.488938 - 0.509494 represents a 97.00% confidence interval\n"
          ]
        },
        {
          "output_type": "display_data",
          "data": {
            "text/plain": [
              "<Figure size 432x288 with 1 Axes>"
            ],
            "image/png": "[encoded data removed]"
          },
          "metadata": {
            "needs_background": "light"
          }
        }
      ]
    },
    {
      "cell_type": "markdown",
      "source": [
        "We are quite confident that the actual probability lies somewhere between 0.488 and\n",
        "0.509. However, we still don’t know whether that probability is above 0.5 or below 0.5.\n",
        "\n",
        "This is a problem: even a minor misinterpretation of the true probability could cause\n",
        "us to lose money.\n",
        "\n",
        "We must be absolutely certain that the true probability lies above 0.5. Thus, we\n",
        "must narrow the 95% confidence interval by increasing the sample size at the expense\n",
        "of running time."
      ],
      "metadata": {
        "id": "iEHCjqIqhsEI"
      }
    },
    {
      "cell_type": "code",
      "source": [
        "# Computing the confidence interval for 150 million shuffles\n",
        "np.random.seed(0)\n",
        "\n",
        "frequency_array = np.array([repeat_game(50000) for _ in range(3000)])\n",
        "likelihoods, bin_edges, patches = plt.hist(frequency_array, bins=\"auto\", edgecolor=\"black\", density=True)\n",
        "bin_width = bin_edges[1] - bin_edges[0]\n",
        "compute_high_confidence_interval(likelihoods, bin_width, bin_edges) "
      ],
      "metadata": {
        "id": "y1Y47bb4hxus",
        "outputId": "a16755a3-b250-4a38-b8c4-a3b57d96a118",
        "colab": {
          "base_uri": "https://localhost:8080/",
          "height": 300
        }
      },
      "execution_count": 13,
      "outputs": [
        {
          "output_type": "stream",
          "name": "stdout",
          "text": [
            "The frequency range 0.495601 - 0.504345 represents a 96.03% confidence interval\n"
          ]
        },
        {
          "output_type": "execute_result",
          "data": {
            "text/plain": [
              "(11, 32)"
            ]
          },
          "metadata": {},
          "execution_count": 13
        },
        {
          "output_type": "display_data",
          "data": {
            "text/plain": [
              "<Figure size 432x288 with 1 Axes>"
            ],
            "image/png": "[encoded data removed]"
          },
          "metadata": {
            "needs_background": "light"
          }
        }
      ]
    },
    {
      "cell_type": "markdown",
      "source": [
        "Unfortunately, the new confidence interval still does\n",
        "not discern whether the true probability lies above 0.5.\n",
        "\n",
        "Increasing\n",
        "the number of samples is not computationally feasible.\n",
        "Perhaps increasing min_red_fraction from\n",
        "0.5 to 0.75 will yield an improvement. \n",
        "\n",
        "Let’s update our strategy and go for a long walk\n",
        "as our simulation takes another hour to run."
      ],
      "metadata": {
        "id": "zJgkJ30MiFjQ"
      }
    },
    {
      "cell_type": "code",
      "source": [
        "# Computing the confidence interval for an updated strategy\n",
        "np.random.seed(0)\n",
        "\n",
        "def repeat_game(number_repeats, min_red_fraction):\n",
        "  observations = np.array([execute_strategy(min_red_fraction) for _ in range(number_repeats)])\n",
        "  return observations.mean()\n",
        "\n",
        "frequency_array = np.array([repeat_game(50000, 0.75) for _ in range(3000)])\n",
        "likelihoods, bin_edges, patches = plt.hist(frequency_array, bins=\"auto\", edgecolor=\"black\", density=True)\n",
        "bin_width = bin_edges[1] - bin_edges[0]\n",
        "compute_high_confidence_interval(likelihoods, bin_width, bin_edges) "
      ],
      "metadata": {
        "id": "SudP3N3MiN0a"
      },
      "execution_count": null,
      "outputs": []
    },
    {
      "cell_type": "markdown",
      "source": [
        "Nope! The span of our confidence interval remains unresolved since it still covers\n",
        "both profitable and unprofitable probabilities.\n",
        "\n",
        "Perhaps we can gain more insight by applying our strategies to a 10-card deck."
      ],
      "metadata": {
        "id": "6FwmOgZmjV5i"
      }
    },
    {
      "cell_type": "markdown",
      "source": [
        "##Optimizing strategies"
      ],
      "metadata": {
        "id": "4ey-WoVwI0o4"
      }
    },
    {
      "cell_type": "markdown",
      "source": [
        ""
      ],
      "metadata": {
        "id": "Fl33b1ZnI5Xp"
      }
    }
  ]
}