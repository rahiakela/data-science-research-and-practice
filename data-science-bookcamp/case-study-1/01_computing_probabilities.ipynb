{
  "nbformat": 4,
  "nbformat_minor": 0,
  "metadata": {
    "colab": {
      "name": "01-computing-probabilities.ipynb",
      "provenance": [],
      "toc_visible": true,
      "authorship_tag": "ABX9TyMEi5NUxTcowUlroaMV3HLM",
      "include_colab_link": true
    },
    "kernelspec": {
      "name": "python3",
      "display_name": "Python 3"
    },
    "language_info": {
      "name": "python"
    }
  },
  "cells": [
    {
      "cell_type": "markdown",
      "metadata": {
        "id": "view-in-github",
        "colab_type": "text"
      },
      "source": [
        "<a href=\"https://colab.research.google.com/github/rahiakela/data-science-research-and-practice/blob/main/data-science-bookcamp/case-study-1/01_computing_probabilities.ipynb\" target=\"_parent\"><img src=\"https://colab.research.google.com/assets/colab-badge.svg\" alt=\"Open In Colab\"/></a>"
      ]
    },
    {
      "cell_type": "markdown",
      "source": [
        "##Computing probabilities"
      ],
      "metadata": {
        "id": "X3Ct7iGRluml"
      }
    },
    {
      "cell_type": "markdown",
      "source": [
        "**Few things in life are certain; most things are driven by chance**. Whenever we cheer\n",
        "for our favorite sports team, or purchase a lottery ticket, or make an investment in\n",
        "the stock market, we hope for some particular outcome, but that outcome cannot\n",
        "ever be guaranteed.\n",
        "\n",
        "**Randomness permeates our day-to-day experiences**. Fortunately,\n",
        "that randomness can still be mitigated and controlled.\n",
        "\n",
        "We know that some\n",
        "unpredictable events occur more rarely than others and that certain decisions carry\n",
        "less uncertainty than other much-riskier choices. **Driving to work in a car is safer than riding a motorcycle.**\n",
        "\n",
        "**These behaviors have been rigorously studied using\n",
        "probability theory.** \n",
        "\n",
        "Probability theory is an inherently complex branch of math. However,\n",
        "aspects of the theory can be understood without knowing the mathematical underpinnings. \n",
        "\n",
        "In fact, difficult probability problems can be solved in Python without\n",
        "needing to know a single math equation. **Such an equation-free approach to probability requires a baseline understanding of what mathematicians call a sample space.**\n",
        "\n",
        "We approach the  probability problems by following the four steps:\n",
        "\n",
        "1. Defining all possible of problem.\n",
        "2. Creating the sample space.\n",
        "3. Defining the event condition.\n",
        "4. Computing the event probability."
      ],
      "metadata": {
        "id": "_7QnaFM6m4L3"
      }
    },
    {
      "cell_type": "markdown",
      "source": [
        "##Sample space analysis"
      ],
      "metadata": {
        "id": "4R4c-yZpnjHG"
      }
    },
    {
      "cell_type": "markdown",
      "source": [
        "**Certain actions have measurable outcomes. A sample space is the set of all the possible outcomes an action could produce.**\n",
        "\n",
        "Let’s take the simple action of flipping a coin. The\n",
        "coin will land on either heads or tails. Thus, the coin flip will produce one of two measurable outcomes: `heads` or `tails`."
      ],
      "metadata": {
        "id": "LioTqsQQnklo"
      }
    },
    {
      "cell_type": "code",
      "source": [
        "sample_space = {\"heads\", \"tails\"}"
      ],
      "metadata": {
        "id": "j9q1NjL2n20x"
      },
      "execution_count": 1,
      "outputs": []
    },
    {
      "cell_type": "markdown",
      "source": [
        "Well, our sample space holds two possible elements.\n",
        "Each element occupies an equal fraction of the space within the set. Therefore, we expect Heads to be selected with a frequency of `1/2`.\n",
        "\n",
        "**That frequency is formally defined as the probability of an outcome. All outcomes within `sample_space` share an identical probability, which is equal to `1 / len(sample_space)`.**"
      ],
      "metadata": {
        "id": "v42px-5voGC0"
      }
    },
    {
      "cell_type": "code",
      "source": [
        "probability_heads = 1 / len(sample_space)\n",
        "print(f\"Probability of choosing heads is {probability_heads}\")"
      ],
      "metadata": {
        "id": "zWvNbOeToUia",
        "outputId": "aad20a87-451c-4b4e-9097-1de73a810a43",
        "colab": {
          "base_uri": "https://localhost:8080/"
        }
      },
      "execution_count": 2,
      "outputs": [
        {
          "output_type": "stream",
          "name": "stdout",
          "text": [
            "Probability of choosing heads is 0.5\n"
          ]
        }
      ]
    },
    {
      "cell_type": "markdown",
      "source": [
        "The probability of choosing Heads equals 0.5. This relates directly to the action of flipping a coin.\n",
        "\n",
        "Thus, a coin flip is conceptually equivalent to choosing\n",
        "a random element from sample_space. The probability of the coin landing on heads\n",
        "is therefore 0.5; the probability of it landing on tails is also equal to 0.5.\n",
        "\n",
        "**An event is the subset of those elements within `sample_space` that satisfy some event condition.**An event condition\n",
        "is a simple Boolean function whose input is a single `sample_space` element.\n",
        "\n",
        "Let’s define two event conditions: one where the coin lands on either heads or tails, and another where the coin lands on neither heads nor tails."
      ],
      "metadata": {
        "id": "wFU3XDUdsEVY"
      }
    },
    {
      "cell_type": "code",
      "source": [
        "def is_heads_or_tails(outcome):\n",
        "  return outcome in sample_space"
      ],
      "metadata": {
        "id": "4187Cj-HskCu"
      },
      "execution_count": 3,
      "outputs": []
    },
    {
      "cell_type": "code",
      "source": [
        "def is_neither(outcome):\n",
        "  return not is_heads_or_tails(outcome)"
      ],
      "metadata": {
        "id": "TPJT8VypsbZX"
      },
      "execution_count": 4,
      "outputs": []
    },
    {
      "cell_type": "markdown",
      "source": [
        "Also, for the sake of completeness, let’s define event conditions for the two basic\n",
        "events in which the coin satisfies exactly one of our two potential outcomes."
      ],
      "metadata": {
        "id": "7nqcXO6As_kR"
      }
    },
    {
      "cell_type": "code",
      "source": [
        "def is_heads(outcome):\n",
        "  return outcome == \"heads\"\n",
        "\n",
        "def is_tails(outcome):\n",
        "  return outcome == \"tails\""
      ],
      "metadata": {
        "id": "1F7xAPW3tAMh"
      },
      "execution_count": 5,
      "outputs": []
    },
    {
      "cell_type": "markdown",
      "source": [
        "We can pass event conditions into a generalized `get_matching_event` function.\n",
        "Its inputs are an event condition and a generic sample space."
      ],
      "metadata": {
        "id": "cuHVE98YtVNV"
      }
    },
    {
      "cell_type": "code",
      "source": [
        "def get_matching_event(event_condition, sample_space):\n",
        "  return set([outcome for outcome in sample_space if event_condition(outcome)])"
      ],
      "metadata": {
        "id": "SFyi7LzswCwx"
      },
      "execution_count": 6,
      "outputs": []
    },
    {
      "cell_type": "markdown",
      "source": [
        "Let’s execute `get_matching_event` on our four event conditions. Then we’ll output the four extracted events."
      ],
      "metadata": {
        "id": "g7qwGRu2w0yo"
      }
    },
    {
      "cell_type": "code",
      "source": [
        "event_conditions = [is_heads_or_tails, is_heads, is_tails, is_neither]\n",
        "\n",
        "for event_condition in event_conditions:\n",
        "  print(f\"Event Condition: {event_condition.__name__}\")\n",
        "  event = get_matching_event(event_condition, sample_space)\n",
        "  print(f\"Event: {event}\\n\")"
      ],
      "metadata": {
        "id": "hS7T8ZA4w3aL",
        "outputId": "c4c98b44-6374-435d-fc0a-d8a9e8496476",
        "colab": {
          "base_uri": "https://localhost:8080/"
        }
      },
      "execution_count": 7,
      "outputs": [
        {
          "output_type": "stream",
          "name": "stdout",
          "text": [
            "Event Condition: is_heads_or_tails\n",
            "Event: {'tails', 'heads'}\n",
            "\n",
            "Event Condition: is_heads\n",
            "Event: {'heads'}\n",
            "\n",
            "Event Condition: is_tails\n",
            "Event: {'tails'}\n",
            "\n",
            "Event Condition: is_neither\n",
            "Event: set()\n",
            "\n"
          ]
        }
      ]
    },
    {
      "cell_type": "markdown",
      "source": [
        "The probability of a single-element outcome for a fair coin is `1 / len(sample_space)`. This property can be generalized to\n",
        "include multi-element events. The probability of an event is equal to `len(event) / len(sample_space)`, but only if all outcomes are known to occur with equal likelihood.\n",
        "\n",
        "In other words, **the probability of a multi-element event for a fair coin is equal to the event size divided by the sample space size.**\n",
        "\n",
        "We now use event size to compute the four event probabilities."
      ],
      "metadata": {
        "id": "NtgfSYJSyPFX"
      }
    },
    {
      "cell_type": "code",
      "source": [
        "def compute_probability(event_condition, generic_sample_space):\n",
        "  # The compute_probability function extracts the event associated with an inputted event condition to compute its probability\n",
        "  event = get_matching_event(event_condition, generic_sample_space)\n",
        "  return len(event) / len(generic_sample_space)  # Probability is equal to event size divided by sample space size"
      ],
      "metadata": {
        "id": "Xs6dWFFCyjjk"
      },
      "execution_count": 8,
      "outputs": []
    },
    {
      "cell_type": "code",
      "source": [
        "for event_condition in event_conditions:\n",
        "  prob = compute_probability(event_condition, sample_space)\n",
        "  name = event_condition.__name__\n",
        "  print(f\"Probability of event arising from {'name'} is {prob}\")"
      ],
      "metadata": {
        "id": "_1cQEy162Hkc",
        "outputId": "3a2c23ed-41cc-4eed-89f6-abf7faeeee45",
        "colab": {
          "base_uri": "https://localhost:8080/"
        }
      },
      "execution_count": 9,
      "outputs": [
        {
          "output_type": "stream",
          "name": "stdout",
          "text": [
            "Probability of event arising from name is 1.0\n",
            "Probability of event arising from name is 0.5\n",
            "Probability of event arising from name is 0.5\n",
            "Probability of event arising from name is 0.0\n"
          ]
        }
      ]
    },
    {
      "cell_type": "markdown",
      "source": [
        "The outputs is a diverse range of event probabilities, the smallest of\n",
        "which is 0.0 and the largest of which is 1.0.\n",
        "\n",
        "These values represent the lower and\n",
        "upper bounds of probability; no probability can ever fall below 0.0 or rise above 1.0."
      ],
      "metadata": {
        "id": "OyN1zgWD2fiL"
      }
    },
    {
      "cell_type": "markdown",
      "source": [
        "###Analyzing a biased coin"
      ],
      "metadata": {
        "id": "xsscrFrI2mIZ"
      }
    },
    {
      "cell_type": "markdown",
      "source": [
        "What would happen if that coin was biased?\n",
        "\n",
        "Suppose, for instance, that a coin is four times more likely to land on heads\n",
        "relative to tails. \n",
        "\n",
        "How do we compute the likelihoods of outcomes that are not\n",
        "weighted in an equal manner?\n",
        "\n",
        "Well, **we can construct a weighted sample space represented\n",
        "by a Python dictionary. Each outcome is treated as a key whose value maps to\n",
        "the associated weight.**"
      ],
      "metadata": {
        "id": "94EEL7ji2p__"
      }
    },
    {
      "cell_type": "code",
      "source": [
        "weighted_sample_space = {\"heads\": 4, \"tails\": 1}"
      ],
      "metadata": {
        "id": "WWrZDbauzlwZ"
      },
      "execution_count": 10,
      "outputs": []
    },
    {
      "cell_type": "markdown",
      "source": [
        "Our new sample space is stored in a dictionary. \n",
        "\n",
        "This allows us to redefine the size of\n",
        "the sample space as the sum of all dictionary weights."
      ],
      "metadata": {
        "id": "_hOeEYUrzwI1"
      }
    },
    {
      "cell_type": "code",
      "source": [
        "sample_space_size = sum(weighted_sample_space.values())\n",
        "assert sample_space_size == 5"
      ],
      "metadata": {
        "id": "o56eU4WGzwtE"
      },
      "execution_count": 11,
      "outputs": []
    },
    {
      "cell_type": "markdown",
      "source": [
        "We can redefine event size in a similar manner. Each event is a set of outcomes, and\n",
        "those outcomes map to weights. Summing over the weights yields the event size. \n",
        "\n",
        "Thus,\n",
        "the size of the event satisfying the `is_heads_or_tails` event condition is also 5."
      ],
      "metadata": {
        "id": "leywvBJd0BXi"
      }
    },
    {
      "cell_type": "code",
      "source": [
        "# This is because Python iterates over dictionary keys, not key-value pairs\n",
        "event = get_matching_event(is_heads_or_tails, weighted_sample_space)\n",
        "event_size = sum(weighted_sample_space[outcome] for outcome in event)\n",
        "assert event_size == 5"
      ],
      "metadata": {
        "id": "9edFX_Nc0D-M"
      },
      "execution_count": 12,
      "outputs": []
    },
    {
      "cell_type": "code",
      "source": [
        "event"
      ],
      "metadata": {
        "id": "w0_70JkL0pyx",
        "outputId": "874ca988-982c-409c-9a0a-0ffa976ba9ea",
        "colab": {
          "base_uri": "https://localhost:8080/"
        }
      },
      "execution_count": 13,
      "outputs": [
        {
          "output_type": "execute_result",
          "data": {
            "text/plain": [
              "{'heads', 'tails'}"
            ]
          },
          "metadata": {},
          "execution_count": 13
        }
      ]
    },
    {
      "cell_type": "markdown",
      "source": [
        "Our generalized definitions of sample space size and event size permit us to create a\n",
        "`compute_event_probability` function. \n",
        "\n",
        "The function takes as input a `generic_sample_space` variable that can be either a weighted dictionary or an unweighted set."
      ],
      "metadata": {
        "id": "5n_ctuy_0zA1"
      }
    },
    {
      "cell_type": "code",
      "source": [
        "def compute_event_probability(event_condition, generic_sample_space):\n",
        "  event = get_matching_event(event_condition, generic_sample_space)\n",
        "\n",
        "  # Checks whether generic_event_space is a set\n",
        "  if type(generic_sample_space) == type(set()):\n",
        "    return len(event) / len(generic_sample_space)\n",
        "\n",
        "  event_size = sum(generic_sample_space[outcome] for outcome in event)\n",
        "  return event_size / sum(generic_sample_space.values())"
      ],
      "metadata": {
        "id": "tNeYlCsy04DW"
      },
      "execution_count": 14,
      "outputs": []
    },
    {
      "cell_type": "markdown",
      "source": [
        "We can now output all the event probabilities for the biased coin without needing to\n",
        "redefine our four event condition functions."
      ],
      "metadata": {
        "id": "NvMJuirI1pCL"
      }
    },
    {
      "cell_type": "code",
      "source": [
        "for event_condition in event_conditions:\n",
        "  prob = compute_event_probability(event_condition, weighted_sample_space)\n",
        "  name = event_condition.__name__\n",
        "  print(f\"Probability of event arising from '{name}' is {prob}\")"
      ],
      "metadata": {
        "id": "Tk3guNZP1pgi",
        "outputId": "b4f9f6c1-ea8d-4759-b500-dc160e9a7df8",
        "colab": {
          "base_uri": "https://localhost:8080/"
        }
      },
      "execution_count": 15,
      "outputs": [
        {
          "output_type": "stream",
          "name": "stdout",
          "text": [
            "Probability of event arising from 'is_heads_or_tails' is 1.0\n",
            "Probability of event arising from 'is_heads' is 0.8\n",
            "Probability of event arising from 'is_tails' is 0.2\n",
            "Probability of event arising from 'is_neither' is 0.0\n"
          ]
        }
      ]
    },
    {
      "cell_type": "markdown",
      "source": [
        "Let's define 5 times biased coin."
      ],
      "metadata": {
        "id": "6rNQQfD_2K66"
      }
    },
    {
      "cell_type": "code",
      "source": [
        "weighted_sample_space = {\"heads\": 5, \"tails\": 1}"
      ],
      "metadata": {
        "id": "aYAJa4Ue2QSX"
      },
      "execution_count": 16,
      "outputs": []
    },
    {
      "cell_type": "code",
      "source": [
        "for event_condition in event_conditions:\n",
        "  prob = compute_event_probability(event_condition, weighted_sample_space)\n",
        "  name = event_condition.__name__\n",
        "  print(f\"Probability of event arising from '{name}' is {prob}\")"
      ],
      "metadata": {
        "id": "SC-YXj402WIb",
        "outputId": "d9d9334e-5814-4aac-8916-2d9ee50c5b41",
        "colab": {
          "base_uri": "https://localhost:8080/"
        }
      },
      "execution_count": 17,
      "outputs": [
        {
          "output_type": "stream",
          "name": "stdout",
          "text": [
            "Probability of event arising from 'is_heads_or_tails' is 1.0\n",
            "Probability of event arising from 'is_heads' is 0.8333333333333334\n",
            "Probability of event arising from 'is_tails' is 0.16666666666666666\n",
            "Probability of event arising from 'is_neither' is 0.0\n"
          ]
        }
      ]
    },
    {
      "cell_type": "markdown",
      "source": [
        "Let's define 3 times biased coin."
      ],
      "metadata": {
        "id": "O4VcmAch2eHj"
      }
    },
    {
      "cell_type": "code",
      "source": [
        "weighted_sample_space = {\"heads\": 3, \"tails\": 1}\n",
        "\n",
        "for event_condition in event_conditions:\n",
        "  prob = compute_event_probability(event_condition, weighted_sample_space)\n",
        "  name = event_condition.__name__\n",
        "  print(f\"Probability of event arising from '{name}' is {prob}\")"
      ],
      "metadata": {
        "id": "N23GhCpt2ffm",
        "outputId": "d7634b09-0e26-44a5-b95e-b072683bf7ad",
        "colab": {
          "base_uri": "https://localhost:8080/"
        }
      },
      "execution_count": 18,
      "outputs": [
        {
          "output_type": "stream",
          "name": "stdout",
          "text": [
            "Probability of event arising from 'is_heads_or_tails' is 1.0\n",
            "Probability of event arising from 'is_heads' is 0.75\n",
            "Probability of event arising from 'is_tails' is 0.25\n",
            "Probability of event arising from 'is_neither' is 0.0\n"
          ]
        }
      ]
    },
    {
      "cell_type": "markdown",
      "source": [
        "##Computing nontrivial probabilities"
      ],
      "metadata": {
        "id": "dhFL8xHu3voM"
      }
    },
    {
      "cell_type": "markdown",
      "source": [
        "We’ll now solve several example problems using `compute_event_probability`."
      ],
      "metadata": {
        "id": "PMmCe8Vh3wf2"
      }
    },
    {
      "cell_type": "markdown",
      "source": [
        "###Problem 1: Analyzing a family with four children"
      ],
      "metadata": {
        "id": "N5ZT_kL34dcq"
      }
    },
    {
      "cell_type": "markdown",
      "source": [
        "Suppose a family has four children. What is the probability that exactly two of the children are boys?\n",
        "\n",
        "We’ll assume that each child is equally likely to be either a boy or a girl.\n",
        "Thus we can construct an unweighted sample space where each outcome represents\n",
        "one possible sequence of four children.\n",
        "\n",
        "|   |   |   |   |\n",
        "|---|---|---|---|\n",
        "|B|B|B|B|\n",
        "|B|B|B|G|\n",
        "|B|B|G|B|\n",
        "|B|G|B|B|\n",
        "|G|B|B|B|\n",
        "|G|G|B|B|\n",
        "|G|B|B|G|\n",
        "|B|B|G|G|\n",
        "|B|G|B|G|\n",
        "|G|B|G|B|\n",
        "|B|G|G|B|\n",
        "|B|G|G|G|\n",
        "|G|G|G|B|\n",
        "|G|B|G|G|\n",
        "|G|G|B|G|\n",
        "|G|G|G|G|\n",
        "\n",
        "The sample space for four sibling children.\n",
        "Each row in the sample space contains 1 of 16 possible\n",
        "outcomes. Every outcome represents a unique combination\n",
        "of four children. The sex of each child is indicated by a letter:\n",
        "`B` for boy and `G` for girl. Outcomes with two boys are marked\n",
        "by an arrow. There are six such arrows; thus, the probability\n",
        "of two boys equals `6 / 16`.\n",
        "\n",
        "\n"
      ],
      "metadata": {
        "id": "EjgBhlTj4gBO"
      }
    },
    {
      "cell_type": "code",
      "source": [
        "possible_children = [\"boy\", \"girl\"]\n",
        "sample_space = set()\n",
        "\n",
        "# Each possible sequence of four children is represented by a four-element tuple\n",
        "for child1 in possible_children:\n",
        "  for child2 in possible_children:\n",
        "    for child3 in possible_children:\n",
        "      for child4 in possible_children:\n",
        "        outcome = (child1, child2, child3, child4)\n",
        "        sample_space.add(outcome)\n",
        "sample_space"
      ],
      "metadata": {
        "id": "IJsRTuEI8Dml",
        "outputId": "63cf641a-09de-4e64-cfa0-e4788498f90b",
        "colab": {
          "base_uri": "https://localhost:8080/"
        }
      },
      "execution_count": 19,
      "outputs": [
        {
          "output_type": "execute_result",
          "data": {
            "text/plain": [
              "{('boy', 'boy', 'boy', 'boy'),\n",
              " ('boy', 'boy', 'boy', 'girl'),\n",
              " ('boy', 'boy', 'girl', 'boy'),\n",
              " ('boy', 'boy', 'girl', 'girl'),\n",
              " ('boy', 'girl', 'boy', 'boy'),\n",
              " ('boy', 'girl', 'boy', 'girl'),\n",
              " ('boy', 'girl', 'girl', 'boy'),\n",
              " ('boy', 'girl', 'girl', 'girl'),\n",
              " ('girl', 'boy', 'boy', 'boy'),\n",
              " ('girl', 'boy', 'boy', 'girl'),\n",
              " ('girl', 'boy', 'girl', 'boy'),\n",
              " ('girl', 'boy', 'girl', 'girl'),\n",
              " ('girl', 'girl', 'boy', 'boy'),\n",
              " ('girl', 'girl', 'boy', 'girl'),\n",
              " ('girl', 'girl', 'girl', 'boy'),\n",
              " ('girl', 'girl', 'girl', 'girl')}"
            ]
          },
          "metadata": {},
          "execution_count": 19
        }
      ]
    },
    {
      "cell_type": "markdown",
      "source": [
        "We can more easily generate our sample space using Python’s\n",
        "built-in `itertools.product` function, which returns all pairwise combinations of all elements across all input lists."
      ],
      "metadata": {
        "id": "IcjbS-gy9BV8"
      }
    },
    {
      "cell_type": "code",
      "source": [
        "from itertools import product"
      ],
      "metadata": {
        "id": "OQ1TiY789DqS"
      },
      "execution_count": 20,
      "outputs": []
    },
    {
      "cell_type": "code",
      "source": [
        "all_combinations = product(*(4 * [possible_children]))  # The * operator unpacks multiple arguments stored within a list.\n",
        "assert set(all_combinations) == sample_space            # Note that after running this line, all_combinations will be empty."
      ],
      "metadata": {
        "id": "sVw4SpDg9HBf"
      },
      "execution_count": 21,
      "outputs": []
    },
    {
      "cell_type": "markdown",
      "source": [
        "In general, running `product(possible_children, repeat=n)`\n",
        "returns an iterable over all possible combinations of n children."
      ],
      "metadata": {
        "id": "HBLOsRdt9hyC"
      }
    },
    {
      "cell_type": "code",
      "source": [
        "sample_space_efficient = set(product(possible_children, repeat=4))\n",
        "assert sample_space == sample_space_efficient"
      ],
      "metadata": {
        "id": "WY1CTUlI9jjx"
      },
      "execution_count": 22,
      "outputs": []
    },
    {
      "cell_type": "markdown",
      "source": [
        "Let’s calculate the fraction of `sample_space` that is composed of families with two boys. \n",
        "\n",
        "We define a `has_two_boys` event condition and then pass that condition into\n",
        "`compute_event_probability`."
      ],
      "metadata": {
        "id": "bbF628j8-N1V"
      }
    },
    {
      "cell_type": "code",
      "source": [
        "def has_two_boys(outcome):\n",
        "  return len([child for child in outcome if child == \"boy\"]) == 2"
      ],
      "metadata": {
        "id": "gDnAwdQd-Tuu"
      },
      "execution_count": 23,
      "outputs": []
    },
    {
      "cell_type": "code",
      "source": [
        "prob = compute_event_probability(has_two_boys, sample_space)\n",
        "print(f\"Probability of 2 boys is {prob}\")"
      ],
      "metadata": {
        "id": "chDGIKZJ-ie0",
        "outputId": "38dfa97e-d989-49bd-fb2f-acd80239977a",
        "colab": {
          "base_uri": "https://localhost:8080/"
        }
      },
      "execution_count": 24,
      "outputs": [
        {
          "output_type": "stream",
          "name": "stdout",
          "text": [
            "Probability of 2 boys is 0.375\n"
          ]
        }
      ]
    },
    {
      "cell_type": "code",
      "source": [
        "prob = compute_event_probability(lambda outcome: len([child for child in outcome if child == \"boy\"]) == 2, sample_space)\n",
        "print(f\"Probability of 2 boys is {prob}\")"
      ],
      "metadata": {
        "colab": {
          "base_uri": "https://localhost:8080/"
        },
        "id": "HWnlYtMEGkyK",
        "outputId": "2ea54190-af86-4b12-e2ab-4b6703757e1d"
      },
      "execution_count": 25,
      "outputs": [
        {
          "output_type": "stream",
          "name": "stdout",
          "text": [
            "Probability of 2 boys is 0.375\n"
          ]
        }
      ]
    },
    {
      "cell_type": "markdown",
      "source": [
        "The probability of exactly two boys being born in a family of four children is `0.375`. By implication, we expect `37.5%` of families with four children to contain an equal number\n",
        "of boys and girls. \n",
        "\n",
        "Of course, the actual observed percentage of families with two\n",
        "boys will vary due to random chance.\n",
        "\n",
        "Now let's find answer of some more questions.\n",
        "\n",
        "What is the probability that exactly three of the children are boys?"
      ],
      "metadata": {
        "id": "kLpXv_qm-6SD"
      }
    },
    {
      "cell_type": "code",
      "source": [
        "def has_thee_boys(outcome):\n",
        "  return len([child for child in outcome if child == \"boy\"]) == 3"
      ],
      "metadata": {
        "id": "S73ddOt6_XHj"
      },
      "execution_count": 26,
      "outputs": []
    },
    {
      "cell_type": "code",
      "source": [
        "prob = compute_event_probability(has_thee_boys, sample_space)\n",
        "print(f\"Probability of 3 boys is {prob}\")"
      ],
      "metadata": {
        "id": "vS-xbInO_hca",
        "outputId": "1fe59db0-8a85-48ea-c8b0-d4f8421dd04b",
        "colab": {
          "base_uri": "https://localhost:8080/"
        }
      },
      "execution_count": 27,
      "outputs": [
        {
          "output_type": "stream",
          "name": "stdout",
          "text": [
            "Probability of 3 boys is 0.25\n"
          ]
        }
      ]
    },
    {
      "cell_type": "code",
      "source": [
        "prob = compute_event_probability(lambda outcome: len([child for child in outcome if child == \"boy\"]) == 3, sample_space)\n",
        "print(f\"Probability of 3 boys is {prob}\")"
      ],
      "metadata": {
        "colab": {
          "base_uri": "https://localhost:8080/"
        },
        "id": "ijUCYTrrPH0B",
        "outputId": "d95fa630-92f2-4218-8e60-d027d2a4a2d2"
      },
      "execution_count": 28,
      "outputs": [
        {
          "output_type": "stream",
          "name": "stdout",
          "text": [
            "Probability of 3 boys is 0.25\n"
          ]
        }
      ]
    },
    {
      "cell_type": "markdown",
      "source": [
        "What is the probability that exactly one of the children are boys?"
      ],
      "metadata": {
        "id": "mXz61RqkA-Ka"
      }
    },
    {
      "cell_type": "code",
      "source": [
        "def has_one_boys(outcome):\n",
        "  return len([child for child in outcome if child == \"boy\"]) == 1"
      ],
      "metadata": {
        "id": "cm4mdCg5BBhC"
      },
      "execution_count": 29,
      "outputs": []
    },
    {
      "cell_type": "code",
      "source": [
        "prob = compute_event_probability(has_one_boys, sample_space)\n",
        "print(f\"Probability of 1 boys is {prob}\")"
      ],
      "metadata": {
        "id": "LZDtv_hMBE-t",
        "outputId": "6ac5df20-f7f5-4eb8-8021-c8723918a8ec",
        "colab": {
          "base_uri": "https://localhost:8080/"
        }
      },
      "execution_count": 30,
      "outputs": [
        {
          "output_type": "stream",
          "name": "stdout",
          "text": [
            "Probability of 1 boys is 0.25\n"
          ]
        }
      ]
    },
    {
      "cell_type": "code",
      "source": [
        "prob = compute_event_probability(lambda outcome: len([child for child in outcome if child == \"boy\"]) == 1, sample_space)\n",
        "print(f\"Probability of 1 boys is {prob}\")"
      ],
      "metadata": {
        "colab": {
          "base_uri": "https://localhost:8080/"
        },
        "id": "ID8fScxlPPwe",
        "outputId": "1f15995c-fdbe-4023-d2a6-fc33e54d6ab8"
      },
      "execution_count": 31,
      "outputs": [
        {
          "output_type": "stream",
          "name": "stdout",
          "text": [
            "Probability of 1 boys is 0.25\n"
          ]
        }
      ]
    },
    {
      "cell_type": "markdown",
      "source": [
        "So  the probability of one and three boys are the same.\n",
        "\n",
        "What is the probability that exactly four of the children are boys?\n",
        "\n"
      ],
      "metadata": {
        "id": "WJHRPUr3BkWm"
      }
    },
    {
      "cell_type": "code",
      "source": [
        "def has_four_boys(outcome):\n",
        "  return len([child for child in outcome if child == \"boy\"]) == 4"
      ],
      "metadata": {
        "id": "FwCNclI3Bzf4"
      },
      "execution_count": 32,
      "outputs": []
    },
    {
      "cell_type": "code",
      "source": [
        "prob = compute_event_probability(lambda outcome: len([child for child in outcome if child == \"boy\"]) == 4, sample_space)\n",
        "print(f\"Probability of 4 boys is {prob}\")"
      ],
      "metadata": {
        "id": "Fa3udpuKB4Wf",
        "outputId": "ae3bc77a-b369-4540-e838-94f803654448",
        "colab": {
          "base_uri": "https://localhost:8080/"
        }
      },
      "execution_count": 33,
      "outputs": [
        {
          "output_type": "stream",
          "name": "stdout",
          "text": [
            "Probability of 4 boys is 0.0625\n"
          ]
        }
      ]
    },
    {
      "cell_type": "markdown",
      "source": [
        "Note that the  probability would be the same for girls also.\n",
        "\n",
        "Let's combine all events together."
      ],
      "metadata": {
        "id": "RtJOIUm1CI3P"
      }
    },
    {
      "cell_type": "code",
      "source": [
        "event_conditions = [has_one_boys, has_two_boys, has_thee_boys, has_four_boys]\n",
        "\n",
        "for event_condition in event_conditions:\n",
        "  prob = compute_event_probability(event_condition, sample_space)\n",
        "  name = event_condition.__name__\n",
        "  print(f\"Probability of event arising from '{name}' is {prob}\")"
      ],
      "metadata": {
        "id": "oBVp6dyXCYa6",
        "outputId": "877410c8-e1e3-4af3-e9b3-ad0a716b6ea4",
        "colab": {
          "base_uri": "https://localhost:8080/"
        }
      },
      "execution_count": 34,
      "outputs": [
        {
          "output_type": "stream",
          "name": "stdout",
          "text": [
            "Probability of event arising from 'has_one_boys' is 0.25\n",
            "Probability of event arising from 'has_two_boys' is 0.375\n",
            "Probability of event arising from 'has_thee_boys' is 0.25\n",
            "Probability of event arising from 'has_four_boys' is 0.0625\n"
          ]
        }
      ]
    },
    {
      "cell_type": "markdown",
      "source": [
        "###Problem 2: Analyzing multiple die rolls"
      ],
      "metadata": {
        "id": "ce2sm-TIDCq4"
      }
    },
    {
      "cell_type": "markdown",
      "source": [
        "Suppose we’re shown a fair six-sided die whose faces are numbered from 1 to 6. The die is rolled six times. \n",
        "\n",
        "What is the probability that these six die rolls add up to 21?\n",
        "\n",
        "We begin by defining the possible values of any single roll. These are integers that range from 1 to 6.\n",
        "\n",
        "**Step-1:** Defining all possible rolls of a six-sided die."
      ],
      "metadata": {
        "id": "_Fh8xGmtDDcv"
      }
    },
    {
      "cell_type": "code",
      "source": [
        "possible_rolls = list(range(1, 7))\n",
        "possible_rolls"
      ],
      "metadata": {
        "colab": {
          "base_uri": "https://localhost:8080/"
        },
        "id": "mIu1FdquQpMt",
        "outputId": "c78eabfa-f497-4c6d-9b3d-2d7a3d86f7e0"
      },
      "execution_count": 35,
      "outputs": [
        {
          "output_type": "execute_result",
          "data": {
            "text/plain": [
              "[1, 2, 3, 4, 5, 6]"
            ]
          },
          "metadata": {},
          "execution_count": 35
        }
      ]
    },
    {
      "cell_type": "markdown",
      "source": [
        "**Step-2:** Creating the sample space for six consecutive rolls using the product function."
      ],
      "metadata": {
        "id": "5n17NzD9QzMu"
      }
    },
    {
      "cell_type": "code",
      "source": [
        "sample_space = set(product(possible_rolls, repeat=6))"
      ],
      "metadata": {
        "id": "FbMTPtCoQ4VA"
      },
      "execution_count": 36,
      "outputs": []
    },
    {
      "cell_type": "markdown",
      "source": [
        "**Step-3:** Defining a `has_sum_of_21` event condition."
      ],
      "metadata": {
        "id": "xFS6c5SMRI1Q"
      }
    },
    {
      "cell_type": "code",
      "source": [
        "def has_sum_of_21(outcome):\n",
        "  return sum(outcome) == 21"
      ],
      "metadata": {
        "id": "FtZ_9OknROK2"
      },
      "execution_count": 37,
      "outputs": []
    },
    {
      "cell_type": "markdown",
      "source": [
        "**Step-4:** Computing the probability of a die-roll sum."
      ],
      "metadata": {
        "id": "ohbTSa8MRYxR"
      }
    },
    {
      "cell_type": "code",
      "source": [
        "prob = compute_event_probability(has_sum_of_21, sample_space)\n",
        "print(f\"6 rolls sum to 21 with a probability of {prob}\")"
      ],
      "metadata": {
        "colab": {
          "base_uri": "https://localhost:8080/"
        },
        "id": "OOHVxgFhRcDS",
        "outputId": "89d2c359-4758-4ce2-bdf2-8b0bb9398a2c"
      },
      "execution_count": 38,
      "outputs": [
        {
          "output_type": "stream",
          "name": "stdout",
          "text": [
            "6 rolls sum to 21 with a probability of 0.09284979423868313\n"
          ]
        }
      ]
    },
    {
      "cell_type": "code",
      "source": [
        "prob = compute_event_probability(lambda outcome: sum(outcome) == 21, sample_space)\n",
        "print(f\"6 rolls sum to 21 with a probability of {prob}\")"
      ],
      "metadata": {
        "colab": {
          "base_uri": "https://localhost:8080/"
        },
        "id": "C1q0oIGMRn6e",
        "outputId": "22bb2103-c033-467d-e95a-733fbce08c8e"
      },
      "execution_count": 39,
      "outputs": [
        {
          "output_type": "stream",
          "name": "stdout",
          "text": [
            "6 rolls sum to 21 with a probability of 0.09284979423868313\n"
          ]
        }
      ]
    },
    {
      "cell_type": "markdown",
      "source": [
        "The six die rolls will sum to 21 more than 9% of the time."
      ],
      "metadata": {
        "id": "66FOnmt2R4rW"
      }
    },
    {
      "cell_type": "code",
      "source": [
        "prob = compute_event_probability(lambda outcome: sum(outcome) == 12, sample_space)\n",
        "print(f\"6 rolls sum to 12 with a probability of {prob}\")"
      ],
      "metadata": {
        "id": "OpwMvJbPSLvi",
        "outputId": "39b71bd9-18f9-4d1f-f5ac-320ff192a644",
        "colab": {
          "base_uri": "https://localhost:8080/"
        }
      },
      "execution_count": 43,
      "outputs": [
        {
          "output_type": "stream",
          "name": "stdout",
          "text": [
            "6 rolls sum to 12 with a probability of 0.00977366255144033\n"
          ]
        }
      ]
    },
    {
      "cell_type": "code",
      "source": [
        "prob = compute_event_probability(lambda outcome: sum(outcome) == 6, sample_space)\n",
        "print(f\"6 rolls sum to 6 with a probability of {prob}\")"
      ],
      "metadata": {
        "id": "rDXMvJbWSOxw",
        "outputId": "94fc1e1b-5cf9-40f3-ec5e-16ecbabd394e",
        "colab": {
          "base_uri": "https://localhost:8080/"
        }
      },
      "execution_count": 46,
      "outputs": [
        {
          "output_type": "stream",
          "name": "stdout",
          "text": [
            "6 rolls sum to 6 with a probability of 2.143347050754458e-05\n"
          ]
        }
      ]
    },
    {
      "cell_type": "code",
      "source": [
        "prob = compute_event_probability(lambda outcome: sum(outcome) == 36, sample_space)\n",
        "print(f\"6 rolls sum to 36 with a probability of {prob}\")"
      ],
      "metadata": {
        "id": "bQjp_fqESSTV",
        "outputId": "66fc3a07-7c08-4ba4-adb1-210eda1e80a6",
        "colab": {
          "base_uri": "https://localhost:8080/"
        }
      },
      "execution_count": 45,
      "outputs": [
        {
          "output_type": "stream",
          "name": "stdout",
          "text": [
            "6 rolls sum to 36 with a probability of 2.143347050754458e-05\n"
          ]
        }
      ]
    },
    {
      "cell_type": "markdown",
      "source": [
        "###Problem 3: Computing die-roll probabilities using weighted sample spaces"
      ],
      "metadata": {
        "id": "P4apCcrKSMI_"
      }
    },
    {
      "cell_type": "markdown",
      "source": [
        "Now, let’s recompute\n",
        "that probability using a weighted sample space. We need to convert our unweighted\n",
        "sample space set into a weighted sample space dictionary; this will require us to identify\n",
        "all possible die-roll sums. \n",
        "\n",
        "Then we must count the number of times each sum\n",
        "appears across all possible die-roll combinations. These combinations are already stored\n",
        "in our computed `sample_space` set. By mapping the die-roll sums to their occurrence\n",
        "counts, we will produce a `weighted_sample_space` result."
      ],
      "metadata": {
        "id": "xkfa2Qd_SOOr"
      }
    },
    {
      "cell_type": "code",
      "source": [
        "from collections import defaultdict"
      ],
      "metadata": {
        "id": "GHvRWoT8StFT"
      },
      "execution_count": 47,
      "outputs": []
    },
    {
      "cell_type": "code",
      "source": [
        "weighted_sample_space = defaultdict(int)"
      ],
      "metadata": {
        "id": "B7sXYHvdSwcV"
      },
      "execution_count": 48,
      "outputs": []
    },
    {
      "cell_type": "code",
      "source": [
        "for outcome in sample_space:\n",
        "  # Computes the summed value of six unique die rolls\n",
        "  total = sum(outcome)\n",
        "  # Updates the occurrence count for a summed dice value\n",
        "  weighted_sample_space[total] += 1"
      ],
      "metadata": {
        "id": "mafC4ZPQS1C7"
      },
      "execution_count": 49,
      "outputs": []
    },
    {
      "cell_type": "code",
      "source": [
        "weighted_sample_space"
      ],
      "metadata": {
        "id": "YDSkGbuUTMvj",
        "outputId": "f64f6508-ca19-4a51-e471-97d021503fb5",
        "colab": {
          "base_uri": "https://localhost:8080/"
        }
      },
      "execution_count": 50,
      "outputs": [
        {
          "output_type": "execute_result",
          "data": {
            "text/plain": [
              "defaultdict(int,\n",
              "            {6: 1,\n",
              "             7: 6,\n",
              "             8: 21,\n",
              "             9: 56,\n",
              "             10: 126,\n",
              "             11: 252,\n",
              "             12: 456,\n",
              "             13: 756,\n",
              "             14: 1161,\n",
              "             15: 1666,\n",
              "             16: 2247,\n",
              "             17: 2856,\n",
              "             18: 3431,\n",
              "             19: 3906,\n",
              "             20: 4221,\n",
              "             21: 4332,\n",
              "             22: 4221,\n",
              "             23: 3906,\n",
              "             24: 3431,\n",
              "             25: 2856,\n",
              "             26: 2247,\n",
              "             27: 1666,\n",
              "             28: 1161,\n",
              "             29: 756,\n",
              "             30: 456,\n",
              "             31: 252,\n",
              "             32: 126,\n",
              "             33: 56,\n",
              "             34: 21,\n",
              "             35: 6,\n",
              "             36: 1})"
            ]
          },
          "metadata": {},
          "execution_count": 50
        }
      ]
    },
    {
      "cell_type": "markdown",
      "source": [
        "Not all weights in the sample space are equal—some of the weights are\n",
        "much smaller than others. For instance, there is only one way for the rolls to sum to 6: we must roll precisely six 1s to achieve that dice-sum combination.\n",
        "\n",
        "Hence, we expect\n",
        "`weighted_sample_space[6]` to equal 1. We expect `weighted_sample_space[36]` to also\n",
        "equal 1, since we must roll six 6s to achieve a sum of 36."
      ],
      "metadata": {
        "id": "wa1hMPpGTd9X"
      }
    },
    {
      "cell_type": "code",
      "source": [
        "assert weighted_sample_space[6] == 1\n",
        "assert weighted_sample_space[36] == 1"
      ],
      "metadata": {
        "id": "rMkxoM_xTrnO"
      },
      "execution_count": 52,
      "outputs": []
    },
    {
      "cell_type": "markdown",
      "source": [
        "And we can also expect\n",
        "`weighted_sample_space[7]` to equal 6. We expect `weighted_sample_space[35]` to also\n",
        "equal 6.It means there are 7 and 35 ways for 6 die rolls to sum to 6."
      ],
      "metadata": {
        "id": "tzFQXNhsT7FC"
      }
    },
    {
      "cell_type": "code",
      "source": [
        "assert weighted_sample_space[7] == 6\n",
        "assert weighted_sample_space[35] == 6"
      ],
      "metadata": {
        "id": "eN1cpZdxWH0_"
      },
      "execution_count": 53,
      "outputs": []
    },
    {
      "cell_type": "markdown",
      "source": [
        "Meanwhile, the value of `weighted_sample_space[21]` is noticeably higher."
      ],
      "metadata": {
        "id": "zynOBiu6WYrr"
      }
    },
    {
      "cell_type": "code",
      "source": [
        "num_combinations = weighted_sample_space[21]\n",
        "print(f\"There are {num_combinations} ways for 6 die rolls to sum to 21\")"
      ],
      "metadata": {
        "id": "CVfLAKJSWabF",
        "outputId": "d1800296-ac1f-4f3b-beb9-737a18425a2a",
        "colab": {
          "base_uri": "https://localhost:8080/"
        }
      },
      "execution_count": 54,
      "outputs": [
        {
          "output_type": "stream",
          "name": "stdout",
          "text": [
            "There are 4332 ways for 6 die rolls to sum to 21\n"
          ]
        }
      ]
    },
    {
      "cell_type": "markdown",
      "source": [
        "As the output shows, there are 4,332 ways for six die rolls to sum to 21. For example,\n",
        "we could roll four 4s, followed by a 3 and then a 2. Or we could roll three 4s followed\n",
        "by a 5, a 3, and a 1. \n",
        "\n",
        "Thousands of other combinations are possible. This is why a sum\n",
        "of 21 is much more probable than a sum of 6."
      ],
      "metadata": {
        "id": "q8OAe31aYyAO"
      }
    },
    {
      "cell_type": "code",
      "source": [
        "assert sum([4, 4, 4, 4, 3, 2]) == 21\n",
        "assert sum([4, 4, 4, 5, 3, 1]) == 21"
      ],
      "metadata": {
        "id": "YzgqjxJeYydW"
      },
      "execution_count": 67,
      "outputs": []
    },
    {
      "cell_type": "markdown",
      "source": [
        "Note that the observed count of 4,332 is equal to the length of an unweighted event\n",
        "whose die rolls add up to 21.\n",
        "\n",
        "Also, the sum of values in weighted_sample is equal to\n",
        "the length of sample_space. Hence, a direct link exists between unweighted and\n",
        "weighted event probability computation."
      ],
      "metadata": {
        "id": "pGiH17B2Y50o"
      }
    },
    {
      "cell_type": "code",
      "source": [
        "event = get_matching_event(lambda x: sum(x) == 21, sample_space)\n",
        "\n",
        "assert weighted_sample_space[21] == len(event)\n",
        "assert sum(weighted_sample_space.values()) == len(sample_space)"
      ],
      "metadata": {
        "id": "tcy1IUHnY_No"
      },
      "execution_count": 69,
      "outputs": []
    },
    {
      "cell_type": "markdown",
      "source": [
        "Let’s now recompute the probability using the `weighted_sample_space` dictionary.\n",
        "\n",
        "The final probability of rolling a 21 should remain unchanged."
      ],
      "metadata": {
        "id": "-2SU8Sl3blpz"
      }
    },
    {
      "cell_type": "code",
      "source": [
        "prob = compute_event_probability(lambda x: x == 21, weighted_sample_space)\n",
        "\n",
        "assert prob == compute_event_probability(has_sum_of_21, sample_space)\n",
        "print(f\"6 rolls sum to 21 with a probability of {prob}\")"
      ],
      "metadata": {
        "id": "bQ7_LNIabnLV",
        "outputId": "f0f85966-f885-43d4-bf6a-a29d55975408",
        "colab": {
          "base_uri": "https://localhost:8080/"
        }
      },
      "execution_count": 70,
      "outputs": [
        {
          "output_type": "stream",
          "name": "stdout",
          "text": [
            "6 rolls sum to 21 with a probability of 0.09284979423868313\n"
          ]
        }
      ]
    },
    {
      "cell_type": "markdown",
      "source": [
        "What is the benefit of using a weighted sample space over an unweighted one? \n",
        "\n",
        "Less memory usage! "
      ],
      "metadata": {
        "id": "1-lb8eROcJsd"
      }
    },
    {
      "cell_type": "code",
      "source": [
        "print(\"Number of Elements in Unweighted Sample Space:\")\n",
        "print(len(sample_space))\n",
        "\n",
        "print(\"Number of Elements in Weighted Sample Space:\")\n",
        "print(len(weighted_sample_space))"
      ],
      "metadata": {
        "id": "pG40-CZ1cMfP",
        "outputId": "78db6925-39f5-49b6-bfe9-8ed33861d9e8",
        "colab": {
          "base_uri": "https://localhost:8080/"
        }
      },
      "execution_count": 71,
      "outputs": [
        {
          "output_type": "stream",
          "name": "stdout",
          "text": [
            "Number of Elements in Unweighted Sample Space:\n",
            "46656\n",
            "Number of Elements in Weighted Sample Space:\n",
            "31\n"
          ]
        }
      ]
    },
    {
      "cell_type": "markdown",
      "source": [
        "As we see, the unweighted `sample_space` set has on the order of\n",
        "150 times more elements than the weighted sample space dictionary."
      ],
      "metadata": {
        "id": "X0zEqp3mcilr"
      }
    },
    {
      "cell_type": "markdown",
      "source": [
        "##Computing probabilities over interval ranges"
      ],
      "metadata": {
        "id": "7EfmG8tDclxy"
      }
    },
    {
      "cell_type": "markdown",
      "source": [
        ""
      ],
      "metadata": {
        "id": "eg-noWBWcr_z"
      }
    }
  ]
}