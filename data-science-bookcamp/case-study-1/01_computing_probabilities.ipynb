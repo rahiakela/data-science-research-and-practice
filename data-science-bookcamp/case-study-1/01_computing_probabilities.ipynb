{
  "nbformat": 4,
  "nbformat_minor": 0,
  "metadata": {
    "colab": {
      "name": "01-computing-probabilities.ipynb",
      "provenance": [],
      "toc_visible": true,
      "authorship_tag": "ABX9TyPz3x4t+UjzXfix4Q2Ph/LQ",
      "include_colab_link": true
    },
    "kernelspec": {
      "name": "python3",
      "display_name": "Python 3"
    },
    "language_info": {
      "name": "python"
    }
  },
  "cells": [
    {
      "cell_type": "markdown",
      "metadata": {
        "id": "view-in-github",
        "colab_type": "text"
      },
      "source": [
        "<a href=\"https://colab.research.google.com/github/rahiakela/data-science-research-and-practice/blob/main/data-science-bookcamp/case-study-1/01_computing_probabilities.ipynb\" target=\"_parent\"><img src=\"https://colab.research.google.com/assets/colab-badge.svg\" alt=\"Open In Colab\"/></a>"
      ]
    },
    {
      "cell_type": "markdown",
      "source": [
        "##Computing probabilities"
      ],
      "metadata": {
        "id": "X3Ct7iGRluml"
      }
    },
    {
      "cell_type": "markdown",
      "source": [
        "**Few things in life are certain; most things are driven by chance**. Whenever we cheer\n",
        "for our favorite sports team, or purchase a lottery ticket, or make an investment in\n",
        "the stock market, we hope for some particular outcome, but that outcome cannot\n",
        "ever be guaranteed.\n",
        "\n",
        "**Randomness permeates our day-to-day experiences**. Fortunately,\n",
        "that randomness can still be mitigated and controlled.\n",
        "\n",
        "We know that some\n",
        "unpredictable events occur more rarely than others and that certain decisions carry\n",
        "less uncertainty than other much-riskier choices. **Driving to work in a car is safer than riding a motorcycle.**\n",
        "\n",
        "**These behaviors have been rigorously studied using\n",
        "probability theory.** \n",
        "\n",
        "Probability theory is an inherently complex branch of math. However,\n",
        "aspects of the theory can be understood without knowing the mathematical underpinnings. \n",
        "\n",
        "In fact, difficult probability problems can be solved in Python without\n",
        "needing to know a single math equation. **Such an equation-free approach to probability requires a baseline understanding of what mathematicians call a sample space.**"
      ],
      "metadata": {
        "id": "_7QnaFM6m4L3"
      }
    },
    {
      "cell_type": "markdown",
      "source": [
        "##Sample space analysis"
      ],
      "metadata": {
        "id": "4R4c-yZpnjHG"
      }
    },
    {
      "cell_type": "markdown",
      "source": [
        "**Certain actions have measurable outcomes. A sample space is the set of all the possible outcomes an action could produce.**\n",
        "\n",
        "Let’s take the simple action of flipping a coin. The\n",
        "coin will land on either heads or tails. Thus, the coin flip will produce one of two measurable outcomes: `heads` or `tails`."
      ],
      "metadata": {
        "id": "LioTqsQQnklo"
      }
    },
    {
      "cell_type": "code",
      "source": [
        "sample_space = {\"heads\", \"tails\"}"
      ],
      "metadata": {
        "id": "j9q1NjL2n20x"
      },
      "execution_count": 1,
      "outputs": []
    },
    {
      "cell_type": "markdown",
      "source": [
        "Well, our sample space holds two possible elements.\n",
        "Each element occupies an equal fraction of the space within the set. Therefore, we expect Heads to be selected with a frequency of `1/2`.\n",
        "\n",
        "**That frequency is formally defined as the probability of an outcome. All outcomes within `sample_space` share an identical probability, which is equal to `1 / len(sample_space)`.**"
      ],
      "metadata": {
        "id": "v42px-5voGC0"
      }
    },
    {
      "cell_type": "code",
      "source": [
        "probability_heads = 1 / len(sample_space)\n",
        "print(f\"Probability of choosing heads is {probability_heads}\")"
      ],
      "metadata": {
        "id": "zWvNbOeToUia",
        "outputId": "424e13d1-c96c-44fc-c01f-c9188cdee3cf",
        "colab": {
          "base_uri": "https://localhost:8080/"
        }
      },
      "execution_count": 2,
      "outputs": [
        {
          "output_type": "stream",
          "name": "stdout",
          "text": [
            "Probability of choosing heads is 0.5\n"
          ]
        }
      ]
    },
    {
      "cell_type": "markdown",
      "source": [
        "The probability of choosing Heads equals 0.5. This relates directly to the action of flipping a coin.\n",
        "\n",
        "Thus, a coin flip is conceptually equivalent to choosing\n",
        "a random element from sample_space. The probability of the coin landing on heads\n",
        "is therefore 0.5; the probability of it landing on tails is also equal to 0.5.\n",
        "\n",
        "**An event is the subset of those elements within `sample_space` that satisfy some event condition.**An event condition\n",
        "is a simple Boolean function whose input is a single `sample_space` element.\n",
        "\n",
        "Let’s define two event conditions: one where the coin lands on either heads or tails, and another where the coin lands on neither heads nor tails."
      ],
      "metadata": {
        "id": "wFU3XDUdsEVY"
      }
    },
    {
      "cell_type": "code",
      "source": [
        "def is_heads_or_tails(outcome):\n",
        "  return outcome in sample_space"
      ],
      "metadata": {
        "id": "4187Cj-HskCu"
      },
      "execution_count": 3,
      "outputs": []
    },
    {
      "cell_type": "code",
      "source": [
        "def is_neither(outcome):\n",
        "  return not is_heads_or_tails(outcome)"
      ],
      "metadata": {
        "id": "TPJT8VypsbZX"
      },
      "execution_count": 4,
      "outputs": []
    },
    {
      "cell_type": "markdown",
      "source": [
        "Also, for the sake of completeness, let’s define event conditions for the two basic\n",
        "events in which the coin satisfies exactly one of our two potential outcomes."
      ],
      "metadata": {
        "id": "7nqcXO6As_kR"
      }
    },
    {
      "cell_type": "code",
      "source": [
        "def is_heads(outcome):\n",
        "  return outcome == \"heads\"\n",
        "\n",
        "def is_tails(outcome):\n",
        "  return outcome == \"tails\""
      ],
      "metadata": {
        "id": "1F7xAPW3tAMh"
      },
      "execution_count": 5,
      "outputs": []
    },
    {
      "cell_type": "markdown",
      "source": [
        "We can pass event conditions into a generalized `get_matching_event` function.\n",
        "Its inputs are an event condition and a generic sample space."
      ],
      "metadata": {
        "id": "cuHVE98YtVNV"
      }
    },
    {
      "cell_type": "code",
      "source": [
        "def get_matching_event(event_condition, sample_space):\n",
        "  return set([outcome for outcome in sample_space if event_condition(outcome)])"
      ],
      "metadata": {
        "id": "SFyi7LzswCwx"
      },
      "execution_count": 6,
      "outputs": []
    },
    {
      "cell_type": "markdown",
      "source": [
        "Let’s execute `get_matching_event` on our four event conditions. Then we’ll output the four extracted events."
      ],
      "metadata": {
        "id": "g7qwGRu2w0yo"
      }
    },
    {
      "cell_type": "code",
      "source": [
        "event_conditions = [is_heads_or_tails, is_heads, is_tails, is_neither]\n",
        "\n",
        "for event_condition in event_conditions:\n",
        "  print(f\"Event Condition: {event_condition.__name__}\")\n",
        "  event = get_matching_event(event_condition, sample_space)\n",
        "  print(f\"Event: {event}\\n\")"
      ],
      "metadata": {
        "id": "hS7T8ZA4w3aL",
        "outputId": "d866fe1e-7bc1-44aa-e300-b24766b7cf16",
        "colab": {
          "base_uri": "https://localhost:8080/"
        }
      },
      "execution_count": 7,
      "outputs": [
        {
          "output_type": "stream",
          "name": "stdout",
          "text": [
            "Event Condition: is_heads_or_tails\n",
            "Event: {'heads', 'tails'}\n",
            "\n",
            "Event Condition: is_heads\n",
            "Event: {'heads'}\n",
            "\n",
            "Event Condition: is_tails\n",
            "Event: {'tails'}\n",
            "\n",
            "Event Condition: is_neither\n",
            "Event: set()\n",
            "\n"
          ]
        }
      ]
    },
    {
      "cell_type": "markdown",
      "source": [
        "The probability of a single-element outcome for a fair coin is `1 / len(sample_space)`. This property can be generalized to\n",
        "include multi-element events. The probability of an event is equal to `len(event) / len(sample_space)`, but only if all outcomes are known to occur with equal likelihood.\n",
        "\n",
        "In other words, **the probability of a multi-element event for a fair coin is equal to the event size divided by the sample space size.**\n",
        "\n",
        "We now use event size to compute the four event probabilities."
      ],
      "metadata": {
        "id": "NtgfSYJSyPFX"
      }
    },
    {
      "cell_type": "code",
      "source": [
        "def compute_probability(event_condition, generic_sample_space):\n",
        "  # The compute_probability function extracts the event associated with an inputted event condition to compute its probability\n",
        "  event = get_matching_event(event_condition, generic_sample_space)\n",
        "  return len(event) / len(generic_sample_space)  # Probability is equal to event size divided by sample space size"
      ],
      "metadata": {
        "id": "Xs6dWFFCyjjk"
      },
      "execution_count": 8,
      "outputs": []
    },
    {
      "cell_type": "code",
      "source": [
        "for event_condition in event_conditions:\n",
        "  prob = compute_probability(event_condition, sample_space)\n",
        "  name = event_condition.__name__\n",
        "  print(f\"Probability of event arising from {'name'} is {prob}\")"
      ],
      "metadata": {
        "id": "_1cQEy162Hkc",
        "outputId": "05999a84-4c41-4c59-e3d0-25eecac2d842",
        "colab": {
          "base_uri": "https://localhost:8080/"
        }
      },
      "execution_count": 9,
      "outputs": [
        {
          "output_type": "stream",
          "name": "stdout",
          "text": [
            "Probability of event arising from name is 1.0\n",
            "Probability of event arising from name is 0.5\n",
            "Probability of event arising from name is 0.5\n",
            "Probability of event arising from name is 0.0\n"
          ]
        }
      ]
    },
    {
      "cell_type": "markdown",
      "source": [
        "The outputs is a diverse range of event probabilities, the smallest of\n",
        "which is 0.0 and the largest of which is 1.0.\n",
        "\n",
        "These values represent the lower and\n",
        "upper bounds of probability; no probability can ever fall below 0.0 or rise above 1.0."
      ],
      "metadata": {
        "id": "OyN1zgWD2fiL"
      }
    },
    {
      "cell_type": "markdown",
      "source": [
        "###Analyzing a biased coin"
      ],
      "metadata": {
        "id": "xsscrFrI2mIZ"
      }
    },
    {
      "cell_type": "markdown",
      "source": [
        "What would happen if that coin was biased?\n",
        "\n",
        "Suppose, for instance, that a coin is four times more likely to land on heads\n",
        "relative to tails. \n",
        "\n",
        "How do we compute the likelihoods of outcomes that are not\n",
        "weighted in an equal manner?\n",
        "\n",
        "Well, **we can construct a weighted sample space represented\n",
        "by a Python dictionary. Each outcome is treated as a key whose value maps to\n",
        "the associated weight.**"
      ],
      "metadata": {
        "id": "94EEL7ji2p__"
      }
    },
    {
      "cell_type": "code",
      "source": [
        "weighted_sample_space = {\"heads\": 4, \"tails\": 1}"
      ],
      "metadata": {
        "id": "WWrZDbauzlwZ"
      },
      "execution_count": 10,
      "outputs": []
    },
    {
      "cell_type": "markdown",
      "source": [
        "Our new sample space is stored in a dictionary. \n",
        "\n",
        "This allows us to redefine the size of\n",
        "the sample space as the sum of all dictionary weights."
      ],
      "metadata": {
        "id": "_hOeEYUrzwI1"
      }
    },
    {
      "cell_type": "code",
      "source": [
        "sample_space_size = sum(weighted_sample_space.values())\n",
        "assert sample_space_size == 5"
      ],
      "metadata": {
        "id": "o56eU4WGzwtE"
      },
      "execution_count": 11,
      "outputs": []
    },
    {
      "cell_type": "markdown",
      "source": [
        "We can redefine event size in a similar manner. Each event is a set of outcomes, and\n",
        "those outcomes map to weights. Summing over the weights yields the event size. \n",
        "\n",
        "Thus,\n",
        "the size of the event satisfying the `is_heads_or_tails` event condition is also 5."
      ],
      "metadata": {
        "id": "leywvBJd0BXi"
      }
    },
    {
      "cell_type": "code",
      "source": [
        "# This is because Python iterates over dictionary keys, not key-value pairs\n",
        "event = get_matching_event(is_heads_or_tails, weighted_sample_space)\n",
        "event_size = sum(weighted_sample_space[outcome] for outcome in event)\n",
        "assert event_size == 5"
      ],
      "metadata": {
        "id": "9edFX_Nc0D-M"
      },
      "execution_count": 12,
      "outputs": []
    },
    {
      "cell_type": "code",
      "source": [
        "event"
      ],
      "metadata": {
        "id": "w0_70JkL0pyx",
        "outputId": "f50500cd-0ffc-4b51-fa48-f2dcb652581a",
        "colab": {
          "base_uri": "https://localhost:8080/"
        }
      },
      "execution_count": 13,
      "outputs": [
        {
          "output_type": "execute_result",
          "data": {
            "text/plain": [
              "{'heads', 'tails'}"
            ]
          },
          "metadata": {},
          "execution_count": 13
        }
      ]
    },
    {
      "cell_type": "markdown",
      "source": [
        "Our generalized definitions of sample space size and event size permit us to create a\n",
        "`compute_event_probability` function. \n",
        "\n",
        "The function takes as input a `generic_sample_space` variable that can be either a weighted dictionary or an unweighted set."
      ],
      "metadata": {
        "id": "5n_ctuy_0zA1"
      }
    },
    {
      "cell_type": "code",
      "source": [
        "def compute_event_probability(event_condition, generic_sample_space):\n",
        "  event = get_matching_event(event_condition, generic_sample_space)\n",
        "\n",
        "  # Checks whether generic_event_space is a set\n",
        "  if type(generic_sample_space) == type(set()):\n",
        "    return len(event) / len(generic_sample_space)\n",
        "\n",
        "  event_size = sum(generic_sample_space[outcome] for outcome in event)\n",
        "  return event_size / sum(generic_sample_space.values())"
      ],
      "metadata": {
        "id": "tNeYlCsy04DW"
      },
      "execution_count": 14,
      "outputs": []
    },
    {
      "cell_type": "markdown",
      "source": [
        "We can now output all the event probabilities for the biased coin without needing to\n",
        "redefine our four event condition functions."
      ],
      "metadata": {
        "id": "NvMJuirI1pCL"
      }
    },
    {
      "cell_type": "code",
      "source": [
        "for event_condition in event_conditions:\n",
        "  prob = compute_event_probability(event_condition, weighted_sample_space)\n",
        "  name = event_condition.__name__\n",
        "  print(f\"Probability of event arising from '{name}' is {prob}\")"
      ],
      "metadata": {
        "id": "Tk3guNZP1pgi",
        "outputId": "4b43082e-9175-491a-a5fc-e1dfedf93fdc",
        "colab": {
          "base_uri": "https://localhost:8080/"
        }
      },
      "execution_count": 15,
      "outputs": [
        {
          "output_type": "stream",
          "name": "stdout",
          "text": [
            "Probability of event arising from 'is_heads_or_tails' is 1.0\n",
            "Probability of event arising from 'is_heads' is 0.8\n",
            "Probability of event arising from 'is_tails' is 0.2\n",
            "Probability of event arising from 'is_neither' is 0.0\n"
          ]
        }
      ]
    },
    {
      "cell_type": "markdown",
      "source": [
        "Let's define 5 times biased coin."
      ],
      "metadata": {
        "id": "6rNQQfD_2K66"
      }
    },
    {
      "cell_type": "code",
      "source": [
        "weighted_sample_space = {\"heads\": 5, \"tails\": 1}"
      ],
      "metadata": {
        "id": "aYAJa4Ue2QSX"
      },
      "execution_count": 16,
      "outputs": []
    },
    {
      "cell_type": "code",
      "source": [
        "for event_condition in event_conditions:\n",
        "  prob = compute_event_probability(event_condition, weighted_sample_space)\n",
        "  name = event_condition.__name__\n",
        "  print(f\"Probability of event arising from '{name}' is {prob}\")"
      ],
      "metadata": {
        "id": "SC-YXj402WIb",
        "outputId": "d24d6480-4c61-4bb1-c41c-662c15ef484a",
        "colab": {
          "base_uri": "https://localhost:8080/"
        }
      },
      "execution_count": 17,
      "outputs": [
        {
          "output_type": "stream",
          "name": "stdout",
          "text": [
            "Probability of event arising from 'is_heads_or_tails' is 1.0\n",
            "Probability of event arising from 'is_heads' is 0.8333333333333334\n",
            "Probability of event arising from 'is_tails' is 0.16666666666666666\n",
            "Probability of event arising from 'is_neither' is 0.0\n"
          ]
        }
      ]
    },
    {
      "cell_type": "markdown",
      "source": [
        "Let's define 3 times biased coin."
      ],
      "metadata": {
        "id": "O4VcmAch2eHj"
      }
    },
    {
      "cell_type": "code",
      "source": [
        "weighted_sample_space = {\"heads\": 3, \"tails\": 1}\n",
        "\n",
        "for event_condition in event_conditions:\n",
        "  prob = compute_event_probability(event_condition, weighted_sample_space)\n",
        "  name = event_condition.__name__\n",
        "  print(f\"Probability of event arising from '{name}' is {prob}\")"
      ],
      "metadata": {
        "id": "N23GhCpt2ffm",
        "outputId": "2a525f16-cf93-4c1d-85cf-ab4410099adc",
        "colab": {
          "base_uri": "https://localhost:8080/"
        }
      },
      "execution_count": 19,
      "outputs": [
        {
          "output_type": "stream",
          "name": "stdout",
          "text": [
            "Probability of event arising from 'is_heads_or_tails' is 1.0\n",
            "Probability of event arising from 'is_heads' is 0.75\n",
            "Probability of event arising from 'is_tails' is 0.25\n",
            "Probability of event arising from 'is_neither' is 0.0\n"
          ]
        }
      ]
    },
    {
      "cell_type": "markdown",
      "source": [
        "##Computing nontrivial probabilities"
      ],
      "metadata": {
        "id": "dhFL8xHu3voM"
      }
    },
    {
      "cell_type": "markdown",
      "source": [
        ""
      ],
      "metadata": {
        "id": "PMmCe8Vh3wf2"
      }
    }
  ]
}