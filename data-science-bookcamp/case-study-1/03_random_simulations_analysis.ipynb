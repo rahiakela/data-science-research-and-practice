{
  "nbformat": 4,
  "nbformat_minor": 0,
  "metadata": {
    "colab": {
      "name": "03-random-simulations-analysis.ipynb",
      "provenance": [],
      "toc_visible": true,
      "authorship_tag": "ABX9TyNAUj/HhEWFk1MLziaFS293",
      "include_colab_link": true
    },
    "kernelspec": {
      "name": "python3",
      "display_name": "Python 3"
    },
    "language_info": {
      "name": "python"
    }
  },
  "cells": [
    {
      "cell_type": "markdown",
      "metadata": {
        "id": "view-in-github",
        "colab_type": "text"
      },
      "source": [
        "<a href=\"https://colab.research.google.com/github/rahiakela/data-science-research-and-practice/blob/main/data-science-bookcamp/case-study-1/03_random_simulations_analysis.ipynb\" target=\"_parent\"><img src=\"https://colab.research.google.com/assets/colab-badge.svg\" alt=\"Open In Colab\"/></a>"
      ]
    },
    {
      "cell_type": "markdown",
      "source": [
        "##Running random simulations"
      ],
      "metadata": {
        "id": "A1_NH5wWDcnz"
      }
    },
    {
      "cell_type": "markdown",
      "source": [
        "This notebook focuses on randomized numerical\n",
        "simulations. We will use NumPy to analyze billions of random data points; these\n",
        "random observations will allow us to learn hidden probabilities."
      ],
      "metadata": {
        "id": "N2Qq-hrwDzfx"
      }
    },
    {
      "cell_type": "markdown",
      "source": [
        "##Setup"
      ],
      "metadata": {
        "id": "MT9MEfIeETky"
      }
    },
    {
      "cell_type": "code",
      "source": [
        "import numpy as np\n",
        "import matplotlib.pyplot as plt\n"
      ],
      "metadata": {
        "id": "7dusTJt_EUqM"
      },
      "execution_count": 12,
      "outputs": []
    },
    {
      "cell_type": "markdown",
      "source": [
        "##Simulating random coin flips and die rolls"
      ],
      "metadata": {
        "id": "wAb8ejFhEY4a"
      }
    },
    {
      "cell_type": "markdown",
      "source": [
        "We can carry out random simulations using the `np.random`\n",
        "module. That module is useful for generating random values and simulating random processes.\n",
        "\n",
        "For instance, calling `np.random.randint(1, 7)` produces a random\n",
        "integer between 1 and 6. \n",
        "\n",
        "The method chooses from the six possible integers with\n",
        "equal likelihood, thus simulating a single roll of a standard die.\n"
      ],
      "metadata": {
        "id": "WnW-VEOJEa8H"
      }
    },
    {
      "cell_type": "code",
      "source": [
        "# Simulating a randomly rolled die\n",
        "die_roll = np.random.randint(1, 7)\n",
        "assert 1 <= die_roll <= 6"
      ],
      "metadata": {
        "id": "Q58OYSsAEtQa"
      },
      "execution_count": 8,
      "outputs": []
    },
    {
      "cell_type": "markdown",
      "source": [
        "The inconsistency could make it difficult to perfectly re-create\n",
        "certain random simulations.\n",
        "\n",
        "We need a way of ensuring that all our random\n",
        "outputs can be reproduced at home. \n",
        "\n",
        "Conveniently, consistency can easily be\n",
        "maintained by calling `np.random.seed(0)`; this method call makes sequences of randomly\n",
        "chosen values reproducible.\n",
        "\n"
      ],
      "metadata": {
        "id": "IslZkjF1F6j_"
      }
    },
    {
      "cell_type": "code",
      "source": [
        "# Seeding reproducible random die rolls\n",
        "np.random.seed(0)\n",
        "\n",
        "die_rolls = [np.random.randint(1, 7) for _ in range(3)]\n",
        "assert die_rolls == [5, 6, 1]"
      ],
      "metadata": {
        "id": "bMdZyyfLGGCM"
      },
      "execution_count": 9,
      "outputs": []
    },
    {
      "cell_type": "markdown",
      "source": [
        "Adjusting the inputted x into `np.random.randint(0, x)` allows us to simulate any number of discrete outcomes.\n",
        "\n",
        "For instance, setting x to 52 will simulate a randomly\n",
        "drawn card. Alternatively, setting x to 2 will simulate a single flip of an unbiased coin.\n",
        "\n",
        "Let’s generate that coin flip by calling np.random.randint(0, 2); this method call\n",
        "returns a random value equal to either 0 or 1. \n",
        "\n",
        "We assume that 0 stands for tails and 1\n",
        "stands for heads."
      ],
      "metadata": {
        "id": "H43PjQ_sGlQQ"
      }
    },
    {
      "cell_type": "code",
      "source": [
        "np.random.seed(0)\n",
        "\n",
        "def frequency_heads(coin_flip_sequence):\n",
        "  total_heads = len([head for head in coin_flip_sequence if head == 1])\n",
        "  return total_heads / len(coin_flip_sequence)"
      ],
      "metadata": {
        "id": "-NwcwZjRGv3E"
      },
      "execution_count": 10,
      "outputs": []
    },
    {
      "cell_type": "code",
      "source": [
        "coin_flips = [np.random.randint(0, 2) for _ in range(10)]\n",
        "freq_heads = frequency_heads(coin_flips)\n",
        "\n",
        "print(f\"Frequency of Heads is {freq_heads}\")"
      ],
      "metadata": {
        "colab": {
          "base_uri": "https://localhost:8080/"
        },
        "id": "eHi7xtyLHF0z",
        "outputId": "3a240179-2ed7-40f6-b587-900d9ad5f22c"
      },
      "execution_count": 11,
      "outputs": [
        {
          "output_type": "stream",
          "name": "stdout",
          "text": [
            "Frequency of Heads is 0.8\n"
          ]
        }
      ]
    },
    {
      "cell_type": "markdown",
      "source": [
        "The observed frequency is 0.8, which is quite disproportionate to the actual probability of heads. \n",
        "\n",
        "However, 10 coin flips will produce such extreme frequencies\n",
        "approximately 10% of the time. More coin flips are required to estimate the\n",
        "actual probability.\n",
        "\n",
        "Let’s see what happens when we flip the coin 1,000 times."
      ],
      "metadata": {
        "id": "-wCIOPgfH0CL"
      }
    },
    {
      "cell_type": "code",
      "source": [
        "np.random.seed(0)\n",
        "\n",
        "coin_flips = []\n",
        "frequencies = []\n",
        "for _ in range(1000):\n",
        "  coin_flips.append(np.random.randint(0, 2))\n",
        "  frequencies.append(frequency_heads(coin_flips))\n",
        "\n",
        "plt.plot(list(range(1000)), frequencies)\n",
        "plt.axhline(0.5, color=\"r\")\n",
        "plt.xlabel(\"Number of Coin Flips\")\n",
        "plt.ylabel(\"Head-Frequency\")\n",
        "plt.show()"
      ],
      "metadata": {
        "colab": {
          "base_uri": "https://localhost:8080/",
          "height": 279
        },
        "id": "PATwvNrhH85d",
        "outputId": "e379ae84-cc70-403b-a0c7-0eb95f1de0b7"
      },
      "execution_count": 13,
      "outputs": [
        {
          "output_type": "display_data",
          "data": {
            "text/plain": [
              "<Figure size 432x288 with 1 Axes>"
            ],
            "image/png": "[encoded data removed]"
          },
          "metadata": {
            "needs_background": "light"
          }
        }
      ]
    },
    {
      "cell_type": "markdown",
      "source": [
        "The probability of heads slowly converges to 0.5. Thus, the law of large numbers appears to hold up."
      ],
      "metadata": {
        "id": "zaJC2ZZuIzSM"
      }
    },
    {
      "cell_type": "markdown",
      "source": [
        "###Analyzing biased coin flips"
      ],
      "metadata": {
        "id": "4ey-WoVwI0o4"
      }
    },
    {
      "cell_type": "markdown",
      "source": [
        ""
      ],
      "metadata": {
        "id": "Fl33b1ZnI5Xp"
      }
    }
  ]
}