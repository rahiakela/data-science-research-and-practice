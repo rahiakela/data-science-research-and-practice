{
  "nbformat": 4,
  "nbformat_minor": 0,
  "metadata": {
    "colab": {
      "name": "03-random-simulations-analysis.ipynb",
      "provenance": [],
      "toc_visible": true,
      "authorship_tag": "ABX9TyPLdOdugdkRDdckFhFoFVAj",
      "include_colab_link": true
    },
    "kernelspec": {
      "name": "python3",
      "display_name": "Python 3"
    },
    "language_info": {
      "name": "python"
    }
  },
  "cells": [
    {
      "cell_type": "markdown",
      "metadata": {
        "id": "view-in-github",
        "colab_type": "text"
      },
      "source": [
        "<a href=\"https://colab.research.google.com/github/rahiakela/data-science-research-and-practice/blob/main/data-science-bookcamp/case-study-1/03_random_simulations_analysis.ipynb\" target=\"_parent\"><img src=\"https://colab.research.google.com/assets/colab-badge.svg\" alt=\"Open In Colab\"/></a>"
      ]
    },
    {
      "cell_type": "markdown",
      "source": [
        "##Running random simulations"
      ],
      "metadata": {
        "id": "A1_NH5wWDcnz"
      }
    },
    {
      "cell_type": "markdown",
      "source": [
        "This notebook focuses on randomized numerical\n",
        "simulations. We will use NumPy to analyze billions of random data points; these\n",
        "random observations will allow us to learn hidden probabilities."
      ],
      "metadata": {
        "id": "N2Qq-hrwDzfx"
      }
    },
    {
      "cell_type": "markdown",
      "source": [
        "##Setup"
      ],
      "metadata": {
        "id": "MT9MEfIeETky"
      }
    },
    {
      "cell_type": "code",
      "source": [
        "import numpy as np\n",
        "import matplotlib.pyplot as plt\n",
        "from collections import defaultdict"
      ],
      "metadata": {
        "id": "7dusTJt_EUqM"
      },
      "execution_count": 19,
      "outputs": []
    },
    {
      "cell_type": "markdown",
      "source": [
        "##Simulating random coin flips and die rolls"
      ],
      "metadata": {
        "id": "wAb8ejFhEY4a"
      }
    },
    {
      "cell_type": "markdown",
      "source": [
        "We can carry out random simulations using the `np.random`\n",
        "module. That module is useful for generating random values and simulating random processes.\n",
        "\n",
        "For instance, calling `np.random.randint(1, 7)` produces a random\n",
        "integer between 1 and 6. \n",
        "\n",
        "The method chooses from the six possible integers with\n",
        "equal likelihood, thus simulating a single roll of a standard die.\n"
      ],
      "metadata": {
        "id": "WnW-VEOJEa8H"
      }
    },
    {
      "cell_type": "code",
      "source": [
        "# Simulating a randomly rolled die\n",
        "die_roll = np.random.randint(1, 7)\n",
        "assert 1 <= die_roll <= 6"
      ],
      "metadata": {
        "id": "Q58OYSsAEtQa"
      },
      "execution_count": 2,
      "outputs": []
    },
    {
      "cell_type": "markdown",
      "source": [
        "The inconsistency could make it difficult to perfectly re-create\n",
        "certain random simulations.\n",
        "\n",
        "We need a way of ensuring that all our random\n",
        "outputs can be reproduced at home. \n",
        "\n",
        "Conveniently, consistency can easily be\n",
        "maintained by calling `np.random.seed(0)`; this method call makes sequences of randomly\n",
        "chosen values reproducible.\n",
        "\n"
      ],
      "metadata": {
        "id": "IslZkjF1F6j_"
      }
    },
    {
      "cell_type": "code",
      "source": [
        "# Seeding reproducible random die rolls\n",
        "np.random.seed(0)\n",
        "\n",
        "die_rolls = [np.random.randint(1, 7) for _ in range(3)]\n",
        "assert die_rolls == [5, 6, 1]"
      ],
      "metadata": {
        "id": "bMdZyyfLGGCM"
      },
      "execution_count": 3,
      "outputs": []
    },
    {
      "cell_type": "markdown",
      "source": [
        "Adjusting the inputted x into `np.random.randint(0, x)` allows us to simulate any number of discrete outcomes.\n",
        "\n",
        "For instance, setting x to 52 will simulate a randomly\n",
        "drawn card. Alternatively, setting x to 2 will simulate a single flip of an unbiased coin.\n",
        "\n",
        "Let’s generate that coin flip by calling np.random.randint(0, 2); this method call\n",
        "returns a random value equal to either 0 or 1. \n",
        "\n",
        "We assume that 0 stands for tails and 1\n",
        "stands for heads."
      ],
      "metadata": {
        "id": "H43PjQ_sGlQQ"
      }
    },
    {
      "cell_type": "code",
      "source": [
        "np.random.seed(0)\n",
        "\n",
        "def frequency_heads(coin_flip_sequence):\n",
        "  total_heads = len([head for head in coin_flip_sequence if head == 1])\n",
        "  return total_heads / len(coin_flip_sequence)"
      ],
      "metadata": {
        "id": "-NwcwZjRGv3E"
      },
      "execution_count": 4,
      "outputs": []
    },
    {
      "cell_type": "code",
      "source": [
        "coin_flips = [np.random.randint(0, 2) for _ in range(10)]\n",
        "freq_heads = frequency_heads(coin_flips)\n",
        "\n",
        "print(f\"Frequency of Heads is {freq_heads}\")"
      ],
      "metadata": {
        "colab": {
          "base_uri": "https://localhost:8080/"
        },
        "id": "eHi7xtyLHF0z",
        "outputId": "53dc4cc8-6972-495f-dc5a-32c85177835b"
      },
      "execution_count": 5,
      "outputs": [
        {
          "output_type": "stream",
          "name": "stdout",
          "text": [
            "Frequency of Heads is 0.8\n"
          ]
        }
      ]
    },
    {
      "cell_type": "markdown",
      "source": [
        "The observed frequency is 0.8, which is quite disproportionate to the actual probability of heads. \n",
        "\n",
        "However, 10 coin flips will produce such extreme frequencies\n",
        "approximately 10% of the time. More coin flips are required to estimate the\n",
        "actual probability.\n",
        "\n",
        "Let’s see what happens when we flip the coin 1,000 times."
      ],
      "metadata": {
        "id": "-wCIOPgfH0CL"
      }
    },
    {
      "cell_type": "code",
      "source": [
        "np.random.seed(0)\n",
        "\n",
        "coin_flips = []\n",
        "frequencies = []\n",
        "for _ in range(1000):\n",
        "  coin_flips.append(np.random.randint(0, 2))\n",
        "  frequencies.append(frequency_heads(coin_flips))\n",
        "\n",
        "plt.plot(list(range(1000)), frequencies)\n",
        "plt.axhline(0.5, color=\"r\")\n",
        "plt.xlabel(\"Number of Coin Flips\")\n",
        "plt.ylabel(\"Head-Frequency\")\n",
        "plt.show()"
      ],
      "metadata": {
        "colab": {
          "base_uri": "https://localhost:8080/",
          "height": 279
        },
        "id": "PATwvNrhH85d",
        "outputId": "d89cede9-235b-4459-ea12-d7b2d95f1955"
      },
      "execution_count": 6,
      "outputs": [
        {
          "output_type": "display_data",
          "data": {
            "text/plain": [
              "<Figure size 432x288 with 1 Axes>"
            ],
            "image/png": "[encoded data removed]"
          },
          "metadata": {
            "needs_background": "light"
          }
        }
      ]
    },
    {
      "cell_type": "markdown",
      "source": [
        "The probability of heads slowly converges to 0.5. Thus, the law of large numbers appears to hold up."
      ],
      "metadata": {
        "id": "zaJC2ZZuIzSM"
      }
    },
    {
      "cell_type": "markdown",
      "source": [
        "###Analyzing biased coin flips"
      ],
      "metadata": {
        "id": "4ey-WoVwI0o4"
      }
    },
    {
      "cell_type": "markdown",
      "source": [
        "We’ve simulated a sequence of unbiased coin flips, but what if we wish to simulate a coin that falls on heads 70% of the time? \n",
        "\n",
        "Well, we can generate that biased output by\n",
        "calling `np.random.binomial(1, 0.7)`.\n",
        "\n",
        "The binomial method name refers to the generic\n",
        "coin-flip distribution, which mathematicians call the binomial distribution. The method\n",
        "takes as input two parameters: the number of coin flips and the probability of the\n",
        "desired coin-flip outcome."
      ],
      "metadata": {
        "id": "Fl33b1ZnI5Xp"
      }
    },
    {
      "cell_type": "code",
      "source": [
        "# Simulating biased coin flips\n",
        "np.random.seed(0)\n",
        "\n",
        "print(\"Let's flip the biased coin once.\")\n",
        "coin_flip = np.random.binomial(1, 0.7)\n",
        "print(f\"Biased coin landed on {'heads' if coin_flips == 1 else 'tails'}\")\n",
        "\n",
        "print(\"\\nLet's flip the biased coin 10 times.\")\n",
        "number_coin_flips = 10\n",
        "head_count = np.random.binomial(number_coin_flips, 0.7)\n",
        "print(f\"{head_count} heads were observed out of {number_coin_flips} biased coin flips\")"
      ],
      "metadata": {
        "id": "b7bcYmZGF6RT",
        "outputId": "ceeffda9-a3c8-43f1-9293-1150494abe57",
        "colab": {
          "base_uri": "https://localhost:8080/"
        }
      },
      "execution_count": 7,
      "outputs": [
        {
          "output_type": "stream",
          "name": "stdout",
          "text": [
            "Let's flip the biased coin once.\n",
            "Biased coin landed on tails\n",
            "\n",
            "Let's flip the biased coin 10 times.\n",
            "6 heads were observed out of 10 biased coin flips\n"
          ]
        }
      ]
    },
    {
      "cell_type": "markdown",
      "source": [
        "Let’s generate a sequence of 1,000 biased coin flips. We then check if the frequency\n",
        "converges to 0.7."
      ],
      "metadata": {
        "id": "ujzZgOMxHE28"
      }
    },
    {
      "cell_type": "code",
      "source": [
        "np.random.seed(0)\n",
        "\n",
        "# Computing coin-flip-frequency convergence\n",
        "head_count = np.random.binomial(1000, 0.7)\n",
        "frequency = head_count / 1000\n",
        "print(f\"Frequency of Heads is {frequency}\")"
      ],
      "metadata": {
        "id": "oNXyWjfdHFdy",
        "outputId": "d4a4b009-a206-4f74-91f1-3ea447ae08df",
        "colab": {
          "base_uri": "https://localhost:8080/"
        }
      },
      "execution_count": 8,
      "outputs": [
        {
          "output_type": "stream",
          "name": "stdout",
          "text": [
            "Frequency of Heads is 0.697\n"
          ]
        }
      ]
    },
    {
      "cell_type": "markdown",
      "source": [
        "The frequency of heads approximates 0.7 but is not actually equal to 0.7. In fact, the\n",
        "frequency value is 0.003 units smaller than the true probability of heads.\n",
        "\n",
        "Will all the frequencies\n",
        "be lower than 0.7? \n",
        "\n",
        "Will certain frequencies hit the exact value of 0.7? \n",
        "\n",
        "We’ll find out by\n",
        "executing `np.random.binomial(1000, 0.7)` over five looped iterations."
      ],
      "metadata": {
        "id": "OjyB8OiIHdpf"
      }
    },
    {
      "cell_type": "code",
      "source": [
        "np.random.seed(0)\n",
        "\n",
        "# Recomputing coin-flip-frequency convergence\n",
        "assert np.random.binomial(1000, 0.7) / 1000 == 0.697\n",
        "\n",
        "for i in range(1, 6):\n",
        "  head_count = np.random.binomial(1000, 0.7)\n",
        "  frequency = head_count / 1000\n",
        "  print(f\"Frequency at iteration {i} is {frequency}\")\n",
        "  if frequency == 0.7:\n",
        "    print(\"Frequency equals the probability!\\n\")"
      ],
      "metadata": {
        "id": "xPOmfz1MHlxZ",
        "outputId": "8eff611f-8142-4306-f9a4-f60a5049974d",
        "colab": {
          "base_uri": "https://localhost:8080/"
        }
      },
      "execution_count": 9,
      "outputs": [
        {
          "output_type": "stream",
          "name": "stdout",
          "text": [
            "Frequency at iteration 1 is 0.69\n",
            "Frequency at iteration 2 is 0.7\n",
            "Frequency equals the probability!\n",
            "\n",
            "Frequency at iteration 3 is 0.707\n",
            "Frequency at iteration 4 is 0.702\n",
            "Frequency at iteration 5 is 0.699\n"
          ]
        }
      ]
    },
    {
      "cell_type": "markdown",
      "source": [
        "The observed frequency appears to fluctuate over every sampling of 1,000 coin\n",
        "flips. \n",
        "\n",
        "It seems that **even though the law of large numbers allows us to approximate the actual probability, some uncertainty still remains**. \n",
        "\n",
        "Data science is somewhat messy, and\n",
        "we cannot always be certain of the conclusions we draw from our data.\n",
        "\n",
        "Nevertheless, our uncertainty can be measured and contained using what mathematicians call a confidence\n",
        "interval."
      ],
      "metadata": {
        "id": "bhduWeNRIQvi"
      }
    },
    {
      "cell_type": "markdown",
      "source": [
        "##Computing confidence intervals"
      ],
      "metadata": {
        "id": "hcXc2mpEIeHN"
      }
    },
    {
      "cell_type": "markdown",
      "source": [
        "Suppose we’re handed a biased coin whose bias we don’t know. We flip the coin 1,000 times and observe a frequency of 0.709. \n",
        "\n",
        "We know the frequency approximates the\n",
        "actual probability, but by how much?\n",
        "\n",
        "More precisely, what are the chances of the\n",
        "actual probability falling within an interval close to 0.709 (such as an interval between\n",
        "0.7 and 0.71)? \n",
        "\n",
        "To find out, we must do additional sampling.\n",
        "\n",
        "The sampling produced some fluctuations in the frequency. \n",
        "\n",
        "Let’s explore these fluctuations\n",
        "by increasing our frequency count from 5 to 500."
      ],
      "metadata": {
        "id": "AYhh9KcnIhGj"
      }
    },
    {
      "cell_type": "code",
      "source": [
        "np.random.seed(0)\n",
        "\n",
        "# Computing frequencies with 500 flips per sample\n",
        "head_count_list = [np.random.binomial(1000, 0.7) for _ in range(500)]"
      ],
      "metadata": {
        "id": "SanOwE4dZzbA"
      },
      "execution_count": 10,
      "outputs": []
    },
    {
      "cell_type": "code",
      "source": [
        "np.random.seed(0)\n",
        "\n",
        "# Optimizing the coin-flip-frequency computation\n",
        "head_count_array = np.random.binomial(1000, 0.7, size=500)"
      ],
      "metadata": {
        "id": "_iGTnIgwaHwl"
      },
      "execution_count": 13,
      "outputs": []
    },
    {
      "cell_type": "markdown",
      "source": [
        "The output is not a Python list but a NumPy array data structure."
      ],
      "metadata": {
        "id": "NXPX_9PsaUO3"
      }
    },
    {
      "cell_type": "code",
      "source": [
        "# Converting a NumPy array to a Python list\n",
        "assert head_count_array.tolist() == head_count_list"
      ],
      "metadata": {
        "id": "B-CICJ7jaUoN"
      },
      "execution_count": 14,
      "outputs": []
    },
    {
      "cell_type": "code",
      "source": [
        "# Converting a Python list to a NumPy array\n",
        "new_array = np.array(head_count_list)\n",
        "\n",
        "assert np.array_equal(new_array, head_count_array) == True"
      ],
      "metadata": {
        "id": "4768kvlga3r2"
      },
      "execution_count": 15,
      "outputs": []
    },
    {
      "cell_type": "code",
      "source": [
        "# Computing frequencies using NumPy\n",
        "frequency_array = head_count_array / 1000\n",
        "\n",
        "assert frequency_array.tolist() == [head_count / 1000 for head_count in head_count_list]\n",
        "assert frequency_array.tolist() == list(map(lambda x: x / 1000, head_count_list))"
      ],
      "metadata": {
        "id": "YBHKON45cFDw"
      },
      "execution_count": 16,
      "outputs": []
    },
    {
      "cell_type": "markdown",
      "source": [
        "We’ve converted our head-count array into a frequency array using a simple division\n",
        "operation. \n",
        "\n",
        "Let’s explore the contents of frequency_array in greater detail.\n",
        "\n"
      ],
      "metadata": {
        "id": "6f_SYyugcnjx"
      }
    },
    {
      "cell_type": "code",
      "source": [
        "# Printing a NumPy frequency array\n",
        "print(frequency_array[:20])"
      ],
      "metadata": {
        "id": "qR2PbkUJcs1k",
        "outputId": "d3b90f79-9c41-4577-db9f-11a4f53a9ca0",
        "colab": {
          "base_uri": "https://localhost:8080/"
        }
      },
      "execution_count": 17,
      "outputs": [
        {
          "output_type": "stream",
          "name": "stdout",
          "text": [
            "[0.697 0.69  0.7   0.707 0.702 0.699 0.723 0.67  0.702 0.713 0.721 0.689\n",
            " 0.711 0.697 0.717 0.691 0.731 0.697 0.722 0.728]\n"
          ]
        }
      ]
    },
    {
      "cell_type": "markdown",
      "source": [
        "The sampled frequencies fluctuate from 0.69 to approximately 0.731.\n",
        "\n",
        "Let’s extract the minimum and maximum array values."
      ],
      "metadata": {
        "id": "DkVLKKVjc2W3"
      }
    },
    {
      "cell_type": "code",
      "source": [
        "# Finding the largest and smallest frequency values\n",
        "min_freq = frequency_array.min()\n",
        "max_freq = frequency_array.max()\n",
        "\n",
        "print(f\"Minimum frequency observed: {min_freq}\")\n",
        "print(f\"Maximum frequency observed: {max_freq}\")\n",
        "print(f\"Difference across frequency range: {max_freq - min_freq}\")"
      ],
      "metadata": {
        "id": "g_iZd868c7gf",
        "outputId": "19ef7cde-8656-4021-c4bc-89946aaaa546",
        "colab": {
          "base_uri": "https://localhost:8080/"
        }
      },
      "execution_count": 18,
      "outputs": [
        {
          "output_type": "stream",
          "name": "stdout",
          "text": [
            "Minimum frequency observed: 0.656\n",
            "Maximum frequency observed: 0.733\n",
            "Difference across frequency range: 0.07699999999999996\n"
          ]
        }
      ]
    },
    {
      "cell_type": "markdown",
      "source": [
        "Somewhere in the frequency range of 0.656 to 0.733 lies the true probability of heads.\n",
        "That interval span is noticeably large, with a more than 7% difference between the\n",
        "largest and smallest sampled values.\n",
        "\n",
        "Perhaps we can narrow the frequency range by\n",
        "plotting all unique frequencies against their occurrence counts."
      ],
      "metadata": {
        "id": "mZAdmEc2dZhC"
      }
    },
    {
      "cell_type": "code",
      "source": [
        "# Plotting measured frequencies\n",
        "frequency_counts = defaultdict(int)\n",
        "for frequency in frequency_array:\n",
        "  frequency_counts[frequency] += 1\n",
        "\n",
        "frequencies = list(frequency_counts.keys())\n",
        "counts = [frequency_counts[freq] for freq in frequencies]\n",
        "\n",
        "plt.scatter(frequencies, counts)\n",
        "plt.xlabel(\"Frequency\")\n",
        "plt.ylabel(\"Count\")\n",
        "plt.show()"
      ],
      "metadata": {
        "id": "LSwKITwkddM8",
        "outputId": "c1faf5a7-64a8-42d2-be0d-853f3bf68e47",
        "colab": {
          "base_uri": "https://localhost:8080/",
          "height": 279
        }
      },
      "execution_count": 20,
      "outputs": [
        {
          "output_type": "display_data",
          "data": {
            "text/plain": [
              "<Figure size 432x288 with 1 Axes>"
            ],
            "image/png": "[encoded data removed]"
          },
          "metadata": {
            "needs_background": "light"
          }
        }
      ]
    },
    {
      "cell_type": "markdown",
      "source": [
        "The visualization is informative: frequencies close to 0.7 occur more commonly than other, more distant values.\n",
        "\n",
        "However, our plot is also flawed, since nearly identical frequencies\n",
        "appear as overlapping dots in the chart. \n",
        "\n",
        "We should group these proximate\n",
        "frequencies together instead of treating them as individual points."
      ],
      "metadata": {
        "id": "UgsbU1YzeQ6P"
      }
    },
    {
      "cell_type": "markdown",
      "source": [
        "###Binning similar points"
      ],
      "metadata": {
        "id": "cdrAblvmejXQ"
      }
    },
    {
      "cell_type": "markdown",
      "source": [
        ""
      ],
      "metadata": {
        "id": "FsXLxP6deswv"
      }
    }
  ]
}