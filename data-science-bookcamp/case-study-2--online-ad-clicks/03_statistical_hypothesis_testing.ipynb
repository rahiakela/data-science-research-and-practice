{
  "nbformat": 4,
  "nbformat_minor": 0,
  "metadata": {
    "colab": {
      "name": "03-statistical-hypothesis-testing.ipynb",
      "provenance": [],
      "toc_visible": true,
      "authorship_tag": "ABX9TyNQqv8s+eu7MXQv/t+9RERE",
      "include_colab_link": true
    },
    "kernelspec": {
      "name": "python3",
      "display_name": "Python 3"
    },
    "language_info": {
      "name": "python"
    }
  },
  "cells": [
    {
      "cell_type": "markdown",
      "metadata": {
        "id": "view-in-github",
        "colab_type": "text"
      },
      "source": [
        "<a href=\"https://colab.research.google.com/github/rahiakela/data-science-research-and-practice/blob/main/data-science-bookcamp/case-study-2--online-ad-clicks/03_statistical_hypothesis_testing.ipynb\" target=\"_parent\"><img src=\"https://colab.research.google.com/assets/colab-badge.svg\" alt=\"Open In Colab\"/></a>"
      ]
    },
    {
      "cell_type": "markdown",
      "source": [
        "##Statistical hypothesis testing"
      ],
      "metadata": {
        "id": "lXfEhVXLMk9J"
      }
    },
    {
      "cell_type": "markdown",
      "source": [
        "Many ordinary people are forced to make hard choices every day. This is especially\n",
        "true of jurors in the American justice system. Jurors preside over a defendant’s fate\n",
        "during a trial. \n",
        "\n",
        "They consider the evidence and then decide between two competing\n",
        "hypotheses:\n",
        "\n",
        "* The defendant is innocent.\n",
        "* The defendant is guilty.\n",
        "\n",
        "The two hypotheses are not weighted equally: the defendant is presumed to be\n",
        "innocent until proven guilty. Thus, the jurors assume that the innocence hypothesis\n",
        "is true. They can only reject the innocence hypothesis if the prosecution’s evidence\n",
        "is convincing. Yet the evidence is rarely 100% conclusive, and some doubt of\n",
        "the defendant’s guilt remains. That doubt is factored into the legal process.\n",
        "\n",
        "The jury is instructed to accept the innocence hypothesis if there is “reasonable doubt” of the defendant’s guilt. They can only reject the innocence hypothesis if the defendant\n",
        "appears guilty “beyond a reasonable doubt.”\n",
        "\n",
        "Reasonable doubt is an abstract concept that’s hard to define precisely. Nonetheless,\n",
        "we can distinguish between reasonable and unreasonable doubt across a range of\n",
        "real-world scenarios.\n",
        "\n",
        "In our scenarios, the jurors are carrying out a statistical hypothesis test. Such tests\n",
        "allow statisticians to choose between two competing hypotheses, both of which arise\n",
        "from uncertain data. One of the hypotheses is accepted or rejected based on a measured\n",
        "level of doubt.\n",
        "\n",
        "In this notebook, we explore several well-known statistical hypothesis\n",
        "testing techniques. We begin with a simple test to measure whether a sample mean\n",
        "noticeably deviates from an existing population."
      ],
      "metadata": {
        "id": "yeFtviJ0NOTv"
      }
    },
    {
      "cell_type": "markdown",
      "source": [
        "##Setup"
      ],
      "metadata": {
        "id": "acuDtWwtNO7R"
      }
    },
    {
      "cell_type": "code",
      "source": [
        "from collections import defaultdict\n",
        "import itertools\n",
        "\n",
        "import numpy as np\n",
        "from scipy import stats\n",
        "import math\n",
        "\n",
        "import matplotlib.pyplot as plt"
      ],
      "metadata": {
        "id": "s5coLXNNNQET"
      },
      "execution_count": 1,
      "outputs": []
    },
    {
      "cell_type": "code",
      "source": [
        "# Penalizing centers using the squared distance from the minimum\n",
        "def squared_distance(value1, value2):\n",
        "  return (value1 - value2) ** 2"
      ],
      "metadata": {
        "id": "1hjYBTl1VbYJ"
      },
      "execution_count": 2,
      "outputs": []
    },
    {
      "cell_type": "code",
      "source": [
        "# Penalizing centers using the total sum of squared distances\n",
        "def sum_of_squared_distances(value, measurements):\n",
        "  return sum(squared_distance(value, m) for m in measurements)"
      ],
      "metadata": {
        "id": "n9UZBH__Vd7Y"
      },
      "execution_count": 3,
      "outputs": []
    },
    {
      "cell_type": "code",
      "source": [
        "# Computing California’s sum of squares\n",
        "def sum_of_squares(data):\n",
        "  mean = np.mean(data)\n",
        "  return sum(squared_distance(value, mean) for value in data)"
      ],
      "metadata": {
        "id": "ZsP4lR9-VlFZ"
      },
      "execution_count": 4,
      "outputs": []
    },
    {
      "cell_type": "code",
      "source": [
        "# Computing the variance from mean squared distance\n",
        "def variance(data):\n",
        "  mean = np.mean(data)\n",
        "  return np.mean([squared_distance(value, mean) for value in data])"
      ],
      "metadata": {
        "id": "w8f59ySaVovY"
      },
      "execution_count": 5,
      "outputs": []
    },
    {
      "cell_type": "code",
      "source": [
        "# Computing the weighted variance using np.average\n",
        "def weighted_variance(data, weights):\n",
        "  mean = np.average(data, weights=weights)\n",
        "  squared_distances = [squared_distance(value, mean) for value in data]\n",
        "  return np.average(squared_distances, weights=weights)\n",
        "\n",
        "assert weighted_variance([75, 77], [9, 1]) == np.var(9 * [75] + [77])"
      ],
      "metadata": {
        "id": "AXJEhi-gVrsN"
      },
      "execution_count": 6,
      "outputs": []
    },
    {
      "cell_type": "markdown",
      "source": [
        "##Divergence between sample and population mean"
      ],
      "metadata": {
        "id": "pnz1cgiEOMj8"
      }
    },
    {
      "cell_type": "markdown",
      "source": [
        "Now, let’s\n",
        "imagine a scenario where we analyze every fifth-grade classroom in North Dakota.\n",
        "One spring day, all fifth graders in the state are given the same assessment exam. The\n",
        "exam grades are fed into North Dakota’s assessment database, and the population\n",
        "mean and variance are computed across all grades in the state. According to the\n",
        "records, the population mean is 80, and the population variance is 100."
      ],
      "metadata": {
        "id": "bwOW8afWOPkG"
      }
    },
    {
      "cell_type": "code",
      "source": [
        "# Population mean and variance of North Dakota grades\n",
        "population_mean = 80\n",
        "population_variance = 100"
      ],
      "metadata": {
        "id": "78cmAma-Oimt"
      },
      "execution_count": 7,
      "outputs": []
    },
    {
      "cell_type": "markdown",
      "source": [
        "Let’s temporarily assume that the null hypothesis is true and both Dakotas share\n",
        "the same population mean and variance."
      ],
      "metadata": {
        "id": "lifDzuMFPEQQ"
      }
    },
    {
      "cell_type": "code",
      "source": [
        "# Normal curve parameters if the null hypothesis is true\n",
        "mean = population_mean\n",
        "sem = (population_variance / 18) ** 0.5"
      ],
      "metadata": {
        "id": "z63R26UkPMgU"
      },
      "execution_count": 8,
      "outputs": []
    },
    {
      "cell_type": "markdown",
      "source": [
        "If the null hypothesis is true, the probability of encountering an average exam grade\n",
        "of at least 84% is equal to `stats.norm.sf(84 mean, sem)`. \n",
        "\n",
        "Let’s check that probability."
      ],
      "metadata": {
        "id": "GQXw26NkTwM9"
      }
    },
    {
      "cell_type": "code",
      "source": [
        "# Finding the probability of a high-performance grade\n",
        "prob_high_grade = stats.norm.sf(84, mean, sem)\n",
        "print(f\"Probability of an average grade >= 84 is {prob_high_grade}\")"
      ],
      "metadata": {
        "id": "MpECYEEyRzQM",
        "colab": {
          "base_uri": "https://localhost:8080/"
        },
        "outputId": "2f35f7e3-f0f8-472d-f0ed-1c4754f44dc6"
      },
      "execution_count": 9,
      "outputs": [
        {
          "output_type": "stream",
          "name": "stdout",
          "text": [
            "Probability of an average grade >= 84 is 0.044843010885182284\n"
          ]
        }
      ]
    },
    {
      "cell_type": "markdown",
      "source": [
        "We will now compute the probability of observing an exam average that’s less than\n",
        "or equal to 76%.\n",
        "\n",
        "The calculation can be carried out with SciPy’s `stats.norm.cdf`\n",
        "method, which computes the cumulative distribution function of the normal curve.\n",
        "\n",
        "A cumulative distribution function is the direct opposite of the survival function.\n",
        "\n",
        "We now use `stats.norm.cdf` to find the probability of observing an unusually low average grade."
      ],
      "metadata": {
        "id": "ihkNc95URyVl"
      }
    },
    {
      "cell_type": "code",
      "source": [
        "# Finding the probability of a low-performance grade\n",
        "prob_low_grade = stats.norm.cdf(76, mean, sem)\n",
        "print(f\"Probability of an average grade <= 76 is {prob_low_grade}\")"
      ],
      "metadata": {
        "id": "ApEynh42SN_b",
        "outputId": "5ed2756b-905e-4feb-960d-1a12e937e986",
        "colab": {
          "base_uri": "https://localhost:8080/"
        }
      },
      "execution_count": 10,
      "outputs": [
        {
          "output_type": "stream",
          "name": "stdout",
          "text": [
            "Probability of an average grade <= 76 is 0.044843010885182284\n"
          ]
        }
      ]
    },
    {
      "cell_type": "markdown",
      "source": [
        "It appears that `prob_low_grade` is equal to `prob_high_grade`. This equality arises\n",
        "from the symmetric shape of the normal curve. \n",
        "\n",
        "The cumulative distribution and the\n",
        "survival function are mirror images that are reflected across the mean. \n",
        "\n",
        "Thus,\n",
        "`stats.norm.sf(mean + x, mean, sem)` always equals `stats.norm.cdf(mean - x, mean, sem)` for any input x. \n",
        "\n",
        "Next, we visualize both functions to confirm their reflection\n",
        "across a vertically plotted mean."
      ],
      "metadata": {
        "id": "Pn-vKrN5SpME"
      }
    },
    {
      "cell_type": "code",
      "source": [
        "# Comparing the survival and cumulative distribution functions\n",
        "for x in range(-100, 100):\n",
        "  sf_value = stats.norm.sf(mean + x, mean, sem)\n",
        "  assert sf_value == stats.norm.cdf(mean - x, mean, sem)\n",
        "\n",
        "plt.axvline(mean, color=\"k\", label=\"Mean\", linestyle=\":\")\n",
        "x_values = range(60, 101)\n",
        "plt.plot(x_values, stats.norm.cdf(x_values, mean, sem), label=\"Cumulative Distribution\")\n",
        "plt.plot(x_values, stats.norm.sf(x_values, mean, sem), label=\"Survival Function\", color=\"r\", linestyle=\"--\")\n",
        "plt.legend()\n",
        "plt.xlabel(\"Sample Mean\")\n",
        "plt.ylabel(\"Probability\")\n",
        "plt.show()"
      ],
      "metadata": {
        "colab": {
          "base_uri": "https://localhost:8080/",
          "height": 279
        },
        "id": "UDs9ZSFecJjA",
        "outputId": "496c272e-2ef6-4bc3-cc91-2a7023d3c0b1"
      },
      "execution_count": 11,
      "outputs": [
        {
          "output_type": "display_data",
          "data": {
            "text/plain": [
              "<Figure size 432x288 with 1 Axes>"
            ],
            "image/png": "[encoded data removed]"
          },
          "metadata": {
            "needs_background": "light"
          }
        }
      ]
    },
    {
      "cell_type": "markdown",
      "source": [
        "Now we are ready to sum `prob_high_grade` and `prob_low_grade`. Due to symmetry, that sum equals `2 * prob_high_grade`.\n",
        "\n",
        "Conceptually, the sum represents the probability\n",
        "of observing an extreme deviation from the population mean when the null hypothesis\n",
        "is true. Statisticians refer to this null-hypothesis-driven probability as the `p-value`."
      ],
      "metadata": {
        "id": "y3tn5An2fEJE"
      }
    },
    {
      "cell_type": "code",
      "source": [
        "# Computing the null-hypothesis-driven p-value\n",
        "p_value = prob_low_grade + prob_high_grade\n",
        "assert p_value == 2 * prob_high_grade\n",
        "\n",
        "print(f\"The p-value is {p_value}\")"
      ],
      "metadata": {
        "colab": {
          "base_uri": "https://localhost:8080/"
        },
        "id": "ttvmZAwpfZkE",
        "outputId": "6832cf65-fa64-4353-f6bf-37c5eada909c"
      },
      "execution_count": 12,
      "outputs": [
        {
          "output_type": "stream",
          "name": "stdout",
          "text": [
            "The p-value is 0.08968602177036457\n"
          ]
        }
      ]
    },
    {
      "cell_type": "markdown",
      "source": [
        "Under the null hypothesis, there is approximately a 9% chance of observing the grade\n",
        "extreme at random. \n",
        "\n",
        "It’s therefore plausible that the null hypothesis is true and the\n",
        "extreme test average is just a random fluctuation.\n",
        "\n",
        "Let’s check if that slight grade shift would have influenced our p-value."
      ],
      "metadata": {
        "id": "9pZJ8dutthbe"
      }
    },
    {
      "cell_type": "code",
      "source": [
        "# Computing the p-value for an adjusted sample mean\n",
        "def compute_p_value(observed_mean, population_mean, sem):\n",
        "  mean_diff = abs(population_mean - observed_mean)\n",
        "  prob_high = stats.norm.sf(population_mean + mean_diff, population_mean, sem)\n",
        "  return 2 * prob_high"
      ],
      "metadata": {
        "id": "_h3HMcUtsIVw"
      },
      "execution_count": 13,
      "outputs": []
    },
    {
      "cell_type": "code",
      "source": [
        "new_p_value = compute_p_value(85, mean, sem)\n",
        "print(f\"The updated p-value is {new_p_value}\")"
      ],
      "metadata": {
        "id": "bHnqzCnjuIKi",
        "outputId": "1b3bab50-21da-4afe-bc3b-2654e8c850c8",
        "colab": {
          "base_uri": "https://localhost:8080/"
        }
      },
      "execution_count": 14,
      "outputs": [
        {
          "output_type": "stream",
          "name": "stdout",
          "text": [
            "The updated p-value is 0.03389485352468927\n"
          ]
        }
      ]
    },
    {
      "cell_type": "markdown",
      "source": [
        "A tiny increase in the average grade has caused a threefold decrease in the p-value.\n",
        "\n",
        "Now,\n",
        "under the null hypothesis, there’s only a 3.3% chance of observing an average test grade\n",
        "that’s at least as extreme as 85%. This likelihood is low, and we might therefore be\n",
        "tempted to reject the null hypothesis.\n",
        "\n",
        "This is not an easy question to answer. Generally, statisticians tend to reject the null\n",
        "hypothesis if the p-value is less than or equal to 0.05. The threshold of 0.05 is called\n",
        "the significance level, and p-values below that threshold are deemed to be statistically significant.\n",
        "\n",
        "Unfortunately, the threshold of 0.05 doesn’t actually arise from the laws of mathematics\n",
        "and statistics: it’s an ad hoc value chosen by the academic community as a requirement\n",
        "for research publication.\n",
        "\n",
        "As a consequence, many research journals are flooded\n",
        "with type I errors. A type I error is defined as an erroneous rejection of the null hypothesis.\n",
        "Such errors occur when random data fluctuations are interpreted as genuine\n",
        "deviations from the population mean.\n",
        "\n",
        "But there is currently no consensus on whether using a lower threshold\n",
        "is appropriate, since doing so would lead to an increase in type II errors, in which we\n",
        "wrongly reject the alternative hypothesis.\n",
        "\n",
        "Selecting an optimal significance level is difficult. Nevertheless, let’s temporarily\n",
        "set the significance level to a very stringent value of 0.001."
      ],
      "metadata": {
        "id": "WhZIr6Zovm2A"
      }
    },
    {
      "cell_type": "code",
      "source": [
        "# Scanning for a stringent p-value result\n",
        "for grade in range(80, 100):\n",
        "  p_value = compute_p_value(grade, mean, sem)\n",
        "  if p_value < 0.001:\n",
        "    break\n",
        "\n",
        "print(f\"An average grade of {grade} leads to a p-value of {p_value}\")"
      ],
      "metadata": {
        "id": "ha016rIFwUao",
        "outputId": "afaa447f-71ac-4707-8af4-cc8b45e97fa6",
        "colab": {
          "base_uri": "https://localhost:8080/"
        }
      },
      "execution_count": 15,
      "outputs": [
        {
          "output_type": "stream",
          "name": "stdout",
          "text": [
            "An average grade of 88 leads to a p-value of 0.0006885138966450773\n"
          ]
        }
      ]
    },
    {
      "cell_type": "markdown",
      "source": [
        "Given the new threshold, we would require an average grade of at least 88% to reject\n",
        "the null hypothesis. Thus, an average grade of 87% would not be considered statistically\n",
        "significant, even though it’s noticeably higher than the population mean.\n",
        "\n",
        "Our\n",
        "lowering of the cutoff has inevitably exposed us to an increased risk of type II errors.\n",
        "\n",
        "But we also proceed with excessive caution to avoid erroneously rejecting the\n",
        "null hypothesis. \n",
        "\n",
        "In particular, we do our best to minimize the most common cause of\n",
        "type I errors and the topic of the next subsection: **data dredging**."
      ],
      "metadata": {
        "id": "aRODb9O1w3MB"
      }
    },
    {
      "cell_type": "markdown",
      "source": [
        "##Data dredging"
      ],
      "metadata": {
        "id": "qh_SENDZyC3p"
      }
    },
    {
      "cell_type": "code",
      "source": [
        "# Randomly sampling Montana’s exam performance\n",
        "np.random.seed(0)\n",
        "\n",
        "random_average_grade = np.random.normal(mean, sem)\n",
        "print(f\"Average grade equals {random_average_grade:.2f}\")"
      ],
      "metadata": {
        "id": "UIfrfox0hhAi",
        "outputId": "3abb7a7c-4c63-4e8c-b706-8a4570c96fc2",
        "colab": {
          "base_uri": "https://localhost:8080/"
        }
      },
      "execution_count": 16,
      "outputs": [
        {
          "output_type": "stream",
          "name": "stdout",
          "text": [
            "Average grade equals 84.16\n"
          ]
        }
      ]
    },
    {
      "cell_type": "code",
      "source": [
        "# Testing the significance of Montana’s exam performance\n",
        "if compute_p_value(random_average_grade, mean , sem) <= 0.05:\n",
        "  print(\"The observed result is statistically significant\")\n",
        "else:\n",
        "  print(\"The observed result is not statistically significant\")"
      ],
      "metadata": {
        "id": "N_PAEtSCc7Cg",
        "outputId": "990cb00d-1761-4b93-f7ec-f3089568faff",
        "colab": {
          "base_uri": "https://localhost:8080/"
        }
      },
      "execution_count": 17,
      "outputs": [
        {
          "output_type": "stream",
          "name": "stdout",
          "text": [
            "The observed result is not statistically significant\n"
          ]
        }
      ]
    },
    {
      "cell_type": "code",
      "source": [
        "# Randomly searching for a significant state result\n",
        "np.random.seed(0)\n",
        "\n",
        "for i in range(1, 49):\n",
        "  print(f\"We visited state {i + 1}\")\n",
        "  random_average_grade = np.random.normal(mean, sem)\n",
        "  p_value = compute_p_value(random_average_grade, mean , sem)\n",
        "  if p_value <= 0.05:\n",
        "    print(\"We found a statistically significant result.\")\n",
        "    print(f\"The average grade was {random_average_grade:.2f}\")\n",
        "    print(f\"The p-value was {p_value}\")\n",
        "    break\n",
        "\n",
        "if i == 48:\n",
        "  print(\"We visited every state and found no significant results.\")"
      ],
      "metadata": {
        "id": "x9TbbWQDdd24",
        "outputId": "d449d958-fdb5-4b1f-9b74-ca5819e694b6",
        "colab": {
          "base_uri": "https://localhost:8080/"
        }
      },
      "execution_count": 18,
      "outputs": [
        {
          "output_type": "stream",
          "name": "stdout",
          "text": [
            "We visited state 2\n",
            "We visited state 3\n",
            "We visited state 4\n",
            "We visited state 5\n",
            "We found a statistically significant result.\n",
            "The average grade was 85.28\n",
            "The p-value was 0.025032993883401307\n"
          ]
        }
      ]
    },
    {
      "cell_type": "code",
      "source": [
        "# Using the Bonferroni correction to adjust significance\n",
        "num_planned_experiments = 49\n",
        "significance_level = .5 / num_planned_experiments"
      ],
      "metadata": {
        "id": "qprIn72aluXr"
      },
      "execution_count": 19,
      "outputs": []
    },
    {
      "cell_type": "code",
      "source": [
        "# Rerunning an analysis using an adjusted significance level\n",
        "np.random.seed(0)\n",
        "\n",
        "for i in range(1, 49):\n",
        "  print(f\"We visited state {i + 1}\")\n",
        "  random_average_grade = np.random.normal(mean, sem)\n",
        "  p_value = compute_p_value(random_average_grade, mean , sem)\n",
        "  if p_value <= significance_level:\n",
        "    print(\"We found a statistically significant result.\")\n",
        "    print(f\"The average grade was {random_average_grade:.2f}\")\n",
        "    print(f\"The p-value was {p_value}\")\n",
        "    break\n",
        "\n",
        "if i == 48:\n",
        "  print(\"We visited every state and found no significant results.\")"
      ],
      "metadata": {
        "id": "KLFIHVnCl3VH",
        "outputId": "2da614c9-d5c4-463b-a3d1-89a6b4e48a3e",
        "colab": {
          "base_uri": "https://localhost:8080/"
        }
      },
      "execution_count": 20,
      "outputs": [
        {
          "output_type": "stream",
          "name": "stdout",
          "text": [
            "We visited state 2\n",
            "We visited state 3\n",
            "We visited state 4\n",
            "We visited state 5\n",
            "We visited state 6\n",
            "We visited state 7\n",
            "We visited state 8\n",
            "We visited state 9\n",
            "We visited state 10\n",
            "We visited state 11\n",
            "We visited state 12\n",
            "We visited state 13\n",
            "We visited state 14\n",
            "We visited state 15\n",
            "We visited state 16\n",
            "We visited state 17\n",
            "We visited state 18\n",
            "We visited state 19\n",
            "We visited state 20\n",
            "We visited state 21\n",
            "We visited state 22\n",
            "We visited state 23\n",
            "We visited state 24\n",
            "We visited state 25\n",
            "We visited state 26\n",
            "We visited state 27\n",
            "We visited state 28\n",
            "We visited state 29\n",
            "We visited state 30\n",
            "We visited state 31\n",
            "We visited state 32\n",
            "We visited state 33\n",
            "We visited state 34\n",
            "We visited state 35\n",
            "We visited state 36\n",
            "We visited state 37\n",
            "We visited state 38\n",
            "We visited state 39\n",
            "We visited state 40\n",
            "We visited state 41\n",
            "We visited state 42\n",
            "We visited state 43\n",
            "We visited state 44\n",
            "We visited state 45\n",
            "We visited state 46\n",
            "We visited state 47\n",
            "We visited state 48\n",
            "We visited state 49\n",
            "We visited every state and found no significant results.\n"
          ]
        }
      ]
    },
    {
      "cell_type": "markdown",
      "source": [
        "##Bootstrapping with replacement"
      ],
      "metadata": {
        "id": "T7D6gqvMmPXi"
      }
    },
    {
      "cell_type": "markdown",
      "source": [
        "Consider the following scenario, in which we own a very large aquarium. It holds 20\n",
        "tropical fish of lengths varying from 2 cm to nearly 120 cm. The average fish length\n",
        "equals 27 cm."
      ],
      "metadata": {
        "id": "Q6Uv2TjZhKtr"
      }
    },
    {
      "cell_type": "code",
      "source": [
        "# Defining lengths of fish in an aquarium\n",
        "fish_lengths = np.array([46.7, 17.1, 2.0, 19.2, 7.9, 15.0, 43.4, 8.8, 47.8, 19.5, 2.9, 53.0, 23.5, 118.5, 3.8, 2.9, 53.9, 23.9, 2.0, 28.2])\n",
        "assert fish_lengths.mean() == 27"
      ],
      "metadata": {
        "id": "R2fUqV4qmQbl"
      },
      "execution_count": 22,
      "outputs": []
    },
    {
      "cell_type": "code",
      "source": [
        "# Sampling a random fish from the aquarium\n",
        "np.random.seed(0)\n",
        "\n",
        "random_fish_length = np.random.choice(fish_lengths, size=1)[0]\n",
        "sampled_fish_lengths = [random_fish_length]\n",
        "print(sampled_fish_lengths)"
      ],
      "metadata": {
        "id": "JUZUFKc3hvYO",
        "outputId": "7b0d9e1a-ec17-49b5-f6c7-1d5a44d8c7d8",
        "colab": {
          "base_uri": "https://localhost:8080/"
        }
      },
      "execution_count": 24,
      "outputs": [
        {
          "output_type": "stream",
          "name": "stdout",
          "text": [
            "[23.5]\n"
          ]
        }
      ]
    },
    {
      "cell_type": "code",
      "source": [
        "# Sampling 20 random fish with repetition\n",
        "np.random.seed(0)\n",
        "\n",
        "for _ in range(20):\n",
        "  random_fish_length = np.random.choice(fish_lengths, size=1)[0]\n",
        "  sampled_fish_lengths.append(random_fish_length)\n",
        "print(sampled_fish_lengths)"
      ],
      "metadata": {
        "id": "yeQPFhs6iDJ6",
        "outputId": "53743243-6f79-4515-a0ad-f022f8725ca3",
        "colab": {
          "base_uri": "https://localhost:8080/"
        }
      },
      "execution_count": 25,
      "outputs": [
        {
          "output_type": "stream",
          "name": "stdout",
          "text": [
            "[23.5, 23.5, 2.9, 46.7, 19.2, 19.2, 8.8, 19.5, 28.2, 2.0, 7.9, 43.4, 23.5, 17.1, 43.4, 8.8, 3.8, 23.9, 15.0, 118.5, 47.8]\n"
          ]
        }
      ]
    },
    {
      "cell_type": "code",
      "source": [
        "# Comparing the sample mean to the aquarium mean\n",
        "sample_mean = np.mean(sampled_fish_lengths)\n",
        "print(f\"Mean of sampled fish lengths is {sample_mean:.2f} cm.\")"
      ],
      "metadata": {
        "id": "xw6SCYCbiWvy",
        "outputId": "05e21a82-34c0-4930-d6cb-adb2a3f81a12",
        "colab": {
          "base_uri": "https://localhost:8080/"
        }
      },
      "execution_count": 26,
      "outputs": [
        {
          "output_type": "stream",
          "name": "stdout",
          "text": [
            "Mean of sampled fish lengths is 26.03 cm.\n"
          ]
        }
      ]
    },
    {
      "cell_type": "code",
      "source": [
        "# Sampling with replacement using NumPy\n",
        "np.random.seed(0)\n",
        "\n",
        "new_sampled_fish_lengths = np.random.choice(fish_lengths, size=20, replace=True)\n",
        "\n",
        "new_sample_mean = new_sampled_fish_lengths.mean()\n",
        "print(f\"Mean of the new sampled fish lengths is {new_sample_mean:.2f} cm.\")"
      ],
      "metadata": {
        "id": "b08sdqWwioMl",
        "outputId": "a189068f-07da-4fbe-8df5-b703e050281f",
        "colab": {
          "base_uri": "https://localhost:8080/"
        }
      },
      "execution_count": 27,
      "outputs": [
        {
          "output_type": "stream",
          "name": "stdout",
          "text": [
            "Mean of the new sampled fish lengths is 26.16 cm.\n"
          ]
        }
      ]
    },
    {
      "cell_type": "code",
      "source": [
        "# Plotting the distribution of 150,000 sampled means\n",
        "np.random.seed(0)\n",
        "\n",
        "sample_means = [np.random.choice(fish_lengths, size=20, replace=True).mean() for _ in range(150000)]\n",
        "\n",
        "likelihoods, bin_edges, _ = plt.hist(sample_means, bins=\"auto\", edgecolor=\"black\", density=True)\n",
        "plt.xlabel(\"Binned Sample Mean\")\n",
        "plt.ylabel(\"Relative Likelihood\")\n",
        "plt.show()"
      ],
      "metadata": {
        "id": "5erH7IvlIvgy",
        "outputId": "7b4f457a-a9ac-420a-dafd-92c548878c42",
        "colab": {
          "base_uri": "https://localhost:8080/",
          "height": 282
        }
      },
      "execution_count": 28,
      "outputs": [
        {
          "output_type": "display_data",
          "data": {
            "text/plain": [
              "<Figure size 432x288 with 1 Axes>"
            ],
            "image/png": "[encoded data removed]"
          },
          "metadata": {
            "needs_background": "light"
          }
        }
      ]
    },
    {
      "cell_type": "code",
      "source": [
        "# Computing the skew of an asymmetric distribution\n",
        "assert abs(stats.skew(sample_means)) > 0.4"
      ],
      "metadata": {
        "id": "juI_0E5Pk3dM"
      },
      "execution_count": 29,
      "outputs": []
    }
  ]
}