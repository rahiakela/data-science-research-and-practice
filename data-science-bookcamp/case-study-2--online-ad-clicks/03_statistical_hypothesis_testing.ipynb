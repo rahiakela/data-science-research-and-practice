{
  "nbformat": 4,
  "nbformat_minor": 0,
  "metadata": {
    "colab": {
      "name": "03-statistical-hypothesis-testing.ipynb",
      "provenance": [],
      "toc_visible": true,
      "authorship_tag": "ABX9TyPEd4wRXkRR22kLSe4ITqip",
      "include_colab_link": true
    },
    "kernelspec": {
      "name": "python3",
      "display_name": "Python 3"
    },
    "language_info": {
      "name": "python"
    }
  },
  "cells": [
    {
      "cell_type": "markdown",
      "metadata": {
        "id": "view-in-github",
        "colab_type": "text"
      },
      "source": [
        "<a href=\"https://colab.research.google.com/github/rahiakela/data-science-research-and-practice/blob/main/data-science-bookcamp/case-study-2--online-ad-clicks/03_statistical_hypothesis_testing.ipynb\" target=\"_parent\"><img src=\"https://colab.research.google.com/assets/colab-badge.svg\" alt=\"Open In Colab\"/></a>"
      ]
    },
    {
      "cell_type": "markdown",
      "source": [
        "##Statistical hypothesis testing"
      ],
      "metadata": {
        "id": "lXfEhVXLMk9J"
      }
    },
    {
      "cell_type": "markdown",
      "source": [
        "Many ordinary people are forced to make hard choices every day. This is especially\n",
        "true of jurors in the American justice system. Jurors preside over a defendant’s fate\n",
        "during a trial. \n",
        "\n",
        "They consider the evidence and then decide between two competing\n",
        "hypotheses:\n",
        "\n",
        "* The defendant is innocent.\n",
        "* The defendant is guilty.\n",
        "\n",
        "The two hypotheses are not weighted equally: the defendant is presumed to be\n",
        "innocent until proven guilty. Thus, the jurors assume that the innocence hypothesis\n",
        "is true. They can only reject the innocence hypothesis if the prosecution’s evidence\n",
        "is convincing. Yet the evidence is rarely 100% conclusive, and some doubt of\n",
        "the defendant’s guilt remains. That doubt is factored into the legal process.\n",
        "\n",
        "The jury is instructed to accept the innocence hypothesis if there is “reasonable doubt” of the defendant’s guilt. They can only reject the innocence hypothesis if the defendant\n",
        "appears guilty “beyond a reasonable doubt.”\n",
        "\n",
        "Reasonable doubt is an abstract concept that’s hard to define precisely. Nonetheless,\n",
        "we can distinguish between reasonable and unreasonable doubt across a range of\n",
        "real-world scenarios.\n",
        "\n",
        "In our scenarios, the jurors are carrying out a statistical hypothesis test. Such tests\n",
        "allow statisticians to choose between two competing hypotheses, both of which arise\n",
        "from uncertain data. One of the hypotheses is accepted or rejected based on a measured\n",
        "level of doubt.\n",
        "\n",
        "In this notebook, we explore several well-known statistical hypothesis\n",
        "testing techniques. We begin with a simple test to measure whether a sample mean\n",
        "noticeably deviates from an existing population."
      ],
      "metadata": {
        "id": "yeFtviJ0NOTv"
      }
    },
    {
      "cell_type": "markdown",
      "source": [
        "##Setup"
      ],
      "metadata": {
        "id": "acuDtWwtNO7R"
      }
    },
    {
      "cell_type": "code",
      "source": [
        "from collections import defaultdict\n",
        "import itertools\n",
        "\n",
        "import numpy as np\n",
        "from scipy import stats\n",
        "import math\n",
        "\n",
        "import matplotlib.pyplot as plt"
      ],
      "metadata": {
        "id": "s5coLXNNNQET"
      },
      "execution_count": 1,
      "outputs": []
    },
    {
      "cell_type": "code",
      "source": [
        "# Penalizing centers using the squared distance from the minimum\n",
        "def squared_distance(value1, value2):\n",
        "  return (value1 - value2) ** 2"
      ],
      "metadata": {
        "id": "1hjYBTl1VbYJ"
      },
      "execution_count": 2,
      "outputs": []
    },
    {
      "cell_type": "code",
      "source": [
        "# Penalizing centers using the total sum of squared distances\n",
        "def sum_of_squared_distances(value, measurements):\n",
        "  return sum(squared_distance(value, m) for m in measurements)"
      ],
      "metadata": {
        "id": "n9UZBH__Vd7Y"
      },
      "execution_count": 3,
      "outputs": []
    },
    {
      "cell_type": "code",
      "source": [
        "# Computing California’s sum of squares\n",
        "def sum_of_squares(data):\n",
        "  mean = np.mean(data)\n",
        "  return sum(squared_distance(value, mean) for value in data)"
      ],
      "metadata": {
        "id": "ZsP4lR9-VlFZ"
      },
      "execution_count": 4,
      "outputs": []
    },
    {
      "cell_type": "code",
      "source": [
        "# Computing the variance from mean squared distance\n",
        "def variance(data):\n",
        "  mean = np.mean(data)\n",
        "  return np.mean([squared_distance(value, mean) for value in data])"
      ],
      "metadata": {
        "id": "w8f59ySaVovY"
      },
      "execution_count": 5,
      "outputs": []
    },
    {
      "cell_type": "code",
      "source": [
        "# Computing the weighted variance using np.average\n",
        "def weighted_variance(data, weights):\n",
        "  mean = np.average(data, weights=weights)\n",
        "  squared_distances = [squared_distance(value, mean) for value in data]\n",
        "  return np.average(squared_distances, weights=weights)\n",
        "\n",
        "assert weighted_variance([75, 77], [9, 1]) == np.var(9 * [75] + [77])"
      ],
      "metadata": {
        "id": "AXJEhi-gVrsN"
      },
      "execution_count": 6,
      "outputs": []
    },
    {
      "cell_type": "markdown",
      "source": [
        "##Divergence between sample and population mean"
      ],
      "metadata": {
        "id": "pnz1cgiEOMj8"
      }
    },
    {
      "cell_type": "markdown",
      "source": [
        "Now, let’s\n",
        "imagine a scenario where we analyze every fifth-grade classroom in North Dakota.\n",
        "One spring day, all fifth graders in the state are given the same assessment exam. The\n",
        "exam grades are fed into North Dakota’s assessment database, and the population\n",
        "mean and variance are computed across all grades in the state. According to the\n",
        "records, the population mean is 80, and the population variance is 100."
      ],
      "metadata": {
        "id": "bwOW8afWOPkG"
      }
    },
    {
      "cell_type": "code",
      "source": [
        "# Population mean and variance of North Dakota grades\n",
        "population_mean = 80\n",
        "population_variance = 100"
      ],
      "metadata": {
        "id": "78cmAma-Oimt"
      },
      "execution_count": 7,
      "outputs": []
    },
    {
      "cell_type": "markdown",
      "source": [
        "Let’s temporarily assume that the null hypothesis is true and both Dakotas share\n",
        "the same population mean and variance."
      ],
      "metadata": {
        "id": "lifDzuMFPEQQ"
      }
    },
    {
      "cell_type": "code",
      "source": [
        "# Normal curve parameters if the null hypothesis is true\n",
        "mean = population_mean\n",
        "sem = (population_variance / 18) ** 0.5"
      ],
      "metadata": {
        "id": "z63R26UkPMgU"
      },
      "execution_count": 8,
      "outputs": []
    },
    {
      "cell_type": "markdown",
      "source": [
        "If the null hypothesis is true, the probability of encountering an average exam grade\n",
        "of at least 84% is equal to `stats.norm.sf(84 mean, sem)`. \n",
        "\n",
        "Let’s check that probability."
      ],
      "metadata": {
        "id": "GQXw26NkTwM9"
      }
    },
    {
      "cell_type": "code",
      "source": [
        "# Finding the probability of a high-performance grade\n",
        "prob_high_grade = stats.norm.sf(84, mean, sem)\n",
        "print(f\"Probability of an average grade >= 84 is {prob_high_grade}\")"
      ],
      "metadata": {
        "id": "MpECYEEyRzQM",
        "colab": {
          "base_uri": "https://localhost:8080/"
        },
        "outputId": "f2cce43b-ed5f-46cf-ef3a-5a20b80ed1b5"
      },
      "execution_count": 9,
      "outputs": [
        {
          "output_type": "stream",
          "name": "stdout",
          "text": [
            "Probability of an average grade >= 84 is 0.044843010885182284\n"
          ]
        }
      ]
    },
    {
      "cell_type": "markdown",
      "source": [
        "We will now compute the probability of observing an exam average that’s less than\n",
        "or equal to 76%.\n",
        "\n",
        "The calculation can be carried out with SciPy’s `stats.norm.cdf`\n",
        "method, which computes the cumulative distribution function of the normal curve.\n",
        "\n",
        "A cumulative distribution function is the direct opposite of the survival function.\n",
        "\n",
        "We now use `stats.norm.cdf` to find the probability of observing an unusually low average grade."
      ],
      "metadata": {
        "id": "ihkNc95URyVl"
      }
    },
    {
      "cell_type": "code",
      "source": [
        "# Finding the probability of a low-performance grade\n",
        "prob_low_grade = stats.norm.cdf(76, mean, sem)\n",
        "print(f\"Probability of an average grade <= 76 is {prob_low_grade}\")"
      ],
      "metadata": {
        "id": "ApEynh42SN_b",
        "outputId": "b578436c-3cf5-4980-ffd3-8cb50c33eef8",
        "colab": {
          "base_uri": "https://localhost:8080/"
        }
      },
      "execution_count": 10,
      "outputs": [
        {
          "output_type": "stream",
          "name": "stdout",
          "text": [
            "Probability of an average grade <= 76 is 0.044843010885182284\n"
          ]
        }
      ]
    },
    {
      "cell_type": "markdown",
      "source": [
        "It appears that `prob_low_grade` is equal to `prob_high_grade`. This equality arises\n",
        "from the symmetric shape of the normal curve. \n",
        "\n",
        "The cumulative distribution and the\n",
        "survival function are mirror images that are reflected across the mean. \n",
        "\n",
        "Thus,\n",
        "`stats.norm.sf(mean + x, mean, sem)` always equals `stats.norm.cdf(mean - x, mean, sem)` for any input x. \n",
        "\n",
        "Next, we visualize both functions to confirm their reflection\n",
        "across a vertically plotted mean."
      ],
      "metadata": {
        "id": "Pn-vKrN5SpME"
      }
    },
    {
      "cell_type": "code",
      "source": [
        "# Comparing the survival and cumulative distribution functions\n",
        "for x in range(-100, 100):\n",
        "  sf_value = stats.norm.sf(mean + x, mean, sem)\n",
        "  assert sf_value == stats.norm.cdf(mean - x, mean, sem)\n",
        "\n",
        "plt.axvline(mean, color=\"k\", label=\"Mean\", linestyle=\":\")\n",
        "x_values = range(60, 101)\n",
        "plt.plot(x_values, stats.norm.cdf(x_values, mean, sem), label=\"Cumulative Distribution\")\n",
        "plt.plot(x_values, stats.norm.sf(x_values, mean, sem), label=\"Survival Function\", color=\"r\", linestyle=\"--\")\n",
        "plt.legend()\n",
        "plt.xlabel(\"Sample Mean\")\n",
        "plt.ylabel(\"Probability\")\n",
        "plt.show()"
      ],
      "metadata": {
        "colab": {
          "base_uri": "https://localhost:8080/",
          "height": 279
        },
        "id": "UDs9ZSFecJjA",
        "outputId": "b8cad97f-2bfa-4c27-e671-0b877317de71"
      },
      "execution_count": 12,
      "outputs": [
        {
          "output_type": "display_data",
          "data": {
            "text/plain": [
              "<Figure size 432x288 with 1 Axes>"
            ],
            "image/png": "[encoded data removed]"
          },
          "metadata": {
            "needs_background": "light"
          }
        }
      ]
    },
    {
      "cell_type": "markdown",
      "source": [
        "Now we are ready to sum `prob_high_grade` and `prob_low_grade`. Due to symmetry, that sum equals `2 * prob_high_grade`.\n",
        "\n",
        "Conceptually, the sum represents the probability\n",
        "of observing an extreme deviation from the population mean when the null hypothesis\n",
        "is true. Statisticians refer to this null-hypothesis-driven probability as the `p-value`."
      ],
      "metadata": {
        "id": "y3tn5An2fEJE"
      }
    },
    {
      "cell_type": "code",
      "source": [
        "# Computing the null-hypothesis-driven p-value\n",
        "p_value = prob_low_grade + prob_high_grade\n",
        "assert p_value == 2 * prob_high_grade\n",
        "\n",
        "print(f\"The p-value is {p_value}\")"
      ],
      "metadata": {
        "colab": {
          "base_uri": "https://localhost:8080/"
        },
        "id": "ttvmZAwpfZkE",
        "outputId": "8ca80ab8-8765-4a39-914b-d17b8888f201"
      },
      "execution_count": 14,
      "outputs": [
        {
          "output_type": "stream",
          "name": "stdout",
          "text": [
            "The p-value is 0.08968602177036457\n"
          ]
        }
      ]
    },
    {
      "cell_type": "markdown",
      "source": [
        "Under the null hypothesis, there is approximately a 9% chance of observing the grade\n",
        "extreme at random. \n",
        "\n",
        "It’s therefore plausible that the null hypothesis is true and the\n",
        "extreme test average is just a random fluctuation.\n",
        "\n",
        "Let’s check if that slight grade shift would have influenced our p-value."
      ],
      "metadata": {
        "id": "9pZJ8dutthbe"
      }
    },
    {
      "cell_type": "code",
      "source": [
        "# Computing the p-value for an adjusted sample mean\n",
        "def compute_p_value(observed_mean, population_mean, sem):\n",
        "  mean_diff = abs(population_mean - observed_mean)\n",
        "  prob_high = stats.norm.sf(population_mean + mean_diff, population_mean, sem)\n",
        "  return 2 * prob_high"
      ],
      "metadata": {
        "id": "_h3HMcUtsIVw"
      },
      "execution_count": 15,
      "outputs": []
    },
    {
      "cell_type": "code",
      "source": [
        "new_p_value = compute_p_value(85, mean, sem)\n",
        "print(f\"The updated p-value is {new_p_value}\")"
      ],
      "metadata": {
        "id": "bHnqzCnjuIKi",
        "outputId": "7235bbe3-709d-4326-c57d-dea3f82e3fbe",
        "colab": {
          "base_uri": "https://localhost:8080/"
        }
      },
      "execution_count": 16,
      "outputs": [
        {
          "output_type": "stream",
          "name": "stdout",
          "text": [
            "The updated p-value is 0.03389485352468927\n"
          ]
        }
      ]
    },
    {
      "cell_type": "markdown",
      "source": [
        "A tiny increase in the average grade has caused a threefold decrease in the p-value.\n",
        "\n",
        "Now,\n",
        "under the null hypothesis, there’s only a 3.3% chance of observing an average test grade\n",
        "that’s at least as extreme as 85%. This likelihood is low, and we might therefore be\n",
        "tempted to reject the null hypothesis.\n",
        "\n",
        "This is not an easy question to answer. Generally, statisticians tend to reject the null\n",
        "hypothesis if the p-value is less than or equal to 0.05. The threshold of 0.05 is called\n",
        "the significance level, and p-values below that threshold are deemed to be statistically significant.\n",
        "\n",
        "Unfortunately, the threshold of 0.05 doesn’t actually arise from the laws of mathematics\n",
        "and statistics: it’s an ad hoc value chosen by the academic community as a requirement\n",
        "for research publication.\n",
        "\n",
        "As a consequence, many research journals are flooded\n",
        "with type I errors. A type I error is defined as an erroneous rejection of the null hypothesis.\n",
        "Such errors occur when random data fluctuations are interpreted as genuine\n",
        "deviations from the population mean.\n",
        "\n",
        "But there is currently no consensus on whether using a lower threshold\n",
        "is appropriate, since doing so would lead to an increase in type II errors, in which we\n",
        "wrongly reject the alternative hypothesis.\n",
        "\n",
        "Selecting an optimal significance level is difficult. Nevertheless, let’s temporarily\n",
        "set the significance level to a very stringent value of 0.001."
      ],
      "metadata": {
        "id": "WhZIr6Zovm2A"
      }
    },
    {
      "cell_type": "code",
      "source": [
        "# Scanning for a stringent p-value result\n",
        "for grade in range(80, 100):\n",
        "  p_value = compute_p_value(grade, mean, sem)\n",
        "  if p_value < 0.001:\n",
        "    break\n",
        "\n",
        "print(f\"An average grade of {grade} leads to a p-value of {p_value}\")"
      ],
      "metadata": {
        "id": "ha016rIFwUao",
        "outputId": "54b95c5e-3f08-479b-a5fd-ffcc28c3b052",
        "colab": {
          "base_uri": "https://localhost:8080/"
        }
      },
      "execution_count": 18,
      "outputs": [
        {
          "output_type": "stream",
          "name": "stdout",
          "text": [
            "An average grade of 88 leads to a p-value of 0.0006885138966450773\n"
          ]
        }
      ]
    },
    {
      "cell_type": "markdown",
      "source": [
        "Given the new threshold, we would require an average grade of at least 88% to reject\n",
        "the null hypothesis. Thus, an average grade of 87% would not be considered statistically\n",
        "significant, even though it’s noticeably higher than the population mean.\n",
        "\n",
        "Our\n",
        "lowering of the cutoff has inevitably exposed us to an increased risk of type II errors.\n",
        "\n",
        "But we also proceed with excessive caution to avoid erroneously rejecting the\n",
        "null hypothesis. \n",
        "\n",
        "In particular, we do our best to minimize the most common cause of\n",
        "type I errors and the topic of the next subsection: **data dredging**."
      ],
      "metadata": {
        "id": "aRODb9O1w3MB"
      }
    },
    {
      "cell_type": "markdown",
      "source": [
        "##Data dredging"
      ],
      "metadata": {
        "id": "qh_SENDZyC3p"
      }
    },
    {
      "cell_type": "markdown",
      "source": [
        ""
      ],
      "metadata": {
        "id": "I1LWBHj5yIZ4"
      }
    },
    {
      "cell_type": "code",
      "source": [
        ""
      ],
      "metadata": {
        "id": "UIfrfox0hhAi",
        "outputId": "0f774c16-3bfa-4a82-8c0b-1970d155589c",
        "colab": {
          "base_uri": "https://localhost:8080/"
        }
      },
      "execution_count": null,
      "outputs": [
        {
          "output_type": "execute_result",
          "data": {
            "text/plain": [
              "array([45, 48, 65, ..., 79, 50, 75])"
            ]
          },
          "metadata": {},
          "execution_count": 23
        }
      ]
    },
    {
      "cell_type": "markdown",
      "source": [
        "How do we compute the average age of the residents?\n",
        "\n",
        "One cumbersome approach\n",
        "would be to take a census of every resident in the town. We could record all 50,000 ages and then compute their mean.\n",
        "\n",
        "That exact mean would cover the entire population,\n",
        "which is why it’s called the **population mean**. \n",
        "\n",
        "Furthermore, the variance of an entire population is referred to as the **population variance**."
      ],
      "metadata": {
        "id": "0CR0RyM3h2J9"
      }
    },
    {
      "cell_type": "code",
      "source": [
        "# Computing the population mean and variance\n",
        "population_mean = population_ages.mean()\n",
        "population_variance = population_ages.var()\n",
        "\n",
        "print(f\"Population mean: {population_mean:.2f}\")\n",
        "print(f\"Population variance: {population_variance:.2f}\")"
      ],
      "metadata": {
        "id": "NTjPjeaehvp3",
        "outputId": "9a279865-bf5f-4c05-966a-34e0c5c96ef6",
        "colab": {
          "base_uri": "https://localhost:8080/"
        }
      },
      "execution_count": null,
      "outputs": [
        {
          "output_type": "stream",
          "name": "stdout",
          "text": [
            "Population mean: 42.53\n",
            "Population variance: 584.33\n"
          ]
        }
      ]
    },
    {
      "cell_type": "markdown",
      "source": [
        "However,\n",
        "obtaining that data in real life would be incredibly time consuming. We would have to\n",
        "interview all 50,000 people. Without more resources, interviewing the whole town\n",
        "would be borderline impossible.\n",
        "\n",
        "A simpler approach would be to interview 10 randomly chosen people in the town.\n",
        "We’d record the ages from this random sample and then compute the sample mean.\n",
        "\n",
        "Let’s simulate the sampling process by drawing 10 random ages."
      ],
      "metadata": {
        "id": "eSgHpttMimyE"
      }
    },
    {
      "cell_type": "code",
      "source": [
        "# Simulating 10 interviewed people\n",
        "np.random.seed(0)\n",
        "\n",
        "sample_size = 10\n",
        "sample = np.random.choice(population_ages, size=sample_size)\n",
        "sample_mean = sample.mean()\n",
        "\n",
        "print(f\"Sample mean: {sample_mean:.2f}\")"
      ],
      "metadata": {
        "id": "bglW-md5iyS-",
        "outputId": "0253bd78-f0cf-4edd-df97-c7ec59a138e9",
        "colab": {
          "base_uri": "https://localhost:8080/"
        }
      },
      "execution_count": null,
      "outputs": [
        {
          "output_type": "stream",
          "name": "stdout",
          "text": [
            "Sample mean: 30.80\n"
          ]
        }
      ]
    },
    {
      "cell_type": "markdown",
      "source": [
        "Of course, our sample mean is likely to be noisy and inexact. \n",
        "\n",
        "We can measure that noise by finding the percent difference between `sample_mean` and `population_mean`."
      ],
      "metadata": {
        "id": "zdz78ydbjP3W"
      }
    },
    {
      "cell_type": "code",
      "source": [
        "# Comparing the sample mean to the population mean\n",
        "percent_diff = lambda v1, v2: 100 * abs(v1 - v2) / v2\n",
        "\n",
        "percent_diff_means = percent_diff(sample_mean, population_mean)\n",
        "print(f\"There is a {percent_diff_means:.2f} percent difference between means.\")"
      ],
      "metadata": {
        "id": "vAcH3JSbiPrG",
        "outputId": "6a3b53ee-addb-4b7d-d820-26aa29f9fdd2",
        "colab": {
          "base_uri": "https://localhost:8080/"
        }
      },
      "execution_count": null,
      "outputs": [
        {
          "output_type": "stream",
          "name": "stdout",
          "text": [
            "There is a 27.59 percent difference between means.\n"
          ]
        }
      ]
    },
    {
      "cell_type": "markdown",
      "source": [
        "Clearly, our sample is insufficient to estimate the mean—we need to gather\n",
        "more samples. Perhaps we should increase our sampling to cover 1,000 residents of the town.\n",
        "\n",
        "Unfortunately, interviewing 1,000 people will still be very time consuming:\n",
        "even if we assume an idealistic interview rate of 2 people per minute, it will\n",
        "take us eight hours to reach our interview goal. \n",
        "\n",
        "Conceivably, we can optimize our time by parallelizing the interview process."
      ],
      "metadata": {
        "id": "FBkO0wIIkDVB"
      }
    },
    {
      "cell_type": "code",
      "source": [
        "# Computing sample means across 1,000 people\n",
        "np.random.seed(0)\n",
        "\n",
        "sample_means = [np.random.choice(population_ages, size=sample_size).mean() for _ in range(1000)]"
      ],
      "metadata": {
        "id": "hIv9F-vnj5Gi"
      },
      "execution_count": null,
      "outputs": []
    },
    {
      "cell_type": "markdown",
      "source": [
        "**According to the central limit theorem, a histogram of sample means should resemble the normal distribution**. \n",
        "\n",
        "Furthermore, the mean of the normal distribution should\n",
        "approximate the population mean. \n",
        "\n",
        "We can confirm that this is the case by fitting the\n",
        "sample means to a normal distribution."
      ],
      "metadata": {
        "id": "-sUi1Y1Okx_x"
      }
    },
    {
      "cell_type": "code",
      "source": [
        "# Fitting sample means to a normal curve\n",
        "likelihoods, bin_edges, _ = plt.hist(sample_means, bins=\"auto\", alpha=0.2, color=\"r\", density=True)\n",
        "mean, std = stats.norm.fit(sample_means)\n",
        "normal_likelihoods = stats.norm.pdf(bin_edges, mean, std)\n",
        "\n",
        "plt.plot(bin_edges, normal_likelihoods, color=\"k\", linestyle=\"--\")\n",
        "plt.xlabel(\"Sample Mean\")\n",
        "plt.ylabel(\"Relative Likelihood\")\n",
        "plt.show()"
      ],
      "metadata": {
        "id": "GsZ79T0Wkq85",
        "outputId": "8e756e0a-365a-41ce-c55a-ca0a66218421",
        "colab": {
          "base_uri": "https://localhost:8080/",
          "height": 279
        }
      },
      "execution_count": null,
      "outputs": [
        {
          "output_type": "display_data",
          "data": {
            "text/plain": [
              "<Figure size 432x288 with 1 Axes>"
            ],
            "image/png": "[encoded data removed]"
          },
          "metadata": {
            "needs_background": "light"
          }
        }
      ]
    },
    {
      "cell_type": "markdown",
      "source": [
        "Our histogram is not very smooth because we’ve only processed 100 data points. However,\n",
        "the histogram’s shape still approximates a normal distribution.\n",
        "\n"
      ],
      "metadata": {
        "id": "UhgqpH4Mly7Q"
      }
    },
    {
      "cell_type": "code",
      "source": [
        "# Comparing the normal mean to the population mean\n",
        "print(f\"Actual population mean is approximately {population_mean:.2f}\")\n",
        "\n",
        "percent_diff_means = percent_diff(mean, population_mean)\n",
        "print(f\"There is a {percent_diff_means:.2f} difference between means.\")"
      ],
      "metadata": {
        "id": "jBtElI6Xl22x",
        "outputId": "aa0008da-7206-4c5a-84c8-c73a4ca6d428",
        "colab": {
          "base_uri": "https://localhost:8080/"
        }
      },
      "execution_count": null,
      "outputs": [
        {
          "output_type": "stream",
          "name": "stdout",
          "text": [
            "Actual population mean is approximately 42.53\n",
            "There is a 0.45 difference between means.\n"
          ]
        }
      ]
    },
    {
      "cell_type": "markdown",
      "source": [
        "Thus our result, while not perfect, is still a very good approximation of\n",
        "the actual average age within the town.\n",
        "\n",
        "Now, we briefly turn our attention to the standard deviation computed from the\n",
        "normal distribution.\n",
        "\n",
        "**Squaring the standard deviation produces the distribution’s variance**.\n",
        "According to the central limit theorem, we can use that variance to estimate the variance of ages in the town. \n",
        "\n",
        "We simply need to multiply the computed variance by the\n",
        "sample size."
      ],
      "metadata": {
        "id": "FOmtEkQEmU97"
      }
    },
    {
      "cell_type": "code",
      "source": [
        "# Estimating the population variance\n",
        "normal_variance = std ** 2\n",
        "estimated_variance = normal_variance * sample_size"
      ],
      "metadata": {
        "id": "4nPGah-rmPfm"
      },
      "execution_count": null,
      "outputs": []
    },
    {
      "cell_type": "markdown",
      "source": [
        "Let’s compare the estimated variance to the population variance."
      ],
      "metadata": {
        "id": "H5JO9F-DqeyF"
      }
    },
    {
      "cell_type": "code",
      "source": [
        "# Comparing the estimated variance to the population variance\n",
        "print(f\"Estimated variance is approximately {estimated_variance:.2f}\")\n",
        "print(f\"Actual population variance is approximately {population_variance:.2f}\")\n",
        "\n",
        "percent_diff_var = percent_diff(estimated_variance, population_variance)\n",
        "print(f\"There is a {percent_diff_var:.2f} percent difference between variances.\")"
      ],
      "metadata": {
        "id": "f4g6Tw5EqfPF",
        "outputId": "53afbb73-f045-4bf4-e6e0-b42dfdfd4cd9",
        "colab": {
          "base_uri": "https://localhost:8080/"
        }
      },
      "execution_count": null,
      "outputs": [
        {
          "output_type": "stream",
          "name": "stdout",
          "text": [
            "Estimated variance is approximately 566.50\n",
            "Actual population variance is approximately 584.33\n",
            "There is a 3.05 percent difference between variances.\n"
          ]
        }
      ]
    },
    {
      "cell_type": "markdown",
      "source": [
        "We’ve thus approximated the town’s variance to a relatively accurate\n",
        "degree while sampling only 2% of the people living in the town. Our estimates\n",
        "may not be 100% perfect. \n",
        "\n",
        "However, the amount of time we saved more than makes up\n",
        "for that minuscule drop in accuracy.\n",
        "\n",
        "So far, **we’ve only used the central limit theorem to estimate the population mean and variance**. \n",
        "\n",
        "However, **the power of the theorem goes beyond the mere estimation of\n",
        "distribution parameters**. \n",
        "\n",
        "We can use the central limit theorem to make predictions\n",
        "about people."
      ],
      "metadata": {
        "id": "7JmQ20nyrFfo"
      }
    },
    {
      "cell_type": "markdown",
      "source": [
        "##Making predictions using the mean and variance"
      ],
      "metadata": {
        "id": "i7ysmbXhrUtJ"
      }
    },
    {
      "cell_type": "markdown",
      "source": [
        "Let’s suppose the mean is equal to 84\n",
        "and the variance is equal to 25. We’ll refer to these values as the population mean and\n",
        "population variance."
      ],
      "metadata": {
        "id": "6VH7S2ylIQaD"
      }
    },
    {
      "cell_type": "code",
      "source": [
        "# Population mean and variance of recorded grades\n",
        "population_mean = 84\n",
        "population_variance = 25  "
      ],
      "metadata": {
        "id": "XZ0uinzTq6fi"
      },
      "execution_count": null,
      "outputs": []
    },
    {
      "cell_type": "markdown",
      "source": [
        "The mean of the normal curve will equal `population_mean`. The variance of the normal curve will equal `population_variance` divided by our sample size of 20 students. Taking the square\n",
        "root of that variance produces the standard deviation of the curve, which statisticians\n",
        "call the standard error of the mean (SEM). \n",
        "\n",
        "By definition, the SEM equals the population\n",
        "standard deviation divided by the square root of the sample size."
      ],
      "metadata": {
        "id": "qzITGicWIqWj"
      }
    },
    {
      "cell_type": "code",
      "source": [
        "# Plotting a normal curve using the mean and SEM\n",
        "mean = population_mean\n",
        "# The population standard deviation equals the square root of the population variance\n",
        "population_std = population_variance ** .5\n",
        "# The SEM equals population_std divided by the square root of the sample size\n",
        "sem = population_std / (20 ** 0.5)\n",
        "grade_range = range(101)\n",
        "normal_likelihoods = stats.norm.pdf(grade_range, mean , sem)\n",
        "\n",
        "plt.plot(grade_range, normal_likelihoods)\n",
        "plt.xlabel(\"Mean Grade of 20 Students(%)\")\n",
        "plt.ylabel(\"Relative Likelihood\")\n",
        "plt.show()"
      ],
      "metadata": {
        "id": "5erH7IvlIvgy",
        "outputId": "bbccb820-e301-4ba8-d1e8-06331e895992",
        "colab": {
          "base_uri": "https://localhost:8080/",
          "height": 279
        }
      },
      "execution_count": null,
      "outputs": [
        {
          "output_type": "display_data",
          "data": {
            "text/plain": [
              "<Figure size 432x288 with 1 Axes>"
            ],
            "image/png": "[encoded data removed]"
          },
          "metadata": {
            "needs_background": "light"
          }
        }
      ]
    },
    {
      "cell_type": "markdown",
      "source": [
        "The area beneath the plotted curve approaches zero at values higher than 89%. That\n",
        "area is also equal to the probability of a given observation.\n",
        "\n",
        "Therefore, the probability\n",
        "of observing a mean grade that’s at or above 90% is incredibly low. Still, to be sure, we\n",
        "need to compute the actual probability. \n",
        "\n",
        "Thus, we need to somehow accurately measure\n",
        "the area under the normal distribution."
      ],
      "metadata": {
        "id": "iy9vkmtOWb8K"
      }
    },
    {
      "cell_type": "markdown",
      "source": [
        "###Computing the area beneath a normal curve"
      ],
      "metadata": {
        "id": "Nag21TydWgeJ"
      }
    },
    {
      "cell_type": "markdown",
      "source": [
        "One simple solution is to subdivide the normal\n",
        "curve into small, trapezoidal units. This ancient technique is referred to as the trapezoidal rule.\n",
        "\n",
        "A trapezoid is a four-sided polygon with two parallel sides; the trapezoid’s\n",
        "area is equal to the sum of these parallel sides multiplied by half the distance between\n",
        "them. \n",
        "\n",
        "Summing over multiple consecutive trapezoid areas approximates the area over\n",
        "an interval.\n",
        "\n",
        "Let’s apply the trapezoidal rule to our normal distribution."
      ],
      "metadata": {
        "id": "oZb-dTS1WiDR"
      }
    },
    {
      "cell_type": "code",
      "source": [
        "# Approximating the area using the trapezoidal rule\n",
        "\n",
        "# The area of each trapezoid equals the sum of two consecutive likelihoods divided by 2.\n",
        "total_area = np.sum([normal_likelihoods[i: i + 2].sum() / 2 for i in range(normal_likelihoods.size - 1)])\n",
        "\n",
        "assert total_area == np.trapz(normal_likelihoods)\n",
        "print(f\"Estimated area under the curve is {total_area}\")"
      ],
      "metadata": {
        "id": "BIu2loezWUAb",
        "outputId": "46ab354d-9ded-4105-d84c-6a58c7fb7f27",
        "colab": {
          "base_uri": "https://localhost:8080/"
        }
      },
      "execution_count": null,
      "outputs": [
        {
          "output_type": "stream",
          "name": "stdout",
          "text": [
            "Estimated area under the curve is 1.0000000000384808\n"
          ]
        }
      ]
    },
    {
      "cell_type": "markdown",
      "source": [
        "The estimated area is very close to 1.0, but its not exactly equal to 1.0. We can access a mathematically exact solution in SciPy, using the `stats.norm.sf` method.\n",
        "\n",
        "The survival function\n",
        "equals the distribution’s area over an interval that’s greater than some x."
      ],
      "metadata": {
        "id": "fxtMGMPIyhaG"
      }
    },
    {
      "cell_type": "code",
      "source": [
        "# Computing the total area using SciPy\n",
        "assert stats.norm.sf(0, mean, sem) == 1.0"
      ],
      "metadata": {
        "id": "8wkh6C_oyh9T"
      },
      "execution_count": null,
      "outputs": []
    },
    {
      "cell_type": "markdown",
      "source": [
        "We expect `stats.norm.sf(mean, mean, sem)` to equal 0.5. This is because the mean perfectly splits the Normal curve into 2 equal halves. Meanwhile, we expect `np.trapz(normal_likelihoods[mean:])` to approximate but not fully equal 0.5. \n",
        "\n",
        "Lets confirm below."
      ],
      "metadata": {
        "id": "oFqCf6yQzue3"
      }
    },
    {
      "cell_type": "code",
      "source": [
        "# Inputting the mean into the survival function\n",
        "assert stats.norm.sf(mean, mean, sem) == 0.5"
      ],
      "metadata": {
        "id": "vRPJNehOzvy1"
      },
      "execution_count": null,
      "outputs": []
    },
    {
      "cell_type": "code",
      "source": [
        "estimated_area = np.trapz(normal_likelihoods[mean:])\n",
        "print(f\"Estimated area beyond the mean is {estimated_area}\")"
      ],
      "metadata": {
        "id": "CBC_pLXO0HEZ",
        "outputId": "63f29a59-5f61-4eee-dcac-745e7715f4c5",
        "colab": {
          "base_uri": "https://localhost:8080/"
        }
      },
      "execution_count": null,
      "outputs": [
        {
          "output_type": "stream",
          "name": "stdout",
          "text": [
            "Estimated area beyond the mean is 0.5000000000192404\n"
          ]
        }
      ]
    },
    {
      "cell_type": "markdown",
      "source": [
        "Now, lets execute stats.norm.sf(90, mean, sem). This will return the area over an interval of values lying beyond 90%. \n",
        "\n",
        "The area represents the likelihood of 20 students jointly acing an exam."
      ],
      "metadata": {
        "id": "5BxMZxFj0YC_"
      }
    },
    {
      "cell_type": "code",
      "source": [
        "# Computing the probability of a good collective grade\n",
        "area = stats.norm.sf(90, mean, sem)\n",
        "print(f\"Probability of 20 students acing the exam is {area}\")"
      ],
      "metadata": {
        "id": "Jbqhe8bp0aNt",
        "outputId": "10b5e83a-4861-44cc-acc0-63727f14b90f",
        "colab": {
          "base_uri": "https://localhost:8080/"
        }
      },
      "execution_count": null,
      "outputs": [
        {
          "output_type": "stream",
          "name": "stdout",
          "text": [
            "Probability of 20 students acing the exam is 4.012555633463782e-08\n"
          ]
        }
      ]
    },
    {
      "cell_type": "markdown",
      "source": [
        "It seems our final conclusion is imperfect. We did the best we could, given what we\n",
        "knew, but some uncertainty remains. \n",
        "\n",
        "To eliminate that uncertainty, we’d need the\n",
        "missing dates for the graded exams. \n",
        "\n",
        "Unfortunately, that data was not provided. Quite\n",
        "commonly, statisticians are forced to make consequential decisions from limited records.\n",
        "\n",
        "Consequently,\n",
        "we must exercise great caution when we draw conclusions from incomplete\n",
        "information."
      ],
      "metadata": {
        "id": "j_-y_II_0wxz"
      }
    }
  ]
}