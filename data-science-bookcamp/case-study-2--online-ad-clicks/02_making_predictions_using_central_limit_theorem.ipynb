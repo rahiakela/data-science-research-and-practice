{
  "nbformat": 4,
  "nbformat_minor": 0,
  "metadata": {
    "colab": {
      "name": "02-making-predictions-using-central-limit-theorem.ipynb",
      "provenance": [],
      "toc_visible": true,
      "authorship_tag": "ABX9TyPcy/55odUXblzwmsrKvf+N",
      "include_colab_link": true
    },
    "kernelspec": {
      "name": "python3",
      "display_name": "Python 3"
    },
    "language_info": {
      "name": "python"
    }
  },
  "cells": [
    {
      "cell_type": "markdown",
      "metadata": {
        "id": "view-in-github",
        "colab_type": "text"
      },
      "source": [
        "<a href=\"https://colab.research.google.com/github/rahiakela/data-science-research-and-practice/blob/main/data-science-bookcamp/case-study-2--online-ad-clicks/02_making_predictions_using_central_limit_theorem.ipynb\" target=\"_parent\"><img src=\"https://colab.research.google.com/assets/colab-badge.svg\" alt=\"Open In Colab\"/></a>"
      ]
    },
    {
      "cell_type": "markdown",
      "source": [
        "##Making predictions using the central limit theorem"
      ],
      "metadata": {
        "id": "lXfEhVXLMk9J"
      }
    },
    {
      "cell_type": "markdown",
      "source": [
        "The normal distribution is a bell-shaped curve.The\n",
        "curve arises naturally from random data sampling due to the central limit theorem. \n",
        "\n",
        "Furthermore, the theorem predicts\n",
        "a narrowing of that curve as the size of each frequency sample goes up. \n",
        "\n",
        "In other words, the distribution’s standard deviation should decrease as the sampling size\n",
        "increases.\n",
        "\n",
        "The central limit theorem lies at the heart of all classic statistics.\n",
        "\n",
        "So, we probe the theorem in great detail using the computational power of SciPy. Eventually, we learn how to use the theorem to make predictions from limited data."
      ],
      "metadata": {
        "id": "yeFtviJ0NOTv"
      }
    },
    {
      "cell_type": "markdown",
      "source": [
        "##Setup"
      ],
      "metadata": {
        "id": "acuDtWwtNO7R"
      }
    },
    {
      "cell_type": "code",
      "source": [
        "from collections import defaultdict\n",
        "import itertools\n",
        "\n",
        "import numpy as np\n",
        "from scipy import stats\n",
        "import math\n",
        "\n",
        "import matplotlib.pyplot as plt"
      ],
      "metadata": {
        "id": "s5coLXNNNQET"
      },
      "execution_count": 1,
      "outputs": []
    },
    {
      "cell_type": "code",
      "source": [
        "# Penalizing centers using the squared distance from the minimum\n",
        "def squared_distance(value1, value2):\n",
        "  return (value1 - value2) ** 2"
      ],
      "metadata": {
        "id": "1hjYBTl1VbYJ"
      },
      "execution_count": 2,
      "outputs": []
    },
    {
      "cell_type": "code",
      "source": [
        "# Penalizing centers using the total sum of squared distances\n",
        "def sum_of_squared_distances(value, measurements):\n",
        "  return sum(squared_distance(value, m) for m in measurements)"
      ],
      "metadata": {
        "id": "n9UZBH__Vd7Y"
      },
      "execution_count": 3,
      "outputs": []
    },
    {
      "cell_type": "code",
      "source": [
        "# Computing California’s sum of squares\n",
        "def sum_of_squares(data):\n",
        "  mean = np.mean(data)\n",
        "  return sum(squared_distance(value, mean) for value in data)"
      ],
      "metadata": {
        "id": "ZsP4lR9-VlFZ"
      },
      "execution_count": 4,
      "outputs": []
    },
    {
      "cell_type": "code",
      "source": [
        "# Computing the variance from mean squared distance\n",
        "def variance(data):\n",
        "  mean = np.mean(data)\n",
        "  return np.mean([squared_distance(value, mean) for value in data])"
      ],
      "metadata": {
        "id": "w8f59ySaVovY"
      },
      "execution_count": 5,
      "outputs": []
    },
    {
      "cell_type": "code",
      "source": [
        "# Computing the weighted variance using np.average\n",
        "def weighted_variance(data, weights):\n",
        "  mean = np.average(data, weights=weights)\n",
        "  squared_distances = [squared_distance(value, mean) for value in data]\n",
        "  return np.average(squared_distances, weights=weights)\n",
        "\n",
        "assert weighted_variance([75, 77], [9, 1]) == np.var(9 * [75] + [77])"
      ],
      "metadata": {
        "id": "AXJEhi-gVrsN"
      },
      "execution_count": 6,
      "outputs": []
    },
    {
      "cell_type": "markdown",
      "source": [
        "##Manipulating the normal distribution"
      ],
      "metadata": {
        "id": "pnz1cgiEOMj8"
      }
    },
    {
      "cell_type": "markdown",
      "source": [
        "Let’s generate a normal distribution by plotting a histogram of coin-flip samples. Our\n",
        "input into the histogram will contain 100,000 head-count frequencies. Computing the\n",
        "frequencies will require us to sample a series of coin flips 100,000 times.\n",
        "\n",
        "If we use the sample size to divide the sum of values in\n",
        "the sample, we will compute the observed head-count frequency. Conceptually, this\n",
        "frequency is equal to simply taking the sample’s mean."
      ],
      "metadata": {
        "id": "bwOW8afWOPkG"
      }
    },
    {
      "cell_type": "code",
      "source": [
        "# Computing head-count frequencies from the mean\n",
        "np.random.seed(0)\n",
        "\n",
        "sample_size = 10000\n",
        "sample = np.array([np.random.binomial(1, 0.5) for _ in range(sample_size)])\n",
        "head_count = sample.sum()\n",
        "\n",
        "head_count_frequency = head_count / sample_size\n",
        "# The head-count frequency is identical to the sample mean.\n",
        "assert head_count_frequency == sample.mean()"
      ],
      "metadata": {
        "id": "78cmAma-Oimt"
      },
      "execution_count": 7,
      "outputs": []
    },
    {
      "cell_type": "markdown",
      "source": [
        "Of course, we can compute all 100,000 head-count frequencies in a single line of\n",
        "code."
      ],
      "metadata": {
        "id": "lifDzuMFPEQQ"
      }
    },
    {
      "cell_type": "code",
      "source": [
        "#Computing 100,000 head-count frequencies\n",
        "np.random.seed(0)\n",
        "\n",
        "frequencies = np.random.binomial(sample_size, 0.5, 100000) / sample_size"
      ],
      "metadata": {
        "id": "z63R26UkPMgU"
      },
      "execution_count": 8,
      "outputs": []
    },
    {
      "cell_type": "markdown",
      "source": [
        "Each sampled frequency equals the mean of 10,000 randomly flipped coins."
      ],
      "metadata": {
        "id": "GQXw26NkTwM9"
      }
    },
    {
      "cell_type": "code",
      "source": [
        "# Visualizing sample means in a histogram\n",
        "sample_means = frequencies\n",
        "likelihoods, bin_edges, _ = plt.hist(sample_means, bins=\"auto\", edgecolor=\"black\", density=True)\n",
        "\n",
        "plt.xlabel(\"Binned Sample Mean\")\n",
        "plt.ylabel(\"Relative Likelihood\")\n",
        "plt.show()"
      ],
      "metadata": {
        "id": "MpECYEEyRzQM",
        "colab": {
          "base_uri": "https://localhost:8080/",
          "height": 279
        },
        "outputId": "e6f30bdc-8cc8-4d7b-f835-28013b6a4451"
      },
      "execution_count": 9,
      "outputs": [
        {
          "output_type": "display_data",
          "data": {
            "text/plain": [
              "<Figure size 432x288 with 1 Axes>"
            ],
            "image/png": "[encoded data removed]"
          },
          "metadata": {
            "needs_background": "light"
          }
        }
      ]
    },
    {
      "cell_type": "markdown",
      "source": [
        "The histogram is shaped like a normal distribution. Let’s calculate the distribution’s\n",
        "mean and standard deviation."
      ],
      "metadata": {
        "id": "ihkNc95URyVl"
      }
    },
    {
      "cell_type": "code",
      "source": [
        "# Computing the mean and standard deviation of a histogram\n",
        "mean_normal = np.average(bin_edges[:-1], weights=likelihoods)\n",
        "var_normal = weighted_variance(bin_edges[:-1], likelihoods)\n",
        "std_normal = var_normal ** 0.5\n",
        "\n",
        "print(f\"Mean is approximately {mean_normal:.2}\")\n",
        "print(f\"Standard deviation is approximately {std_normal:.3f}\")"
      ],
      "metadata": {
        "id": "ApEynh42SN_b",
        "outputId": "9cb11493-c41e-4293-fefc-397e4bdd6c66",
        "colab": {
          "base_uri": "https://localhost:8080/"
        }
      },
      "execution_count": 10,
      "outputs": [
        {
          "output_type": "stream",
          "name": "stdout",
          "text": [
            "Mean is approximately 0.5\n",
            "Standard deviation is approximately 0.005\n"
          ]
        }
      ]
    },
    {
      "cell_type": "markdown",
      "source": [
        "The distribution’s mean is approximately 0.5, and its standard deviation is approximately\n",
        "0.005. \n",
        "\n",
        "In a normal distribution, these values can be computed directly from\n",
        "the distribution’s peak. We just need the peak’s x-value and y-value coordinates. \n",
        "\n",
        "The x-value equals the distribution’s mean, and the standard deviation is equal to the inverse of the y-value multiplied by $(2\\pi)^{1/2}$"
      ],
      "metadata": {
        "id": "Pn-vKrN5SpME"
      }
    },
    {
      "cell_type": "code",
      "source": [
        "# Computing mean and standard deviation from peak coordinates\n",
        "peak_x_value = bin_edges[likelihoods.argmax()]\n",
        "print(f\"Mean is approximately {peak_x_value:.2f}\")\n",
        "\n",
        "peak_y_value = likelihoods.max()\n",
        "print(f\"Max y-value {peak_y_value:.2f}\")\n",
        "std_from_peak = (peak_y_value * (2 * math.pi) ** 0.5) ** -1\n",
        "print(f\"Standard deviation is approximately {std_from_peak:.3f}\")"
      ],
      "metadata": {
        "id": "JsJyPWRWSp8B",
        "outputId": "c7fac14e-d4b7-4d6a-f982-1752cb4fdbac",
        "colab": {
          "base_uri": "https://localhost:8080/"
        }
      },
      "execution_count": 11,
      "outputs": [
        {
          "output_type": "stream",
          "name": "stdout",
          "text": [
            "Mean is approximately 0.50\n",
            "Max y-value 84.85\n",
            "Standard deviation is approximately 0.005\n"
          ]
        }
      ]
    },
    {
      "cell_type": "markdown",
      "source": [
        "Additionally, we can compute the mean and standard deviation simply by calling\n",
        "`stats.norm.fit(sample_means)`. \n",
        "\n",
        "This SciPy method returns the two parameters\n",
        "required to re-create the normal distribution formed by our data."
      ],
      "metadata": {
        "id": "JadEN-r0TCoE"
      }
    },
    {
      "cell_type": "code",
      "source": [
        "# Computing mean and standard deviation using stats.norm.fit\n",
        "fitted_mean, fitted_std = stats.norm.fit(sample_means)\n",
        "print(f\"Mean is approximately {fitted_mean:.2f}\")\n",
        "print(f\"Standard deviation is approximately {fitted_std:.3f}\")"
      ],
      "metadata": {
        "id": "4QyYHW57TSnd",
        "outputId": "53ae8ddf-f33a-46a5-c24e-7328c901b744",
        "colab": {
          "base_uri": "https://localhost:8080/"
        }
      },
      "execution_count": 12,
      "outputs": [
        {
          "output_type": "stream",
          "name": "stdout",
          "text": [
            "Mean is approximately 0.50\n",
            "Standard deviation is approximately 0.005\n"
          ]
        }
      ]
    },
    {
      "cell_type": "markdown",
      "source": [
        "The computed mean and standard deviation can be used to reproduce our normal\n",
        "curve. We can regenerate the curve by calling `stats.norm.pdf(bin_edges, fitted_mean, fitted_std)`.\n",
        "\n",
        "A probability density function is like a probability\n",
        "mass function but with one key difference: it does not return probabilities.\n",
        "\n",
        "Instead, it returns relative likelihoods.\n",
        "\n",
        "As we know, relative likelihoods are the y-axis\n",
        "values of a curve whose total area equals 1.0. \n",
        "\n",
        "Unlike probabilities, these likelihoods\n",
        "can equal values that are greater than 1.0. \n",
        "\n",
        "Despite this, the total area beneath a plotted\n",
        "likelihood interval still equals the probability of observing a random value within\n",
        "that interval.\n",
        "\n",
        "Let’s compute the relative likelihoods using `stats.norm.pdf`.\n",
        "\n"
      ],
      "metadata": {
        "id": "yTwNGWvLWH3G"
      }
    },
    {
      "cell_type": "code",
      "source": [
        "# Computing normal likelihoods using stats.norm.pdf\n",
        "normal_likelihoods = stats.norm.pdf(bin_edges, fitted_mean, fitted_std)\n",
        "\n",
        "plt.plot(bin_edges, normal_likelihoods, color=\"k\", linestyle=\"--\", label=\"Normal Curve\")\n",
        "plt.hist(sample_means, bins=\"auto\", alpha=0.2, color=\"r\", density=True)\n",
        "plt.legend()\n",
        "plt.xlabel(\"Sample Mean\")\n",
        "plt.ylabel(\"Relative Likelihood\")\n",
        "plt.show()"
      ],
      "metadata": {
        "colab": {
          "base_uri": "https://localhost:8080/",
          "height": 279
        },
        "id": "UDs9ZSFecJjA",
        "outputId": "22caa546-8b72-40e5-c1e2-28bbf35263b4"
      },
      "execution_count": 13,
      "outputs": [
        {
          "output_type": "display_data",
          "data": {
            "text/plain": [
              "<Figure size 432x288 with 1 Axes>"
            ],
            "image/png": "[encoded data removed]"
          },
          "metadata": {
            "needs_background": "light"
          }
        }
      ]
    },
    {
      "cell_type": "markdown",
      "source": [
        "The curve’s peak sits at an x-axis position of 0.5 and rises to a y-axis position of approximately 80. As a reminder, the peak’s x and\n",
        "y coordinates are a direct function of `fitted_mean` and `fitted_std`.\n",
        "\n",
        "To emphasize this\n",
        "important relationship, let’s do a simple exercise: we’ll shift the peak 0.01 units to the\n",
        "right while also doubling the peak’s height.\n",
        "\n",
        "Well, the peak’s axis is equal to the mean, so we adjust the input mean to `fitted_mean + 0.01`. Also, the peak’s height is inversely proportional to the standard deviation. Therefore,\n",
        "inputting `fitted_std / 2` should double the height of the peak.\n",
        "\n"
      ],
      "metadata": {
        "id": "y3tn5An2fEJE"
      }
    },
    {
      "cell_type": "code",
      "source": [
        "# Manipulating a normal curve’s peak coordinates\n",
        "adjusted_likelihoods = stats.norm.pdf(bin_edges, fitted_mean + 0.01, fitted_std / 2)\n",
        "\n",
        "plt.plot(bin_edges, adjusted_likelihoods, color=\"k\", linestyle=\"--\")\n",
        "plt.hist(sample_means, bins=\"auto\", alpha=0.2, color=\"r\", density=True)\n",
        "plt.xlabel(\"Sample Mean\")\n",
        "plt.ylabel(\"Relative Likelihood\")\n",
        "plt.show()"
      ],
      "metadata": {
        "colab": {
          "base_uri": "https://localhost:8080/",
          "height": 279
        },
        "id": "ttvmZAwpfZkE",
        "outputId": "8adfa56a-c784-4725-8a90-a67178c20097"
      },
      "execution_count": 14,
      "outputs": [
        {
          "output_type": "display_data",
          "data": {
            "text/plain": [
              "<Figure size 432x288 with 1 Axes>"
            ],
            "image/png": "[encoded data removed]"
          },
          "metadata": {
            "needs_background": "light"
          }
        }
      ]
    },
    {
      "cell_type": "code",
      "source": [
        "adjusted_likelihoods = stats.norm.pdf(bin_edges, fitted_mean - 0.01, fitted_std / 2)\n",
        "\n",
        "plt.plot(bin_edges, adjusted_likelihoods, color=\"k\", linestyle=\"--\")\n",
        "plt.hist(sample_means, bins=\"auto\", alpha=0.2, color=\"r\", density=True)\n",
        "plt.xlabel(\"Sample Mean\")\n",
        "plt.ylabel(\"Relative Likelihood\")\n",
        "plt.show()"
      ],
      "metadata": {
        "colab": {
          "base_uri": "https://localhost:8080/",
          "height": 279
        },
        "id": "_h3HMcUtsIVw",
        "outputId": "f75da502-d412-4eef-865c-48af3cb0456d"
      },
      "execution_count": 15,
      "outputs": [
        {
          "output_type": "display_data",
          "data": {
            "text/plain": [
              "<Figure size 432x288 with 1 Axes>"
            ],
            "image/png": "[encoded data removed]"
          },
          "metadata": {
            "needs_background": "light"
          }
        }
      ]
    },
    {
      "cell_type": "markdown",
      "source": [
        "###Comparing two sampled normal curves"
      ],
      "metadata": {
        "id": "WgDWss86TCzw"
      }
    },
    {
      "cell_type": "markdown",
      "source": [
        "SciPy allows us to explore and adjust the shape of the normal distribution based on\n",
        "the inputted parameters. Also, the values of these input parameters depend on how\n",
        "we sample random data.\n",
        "\n",
        "Let’s quadruple the coin-flip sample size to 40,000 and plot\n",
        "the resulting distribution changes."
      ],
      "metadata": {
        "id": "vztHxrgUsYZy"
      }
    },
    {
      "cell_type": "code",
      "source": [
        "# Plotting two curves with different samples sizes\n",
        "np.random.seed(0)\n",
        "\n",
        "new_sample_size = 40000\n",
        "new_head_counts = np.random.binomial(new_sample_size, 0.5, 100000)\n",
        "new_mean, new_std = stats.norm.fit(new_head_counts / new_sample_size)\n",
        "new_likelihoods = stats.norm.pdf(bin_edges, new_mean, new_std)\n",
        "\n",
        "plt.plot(bin_edges, normal_likelihoods, color=\"k\", linestyle=\"--\", label=\"A: Sample Size 10K\")\n",
        "plt.plot(bin_edges, new_likelihoods, color=\"b\", label=\"B: Sample Size 40K\")\n",
        "plt.legend()\n",
        "plt.xlabel(\"Sample Mean\")\n",
        "plt.ylabel(\"Relative Likelihood\")\n",
        "plt.show()"
      ],
      "metadata": {
        "id": "rnlLAMnwnpe6",
        "outputId": "b06ec33b-d9bc-4e8e-f25e-d9fd435a5c9f",
        "colab": {
          "base_uri": "https://localhost:8080/",
          "height": 0
        }
      },
      "execution_count": 16,
      "outputs": [
        {
          "output_type": "display_data",
          "data": {
            "text/plain": [
              "<Figure size 432x288 with 1 Axes>"
            ],
            "image/png": "[encoded data removed]"
          },
          "metadata": {
            "needs_background": "light"
          }
        }
      ]
    },
    {
      "cell_type": "markdown",
      "source": [
        "Both normal distributions are centered around the sample mean value of 0.5. However,\n",
        "the distribution with the larger sample size is more narrowly centered around its\n",
        "peak.\n",
        "\n",
        "As we observed that\n",
        "as the sample size increases, the peak location stays constant while the area around\n",
        "the peak contracts in width. The narrowing of the peak leads to a drop in the confidence\n",
        "interval range. A confidence interval represents the likely value range covering\n",
        "the true probability of heads.\n",
        "\n",
        "Let’s calculate the 95% confidence interval for the true Bernoulli mean using normal\n",
        "distribution B."
      ],
      "metadata": {
        "id": "GIKZUTq2owS4"
      }
    },
    {
      "cell_type": "code",
      "source": [
        "# Computing a confidence interval\n",
        "mean, std = new_mean, new_std\n",
        "start, end = stats.norm.interval(0.95, mean, std)\n",
        "print(f\"The true mean of the sampled binomial distribution is between {start:.3f} and {end:.3f}\")"
      ],
      "metadata": {
        "id": "bq518NHco-mH",
        "outputId": "57fbf1f7-a6fe-4b5b-f38d-74e69171895e",
        "colab": {
          "base_uri": "https://localhost:8080/"
        }
      },
      "execution_count": 17,
      "outputs": [
        {
          "output_type": "stream",
          "name": "stdout",
          "text": [
            "The true mean of the sampled binomial distribution is between 0.495 and 0.505\n"
          ]
        }
      ]
    },
    {
      "cell_type": "markdown",
      "source": [
        "In fact, that mean is equal to exactly 0.5. We can confirm\n",
        "this."
      ],
      "metadata": {
        "id": "Xgel7xDspcyV"
      }
    },
    {
      "cell_type": "code",
      "source": [
        "# Confirming the Bernoulli mean\n",
        "assert stats.binom.mean(1, 0.5) == 0.5"
      ],
      "metadata": {
        "id": "y8vH7b5vpdat"
      },
      "execution_count": 18,
      "outputs": []
    },
    {
      "cell_type": "markdown",
      "source": [
        "Let’s now attempt to estimate the variance of the Bernoulli distribution based on the\n",
        "plotted normal curves.\n",
        "\n",
        "At first glance, this seems like a difficult task.\n",
        "\n",
        "Although the\n",
        "means of the two plotted distributions remain constant at 0.5, their variances shift\n",
        "noticeably. The relative shift in variance can be estimated by comparing peaks. \n",
        "\n",
        "Thus, increasing the sample size fourfold from 10,000 to\n",
        "40,000 leads to a fourfold decrease in the variance."
      ],
      "metadata": {
        "id": "EdSOp9rwp341"
      }
    },
    {
      "cell_type": "code",
      "source": [
        "# Assessing shift in variance after increased sampling\n",
        "variance_ratio = (new_std ** 2) / (fitted_std ** 2)\n",
        "print(f\"The ratio of variances is approximately {variance_ratio:.2f}\")"
      ],
      "metadata": {
        "id": "-t_xNMXZvFnI",
        "outputId": "41300c64-5ce4-4543-e126-934d146c93f5",
        "colab": {
          "base_uri": "https://localhost:8080/"
        }
      },
      "execution_count": 19,
      "outputs": [
        {
          "output_type": "stream",
          "name": "stdout",
          "text": [
            "The ratio of variances is approximately 0.25\n"
          ]
        }
      ]
    },
    {
      "cell_type": "markdown",
      "source": [
        "It appears that variance is inversely proportional to sample size. If so, a fourfold\n",
        "decrease in sample size from 10,000 to 2,500 should generate a fourfold increase in\n",
        "the variance.\n",
        "\n",
        "Let’s generate some head counts using a sample size of 2,500 and confirm\n",
        "if this is the case."
      ],
      "metadata": {
        "id": "a3z_sDk3wNb6"
      }
    },
    {
      "cell_type": "code",
      "source": [
        "# Assessing shift in variance after decreased sampling\n",
        "np.random.seed(0)\n",
        "\n",
        "reduced_sample_size = 2500\n",
        "head_counts = np.random.binomial(reduced_sample_size, 0.5, 100000)\n",
        "_, std = stats.norm.fit(head_counts / reduced_sample_size)\n",
        "\n",
        "variance_ratio = (std ** 2) / (fitted_std ** 2)\n",
        "print(f\"The ratio of variances is approximately {variance_ratio:.1f}\")"
      ],
      "metadata": {
        "id": "5Q-UusRfwR2o",
        "outputId": "ea32a163-c1e8-43f3-b41f-2cadb263f6a3",
        "colab": {
          "base_uri": "https://localhost:8080/"
        }
      },
      "execution_count": 20,
      "outputs": [
        {
          "output_type": "stream",
          "name": "stdout",
          "text": [
            "The ratio of variances is approximately 4.0\n"
          ]
        }
      ]
    },
    {
      "cell_type": "markdown",
      "source": [
        "Yes! A fourfold decrease in the sample size leads to a fourfold increase in the variance.\n",
        "\n",
        "Thus, if we decrease the sample size from 10,000 to 1, we can expect a 10,000-\n",
        "fold increase in the variance. That variance for a sample size of 1 should be equal to\n",
        "`(fitted_std ** 2) * 10000`."
      ],
      "metadata": {
        "id": "1JmEXWxLw3t7"
      }
    },
    {
      "cell_type": "code",
      "source": [
        "# Predicting variance for a sample size of 1\n",
        "estimated_variance = (fitted_std ** 2) * 10000\n",
        "print(f\"Estimated variance for a sample size of 1 is {estimated_variance:.2f}\")"
      ],
      "metadata": {
        "id": "PIPLrmgSw7Z8",
        "outputId": "dd833b01-9b2a-4c1d-d083-8a6b7f662384",
        "colab": {
          "base_uri": "https://localhost:8080/"
        }
      },
      "execution_count": 21,
      "outputs": [
        {
          "output_type": "stream",
          "name": "stdout",
          "text": [
            "Estimated variance for a sample size of 1 is 0.25\n"
          ]
        }
      ]
    },
    {
      "cell_type": "markdown",
      "source": [
        "Our estimated variance for a sample size of 1 is 0.25.\n",
        "\n",
        "In fact, the Bernoulli variance\n",
        "does equal 0.25."
      ],
      "metadata": {
        "id": "Gcb_bCuwxRqs"
      }
    },
    {
      "cell_type": "code",
      "source": [
        "# Confirming the predicted variance for a sample size of 1\n",
        "assert stats.binom.var(1, 0.5) == 0.25"
      ],
      "metadata": {
        "id": "mvRXnqaIxXGO"
      },
      "execution_count": 22,
      "outputs": []
    },
    {
      "cell_type": "markdown",
      "source": [
        "We have just used the normal distribution to compute the variance and mean of the\n",
        "Bernoulli distribution from which we sampled.\n",
        "\n",
        "What if we had sampled from some other non-Bernoulli distribution?\n",
        "\n",
        "Would we still\n",
        "be able to estimate the mean and variance through random sampling?\n",
        "\n",
        "Yes, we would! \n",
        "\n",
        "According to the central limit theorem, sampling mean values from almost\n",
        "any distribution will produce a normal curve.\n",
        "\n",
        "Once we’ve sampled a normal curve, we can use it to analyze the underlying distribution.\n",
        "The mean of the normal curve approximates the mean of the underlying distribution.\n",
        "\n",
        "Also, the variance of the normal curve multiplied by the sample size\n",
        "approximates the variance of the underlying distribution.\n",
        "\n",
        "The relationship between a normal distribution produced by sampling and the properties\n",
        "of the underlying distribution serves as a foundation for all statistics. Using that\n",
        "relationship, we can use the normal curve to estimate both the mean and variance of\n",
        "almost any distribution through random sampling."
      ],
      "metadata": {
        "id": "x4vhOPRyxj3I"
      }
    },
    {
      "cell_type": "markdown",
      "source": [
        "##Determining the mean and variance of a population through random sampling"
      ],
      "metadata": {
        "id": "qh_SENDZyC3p"
      }
    },
    {
      "cell_type": "markdown",
      "source": [
        "Suppose we are tasked with finding the average age of people living in a town. The town’s population is exactly 50,000 people.\n",
        "\n",
        "Let's simulates the ages of\n",
        "the townsfolk using the `np.random.randint` method.\n",
        "\n"
      ],
      "metadata": {
        "id": "I1LWBHj5yIZ4"
      }
    },
    {
      "cell_type": "code",
      "source": [
        "# Generating a random population\n",
        "np.random.seed(0)\n",
        "\n",
        "population_ages = np.random.randint(1, 85, size=50000)\n",
        "population_ages"
      ],
      "metadata": {
        "id": "UIfrfox0hhAi",
        "outputId": "0f774c16-3bfa-4a82-8c0b-1970d155589c",
        "colab": {
          "base_uri": "https://localhost:8080/"
        }
      },
      "execution_count": 23,
      "outputs": [
        {
          "output_type": "execute_result",
          "data": {
            "text/plain": [
              "array([45, 48, 65, ..., 79, 50, 75])"
            ]
          },
          "metadata": {},
          "execution_count": 23
        }
      ]
    },
    {
      "cell_type": "markdown",
      "source": [
        "How do we compute the average age of the residents?\n",
        "\n",
        "One cumbersome approach\n",
        "would be to take a census of every resident in the town. We could record all 50,000 ages and then compute their mean.\n",
        "\n",
        "That exact mean would cover the entire population,\n",
        "which is why it’s called the **population mean**. \n",
        "\n",
        "Furthermore, the variance of an entire population is referred to as the **population variance**."
      ],
      "metadata": {
        "id": "0CR0RyM3h2J9"
      }
    },
    {
      "cell_type": "code",
      "source": [
        "# Computing the population mean and variance\n",
        "population_mean = population_ages.mean()\n",
        "population_variance = population_ages.var()\n",
        "\n",
        "print(f\"Population mean: {population_mean:.2f}\")\n",
        "print(f\"Population variance: {population_variance:.2f}\")"
      ],
      "metadata": {
        "id": "NTjPjeaehvp3",
        "outputId": "9a279865-bf5f-4c05-966a-34e0c5c96ef6",
        "colab": {
          "base_uri": "https://localhost:8080/"
        }
      },
      "execution_count": 24,
      "outputs": [
        {
          "output_type": "stream",
          "name": "stdout",
          "text": [
            "Population mean: 42.53\n",
            "Population variance: 584.33\n"
          ]
        }
      ]
    },
    {
      "cell_type": "markdown",
      "source": [
        "However,\n",
        "obtaining that data in real life would be incredibly time consuming. We would have to\n",
        "interview all 50,000 people. Without more resources, interviewing the whole town\n",
        "would be borderline impossible.\n",
        "\n",
        "A simpler approach would be to interview 10 randomly chosen people in the town.\n",
        "We’d record the ages from this random sample and then compute the sample mean.\n",
        "\n",
        "Let’s simulate the sampling process by drawing 10 random ages."
      ],
      "metadata": {
        "id": "eSgHpttMimyE"
      }
    },
    {
      "cell_type": "code",
      "source": [
        "# Simulating 10 interviewed people\n",
        "np.random.seed(0)\n",
        "\n",
        "sample_size = 10\n",
        "sample = np.random.choice(population_ages, size=sample_size)\n",
        "sample_mean = sample.mean()\n",
        "\n",
        "print(f\"Sample mean: {sample_mean:.2f}\")"
      ],
      "metadata": {
        "id": "bglW-md5iyS-",
        "outputId": "0253bd78-f0cf-4edd-df97-c7ec59a138e9",
        "colab": {
          "base_uri": "https://localhost:8080/"
        }
      },
      "execution_count": 25,
      "outputs": [
        {
          "output_type": "stream",
          "name": "stdout",
          "text": [
            "Sample mean: 30.80\n"
          ]
        }
      ]
    },
    {
      "cell_type": "markdown",
      "source": [
        "Of course, our sample mean is likely to be noisy and inexact. \n",
        "\n",
        "We can measure that noise by finding the percent difference between `sample_mean` and `population_mean`."
      ],
      "metadata": {
        "id": "zdz78ydbjP3W"
      }
    },
    {
      "cell_type": "code",
      "source": [
        "# Comparing the sample mean to the population mean\n",
        "percent_diff = lambda v1, v2: 100 * abs(v1 - v2) / v2\n",
        "\n",
        "percent_diff_means = percent_diff(sample_mean, population_mean)\n",
        "print(f\"There is a {percent_diff_means:.2f} percent difference between means.\")"
      ],
      "metadata": {
        "id": "vAcH3JSbiPrG",
        "outputId": "6a3b53ee-addb-4b7d-d820-26aa29f9fdd2",
        "colab": {
          "base_uri": "https://localhost:8080/"
        }
      },
      "execution_count": 26,
      "outputs": [
        {
          "output_type": "stream",
          "name": "stdout",
          "text": [
            "There is a 27.59 percent difference between means.\n"
          ]
        }
      ]
    },
    {
      "cell_type": "markdown",
      "source": [
        "Clearly, our sample is insufficient to estimate the mean—we need to gather\n",
        "more samples. Perhaps we should increase our sampling to cover 1,000 residents of the town.\n",
        "\n",
        "Unfortunately, interviewing 1,000 people will still be very time consuming:\n",
        "even if we assume an idealistic interview rate of 2 people per minute, it will\n",
        "take us eight hours to reach our interview goal. \n",
        "\n",
        "Conceivably, we can optimize our time by parallelizing the interview process."
      ],
      "metadata": {
        "id": "FBkO0wIIkDVB"
      }
    },
    {
      "cell_type": "code",
      "source": [
        "# Computing sample means across 1,000 people\n",
        "np.random.seed(0)\n",
        "\n",
        "sample_means = [np.random.choice(population_ages, size=sample_size).mean() for _ in range(1000)]"
      ],
      "metadata": {
        "id": "hIv9F-vnj5Gi"
      },
      "execution_count": 27,
      "outputs": []
    },
    {
      "cell_type": "markdown",
      "source": [
        "**According to the central limit theorem, a histogram of sample means should resemble the normal distribution**. \n",
        "\n",
        "Furthermore, the mean of the normal distribution should\n",
        "approximate the population mean. \n",
        "\n",
        "We can confirm that this is the case by fitting the\n",
        "sample means to a normal distribution."
      ],
      "metadata": {
        "id": "-sUi1Y1Okx_x"
      }
    },
    {
      "cell_type": "code",
      "source": [
        "# Fitting sample means to a normal curve\n",
        "likelihoods, bin_edges, _ = plt.hist(sample_means, bins=\"auto\", alpha=0.2, color=\"r\", density=True)\n",
        "mean, std = stats.norm.fit(sample_means)\n",
        "normal_likelihoods = stats.norm.pdf(bin_edges, mean, std)\n",
        "\n",
        "plt.plot(bin_edges, normal_likelihoods, color=\"k\", linestyle=\"--\")\n",
        "plt.xlabel(\"Sample Mean\")\n",
        "plt.ylabel(\"Relative Likelihood\")\n",
        "plt.show()"
      ],
      "metadata": {
        "id": "GsZ79T0Wkq85",
        "outputId": "8e756e0a-365a-41ce-c55a-ca0a66218421",
        "colab": {
          "base_uri": "https://localhost:8080/",
          "height": 279
        }
      },
      "execution_count": 28,
      "outputs": [
        {
          "output_type": "display_data",
          "data": {
            "text/plain": [
              "<Figure size 432x288 with 1 Axes>"
            ],
            "image/png": "[encoded data removed]"
          },
          "metadata": {
            "needs_background": "light"
          }
        }
      ]
    },
    {
      "cell_type": "markdown",
      "source": [
        "Our histogram is not very smooth because we’ve only processed 100 data points. However,\n",
        "the histogram’s shape still approximates a normal distribution.\n",
        "\n"
      ],
      "metadata": {
        "id": "UhgqpH4Mly7Q"
      }
    },
    {
      "cell_type": "code",
      "source": [
        "# Comparing the normal mean to the population mean\n",
        "print(f\"Actual population mean is approximately {population_mean:.2f}\")\n",
        "\n",
        "percent_diff_means = percent_diff(mean, population_mean)\n",
        "print(f\"There is a {percent_diff_means:.2f} difference between means.\")"
      ],
      "metadata": {
        "id": "jBtElI6Xl22x",
        "outputId": "aa0008da-7206-4c5a-84c8-c73a4ca6d428",
        "colab": {
          "base_uri": "https://localhost:8080/"
        }
      },
      "execution_count": 29,
      "outputs": [
        {
          "output_type": "stream",
          "name": "stdout",
          "text": [
            "Actual population mean is approximately 42.53\n",
            "There is a 0.45 difference between means.\n"
          ]
        }
      ]
    },
    {
      "cell_type": "markdown",
      "source": [
        "Thus our result, while not perfect, is still a very good approximation of\n",
        "the actual average age within the town.\n",
        "\n",
        "Now, we briefly turn our attention to the standard deviation computed from the\n",
        "normal distribution.\n",
        "\n",
        "**Squaring the standard deviation produces the distribution’s variance**.\n",
        "According to the central limit theorem, we can use that variance to estimate the variance of ages in the town. \n",
        "\n",
        "We simply need to multiply the computed variance by the\n",
        "sample size."
      ],
      "metadata": {
        "id": "FOmtEkQEmU97"
      }
    },
    {
      "cell_type": "code",
      "source": [
        "# Estimating the population variance\n",
        "normal_variance = std ** 2\n",
        "estimated_variance = normal_variance * sample_size"
      ],
      "metadata": {
        "id": "4nPGah-rmPfm"
      },
      "execution_count": 30,
      "outputs": []
    },
    {
      "cell_type": "markdown",
      "source": [
        "Let’s compare the estimated variance to the population variance."
      ],
      "metadata": {
        "id": "H5JO9F-DqeyF"
      }
    },
    {
      "cell_type": "code",
      "source": [
        "# Comparing the estimated variance to the population variance\n",
        "print(f\"Estimated variance is approximately {estimated_variance:.2f}\")\n",
        "print(f\"Actual population variance is approximately {population_variance:.2f}\")\n",
        "\n",
        "percent_diff_var = percent_diff(estimated_variance, population_variance)\n",
        "print(f\"There is a {percent_diff_var:.2f} percent difference between variances.\")"
      ],
      "metadata": {
        "id": "f4g6Tw5EqfPF",
        "outputId": "53afbb73-f045-4bf4-e6e0-b42dfdfd4cd9",
        "colab": {
          "base_uri": "https://localhost:8080/"
        }
      },
      "execution_count": 31,
      "outputs": [
        {
          "output_type": "stream",
          "name": "stdout",
          "text": [
            "Estimated variance is approximately 566.50\n",
            "Actual population variance is approximately 584.33\n",
            "There is a 3.05 percent difference between variances.\n"
          ]
        }
      ]
    },
    {
      "cell_type": "markdown",
      "source": [
        "We’ve thus approximated the town’s variance to a relatively accurate\n",
        "degree while sampling only 2% of the people living in the town. Our estimates\n",
        "may not be 100% perfect. \n",
        "\n",
        "However, the amount of time we saved more than makes up\n",
        "for that minuscule drop in accuracy.\n",
        "\n",
        "So far, **we’ve only used the central limit theorem to estimate the population mean and variance**. \n",
        "\n",
        "However, **the power of the theorem goes beyond the mere estimation of\n",
        "distribution parameters**. \n",
        "\n",
        "We can use the central limit theorem to make predictions\n",
        "about people."
      ],
      "metadata": {
        "id": "7JmQ20nyrFfo"
      }
    },
    {
      "cell_type": "markdown",
      "source": [
        "##Making predictions using the mean and variance"
      ],
      "metadata": {
        "id": "i7ysmbXhrUtJ"
      }
    },
    {
      "cell_type": "markdown",
      "source": [
        "Let’s suppose the mean is equal to 84\n",
        "and the variance is equal to 25. We’ll refer to these values as the population mean and\n",
        "population variance."
      ],
      "metadata": {
        "id": "6VH7S2ylIQaD"
      }
    },
    {
      "cell_type": "code",
      "source": [
        "# Population mean and variance of recorded grades\n",
        "population_mean = 84\n",
        "population_variance = 25  "
      ],
      "metadata": {
        "id": "XZ0uinzTq6fi"
      },
      "execution_count": 32,
      "outputs": []
    },
    {
      "cell_type": "markdown",
      "source": [
        "The mean of the normal curve will equal `population_mean`. The variance of the normal curve will equal `population_variance` divided by our sample size of 20 students. Taking the square\n",
        "root of that variance produces the standard deviation of the curve, which statisticians\n",
        "call the standard error of the mean (SEM). \n",
        "\n",
        "By definition, the SEM equals the population\n",
        "standard deviation divided by the square root of the sample size."
      ],
      "metadata": {
        "id": "qzITGicWIqWj"
      }
    },
    {
      "cell_type": "code",
      "source": [
        "# Plotting a normal curve using the mean and SEM\n",
        "mean = population_mean\n",
        "# The population standard deviation equals the square root of the population variance\n",
        "population_std = population_variance ** .5\n",
        "# The SEM equals population_std divided by the square root of the sample size\n",
        "sem = population_std / (20 ** 0.5)\n",
        "grade_range = range(101)\n",
        "normal_likelihoods = stats.norm.pdf(grade_range, mean , sem)\n",
        "\n",
        "plt.plot(grade_range, normal_likelihoods)\n",
        "plt.xlabel(\"Mean Grade of 20 Students(%)\")\n",
        "plt.ylabel(\"Relative Likelihood\")\n",
        "plt.show()"
      ],
      "metadata": {
        "id": "5erH7IvlIvgy",
        "outputId": "bbccb820-e301-4ba8-d1e8-06331e895992",
        "colab": {
          "base_uri": "https://localhost:8080/",
          "height": 279
        }
      },
      "execution_count": 33,
      "outputs": [
        {
          "output_type": "display_data",
          "data": {
            "text/plain": [
              "<Figure size 432x288 with 1 Axes>"
            ],
            "image/png": "[encoded data removed]"
          },
          "metadata": {
            "needs_background": "light"
          }
        }
      ]
    },
    {
      "cell_type": "markdown",
      "source": [
        "The area beneath the plotted curve approaches zero at values higher than 89%. That\n",
        "area is also equal to the probability of a given observation.\n",
        "\n",
        "Therefore, the probability\n",
        "of observing a mean grade that’s at or above 90% is incredibly low. Still, to be sure, we\n",
        "need to compute the actual probability. \n",
        "\n",
        "Thus, we need to somehow accurately measure\n",
        "the area under the normal distribution."
      ],
      "metadata": {
        "id": "iy9vkmtOWb8K"
      }
    },
    {
      "cell_type": "markdown",
      "source": [
        "###Computing the area beneath a normal curve"
      ],
      "metadata": {
        "id": "Nag21TydWgeJ"
      }
    },
    {
      "cell_type": "markdown",
      "source": [
        "One simple solution is to subdivide the normal\n",
        "curve into small, trapezoidal units. This ancient technique is referred to as the trapezoidal rule.\n",
        "\n",
        "A trapezoid is a four-sided polygon with two parallel sides; the trapezoid’s\n",
        "area is equal to the sum of these parallel sides multiplied by half the distance between\n",
        "them. \n",
        "\n",
        "Summing over multiple consecutive trapezoid areas approximates the area over\n",
        "an interval.\n",
        "\n",
        "Let’s apply the trapezoidal rule to our normal distribution."
      ],
      "metadata": {
        "id": "oZb-dTS1WiDR"
      }
    },
    {
      "cell_type": "code",
      "source": [
        "# Approximating the area using the trapezoidal rule\n",
        "\n",
        "# The area of each trapezoid equals the sum of two consecutive likelihoods divided by 2.\n",
        "total_area = np.sum([normal_likelihoods[i: i + 2].sum() / 2 for i in range(normal_likelihoods.size - 1)])\n",
        "\n",
        "assert total_area == np.trapz(normal_likelihoods)\n",
        "print(f\"Estimated area under the curve is {total_area}\")"
      ],
      "metadata": {
        "id": "BIu2loezWUAb",
        "outputId": "46ab354d-9ded-4105-d84c-6a58c7fb7f27",
        "colab": {
          "base_uri": "https://localhost:8080/"
        }
      },
      "execution_count": 34,
      "outputs": [
        {
          "output_type": "stream",
          "name": "stdout",
          "text": [
            "Estimated area under the curve is 1.0000000000384808\n"
          ]
        }
      ]
    },
    {
      "cell_type": "markdown",
      "source": [
        "The estimated area is very close to 1.0, but its not exactly equal to 1.0. We can access a mathematically exact solution in SciPy, using the `stats.norm.sf` method.\n",
        "\n",
        "The survival function\n",
        "equals the distribution’s area over an interval that’s greater than some x."
      ],
      "metadata": {
        "id": "fxtMGMPIyhaG"
      }
    },
    {
      "cell_type": "code",
      "source": [
        "# Computing the total area using SciPy\n",
        "assert stats.norm.sf(0, mean, sem) == 1.0"
      ],
      "metadata": {
        "id": "8wkh6C_oyh9T"
      },
      "execution_count": 35,
      "outputs": []
    },
    {
      "cell_type": "markdown",
      "source": [
        "We expect `stats.norm.sf(mean, mean, sem)` to equal 0.5. This is because the mean perfectly splits the Normal curve into 2 equal halves. Meanwhile, we expect `np.trapz(normal_likelihoods[mean:])` to approximate but not fully equal 0.5. \n",
        "\n",
        "Lets confirm below."
      ],
      "metadata": {
        "id": "oFqCf6yQzue3"
      }
    },
    {
      "cell_type": "code",
      "source": [
        "# Inputting the mean into the survival function\n",
        "assert stats.norm.sf(mean, mean, sem) == 0.5"
      ],
      "metadata": {
        "id": "vRPJNehOzvy1"
      },
      "execution_count": 36,
      "outputs": []
    },
    {
      "cell_type": "code",
      "source": [
        "estimated_area = np.trapz(normal_likelihoods[mean:])\n",
        "print(f\"Estimated area beyond the mean is {estimated_area}\")"
      ],
      "metadata": {
        "id": "CBC_pLXO0HEZ",
        "outputId": "63f29a59-5f61-4eee-dcac-745e7715f4c5",
        "colab": {
          "base_uri": "https://localhost:8080/"
        }
      },
      "execution_count": 37,
      "outputs": [
        {
          "output_type": "stream",
          "name": "stdout",
          "text": [
            "Estimated area beyond the mean is 0.5000000000192404\n"
          ]
        }
      ]
    },
    {
      "cell_type": "markdown",
      "source": [
        "Now, lets execute stats.norm.sf(90, mean, sem). This will return the area over an interval of values lying beyond 90%. \n",
        "\n",
        "The area represents the likelihood of 20 students jointly acing an exam."
      ],
      "metadata": {
        "id": "5BxMZxFj0YC_"
      }
    },
    {
      "cell_type": "code",
      "source": [
        "# Computing the probability of a good collective grade\n",
        "area = stats.norm.sf(90, mean, sem)\n",
        "print(f\"Probability of 20 students acing the exam is {area}\")"
      ],
      "metadata": {
        "id": "Jbqhe8bp0aNt",
        "outputId": "10b5e83a-4861-44cc-acc0-63727f14b90f",
        "colab": {
          "base_uri": "https://localhost:8080/"
        }
      },
      "execution_count": 38,
      "outputs": [
        {
          "output_type": "stream",
          "name": "stdout",
          "text": [
            "Probability of 20 students acing the exam is 4.012555633463782e-08\n"
          ]
        }
      ]
    },
    {
      "cell_type": "markdown",
      "source": [
        "It seems our final conclusion is imperfect. We did the best we could, given what we\n",
        "knew, but some uncertainty remains. \n",
        "\n",
        "To eliminate that uncertainty, we’d need the\n",
        "missing dates for the graded exams. \n",
        "\n",
        "Unfortunately, that data was not provided. Quite\n",
        "commonly, statisticians are forced to make consequential decisions from limited records.\n",
        "\n",
        "Consequently,\n",
        "we must exercise great caution when we draw conclusions from incomplete\n",
        "information."
      ],
      "metadata": {
        "id": "j_-y_II_0wxz"
      }
    }
  ]
}