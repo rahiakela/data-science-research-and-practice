{
  "nbformat": 4,
  "nbformat_minor": 0,
  "metadata": {
    "colab": {
      "name": "02-making-predictions-using-central-limit-theorem.ipynb",
      "provenance": [],
      "toc_visible": true,
      "authorship_tag": "ABX9TyM6DqFW5/AUF+lDWWQzgYjh",
      "include_colab_link": true
    },
    "kernelspec": {
      "name": "python3",
      "display_name": "Python 3"
    },
    "language_info": {
      "name": "python"
    }
  },
  "cells": [
    {
      "cell_type": "markdown",
      "metadata": {
        "id": "view-in-github",
        "colab_type": "text"
      },
      "source": [
        "<a href=\"https://colab.research.google.com/github/rahiakela/data-science-research-and-practice/blob/main/data-science-bookcamp/case-study-2--online-ad-clicks/02_making_predictions_using_central_limit_theorem.ipynb\" target=\"_parent\"><img src=\"https://colab.research.google.com/assets/colab-badge.svg\" alt=\"Open In Colab\"/></a>"
      ]
    },
    {
      "cell_type": "markdown",
      "source": [
        "##Making predictions using the central limit theorem"
      ],
      "metadata": {
        "id": "lXfEhVXLMk9J"
      }
    },
    {
      "cell_type": "markdown",
      "source": [
        "The normal distribution is a bell-shaped curve.The\n",
        "curve arises naturally from random data sampling due to the central limit theorem. \n",
        "\n",
        "Furthermore, the theorem predicts\n",
        "a narrowing of that curve as the size of each frequency sample goes up. \n",
        "\n",
        "In other words, the distribution’s standard deviation should decrease as the sampling size\n",
        "increases.\n",
        "\n",
        "The central limit theorem lies at the heart of all classic statistics.\n",
        "\n",
        "So, we probe the theorem in great detail using the computational power of SciPy. Eventually, we learn how to use the theorem to make predictions from limited data."
      ],
      "metadata": {
        "id": "yeFtviJ0NOTv"
      }
    },
    {
      "cell_type": "markdown",
      "source": [
        "##Setup"
      ],
      "metadata": {
        "id": "acuDtWwtNO7R"
      }
    },
    {
      "cell_type": "code",
      "source": [
        "from collections import defaultdict\n",
        "import itertools\n",
        "\n",
        "import numpy as np\n",
        "from scipy import stats\n",
        "import math\n",
        "\n",
        "import matplotlib.pyplot as plt"
      ],
      "metadata": {
        "id": "s5coLXNNNQET"
      },
      "execution_count": 16,
      "outputs": []
    },
    {
      "cell_type": "code",
      "source": [
        "# Penalizing centers using the squared distance from the minimum\n",
        "def squared_distance(value1, value2):\n",
        "  return (value1 - value2) ** 2"
      ],
      "metadata": {
        "id": "1hjYBTl1VbYJ"
      },
      "execution_count": 8,
      "outputs": []
    },
    {
      "cell_type": "code",
      "source": [
        "# Penalizing centers using the total sum of squared distances\n",
        "def sum_of_squared_distances(value, measurements):\n",
        "  return sum(squared_distance(value, m) for m in measurements)"
      ],
      "metadata": {
        "id": "n9UZBH__Vd7Y"
      },
      "execution_count": 9,
      "outputs": []
    },
    {
      "cell_type": "code",
      "source": [
        "# Computing California’s sum of squares\n",
        "def sum_of_squares(data):\n",
        "  mean = np.mean(data)\n",
        "  return sum(squared_distance(value, mean) for value in data)"
      ],
      "metadata": {
        "id": "ZsP4lR9-VlFZ"
      },
      "execution_count": 10,
      "outputs": []
    },
    {
      "cell_type": "code",
      "source": [
        "# Computing the variance from mean squared distance\n",
        "def variance(data):\n",
        "  mean = np.mean(data)\n",
        "  return np.mean([squared_distance(value, mean) for value in data])"
      ],
      "metadata": {
        "id": "w8f59ySaVovY"
      },
      "execution_count": 11,
      "outputs": []
    },
    {
      "cell_type": "code",
      "source": [
        "# Computing the weighted variance using np.average\n",
        "def weighted_variance(data, weights):\n",
        "  mean = np.average(data, weights=weights)\n",
        "  squared_distances = [squared_distance(value, mean) for value in data]\n",
        "  return np.average(squared_distances, weights=weights)\n",
        "\n",
        "assert weighted_variance([75, 77], [9, 1]) == np.var(9 * [75] + [77])"
      ],
      "metadata": {
        "id": "AXJEhi-gVrsN"
      },
      "execution_count": 12,
      "outputs": []
    },
    {
      "cell_type": "markdown",
      "source": [
        "##Manipulating the normal distribution"
      ],
      "metadata": {
        "id": "pnz1cgiEOMj8"
      }
    },
    {
      "cell_type": "markdown",
      "source": [
        "Let’s generate a normal distribution by plotting a histogram of coin-flip samples. Our\n",
        "input into the histogram will contain 100,000 head-count frequencies. Computing the\n",
        "frequencies will require us to sample a series of coin flips 100,000 times.\n",
        "\n",
        "If we use the sample size to divide the sum of values in\n",
        "the sample, we will compute the observed head-count frequency. Conceptually, this\n",
        "frequency is equal to simply taking the sample’s mean."
      ],
      "metadata": {
        "id": "bwOW8afWOPkG"
      }
    },
    {
      "cell_type": "code",
      "source": [
        "# Computing head-count frequencies from the mean\n",
        "np.random.seed(0)\n",
        "\n",
        "sample_size = 10000\n",
        "sample = np.array([np.random.binomial(1, 0.5) for _ in range(sample_size)])\n",
        "head_count = sample.sum()\n",
        "\n",
        "head_count_frequency = head_count / sample_size\n",
        "# The head-count frequency is identical to the sample mean.\n",
        "assert head_count_frequency == sample.mean()"
      ],
      "metadata": {
        "id": "78cmAma-Oimt"
      },
      "execution_count": 4,
      "outputs": []
    },
    {
      "cell_type": "markdown",
      "source": [
        "Of course, we can compute all 100,000 head-count frequencies in a single line of\n",
        "code."
      ],
      "metadata": {
        "id": "lifDzuMFPEQQ"
      }
    },
    {
      "cell_type": "code",
      "source": [
        "#Computing 100,000 head-count frequencies\n",
        "np.random.seed(0)\n",
        "\n",
        "frequencies = np.random.binomial(sample_size, 0.5, 100000) / sample_size"
      ],
      "metadata": {
        "id": "z63R26UkPMgU"
      },
      "execution_count": 31,
      "outputs": []
    },
    {
      "cell_type": "markdown",
      "source": [
        "Each sampled frequency equals the mean of 10,000 randomly flipped coins."
      ],
      "metadata": {
        "id": "GQXw26NkTwM9"
      }
    },
    {
      "cell_type": "code",
      "source": [
        "# Visualizing sample means in a histogram\n",
        "sample_means = frequencies\n",
        "likelihoods, bin_edges, _ = plt.hist(sample_means, bins=\"auto\", edgecolor=\"black\", density=True)\n",
        "\n",
        "plt.xlabel(\"Binned Sample Mean\")\n",
        "plt.ylabel(\"Relative Likelihood\")\n",
        "plt.show()"
      ],
      "metadata": {
        "id": "MpECYEEyRzQM",
        "colab": {
          "base_uri": "https://localhost:8080/",
          "height": 279
        },
        "outputId": "bc3a42a4-fd45-4809-9b40-46a323225960"
      },
      "execution_count": 32,
      "outputs": [
        {
          "output_type": "display_data",
          "data": {
            "text/plain": [
              "<Figure size 432x288 with 1 Axes>"
            ],
            "image/png": "[encoded data removed]"
          },
          "metadata": {
            "needs_background": "light"
          }
        }
      ]
    },
    {
      "cell_type": "markdown",
      "source": [
        "The histogram is shaped like a normal distribution. Let’s calculate the distribution’s\n",
        "mean and standard deviation."
      ],
      "metadata": {
        "id": "ihkNc95URyVl"
      }
    },
    {
      "cell_type": "code",
      "source": [
        "# Computing the mean and standard deviation of a histogram\n",
        "mean_normal = np.average(bin_edges[:-1], weights=likelihoods)\n",
        "var_normal = weighted_variance(bin_edges[:-1], likelihoods)\n",
        "std_normal = var_normal ** 0.5\n",
        "\n",
        "print(f\"Mean is approximately {mean_normal:.2}\")\n",
        "print(f\"Standard deviation is approximately {std_normal:.3f}\")"
      ],
      "metadata": {
        "id": "ApEynh42SN_b",
        "outputId": "7c0223a5-2568-4f3d-def9-bc6410dc2df3",
        "colab": {
          "base_uri": "https://localhost:8080/"
        }
      },
      "execution_count": 14,
      "outputs": [
        {
          "output_type": "stream",
          "name": "stdout",
          "text": [
            "Mean is approximately 0.5\n",
            "Standard deviation is approximately 0.005\n"
          ]
        }
      ]
    },
    {
      "cell_type": "markdown",
      "source": [
        "The distribution’s mean is approximately 0.5, and its standard deviation is approximately\n",
        "0.005. \n",
        "\n",
        "In a normal distribution, these values can be computed directly from\n",
        "the distribution’s peak. We just need the peak’s x-value and y-value coordinates. \n",
        "\n",
        "The x-value equals the distribution’s mean, and the standard deviation is equal to the inverse of the y-value multiplied by $(2\\pi)^{1/2}$"
      ],
      "metadata": {
        "id": "Pn-vKrN5SpME"
      }
    },
    {
      "cell_type": "code",
      "source": [
        "# Computing mean and standard deviation from peak coordinates\n",
        "peak_x_value = bin_edges[likelihoods.argmax()]\n",
        "print(f\"Mean is approximately {peak_x_value:.2f}\")\n",
        "\n",
        "peak_y_value = likelihoods.max()\n",
        "print(f\"Max y-value {peak_y_value:.2f}\")\n",
        "std_from_peak = (peak_y_value * (2 * math.pi) ** 0.5) ** -1\n",
        "print(f\"Standard deviation is approximately {std_from_peak:.3f}\")"
      ],
      "metadata": {
        "id": "JsJyPWRWSp8B",
        "outputId": "131e5b2f-43c6-449d-f762-779211435b5b",
        "colab": {
          "base_uri": "https://localhost:8080/"
        }
      },
      "execution_count": 19,
      "outputs": [
        {
          "output_type": "stream",
          "name": "stdout",
          "text": [
            "Mean is approximately 0.50\n",
            "Max y-value 84.85\n",
            "Standard deviation is approximately 0.005\n"
          ]
        }
      ]
    },
    {
      "cell_type": "markdown",
      "source": [
        "Additionally, we can compute the mean and standard deviation simply by calling\n",
        "`stats.norm.fit(sample_means)`. \n",
        "\n",
        "This SciPy method returns the two parameters\n",
        "required to re-create the normal distribution formed by our data."
      ],
      "metadata": {
        "id": "JadEN-r0TCoE"
      }
    },
    {
      "cell_type": "code",
      "source": [
        "# Computing mean and standard deviation using stats.norm.fit\n",
        "fitted_mean, fitted_std = stats.norm.fit(sample_means)\n",
        "print(f\"Mean is approximately {fitted_mean:.2f}\")\n",
        "print(f\"Standard deviation is approximately {fitted_std:.3f}\")"
      ],
      "metadata": {
        "id": "4QyYHW57TSnd",
        "outputId": "d77e9101-4e6e-4361-d952-9f247aaee8fa",
        "colab": {
          "base_uri": "https://localhost:8080/"
        }
      },
      "execution_count": 21,
      "outputs": [
        {
          "output_type": "stream",
          "name": "stdout",
          "text": [
            "Mean is approximately 0.50\n",
            "Standard deviation is approximately 0.005\n"
          ]
        }
      ]
    },
    {
      "cell_type": "markdown",
      "source": [
        "The computed mean and standard deviation can be used to reproduce our normal\n",
        "curve. We can regenerate the curve by calling `stats.norm.pdf(bin_edges, fitted_mean, fitted_std)`.\n",
        "\n",
        "A probability density function is like a probability\n",
        "mass function but with one key difference: it does not return probabilities.\n",
        "\n",
        "Instead, it returns relative likelihoods.\n",
        "\n",
        "As we know, relative likelihoods are the y-axis\n",
        "values of a curve whose total area equals 1.0. \n",
        "\n",
        "Unlike probabilities, these likelihoods\n",
        "can equal values that are greater than 1.0. \n",
        "\n",
        "Despite this, the total area beneath a plotted\n",
        "likelihood interval still equals the probability of observing a random value within\n",
        "that interval.\n",
        "\n",
        "Let’s compute the relative likelihoods using `stats.norm.pdf`.\n",
        "\n"
      ],
      "metadata": {
        "id": "yTwNGWvLWH3G"
      }
    },
    {
      "cell_type": "code",
      "source": [
        "# Computing normal likelihoods using stats.norm.pdf\n",
        "normal_likelihoods = stats.norm.pdf(bin_edges, fitted_mean, fitted_std)\n",
        "\n",
        "plt.plot(bin_edges, normal_likelihoods, color=\"k\", linestyle=\"--\", label=\"Normal Curve\")\n",
        "plt.hist(sample_means, bins=\"auto\", alpha=0.2, color=\"r\", density=True)\n",
        "plt.legend()\n",
        "plt.xlabel(\"Sample Mean\")\n",
        "plt.ylabel(\"Relative Likelihood\")\n",
        "plt.show()"
      ],
      "metadata": {
        "colab": {
          "base_uri": "https://localhost:8080/",
          "height": 279
        },
        "id": "UDs9ZSFecJjA",
        "outputId": "b76e90ba-29b3-419c-c86a-f7d829d0b7f7"
      },
      "execution_count": 22,
      "outputs": [
        {
          "output_type": "display_data",
          "data": {
            "text/plain": [
              "<Figure size 432x288 with 1 Axes>"
            ],
            "image/png": "[encoded data removed]"
          },
          "metadata": {
            "needs_background": "light"
          }
        }
      ]
    },
    {
      "cell_type": "markdown",
      "source": [
        "The curve’s peak sits at an x-axis position of 0.5 and rises to a y-axis position of approximately 80. As a reminder, the peak’s x and\n",
        "y coordinates are a direct function of `fitted_mean` and `fitted_std`.\n",
        "\n",
        "To emphasize this\n",
        "important relationship, let’s do a simple exercise: we’ll shift the peak 0.01 units to the\n",
        "right while also doubling the peak’s height.\n",
        "\n",
        "Well, the peak’s axis is equal to the mean, so we adjust the input mean to `fitted_mean + 0.01`. Also, the peak’s height is inversely proportional to the standard deviation. Therefore,\n",
        "inputting `fitted_std / 2` should double the height of the peak.\n",
        "\n"
      ],
      "metadata": {
        "id": "y3tn5An2fEJE"
      }
    },
    {
      "cell_type": "code",
      "source": [
        "# Manipulating a normal curve’s peak coordinates\n",
        "adjusted_likelihoods = stats.norm.pdf(bin_edges, fitted_mean + 0.01, fitted_std / 2)\n",
        "\n",
        "plt.plot(bin_edges, adjusted_likelihoods, color=\"k\", linestyle=\"--\")\n",
        "plt.hist(sample_means, bins=\"auto\", alpha=0.2, color=\"r\", density=True)\n",
        "plt.xlabel(\"Sample Mean\")\n",
        "plt.ylabel(\"Relative Likelihood\")\n",
        "plt.show()"
      ],
      "metadata": {
        "colab": {
          "base_uri": "https://localhost:8080/",
          "height": 279
        },
        "id": "ttvmZAwpfZkE",
        "outputId": "3992fa7c-74ca-4e7e-ac75-a82e5de53f57"
      },
      "execution_count": 24,
      "outputs": [
        {
          "output_type": "display_data",
          "data": {
            "text/plain": [
              "<Figure size 432x288 with 1 Axes>"
            ],
            "image/png": "[encoded data removed]"
          },
          "metadata": {
            "needs_background": "light"
          }
        }
      ]
    },
    {
      "cell_type": "code",
      "source": [
        "adjusted_likelihoods = stats.norm.pdf(bin_edges, fitted_mean - 0.01, fitted_std / 2)\n",
        "\n",
        "plt.plot(bin_edges, adjusted_likelihoods, color=\"k\", linestyle=\"--\")\n",
        "plt.hist(sample_means, bins=\"auto\", alpha=0.2, color=\"r\", density=True)\n",
        "plt.xlabel(\"Sample Mean\")\n",
        "plt.ylabel(\"Relative Likelihood\")\n",
        "plt.show()"
      ],
      "metadata": {
        "colab": {
          "base_uri": "https://localhost:8080/",
          "height": 279
        },
        "id": "_h3HMcUtsIVw",
        "outputId": "d6a68ec2-4871-4045-e8e0-764d8313186b"
      },
      "execution_count": 34,
      "outputs": [
        {
          "output_type": "display_data",
          "data": {
            "text/plain": [
              "<Figure size 432x288 with 1 Axes>"
            ],
            "image/png": "[encoded data removed]"
          },
          "metadata": {
            "needs_background": "light"
          }
        }
      ]
    },
    {
      "cell_type": "markdown",
      "source": [
        "###Comparing two sampled normal curves"
      ],
      "metadata": {
        "id": "WgDWss86TCzw"
      }
    },
    {
      "cell_type": "markdown",
      "source": [
        ""
      ],
      "metadata": {
        "id": "vztHxrgUsYZy"
      }
    }
  ]
}