{
  "nbformat": 4,
  "nbformat_minor": 0,
  "metadata": {
    "colab": {
      "name": "01-basic-probability-and-statistical-analysis.ipynb",
      "provenance": [],
      "toc_visible": true,
      "authorship_tag": "ABX9TyO/fzjGBaC5RtQHB7iQKzDh",
      "include_colab_link": true
    },
    "kernelspec": {
      "name": "python3",
      "display_name": "Python 3"
    },
    "language_info": {
      "name": "python"
    }
  },
  "cells": [
    {
      "cell_type": "markdown",
      "metadata": {
        "id": "view-in-github",
        "colab_type": "text"
      },
      "source": [
        "<a href=\"https://colab.research.google.com/github/rahiakela/data-science-research-and-practice/blob/main/data-science-bookcamp/case-study-2--online-ad-clicks/01_basic_probability_and_statistical_analysis.ipynb\" target=\"_parent\"><img src=\"https://colab.research.google.com/assets/colab-badge.svg\" alt=\"Open In Colab\"/></a>"
      ]
    },
    {
      "cell_type": "markdown",
      "source": [
        "##Basic probability and statistical analysis"
      ],
      "metadata": {
        "id": "lXfEhVXLMk9J"
      }
    },
    {
      "cell_type": "markdown",
      "source": [
        "Statistics is a branch of mathematics dealing with the collection and interpretation\n",
        "of numeric data. It is the precursor of all modern data science.\n",
        "\n",
        "Poor record keeping could lead to potentially\n",
        "disastrous results. That is why state bureaucrats were very concerned by any\n",
        "random fluctuations in their records.\n",
        "\n",
        "Probability theory eventually tamed these\n",
        "fluctuations, making the randomness interpretable. Ever since then, statistics and\n",
        "probability theory have been closely intertwined.\n",
        "\n",
        "Probability theory studies random processes over a potentially infinite number\n",
        "of measurements. It is not bound by real-world limitations.\n",
        "\n",
        "Statistics help us understand exactly how much data is sufficient\n",
        "to draw insights and make impactful decisions. The purpose of statistics is to find\n",
        "meaning in data even when that data is limited in size.\n",
        "\n",
        "In this notebook, we cultivate our understanding of statistics by\n",
        "applying probability theory to real-world problems."
      ],
      "metadata": {
        "id": "yeFtviJ0NOTv"
      }
    },
    {
      "cell_type": "markdown",
      "source": [
        "##Setup"
      ],
      "metadata": {
        "id": "acuDtWwtNO7R"
      }
    },
    {
      "cell_type": "code",
      "source": [
        "from collections import defaultdict\n",
        "import itertools\n",
        "\n",
        "import numpy as np\n",
        "from scipy import stats\n",
        "\n",
        "import matplotlib.pyplot as plt"
      ],
      "metadata": {
        "id": "s5coLXNNNQET"
      },
      "execution_count": 1,
      "outputs": []
    },
    {
      "cell_type": "markdown",
      "source": [
        "##Exploring the relationships between data and probability"
      ],
      "metadata": {
        "id": "pnz1cgiEOMj8"
      }
    },
    {
      "cell_type": "markdown",
      "source": [
        "The `stats` module is very useful for assessing the randomness of data."
      ],
      "metadata": {
        "id": "bwOW8afWOPkG"
      }
    },
    {
      "cell_type": "code",
      "source": [
        "# Analyzing extreme head counts using SciPy\n",
        "num_heads = 16\n",
        "num_flips = 20\n",
        "prob_head = 0.5\n",
        "\n",
        "prob = stats.binom_test(num_heads, num_flips, prob_head)\n",
        "print(f\"Probability of observing more than 15 heads or 15 tails is {prob:.17f}\")"
      ],
      "metadata": {
        "id": "78cmAma-Oimt",
        "outputId": "7957f853-8284-4f7e-e2d2-1880a0937f62",
        "colab": {
          "base_uri": "https://localhost:8080/"
        }
      },
      "execution_count": 2,
      "outputs": [
        {
          "output_type": "stream",
          "name": "stdout",
          "text": [
            "Probability of observing more than 15 heads or 15 tails is 0.01181793212890625\n"
          ]
        }
      ]
    },
    {
      "cell_type": "markdown",
      "source": [
        "If we want the probability of seeing\n",
        "exactly 16 heads, then we must utilize the `stats.binom.pmf` method. That method\n",
        "represents the probability mass function of the binomial distribution.\n",
        "\n",
        "A probability mass\n",
        "function maps inputted integer values to their probability of occurrence.\n",
        "\n"
      ],
      "metadata": {
        "id": "lifDzuMFPEQQ"
      }
    },
    {
      "cell_type": "code",
      "source": [
        "#Computing an exact probability\n",
        "prob_16_heads = stats.binom.pmf(num_heads, num_flips, prob_head)\n",
        "print(f\"The probability of seeing {num_heads} of {num_flips} haeds is {prob_16_heads}\")"
      ],
      "metadata": {
        "id": "z63R26UkPMgU",
        "outputId": "3249bbb9-c4d6-4539-cf4e-c4ecacf2c8bd",
        "colab": {
          "base_uri": "https://localhost:8080/"
        }
      },
      "execution_count": 3,
      "outputs": [
        {
          "output_type": "stream",
          "name": "stdout",
          "text": [
            "The probability of seeing 16 of 20 haeds is 0.004620552062988271\n"
          ]
        }
      ]
    },
    {
      "cell_type": "markdown",
      "source": [
        "Multiple\n",
        "head-count probabilities can be processed by passing in a list of head-count values."
      ],
      "metadata": {
        "id": "gWY4B6wGRxt9"
      }
    },
    {
      "cell_type": "code",
      "source": [
        "# Computing an array of probabilities\n",
        "probabilities = stats.binom.pmf([4, 16], num_flips, prob_head)\n",
        "\n",
        "assert probabilities.tolist() == [prob_16_heads] * 2"
      ],
      "metadata": {
        "id": "MpECYEEyRzQM"
      },
      "execution_count": 4,
      "outputs": []
    },
    {
      "cell_type": "markdown",
      "source": [
        "List-passing allows us to compute probabilities across intervals."
      ],
      "metadata": {
        "id": "ihkNc95URyVl"
      }
    },
    {
      "cell_type": "code",
      "source": [
        "# Computing an interval probability\n",
        "interval_all_counts = range(21)\n",
        "probabilities = stats.binom.pmf(interval_all_counts, num_flips, prob_head)\n",
        "total_prob = probabilities.sum()\n",
        "\n",
        "print(f\"Total sum of probabilities equals {total_prob:.14f}\")"
      ],
      "metadata": {
        "id": "ApEynh42SN_b",
        "outputId": "0ddee6ae-3110-4b70-f023-c68c395cf2eb",
        "colab": {
          "base_uri": "https://localhost:8080/"
        }
      },
      "execution_count": 5,
      "outputs": [
        {
          "output_type": "stream",
          "name": "stdout",
          "text": [
            "Total sum of probabilities equals 1.00000000000000\n"
          ]
        }
      ]
    },
    {
      "cell_type": "markdown",
      "source": [
        "Thus, we can generate the distribution\n",
        "plot without having to iterate through possible coin-flip combinations."
      ],
      "metadata": {
        "id": "Pn-vKrN5SpME"
      }
    },
    {
      "cell_type": "code",
      "source": [
        "# Plotting a 20-coin-flip binomial distribution\n",
        "plt.plot(interval_all_counts, probabilities)\n",
        "plt.xlabel(\"Head-count\")\n",
        "plt.ylabel(\"Probability\")\n",
        "plt.show()"
      ],
      "metadata": {
        "id": "JsJyPWRWSp8B",
        "outputId": "83b216d3-8529-495a-fa33-3e5e1839ce35",
        "colab": {
          "base_uri": "https://localhost:8080/",
          "height": 279
        }
      },
      "execution_count": 6,
      "outputs": [
        {
          "output_type": "display_data",
          "data": {
            "text/plain": [
              "<Figure size 432x288 with 1 Axes>"
            ],
            "image/png": "[encoded data removed]"
          },
          "metadata": {
            "needs_background": "light"
          }
        }
      ]
    },
    {
      "cell_type": "markdown",
      "source": [
        "The `stats.binom.pmf` method lets us display any distribution associated with an arbitrary coin-flip count. \n",
        "\n",
        "Let’s use our newfound freedom to simultaneously plot the distributions\n",
        "for 20, 80, 140, and 200 coin flips,"
      ],
      "metadata": {
        "id": "JadEN-r0TCoE"
      }
    },
    {
      "cell_type": "code",
      "source": [
        "# Plotting five different binomial distributions\n",
        "flip_counts = [20, 80, 140, 200]\n",
        "linestyles = [\"-\", \"--\", \"-.\", \":\"]\n",
        "colors = [\"b\", \"g\", \"r\", \"k\"]\n",
        "\n",
        "for num_flips, linestyle, color in zip(flip_counts, linestyles, colors):\n",
        "  x_values = range(num_flips + 1)\n",
        "  y_values = stats.binom.pmf(x_values, num_flips, 0.5)\n",
        "  plt.plot(x_values, y_values, linestyle=linestyle, color=color, label=f\"{num_flips} coin-flips\")\n",
        "plt.legend()\n",
        "plt.xlabel(\"Head-count\")\n",
        "plt.ylabel(\"Probability\")\n",
        "plt.show()"
      ],
      "metadata": {
        "id": "4QyYHW57TSnd",
        "outputId": "7b4b7e10-c1ca-40d8-ee5d-ab9ce7841d3e",
        "colab": {
          "base_uri": "https://localhost:8080/",
          "height": 279
        }
      },
      "execution_count": 7,
      "outputs": [
        {
          "output_type": "display_data",
          "data": {
            "text/plain": [
              "<Figure size 432x288 with 1 Axes>"
            ],
            "image/png": "[encoded data removed]"
          },
          "metadata": {
            "needs_background": "light"
          }
        }
      ]
    },
    {
      "cell_type": "code",
      "source": [
        "# Plotting five different binomial distributions\n",
        "flip_counts = [20, 80, 140, 200, 300]\n",
        "linestyles = [\"-\", \"--\", \"-.\", \":\", \"solid\"]\n",
        "colors = [\"b\", \"g\", \"r\", \"k\", \"y\"]\n",
        "\n",
        "for num_flips, linestyle, color in zip(flip_counts, linestyles, colors):\n",
        "  x_values = range(num_flips + 1)\n",
        "  y_values = stats.binom.pmf(x_values, num_flips, 0.5)\n",
        "  plt.plot(x_values, y_values, linestyle=linestyle, color=color, label=f\"{num_flips} coin-flips\")\n",
        "plt.legend()\n",
        "plt.xlabel(\"Head-count\")\n",
        "plt.ylabel(\"Probability\")\n",
        "plt.show()"
      ],
      "metadata": {
        "id": "5UGSRMccUxBc",
        "outputId": "23df4b53-eac7-4f90-b2ea-487b1c91e2b7",
        "colab": {
          "base_uri": "https://localhost:8080/",
          "height": 279
        }
      },
      "execution_count": 8,
      "outputs": [
        {
          "output_type": "display_data",
          "data": {
            "text/plain": [
              "<Figure size 432x288 with 1 Axes>"
            ],
            "image/png": "[encoded data removed]"
          },
          "metadata": {
            "needs_background": "light"
          }
        }
      ]
    },
    {
      "cell_type": "markdown",
      "source": [
        "Within the plot, the central peak of each binomial appears to shift rightward as the coin-flip count goes up. \n",
        "\n",
        "Also, the 20-coin-flip distribution is noticeably thinner than\n",
        "the 200-coin-flip distribution. \n",
        "\n",
        "In other words, the plotted distributions grow more dispersed\n",
        "around their central positions as these central positions move to the right.\n",
        "\n",
        "However, simply noting that one plot appears thicker than\n",
        "another is insufficient. Likewise, stating that one plot is more rightward than another\n",
        "is also insufficient.\n",
        "\n",
        "We need to quantify our distribution differences. We must assign\n",
        "specific numbers to centrality and dispersion to discern how these numbers change\n",
        "from plot to plot. \n",
        "\n",
        "Doing so requires that we familiarize ourselves with the concepts of\n",
        "variance and mean."
      ],
      "metadata": {
        "id": "yTwNGWvLWH3G"
      }
    },
    {
      "cell_type": "markdown",
      "source": [
        "##Mean as a measure of centrality"
      ],
      "metadata": {
        "id": "WgDWss86TCzw"
      }
    },
    {
      "cell_type": "markdown",
      "source": [
        "Suppose we wish to study our local temperature over the first week of summer. When\n",
        "summer comes around, we glance at the thermometer outside our window. At noon,\n",
        "the temperature is exactly 80 degrees. We repeat our noon measurements over the next six days. \n",
        "\n",
        "Our measurements are 80, 77, 73, 61, 74, 79, and 81 degrees."
      ],
      "metadata": {
        "id": "pldJy_4HZVIJ"
      }
    },
    {
      "cell_type": "code",
      "source": [
        "# Storing recorded temperatures\n",
        "measurements = np.array([80, 77, 73, 61, 74, 79, 81])"
      ],
      "metadata": {
        "id": "EQFkqwb6ZdwF"
      },
      "execution_count": 9,
      "outputs": []
    },
    {
      "cell_type": "markdown",
      "source": [
        "**We’ll now attempt to summarize our measurements using a single central value.**"
      ],
      "metadata": {
        "id": "40XeXTrYZqzO"
      }
    },
    {
      "cell_type": "code",
      "source": [
        "# Plotting the recorded temperatures\n",
        "measurements.sort()\n",
        "number_of_days = measurements.size\n",
        "\n",
        "plt.plot(range(number_of_days), measurements)\n",
        "plt.scatter(range(number_of_days), measurements)\n",
        "plt.ylabel(\"Temperature\")\n",
        "plt.show()"
      ],
      "metadata": {
        "id": "hlj9xND2ZrRS",
        "outputId": "f7966fcb-97f3-48d8-d608-7a58a12473ee",
        "colab": {
          "base_uri": "https://localhost:8080/",
          "height": 265
        }
      },
      "execution_count": 10,
      "outputs": [
        {
          "output_type": "display_data",
          "data": {
            "text/plain": [
              "<Figure size 432x288 with 1 Axes>"
            ],
            "image/png": "[encoded data removed]"
          },
          "metadata": {
            "needs_background": "light"
          }
        }
      ]
    },
    {
      "cell_type": "markdown",
      "source": [
        "Based on the plot, a central temperature exists somewhere between 60 degrees and 80 degrees. \n",
        "\n",
        "Therefore, **we can naively estimate the center as approximately 70 degrees.**\n",
        "\n",
        "Let’s quantify our estimate as the midpoint between the lowest value and the highest value in the plot.\n",
        "\n",
        "We compute that midpoint by taking half the difference between the\n",
        "minimum and maximum temperatures and adding it to the minimum temperature."
      ],
      "metadata": {
        "id": "gHK8cgDnaMo9"
      }
    },
    {
      "cell_type": "code",
      "source": [
        "# Finding the midpoint temperature\n",
        "difference = measurements.max() - measurements.min()\n",
        "midpoint = measurements.min() + difference / 2\n",
        "\n",
        "assert midpoint == (measurements.max() + measurements.min()) / 2\n",
        "\n",
        "print(f\"The midpoint temperature is {midpoint} degrees\")"
      ],
      "metadata": {
        "id": "dOPphUkSaUz_",
        "outputId": "d33679c0-8d4f-4c91-a89d-6459736a9f72",
        "colab": {
          "base_uri": "https://localhost:8080/"
        }
      },
      "execution_count": 11,
      "outputs": [
        {
          "output_type": "stream",
          "name": "stdout",
          "text": [
            "The midpoint temperature is 71.0 degrees\n"
          ]
        }
      ]
    },
    {
      "cell_type": "code",
      "source": [
        "# Plotting the midpoint temperature\n",
        "plt.plot(range(number_of_days), measurements)\n",
        "plt.scatter(range(number_of_days), measurements)\n",
        "plt.axhline(midpoint, color=\"k\", linestyle=\"--\")\n",
        "plt.ylabel(\"Temperature\")\n",
        "plt.show()"
      ],
      "metadata": {
        "id": "eAq_xc4IbQVj",
        "outputId": "089f3e67-02aa-4399-a069-57a8c4b106e5",
        "colab": {
          "base_uri": "https://localhost:8080/",
          "height": 265
        }
      },
      "execution_count": 12,
      "outputs": [
        {
          "output_type": "display_data",
          "data": {
            "text/plain": [
              "<Figure size 432x288 with 1 Axes>"
            ],
            "image/png": "[encoded data removed]"
          },
          "metadata": {
            "needs_background": "light"
          }
        }
      ]
    },
    {
      "cell_type": "markdown",
      "source": [
        "Our plotted midpoint seems a little low: six of our seven measurements are higher than the midpoint.\n",
        "\n",
        "Intuitively, **our central value should split the measurements more\n",
        "evenly**—the number of temperatures above and below the center should be approximately\n",
        "equal. \n",
        "\n",
        "We can achieve this equality by choosing the middle element in our\n",
        "sorted seven-element array. \n",
        "\n",
        "**The middle element, which statisticians call the median, will split our measurements into two equal parts.**\n",
        "\n"
      ],
      "metadata": {
        "id": "5UV1LwA_c5vN"
      }
    },
    {
      "cell_type": "code",
      "source": [
        "# Plotting the median temperature\n",
        "median = measurements[3]\n",
        "print(f\"The median temperature is {median} degrees\")\n",
        "\n",
        "plt.plot(range(number_of_days), measurements)\n",
        "plt.scatter(range(number_of_days), measurements)\n",
        "plt.axhline(midpoint, color=\"k\", linestyle=\"--\", label=\"midpoint\")\n",
        "plt.axhline(median, color=\"g\", linestyle=\"-.\", label=\"median\")\n",
        "plt.legend()\n",
        "plt.ylabel(\"Temperature\")\n",
        "plt.show()"
      ],
      "metadata": {
        "id": "W1PkKwACdZeB",
        "outputId": "83c1f8a6-2ed6-4c2a-e43c-61f3d455b8ce",
        "colab": {
          "base_uri": "https://localhost:8080/",
          "height": 283
        }
      },
      "execution_count": 13,
      "outputs": [
        {
          "output_type": "stream",
          "name": "stdout",
          "text": [
            "The median temperature is 77 degrees\n"
          ]
        },
        {
          "output_type": "display_data",
          "data": {
            "text/plain": [
              "<Figure size 432x288 with 1 Axes>"
            ],
            "image/png": "[encoded data removed]"
          },
          "metadata": {
            "needs_background": "light"
          }
        }
      ]
    },
    {
      "cell_type": "markdown",
      "source": [
        "Our median of 77 degrees splits the temperatures in half. However, **the split is not well balanced since the median is closer to the upper three temperatures in the plot.**\n",
        "\n",
        "**Perhaps we can balance the split by penalizing the median for being too far from the minimum.**\n",
        "\n",
        "We’ll implement this penalty using the squared distance, which is simply\n",
        "the square of the difference between two values."
      ],
      "metadata": {
        "id": "OfZneP29eKIS"
      }
    },
    {
      "cell_type": "code",
      "source": [
        "# Penalizing centers using the squared distance from the minimum\n",
        "def squared_distance(value1, value2):\n",
        "  return (value1 - value2) ** 2"
      ],
      "metadata": {
        "id": "EAMh-19SebWo"
      },
      "execution_count": 14,
      "outputs": []
    },
    {
      "cell_type": "code",
      "source": [
        "# Uses the range of values between the minimum and maximum measured temperatures as our set of possible centers\n",
        "possible_centers = range(measurements.min(), measurements.max() + 1)\n",
        "penalties = [squared_distance(center, 61) for center in possible_centers]\n",
        "\n",
        "plt.plot(possible_centers, penalties)\n",
        "plt.scatter(possible_centers, penalties)\n",
        "plt.xlabel(\"Possible Centers\")\n",
        "plt.ylabel(\"Penalty\")\n",
        "plt.show()"
      ],
      "metadata": {
        "id": "F3ZWABeLesI-",
        "outputId": "ef44ea97-414e-41ca-b984-63987d174a3c",
        "colab": {
          "base_uri": "https://localhost:8080/",
          "height": 279
        }
      },
      "execution_count": 15,
      "outputs": [
        {
          "output_type": "display_data",
          "data": {
            "text/plain": [
              "<Figure size 432x288 with 1 Axes>"
            ],
            "image/png": "[encoded data removed]"
          },
          "metadata": {
            "needs_background": "light"
          }
        }
      ]
    },
    {
      "cell_type": "markdown",
      "source": [
        "As the centers shift toward 61, the penalty drops, but their distance\n",
        "to the remaining six measurements increases. \n",
        "\n",
        "Thus, **we ought to penalize each potential center based on its squared distance to all seven measurements.**\n",
        "\n",
        "We’ll do so by defining a sum of squared distances function, which will add up the squared distances between some value and the measurement array."
      ],
      "metadata": {
        "id": "OBCYzNAnfoQu"
      }
    },
    {
      "cell_type": "code",
      "source": [
        "# Penalizing centers using the total sum of squared distances\n",
        "def sum_of_squared_distances(value, measurements):\n",
        "  return sum(squared_distance(value, m) for m in measurements)"
      ],
      "metadata": {
        "id": "MBkxArwzf3Pb"
      },
      "execution_count": 16,
      "outputs": []
    },
    {
      "cell_type": "code",
      "source": [
        "penalties = [sum_of_squared_distances(center, measurements) for center in possible_centers]\n",
        "\n",
        "plt.plot(possible_centers, penalties)\n",
        "plt.scatter(possible_centers, penalties)\n",
        "plt.xlabel(\"Possible Centers\")\n",
        "plt.ylabel(\"Penalty\")\n",
        "plt.show()"
      ],
      "metadata": {
        "id": "XRbsUT7JgJpb",
        "outputId": "30749843-6f7a-4dc9-efe0-eb4df3c6723b",
        "colab": {
          "base_uri": "https://localhost:8080/",
          "height": 279
        }
      },
      "execution_count": 17,
      "outputs": [
        {
          "output_type": "display_data",
          "data": {
            "text/plain": [
              "<Figure size 432x288 with 1 Axes>"
            ],
            "image/png": "[encoded data removed]"
          },
          "metadata": {
            "needs_background": "light"
          }
        }
      ]
    },
    {
      "cell_type": "markdown",
      "source": [
        "Based on our plot, the temperature of 75 degrees incurs the lowest penalty. \n",
        "\n",
        "We’ll informally refer to this temperature value as our “least-penalized center.”"
      ],
      "metadata": {
        "id": "WTkZO5ZMkgCi"
      }
    },
    {
      "cell_type": "code",
      "source": [
        "least_penalized = 75\n",
        "\n",
        "assert least_penalized == possible_centers[np.argmin(penalties)]"
      ],
      "metadata": {
        "id": "VqTvHlLDkq3d"
      },
      "execution_count": 18,
      "outputs": []
    },
    {
      "cell_type": "code",
      "source": [
        "# Plotting the least-penalized temperature\n",
        "plt.plot(range(number_of_days), measurements)\n",
        "plt.scatter(range(number_of_days), measurements)\n",
        "plt.axhline(midpoint, color=\"k\", linestyle=\"--\", label=\"midpoint\")\n",
        "plt.axhline(median, color=\"g\", linestyle=\"-.\", label=\"median\")\n",
        "plt.axhline(least_penalized, color=\"r\", linestyle=\"-\", label=\"least penalized center\")\n",
        "plt.legend()\n",
        "plt.ylabel(\"Temperature\")\n",
        "plt.show()"
      ],
      "metadata": {
        "id": "jZ3hVbyDk25W",
        "outputId": "3771c61a-05d5-4579-a1f7-9e9dc23f13e7",
        "colab": {
          "base_uri": "https://localhost:8080/",
          "height": 265
        }
      },
      "execution_count": 19,
      "outputs": [
        {
          "output_type": "display_data",
          "data": {
            "text/plain": [
              "<Figure size 432x288 with 1 Axes>"
            ],
            "image/png": "[encoded data removed]"
          },
          "metadata": {
            "needs_background": "light"
          }
        }
      ]
    },
    {
      "cell_type": "markdown",
      "source": [
        "**The least-penalized center splits the measured temperatures fairly evenly**: four measurements\n",
        "appear above it, and three measurements appear below it. \n",
        "\n",
        "Thus, **this center maintains a balanced data split while providing a closer distance to the coldest recorded temperature relative to the median.**\n",
        "\n",
        "**The least-penalized center is a good measure of centrality. It minimizes all the penalties incurred for being too far from any given point, which leads to balanced distances between the center and every data point.**\n",
        "\n",
        "Unfortunately, our computation of\n",
        "that center was very inefficient. Scanning all possible penalties is not a scalable solution.\n",
        "\n",
        "Is there a more efficient way to compute the center?\n",
        "\n",
        "Yes! Mathematicians have shown that **the sum-of-squared-distances error is always minimized by the average value of a dataset**. \n",
        "\n",
        "Thus, we can compute the least-penalized center directly. \n",
        "\n",
        "We simply need\n",
        "to sum all the elements in measurements and then divide that sum by the array size."
      ],
      "metadata": {
        "id": "3FKjbfBflK8f"
      }
    },
    {
      "cell_type": "code",
      "source": [
        "# Computing the least-penalized center using an average value\n",
        "assert measurements.sum() / measurements.size == least_penalized"
      ],
      "metadata": {
        "id": "pu-RIRXBlv3p"
      },
      "execution_count": 20,
      "outputs": []
    },
    {
      "cell_type": "markdown",
      "source": [
        "**A summed array of values divided by array size is formally called the arithmetic mean.**\n",
        "\n",
        "Informally, the value is referred to as the mean or the average of the array."
      ],
      "metadata": {
        "id": "VinPIKE0nWfg"
      }
    },
    {
      "cell_type": "code",
      "source": [
        "# Computing the mean using NumPy\n",
        "mean = measurements.mean()\n",
        "\n",
        "assert mean == least_penalized\n",
        "assert mean == np.mean(measurements)\n",
        "assert mean == np.average(measurements)"
      ],
      "metadata": {
        "id": "BhWv0nc_no5O"
      },
      "execution_count": 21,
      "outputs": []
    },
    {
      "cell_type": "markdown",
      "source": [
        "The np.average method differs from the np.mean method because it takes as input an\n",
        "optional weights parameter. \n",
        "\n",
        "The weights parameter is a list of numeric weights that\n",
        "capture the importance of the measurements relative to each other."
      ],
      "metadata": {
        "id": "VUXHSvNExh8q"
      }
    },
    {
      "cell_type": "code",
      "source": [
        "# Passing weights into np.average\n",
        "equal_weights = [1] * 7\n",
        "assert mean == np.average(measurements, weights=equal_weights)\n",
        "\n",
        "unequal_weights = [100] + [1] * 6\n",
        "assert mean != np.average(measurements, weights=unequal_weights)"
      ],
      "metadata": {
        "id": "LmI-uCeYxjo1"
      },
      "execution_count": 22,
      "outputs": []
    },
    {
      "cell_type": "markdown",
      "source": [
        "The weights parameter is useful for computing the mean across duplicate measurements.\n",
        "\n",
        "Suppose we analyze 10 temperature measurements where 75 degrees appears 9\n",
        "times and 77 degrees appears just once. The full list of measurements is represented by `9 * [75] + [77]`."
      ],
      "metadata": {
        "id": "8UQaMLUfx6WK"
      }
    },
    {
      "cell_type": "code",
      "source": [
        "# Computing the weighted mean of duplicate values\n",
        "weighted_mean = np.average([75, 77], weights=[9, 1])\n",
        "print(f\"The mean is {weighted_mean}\")\n",
        "\n",
        "assert weighted_mean == np.mean(9 * [75] + [77]) == weighted_mean"
      ],
      "metadata": {
        "id": "wBJEYnjTyTQE",
        "outputId": "b224665c-e319-418f-9b6c-6fd58c4d6218",
        "colab": {
          "base_uri": "https://localhost:8080/"
        }
      },
      "execution_count": 23,
      "outputs": [
        {
          "output_type": "stream",
          "name": "stdout",
          "text": [
            "The mean is 75.2\n"
          ]
        }
      ]
    },
    {
      "cell_type": "markdown",
      "source": [
        "Computing the weighted mean serves as a shortcut for computing the regular mean\n",
        "when duplicates are present.\n",
        "\n",
        "In the computation, the relative ratio of unique measurement\n",
        "counts is represented by the ratio of the weights. \n",
        "\n",
        "Thus, even if we convert\n",
        "our absolute counts of 9 and 1 into relative weights of 900 and 100, the final value of\n",
        "`weighted_mean` should remain the same."
      ],
      "metadata": {
        "id": "MhQpaHW9y0iz"
      }
    },
    {
      "cell_type": "code",
      "source": [
        "# Computing the weighted mean of relative weights\n",
        "assert weighted_mean == np.average([75, 77], weights=[900, 100])\n",
        "assert weighted_mean == np.average([75, 77], weights=[0.9, 0.1])"
      ],
      "metadata": {
        "id": "bQhfmiuLy68V"
      },
      "execution_count": 24,
      "outputs": []
    },
    {
      "cell_type": "markdown",
      "source": [
        "**We can treat probabilities as weights.**\n",
        "\n",
        "Consequently, **this allows us to compute the\n",
        "mean of any probability distribution.**"
      ],
      "metadata": {
        "id": "RRmo0DSFzQ8t"
      }
    },
    {
      "cell_type": "markdown",
      "source": [
        "###The mean of a probability distribution"
      ],
      "metadata": {
        "id": "4VZonnf3zS95"
      }
    },
    {
      "cell_type": "markdown",
      "source": [
        "We are intimately familiar with the 20-coin-flip binomial distribution.\n",
        "The distribution’s peak is symmetrically centered at 10 heads. \n",
        "\n",
        "How does that peak compare to the distribution’s mean?\n",
        "\n",
        "We compute the mean by passing a probabilities array into the weights parameter of `np.average`.\n",
        "\n"
      ],
      "metadata": {
        "id": "xcS0Pqiezl-9"
      }
    },
    {
      "cell_type": "code",
      "source": [
        "# Computing the mean of a binomial distribution\n",
        "num_flips = 20\n",
        "interval_all_counts = range(num_flips + 1)\n",
        "probabilities = stats.binom.pmf(interval_all_counts, 20, prob_head)\n",
        "mean_binomial = np.average(interval_all_counts, weights=probabilities)\n",
        "print(f\"The mean of the binomial is {mean_binomial:.2f} heads\")\n",
        "\n",
        "plt.plot(interval_all_counts, probabilities)\n",
        "plt.axvline(mean_binomial, color=\"k\", linestyle=\"--\")\n",
        "plt.xlabel(\"Head-count\")\n",
        "plt.ylabel(\"Probability\")\n",
        "plt.show()"
      ],
      "metadata": {
        "id": "-sAaYGlE0H_T",
        "outputId": "7061e75e-41dc-40c0-da3a-a70a5c819cdb",
        "colab": {
          "base_uri": "https://localhost:8080/",
          "height": 0
        }
      },
      "execution_count": 25,
      "outputs": [
        {
          "output_type": "stream",
          "name": "stdout",
          "text": [
            "The mean of the binomial is 10.00 heads\n"
          ]
        },
        {
          "output_type": "display_data",
          "data": {
            "text/plain": [
              "<Figure size 432x288 with 1 Axes>"
            ],
            "image/png": "[encoded data removed]"
          },
          "metadata": {
            "needs_background": "light"
          }
        }
      ]
    },
    {
      "cell_type": "markdown",
      "source": [
        "The mean of the binomial is 10 heads. It cuts across the distribution’s central peak and\n",
        "perfectly captures the binomial’s centrality.\n",
        "\n",
        "The `stats.binom.mean` method takes as input two parameters: the number of coin flips and the probability\n",
        "of heads."
      ],
      "metadata": {
        "id": "lbRnRwyv307O"
      }
    },
    {
      "cell_type": "code",
      "source": [
        "# Computing the binomial mean using SciPy\n",
        "assert stats.binom.mean(num_flips, 0.5) == 10"
      ],
      "metadata": {
        "id": "xCYDnzrl4BxI"
      },
      "execution_count": 26,
      "outputs": []
    },
    {
      "cell_type": "markdown",
      "source": [
        "Using the `stats.binom.mean` method, we can rigorously analyze the relationship\n",
        "between binomial centrality and coin-flip count.\n",
        "\n",
        "Let’s plot the binomial mean across a\n",
        "range of coin-flip counts from 0 through 500."
      ],
      "metadata": {
        "id": "j8sRaDJp4S_A"
      }
    },
    {
      "cell_type": "code",
      "source": [
        "# Plotting multiple binomial means\n",
        "means = [stats.binom.mean(num_flips, 0.5) for num_flips in range(500)]\n",
        "\n",
        "plt.plot(range(500), means)\n",
        "plt.xlabel(\"Coin Flips\")\n",
        "plt.ylabel(\"Mean\")\n",
        "plt.show()"
      ],
      "metadata": {
        "id": "BouTismp4Oct",
        "outputId": "da4cffd8-27b6-4f82-a9dc-7d7757698888",
        "colab": {
          "base_uri": "https://localhost:8080/",
          "height": 0
        }
      },
      "execution_count": 27,
      "outputs": [
        {
          "output_type": "display_data",
          "data": {
            "text/plain": [
              "<Figure size 432x288 with 1 Axes>"
            ],
            "image/png": "[encoded data removed]"
          },
          "metadata": {
            "needs_background": "light"
          }
        }
      ]
    },
    {
      "cell_type": "markdown",
      "source": [
        "The coin-flip count and mean share a linear relationship in which the mean is equal\n",
        "to half the coin-flip count.\n",
        "\n",
        "With this in mind, let’s consider the mean of the single\n",
        "coin-flip binomial distribution (commonly called the Bernoulli distribution). The Bernoulli\n",
        "distribution has a coin-flip count of 1, so its mean is equal to 0.5."
      ],
      "metadata": {
        "id": "Im5tmFqX47Ej"
      }
    },
    {
      "cell_type": "code",
      "source": [
        "# Predicting the mean of a Bernoulli distribution\n",
        "num_flips = 1\n",
        "assert stats.binom.mean(num_flips, 0.5) == 0.5"
      ],
      "metadata": {
        "id": "NydfttBm4_eT"
      },
      "execution_count": 28,
      "outputs": []
    },
    {
      "cell_type": "code",
      "source": [
        "num_flips = 2\n",
        "assert stats.binom.mean(num_flips, 0.5) == 1"
      ],
      "metadata": {
        "id": "DlcYleE45Q6M"
      },
      "execution_count": 29,
      "outputs": []
    },
    {
      "cell_type": "markdown",
      "source": [
        "We can use the observed linear relationship to predict the mean of a 1,000-coin-flip\n",
        "distribution. \n",
        "\n",
        "We expect that mean to equal 500 and be positioned in the distribution’s\n",
        "center."
      ],
      "metadata": {
        "id": "b4BvePgz5acG"
      }
    },
    {
      "cell_type": "code",
      "source": [
        "# Predicting the mean of a 1,000-coin-flip distribution\n",
        "num_flips = 1000\n",
        "assert stats.binom.mean(num_flips, 0.5) == 500\n",
        "\n",
        "interval_all_counts = range(num_flips + 1)\n",
        "probabilities = stats.binom.pmf(interval_all_counts, num_flips, 0.5)\n",
        "mean_binomial = np.average(interval_all_counts, weights=probabilities)\n",
        "print(f\"The mean of the binomial is {mean_binomial:.2f} heads\")\n",
        "\n",
        "plt.plot(interval_all_counts, probabilities)\n",
        "plt.axvline(500, color=\"k\", linestyle=\"--\")\n",
        "plt.xlabel(\"Head-count\")\n",
        "plt.ylabel(\"Probability\")\n",
        "plt.show()"
      ],
      "metadata": {
        "id": "8jtwft6R5bq0",
        "outputId": "b1959a49-62e4-442d-d7b6-96139087ec7d",
        "colab": {
          "base_uri": "https://localhost:8080/",
          "height": 0
        }
      },
      "execution_count": 30,
      "outputs": [
        {
          "output_type": "stream",
          "name": "stdout",
          "text": [
            "The mean of the binomial is 500.00 heads\n"
          ]
        },
        {
          "output_type": "display_data",
          "data": {
            "text/plain": [
              "<Figure size 432x288 with 1 Axes>"
            ],
            "image/png": "[encoded data removed]"
          },
          "metadata": {
            "needs_background": "light"
          }
        }
      ]
    },
    {
      "cell_type": "markdown",
      "source": [
        "**A distribution’s mean serves as an excellent measure of centrality.**"
      ],
      "metadata": {
        "id": "byRzMr5a59Ev"
      }
    },
    {
      "cell_type": "markdown",
      "source": [
        "##Variance as a measure of dispersion"
      ],
      "metadata": {
        "id": "8hdbQTOB5-os"
      }
    },
    {
      "cell_type": "markdown",
      "source": [
        "Dispersion is the scattering of data points around some central value. A smaller dispersion\n",
        "indicates more predictable data. A larger dispersion indicates greater data fluctuations.\n",
        "\n",
        "Consider a scenario where we measure summer temperatures in California\n",
        "and Kentucky. We gather three measurements for each state, at random locations. California\n",
        "is a huge state, with very diverse climates, so we expect to see fluctuations in\n",
        "our measurements."
      ],
      "metadata": {
        "id": "lZmqYQI06Ari"
      }
    },
    {
      "cell_type": "code",
      "source": [
        "# Measuring the means of multiple temperature arrays\n",
        "california = np.array([52, 77, 96])\n",
        "kentucky = np.array([71, 75, 79])\n",
        "\n",
        "print(f\"Mean California temperature is {california.mean()}\")\n",
        "print(f\"Mean Kentucky temperature is {kentucky.mean()}\")"
      ],
      "metadata": {
        "id": "dN75SaWwDLTb",
        "outputId": "ba52434f-74e1-4b52-d6ed-3d1effe70ad4",
        "colab": {
          "base_uri": "https://localhost:8080/"
        }
      },
      "execution_count": 31,
      "outputs": [
        {
          "output_type": "stream",
          "name": "stdout",
          "text": [
            "Mean California temperature is 75.0\n",
            "Mean Kentucky temperature is 75.0\n"
          ]
        }
      ]
    },
    {
      "cell_type": "markdown",
      "source": [
        "The means of the two measurement arrays both equal 75. California and Kentucky\n",
        "appear to share the same central temperature value. Despite this, the two measurement\n",
        "arrays are far from equal."
      ],
      "metadata": {
        "id": "6jY5ep7-Dohl"
      }
    },
    {
      "cell_type": "code",
      "source": [
        "# Visualizing the difference in dispersion\n",
        "plt.plot(range(3), california, color=\"b\", label=\"California\")\n",
        "plt.scatter(range(3), california, color=\"b\")\n",
        "\n",
        "plt.plot(range(3), kentucky, color=\"r\", label=\"Kentucky\")\n",
        "plt.scatter(range(3), kentucky, color=\"r\")\n",
        "\n",
        "plt.axhline(75, color=\"g\", linestyle=\"--\", label=\"Mean\")\n",
        "plt.legend()\n",
        "plt.show()"
      ],
      "metadata": {
        "id": "t9I1YNh9D2jy",
        "outputId": "93e2cd39-6566-4c34-f4c9-5046ecd2800d",
        "colab": {
          "base_uri": "https://localhost:8080/",
          "height": 265
        }
      },
      "execution_count": 32,
      "outputs": [
        {
          "output_type": "display_data",
          "data": {
            "text/plain": [
              "<Figure size 432x288 with 1 Axes>"
            ],
            "image/png": "[encoded data removed]"
          },
          "metadata": {
            "needs_background": "light"
          }
        }
      ]
    },
    {
      "cell_type": "markdown",
      "source": [
        "Within the plot, the three Kentucky temperatures nearly overlap with the flat mean.\n",
        "Meanwhile, the majority of California temperatures are noticeably more distant from\n",
        "the mean.\n",
        "\n",
        "We can quantify these observations if we penalize the California measurements\n",
        "for being too distant from their center.\n",
        "\n",
        "Now we’ll compute the sum of squared\n",
        "distances between the California measurements and their mean. \n",
        "\n",
        "Statisticians refer to\n",
        "the sum of squared distances from the mean as simply the sum of squares."
      ],
      "metadata": {
        "id": "fCdRa1eCD16R"
      }
    },
    {
      "cell_type": "code",
      "source": [
        "# Computing California’s sum of squares\n",
        "def sum_of_squares(data):\n",
        "  mean = np.mean(data)\n",
        "  return sum(squared_distance(value, mean) for value in data)"
      ],
      "metadata": {
        "id": "tDaVoYj9E2mH"
      },
      "execution_count": 33,
      "outputs": []
    },
    {
      "cell_type": "code",
      "source": [
        "california_sum_squares = sum_of_squares(california)\n",
        "print(f\"California's sum of squares is {california_sum_squares}\")"
      ],
      "metadata": {
        "id": "0UZ4fW0vFEJi",
        "outputId": "1b11c26b-dc20-4eba-91e1-21ffef4920a7",
        "colab": {
          "base_uri": "https://localhost:8080/"
        }
      },
      "execution_count": 34,
      "outputs": [
        {
          "output_type": "stream",
          "name": "stdout",
          "text": [
            "California's sum of squares is 974.0\n"
          ]
        }
      ]
    },
    {
      "cell_type": "code",
      "source": [
        "# Computing Kentucky’s sum of squares\n",
        "kentucky_sum_squares = sum_of_squares(kentucky)\n",
        "print(f\"Kentucky's sum of squares is {kentucky_sum_squares}\")"
      ],
      "metadata": {
        "id": "Afj2d6ZJFRVc",
        "outputId": "3688c3b9-f58f-4a1e-e552-c89b1b4c539b",
        "colab": {
          "base_uri": "https://localhost:8080/"
        }
      },
      "execution_count": 35,
      "outputs": [
        {
          "output_type": "stream",
          "name": "stdout",
          "text": [
            "Kentucky's sum of squares is 32.0\n"
          ]
        }
      ]
    },
    {
      "cell_type": "markdown",
      "source": [
        "Thus, we see a thirtyfold difference between our\n",
        "California results and our Kentucky calculations. This isn’t surprising, because the\n",
        "Kentucky data points are much less dispersed.\n",
        "\n",
        "The sum of squares helps measure\n",
        "that dispersion—however, the measurement is not perfect.\n",
        "\n",
        "Suppose we duplicate the\n",
        "temperatures in the California array by recording each temperature twice. The level\n",
        "of dispersion will remain the same even though the sum of squares will double."
      ],
      "metadata": {
        "id": "aLz2oGL1Fk3e"
      }
    },
    {
      "cell_type": "code",
      "source": [
        "# Computing sum of squares after array duplication\n",
        "california_duplicated = np.array(california.tolist() * 2)\n",
        "duplicated_sum_squares = sum_of_squares(california_duplicated)\n",
        "\n",
        "print(f\"Duplicated California sum of squares is {duplicated_sum_squares}\")\n",
        "assert duplicated_sum_squares == 2 * california_sum_squares"
      ],
      "metadata": {
        "id": "jY88jAl_Fu3-",
        "outputId": "c7e6c9a8-3a52-471d-e950-6aa7e908da8c",
        "colab": {
          "base_uri": "https://localhost:8080/"
        }
      },
      "execution_count": 36,
      "outputs": [
        {
          "output_type": "stream",
          "name": "stdout",
          "text": [
            "Duplicated California sum of squares is 1948.0\n"
          ]
        }
      ]
    },
    {
      "cell_type": "markdown",
      "source": [
        "The sum of squares is not a good measure of dispersion because it’s influenced by\n",
        "the size of the inputted array. \n",
        "\n",
        "Fortunately, that influence is easy to eliminate if we\n",
        "divide the sum of squares by the array size."
      ],
      "metadata": {
        "id": "inz3Jw0kGSQn"
      }
    },
    {
      "cell_type": "code",
      "source": [
        "# Dividing sum of squares by array size\n",
        "value1 = california_sum_squares / california.size\n",
        "value2 = duplicated_sum_squares / california_duplicated.size\n",
        "\n",
        "assert value1 == value2"
      ],
      "metadata": {
        "id": "LJdINO5WGTYA"
      },
      "execution_count": 38,
      "outputs": []
    },
    {
      "cell_type": "markdown",
      "source": [
        "Dividing the sum of squares by the number of measurements produces what statisticians\n",
        "call the variance. \n",
        "\n",
        "Conceptually, the variance is equal to the average squared distance\n",
        "from the mean."
      ],
      "metadata": {
        "id": "RVehFQ1CGtF8"
      }
    },
    {
      "cell_type": "code",
      "source": [
        "# Computing the variance from mean squared distance\n",
        "def variance(data):\n",
        "  mean = np.mean(data)\n",
        "  return np.mean([squared_distance(value, mean) for value in data])"
      ],
      "metadata": {
        "id": "pzYCLWTBGzKk"
      },
      "execution_count": 39,
      "outputs": []
    },
    {
      "cell_type": "code",
      "source": [
        "assert variance(california) == california_sum_squares / california.size"
      ],
      "metadata": {
        "id": "_I8J67UrHCQ_"
      },
      "execution_count": 40,
      "outputs": []
    },
    {
      "cell_type": "markdown",
      "source": [
        "The variances for the california and california_duplicated arrays are equal since\n",
        "their levels of dispersion are identical."
      ],
      "metadata": {
        "id": "B4CHUlvBHR4f"
      }
    },
    {
      "cell_type": "code",
      "source": [
        "assert variance(california) == variance(california_duplicated)"
      ],
      "metadata": {
        "id": "KvvrSer9HSV-"
      },
      "execution_count": 42,
      "outputs": []
    },
    {
      "cell_type": "code",
      "source": [
        "assert variance(california_duplicated) == duplicated_sum_squares / california_duplicated.size"
      ],
      "metadata": {
        "id": "GqiQkBkvHrpZ"
      },
      "execution_count": 43,
      "outputs": []
    }
  ]
}