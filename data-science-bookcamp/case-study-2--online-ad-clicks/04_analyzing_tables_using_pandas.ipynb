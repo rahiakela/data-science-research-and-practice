{
  "nbformat": 4,
  "nbformat_minor": 0,
  "metadata": {
    "colab": {
      "name": "04-analyzing-tables-using-pandas.ipynb",
      "provenance": [],
      "toc_visible": true,
      "authorship_tag": "ABX9TyPBIdZjLLINHha9JCnVH4Do",
      "include_colab_link": true
    },
    "kernelspec": {
      "name": "python3",
      "display_name": "Python 3"
    },
    "language_info": {
      "name": "python"
    }
  },
  "cells": [
    {
      "cell_type": "markdown",
      "metadata": {
        "id": "view-in-github",
        "colab_type": "text"
      },
      "source": [
        "<a href=\"https://colab.research.google.com/github/rahiakela/data-science-research-and-practice/blob/main/data-science-bookcamp/case-study-2--online-ad-clicks/04_analyzing_tables_using_pandas.ipynb\" target=\"_parent\"><img src=\"https://colab.research.google.com/assets/colab-badge.svg\" alt=\"Open In Colab\"/></a>"
      ]
    },
    {
      "cell_type": "markdown",
      "source": [
        "##Analyzing tables using Pandas"
      ],
      "metadata": {
        "id": "lXfEhVXLMk9J"
      }
    },
    {
      "cell_type": "markdown",
      "source": [
        "Data tables are commonly used to store information.\n",
        "\n",
        "The formatting of a table isn’t\n",
        "important. What is important is its structure. All tables have structural features in\n",
        "common: every table contains horizontal rows and vertical columns, and quite\n",
        "often, column headers also hold explicit column names."
      ],
      "metadata": {
        "id": "yeFtviJ0NOTv"
      }
    },
    {
      "cell_type": "markdown",
      "source": [
        "##Setup"
      ],
      "metadata": {
        "id": "acuDtWwtNO7R"
      }
    },
    {
      "cell_type": "code",
      "source": [
        "from collections import defaultdict\n",
        "import itertools\n",
        "\n",
        "import numpy as np\n",
        "import pandas as pd\n",
        "from scipy import stats\n",
        "import math\n",
        "\n",
        "import seaborn as sns\n",
        "import matplotlib.pyplot as plt"
      ],
      "metadata": {
        "id": "s5coLXNNNQET"
      },
      "execution_count": 45,
      "outputs": []
    },
    {
      "cell_type": "code",
      "source": [
        "# Penalizing centers using the squared distance from the minimum\n",
        "def squared_distance(value1, value2):\n",
        "  return (value1 - value2) ** 2"
      ],
      "metadata": {
        "id": "1hjYBTl1VbYJ"
      },
      "execution_count": 2,
      "outputs": []
    },
    {
      "cell_type": "code",
      "source": [
        "# Penalizing centers using the total sum of squared distances\n",
        "def sum_of_squared_distances(value, measurements):\n",
        "  return sum(squared_distance(value, m) for m in measurements)"
      ],
      "metadata": {
        "id": "n9UZBH__Vd7Y"
      },
      "execution_count": 3,
      "outputs": []
    },
    {
      "cell_type": "code",
      "source": [
        "# Computing California’s sum of squares\n",
        "def sum_of_squares(data):\n",
        "  mean = np.mean(data)\n",
        "  return sum(squared_distance(value, mean) for value in data)"
      ],
      "metadata": {
        "id": "ZsP4lR9-VlFZ"
      },
      "execution_count": 4,
      "outputs": []
    },
    {
      "cell_type": "code",
      "source": [
        "# Computing the variance from mean squared distance\n",
        "def variance(data):\n",
        "  mean = np.mean(data)\n",
        "  return np.mean([squared_distance(value, mean) for value in data])"
      ],
      "metadata": {
        "id": "w8f59ySaVovY"
      },
      "execution_count": 5,
      "outputs": []
    },
    {
      "cell_type": "code",
      "source": [
        "# Computing the weighted variance using np.average\n",
        "def weighted_variance(data, weights):\n",
        "  mean = np.average(data, weights=weights)\n",
        "  squared_distances = [squared_distance(value, mean) for value in data]\n",
        "  return np.average(squared_distances, weights=weights)\n",
        "\n",
        "assert weighted_variance([75, 77], [9, 1]) == np.var(9 * [75] + [77])"
      ],
      "metadata": {
        "id": "AXJEhi-gVrsN"
      },
      "execution_count": 6,
      "outputs": []
    },
    {
      "cell_type": "markdown",
      "source": [
        "##Storing tables using basic Python"
      ],
      "metadata": {
        "id": "pnz1cgiEOMj8"
      }
    },
    {
      "cell_type": "markdown",
      "source": [
        "Let’s define a sample table in Python. The table stores measurements for various species\n",
        "of fish, in centimeters. \n",
        "\n",
        "Our measurement table contains three columns: Fish,\n",
        "Length, and Width."
      ],
      "metadata": {
        "id": "bwOW8afWOPkG"
      }
    },
    {
      "cell_type": "code",
      "source": [
        "# Storing a table using Python data structures\n",
        "fish_measures = {\n",
        "    \"Fish\": [\"Angelfish\", \"Zebrafish\", \"Killifish\", \"Swordtail\"],\n",
        "    \"Length\": [15.2, 6.5, 9, 6],\n",
        "    \"Width\": [7.7, 2.1, 4.5, 2]\n",
        "}"
      ],
      "metadata": {
        "id": "78cmAma-Oimt"
      },
      "execution_count": 7,
      "outputs": []
    },
    {
      "cell_type": "code",
      "source": [
        "# Accessing table columns using a dictionary\n",
        "zebrafish_index = fish_measures[\"Fish\"].index(\"Zebrafish\")\n",
        "zebrafish_length = fish_measures[\"Length\"][zebrafish_index]\n",
        "\n",
        "print(f\"The length of a zebrafish is {zebrafish_length:.2f} cm\")"
      ],
      "metadata": {
        "id": "z63R26UkPMgU",
        "colab": {
          "base_uri": "https://localhost:8080/"
        },
        "outputId": "84444b9b-ac16-4e28-cf6c-76e49443be5a"
      },
      "execution_count": 8,
      "outputs": [
        {
          "output_type": "stream",
          "name": "stdout",
          "text": [
            "The length of a zebrafish is 6.50 cm\n"
          ]
        }
      ]
    },
    {
      "cell_type": "markdown",
      "source": [
        "A better solution\n",
        "is provided by the Pandas library, which is designed for table manipulation."
      ],
      "metadata": {
        "id": "GQXw26NkTwM9"
      }
    },
    {
      "cell_type": "markdown",
      "source": [
        "##Exploring tables using Pandas"
      ],
      "metadata": {
        "id": "qh_SENDZyC3p"
      }
    },
    {
      "cell_type": "code",
      "source": [
        "# Loading a table into Pandas\n",
        "df = pd.DataFrame(fish_measures)\n",
        "print(df)"
      ],
      "metadata": {
        "id": "UIfrfox0hhAi",
        "outputId": "4fd8a9ff-5a14-445a-952e-fbd9ceb0e471",
        "colab": {
          "base_uri": "https://localhost:8080/"
        }
      },
      "execution_count": 9,
      "outputs": [
        {
          "output_type": "stream",
          "name": "stdout",
          "text": [
            "        Fish  Length  Width\n",
            "0  Angelfish    15.2    7.7\n",
            "1  Zebrafish     6.5    2.1\n",
            "2  Killifish     9.0    4.5\n",
            "3  Swordtail     6.0    2.0\n"
          ]
        }
      ]
    },
    {
      "cell_type": "code",
      "source": [
        "# Accessing the first two rows of a table\n",
        "print(df.head(2))"
      ],
      "metadata": {
        "id": "N_PAEtSCc7Cg",
        "outputId": "c1e96f25-0fe9-4ad2-8de2-d6aacaa09546",
        "colab": {
          "base_uri": "https://localhost:8080/"
        }
      },
      "execution_count": 10,
      "outputs": [
        {
          "output_type": "stream",
          "name": "stdout",
          "text": [
            "        Fish  Length  Width\n",
            "0  Angelfish    15.2    7.7\n",
            "1  Zebrafish     6.5    2.1\n"
          ]
        }
      ]
    },
    {
      "cell_type": "code",
      "source": [
        "# Summarizing the numeric columns\n",
        "print(df.describe())"
      ],
      "metadata": {
        "id": "x9TbbWQDdd24",
        "outputId": "a38a2a4a-62cc-46d0-8bbb-9cc293df2983",
        "colab": {
          "base_uri": "https://localhost:8080/"
        }
      },
      "execution_count": 11,
      "outputs": [
        {
          "output_type": "stream",
          "name": "stdout",
          "text": [
            "          Length     Width\n",
            "count   4.000000  4.000000\n",
            "mean    9.175000  4.075000\n",
            "std     4.225616  2.678775\n",
            "min     6.000000  2.000000\n",
            "25%     6.375000  2.075000\n",
            "50%     7.750000  3.300000\n",
            "75%    10.550000  5.300000\n",
            "max    15.200000  7.700000\n"
          ]
        }
      ]
    },
    {
      "cell_type": "code",
      "source": [
        "# Computing the column mean\n",
        "print(df.mean())"
      ],
      "metadata": {
        "id": "qprIn72aluXr",
        "colab": {
          "base_uri": "https://localhost:8080/"
        },
        "outputId": "04d35178-ce39-47db-cc39-f84613ff8796"
      },
      "execution_count": 12,
      "outputs": [
        {
          "output_type": "stream",
          "name": "stdout",
          "text": [
            "Length    9.175\n",
            "Width     4.075\n",
            "dtype: float64\n"
          ]
        },
        {
          "output_type": "stream",
          "name": "stderr",
          "text": [
            "/usr/local/lib/python3.7/dist-packages/ipykernel_launcher.py:2: FutureWarning: Dropping of nuisance columns in DataFrame reductions (with 'numeric_only=None') is deprecated; in a future version this will raise TypeError.  Select only valid columns before calling the reduction.\n",
            "  \n"
          ]
        }
      ]
    },
    {
      "cell_type": "code",
      "source": [
        "# Summarizing the string columns\n",
        "print(df.describe(include=[object]))"
      ],
      "metadata": {
        "id": "KLFIHVnCl3VH",
        "outputId": "d3d42d0f-4e37-4c74-eed6-f2c40d296a09",
        "colab": {
          "base_uri": "https://localhost:8080/"
        }
      },
      "execution_count": 13,
      "outputs": [
        {
          "output_type": "stream",
          "name": "stdout",
          "text": [
            "             Fish\n",
            "count           4\n",
            "unique          4\n",
            "top     Angelfish\n",
            "freq            1\n"
          ]
        }
      ]
    },
    {
      "cell_type": "code",
      "source": [
        "# Retrieving the table as a 2D NumPy array\n",
        "print(df.values)"
      ],
      "metadata": {
        "colab": {
          "base_uri": "https://localhost:8080/"
        },
        "id": "3O2BJ6X3fPnX",
        "outputId": "2d592b7a-527b-4b89-cb3c-264ddbc4a865"
      },
      "execution_count": 14,
      "outputs": [
        {
          "output_type": "stream",
          "name": "stdout",
          "text": [
            "[['Angelfish' 15.2 7.7]\n",
            " ['Zebrafish' 6.5 2.1]\n",
            " ['Killifish' 9.0 4.5]\n",
            " ['Swordtail' 6.0 2.0]]\n"
          ]
        }
      ]
    },
    {
      "cell_type": "code",
      "source": [
        "assert type(df.values) == np.ndarray"
      ],
      "metadata": {
        "id": "QWD1zaIrfU6l"
      },
      "execution_count": 15,
      "outputs": []
    },
    {
      "cell_type": "markdown",
      "source": [
        "##Retrieving table columns"
      ],
      "metadata": {
        "id": "T7D6gqvMmPXi"
      }
    },
    {
      "cell_type": "markdown",
      "source": [
        "Let’s turn our attention to retrieving individual columns, which can be accessed\n",
        "using their column names."
      ],
      "metadata": {
        "id": "OK-nhviFkbeI"
      }
    },
    {
      "cell_type": "code",
      "source": [
        "# Accessing all column names\n",
        "print(df.columns)"
      ],
      "metadata": {
        "id": "R2fUqV4qmQbl",
        "outputId": "1372d7f8-4298-4245-905d-3603aad637f6",
        "colab": {
          "base_uri": "https://localhost:8080/"
        }
      },
      "execution_count": 16,
      "outputs": [
        {
          "output_type": "stream",
          "name": "stdout",
          "text": [
            "Index(['Fish', 'Length', 'Width'], dtype='object')\n"
          ]
        }
      ]
    },
    {
      "cell_type": "code",
      "source": [
        "# Accessing an individual column\n",
        "print(df.Fish)"
      ],
      "metadata": {
        "id": "TIOvZ6e6kkcw",
        "outputId": "50c7edff-0dd6-45e9-ce63-e8cd97de3924",
        "colab": {
          "base_uri": "https://localhost:8080/"
        }
      },
      "execution_count": 17,
      "outputs": [
        {
          "output_type": "stream",
          "name": "stdout",
          "text": [
            "0    Angelfish\n",
            "1    Zebrafish\n",
            "2    Killifish\n",
            "3    Swordtail\n",
            "Name: Fish, dtype: object\n"
          ]
        }
      ]
    },
    {
      "cell_type": "code",
      "source": [
        "print(df.Length)"
      ],
      "metadata": {
        "id": "q2XMsy2DkqcU",
        "outputId": "58d11c7b-3e53-4f44-a43e-0e5be5780483",
        "colab": {
          "base_uri": "https://localhost:8080/"
        }
      },
      "execution_count": 18,
      "outputs": [
        {
          "output_type": "stream",
          "name": "stdout",
          "text": [
            "0    15.2\n",
            "1     6.5\n",
            "2     9.0\n",
            "3     6.0\n",
            "Name: Length, dtype: float64\n"
          ]
        }
      ]
    },
    {
      "cell_type": "code",
      "source": [
        "# Retrieving a column as a NumPy array\n",
        "print(df.Fish.values)"
      ],
      "metadata": {
        "id": "cWGxRCAwk0td",
        "outputId": "ab95c095-6012-495b-d042-723a2fd35ab4",
        "colab": {
          "base_uri": "https://localhost:8080/"
        }
      },
      "execution_count": 19,
      "outputs": [
        {
          "output_type": "stream",
          "name": "stdout",
          "text": [
            "['Angelfish' 'Zebrafish' 'Killifish' 'Swordtail']\n"
          ]
        }
      ]
    },
    {
      "cell_type": "code",
      "source": [
        "# Accessing a column using brackets\n",
        "print(df[\"Fish\"])"
      ],
      "metadata": {
        "id": "1Y2C66HLk88B",
        "outputId": "bfc07b97-0122-492d-c10f-56f037022331",
        "colab": {
          "base_uri": "https://localhost:8080/"
        }
      },
      "execution_count": 20,
      "outputs": [
        {
          "output_type": "stream",
          "name": "stdout",
          "text": [
            "0    Angelfish\n",
            "1    Zebrafish\n",
            "2    Killifish\n",
            "3    Swordtail\n",
            "Name: Fish, dtype: object\n"
          ]
        }
      ]
    },
    {
      "cell_type": "code",
      "source": [
        "# Accessing multiple columns using brackets\n",
        "print(df[[\"Fish\", \"Length\"]])"
      ],
      "metadata": {
        "id": "rY16wTGwlCP3",
        "outputId": "42ecdddc-1eb3-445a-a486-86f3f912a60b",
        "colab": {
          "base_uri": "https://localhost:8080/"
        }
      },
      "execution_count": 21,
      "outputs": [
        {
          "output_type": "stream",
          "name": "stdout",
          "text": [
            "        Fish  Length\n",
            "0  Angelfish    15.2\n",
            "1  Zebrafish     6.5\n",
            "2  Killifish     9.0\n",
            "3  Swordtail     6.0\n"
          ]
        }
      ]
    },
    {
      "cell_type": "code",
      "source": [
        "# Sorting rows by column value\n",
        "print(df.sort_values(\"Length\"))"
      ],
      "metadata": {
        "id": "VyZi46ZzlHhV",
        "outputId": "8f80dd04-e746-4607-fcc6-82479c2bf7d2",
        "colab": {
          "base_uri": "https://localhost:8080/"
        }
      },
      "execution_count": 22,
      "outputs": [
        {
          "output_type": "stream",
          "name": "stdout",
          "text": [
            "        Fish  Length  Width\n",
            "3  Swordtail     6.0    2.0\n",
            "1  Zebrafish     6.5    2.1\n",
            "2  Killifish     9.0    4.5\n",
            "0  Angelfish    15.2    7.7\n"
          ]
        }
      ]
    },
    {
      "cell_type": "code",
      "source": [
        "# Filtering rows by column value\n",
        "print(df[df.Width >= 3])"
      ],
      "metadata": {
        "id": "D_Ek6dQIlVDI",
        "outputId": "8f73ac9c-6aa1-4134-b5f1-11320b959ae3",
        "colab": {
          "base_uri": "https://localhost:8080/"
        }
      },
      "execution_count": 23,
      "outputs": [
        {
          "output_type": "stream",
          "name": "stdout",
          "text": [
            "        Fish  Length  Width\n",
            "0  Angelfish    15.2    7.7\n",
            "2  Killifish     9.0    4.5\n"
          ]
        }
      ]
    },
    {
      "cell_type": "markdown",
      "source": [
        "##Retrieving table rows"
      ],
      "metadata": {
        "id": "F1o5HrBule4L"
      }
    },
    {
      "cell_type": "markdown",
      "source": [
        "Unlike columns, our rows do\n",
        "not have preassigned label values. \n",
        "\n",
        "To compensate, Pandas assigns a special index to each row.\n",
        "\n",
        "As a general\n",
        "rule, executing `df.loc[[index_list]]` locates all the rows whose indices\n",
        "appear in `index_list`."
      ],
      "metadata": {
        "id": "BejsSGWclfkD"
      }
    },
    {
      "cell_type": "code",
      "source": [
        "print(df)"
      ],
      "metadata": {
        "id": "XMKDD1CgmDYM",
        "outputId": "1b1d9975-5cf6-4a29-9c38-4f8e39544dcf",
        "colab": {
          "base_uri": "https://localhost:8080/"
        }
      },
      "execution_count": 24,
      "outputs": [
        {
          "output_type": "stream",
          "name": "stdout",
          "text": [
            "        Fish  Length  Width\n",
            "0  Angelfish    15.2    7.7\n",
            "1  Zebrafish     6.5    2.1\n",
            "2  Killifish     9.0    4.5\n",
            "3  Swordtail     6.0    2.0\n"
          ]
        }
      ]
    },
    {
      "cell_type": "code",
      "source": [
        "# Accessing rows by index\n",
        "print(df.loc[[0, 3]])"
      ],
      "metadata": {
        "id": "TpORe50Zlmw1",
        "outputId": "2d6ba8eb-40db-4ac5-e0d3-d00cd1780dd2",
        "colab": {
          "base_uri": "https://localhost:8080/"
        }
      },
      "execution_count": 25,
      "outputs": [
        {
          "output_type": "stream",
          "name": "stdout",
          "text": [
            "        Fish  Length  Width\n",
            "0  Angelfish    15.2    7.7\n",
            "3  Swordtail     6.0    2.0\n"
          ]
        }
      ]
    },
    {
      "cell_type": "code",
      "source": [
        "print(df.loc[[2, 3]])"
      ],
      "metadata": {
        "id": "Q10MIF_2l7p_",
        "outputId": "b9b6216b-f857-42fd-c3d9-8443f966748a",
        "colab": {
          "base_uri": "https://localhost:8080/"
        }
      },
      "execution_count": 26,
      "outputs": [
        {
          "output_type": "stream",
          "name": "stdout",
          "text": [
            "        Fish  Length  Width\n",
            "2  Killifish     9.0    4.5\n",
            "3  Swordtail     6.0    2.0\n"
          ]
        }
      ]
    },
    {
      "cell_type": "code",
      "source": [
        "# Accessing rows by column value\n",
        "booleans = [name in [\"Angelfish\", \"Swordtail\"] for name in df.Fish]\n",
        "print(df[booleans])"
      ],
      "metadata": {
        "id": "KY0q8trtmP-x",
        "outputId": "f436366b-b888-4db5-83bb-3eb8b2180bf5",
        "colab": {
          "base_uri": "https://localhost:8080/"
        }
      },
      "execution_count": 27,
      "outputs": [
        {
          "output_type": "stream",
          "name": "stdout",
          "text": [
            "        Fish  Length  Width\n",
            "0  Angelfish    15.2    7.7\n",
            "3  Swordtail     6.0    2.0\n"
          ]
        }
      ]
    },
    {
      "cell_type": "code",
      "source": [
        "# Accessing rows by column value\n",
        "print(df[df.Fish.isin([\"Angelfish\", \"Swordtail\"])])"
      ],
      "metadata": {
        "id": "mG2rhVuHmjgV",
        "outputId": "c622463f-e5b8-4cfc-fc58-ee018d29b115",
        "colab": {
          "base_uri": "https://localhost:8080/"
        }
      },
      "execution_count": 28,
      "outputs": [
        {
          "output_type": "stream",
          "name": "stdout",
          "text": [
            "        Fish  Length  Width\n",
            "0  Angelfish    15.2    7.7\n",
            "3  Swordtail     6.0    2.0\n"
          ]
        }
      ]
    },
    {
      "cell_type": "code",
      "source": [
        "# Swapping row indices for column values\n",
        "df.set_index(\"Fish\", inplace=True)\n",
        "print(df)"
      ],
      "metadata": {
        "id": "fdjUVqLGmvqf",
        "outputId": "26217ee3-ce5f-4a4a-cb99-ed4c6c178ebd",
        "colab": {
          "base_uri": "https://localhost:8080/"
        }
      },
      "execution_count": 29,
      "outputs": [
        {
          "output_type": "stream",
          "name": "stdout",
          "text": [
            "           Length  Width\n",
            "Fish                    \n",
            "Angelfish    15.2    7.7\n",
            "Zebrafish     6.5    2.1\n",
            "Killifish     9.0    4.5\n",
            "Swordtail     6.0    2.0\n"
          ]
        }
      ]
    },
    {
      "cell_type": "code",
      "source": [
        "# Accessing rows by string index\n",
        "print(df.loc[[\"Angelfish\", \"Swordtail\"]])"
      ],
      "metadata": {
        "id": "3kgLdF9Um6i1",
        "outputId": "64127651-3893-4e2d-ab0f-572f2154247c",
        "colab": {
          "base_uri": "https://localhost:8080/"
        }
      },
      "execution_count": 30,
      "outputs": [
        {
          "output_type": "stream",
          "name": "stdout",
          "text": [
            "           Length  Width\n",
            "Fish                    \n",
            "Angelfish    15.2    7.7\n",
            "Swordtail     6.0    2.0\n"
          ]
        }
      ]
    },
    {
      "cell_type": "markdown",
      "source": [
        "##Modifying table rows and columns"
      ],
      "metadata": {
        "id": "Y2J_WlhgnFJ9"
      }
    },
    {
      "cell_type": "markdown",
      "source": [
        "What will happen if we swap our rows and columns? \n",
        "\n",
        "We can find out by running `df.T`. The `T`\n",
        "stands for transpose: in a transpose operation, the elements of a table are flipped around its diagonal so that the rows and columns are switched."
      ],
      "metadata": {
        "id": "14mP9RaPnFyD"
      }
    },
    {
      "cell_type": "code",
      "source": [
        "# Swapping rows and columns\n",
        "df_transposed = df.T\n",
        "print(df_transposed)"
      ],
      "metadata": {
        "id": "Gdw0QGk2s76Y",
        "outputId": "0ffdaf03-84c5-46d8-db75-64e25215fab5",
        "colab": {
          "base_uri": "https://localhost:8080/"
        }
      },
      "execution_count": 31,
      "outputs": [
        {
          "output_type": "stream",
          "name": "stdout",
          "text": [
            "Fish    Angelfish  Zebrafish  Killifish  Swordtail\n",
            "Length       15.2        6.5        9.0        6.0\n",
            "Width         7.7        2.1        4.5        2.0\n"
          ]
        }
      ]
    },
    {
      "cell_type": "code",
      "source": [
        "# Printing a transposed column\n",
        "print(df_transposed.Swordtail)"
      ],
      "metadata": {
        "id": "ByJDpBVTtE3V",
        "outputId": "4960532b-37ea-4ce6-ebd6-e537edbeb047",
        "colab": {
          "base_uri": "https://localhost:8080/"
        }
      },
      "execution_count": 32,
      "outputs": [
        {
          "output_type": "stream",
          "name": "stdout",
          "text": [
            "Length    6.0\n",
            "Width     2.0\n",
            "Name: Swordtail, dtype: float64\n"
          ]
        }
      ]
    },
    {
      "cell_type": "code",
      "source": [
        "# Adding a new column\n",
        "df_transposed[\"Clownfish\"] = [10.6, 3.7]\n",
        "print(df_transposed)"
      ],
      "metadata": {
        "id": "s6aV1OsAtPxj",
        "outputId": "1678a7e4-d1a6-483a-c86e-34400aafd937",
        "colab": {
          "base_uri": "https://localhost:8080/"
        }
      },
      "execution_count": 33,
      "outputs": [
        {
          "output_type": "stream",
          "name": "stdout",
          "text": [
            "Fish    Angelfish  Zebrafish  Killifish  Swordtail  Clownfish\n",
            "Length       15.2        6.5        9.0        6.0       10.6\n",
            "Width         7.7        2.1        4.5        2.0        3.7\n"
          ]
        }
      ]
    },
    {
      "cell_type": "code",
      "source": [
        "# Adding multiple new columns\n",
        "df_new = df_transposed.assign(Clownfish2=[10.6, 3.7], Clownfish3=[10.6, 3.7])\n",
        "assert \"Clownfish2\" not in df_transposed.columns\n",
        "assert \"Clownfish2\" in df_new.columns\n",
        "\n",
        "print(df_new)"
      ],
      "metadata": {
        "id": "wpvQWEmbtdlE",
        "outputId": "40956976-46f3-414d-a7d4-4b1e15c1e3e4",
        "colab": {
          "base_uri": "https://localhost:8080/"
        }
      },
      "execution_count": 34,
      "outputs": [
        {
          "output_type": "stream",
          "name": "stdout",
          "text": [
            "Fish    Angelfish  Zebrafish  Killifish  Swordtail  Clownfish  Clownfish2  \\\n",
            "Length       15.2        6.5        9.0        6.0       10.6        10.6   \n",
            "Width         7.7        2.1        4.5        2.0        3.7         3.7   \n",
            "\n",
            "Fish    Clownfish3  \n",
            "Length        10.6  \n",
            "Width          3.7  \n"
          ]
        }
      ]
    },
    {
      "cell_type": "code",
      "source": [
        "# Deleting multiple columns\n",
        "df_new.drop(columns=[\"Clownfish2\", \"Clownfish3\"], inplace=True)"
      ],
      "metadata": {
        "id": "Xcqslo3vue4f"
      },
      "execution_count": 35,
      "outputs": []
    },
    {
      "cell_type": "code",
      "source": [
        "print(df_new)"
      ],
      "metadata": {
        "id": "jYUM4ZKhus75",
        "outputId": "8524f824-8aca-4ca9-ff35-b557a2fb68c8",
        "colab": {
          "base_uri": "https://localhost:8080/"
        }
      },
      "execution_count": 36,
      "outputs": [
        {
          "output_type": "stream",
          "name": "stdout",
          "text": [
            "Fish    Angelfish  Zebrafish  Killifish  Swordtail  Clownfish\n",
            "Length       15.2        6.5        9.0        6.0       10.6\n",
            "Width         7.7        2.1        4.5        2.0        3.7\n"
          ]
        }
      ]
    },
    {
      "cell_type": "code",
      "source": [
        "# Iterating over column values\n",
        "areas = []\n",
        "for fish_species, (length, width) in df_new.items():\n",
        "  area = math.pi * length * width / 4\n",
        "  print(f\"Area of {fish_species} is {area}\")\n",
        "  areas.append(area)"
      ],
      "metadata": {
        "id": "nRFg-afuvoaK",
        "outputId": "404a4326-7cc4-4bcc-f75e-d42f4c966997",
        "colab": {
          "base_uri": "https://localhost:8080/"
        }
      },
      "execution_count": 37,
      "outputs": [
        {
          "output_type": "stream",
          "name": "stdout",
          "text": [
            "Area of Angelfish is 91.92300104403735\n",
            "Area of Zebrafish is 10.720684930375171\n",
            "Area of Killifish is 31.808625617596654\n",
            "Area of Swordtail is 9.42477796076938\n",
            "Area of Clownfish is 30.80331596844792\n"
          ]
        }
      ]
    },
    {
      "cell_type": "code",
      "source": [
        "# Adding a new row\n",
        "df_new.loc[\"Area\"] = areas\n",
        "df_new.reindex()\n",
        "print(df_new)"
      ],
      "metadata": {
        "id": "VnG2UECOxL63",
        "outputId": "4abaa048-f6e5-4575-c014-38bdbdf88961",
        "colab": {
          "base_uri": "https://localhost:8080/"
        }
      },
      "execution_count": 38,
      "outputs": [
        {
          "output_type": "stream",
          "name": "stdout",
          "text": [
            "Fish    Angelfish  Zebrafish  Killifish  Swordtail  Clownfish\n",
            "Length  15.200000   6.500000   9.000000   6.000000  10.600000\n",
            "Width    7.700000   2.100000   4.500000   2.000000   3.700000\n",
            "Area    91.923001  10.720685  31.808626   9.424778  30.803316\n"
          ]
        }
      ]
    },
    {
      "cell_type": "code",
      "source": [
        "# Checking the table shape\n",
        "row_count, column_count = df_new.shape\n",
        "print(f\"Our table contains {row_count} rows and {column_count} columns\")"
      ],
      "metadata": {
        "id": "4uPZ5x1bxUDX",
        "outputId": "03030d56-d07b-455b-cc67-3702ad0f42a1",
        "colab": {
          "base_uri": "https://localhost:8080/"
        }
      },
      "execution_count": 39,
      "outputs": [
        {
          "output_type": "stream",
          "name": "stdout",
          "text": [
            "Our table contains 3 rows and 5 columns\n"
          ]
        }
      ]
    },
    {
      "cell_type": "markdown",
      "source": [
        "##Saving and loading table data"
      ],
      "metadata": {
        "id": "8sG5xurtxu5_"
      }
    },
    {
      "cell_type": "code",
      "source": [
        "# Saving a table to a CSV file\n",
        "df_new.to_csv(\"fish_measurements.csv\")\n",
        "\n",
        "with open(\"fish_measurements.csv\") as f:\n",
        "  print(f.read())"
      ],
      "metadata": {
        "id": "kkkltxeTxwNO",
        "outputId": "4c63fe8f-d01f-448c-ad9d-86ba82c90ca7",
        "colab": {
          "base_uri": "https://localhost:8080/"
        }
      },
      "execution_count": 40,
      "outputs": [
        {
          "output_type": "stream",
          "name": "stdout",
          "text": [
            ",Angelfish,Zebrafish,Killifish,Swordtail,Clownfish\n",
            "Length,15.2,6.5,9.0,6.0,10.6\n",
            "Width,7.7,2.1,4.5,2.0,3.7\n",
            "Area,91.92300104403735,10.720684930375171,31.808625617596654,9.42477796076938,30.80331596844792\n",
            "\n"
          ]
        }
      ]
    },
    {
      "cell_type": "code",
      "source": [
        "# Loading a table from a CSV file\n",
        "df = pd.read_csv(\"fish_measurements.csv\", index_col=0)\n",
        "print(df)"
      ],
      "metadata": {
        "id": "F8PVa8__HLLK",
        "outputId": "c6237316-2e4a-477d-ebf0-24dfae2f0a28",
        "colab": {
          "base_uri": "https://localhost:8080/"
        }
      },
      "execution_count": 41,
      "outputs": [
        {
          "output_type": "stream",
          "name": "stdout",
          "text": [
            "        Angelfish  Zebrafish  Killifish  Swordtail  Clownfish\n",
            "Length  15.200000   6.500000   9.000000   6.000000  10.600000\n",
            "Width    7.700000   2.100000   4.500000   2.000000   3.700000\n",
            "Area    91.923001  10.720685  31.808626   9.424778  30.803316\n"
          ]
        }
      ]
    },
    {
      "cell_type": "code",
      "source": [
        "print(\"\\nRow index names when column is assigned:\")\n",
        "print(df.index.values)"
      ],
      "metadata": {
        "id": "goBIpN-9HUcE",
        "outputId": "ca9ad18b-3802-4f0e-dbcc-8878ce2ca144",
        "colab": {
          "base_uri": "https://localhost:8080/"
        }
      },
      "execution_count": 42,
      "outputs": [
        {
          "output_type": "stream",
          "name": "stdout",
          "text": [
            "\n",
            "Row index names when column is assigned:\n",
            "['Length' 'Width' 'Area']\n"
          ]
        }
      ]
    },
    {
      "cell_type": "code",
      "source": [
        "df_no_assign = pd.read_csv(\"fish_measurements.csv\")\n",
        "print(\"\\nRow index names when no column is assigned:\")\n",
        "print(df_no_assign.index.values)"
      ],
      "metadata": {
        "id": "8UnB3CBTHc8h",
        "outputId": "616f06a4-3891-43ec-d00a-0eb92a654d93",
        "colab": {
          "base_uri": "https://localhost:8080/"
        }
      },
      "execution_count": 43,
      "outputs": [
        {
          "output_type": "stream",
          "name": "stdout",
          "text": [
            "\n",
            "Row index names when no column is assigned:\n",
            "[0 1 2]\n"
          ]
        }
      ]
    },
    {
      "cell_type": "markdown",
      "source": [
        "##Visualizing tables using Seaborn"
      ],
      "metadata": {
        "id": "5cjAORbhHyPS"
      }
    },
    {
      "cell_type": "markdown",
      "source": [
        "A heatmap is a graphical representation of a table in\n",
        "which numeric cells are colored by value; the color shades shift continuously depending\n",
        "on the value size. The end result is a bird’s-eye view of value differences in the table."
      ],
      "metadata": {
        "id": "DurSmGYbHy3X"
      }
    },
    {
      "cell_type": "code",
      "source": [
        "# Visualizing a heatmap using Seaborn\n",
        "sns.heatmap(df)\n",
        "plt.show()"
      ],
      "metadata": {
        "id": "tlzNpZ0XH3eC",
        "outputId": "de94aea9-1f3b-445c-b5e6-350cbe65cacf",
        "colab": {
          "base_uri": "https://localhost:8080/",
          "height": 265
        }
      },
      "execution_count": 46,
      "outputs": [
        {
          "output_type": "display_data",
          "data": {
            "text/plain": [
              "<Figure size 432x288 with 2 Axes>"
            ],
            "image/png": "[encoded data removed]"
          },
          "metadata": {
            "needs_background": "light"
          }
        }
      ]
    },
    {
      "cell_type": "code",
      "source": [
        "# Adjusting heatmap colors\n",
        "sns.heatmap(df, cmap=\"YlGnBu\")\n",
        "plt.show()"
      ],
      "metadata": {
        "id": "BhV5_6iBH-Ne",
        "outputId": "6dbb0be8-792d-4a4a-fd50-669bd7f2c249",
        "colab": {
          "base_uri": "https://localhost:8080/",
          "height": 265
        }
      },
      "execution_count": 47,
      "outputs": [
        {
          "output_type": "display_data",
          "data": {
            "text/plain": [
              "<Figure size 432x288 with 2 Axes>"
            ],
            "image/png": "[encoded data removed]"
          },
          "metadata": {
            "needs_background": "light"
          }
        }
      ]
    },
    {
      "cell_type": "code",
      "source": [
        "# Annotating the heatmap\n",
        "sns.heatmap(df, cmap=\"YlGnBu\", annot=True)\n",
        "plt.show()"
      ],
      "metadata": {
        "id": "Y9hzlQEEIPTT",
        "outputId": "208f2f76-be85-4abc-9cb6-41c959a2c312",
        "colab": {
          "base_uri": "https://localhost:8080/",
          "height": 265
        }
      },
      "execution_count": 48,
      "outputs": [
        {
          "output_type": "display_data",
          "data": {
            "text/plain": [
              "<Figure size 432x288 with 2 Axes>"
            ],
            "image/png": "[encoded data removed]"
          },
          "metadata": {
            "needs_background": "light"
          }
        }
      ]
    },
    {
      "cell_type": "code",
      "source": [
        "# Rotating heatmap labels using Matplotlib\n",
        "sns.heatmap(df, cmap=\"YlGnBu\", annot=True)\n",
        "plt.yticks(rotation=0)\n",
        "plt.show()"
      ],
      "metadata": {
        "id": "lnZzdE4OIZ03",
        "outputId": "65ff9979-6ab5-4618-9fab-6e396e08d1af",
        "colab": {
          "base_uri": "https://localhost:8080/",
          "height": 265
        }
      },
      "execution_count": 49,
      "outputs": [
        {
          "output_type": "display_data",
          "data": {
            "text/plain": [
              "<Figure size 432x288 with 2 Axes>"
            ],
            "image/png": "[encoded data removed]"
          },
          "metadata": {
            "needs_background": "light"
          }
        }
      ]
    },
    {
      "cell_type": "code",
      "source": [
        "# Visualizing a heatmap from a NumPy array\n",
        "sns.heatmap(df.values,   # df.values returns a 2D NumPy array\n",
        "            cmap=\"YlGnBu\", \n",
        "            annot=True,\n",
        "            xticklabels=df.columns,\n",
        "            yticklabels=df.index)\n",
        "plt.yticks(rotation=0)\n",
        "plt.show()"
      ],
      "metadata": {
        "id": "P655xNHzIsi6",
        "outputId": "98131c2e-6cb8-4abb-96b6-c7e1a77d144c",
        "colab": {
          "base_uri": "https://localhost:8080/",
          "height": 265
        }
      },
      "execution_count": 50,
      "outputs": [
        {
          "output_type": "display_data",
          "data": {
            "text/plain": [
              "<Figure size 432x288 with 2 Axes>"
            ],
            "image/png": "[encoded data removed]"
          },
          "metadata": {
            "needs_background": "light"
          }
        }
      ]
    }
  ]
}