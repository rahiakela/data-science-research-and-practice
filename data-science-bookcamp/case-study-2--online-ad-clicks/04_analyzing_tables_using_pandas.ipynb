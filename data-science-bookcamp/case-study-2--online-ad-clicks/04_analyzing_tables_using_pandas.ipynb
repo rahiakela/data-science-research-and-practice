{
  "nbformat": 4,
  "nbformat_minor": 0,
  "metadata": {
    "colab": {
      "name": "04-analyzing-tables-using-pandas.ipynb",
      "provenance": [],
      "toc_visible": true,
      "authorship_tag": "ABX9TyPmskPA5/+MrjE3yj7W+d2Q",
      "include_colab_link": true
    },
    "kernelspec": {
      "name": "python3",
      "display_name": "Python 3"
    },
    "language_info": {
      "name": "python"
    }
  },
  "cells": [
    {
      "cell_type": "markdown",
      "metadata": {
        "id": "view-in-github",
        "colab_type": "text"
      },
      "source": [
        "<a href=\"https://colab.research.google.com/github/rahiakela/data-science-research-and-practice/blob/main/data-science-bookcamp/case-study-2--online-ad-clicks/04_analyzing_tables_using_pandas.ipynb\" target=\"_parent\"><img src=\"https://colab.research.google.com/assets/colab-badge.svg\" alt=\"Open In Colab\"/></a>"
      ]
    },
    {
      "cell_type": "markdown",
      "source": [
        "##Analyzing tables using Pandas"
      ],
      "metadata": {
        "id": "lXfEhVXLMk9J"
      }
    },
    {
      "cell_type": "markdown",
      "source": [
        "Data tables are commonly used to store information.\n",
        "\n",
        "The formatting of a table isn’t\n",
        "important. What is important is its structure. All tables have structural features in\n",
        "common: every table contains horizontal rows and vertical columns, and quite\n",
        "often, column headers also hold explicit column names."
      ],
      "metadata": {
        "id": "yeFtviJ0NOTv"
      }
    },
    {
      "cell_type": "markdown",
      "source": [
        "##Setup"
      ],
      "metadata": {
        "id": "acuDtWwtNO7R"
      }
    },
    {
      "cell_type": "code",
      "source": [
        "from collections import defaultdict\n",
        "import itertools\n",
        "\n",
        "import numpy as np\n",
        "import pandas as pd\n",
        "from scipy import stats\n",
        "import math\n",
        "\n",
        "import matplotlib.pyplot as plt"
      ],
      "metadata": {
        "id": "s5coLXNNNQET"
      },
      "execution_count": 4,
      "outputs": []
    },
    {
      "cell_type": "code",
      "source": [
        "# Penalizing centers using the squared distance from the minimum\n",
        "def squared_distance(value1, value2):\n",
        "  return (value1 - value2) ** 2"
      ],
      "metadata": {
        "id": "1hjYBTl1VbYJ"
      },
      "execution_count": null,
      "outputs": []
    },
    {
      "cell_type": "code",
      "source": [
        "# Penalizing centers using the total sum of squared distances\n",
        "def sum_of_squared_distances(value, measurements):\n",
        "  return sum(squared_distance(value, m) for m in measurements)"
      ],
      "metadata": {
        "id": "n9UZBH__Vd7Y"
      },
      "execution_count": null,
      "outputs": []
    },
    {
      "cell_type": "code",
      "source": [
        "# Computing California’s sum of squares\n",
        "def sum_of_squares(data):\n",
        "  mean = np.mean(data)\n",
        "  return sum(squared_distance(value, mean) for value in data)"
      ],
      "metadata": {
        "id": "ZsP4lR9-VlFZ"
      },
      "execution_count": null,
      "outputs": []
    },
    {
      "cell_type": "code",
      "source": [
        "# Computing the variance from mean squared distance\n",
        "def variance(data):\n",
        "  mean = np.mean(data)\n",
        "  return np.mean([squared_distance(value, mean) for value in data])"
      ],
      "metadata": {
        "id": "w8f59ySaVovY"
      },
      "execution_count": null,
      "outputs": []
    },
    {
      "cell_type": "code",
      "source": [
        "# Computing the weighted variance using np.average\n",
        "def weighted_variance(data, weights):\n",
        "  mean = np.average(data, weights=weights)\n",
        "  squared_distances = [squared_distance(value, mean) for value in data]\n",
        "  return np.average(squared_distances, weights=weights)\n",
        "\n",
        "assert weighted_variance([75, 77], [9, 1]) == np.var(9 * [75] + [77])"
      ],
      "metadata": {
        "id": "AXJEhi-gVrsN"
      },
      "execution_count": null,
      "outputs": []
    },
    {
      "cell_type": "markdown",
      "source": [
        "##Storing tables using basic Python"
      ],
      "metadata": {
        "id": "pnz1cgiEOMj8"
      }
    },
    {
      "cell_type": "markdown",
      "source": [
        "Let’s define a sample table in Python. The table stores measurements for various species\n",
        "of fish, in centimeters. \n",
        "\n",
        "Our measurement table contains three columns: Fish,\n",
        "Length, and Width."
      ],
      "metadata": {
        "id": "bwOW8afWOPkG"
      }
    },
    {
      "cell_type": "code",
      "source": [
        "# Storing a table using Python data structures\n",
        "fish_measures = {\n",
        "    \"Fish\": [\"Angelfish\", \"Zebrafish\", \"Killifish\", \"Swordtail\"],\n",
        "    \"Length\": [15.2, 6.5, 9, 6],\n",
        "    \"Width\": [7.7, 2.1, 4.5, 2]\n",
        "}"
      ],
      "metadata": {
        "id": "78cmAma-Oimt"
      },
      "execution_count": 2,
      "outputs": []
    },
    {
      "cell_type": "code",
      "source": [
        "# Accessing table columns using a dictionary\n",
        "zebrafish_index = fish_measures[\"Fish\"].index(\"Zebrafish\")\n",
        "zebrafish_length = fish_measures[\"Length\"][zebrafish_index]\n",
        "\n",
        "print(f\"The length of a zebrafish is {zebrafish_length:.2f} cm\")"
      ],
      "metadata": {
        "id": "z63R26UkPMgU",
        "colab": {
          "base_uri": "https://localhost:8080/"
        },
        "outputId": "8d63e6fb-2670-48f4-b537-6fe137eec6e7"
      },
      "execution_count": 3,
      "outputs": [
        {
          "output_type": "stream",
          "name": "stdout",
          "text": [
            "The length of a zebrafish is 6.50 cm\n"
          ]
        }
      ]
    },
    {
      "cell_type": "markdown",
      "source": [
        "A better solution\n",
        "is provided by the Pandas library, which is designed for table manipulation."
      ],
      "metadata": {
        "id": "GQXw26NkTwM9"
      }
    },
    {
      "cell_type": "markdown",
      "source": [
        "##Exploring tables using Pandas"
      ],
      "metadata": {
        "id": "qh_SENDZyC3p"
      }
    },
    {
      "cell_type": "code",
      "source": [
        "# Loading a table into Pandas\n",
        "df = pd.DataFrame(fish_measures)\n",
        "print(df)"
      ],
      "metadata": {
        "id": "UIfrfox0hhAi",
        "outputId": "c49d7ed4-8934-475b-87a1-188c45c07d7b",
        "colab": {
          "base_uri": "https://localhost:8080/"
        }
      },
      "execution_count": 5,
      "outputs": [
        {
          "output_type": "stream",
          "name": "stdout",
          "text": [
            "        Fish  Length  Width\n",
            "0  Angelfish    15.2    7.7\n",
            "1  Zebrafish     6.5    2.1\n",
            "2  Killifish     9.0    4.5\n",
            "3  Swordtail     6.0    2.0\n"
          ]
        }
      ]
    },
    {
      "cell_type": "code",
      "source": [
        "# Accessing the first two rows of a table\n",
        "print(df.head(2))"
      ],
      "metadata": {
        "id": "N_PAEtSCc7Cg",
        "outputId": "9f891524-97a9-485c-8ad4-90104af1731e",
        "colab": {
          "base_uri": "https://localhost:8080/"
        }
      },
      "execution_count": 6,
      "outputs": [
        {
          "output_type": "stream",
          "name": "stdout",
          "text": [
            "        Fish  Length  Width\n",
            "0  Angelfish    15.2    7.7\n",
            "1  Zebrafish     6.5    2.1\n"
          ]
        }
      ]
    },
    {
      "cell_type": "code",
      "source": [
        "# Summarizing the numeric columns\n",
        "print(df.describe())"
      ],
      "metadata": {
        "id": "x9TbbWQDdd24",
        "outputId": "fb9643ec-ba16-4828-b043-be640dd129c4",
        "colab": {
          "base_uri": "https://localhost:8080/"
        }
      },
      "execution_count": 7,
      "outputs": [
        {
          "output_type": "stream",
          "name": "stdout",
          "text": [
            "          Length     Width\n",
            "count   4.000000  4.000000\n",
            "mean    9.175000  4.075000\n",
            "std     4.225616  2.678775\n",
            "min     6.000000  2.000000\n",
            "25%     6.375000  2.075000\n",
            "50%     7.750000  3.300000\n",
            "75%    10.550000  5.300000\n",
            "max    15.200000  7.700000\n"
          ]
        }
      ]
    },
    {
      "cell_type": "code",
      "source": [
        "# Computing the column mean\n",
        "print(df.mean())"
      ],
      "metadata": {
        "id": "qprIn72aluXr",
        "colab": {
          "base_uri": "https://localhost:8080/"
        },
        "outputId": "0e8e418d-f787-44f6-fb46-ff3cb7d21fec"
      },
      "execution_count": 16,
      "outputs": [
        {
          "output_type": "stream",
          "name": "stdout",
          "text": [
            "Length    9.175\n",
            "Width     4.075\n",
            "dtype: float64\n"
          ]
        },
        {
          "output_type": "stream",
          "name": "stderr",
          "text": [
            "/usr/local/lib/python3.7/dist-packages/ipykernel_launcher.py:2: FutureWarning: Dropping of nuisance columns in DataFrame reductions (with 'numeric_only=None') is deprecated; in a future version this will raise TypeError.  Select only valid columns before calling the reduction.\n",
            "  \n"
          ]
        }
      ]
    },
    {
      "cell_type": "code",
      "source": [
        "# Summarizing the string columns\n",
        "print(df.describe(include=[object]))"
      ],
      "metadata": {
        "id": "KLFIHVnCl3VH",
        "outputId": "e3fd793c-f2b2-4a2c-c306-d366b23af728",
        "colab": {
          "base_uri": "https://localhost:8080/"
        }
      },
      "execution_count": 13,
      "outputs": [
        {
          "output_type": "stream",
          "name": "stdout",
          "text": [
            "             Fish\n",
            "count           4\n",
            "unique          4\n",
            "top     Angelfish\n",
            "freq            1\n"
          ]
        }
      ]
    },
    {
      "cell_type": "code",
      "source": [
        "# Retrieving the table as a 2D NumPy array\n",
        "print(df.values)"
      ],
      "metadata": {
        "colab": {
          "base_uri": "https://localhost:8080/"
        },
        "id": "3O2BJ6X3fPnX",
        "outputId": "888a0cd2-674b-449c-e792-b4977af9a73b"
      },
      "execution_count": 17,
      "outputs": [
        {
          "output_type": "stream",
          "name": "stdout",
          "text": [
            "[['Angelfish' 15.2 7.7]\n",
            " ['Zebrafish' 6.5 2.1]\n",
            " ['Killifish' 9.0 4.5]\n",
            " ['Swordtail' 6.0 2.0]]\n"
          ]
        }
      ]
    },
    {
      "cell_type": "code",
      "source": [
        "assert type(df.values) == np.ndarray"
      ],
      "metadata": {
        "id": "QWD1zaIrfU6l"
      },
      "execution_count": 18,
      "outputs": []
    },
    {
      "cell_type": "markdown",
      "source": [
        "##Retrieving table columns"
      ],
      "metadata": {
        "id": "T7D6gqvMmPXi"
      }
    },
    {
      "cell_type": "code",
      "source": [
        ""
      ],
      "metadata": {
        "id": "R2fUqV4qmQbl"
      },
      "execution_count": null,
      "outputs": []
    }
  ]
}