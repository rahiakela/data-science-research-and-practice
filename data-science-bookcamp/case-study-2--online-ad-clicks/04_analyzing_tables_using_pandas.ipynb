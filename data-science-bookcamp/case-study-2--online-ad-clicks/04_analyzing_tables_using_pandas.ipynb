{
  "nbformat": 4,
  "nbformat_minor": 0,
  "metadata": {
    "colab": {
      "name": "04-analyzing-tables-using-pandas.ipynb",
      "provenance": [],
      "toc_visible": true,
      "authorship_tag": "ABX9TyPRObWvmMmBKWdA/cZmbDn5",
      "include_colab_link": true
    },
    "kernelspec": {
      "name": "python3",
      "display_name": "Python 3"
    },
    "language_info": {
      "name": "python"
    }
  },
  "cells": [
    {
      "cell_type": "markdown",
      "metadata": {
        "id": "view-in-github",
        "colab_type": "text"
      },
      "source": [
        "<a href=\"https://colab.research.google.com/github/rahiakela/data-science-research-and-practice/blob/main/data-science-bookcamp/case-study-2--online-ad-clicks/04_analyzing_tables_using_pandas.ipynb\" target=\"_parent\"><img src=\"https://colab.research.google.com/assets/colab-badge.svg\" alt=\"Open In Colab\"/></a>"
      ]
    },
    {
      "cell_type": "markdown",
      "source": [
        "##Analyzing tables using Pandas"
      ],
      "metadata": {
        "id": "lXfEhVXLMk9J"
      }
    },
    {
      "cell_type": "markdown",
      "source": [
        "Data tables are commonly used to store information.\n",
        "\n",
        "The formatting of a table isn’t\n",
        "important. What is important is its structure. All tables have structural features in\n",
        "common: every table contains horizontal rows and vertical columns, and quite\n",
        "often, column headers also hold explicit column names."
      ],
      "metadata": {
        "id": "yeFtviJ0NOTv"
      }
    },
    {
      "cell_type": "markdown",
      "source": [
        "##Setup"
      ],
      "metadata": {
        "id": "acuDtWwtNO7R"
      }
    },
    {
      "cell_type": "code",
      "source": [
        "from collections import defaultdict\n",
        "import itertools\n",
        "\n",
        "import numpy as np\n",
        "import pandas as pd\n",
        "from scipy import stats\n",
        "import math\n",
        "\n",
        "import matplotlib.pyplot as plt"
      ],
      "metadata": {
        "id": "s5coLXNNNQET"
      },
      "execution_count": 1,
      "outputs": []
    },
    {
      "cell_type": "code",
      "source": [
        "# Penalizing centers using the squared distance from the minimum\n",
        "def squared_distance(value1, value2):\n",
        "  return (value1 - value2) ** 2"
      ],
      "metadata": {
        "id": "1hjYBTl1VbYJ"
      },
      "execution_count": 2,
      "outputs": []
    },
    {
      "cell_type": "code",
      "source": [
        "# Penalizing centers using the total sum of squared distances\n",
        "def sum_of_squared_distances(value, measurements):\n",
        "  return sum(squared_distance(value, m) for m in measurements)"
      ],
      "metadata": {
        "id": "n9UZBH__Vd7Y"
      },
      "execution_count": 3,
      "outputs": []
    },
    {
      "cell_type": "code",
      "source": [
        "# Computing California’s sum of squares\n",
        "def sum_of_squares(data):\n",
        "  mean = np.mean(data)\n",
        "  return sum(squared_distance(value, mean) for value in data)"
      ],
      "metadata": {
        "id": "ZsP4lR9-VlFZ"
      },
      "execution_count": 4,
      "outputs": []
    },
    {
      "cell_type": "code",
      "source": [
        "# Computing the variance from mean squared distance\n",
        "def variance(data):\n",
        "  mean = np.mean(data)\n",
        "  return np.mean([squared_distance(value, mean) for value in data])"
      ],
      "metadata": {
        "id": "w8f59ySaVovY"
      },
      "execution_count": 5,
      "outputs": []
    },
    {
      "cell_type": "code",
      "source": [
        "# Computing the weighted variance using np.average\n",
        "def weighted_variance(data, weights):\n",
        "  mean = np.average(data, weights=weights)\n",
        "  squared_distances = [squared_distance(value, mean) for value in data]\n",
        "  return np.average(squared_distances, weights=weights)\n",
        "\n",
        "assert weighted_variance([75, 77], [9, 1]) == np.var(9 * [75] + [77])"
      ],
      "metadata": {
        "id": "AXJEhi-gVrsN"
      },
      "execution_count": 6,
      "outputs": []
    },
    {
      "cell_type": "markdown",
      "source": [
        "##Storing tables using basic Python"
      ],
      "metadata": {
        "id": "pnz1cgiEOMj8"
      }
    },
    {
      "cell_type": "markdown",
      "source": [
        "Let’s define a sample table in Python. The table stores measurements for various species\n",
        "of fish, in centimeters. \n",
        "\n",
        "Our measurement table contains three columns: Fish,\n",
        "Length, and Width."
      ],
      "metadata": {
        "id": "bwOW8afWOPkG"
      }
    },
    {
      "cell_type": "code",
      "source": [
        "# Storing a table using Python data structures\n",
        "fish_measures = {\n",
        "    \"Fish\": [\"Angelfish\", \"Zebrafish\", \"Killifish\", \"Swordtail\"],\n",
        "    \"Length\": [15.2, 6.5, 9, 6],\n",
        "    \"Width\": [7.7, 2.1, 4.5, 2]\n",
        "}"
      ],
      "metadata": {
        "id": "78cmAma-Oimt"
      },
      "execution_count": 7,
      "outputs": []
    },
    {
      "cell_type": "code",
      "source": [
        "# Accessing table columns using a dictionary\n",
        "zebrafish_index = fish_measures[\"Fish\"].index(\"Zebrafish\")\n",
        "zebrafish_length = fish_measures[\"Length\"][zebrafish_index]\n",
        "\n",
        "print(f\"The length of a zebrafish is {zebrafish_length:.2f} cm\")"
      ],
      "metadata": {
        "id": "z63R26UkPMgU",
        "colab": {
          "base_uri": "https://localhost:8080/"
        },
        "outputId": "3da0fe89-8f6c-4977-aa7d-35b679f24501"
      },
      "execution_count": 8,
      "outputs": [
        {
          "output_type": "stream",
          "name": "stdout",
          "text": [
            "The length of a zebrafish is 6.50 cm\n"
          ]
        }
      ]
    },
    {
      "cell_type": "markdown",
      "source": [
        "A better solution\n",
        "is provided by the Pandas library, which is designed for table manipulation."
      ],
      "metadata": {
        "id": "GQXw26NkTwM9"
      }
    },
    {
      "cell_type": "markdown",
      "source": [
        "##Exploring tables using Pandas"
      ],
      "metadata": {
        "id": "qh_SENDZyC3p"
      }
    },
    {
      "cell_type": "code",
      "source": [
        "# Loading a table into Pandas\n",
        "df = pd.DataFrame(fish_measures)\n",
        "print(df)"
      ],
      "metadata": {
        "id": "UIfrfox0hhAi",
        "outputId": "8e307de2-74af-4f44-ed58-d70d13cb8b9a",
        "colab": {
          "base_uri": "https://localhost:8080/"
        }
      },
      "execution_count": 9,
      "outputs": [
        {
          "output_type": "stream",
          "name": "stdout",
          "text": [
            "        Fish  Length  Width\n",
            "0  Angelfish    15.2    7.7\n",
            "1  Zebrafish     6.5    2.1\n",
            "2  Killifish     9.0    4.5\n",
            "3  Swordtail     6.0    2.0\n"
          ]
        }
      ]
    },
    {
      "cell_type": "code",
      "source": [
        "# Accessing the first two rows of a table\n",
        "print(df.head(2))"
      ],
      "metadata": {
        "id": "N_PAEtSCc7Cg",
        "outputId": "c5f68d59-ce5a-46fd-a41c-3ada9db70885",
        "colab": {
          "base_uri": "https://localhost:8080/"
        }
      },
      "execution_count": 10,
      "outputs": [
        {
          "output_type": "stream",
          "name": "stdout",
          "text": [
            "        Fish  Length  Width\n",
            "0  Angelfish    15.2    7.7\n",
            "1  Zebrafish     6.5    2.1\n"
          ]
        }
      ]
    },
    {
      "cell_type": "code",
      "source": [
        "# Summarizing the numeric columns\n",
        "print(df.describe())"
      ],
      "metadata": {
        "id": "x9TbbWQDdd24",
        "outputId": "48dacc39-71f4-4554-b4d2-450f7f271454",
        "colab": {
          "base_uri": "https://localhost:8080/"
        }
      },
      "execution_count": 11,
      "outputs": [
        {
          "output_type": "stream",
          "name": "stdout",
          "text": [
            "          Length     Width\n",
            "count   4.000000  4.000000\n",
            "mean    9.175000  4.075000\n",
            "std     4.225616  2.678775\n",
            "min     6.000000  2.000000\n",
            "25%     6.375000  2.075000\n",
            "50%     7.750000  3.300000\n",
            "75%    10.550000  5.300000\n",
            "max    15.200000  7.700000\n"
          ]
        }
      ]
    },
    {
      "cell_type": "code",
      "source": [
        "# Computing the column mean\n",
        "print(df.mean())"
      ],
      "metadata": {
        "id": "qprIn72aluXr",
        "colab": {
          "base_uri": "https://localhost:8080/"
        },
        "outputId": "0b7a5d19-dd01-42a9-ca53-bcd7816aae22"
      },
      "execution_count": 12,
      "outputs": [
        {
          "output_type": "stream",
          "name": "stdout",
          "text": [
            "Length    9.175\n",
            "Width     4.075\n",
            "dtype: float64\n"
          ]
        },
        {
          "output_type": "stream",
          "name": "stderr",
          "text": [
            "/usr/local/lib/python3.7/dist-packages/ipykernel_launcher.py:2: FutureWarning: Dropping of nuisance columns in DataFrame reductions (with 'numeric_only=None') is deprecated; in a future version this will raise TypeError.  Select only valid columns before calling the reduction.\n",
            "  \n"
          ]
        }
      ]
    },
    {
      "cell_type": "code",
      "source": [
        "# Summarizing the string columns\n",
        "print(df.describe(include=[object]))"
      ],
      "metadata": {
        "id": "KLFIHVnCl3VH",
        "outputId": "0be2b6df-07c8-4354-cf76-65bdfa47701d",
        "colab": {
          "base_uri": "https://localhost:8080/"
        }
      },
      "execution_count": 13,
      "outputs": [
        {
          "output_type": "stream",
          "name": "stdout",
          "text": [
            "             Fish\n",
            "count           4\n",
            "unique          4\n",
            "top     Angelfish\n",
            "freq            1\n"
          ]
        }
      ]
    },
    {
      "cell_type": "code",
      "source": [
        "# Retrieving the table as a 2D NumPy array\n",
        "print(df.values)"
      ],
      "metadata": {
        "colab": {
          "base_uri": "https://localhost:8080/"
        },
        "id": "3O2BJ6X3fPnX",
        "outputId": "5f11ac00-c3b9-481e-f135-e203a4c5aee1"
      },
      "execution_count": 14,
      "outputs": [
        {
          "output_type": "stream",
          "name": "stdout",
          "text": [
            "[['Angelfish' 15.2 7.7]\n",
            " ['Zebrafish' 6.5 2.1]\n",
            " ['Killifish' 9.0 4.5]\n",
            " ['Swordtail' 6.0 2.0]]\n"
          ]
        }
      ]
    },
    {
      "cell_type": "code",
      "source": [
        "assert type(df.values) == np.ndarray"
      ],
      "metadata": {
        "id": "QWD1zaIrfU6l"
      },
      "execution_count": 15,
      "outputs": []
    },
    {
      "cell_type": "markdown",
      "source": [
        "##Retrieving table columns"
      ],
      "metadata": {
        "id": "T7D6gqvMmPXi"
      }
    },
    {
      "cell_type": "markdown",
      "source": [
        "Let’s turn our attention to retrieving individual columns, which can be accessed\n",
        "using their column names."
      ],
      "metadata": {
        "id": "OK-nhviFkbeI"
      }
    },
    {
      "cell_type": "code",
      "source": [
        "# Accessing all column names\n",
        "print(df.columns)"
      ],
      "metadata": {
        "id": "R2fUqV4qmQbl",
        "outputId": "470c7c48-7ef5-44af-bedf-0f6b7963cd1c",
        "colab": {
          "base_uri": "https://localhost:8080/"
        }
      },
      "execution_count": 16,
      "outputs": [
        {
          "output_type": "stream",
          "name": "stdout",
          "text": [
            "Index(['Fish', 'Length', 'Width'], dtype='object')\n"
          ]
        }
      ]
    },
    {
      "cell_type": "code",
      "source": [
        "# Accessing an individual column\n",
        "print(df.Fish)"
      ],
      "metadata": {
        "id": "TIOvZ6e6kkcw",
        "outputId": "2fdd71c3-d222-416f-a8d9-82b27253625c",
        "colab": {
          "base_uri": "https://localhost:8080/"
        }
      },
      "execution_count": 17,
      "outputs": [
        {
          "output_type": "stream",
          "name": "stdout",
          "text": [
            "0    Angelfish\n",
            "1    Zebrafish\n",
            "2    Killifish\n",
            "3    Swordtail\n",
            "Name: Fish, dtype: object\n"
          ]
        }
      ]
    },
    {
      "cell_type": "code",
      "source": [
        "print(df.Length)"
      ],
      "metadata": {
        "id": "q2XMsy2DkqcU",
        "outputId": "6e9c7d95-3d54-4aec-e06b-c6d27d17a660",
        "colab": {
          "base_uri": "https://localhost:8080/"
        }
      },
      "execution_count": 18,
      "outputs": [
        {
          "output_type": "stream",
          "name": "stdout",
          "text": [
            "0    15.2\n",
            "1     6.5\n",
            "2     9.0\n",
            "3     6.0\n",
            "Name: Length, dtype: float64\n"
          ]
        }
      ]
    },
    {
      "cell_type": "code",
      "source": [
        "# Retrieving a column as a NumPy array\n",
        "print(df.Fish.values)"
      ],
      "metadata": {
        "id": "cWGxRCAwk0td",
        "outputId": "80f36264-6daf-4ad6-ecf9-ab79aa8f86f5",
        "colab": {
          "base_uri": "https://localhost:8080/"
        }
      },
      "execution_count": 19,
      "outputs": [
        {
          "output_type": "stream",
          "name": "stdout",
          "text": [
            "['Angelfish' 'Zebrafish' 'Killifish' 'Swordtail']\n"
          ]
        }
      ]
    },
    {
      "cell_type": "code",
      "source": [
        "# Accessing a column using brackets\n",
        "print(df[\"Fish\"])"
      ],
      "metadata": {
        "id": "1Y2C66HLk88B",
        "outputId": "34f447db-f807-4073-966e-271afa01cd6b",
        "colab": {
          "base_uri": "https://localhost:8080/"
        }
      },
      "execution_count": 20,
      "outputs": [
        {
          "output_type": "stream",
          "name": "stdout",
          "text": [
            "0    Angelfish\n",
            "1    Zebrafish\n",
            "2    Killifish\n",
            "3    Swordtail\n",
            "Name: Fish, dtype: object\n"
          ]
        }
      ]
    },
    {
      "cell_type": "code",
      "source": [
        "# Accessing multiple columns using brackets\n",
        "print(df[[\"Fish\", \"Length\"]])"
      ],
      "metadata": {
        "id": "rY16wTGwlCP3",
        "outputId": "c014ba63-61c5-4c34-8ff5-16d68ecc5b51",
        "colab": {
          "base_uri": "https://localhost:8080/"
        }
      },
      "execution_count": 21,
      "outputs": [
        {
          "output_type": "stream",
          "name": "stdout",
          "text": [
            "        Fish  Length\n",
            "0  Angelfish    15.2\n",
            "1  Zebrafish     6.5\n",
            "2  Killifish     9.0\n",
            "3  Swordtail     6.0\n"
          ]
        }
      ]
    },
    {
      "cell_type": "code",
      "source": [
        "# Sorting rows by column value\n",
        "print(df.sort_values(\"Length\"))"
      ],
      "metadata": {
        "id": "VyZi46ZzlHhV",
        "outputId": "1f0fd800-694c-4a61-942d-f1f36c7fb48c",
        "colab": {
          "base_uri": "https://localhost:8080/"
        }
      },
      "execution_count": 22,
      "outputs": [
        {
          "output_type": "stream",
          "name": "stdout",
          "text": [
            "        Fish  Length  Width\n",
            "3  Swordtail     6.0    2.0\n",
            "1  Zebrafish     6.5    2.1\n",
            "2  Killifish     9.0    4.5\n",
            "0  Angelfish    15.2    7.7\n"
          ]
        }
      ]
    },
    {
      "cell_type": "code",
      "source": [
        "# Filtering rows by column value\n",
        "print(df[df.Width >= 3])"
      ],
      "metadata": {
        "id": "D_Ek6dQIlVDI",
        "outputId": "1aec35a7-dd13-4873-87af-8cc9e2137b04",
        "colab": {
          "base_uri": "https://localhost:8080/"
        }
      },
      "execution_count": 23,
      "outputs": [
        {
          "output_type": "stream",
          "name": "stdout",
          "text": [
            "        Fish  Length  Width\n",
            "0  Angelfish    15.2    7.7\n",
            "2  Killifish     9.0    4.5\n"
          ]
        }
      ]
    },
    {
      "cell_type": "markdown",
      "source": [
        "##Retrieving table rows"
      ],
      "metadata": {
        "id": "F1o5HrBule4L"
      }
    },
    {
      "cell_type": "markdown",
      "source": [
        "Unlike columns, our rows do\n",
        "not have preassigned label values. \n",
        "\n",
        "To compensate, Pandas assigns a special index to each row.\n",
        "\n",
        "As a general\n",
        "rule, executing `df.loc[[index_list]]` locates all the rows whose indices\n",
        "appear in `index_list`."
      ],
      "metadata": {
        "id": "BejsSGWclfkD"
      }
    },
    {
      "cell_type": "code",
      "source": [
        "print(df)"
      ],
      "metadata": {
        "id": "XMKDD1CgmDYM",
        "outputId": "4d045d9e-c5d3-4e5c-90b5-7445f04d3260",
        "colab": {
          "base_uri": "https://localhost:8080/"
        }
      },
      "execution_count": 28,
      "outputs": [
        {
          "output_type": "stream",
          "name": "stdout",
          "text": [
            "        Fish  Length  Width\n",
            "0  Angelfish    15.2    7.7\n",
            "1  Zebrafish     6.5    2.1\n",
            "2  Killifish     9.0    4.5\n",
            "3  Swordtail     6.0    2.0\n"
          ]
        }
      ]
    },
    {
      "cell_type": "code",
      "source": [
        "# Accessing rows by index\n",
        "print(df.loc[[0, 3]])"
      ],
      "metadata": {
        "id": "TpORe50Zlmw1",
        "outputId": "82c9b12e-c39e-4807-f589-6f119d29a086",
        "colab": {
          "base_uri": "https://localhost:8080/"
        }
      },
      "execution_count": 26,
      "outputs": [
        {
          "output_type": "stream",
          "name": "stdout",
          "text": [
            "        Fish  Length  Width\n",
            "0  Angelfish    15.2    7.7\n",
            "3  Swordtail     6.0    2.0\n"
          ]
        }
      ]
    },
    {
      "cell_type": "code",
      "source": [
        "print(df.loc[[2, 3]])"
      ],
      "metadata": {
        "id": "Q10MIF_2l7p_",
        "outputId": "2d1760b5-733c-4d86-d7a3-9c9b703bc30f",
        "colab": {
          "base_uri": "https://localhost:8080/"
        }
      },
      "execution_count": 27,
      "outputs": [
        {
          "output_type": "stream",
          "name": "stdout",
          "text": [
            "        Fish  Length  Width\n",
            "2  Killifish     9.0    4.5\n",
            "3  Swordtail     6.0    2.0\n"
          ]
        }
      ]
    },
    {
      "cell_type": "code",
      "source": [
        "# Accessing rows by column value\n",
        "booleans = [name in [\"Angelfish\", \"Swordtail\"] for name in df.Fish]\n",
        "print(df[booleans])"
      ],
      "metadata": {
        "id": "KY0q8trtmP-x",
        "outputId": "5c5405ae-8d10-4bad-d6f1-20d26cbb9e77",
        "colab": {
          "base_uri": "https://localhost:8080/"
        }
      },
      "execution_count": 30,
      "outputs": [
        {
          "output_type": "stream",
          "name": "stdout",
          "text": [
            "        Fish  Length  Width\n",
            "0  Angelfish    15.2    7.7\n",
            "3  Swordtail     6.0    2.0\n"
          ]
        }
      ]
    },
    {
      "cell_type": "code",
      "source": [
        "# Accessing rows by column value\n",
        "print(df[df.Fish.isin([\"Angelfish\", \"Swordtail\"])])"
      ],
      "metadata": {
        "id": "mG2rhVuHmjgV",
        "outputId": "a0fdc2d8-cb99-4459-ac07-2e4092e24513",
        "colab": {
          "base_uri": "https://localhost:8080/"
        }
      },
      "execution_count": 31,
      "outputs": [
        {
          "output_type": "stream",
          "name": "stdout",
          "text": [
            "        Fish  Length  Width\n",
            "0  Angelfish    15.2    7.7\n",
            "3  Swordtail     6.0    2.0\n"
          ]
        }
      ]
    },
    {
      "cell_type": "code",
      "source": [
        "# Swapping row indices for column values\n",
        "df.set_index(\"Fish\", inplace=True)\n",
        "print(df)"
      ],
      "metadata": {
        "id": "fdjUVqLGmvqf",
        "outputId": "c3e63c70-6896-4217-e333-2098c03049de",
        "colab": {
          "base_uri": "https://localhost:8080/"
        }
      },
      "execution_count": 32,
      "outputs": [
        {
          "output_type": "stream",
          "name": "stdout",
          "text": [
            "           Length  Width\n",
            "Fish                    \n",
            "Angelfish    15.2    7.7\n",
            "Zebrafish     6.5    2.1\n",
            "Killifish     9.0    4.5\n",
            "Swordtail     6.0    2.0\n"
          ]
        }
      ]
    },
    {
      "cell_type": "code",
      "source": [
        "# Accessing rows by string index\n",
        "print(df.loc[[\"Angelfish\", \"Swordtail\"]])"
      ],
      "metadata": {
        "id": "3kgLdF9Um6i1",
        "outputId": "8c62746f-9c10-4fc2-d0a1-c8823c2c8812",
        "colab": {
          "base_uri": "https://localhost:8080/"
        }
      },
      "execution_count": 33,
      "outputs": [
        {
          "output_type": "stream",
          "name": "stdout",
          "text": [
            "           Length  Width\n",
            "Fish                    \n",
            "Angelfish    15.2    7.7\n",
            "Swordtail     6.0    2.0\n"
          ]
        }
      ]
    },
    {
      "cell_type": "markdown",
      "source": [
        "##Modifying table rows and columns"
      ],
      "metadata": {
        "id": "Y2J_WlhgnFJ9"
      }
    },
    {
      "cell_type": "markdown",
      "source": [
        ""
      ],
      "metadata": {
        "id": "14mP9RaPnFyD"
      }
    }
  ]
}