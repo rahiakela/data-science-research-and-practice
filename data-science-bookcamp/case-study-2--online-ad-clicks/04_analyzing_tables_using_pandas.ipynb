{
  "nbformat": 4,
  "nbformat_minor": 0,
  "metadata": {
    "colab": {
      "name": "04-analyzing-tables-using-pandas.ipynb",
      "provenance": [],
      "toc_visible": true,
      "authorship_tag": "ABX9TyPtLCUPMh45ElNCH71mlO1k",
      "include_colab_link": true
    },
    "kernelspec": {
      "name": "python3",
      "display_name": "Python 3"
    },
    "language_info": {
      "name": "python"
    }
  },
  "cells": [
    {
      "cell_type": "markdown",
      "metadata": {
        "id": "view-in-github",
        "colab_type": "text"
      },
      "source": [
        "<a href=\"https://colab.research.google.com/github/rahiakela/data-science-research-and-practice/blob/main/data-science-bookcamp/case-study-2--online-ad-clicks/04_analyzing_tables_using_pandas.ipynb\" target=\"_parent\"><img src=\"https://colab.research.google.com/assets/colab-badge.svg\" alt=\"Open In Colab\"/></a>"
      ]
    },
    {
      "cell_type": "markdown",
      "source": [
        "##Analyzing tables using Pandas"
      ],
      "metadata": {
        "id": "lXfEhVXLMk9J"
      }
    },
    {
      "cell_type": "markdown",
      "source": [
        "Data tables are commonly used to store information.\n",
        "\n",
        "The formatting of a table isn’t\n",
        "important. What is important is its structure. All tables have structural features in\n",
        "common: every table contains horizontal rows and vertical columns, and quite\n",
        "often, column headers also hold explicit column names."
      ],
      "metadata": {
        "id": "yeFtviJ0NOTv"
      }
    },
    {
      "cell_type": "markdown",
      "source": [
        "##Setup"
      ],
      "metadata": {
        "id": "acuDtWwtNO7R"
      }
    },
    {
      "cell_type": "code",
      "source": [
        "from collections import defaultdict\n",
        "import itertools\n",
        "\n",
        "import numpy as np\n",
        "import pandas as pd\n",
        "from scipy import stats\n",
        "import math\n",
        "\n",
        "import matplotlib.pyplot as plt"
      ],
      "metadata": {
        "id": "s5coLXNNNQET"
      },
      "execution_count": 1,
      "outputs": []
    },
    {
      "cell_type": "code",
      "source": [
        "# Penalizing centers using the squared distance from the minimum\n",
        "def squared_distance(value1, value2):\n",
        "  return (value1 - value2) ** 2"
      ],
      "metadata": {
        "id": "1hjYBTl1VbYJ"
      },
      "execution_count": 2,
      "outputs": []
    },
    {
      "cell_type": "code",
      "source": [
        "# Penalizing centers using the total sum of squared distances\n",
        "def sum_of_squared_distances(value, measurements):\n",
        "  return sum(squared_distance(value, m) for m in measurements)"
      ],
      "metadata": {
        "id": "n9UZBH__Vd7Y"
      },
      "execution_count": 3,
      "outputs": []
    },
    {
      "cell_type": "code",
      "source": [
        "# Computing California’s sum of squares\n",
        "def sum_of_squares(data):\n",
        "  mean = np.mean(data)\n",
        "  return sum(squared_distance(value, mean) for value in data)"
      ],
      "metadata": {
        "id": "ZsP4lR9-VlFZ"
      },
      "execution_count": 4,
      "outputs": []
    },
    {
      "cell_type": "code",
      "source": [
        "# Computing the variance from mean squared distance\n",
        "def variance(data):\n",
        "  mean = np.mean(data)\n",
        "  return np.mean([squared_distance(value, mean) for value in data])"
      ],
      "metadata": {
        "id": "w8f59ySaVovY"
      },
      "execution_count": 5,
      "outputs": []
    },
    {
      "cell_type": "code",
      "source": [
        "# Computing the weighted variance using np.average\n",
        "def weighted_variance(data, weights):\n",
        "  mean = np.average(data, weights=weights)\n",
        "  squared_distances = [squared_distance(value, mean) for value in data]\n",
        "  return np.average(squared_distances, weights=weights)\n",
        "\n",
        "assert weighted_variance([75, 77], [9, 1]) == np.var(9 * [75] + [77])"
      ],
      "metadata": {
        "id": "AXJEhi-gVrsN"
      },
      "execution_count": 6,
      "outputs": []
    },
    {
      "cell_type": "markdown",
      "source": [
        "##Storing tables using basic Python"
      ],
      "metadata": {
        "id": "pnz1cgiEOMj8"
      }
    },
    {
      "cell_type": "markdown",
      "source": [
        "Let’s define a sample table in Python. The table stores measurements for various species\n",
        "of fish, in centimeters. \n",
        "\n",
        "Our measurement table contains three columns: Fish,\n",
        "Length, and Width."
      ],
      "metadata": {
        "id": "bwOW8afWOPkG"
      }
    },
    {
      "cell_type": "code",
      "source": [
        "# Storing a table using Python data structures\n",
        "fish_measures = {\n",
        "    \"Fish\": [\"Angelfish\", \"Zebrafish\", \"Killifish\", \"Swordtail\"],\n",
        "    \"Length\": [15.2, 6.5, 9, 6],\n",
        "    \"Width\": [7.7, 2.1, 4.5, 2]\n",
        "}"
      ],
      "metadata": {
        "id": "78cmAma-Oimt"
      },
      "execution_count": 7,
      "outputs": []
    },
    {
      "cell_type": "code",
      "source": [
        "# Accessing table columns using a dictionary\n",
        "zebrafish_index = fish_measures[\"Fish\"].index(\"Zebrafish\")\n",
        "zebrafish_length = fish_measures[\"Length\"][zebrafish_index]\n",
        "\n",
        "print(f\"The length of a zebrafish is {zebrafish_length:.2f} cm\")"
      ],
      "metadata": {
        "id": "z63R26UkPMgU",
        "colab": {
          "base_uri": "https://localhost:8080/"
        },
        "outputId": "cad246c0-6544-4a57-95a3-02d448af581b"
      },
      "execution_count": 8,
      "outputs": [
        {
          "output_type": "stream",
          "name": "stdout",
          "text": [
            "The length of a zebrafish is 6.50 cm\n"
          ]
        }
      ]
    },
    {
      "cell_type": "markdown",
      "source": [
        "A better solution\n",
        "is provided by the Pandas library, which is designed for table manipulation."
      ],
      "metadata": {
        "id": "GQXw26NkTwM9"
      }
    },
    {
      "cell_type": "markdown",
      "source": [
        "##Exploring tables using Pandas"
      ],
      "metadata": {
        "id": "qh_SENDZyC3p"
      }
    },
    {
      "cell_type": "code",
      "source": [
        "# Loading a table into Pandas\n",
        "df = pd.DataFrame(fish_measures)\n",
        "print(df)"
      ],
      "metadata": {
        "id": "UIfrfox0hhAi",
        "outputId": "777d6c3b-9a22-4a44-afc3-59193be67cc7",
        "colab": {
          "base_uri": "https://localhost:8080/"
        }
      },
      "execution_count": 9,
      "outputs": [
        {
          "output_type": "stream",
          "name": "stdout",
          "text": [
            "        Fish  Length  Width\n",
            "0  Angelfish    15.2    7.7\n",
            "1  Zebrafish     6.5    2.1\n",
            "2  Killifish     9.0    4.5\n",
            "3  Swordtail     6.0    2.0\n"
          ]
        }
      ]
    },
    {
      "cell_type": "code",
      "source": [
        "# Accessing the first two rows of a table\n",
        "print(df.head(2))"
      ],
      "metadata": {
        "id": "N_PAEtSCc7Cg",
        "outputId": "f6612257-1639-47bd-a274-08ca78ab2851",
        "colab": {
          "base_uri": "https://localhost:8080/"
        }
      },
      "execution_count": 10,
      "outputs": [
        {
          "output_type": "stream",
          "name": "stdout",
          "text": [
            "        Fish  Length  Width\n",
            "0  Angelfish    15.2    7.7\n",
            "1  Zebrafish     6.5    2.1\n"
          ]
        }
      ]
    },
    {
      "cell_type": "code",
      "source": [
        "# Summarizing the numeric columns\n",
        "print(df.describe())"
      ],
      "metadata": {
        "id": "x9TbbWQDdd24",
        "outputId": "b966b9a2-cf39-4fc0-9265-d9957dab8690",
        "colab": {
          "base_uri": "https://localhost:8080/"
        }
      },
      "execution_count": 11,
      "outputs": [
        {
          "output_type": "stream",
          "name": "stdout",
          "text": [
            "          Length     Width\n",
            "count   4.000000  4.000000\n",
            "mean    9.175000  4.075000\n",
            "std     4.225616  2.678775\n",
            "min     6.000000  2.000000\n",
            "25%     6.375000  2.075000\n",
            "50%     7.750000  3.300000\n",
            "75%    10.550000  5.300000\n",
            "max    15.200000  7.700000\n"
          ]
        }
      ]
    },
    {
      "cell_type": "code",
      "source": [
        "# Computing the column mean\n",
        "print(df.mean())"
      ],
      "metadata": {
        "id": "qprIn72aluXr",
        "colab": {
          "base_uri": "https://localhost:8080/"
        },
        "outputId": "14367cfb-612a-41fc-deb4-3b405a0fab1a"
      },
      "execution_count": 12,
      "outputs": [
        {
          "output_type": "stream",
          "name": "stdout",
          "text": [
            "Length    9.175\n",
            "Width     4.075\n",
            "dtype: float64\n"
          ]
        },
        {
          "output_type": "stream",
          "name": "stderr",
          "text": [
            "/usr/local/lib/python3.7/dist-packages/ipykernel_launcher.py:2: FutureWarning: Dropping of nuisance columns in DataFrame reductions (with 'numeric_only=None') is deprecated; in a future version this will raise TypeError.  Select only valid columns before calling the reduction.\n",
            "  \n"
          ]
        }
      ]
    },
    {
      "cell_type": "code",
      "source": [
        "# Summarizing the string columns\n",
        "print(df.describe(include=[object]))"
      ],
      "metadata": {
        "id": "KLFIHVnCl3VH",
        "outputId": "7a8adc76-a3f7-4bdf-83fd-8e5e6027efcf",
        "colab": {
          "base_uri": "https://localhost:8080/"
        }
      },
      "execution_count": 13,
      "outputs": [
        {
          "output_type": "stream",
          "name": "stdout",
          "text": [
            "             Fish\n",
            "count           4\n",
            "unique          4\n",
            "top     Angelfish\n",
            "freq            1\n"
          ]
        }
      ]
    },
    {
      "cell_type": "code",
      "source": [
        "# Retrieving the table as a 2D NumPy array\n",
        "print(df.values)"
      ],
      "metadata": {
        "colab": {
          "base_uri": "https://localhost:8080/"
        },
        "id": "3O2BJ6X3fPnX",
        "outputId": "8741ab7e-0a4d-4eb9-c90e-f2354e559a5c"
      },
      "execution_count": 14,
      "outputs": [
        {
          "output_type": "stream",
          "name": "stdout",
          "text": [
            "[['Angelfish' 15.2 7.7]\n",
            " ['Zebrafish' 6.5 2.1]\n",
            " ['Killifish' 9.0 4.5]\n",
            " ['Swordtail' 6.0 2.0]]\n"
          ]
        }
      ]
    },
    {
      "cell_type": "code",
      "source": [
        "assert type(df.values) == np.ndarray"
      ],
      "metadata": {
        "id": "QWD1zaIrfU6l"
      },
      "execution_count": 15,
      "outputs": []
    },
    {
      "cell_type": "markdown",
      "source": [
        "##Retrieving table columns"
      ],
      "metadata": {
        "id": "T7D6gqvMmPXi"
      }
    },
    {
      "cell_type": "markdown",
      "source": [
        "Let’s turn our attention to retrieving individual columns, which can be accessed\n",
        "using their column names."
      ],
      "metadata": {
        "id": "OK-nhviFkbeI"
      }
    },
    {
      "cell_type": "code",
      "source": [
        "# Accessing all column names\n",
        "print(df.columns)"
      ],
      "metadata": {
        "id": "R2fUqV4qmQbl",
        "outputId": "e04eb61d-a34b-4900-d12c-d96171cf4d40",
        "colab": {
          "base_uri": "https://localhost:8080/"
        }
      },
      "execution_count": 16,
      "outputs": [
        {
          "output_type": "stream",
          "name": "stdout",
          "text": [
            "Index(['Fish', 'Length', 'Width'], dtype='object')\n"
          ]
        }
      ]
    },
    {
      "cell_type": "code",
      "source": [
        "# Accessing an individual column\n",
        "print(df.Fish)"
      ],
      "metadata": {
        "id": "TIOvZ6e6kkcw",
        "outputId": "d1f0ed71-e1d7-4249-962b-66cb36b45c60",
        "colab": {
          "base_uri": "https://localhost:8080/"
        }
      },
      "execution_count": 17,
      "outputs": [
        {
          "output_type": "stream",
          "name": "stdout",
          "text": [
            "0    Angelfish\n",
            "1    Zebrafish\n",
            "2    Killifish\n",
            "3    Swordtail\n",
            "Name: Fish, dtype: object\n"
          ]
        }
      ]
    },
    {
      "cell_type": "code",
      "source": [
        "print(df.Length)"
      ],
      "metadata": {
        "id": "q2XMsy2DkqcU",
        "outputId": "9e80331d-45e6-414c-c1a0-0f140abd584e",
        "colab": {
          "base_uri": "https://localhost:8080/"
        }
      },
      "execution_count": 18,
      "outputs": [
        {
          "output_type": "stream",
          "name": "stdout",
          "text": [
            "0    15.2\n",
            "1     6.5\n",
            "2     9.0\n",
            "3     6.0\n",
            "Name: Length, dtype: float64\n"
          ]
        }
      ]
    },
    {
      "cell_type": "code",
      "source": [
        "# Retrieving a column as a NumPy array\n",
        "print(df.Fish.values)"
      ],
      "metadata": {
        "id": "cWGxRCAwk0td",
        "outputId": "e31a4fb3-d13e-4e9b-f784-5d4ce1eb9d49",
        "colab": {
          "base_uri": "https://localhost:8080/"
        }
      },
      "execution_count": 19,
      "outputs": [
        {
          "output_type": "stream",
          "name": "stdout",
          "text": [
            "['Angelfish' 'Zebrafish' 'Killifish' 'Swordtail']\n"
          ]
        }
      ]
    },
    {
      "cell_type": "code",
      "source": [
        "# Accessing a column using brackets\n",
        "print(df[\"Fish\"])"
      ],
      "metadata": {
        "id": "1Y2C66HLk88B",
        "outputId": "d8066eca-f52a-42cc-cab0-aad1adbc8085",
        "colab": {
          "base_uri": "https://localhost:8080/"
        }
      },
      "execution_count": 20,
      "outputs": [
        {
          "output_type": "stream",
          "name": "stdout",
          "text": [
            "0    Angelfish\n",
            "1    Zebrafish\n",
            "2    Killifish\n",
            "3    Swordtail\n",
            "Name: Fish, dtype: object\n"
          ]
        }
      ]
    },
    {
      "cell_type": "code",
      "source": [
        "# Accessing multiple columns using brackets\n",
        "print(df[[\"Fish\", \"Length\"]])"
      ],
      "metadata": {
        "id": "rY16wTGwlCP3",
        "outputId": "8644073b-f835-482d-b358-3a7763df686e",
        "colab": {
          "base_uri": "https://localhost:8080/"
        }
      },
      "execution_count": 21,
      "outputs": [
        {
          "output_type": "stream",
          "name": "stdout",
          "text": [
            "        Fish  Length\n",
            "0  Angelfish    15.2\n",
            "1  Zebrafish     6.5\n",
            "2  Killifish     9.0\n",
            "3  Swordtail     6.0\n"
          ]
        }
      ]
    },
    {
      "cell_type": "code",
      "source": [
        "# Sorting rows by column value\n",
        "print(df.sort_values(\"Length\"))"
      ],
      "metadata": {
        "id": "VyZi46ZzlHhV",
        "outputId": "8afec97e-03cc-4d85-beb1-28e9cf5f1d2a",
        "colab": {
          "base_uri": "https://localhost:8080/"
        }
      },
      "execution_count": 22,
      "outputs": [
        {
          "output_type": "stream",
          "name": "stdout",
          "text": [
            "        Fish  Length  Width\n",
            "3  Swordtail     6.0    2.0\n",
            "1  Zebrafish     6.5    2.1\n",
            "2  Killifish     9.0    4.5\n",
            "0  Angelfish    15.2    7.7\n"
          ]
        }
      ]
    },
    {
      "cell_type": "code",
      "source": [
        "# Filtering rows by column value\n",
        "print(df[df.Width >= 3])"
      ],
      "metadata": {
        "id": "D_Ek6dQIlVDI",
        "outputId": "b0731687-3aff-41f9-870d-f9f2cbd7f301",
        "colab": {
          "base_uri": "https://localhost:8080/"
        }
      },
      "execution_count": 23,
      "outputs": [
        {
          "output_type": "stream",
          "name": "stdout",
          "text": [
            "        Fish  Length  Width\n",
            "0  Angelfish    15.2    7.7\n",
            "2  Killifish     9.0    4.5\n"
          ]
        }
      ]
    },
    {
      "cell_type": "markdown",
      "source": [
        "##Retrieving table rows"
      ],
      "metadata": {
        "id": "F1o5HrBule4L"
      }
    },
    {
      "cell_type": "markdown",
      "source": [
        "Unlike columns, our rows do\n",
        "not have preassigned label values. \n",
        "\n",
        "To compensate, Pandas assigns a special index to each row.\n",
        "\n",
        "As a general\n",
        "rule, executing `df.loc[[index_list]]` locates all the rows whose indices\n",
        "appear in `index_list`."
      ],
      "metadata": {
        "id": "BejsSGWclfkD"
      }
    },
    {
      "cell_type": "code",
      "source": [
        "print(df)"
      ],
      "metadata": {
        "id": "XMKDD1CgmDYM",
        "outputId": "0e12a6dd-fb3a-4b70-f413-1f9c7ff49939",
        "colab": {
          "base_uri": "https://localhost:8080/"
        }
      },
      "execution_count": 24,
      "outputs": [
        {
          "output_type": "stream",
          "name": "stdout",
          "text": [
            "        Fish  Length  Width\n",
            "0  Angelfish    15.2    7.7\n",
            "1  Zebrafish     6.5    2.1\n",
            "2  Killifish     9.0    4.5\n",
            "3  Swordtail     6.0    2.0\n"
          ]
        }
      ]
    },
    {
      "cell_type": "code",
      "source": [
        "# Accessing rows by index\n",
        "print(df.loc[[0, 3]])"
      ],
      "metadata": {
        "id": "TpORe50Zlmw1",
        "outputId": "15355903-8806-4c12-9a7c-94f262e8e437",
        "colab": {
          "base_uri": "https://localhost:8080/"
        }
      },
      "execution_count": 25,
      "outputs": [
        {
          "output_type": "stream",
          "name": "stdout",
          "text": [
            "        Fish  Length  Width\n",
            "0  Angelfish    15.2    7.7\n",
            "3  Swordtail     6.0    2.0\n"
          ]
        }
      ]
    },
    {
      "cell_type": "code",
      "source": [
        "print(df.loc[[2, 3]])"
      ],
      "metadata": {
        "id": "Q10MIF_2l7p_",
        "outputId": "20c71fcb-4b56-46df-a71d-807da4262ea9",
        "colab": {
          "base_uri": "https://localhost:8080/"
        }
      },
      "execution_count": 26,
      "outputs": [
        {
          "output_type": "stream",
          "name": "stdout",
          "text": [
            "        Fish  Length  Width\n",
            "2  Killifish     9.0    4.5\n",
            "3  Swordtail     6.0    2.0\n"
          ]
        }
      ]
    },
    {
      "cell_type": "code",
      "source": [
        "# Accessing rows by column value\n",
        "booleans = [name in [\"Angelfish\", \"Swordtail\"] for name in df.Fish]\n",
        "print(df[booleans])"
      ],
      "metadata": {
        "id": "KY0q8trtmP-x",
        "outputId": "cfacc2d1-a15a-4db6-8908-3383b594de56",
        "colab": {
          "base_uri": "https://localhost:8080/"
        }
      },
      "execution_count": 27,
      "outputs": [
        {
          "output_type": "stream",
          "name": "stdout",
          "text": [
            "        Fish  Length  Width\n",
            "0  Angelfish    15.2    7.7\n",
            "3  Swordtail     6.0    2.0\n"
          ]
        }
      ]
    },
    {
      "cell_type": "code",
      "source": [
        "# Accessing rows by column value\n",
        "print(df[df.Fish.isin([\"Angelfish\", \"Swordtail\"])])"
      ],
      "metadata": {
        "id": "mG2rhVuHmjgV",
        "outputId": "04e39c54-a6c1-4ef2-c435-8249f319f39f",
        "colab": {
          "base_uri": "https://localhost:8080/"
        }
      },
      "execution_count": 28,
      "outputs": [
        {
          "output_type": "stream",
          "name": "stdout",
          "text": [
            "        Fish  Length  Width\n",
            "0  Angelfish    15.2    7.7\n",
            "3  Swordtail     6.0    2.0\n"
          ]
        }
      ]
    },
    {
      "cell_type": "code",
      "source": [
        "# Swapping row indices for column values\n",
        "df.set_index(\"Fish\", inplace=True)\n",
        "print(df)"
      ],
      "metadata": {
        "id": "fdjUVqLGmvqf",
        "outputId": "a2707a39-8d17-418d-8f11-585a1b081257",
        "colab": {
          "base_uri": "https://localhost:8080/"
        }
      },
      "execution_count": 29,
      "outputs": [
        {
          "output_type": "stream",
          "name": "stdout",
          "text": [
            "           Length  Width\n",
            "Fish                    \n",
            "Angelfish    15.2    7.7\n",
            "Zebrafish     6.5    2.1\n",
            "Killifish     9.0    4.5\n",
            "Swordtail     6.0    2.0\n"
          ]
        }
      ]
    },
    {
      "cell_type": "code",
      "source": [
        "# Accessing rows by string index\n",
        "print(df.loc[[\"Angelfish\", \"Swordtail\"]])"
      ],
      "metadata": {
        "id": "3kgLdF9Um6i1",
        "outputId": "20ecb4a9-5568-44d2-dd19-0f3909433f3f",
        "colab": {
          "base_uri": "https://localhost:8080/"
        }
      },
      "execution_count": 30,
      "outputs": [
        {
          "output_type": "stream",
          "name": "stdout",
          "text": [
            "           Length  Width\n",
            "Fish                    \n",
            "Angelfish    15.2    7.7\n",
            "Swordtail     6.0    2.0\n"
          ]
        }
      ]
    },
    {
      "cell_type": "markdown",
      "source": [
        "##Modifying table rows and columns"
      ],
      "metadata": {
        "id": "Y2J_WlhgnFJ9"
      }
    },
    {
      "cell_type": "markdown",
      "source": [
        "What will happen if we swap our rows and columns? \n",
        "\n",
        "We can find out by running `df.T`. The `T`\n",
        "stands for transpose: in a transpose operation, the elements of a table are flipped around its diagonal so that the rows and columns are switched."
      ],
      "metadata": {
        "id": "14mP9RaPnFyD"
      }
    },
    {
      "cell_type": "code",
      "source": [
        "# Swapping rows and columns\n",
        "df_transposed = df.T\n",
        "print(df_transposed)"
      ],
      "metadata": {
        "id": "Gdw0QGk2s76Y",
        "outputId": "8ff66eac-29db-4d92-cc0d-4ccf44e8634a",
        "colab": {
          "base_uri": "https://localhost:8080/"
        }
      },
      "execution_count": 31,
      "outputs": [
        {
          "output_type": "stream",
          "name": "stdout",
          "text": [
            "Fish    Angelfish  Zebrafish  Killifish  Swordtail\n",
            "Length       15.2        6.5        9.0        6.0\n",
            "Width         7.7        2.1        4.5        2.0\n"
          ]
        }
      ]
    },
    {
      "cell_type": "code",
      "source": [
        "# Printing a transposed column\n",
        "print(df_transposed.Swordtail)"
      ],
      "metadata": {
        "id": "ByJDpBVTtE3V",
        "outputId": "c24a39f8-99d7-4ce2-f290-a21b6e5b80cb",
        "colab": {
          "base_uri": "https://localhost:8080/"
        }
      },
      "execution_count": 32,
      "outputs": [
        {
          "output_type": "stream",
          "name": "stdout",
          "text": [
            "Length    6.0\n",
            "Width     2.0\n",
            "Name: Swordtail, dtype: float64\n"
          ]
        }
      ]
    },
    {
      "cell_type": "code",
      "source": [
        "# Adding a new column\n",
        "df_transposed[\"Clownfish\"] = [10.6, 3.7]\n",
        "print(df_transposed)"
      ],
      "metadata": {
        "id": "s6aV1OsAtPxj",
        "outputId": "4d4499d9-a9f6-4c00-bffb-b634ac5cf687",
        "colab": {
          "base_uri": "https://localhost:8080/"
        }
      },
      "execution_count": 33,
      "outputs": [
        {
          "output_type": "stream",
          "name": "stdout",
          "text": [
            "Fish    Angelfish  Zebrafish  Killifish  Swordtail  Clownfish\n",
            "Length       15.2        6.5        9.0        6.0       10.6\n",
            "Width         7.7        2.1        4.5        2.0        3.7\n"
          ]
        }
      ]
    },
    {
      "cell_type": "code",
      "source": [
        "# Adding multiple new columns\n",
        "df_new = df_transposed.assign(Clownfish2=[10.6, 3.7], Clownfish3=[10.6, 3.7])\n",
        "assert \"Clownfish2\" not in df_transposed.columns\n",
        "assert \"Clownfish2\" in df_new.columns\n",
        "\n",
        "print(df_new)"
      ],
      "metadata": {
        "id": "wpvQWEmbtdlE",
        "outputId": "22a560d7-166f-408e-d977-c6a13eeb1758",
        "colab": {
          "base_uri": "https://localhost:8080/"
        }
      },
      "execution_count": 53,
      "outputs": [
        {
          "output_type": "stream",
          "name": "stdout",
          "text": [
            "Fish    Angelfish  Zebrafish  Killifish  Swordtail  Clownfish  Clownfish2  \\\n",
            "Length       15.2        6.5        9.0        6.0       10.6        10.6   \n",
            "Width         7.7        2.1        4.5        2.0        3.7         3.7   \n",
            "\n",
            "Fish    Clownfish3  \n",
            "Length        10.6  \n",
            "Width          3.7  \n"
          ]
        }
      ]
    },
    {
      "cell_type": "code",
      "source": [
        "# Deleting multiple columns\n",
        "df_new.drop(columns=[\"Clownfish2\", \"Clownfish3\"], inplace=True)"
      ],
      "metadata": {
        "id": "Xcqslo3vue4f"
      },
      "execution_count": 54,
      "outputs": []
    },
    {
      "cell_type": "code",
      "source": [
        "print(df_new)"
      ],
      "metadata": {
        "id": "jYUM4ZKhus75",
        "outputId": "4f947167-0405-4ac0-9d1f-e0b8b0daf133",
        "colab": {
          "base_uri": "https://localhost:8080/"
        }
      },
      "execution_count": 55,
      "outputs": [
        {
          "output_type": "stream",
          "name": "stdout",
          "text": [
            "Fish    Angelfish  Zebrafish  Killifish  Swordtail  Clownfish\n",
            "Length       15.2        6.5        9.0        6.0       10.6\n",
            "Width         7.7        2.1        4.5        2.0        3.7\n"
          ]
        }
      ]
    },
    {
      "cell_type": "code",
      "source": [
        "# Iterating over column values\n",
        "areas = []\n",
        "for fish_species, (length, width) in df_new.items():\n",
        "  area = math.pi * length * width / 4\n",
        "  print(f\"Area of {fish_species} is {area}\")\n",
        "  areas.append(area)"
      ],
      "metadata": {
        "id": "nRFg-afuvoaK",
        "outputId": "335d3b64-4b64-4a7e-f1c7-9127e9088b09",
        "colab": {
          "base_uri": "https://localhost:8080/"
        }
      },
      "execution_count": 56,
      "outputs": [
        {
          "output_type": "stream",
          "name": "stdout",
          "text": [
            "Area of Angelfish is 91.92300104403735\n",
            "Area of Zebrafish is 10.720684930375171\n",
            "Area of Killifish is 31.808625617596654\n",
            "Area of Swordtail is 9.42477796076938\n",
            "Area of Clownfish is 30.80331596844792\n"
          ]
        }
      ]
    },
    {
      "cell_type": "code",
      "source": [
        "# Adding a new row\n",
        "df_new.loc[\"Area\"] = areas\n",
        "df_new.reindex()\n",
        "print(df_new)"
      ],
      "metadata": {
        "id": "VnG2UECOxL63",
        "outputId": "0819fb80-02b5-4072-c2ba-603ba947e3a9",
        "colab": {
          "base_uri": "https://localhost:8080/"
        }
      },
      "execution_count": 57,
      "outputs": [
        {
          "output_type": "stream",
          "name": "stdout",
          "text": [
            "Fish    Angelfish  Zebrafish  Killifish  Swordtail  Clownfish\n",
            "Length  15.200000   6.500000   9.000000   6.000000  10.600000\n",
            "Width    7.700000   2.100000   4.500000   2.000000   3.700000\n",
            "Area    91.923001  10.720685  31.808626   9.424778  30.803316\n"
          ]
        }
      ]
    },
    {
      "cell_type": "code",
      "source": [
        "# Checking the table shape\n",
        "row_count, column_count = df_new.shape\n",
        "print(f\"Our table contains {row_count} rows and {column_count} columns\")"
      ],
      "metadata": {
        "id": "4uPZ5x1bxUDX",
        "outputId": "3bc76757-fe1a-40f0-887e-403e7e5087d0",
        "colab": {
          "base_uri": "https://localhost:8080/"
        }
      },
      "execution_count": 58,
      "outputs": [
        {
          "output_type": "stream",
          "name": "stdout",
          "text": [
            "Our table contains 3 rows and 5 columns\n"
          ]
        }
      ]
    },
    {
      "cell_type": "markdown",
      "source": [
        "##Saving and loading table data"
      ],
      "metadata": {
        "id": "8sG5xurtxu5_"
      }
    },
    {
      "cell_type": "code",
      "source": [
        ""
      ],
      "metadata": {
        "id": "kkkltxeTxwNO"
      },
      "execution_count": null,
      "outputs": []
    }
  ]
}