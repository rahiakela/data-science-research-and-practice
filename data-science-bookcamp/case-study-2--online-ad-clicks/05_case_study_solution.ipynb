{
  "nbformat": 4,
  "nbformat_minor": 0,
  "metadata": {
    "colab": {
      "name": "05-case-study-solution.ipynb",
      "provenance": [],
      "toc_visible": true,
      "authorship_tag": "ABX9TyOOH93iQVZx3s6uOVfMpFiD",
      "include_colab_link": true
    },
    "kernelspec": {
      "name": "python3",
      "display_name": "Python 3"
    },
    "language_info": {
      "name": "python"
    }
  },
  "cells": [
    {
      "cell_type": "markdown",
      "metadata": {
        "id": "view-in-github",
        "colab_type": "text"
      },
      "source": [
        "<a href=\"https://colab.research.google.com/github/rahiakela/data-science-research-and-practice/blob/main/data-science-bookcamp/case-study-2--online-ad-clicks/05_case_study_solution.ipynb\" target=\"_parent\"><img src=\"https://colab.research.google.com/assets/colab-badge.svg\" alt=\"Open In Colab\"/></a>"
      ]
    },
    {
      "cell_type": "markdown",
      "source": [
        "##Case study 2 solution"
      ],
      "metadata": {
        "id": "lXfEhVXLMk9J"
      }
    },
    {
      "cell_type": "markdown",
      "source": [
        "We’ve been asked to analyze the online ad-click data collected by our buddy Fred.\n",
        "His advertising data table monitors ad clicks across 30 different colors. Our aim is\n",
        "to discover an ad color that generates significantly more clicks than blue.\n",
        "\n",
        "We will do so by following these steps:\n",
        "* Load and clean our advertising data using Pandas.\n",
        "* Run a permutation test between blue and the other recorded colors.\n",
        "* Check the computed p-values for statistical significance using a properly\n",
        "determined significance level."
      ],
      "metadata": {
        "id": "yeFtviJ0NOTv"
      }
    },
    {
      "cell_type": "markdown",
      "source": [
        "##Setup"
      ],
      "metadata": {
        "id": "acuDtWwtNO7R"
      }
    },
    {
      "cell_type": "code",
      "source": [
        "from collections import defaultdict\n",
        "import itertools\n",
        "\n",
        "import numpy as np\n",
        "import pandas as pd\n",
        "from scipy import stats\n",
        "import math\n",
        "\n",
        "import seaborn as sns\n",
        "import matplotlib.pyplot as plt"
      ],
      "metadata": {
        "id": "s5coLXNNNQET"
      },
      "execution_count": 2,
      "outputs": []
    },
    {
      "cell_type": "code",
      "source": [
        "!wget https://github.com/rahiakela/data-science-research-and-practice/raw/main/data-science-bookcamp/case-study-2--online-ad-clicks/colored_ad_click_table.csv"
      ],
      "metadata": {
        "id": "rAnD-tMiqzhA"
      },
      "execution_count": null,
      "outputs": []
    },
    {
      "cell_type": "code",
      "source": [
        "# Penalizing centers using the squared distance from the minimum\n",
        "def squared_distance(value1, value2):\n",
        "  return (value1 - value2) ** 2"
      ],
      "metadata": {
        "id": "1hjYBTl1VbYJ"
      },
      "execution_count": 3,
      "outputs": []
    },
    {
      "cell_type": "code",
      "source": [
        "# Penalizing centers using the total sum of squared distances\n",
        "def sum_of_squared_distances(value, measurements):\n",
        "  return sum(squared_distance(value, m) for m in measurements)"
      ],
      "metadata": {
        "id": "n9UZBH__Vd7Y"
      },
      "execution_count": 4,
      "outputs": []
    },
    {
      "cell_type": "code",
      "source": [
        "# Computing California’s sum of squares\n",
        "def sum_of_squares(data):\n",
        "  mean = np.mean(data)\n",
        "  return sum(squared_distance(value, mean) for value in data)"
      ],
      "metadata": {
        "id": "ZsP4lR9-VlFZ"
      },
      "execution_count": 5,
      "outputs": []
    },
    {
      "cell_type": "code",
      "source": [
        "# Computing the variance from mean squared distance\n",
        "def variance(data):\n",
        "  mean = np.mean(data)\n",
        "  return np.mean([squared_distance(value, mean) for value in data])"
      ],
      "metadata": {
        "id": "w8f59ySaVovY"
      },
      "execution_count": 6,
      "outputs": []
    },
    {
      "cell_type": "code",
      "source": [
        "# Computing the weighted variance using np.average\n",
        "def weighted_variance(data, weights):\n",
        "  mean = np.average(data, weights=weights)\n",
        "  squared_distances = [squared_distance(value, mean) for value in data]\n",
        "  return np.average(squared_distances, weights=weights)\n",
        "\n",
        "assert weighted_variance([75, 77], [9, 1]) == np.var(9 * [75] + [77])"
      ],
      "metadata": {
        "id": "AXJEhi-gVrsN"
      },
      "execution_count": 7,
      "outputs": []
    },
    {
      "cell_type": "markdown",
      "source": [
        "##Loading dataset"
      ],
      "metadata": {
        "id": "pnz1cgiEOMj8"
      }
    },
    {
      "cell_type": "markdown",
      "source": [
        "Let’s begin by loading our ad-click table into Pandas."
      ],
      "metadata": {
        "id": "bwOW8afWOPkG"
      }
    },
    {
      "cell_type": "code",
      "source": [
        "# Loading the ad-click table into Pandas\n",
        "df = pd.read_csv(\"colored_ad_click_table.csv\")\n",
        "print(f\"Table contains {df.shape[0]} rows and {df.shape[1]} columns\")"
      ],
      "metadata": {
        "id": "78cmAma-Oimt",
        "colab": {
          "base_uri": "https://localhost:8080/"
        },
        "outputId": "0d8f7a8f-e763-4d16-966b-898bc922fba9"
      },
      "execution_count": 8,
      "outputs": [
        {
          "output_type": "stream",
          "name": "stdout",
          "text": [
            "Table contains 30 rows and 41 columns\n"
          ]
        }
      ]
    },
    {
      "cell_type": "code",
      "source": [
        "# Checking the column names\n",
        "print(df.columns)"
      ],
      "metadata": {
        "id": "z63R26UkPMgU",
        "colab": {
          "base_uri": "https://localhost:8080/"
        },
        "outputId": "ed4ccd66-fe11-45a1-a64a-d980e19ed912"
      },
      "execution_count": 9,
      "outputs": [
        {
          "output_type": "stream",
          "name": "stdout",
          "text": [
            "Index(['Color', 'Click Count: Day 1', 'View Count: Day 1',\n",
            "       'Click Count: Day 2', 'View Count: Day 2', 'Click Count: Day 3',\n",
            "       'View Count: Day 3', 'Click Count: Day 4', 'View Count: Day 4',\n",
            "       'Click Count: Day 5', 'View Count: Day 5', 'Click Count: Day 6',\n",
            "       'View Count: Day 6', 'Click Count: Day 7', 'View Count: Day 7',\n",
            "       'Click Count: Day 8', 'View Count: Day 8', 'Click Count: Day 9',\n",
            "       'View Count: Day 9', 'Click Count: Day 10', 'View Count: Day 10',\n",
            "       'Click Count: Day 11', 'View Count: Day 11', 'Click Count: Day 12',\n",
            "       'View Count: Day 12', 'Click Count: Day 13', 'View Count: Day 13',\n",
            "       'Click Count: Day 14', 'View Count: Day 14', 'Click Count: Day 15',\n",
            "       'View Count: Day 15', 'Click Count: Day 16', 'View Count: Day 16',\n",
            "       'Click Count: Day 17', 'View Count: Day 17', 'Click Count: Day 18',\n",
            "       'View Count: Day 18', 'Click Count: Day 19', 'View Count: Day 19',\n",
            "       'Click Count: Day 20', 'View Count: Day 20'],\n",
            "      dtype='object')\n"
          ]
        }
      ]
    },
    {
      "cell_type": "code",
      "source": [
        "# Checking the color names\n",
        "print(df.Color.values)"
      ],
      "metadata": {
        "id": "UIfrfox0hhAi",
        "outputId": "1451d753-19f8-4f53-961b-ea2a4db3ede6",
        "colab": {
          "base_uri": "https://localhost:8080/"
        }
      },
      "execution_count": 10,
      "outputs": [
        {
          "output_type": "stream",
          "name": "stdout",
          "text": [
            "['Pink' 'Gray' 'Sapphire' 'Purple' 'Coral' 'Olive' 'Navy' 'Maroon' 'Teal'\n",
            " 'Cyan' 'Orange' 'Black' 'Tan' 'Red' 'Blue' 'Brown' 'Turquoise' 'Indigo'\n",
            " 'Gold' 'Jade' 'Ultramarine' 'Yellow' 'Virdian' 'Violet' 'Green'\n",
            " 'Aquamarine' 'Magenta' 'Silver' 'Bronze' 'Lime']\n"
          ]
        }
      ]
    },
    {
      "cell_type": "code",
      "source": [
        "# Checking for blue\n",
        "assert \"Blue\" in df.Color.values"
      ],
      "metadata": {
        "id": "N_PAEtSCc7Cg"
      },
      "execution_count": 11,
      "outputs": []
    },
    {
      "cell_type": "code",
      "source": [
        "# Summarizing day 1 of the experiment\n",
        "selected_columns = [\"Color\", \"Click Count: Day 1\", \"View Count: Day 1\"]\n",
        "print(df[selected_columns].describe())"
      ],
      "metadata": {
        "id": "x9TbbWQDdd24",
        "outputId": "257394a4-9e05-4093-cac7-39a523da9c55",
        "colab": {
          "base_uri": "https://localhost:8080/"
        }
      },
      "execution_count": 12,
      "outputs": [
        {
          "output_type": "stream",
          "name": "stdout",
          "text": [
            "       Click Count: Day 1  View Count: Day 1\n",
            "count           30.000000               30.0\n",
            "mean            23.533333              100.0\n",
            "std              7.454382                0.0\n",
            "min             12.000000              100.0\n",
            "25%             19.250000              100.0\n",
            "50%             24.000000              100.0\n",
            "75%             26.750000              100.0\n",
            "max             49.000000              100.0\n"
          ]
        }
      ]
    },
    {
      "cell_type": "code",
      "source": [
        "# Summarizing day 2 of the experiment\n",
        "selected_columns = [\"Color\", \"Click Count: Day 2\", \"View Count: Day 2\"]\n",
        "print(df[selected_columns].describe())"
      ],
      "metadata": {
        "id": "qprIn72aluXr",
        "colab": {
          "base_uri": "https://localhost:8080/"
        },
        "outputId": "0e2e532f-fd0b-4fb0-85f6-07fd70af8a3d"
      },
      "execution_count": 13,
      "outputs": [
        {
          "output_type": "stream",
          "name": "stdout",
          "text": [
            "       Click Count: Day 2  View Count: Day 2\n",
            "count           30.000000               30.0\n",
            "mean            24.433333              100.0\n",
            "std              5.864465                0.0\n",
            "min             15.000000              100.0\n",
            "25%             21.000000              100.0\n",
            "50%             24.000000              100.0\n",
            "75%             28.000000              100.0\n",
            "max             41.000000              100.0\n"
          ]
        }
      ]
    },
    {
      "cell_type": "code",
      "source": [
        "# Confirming equivalent daily views\n",
        "view_columns = [col for col in df.columns if \"View\" in col]\n",
        "assert np.all(df[view_columns].values == 100)"
      ],
      "metadata": {
        "id": "KLFIHVnCl3VH"
      },
      "execution_count": 14,
      "outputs": []
    },
    {
      "cell_type": "code",
      "source": [
        "# Deleting view counts from the table\n",
        "df.drop(columns=view_columns, inplace=True)\n",
        "print(df.columns)"
      ],
      "metadata": {
        "colab": {
          "base_uri": "https://localhost:8080/"
        },
        "id": "3O2BJ6X3fPnX",
        "outputId": "81bfa9ec-f2f5-47b4-d673-e5f5f2bb1dc9"
      },
      "execution_count": 15,
      "outputs": [
        {
          "output_type": "stream",
          "name": "stdout",
          "text": [
            "Index(['Color', 'Click Count: Day 1', 'Click Count: Day 2',\n",
            "       'Click Count: Day 3', 'Click Count: Day 4', 'Click Count: Day 5',\n",
            "       'Click Count: Day 6', 'Click Count: Day 7', 'Click Count: Day 8',\n",
            "       'Click Count: Day 9', 'Click Count: Day 10', 'Click Count: Day 11',\n",
            "       'Click Count: Day 12', 'Click Count: Day 13', 'Click Count: Day 14',\n",
            "       'Click Count: Day 15', 'Click Count: Day 16', 'Click Count: Day 17',\n",
            "       'Click Count: Day 18', 'Click Count: Day 19', 'Click Count: Day 20'],\n",
            "      dtype='object')\n"
          ]
        }
      ]
    },
    {
      "cell_type": "code",
      "source": [
        "# Summarizing daily blue-click statistics\n",
        "df.set_index(\"Color\", inplace=True)\n",
        "print(df.T.Blue.describe())"
      ],
      "metadata": {
        "id": "QWD1zaIrfU6l",
        "colab": {
          "base_uri": "https://localhost:8080/"
        },
        "outputId": "30d3fa34-4d1e-422d-faad-a0a48dfed3ff"
      },
      "execution_count": 16,
      "outputs": [
        {
          "output_type": "stream",
          "name": "stdout",
          "text": [
            "count    20.000000\n",
            "mean     28.350000\n",
            "std       5.499043\n",
            "min      18.000000\n",
            "25%      25.750000\n",
            "50%      27.500000\n",
            "75%      30.250000\n",
            "max      42.000000\n",
            "Name: Blue, dtype: float64\n"
          ]
        }
      ]
    },
    {
      "cell_type": "markdown",
      "source": [
        "##Computing p-values from differences in means"
      ],
      "metadata": {
        "id": "T7D6gqvMmPXi"
      }
    },
    {
      "cell_type": "markdown",
      "source": [
        "Let’s turn our attention to retrieving individual columns, which can be accessed\n",
        "using their column names."
      ],
      "metadata": {
        "id": "OK-nhviFkbeI"
      }
    },
    {
      "cell_type": "code",
      "source": [
        "# Accessing all column names\n",
        "print(df.columns)"
      ],
      "metadata": {
        "id": "R2fUqV4qmQbl",
        "outputId": "1372d7f8-4298-4245-905d-3603aad637f6",
        "colab": {
          "base_uri": "https://localhost:8080/"
        }
      },
      "execution_count": null,
      "outputs": [
        {
          "output_type": "stream",
          "name": "stdout",
          "text": [
            "Index(['Fish', 'Length', 'Width'], dtype='object')\n"
          ]
        }
      ]
    },
    {
      "cell_type": "code",
      "source": [
        "# Accessing an individual column\n",
        "print(df.Fish)"
      ],
      "metadata": {
        "id": "TIOvZ6e6kkcw",
        "outputId": "50c7edff-0dd6-45e9-ce63-e8cd97de3924",
        "colab": {
          "base_uri": "https://localhost:8080/"
        }
      },
      "execution_count": null,
      "outputs": [
        {
          "output_type": "stream",
          "name": "stdout",
          "text": [
            "0    Angelfish\n",
            "1    Zebrafish\n",
            "2    Killifish\n",
            "3    Swordtail\n",
            "Name: Fish, dtype: object\n"
          ]
        }
      ]
    },
    {
      "cell_type": "code",
      "source": [
        "print(df.Length)"
      ],
      "metadata": {
        "id": "q2XMsy2DkqcU",
        "outputId": "58d11c7b-3e53-4f44-a43e-0e5be5780483",
        "colab": {
          "base_uri": "https://localhost:8080/"
        }
      },
      "execution_count": null,
      "outputs": [
        {
          "output_type": "stream",
          "name": "stdout",
          "text": [
            "0    15.2\n",
            "1     6.5\n",
            "2     9.0\n",
            "3     6.0\n",
            "Name: Length, dtype: float64\n"
          ]
        }
      ]
    },
    {
      "cell_type": "code",
      "source": [
        "# Retrieving a column as a NumPy array\n",
        "print(df.Fish.values)"
      ],
      "metadata": {
        "id": "cWGxRCAwk0td",
        "outputId": "ab95c095-6012-495b-d042-723a2fd35ab4",
        "colab": {
          "base_uri": "https://localhost:8080/"
        }
      },
      "execution_count": null,
      "outputs": [
        {
          "output_type": "stream",
          "name": "stdout",
          "text": [
            "['Angelfish' 'Zebrafish' 'Killifish' 'Swordtail']\n"
          ]
        }
      ]
    },
    {
      "cell_type": "code",
      "source": [
        "# Accessing a column using brackets\n",
        "print(df[\"Fish\"])"
      ],
      "metadata": {
        "id": "1Y2C66HLk88B",
        "outputId": "bfc07b97-0122-492d-c10f-56f037022331",
        "colab": {
          "base_uri": "https://localhost:8080/"
        }
      },
      "execution_count": null,
      "outputs": [
        {
          "output_type": "stream",
          "name": "stdout",
          "text": [
            "0    Angelfish\n",
            "1    Zebrafish\n",
            "2    Killifish\n",
            "3    Swordtail\n",
            "Name: Fish, dtype: object\n"
          ]
        }
      ]
    },
    {
      "cell_type": "code",
      "source": [
        "# Accessing multiple columns using brackets\n",
        "print(df[[\"Fish\", \"Length\"]])"
      ],
      "metadata": {
        "id": "rY16wTGwlCP3",
        "outputId": "42ecdddc-1eb3-445a-a486-86f3f912a60b",
        "colab": {
          "base_uri": "https://localhost:8080/"
        }
      },
      "execution_count": null,
      "outputs": [
        {
          "output_type": "stream",
          "name": "stdout",
          "text": [
            "        Fish  Length\n",
            "0  Angelfish    15.2\n",
            "1  Zebrafish     6.5\n",
            "2  Killifish     9.0\n",
            "3  Swordtail     6.0\n"
          ]
        }
      ]
    },
    {
      "cell_type": "code",
      "source": [
        "# Sorting rows by column value\n",
        "print(df.sort_values(\"Length\"))"
      ],
      "metadata": {
        "id": "VyZi46ZzlHhV",
        "outputId": "8f80dd04-e746-4607-fcc6-82479c2bf7d2",
        "colab": {
          "base_uri": "https://localhost:8080/"
        }
      },
      "execution_count": null,
      "outputs": [
        {
          "output_type": "stream",
          "name": "stdout",
          "text": [
            "        Fish  Length  Width\n",
            "3  Swordtail     6.0    2.0\n",
            "1  Zebrafish     6.5    2.1\n",
            "2  Killifish     9.0    4.5\n",
            "0  Angelfish    15.2    7.7\n"
          ]
        }
      ]
    },
    {
      "cell_type": "code",
      "source": [
        "# Filtering rows by column value\n",
        "print(df[df.Width >= 3])"
      ],
      "metadata": {
        "id": "D_Ek6dQIlVDI",
        "outputId": "8f73ac9c-6aa1-4134-b5f1-11320b959ae3",
        "colab": {
          "base_uri": "https://localhost:8080/"
        }
      },
      "execution_count": null,
      "outputs": [
        {
          "output_type": "stream",
          "name": "stdout",
          "text": [
            "        Fish  Length  Width\n",
            "0  Angelfish    15.2    7.7\n",
            "2  Killifish     9.0    4.5\n"
          ]
        }
      ]
    }
  ]
}