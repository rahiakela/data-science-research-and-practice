{
  "nbformat": 4,
  "nbformat_minor": 0,
  "metadata": {
    "colab": {
      "name": "05-case-study-solution.ipynb",
      "provenance": [],
      "toc_visible": true,
      "authorship_tag": "ABX9TyMjIyUphVh4h48vgAVkdwtd",
      "include_colab_link": true
    },
    "kernelspec": {
      "name": "python3",
      "display_name": "Python 3"
    },
    "language_info": {
      "name": "python"
    }
  },
  "cells": [
    {
      "cell_type": "markdown",
      "metadata": {
        "id": "view-in-github",
        "colab_type": "text"
      },
      "source": [
        "<a href=\"https://colab.research.google.com/github/rahiakela/data-science-research-and-practice/blob/main/data-science-bookcamp/case-study-2--online-ad-clicks/05_case_study_solution.ipynb\" target=\"_parent\"><img src=\"https://colab.research.google.com/assets/colab-badge.svg\" alt=\"Open In Colab\"/></a>"
      ]
    },
    {
      "cell_type": "markdown",
      "source": [
        "##Case study 2 solution"
      ],
      "metadata": {
        "id": "lXfEhVXLMk9J"
      }
    },
    {
      "cell_type": "markdown",
      "source": [
        "We’ve been asked to analyze the online ad-click data collected by our buddy Fred.\n",
        "His advertising data table monitors ad clicks across 30 different colors. Our aim is\n",
        "to discover an ad color that generates significantly more clicks than blue.\n",
        "\n",
        "We will do so by following these steps:\n",
        "* Load and clean our advertising data using Pandas.\n",
        "* Run a permutation test between blue and the other recorded colors.\n",
        "* Check the computed p-values for statistical significance using a properly\n",
        "determined significance level."
      ],
      "metadata": {
        "id": "yeFtviJ0NOTv"
      }
    },
    {
      "cell_type": "markdown",
      "source": [
        "##Setup"
      ],
      "metadata": {
        "id": "acuDtWwtNO7R"
      }
    },
    {
      "cell_type": "code",
      "source": [
        "from collections import defaultdict\n",
        "import itertools\n",
        "\n",
        "import numpy as np\n",
        "import pandas as pd\n",
        "from scipy import stats\n",
        "import math\n",
        "\n",
        "import seaborn as sns\n",
        "import matplotlib.pyplot as plt"
      ],
      "metadata": {
        "id": "s5coLXNNNQET"
      },
      "execution_count": 1,
      "outputs": []
    },
    {
      "cell_type": "code",
      "source": [
        "!wget https://github.com/rahiakela/data-science-research-and-practice/raw/main/data-science-bookcamp/case-study-2--online-ad-clicks/colored_ad_click_table.csv"
      ],
      "metadata": {
        "id": "rAnD-tMiqzhA"
      },
      "execution_count": null,
      "outputs": []
    },
    {
      "cell_type": "code",
      "source": [
        "# Penalizing centers using the squared distance from the minimum\n",
        "def squared_distance(value1, value2):\n",
        "  return (value1 - value2) ** 2"
      ],
      "metadata": {
        "id": "1hjYBTl1VbYJ"
      },
      "execution_count": 3,
      "outputs": []
    },
    {
      "cell_type": "code",
      "source": [
        "# Penalizing centers using the total sum of squared distances\n",
        "def sum_of_squared_distances(value, measurements):\n",
        "  return sum(squared_distance(value, m) for m in measurements)"
      ],
      "metadata": {
        "id": "n9UZBH__Vd7Y"
      },
      "execution_count": 4,
      "outputs": []
    },
    {
      "cell_type": "code",
      "source": [
        "# Computing California’s sum of squares\n",
        "def sum_of_squares(data):\n",
        "  mean = np.mean(data)\n",
        "  return sum(squared_distance(value, mean) for value in data)"
      ],
      "metadata": {
        "id": "ZsP4lR9-VlFZ"
      },
      "execution_count": 5,
      "outputs": []
    },
    {
      "cell_type": "code",
      "source": [
        "# Computing the variance from mean squared distance\n",
        "def variance(data):\n",
        "  mean = np.mean(data)\n",
        "  return np.mean([squared_distance(value, mean) for value in data])"
      ],
      "metadata": {
        "id": "w8f59ySaVovY"
      },
      "execution_count": 6,
      "outputs": []
    },
    {
      "cell_type": "code",
      "source": [
        "# Computing the weighted variance using np.average\n",
        "def weighted_variance(data, weights):\n",
        "  mean = np.average(data, weights=weights)\n",
        "  squared_distances = [squared_distance(value, mean) for value in data]\n",
        "  return np.average(squared_distances, weights=weights)\n",
        "\n",
        "assert weighted_variance([75, 77], [9, 1]) == np.var(9 * [75] + [77])"
      ],
      "metadata": {
        "id": "AXJEhi-gVrsN"
      },
      "execution_count": 7,
      "outputs": []
    },
    {
      "cell_type": "markdown",
      "source": [
        "##Loading dataset"
      ],
      "metadata": {
        "id": "pnz1cgiEOMj8"
      }
    },
    {
      "cell_type": "markdown",
      "source": [
        "Let’s begin by loading our ad-click table into Pandas."
      ],
      "metadata": {
        "id": "bwOW8afWOPkG"
      }
    },
    {
      "cell_type": "code",
      "source": [
        "# Loading the ad-click table into Pandas\n",
        "df = pd.read_csv(\"colored_ad_click_table.csv\")\n",
        "print(f\"Table contains {df.shape[0]} rows and {df.shape[1]} columns\")"
      ],
      "metadata": {
        "id": "78cmAma-Oimt",
        "colab": {
          "base_uri": "https://localhost:8080/"
        },
        "outputId": "43bf1ff3-e4e8-453a-9138-837e5821c2c4"
      },
      "execution_count": 8,
      "outputs": [
        {
          "output_type": "stream",
          "name": "stdout",
          "text": [
            "Table contains 30 rows and 41 columns\n"
          ]
        }
      ]
    },
    {
      "cell_type": "code",
      "source": [
        "# Checking the column names\n",
        "print(df.columns)"
      ],
      "metadata": {
        "id": "z63R26UkPMgU",
        "colab": {
          "base_uri": "https://localhost:8080/"
        },
        "outputId": "2a34a7db-d165-48f0-d7a2-4cedbe5e809a"
      },
      "execution_count": 9,
      "outputs": [
        {
          "output_type": "stream",
          "name": "stdout",
          "text": [
            "Index(['Color', 'Click Count: Day 1', 'View Count: Day 1',\n",
            "       'Click Count: Day 2', 'View Count: Day 2', 'Click Count: Day 3',\n",
            "       'View Count: Day 3', 'Click Count: Day 4', 'View Count: Day 4',\n",
            "       'Click Count: Day 5', 'View Count: Day 5', 'Click Count: Day 6',\n",
            "       'View Count: Day 6', 'Click Count: Day 7', 'View Count: Day 7',\n",
            "       'Click Count: Day 8', 'View Count: Day 8', 'Click Count: Day 9',\n",
            "       'View Count: Day 9', 'Click Count: Day 10', 'View Count: Day 10',\n",
            "       'Click Count: Day 11', 'View Count: Day 11', 'Click Count: Day 12',\n",
            "       'View Count: Day 12', 'Click Count: Day 13', 'View Count: Day 13',\n",
            "       'Click Count: Day 14', 'View Count: Day 14', 'Click Count: Day 15',\n",
            "       'View Count: Day 15', 'Click Count: Day 16', 'View Count: Day 16',\n",
            "       'Click Count: Day 17', 'View Count: Day 17', 'Click Count: Day 18',\n",
            "       'View Count: Day 18', 'Click Count: Day 19', 'View Count: Day 19',\n",
            "       'Click Count: Day 20', 'View Count: Day 20'],\n",
            "      dtype='object')\n"
          ]
        }
      ]
    },
    {
      "cell_type": "code",
      "source": [
        "# Checking the color names\n",
        "print(df.Color.values)"
      ],
      "metadata": {
        "id": "UIfrfox0hhAi",
        "outputId": "7d179918-66ad-4ef5-c9ba-c2add6936d0d",
        "colab": {
          "base_uri": "https://localhost:8080/"
        }
      },
      "execution_count": 10,
      "outputs": [
        {
          "output_type": "stream",
          "name": "stdout",
          "text": [
            "['Pink' 'Gray' 'Sapphire' 'Purple' 'Coral' 'Olive' 'Navy' 'Maroon' 'Teal'\n",
            " 'Cyan' 'Orange' 'Black' 'Tan' 'Red' 'Blue' 'Brown' 'Turquoise' 'Indigo'\n",
            " 'Gold' 'Jade' 'Ultramarine' 'Yellow' 'Virdian' 'Violet' 'Green'\n",
            " 'Aquamarine' 'Magenta' 'Silver' 'Bronze' 'Lime']\n"
          ]
        }
      ]
    },
    {
      "cell_type": "code",
      "source": [
        "# Checking for blue\n",
        "assert \"Blue\" in df.Color.values"
      ],
      "metadata": {
        "id": "N_PAEtSCc7Cg"
      },
      "execution_count": 11,
      "outputs": []
    },
    {
      "cell_type": "code",
      "source": [
        "# Summarizing day 1 of the experiment\n",
        "selected_columns = [\"Color\", \"Click Count: Day 1\", \"View Count: Day 1\"]\n",
        "print(df[selected_columns].describe())"
      ],
      "metadata": {
        "id": "x9TbbWQDdd24",
        "outputId": "9f7ec06e-c65d-44dc-9305-2ba0413d7f3e",
        "colab": {
          "base_uri": "https://localhost:8080/"
        }
      },
      "execution_count": 12,
      "outputs": [
        {
          "output_type": "stream",
          "name": "stdout",
          "text": [
            "       Click Count: Day 1  View Count: Day 1\n",
            "count           30.000000               30.0\n",
            "mean            23.533333              100.0\n",
            "std              7.454382                0.0\n",
            "min             12.000000              100.0\n",
            "25%             19.250000              100.0\n",
            "50%             24.000000              100.0\n",
            "75%             26.750000              100.0\n",
            "max             49.000000              100.0\n"
          ]
        }
      ]
    },
    {
      "cell_type": "code",
      "source": [
        "# Summarizing day 2 of the experiment\n",
        "selected_columns = [\"Color\", \"Click Count: Day 2\", \"View Count: Day 2\"]\n",
        "print(df[selected_columns].describe())"
      ],
      "metadata": {
        "id": "qprIn72aluXr",
        "colab": {
          "base_uri": "https://localhost:8080/"
        },
        "outputId": "f2cbf8e3-d0ec-4db3-f254-60b1c5ce11dd"
      },
      "execution_count": 13,
      "outputs": [
        {
          "output_type": "stream",
          "name": "stdout",
          "text": [
            "       Click Count: Day 2  View Count: Day 2\n",
            "count           30.000000               30.0\n",
            "mean            24.433333              100.0\n",
            "std              5.864465                0.0\n",
            "min             15.000000              100.0\n",
            "25%             21.000000              100.0\n",
            "50%             24.000000              100.0\n",
            "75%             28.000000              100.0\n",
            "max             41.000000              100.0\n"
          ]
        }
      ]
    },
    {
      "cell_type": "code",
      "source": [
        "# Confirming equivalent daily views\n",
        "view_columns = [col for col in df.columns if \"View\" in col]\n",
        "assert np.all(df[view_columns].values == 100)"
      ],
      "metadata": {
        "id": "KLFIHVnCl3VH"
      },
      "execution_count": 14,
      "outputs": []
    },
    {
      "cell_type": "code",
      "source": [
        "# Deleting view counts from the table\n",
        "df.drop(columns=view_columns, inplace=True)\n",
        "print(df.columns)"
      ],
      "metadata": {
        "colab": {
          "base_uri": "https://localhost:8080/"
        },
        "id": "3O2BJ6X3fPnX",
        "outputId": "96e4b35f-32cd-4080-bf6d-7fc8f62e9f4d"
      },
      "execution_count": 15,
      "outputs": [
        {
          "output_type": "stream",
          "name": "stdout",
          "text": [
            "Index(['Color', 'Click Count: Day 1', 'Click Count: Day 2',\n",
            "       'Click Count: Day 3', 'Click Count: Day 4', 'Click Count: Day 5',\n",
            "       'Click Count: Day 6', 'Click Count: Day 7', 'Click Count: Day 8',\n",
            "       'Click Count: Day 9', 'Click Count: Day 10', 'Click Count: Day 11',\n",
            "       'Click Count: Day 12', 'Click Count: Day 13', 'Click Count: Day 14',\n",
            "       'Click Count: Day 15', 'Click Count: Day 16', 'Click Count: Day 17',\n",
            "       'Click Count: Day 18', 'Click Count: Day 19', 'Click Count: Day 20'],\n",
            "      dtype='object')\n"
          ]
        }
      ]
    },
    {
      "cell_type": "code",
      "source": [
        "# Summarizing daily blue-click statistics\n",
        "df.set_index(\"Color\", inplace=True)\n",
        "print(df.T.Blue.describe())"
      ],
      "metadata": {
        "id": "QWD1zaIrfU6l",
        "colab": {
          "base_uri": "https://localhost:8080/"
        },
        "outputId": "48df4c82-4c5d-4c1b-dbe2-61933180635e"
      },
      "execution_count": 16,
      "outputs": [
        {
          "output_type": "stream",
          "name": "stdout",
          "text": [
            "count    20.000000\n",
            "mean     28.350000\n",
            "std       5.499043\n",
            "min      18.000000\n",
            "25%      25.750000\n",
            "50%      27.500000\n",
            "75%      30.250000\n",
            "max      42.000000\n",
            "Name: Blue, dtype: float64\n"
          ]
        }
      ]
    },
    {
      "cell_type": "markdown",
      "source": [
        "##Computing p-values from differences in means"
      ],
      "metadata": {
        "id": "T7D6gqvMmPXi"
      }
    },
    {
      "cell_type": "markdown",
      "source": [
        "Let’s start by filtering the data."
      ],
      "metadata": {
        "id": "OK-nhviFkbeI"
      }
    },
    {
      "cell_type": "code",
      "source": [
        "# Creating a no-blue table\n",
        "df_not_blue = df.T.drop(columns=\"Blue\")\n",
        "print(df_not_blue.head(2))"
      ],
      "metadata": {
        "id": "R2fUqV4qmQbl",
        "outputId": "cd411db2-2dbb-4c67-b0dd-dbbbdc5980c2",
        "colab": {
          "base_uri": "https://localhost:8080/"
        }
      },
      "execution_count": 17,
      "outputs": [
        {
          "output_type": "stream",
          "name": "stdout",
          "text": [
            "Color               Pink  Gray  Sapphire  Purple  Coral  Olive  Navy  Maroon  \\\n",
            "Click Count: Day 1    21    27        30      26     26     26    38      21   \n",
            "Click Count: Day 2    20    27        32      21     24     19    29      29   \n",
            "\n",
            "Color               Teal  Cyan  ...  Ultramarine  Yellow  Virdian  Violet  \\\n",
            "Click Count: Day 1    25    24  ...           49      14       27      15   \n",
            "Click Count: Day 2    25    22  ...           41      24       23      22   \n",
            "\n",
            "Color               Green  Aquamarine  Magenta  Silver  Bronze  Lime  \n",
            "Click Count: Day 1     14          24       18      26      19    20  \n",
            "Click Count: Day 2     25          28       21      24      19    19  \n",
            "\n",
            "[2 rows x 29 columns]\n"
          ]
        }
      ]
    },
    {
      "cell_type": "code",
      "source": [
        "# Defining a permutation test function\n",
        "def permutation_test(data_array_a, data_array_b):\n",
        "  data_mean_a = data_array_a.mean()\n",
        "  data_mean_b = data_array_b.mean()\n",
        "  # Observed difference between sample means\n",
        "  extreme_mean_diff = abs(data_mean_a - data_mean_b)\n",
        "  total_data = np.hstack([data_array_a, data_array_b])\n",
        "\n",
        "  number_extreme_values = 0.0\n",
        "  for _ in range(30000):\n",
        "    np.random.shuffle(total_data)\n",
        "    sample_a = total_data[: data_array_a.size]\n",
        "    sample_b = total_data[data_array_a.size: ]\n",
        "    # The difference between resampled means is extremely large\n",
        "    if abs(sample_a.mean() - sample_b.mean()) >= number_extreme_values:\n",
        "      number_extreme_values += 1\n",
        "\n",
        "  p_value = number_extreme_values / 30000\n",
        "  return p_value"
      ],
      "metadata": {
        "id": "TIOvZ6e6kkcw"
      },
      "execution_count": 18,
      "outputs": []
    },
    {
      "cell_type": "code",
      "source": [
        "# Running a permutation test across colors\n",
        "np.random.seed(0)\n",
        "\n",
        "blue_clicks = df.T.Blue.values\n",
        "color_to_p_value = {}\n",
        "\n",
        "for color, color_clicks in df_not_blue.items():\n",
        "  p_value = permutation_test(blue_clicks, color_clicks)\n",
        "  color_to_p_value[color] = p_value\n",
        "\n",
        "# sort a dictionary and return two lists\n",
        "sorted_colors, sorted_p_values = zip(*sorted(color_to_p_value.items(), key=lambda x: x[1]))\n",
        "\n",
        "plt.figure(figsize=(3, 10))\n",
        "sns.heatmap([[p_value] for p_value in sorted_p_values],\n",
        "            cmap=\"YlGnBu\", \n",
        "            annot=True,\n",
        "            xticklabels=[\"p-value\"],\n",
        "            yticklabels=sorted_colors)\n",
        "plt.show()"
      ],
      "metadata": {
        "id": "cWGxRCAwk0td",
        "outputId": "4bcb8b69-b6b6-4a1c-c8cb-01ccc2971d00",
        "colab": {
          "base_uri": "https://localhost:8080/",
          "height": 592
        }
      },
      "execution_count": 19,
      "outputs": [
        {
          "output_type": "display_data",
          "data": {
            "text/plain": [
              "<Figure size 216x720 with 2 Axes>"
            ],
            "image/png": "[encoded data removed]"
          },
          "metadata": {
            "needs_background": "light"
          }
        }
      ]
    },
    {
      "cell_type": "code",
      "source": [
        "# Finding the mean click rate of black\n",
        "mean_black = df_not_blue.Black.mean()\n",
        "print(f\"Mean click-rate of black is {mean_black}\")"
      ],
      "metadata": {
        "id": "1Y2C66HLk88B",
        "outputId": "1946c589-2b49-44b4-8854-4a013b589a0c",
        "colab": {
          "base_uri": "https://localhost:8080/"
        }
      },
      "execution_count": 20,
      "outputs": [
        {
          "output_type": "stream",
          "name": "stdout",
          "text": [
            "Mean click-rate of black is 21.6\n"
          ]
        }
      ]
    },
    {
      "cell_type": "code",
      "source": [
        "# Filtering colors with inferior click rates\n",
        "remaining_colors = df[df.T.mean().values > blue_clicks.mean()].index\n",
        "size = remaining_colors.size  \n",
        "print(f\"{size} colors have on average more clicks than Blue.\")\n",
        "print(\"These colors are:\")\n",
        "print(remaining_colors.values)"
      ],
      "metadata": {
        "id": "rY16wTGwlCP3",
        "outputId": "471fab3e-1237-431d-bf2b-b3360cbb5ee4",
        "colab": {
          "base_uri": "https://localhost:8080/"
        }
      },
      "execution_count": 21,
      "outputs": [
        {
          "output_type": "stream",
          "name": "stdout",
          "text": [
            "5 colors have on average more clicks than Blue.\n",
            "These colors are:\n",
            "['Sapphire' 'Navy' 'Teal' 'Ultramarine' 'Aquamarine']\n"
          ]
        }
      ]
    },
    {
      "cell_type": "code",
      "source": [
        "# Printing the five remaining colors\n",
        "for color, p_value in sorted(color_to_p_value.items(), key=lambda x: x[1]):\n",
        "  if color in remaining_colors:\n",
        "    mean = df_not_blue[color].mean()\n",
        "    print(f\"{size} has a p-value of {p_value} and a mean of {mean}\")"
      ],
      "metadata": {
        "id": "VyZi46ZzlHhV",
        "outputId": "f6af0b9a-e8fb-417b-86a9-2de3e49f6dc3",
        "colab": {
          "base_uri": "https://localhost:8080/"
        }
      },
      "execution_count": 22,
      "outputs": [
        {
          "output_type": "stream",
          "name": "stdout",
          "text": [
            "5 has a p-value of 0.0002 and a mean of 28.9\n",
            "5 has a p-value of 0.0002 and a mean of 29.3\n",
            "5 has a p-value of 0.0002 and a mean of 28.45\n",
            "5 has a p-value of 0.00023333333333333333 and a mean of 29.2\n",
            "5 has a p-value of 0.0002666666666666667 and a mean of 34.2\n"
          ]
        }
      ]
    },
    {
      "cell_type": "markdown",
      "source": [
        "##Determining statistical significance"
      ],
      "metadata": {
        "id": "Joa2D6EHuNe7"
      }
    },
    {
      "cell_type": "code",
      "source": [
        "# Applying the Bonferroni correction\n",
        "significance_level = 0.05 / 29\n",
        "\n",
        "print(f\"Adjusted significance level is {significance_level}\")\n",
        "if color_to_p_value[\"Ultramarine\"] <= significance_level:\n",
        "  print(\"Our p-value is statistically significant\")\n",
        "else:\n",
        "  print(\"Our p-value is not statistically significant\")"
      ],
      "metadata": {
        "id": "XshMrkipuOQ3",
        "outputId": "abef4d97-ed3c-42d7-a2e3-332f1e1f47f3",
        "colab": {
          "base_uri": "https://localhost:8080/"
        }
      },
      "execution_count": 23,
      "outputs": [
        {
          "output_type": "stream",
          "name": "stdout",
          "text": [
            "Adjusted significance level is 0.001724137931034483\n",
            "Our p-value is statistically significant\n"
          ]
        }
      ]
    },
    {
      "cell_type": "code",
      "source": [
        "# Exploring a hypothetical significance level\n",
        "hypothetical_sig_level = 0.05 / 5\n",
        "\n",
        "print(f\"Hypothetical significance level is {hypothetical_sig_level}\")\n",
        "if color_to_p_value[\"Ultramarine\"] <= hypothetical_sig_level:\n",
        "  print(\"Our hypothetical p-value would have been statistically significant\")\n",
        "else:\n",
        "  print(\"Our hypothetical p-value would not have been statistically significant\")"
      ],
      "metadata": {
        "id": "LhM0165oz4Ph",
        "outputId": "4ea2de13-9d03-4c86-f73a-102b68f67e20",
        "colab": {
          "base_uri": "https://localhost:8080/"
        }
      },
      "execution_count": 24,
      "outputs": [
        {
          "output_type": "stream",
          "name": "stdout",
          "text": [
            "Hypothetical significance level is 0.01\n",
            "Our hypothetical p-value would have been statistically significant\n"
          ]
        }
      ]
    },
    {
      "cell_type": "markdown",
      "source": [
        "More data isn’t necessarily better: sometimes more data leads to\n",
        "more uncertainty."
      ],
      "metadata": {
        "id": "a1kbF8CB1kok"
      }
    }
  ]
}