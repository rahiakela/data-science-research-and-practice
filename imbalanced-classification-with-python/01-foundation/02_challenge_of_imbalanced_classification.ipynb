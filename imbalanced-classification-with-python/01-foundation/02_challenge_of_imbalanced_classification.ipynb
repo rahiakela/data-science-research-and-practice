{
  "nbformat": 4,
  "nbformat_minor": 0,
  "metadata": {
    "colab": {
      "name": "02-challenge-of-imbalanced-classification.ipynb",
      "provenance": [],
      "toc_visible": true,
      "authorship_tag": "ABX9TyMfaEwnVAn3BN5qU/5vWvGj",
      "include_colab_link": true
    },
    "kernelspec": {
      "name": "python3",
      "display_name": "Python 3"
    },
    "language_info": {
      "name": "python"
    }
  },
  "cells": [
    {
      "cell_type": "markdown",
      "metadata": {
        "id": "view-in-github",
        "colab_type": "text"
      },
      "source": [
        "<a href=\"https://colab.research.google.com/github/rahiakela/data-science-research-and-practice/blob/main/imbalanced-classification-with-python/01-foundation/02_challenge_of_imbalanced_classification.ipynb\" target=\"_parent\"><img src=\"https://colab.research.google.com/assets/colab-badge.svg\" alt=\"Open In Colab\"/></a>"
      ]
    },
    {
      "cell_type": "markdown",
      "source": [
        "##Challenge of Imbalanced Classification"
      ],
      "metadata": {
        "id": "Fw8ZLm6Wr3d9"
      }
    },
    {
      "cell_type": "markdown",
      "source": [
        "Imbalanced classification is primarily challenging as a predictive modeling task because of the\n",
        "severely skewed class distribution. This is the cause for poor performance with traditional\n",
        "machine learning models and evaluation metrics that assume a balanced class distribution.\n",
        "\n",
        "Nevertheless, there are additional properties of a classification dataset that are not only\n",
        "challenging for predictive modeling but also increase or compound the di\u000eculty when modeling\n",
        "imbalanced datasets.\n",
        "\n",
        "Because the class distribution is not balanced, most machine learning algorithms will perform\n",
        "poorly and require modification to avoid simply predicting the majority class in all cases.\n",
        "Additionally, metrics like classification accuracy lose their meaning and alternate methods for\n",
        "evaluating predictions on imbalanced examples are required, like ROC area under curve. This is\n",
        "the foundational challenge of imbalanced classification.\n",
        "\n",
        "For example, misclassifying an example from the majority class as an example from the\n",
        "minority class called a false positive is often not desired, but less critical than classifying an\n",
        "example from the minority class as belonging to the majority class, a so-called false negative.\n",
        "This is referred to as cost sensitivity of misclassification errors and is a second foundational\n",
        "challenge of imbalanced classification.\n",
        "\n",
        "These two aspects, the skewed class distribution and cost sensitivity, are typically referenced\n",
        "when describing the di\u000eculty of imbalanced classification. Nevertheless, there are other charac-\n",
        "teristics of the classification problem that, when combined with these properties, compound\n",
        "their e\u000bect.\n",
        "\n",
        "There are many such characteristics, but perhaps three of the most common include:\n",
        "\n",
        "- Dataset Size.\n",
        "- Label Noise.\n",
        "- Data Distribution."
      ],
      "metadata": {
        "id": "e09BN9bbr3mP"
      }
    },
    {
      "cell_type": "markdown",
      "source": [
        "##Setup"
      ],
      "metadata": {
        "id": "MmIO2L9Rsf16"
      }
    },
    {
      "cell_type": "code",
      "source": [
        "from collections import Counter\n",
        "from sklearn.datasets import make_classification\n",
        "from matplotlib import pyplot as plt\n",
        "from numpy import where"
      ],
      "metadata": {
        "id": "FY0zhlcNsg9B"
      },
      "execution_count": 2,
      "outputs": []
    },
    {
      "cell_type": "markdown",
      "source": [
        "##Effect of Dataset Size"
      ],
      "metadata": {
        "id": "KusZNYZ6shG5"
      }
    },
    {
      "cell_type": "markdown",
      "source": [
        "As such, the size of the dataset dramatically impacts the imbalanced classification task, and\n",
        "datasets that are thought large in general are, in fact, probably not large enough when working\n",
        "with an imbalanced classification problem.\n",
        "\n",
        "To help, let's make this concrete with a worked example. We can use the make classification()\n",
        "scikit-learn function to create a dataset of a given size with a ratio of about 1:100 examples\n",
        "(1 percent to 99 percent) in the minority class to the majority class. The class distribution is\n",
        "specified via the weight argument that takes a list of percentages that must add to one (e.g.\n",
        "[0.99, 0.01])."
      ],
      "metadata": {
        "id": "6vTvSYGQsh7T"
      }
    },
    {
      "cell_type": "code",
      "source": [
        "# dataset sizes\n",
        "sizes = [100, 1000, 10000, 100000]\n",
        "\n",
        "# create and plot a dataset with each size\n",
        "for i in range(len(sizes)):\n",
        "  # determine the dataset size\n",
        "  n = sizes[i]\n",
        "  # create dataset\n",
        "  X, y = make_classification(n_samples=n, n_features=2, n_redundant=0, n_clusters_per_class=1, weights=[0.99], flip_y=0, random_state=1)\n",
        "  # summarize class distribution\n",
        "  counter = Counter(y)\n",
        "  print(\"Size=%d, Ratio=%s\" % (n, counter))\n",
        "\n",
        "  # define subplot\n",
        "  plt.subplot(2, 2, 1 + i)\n",
        "  plt.title(\"n=%d\" % n)\n",
        "  plt.xticks([])\n",
        "  plt.yticks([])\n",
        "  # scatter plot of examples by class label\n",
        "  for label, _ in counter.items():\n",
        "    row_idx = where(y == label)[0]\n",
        "    plt.scatter(X[row_idx, 0], X[row_idx, 1], label=str(label))\n",
        "  plt.legend()\n",
        "plt.show()"
      ],
      "metadata": {
        "colab": {
          "base_uri": "https://localhost:8080/",
          "height": 341
        },
        "id": "HyzwmCXrsyzE",
        "outputId": "5b9c4938-f4f0-4076-9143-87a883301ec7"
      },
      "execution_count": 4,
      "outputs": [
        {
          "output_type": "stream",
          "name": "stdout",
          "text": [
            "Size=100, Ratio=Counter({0: 99, 1: 1})\n",
            "Size=1000, Ratio=Counter({0: 990, 1: 10})\n",
            "Size=10000, Ratio=Counter({0: 9900, 1: 100})\n",
            "Size=100000, Ratio=Counter({0: 99000, 1: 1000})\n"
          ]
        },
        {
          "output_type": "display_data",
          "data": {
            "image/png": "[encoded data removed]",
            "text/plain": [
              "<Figure size 432x288 with 4 Axes>"
            ]
          },
          "metadata": {}
        }
      ]
    },
    {
      "cell_type": "markdown",
      "source": [
        "##Effect of Label Noise"
      ],
      "metadata": {
        "id": "LPJE9hspv7cq"
      }
    },
    {
      "cell_type": "markdown",
      "source": [
        "Label noise refers to examples that belong to one class that are labeled as another class. This\n",
        "can make determining the class boundary in feature space problematic for most machine learning algorithms, and this difficulty typically increases in proportion to the percentage of noise in the\n",
        "labels.\n",
        "This can be achieved\n",
        "by setting the `flip y` argument to the make classification() function which is a percentage\n",
        "of the number of examples in each class to change or \n",
        "ip the label. We will explore varying this\n",
        "from 0 percent, 1 percent, 5 percent, and 7 percent."
      ],
      "metadata": {
        "id": "s00U8Smav8Ac"
      }
    },
    {
      "cell_type": "code",
      "source": [
        "# label noise ratios\n",
        "noise = [0, 0.01, 0.05, 0.07]\n",
        "\n",
        "# create and plot a dataset with different label noise\n",
        "for i in range(len(noise)):\n",
        "  # determine the dataset size\n",
        "  n = noise[i]\n",
        "  # create dataset\n",
        "  X, y = make_classification(n_samples=1000, n_features=2, n_redundant=0, n_clusters_per_class=1, weights=[0.99], flip_y=n, random_state=1)\n",
        "  # summarize class distribution\n",
        "  counter = Counter(y)\n",
        "  print(\"Noise=%d, Ratio=%s\" % (n, counter))\n",
        "\n",
        "  # define subplot\n",
        "  plt.subplot(2, 2, 1 + i)\n",
        "  plt.title(\"noise=%d\" % int(n * 100))\n",
        "  plt.xticks([])\n",
        "  plt.yticks([])\n",
        "  # scatter plot of examples by class label\n",
        "  for label, _ in counter.items():\n",
        "    row_idx = where(y == label)[0]\n",
        "    plt.scatter(X[row_idx, 0], X[row_idx, 1], label=str(label))\n",
        "  plt.legend()\n",
        "plt.show()"
      ],
      "metadata": {
        "colab": {
          "base_uri": "https://localhost:8080/",
          "height": 341
        },
        "id": "Q7USTaiHwqov",
        "outputId": "46b033a4-6c78-40be-d5e7-5a08c4edd792"
      },
      "execution_count": 5,
      "outputs": [
        {
          "output_type": "stream",
          "name": "stdout",
          "text": [
            "Noise=0, Ratio=Counter({0: 990, 1: 10})\n",
            "Noise=0, Ratio=Counter({0: 983, 1: 17})\n",
            "Noise=0, Ratio=Counter({0: 963, 1: 37})\n",
            "Noise=0, Ratio=Counter({0: 959, 1: 41})\n"
          ]
        },
        {
          "output_type": "display_data",
          "data": {
            "image/png": "[encoded data removed]",
            "text/plain": [
              "<Figure size 432x288 with 4 Axes>"
            ]
          },
          "metadata": {}
        }
      ]
    },
    {
      "cell_type": "markdown",
      "source": [
        "##Effect of Data Distribution"
      ],
      "metadata": {
        "id": "1sP9bOB9xkHu"
      }
    },
    {
      "cell_type": "markdown",
      "source": [
        "We can use the number of clusters in the dataset as a proxy for concepts and compare a dataset\n",
        "with one cluster of examples per class to a second dataset with two clusters per class. \n",
        "\n",
        "This can\n",
        "be achieved by varying the n clusters per class argument for the `make classification()`\n",
        "function used to create the dataset. \n",
        "\n",
        "We would expect that in an imbalanced dataset, such as a\n",
        "1:100 class distribution, that the increase in the number of clusters is obvious for the majority\n",
        "class, but not so for the minority class."
      ],
      "metadata": {
        "id": "FHkeOY4rxl1N"
      }
    },
    {
      "cell_type": "code",
      "source": [
        "# number of clusters\n",
        "clusters = [1, 2]\n",
        "\n",
        "# create and plot a dataset with different label noise\n",
        "for i in range(len(clusters)):\n",
        "  # determine the dataset size\n",
        "  c = clusters[i]\n",
        "  # create dataset\n",
        "  X, y = make_classification(n_samples=10000, n_features=2, n_redundant=0, n_clusters_per_class=c, weights=[0.99], flip_y=0, random_state=1)\n",
        "  # summarize class distribution\n",
        "  counter = Counter(y)\n",
        "  print(\"Clusters=%d, Ratio=%s\" % (n, counter))\n",
        "\n",
        "  # define subplot\n",
        "  plt.subplot(2, 2, 1 + i)\n",
        "  plt.title(\"clusters=%d\" % c)\n",
        "  plt.xticks([])\n",
        "  plt.yticks([])\n",
        "  # scatter plot of examples by class label\n",
        "  for label, _ in counter.items():\n",
        "    row_idx = where(y == label)[0]\n",
        "    plt.scatter(X[row_idx, 0], X[row_idx, 1], label=str(label))\n",
        "  plt.legend()\n",
        "plt.show()"
      ],
      "metadata": {
        "colab": {
          "base_uri": "https://localhost:8080/",
          "height": 185
        },
        "id": "F3YK__kmyU-r",
        "outputId": "df3bde9a-354f-47a2-e3d5-d5d9b6f28d1a"
      },
      "execution_count": 9,
      "outputs": [
        {
          "output_type": "stream",
          "name": "stdout",
          "text": [
            "Clusters=0, Ratio=Counter({0: 9900, 1: 100})\n",
            "Clusters=0, Ratio=Counter({0: 9900, 1: 100})\n"
          ]
        },
        {
          "output_type": "display_data",
          "data": {
            "image/png": "[encoded data removed]",
            "text/plain": [
              "<Figure size 432x288 with 2 Axes>"
            ]
          },
          "metadata": {}
        }
      ]
    },
    {
      "cell_type": "markdown",
      "source": [
        "- Imbalanced classification is specifically hard because of the severely skewed class distribu-\n",
        "tion and the unequal misclassification costs.\n",
        "- The difficulty of imbalanced classification is compounded by properties such as dataset\n",
        "size, label noise, and data distribution.\n"
      ],
      "metadata": {
        "id": "EamCITX5zMMS"
      }
    }
  ]
}