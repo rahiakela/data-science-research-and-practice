{
  "cells": [
    {
      "cell_type": "markdown",
      "metadata": {
        "id": "view-in-github",
        "colab_type": "text"
      },
      "source": [
        "<a href=\"https://colab.research.google.com/github/rahiakela/data-science-research-and-practice/blob/main/think-stats-3rd/03_probability_mass_functions.ipynb\" target=\"_parent\"><img src=\"https://colab.research.google.com/assets/colab-badge.svg\" alt=\"Open In Colab\"/></a>"
      ]
    },
    {
      "cell_type": "markdown",
      "source": [
        "## Probability Mass Functions"
      ],
      "metadata": {
        "id": "V51GyPRHZZJG"
      },
      "id": "V51GyPRHZZJG"
    },
    {
      "cell_type": "markdown",
      "id": "259c89bc",
      "metadata": {
        "id": "259c89bc"
      },
      "source": [
        "In the previous chapter we represented distributions using a `FreqTab` object, which contains a set of values and their frequencies -- that is, the number of times each value appears.\n",
        "In this chapter we'll introduce another way to describe a distribution, a probability mass function (PMF).\n",
        "\n",
        "To represent a PMF, **we'll use an object called a `Pmf`, which contains a set of values and their probabilities**.\n",
        "We'll use `Pmf` objects to compute the mean and variance of a distribution, and the skewness, which indicates whether it is skewed to the left or right.\n",
        "Finally, we will explore how a phenomenon called the \"inspection paradox\" can cause a sample to give a biased view of a distribution."
      ]
    },
    {
      "cell_type": "code",
      "execution_count": 1,
      "id": "c4578587",
      "metadata": {
        "tags": [],
        "id": "c4578587",
        "outputId": "9f6a2ea4-1292-4967-dd74-ca55949c88c0",
        "colab": {
          "base_uri": "https://localhost:8080/"
        }
      },
      "outputs": [
        {
          "output_type": "stream",
          "name": "stdout",
          "text": [
            "Downloaded thinkstats.py\n"
          ]
        }
      ],
      "source": [
        "from os.path import basename, exists\n",
        "\n",
        "\n",
        "def download(url):\n",
        "    filename = basename(url)\n",
        "    if not exists(filename):\n",
        "        from urllib.request import urlretrieve\n",
        "\n",
        "        local, _ = urlretrieve(url, filename)\n",
        "        print(\"Downloaded \" + local)\n",
        "\n",
        "\n",
        "download(\"https://github.com/AllenDowney/ThinkStats/raw/v3/nb/thinkstats.py\")"
      ]
    },
    {
      "cell_type": "code",
      "execution_count": null,
      "id": "f66668e0",
      "metadata": {
        "tags": [],
        "id": "f66668e0"
      },
      "outputs": [],
      "source": [
        "try:\n",
        "    import empiricaldist\n",
        "except ImportError:\n",
        "    %pip install empiricaldist"
      ]
    },
    {
      "cell_type": "code",
      "execution_count": 3,
      "id": "e47f1afd",
      "metadata": {
        "tags": [],
        "id": "e47f1afd"
      },
      "outputs": [],
      "source": [
        "import numpy as np\n",
        "import pandas as pd\n",
        "import matplotlib.pyplot as plt\n",
        "\n",
        "from thinkstats import decorate"
      ]
    },
    {
      "cell_type": "markdown",
      "source": [
        "## PMFs"
      ],
      "metadata": {
        "id": "lravW21holcu"
      },
      "id": "lravW21holcu"
    },
    {
      "cell_type": "markdown",
      "id": "5f56b6a7",
      "metadata": {
        "id": "5f56b6a7"
      },
      "source": [
        "A `Pmf` object is like a `FreqTab` that **contains probabilities instead of frequencies**.\n",
        "So one way to make a `Pmf` is to start with a `FreqTab`.\n",
        "For example, here's a `FreqTab` that represents the distribution of values in a short sequence."
      ]
    },
    {
      "cell_type": "code",
      "execution_count": 7,
      "id": "8f418fed",
      "metadata": {
        "id": "8f418fed",
        "outputId": "36f22285-1026-4c71-9ea9-b140d5d4e264",
        "colab": {
          "base_uri": "https://localhost:8080/",
          "height": 192
        }
      },
      "outputs": [
        {
          "output_type": "execute_result",
          "data": {
            "text/plain": [
              "1    1\n",
              "2    2\n",
              "3    1\n",
              "5    1\n",
              "Name: , dtype: int64"
            ],
            "text/html": [
              "<div>\n",
              "<style scoped>\n",
              "    .dataframe tbody tr th:only-of-type {\n",
              "        vertical-align: middle;\n",
              "    }\n",
              "\n",
              "    .dataframe tbody tr th {\n",
              "        vertical-align: top;\n",
              "    }\n",
              "\n",
              "    .dataframe thead th {\n",
              "        text-align: right;\n",
              "    }\n",
              "</style>\n",
              "<table border=\"1\" class=\"dataframe\">\n",
              "  <thead>\n",
              "    <tr style=\"text-align: right;\">\n",
              "      <th></th>\n",
              "      <th></th>\n",
              "    </tr>\n",
              "  </thead>\n",
              "  <tbody>\n",
              "    <tr>\n",
              "      <th>1</th>\n",
              "      <td>1</td>\n",
              "    </tr>\n",
              "    <tr>\n",
              "      <th>2</th>\n",
              "      <td>2</td>\n",
              "    </tr>\n",
              "    <tr>\n",
              "      <th>3</th>\n",
              "      <td>1</td>\n",
              "    </tr>\n",
              "    <tr>\n",
              "      <th>5</th>\n",
              "      <td>1</td>\n",
              "    </tr>\n",
              "  </tbody>\n",
              "</table>\n",
              "</div><br><label><b>dtype:</b> int64</label>"
            ]
          },
          "metadata": {},
          "execution_count": 7
        }
      ],
      "source": [
        "from empiricaldist import FreqTab\n",
        "\n",
        "ftab = FreqTab.from_seq([1, 2, 2, 3, 5])\n",
        "ftab"
      ]
    },
    {
      "cell_type": "markdown",
      "id": "f70e8df4",
      "metadata": {
        "id": "f70e8df4"
      },
      "source": [
        "The sum of the frequencies is the size of the original sequence."
      ]
    },
    {
      "cell_type": "code",
      "execution_count": 8,
      "id": "8e1ee1ca",
      "metadata": {
        "id": "8e1ee1ca",
        "outputId": "f54d1c91-d20c-436a-94a8-cfaf2d8ddfcf",
        "colab": {
          "base_uri": "https://localhost:8080/"
        }
      },
      "outputs": [
        {
          "output_type": "execute_result",
          "data": {
            "text/plain": [
              "np.int64(5)"
            ]
          },
          "metadata": {},
          "execution_count": 8
        }
      ],
      "source": [
        "n = ftab.sum()\n",
        "n"
      ]
    },
    {
      "cell_type": "markdown",
      "id": "eeed5af8",
      "metadata": {
        "id": "eeed5af8"
      },
      "source": [
        "If we divide the frequencies by `n`, they represent proportions, rather than counts."
      ]
    },
    {
      "cell_type": "code",
      "execution_count": 9,
      "id": "07dab3d2",
      "metadata": {
        "id": "07dab3d2",
        "outputId": "96490413-05ce-4267-f544-b35733f9cf02",
        "colab": {
          "base_uri": "https://localhost:8080/",
          "height": 192
        }
      },
      "outputs": [
        {
          "output_type": "execute_result",
          "data": {
            "text/plain": [
              "1    0.2\n",
              "2    0.4\n",
              "3    0.2\n",
              "5    0.2\n",
              "Name: , dtype: float64"
            ],
            "text/html": [
              "<div>\n",
              "<style scoped>\n",
              "    .dataframe tbody tr th:only-of-type {\n",
              "        vertical-align: middle;\n",
              "    }\n",
              "\n",
              "    .dataframe tbody tr th {\n",
              "        vertical-align: top;\n",
              "    }\n",
              "\n",
              "    .dataframe thead th {\n",
              "        text-align: right;\n",
              "    }\n",
              "</style>\n",
              "<table border=\"1\" class=\"dataframe\">\n",
              "  <thead>\n",
              "    <tr style=\"text-align: right;\">\n",
              "      <th></th>\n",
              "      <th></th>\n",
              "    </tr>\n",
              "  </thead>\n",
              "  <tbody>\n",
              "    <tr>\n",
              "      <th>1</th>\n",
              "      <td>0.2</td>\n",
              "    </tr>\n",
              "    <tr>\n",
              "      <th>2</th>\n",
              "      <td>0.4</td>\n",
              "    </tr>\n",
              "    <tr>\n",
              "      <th>3</th>\n",
              "      <td>0.2</td>\n",
              "    </tr>\n",
              "    <tr>\n",
              "      <th>5</th>\n",
              "      <td>0.2</td>\n",
              "    </tr>\n",
              "  </tbody>\n",
              "</table>\n",
              "</div><br><label><b>dtype:</b> float64</label>"
            ]
          },
          "metadata": {},
          "execution_count": 9
        }
      ],
      "source": [
        "pmf = ftab / n\n",
        "pmf"
      ]
    },
    {
      "cell_type": "markdown",
      "id": "1e0a7d3c",
      "metadata": {
        "id": "1e0a7d3c"
      },
      "source": [
        "This result indicates that 20% of the values in the sequence are 1, 40% are 2, and so on.\n",
        "\n",
        "We can also think of these proportions as probabilities in the following sense: if we choose a random value from the original sequence, the probability we choose the value 1 is 0.2, the probability we choose the value 2 is 0.4, and so on.\n",
        "\n",
        "Because we divided through by `n`, the sum of the probabilities is 1, which means that this distribution is **normalized**."
      ]
    },
    {
      "cell_type": "code",
      "execution_count": 10,
      "id": "af296dc9",
      "metadata": {
        "id": "af296dc9",
        "outputId": "31f990d5-6b08-4dc7-a702-89a6c09aa0c9",
        "colab": {
          "base_uri": "https://localhost:8080/"
        }
      },
      "outputs": [
        {
          "output_type": "execute_result",
          "data": {
            "text/plain": [
              "np.float64(1.0)"
            ]
          },
          "metadata": {},
          "execution_count": 10
        }
      ],
      "source": [
        "pmf.sum()"
      ]
    },
    {
      "cell_type": "markdown",
      "id": "c81d485a",
      "metadata": {
        "id": "c81d485a"
      },
      "source": [
        "A normalized `FreqTab` object represents a **probability mass function** (PMF), so-called because probabilities associated with discrete values are also called \"probability masses\".\n",
        "\n",
        "The `empiricaldist` library provides a `Pmf` object that represents a probability mass function, so instead of creating a `FreqTab` object and then normalizing it, we can create a `Pmf` object directly."
      ]
    },
    {
      "cell_type": "code",
      "execution_count": 11,
      "id": "3fff30ec",
      "metadata": {
        "id": "3fff30ec",
        "outputId": "c93c459e-f166-4570-dec6-08748ede3e4b",
        "colab": {
          "base_uri": "https://localhost:8080/",
          "height": 192
        }
      },
      "outputs": [
        {
          "output_type": "execute_result",
          "data": {
            "text/plain": [
              "1    0.2\n",
              "2    0.4\n",
              "3    0.2\n",
              "5    0.2\n",
              "Name: , dtype: float64"
            ],
            "text/html": [
              "<div>\n",
              "<style scoped>\n",
              "    .dataframe tbody tr th:only-of-type {\n",
              "        vertical-align: middle;\n",
              "    }\n",
              "\n",
              "    .dataframe tbody tr th {\n",
              "        vertical-align: top;\n",
              "    }\n",
              "\n",
              "    .dataframe thead th {\n",
              "        text-align: right;\n",
              "    }\n",
              "</style>\n",
              "<table border=\"1\" class=\"dataframe\">\n",
              "  <thead>\n",
              "    <tr style=\"text-align: right;\">\n",
              "      <th></th>\n",
              "      <th></th>\n",
              "    </tr>\n",
              "  </thead>\n",
              "  <tbody>\n",
              "    <tr>\n",
              "      <th>1</th>\n",
              "      <td>0.2</td>\n",
              "    </tr>\n",
              "    <tr>\n",
              "      <th>2</th>\n",
              "      <td>0.4</td>\n",
              "    </tr>\n",
              "    <tr>\n",
              "      <th>3</th>\n",
              "      <td>0.2</td>\n",
              "    </tr>\n",
              "    <tr>\n",
              "      <th>5</th>\n",
              "      <td>0.2</td>\n",
              "    </tr>\n",
              "  </tbody>\n",
              "</table>\n",
              "</div><br><label><b>dtype:</b> float64</label>"
            ]
          },
          "metadata": {},
          "execution_count": 11
        }
      ],
      "source": [
        "from empiricaldist import Pmf\n",
        "\n",
        "pmf = Pmf.from_seq([1, 2, 2, 3, 5])\n",
        "pmf"
      ]
    },
    {
      "cell_type": "markdown",
      "id": "d8428fe8",
      "metadata": {
        "id": "d8428fe8"
      },
      "source": [
        "The `Pmf` is normalized so the total probability is 1."
      ]
    },
    {
      "cell_type": "code",
      "execution_count": 12,
      "id": "5e01b656",
      "metadata": {
        "id": "5e01b656",
        "outputId": "bf32da8e-ebc7-4b06-ab5c-f6912473f7bc",
        "colab": {
          "base_uri": "https://localhost:8080/"
        }
      },
      "outputs": [
        {
          "output_type": "execute_result",
          "data": {
            "text/plain": [
              "np.float64(1.0)"
            ]
          },
          "metadata": {},
          "execution_count": 12
        }
      ],
      "source": [
        "pmf.sum()"
      ]
    },
    {
      "cell_type": "markdown",
      "id": "4cc44f90",
      "metadata": {
        "id": "4cc44f90"
      },
      "source": [
        "`Pmf` and `FreqTab` objects are similar in many ways.\n",
        "To look up the probability associated with a value, we can use the bracket operator."
      ]
    },
    {
      "cell_type": "code",
      "execution_count": 13,
      "id": "41280992",
      "metadata": {
        "id": "41280992",
        "outputId": "daaeb223-d0d1-4f10-d214-86b3b1c0e5ff",
        "colab": {
          "base_uri": "https://localhost:8080/"
        }
      },
      "outputs": [
        {
          "output_type": "execute_result",
          "data": {
            "text/plain": [
              "np.float64(0.4)"
            ]
          },
          "metadata": {},
          "execution_count": 13
        }
      ],
      "source": [
        "pmf[2]"
      ]
    },
    {
      "cell_type": "markdown",
      "id": "ff05014f",
      "metadata": {
        "id": "ff05014f"
      },
      "source": [
        "Or use parentheses to call the `Pmf` like a function."
      ]
    },
    {
      "cell_type": "code",
      "execution_count": 14,
      "id": "2ac2919b",
      "metadata": {
        "id": "2ac2919b",
        "outputId": "655d3129-04c5-46c3-9cc8-ab96c02935e2",
        "colab": {
          "base_uri": "https://localhost:8080/"
        }
      },
      "outputs": [
        {
          "output_type": "execute_result",
          "data": {
            "text/plain": [
              "np.float64(0.4)"
            ]
          },
          "metadata": {},
          "execution_count": 14
        }
      ],
      "source": [
        "pmf(2)"
      ]
    },
    {
      "cell_type": "markdown",
      "id": "98af6144",
      "metadata": {
        "id": "98af6144"
      },
      "source": [
        "To assign a probability to a value, you have to use the bracket operator."
      ]
    },
    {
      "cell_type": "code",
      "execution_count": 15,
      "id": "b53f5742",
      "metadata": {
        "id": "b53f5742",
        "outputId": "38b33488-02a3-4713-9fe3-15730a3dd9e4",
        "colab": {
          "base_uri": "https://localhost:8080/"
        }
      },
      "outputs": [
        {
          "output_type": "execute_result",
          "data": {
            "text/plain": [
              "np.float64(0.2)"
            ]
          },
          "metadata": {},
          "execution_count": 15
        }
      ],
      "source": [
        "pmf[2] = 0.2\n",
        "pmf(2)"
      ]
    },
    {
      "cell_type": "markdown",
      "id": "69db5cfb",
      "metadata": {
        "id": "69db5cfb"
      },
      "source": [
        "You can modify an existing `Pmf` by incrementing the probability associated with a value:"
      ]
    },
    {
      "cell_type": "code",
      "execution_count": 16,
      "id": "25ecc3b0",
      "metadata": {
        "id": "25ecc3b0",
        "outputId": "fdbbeb19-5831-4cdd-e61a-2846e9ea6d9e",
        "colab": {
          "base_uri": "https://localhost:8080/"
        }
      },
      "outputs": [
        {
          "output_type": "execute_result",
          "data": {
            "text/plain": [
              "np.float64(0.5)"
            ]
          },
          "metadata": {},
          "execution_count": 16
        }
      ],
      "source": [
        "pmf[2] += 0.3\n",
        "pmf[2]"
      ]
    },
    {
      "cell_type": "markdown",
      "id": "b4de74dd",
      "metadata": {
        "id": "b4de74dd"
      },
      "source": [
        "Or you can multiply a probability by a factor:"
      ]
    },
    {
      "cell_type": "code",
      "execution_count": 17,
      "id": "df663bda",
      "metadata": {
        "id": "df663bda",
        "outputId": "abba79c8-e748-4d1d-d0a1-b183149ff3a7",
        "colab": {
          "base_uri": "https://localhost:8080/"
        }
      },
      "outputs": [
        {
          "output_type": "execute_result",
          "data": {
            "text/plain": [
              "np.float64(0.25)"
            ]
          },
          "metadata": {},
          "execution_count": 17
        }
      ],
      "source": [
        "pmf[2] *= 0.5\n",
        "pmf[2]"
      ]
    },
    {
      "cell_type": "markdown",
      "id": "3abe8d9e",
      "metadata": {
        "id": "3abe8d9e"
      },
      "source": [
        "If you modify a `Pmf`, the result may not be normalized -- that is, the probabilities may no longer add up to 1."
      ]
    },
    {
      "cell_type": "code",
      "execution_count": 18,
      "id": "864a09be",
      "metadata": {
        "id": "864a09be",
        "outputId": "48f0c2ed-334a-4685-d897-bd72fa0bfc5c",
        "colab": {
          "base_uri": "https://localhost:8080/"
        }
      },
      "outputs": [
        {
          "output_type": "execute_result",
          "data": {
            "text/plain": [
              "np.float64(0.8500000000000001)"
            ]
          },
          "metadata": {},
          "execution_count": 18
        }
      ],
      "source": [
        "pmf.sum()"
      ]
    },
    {
      "cell_type": "markdown",
      "id": "bce848f1",
      "metadata": {
        "id": "bce848f1"
      },
      "source": [
        "The `normalize` method renormalizes the `Pmf` by dividing through by the sum -- and returning the sum."
      ]
    },
    {
      "cell_type": "code",
      "execution_count": 19,
      "id": "a06845d8",
      "metadata": {
        "id": "a06845d8",
        "outputId": "83913c75-a41e-4ec5-f794-7f6ffd38edbe",
        "colab": {
          "base_uri": "https://localhost:8080/"
        }
      },
      "outputs": [
        {
          "output_type": "execute_result",
          "data": {
            "text/plain": [
              "np.float64(0.8500000000000001)"
            ]
          },
          "metadata": {},
          "execution_count": 19
        }
      ],
      "source": [
        "pmf.normalize()"
      ]
    },
    {
      "cell_type": "markdown",
      "id": "4ae297e6",
      "metadata": {
        "id": "4ae297e6"
      },
      "source": [
        "`Pmf` objects provide a `copy` method so you can make and modify a copy without affecting the original."
      ]
    },
    {
      "cell_type": "code",
      "execution_count": 20,
      "id": "7738244e",
      "metadata": {
        "id": "7738244e",
        "outputId": "48ce6ffa-f994-4870-b9a8-cea8e76fa44d",
        "colab": {
          "base_uri": "https://localhost:8080/",
          "height": 192
        }
      },
      "outputs": [
        {
          "output_type": "execute_result",
          "data": {
            "text/plain": [
              "1    0.235294\n",
              "2    0.294118\n",
              "3    0.235294\n",
              "5    0.235294\n",
              "Name: , dtype: float64"
            ],
            "text/html": [
              "<div>\n",
              "<style scoped>\n",
              "    .dataframe tbody tr th:only-of-type {\n",
              "        vertical-align: middle;\n",
              "    }\n",
              "\n",
              "    .dataframe tbody tr th {\n",
              "        vertical-align: top;\n",
              "    }\n",
              "\n",
              "    .dataframe thead th {\n",
              "        text-align: right;\n",
              "    }\n",
              "</style>\n",
              "<table border=\"1\" class=\"dataframe\">\n",
              "  <thead>\n",
              "    <tr style=\"text-align: right;\">\n",
              "      <th></th>\n",
              "      <th></th>\n",
              "    </tr>\n",
              "  </thead>\n",
              "  <tbody>\n",
              "    <tr>\n",
              "      <th>1</th>\n",
              "      <td>0.235294</td>\n",
              "    </tr>\n",
              "    <tr>\n",
              "      <th>2</th>\n",
              "      <td>0.294118</td>\n",
              "    </tr>\n",
              "    <tr>\n",
              "      <th>3</th>\n",
              "      <td>0.235294</td>\n",
              "    </tr>\n",
              "    <tr>\n",
              "      <th>5</th>\n",
              "      <td>0.235294</td>\n",
              "    </tr>\n",
              "  </tbody>\n",
              "</table>\n",
              "</div><br><label><b>dtype:</b> float64</label>"
            ]
          },
          "metadata": {},
          "execution_count": 20
        }
      ],
      "source": [
        "pmf.copy()"
      ]
    },
    {
      "cell_type": "markdown",
      "id": "94f5f531",
      "metadata": {
        "id": "94f5f531"
      },
      "source": [
        "Like a `FreqTab` object, a `Pmf` object has a `qs` attribute that accesses the quantities and a `ps` attribute that accesses the probabilities.\n",
        "\n",
        "It also has a `bar` method that plots the `Pmf` as a bar graph and a `plot` method that plots it as a line graph."
      ]
    },
    {
      "cell_type": "code",
      "source": [
        "pmf.bar()\n",
        "decorate(xlabel=\"Value\", ylabel=\"Frequency\")"
      ],
      "metadata": {
        "id": "n_Z5aVo_aLFF",
        "outputId": "8a724dbb-9db2-48d7-d539-2358b59c8cb6",
        "colab": {
          "base_uri": "https://localhost:8080/",
          "height": 272
        }
      },
      "id": "n_Z5aVo_aLFF",
      "execution_count": 21,
      "outputs": [
        {
          "output_type": "display_data",
          "data": {
            "text/plain": [
              "<Figure size 450x262.5 with 1 Axes>"
            ],
            "image/png": "[encoded data removed]"
          },
          "metadata": {}
        }
      ]
    },
    {
      "cell_type": "code",
      "source": [
        "pmf.plot()\n",
        "decorate(xlabel=\"Value\", ylabel=\"Frequency\")"
      ],
      "metadata": {
        "id": "971igCa2bDYD",
        "outputId": "8536261f-cd96-469c-8be4-48d40f856a6a",
        "colab": {
          "base_uri": "https://localhost:8080/",
          "height": 271
        }
      },
      "id": "971igCa2bDYD",
      "execution_count": 22,
      "outputs": [
        {
          "output_type": "display_data",
          "data": {
            "text/plain": [
              "<Figure size 450x262.5 with 1 Axes>"
            ],
            "image/png": "[encoded data removed]"
          },
          "metadata": {}
        }
      ]
    },
    {
      "cell_type": "markdown",
      "id": "3e77da45",
      "metadata": {
        "tags": [],
        "id": "3e77da45"
      },
      "source": [
        "## Summarizing a PMF"
      ]
    },
    {
      "cell_type": "markdown",
      "source": [
        "In [Chapter 1](section_summary_statistics) we computed the mean of a sample by adding up the elements and dividing by the number of elements.\n",
        "Here's a simple example."
      ],
      "metadata": {
        "id": "PcEkW2HjoqpE"
      },
      "id": "PcEkW2HjoqpE"
    },
    {
      "cell_type": "code",
      "execution_count": 23,
      "id": "07579612",
      "metadata": {
        "id": "07579612",
        "outputId": "21ee8311-d960-4426-f7f6-8d6cc1c6043c",
        "colab": {
          "base_uri": "https://localhost:8080/"
        }
      },
      "outputs": [
        {
          "output_type": "execute_result",
          "data": {
            "text/plain": [
              "np.float64(2.6)"
            ]
          },
          "metadata": {},
          "execution_count": 23
        }
      ],
      "source": [
        "seq = [1, 2, 2, 3, 5]\n",
        "\n",
        "n = len(seq)\n",
        "mean = np.sum(seq) / n\n",
        "mean"
      ]
    },
    {
      "cell_type": "markdown",
      "id": "7ca46b48",
      "metadata": {
        "id": "7ca46b48"
      },
      "source": [
        "Now suppose we compute the PMF of the values in the sequence."
      ]
    },
    {
      "cell_type": "code",
      "execution_count": 24,
      "id": "fa1ca2c9",
      "metadata": {
        "id": "fa1ca2c9"
      },
      "outputs": [],
      "source": [
        "pmf = Pmf.from_seq(seq)"
      ]
    },
    {
      "cell_type": "markdown",
      "id": "ea4a034d",
      "metadata": {
        "id": "ea4a034d"
      },
      "source": [
        "Given the `Pmf`, we can still compute the mean, but the process is different -- we have to multiply the probabilities and quantities and add up the products."
      ]
    },
    {
      "cell_type": "code",
      "execution_count": 25,
      "id": "f73de148",
      "metadata": {
        "id": "f73de148",
        "outputId": "c520364f-c948-4c04-ec5c-3a7b0d4a16b6",
        "colab": {
          "base_uri": "https://localhost:8080/"
        }
      },
      "outputs": [
        {
          "output_type": "execute_result",
          "data": {
            "text/plain": [
              "np.float64(2.6)"
            ]
          },
          "metadata": {},
          "execution_count": 25
        }
      ],
      "source": [
        "mean = np.sum(pmf.ps * pmf.qs)\n",
        "mean"
      ]
    },
    {
      "cell_type": "markdown",
      "id": "b7913b14",
      "metadata": {
        "id": "b7913b14"
      },
      "source": [
        "Notice that we *don't* have to divide by `n`, because we already did that when we normalized the `Pmf`.\n",
        "`Pmf` objects have a `mean` method that does the same thing."
      ]
    },
    {
      "cell_type": "code",
      "execution_count": 26,
      "id": "b7a352d8",
      "metadata": {
        "id": "b7a352d8",
        "outputId": "510efe24-028b-4801-fe59-03c50b5d84c6",
        "colab": {
          "base_uri": "https://localhost:8080/"
        }
      },
      "outputs": [
        {
          "output_type": "execute_result",
          "data": {
            "text/plain": [
              "np.float64(2.6)"
            ]
          },
          "metadata": {},
          "execution_count": 26
        }
      ],
      "source": [
        "pmf.mean()"
      ]
    },
    {
      "cell_type": "markdown",
      "id": "444f74bd",
      "metadata": {
        "id": "444f74bd"
      },
      "source": [
        "Given a `Pmf`, we can compute the variance by computing the deviation of each quantity from the mean."
      ]
    },
    {
      "cell_type": "code",
      "execution_count": 27,
      "id": "06ecd356",
      "metadata": {
        "id": "06ecd356"
      },
      "outputs": [],
      "source": [
        "deviations = pmf.qs - mean"
      ]
    },
    {
      "cell_type": "markdown",
      "id": "b4a01857",
      "metadata": {
        "id": "b4a01857"
      },
      "source": [
        "Then we multiply the squared deviations by the probabilities and add up the products."
      ]
    },
    {
      "cell_type": "code",
      "execution_count": 28,
      "id": "bd600815",
      "metadata": {
        "id": "bd600815",
        "outputId": "3cb17c3f-5756-4e40-c92d-41b92b4fe9bc",
        "colab": {
          "base_uri": "https://localhost:8080/"
        }
      },
      "outputs": [
        {
          "output_type": "execute_result",
          "data": {
            "text/plain": [
              "np.float64(1.84)"
            ]
          },
          "metadata": {},
          "execution_count": 28
        }
      ],
      "source": [
        "var = np.sum(pmf.ps * deviations**2)\n",
        "var"
      ]
    },
    {
      "cell_type": "markdown",
      "id": "f8a9a9b6",
      "metadata": {
        "id": "f8a9a9b6"
      },
      "source": [
        "The `var` method does the same thing."
      ]
    },
    {
      "cell_type": "code",
      "execution_count": 29,
      "id": "a220d0e6",
      "metadata": {
        "id": "a220d0e6",
        "outputId": "3bc20e8f-16ba-4c86-a171-ba58a7a48de7",
        "colab": {
          "base_uri": "https://localhost:8080/"
        }
      },
      "outputs": [
        {
          "output_type": "execute_result",
          "data": {
            "text/plain": [
              "np.float64(1.84)"
            ]
          },
          "metadata": {},
          "execution_count": 29
        }
      ],
      "source": [
        "pmf.var()"
      ]
    },
    {
      "cell_type": "markdown",
      "id": "9a1c2c57",
      "metadata": {
        "id": "9a1c2c57"
      },
      "source": [
        "From the variance, we can compute the standard deviation in the usual way."
      ]
    },
    {
      "cell_type": "code",
      "execution_count": 30,
      "id": "5e152cda",
      "metadata": {
        "id": "5e152cda",
        "outputId": "bc26f536-3497-4e32-dde7-bed35db7d9fd",
        "colab": {
          "base_uri": "https://localhost:8080/"
        }
      },
      "outputs": [
        {
          "output_type": "execute_result",
          "data": {
            "text/plain": [
              "np.float64(1.3564659966250536)"
            ]
          },
          "metadata": {},
          "execution_count": 30
        }
      ],
      "source": [
        "np.sqrt(var)"
      ]
    },
    {
      "cell_type": "markdown",
      "id": "f2accd22",
      "metadata": {
        "id": "f2accd22"
      },
      "source": [
        "Or the `std` method does the same thing."
      ]
    },
    {
      "cell_type": "code",
      "execution_count": 31,
      "id": "e7557612",
      "metadata": {
        "id": "e7557612",
        "outputId": "c27b427e-d89e-4b75-b4a9-913d3343ae28",
        "colab": {
          "base_uri": "https://localhost:8080/"
        }
      },
      "outputs": [
        {
          "output_type": "execute_result",
          "data": {
            "text/plain": [
              "np.float64(1.3564659966250536)"
            ]
          },
          "metadata": {},
          "execution_count": 31
        }
      ],
      "source": [
        "pmf.std()"
      ]
    },
    {
      "cell_type": "markdown",
      "id": "6645531f",
      "metadata": {
        "id": "6645531f"
      },
      "source": [
        "`Pmf` also provides a `mode` method that finds the value with the highest probability."
      ]
    },
    {
      "cell_type": "code",
      "execution_count": 32,
      "id": "19405109",
      "metadata": {
        "id": "19405109",
        "outputId": "e085953b-d4f5-4ad2-fd9b-87372e991617",
        "colab": {
          "base_uri": "https://localhost:8080/"
        }
      },
      "outputs": [
        {
          "output_type": "execute_result",
          "data": {
            "text/plain": [
              "np.int64(2)"
            ]
          },
          "metadata": {},
          "execution_count": 32
        }
      ],
      "source": [
        "pmf.mode()"
      ]
    },
    {
      "cell_type": "markdown",
      "id": "e68a7efd",
      "metadata": {
        "id": "e68a7efd"
      },
      "source": [
        "We'll see more methods as we go along, but that's enough to get started."
      ]
    },
    {
      "cell_type": "markdown",
      "id": "51fc69ca",
      "metadata": {
        "id": "51fc69ca"
      },
      "source": [
        "## The Class Size Paradox"
      ]
    },
    {
      "cell_type": "markdown",
      "source": [
        "As an example of what we can do with `Pmf` objects, let's consider a phenomenon I call \"the class size paradox.\"\n",
        "\n",
        "At many American colleges and universities, the student-to-faculty ratio is about 10:1.\n",
        "But students are often surprised that many of their classes have more than 10 students, sometimes a lot more. There are two reasons for the discrepancy:\n",
        "\n",
        "-   Students typically take 4 or 5 classes per semester, but professors often teach 1 or 2.\n",
        "\n",
        "-   The number of students in a small class is small, and the number of students in a large class is large.\n",
        "\n",
        "The first effect is obvious, at least once it is pointed out; the second is more subtle.\n",
        "Let's look at an example.\n",
        "Suppose that a college offers 65 classes in a given semester, and we are given the number of classes in each of the following size ranges."
      ],
      "metadata": {
        "id": "gBGjaC1JpAr_"
      },
      "id": "gBGjaC1JpAr_"
    },
    {
      "cell_type": "code",
      "execution_count": 4,
      "id": "36fa48bc",
      "metadata": {
        "id": "36fa48bc",
        "outputId": "c07162a9-2984-455d-ee0d-e74df8836be4",
        "colab": {
          "base_uri": "https://localhost:8080/",
          "height": 363
        }
      },
      "outputs": [
        {
          "output_type": "execute_result",
          "data": {
            "text/plain": [
              "            count\n",
              "class size       \n",
              "[5, 10)         8\n",
              "[10, 15)        8\n",
              "[15, 20)       14\n",
              "[20, 25)        4\n",
              "[25, 30)        6\n",
              "[30, 35)       12\n",
              "[35, 40)        8\n",
              "[40, 45)        3\n",
              "[45, 50)        2"
            ],
            "text/html": [
              "\n",
              "  <div id=\"df-7b37791d-9934-43d9-8cb5-ac1e9d620e84\" class=\"colab-df-container\">\n",
              "    <div>\n",
              "<style scoped>\n",
              "    .dataframe tbody tr th:only-of-type {\n",
              "        vertical-align: middle;\n",
              "    }\n",
              "\n",
              "    .dataframe tbody tr th {\n",
              "        vertical-align: top;\n",
              "    }\n",
              "\n",
              "    .dataframe thead th {\n",
              "        text-align: right;\n",
              "    }\n",
              "</style>\n",
              "<table border=\"1\" class=\"dataframe\">\n",
              "  <thead>\n",
              "    <tr style=\"text-align: right;\">\n",
              "      <th></th>\n",
              "      <th>count</th>\n",
              "    </tr>\n",
              "    <tr>\n",
              "      <th>class size</th>\n",
              "      <th></th>\n",
              "    </tr>\n",
              "  </thead>\n",
              "  <tbody>\n",
              "    <tr>\n",
              "      <th>[5, 10)</th>\n",
              "      <td>8</td>\n",
              "    </tr>\n",
              "    <tr>\n",
              "      <th>[10, 15)</th>\n",
              "      <td>8</td>\n",
              "    </tr>\n",
              "    <tr>\n",
              "      <th>[15, 20)</th>\n",
              "      <td>14</td>\n",
              "    </tr>\n",
              "    <tr>\n",
              "      <th>[20, 25)</th>\n",
              "      <td>4</td>\n",
              "    </tr>\n",
              "    <tr>\n",
              "      <th>[25, 30)</th>\n",
              "      <td>6</td>\n",
              "    </tr>\n",
              "    <tr>\n",
              "      <th>[30, 35)</th>\n",
              "      <td>12</td>\n",
              "    </tr>\n",
              "    <tr>\n",
              "      <th>[35, 40)</th>\n",
              "      <td>8</td>\n",
              "    </tr>\n",
              "    <tr>\n",
              "      <th>[40, 45)</th>\n",
              "      <td>3</td>\n",
              "    </tr>\n",
              "    <tr>\n",
              "      <th>[45, 50)</th>\n",
              "      <td>2</td>\n",
              "    </tr>\n",
              "  </tbody>\n",
              "</table>\n",
              "</div>\n",
              "    <div class=\"colab-df-buttons\">\n",
              "\n",
              "  <div class=\"colab-df-container\">\n",
              "    <button class=\"colab-df-convert\" onclick=\"convertToInteractive('df-7b37791d-9934-43d9-8cb5-ac1e9d620e84')\"\n",
              "            title=\"Convert this dataframe to an interactive table.\"\n",
              "            style=\"display:none;\">\n",
              "\n",
              "  <svg xmlns=\"http://www.w3.org/2000/svg\" height=\"24px\" viewBox=\"0 -960 960 960\">\n",
              "    <path d=\"M120-120v-720h720v720H120Zm60-500h600v-160H180v160Zm220 220h160v-160H400v160Zm0 220h160v-160H400v160ZM180-400h160v-160H180v160Zm440 0h160v-160H620v160ZM180-180h160v-160H180v160Zm440 0h160v-160H620v160Z\"/>\n",
              "  </svg>\n",
              "    </button>\n",
              "\n",
              "  <style>\n",
              "    .colab-df-container {\n",
              "      display:flex;\n",
              "      gap: 12px;\n",
              "    }\n",
              "\n",
              "    .colab-df-convert {\n",
              "      background-color: #E8F0FE;\n",
              "      border: none;\n",
              "      border-radius: 50%;\n",
              "      cursor: pointer;\n",
              "      display: none;\n",
              "      fill: #1967D2;\n",
              "      height: 32px;\n",
              "      padding: 0 0 0 0;\n",
              "      width: 32px;\n",
              "    }\n",
              "\n",
              "    .colab-df-convert:hover {\n",
              "      background-color: #E2EBFA;\n",
              "      box-shadow: 0px 1px 2px rgba(60, 64, 67, 0.3), 0px 1px 3px 1px rgba(60, 64, 67, 0.15);\n",
              "      fill: #174EA6;\n",
              "    }\n",
              "\n",
              "    .colab-df-buttons div {\n",
              "      margin-bottom: 4px;\n",
              "    }\n",
              "\n",
              "    [theme=dark] .colab-df-convert {\n",
              "      background-color: #3B4455;\n",
              "      fill: #D2E3FC;\n",
              "    }\n",
              "\n",
              "    [theme=dark] .colab-df-convert:hover {\n",
              "      background-color: #434B5C;\n",
              "      box-shadow: 0px 1px 3px 1px rgba(0, 0, 0, 0.15);\n",
              "      filter: drop-shadow(0px 1px 2px rgba(0, 0, 0, 0.3));\n",
              "      fill: #FFFFFF;\n",
              "    }\n",
              "  </style>\n",
              "\n",
              "    <script>\n",
              "      const buttonEl =\n",
              "        document.querySelector('#df-7b37791d-9934-43d9-8cb5-ac1e9d620e84 button.colab-df-convert');\n",
              "      buttonEl.style.display =\n",
              "        google.colab.kernel.accessAllowed ? 'block' : 'none';\n",
              "\n",
              "      async function convertToInteractive(key) {\n",
              "        const element = document.querySelector('#df-7b37791d-9934-43d9-8cb5-ac1e9d620e84');\n",
              "        const dataTable =\n",
              "          await google.colab.kernel.invokeFunction('convertToInteractive',\n",
              "                                                    [key], {});\n",
              "        if (!dataTable) return;\n",
              "\n",
              "        const docLinkHtml = 'Like what you see? Visit the ' +\n",
              "          '<a target=\"_blank\" href=https://colab.research.google.com/notebooks/data_table.ipynb>data table notebook</a>'\n",
              "          + ' to learn more about interactive tables.';\n",
              "        element.innerHTML = '';\n",
              "        dataTable['output_type'] = 'display_data';\n",
              "        await google.colab.output.renderOutput(dataTable, element);\n",
              "        const docLink = document.createElement('div');\n",
              "        docLink.innerHTML = docLinkHtml;\n",
              "        element.appendChild(docLink);\n",
              "      }\n",
              "    </script>\n",
              "  </div>\n",
              "\n",
              "\n",
              "    <div id=\"df-001f437d-6b65-4ec9-a241-c5e971b5afa6\">\n",
              "      <button class=\"colab-df-quickchart\" onclick=\"quickchart('df-001f437d-6b65-4ec9-a241-c5e971b5afa6')\"\n",
              "                title=\"Suggest charts\"\n",
              "                style=\"display:none;\">\n",
              "\n",
              "<svg xmlns=\"http://www.w3.org/2000/svg\" height=\"24px\"viewBox=\"0 0 24 24\"\n",
              "     width=\"24px\">\n",
              "    <g>\n",
              "        <path d=\"M19 3H5c-1.1 0-2 .9-2 2v14c0 1.1.9 2 2 2h14c1.1 0 2-.9 2-2V5c0-1.1-.9-2-2-2zM9 17H7v-7h2v7zm4 0h-2V7h2v10zm4 0h-2v-4h2v4z\"/>\n",
              "    </g>\n",
              "</svg>\n",
              "      </button>\n",
              "\n",
              "<style>\n",
              "  .colab-df-quickchart {\n",
              "      --bg-color: #E8F0FE;\n",
              "      --fill-color: #1967D2;\n",
              "      --hover-bg-color: #E2EBFA;\n",
              "      --hover-fill-color: #174EA6;\n",
              "      --disabled-fill-color: #AAA;\n",
              "      --disabled-bg-color: #DDD;\n",
              "  }\n",
              "\n",
              "  [theme=dark] .colab-df-quickchart {\n",
              "      --bg-color: #3B4455;\n",
              "      --fill-color: #D2E3FC;\n",
              "      --hover-bg-color: #434B5C;\n",
              "      --hover-fill-color: #FFFFFF;\n",
              "      --disabled-bg-color: #3B4455;\n",
              "      --disabled-fill-color: #666;\n",
              "  }\n",
              "\n",
              "  .colab-df-quickchart {\n",
              "    background-color: var(--bg-color);\n",
              "    border: none;\n",
              "    border-radius: 50%;\n",
              "    cursor: pointer;\n",
              "    display: none;\n",
              "    fill: var(--fill-color);\n",
              "    height: 32px;\n",
              "    padding: 0;\n",
              "    width: 32px;\n",
              "  }\n",
              "\n",
              "  .colab-df-quickchart:hover {\n",
              "    background-color: var(--hover-bg-color);\n",
              "    box-shadow: 0 1px 2px rgba(60, 64, 67, 0.3), 0 1px 3px 1px rgba(60, 64, 67, 0.15);\n",
              "    fill: var(--button-hover-fill-color);\n",
              "  }\n",
              "\n",
              "  .colab-df-quickchart-complete:disabled,\n",
              "  .colab-df-quickchart-complete:disabled:hover {\n",
              "    background-color: var(--disabled-bg-color);\n",
              "    fill: var(--disabled-fill-color);\n",
              "    box-shadow: none;\n",
              "  }\n",
              "\n",
              "  .colab-df-spinner {\n",
              "    border: 2px solid var(--fill-color);\n",
              "    border-color: transparent;\n",
              "    border-bottom-color: var(--fill-color);\n",
              "    animation:\n",
              "      spin 1s steps(1) infinite;\n",
              "  }\n",
              "\n",
              "  @keyframes spin {\n",
              "    0% {\n",
              "      border-color: transparent;\n",
              "      border-bottom-color: var(--fill-color);\n",
              "      border-left-color: var(--fill-color);\n",
              "    }\n",
              "    20% {\n",
              "      border-color: transparent;\n",
              "      border-left-color: var(--fill-color);\n",
              "      border-top-color: var(--fill-color);\n",
              "    }\n",
              "    30% {\n",
              "      border-color: transparent;\n",
              "      border-left-color: var(--fill-color);\n",
              "      border-top-color: var(--fill-color);\n",
              "      border-right-color: var(--fill-color);\n",
              "    }\n",
              "    40% {\n",
              "      border-color: transparent;\n",
              "      border-right-color: var(--fill-color);\n",
              "      border-top-color: var(--fill-color);\n",
              "    }\n",
              "    60% {\n",
              "      border-color: transparent;\n",
              "      border-right-color: var(--fill-color);\n",
              "    }\n",
              "    80% {\n",
              "      border-color: transparent;\n",
              "      border-right-color: var(--fill-color);\n",
              "      border-bottom-color: var(--fill-color);\n",
              "    }\n",
              "    90% {\n",
              "      border-color: transparent;\n",
              "      border-bottom-color: var(--fill-color);\n",
              "    }\n",
              "  }\n",
              "</style>\n",
              "\n",
              "      <script>\n",
              "        async function quickchart(key) {\n",
              "          const quickchartButtonEl =\n",
              "            document.querySelector('#' + key + ' button');\n",
              "          quickchartButtonEl.disabled = true;  // To prevent multiple clicks.\n",
              "          quickchartButtonEl.classList.add('colab-df-spinner');\n",
              "          try {\n",
              "            const charts = await google.colab.kernel.invokeFunction(\n",
              "                'suggestCharts', [key], {});\n",
              "          } catch (error) {\n",
              "            console.error('Error during call to suggestCharts:', error);\n",
              "          }\n",
              "          quickchartButtonEl.classList.remove('colab-df-spinner');\n",
              "          quickchartButtonEl.classList.add('colab-df-quickchart-complete');\n",
              "        }\n",
              "        (() => {\n",
              "          let quickchartButtonEl =\n",
              "            document.querySelector('#df-001f437d-6b65-4ec9-a241-c5e971b5afa6 button');\n",
              "          quickchartButtonEl.style.display =\n",
              "            google.colab.kernel.accessAllowed ? 'block' : 'none';\n",
              "        })();\n",
              "      </script>\n",
              "    </div>\n",
              "\n",
              "  <div id=\"id_1e08406d-427c-411d-8728-4dca6443406e\">\n",
              "    <style>\n",
              "      .colab-df-generate {\n",
              "        background-color: #E8F0FE;\n",
              "        border: none;\n",
              "        border-radius: 50%;\n",
              "        cursor: pointer;\n",
              "        display: none;\n",
              "        fill: #1967D2;\n",
              "        height: 32px;\n",
              "        padding: 0 0 0 0;\n",
              "        width: 32px;\n",
              "      }\n",
              "\n",
              "      .colab-df-generate:hover {\n",
              "        background-color: #E2EBFA;\n",
              "        box-shadow: 0px 1px 2px rgba(60, 64, 67, 0.3), 0px 1px 3px 1px rgba(60, 64, 67, 0.15);\n",
              "        fill: #174EA6;\n",
              "      }\n",
              "\n",
              "      [theme=dark] .colab-df-generate {\n",
              "        background-color: #3B4455;\n",
              "        fill: #D2E3FC;\n",
              "      }\n",
              "\n",
              "      [theme=dark] .colab-df-generate:hover {\n",
              "        background-color: #434B5C;\n",
              "        box-shadow: 0px 1px 3px 1px rgba(0, 0, 0, 0.15);\n",
              "        filter: drop-shadow(0px 1px 2px rgba(0, 0, 0, 0.3));\n",
              "        fill: #FFFFFF;\n",
              "      }\n",
              "    </style>\n",
              "    <button class=\"colab-df-generate\" onclick=\"generateWithVariable('data')\"\n",
              "            title=\"Generate code using this dataframe.\"\n",
              "            style=\"display:none;\">\n",
              "\n",
              "  <svg xmlns=\"http://www.w3.org/2000/svg\" height=\"24px\"viewBox=\"0 0 24 24\"\n",
              "       width=\"24px\">\n",
              "    <path d=\"M7,19H8.4L18.45,9,17,7.55,7,17.6ZM5,21V16.75L18.45,3.32a2,2,0,0,1,2.83,0l1.4,1.43a1.91,1.91,0,0,1,.58,1.4,1.91,1.91,0,0,1-.58,1.4L9.25,21ZM18.45,9,17,7.55Zm-12,3A5.31,5.31,0,0,0,4.9,8.1,5.31,5.31,0,0,0,1,6.5,5.31,5.31,0,0,0,4.9,4.9,5.31,5.31,0,0,0,6.5,1,5.31,5.31,0,0,0,8.1,4.9,5.31,5.31,0,0,0,12,6.5,5.46,5.46,0,0,0,6.5,12Z\"/>\n",
              "  </svg>\n",
              "    </button>\n",
              "    <script>\n",
              "      (() => {\n",
              "      const buttonEl =\n",
              "        document.querySelector('#id_1e08406d-427c-411d-8728-4dca6443406e button.colab-df-generate');\n",
              "      buttonEl.style.display =\n",
              "        google.colab.kernel.accessAllowed ? 'block' : 'none';\n",
              "\n",
              "      buttonEl.onclick = () => {\n",
              "        google.colab.notebook.generateWithVariable('data');\n",
              "      }\n",
              "      })();\n",
              "    </script>\n",
              "  </div>\n",
              "\n",
              "    </div>\n",
              "  </div>\n"
            ],
            "application/vnd.google.colaboratory.intrinsic+json": {
              "type": "dataframe",
              "variable_name": "data",
              "summary": "{\n  \"name\": \"data\",\n  \"rows\": 9,\n  \"fields\": [\n    {\n      \"column\": \"class size\",\n      \"properties\": {\n        \"dtype\": \"interval[int64, left]\",\n        \"num_unique_values\": 9,\n        \"samples\": [\n          \"[40, 45)\",\n          \"[10, 15)\",\n          \"[30, 35)\"\n        ],\n        \"semantic_type\": \"\",\n        \"description\": \"\"\n      }\n    },\n    {\n      \"column\": \"count\",\n      \"properties\": {\n        \"dtype\": \"number\",\n        \"std\": 3,\n        \"min\": 2,\n        \"max\": 14,\n        \"num_unique_values\": 7,\n        \"samples\": [\n          8,\n          14,\n          3\n        ],\n        \"semantic_type\": \"\",\n        \"description\": \"\"\n      }\n    }\n  ]\n}"
            }
          },
          "metadata": {},
          "execution_count": 4
        }
      ],
      "source": [
        "ranges = pd.interval_range(start=5, end=50, freq=5, closed=\"left\")\n",
        "ranges.name = \"class size\"\n",
        "\n",
        "data = pd.DataFrame(index=ranges)\n",
        "data[\"count\"] = [8, 8, 14, 4, 6, 12, 8, 3, 2]\n",
        "data"
      ]
    },
    {
      "cell_type": "markdown",
      "id": "2e43baa6",
      "metadata": {
        "id": "2e43baa6"
      },
      "source": [
        "The Pandas function `interval_range` makes an `Index` where each label represents a range of values.\n",
        "The notation `[5, 10)` means that `5` is included in the interval and `10` is not.\n",
        "Since we don't know the sizes of the classes in each interval, let's assume that all sizes are at the midpoint of the range."
      ]
    },
    {
      "cell_type": "code",
      "execution_count": 5,
      "id": "36f208f9",
      "metadata": {
        "id": "36f208f9",
        "outputId": "2ac9cafb-4260-40cb-c2f5-aac16f32f0f7",
        "colab": {
          "base_uri": "https://localhost:8080/"
        }
      },
      "outputs": [
        {
          "output_type": "execute_result",
          "data": {
            "text/plain": [
              "Index([7, 12, 17, 22, 27, 32, 37, 42, 47], dtype='int64')"
            ]
          },
          "metadata": {},
          "execution_count": 5
        }
      ],
      "source": [
        "sizes = ranges.left + 2\n",
        "sizes"
      ]
    },
    {
      "cell_type": "markdown",
      "id": "7551d814",
      "metadata": {
        "id": "7551d814"
      },
      "source": [
        "Now let's make a `Pmf` that represents the distribution of class sizes.\n",
        "Because we know the sizes and their frequencies, we can create a `Pmf` directly, passing as arguments the counts, sizes, and a name.\n",
        "When we normalize the new `Pmf`, the result is the sum of the counts."
      ]
    },
    {
      "cell_type": "code",
      "execution_count": 33,
      "id": "c1db28bc",
      "metadata": {
        "id": "c1db28bc",
        "outputId": "3a2fcb22-bd19-446b-b310-8519c9f9b957",
        "colab": {
          "base_uri": "https://localhost:8080/"
        }
      },
      "outputs": [
        {
          "output_type": "execute_result",
          "data": {
            "text/plain": [
              "np.int64(65)"
            ]
          },
          "metadata": {},
          "execution_count": 33
        }
      ],
      "source": [
        "counts = data[\"count\"]\n",
        "actual_pmf = Pmf(counts, sizes, name=\"actual\")\n",
        "actual_pmf.normalize()"
      ]
    },
    {
      "cell_type": "markdown",
      "id": "ca39aa3a",
      "metadata": {
        "id": "ca39aa3a"
      },
      "source": [
        "If you ask the college for the average class size, they report the mean of this distribution, which is 23.7."
      ]
    },
    {
      "cell_type": "code",
      "execution_count": 34,
      "id": "6f8eb2c2",
      "metadata": {
        "id": "6f8eb2c2",
        "outputId": "91c3f481-fe09-47b0-b4fd-7e9ab4ae3deb",
        "colab": {
          "base_uri": "https://localhost:8080/"
        }
      },
      "outputs": [
        {
          "output_type": "execute_result",
          "data": {
            "text/plain": [
              "np.float64(23.692307692307693)"
            ]
          },
          "metadata": {},
          "execution_count": 34
        }
      ],
      "source": [
        "actual_pmf.mean()"
      ]
    },
    {
      "cell_type": "markdown",
      "id": "0d22bd69",
      "metadata": {
        "id": "0d22bd69"
      },
      "source": [
        "But if you survey a group of students, ask them how many students are in their classes, and compute the mean, the average is bigger.\n",
        "Let's see how much bigger.\n",
        "\n",
        "The following function takes the actual `Pmf` of class sizes and makes a new `Pmf` that represents the class sizes as seen by students.\n",
        "The quantities in the two distributions are the same, but the probabilities in the distribution are multiplied by the quantities, because in a class with size `x`, there are `x` students who observe that class.\n",
        "So the probability of observing a class is proportional to its size."
      ]
    },
    {
      "cell_type": "code",
      "execution_count": 35,
      "id": "3cef6126",
      "metadata": {
        "id": "3cef6126"
      },
      "outputs": [],
      "source": [
        "def bias(pmf, name):\n",
        "    # multiply each probability by class size\n",
        "    ps = pmf.ps * pmf.qs\n",
        "\n",
        "    # make a new Pmf and normalize it\n",
        "    new_pmf = Pmf(ps, pmf.qs, name=name)\n",
        "    new_pmf.normalize()\n",
        "    return new_pmf"
      ]
    },
    {
      "cell_type": "markdown",
      "id": "f1449478",
      "metadata": {
        "id": "f1449478"
      },
      "source": [
        "Now we can compute the biased `Pmf` as observed by students."
      ]
    },
    {
      "cell_type": "code",
      "execution_count": 36,
      "id": "6df3cccb",
      "metadata": {
        "id": "6df3cccb"
      },
      "outputs": [],
      "source": [
        "observed_pmf = bias(actual_pmf, name=\"observed\")"
      ]
    },
    {
      "cell_type": "markdown",
      "id": "e96df61b",
      "metadata": {
        "id": "e96df61b"
      },
      "source": [
        "Here's what the two distributions look like."
      ]
    },
    {
      "cell_type": "code",
      "execution_count": 37,
      "id": "1c2b81d9",
      "metadata": {
        "id": "1c2b81d9",
        "outputId": "df94fded-7df4-4d1f-94cf-7c2e8298c851",
        "colab": {
          "base_uri": "https://localhost:8080/",
          "height": 272
        }
      },
      "outputs": [
        {
          "output_type": "display_data",
          "data": {
            "text/plain": [
              "<Figure size 450x262.5 with 1 Axes>"
            ],
            "image/png": "[encoded data removed]"
          },
          "metadata": {}
        }
      ],
      "source": [
        "from thinkstats import two_bar_plots\n",
        "\n",
        "two_bar_plots(actual_pmf, observed_pmf, width=2)\n",
        "decorate(xlabel=\"Class size\", ylabel=\"PMF\")"
      ]
    },
    {
      "cell_type": "markdown",
      "id": "2842ea59",
      "metadata": {
        "id": "2842ea59"
      },
      "source": [
        "In the observed distribution there are fewer small classes and more large ones.\n",
        "And the biased mean is 29.1, almost 25% higher than the actual mean."
      ]
    },
    {
      "cell_type": "code",
      "execution_count": 38,
      "id": "61623eb5",
      "metadata": {
        "id": "61623eb5",
        "outputId": "a4c621ba-2383-4d05-c7f2-146507cde6aa",
        "colab": {
          "base_uri": "https://localhost:8080/"
        }
      },
      "outputs": [
        {
          "output_type": "execute_result",
          "data": {
            "text/plain": [
              "np.float64(29.123376623376622)"
            ]
          },
          "metadata": {},
          "execution_count": 38
        }
      ],
      "source": [
        "observed_pmf.mean()"
      ]
    },
    {
      "cell_type": "markdown",
      "id": "d6820e00",
      "metadata": {
        "id": "d6820e00"
      },
      "source": [
        "It is also possible to invert this operation.\n",
        "Suppose you want to find the distribution of class sizes at a college, but you can't get reliable data.\n",
        "One option is to choose a random sample of students and ask how many students are in their classes.\n",
        "\n",
        "The result would be biased for the reasons we've just seen, but you can use it to estimate the actual distribution.\n",
        "Here's the function that unbiases a `Pmf` by dividing the probabilities by the sizes."
      ]
    },
    {
      "cell_type": "code",
      "execution_count": 39,
      "id": "4c52202b",
      "metadata": {
        "id": "4c52202b"
      },
      "outputs": [],
      "source": [
        "def unbias(pmf, name):\n",
        "    # divide each probability by class size\n",
        "    ps = pmf.ps / pmf.qs\n",
        "\n",
        "    new_pmf = Pmf(ps, pmf.qs, name=name)\n",
        "    new_pmf.normalize()\n",
        "    return new_pmf"
      ]
    },
    {
      "cell_type": "markdown",
      "id": "9728cc41",
      "metadata": {
        "id": "9728cc41"
      },
      "source": [
        "And here's the result."
      ]
    },
    {
      "cell_type": "code",
      "execution_count": 40,
      "id": "e69c6e88",
      "metadata": {
        "id": "e69c6e88",
        "outputId": "902be891-5aa7-4800-c259-ba2493a826f3",
        "colab": {
          "base_uri": "https://localhost:8080/"
        }
      },
      "outputs": [
        {
          "output_type": "execute_result",
          "data": {
            "text/plain": [
              "np.float64(23.692307692307693)"
            ]
          },
          "metadata": {},
          "execution_count": 40
        }
      ],
      "source": [
        "debiased_pmf = unbias(observed_pmf, \"debiased\")\n",
        "debiased_pmf.mean()"
      ]
    },
    {
      "cell_type": "markdown",
      "id": "d9b23744",
      "metadata": {
        "id": "d9b23744"
      },
      "source": [
        "The mean of the debiased `Pmf` is the same as the mean of the actual distribution we started with.\n",
        "\n",
        "If you think this example is interesting, you might like Chapter 2 of *Probably Overthinking It*, which includes this and several other examples of what's called the \"inspection paradox\"."
      ]
    },
    {
      "cell_type": "markdown",
      "id": "089ffa11",
      "metadata": {
        "id": "089ffa11"
      },
      "source": [
        "## NSFG Data"
      ]
    },
    {
      "cell_type": "markdown",
      "source": [
        "In the previous chapter, we plotted frequency tables of pregnancy lengths for first babies and others.\n",
        "But the sizes of the groups are not the same, so we can't compare the frequency tables directly.\n",
        "Because PMFs are normalized, we can compare them.\n",
        "So let's load the NSFG data again and make `Pmf` objects to represent distributions of pregnancy lengths."
      ],
      "metadata": {
        "id": "ksHtdwJWpIJN"
      },
      "id": "ksHtdwJWpIJN"
    },
    {
      "cell_type": "markdown",
      "id": "ead45565",
      "metadata": {
        "tags": [],
        "id": "ead45565"
      },
      "source": [
        "The following cells download the data files and install `statadict`, which we need to read the data."
      ]
    },
    {
      "cell_type": "code",
      "execution_count": null,
      "id": "31216ce5",
      "metadata": {
        "tags": [],
        "id": "31216ce5"
      },
      "outputs": [],
      "source": [
        "try:\n",
        "    import statadict\n",
        "except ImportError:\n",
        "    %pip install statadict"
      ]
    },
    {
      "cell_type": "code",
      "execution_count": 42,
      "id": "7deaf238",
      "metadata": {
        "tags": [],
        "id": "7deaf238",
        "outputId": "37a7be70-5065-4f08-8614-980c425d2fb4",
        "colab": {
          "base_uri": "https://localhost:8080/"
        }
      },
      "outputs": [
        {
          "output_type": "stream",
          "name": "stdout",
          "text": [
            "Downloaded nsfg.py\n",
            "Downloaded 2002FemPreg.dct\n",
            "Downloaded 2002FemPreg.dat.gz\n"
          ]
        }
      ],
      "source": [
        "download(\"https://github.com/AllenDowney/ThinkStats/raw/v3/nb/nsfg.py\")\n",
        "download(\"https://github.com/AllenDowney/ThinkStats/raw/v3/data/2002FemPreg.dct\")\n",
        "download(\"https://github.com/AllenDowney/ThinkStats/raw/v3/data/2002FemPreg.dat.gz\")"
      ]
    },
    {
      "cell_type": "markdown",
      "id": "1b94e467",
      "metadata": {
        "id": "1b94e467"
      },
      "source": [
        "The `nsfg` module provides a `read_nsfg_groups` function that reads the data, selects rows that represent live births, and partitions live births into first babies and others.\n",
        "It returns three `DataFrame` objects."
      ]
    },
    {
      "cell_type": "code",
      "execution_count": 43,
      "id": "4424061e",
      "metadata": {
        "id": "4424061e"
      },
      "outputs": [],
      "source": [
        "from nsfg import get_nsfg_groups\n",
        "\n",
        "live, firsts, others = get_nsfg_groups()"
      ]
    },
    {
      "cell_type": "markdown",
      "id": "db6ed39a",
      "metadata": {
        "id": "db6ed39a"
      },
      "source": [
        "We can use `firsts` and `others` to make a `Pmf` for the pregnancy lengths in each group."
      ]
    },
    {
      "cell_type": "code",
      "execution_count": 44,
      "id": "900062cf",
      "metadata": {
        "id": "900062cf"
      },
      "outputs": [],
      "source": [
        "first_pmf = Pmf.from_seq(firsts[\"prglngth\"], name=\"firsts\")\n",
        "other_pmf = Pmf.from_seq(others[\"prglngth\"], name=\"others\")"
      ]
    },
    {
      "cell_type": "markdown",
      "id": "26d3185a",
      "metadata": {
        "id": "26d3185a"
      },
      "source": [
        "Here are the PMFs for first babies and others, plotted as bar graphs."
      ]
    },
    {
      "cell_type": "code",
      "execution_count": 45,
      "id": "62c91cfa",
      "metadata": {
        "id": "62c91cfa",
        "outputId": "8fa2d64d-17ac-4e48-8dd2-68b32b2897fb",
        "colab": {
          "base_uri": "https://localhost:8080/",
          "height": 272
        }
      },
      "outputs": [
        {
          "output_type": "display_data",
          "data": {
            "text/plain": [
              "<Figure size 450x262.5 with 1 Axes>"
            ],
            "image/png": "[encoded data removed]"
          },
          "metadata": {}
        }
      ],
      "source": [
        "two_bar_plots(first_pmf, other_pmf)\n",
        "decorate(xlabel=\"Weeks\", ylabel=\"Probability\", xlim=[20, 50])"
      ]
    },
    {
      "cell_type": "markdown",
      "id": "cc505018",
      "metadata": {
        "id": "cc505018"
      },
      "source": [
        "By plotting the PMF instead of the frequency table, we can compare the two distributions without being misled by the difference in sizes of the samples.\n",
        "Based on this figure, first babies seem to be less likely than others to arrive on time (week 39) and more likely to be late (weeks 41 and 42)."
      ]
    },
    {
      "cell_type": "markdown",
      "id": "8f2e5b2f",
      "metadata": {
        "id": "8f2e5b2f"
      },
      "source": [
        "## Other Visualizations"
      ]
    },
    {
      "cell_type": "markdown",
      "source": [
        "FreqTabograms and PMFs are useful while you are exploring data and trying to identify patterns and relationships.\n",
        "Once you have an idea what is going on, a good next step is to design a visualization that makes the patterns you have identified as clear as possible.\n",
        "\n",
        "In the NSFG data, the biggest differences in the distributions are near the mode.\n",
        "So it makes sense to zoom in on that part of the graph, and select data from weeks 35 to 46.\n",
        "\n",
        "When we call a `Pmf` object like a function, we can look up a sequence of quantities and get a sequence of probabilities."
      ],
      "metadata": {
        "id": "H6dcwh4NpMqK"
      },
      "id": "H6dcwh4NpMqK"
    },
    {
      "cell_type": "code",
      "execution_count": 46,
      "id": "9f134fc5",
      "metadata": {
        "id": "9f134fc5",
        "outputId": "5afe7c6b-7a79-4bcd-a8b3-68a36c17d725",
        "colab": {
          "base_uri": "https://localhost:8080/"
        }
      },
      "outputs": [
        {
          "output_type": "execute_result",
          "data": {
            "text/plain": [
              "array([0.03602991, 0.03897575, 0.04713347, 0.06163608, 0.4790392 ,\n",
              "       0.12145932, 0.08157716, 0.04645366, 0.01971448, 0.00521187,\n",
              "       0.00135962])"
            ]
          },
          "metadata": {},
          "execution_count": 46
        }
      ],
      "source": [
        "weeks = range(35, 46)\n",
        "first_pmf(weeks)"
      ]
    },
    {
      "cell_type": "code",
      "execution_count": 47,
      "id": "e185339f",
      "metadata": {
        "id": "e185339f",
        "outputId": "835a5887-cc46-4e34-9aa5-f0b5c587fcc1",
        "colab": {
          "base_uri": "https://localhost:8080/"
        }
      },
      "outputs": [
        {
          "output_type": "execute_result",
          "data": {
            "text/plain": [
              "array([0.03210137, 0.03146779, 0.05216473, 0.07074974, 0.54466737,\n",
              "       0.12249208, 0.04794087, 0.02597677, 0.01288279, 0.00485744,\n",
              "       0.00084477])"
            ]
          },
          "metadata": {},
          "execution_count": 47
        }
      ],
      "source": [
        "other_pmf(weeks)"
      ]
    },
    {
      "cell_type": "markdown",
      "id": "332a7946",
      "metadata": {
        "id": "332a7946"
      },
      "source": [
        "So we can compute the differences in the probabilities like this."
      ]
    },
    {
      "cell_type": "code",
      "execution_count": 48,
      "id": "36d0ba81",
      "metadata": {
        "id": "36d0ba81",
        "outputId": "aecc11a2-c6d9-43ca-9904-4139fa857d9b",
        "colab": {
          "base_uri": "https://localhost:8080/"
        }
      },
      "outputs": [
        {
          "output_type": "execute_result",
          "data": {
            "text/plain": [
              "array([ 0.00392854,  0.00750796, -0.00503126, -0.00911366, -0.06562817,\n",
              "       -0.00103276,  0.03363629,  0.02047689,  0.00683169,  0.00035443,\n",
              "        0.00051485])"
            ]
          },
          "metadata": {},
          "execution_count": 48
        }
      ],
      "source": [
        "diffs = first_pmf(weeks) - other_pmf(weeks)\n",
        "diffs"
      ]
    },
    {
      "cell_type": "markdown",
      "id": "cdad3427",
      "metadata": {
        "id": "cdad3427"
      },
      "source": [
        "Here's what they look like, multiplied by 100 to express the differences in percentage points."
      ]
    },
    {
      "cell_type": "code",
      "execution_count": 49,
      "id": "3f40b276",
      "metadata": {
        "id": "3f40b276",
        "outputId": "6581e022-97fa-4c86-866e-c22ef10fa71e",
        "colab": {
          "base_uri": "https://localhost:8080/",
          "height": 272
        }
      },
      "outputs": [
        {
          "output_type": "display_data",
          "data": {
            "text/plain": [
              "<Figure size 450x262.5 with 1 Axes>"
            ],
            "image/png": "[encoded data removed]"
          },
          "metadata": {}
        }
      ],
      "source": [
        "plt.bar(weeks, diffs * 100)\n",
        "decorate(xlabel=\"Weeks\", ylabel=\"Difference (percentage points)\")"
      ]
    },
    {
      "cell_type": "markdown",
      "id": "11615bb9",
      "metadata": {
        "id": "11615bb9"
      },
      "source": [
        "This figure makes the pattern clearer: first babies are less likely to be born in week 39, and somewhat more likely to be born in weeks 41 and 42.\n",
        "\n",
        "When we see a pattern like this in a sample, we can't be sure it also holds in the population -- and we don't know whether we would see it in another sample from the same population.\n",
        "We'll revisit this question in [Chapter 9](chapter_hypothesis_testing)."
      ]
    },
    {
      "cell_type": "markdown",
      "id": "93d2684e",
      "metadata": {
        "id": "93d2684e"
      },
      "source": [
        "## Glossary\n",
        "\n",
        "There are not as many new terms in this chapter as in the previous chapters.\n",
        "\n",
        "-   **normalized:** A set of probabilities are normalized if they add up to 1.\n",
        "\n",
        "-   **probability mass function (PMF)**: A function that represents a distribution by mapping each quantity to its probability."
      ]
    },
    {
      "cell_type": "markdown",
      "id": "e818cde9",
      "metadata": {
        "collapsed": true,
        "id": "e818cde9"
      },
      "source": [
        "## Exercises\n",
        "\n",
        "For the exercises in this chapter, we'll use the NSFG respondent file, which contains one row for each respondent.\n",
        "Instructions for downloading the data are in the notebook for this chapter."
      ]
    },
    {
      "cell_type": "code",
      "execution_count": 50,
      "id": "461a9ed7",
      "metadata": {
        "tags": [],
        "id": "461a9ed7",
        "outputId": "1d124bfe-c6b0-4e0d-c74e-9cc7cda89e7a",
        "colab": {
          "base_uri": "https://localhost:8080/"
        }
      },
      "outputs": [
        {
          "output_type": "stream",
          "name": "stdout",
          "text": [
            "Downloaded 2002FemResp.dct\n",
            "Downloaded 2002FemResp.dat.gz\n"
          ]
        }
      ],
      "source": [
        "download(\"https://github.com/AllenDowney/ThinkStats/raw/v3/data/2002FemResp.dct\")\n",
        "download(\"https://github.com/AllenDowney/ThinkStats/raw/v3/data/2002FemResp.dat.gz\")"
      ]
    },
    {
      "cell_type": "markdown",
      "id": "7c7ce2b7",
      "metadata": {
        "tags": [],
        "id": "7c7ce2b7"
      },
      "source": [
        "The codebook for this dataset is at <https://ftp.cdc.gov/pub/Health_Statistics/NCHS/Dataset_Documentation/NSFG/Cycle6Codebook-Female.pdf>."
      ]
    },
    {
      "cell_type": "markdown",
      "id": "1b40d801",
      "metadata": {
        "id": "1b40d801"
      },
      "source": [
        "The `nsfg.py` module provides a function that reads the respondent file and returns a `DataFrame`."
      ]
    },
    {
      "cell_type": "code",
      "execution_count": 51,
      "id": "861e38b1",
      "metadata": {
        "id": "861e38b1",
        "outputId": "1494e8d3-c74e-434d-810e-0747433aed6a",
        "colab": {
          "base_uri": "https://localhost:8080/"
        }
      },
      "outputs": [
        {
          "output_type": "execute_result",
          "data": {
            "text/plain": [
              "(7643, 3092)"
            ]
          },
          "metadata": {},
          "execution_count": 51
        }
      ],
      "source": [
        "from nsfg import read_fem_resp\n",
        "\n",
        "resp = read_fem_resp()\n",
        "resp.shape"
      ]
    },
    {
      "cell_type": "markdown",
      "id": "5495601a",
      "metadata": {
        "id": "5495601a"
      },
      "source": [
        "This `DataFrame` contains 7643 rows and 3092 columns."
      ]
    },
    {
      "cell_type": "markdown",
      "id": "8e509710",
      "metadata": {
        "id": "8e509710"
      },
      "source": [
        "### Exercise 3.1\n",
        "\n",
        "Select the column `numbabes`, which records the \"number of babies born alive\" to each respondent.\n",
        "Make a `FreqTab` object and display the frequencies of the values in this column.\n",
        "Check that they are consistent with the frequencies in the code book.\n",
        "Are there any special values that should be replaced with `NaN`?\n",
        "\n",
        "Then make a `Pmf` object and plot it as a bar graph. Is the distribution symmetric, skewed to the left, or skewed to the right?"
      ]
    },
    {
      "cell_type": "code",
      "execution_count": 52,
      "id": "e4933509",
      "metadata": {
        "id": "e4933509",
        "outputId": "93f186dd-d461-4767-decf-acd980b3bc64",
        "colab": {
          "base_uri": "https://localhost:8080/",
          "height": 458
        }
      },
      "outputs": [
        {
          "output_type": "execute_result",
          "data": {
            "text/plain": [
              "0       4\n",
              "1       1\n",
              "2       1\n",
              "3       0\n",
              "4       0\n",
              "       ..\n",
              "7638    0\n",
              "7639    0\n",
              "7640    0\n",
              "7641    0\n",
              "7642    0\n",
              "Name: numbabes, Length: 7643, dtype: int64"
            ],
            "text/html": [
              "<div>\n",
              "<style scoped>\n",
              "    .dataframe tbody tr th:only-of-type {\n",
              "        vertical-align: middle;\n",
              "    }\n",
              "\n",
              "    .dataframe tbody tr th {\n",
              "        vertical-align: top;\n",
              "    }\n",
              "\n",
              "    .dataframe thead th {\n",
              "        text-align: right;\n",
              "    }\n",
              "</style>\n",
              "<table border=\"1\" class=\"dataframe\">\n",
              "  <thead>\n",
              "    <tr style=\"text-align: right;\">\n",
              "      <th></th>\n",
              "      <th>numbabes</th>\n",
              "    </tr>\n",
              "  </thead>\n",
              "  <tbody>\n",
              "    <tr>\n",
              "      <th>0</th>\n",
              "      <td>4</td>\n",
              "    </tr>\n",
              "    <tr>\n",
              "      <th>1</th>\n",
              "      <td>1</td>\n",
              "    </tr>\n",
              "    <tr>\n",
              "      <th>2</th>\n",
              "      <td>1</td>\n",
              "    </tr>\n",
              "    <tr>\n",
              "      <th>3</th>\n",
              "      <td>0</td>\n",
              "    </tr>\n",
              "    <tr>\n",
              "      <th>4</th>\n",
              "      <td>0</td>\n",
              "    </tr>\n",
              "    <tr>\n",
              "      <th>...</th>\n",
              "      <td>...</td>\n",
              "    </tr>\n",
              "    <tr>\n",
              "      <th>7638</th>\n",
              "      <td>0</td>\n",
              "    </tr>\n",
              "    <tr>\n",
              "      <th>7639</th>\n",
              "      <td>0</td>\n",
              "    </tr>\n",
              "    <tr>\n",
              "      <th>7640</th>\n",
              "      <td>0</td>\n",
              "    </tr>\n",
              "    <tr>\n",
              "      <th>7641</th>\n",
              "      <td>0</td>\n",
              "    </tr>\n",
              "    <tr>\n",
              "      <th>7642</th>\n",
              "      <td>0</td>\n",
              "    </tr>\n",
              "  </tbody>\n",
              "</table>\n",
              "<p>7643 rows × 1 columns</p>\n",
              "</div><br><label><b>dtype:</b> int64</label>"
            ]
          },
          "metadata": {},
          "execution_count": 52
        }
      ],
      "source": [
        "# Solution goes here\n",
        "freq_tab = FreqTab(resp[\"numbabes\"])\n",
        "freq_tab"
      ]
    },
    {
      "cell_type": "code",
      "execution_count": 70,
      "id": "92d10a12",
      "metadata": {
        "id": "92d10a12"
      },
      "outputs": [],
      "source": [
        "# Solution goes here\n",
        "numbabes = resp[\"numbabes\"].replace(97, np.nan)\n",
        "pmf = Pmf.from_seq(numbabes, name=\"numbabes\")"
      ]
    },
    {
      "cell_type": "code",
      "execution_count": 71,
      "id": "9f96f3d4",
      "metadata": {
        "id": "9f96f3d4",
        "outputId": "266d8c16-bc40-4bfe-88d3-d1d769f480bd",
        "colab": {
          "base_uri": "https://localhost:8080/",
          "height": 272
        }
      },
      "outputs": [
        {
          "output_type": "display_data",
          "data": {
            "text/plain": [
              "<Figure size 450x262.5 with 1 Axes>"
            ],
            "image/png": "[encoded data removed]"
          },
          "metadata": {}
        }
      ],
      "source": [
        "pmf.bar()\n",
        "decorate(xlabel=\"Number of babies\", ylabel=\"PMF\")"
      ]
    },
    {
      "cell_type": "code",
      "execution_count": null,
      "id": "64937b8c",
      "metadata": {
        "id": "64937b8c"
      },
      "outputs": [],
      "source": [
        "# Solution goes here\n",
        "# The tail of the distribution extends farther right than left, so the\n",
        "# distribution is skewed to the right."
      ]
    },
    {
      "cell_type": "markdown",
      "id": "071ae7e7",
      "metadata": {
        "id": "071ae7e7"
      },
      "source": [
        "### Exercise 3.2\n",
        "\n",
        "In the same way that the mean identifies a central point in a distribution, and variance quantifies its spread, there is another statistic, called **skewness**, that indicates whether a distribution is skewed to the left or right.\n",
        "\n",
        "Given a sample, we can compute the skewness by computing the sum of the cubed deviations and dividing by the standard deviation cubed.\n",
        "For example, here's how we compute the skewness of `numbabes`.\n"
      ]
    },
    {
      "cell_type": "code",
      "execution_count": 55,
      "id": "f67d55f5",
      "metadata": {
        "id": "f67d55f5"
      },
      "outputs": [],
      "source": [
        "numbabes = resp[\"numbabes\"].replace(97, np.nan)"
      ]
    },
    {
      "cell_type": "code",
      "execution_count": 56,
      "id": "7e1b1e04",
      "metadata": {
        "id": "7e1b1e04",
        "outputId": "13fae0d9-f24b-48e3-a791-1b3aeeb97980",
        "colab": {
          "base_uri": "https://localhost:8080/"
        }
      },
      "outputs": [
        {
          "output_type": "execute_result",
          "data": {
            "text/plain": [
              "np.float64(1.7018914266755378)"
            ]
          },
          "metadata": {},
          "execution_count": 56
        }
      ],
      "source": [
        "deviations = numbabes - numbabes.mean()\n",
        "skewness = np.mean(deviations**3) / numbabes.std(ddof=0) ** 3\n",
        "skewness"
      ]
    },
    {
      "cell_type": "markdown",
      "id": "79f68b36",
      "metadata": {
        "id": "79f68b36"
      },
      "source": [
        "A positive value indicates that a distribution is skewed to the right, and a negative value indicates that it is skewed to the left.\n",
        "\n",
        "If you are given a `Pmf`, rather than a sequence of values, you can compute skewness like this:\n",
        "\n",
        "1. Compute the deviation of each quantity in the `Pmf` from the mean.\n",
        "\n",
        "2. Cube the deviations, multiply by the probabilities in the `Pmf`, and add up the products.\n",
        "\n",
        "3. Divide the sum by the standard deviation cubed.\n",
        "\n",
        "Write a function called `pmf_skewness` that takes a `Pmf` object and returns its skewness."
      ]
    },
    {
      "cell_type": "code",
      "execution_count": 72,
      "id": "95e9d102",
      "metadata": {
        "id": "95e9d102"
      },
      "outputs": [],
      "source": [
        "# Solution goes here\n",
        "def pmf_skewness(pmf):\n",
        "    deviations = pmf.qs - pmf.mean()\n",
        "    moment = np.sum(pmf.ps * deviations**3)\n",
        "    return moment / pmf.std() ** 3"
      ]
    },
    {
      "cell_type": "markdown",
      "id": "bbd5e64f",
      "metadata": {
        "id": "bbd5e64f"
      },
      "source": [
        "Use your function and the `Pmf` of `numbabes` to compute skewness, and confirm you get the same result we computed above."
      ]
    },
    {
      "cell_type": "code",
      "execution_count": 73,
      "id": "4e442b4b",
      "metadata": {
        "id": "4e442b4b",
        "outputId": "b2c15a9b-06f8-485a-9e87-9781e0589771",
        "colab": {
          "base_uri": "https://localhost:8080/"
        }
      },
      "outputs": [
        {
          "output_type": "execute_result",
          "data": {
            "text/plain": [
              "np.float64(1.7018914266755958)"
            ]
          },
          "metadata": {},
          "execution_count": 73
        }
      ],
      "source": [
        "# Solution goes here\n",
        "pmf_skewness(pmf)"
      ]
    },
    {
      "cell_type": "markdown",
      "id": "81e26051",
      "metadata": {
        "id": "81e26051"
      },
      "source": [
        "### Exercise 3.3\n",
        "\n",
        "Something like the class size paradox appears if you survey children and ask how many children are in their family.\n",
        "Families with many children are more likely to appear in your sample, and families with no children have no chance to be in the sample at all.\n",
        "\n",
        "From `resp`, select `numkdhh`, which records the number of children under 18 in each respondent's household.\n",
        "Make a `Pmf` of the values in this column.\n",
        "\n",
        "Use the `bias` function to compute the distribution we would see if we surveyed the children and asked them how many children under 18 (including themselves) are in their household.\n",
        "\n",
        "Plot the actual and biased distributions, and compute their means."
      ]
    },
    {
      "cell_type": "code",
      "execution_count": 79,
      "id": "8a263d8e",
      "metadata": {
        "id": "8a263d8e",
        "outputId": "3d3e5d2b-ba79-4cf4-feb8-c5a5fe4170f9",
        "colab": {
          "base_uri": "https://localhost:8080/",
          "height": 458
        }
      },
      "outputs": [
        {
          "output_type": "execute_result",
          "data": {
            "text/plain": [
              "0       3\n",
              "1       0\n",
              "2       0\n",
              "3       0\n",
              "4       0\n",
              "       ..\n",
              "7638    0\n",
              "7639    0\n",
              "7640    0\n",
              "7641    0\n",
              "7642    0\n",
              "Name: numkdhh, Length: 7643, dtype: int64"
            ],
            "text/html": [
              "<div>\n",
              "<style scoped>\n",
              "    .dataframe tbody tr th:only-of-type {\n",
              "        vertical-align: middle;\n",
              "    }\n",
              "\n",
              "    .dataframe tbody tr th {\n",
              "        vertical-align: top;\n",
              "    }\n",
              "\n",
              "    .dataframe thead th {\n",
              "        text-align: right;\n",
              "    }\n",
              "</style>\n",
              "<table border=\"1\" class=\"dataframe\">\n",
              "  <thead>\n",
              "    <tr style=\"text-align: right;\">\n",
              "      <th></th>\n",
              "      <th>numkdhh</th>\n",
              "    </tr>\n",
              "  </thead>\n",
              "  <tbody>\n",
              "    <tr>\n",
              "      <th>0</th>\n",
              "      <td>3</td>\n",
              "    </tr>\n",
              "    <tr>\n",
              "      <th>1</th>\n",
              "      <td>0</td>\n",
              "    </tr>\n",
              "    <tr>\n",
              "      <th>2</th>\n",
              "      <td>0</td>\n",
              "    </tr>\n",
              "    <tr>\n",
              "      <th>3</th>\n",
              "      <td>0</td>\n",
              "    </tr>\n",
              "    <tr>\n",
              "      <th>4</th>\n",
              "      <td>0</td>\n",
              "    </tr>\n",
              "    <tr>\n",
              "      <th>...</th>\n",
              "      <td>...</td>\n",
              "    </tr>\n",
              "    <tr>\n",
              "      <th>7638</th>\n",
              "      <td>0</td>\n",
              "    </tr>\n",
              "    <tr>\n",
              "      <th>7639</th>\n",
              "      <td>0</td>\n",
              "    </tr>\n",
              "    <tr>\n",
              "      <th>7640</th>\n",
              "      <td>0</td>\n",
              "    </tr>\n",
              "    <tr>\n",
              "      <th>7641</th>\n",
              "      <td>0</td>\n",
              "    </tr>\n",
              "    <tr>\n",
              "      <th>7642</th>\n",
              "      <td>0</td>\n",
              "    </tr>\n",
              "  </tbody>\n",
              "</table>\n",
              "<p>7643 rows × 1 columns</p>\n",
              "</div><br><label><b>dtype:</b> int64</label>"
            ]
          },
          "metadata": {},
          "execution_count": 79
        }
      ],
      "source": [
        "# Solution goes here\n",
        "num_kids = resp[\"numkdhh\"]\n",
        "freq_tab = FreqTab(num_kids)\n",
        "freq_tab"
      ]
    },
    {
      "cell_type": "code",
      "execution_count": 80,
      "id": "019396ef",
      "metadata": {
        "id": "019396ef"
      },
      "outputs": [],
      "source": [
        "# Solution goes here\n",
        "actual_pmf = Pmf.from_seq(num_kids, name=\"num_kids\")\n",
        "num_kids_pmf = bias(pmf, name=\"biased\")"
      ]
    },
    {
      "cell_type": "code",
      "execution_count": 82,
      "id": "064c0161",
      "metadata": {
        "id": "064c0161",
        "outputId": "06642ce2-6ebb-4acc-d496-80a66ffc1e97",
        "colab": {
          "base_uri": "https://localhost:8080/",
          "height": 272
        }
      },
      "outputs": [
        {
          "output_type": "display_data",
          "data": {
            "text/plain": [
              "<Figure size 450x262.5 with 1 Axes>"
            ],
            "image/png": "[encoded data removed]"
          },
          "metadata": {}
        }
      ],
      "source": [
        "# Solution goes here\n",
        "two_bar_plots(actual_pmf, num_kids_pmf)\n",
        "decorate(xlabel=\"Number of children\", ylabel=\"PMF\")"
      ]
    },
    {
      "cell_type": "code",
      "execution_count": 83,
      "id": "e0c4082f",
      "metadata": {
        "id": "e0c4082f",
        "outputId": "42b3c159-de1e-4288-91a9-ab7f167ded44",
        "colab": {
          "base_uri": "https://localhost:8080/"
        }
      },
      "outputs": [
        {
          "output_type": "execute_result",
          "data": {
            "text/plain": [
              "(np.float64(1.024205155043831), np.float64(2.8019039469461977))"
            ]
          },
          "metadata": {},
          "execution_count": 83
        }
      ],
      "source": [
        "# Solution goes here\n",
        "actual_pmf.mean(), num_kids_pmf.mean()"
      ]
    },
    {
      "cell_type": "markdown",
      "id": "e27da3a4",
      "metadata": {
        "tags": [],
        "id": "e27da3a4"
      },
      "source": [
        "[Think Stats: Exploratory Data Analysis in Python, 3rd Edition](https://allendowney.github.io/ThinkStats/index.html)\n",
        "\n",
        "Copyright 2024 [Allen B. Downey](https://allendowney.com)\n",
        "\n",
        "Code license: [MIT License](https://mit-license.org/)\n",
        "\n",
        "Text license: [Creative Commons Attribution-NonCommercial-ShareAlike 4.0 International](https://creativecommons.org/licenses/by-nc-sa/4.0/)"
      ]
    }
  ],
  "metadata": {
    "celltoolbar": "Tags",
    "kernelspec": {
      "display_name": "Python 3 (ipykernel)",
      "language": "python",
      "name": "python3"
    },
    "language_info": {
      "codemirror_mode": {
        "name": "ipython",
        "version": 3
      },
      "file_extension": ".py",
      "mimetype": "text/x-python",
      "name": "python",
      "nbconvert_exporter": "python",
      "pygments_lexer": "ipython3",
      "version": "3.11.0"
    },
    "colab": {
      "provenance": [],
      "toc_visible": true,
      "include_colab_link": true
    }
  },
  "nbformat": 4,
  "nbformat_minor": 5
}