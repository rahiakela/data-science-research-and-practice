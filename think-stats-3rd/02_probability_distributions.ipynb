{
  "cells": [
    {
      "cell_type": "markdown",
      "metadata": {
        "id": "view-in-github",
        "colab_type": "text"
      },
      "source": [
        "<a href=\"https://colab.research.google.com/github/rahiakela/data-science-research-and-practice/blob/main/think-stats-3rd/02_probability_distributions.ipynb\" target=\"_parent\"><img src=\"https://colab.research.google.com/assets/colab-badge.svg\" alt=\"Open In Colab\"/></a>"
      ]
    },
    {
      "cell_type": "markdown",
      "id": "d2f1937f",
      "metadata": {
        "id": "d2f1937f"
      },
      "source": [
        "# Distributions\n",
        "\n",
        "This chapter introduces one of the most fundamental ideas in statistics, the distribution.\n",
        "We'll start with frequency tables -- which represent the values in a dataset and the number of times each of them appears -- and use them to explore data from the National Survey of Family Growth (NSFG).\n",
        "We'll also look for extreme or erroneous values, called outliers, and consider ways to handle them."
      ]
    },
    {
      "cell_type": "code",
      "execution_count": null,
      "id": "1b3797b5",
      "metadata": {
        "tags": [],
        "id": "1b3797b5"
      },
      "outputs": [],
      "source": [
        "from os.path import basename, exists\n",
        "\n",
        "\n",
        "def download(url):\n",
        "    filename = basename(url)\n",
        "    if not exists(filename):\n",
        "        from urllib.request import urlretrieve\n",
        "\n",
        "        local, _ = urlretrieve(url, filename)\n",
        "        print(\"Downloaded \" + local)\n",
        "\n",
        "\n",
        "download(\"https://github.com/AllenDowney/ThinkStats/raw/v3/nb/thinkstats.py\")"
      ]
    },
    {
      "cell_type": "code",
      "execution_count": null,
      "id": "f43cb8b9",
      "metadata": {
        "tags": [],
        "id": "f43cb8b9"
      },
      "outputs": [],
      "source": [
        "try:\n",
        "    import empiricaldist\n",
        "except ImportError:\n",
        "    %pip install empiricaldist"
      ]
    },
    {
      "cell_type": "code",
      "execution_count": null,
      "id": "338d162a",
      "metadata": {
        "tags": [],
        "id": "338d162a"
      },
      "outputs": [],
      "source": [
        "import numpy as np\n",
        "import matplotlib.pyplot as plt\n",
        "from thinkstats import decorate"
      ]
    },
    {
      "cell_type": "markdown",
      "id": "01d03795",
      "metadata": {
        "id": "01d03795"
      },
      "source": [
        "## Frequency Tables\n",
        "\n",
        "One way to describe a variable is a **frequency table**, which contains the values of the variable and their **frequencies** -- that is, the number of times each value appears.\n",
        "This description is called the **distribution** of the variable.\n",
        "\n",
        "To represent distributions, we'll use a library called `empiricaldist`.\n",
        "In this context, \"empirical\" means that the distributions are based on data rather than mathematical models.\n",
        "`empiricaldist` provides a class called `FreqTab` that we can use to compute and plot frequency tables.\n",
        "We can import it like this."
      ]
    },
    {
      "cell_type": "code",
      "execution_count": null,
      "id": "142ef9f5",
      "metadata": {
        "id": "142ef9f5"
      },
      "outputs": [],
      "source": [
        "from empiricaldist import FreqTab"
      ]
    },
    {
      "cell_type": "markdown",
      "id": "026f22d6",
      "metadata": {
        "id": "026f22d6"
      },
      "source": [
        "To show how it works, we'll start with a small list of values."
      ]
    },
    {
      "cell_type": "code",
      "execution_count": null,
      "id": "a8c88e69",
      "metadata": {
        "id": "a8c88e69"
      },
      "outputs": [],
      "source": [
        "t = [1.0, 2.0, 2.0, 3.0, 5.0]"
      ]
    },
    {
      "cell_type": "markdown",
      "id": "6addd31b",
      "metadata": {
        "id": "6addd31b"
      },
      "source": [
        "`FreqTab` provides a method called `from_seq` that takes a sequence and makes a `FreqTab` object."
      ]
    },
    {
      "cell_type": "code",
      "execution_count": null,
      "id": "32a8fcc3",
      "metadata": {
        "id": "32a8fcc3"
      },
      "outputs": [],
      "source": [
        "ftab = FreqTab.from_seq(t)\n",
        "ftab"
      ]
    },
    {
      "cell_type": "markdown",
      "id": "d7c83115",
      "metadata": {
        "id": "d7c83115"
      },
      "source": [
        "A `FreqTab` object is a kind of Pandas `Series` that contains values and their frequencies.\n",
        "In this example, the value `1.0` corresponds to frequency 1, the value `2.0` corresponds to frequency 2, etc.\n",
        "\n",
        "`FreqTab` provides a method called `bar` that plots the frequency table as a bar chart."
      ]
    },
    {
      "cell_type": "code",
      "execution_count": null,
      "id": "24f2055e",
      "metadata": {
        "id": "24f2055e"
      },
      "outputs": [],
      "source": [
        "ftab.bar()\n",
        "decorate(xlabel=\"Value\", ylabel=\"Frequency\")"
      ]
    },
    {
      "cell_type": "markdown",
      "id": "9b20fe7c",
      "metadata": {
        "id": "9b20fe7c"
      },
      "source": [
        "Because a `FreqTab` is a Pandas `Series`, we can use the bracket operator to look up a value and get its frequency."
      ]
    },
    {
      "cell_type": "code",
      "execution_count": null,
      "id": "dabde3b8",
      "metadata": {
        "id": "dabde3b8"
      },
      "outputs": [],
      "source": [
        "ftab[2.0]"
      ]
    },
    {
      "cell_type": "markdown",
      "id": "3af2a2e9",
      "metadata": {
        "id": "3af2a2e9"
      },
      "source": [
        "But unlike a Pandas `Series`, we can also call a `FreqTab` object like a function to look up a value."
      ]
    },
    {
      "cell_type": "code",
      "execution_count": null,
      "id": "b788c0ba",
      "metadata": {
        "id": "b788c0ba"
      },
      "outputs": [],
      "source": [
        "ftab(2.0)"
      ]
    },
    {
      "cell_type": "markdown",
      "id": "fd2ce71f",
      "metadata": {
        "id": "fd2ce71f"
      },
      "source": [
        "If we look up a value that does not appear in the `FreqTab`, the function syntax returns `0`."
      ]
    },
    {
      "cell_type": "code",
      "execution_count": null,
      "id": "ef936c4c",
      "metadata": {
        "id": "ef936c4c"
      },
      "outputs": [],
      "source": [
        "ftab(4.0)"
      ]
    },
    {
      "cell_type": "markdown",
      "id": "4f6c7454",
      "metadata": {
        "id": "4f6c7454"
      },
      "source": [
        "A `FreqTab` object has an attribute called `qs` that returns an array of values -- `qs` stands for quantities, although technically not all values are quantities."
      ]
    },
    {
      "cell_type": "code",
      "execution_count": null,
      "id": "800a81bc",
      "metadata": {
        "id": "800a81bc"
      },
      "outputs": [],
      "source": [
        "ftab.qs"
      ]
    },
    {
      "cell_type": "markdown",
      "id": "6ea6cf48",
      "metadata": {
        "id": "6ea6cf48"
      },
      "source": [
        "`FreqTab` also has an attribute called `fs` that returns an array of frequencies."
      ]
    },
    {
      "cell_type": "code",
      "execution_count": null,
      "id": "51efc825",
      "metadata": {
        "id": "51efc825"
      },
      "outputs": [],
      "source": [
        "ftab.fs"
      ]
    },
    {
      "cell_type": "markdown",
      "id": "7cef9cc4",
      "metadata": {
        "id": "7cef9cc4"
      },
      "source": [
        "`FreqTab` provides an `items` method we can use to loop through quantity-frequency pairs:"
      ]
    },
    {
      "cell_type": "code",
      "execution_count": null,
      "id": "631f0d3e",
      "metadata": {
        "id": "631f0d3e"
      },
      "outputs": [],
      "source": [
        "for x, freq in ftab.items():\n",
        "    print(x, freq)"
      ]
    },
    {
      "cell_type": "markdown",
      "id": "ead5ffcd",
      "metadata": {
        "id": "ead5ffcd"
      },
      "source": [
        "We'll see more `FreqTab` methods as we go along."
      ]
    },
    {
      "cell_type": "markdown",
      "id": "f3aa1263",
      "metadata": {
        "id": "f3aa1263"
      },
      "source": [
        "## NSFG Distributions\n",
        "\n",
        "When you start working with a new dataset, I suggest you explore the variables you are planning to use one at a time, and a good way to start is by looking at frequency tables.\n",
        "\n",
        "As an example, let's look at data from the National Survey of Family Growth (NSFG).\n",
        "In the previous chapter, we downloaded this dataset, read it into a Pandas `DataFrame`, and cleaned a few of the variables.\n",
        "The code we used to load and clean the data is in a module called `nsfg.py` -- instructions for installing this module are in the notebook for this chapter."
      ]
    },
    {
      "cell_type": "markdown",
      "id": "e6eac5b4",
      "metadata": {
        "tags": [],
        "id": "e6eac5b4"
      },
      "source": [
        "The following cells download the data files and install `statadict`, which we need to read the data."
      ]
    },
    {
      "cell_type": "code",
      "execution_count": null,
      "id": "c77ab1f0",
      "metadata": {
        "tags": [],
        "id": "c77ab1f0"
      },
      "outputs": [],
      "source": [
        "try:\n",
        "    import statadict\n",
        "except ImportError:\n",
        "    %pip install statadict"
      ]
    },
    {
      "cell_type": "code",
      "execution_count": null,
      "id": "2bbaa48e",
      "metadata": {
        "tags": [],
        "id": "2bbaa48e"
      },
      "outputs": [],
      "source": [
        "download(\"https://github.com/AllenDowney/ThinkStats/raw/v3/nb/nsfg.py\")\n",
        "download(\"https://github.com/AllenDowney/ThinkStats/raw/v3/data/2002FemPreg.dct\")\n",
        "download(\"https://github.com/AllenDowney/ThinkStats/raw/v3/data/2002FemPreg.dat.gz\")"
      ]
    },
    {
      "cell_type": "markdown",
      "id": "339cae3d",
      "metadata": {
        "id": "339cae3d"
      },
      "source": [
        "We can import it and read the pregnancy file like this."
      ]
    },
    {
      "cell_type": "code",
      "execution_count": null,
      "id": "d3fe7a84",
      "metadata": {
        "id": "d3fe7a84"
      },
      "outputs": [],
      "source": [
        "from nsfg import read_fem_preg\n",
        "\n",
        "preg = read_fem_preg()"
      ]
    },
    {
      "cell_type": "markdown",
      "id": "5e3f1a6a",
      "metadata": {
        "id": "5e3f1a6a"
      },
      "source": [
        "For the examples in this chapter, we'll focus on pregnancies that ended in live birth.\n",
        "We can use the `query` method to select the rows where `outcome` is 1."
      ]
    },
    {
      "cell_type": "code",
      "execution_count": null,
      "id": "32e122bf",
      "metadata": {
        "id": "32e122bf"
      },
      "outputs": [],
      "source": [
        "live = preg.query(\"outcome == 1\")"
      ]
    },
    {
      "cell_type": "markdown",
      "id": "cd02a26b",
      "metadata": {
        "id": "cd02a26b"
      },
      "source": [
        "In the string that's passed to `query`, variable names like `outcome` refer to column names in the `DataFrame`.\n",
        "This string can also contain operators like `==` and operands like `1`.\n",
        "\n",
        "Now we can use `FreqTab.from_seq` to count the number of times each quantity appears in `birthwgt_lb`, which is the pounds part of the birth weights.\n",
        "The `name` argument gives the `FreqTab` object a name, which is used as a label when we plot it."
      ]
    },
    {
      "cell_type": "code",
      "execution_count": null,
      "id": "48342667",
      "metadata": {
        "id": "48342667"
      },
      "outputs": [],
      "source": [
        "ftab_lb = FreqTab.from_seq(live[\"birthwgt_lb\"], name=\"birthwgt_lb\")"
      ]
    },
    {
      "cell_type": "markdown",
      "id": "1b79be72",
      "metadata": {
        "id": "1b79be72"
      },
      "source": [
        "Here's what the distribution looks like."
      ]
    },
    {
      "cell_type": "code",
      "execution_count": null,
      "id": "114aec3c",
      "metadata": {
        "id": "114aec3c"
      },
      "outputs": [],
      "source": [
        "ftab_lb.bar()\n",
        "decorate(xlabel=\"Pounds\", ylabel=\"Frequency\")"
      ]
    },
    {
      "cell_type": "markdown",
      "id": "e8f04b3a",
      "metadata": {
        "id": "e8f04b3a"
      },
      "source": [
        "Looking at a distribution like this, the first thing we notice is the shape, which resembles the famous bell curve, more formally called a normal distribution or a Gaussian distribution.\n",
        "The other notable feature of the distribution is the **mode**, which is the most common value.\n",
        "To find the mode, we can use the method `idxmax`, which finds the quantity associated with the highest frequency."
      ]
    },
    {
      "cell_type": "code",
      "execution_count": null,
      "id": "caba970d",
      "metadata": {
        "id": "caba970d"
      },
      "outputs": [],
      "source": [
        "ftab_lb.idxmax()"
      ]
    },
    {
      "cell_type": "markdown",
      "id": "6946f411",
      "metadata": {
        "id": "6946f411"
      },
      "source": [
        "`FreqTab` provides a method called `mode` that does the same thing."
      ]
    },
    {
      "cell_type": "code",
      "execution_count": null,
      "id": "ba3b2280",
      "metadata": {
        "id": "ba3b2280"
      },
      "outputs": [],
      "source": [
        "ftab_lb.mode()"
      ]
    },
    {
      "cell_type": "markdown",
      "id": "f98067b9",
      "metadata": {
        "id": "f98067b9"
      },
      "source": [
        "In this distribution, the mode is at 7 pounds.\n",
        "\n",
        "As another example, here's the frequency table of `birthwgt_oz`, which is the ounces part of birth weight."
      ]
    },
    {
      "cell_type": "code",
      "execution_count": null,
      "id": "70fbced6",
      "metadata": {
        "id": "70fbced6"
      },
      "outputs": [],
      "source": [
        "ftab_oz = FreqTab.from_seq(live[\"birthwgt_oz\"], name=\"birthwgt_oz\")\n",
        "ftab_oz.bar()\n",
        "decorate(xlabel=\"Ounces\", ylabel=\"Frequency\")"
      ]
    },
    {
      "cell_type": "markdown",
      "id": "c3c93c85",
      "metadata": {
        "id": "c3c93c85"
      },
      "source": [
        "Because nature doesn't know about pounds and ounces, we might expect all values of `birthwgt_oz` to be equally likely -- that is, this distribution should be **uniform**.\n",
        "But it looks like `0` is more common than the other quantities, and `1` and `15` are less common, which suggests that respondents round off birth weights that are close to a whole number of pounds.\n",
        "\n",
        "As another example, let's look at the frequency table of `agepreg`, which is the mother's age at the end of pregnancy."
      ]
    },
    {
      "cell_type": "code",
      "execution_count": null,
      "id": "6acf262e",
      "metadata": {
        "id": "6acf262e"
      },
      "outputs": [],
      "source": [
        "ftab_age = FreqTab.from_seq(live[\"agepreg\"], name=\"agepreg\")"
      ]
    },
    {
      "cell_type": "markdown",
      "id": "0786446c",
      "metadata": {
        "id": "0786446c"
      },
      "source": [
        "In the NSFG, age is recorded in years and months, so there are more unique values than in the other distributions we've looked at.\n",
        "For that reason, we'll pass `width=0.1` as a keyword argument to the `bar` method, which adjusts the width of the bars so they don't overlap too much."
      ]
    },
    {
      "cell_type": "code",
      "execution_count": null,
      "id": "c2655abf",
      "metadata": {
        "id": "c2655abf"
      },
      "outputs": [],
      "source": [
        "ftab_age.bar(width=0.1)\n",
        "decorate(xlabel=\"Age\", ylabel=\"Frequency\")"
      ]
    },
    {
      "cell_type": "markdown",
      "id": "8f5b352c",
      "metadata": {
        "id": "8f5b352c"
      },
      "source": [
        "The distribution is very roughly bell-shaped, but it is **skewed** to the right -- that is, the tail extends farther right than left.\n",
        "\n",
        "Finally, let's look at the frequency table of `prglngth`, which is the length of the pregnancy in weeks.\n",
        "The `xlim` argument sets the limit of the x-axis to the range from 20 to 50 weeks -- there are not many values outside this range, and they are probably errors."
      ]
    },
    {
      "cell_type": "code",
      "execution_count": null,
      "id": "4be5468c",
      "metadata": {
        "id": "4be5468c"
      },
      "outputs": [],
      "source": [
        "ftab_length = FreqTab.from_seq(live[\"prglngth\"], name=\"prglngth\")\n",
        "ftab_length.bar()\n",
        "decorate(xlabel=\"Weeks\", ylabel=\"Frequency\", xlim=[20, 50])"
      ]
    },
    {
      "cell_type": "markdown",
      "id": "c536d409",
      "metadata": {
        "id": "c536d409"
      },
      "source": [
        "By far the most common quantity is 39 weeks.\n",
        "The left tail is longer than the right -- early babies are common, but pregnancies seldom go past 43 weeks, and doctors often intervene if they do."
      ]
    },
    {
      "cell_type": "markdown",
      "id": "c742286d",
      "metadata": {
        "id": "c742286d"
      },
      "source": [
        "## Outliers\n",
        "\n",
        "Looking at frequency tables, it is easy to identify the shape of the distribution and the most common quantities, but rare quantities are not always visible.\n",
        "Before going on, it is a good idea to check for **outliers**, which are extreme values that might be measurement or recording errors, or might be accurate reports of rare events.\n",
        "\n",
        "To identify outliers, the following function takes a `FreqTab` object and an integer `n`, and uses a slice index to select the `n` smallest quantities and their frequencies."
      ]
    },
    {
      "cell_type": "code",
      "execution_count": null,
      "id": "205cad0e",
      "metadata": {
        "id": "205cad0e"
      },
      "outputs": [],
      "source": [
        "def smallest(ftab, n=10):\n",
        "    return ftab[:n]"
      ]
    },
    {
      "cell_type": "markdown",
      "id": "2787b9b7",
      "metadata": {
        "id": "2787b9b7"
      },
      "source": [
        "In the frequency table of `prglngth`, here are the 10 smallest values."
      ]
    },
    {
      "cell_type": "code",
      "execution_count": null,
      "id": "aa9cc34c",
      "metadata": {
        "id": "aa9cc34c"
      },
      "outputs": [],
      "source": [
        "smallest(ftab_length)"
      ]
    },
    {
      "cell_type": "markdown",
      "id": "8d0885b6",
      "metadata": {
        "id": "8d0885b6"
      },
      "source": [
        "Since we selected the rows for live births, pregnancy lengths less than 10 weeks are certainly errors.\n",
        "The most likely explanation is that the outcome was not coded correctly.\n",
        "Lengths higher than 30 weeks are probably legitimate.\n",
        "Between 10 and 30 weeks, it is hard to be sure -- some quantities are probably errors, but some are correctly recorded preterm births.\n",
        "\n",
        "The following function selects the largest values from a `FreqTab` object."
      ]
    },
    {
      "cell_type": "code",
      "execution_count": null,
      "id": "f6c279f3",
      "metadata": {
        "id": "f6c279f3"
      },
      "outputs": [],
      "source": [
        "def largest(ftab, n=10):\n",
        "    return ftab[-n:]"
      ]
    },
    {
      "cell_type": "markdown",
      "id": "6c788726",
      "metadata": {
        "id": "6c788726"
      },
      "source": [
        "Here are the longest pregnancy lengths in the dataset."
      ]
    },
    {
      "cell_type": "code",
      "execution_count": null,
      "id": "79ab04ed",
      "metadata": {
        "id": "79ab04ed"
      },
      "outputs": [],
      "source": [
        "largest(ftab_length)"
      ]
    },
    {
      "cell_type": "markdown",
      "id": "532bed4a",
      "metadata": {
        "id": "532bed4a"
      },
      "source": [
        "Again, some of these values are probably errors.\n",
        "Most doctors recommend induced labor if a pregnancy exceeds 41 weeks, so 50 weeks seems unlikely to be correct.\n",
        "But there is no clear line between values that are certainly errors and values that might be correct reports of rare events.\n",
        "\n",
        "The best way to handle outliers depends on \"domain knowledge\" -- that is, information about where the data come from and what they mean.\n",
        "And it depends on what analysis you are planning to perform.\n",
        "\n",
        "In this example, the motivating question is whether first babies tend to be earlier or later than other babies.\n",
        "So we'll use statistics that are not thrown off too much by a small number of incorrect values."
      ]
    },
    {
      "cell_type": "markdown",
      "id": "ed8019a0",
      "metadata": {
        "id": "ed8019a0"
      },
      "source": [
        "## First Babies\n",
        "\n",
        "Now let's compare the distribution of pregnancy lengths for first babies and others.\n",
        "We can use the `query` method to select rows that represent first babies and others."
      ]
    },
    {
      "cell_type": "code",
      "execution_count": null,
      "id": "0769cfcb",
      "metadata": {
        "id": "0769cfcb"
      },
      "outputs": [],
      "source": [
        "firsts = live.query(\"birthord == 1\")\n",
        "others = live.query(\"birthord != 1\")"
      ]
    },
    {
      "cell_type": "markdown",
      "id": "c75165a9",
      "metadata": {
        "id": "c75165a9"
      },
      "source": [
        "And make a `FreqTab` of pregnancy lengths for each group."
      ]
    },
    {
      "cell_type": "code",
      "execution_count": null,
      "id": "cc216b31",
      "metadata": {
        "id": "cc216b31"
      },
      "outputs": [],
      "source": [
        "ftab_first = FreqTab.from_seq(firsts[\"prglngth\"], name=\"firsts\")\n",
        "ftab_other = FreqTab.from_seq(others[\"prglngth\"], name=\"others\")"
      ]
    },
    {
      "cell_type": "markdown",
      "id": "15a52e24",
      "metadata": {
        "id": "15a52e24"
      },
      "source": [
        "The following function plots two frequency tables side-by-side."
      ]
    },
    {
      "cell_type": "code",
      "execution_count": null,
      "id": "bf917d19",
      "metadata": {
        "id": "bf917d19"
      },
      "outputs": [],
      "source": [
        "def two_bar_plots(ftab1, ftab2, width=0.45):\n",
        "    ftab1.bar(align=\"edge\", width=-width)\n",
        "    ftab2.bar(align=\"edge\", width=width, alpha=0.5)"
      ]
    },
    {
      "cell_type": "markdown",
      "id": "8c462305",
      "metadata": {
        "id": "8c462305"
      },
      "source": [
        "Here's what they look like."
      ]
    },
    {
      "cell_type": "code",
      "execution_count": null,
      "id": "feecd113",
      "metadata": {
        "id": "feecd113"
      },
      "outputs": [],
      "source": [
        "two_bar_plots(ftab_first, ftab_other)\n",
        "decorate(xlabel=\"Weeks\", ylabel=\"Frequency\", xlim=[20, 50])"
      ]
    },
    {
      "cell_type": "markdown",
      "id": "40217ecf",
      "metadata": {
        "id": "40217ecf"
      },
      "source": [
        "There is no obvious difference in the shape of the distributions or in the outliers.\n",
        "It looks like more of the non-first babies are born during week 39, but there are more non-first babies in the dataset, so we should not compare the counts directly."
      ]
    },
    {
      "cell_type": "code",
      "execution_count": null,
      "id": "1034565e",
      "metadata": {
        "id": "1034565e"
      },
      "outputs": [],
      "source": [
        "firsts[\"prglngth\"].count(), others[\"prglngth\"].count()"
      ]
    },
    {
      "cell_type": "markdown",
      "id": "18635f9f",
      "metadata": {
        "id": "18635f9f"
      },
      "source": [
        "Comparing the means of the distributions, it looks like first babies are a little bit later on average."
      ]
    },
    {
      "cell_type": "code",
      "execution_count": null,
      "id": "3c2861b7",
      "metadata": {
        "id": "3c2861b7"
      },
      "outputs": [],
      "source": [
        "first_mean = firsts[\"prglngth\"].mean()\n",
        "other_mean = others[\"prglngth\"].mean()\n",
        "first_mean, other_mean"
      ]
    },
    {
      "cell_type": "markdown",
      "id": "e5891501",
      "metadata": {
        "id": "e5891501"
      },
      "source": [
        "But the difference is only 0.078 weeks, which is about 13 hours."
      ]
    },
    {
      "cell_type": "code",
      "execution_count": null,
      "id": "d5a1b8d1",
      "metadata": {
        "id": "d5a1b8d1"
      },
      "outputs": [],
      "source": [
        "diff = first_mean - other_mean\n",
        "diff, diff * 7 * 24"
      ]
    },
    {
      "cell_type": "markdown",
      "id": "4a3a536f",
      "metadata": {
        "id": "4a3a536f"
      },
      "source": [
        "There are several possible causes of this apparent difference:\n",
        "\n",
        "* There might be an actual difference in average pregnancy length between first babies and others.\n",
        "\n",
        "* The apparent difference we see in this dataset might be the result of bias in the sampling process -- that is, the selection of survey respondents.\n",
        "\n",
        "* The apparent difference might be the result of measurement error -- for example, the self-reported pregnancy lengths might be more accurate for first babies or others.\n",
        "\n",
        "* The apparent difference might be the result of random variation in the sampling process.\n",
        "\n",
        "In later chapters, we will consider these possible explanations more carefully, but for now we will take this result at face value: in this dataset, there is a small difference in pregnancy length between these groups."
      ]
    },
    {
      "cell_type": "markdown",
      "id": "dcd38712",
      "metadata": {
        "id": "dcd38712"
      },
      "source": [
        "## Effect Size\n",
        "\n",
        "A difference like this is sometimes called an \"effect\".\n",
        "There are several ways to quantify the magnitude of an effect.\n",
        "The simplest is to report the difference in absolute terms -- in this example, the difference is 0.078 weeks.\n",
        "\n",
        "Another is to report the difference in relative terms.\n",
        "For example, we might say that first pregnancies are 0.2% longer than others, on average."
      ]
    },
    {
      "cell_type": "code",
      "execution_count": null,
      "id": "5350ffef",
      "metadata": {
        "id": "5350ffef"
      },
      "outputs": [],
      "source": [
        "diff / live[\"prglngth\"].mean() * 100"
      ]
    },
    {
      "cell_type": "markdown",
      "id": "3b656e71",
      "metadata": {
        "id": "3b656e71"
      },
      "source": [
        "Another option is to report a **standardized** effect size, which is a statistic intended to quantify the size of an effect in a way that is comparable between different quantities and different groups.\n",
        "\n",
        "Standardizing means we express the difference as a multiple of the standard deviation.\n",
        "So we might be tempted to write something like this."
      ]
    },
    {
      "cell_type": "code",
      "execution_count": null,
      "id": "36c39f37",
      "metadata": {
        "id": "36c39f37"
      },
      "outputs": [],
      "source": [
        "diff / live[\"prglngth\"].std()"
      ]
    },
    {
      "cell_type": "markdown",
      "id": "09162cf0",
      "metadata": {
        "id": "09162cf0"
      },
      "source": [
        "But notice that we used both groups to compute the standard deviation.\n",
        "If the groups are substantially different, the standard deviation when we put them together is larger than in either group, which might make the effect size seem small.\n",
        "\n",
        "An alternative is to use the standard deviation of just one group, but it's not clear which. So we could take the average of the two standard deviations, but if the groups are different sizes, that would give too much weight to one group and not enough to the other.\n",
        "\n",
        "A common solution is to use **pooled standard deviation**, which is the square root of pooled variance, which is the weighted sum of the variances in the groups.\n",
        "To compute it, we'll start with the variances."
      ]
    },
    {
      "cell_type": "code",
      "execution_count": null,
      "id": "7020bf5a",
      "metadata": {
        "id": "7020bf5a"
      },
      "outputs": [],
      "source": [
        "group1, group2 = firsts[\"prglngth\"], others[\"prglngth\"]"
      ]
    },
    {
      "cell_type": "code",
      "execution_count": null,
      "id": "2f2b5b4e",
      "metadata": {
        "id": "2f2b5b4e"
      },
      "outputs": [],
      "source": [
        "v1, v2 = group1.var(), group2.var()"
      ]
    },
    {
      "cell_type": "markdown",
      "id": "3d92b828",
      "metadata": {
        "id": "3d92b828"
      },
      "source": [
        "Here is the weighted sum, with the group sizes as weights."
      ]
    },
    {
      "cell_type": "code",
      "execution_count": null,
      "id": "abc6ca74",
      "metadata": {
        "id": "abc6ca74"
      },
      "outputs": [],
      "source": [
        "n1, n2 = group1.count(), group2.count()\n",
        "pooled_var = (n1 * v1 + n2 * v2) / (n1 + n2)"
      ]
    },
    {
      "cell_type": "markdown",
      "id": "a533d4ef",
      "metadata": {
        "id": "a533d4ef"
      },
      "source": [
        "Finally, here is the pooled standard deviation."
      ]
    },
    {
      "cell_type": "code",
      "execution_count": null,
      "id": "03fe9601",
      "metadata": {
        "id": "03fe9601"
      },
      "outputs": [],
      "source": [
        "np.sqrt(pooled_var)"
      ]
    },
    {
      "cell_type": "markdown",
      "id": "ea8df9c2",
      "metadata": {
        "id": "ea8df9c2"
      },
      "source": [
        "The pooled standard deviation is between the standard deviations of the groups."
      ]
    },
    {
      "cell_type": "code",
      "execution_count": null,
      "id": "b36d6897",
      "metadata": {
        "id": "b36d6897"
      },
      "outputs": [],
      "source": [
        "firsts[\"prglngth\"].std(), others[\"prglngth\"].std()"
      ]
    },
    {
      "cell_type": "markdown",
      "id": "72c5526f",
      "metadata": {
        "id": "72c5526f"
      },
      "source": [
        "A standardized effect size that uses pooled standard deviation is called **Cohen's effect size**. Here's a function that computes it."
      ]
    },
    {
      "cell_type": "code",
      "execution_count": null,
      "id": "0cecadaa",
      "metadata": {
        "id": "0cecadaa"
      },
      "outputs": [],
      "source": [
        "def cohen_effect_size(group1, group2):\n",
        "    diff = group1.mean() - group2.mean()\n",
        "\n",
        "    v1, v2 = group1.var(), group2.var()\n",
        "    n1, n2 = group1.count(), group2.count()\n",
        "    pooled_var = (n1 * v1 + n2 * v2) / (n1 + n2)\n",
        "\n",
        "    return diff / np.sqrt(pooled_var)"
      ]
    },
    {
      "cell_type": "markdown",
      "id": "77d764af",
      "metadata": {
        "id": "77d764af"
      },
      "source": [
        "And here's the effect size for the difference in mean pregnancy lengths."
      ]
    },
    {
      "cell_type": "code",
      "execution_count": null,
      "id": "e6e19a82",
      "metadata": {
        "id": "e6e19a82"
      },
      "outputs": [],
      "source": [
        "cohen_effect_size(firsts[\"prglngth\"], others[\"prglngth\"])"
      ]
    },
    {
      "cell_type": "markdown",
      "id": "bd8c1b97",
      "metadata": {
        "id": "bd8c1b97"
      },
      "source": [
        "In this example, the difference is 0.029 standard deviations, which is small.\n",
        "To put that in perspective, the difference in height between men and women is about 1.7 standard deviations."
      ]
    },
    {
      "cell_type": "markdown",
      "id": "73d554e6",
      "metadata": {
        "id": "73d554e6"
      },
      "source": [
        "## Reporting results\n",
        "\n",
        "We have seen several ways to describe the difference in pregnancy length (if there is one) between first babies and others.\n",
        "How should we report these results?\n",
        "\n",
        "The answer depends on who is asking the question.\n",
        "A scientist might be interested in any (real) effect, no matter how small.\n",
        "A doctor might only care about effects that are **practically significant** -- that is, differences that matter in practice.\n",
        "A pregnant woman might be interested in results that are relevant to her, like the probability of delivering early or late.\n",
        "\n",
        "How you report results also depends on your goals.\n",
        "If you are trying to demonstrate the importance of an effect, you might choose summary statistics that emphasize differences.\n",
        "If you are trying to reassure a patient, you might choose statistics that put the differences in context.\n",
        "\n",
        "Of course your decisions should also be guided by professional ethics.\n",
        "It's OK to be persuasive -- you *should* design statistical reports and visualizations that tell a story clearly.\n",
        "But you should also do your best to make your reports honest, and to acknowledge uncertainty and limitations."
      ]
    },
    {
      "cell_type": "markdown",
      "id": "9d070d5e",
      "metadata": {
        "id": "9d070d5e"
      },
      "source": [
        "## Glossary\n",
        "\n",
        "\n",
        "-   **distribution**: The set of values and how frequently each value appears in a dataset.\n",
        "\n",
        "-   **frequency table**: A mapping from values to frequencies.\n",
        "\n",
        "-   **frequency**: The number of times a value appears in a sample.\n",
        "\n",
        "-   **skewed:** A distribution is skewed if it is asymmetrical, with extreme quantities extending farther in one direction than the other.\n",
        "\n",
        "-   **mode**: The most frequent quantity in a sample, or one of the most frequent quantities.\n",
        "\n",
        "-   **uniform distribution**: A distribution in which all quantities have the same frequency.\n",
        "\n",
        "-   **outlier**: An extreme quantity in a distribution.\n",
        "\n",
        "-   **standardized:** A statistic is standardized if it is expressed in terms that are comparable across different datasets and domains.\n",
        "\n",
        "-   **pooled standard deviation:** A statistic that combines data from two or more groups to compute a common standard deviation.\n",
        "\n",
        "-   **Cohen's effect size:** A standardized statistic that quantifies the difference in the means of two groups.\n",
        "\n",
        "-   **practically significant:** An effect is practically significant if it is big enough to matter in practice."
      ]
    },
    {
      "cell_type": "markdown",
      "id": "65b9f818",
      "metadata": {
        "collapsed": true,
        "id": "65b9f818"
      },
      "source": [
        "## Exercises\n",
        "\n",
        "For the exercises in this chapter, we'll load the NSFG female respondent file, which contains one row for each female respondent.\n",
        "Instructions for downloading the data and the codebook are in the notebook for this chapter."
      ]
    },
    {
      "cell_type": "code",
      "execution_count": null,
      "id": "6261b596",
      "metadata": {
        "tags": [],
        "id": "6261b596"
      },
      "outputs": [],
      "source": [
        "download(\"https://github.com/AllenDowney/ThinkStats/raw/v3/data/2002FemResp.dct\")\n",
        "download(\"https://github.com/AllenDowney/ThinkStats/raw/v3/data/2002FemResp.dat.gz\")"
      ]
    },
    {
      "cell_type": "markdown",
      "id": "0f0c3861",
      "metadata": {
        "tags": [],
        "id": "0f0c3861"
      },
      "source": [
        "The codebook for the female respondent file is at <https://ftp.cdc.gov/pub/Health_Statistics/NCHS/Dataset_Documentation/NSFG/Cycle6Codebook-Female.pdf>."
      ]
    },
    {
      "cell_type": "markdown",
      "id": "624f6acc",
      "metadata": {
        "id": "624f6acc"
      },
      "source": [
        "The `nsfg.py` module provides a function that reads the female respondent file, cleans some of the variables, and returns a `DataFrame`."
      ]
    },
    {
      "cell_type": "code",
      "execution_count": null,
      "id": "6dffc3cb",
      "metadata": {
        "id": "6dffc3cb"
      },
      "outputs": [],
      "source": [
        "from nsfg import read_fem_resp\n",
        "\n",
        "resp = read_fem_resp()\n",
        "resp.shape"
      ]
    },
    {
      "cell_type": "markdown",
      "id": "5817d222",
      "metadata": {
        "id": "5817d222"
      },
      "source": [
        "This `DataFrame` contains 3092 columns, but we'll use just a few of them."
      ]
    },
    {
      "cell_type": "markdown",
      "id": "b00b5a1e",
      "metadata": {
        "id": "b00b5a1e"
      },
      "source": [
        "### Exercise 2.1\n",
        "\n",
        "We'll start with `totincr`, which records the total income for the respondent's family, encoded with a value from 1 to 14.\n",
        "You can read the codebook for the respondent file to see what income level each value represents.\n",
        "\n",
        "Make a `FreqTab` object to represent the distribution of this variable and plot it as a bar chart."
      ]
    },
    {
      "cell_type": "code",
      "execution_count": null,
      "id": "2c49d30c",
      "metadata": {
        "id": "2c49d30c"
      },
      "outputs": [],
      "source": [
        "# Solution goes here"
      ]
    },
    {
      "cell_type": "markdown",
      "id": "ebe67fc8",
      "metadata": {
        "id": "ebe67fc8"
      },
      "source": [
        "### Exercise 2.2\n",
        "\n",
        "Make a frequency table of the `parity` column, which records the number of children each respondent has borne.\n",
        "How would you describe the shape of this distribution?"
      ]
    },
    {
      "cell_type": "code",
      "execution_count": null,
      "id": "e740d764",
      "metadata": {
        "id": "e740d764"
      },
      "outputs": [],
      "source": [
        "# Solution goes here"
      ]
    },
    {
      "cell_type": "code",
      "execution_count": null,
      "id": "b4ffec77",
      "metadata": {
        "id": "b4ffec77"
      },
      "outputs": [],
      "source": [
        "# Solution goes here"
      ]
    },
    {
      "cell_type": "markdown",
      "id": "b5180cf3",
      "metadata": {
        "id": "b5180cf3"
      },
      "source": [
        "Use the `largest` function to find the largest values of `parity`.\n",
        "Are there any values you think are errors?"
      ]
    },
    {
      "cell_type": "code",
      "execution_count": null,
      "id": "a5a1c3ee",
      "metadata": {
        "id": "a5a1c3ee"
      },
      "outputs": [],
      "source": [
        "# Solution goes here"
      ]
    },
    {
      "cell_type": "markdown",
      "id": "0b7de721",
      "metadata": {
        "id": "0b7de721"
      },
      "source": [
        "### Exercise 2.3\n",
        "\n",
        "Let's investigate whether women with higher or lower income bear more children.\n",
        "Use the query method to select the respondents with the highest income (level 14).\n",
        "Plot the frequency table of `parity` for just the high income respondents."
      ]
    },
    {
      "cell_type": "code",
      "execution_count": null,
      "id": "8e3ce887",
      "metadata": {
        "id": "8e3ce887"
      },
      "outputs": [],
      "source": [
        "# Solution goes here"
      ]
    },
    {
      "cell_type": "markdown",
      "id": "b1c9b431",
      "metadata": {
        "id": "b1c9b431"
      },
      "source": [
        "Compare the mean `parity` for high income respondents and others."
      ]
    },
    {
      "cell_type": "code",
      "execution_count": null,
      "id": "9a3f1210",
      "metadata": {
        "id": "9a3f1210"
      },
      "outputs": [],
      "source": [
        "# Solution goes here"
      ]
    },
    {
      "cell_type": "markdown",
      "id": "fbf95bb5",
      "metadata": {
        "id": "fbf95bb5"
      },
      "source": [
        "Compute Cohen's effect size for this difference.\n",
        "How does it compare with the difference in pregnancy length for first babies and others?"
      ]
    },
    {
      "cell_type": "code",
      "execution_count": null,
      "id": "91b96d39",
      "metadata": {
        "id": "91b96d39"
      },
      "outputs": [],
      "source": [
        "# Solution goes here"
      ]
    },
    {
      "cell_type": "markdown",
      "id": "0e29d464",
      "metadata": {
        "id": "0e29d464"
      },
      "source": [
        "Do these results show that people with higher income have fewer children, or can you think of another explanation for the apparent difference?"
      ]
    },
    {
      "cell_type": "code",
      "execution_count": null,
      "id": "0844b1b3",
      "metadata": {
        "id": "0844b1b3"
      },
      "outputs": [],
      "source": [
        "# Solution goes here"
      ]
    },
    {
      "cell_type": "markdown",
      "id": "e27da3a4",
      "metadata": {
        "tags": [],
        "id": "e27da3a4"
      },
      "source": [
        "[Think Stats: Exploratory Data Analysis in Python, 3rd Edition](https://allendowney.github.io/ThinkStats/index.html)\n",
        "\n",
        "Copyright 2024 [Allen B. Downey](https://allendowney.com)\n",
        "\n",
        "Code license: [MIT License](https://mit-license.org/)\n",
        "\n",
        "Text license: [Creative Commons Attribution-NonCommercial-ShareAlike 4.0 International](https://creativecommons.org/licenses/by-nc-sa/4.0/)"
      ]
    }
  ],
  "metadata": {
    "celltoolbar": "Tags",
    "kernelspec": {
      "display_name": "Python 3 (ipykernel)",
      "language": "python",
      "name": "python3"
    },
    "language_info": {
      "codemirror_mode": {
        "name": "ipython",
        "version": 3
      },
      "file_extension": ".py",
      "mimetype": "text/x-python",
      "name": "python",
      "nbconvert_exporter": "python",
      "pygments_lexer": "ipython3",
      "version": "3.11.0"
    },
    "colab": {
      "provenance": [],
      "toc_visible": true,
      "include_colab_link": true
    }
  },
  "nbformat": 4,
  "nbformat_minor": 5
}