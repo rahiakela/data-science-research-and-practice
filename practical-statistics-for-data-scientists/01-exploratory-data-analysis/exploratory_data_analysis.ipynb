{
  "nbformat": 4,
  "nbformat_minor": 0,
  "metadata": {
    "colab": {
      "name": "01-exploratory-data-analysis.ipynb",
      "provenance": [],
      "toc_visible": true,
      "authorship_tag": "ABX9TyMRFtUA6f+gUaDfDP7NRVG2",
      "include_colab_link": true
    },
    "kernelspec": {
      "name": "python3",
      "display_name": "Python 3"
    },
    "language_info": {
      "name": "python"
    }
  },
  "cells": [
    {
      "cell_type": "markdown",
      "metadata": {
        "id": "view-in-github",
        "colab_type": "text"
      },
      "source": [
        "<a href=\"https://colab.research.google.com/github/rahiakela/data-science-research-and-practice/blob/main/practical-statistics-for-data-scientists/01-exploratory-data-analysis/exploratory_data_analysis.ipynb\" target=\"_parent\"><img src=\"https://colab.research.google.com/assets/colab-badge.svg\" alt=\"Open In Colab\"/></a>"
      ]
    },
    {
      "cell_type": "markdown",
      "source": [
        "##Exploratory Data Analysis"
      ],
      "metadata": {
        "id": "kwIeaiqD_LEb"
      }
    },
    {
      "cell_type": "markdown",
      "source": [
        "##Setup"
      ],
      "metadata": {
        "id": "4j8IAouWDwx9"
      }
    },
    {
      "cell_type": "code",
      "source": [
        "!pip -q install wquantiles"
      ],
      "metadata": {
        "id": "JAj7YG0jHaJh"
      },
      "execution_count": 2,
      "outputs": []
    },
    {
      "cell_type": "code",
      "source": [
        "import pandas as pd\n",
        "import numpy as np\n",
        "from scipy.stats import trim_mean\n",
        "from statsmodels import robust\n",
        "import wquantiles\n",
        "\n",
        "import seaborn as sns\n",
        "import matplotlib.pylab as plt\n",
        "%matplotlib inline"
      ],
      "metadata": {
        "id": "f-fSUZj1DyIw"
      },
      "execution_count": 3,
      "outputs": []
    },
    {
      "cell_type": "code",
      "source": [
        "!wget https://github.com/gedeck/practical-statistics-for-data-scientists/raw/master/data/state.csv"
      ],
      "metadata": {
        "id": "aH_sNoKLGnTA"
      },
      "execution_count": null,
      "outputs": []
    },
    {
      "cell_type": "markdown",
      "source": [
        "##Estimates of Location"
      ],
      "metadata": {
        "id": "9JbIjB1bDl1v"
      }
    },
    {
      "cell_type": "markdown",
      "source": [
        "A basic step in exploring your data is getting a “typical value” for each feature (variable): an estimate of where most of the data is located (i.e., its central tendency).\n",
        "\n",
        "**Mean**\n",
        "\n",
        "The most basic estimate of location is the mean, or average value. The mean is the sum of all values divided by the number of values.\n",
        "\n",
        "$\n",
        "mean = \\bar x = \\frac {\\sum_{i=1}^n x_i}{n}\n",
        "$\n",
        "\n",
        "**Trimmed Mean**\n",
        "\n",
        "A variation of the mean is a trimmed mean, which you calculate by dropping a fixed\n",
        "number of sorted values at each end and then taking an average of the remaining values.\n",
        "\n",
        "Representing the sorted values by $x_1 , x_2 , ..., x_n$ where $x_1$ is the smallest value and $x_n$ the largest, the formula to compute the trimmed mean with $p$ smallest and largest values omitted is:\n",
        "\n",
        "$\n",
        "trimmed \\space mean = \\bar x = \\frac {\\sum_{i=p+1}^{n-p} x_i}{n-2p}\n",
        "$\n",
        "\n",
        "A trimmed mean eliminates the influence of extreme values.\n",
        "\n",
        "**Weighted Mean**\n",
        "\n",
        "Another type of mean is a weighted mean, which you calculate by multiplying each data value $x_i$ by a user-specified weight $w_i$ and dividing their sum by the sum of the weights.\n",
        "\n",
        "$\n",
        "weighted \\space mean = \\bar x_w = \\frac {\\sum_{i=1}^n w_i x_i}{\\sum_{i=1}^n w_i}\n",
        "$\n",
        "\n",
        "There are two main motivations for using a weighted mean:\n",
        "\n",
        "- Some values are intrinsically more variable than others, and highly variable\n",
        "observations are given a lower weight.\n",
        "- The data collected does not equally represent the different groups that we are interested in measuring.\n",
        "\n",
        "**Median**\n",
        "\n",
        "The median is the middle number on a sorted list of the data.since the mean is much more sensitive to the data, there are many instances in\n",
        "which the median is a better metric for location.\n",
        "\n",
        "**Outliers**\n",
        "\n",
        "The median is referred to as a robust estimate of location since it is not influenced by\n",
        "outliers (extreme cases) that could skew the results. An outlier is any value that is very\n",
        "distant from the other values in a data set.\n",
        "\n",
        "When outliers are the\n",
        "result of bad data, the mean will result in a poor estimate of location, while the\n",
        "median will still be valid.\n",
        "\n",
        "The median is not the only robust estimate of location. In fact, a trimmed mean is\n",
        "widely used to avoid the influence of outliers.\n",
        "\n",
        "The trimmed mean can be thought of as a compromise\n",
        "between the median and the mean: it is robust to extreme values in the data, but uses\n",
        "more data to calculate the estimate for location.\n"
      ],
      "metadata": {
        "id": "WmohUBla_LTV"
      }
    },
    {
      "cell_type": "markdown",
      "source": [
        "###Example: Location Estimates"
      ],
      "metadata": {
        "id": "9m_oDiFkDhzl"
      }
    },
    {
      "cell_type": "markdown",
      "source": [
        "Let's see the first few rows in the data set containing population and murder\n",
        "rates (in units of murders per 100,000 people per year) for each US state (2010\n",
        "Census)."
      ],
      "metadata": {
        "id": "dNKECty4HIh7"
      }
    },
    {
      "cell_type": "code",
      "source": [
        "state = pd.read_csv(\"state.csv\")\n",
        "state.head(8)"
      ],
      "metadata": {
        "colab": {
          "base_uri": "https://localhost:8080/",
          "height": 300
        },
        "id": "uBoGmSI5HNdY",
        "outputId": "0a6efbb1-76e6-4b5b-dc55-4e9e05c43e3b"
      },
      "execution_count": 6,
      "outputs": [
        {
          "output_type": "execute_result",
          "data": {
            "text/html": [
              "\n",
              "  <div id=\"df-124b8e98-e72f-45cb-b78f-2044a0ffcccb\">\n",
              "    <div class=\"colab-df-container\">\n",
              "      <div>\n",
              "<style scoped>\n",
              "    .dataframe tbody tr th:only-of-type {\n",
              "        vertical-align: middle;\n",
              "    }\n",
              "\n",
              "    .dataframe tbody tr th {\n",
              "        vertical-align: top;\n",
              "    }\n",
              "\n",
              "    .dataframe thead th {\n",
              "        text-align: right;\n",
              "    }\n",
              "</style>\n",
              "<table border=\"1\" class=\"dataframe\">\n",
              "  <thead>\n",
              "    <tr style=\"text-align: right;\">\n",
              "      <th></th>\n",
              "      <th>State</th>\n",
              "      <th>Population</th>\n",
              "      <th>Murder.Rate</th>\n",
              "      <th>Abbreviation</th>\n",
              "    </tr>\n",
              "  </thead>\n",
              "  <tbody>\n",
              "    <tr>\n",
              "      <th>0</th>\n",
              "      <td>Alabama</td>\n",
              "      <td>4779736</td>\n",
              "      <td>5.7</td>\n",
              "      <td>AL</td>\n",
              "    </tr>\n",
              "    <tr>\n",
              "      <th>1</th>\n",
              "      <td>Alaska</td>\n",
              "      <td>710231</td>\n",
              "      <td>5.6</td>\n",
              "      <td>AK</td>\n",
              "    </tr>\n",
              "    <tr>\n",
              "      <th>2</th>\n",
              "      <td>Arizona</td>\n",
              "      <td>6392017</td>\n",
              "      <td>4.7</td>\n",
              "      <td>AZ</td>\n",
              "    </tr>\n",
              "    <tr>\n",
              "      <th>3</th>\n",
              "      <td>Arkansas</td>\n",
              "      <td>2915918</td>\n",
              "      <td>5.6</td>\n",
              "      <td>AR</td>\n",
              "    </tr>\n",
              "    <tr>\n",
              "      <th>4</th>\n",
              "      <td>California</td>\n",
              "      <td>37253956</td>\n",
              "      <td>4.4</td>\n",
              "      <td>CA</td>\n",
              "    </tr>\n",
              "    <tr>\n",
              "      <th>5</th>\n",
              "      <td>Colorado</td>\n",
              "      <td>5029196</td>\n",
              "      <td>2.8</td>\n",
              "      <td>CO</td>\n",
              "    </tr>\n",
              "    <tr>\n",
              "      <th>6</th>\n",
              "      <td>Connecticut</td>\n",
              "      <td>3574097</td>\n",
              "      <td>2.4</td>\n",
              "      <td>CT</td>\n",
              "    </tr>\n",
              "    <tr>\n",
              "      <th>7</th>\n",
              "      <td>Delaware</td>\n",
              "      <td>897934</td>\n",
              "      <td>5.8</td>\n",
              "      <td>DE</td>\n",
              "    </tr>\n",
              "  </tbody>\n",
              "</table>\n",
              "</div>\n",
              "      <button class=\"colab-df-convert\" onclick=\"convertToInteractive('df-124b8e98-e72f-45cb-b78f-2044a0ffcccb')\"\n",
              "              title=\"Convert this dataframe to an interactive table.\"\n",
              "              style=\"display:none;\">\n",
              "        \n",
              "  <svg xmlns=\"http://www.w3.org/2000/svg\" height=\"24px\"viewBox=\"0 0 24 24\"\n",
              "       width=\"24px\">\n",
              "    <path d=\"M0 0h24v24H0V0z\" fill=\"none\"/>\n",
              "    <path d=\"M18.56 5.44l.94 2.06.94-2.06 2.06-.94-2.06-.94-.94-2.06-.94 2.06-2.06.94zm-11 1L8.5 8.5l.94-2.06 2.06-.94-2.06-.94L8.5 2.5l-.94 2.06-2.06.94zm10 10l.94 2.06.94-2.06 2.06-.94-2.06-.94-.94-2.06-.94 2.06-2.06.94z\"/><path d=\"M17.41 7.96l-1.37-1.37c-.4-.4-.92-.59-1.43-.59-.52 0-1.04.2-1.43.59L10.3 9.45l-7.72 7.72c-.78.78-.78 2.05 0 2.83L4 21.41c.39.39.9.59 1.41.59.51 0 1.02-.2 1.41-.59l7.78-7.78 2.81-2.81c.8-.78.8-2.07 0-2.86zM5.41 20L4 18.59l7.72-7.72 1.47 1.35L5.41 20z\"/>\n",
              "  </svg>\n",
              "      </button>\n",
              "      \n",
              "  <style>\n",
              "    .colab-df-container {\n",
              "      display:flex;\n",
              "      flex-wrap:wrap;\n",
              "      gap: 12px;\n",
              "    }\n",
              "\n",
              "    .colab-df-convert {\n",
              "      background-color: #E8F0FE;\n",
              "      border: none;\n",
              "      border-radius: 50%;\n",
              "      cursor: pointer;\n",
              "      display: none;\n",
              "      fill: #1967D2;\n",
              "      height: 32px;\n",
              "      padding: 0 0 0 0;\n",
              "      width: 32px;\n",
              "    }\n",
              "\n",
              "    .colab-df-convert:hover {\n",
              "      background-color: #E2EBFA;\n",
              "      box-shadow: 0px 1px 2px rgba(60, 64, 67, 0.3), 0px 1px 3px 1px rgba(60, 64, 67, 0.15);\n",
              "      fill: #174EA6;\n",
              "    }\n",
              "\n",
              "    [theme=dark] .colab-df-convert {\n",
              "      background-color: #3B4455;\n",
              "      fill: #D2E3FC;\n",
              "    }\n",
              "\n",
              "    [theme=dark] .colab-df-convert:hover {\n",
              "      background-color: #434B5C;\n",
              "      box-shadow: 0px 1px 3px 1px rgba(0, 0, 0, 0.15);\n",
              "      filter: drop-shadow(0px 1px 2px rgba(0, 0, 0, 0.3));\n",
              "      fill: #FFFFFF;\n",
              "    }\n",
              "  </style>\n",
              "\n",
              "      <script>\n",
              "        const buttonEl =\n",
              "          document.querySelector('#df-124b8e98-e72f-45cb-b78f-2044a0ffcccb button.colab-df-convert');\n",
              "        buttonEl.style.display =\n",
              "          google.colab.kernel.accessAllowed ? 'block' : 'none';\n",
              "\n",
              "        async function convertToInteractive(key) {\n",
              "          const element = document.querySelector('#df-124b8e98-e72f-45cb-b78f-2044a0ffcccb');\n",
              "          const dataTable =\n",
              "            await google.colab.kernel.invokeFunction('convertToInteractive',\n",
              "                                                     [key], {});\n",
              "          if (!dataTable) return;\n",
              "\n",
              "          const docLinkHtml = 'Like what you see? Visit the ' +\n",
              "            '<a target=\"_blank\" href=https://colab.research.google.com/notebooks/data_table.ipynb>data table notebook</a>'\n",
              "            + ' to learn more about interactive tables.';\n",
              "          element.innerHTML = '';\n",
              "          dataTable['output_type'] = 'display_data';\n",
              "          await google.colab.output.renderOutput(dataTable, element);\n",
              "          const docLink = document.createElement('div');\n",
              "          docLink.innerHTML = docLinkHtml;\n",
              "          element.appendChild(docLink);\n",
              "        }\n",
              "      </script>\n",
              "    </div>\n",
              "  </div>\n",
              "  "
            ],
            "text/plain": [
              "         State  Population  Murder.Rate Abbreviation\n",
              "0      Alabama     4779736          5.7           AL\n",
              "1       Alaska      710231          5.6           AK\n",
              "2      Arizona     6392017          4.7           AZ\n",
              "3     Arkansas     2915918          5.6           AR\n",
              "4   California    37253956          4.4           CA\n",
              "5     Colorado     5029196          2.8           CO\n",
              "6  Connecticut     3574097          2.4           CT\n",
              "7     Delaware      897934          5.8           DE"
            ]
          },
          "metadata": {},
          "execution_count": 6
        }
      ]
    },
    {
      "cell_type": "markdown",
      "source": [
        "Let's compute mean and median.The trimmed mean requires the trim_mean function in scipy.stats:"
      ],
      "metadata": {
        "id": "TQZAZ6nzH9JA"
      }
    },
    {
      "cell_type": "code",
      "source": [
        "state[\"Population\"].mean()"
      ],
      "metadata": {
        "colab": {
          "base_uri": "https://localhost:8080/"
        },
        "id": "lURVyDsOH-mA",
        "outputId": "fb15d702-5254-4ab9-d6af-76cb86b3c68a"
      },
      "execution_count": 7,
      "outputs": [
        {
          "output_type": "execute_result",
          "data": {
            "text/plain": [
              "6162876.3"
            ]
          },
          "metadata": {},
          "execution_count": 7
        }
      ]
    },
    {
      "cell_type": "code",
      "source": [
        "trim_mean(state[\"Population\"], 0.1) # 10% trimming"
      ],
      "metadata": {
        "colab": {
          "base_uri": "https://localhost:8080/"
        },
        "id": "5ncE7OQvIKBR",
        "outputId": "079fc130-5881-44a6-9247-a285dee5e975"
      },
      "execution_count": 8,
      "outputs": [
        {
          "output_type": "execute_result",
          "data": {
            "text/plain": [
              "4783697.125"
            ]
          },
          "metadata": {},
          "execution_count": 8
        }
      ]
    },
    {
      "cell_type": "code",
      "source": [
        "state[\"Population\"].median()"
      ],
      "metadata": {
        "colab": {
          "base_uri": "https://localhost:8080/"
        },
        "id": "1XXL6z4KIUx4",
        "outputId": "12547b3b-2bb1-4149-ad4b-a276b0f9380a"
      },
      "execution_count": 9,
      "outputs": [
        {
          "output_type": "execute_result",
          "data": {
            "text/plain": [
              "4436369.5"
            ]
          },
          "metadata": {},
          "execution_count": 9
        }
      ]
    },
    {
      "cell_type": "markdown",
      "source": [
        "The mean is bigger than the trimmed mean, which is bigger than the median.\n",
        "\n",
        "This is because the trimmed mean excludes the largest and smallest five states\n",
        "(trim=0.1 drops 10% from each end). \n",
        "\n",
        "If we want to compute the average murder rate\n",
        "for the country, we need to use a weighted mean or median to account for different\n",
        "populations in the states.\n",
        "\n",
        "For weighted median, we can use the specialized\n",
        "package `wquantiles`:"
      ],
      "metadata": {
        "id": "3g6FxLViIxXa"
      }
    },
    {
      "cell_type": "code",
      "source": [
        "np.average(state[\"Murder.Rate\"], weights=state[\"Population\"])"
      ],
      "metadata": {
        "colab": {
          "base_uri": "https://localhost:8080/"
        },
        "id": "myljQDP_JEXl",
        "outputId": "fc4746d7-624e-45e3-e2b3-b85eb90b0f57"
      },
      "execution_count": 10,
      "outputs": [
        {
          "output_type": "execute_result",
          "data": {
            "text/plain": [
              "4.445833981123393"
            ]
          },
          "metadata": {},
          "execution_count": 10
        }
      ]
    },
    {
      "cell_type": "code",
      "source": [
        "wquantiles.median(state[\"Murder.Rate\"], weights=state[\"Population\"])"
      ],
      "metadata": {
        "colab": {
          "base_uri": "https://localhost:8080/"
        },
        "id": "DV_2OtgNI-m4",
        "outputId": "893a7772-1153-4110-f343-00d982d8beb6"
      },
      "execution_count": 11,
      "outputs": [
        {
          "output_type": "execute_result",
          "data": {
            "text/plain": [
              "4.4"
            ]
          },
          "metadata": {},
          "execution_count": 11
        }
      ]
    },
    {
      "cell_type": "markdown",
      "source": [
        "In this case, the weighted mean and the weighted median are about the same."
      ],
      "metadata": {
        "id": "4cFcufCSKMz2"
      }
    },
    {
      "cell_type": "markdown",
      "source": [
        "###Key Ideas"
      ],
      "metadata": {
        "id": "EVUMnFiPKQy7"
      }
    },
    {
      "cell_type": "markdown",
      "source": [
        "* The basic metric for location is the mean, but it can be sensitive to extreme values (outlier).\n",
        "* Other metrics (median, trimmed mean) are less sensitive to outliers and unusual distributions and hence are more robust."
      ],
      "metadata": {
        "id": "rIlpowj7KTCf"
      }
    },
    {
      "cell_type": "markdown",
      "source": [
        "##Estimates of Variability"
      ],
      "metadata": {
        "id": "YH3AA3wtKk05"
      }
    },
    {
      "cell_type": "markdown",
      "source": [
        ""
      ],
      "metadata": {
        "id": "2od6OcnkKlkq"
      }
    }
  ]
}